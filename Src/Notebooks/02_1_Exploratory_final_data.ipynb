{
  "nbformat": 4,
  "nbformat_minor": 0,
  "metadata": {
    "colab": {
      "name": "02.1 Exploratory_final_data.ipynb",
      "provenance": [],
      "mount_file_id": "1AIRLnML1xQxxsegX1kv2oWgP-Smna9MP",
      "authorship_tag": "ABX9TyO7eZKihaiyoBsHpomumfIh",
      "include_colab_link": true
    },
    "kernelspec": {
      "name": "python3",
      "display_name": "Python 3"
    },
    "language_info": {
      "name": "python"
    }
  },
  "cells": [
    {
      "cell_type": "markdown",
      "metadata": {
        "id": "view-in-github",
        "colab_type": "text"
      },
      "source": [
        "<a href=\"https://colab.research.google.com/github/sarasabino/Accident_Rate_Project/blob/main/Src/Notebooks/02_1_Exploratory_final_data.ipynb\" target=\"_parent\"><img src=\"https://colab.research.google.com/assets/colab-badge.svg\" alt=\"Open In Colab\"/></a>"
      ]
    },
    {
      "cell_type": "code",
      "metadata": {
        "id": "1CJjAMx161Kk"
      },
      "source": [
        "! cp /content/drive/MyDrive/'Colab Notebooks'/'TFM Accidentabilidad'/Data/Total_staff_by_employee.csv .\n",
        "\n",
        "import pandas as pd\n",
        "staff = pd.read_csv('Total_staff_by_employee.csv', sep=';')"
      ],
      "execution_count": 37,
      "outputs": []
    },
    {
      "cell_type": "markdown",
      "metadata": {
        "id": "jmCINoMc7r_m"
      },
      "source": [
        "# Exploratory analysis of the random data generated as Staff Data\n",
        "\n",
        "In this notebook we are going to analyze the data we have generate for our analysis from the real data we had. This data represents a company staff a row by employee. We have a final column which stays if the employee has had any accident\n",
        "\n",
        "Columns in our dataframe:\n",
        "\n",
        "- Codigo accidentado\n",
        "- Turno\n",
        "- Gender\n",
        "- Planta\n",
        "- Tipo accidente\n",
        "- Tipo trabajador\n",
        "- Fabrica\n",
        "- Tecnología\n",
        "- Pais\n",
        "- Horas Presencia Efectiva Subcontratados\n",
        "- Horas Presencia Efectiva ETTs\n",
        "- Horas Formacion Seguridad Propios\n",
        "- Horas Formacion Seguridad ETTs\n",
        "- Accident\n",
        "- wk_position\n",
        "- Age\n",
        "- Severity\n",
        "- Accident_place"
      ]
    },
    {
      "cell_type": "code",
      "metadata": {
        "colab": {
          "base_uri": "https://localhost:8080/",
          "height": 837
        },
        "id": "Sdo5_EeH7Whr",
        "outputId": "f1e8d87a-0c42-4bbd-a7cc-6d797171724d"
      },
      "source": [
        "staff.drop(columns={'Unnamed: 0'}, inplace=True)\n",
        "staff.head(15)"
      ],
      "execution_count": 38,
      "outputs": [
        {
          "output_type": "execute_result",
          "data": {
            "text/html": [
              "<div>\n",
              "<style scoped>\n",
              "    .dataframe tbody tr th:only-of-type {\n",
              "        vertical-align: middle;\n",
              "    }\n",
              "\n",
              "    .dataframe tbody tr th {\n",
              "        vertical-align: top;\n",
              "    }\n",
              "\n",
              "    .dataframe thead th {\n",
              "        text-align: right;\n",
              "    }\n",
              "</style>\n",
              "<table border=\"1\" class=\"dataframe\">\n",
              "  <thead>\n",
              "    <tr style=\"text-align: right;\">\n",
              "      <th></th>\n",
              "      <th>Codigo accidentado</th>\n",
              "      <th>Turno</th>\n",
              "      <th>Gender</th>\n",
              "      <th>Planta</th>\n",
              "      <th>Tipo accidente</th>\n",
              "      <th>Tipo trabajador</th>\n",
              "      <th>Fabrica</th>\n",
              "      <th>Tecnología</th>\n",
              "      <th>Pais</th>\n",
              "      <th>Horas Presencia Efectiva Subcontratados</th>\n",
              "      <th>Horas Presencia Efectiva ETTs</th>\n",
              "      <th>Horas Formacion Seguridad Propios</th>\n",
              "      <th>Horas Formacion Seguridad ETTs</th>\n",
              "      <th>Accident</th>\n",
              "      <th>wk_position</th>\n",
              "      <th>Age</th>\n",
              "      <th>Severity</th>\n",
              "      <th>Accident_place</th>\n",
              "    </tr>\n",
              "  </thead>\n",
              "  <tbody>\n",
              "    <tr>\n",
              "      <th>0</th>\n",
              "      <td>HS-CLMB_2546</td>\n",
              "      <td>Turno de mañana</td>\n",
              "      <td>Hombre</td>\n",
              "      <td>20</td>\n",
              "      <td>Accidente c/b</td>\n",
              "      <td>ETT</td>\n",
              "      <td>Burgos</td>\n",
              "      <td>Skinpass</td>\n",
              "      <td>España</td>\n",
              "      <td>25249.0</td>\n",
              "      <td>42484.0</td>\n",
              "      <td>1419.3</td>\n",
              "      <td>830.1</td>\n",
              "      <td>Yes</td>\n",
              "      <td>Material Handler</td>\n",
              "      <td>Entre 30-50</td>\n",
              "      <td>Leve</td>\n",
              "      <td>Mantenimiento</td>\n",
              "    </tr>\n",
              "    <tr>\n",
              "      <th>1</th>\n",
              "      <td>HS-CEPA_2563</td>\n",
              "      <td>Turno de mañana</td>\n",
              "      <td>Hombre</td>\n",
              "      <td>19</td>\n",
              "      <td>Accidente c/b</td>\n",
              "      <td>Indefinido</td>\n",
              "      <td>Burgos</td>\n",
              "      <td>Recocido</td>\n",
              "      <td>España</td>\n",
              "      <td>25249.0</td>\n",
              "      <td>42484.0</td>\n",
              "      <td>1419.3</td>\n",
              "      <td>830.1</td>\n",
              "      <td>Yes</td>\n",
              "      <td>customer</td>\n",
              "      <td>Mayor 50</td>\n",
              "      <td>Muy grave</td>\n",
              "      <td>Mantenimiento</td>\n",
              "    </tr>\n",
              "    <tr>\n",
              "      <th>2</th>\n",
              "      <td>HS-GNVT_2564</td>\n",
              "      <td>Turno de tarde</td>\n",
              "      <td>Hombre</td>\n",
              "      <td>12</td>\n",
              "      <td>Accidente s/b</td>\n",
              "      <td>Duración Determinada</td>\n",
              "      <td>Barcelona</td>\n",
              "      <td>Skinpass</td>\n",
              "      <td>España</td>\n",
              "      <td>25684.5</td>\n",
              "      <td>18302.3</td>\n",
              "      <td>1150.6</td>\n",
              "      <td>151.5</td>\n",
              "      <td>Yes</td>\n",
              "      <td>Vaciado contenedores de chatarra</td>\n",
              "      <td>Entre 30-50</td>\n",
              "      <td>Muy grave</td>\n",
              "      <td>Mantenimiento</td>\n",
              "    </tr>\n",
              "    <tr>\n",
              "      <th>3</th>\n",
              "      <td>HS-GNVT_2565</td>\n",
              "      <td>Turno de mañana</td>\n",
              "      <td>Hombre</td>\n",
              "      <td>12</td>\n",
              "      <td>Incidente</td>\n",
              "      <td>ETT</td>\n",
              "      <td>Barcelona</td>\n",
              "      <td>Skinpass</td>\n",
              "      <td>España</td>\n",
              "      <td>25684.5</td>\n",
              "      <td>18302.3</td>\n",
              "      <td>1150.6</td>\n",
              "      <td>151.5</td>\n",
              "      <td>Yes</td>\n",
              "      <td>Pontonero</td>\n",
              "      <td>Entre 30-50</td>\n",
              "      <td>Grave</td>\n",
              "      <td>Mantenimiento</td>\n",
              "    </tr>\n",
              "    <tr>\n",
              "      <th>4</th>\n",
              "      <td>HS-DNGG_2566</td>\n",
              "      <td>Turno de mañana</td>\n",
              "      <td>Hombre</td>\n",
              "      <td>41</td>\n",
              "      <td>Incidente</td>\n",
              "      <td>Incidente (no aplica)</td>\n",
              "      <td>Hiasa</td>\n",
              "      <td>Corte Láser</td>\n",
              "      <td>España</td>\n",
              "      <td>0.0</td>\n",
              "      <td>167848.0</td>\n",
              "      <td>1300.5</td>\n",
              "      <td>101.5</td>\n",
              "      <td>Yes</td>\n",
              "      <td>Longi 2</td>\n",
              "      <td>Entre 30-50</td>\n",
              "      <td>Grave</td>\n",
              "      <td>Mantenimiento</td>\n",
              "    </tr>\n",
              "    <tr>\n",
              "      <th>5</th>\n",
              "      <td>HS-SAUS_2577</td>\n",
              "      <td>Turno de mañana</td>\n",
              "      <td>Hombre</td>\n",
              "      <td>7</td>\n",
              "      <td>Incidente</td>\n",
              "      <td>Indefinido</td>\n",
              "      <td>Barcelona</td>\n",
              "      <td>Cizalla</td>\n",
              "      <td>España</td>\n",
              "      <td>25684.5</td>\n",
              "      <td>18302.3</td>\n",
              "      <td>1150.6</td>\n",
              "      <td>151.5</td>\n",
              "      <td>Yes</td>\n",
              "      <td>Operator / Stacker Operator</td>\n",
              "      <td>Mayor 50</td>\n",
              "      <td>Muy grave</td>\n",
              "      <td>Mantenimiento</td>\n",
              "    </tr>\n",
              "    <tr>\n",
              "      <th>6</th>\n",
              "      <td>HS-BRCL_3127</td>\n",
              "      <td>Turno de tarde</td>\n",
              "      <td>Hombre</td>\n",
              "      <td>1</td>\n",
              "      <td>Incidente</td>\n",
              "      <td>Incidente (no aplica)</td>\n",
              "      <td>Argentina</td>\n",
              "      <td>Blanking</td>\n",
              "      <td>Argentina</td>\n",
              "      <td>0.0</td>\n",
              "      <td>0.0</td>\n",
              "      <td>606.5</td>\n",
              "      <td>0.0</td>\n",
              "      <td>Yes</td>\n",
              "      <td>Slitter Op</td>\n",
              "      <td>Entre 30-50</td>\n",
              "      <td>Grave</td>\n",
              "      <td>Mantenimiento</td>\n",
              "    </tr>\n",
              "    <tr>\n",
              "      <th>7</th>\n",
              "      <td>HS-BRCL_3220</td>\n",
              "      <td>Turno de tarde</td>\n",
              "      <td>Hombre</td>\n",
              "      <td>1</td>\n",
              "      <td>Incidente</td>\n",
              "      <td>Indefinido</td>\n",
              "      <td>Argentina</td>\n",
              "      <td>Blanking</td>\n",
              "      <td>Argentina</td>\n",
              "      <td>0.0</td>\n",
              "      <td>0.0</td>\n",
              "      <td>606.5</td>\n",
              "      <td>0.0</td>\n",
              "      <td>Yes</td>\n",
              "      <td>Gantry crane operator</td>\n",
              "      <td>Mayor 50</td>\n",
              "      <td>Muy grave</td>\n",
              "      <td>Mantenimiento</td>\n",
              "    </tr>\n",
              "    <tr>\n",
              "      <th>8</th>\n",
              "      <td>HS-BRCL_3221</td>\n",
              "      <td>Turno de tarde</td>\n",
              "      <td>Hombre</td>\n",
              "      <td>1</td>\n",
              "      <td>Incidente</td>\n",
              "      <td>Incidente (no aplica)</td>\n",
              "      <td>Argentina</td>\n",
              "      <td>Blanking</td>\n",
              "      <td>Argentina</td>\n",
              "      <td>0.0</td>\n",
              "      <td>0.0</td>\n",
              "      <td>606.5</td>\n",
              "      <td>0.0</td>\n",
              "      <td>Yes</td>\n",
              "      <td>Verpackerin</td>\n",
              "      <td>Mayor 50</td>\n",
              "      <td>Muy grave</td>\n",
              "      <td>Mantenimiento</td>\n",
              "    </tr>\n",
              "    <tr>\n",
              "      <th>9</th>\n",
              "      <td>HS-NVRR_3222</td>\n",
              "      <td>Turno de mañana</td>\n",
              "      <td>Hombre</td>\n",
              "      <td>13</td>\n",
              "      <td>Incidente</td>\n",
              "      <td>Incidente (no aplica)</td>\n",
              "      <td>Burgos</td>\n",
              "      <td>Blanking</td>\n",
              "      <td>España</td>\n",
              "      <td>25249.0</td>\n",
              "      <td>42484.0</td>\n",
              "      <td>1419.3</td>\n",
              "      <td>830.1</td>\n",
              "      <td>Yes</td>\n",
              "      <td>assistant of operator</td>\n",
              "      <td>Entre 30-50</td>\n",
              "      <td>Leve</td>\n",
              "      <td>Mantenimiento</td>\n",
              "    </tr>\n",
              "    <tr>\n",
              "      <th>10</th>\n",
              "      <td>HS-CEPA_3223</td>\n",
              "      <td>Turno de mañana</td>\n",
              "      <td>Hombre</td>\n",
              "      <td>19</td>\n",
              "      <td>Incidente</td>\n",
              "      <td>Incidente (no aplica)</td>\n",
              "      <td>Burgos</td>\n",
              "      <td>Recocido</td>\n",
              "      <td>España</td>\n",
              "      <td>25249.0</td>\n",
              "      <td>42484.0</td>\n",
              "      <td>1419.3</td>\n",
              "      <td>830.1</td>\n",
              "      <td>Yes</td>\n",
              "      <td>Gruista Subcontrata Pardo Freijo</td>\n",
              "      <td>Mayor 50</td>\n",
              "      <td>Muy grave</td>\n",
              "      <td>Mantenimiento</td>\n",
              "    </tr>\n",
              "    <tr>\n",
              "      <th>11</th>\n",
              "      <td>HS-CEPA_3224</td>\n",
              "      <td>Turno de mañana</td>\n",
              "      <td>Hombre</td>\n",
              "      <td>19</td>\n",
              "      <td>Incidente</td>\n",
              "      <td>Incidente (no aplica)</td>\n",
              "      <td>Burgos</td>\n",
              "      <td>Recocido</td>\n",
              "      <td>España</td>\n",
              "      <td>25249.0</td>\n",
              "      <td>42484.0</td>\n",
              "      <td>1419.3</td>\n",
              "      <td>830.1</td>\n",
              "      <td>Yes</td>\n",
              "      <td>Expediciones, carga de camiones</td>\n",
              "      <td>Entre 30-50</td>\n",
              "      <td>Muy grave</td>\n",
              "      <td>Mantenimiento</td>\n",
              "    </tr>\n",
              "    <tr>\n",
              "      <th>12</th>\n",
              "      <td>HS-CEPA_3226</td>\n",
              "      <td>Turno de mañana</td>\n",
              "      <td>Hombre</td>\n",
              "      <td>19</td>\n",
              "      <td>Incidente</td>\n",
              "      <td>Incidente (no aplica)</td>\n",
              "      <td>Burgos</td>\n",
              "      <td>Recocido</td>\n",
              "      <td>España</td>\n",
              "      <td>25249.0</td>\n",
              "      <td>42484.0</td>\n",
              "      <td>1419.3</td>\n",
              "      <td>830.1</td>\n",
              "      <td>Yes</td>\n",
              "      <td>Operario Puente Grúa</td>\n",
              "      <td>Entre 30-50</td>\n",
              "      <td>Grave</td>\n",
              "      <td>Mantenimiento</td>\n",
              "    </tr>\n",
              "    <tr>\n",
              "      <th>13</th>\n",
              "      <td>HS-CEPA_3227</td>\n",
              "      <td>Turno de mañana</td>\n",
              "      <td>Hombre</td>\n",
              "      <td>19</td>\n",
              "      <td>Incidente</td>\n",
              "      <td>Incidente (no aplica)</td>\n",
              "      <td>Burgos</td>\n",
              "      <td>Recocido</td>\n",
              "      <td>España</td>\n",
              "      <td>25249.0</td>\n",
              "      <td>42484.0</td>\n",
              "      <td>1419.3</td>\n",
              "      <td>830.1</td>\n",
              "      <td>Yes</td>\n",
              "      <td>Maschinenführer</td>\n",
              "      <td>Mayor 50</td>\n",
              "      <td>Grave</td>\n",
              "      <td>Mantenimiento</td>\n",
              "    </tr>\n",
              "    <tr>\n",
              "      <th>14</th>\n",
              "      <td>HS-BRCL_3228</td>\n",
              "      <td>Turno de tarde</td>\n",
              "      <td>Hombre</td>\n",
              "      <td>1</td>\n",
              "      <td>Incidente</td>\n",
              "      <td>Incidente (no aplica)</td>\n",
              "      <td>Argentina</td>\n",
              "      <td>Blanking</td>\n",
              "      <td>Argentina</td>\n",
              "      <td>0.0</td>\n",
              "      <td>0.0</td>\n",
              "      <td>606.5</td>\n",
              "      <td>0.0</td>\n",
              "      <td>Yes</td>\n",
              "      <td>Proceso decapado</td>\n",
              "      <td>Menor 30</td>\n",
              "      <td>Grave</td>\n",
              "      <td>Mantenimiento</td>\n",
              "    </tr>\n",
              "  </tbody>\n",
              "</table>\n",
              "</div>"
            ],
            "text/plain": [
              "   Codigo accidentado            Turno  ...   Severity  Accident_place\n",
              "0        HS-CLMB_2546  Turno de mañana  ...       Leve   Mantenimiento\n",
              "1        HS-CEPA_2563  Turno de mañana  ...  Muy grave   Mantenimiento\n",
              "2        HS-GNVT_2564   Turno de tarde  ...  Muy grave   Mantenimiento\n",
              "3        HS-GNVT_2565  Turno de mañana  ...      Grave   Mantenimiento\n",
              "4        HS-DNGG_2566  Turno de mañana  ...      Grave   Mantenimiento\n",
              "5        HS-SAUS_2577  Turno de mañana  ...  Muy grave   Mantenimiento\n",
              "6        HS-BRCL_3127   Turno de tarde  ...      Grave   Mantenimiento\n",
              "7        HS-BRCL_3220   Turno de tarde  ...  Muy grave   Mantenimiento\n",
              "8        HS-BRCL_3221   Turno de tarde  ...  Muy grave   Mantenimiento\n",
              "9        HS-NVRR_3222  Turno de mañana  ...       Leve   Mantenimiento\n",
              "10       HS-CEPA_3223  Turno de mañana  ...  Muy grave   Mantenimiento\n",
              "11       HS-CEPA_3224  Turno de mañana  ...  Muy grave   Mantenimiento\n",
              "12       HS-CEPA_3226  Turno de mañana  ...      Grave   Mantenimiento\n",
              "13       HS-CEPA_3227  Turno de mañana  ...      Grave   Mantenimiento\n",
              "14       HS-BRCL_3228   Turno de tarde  ...      Grave   Mantenimiento\n",
              "\n",
              "[15 rows x 18 columns]"
            ]
          },
          "metadata": {
            "tags": []
          },
          "execution_count": 38
        }
      ]
    },
    {
      "cell_type": "code",
      "metadata": {
        "colab": {
          "base_uri": "https://localhost:8080/"
        },
        "id": "EnU3XBrB7yk8",
        "outputId": "4b666d3d-9812-48a2-c066-d072ab14f7f8"
      },
      "source": [
        "staff.columns"
      ],
      "execution_count": 39,
      "outputs": [
        {
          "output_type": "execute_result",
          "data": {
            "text/plain": [
              "Index(['Codigo accidentado', 'Turno', 'Gender', 'Planta', 'Tipo accidente',\n",
              "       'Tipo trabajador', 'Fabrica', 'Tecnología', 'Pais',\n",
              "       'Horas Presencia Efectiva Subcontratados',\n",
              "       'Horas Presencia Efectiva ETTs', 'Horas Formacion Seguridad Propios',\n",
              "       'Horas Formacion Seguridad ETTs', 'Accident', 'wk_position', 'Age',\n",
              "       'Severity', 'Accident_place'],\n",
              "      dtype='object')"
            ]
          },
          "metadata": {
            "tags": []
          },
          "execution_count": 39
        }
      ]
    },
    {
      "cell_type": "code",
      "metadata": {
        "colab": {
          "base_uri": "https://localhost:8080/"
        },
        "id": "3J-dseXT-GPO",
        "outputId": "fab03bfd-7423-4452-c77b-b49429a59e63"
      },
      "source": [
        "staff.shape"
      ],
      "execution_count": 40,
      "outputs": [
        {
          "output_type": "execute_result",
          "data": {
            "text/plain": [
              "(21210, 18)"
            ]
          },
          "metadata": {
            "tags": []
          },
          "execution_count": 40
        }
      ]
    },
    {
      "cell_type": "code",
      "metadata": {
        "colab": {
          "base_uri": "https://localhost:8080/"
        },
        "id": "pqf0W05m7Wnb",
        "outputId": "8ce6d4ea-1065-4925-f32f-fa24f45af968"
      },
      "source": [
        "#number of employees\n",
        "len(staff)"
      ],
      "execution_count": 41,
      "outputs": [
        {
          "output_type": "execute_result",
          "data": {
            "text/plain": [
              "21210"
            ]
          },
          "metadata": {
            "tags": []
          },
          "execution_count": 41
        }
      ]
    },
    {
      "cell_type": "code",
      "metadata": {
        "id": "IESKx4T8_I5-"
      },
      "source": [
        ""
      ],
      "execution_count": 41,
      "outputs": []
    },
    {
      "cell_type": "code",
      "metadata": {
        "colab": {
          "base_uri": "https://localhost:8080/",
          "height": 249
        },
        "id": "EUnbbroj7Wqr",
        "outputId": "8525a1f6-40e1-428c-d3dc-7378e2d4c80f"
      },
      "source": [
        "import matplotlib.pyplot as plt\n",
        "\n",
        "labels = 'Men', 'Women'\n",
        "sizes = [len(staff[staff['Gender']=='Hombre']), len(staff[staff['Gender']=='Mujer'])]\n",
        "explode = (0, 0.1)  # only \"explode\" the 2nd slice (i.e. 'Hogs')\n",
        "\n",
        "fig1, ax1 = plt.subplots()\n",
        "ax1.pie(sizes, explode=explode, labels=labels, autopct='%1.1f%%',\n",
        "        shadow=True, startangle=90)\n",
        "ax1.axis('equal')  # Equal aspect ratio ensures that pie is drawn as a circle.\n",
        "\n",
        "plt.show()"
      ],
      "execution_count": 42,
      "outputs": [
        {
          "output_type": "display_data",
          "data": {
            "image/png": "[encoded data removed]",
            "text/plain": [
              "<Figure size 432x288 with 1 Axes>"
            ]
          },
          "metadata": {
            "tags": []
          }
        }
      ]
    },
    {
      "cell_type": "code",
      "metadata": {
        "colab": {
          "base_uri": "https://localhost:8080/"
        },
        "id": "1BvTaY7w__Z1",
        "outputId": "63913421-a625-49cf-fea2-9b8cfdf33dbf"
      },
      "source": [
        "staff.columns"
      ],
      "execution_count": 43,
      "outputs": [
        {
          "output_type": "execute_result",
          "data": {
            "text/plain": [
              "Index(['Codigo accidentado', 'Turno', 'Gender', 'Planta', 'Tipo accidente',\n",
              "       'Tipo trabajador', 'Fabrica', 'Tecnología', 'Pais',\n",
              "       'Horas Presencia Efectiva Subcontratados',\n",
              "       'Horas Presencia Efectiva ETTs', 'Horas Formacion Seguridad Propios',\n",
              "       'Horas Formacion Seguridad ETTs', 'Accident', 'wk_position', 'Age',\n",
              "       'Severity', 'Accident_place'],\n",
              "      dtype='object')"
            ]
          },
          "metadata": {
            "tags": []
          },
          "execution_count": 43
        }
      ]
    },
    {
      "cell_type": "code",
      "metadata": {
        "id": "zbCBRQz3ANwN"
      },
      "source": [
        "staff['N employees'] = 1"
      ],
      "execution_count": 44,
      "outputs": []
    },
    {
      "cell_type": "code",
      "metadata": {
        "id": "VWAfd_eV_Jb7"
      },
      "source": [
        "# we are going to aggregate the data in order to be able to plot it in a clear way\n",
        "\n",
        "n_employees = staff.groupby(by=[ 'Gender', 'Planta', 'Tipo accidente',\n",
        "        'Fabrica', 'Tecnología',\n",
        "       'Accident','Severity']).agg('sum')\n"
      ],
      "execution_count": 63,
      "outputs": []
    },
    {
      "cell_type": "code",
      "metadata": {
        "colab": {
          "base_uri": "https://localhost:8080/",
          "height": 450
        },
        "id": "bp1KAMT-7W4y",
        "outputId": "1bf85a97-0517-4155-c486-40509e3aa92a"
      },
      "source": [
        "n_employees"
      ],
      "execution_count": 64,
      "outputs": [
        {
          "output_type": "execute_result",
          "data": {
            "text/html": [
              "<div>\n",
              "<style scoped>\n",
              "    .dataframe tbody tr th:only-of-type {\n",
              "        vertical-align: middle;\n",
              "    }\n",
              "\n",
              "    .dataframe tbody tr th {\n",
              "        vertical-align: top;\n",
              "    }\n",
              "\n",
              "    .dataframe thead th {\n",
              "        text-align: right;\n",
              "    }\n",
              "</style>\n",
              "<table border=\"1\" class=\"dataframe\">\n",
              "  <thead>\n",
              "    <tr style=\"text-align: right;\">\n",
              "      <th></th>\n",
              "      <th></th>\n",
              "      <th></th>\n",
              "      <th></th>\n",
              "      <th></th>\n",
              "      <th></th>\n",
              "      <th></th>\n",
              "      <th>Horas Presencia Efectiva Subcontratados</th>\n",
              "      <th>Horas Presencia Efectiva ETTs</th>\n",
              "      <th>Horas Formacion Seguridad Propios</th>\n",
              "      <th>Horas Formacion Seguridad ETTs</th>\n",
              "      <th>N employees</th>\n",
              "    </tr>\n",
              "    <tr>\n",
              "      <th>Gender</th>\n",
              "      <th>Planta</th>\n",
              "      <th>Tipo accidente</th>\n",
              "      <th>Fabrica</th>\n",
              "      <th>Tecnología</th>\n",
              "      <th>Accident</th>\n",
              "      <th>Severity</th>\n",
              "      <th></th>\n",
              "      <th></th>\n",
              "      <th></th>\n",
              "      <th></th>\n",
              "      <th></th>\n",
              "    </tr>\n",
              "  </thead>\n",
              "  <tbody>\n",
              "    <tr>\n",
              "      <th rowspan=\"5\" valign=\"top\">Hombre</th>\n",
              "      <th rowspan=\"5\" valign=\"top\">1</th>\n",
              "      <th rowspan=\"5\" valign=\"top\">Accidente c/b</th>\n",
              "      <th rowspan=\"5\" valign=\"top\">Argentina</th>\n",
              "      <th rowspan=\"5\" valign=\"top\">Blanking</th>\n",
              "      <th rowspan=\"3\" valign=\"top\">No</th>\n",
              "      <th>Grave</th>\n",
              "      <td>0.0</td>\n",
              "      <td>0.0</td>\n",
              "      <td>32144.5</td>\n",
              "      <td>0.0</td>\n",
              "      <td>53</td>\n",
              "    </tr>\n",
              "    <tr>\n",
              "      <th>Leve</th>\n",
              "      <td>0.0</td>\n",
              "      <td>0.0</td>\n",
              "      <td>24866.5</td>\n",
              "      <td>0.0</td>\n",
              "      <td>41</td>\n",
              "    </tr>\n",
              "    <tr>\n",
              "      <th>Muy grave</th>\n",
              "      <td>0.0</td>\n",
              "      <td>0.0</td>\n",
              "      <td>26079.5</td>\n",
              "      <td>0.0</td>\n",
              "      <td>43</td>\n",
              "    </tr>\n",
              "    <tr>\n",
              "      <th rowspan=\"2\" valign=\"top\">Yes</th>\n",
              "      <th>Grave</th>\n",
              "      <td>0.0</td>\n",
              "      <td>0.0</td>\n",
              "      <td>6671.5</td>\n",
              "      <td>0.0</td>\n",
              "      <td>11</td>\n",
              "    </tr>\n",
              "    <tr>\n",
              "      <th>Leve</th>\n",
              "      <td>0.0</td>\n",
              "      <td>0.0</td>\n",
              "      <td>4852.0</td>\n",
              "      <td>0.0</td>\n",
              "      <td>8</td>\n",
              "    </tr>\n",
              "    <tr>\n",
              "      <th>...</th>\n",
              "      <th>...</th>\n",
              "      <th>...</th>\n",
              "      <th>...</th>\n",
              "      <th>...</th>\n",
              "      <th>...</th>\n",
              "      <th>...</th>\n",
              "      <td>...</td>\n",
              "      <td>...</td>\n",
              "      <td>...</td>\n",
              "      <td>...</td>\n",
              "      <td>...</td>\n",
              "    </tr>\n",
              "    <tr>\n",
              "      <th rowspan=\"5\" valign=\"top\">Mujer</th>\n",
              "      <th rowspan=\"5\" valign=\"top\">84</th>\n",
              "      <th rowspan=\"2\" valign=\"top\">Accidente s/b</th>\n",
              "      <th rowspan=\"2\" valign=\"top\">Tarragona</th>\n",
              "      <th rowspan=\"2\" valign=\"top\">Corte Transversal</th>\n",
              "      <th rowspan=\"2\" valign=\"top\">No</th>\n",
              "      <th>Leve</th>\n",
              "      <td>78112.0</td>\n",
              "      <td>25508.0</td>\n",
              "      <td>1048.0</td>\n",
              "      <td>225.2</td>\n",
              "      <td>4</td>\n",
              "    </tr>\n",
              "    <tr>\n",
              "      <th>Muy grave</th>\n",
              "      <td>58584.0</td>\n",
              "      <td>19131.0</td>\n",
              "      <td>786.0</td>\n",
              "      <td>168.9</td>\n",
              "      <td>3</td>\n",
              "    </tr>\n",
              "    <tr>\n",
              "      <th rowspan=\"3\" valign=\"top\">Incidente</th>\n",
              "      <th rowspan=\"3\" valign=\"top\">Tarragona</th>\n",
              "      <th rowspan=\"3\" valign=\"top\">Corte Transversal</th>\n",
              "      <th rowspan=\"3\" valign=\"top\">No</th>\n",
              "      <th>Grave</th>\n",
              "      <td>136696.0</td>\n",
              "      <td>44639.0</td>\n",
              "      <td>1834.0</td>\n",
              "      <td>394.1</td>\n",
              "      <td>7</td>\n",
              "    </tr>\n",
              "    <tr>\n",
              "      <th>Leve</th>\n",
              "      <td>78112.0</td>\n",
              "      <td>25508.0</td>\n",
              "      <td>1048.0</td>\n",
              "      <td>225.2</td>\n",
              "      <td>4</td>\n",
              "    </tr>\n",
              "    <tr>\n",
              "      <th>Muy grave</th>\n",
              "      <td>117168.0</td>\n",
              "      <td>38262.0</td>\n",
              "      <td>1572.0</td>\n",
              "      <td>337.8</td>\n",
              "      <td>6</td>\n",
              "    </tr>\n",
              "  </tbody>\n",
              "</table>\n",
              "<p>982 rows × 5 columns</p>\n",
              "</div>"
            ],
            "text/plain": [
              "                                                                             Horas Presencia Efectiva Subcontratados  ...  N employees\n",
              "Gender Planta Tipo accidente Fabrica   Tecnología        Accident Severity                                            ...             \n",
              "Hombre 1      Accidente c/b  Argentina Blanking          No       Grave                                          0.0  ...           53\n",
              "                                                                  Leve                                           0.0  ...           41\n",
              "                                                                  Muy grave                                      0.0  ...           43\n",
              "                                                         Yes      Grave                                          0.0  ...           11\n",
              "                                                                  Leve                                           0.0  ...            8\n",
              "...                                                                                                              ...  ...          ...\n",
              "Mujer  84     Accidente s/b  Tarragona Corte Transversal No       Leve                                       78112.0  ...            4\n",
              "                                                                  Muy grave                                  58584.0  ...            3\n",
              "              Incidente      Tarragona Corte Transversal No       Grave                                     136696.0  ...            7\n",
              "                                                                  Leve                                       78112.0  ...            4\n",
              "                                                                  Muy grave                                 117168.0  ...            6\n",
              "\n",
              "[982 rows x 5 columns]"
            ]
          },
          "metadata": {
            "tags": []
          },
          "execution_count": 64
        }
      ]
    }
  ]
}