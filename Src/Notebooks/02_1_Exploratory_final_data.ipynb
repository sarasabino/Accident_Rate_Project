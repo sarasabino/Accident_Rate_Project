{
  "nbformat": 4,
  "nbformat_minor": 0,
  "metadata": {
    "colab": {
      "name": "02.1 Exploratory_final_data.ipynb",
      "provenance": [],
      "mount_file_id": "1AIRLnML1xQxxsegX1kv2oWgP-Smna9MP",
      "authorship_tag": "ABX9TyMF1aoZ4fnb5oJ9YwNFAzvz",
      "include_colab_link": true
    },
    "kernelspec": {
      "name": "python3",
      "display_name": "Python 3"
    },
    "language_info": {
      "name": "python"
    }
  },
  "cells": [
    {
      "cell_type": "markdown",
      "metadata": {
        "id": "view-in-github",
        "colab_type": "text"
      },
      "source": [
        "<a href=\"https://colab.research.google.com/github/sarasabino/Accident_Rate_Project/blob/main/Src/Notebooks/02_1_Exploratory_final_data.ipynb\" target=\"_parent\"><img src=\"https://colab.research.google.com/assets/colab-badge.svg\" alt=\"Open In Colab\"/></a>"
      ]
    },
    {
      "cell_type": "code",
      "metadata": {
        "id": "1CJjAMx161Kk"
      },
      "source": [
        "! cp /content/drive/MyDrive/'Colab Notebooks'/'TFM Accidentabilidad'/Data/Total_staff_by_employee.csv .\n",
        "\n",
        "import pandas as pd\n",
        "staff = pd.read_csv('Total_staff_by_employee.csv', sep=';')"
      ],
      "execution_count": 167,
      "outputs": []
    },
    {
      "cell_type": "markdown",
      "metadata": {
        "id": "jmCINoMc7r_m"
      },
      "source": [
        "# Exploratory analysis of the generated Staff Data\n",
        "\n",
        "In this notebook we are going to analyze the data we have generated for our analysis from the real data we had. (Notebook 00)\n",
        "\n",
        "This dataset represents a company staff, with a row by employee. \n",
        "We have a final column which stays if the employee has had an accident.\n",
        "\n",
        "Columns in our dataframe:\n",
        "\n",
        "- Codigo accidentado == Accident code\n",
        "- Turno == Turn\n",
        "- Gender\n",
        "- Planta == Plant\n",
        "- Tipo accidente == Accident type\n",
        "- Tipo trabajador == Worker type\n",
        "- Fabrica == Fabric\n",
        "- Tecnología == Tecnology\n",
        "- Pais == Country\n",
        "- Horas Presencia Efectiva Subcontratados == Efective hours Subcontracted\n",
        "- Horas Presencia Efectiva ETTs == Efective hours ETTs\n",
        "- Horas Formacion Seguridad Propios == Trainning hours company employees\n",
        "- Horas Formacion Seguridad ETTs == Trainning hours ETTs\n",
        "- Accident \n",
        "- wk_position == work position\n",
        "- Age\n",
        "- Severity\n",
        "- Accident_place\n",
        "\n",
        "#### Attention: This notebook contains Altair charts that are not displayed in GitHub"
      ]
    },
    {
      "cell_type": "code",
      "metadata": {
        "colab": {
          "base_uri": "https://localhost:8080/",
          "height": 1000
        },
        "id": "Sdo5_EeH7Whr",
        "outputId": "902f4440-4e89-40eb-d55d-7ff684e04bf3"
      },
      "source": [
        "staff.drop(columns={'Unnamed: 0'}, inplace=True)\n",
        "staff.head(15)"
      ],
      "execution_count": 168,
      "outputs": [
        {
          "output_type": "execute_result",
          "data": {
            "text/html": [
              "<div>\n",
              "<style scoped>\n",
              "    .dataframe tbody tr th:only-of-type {\n",
              "        vertical-align: middle;\n",
              "    }\n",
              "\n",
              "    .dataframe tbody tr th {\n",
              "        vertical-align: top;\n",
              "    }\n",
              "\n",
              "    .dataframe thead th {\n",
              "        text-align: right;\n",
              "    }\n",
              "</style>\n",
              "<table border=\"1\" class=\"dataframe\">\n",
              "  <thead>\n",
              "    <tr style=\"text-align: right;\">\n",
              "      <th></th>\n",
              "      <th>Codigo accidentado</th>\n",
              "      <th>Turno</th>\n",
              "      <th>Gender</th>\n",
              "      <th>Planta</th>\n",
              "      <th>Tipo accidente</th>\n",
              "      <th>Tipo trabajador</th>\n",
              "      <th>Fabrica</th>\n",
              "      <th>Tecnología</th>\n",
              "      <th>Pais</th>\n",
              "      <th>Horas Presencia Efectiva Subcontratados</th>\n",
              "      <th>Horas Presencia Efectiva ETTs</th>\n",
              "      <th>Horas Formacion Seguridad Propios</th>\n",
              "      <th>Horas Formacion Seguridad ETTs</th>\n",
              "      <th>Accident</th>\n",
              "      <th>wk_position</th>\n",
              "      <th>Age</th>\n",
              "      <th>Severity</th>\n",
              "      <th>Accident_place</th>\n",
              "    </tr>\n",
              "  </thead>\n",
              "  <tbody>\n",
              "    <tr>\n",
              "      <th>0</th>\n",
              "      <td>HS-CHGQ_6253</td>\n",
              "      <td>Turno de mañana</td>\n",
              "      <td>Hombre</td>\n",
              "      <td>45</td>\n",
              "      <td>Incidente</td>\n",
              "      <td>Incidente (no aplica)</td>\n",
              "      <td>Asturias</td>\n",
              "      <td>Decapado</td>\n",
              "      <td>España</td>\n",
              "      <td>0.0</td>\n",
              "      <td>0.0</td>\n",
              "      <td>0.0</td>\n",
              "      <td>0.0</td>\n",
              "      <td>Yes</td>\n",
              "      <td>Programador</td>\n",
              "      <td>Entre 30-50</td>\n",
              "      <td>Leve</td>\n",
              "      <td>Mantenimiento</td>\n",
              "    </tr>\n",
              "    <tr>\n",
              "      <th>1</th>\n",
              "      <td>HS-CHGQ_6813</td>\n",
              "      <td>Turno de mañana</td>\n",
              "      <td>Hombre</td>\n",
              "      <td>45</td>\n",
              "      <td>Incidente</td>\n",
              "      <td>Incidente (no aplica)</td>\n",
              "      <td>Asturias</td>\n",
              "      <td>Decapado</td>\n",
              "      <td>España</td>\n",
              "      <td>0.0</td>\n",
              "      <td>0.0</td>\n",
              "      <td>0.0</td>\n",
              "      <td>0.0</td>\n",
              "      <td>Yes</td>\n",
              "      <td>Gruista y limpieza de caldera</td>\n",
              "      <td>Mayor 50</td>\n",
              "      <td>Muy grave</td>\n",
              "      <td>Mantenimiento</td>\n",
              "    </tr>\n",
              "    <tr>\n",
              "      <th>2</th>\n",
              "      <td>HS-CHGQ_6814</td>\n",
              "      <td>Turno de mañana</td>\n",
              "      <td>Hombre</td>\n",
              "      <td>45</td>\n",
              "      <td>Incidente</td>\n",
              "      <td>Incidente (no aplica)</td>\n",
              "      <td>Asturias</td>\n",
              "      <td>Decapado</td>\n",
              "      <td>España</td>\n",
              "      <td>0.0</td>\n",
              "      <td>0.0</td>\n",
              "      <td>0.0</td>\n",
              "      <td>0.0</td>\n",
              "      <td>Yes</td>\n",
              "      <td>Gruista ácido</td>\n",
              "      <td>Entre 30-50</td>\n",
              "      <td>Muy grave</td>\n",
              "      <td>Mantenimiento</td>\n",
              "    </tr>\n",
              "    <tr>\n",
              "      <th>3</th>\n",
              "      <td>HS-CHGQ_6138</td>\n",
              "      <td>Turno de mañana</td>\n",
              "      <td>Hombre</td>\n",
              "      <td>45</td>\n",
              "      <td>Incidente</td>\n",
              "      <td>Incidente (no aplica)</td>\n",
              "      <td>Asturias</td>\n",
              "      <td>Decapado</td>\n",
              "      <td>España</td>\n",
              "      <td>0.0</td>\n",
              "      <td>0.0</td>\n",
              "      <td>0.0</td>\n",
              "      <td>0.0</td>\n",
              "      <td>Yes</td>\n",
              "      <td>Montacarguista (en entrenamiento)</td>\n",
              "      <td>Entre 30-50</td>\n",
              "      <td>Grave</td>\n",
              "      <td>Mantenimiento</td>\n",
              "    </tr>\n",
              "    <tr>\n",
              "      <th>4</th>\n",
              "      <td>HS-CHGQ_6139</td>\n",
              "      <td>Turno de tarde</td>\n",
              "      <td>Hombre</td>\n",
              "      <td>45</td>\n",
              "      <td>Incidente</td>\n",
              "      <td>Incidente (no aplica)</td>\n",
              "      <td>Asturias</td>\n",
              "      <td>Decapado</td>\n",
              "      <td>España</td>\n",
              "      <td>0.0</td>\n",
              "      <td>0.0</td>\n",
              "      <td>0.0</td>\n",
              "      <td>0.0</td>\n",
              "      <td>Yes</td>\n",
              "      <td>Gruista y limpieza de caldera</td>\n",
              "      <td>Entre 30-50</td>\n",
              "      <td>Grave</td>\n",
              "      <td>Mantenimiento</td>\n",
              "    </tr>\n",
              "    <tr>\n",
              "      <th>5</th>\n",
              "      <td>HS-LBRN_6191</td>\n",
              "      <td>Turno de noche</td>\n",
              "      <td>Hombre</td>\n",
              "      <td>30</td>\n",
              "      <td>Incidente</td>\n",
              "      <td>Incidente (no aplica)</td>\n",
              "      <td>Galicia</td>\n",
              "      <td>Corte Transversal</td>\n",
              "      <td>España</td>\n",
              "      <td>17051.0</td>\n",
              "      <td>211.0</td>\n",
              "      <td>757.0</td>\n",
              "      <td>0.0</td>\n",
              "      <td>Yes</td>\n",
              "      <td>Líneas de Corte Longitudinal</td>\n",
              "      <td>Mayor 50</td>\n",
              "      <td>Muy grave</td>\n",
              "      <td>Mantenimiento</td>\n",
              "    </tr>\n",
              "    <tr>\n",
              "      <th>6</th>\n",
              "      <td>HS-HIAS_6250</td>\n",
              "      <td>Turno de tarde</td>\n",
              "      <td>Hombre</td>\n",
              "      <td>15</td>\n",
              "      <td>Incidente</td>\n",
              "      <td>ETT</td>\n",
              "      <td>Burgos</td>\n",
              "      <td>Corte Longitudinal</td>\n",
              "      <td>España</td>\n",
              "      <td>25249.0</td>\n",
              "      <td>42485.0</td>\n",
              "      <td>1419.0</td>\n",
              "      <td>829.0</td>\n",
              "      <td>Yes</td>\n",
              "      <td>Operadores limpieza de caldera y gruista de ca...</td>\n",
              "      <td>Entre 30-50</td>\n",
              "      <td>Grave</td>\n",
              "      <td>Mantenimiento</td>\n",
              "    </tr>\n",
              "    <tr>\n",
              "      <th>7</th>\n",
              "      <td>HS-HIAS_6625</td>\n",
              "      <td>Turno de mañana</td>\n",
              "      <td>Hombre</td>\n",
              "      <td>15</td>\n",
              "      <td>Incidente</td>\n",
              "      <td>ETT</td>\n",
              "      <td>Burgos</td>\n",
              "      <td>Corte Longitudinal</td>\n",
              "      <td>España</td>\n",
              "      <td>25249.0</td>\n",
              "      <td>42485.0</td>\n",
              "      <td>1419.0</td>\n",
              "      <td>829.0</td>\n",
              "      <td>Yes</td>\n",
              "      <td>Maestro</td>\n",
              "      <td>Mayor 50</td>\n",
              "      <td>Muy grave</td>\n",
              "      <td>Mantenimiento</td>\n",
              "    </tr>\n",
              "    <tr>\n",
              "      <th>8</th>\n",
              "      <td>HS-HIAS_6815</td>\n",
              "      <td>Turno de tarde</td>\n",
              "      <td>Hombre</td>\n",
              "      <td>15</td>\n",
              "      <td>Incidente</td>\n",
              "      <td>ETT</td>\n",
              "      <td>Burgos</td>\n",
              "      <td>Corte Longitudinal</td>\n",
              "      <td>España</td>\n",
              "      <td>25249.0</td>\n",
              "      <td>42485.0</td>\n",
              "      <td>1419.0</td>\n",
              "      <td>829.0</td>\n",
              "      <td>Yes</td>\n",
              "      <td>Líneas de Corte Longitudinal</td>\n",
              "      <td>Mayor 50</td>\n",
              "      <td>Muy grave</td>\n",
              "      <td>Mantenimiento</td>\n",
              "    </tr>\n",
              "    <tr>\n",
              "      <th>9</th>\n",
              "      <td>HS-TRRG_6316</td>\n",
              "      <td>Turno de noche</td>\n",
              "      <td>Hombre</td>\n",
              "      <td>4</td>\n",
              "      <td>Incidente</td>\n",
              "      <td>Incidente (no aplica)</td>\n",
              "      <td>Arizona</td>\n",
              "      <td>Células Soldadura</td>\n",
              "      <td>EEUU</td>\n",
              "      <td>0.0</td>\n",
              "      <td>0.0</td>\n",
              "      <td>0.0</td>\n",
              "      <td>0.0</td>\n",
              "      <td>Yes</td>\n",
              "      <td>Maschinenbediener/-einrichter Presse 5</td>\n",
              "      <td>Entre 30-50</td>\n",
              "      <td>Leve</td>\n",
              "      <td>Mantenimiento</td>\n",
              "    </tr>\n",
              "    <tr>\n",
              "      <th>10</th>\n",
              "      <td>HS-BRGS_3245</td>\n",
              "      <td>Turno de mañana</td>\n",
              "      <td>Hombre</td>\n",
              "      <td>2</td>\n",
              "      <td>Incidente</td>\n",
              "      <td>Incidente (no aplica)</td>\n",
              "      <td>Argentina</td>\n",
              "      <td>Corte Longitudinal</td>\n",
              "      <td>Argentina</td>\n",
              "      <td>0.0</td>\n",
              "      <td>0.0</td>\n",
              "      <td>607.0</td>\n",
              "      <td>0.0</td>\n",
              "      <td>Yes</td>\n",
              "      <td>Maquinista perfiladora</td>\n",
              "      <td>Mayor 50</td>\n",
              "      <td>Muy grave</td>\n",
              "      <td>Mantenimiento</td>\n",
              "    </tr>\n",
              "    <tr>\n",
              "      <th>11</th>\n",
              "      <td>HS-CLMB_5715</td>\n",
              "      <td>Turno de mañana</td>\n",
              "      <td>Hombre</td>\n",
              "      <td>20</td>\n",
              "      <td>Incidente</td>\n",
              "      <td>Indefinido</td>\n",
              "      <td>Burgos</td>\n",
              "      <td>Skinpass</td>\n",
              "      <td>España</td>\n",
              "      <td>25249.0</td>\n",
              "      <td>42485.0</td>\n",
              "      <td>1419.0</td>\n",
              "      <td>829.0</td>\n",
              "      <td>Yes</td>\n",
              "      <td>Anlagenführer Laser 5</td>\n",
              "      <td>Entre 30-50</td>\n",
              "      <td>Muy grave</td>\n",
              "      <td>Mantenimiento</td>\n",
              "    </tr>\n",
              "    <tr>\n",
              "      <th>12</th>\n",
              "      <td>HS-PBLA_5767</td>\n",
              "      <td>Turno de tarde</td>\n",
              "      <td>Hombre</td>\n",
              "      <td>32</td>\n",
              "      <td>Incidente</td>\n",
              "      <td>Incidente (no aplica)</td>\n",
              "      <td>Asturias</td>\n",
              "      <td>Sierra</td>\n",
              "      <td>España</td>\n",
              "      <td>0.0</td>\n",
              "      <td>0.0</td>\n",
              "      <td>0.0</td>\n",
              "      <td>0.0</td>\n",
              "      <td>Yes</td>\n",
              "      <td>OPERARIOS DE CARGA</td>\n",
              "      <td>Entre 30-50</td>\n",
              "      <td>Grave</td>\n",
              "      <td>Mantenimiento</td>\n",
              "    </tr>\n",
              "    <tr>\n",
              "      <th>13</th>\n",
              "      <td>HS-PBLA_5777</td>\n",
              "      <td>Turno de mañana</td>\n",
              "      <td>Hombre</td>\n",
              "      <td>32</td>\n",
              "      <td>Accidente s/b</td>\n",
              "      <td>ETT</td>\n",
              "      <td>Asturias</td>\n",
              "      <td>Sierra</td>\n",
              "      <td>España</td>\n",
              "      <td>0.0</td>\n",
              "      <td>0.0</td>\n",
              "      <td>0.0</td>\n",
              "      <td>0.0</td>\n",
              "      <td>Yes</td>\n",
              "      <td>Gruista de caldera y limpieza de caldera</td>\n",
              "      <td>Mayor 50</td>\n",
              "      <td>Grave</td>\n",
              "      <td>Mantenimiento</td>\n",
              "    </tr>\n",
              "    <tr>\n",
              "      <th>14</th>\n",
              "      <td>HS-THRN_5799</td>\n",
              "      <td>Turno de noche</td>\n",
              "      <td>Hombre</td>\n",
              "      <td>25</td>\n",
              "      <td>Incidente</td>\n",
              "      <td>Incidente (no aplica)</td>\n",
              "      <td>Campinas</td>\n",
              "      <td>Prensa</td>\n",
              "      <td>Brasil</td>\n",
              "      <td>2836.0</td>\n",
              "      <td>2046.0</td>\n",
              "      <td>1212.0</td>\n",
              "      <td>0.0</td>\n",
              "      <td>Yes</td>\n",
              "      <td>Cargador/descargador</td>\n",
              "      <td>Menor 30</td>\n",
              "      <td>Grave</td>\n",
              "      <td>Mantenimiento</td>\n",
              "    </tr>\n",
              "  </tbody>\n",
              "</table>\n",
              "</div>"
            ],
            "text/plain": [
              "   Codigo accidentado            Turno  ...   Severity  Accident_place\n",
              "0        HS-CHGQ_6253  Turno de mañana  ...       Leve   Mantenimiento\n",
              "1        HS-CHGQ_6813  Turno de mañana  ...  Muy grave   Mantenimiento\n",
              "2        HS-CHGQ_6814  Turno de mañana  ...  Muy grave   Mantenimiento\n",
              "3        HS-CHGQ_6138  Turno de mañana  ...      Grave   Mantenimiento\n",
              "4        HS-CHGQ_6139   Turno de tarde  ...      Grave   Mantenimiento\n",
              "5        HS-LBRN_6191   Turno de noche  ...  Muy grave   Mantenimiento\n",
              "6        HS-HIAS_6250   Turno de tarde  ...      Grave   Mantenimiento\n",
              "7        HS-HIAS_6625  Turno de mañana  ...  Muy grave   Mantenimiento\n",
              "8        HS-HIAS_6815   Turno de tarde  ...  Muy grave   Mantenimiento\n",
              "9        HS-TRRG_6316   Turno de noche  ...       Leve   Mantenimiento\n",
              "10       HS-BRGS_3245  Turno de mañana  ...  Muy grave   Mantenimiento\n",
              "11       HS-CLMB_5715  Turno de mañana  ...  Muy grave   Mantenimiento\n",
              "12       HS-PBLA_5767   Turno de tarde  ...      Grave   Mantenimiento\n",
              "13       HS-PBLA_5777  Turno de mañana  ...      Grave   Mantenimiento\n",
              "14       HS-THRN_5799   Turno de noche  ...      Grave   Mantenimiento\n",
              "\n",
              "[15 rows x 18 columns]"
            ]
          },
          "metadata": {
            "tags": []
          },
          "execution_count": 168
        }
      ]
    },
    {
      "cell_type": "code",
      "metadata": {
        "colab": {
          "base_uri": "https://localhost:8080/"
        },
        "id": "gPmXKF9mdkFg",
        "outputId": "939ecaac-a07f-42ac-ada0-48b850dd4468"
      },
      "source": [
        "len(staff)"
      ],
      "execution_count": 169,
      "outputs": [
        {
          "output_type": "execute_result",
          "data": {
            "text/plain": [
              "21210"
            ]
          },
          "metadata": {
            "tags": []
          },
          "execution_count": 169
        }
      ]
    },
    {
      "cell_type": "code",
      "metadata": {
        "colab": {
          "base_uri": "https://localhost:8080/"
        },
        "id": "m4V5xcX9Vmat",
        "outputId": "fc3a45c9-0394-407e-9fdd-c28c8a7ce583"
      },
      "source": [
        "staff.info()"
      ],
      "execution_count": 170,
      "outputs": [
        {
          "output_type": "stream",
          "text": [
            "<class 'pandas.core.frame.DataFrame'>\n",
            "RangeIndex: 21210 entries, 0 to 21209\n",
            "Data columns (total 18 columns):\n",
            " #   Column                                   Non-Null Count  Dtype  \n",
            "---  ------                                   --------------  -----  \n",
            " 0   Codigo accidentado                       4180 non-null   object \n",
            " 1   Turno                                    21210 non-null  object \n",
            " 2   Gender                                   21210 non-null  object \n",
            " 3   Planta                                   21210 non-null  int64  \n",
            " 4   Tipo accidente                           4180 non-null   object \n",
            " 5   Tipo trabajador                          21210 non-null  object \n",
            " 6   Fabrica                                  21210 non-null  object \n",
            " 7   Tecnología                               21210 non-null  object \n",
            " 8   Pais                                     21210 non-null  object \n",
            " 9   Horas Presencia Efectiva Subcontratados  15849 non-null  float64\n",
            " 10  Horas Presencia Efectiva ETTs            15849 non-null  float64\n",
            " 11  Horas Formacion Seguridad Propios        15849 non-null  float64\n",
            " 12  Horas Formacion Seguridad ETTs           15849 non-null  float64\n",
            " 13  Accident                                 21210 non-null  object \n",
            " 14  wk_position                              21210 non-null  object \n",
            " 15  Age                                      21210 non-null  object \n",
            " 16  Severity                                 4180 non-null   object \n",
            " 17  Accident_place                           21210 non-null  object \n",
            "dtypes: float64(4), int64(1), object(13)\n",
            "memory usage: 2.9+ MB\n"
          ],
          "name": "stdout"
        }
      ]
    },
    {
      "cell_type": "code",
      "metadata": {
        "colab": {
          "base_uri": "https://localhost:8080/"
        },
        "id": "EnU3XBrB7yk8",
        "outputId": "ca60a6c0-cc76-4750-a65d-4cbdead416ff"
      },
      "source": [
        "staff.columns"
      ],
      "execution_count": 171,
      "outputs": [
        {
          "output_type": "execute_result",
          "data": {
            "text/plain": [
              "Index(['Codigo accidentado', 'Turno', 'Gender', 'Planta', 'Tipo accidente',\n",
              "       'Tipo trabajador', 'Fabrica', 'Tecnología', 'Pais',\n",
              "       'Horas Presencia Efectiva Subcontratados',\n",
              "       'Horas Presencia Efectiva ETTs', 'Horas Formacion Seguridad Propios',\n",
              "       'Horas Formacion Seguridad ETTs', 'Accident', 'wk_position', 'Age',\n",
              "       'Severity', 'Accident_place'],\n",
              "      dtype='object')"
            ]
          },
          "metadata": {
            "tags": []
          },
          "execution_count": 171
        }
      ]
    },
    {
      "cell_type": "code",
      "metadata": {
        "colab": {
          "base_uri": "https://localhost:8080/"
        },
        "id": "3J-dseXT-GPO",
        "outputId": "ec1be0b3-562f-4110-9feb-b8a057d13aa5"
      },
      "source": [
        "staff.shape ## 18 columns and 21.210 employees"
      ],
      "execution_count": 172,
      "outputs": [
        {
          "output_type": "execute_result",
          "data": {
            "text/plain": [
              "(21210, 18)"
            ]
          },
          "metadata": {
            "tags": []
          },
          "execution_count": 172
        }
      ]
    },
    {
      "cell_type": "markdown",
      "metadata": {
        "id": "K58pJAZeQ2Ko"
      },
      "source": [
        "A 19.7% of our employees has had an accident during its time in time company"
      ]
    },
    {
      "cell_type": "code",
      "metadata": {
        "colab": {
          "base_uri": "https://localhost:8080/"
        },
        "id": "lHXsO0CPQpPu",
        "outputId": "0e5abee6-b311-42b4-ffac-f3ab37ff4870"
      },
      "source": [
        "number_accidents = len(staff[staff['Accident']=='Yes'])\n",
        "employees = len(staff)\n",
        "\n",
        "number_accidents / employees * 100"
      ],
      "execution_count": 173,
      "outputs": [
        {
          "output_type": "execute_result",
          "data": {
            "text/plain": [
              "19.70768505421971"
            ]
          },
          "metadata": {
            "tags": []
          },
          "execution_count": 173
        }
      ]
    },
    {
      "cell_type": "code",
      "metadata": {
        "colab": {
          "base_uri": "https://localhost:8080/",
          "height": 248
        },
        "id": "5b0dhZg9QYA7",
        "outputId": "6d0fc6c6-62e6-46ea-d2fa-a72af6f53cc2"
      },
      "source": [
        "labels = 'EMployees Accidents', 'Employees without accident'\n",
        "sizes = [len(staff[staff['Accident']=='Yes']), len(staff[staff['Accident']=='No'])]\n",
        "explode = (0, 0.1)  # only \"explode\" the 2nd slice (i.e. 'Hogs')\n",
        "\n",
        "fig1, ax1 = plt.subplots()\n",
        "ax1.pie(sizes, explode=explode, labels=labels, autopct='%1.1f%%',\n",
        "        shadow=True, startangle=90)\n",
        "ax1.axis('equal')  # Equal aspect ratio ensures that pie is drawn as a circle.\n",
        "\n",
        "plt.show()"
      ],
      "execution_count": 174,
      "outputs": [
        {
          "output_type": "display_data",
          "data": {
            "image/png": "[encoded data removed]",
            "text/plain": [
              "<Figure size 432x288 with 1 Axes>"
            ]
          },
          "metadata": {
            "tags": []
          }
        }
      ]
    },
    {
      "cell_type": "code",
      "metadata": {
        "colab": {
          "base_uri": "https://localhost:8080/"
        },
        "id": "1BvTaY7w__Z1",
        "outputId": "dd8ffe5a-cbe1-4b2e-805c-cf8c3df25f00"
      },
      "source": [
        "staff.columns"
      ],
      "execution_count": 175,
      "outputs": [
        {
          "output_type": "execute_result",
          "data": {
            "text/plain": [
              "Index(['Codigo accidentado', 'Turno', 'Gender', 'Planta', 'Tipo accidente',\n",
              "       'Tipo trabajador', 'Fabrica', 'Tecnología', 'Pais',\n",
              "       'Horas Presencia Efectiva Subcontratados',\n",
              "       'Horas Presencia Efectiva ETTs', 'Horas Formacion Seguridad Propios',\n",
              "       'Horas Formacion Seguridad ETTs', 'Accident', 'wk_position', 'Age',\n",
              "       'Severity', 'Accident_place'],\n",
              "      dtype='object')"
            ]
          },
          "metadata": {
            "tags": []
          },
          "execution_count": 175
        }
      ]
    },
    {
      "cell_type": "code",
      "metadata": {
        "id": "zbCBRQz3ANwN"
      },
      "source": [
        "staff['N employees'] = 1"
      ],
      "execution_count": 176,
      "outputs": []
    },
    {
      "cell_type": "code",
      "metadata": {
        "id": "n7pD20q5eMKX"
      },
      "source": [
        "staff['Severity'] = staff['Severity'].fillna('N/A')"
      ],
      "execution_count": 177,
      "outputs": []
    },
    {
      "cell_type": "code",
      "metadata": {
        "id": "AnVbHtEnmOGB"
      },
      "source": [
        "staff['Tipo accidente'] = staff['Tipo accidente'].fillna('N/A')"
      ],
      "execution_count": 178,
      "outputs": []
    },
    {
      "cell_type": "code",
      "metadata": {
        "id": "VWAfd_eV_Jb7"
      },
      "source": [
        "# we are going to aggregate the data in order to be able to plot it in a clear way\n",
        "\n",
        "n_employees = staff.groupby(by=['Fabrica',\n",
        "       'Accident', 'Severity']).agg('sum')\n"
      ],
      "execution_count": 179,
      "outputs": []
    },
    {
      "cell_type": "code",
      "metadata": {
        "id": "bp1KAMT-7W4y"
      },
      "source": [
        "n_employees.drop(columns={'Planta', 'Horas Presencia Efectiva Subcontratados',\n",
        "       'Horas Presencia Efectiva ETTs', 'Horas Formacion Seguridad Propios',\n",
        "       'Horas Formacion Seguridad ETTs'}, inplace=True)"
      ],
      "execution_count": 180,
      "outputs": []
    },
    {
      "cell_type": "code",
      "metadata": {
        "colab": {
          "base_uri": "https://localhost:8080/",
          "height": 205
        },
        "id": "Twt1XGneXHla",
        "outputId": "efb4bfbc-0d05-476e-8e9b-af6a786079b8"
      },
      "source": [
        "n_employees = n_employees.reset_index()\n",
        "n_employees.head()"
      ],
      "execution_count": 181,
      "outputs": [
        {
          "output_type": "execute_result",
          "data": {
            "text/html": [
              "<div>\n",
              "<style scoped>\n",
              "    .dataframe tbody tr th:only-of-type {\n",
              "        vertical-align: middle;\n",
              "    }\n",
              "\n",
              "    .dataframe tbody tr th {\n",
              "        vertical-align: top;\n",
              "    }\n",
              "\n",
              "    .dataframe thead th {\n",
              "        text-align: right;\n",
              "    }\n",
              "</style>\n",
              "<table border=\"1\" class=\"dataframe\">\n",
              "  <thead>\n",
              "    <tr style=\"text-align: right;\">\n",
              "      <th></th>\n",
              "      <th>Fabrica</th>\n",
              "      <th>Accident</th>\n",
              "      <th>Severity</th>\n",
              "      <th>N employees</th>\n",
              "    </tr>\n",
              "  </thead>\n",
              "  <tbody>\n",
              "    <tr>\n",
              "      <th>0</th>\n",
              "      <td>Argentina</td>\n",
              "      <td>No</td>\n",
              "      <td>N/A</td>\n",
              "      <td>865</td>\n",
              "    </tr>\n",
              "    <tr>\n",
              "      <th>1</th>\n",
              "      <td>Argentina</td>\n",
              "      <td>Yes</td>\n",
              "      <td>Grave</td>\n",
              "      <td>317</td>\n",
              "    </tr>\n",
              "    <tr>\n",
              "      <th>2</th>\n",
              "      <td>Argentina</td>\n",
              "      <td>Yes</td>\n",
              "      <td>Leve</td>\n",
              "      <td>311</td>\n",
              "    </tr>\n",
              "    <tr>\n",
              "      <th>3</th>\n",
              "      <td>Argentina</td>\n",
              "      <td>Yes</td>\n",
              "      <td>Muy grave</td>\n",
              "      <td>287</td>\n",
              "    </tr>\n",
              "    <tr>\n",
              "      <th>4</th>\n",
              "      <td>Arizona</td>\n",
              "      <td>No</td>\n",
              "      <td>N/A</td>\n",
              "      <td>1386</td>\n",
              "    </tr>\n",
              "  </tbody>\n",
              "</table>\n",
              "</div>"
            ],
            "text/plain": [
              "     Fabrica Accident   Severity  N employees\n",
              "0  Argentina       No        N/A          865\n",
              "1  Argentina      Yes      Grave          317\n",
              "2  Argentina      Yes       Leve          311\n",
              "3  Argentina      Yes  Muy grave          287\n",
              "4    Arizona       No        N/A         1386"
            ]
          },
          "metadata": {
            "tags": []
          },
          "execution_count": 181
        }
      ]
    },
    {
      "cell_type": "code",
      "metadata": {
        "id": "B_etCAR-VJhU"
      },
      "source": [
        "import altair as alt\n"
      ],
      "execution_count": 182,
      "outputs": []
    },
    {
      "cell_type": "code",
      "metadata": {
        "colab": {
          "base_uri": "https://localhost:8080/"
        },
        "id": "DtxGFVLQWsZC",
        "outputId": "aa37b389-5370-4776-b461-de0b507a7160"
      },
      "source": [
        "!pip install altair_viewer"
      ],
      "execution_count": 183,
      "outputs": [
        {
          "output_type": "stream",
          "text": [
            "Requirement already satisfied: altair_viewer in /usr/local/lib/python3.7/dist-packages (0.3.0)\n",
            "Requirement already satisfied: altair in /usr/local/lib/python3.7/dist-packages (from altair_viewer) (4.1.0)\n",
            "Requirement already satisfied: altair-data-server>=0.4.0 in /usr/local/lib/python3.7/dist-packages (from altair_viewer) (0.4.1)\n",
            "Requirement already satisfied: numpy in /usr/local/lib/python3.7/dist-packages (from altair->altair_viewer) (1.19.5)\n",
            "Requirement already satisfied: toolz in /usr/local/lib/python3.7/dist-packages (from altair->altair_viewer) (0.11.1)\n",
            "Requirement already satisfied: jinja2 in /usr/local/lib/python3.7/dist-packages (from altair->altair_viewer) (2.11.3)\n",
            "Requirement already satisfied: entrypoints in /usr/local/lib/python3.7/dist-packages (from altair->altair_viewer) (0.3)\n",
            "Requirement already satisfied: pandas>=0.18 in /usr/local/lib/python3.7/dist-packages (from altair->altair_viewer) (1.1.5)\n",
            "Requirement already satisfied: jsonschema in /usr/local/lib/python3.7/dist-packages (from altair->altair_viewer) (2.6.0)\n",
            "Requirement already satisfied: portpicker in /usr/local/lib/python3.7/dist-packages (from altair-data-server>=0.4.0->altair_viewer) (1.3.9)\n",
            "Requirement already satisfied: tornado in /usr/local/lib/python3.7/dist-packages (from altair-data-server>=0.4.0->altair_viewer) (5.1.1)\n",
            "Requirement already satisfied: MarkupSafe>=0.23 in /usr/local/lib/python3.7/dist-packages (from jinja2->altair->altair_viewer) (2.0.1)\n",
            "Requirement already satisfied: pytz>=2017.2 in /usr/local/lib/python3.7/dist-packages (from pandas>=0.18->altair->altair_viewer) (2018.9)\n",
            "Requirement already satisfied: python-dateutil>=2.7.3 in /usr/local/lib/python3.7/dist-packages (from pandas>=0.18->altair->altair_viewer) (2.8.1)\n",
            "Requirement already satisfied: six>=1.5 in /usr/local/lib/python3.7/dist-packages (from python-dateutil>=2.7.3->pandas>=0.18->altair->altair_viewer) (1.15.0)\n"
          ],
          "name": "stdout"
        }
      ]
    },
    {
      "cell_type": "code",
      "metadata": {
        "id": "A_pMktZuWx_T"
      },
      "source": [
        "import altair_viewer"
      ],
      "execution_count": 184,
      "outputs": []
    },
    {
      "cell_type": "code",
      "metadata": {
        "colab": {
          "base_uri": "https://localhost:8080/"
        },
        "id": "YXfXbfdyo4Ai",
        "outputId": "5cd5cac2-d466-49c4-a0c2-61e6e62ad248"
      },
      "source": [
        "import altair as alt\n",
        "\n",
        "alt.renderers.enable(embed_options={'theme': 'latimes'})"
      ],
      "execution_count": 185,
      "outputs": [
        {
          "output_type": "execute_result",
          "data": {
            "text/plain": [
              "RendererRegistry.enable('colab')"
            ]
          },
          "metadata": {
            "tags": []
          },
          "execution_count": 185
        }
      ]
    },
    {
      "cell_type": "markdown",
      "metadata": {
        "id": "jcS6PgQmZZLY"
      },
      "source": [
        "On this chart we can appreciate that those countries with less employees are the ones with more accidents"
      ]
    },
    {
      "cell_type": "code",
      "metadata": {
        "colab": {
          "base_uri": "https://localhost:8080/",
          "height": 417
        },
        "id": "_krrWrz6VJlP",
        "outputId": "27a8d489-459d-4061-acdb-cb99c55e51fb"
      },
      "source": [
        "alt.Chart(n_employees, title='Nº Employees by Fabric and Accident/No Accident').mark_point().encode( \n",
        "    y = 'N employees', x ='Fabrica', color='Accident', tooltip=['Severity','N employees','Fabrica']).interactive().properties(\n",
        "    width=800,\n",
        "    height=300\n",
        ")\n"
      ],
      "execution_count": 186,
      "outputs": [
        {
          "output_type": "execute_result",
          "data": {
            "text/plain": [
              "alt.Chart(...)"
            ],
            "text/html": [
              "\n",
              "<div id=\"altair-viz-22e217fc61a246068496dd33b6ca9c21\"></div>\n",
              "<script type=\"text/javascript\">\n",
              "  (function(spec, embedOpt){\n",
              "    let outputDiv = document.currentScript.previousElementSibling;\n",
              "    if (outputDiv.id !== \"altair-viz-22e217fc61a246068496dd33b6ca9c21\") {\n",
              "      outputDiv = document.getElementById(\"altair-viz-22e217fc61a246068496dd33b6ca9c21\");\n",
              "    }\n",
              "    const paths = {\n",
              "      \"vega\": \"https://cdn.jsdelivr.net/npm//vega@5?noext\",\n",
              "      \"vega-lib\": \"https://cdn.jsdelivr.net/npm//vega-lib?noext\",\n",
              "      \"vega-lite\": \"https://cdn.jsdelivr.net/npm//vega-lite@4.8.1?noext\",\n",
              "      \"vega-embed\": \"https://cdn.jsdelivr.net/npm//vega-embed@6?noext\",\n",
              "    };\n",
              "\n",
              "    function loadScript(lib) {\n",
              "      return new Promise(function(resolve, reject) {\n",
              "        var s = document.createElement('script');\n",
              "        s.src = paths[lib];\n",
              "        s.async = true;\n",
              "        s.onload = () => resolve(paths[lib]);\n",
              "        s.onerror = () => reject(`Error loading script: ${paths[lib]}`);\n",
              "        document.getElementsByTagName(\"head\")[0].appendChild(s);\n",
              "      });\n",
              "    }\n",
              "\n",
              "    function showError(err) {\n",
              "      outputDiv.innerHTML = `<div class=\"error\" style=\"color:red;\">${err}</div>`;\n",
              "      throw err;\n",
              "    }\n",
              "\n",
              "    function displayChart(vegaEmbed) {\n",
              "      vegaEmbed(outputDiv, spec, embedOpt)\n",
              "        .catch(err => showError(`Javascript Error: ${err.message}<br>This usually means there's a typo in your chart specification. See the javascript console for the full traceback.`));\n",
              "    }\n",
              "\n",
              "    if(typeof define === \"function\" && define.amd) {\n",
              "      requirejs.config({paths});\n",
              "      require([\"vega-embed\"], displayChart, err => showError(`Error loading script: ${err.message}`));\n",
              "    } else if (typeof vegaEmbed === \"function\") {\n",
              "      displayChart(vegaEmbed);\n",
              "    } else {\n",
              "      loadScript(\"vega\")\n",
              "        .then(() => loadScript(\"vega-lite\"))\n",
              "        .then(() => loadScript(\"vega-embed\"))\n",
              "        .catch(showError)\n",
              "        .then(() => displayChart(vegaEmbed));\n",
              "    }\n",
              "  })({\"config\": {\"view\": {\"continuousWidth\": 400, \"continuousHeight\": 300}}, \"data\": {\"name\": \"data-f433518e6350735e1919248edc9d18e3\"}, \"mark\": \"point\", \"encoding\": {\"color\": {\"type\": \"nominal\", \"field\": \"Accident\"}, \"tooltip\": [{\"type\": \"nominal\", \"field\": \"Severity\"}, {\"type\": \"quantitative\", \"field\": \"N employees\"}, {\"type\": \"nominal\", \"field\": \"Fabrica\"}], \"x\": {\"type\": \"nominal\", \"field\": \"Fabrica\"}, \"y\": {\"type\": \"quantitative\", \"field\": \"N employees\"}}, \"height\": 300, \"selection\": {\"selector014\": {\"type\": \"interval\", \"bind\": \"scales\", \"encodings\": [\"x\", \"y\"]}}, \"title\": \"N\\u00ba Employees by Fabric and Accident/No Accident\", \"width\": 800, \"$schema\": \"https://vega.github.io/schema/vega-lite/v4.8.1.json\", \"datasets\": {\"data-f433518e6350735e1919248edc9d18e3\": [{\"Fabrica\": \"Argentina\", \"Accident\": \"No\", \"Severity\": \"N/A\", \"N employees\": 865}, {\"Fabrica\": \"Argentina\", \"Accident\": \"Yes\", \"Severity\": \"Grave\", \"N employees\": 317}, {\"Fabrica\": \"Argentina\", \"Accident\": \"Yes\", \"Severity\": \"Leve\", \"N employees\": 311}, {\"Fabrica\": \"Argentina\", \"Accident\": \"Yes\", \"Severity\": \"Muy grave\", \"N employees\": 287}, {\"Fabrica\": \"Arizona\", \"Accident\": \"No\", \"Severity\": \"N/A\", \"N employees\": 1386}, {\"Fabrica\": \"Arizona\", \"Accident\": \"Yes\", \"Severity\": \"Grave\", \"N employees\": 135}, {\"Fabrica\": \"Arizona\", \"Accident\": \"Yes\", \"Severity\": \"Leve\", \"N employees\": 123}, {\"Fabrica\": \"Arizona\", \"Accident\": \"Yes\", \"Severity\": \"Muy grave\", \"N employees\": 125}, {\"Fabrica\": \"Asturias\", \"Accident\": \"No\", \"Severity\": \"N/A\", \"N employees\": 5361}, {\"Fabrica\": \"Asturias\", \"Accident\": \"Yes\", \"Severity\": \"Grave\", \"N employees\": 141}, {\"Fabrica\": \"Asturias\", \"Accident\": \"Yes\", \"Severity\": \"Leve\", \"N employees\": 134}, {\"Fabrica\": \"Asturias\", \"Accident\": \"Yes\", \"Severity\": \"Muy grave\", \"N employees\": 138}, {\"Fabrica\": \"Barcelona\", \"Accident\": \"No\", \"Severity\": \"N/A\", \"N employees\": 1830}, {\"Fabrica\": \"Barcelona\", \"Accident\": \"Yes\", \"Severity\": \"Grave\", \"N employees\": 137}, {\"Fabrica\": \"Barcelona\", \"Accident\": \"Yes\", \"Severity\": \"Leve\", \"N employees\": 135}, {\"Fabrica\": \"Barcelona\", \"Accident\": \"Yes\", \"Severity\": \"Muy grave\", \"N employees\": 123}, {\"Fabrica\": \"Burgos\", \"Accident\": \"No\", \"Severity\": \"N/A\", \"N employees\": 3089}, {\"Fabrica\": \"Burgos\", \"Accident\": \"Yes\", \"Severity\": \"Grave\", \"N employees\": 467}, {\"Fabrica\": \"Burgos\", \"Accident\": \"Yes\", \"Severity\": \"Leve\", \"N employees\": 438}, {\"Fabrica\": \"Burgos\", \"Accident\": \"Yes\", \"Severity\": \"Muy grave\", \"N employees\": 454}, {\"Fabrica\": \"Campinas\", \"Accident\": \"No\", \"Severity\": \"N/A\", \"N employees\": 912}, {\"Fabrica\": \"Campinas\", \"Accident\": \"Yes\", \"Severity\": \"Grave\", \"N employees\": 131}, {\"Fabrica\": \"Campinas\", \"Accident\": \"Yes\", \"Severity\": \"Leve\", \"N employees\": 148}, {\"Fabrica\": \"Campinas\", \"Accident\": \"Yes\", \"Severity\": \"Muy grave\", \"N employees\": 153}, {\"Fabrica\": \"Czech\", \"Accident\": \"No\", \"Severity\": \"N/A\", \"N employees\": 464}, {\"Fabrica\": \"Czech\", \"Accident\": \"Yes\", \"Severity\": \"Grave\", \"N employees\": 12}, {\"Fabrica\": \"Czech\", \"Accident\": \"Yes\", \"Severity\": \"Leve\", \"N employees\": 10}, {\"Fabrica\": \"Czech\", \"Accident\": \"Yes\", \"Severity\": \"Muy grave\", \"N employees\": 8}, {\"Fabrica\": \"Dongguan\", \"Accident\": \"No\", \"Severity\": \"N/A\", \"N employees\": 424}, {\"Fabrica\": \"Dongguan\", \"Accident\": \"Yes\", \"Severity\": \"Grave\", \"N employees\": 15}, {\"Fabrica\": \"Dongguan\", \"Accident\": \"Yes\", \"Severity\": \"Leve\", \"N employees\": 15}, {\"Fabrica\": \"Dongguan\", \"Accident\": \"Yes\", \"Severity\": \"Muy grave\", \"N employees\": 20}, {\"Fabrica\": \"Galicia\", \"Accident\": \"No\", \"Severity\": \"N/A\", \"N employees\": 1343}, {\"Fabrica\": \"Galicia\", \"Accident\": \"Yes\", \"Severity\": \"Grave\", \"N employees\": 19}, {\"Fabrica\": \"Galicia\", \"Accident\": \"Yes\", \"Severity\": \"Leve\", \"N employees\": 20}, {\"Fabrica\": \"Galicia\", \"Accident\": \"Yes\", \"Severity\": \"Muy grave\", \"N employees\": 22}, {\"Fabrica\": \"Kaluga\", \"Accident\": \"No\", \"Severity\": \"N/A\", \"N employees\": 466}, {\"Fabrica\": \"Kaluga\", \"Accident\": \"Yes\", \"Severity\": \"Grave\", \"N employees\": 2}, {\"Fabrica\": \"Kaluga\", \"Accident\": \"Yes\", \"Severity\": \"Leve\", \"N employees\": 2}, {\"Fabrica\": \"Loudi\", \"Accident\": \"No\", \"Severity\": \"N/A\", \"N employees\": 439}, {\"Fabrica\": \"Loudi\", \"Accident\": \"Yes\", \"Severity\": \"Grave\", \"N employees\": 38}, {\"Fabrica\": \"Loudi\", \"Accident\": \"Yes\", \"Severity\": \"Leve\", \"N employees\": 39}, {\"Fabrica\": \"Loudi\", \"Accident\": \"Yes\", \"Severity\": \"Muy grave\", \"N employees\": 46}, {\"Fabrica\": \"Tarragona\", \"Accident\": \"No\", \"Severity\": \"N/A\", \"N employees\": 451}, {\"Fabrica\": \"Tarragona\", \"Accident\": \"Yes\", \"Severity\": \"Grave\", \"N employees\": 7}, {\"Fabrica\": \"Tarragona\", \"Accident\": \"Yes\", \"Severity\": \"Leve\", \"N employees\": 3}, {\"Fabrica\": \"Tarragona\", \"Accident\": \"Yes\", \"Severity\": \"Muy grave\", \"N employees\": 5}]}}, {\"theme\": \"latimes\", \"mode\": \"vega-lite\"});\n",
              "</script>"
            ]
          },
          "metadata": {
            "tags": []
          },
          "execution_count": 186
        }
      ]
    },
    {
      "cell_type": "code",
      "metadata": {
        "colab": {
          "base_uri": "https://localhost:8080/",
          "height": 205
        },
        "id": "hn7jmH-QVJ4d",
        "outputId": "d875327e-2012-48f8-cef1-15afa1a379be"
      },
      "source": [
        "n_employees = staff.groupby(by=['Tecnología',\n",
        "       'Accident', 'Severity']).agg('sum')\n",
        "\n",
        "n_employees = n_employees.reset_index()\n",
        "n_employees.drop(columns={'Planta', 'Horas Presencia Efectiva Subcontratados',\n",
        "       'Horas Presencia Efectiva ETTs', 'Horas Formacion Seguridad Propios',\n",
        "       'Horas Formacion Seguridad ETTs'}, inplace=True)\n",
        "n_employees.head()"
      ],
      "execution_count": 187,
      "outputs": [
        {
          "output_type": "execute_result",
          "data": {
            "text/html": [
              "<div>\n",
              "<style scoped>\n",
              "    .dataframe tbody tr th:only-of-type {\n",
              "        vertical-align: middle;\n",
              "    }\n",
              "\n",
              "    .dataframe tbody tr th {\n",
              "        vertical-align: top;\n",
              "    }\n",
              "\n",
              "    .dataframe thead th {\n",
              "        text-align: right;\n",
              "    }\n",
              "</style>\n",
              "<table border=\"1\" class=\"dataframe\">\n",
              "  <thead>\n",
              "    <tr style=\"text-align: right;\">\n",
              "      <th></th>\n",
              "      <th>Tecnología</th>\n",
              "      <th>Accident</th>\n",
              "      <th>Severity</th>\n",
              "      <th>N employees</th>\n",
              "    </tr>\n",
              "  </thead>\n",
              "  <tbody>\n",
              "    <tr>\n",
              "      <th>0</th>\n",
              "      <td>Blanking</td>\n",
              "      <td>No</td>\n",
              "      <td>N/A</td>\n",
              "      <td>2673</td>\n",
              "    </tr>\n",
              "    <tr>\n",
              "      <th>1</th>\n",
              "      <td>Blanking</td>\n",
              "      <td>Yes</td>\n",
              "      <td>Grave</td>\n",
              "      <td>239</td>\n",
              "    </tr>\n",
              "    <tr>\n",
              "      <th>2</th>\n",
              "      <td>Blanking</td>\n",
              "      <td>Yes</td>\n",
              "      <td>Leve</td>\n",
              "      <td>246</td>\n",
              "    </tr>\n",
              "    <tr>\n",
              "      <th>3</th>\n",
              "      <td>Blanking</td>\n",
              "      <td>Yes</td>\n",
              "      <td>Muy grave</td>\n",
              "      <td>237</td>\n",
              "    </tr>\n",
              "    <tr>\n",
              "      <th>4</th>\n",
              "      <td>Cizalla</td>\n",
              "      <td>No</td>\n",
              "      <td>N/A</td>\n",
              "      <td>1349</td>\n",
              "    </tr>\n",
              "  </tbody>\n",
              "</table>\n",
              "</div>"
            ],
            "text/plain": [
              "  Tecnología Accident   Severity  N employees\n",
              "0   Blanking       No        N/A         2673\n",
              "1   Blanking      Yes      Grave          239\n",
              "2   Blanking      Yes       Leve          246\n",
              "3   Blanking      Yes  Muy grave          237\n",
              "4    Cizalla       No        N/A         1349"
            ]
          },
          "metadata": {
            "tags": []
          },
          "execution_count": 187
        }
      ]
    },
    {
      "cell_type": "code",
      "metadata": {
        "colab": {
          "base_uri": "https://localhost:8080/"
        },
        "id": "gwjWrFR0fhDy",
        "outputId": "4c044827-b334-44c3-b99c-14f03c8ab872"
      },
      "source": [
        "n_employees_acc = n_employees[n_employees['Accident']=='Yes']\n",
        "n_employees_acc.rename(columns={'N employees':'N accidents', 'Tecnología':'Technology'}, inplace=True)"
      ],
      "execution_count": 188,
      "outputs": [
        {
          "output_type": "stream",
          "text": [
            "/usr/local/lib/python3.7/dist-packages/pandas/core/frame.py:4308: SettingWithCopyWarning: \n",
            "A value is trying to be set on a copy of a slice from a DataFrame\n",
            "\n",
            "See the caveats in the documentation: https://pandas.pydata.org/pandas-docs/stable/user_guide/indexing.html#returning-a-view-versus-a-copy\n",
            "  errors=errors,\n"
          ],
          "name": "stderr"
        }
      ]
    },
    {
      "cell_type": "code",
      "metadata": {
        "colab": {
          "base_uri": "https://localhost:8080/",
          "height": 417
        },
        "id": "6gsYidTvfVBz",
        "outputId": "54a0b9d1-1e4a-49a8-f423-6424acdba9b5"
      },
      "source": [
        "alt.Chart(n_employees_acc,title=\"Nº Accidents by Technology and Sevirity\").mark_line().encode( \n",
        "    y = 'N accidents',\n",
        "    x ='Technology',\n",
        "    color='Severity').interactive() .properties(\n",
        "    width=1200,\n",
        "    height=300\n",
        ")"
      ],
      "execution_count": 189,
      "outputs": [
        {
          "output_type": "execute_result",
          "data": {
            "text/plain": [
              "alt.Chart(...)"
            ],
            "text/html": [
              "\n",
              "<div id=\"altair-viz-b0b1a13a83de4369b437ba328048030b\"></div>\n",
              "<script type=\"text/javascript\">\n",
              "  (function(spec, embedOpt){\n",
              "    let outputDiv = document.currentScript.previousElementSibling;\n",
              "    if (outputDiv.id !== \"altair-viz-b0b1a13a83de4369b437ba328048030b\") {\n",
              "      outputDiv = document.getElementById(\"altair-viz-b0b1a13a83de4369b437ba328048030b\");\n",
              "    }\n",
              "    const paths = {\n",
              "      \"vega\": \"https://cdn.jsdelivr.net/npm//vega@5?noext\",\n",
              "      \"vega-lib\": \"https://cdn.jsdelivr.net/npm//vega-lib?noext\",\n",
              "      \"vega-lite\": \"https://cdn.jsdelivr.net/npm//vega-lite@4.8.1?noext\",\n",
              "      \"vega-embed\": \"https://cdn.jsdelivr.net/npm//vega-embed@6?noext\",\n",
              "    };\n",
              "\n",
              "    function loadScript(lib) {\n",
              "      return new Promise(function(resolve, reject) {\n",
              "        var s = document.createElement('script');\n",
              "        s.src = paths[lib];\n",
              "        s.async = true;\n",
              "        s.onload = () => resolve(paths[lib]);\n",
              "        s.onerror = () => reject(`Error loading script: ${paths[lib]}`);\n",
              "        document.getElementsByTagName(\"head\")[0].appendChild(s);\n",
              "      });\n",
              "    }\n",
              "\n",
              "    function showError(err) {\n",
              "      outputDiv.innerHTML = `<div class=\"error\" style=\"color:red;\">${err}</div>`;\n",
              "      throw err;\n",
              "    }\n",
              "\n",
              "    function displayChart(vegaEmbed) {\n",
              "      vegaEmbed(outputDiv, spec, embedOpt)\n",
              "        .catch(err => showError(`Javascript Error: ${err.message}<br>This usually means there's a typo in your chart specification. See the javascript console for the full traceback.`));\n",
              "    }\n",
              "\n",
              "    if(typeof define === \"function\" && define.amd) {\n",
              "      requirejs.config({paths});\n",
              "      require([\"vega-embed\"], displayChart, err => showError(`Error loading script: ${err.message}`));\n",
              "    } else if (typeof vegaEmbed === \"function\") {\n",
              "      displayChart(vegaEmbed);\n",
              "    } else {\n",
              "      loadScript(\"vega\")\n",
              "        .then(() => loadScript(\"vega-lite\"))\n",
              "        .then(() => loadScript(\"vega-embed\"))\n",
              "        .catch(showError)\n",
              "        .then(() => displayChart(vegaEmbed));\n",
              "    }\n",
              "  })({\"config\": {\"view\": {\"continuousWidth\": 400, \"continuousHeight\": 300}}, \"data\": {\"name\": \"data-8f898af41661fadf6a3814db013d9052\"}, \"mark\": \"line\", \"encoding\": {\"color\": {\"type\": \"nominal\", \"field\": \"Severity\"}, \"x\": {\"type\": \"nominal\", \"field\": \"Technology\"}, \"y\": {\"type\": \"quantitative\", \"field\": \"N accidents\"}}, \"height\": 300, \"selection\": {\"selector015\": {\"type\": \"interval\", \"bind\": \"scales\", \"encodings\": [\"x\", \"y\"]}}, \"title\": \"N\\u00ba Accidents by Technology and Sevirity\", \"width\": 1200, \"$schema\": \"https://vega.github.io/schema/vega-lite/v4.8.1.json\", \"datasets\": {\"data-8f898af41661fadf6a3814db013d9052\": [{\"Technology\": \"Blanking\", \"Accident\": \"Yes\", \"Severity\": \"Grave\", \"N accidents\": 239}, {\"Technology\": \"Blanking\", \"Accident\": \"Yes\", \"Severity\": \"Leve\", \"N accidents\": 246}, {\"Technology\": \"Blanking\", \"Accident\": \"Yes\", \"Severity\": \"Muy grave\", \"N accidents\": 237}, {\"Technology\": \"Cizalla\", \"Accident\": \"Yes\", \"Severity\": \"Grave\", \"N accidents\": 94}, {\"Technology\": \"Cizalla\", \"Accident\": \"Yes\", \"Severity\": \"Leve\", \"N accidents\": 92}, {\"Technology\": \"Cizalla\", \"Accident\": \"Yes\", \"Severity\": \"Muy grave\", \"N accidents\": 88}, {\"Technology\": \"Corte Longitudinal\", \"Accident\": \"Yes\", \"Severity\": \"Grave\", \"N accidents\": 432}, {\"Technology\": \"Corte Longitudinal\", \"Accident\": \"Yes\", \"Severity\": \"Leve\", \"N accidents\": 399}, {\"Technology\": \"Corte Longitudinal\", \"Accident\": \"Yes\", \"Severity\": \"Muy grave\", \"N accidents\": 376}, {\"Technology\": \"Corte L\\u00e1ser\", \"Accident\": \"Yes\", \"Severity\": \"Grave\", \"N accidents\": 86}, {\"Technology\": \"Corte L\\u00e1ser\", \"Accident\": \"Yes\", \"Severity\": \"Leve\", \"N accidents\": 83}, {\"Technology\": \"Corte L\\u00e1ser\", \"Accident\": \"Yes\", \"Severity\": \"Muy grave\", \"N accidents\": 77}, {\"Technology\": \"Corte L\\u00e1ser 3D\", \"Accident\": \"Yes\", \"Severity\": \"Grave\", \"N accidents\": 12}, {\"Technology\": \"Corte L\\u00e1ser 3D\", \"Accident\": \"Yes\", \"Severity\": \"Leve\", \"N accidents\": 10}, {\"Technology\": \"Corte L\\u00e1ser 3D\", \"Accident\": \"Yes\", \"Severity\": \"Muy grave\", \"N accidents\": 8}, {\"Technology\": \"Corte Plasma\", \"Accident\": \"Yes\", \"Severity\": \"Grave\", \"N accidents\": 8}, {\"Technology\": \"Corte Plasma\", \"Accident\": \"Yes\", \"Severity\": \"Leve\", \"N accidents\": 9}, {\"Technology\": \"Corte Plasma\", \"Accident\": \"Yes\", \"Severity\": \"Muy grave\", \"N accidents\": 10}, {\"Technology\": \"Corte Transversal\", \"Accident\": \"Yes\", \"Severity\": \"Grave\", \"N accidents\": 70}, {\"Technology\": \"Corte Transversal\", \"Accident\": \"Yes\", \"Severity\": \"Leve\", \"N accidents\": 56}, {\"Technology\": \"Corte Transversal\", \"Accident\": \"Yes\", \"Severity\": \"Muy grave\", \"N accidents\": 79}, {\"Technology\": \"C\\u00e9lulas Soldadura\", \"Accident\": \"Yes\", \"Severity\": \"Grave\", \"N accidents\": 32}, {\"Technology\": \"C\\u00e9lulas Soldadura\", \"Accident\": \"Yes\", \"Severity\": \"Leve\", \"N accidents\": 25}, {\"Technology\": \"C\\u00e9lulas Soldadura\", \"Accident\": \"Yes\", \"Severity\": \"Muy grave\", \"N accidents\": 20}, {\"Technology\": \"Decapado\", \"Accident\": \"Yes\", \"Severity\": \"Grave\", \"N accidents\": 2}, {\"Technology\": \"Decapado\", \"Accident\": \"Yes\", \"Severity\": \"Leve\", \"N accidents\": 2}, {\"Technology\": \"Decapado\", \"Accident\": \"Yes\", \"Severity\": \"Muy grave\", \"N accidents\": 4}, {\"Technology\": \"Galvanizado Inmersi\\u00f3n\", \"Accident\": \"Yes\", \"Severity\": \"Grave\", \"N accidents\": 3}, {\"Technology\": \"Galvanizado Inmersi\\u00f3n\", \"Accident\": \"Yes\", \"Severity\": \"Leve\", \"N accidents\": 3}, {\"Technology\": \"Laminado\", \"Accident\": \"Yes\", \"Severity\": \"Grave\", \"N accidents\": 1}, {\"Technology\": \"Laminado\", \"Accident\": \"Yes\", \"Severity\": \"Muy grave\", \"N accidents\": 4}, {\"Technology\": \"Prensa\", \"Accident\": \"Yes\", \"Severity\": \"Grave\", \"N accidents\": 123}, {\"Technology\": \"Prensa\", \"Accident\": \"Yes\", \"Severity\": \"Leve\", \"N accidents\": 138}, {\"Technology\": \"Prensa\", \"Accident\": \"Yes\", \"Severity\": \"Muy grave\", \"N accidents\": 151}, {\"Technology\": \"Punzonado\", \"Accident\": \"Yes\", \"Severity\": \"Grave\", \"N accidents\": 5}, {\"Technology\": \"Punzonado\", \"Accident\": \"Yes\", \"Severity\": \"Leve\", \"N accidents\": 7}, {\"Technology\": \"Punzonado\", \"Accident\": \"Yes\", \"Severity\": \"Muy grave\", \"N accidents\": 3}, {\"Technology\": \"Recocido\", \"Accident\": \"Yes\", \"Severity\": \"Grave\", \"N accidents\": 48}, {\"Technology\": \"Recocido\", \"Accident\": \"Yes\", \"Severity\": \"Leve\", \"N accidents\": 38}, {\"Technology\": \"Recocido\", \"Accident\": \"Yes\", \"Severity\": \"Muy grave\", \"N accidents\": 44}, {\"Technology\": \"Sierra\", \"Accident\": \"Yes\", \"Severity\": \"Grave\", \"N accidents\": 37}, {\"Technology\": \"Sierra\", \"Accident\": \"Yes\", \"Severity\": \"Leve\", \"N accidents\": 40}, {\"Technology\": \"Sierra\", \"Accident\": \"Yes\", \"Severity\": \"Muy grave\", \"N accidents\": 38}, {\"Technology\": \"Skinpass\", \"Accident\": \"Yes\", \"Severity\": \"Grave\", \"N accidents\": 143}, {\"Technology\": \"Skinpass\", \"Accident\": \"Yes\", \"Severity\": \"Leve\", \"N accidents\": 154}, {\"Technology\": \"Skinpass\", \"Accident\": \"Yes\", \"Severity\": \"Muy grave\", \"N accidents\": 152}, {\"Technology\": \"Tubos\", \"Accident\": \"Yes\", \"Severity\": \"Grave\", \"N accidents\": 86}, {\"Technology\": \"Tubos\", \"Accident\": \"Yes\", \"Severity\": \"Leve\", \"N accidents\": 76}, {\"Technology\": \"Tubos\", \"Accident\": \"Yes\", \"Severity\": \"Muy grave\", \"N accidents\": 90}]}}, {\"theme\": \"latimes\", \"mode\": \"vega-lite\"});\n",
              "</script>"
            ]
          },
          "metadata": {
            "tags": []
          },
          "execution_count": 189
        }
      ]
    },
    {
      "cell_type": "code",
      "metadata": {
        "id": "4GsfB9OzveJZ"
      },
      "source": [
        "staff_2 = staff\n",
        "staff_2['Training hours'] = staff['Horas Formacion Seguridad Propios'] + staff['Horas Formacion Seguridad ETTs']\n"
      ],
      "execution_count": 190,
      "outputs": []
    },
    {
      "cell_type": "code",
      "metadata": {
        "colab": {
          "base_uri": "https://localhost:8080/",
          "height": 205
        },
        "id": "rCWgAVQats_a",
        "outputId": "049bf114-2a1b-4173-ad52-35f2c5c97271"
      },
      "source": [
        "\n",
        "staff_2 = staff_2.groupby(['Fabrica', 'Accident']).sum()\n",
        "staff_2 = staff_2[['N employees', 'Training hours']].reset_index()\n",
        "staff_2['T_hours_employee'] = staff_2['Training hours'] / staff_2['N employees']\n",
        "staff_2 = staff_2[staff_2['Accident']=='Yes']\n",
        "staff_2.rename(columns={'N employees':'N accidents'}, inplace=True)\n",
        "staff_2.head()"
      ],
      "execution_count": 191,
      "outputs": [
        {
          "output_type": "execute_result",
          "data": {
            "text/html": [
              "<div>\n",
              "<style scoped>\n",
              "    .dataframe tbody tr th:only-of-type {\n",
              "        vertical-align: middle;\n",
              "    }\n",
              "\n",
              "    .dataframe tbody tr th {\n",
              "        vertical-align: top;\n",
              "    }\n",
              "\n",
              "    .dataframe thead th {\n",
              "        text-align: right;\n",
              "    }\n",
              "</style>\n",
              "<table border=\"1\" class=\"dataframe\">\n",
              "  <thead>\n",
              "    <tr style=\"text-align: right;\">\n",
              "      <th></th>\n",
              "      <th>Fabrica</th>\n",
              "      <th>Accident</th>\n",
              "      <th>N accidents</th>\n",
              "      <th>Training hours</th>\n",
              "      <th>T_hours_employee</th>\n",
              "    </tr>\n",
              "  </thead>\n",
              "  <tbody>\n",
              "    <tr>\n",
              "      <th>1</th>\n",
              "      <td>Argentina</td>\n",
              "      <td>Yes</td>\n",
              "      <td>915</td>\n",
              "      <td>555405.0</td>\n",
              "      <td>607.0</td>\n",
              "    </tr>\n",
              "    <tr>\n",
              "      <th>3</th>\n",
              "      <td>Arizona</td>\n",
              "      <td>Yes</td>\n",
              "      <td>383</td>\n",
              "      <td>0.0</td>\n",
              "      <td>0.0</td>\n",
              "    </tr>\n",
              "    <tr>\n",
              "      <th>5</th>\n",
              "      <td>Asturias</td>\n",
              "      <td>Yes</td>\n",
              "      <td>413</td>\n",
              "      <td>0.0</td>\n",
              "      <td>0.0</td>\n",
              "    </tr>\n",
              "    <tr>\n",
              "      <th>7</th>\n",
              "      <td>Barcelona</td>\n",
              "      <td>Yes</td>\n",
              "      <td>395</td>\n",
              "      <td>514685.0</td>\n",
              "      <td>1303.0</td>\n",
              "    </tr>\n",
              "    <tr>\n",
              "      <th>9</th>\n",
              "      <td>Burgos</td>\n",
              "      <td>Yes</td>\n",
              "      <td>1359</td>\n",
              "      <td>3055032.0</td>\n",
              "      <td>2248.0</td>\n",
              "    </tr>\n",
              "  </tbody>\n",
              "</table>\n",
              "</div>"
            ],
            "text/plain": [
              "     Fabrica Accident  N accidents  Training hours  T_hours_employee\n",
              "1  Argentina      Yes          915        555405.0             607.0\n",
              "3    Arizona      Yes          383             0.0               0.0\n",
              "5   Asturias      Yes          413             0.0               0.0\n",
              "7  Barcelona      Yes          395        514685.0            1303.0\n",
              "9     Burgos      Yes         1359       3055032.0            2248.0"
            ]
          },
          "metadata": {
            "tags": []
          },
          "execution_count": 191
        }
      ]
    },
    {
      "cell_type": "markdown",
      "metadata": {
        "id": "6yAxWLrh0N-8"
      },
      "source": [
        "The blue line represents the Nº of accidents, and the red one represents the nº trainning hours.\n",
        "\n",
        "We can see that the company has invested a huge number of training hours in Burgos location as it is the one with more accidents. The could reduce the training in the locations with less accidents and invest in Argentina which seems to need it more."
      ]
    },
    {
      "cell_type": "code",
      "metadata": {
        "colab": {
          "base_uri": "https://localhost:8080/",
          "height": 417
        },
        "id": "VZYxJLf1xN8B",
        "outputId": "14331b53-0d17-459c-d139-609785f3782f"
      },
      "source": [
        "base = alt.Chart(staff_2, title='Comparing N accident with Training hours by location').encode(x='Fabrica')\n",
        "\n",
        "alt.layer(base.mark_line(color='blue').encode(y='N accidents'),base.mark_line(color='red').encode(y='T_hours_employee')).properties(\n",
        "    width=900,\n",
        "    height=300)"
      ],
      "execution_count": 192,
      "outputs": [
        {
          "output_type": "execute_result",
          "data": {
            "text/plain": [
              "alt.LayerChart(...)"
            ],
            "text/html": [
              "\n",
              "<div id=\"altair-viz-c6d07e6dab6f4d7eb9a9fb0fcf954898\"></div>\n",
              "<script type=\"text/javascript\">\n",
              "  (function(spec, embedOpt){\n",
              "    let outputDiv = document.currentScript.previousElementSibling;\n",
              "    if (outputDiv.id !== \"altair-viz-c6d07e6dab6f4d7eb9a9fb0fcf954898\") {\n",
              "      outputDiv = document.getElementById(\"altair-viz-c6d07e6dab6f4d7eb9a9fb0fcf954898\");\n",
              "    }\n",
              "    const paths = {\n",
              "      \"vega\": \"https://cdn.jsdelivr.net/npm//vega@5?noext\",\n",
              "      \"vega-lib\": \"https://cdn.jsdelivr.net/npm//vega-lib?noext\",\n",
              "      \"vega-lite\": \"https://cdn.jsdelivr.net/npm//vega-lite@4.8.1?noext\",\n",
              "      \"vega-embed\": \"https://cdn.jsdelivr.net/npm//vega-embed@6?noext\",\n",
              "    };\n",
              "\n",
              "    function loadScript(lib) {\n",
              "      return new Promise(function(resolve, reject) {\n",
              "        var s = document.createElement('script');\n",
              "        s.src = paths[lib];\n",
              "        s.async = true;\n",
              "        s.onload = () => resolve(paths[lib]);\n",
              "        s.onerror = () => reject(`Error loading script: ${paths[lib]}`);\n",
              "        document.getElementsByTagName(\"head\")[0].appendChild(s);\n",
              "      });\n",
              "    }\n",
              "\n",
              "    function showError(err) {\n",
              "      outputDiv.innerHTML = `<div class=\"error\" style=\"color:red;\">${err}</div>`;\n",
              "      throw err;\n",
              "    }\n",
              "\n",
              "    function displayChart(vegaEmbed) {\n",
              "      vegaEmbed(outputDiv, spec, embedOpt)\n",
              "        .catch(err => showError(`Javascript Error: ${err.message}<br>This usually means there's a typo in your chart specification. See the javascript console for the full traceback.`));\n",
              "    }\n",
              "\n",
              "    if(typeof define === \"function\" && define.amd) {\n",
              "      requirejs.config({paths});\n",
              "      require([\"vega-embed\"], displayChart, err => showError(`Error loading script: ${err.message}`));\n",
              "    } else if (typeof vegaEmbed === \"function\") {\n",
              "      displayChart(vegaEmbed);\n",
              "    } else {\n",
              "      loadScript(\"vega\")\n",
              "        .then(() => loadScript(\"vega-lite\"))\n",
              "        .then(() => loadScript(\"vega-embed\"))\n",
              "        .catch(showError)\n",
              "        .then(() => displayChart(vegaEmbed));\n",
              "    }\n",
              "  })({\"config\": {\"view\": {\"continuousWidth\": 400, \"continuousHeight\": 300}}, \"layer\": [{\"mark\": {\"type\": \"line\", \"color\": \"blue\"}, \"encoding\": {\"x\": {\"type\": \"nominal\", \"field\": \"Fabrica\"}, \"y\": {\"type\": \"quantitative\", \"field\": \"N accidents\"}}, \"title\": \"Comparing N accident with Training hours by location\"}, {\"mark\": {\"type\": \"line\", \"color\": \"red\"}, \"encoding\": {\"x\": {\"type\": \"nominal\", \"field\": \"Fabrica\"}, \"y\": {\"type\": \"quantitative\", \"field\": \"T_hours_employee\"}}, \"title\": \"Comparing N accident with Training hours by location\"}], \"data\": {\"name\": \"data-69876d75447d63010ec011e3e0465b3d\"}, \"height\": 300, \"width\": 900, \"$schema\": \"https://vega.github.io/schema/vega-lite/v4.8.1.json\", \"datasets\": {\"data-69876d75447d63010ec011e3e0465b3d\": [{\"Fabrica\": \"Argentina\", \"Accident\": \"Yes\", \"N accidents\": 915, \"Training hours\": 555405.0, \"T_hours_employee\": 607.0}, {\"Fabrica\": \"Arizona\", \"Accident\": \"Yes\", \"N accidents\": 383, \"Training hours\": 0.0, \"T_hours_employee\": 0.0}, {\"Fabrica\": \"Asturias\", \"Accident\": \"Yes\", \"N accidents\": 413, \"Training hours\": 0.0, \"T_hours_employee\": 0.0}, {\"Fabrica\": \"Barcelona\", \"Accident\": \"Yes\", \"N accidents\": 395, \"Training hours\": 514685.0, \"T_hours_employee\": 1303.0}, {\"Fabrica\": \"Burgos\", \"Accident\": \"Yes\", \"N accidents\": 1359, \"Training hours\": 3055032.0, \"T_hours_employee\": 2248.0}, {\"Fabrica\": \"Campinas\", \"Accident\": \"Yes\", \"N accidents\": 432, \"Training hours\": 523584.0, \"T_hours_employee\": 1212.0}, {\"Fabrica\": \"Czech\", \"Accident\": \"Yes\", \"N accidents\": 30, \"Training hours\": 0.0, \"T_hours_employee\": 0.0}, {\"Fabrica\": \"Dongguan\", \"Accident\": \"Yes\", \"N accidents\": 50, \"Training hours\": 75000.0, \"T_hours_employee\": 1500.0}, {\"Fabrica\": \"Galicia\", \"Accident\": \"Yes\", \"N accidents\": 61, \"Training hours\": 46177.0, \"T_hours_employee\": 757.0}, {\"Fabrica\": \"Kaluga\", \"Accident\": \"Yes\", \"N accidents\": 4, \"Training hours\": 960.0, \"T_hours_employee\": 240.0}, {\"Fabrica\": \"Loudi\", \"Accident\": \"Yes\", \"N accidents\": 123, \"Training hours\": 189912.0, \"T_hours_employee\": 1544.0}, {\"Fabrica\": \"Tarragona\", \"Accident\": \"Yes\", \"N accidents\": 15, \"Training hours\": 4770.0, \"T_hours_employee\": 318.0}]}}, {\"theme\": \"latimes\", \"mode\": \"vega-lite\"});\n",
              "</script>"
            ]
          },
          "metadata": {
            "tags": []
          },
          "execution_count": 192
        }
      ]
    },
    {
      "cell_type": "code",
      "metadata": {
        "colab": {
          "base_uri": "https://localhost:8080/",
          "height": 236
        },
        "id": "-eQ56yJH2gsJ",
        "outputId": "2256ff9d-063d-4020-bfc8-be121e83f2d3"
      },
      "source": [
        "n_accidents = staff.groupby(['Turno', 'Accident']).sum()\n",
        "n_accidents = n_accidents[['N employees']]\n",
        "n_accidents = n_accidents.reset_index()\n",
        "n_accidents"
      ],
      "execution_count": 193,
      "outputs": [
        {
          "output_type": "execute_result",
          "data": {
            "text/html": [
              "<div>\n",
              "<style scoped>\n",
              "    .dataframe tbody tr th:only-of-type {\n",
              "        vertical-align: middle;\n",
              "    }\n",
              "\n",
              "    .dataframe tbody tr th {\n",
              "        vertical-align: top;\n",
              "    }\n",
              "\n",
              "    .dataframe thead th {\n",
              "        text-align: right;\n",
              "    }\n",
              "</style>\n",
              "<table border=\"1\" class=\"dataframe\">\n",
              "  <thead>\n",
              "    <tr style=\"text-align: right;\">\n",
              "      <th></th>\n",
              "      <th>Turno</th>\n",
              "      <th>Accident</th>\n",
              "      <th>N employees</th>\n",
              "    </tr>\n",
              "  </thead>\n",
              "  <tbody>\n",
              "    <tr>\n",
              "      <th>0</th>\n",
              "      <td>Turno de mañana</td>\n",
              "      <td>No</td>\n",
              "      <td>5728</td>\n",
              "    </tr>\n",
              "    <tr>\n",
              "      <th>1</th>\n",
              "      <td>Turno de mañana</td>\n",
              "      <td>Yes</td>\n",
              "      <td>2289</td>\n",
              "    </tr>\n",
              "    <tr>\n",
              "      <th>2</th>\n",
              "      <td>Turno de noche</td>\n",
              "      <td>No</td>\n",
              "      <td>5761</td>\n",
              "    </tr>\n",
              "    <tr>\n",
              "      <th>3</th>\n",
              "      <td>Turno de noche</td>\n",
              "      <td>Yes</td>\n",
              "      <td>508</td>\n",
              "    </tr>\n",
              "    <tr>\n",
              "      <th>4</th>\n",
              "      <td>Turno de tarde</td>\n",
              "      <td>No</td>\n",
              "      <td>5541</td>\n",
              "    </tr>\n",
              "    <tr>\n",
              "      <th>5</th>\n",
              "      <td>Turno de tarde</td>\n",
              "      <td>Yes</td>\n",
              "      <td>1383</td>\n",
              "    </tr>\n",
              "  </tbody>\n",
              "</table>\n",
              "</div>"
            ],
            "text/plain": [
              "             Turno Accident  N employees\n",
              "0  Turno de mañana       No         5728\n",
              "1  Turno de mañana      Yes         2289\n",
              "2   Turno de noche       No         5761\n",
              "3   Turno de noche      Yes          508\n",
              "4   Turno de tarde       No         5541\n",
              "5   Turno de tarde      Yes         1383"
            ]
          },
          "metadata": {
            "tags": []
          },
          "execution_count": 193
        }
      ]
    },
    {
      "cell_type": "markdown",
      "metadata": {
        "id": "aM9zu8pB0BgI"
      },
      "source": [
        "Morning turn is the one with more accidents:"
      ]
    },
    {
      "cell_type": "code",
      "metadata": {
        "colab": {
          "base_uri": "https://localhost:8080/",
          "height": 417
        },
        "id": "kFZfjKr53H5Q",
        "outputId": "89adf4bb-9ded-4cd1-95a2-4db7e9d77a85"
      },
      "source": [
        "alt.Chart(n_accidents,title=\"Nº Accidents by Work Turn\").mark_line().encode( \n",
        "    y = 'N employees',\n",
        "    x ='Accident',\n",
        "    color='Turno').interactive() .properties(\n",
        "    width=1000,\n",
        "    height=300\n",
        ")"
      ],
      "execution_count": 194,
      "outputs": [
        {
          "output_type": "execute_result",
          "data": {
            "text/plain": [
              "alt.Chart(...)"
            ],
            "text/html": [
              "\n",
              "<div id=\"altair-viz-94a0e4385fe0458088ac8da9d13a85af\"></div>\n",
              "<script type=\"text/javascript\">\n",
              "  (function(spec, embedOpt){\n",
              "    let outputDiv = document.currentScript.previousElementSibling;\n",
              "    if (outputDiv.id !== \"altair-viz-94a0e4385fe0458088ac8da9d13a85af\") {\n",
              "      outputDiv = document.getElementById(\"altair-viz-94a0e4385fe0458088ac8da9d13a85af\");\n",
              "    }\n",
              "    const paths = {\n",
              "      \"vega\": \"https://cdn.jsdelivr.net/npm//vega@5?noext\",\n",
              "      \"vega-lib\": \"https://cdn.jsdelivr.net/npm//vega-lib?noext\",\n",
              "      \"vega-lite\": \"https://cdn.jsdelivr.net/npm//vega-lite@4.8.1?noext\",\n",
              "      \"vega-embed\": \"https://cdn.jsdelivr.net/npm//vega-embed@6?noext\",\n",
              "    };\n",
              "\n",
              "    function loadScript(lib) {\n",
              "      return new Promise(function(resolve, reject) {\n",
              "        var s = document.createElement('script');\n",
              "        s.src = paths[lib];\n",
              "        s.async = true;\n",
              "        s.onload = () => resolve(paths[lib]);\n",
              "        s.onerror = () => reject(`Error loading script: ${paths[lib]}`);\n",
              "        document.getElementsByTagName(\"head\")[0].appendChild(s);\n",
              "      });\n",
              "    }\n",
              "\n",
              "    function showError(err) {\n",
              "      outputDiv.innerHTML = `<div class=\"error\" style=\"color:red;\">${err}</div>`;\n",
              "      throw err;\n",
              "    }\n",
              "\n",
              "    function displayChart(vegaEmbed) {\n",
              "      vegaEmbed(outputDiv, spec, embedOpt)\n",
              "        .catch(err => showError(`Javascript Error: ${err.message}<br>This usually means there's a typo in your chart specification. See the javascript console for the full traceback.`));\n",
              "    }\n",
              "\n",
              "    if(typeof define === \"function\" && define.amd) {\n",
              "      requirejs.config({paths});\n",
              "      require([\"vega-embed\"], displayChart, err => showError(`Error loading script: ${err.message}`));\n",
              "    } else if (typeof vegaEmbed === \"function\") {\n",
              "      displayChart(vegaEmbed);\n",
              "    } else {\n",
              "      loadScript(\"vega\")\n",
              "        .then(() => loadScript(\"vega-lite\"))\n",
              "        .then(() => loadScript(\"vega-embed\"))\n",
              "        .catch(showError)\n",
              "        .then(() => displayChart(vegaEmbed));\n",
              "    }\n",
              "  })({\"config\": {\"view\": {\"continuousWidth\": 400, \"continuousHeight\": 300}}, \"data\": {\"name\": \"data-ffe7d80e5e254dda94d38dba0e443bf4\"}, \"mark\": \"line\", \"encoding\": {\"color\": {\"type\": \"nominal\", \"field\": \"Turno\"}, \"x\": {\"type\": \"nominal\", \"field\": \"Accident\"}, \"y\": {\"type\": \"quantitative\", \"field\": \"N employees\"}}, \"height\": 300, \"selection\": {\"selector016\": {\"type\": \"interval\", \"bind\": \"scales\", \"encodings\": [\"x\", \"y\"]}}, \"title\": \"N\\u00ba Accidents by Work Turn\", \"width\": 1000, \"$schema\": \"https://vega.github.io/schema/vega-lite/v4.8.1.json\", \"datasets\": {\"data-ffe7d80e5e254dda94d38dba0e443bf4\": [{\"Turno\": \"Turno de ma\\u00f1ana\", \"Accident\": \"No\", \"N employees\": 5728}, {\"Turno\": \"Turno de ma\\u00f1ana\", \"Accident\": \"Yes\", \"N employees\": 2289}, {\"Turno\": \"Turno de noche\", \"Accident\": \"No\", \"N employees\": 5761}, {\"Turno\": \"Turno de noche\", \"Accident\": \"Yes\", \"N employees\": 508}, {\"Turno\": \"Turno de tarde\", \"Accident\": \"No\", \"N employees\": 5541}, {\"Turno\": \"Turno de tarde\", \"Accident\": \"Yes\", \"N employees\": 1383}]}}, {\"theme\": \"latimes\", \"mode\": \"vega-lite\"});\n",
              "</script>"
            ]
          },
          "metadata": {
            "tags": []
          },
          "execution_count": 194
        }
      ]
    },
    {
      "cell_type": "markdown",
      "metadata": {
        "id": "fpxKw__wgX1F"
      },
      "source": [
        "#### Now we are going to analyze the profile of the employees in the company"
      ]
    },
    {
      "cell_type": "markdown",
      "metadata": {
        "id": "ydGLh23sQ78P"
      },
      "source": [
        "Our staff is composed mainly by men, in a 91.8%"
      ]
    },
    {
      "cell_type": "code",
      "metadata": {
        "colab": {
          "base_uri": "https://localhost:8080/",
          "height": 250
        },
        "id": "EUnbbroj7Wqr",
        "outputId": "45079070-7e0a-4492-e8e8-c62b26255fbc"
      },
      "source": [
        "import matplotlib.pyplot as plt\n",
        "\n",
        "labels = 'Men', 'Women'\n",
        "sizes = [len(staff[staff['Gender']=='Hombre']), len(staff[staff['Gender']=='Mujer'])]\n",
        "explode = (0, 0.1)  # only \"explode\" the 2nd slice (i.e. 'Hogs')\n",
        "\n",
        "fig1, ax1 = plt.subplots()\n",
        "ax1.pie(sizes, explode=explode, labels=labels, autopct='%1.1f%%',\n",
        "        shadow=True, startangle=90)\n",
        "ax1.axis('equal')  # Equal aspect ratio ensures that pie is drawn as a circle.\n",
        "\n",
        "plt.show()"
      ],
      "execution_count": 195,
      "outputs": [
        {
          "output_type": "display_data",
          "data": {
            "image/png": "[encoded data removed]",
            "text/plain": [
              "<Figure size 432x288 with 1 Axes>"
            ]
          },
          "metadata": {
            "tags": []
          }
        }
      ]
    },
    {
      "cell_type": "code",
      "metadata": {
        "colab": {
          "base_uri": "https://localhost:8080/"
        },
        "id": "LWwkFjWBgsKd",
        "outputId": "da9a5b5d-4b8b-49fd-9340-96685fc4d796"
      },
      "source": [
        "staff.columns"
      ],
      "execution_count": 196,
      "outputs": [
        {
          "output_type": "execute_result",
          "data": {
            "text/plain": [
              "Index(['Codigo accidentado', 'Turno', 'Gender', 'Planta', 'Tipo accidente',\n",
              "       'Tipo trabajador', 'Fabrica', 'Tecnología', 'Pais',\n",
              "       'Horas Presencia Efectiva Subcontratados',\n",
              "       'Horas Presencia Efectiva ETTs', 'Horas Formacion Seguridad Propios',\n",
              "       'Horas Formacion Seguridad ETTs', 'Accident', 'wk_position', 'Age',\n",
              "       'Severity', 'Accident_place', 'N employees', 'Training hours'],\n",
              "      dtype='object')"
            ]
          },
          "metadata": {
            "tags": []
          },
          "execution_count": 196
        }
      ]
    },
    {
      "cell_type": "code",
      "metadata": {
        "colab": {
          "base_uri": "https://localhost:8080/",
          "height": 205
        },
        "id": "2N5lWbZUgb0j",
        "outputId": "f12d5be2-7f43-41dc-f03a-e7e80ccf4e6d"
      },
      "source": [
        "n_employees = staff.groupby(by=['Fabrica', 'Gender','Tipo trabajador']).agg('sum')\n",
        "\n",
        "n_employees = n_employees.reset_index()\n",
        "n_employees.drop(columns={'Planta', 'Horas Presencia Efectiva Subcontratados',\n",
        "       'Horas Presencia Efectiva ETTs', 'Horas Formacion Seguridad Propios',\n",
        "       'Horas Formacion Seguridad ETTs'}, inplace=True)\n",
        "n_employees.head()"
      ],
      "execution_count": 197,
      "outputs": [
        {
          "output_type": "execute_result",
          "data": {
            "text/html": [
              "<div>\n",
              "<style scoped>\n",
              "    .dataframe tbody tr th:only-of-type {\n",
              "        vertical-align: middle;\n",
              "    }\n",
              "\n",
              "    .dataframe tbody tr th {\n",
              "        vertical-align: top;\n",
              "    }\n",
              "\n",
              "    .dataframe thead th {\n",
              "        text-align: right;\n",
              "    }\n",
              "</style>\n",
              "<table border=\"1\" class=\"dataframe\">\n",
              "  <thead>\n",
              "    <tr style=\"text-align: right;\">\n",
              "      <th></th>\n",
              "      <th>Fabrica</th>\n",
              "      <th>Gender</th>\n",
              "      <th>Tipo trabajador</th>\n",
              "      <th>N employees</th>\n",
              "      <th>Training hours</th>\n",
              "    </tr>\n",
              "  </thead>\n",
              "  <tbody>\n",
              "    <tr>\n",
              "      <th>0</th>\n",
              "      <td>Argentina</td>\n",
              "      <td>Hombre</td>\n",
              "      <td>Cedidos de otras plantas</td>\n",
              "      <td>86</td>\n",
              "      <td>52202.0</td>\n",
              "    </tr>\n",
              "    <tr>\n",
              "      <th>1</th>\n",
              "      <td>Argentina</td>\n",
              "      <td>Hombre</td>\n",
              "      <td>Duración Determinada</td>\n",
              "      <td>119</td>\n",
              "      <td>72233.0</td>\n",
              "    </tr>\n",
              "    <tr>\n",
              "      <th>2</th>\n",
              "      <td>Argentina</td>\n",
              "      <td>Hombre</td>\n",
              "      <td>ETT</td>\n",
              "      <td>146</td>\n",
              "      <td>88622.0</td>\n",
              "    </tr>\n",
              "    <tr>\n",
              "      <th>3</th>\n",
              "      <td>Argentina</td>\n",
              "      <td>Hombre</td>\n",
              "      <td>Incidente (no aplica)</td>\n",
              "      <td>607</td>\n",
              "      <td>368449.0</td>\n",
              "    </tr>\n",
              "    <tr>\n",
              "      <th>4</th>\n",
              "      <td>Argentina</td>\n",
              "      <td>Hombre</td>\n",
              "      <td>Indefinido</td>\n",
              "      <td>314</td>\n",
              "      <td>190598.0</td>\n",
              "    </tr>\n",
              "  </tbody>\n",
              "</table>\n",
              "</div>"
            ],
            "text/plain": [
              "     Fabrica  Gender           Tipo trabajador  N employees  Training hours\n",
              "0  Argentina  Hombre  Cedidos de otras plantas           86         52202.0\n",
              "1  Argentina  Hombre      Duración Determinada          119         72233.0\n",
              "2  Argentina  Hombre                       ETT          146         88622.0\n",
              "3  Argentina  Hombre     Incidente (no aplica)          607        368449.0\n",
              "4  Argentina  Hombre                Indefinido          314        190598.0"
            ]
          },
          "metadata": {
            "tags": []
          },
          "execution_count": 197
        }
      ]
    },
    {
      "cell_type": "code",
      "metadata": {
        "colab": {
          "base_uri": "https://localhost:8080/"
        },
        "id": "hHMuV-rhkH0d",
        "outputId": "b9680b13-47f9-4bc9-dac4-1a94abecd12d"
      },
      "source": [
        "types = staff['Tipo trabajador'].unique()\n",
        "types"
      ],
      "execution_count": 198,
      "outputs": [
        {
          "output_type": "execute_result",
          "data": {
            "text/plain": [
              "array(['Incidente (no aplica)', 'ETT', 'Indefinido', 'Subcontratado',\n",
              "       'Duración Determinada', 'Prácticas', 'Cedidos de otras plantas',\n",
              "       'No aplica', 'Indefinido con preaviso'], dtype=object)"
            ]
          },
          "metadata": {
            "tags": []
          },
          "execution_count": 198
        }
      ]
    },
    {
      "cell_type": "markdown",
      "metadata": {
        "id": "zrkgIPn8rmPI"
      },
      "source": [
        "The Fabrics with most employees are Asturias and Burgos.\n",
        "\n",
        "Asturias is as well the location with more women."
      ]
    },
    {
      "cell_type": "code",
      "metadata": {
        "colab": {
          "base_uri": "https://localhost:8080/",
          "height": 417
        },
        "id": "O37m37hhh5M5",
        "outputId": "a5ab9bf1-220b-44d5-cfbf-5bd0aae3afbb"
      },
      "source": [
        "alt.Chart(n_employees, title=\"Nº employees by Fabric and Gender\").mark_bar().encode( \n",
        "    y = 'N employees',\n",
        "    x ='Fabrica',\n",
        "     color='Gender').properties(\n",
        "    width=1000,\n",
        "    height=300\n",
        ")\n"
      ],
      "execution_count": 199,
      "outputs": [
        {
          "output_type": "execute_result",
          "data": {
            "text/plain": [
              "alt.Chart(...)"
            ],
            "text/html": [
              "\n",
              "<div id=\"altair-viz-6ad8b39f2b38491295bec6f43b35c03e\"></div>\n",
              "<script type=\"text/javascript\">\n",
              "  (function(spec, embedOpt){\n",
              "    let outputDiv = document.currentScript.previousElementSibling;\n",
              "    if (outputDiv.id !== \"altair-viz-6ad8b39f2b38491295bec6f43b35c03e\") {\n",
              "      outputDiv = document.getElementById(\"altair-viz-6ad8b39f2b38491295bec6f43b35c03e\");\n",
              "    }\n",
              "    const paths = {\n",
              "      \"vega\": \"https://cdn.jsdelivr.net/npm//vega@5?noext\",\n",
              "      \"vega-lib\": \"https://cdn.jsdelivr.net/npm//vega-lib?noext\",\n",
              "      \"vega-lite\": \"https://cdn.jsdelivr.net/npm//vega-lite@4.8.1?noext\",\n",
              "      \"vega-embed\": \"https://cdn.jsdelivr.net/npm//vega-embed@6?noext\",\n",
              "    };\n",
              "\n",
              "    function loadScript(lib) {\n",
              "      return new Promise(function(resolve, reject) {\n",
              "        var s = document.createElement('script');\n",
              "        s.src = paths[lib];\n",
              "        s.async = true;\n",
              "        s.onload = () => resolve(paths[lib]);\n",
              "        s.onerror = () => reject(`Error loading script: ${paths[lib]}`);\n",
              "        document.getElementsByTagName(\"head\")[0].appendChild(s);\n",
              "      });\n",
              "    }\n",
              "\n",
              "    function showError(err) {\n",
              "      outputDiv.innerHTML = `<div class=\"error\" style=\"color:red;\">${err}</div>`;\n",
              "      throw err;\n",
              "    }\n",
              "\n",
              "    function displayChart(vegaEmbed) {\n",
              "      vegaEmbed(outputDiv, spec, embedOpt)\n",
              "        .catch(err => showError(`Javascript Error: ${err.message}<br>This usually means there's a typo in your chart specification. See the javascript console for the full traceback.`));\n",
              "    }\n",
              "\n",
              "    if(typeof define === \"function\" && define.amd) {\n",
              "      requirejs.config({paths});\n",
              "      require([\"vega-embed\"], displayChart, err => showError(`Error loading script: ${err.message}`));\n",
              "    } else if (typeof vegaEmbed === \"function\") {\n",
              "      displayChart(vegaEmbed);\n",
              "    } else {\n",
              "      loadScript(\"vega\")\n",
              "        .then(() => loadScript(\"vega-lite\"))\n",
              "        .then(() => loadScript(\"vega-embed\"))\n",
              "        .catch(showError)\n",
              "        .then(() => displayChart(vegaEmbed));\n",
              "    }\n",
              "  })({\"config\": {\"view\": {\"continuousWidth\": 400, \"continuousHeight\": 300}}, \"data\": {\"name\": \"data-a5464beb5c89c2c3b77bb543f59ee2a7\"}, \"mark\": \"bar\", \"encoding\": {\"color\": {\"type\": \"nominal\", \"field\": \"Gender\"}, \"x\": {\"type\": \"nominal\", \"field\": \"Fabrica\"}, \"y\": {\"type\": \"quantitative\", \"field\": \"N employees\"}}, \"height\": 300, \"title\": \"N\\u00ba employees by Fabric and Gender\", \"width\": 1000, \"$schema\": \"https://vega.github.io/schema/vega-lite/v4.8.1.json\", \"datasets\": {\"data-a5464beb5c89c2c3b77bb543f59ee2a7\": [{\"Fabrica\": \"Argentina\", \"Gender\": \"Hombre\", \"Tipo trabajador\": \"Cedidos de otras plantas\", \"N employees\": 86, \"Training hours\": 52202.0}, {\"Fabrica\": \"Argentina\", \"Gender\": \"Hombre\", \"Tipo trabajador\": \"Duraci\\u00f3n Determinada\", \"N employees\": 119, \"Training hours\": 72233.0}, {\"Fabrica\": \"Argentina\", \"Gender\": \"Hombre\", \"Tipo trabajador\": \"ETT\", \"N employees\": 146, \"Training hours\": 88622.0}, {\"Fabrica\": \"Argentina\", \"Gender\": \"Hombre\", \"Tipo trabajador\": \"Incidente (no aplica)\", \"N employees\": 607, \"Training hours\": 368449.0}, {\"Fabrica\": \"Argentina\", \"Gender\": \"Hombre\", \"Tipo trabajador\": \"Indefinido\", \"N employees\": 314, \"Training hours\": 190598.0}, {\"Fabrica\": \"Argentina\", \"Gender\": \"Hombre\", \"Tipo trabajador\": \"Indefinido con preaviso\", \"N employees\": 75, \"Training hours\": 45525.0}, {\"Fabrica\": \"Argentina\", \"Gender\": \"Hombre\", \"Tipo trabajador\": \"No aplica\", \"N employees\": 86, \"Training hours\": 52202.0}, {\"Fabrica\": \"Argentina\", \"Gender\": \"Hombre\", \"Tipo trabajador\": \"Pr\\u00e1cticas\", \"N employees\": 89, \"Training hours\": 54023.0}, {\"Fabrica\": \"Argentina\", \"Gender\": \"Hombre\", \"Tipo trabajador\": \"Subcontratado\", \"N employees\": 133, \"Training hours\": 80731.0}, {\"Fabrica\": \"Argentina\", \"Gender\": \"Mujer\", \"Tipo trabajador\": \"Cedidos de otras plantas\", \"N employees\": 12, \"Training hours\": 7284.0}, {\"Fabrica\": \"Argentina\", \"Gender\": \"Mujer\", \"Tipo trabajador\": \"Duraci\\u00f3n Determinada\", \"N employees\": 20, \"Training hours\": 12140.0}, {\"Fabrica\": \"Argentina\", \"Gender\": \"Mujer\", \"Tipo trabajador\": \"ETT\", \"N employees\": 24, \"Training hours\": 14568.0}, {\"Fabrica\": \"Argentina\", \"Gender\": \"Mujer\", \"Tipo trabajador\": \"Incidente (no aplica)\", \"N employees\": 13, \"Training hours\": 7891.0}, {\"Fabrica\": \"Argentina\", \"Gender\": \"Mujer\", \"Tipo trabajador\": \"Indefinido\", \"N employees\": 12, \"Training hours\": 7284.0}, {\"Fabrica\": \"Argentina\", \"Gender\": \"Mujer\", \"Tipo trabajador\": \"Indefinido con preaviso\", \"N employees\": 11, \"Training hours\": 6677.0}, {\"Fabrica\": \"Argentina\", \"Gender\": \"Mujer\", \"Tipo trabajador\": \"No aplica\", \"N employees\": 7, \"Training hours\": 4249.0}, {\"Fabrica\": \"Argentina\", \"Gender\": \"Mujer\", \"Tipo trabajador\": \"Pr\\u00e1cticas\", \"N employees\": 12, \"Training hours\": 7284.0}, {\"Fabrica\": \"Argentina\", \"Gender\": \"Mujer\", \"Tipo trabajador\": \"Subcontratado\", \"N employees\": 14, \"Training hours\": 8498.0}, {\"Fabrica\": \"Arizona\", \"Gender\": \"Hombre\", \"Tipo trabajador\": \"Cedidos de otras plantas\", \"N employees\": 138, \"Training hours\": 0.0}, {\"Fabrica\": \"Arizona\", \"Gender\": \"Hombre\", \"Tipo trabajador\": \"Duraci\\u00f3n Determinada\", \"N employees\": 176, \"Training hours\": 0.0}, {\"Fabrica\": \"Arizona\", \"Gender\": \"Hombre\", \"Tipo trabajador\": \"ETT\", \"N employees\": 161, \"Training hours\": 0.0}, {\"Fabrica\": \"Arizona\", \"Gender\": \"Hombre\", \"Tipo trabajador\": \"Incidente (no aplica)\", \"N employees\": 304, \"Training hours\": 0.0}, {\"Fabrica\": \"Arizona\", \"Gender\": \"Hombre\", \"Tipo trabajador\": \"Indefinido\", \"N employees\": 266, \"Training hours\": 0.0}, {\"Fabrica\": \"Arizona\", \"Gender\": \"Hombre\", \"Tipo trabajador\": \"Indefinido con preaviso\", \"N employees\": 157, \"Training hours\": 0.0}, {\"Fabrica\": \"Arizona\", \"Gender\": \"Hombre\", \"Tipo trabajador\": \"No aplica\", \"N employees\": 140, \"Training hours\": 0.0}, {\"Fabrica\": \"Arizona\", \"Gender\": \"Hombre\", \"Tipo trabajador\": \"Pr\\u00e1cticas\", \"N employees\": 129, \"Training hours\": 0.0}, {\"Fabrica\": \"Arizona\", \"Gender\": \"Hombre\", \"Tipo trabajador\": \"Subcontratado\", \"N employees\": 152, \"Training hours\": 0.0}, {\"Fabrica\": \"Arizona\", \"Gender\": \"Mujer\", \"Tipo trabajador\": \"Cedidos de otras plantas\", \"N employees\": 17, \"Training hours\": 0.0}, {\"Fabrica\": \"Arizona\", \"Gender\": \"Mujer\", \"Tipo trabajador\": \"Duraci\\u00f3n Determinada\", \"N employees\": 21, \"Training hours\": 0.0}, {\"Fabrica\": \"Arizona\", \"Gender\": \"Mujer\", \"Tipo trabajador\": \"ETT\", \"N employees\": 13, \"Training hours\": 0.0}, {\"Fabrica\": \"Arizona\", \"Gender\": \"Mujer\", \"Tipo trabajador\": \"Incidente (no aplica)\", \"N employees\": 22, \"Training hours\": 0.0}, {\"Fabrica\": \"Arizona\", \"Gender\": \"Mujer\", \"Tipo trabajador\": \"Indefinido\", \"N employees\": 17, \"Training hours\": 0.0}, {\"Fabrica\": \"Arizona\", \"Gender\": \"Mujer\", \"Tipo trabajador\": \"Indefinido con preaviso\", \"N employees\": 11, \"Training hours\": 0.0}, {\"Fabrica\": \"Arizona\", \"Gender\": \"Mujer\", \"Tipo trabajador\": \"No aplica\", \"N employees\": 9, \"Training hours\": 0.0}, {\"Fabrica\": \"Arizona\", \"Gender\": \"Mujer\", \"Tipo trabajador\": \"Pr\\u00e1cticas\", \"N employees\": 19, \"Training hours\": 0.0}, {\"Fabrica\": \"Arizona\", \"Gender\": \"Mujer\", \"Tipo trabajador\": \"Subcontratado\", \"N employees\": 17, \"Training hours\": 0.0}, {\"Fabrica\": \"Asturias\", \"Gender\": \"Hombre\", \"Tipo trabajador\": \"Cedidos de otras plantas\", \"N employees\": 519, \"Training hours\": 0.0}, {\"Fabrica\": \"Asturias\", \"Gender\": \"Hombre\", \"Tipo trabajador\": \"Duraci\\u00f3n Determinada\", \"N employees\": 617, \"Training hours\": 0.0}, {\"Fabrica\": \"Asturias\", \"Gender\": \"Hombre\", \"Tipo trabajador\": \"ETT\", \"N employees\": 561, \"Training hours\": 0.0}, {\"Fabrica\": \"Asturias\", \"Gender\": \"Hombre\", \"Tipo trabajador\": \"Incidente (no aplica)\", \"N employees\": 759, \"Training hours\": 0.0}, {\"Fabrica\": \"Asturias\", \"Gender\": \"Hombre\", \"Tipo trabajador\": \"Indefinido\", \"N employees\": 646, \"Training hours\": 0.0}, {\"Fabrica\": \"Asturias\", \"Gender\": \"Hombre\", \"Tipo trabajador\": \"Indefinido con preaviso\", \"N employees\": 537, \"Training hours\": 0.0}, {\"Fabrica\": \"Asturias\", \"Gender\": \"Hombre\", \"Tipo trabajador\": \"No aplica\", \"N employees\": 547, \"Training hours\": 0.0}, {\"Fabrica\": \"Asturias\", \"Gender\": \"Hombre\", \"Tipo trabajador\": \"Pr\\u00e1cticas\", \"N employees\": 556, \"Training hours\": 0.0}, {\"Fabrica\": \"Asturias\", \"Gender\": \"Hombre\", \"Tipo trabajador\": \"Subcontratado\", \"N employees\": 522, \"Training hours\": 0.0}, {\"Fabrica\": \"Asturias\", \"Gender\": \"Mujer\", \"Tipo trabajador\": \"Cedidos de otras plantas\", \"N employees\": 48, \"Training hours\": 0.0}, {\"Fabrica\": \"Asturias\", \"Gender\": \"Mujer\", \"Tipo trabajador\": \"Duraci\\u00f3n Determinada\", \"N employees\": 62, \"Training hours\": 0.0}, {\"Fabrica\": \"Asturias\", \"Gender\": \"Mujer\", \"Tipo trabajador\": \"ETT\", \"N employees\": 58, \"Training hours\": 0.0}, {\"Fabrica\": \"Asturias\", \"Gender\": \"Mujer\", \"Tipo trabajador\": \"Incidente (no aplica)\", \"N employees\": 52, \"Training hours\": 0.0}, {\"Fabrica\": \"Asturias\", \"Gender\": \"Mujer\", \"Tipo trabajador\": \"Indefinido\", \"N employees\": 55, \"Training hours\": 0.0}, {\"Fabrica\": \"Asturias\", \"Gender\": \"Mujer\", \"Tipo trabajador\": \"Indefinido con preaviso\", \"N employees\": 56, \"Training hours\": 0.0}, {\"Fabrica\": \"Asturias\", \"Gender\": \"Mujer\", \"Tipo trabajador\": \"No aplica\", \"N employees\": 69, \"Training hours\": 0.0}, {\"Fabrica\": \"Asturias\", \"Gender\": \"Mujer\", \"Tipo trabajador\": \"Pr\\u00e1cticas\", \"N employees\": 53, \"Training hours\": 0.0}, {\"Fabrica\": \"Asturias\", \"Gender\": \"Mujer\", \"Tipo trabajador\": \"Subcontratado\", \"N employees\": 57, \"Training hours\": 0.0}, {\"Fabrica\": \"Barcelona\", \"Gender\": \"Hombre\", \"Tipo trabajador\": \"Cedidos de otras plantas\", \"N employees\": 190, \"Training hours\": 247570.0}, {\"Fabrica\": \"Barcelona\", \"Gender\": \"Hombre\", \"Tipo trabajador\": \"Duraci\\u00f3n Determinada\", \"N employees\": 184, \"Training hours\": 239752.0}, {\"Fabrica\": \"Barcelona\", \"Gender\": \"Hombre\", \"Tipo trabajador\": \"ETT\", \"N employees\": 194, \"Training hours\": 252782.0}, {\"Fabrica\": \"Barcelona\", \"Gender\": \"Hombre\", \"Tipo trabajador\": \"Incidente (no aplica)\", \"N employees\": 420, \"Training hours\": 547260.0}, {\"Fabrica\": \"Barcelona\", \"Gender\": \"Hombre\", \"Tipo trabajador\": \"Indefinido\", \"N employees\": 291, \"Training hours\": 379173.0}, {\"Fabrica\": \"Barcelona\", \"Gender\": \"Hombre\", \"Tipo trabajador\": \"Indefinido con preaviso\", \"N employees\": 181, \"Training hours\": 235843.0}, {\"Fabrica\": \"Barcelona\", \"Gender\": \"Hombre\", \"Tipo trabajador\": \"No aplica\", \"N employees\": 181, \"Training hours\": 235843.0}, {\"Fabrica\": \"Barcelona\", \"Gender\": \"Hombre\", \"Tipo trabajador\": \"Pr\\u00e1cticas\", \"N employees\": 196, \"Training hours\": 255388.0}, {\"Fabrica\": \"Barcelona\", \"Gender\": \"Hombre\", \"Tipo trabajador\": \"Subcontratado\", \"N employees\": 210, \"Training hours\": 273630.0}, {\"Fabrica\": \"Barcelona\", \"Gender\": \"Mujer\", \"Tipo trabajador\": \"Cedidos de otras plantas\", \"N employees\": 21, \"Training hours\": 27363.0}, {\"Fabrica\": \"Barcelona\", \"Gender\": \"Mujer\", \"Tipo trabajador\": \"Duraci\\u00f3n Determinada\", \"N employees\": 23, \"Training hours\": 29969.0}, {\"Fabrica\": \"Barcelona\", \"Gender\": \"Mujer\", \"Tipo trabajador\": \"ETT\", \"N employees\": 20, \"Training hours\": 26060.0}, {\"Fabrica\": \"Barcelona\", \"Gender\": \"Mujer\", \"Tipo trabajador\": \"Incidente (no aplica)\", \"N employees\": 17, \"Training hours\": 22151.0}, {\"Fabrica\": \"Barcelona\", \"Gender\": \"Mujer\", \"Tipo trabajador\": \"Indefinido\", \"N employees\": 25, \"Training hours\": 32575.0}, {\"Fabrica\": \"Barcelona\", \"Gender\": \"Mujer\", \"Tipo trabajador\": \"Indefinido con preaviso\", \"N employees\": 11, \"Training hours\": 14333.0}, {\"Fabrica\": \"Barcelona\", \"Gender\": \"Mujer\", \"Tipo trabajador\": \"No aplica\", \"N employees\": 18, \"Training hours\": 23454.0}, {\"Fabrica\": \"Barcelona\", \"Gender\": \"Mujer\", \"Tipo trabajador\": \"Pr\\u00e1cticas\", \"N employees\": 17, \"Training hours\": 22151.0}, {\"Fabrica\": \"Barcelona\", \"Gender\": \"Mujer\", \"Tipo trabajador\": \"Subcontratado\", \"N employees\": 26, \"Training hours\": 33878.0}, {\"Fabrica\": \"Burgos\", \"Gender\": \"Hombre\", \"Tipo trabajador\": \"Cedidos de otras plantas\", \"N employees\": 315, \"Training hours\": 708120.0}, {\"Fabrica\": \"Burgos\", \"Gender\": \"Hombre\", \"Tipo trabajador\": \"Duraci\\u00f3n Determinada\", \"N employees\": 345, \"Training hours\": 775560.0}, {\"Fabrica\": \"Burgos\", \"Gender\": \"Hombre\", \"Tipo trabajador\": \"ETT\", \"N employees\": 708, \"Training hours\": 1591584.0}, {\"Fabrica\": \"Burgos\", \"Gender\": \"Hombre\", \"Tipo trabajador\": \"Incidente (no aplica)\", \"N employees\": 632, \"Training hours\": 1420736.0}, {\"Fabrica\": \"Burgos\", \"Gender\": \"Hombre\", \"Tipo trabajador\": \"Indefinido\", \"N employees\": 847, \"Training hours\": 1904056.0}, {\"Fabrica\": \"Burgos\", \"Gender\": \"Hombre\", \"Tipo trabajador\": \"Indefinido con preaviso\", \"N employees\": 285, \"Training hours\": 640680.0}, {\"Fabrica\": \"Burgos\", \"Gender\": \"Hombre\", \"Tipo trabajador\": \"No aplica\", \"N employees\": 303, \"Training hours\": 681144.0}, {\"Fabrica\": \"Burgos\", \"Gender\": \"Hombre\", \"Tipo trabajador\": \"Pr\\u00e1cticas\", \"N employees\": 322, \"Training hours\": 723856.0}, {\"Fabrica\": \"Burgos\", \"Gender\": \"Hombre\", \"Tipo trabajador\": \"Subcontratado\", \"N employees\": 385, \"Training hours\": 865480.0}, {\"Fabrica\": \"Burgos\", \"Gender\": \"Mujer\", \"Tipo trabajador\": \"Cedidos de otras plantas\", \"N employees\": 32, \"Training hours\": 71936.0}, {\"Fabrica\": \"Burgos\", \"Gender\": \"Mujer\", \"Tipo trabajador\": \"Duraci\\u00f3n Determinada\", \"N employees\": 29, \"Training hours\": 65192.0}, {\"Fabrica\": \"Burgos\", \"Gender\": \"Mujer\", \"Tipo trabajador\": \"ETT\", \"N employees\": 43, \"Training hours\": 96664.0}, {\"Fabrica\": \"Burgos\", \"Gender\": \"Mujer\", \"Tipo trabajador\": \"Incidente (no aplica)\", \"N employees\": 32, \"Training hours\": 71936.0}, {\"Fabrica\": \"Burgos\", \"Gender\": \"Mujer\", \"Tipo trabajador\": \"Indefinido\", \"N employees\": 38, \"Training hours\": 85424.0}, {\"Fabrica\": \"Burgos\", \"Gender\": \"Mujer\", \"Tipo trabajador\": \"Indefinido con preaviso\", \"N employees\": 36, \"Training hours\": 80928.0}, {\"Fabrica\": \"Burgos\", \"Gender\": \"Mujer\", \"Tipo trabajador\": \"No aplica\", \"N employees\": 28, \"Training hours\": 62944.0}, {\"Fabrica\": \"Burgos\", \"Gender\": \"Mujer\", \"Tipo trabajador\": \"Pr\\u00e1cticas\", \"N employees\": 33, \"Training hours\": 74184.0}, {\"Fabrica\": \"Burgos\", \"Gender\": \"Mujer\", \"Tipo trabajador\": \"Subcontratado\", \"N employees\": 35, \"Training hours\": 78680.0}, {\"Fabrica\": \"Campinas\", \"Gender\": \"Hombre\", \"Tipo trabajador\": \"Cedidos de otras plantas\", \"N employees\": 92, \"Training hours\": 111504.0}, {\"Fabrica\": \"Campinas\", \"Gender\": \"Hombre\", \"Tipo trabajador\": \"Duraci\\u00f3n Determinada\", \"N employees\": 110, \"Training hours\": 133320.0}, {\"Fabrica\": \"Campinas\", \"Gender\": \"Hombre\", \"Tipo trabajador\": \"ETT\", \"N employees\": 125, \"Training hours\": 151500.0}, {\"Fabrica\": \"Campinas\", \"Gender\": \"Hombre\", \"Tipo trabajador\": \"Incidente (no aplica)\", \"N employees\": 308, \"Training hours\": 373296.0}, {\"Fabrica\": \"Campinas\", \"Gender\": \"Hombre\", \"Tipo trabajador\": \"Indefinido\", \"N employees\": 209, \"Training hours\": 253308.0}, {\"Fabrica\": \"Campinas\", \"Gender\": \"Hombre\", \"Tipo trabajador\": \"Indefinido con preaviso\", \"N employees\": 97, \"Training hours\": 117564.0}, {\"Fabrica\": \"Campinas\", \"Gender\": \"Hombre\", \"Tipo trabajador\": \"No aplica\", \"N employees\": 85, \"Training hours\": 103020.0}, {\"Fabrica\": \"Campinas\", \"Gender\": \"Hombre\", \"Tipo trabajador\": \"Pr\\u00e1cticas\", \"N employees\": 98, \"Training hours\": 118776.0}, {\"Fabrica\": \"Campinas\", \"Gender\": \"Hombre\", \"Tipo trabajador\": \"Subcontratado\", \"N employees\": 109, \"Training hours\": 132108.0}, {\"Fabrica\": \"Campinas\", \"Gender\": \"Mujer\", \"Tipo trabajador\": \"Cedidos de otras plantas\", \"N employees\": 10, \"Training hours\": 12120.0}, {\"Fabrica\": \"Campinas\", \"Gender\": \"Mujer\", \"Tipo trabajador\": \"Duraci\\u00f3n Determinada\", \"N employees\": 12, \"Training hours\": 14544.0}, {\"Fabrica\": \"Campinas\", \"Gender\": \"Mujer\", \"Tipo trabajador\": \"ETT\", \"N employees\": 14, \"Training hours\": 16968.0}, {\"Fabrica\": \"Campinas\", \"Gender\": \"Mujer\", \"Tipo trabajador\": \"Incidente (no aplica)\", \"N employees\": 8, \"Training hours\": 9696.0}, {\"Fabrica\": \"Campinas\", \"Gender\": \"Mujer\", \"Tipo trabajador\": \"Indefinido\", \"N employees\": 24, \"Training hours\": 29088.0}, {\"Fabrica\": \"Campinas\", \"Gender\": \"Mujer\", \"Tipo trabajador\": \"Indefinido con preaviso\", \"N employees\": 12, \"Training hours\": 14544.0}, {\"Fabrica\": \"Campinas\", \"Gender\": \"Mujer\", \"Tipo trabajador\": \"No aplica\", \"N employees\": 11, \"Training hours\": 13332.0}, {\"Fabrica\": \"Campinas\", \"Gender\": \"Mujer\", \"Tipo trabajador\": \"Pr\\u00e1cticas\", \"N employees\": 11, \"Training hours\": 13332.0}, {\"Fabrica\": \"Campinas\", \"Gender\": \"Mujer\", \"Tipo trabajador\": \"Subcontratado\", \"N employees\": 9, \"Training hours\": 10908.0}, {\"Fabrica\": \"Czech\", \"Gender\": \"Hombre\", \"Tipo trabajador\": \"Cedidos de otras plantas\", \"N employees\": 48, \"Training hours\": 0.0}, {\"Fabrica\": \"Czech\", \"Gender\": \"Hombre\", \"Tipo trabajador\": \"Duraci\\u00f3n Determinada\", \"N employees\": 51, \"Training hours\": 0.0}, {\"Fabrica\": \"Czech\", \"Gender\": \"Hombre\", \"Tipo trabajador\": \"ETT\", \"N employees\": 45, \"Training hours\": 0.0}, {\"Fabrica\": \"Czech\", \"Gender\": \"Hombre\", \"Tipo trabajador\": \"Incidente (no aplica)\", \"N employees\": 60, \"Training hours\": 0.0}, {\"Fabrica\": \"Czech\", \"Gender\": \"Hombre\", \"Tipo trabajador\": \"Indefinido\", \"N employees\": 46, \"Training hours\": 0.0}, {\"Fabrica\": \"Czech\", \"Gender\": \"Hombre\", \"Tipo trabajador\": \"Indefinido con preaviso\", \"N employees\": 44, \"Training hours\": 0.0}, {\"Fabrica\": \"Czech\", \"Gender\": \"Hombre\", \"Tipo trabajador\": \"No aplica\", \"N employees\": 52, \"Training hours\": 0.0}, {\"Fabrica\": \"Czech\", \"Gender\": \"Hombre\", \"Tipo trabajador\": \"Pr\\u00e1cticas\", \"N employees\": 52, \"Training hours\": 0.0}, {\"Fabrica\": \"Czech\", \"Gender\": \"Hombre\", \"Tipo trabajador\": \"Subcontratado\", \"N employees\": 41, \"Training hours\": 0.0}, {\"Fabrica\": \"Czech\", \"Gender\": \"Mujer\", \"Tipo trabajador\": \"Cedidos de otras plantas\", \"N employees\": 4, \"Training hours\": 0.0}, {\"Fabrica\": \"Czech\", \"Gender\": \"Mujer\", \"Tipo trabajador\": \"Duraci\\u00f3n Determinada\", \"N employees\": 6, \"Training hours\": 0.0}, {\"Fabrica\": \"Czech\", \"Gender\": \"Mujer\", \"Tipo trabajador\": \"ETT\", \"N employees\": 6, \"Training hours\": 0.0}, {\"Fabrica\": \"Czech\", \"Gender\": \"Mujer\", \"Tipo trabajador\": \"Incidente (no aplica)\", \"N employees\": 8, \"Training hours\": 0.0}, {\"Fabrica\": \"Czech\", \"Gender\": \"Mujer\", \"Tipo trabajador\": \"Indefinido\", \"N employees\": 8, \"Training hours\": 0.0}, {\"Fabrica\": \"Czech\", \"Gender\": \"Mujer\", \"Tipo trabajador\": \"Indefinido con preaviso\", \"N employees\": 7, \"Training hours\": 0.0}, {\"Fabrica\": \"Czech\", \"Gender\": \"Mujer\", \"Tipo trabajador\": \"No aplica\", \"N employees\": 8, \"Training hours\": 0.0}, {\"Fabrica\": \"Czech\", \"Gender\": \"Mujer\", \"Tipo trabajador\": \"Pr\\u00e1cticas\", \"N employees\": 4, \"Training hours\": 0.0}, {\"Fabrica\": \"Czech\", \"Gender\": \"Mujer\", \"Tipo trabajador\": \"Subcontratado\", \"N employees\": 4, \"Training hours\": 0.0}, {\"Fabrica\": \"Dongguan\", \"Gender\": \"Hombre\", \"Tipo trabajador\": \"Cedidos de otras plantas\", \"N employees\": 55, \"Training hours\": 82500.0}, {\"Fabrica\": \"Dongguan\", \"Gender\": \"Hombre\", \"Tipo trabajador\": \"Duraci\\u00f3n Determinada\", \"N employees\": 47, \"Training hours\": 70500.0}, {\"Fabrica\": \"Dongguan\", \"Gender\": \"Hombre\", \"Tipo trabajador\": \"ETT\", \"N employees\": 39, \"Training hours\": 58500.0}, {\"Fabrica\": \"Dongguan\", \"Gender\": \"Hombre\", \"Tipo trabajador\": \"Incidente (no aplica)\", \"N employees\": 67, \"Training hours\": 100500.0}, {\"Fabrica\": \"Dongguan\", \"Gender\": \"Hombre\", \"Tipo trabajador\": \"Indefinido\", \"N employees\": 63, \"Training hours\": 94500.0}, {\"Fabrica\": \"Dongguan\", \"Gender\": \"Hombre\", \"Tipo trabajador\": \"Indefinido con preaviso\", \"N employees\": 43, \"Training hours\": 64500.0}, {\"Fabrica\": \"Dongguan\", \"Gender\": \"Hombre\", \"Tipo trabajador\": \"No aplica\", \"N employees\": 35, \"Training hours\": 52500.0}, {\"Fabrica\": \"Dongguan\", \"Gender\": \"Hombre\", \"Tipo trabajador\": \"Pr\\u00e1cticas\", \"N employees\": 40, \"Training hours\": 60000.0}, {\"Fabrica\": \"Dongguan\", \"Gender\": \"Hombre\", \"Tipo trabajador\": \"Subcontratado\", \"N employees\": 44, \"Training hours\": 66000.0}, {\"Fabrica\": \"Dongguan\", \"Gender\": \"Mujer\", \"Tipo trabajador\": \"Cedidos de otras plantas\", \"N employees\": 5, \"Training hours\": 7500.0}, {\"Fabrica\": \"Dongguan\", \"Gender\": \"Mujer\", \"Tipo trabajador\": \"Duraci\\u00f3n Determinada\", \"N employees\": 5, \"Training hours\": 7500.0}, {\"Fabrica\": \"Dongguan\", \"Gender\": \"Mujer\", \"Tipo trabajador\": \"ETT\", \"N employees\": 7, \"Training hours\": 10500.0}, {\"Fabrica\": \"Dongguan\", \"Gender\": \"Mujer\", \"Tipo trabajador\": \"Incidente (no aplica)\", \"N employees\": 3, \"Training hours\": 4500.0}, {\"Fabrica\": \"Dongguan\", \"Gender\": \"Mujer\", \"Tipo trabajador\": \"Indefinido\", \"N employees\": 5, \"Training hours\": 7500.0}, {\"Fabrica\": \"Dongguan\", \"Gender\": \"Mujer\", \"Tipo trabajador\": \"Indefinido con preaviso\", \"N employees\": 1, \"Training hours\": 1500.0}, {\"Fabrica\": \"Dongguan\", \"Gender\": \"Mujer\", \"Tipo trabajador\": \"No aplica\", \"N employees\": 4, \"Training hours\": 6000.0}, {\"Fabrica\": \"Dongguan\", \"Gender\": \"Mujer\", \"Tipo trabajador\": \"Pr\\u00e1cticas\", \"N employees\": 6, \"Training hours\": 9000.0}, {\"Fabrica\": \"Dongguan\", \"Gender\": \"Mujer\", \"Tipo trabajador\": \"Subcontratado\", \"N employees\": 5, \"Training hours\": 7500.0}, {\"Fabrica\": \"Galicia\", \"Gender\": \"Hombre\", \"Tipo trabajador\": \"Cedidos de otras plantas\", \"N employees\": 135, \"Training hours\": 102195.0}, {\"Fabrica\": \"Galicia\", \"Gender\": \"Hombre\", \"Tipo trabajador\": \"Duraci\\u00f3n Determinada\", \"N employees\": 134, \"Training hours\": 101438.0}, {\"Fabrica\": \"Galicia\", \"Gender\": \"Hombre\", \"Tipo trabajador\": \"ETT\", \"N employees\": 129, \"Training hours\": 97653.0}, {\"Fabrica\": \"Galicia\", \"Gender\": \"Hombre\", \"Tipo trabajador\": \"Incidente (no aplica)\", \"N employees\": 158, \"Training hours\": 119606.0}, {\"Fabrica\": \"Galicia\", \"Gender\": \"Hombre\", \"Tipo trabajador\": \"Indefinido\", \"N employees\": 150, \"Training hours\": 113550.0}, {\"Fabrica\": \"Galicia\", \"Gender\": \"Hombre\", \"Tipo trabajador\": \"Indefinido con preaviso\", \"N employees\": 141, \"Training hours\": 106737.0}, {\"Fabrica\": \"Galicia\", \"Gender\": \"Hombre\", \"Tipo trabajador\": \"No aplica\", \"N employees\": 131, \"Training hours\": 99167.0}, {\"Fabrica\": \"Galicia\", \"Gender\": \"Hombre\", \"Tipo trabajador\": \"Pr\\u00e1cticas\", \"N employees\": 138, \"Training hours\": 104466.0}, {\"Fabrica\": \"Galicia\", \"Gender\": \"Hombre\", \"Tipo trabajador\": \"Subcontratado\", \"N employees\": 140, \"Training hours\": 105980.0}, {\"Fabrica\": \"Galicia\", \"Gender\": \"Mujer\", \"Tipo trabajador\": \"Cedidos de otras plantas\", \"N employees\": 16, \"Training hours\": 12112.0}, {\"Fabrica\": \"Galicia\", \"Gender\": \"Mujer\", \"Tipo trabajador\": \"Duraci\\u00f3n Determinada\", \"N employees\": 26, \"Training hours\": 19682.0}, {\"Fabrica\": \"Galicia\", \"Gender\": \"Mujer\", \"Tipo trabajador\": \"ETT\", \"N employees\": 15, \"Training hours\": 11355.0}, {\"Fabrica\": \"Galicia\", \"Gender\": \"Mujer\", \"Tipo trabajador\": \"Incidente (no aplica)\", \"N employees\": 8, \"Training hours\": 6056.0}, {\"Fabrica\": \"Galicia\", \"Gender\": \"Mujer\", \"Tipo trabajador\": \"Indefinido\", \"N employees\": 22, \"Training hours\": 16654.0}, {\"Fabrica\": \"Galicia\", \"Gender\": \"Mujer\", \"Tipo trabajador\": \"Indefinido con preaviso\", \"N employees\": 18, \"Training hours\": 13626.0}, {\"Fabrica\": \"Galicia\", \"Gender\": \"Mujer\", \"Tipo trabajador\": \"No aplica\", \"N employees\": 16, \"Training hours\": 12112.0}, {\"Fabrica\": \"Galicia\", \"Gender\": \"Mujer\", \"Tipo trabajador\": \"Pr\\u00e1cticas\", \"N employees\": 15, \"Training hours\": 11355.0}, {\"Fabrica\": \"Galicia\", \"Gender\": \"Mujer\", \"Tipo trabajador\": \"Subcontratado\", \"N employees\": 12, \"Training hours\": 9084.0}, {\"Fabrica\": \"Kaluga\", \"Gender\": \"Hombre\", \"Tipo trabajador\": \"Cedidos de otras plantas\", \"N employees\": 52, \"Training hours\": 12480.0}, {\"Fabrica\": \"Kaluga\", \"Gender\": \"Hombre\", \"Tipo trabajador\": \"Duraci\\u00f3n Determinada\", \"N employees\": 38, \"Training hours\": 9120.0}, {\"Fabrica\": \"Kaluga\", \"Gender\": \"Hombre\", \"Tipo trabajador\": \"ETT\", \"N employees\": 59, \"Training hours\": 14160.0}, {\"Fabrica\": \"Kaluga\", \"Gender\": \"Hombre\", \"Tipo trabajador\": \"Incidente (no aplica)\", \"N employees\": 49, \"Training hours\": 11760.0}, {\"Fabrica\": \"Kaluga\", \"Gender\": \"Hombre\", \"Tipo trabajador\": \"Indefinido\", \"N employees\": 50, \"Training hours\": 12000.0}, {\"Fabrica\": \"Kaluga\", \"Gender\": \"Hombre\", \"Tipo trabajador\": \"Indefinido con preaviso\", \"N employees\": 41, \"Training hours\": 9840.0}, {\"Fabrica\": \"Kaluga\", \"Gender\": \"Hombre\", \"Tipo trabajador\": \"No aplica\", \"N employees\": 31, \"Training hours\": 7440.0}, {\"Fabrica\": \"Kaluga\", \"Gender\": \"Hombre\", \"Tipo trabajador\": \"Pr\\u00e1cticas\", \"N employees\": 53, \"Training hours\": 12720.0}, {\"Fabrica\": \"Kaluga\", \"Gender\": \"Hombre\", \"Tipo trabajador\": \"Subcontratado\", \"N employees\": 51, \"Training hours\": 12240.0}, {\"Fabrica\": \"Kaluga\", \"Gender\": \"Mujer\", \"Tipo trabajador\": \"Cedidos de otras plantas\", \"N employees\": 10, \"Training hours\": 2400.0}, {\"Fabrica\": \"Kaluga\", \"Gender\": \"Mujer\", \"Tipo trabajador\": \"Duraci\\u00f3n Determinada\", \"N employees\": 2, \"Training hours\": 480.0}, {\"Fabrica\": \"Kaluga\", \"Gender\": \"Mujer\", \"Tipo trabajador\": \"ETT\", \"N employees\": 3, \"Training hours\": 720.0}, {\"Fabrica\": \"Kaluga\", \"Gender\": \"Mujer\", \"Tipo trabajador\": \"Incidente (no aplica)\", \"N employees\": 6, \"Training hours\": 1440.0}, {\"Fabrica\": \"Kaluga\", \"Gender\": \"Mujer\", \"Tipo trabajador\": \"Indefinido\", \"N employees\": 4, \"Training hours\": 960.0}, {\"Fabrica\": \"Kaluga\", \"Gender\": \"Mujer\", \"Tipo trabajador\": \"Indefinido con preaviso\", \"N employees\": 4, \"Training hours\": 960.0}, {\"Fabrica\": \"Kaluga\", \"Gender\": \"Mujer\", \"Tipo trabajador\": \"No aplica\", \"N employees\": 4, \"Training hours\": 960.0}, {\"Fabrica\": \"Kaluga\", \"Gender\": \"Mujer\", \"Tipo trabajador\": \"Pr\\u00e1cticas\", \"N employees\": 5, \"Training hours\": 1200.0}, {\"Fabrica\": \"Kaluga\", \"Gender\": \"Mujer\", \"Tipo trabajador\": \"Subcontratado\", \"N employees\": 8, \"Training hours\": 1920.0}, {\"Fabrica\": \"Loudi\", \"Gender\": \"Hombre\", \"Tipo trabajador\": \"Cedidos de otras plantas\", \"N employees\": 36, \"Training hours\": 55584.0}, {\"Fabrica\": \"Loudi\", \"Gender\": \"Hombre\", \"Tipo trabajador\": \"Duraci\\u00f3n Determinada\", \"N employees\": 68, \"Training hours\": 104992.0}, {\"Fabrica\": \"Loudi\", \"Gender\": \"Hombre\", \"Tipo trabajador\": \"ETT\", \"N employees\": 55, \"Training hours\": 84920.0}, {\"Fabrica\": \"Loudi\", \"Gender\": \"Hombre\", \"Tipo trabajador\": \"Incidente (no aplica)\", \"N employees\": 84, \"Training hours\": 129696.0}, {\"Fabrica\": \"Loudi\", \"Gender\": \"Hombre\", \"Tipo trabajador\": \"Indefinido\", \"N employees\": 109, \"Training hours\": 168296.0}, {\"Fabrica\": \"Loudi\", \"Gender\": \"Hombre\", \"Tipo trabajador\": \"Indefinido con preaviso\", \"N employees\": 40, \"Training hours\": 61760.0}, {\"Fabrica\": \"Loudi\", \"Gender\": \"Hombre\", \"Tipo trabajador\": \"No aplica\", \"N employees\": 37, \"Training hours\": 57128.0}, {\"Fabrica\": \"Loudi\", \"Gender\": \"Hombre\", \"Tipo trabajador\": \"Pr\\u00e1cticas\", \"N employees\": 48, \"Training hours\": 74112.0}, {\"Fabrica\": \"Loudi\", \"Gender\": \"Hombre\", \"Tipo trabajador\": \"Subcontratado\", \"N employees\": 46, \"Training hours\": 71024.0}, {\"Fabrica\": \"Loudi\", \"Gender\": \"Mujer\", \"Tipo trabajador\": \"Cedidos de otras plantas\", \"N employees\": 1, \"Training hours\": 1544.0}, {\"Fabrica\": \"Loudi\", \"Gender\": \"Mujer\", \"Tipo trabajador\": \"Duraci\\u00f3n Determinada\", \"N employees\": 3, \"Training hours\": 4632.0}, {\"Fabrica\": \"Loudi\", \"Gender\": \"Mujer\", \"Tipo trabajador\": \"ETT\", \"N employees\": 1, \"Training hours\": 1544.0}, {\"Fabrica\": \"Loudi\", \"Gender\": \"Mujer\", \"Tipo trabajador\": \"Incidente (no aplica)\", \"N employees\": 3, \"Training hours\": 4632.0}, {\"Fabrica\": \"Loudi\", \"Gender\": \"Mujer\", \"Tipo trabajador\": \"Indefinido\", \"N employees\": 8, \"Training hours\": 12352.0}, {\"Fabrica\": \"Loudi\", \"Gender\": \"Mujer\", \"Tipo trabajador\": \"Indefinido con preaviso\", \"N employees\": 1, \"Training hours\": 1544.0}, {\"Fabrica\": \"Loudi\", \"Gender\": \"Mujer\", \"Tipo trabajador\": \"No aplica\", \"N employees\": 9, \"Training hours\": 13896.0}, {\"Fabrica\": \"Loudi\", \"Gender\": \"Mujer\", \"Tipo trabajador\": \"Pr\\u00e1cticas\", \"N employees\": 6, \"Training hours\": 9264.0}, {\"Fabrica\": \"Loudi\", \"Gender\": \"Mujer\", \"Tipo trabajador\": \"Subcontratado\", \"N employees\": 7, \"Training hours\": 10808.0}, {\"Fabrica\": \"Tarragona\", \"Gender\": \"Hombre\", \"Tipo trabajador\": \"Cedidos de otras plantas\", \"N employees\": 49, \"Training hours\": 15582.0}, {\"Fabrica\": \"Tarragona\", \"Gender\": \"Hombre\", \"Tipo trabajador\": \"Duraci\\u00f3n Determinada\", \"N employees\": 55, \"Training hours\": 17490.0}, {\"Fabrica\": \"Tarragona\", \"Gender\": \"Hombre\", \"Tipo trabajador\": \"ETT\", \"N employees\": 48, \"Training hours\": 15264.0}, {\"Fabrica\": \"Tarragona\", \"Gender\": \"Hombre\", \"Tipo trabajador\": \"Incidente (no aplica)\", \"N employees\": 65, \"Training hours\": 20670.0}, {\"Fabrica\": \"Tarragona\", \"Gender\": \"Hombre\", \"Tipo trabajador\": \"Indefinido\", \"N employees\": 45, \"Training hours\": 14310.0}, {\"Fabrica\": \"Tarragona\", \"Gender\": \"Hombre\", \"Tipo trabajador\": \"Indefinido con preaviso\", \"N employees\": 54, \"Training hours\": 17172.0}, {\"Fabrica\": \"Tarragona\", \"Gender\": \"Hombre\", \"Tipo trabajador\": \"No aplica\", \"N employees\": 30, \"Training hours\": 9540.0}, {\"Fabrica\": \"Tarragona\", \"Gender\": \"Hombre\", \"Tipo trabajador\": \"Pr\\u00e1cticas\", \"N employees\": 39, \"Training hours\": 12402.0}, {\"Fabrica\": \"Tarragona\", \"Gender\": \"Hombre\", \"Tipo trabajador\": \"Subcontratado\", \"N employees\": 41, \"Training hours\": 13038.0}, {\"Fabrica\": \"Tarragona\", \"Gender\": \"Mujer\", \"Tipo trabajador\": \"Cedidos de otras plantas\", \"N employees\": 8, \"Training hours\": 2544.0}, {\"Fabrica\": \"Tarragona\", \"Gender\": \"Mujer\", \"Tipo trabajador\": \"Duraci\\u00f3n Determinada\", \"N employees\": 5, \"Training hours\": 1590.0}, {\"Fabrica\": \"Tarragona\", \"Gender\": \"Mujer\", \"Tipo trabajador\": \"ETT\", \"N employees\": 4, \"Training hours\": 1272.0}, {\"Fabrica\": \"Tarragona\", \"Gender\": \"Mujer\", \"Tipo trabajador\": \"Incidente (no aplica)\", \"N employees\": 4, \"Training hours\": 1272.0}, {\"Fabrica\": \"Tarragona\", \"Gender\": \"Mujer\", \"Tipo trabajador\": \"Indefinido\", \"N employees\": 5, \"Training hours\": 1590.0}, {\"Fabrica\": \"Tarragona\", \"Gender\": \"Mujer\", \"Tipo trabajador\": \"Indefinido con preaviso\", \"N employees\": 2, \"Training hours\": 636.0}, {\"Fabrica\": \"Tarragona\", \"Gender\": \"Mujer\", \"Tipo trabajador\": \"No aplica\", \"N employees\": 5, \"Training hours\": 1590.0}, {\"Fabrica\": \"Tarragona\", \"Gender\": \"Mujer\", \"Tipo trabajador\": \"Pr\\u00e1cticas\", \"N employees\": 4, \"Training hours\": 1272.0}, {\"Fabrica\": \"Tarragona\", \"Gender\": \"Mujer\", \"Tipo trabajador\": \"Subcontratado\", \"N employees\": 3, \"Training hours\": 954.0}]}}, {\"theme\": \"latimes\", \"mode\": \"vega-lite\"});\n",
              "</script>"
            ]
          },
          "metadata": {
            "tags": []
          },
          "execution_count": 199
        }
      ]
    },
    {
      "cell_type": "code",
      "metadata": {
        "colab": {
          "base_uri": "https://localhost:8080/"
        },
        "id": "VH_TzHpcqxGB",
        "outputId": "fa3e8834-9fb3-401b-c689-557d2e7e1792"
      },
      "source": [
        "staff.columns"
      ],
      "execution_count": 200,
      "outputs": [
        {
          "output_type": "execute_result",
          "data": {
            "text/plain": [
              "Index(['Codigo accidentado', 'Turno', 'Gender', 'Planta', 'Tipo accidente',\n",
              "       'Tipo trabajador', 'Fabrica', 'Tecnología', 'Pais',\n",
              "       'Horas Presencia Efectiva Subcontratados',\n",
              "       'Horas Presencia Efectiva ETTs', 'Horas Formacion Seguridad Propios',\n",
              "       'Horas Formacion Seguridad ETTs', 'Accident', 'wk_position', 'Age',\n",
              "       'Severity', 'Accident_place', 'N employees', 'Training hours'],\n",
              "      dtype='object')"
            ]
          },
          "metadata": {
            "tags": []
          },
          "execution_count": 200
        }
      ]
    },
    {
      "cell_type": "code",
      "metadata": {
        "colab": {
          "base_uri": "https://localhost:8080/",
          "height": 205
        },
        "id": "-DG4sqwLqvHq",
        "outputId": "62fcb737-a7e4-4089-abaa-88c952a98f37"
      },
      "source": [
        "n_employees = staff.groupby(by=['Age', 'Gender']).agg('sum')\n",
        "\n",
        "n_employees = n_employees.reset_index()\n",
        "n_employees.drop(columns={'Planta', 'Horas Presencia Efectiva Subcontratados',\n",
        "       'Horas Presencia Efectiva ETTs', 'Horas Formacion Seguridad Propios',\n",
        "       'Horas Formacion Seguridad ETTs'}, inplace=True)\n",
        "n_employees.head()"
      ],
      "execution_count": 201,
      "outputs": [
        {
          "output_type": "execute_result",
          "data": {
            "text/html": [
              "<div>\n",
              "<style scoped>\n",
              "    .dataframe tbody tr th:only-of-type {\n",
              "        vertical-align: middle;\n",
              "    }\n",
              "\n",
              "    .dataframe tbody tr th {\n",
              "        vertical-align: top;\n",
              "    }\n",
              "\n",
              "    .dataframe thead th {\n",
              "        text-align: right;\n",
              "    }\n",
              "</style>\n",
              "<table border=\"1\" class=\"dataframe\">\n",
              "  <thead>\n",
              "    <tr style=\"text-align: right;\">\n",
              "      <th></th>\n",
              "      <th>Age</th>\n",
              "      <th>Gender</th>\n",
              "      <th>N employees</th>\n",
              "      <th>Training hours</th>\n",
              "    </tr>\n",
              "  </thead>\n",
              "  <tbody>\n",
              "    <tr>\n",
              "      <th>0</th>\n",
              "      <td>Entre 30-50</td>\n",
              "      <td>Hombre</td>\n",
              "      <td>8750</td>\n",
              "      <td>7604675.0</td>\n",
              "    </tr>\n",
              "    <tr>\n",
              "      <th>1</th>\n",
              "      <td>Entre 30-50</td>\n",
              "      <td>Mujer</td>\n",
              "      <td>794</td>\n",
              "      <td>634599.0</td>\n",
              "    </tr>\n",
              "    <tr>\n",
              "      <th>2</th>\n",
              "      <td>Mayor 50</td>\n",
              "      <td>Hombre</td>\n",
              "      <td>6705</td>\n",
              "      <td>5977392.0</td>\n",
              "    </tr>\n",
              "    <tr>\n",
              "      <th>3</th>\n",
              "      <td>Mayor 50</td>\n",
              "      <td>Mujer</td>\n",
              "      <td>586</td>\n",
              "      <td>451456.0</td>\n",
              "    </tr>\n",
              "    <tr>\n",
              "      <th>4</th>\n",
              "      <td>Menor 30</td>\n",
              "      <td>Hombre</td>\n",
              "      <td>4010</td>\n",
              "      <td>3540403.0</td>\n",
              "    </tr>\n",
              "  </tbody>\n",
              "</table>\n",
              "</div>"
            ],
            "text/plain": [
              "           Age  Gender  N employees  Training hours\n",
              "0  Entre 30-50  Hombre         8750       7604675.0\n",
              "1  Entre 30-50   Mujer          794        634599.0\n",
              "2     Mayor 50  Hombre         6705       5977392.0\n",
              "3     Mayor 50   Mujer          586        451456.0\n",
              "4     Menor 30  Hombre         4010       3540403.0"
            ]
          },
          "metadata": {
            "tags": []
          },
          "execution_count": 201
        }
      ]
    },
    {
      "cell_type": "markdown",
      "metadata": {
        "id": "U0_iNj0GrfpC"
      },
      "source": [
        "The majority of the employees are Men between 30-50 years.\n",
        "\n",
        "Between women the most common age group is between 30-50 as well."
      ]
    },
    {
      "cell_type": "code",
      "metadata": {
        "colab": {
          "base_uri": "https://localhost:8080/",
          "height": 417
        },
        "id": "gEXaFN8Jq55d",
        "outputId": "9ad1cdb2-0801-46f5-89ad-705fc4f8372b"
      },
      "source": [
        "alt.Chart(n_employees, title=\"Nº employees by Age and Gender\").mark_bar().encode( \n",
        "    y = 'N employees',\n",
        "    x ='Age',\n",
        "     color='Gender').properties(\n",
        "    width=700,\n",
        "    height=300\n",
        ")"
      ],
      "execution_count": 202,
      "outputs": [
        {
          "output_type": "execute_result",
          "data": {
            "text/plain": [
              "alt.Chart(...)"
            ],
            "text/html": [
              "\n",
              "<div id=\"altair-viz-167ddf760f4a422b9fd1c2b57df59e05\"></div>\n",
              "<script type=\"text/javascript\">\n",
              "  (function(spec, embedOpt){\n",
              "    let outputDiv = document.currentScript.previousElementSibling;\n",
              "    if (outputDiv.id !== \"altair-viz-167ddf760f4a422b9fd1c2b57df59e05\") {\n",
              "      outputDiv = document.getElementById(\"altair-viz-167ddf760f4a422b9fd1c2b57df59e05\");\n",
              "    }\n",
              "    const paths = {\n",
              "      \"vega\": \"https://cdn.jsdelivr.net/npm//vega@5?noext\",\n",
              "      \"vega-lib\": \"https://cdn.jsdelivr.net/npm//vega-lib?noext\",\n",
              "      \"vega-lite\": \"https://cdn.jsdelivr.net/npm//vega-lite@4.8.1?noext\",\n",
              "      \"vega-embed\": \"https://cdn.jsdelivr.net/npm//vega-embed@6?noext\",\n",
              "    };\n",
              "\n",
              "    function loadScript(lib) {\n",
              "      return new Promise(function(resolve, reject) {\n",
              "        var s = document.createElement('script');\n",
              "        s.src = paths[lib];\n",
              "        s.async = true;\n",
              "        s.onload = () => resolve(paths[lib]);\n",
              "        s.onerror = () => reject(`Error loading script: ${paths[lib]}`);\n",
              "        document.getElementsByTagName(\"head\")[0].appendChild(s);\n",
              "      });\n",
              "    }\n",
              "\n",
              "    function showError(err) {\n",
              "      outputDiv.innerHTML = `<div class=\"error\" style=\"color:red;\">${err}</div>`;\n",
              "      throw err;\n",
              "    }\n",
              "\n",
              "    function displayChart(vegaEmbed) {\n",
              "      vegaEmbed(outputDiv, spec, embedOpt)\n",
              "        .catch(err => showError(`Javascript Error: ${err.message}<br>This usually means there's a typo in your chart specification. See the javascript console for the full traceback.`));\n",
              "    }\n",
              "\n",
              "    if(typeof define === \"function\" && define.amd) {\n",
              "      requirejs.config({paths});\n",
              "      require([\"vega-embed\"], displayChart, err => showError(`Error loading script: ${err.message}`));\n",
              "    } else if (typeof vegaEmbed === \"function\") {\n",
              "      displayChart(vegaEmbed);\n",
              "    } else {\n",
              "      loadScript(\"vega\")\n",
              "        .then(() => loadScript(\"vega-lite\"))\n",
              "        .then(() => loadScript(\"vega-embed\"))\n",
              "        .catch(showError)\n",
              "        .then(() => displayChart(vegaEmbed));\n",
              "    }\n",
              "  })({\"config\": {\"view\": {\"continuousWidth\": 400, \"continuousHeight\": 300}}, \"data\": {\"name\": \"data-76ad5ed699257ca38d00f2b973cec486\"}, \"mark\": \"bar\", \"encoding\": {\"color\": {\"type\": \"nominal\", \"field\": \"Gender\"}, \"x\": {\"type\": \"nominal\", \"field\": \"Age\"}, \"y\": {\"type\": \"quantitative\", \"field\": \"N employees\"}}, \"height\": 300, \"title\": \"N\\u00ba employees by Age and Gender\", \"width\": 700, \"$schema\": \"https://vega.github.io/schema/vega-lite/v4.8.1.json\", \"datasets\": {\"data-76ad5ed699257ca38d00f2b973cec486\": [{\"Age\": \"Entre 30-50\", \"Gender\": \"Hombre\", \"N employees\": 8750, \"Training hours\": 7604675.0}, {\"Age\": \"Entre 30-50\", \"Gender\": \"Mujer\", \"N employees\": 794, \"Training hours\": 634599.0}, {\"Age\": \"Mayor 50\", \"Gender\": \"Hombre\", \"N employees\": 6705, \"Training hours\": 5977392.0}, {\"Age\": \"Mayor 50\", \"Gender\": \"Mujer\", \"N employees\": 586, \"Training hours\": 451456.0}, {\"Age\": \"Menor 30\", \"Gender\": \"Hombre\", \"N employees\": 4010, \"Training hours\": 3540403.0}, {\"Age\": \"Menor 30\", \"Gender\": \"Mujer\", \"N employees\": 365, \"Training hours\": 301686.0}]}}, {\"theme\": \"latimes\", \"mode\": \"vega-lite\"});\n",
              "</script>"
            ]
          },
          "metadata": {
            "tags": []
          },
          "execution_count": 202
        }
      ]
    },
    {
      "cell_type": "code",
      "metadata": {
        "colab": {
          "base_uri": "https://localhost:8080/",
          "height": 205
        },
        "id": "TlYVYctBr6EZ",
        "outputId": "e7ad5ce2-fa03-4da6-b50a-4556e18df9be"
      },
      "source": [
        "n_employees = staff.groupby(by=['wk_position']).agg('sum')\n",
        "\n",
        "n_employees = n_employees.reset_index()\n",
        "n_employees.drop(columns={'Planta', 'Horas Presencia Efectiva Subcontratados',\n",
        "       'Horas Presencia Efectiva ETTs', 'Horas Formacion Seguridad Propios',\n",
        "       'Horas Formacion Seguridad ETTs'}, inplace=True)\n",
        "n_employees.head()"
      ],
      "execution_count": 203,
      "outputs": [
        {
          "output_type": "execute_result",
          "data": {
            "text/html": [
              "<div>\n",
              "<style scoped>\n",
              "    .dataframe tbody tr th:only-of-type {\n",
              "        vertical-align: middle;\n",
              "    }\n",
              "\n",
              "    .dataframe tbody tr th {\n",
              "        vertical-align: top;\n",
              "    }\n",
              "\n",
              "    .dataframe thead th {\n",
              "        text-align: right;\n",
              "    }\n",
              "</style>\n",
              "<table border=\"1\" class=\"dataframe\">\n",
              "  <thead>\n",
              "    <tr style=\"text-align: right;\">\n",
              "      <th></th>\n",
              "      <th>wk_position</th>\n",
              "      <th>N employees</th>\n",
              "      <th>Training hours</th>\n",
              "    </tr>\n",
              "  </thead>\n",
              "  <tbody>\n",
              "    <tr>\n",
              "      <th>0</th>\n",
              "      <td>AUXILIAR DE LINEA</td>\n",
              "      <td>438</td>\n",
              "      <td>397593.0</td>\n",
              "    </tr>\n",
              "    <tr>\n",
              "      <th>1</th>\n",
              "      <td>Anlagenführer Laser 5</td>\n",
              "      <td>410</td>\n",
              "      <td>335613.0</td>\n",
              "    </tr>\n",
              "    <tr>\n",
              "      <th>2</th>\n",
              "      <td>Auxiliar de producción</td>\n",
              "      <td>397</td>\n",
              "      <td>335025.0</td>\n",
              "    </tr>\n",
              "    <tr>\n",
              "      <th>3</th>\n",
              "      <td>Auxiliares de Logistica\\r\\nOperador de Grua Te...</td>\n",
              "      <td>438</td>\n",
              "      <td>378078.0</td>\n",
              "    </tr>\n",
              "    <tr>\n",
              "      <th>4</th>\n",
              "      <td>Camionero</td>\n",
              "      <td>432</td>\n",
              "      <td>360219.0</td>\n",
              "    </tr>\n",
              "  </tbody>\n",
              "</table>\n",
              "</div>"
            ],
            "text/plain": [
              "                                         wk_position  ...  Training hours\n",
              "0                                  AUXILIAR DE LINEA  ...        397593.0\n",
              "1                              Anlagenführer Laser 5  ...        335613.0\n",
              "2                             Auxiliar de producción  ...        335025.0\n",
              "3  Auxiliares de Logistica\\r\\nOperador de Grua Te...  ...        378078.0\n",
              "4                                          Camionero  ...        360219.0\n",
              "\n",
              "[5 rows x 3 columns]"
            ]
          },
          "metadata": {
            "tags": []
          },
          "execution_count": 203
        }
      ]
    },
    {
      "cell_type": "code",
      "metadata": {
        "id": "VfLea52psWUz"
      },
      "source": [
        "n_employees = n_employees.sort_values(by='N employees', ascending=False)"
      ],
      "execution_count": 204,
      "outputs": []
    },
    {
      "cell_type": "code",
      "metadata": {
        "colab": {
          "base_uri": "https://localhost:8080/",
          "height": 362
        },
        "id": "kfVx-ZTVwJ-M",
        "outputId": "a67a8ef6-a3d1-4eb8-9009-146723750b6e"
      },
      "source": [
        "n_employees.head(10)"
      ],
      "execution_count": 205,
      "outputs": [
        {
          "output_type": "execute_result",
          "data": {
            "text/html": [
              "<div>\n",
              "<style scoped>\n",
              "    .dataframe tbody tr th:only-of-type {\n",
              "        vertical-align: middle;\n",
              "    }\n",
              "\n",
              "    .dataframe tbody tr th {\n",
              "        vertical-align: top;\n",
              "    }\n",
              "\n",
              "    .dataframe thead th {\n",
              "        text-align: right;\n",
              "    }\n",
              "</style>\n",
              "<table border=\"1\" class=\"dataframe\">\n",
              "  <thead>\n",
              "    <tr style=\"text-align: right;\">\n",
              "      <th></th>\n",
              "      <th>wk_position</th>\n",
              "      <th>N employees</th>\n",
              "      <th>Training hours</th>\n",
              "    </tr>\n",
              "  </thead>\n",
              "  <tbody>\n",
              "    <tr>\n",
              "      <th>20</th>\n",
              "      <td>Gruista de caldera y limpieza de caldera</td>\n",
              "      <td>489</td>\n",
              "      <td>398344.0</td>\n",
              "    </tr>\n",
              "    <tr>\n",
              "      <th>29</th>\n",
              "      <td>MAQUINISTA Y AYUDANTE TRANSVERSAL 4</td>\n",
              "      <td>474</td>\n",
              "      <td>435509.0</td>\n",
              "    </tr>\n",
              "    <tr>\n",
              "      <th>40</th>\n",
              "      <td>Operator / Stacker Operator</td>\n",
              "      <td>466</td>\n",
              "      <td>426280.0</td>\n",
              "    </tr>\n",
              "    <tr>\n",
              "      <th>45</th>\n",
              "      <td>Titular y ayudantes de Perfiladora de Dimeco P...</td>\n",
              "      <td>464</td>\n",
              "      <td>402693.0</td>\n",
              "    </tr>\n",
              "    <tr>\n",
              "      <th>16</th>\n",
              "      <td>GRUISTA DE CALDERA Y OPERARIOS DE LIMPIEZA</td>\n",
              "      <td>461</td>\n",
              "      <td>423483.0</td>\n",
              "    </tr>\n",
              "    <tr>\n",
              "      <th>22</th>\n",
              "      <td>Gruista y limpieza de caldera</td>\n",
              "      <td>451</td>\n",
              "      <td>385403.0</td>\n",
              "    </tr>\n",
              "    <tr>\n",
              "      <th>31</th>\n",
              "      <td>Maquinista</td>\n",
              "      <td>447</td>\n",
              "      <td>399939.0</td>\n",
              "    </tr>\n",
              "    <tr>\n",
              "      <th>30</th>\n",
              "      <td>Maestro</td>\n",
              "      <td>447</td>\n",
              "      <td>388254.0</td>\n",
              "    </tr>\n",
              "    <tr>\n",
              "      <th>32</th>\n",
              "      <td>Maquinista perfiladora</td>\n",
              "      <td>445</td>\n",
              "      <td>377161.0</td>\n",
              "    </tr>\n",
              "    <tr>\n",
              "      <th>26</th>\n",
              "      <td>Lkw-Fahrer</td>\n",
              "      <td>445</td>\n",
              "      <td>372135.0</td>\n",
              "    </tr>\n",
              "  </tbody>\n",
              "</table>\n",
              "</div>"
            ],
            "text/plain": [
              "                                          wk_position  ...  Training hours\n",
              "20           Gruista de caldera y limpieza de caldera  ...        398344.0\n",
              "29                MAQUINISTA Y AYUDANTE TRANSVERSAL 4  ...        435509.0\n",
              "40                        Operator / Stacker Operator  ...        426280.0\n",
              "45  Titular y ayudantes de Perfiladora de Dimeco P...  ...        402693.0\n",
              "16         GRUISTA DE CALDERA Y OPERARIOS DE LIMPIEZA  ...        423483.0\n",
              "22                      Gruista y limpieza de caldera  ...        385403.0\n",
              "31                                         Maquinista  ...        399939.0\n",
              "30                                            Maestro  ...        388254.0\n",
              "32                             Maquinista perfiladora  ...        377161.0\n",
              "26                                         Lkw-Fahrer  ...        372135.0\n",
              "\n",
              "[10 rows x 3 columns]"
            ]
          },
          "metadata": {
            "tags": []
          },
          "execution_count": 205
        }
      ]
    },
    {
      "cell_type": "code",
      "metadata": {
        "colab": {
          "base_uri": "https://localhost:8080/"
        },
        "id": "ncmI6lSpv0wu",
        "outputId": "3ac3d1d6-b8ea-4201-8164-78632543622c"
      },
      "source": [
        "len(n_employees['wk_position'].unique()) ## total of unique work positions"
      ],
      "execution_count": 206,
      "outputs": [
        {
          "output_type": "execute_result",
          "data": {
            "text/plain": [
              "49"
            ]
          },
          "metadata": {
            "tags": []
          },
          "execution_count": 206
        }
      ]
    },
    {
      "cell_type": "markdown",
      "metadata": {
        "id": "QVr10qrjwWak"
      },
      "source": [
        "On the chart below we can see the work position are pretty uniform in relation to the nº of employees."
      ]
    },
    {
      "cell_type": "code",
      "metadata": {
        "colab": {
          "base_uri": "https://localhost:8080/",
          "height": 417
        },
        "id": "T95b5rIosOIQ",
        "outputId": "7eb6774d-b618-4a90-ce1b-4b2de746296c"
      },
      "source": [
        "alt.Chart(n_employees, title=\"Nº employees by Work position\").mark_bar().encode( \n",
        "    y = 'N employees',\n",
        "    x ='wk_position',\n",
        "     ).properties(\n",
        "    width=1000,\n",
        "    height=300\n",
        ")\n",
        "     "
      ],
      "execution_count": 207,
      "outputs": [
        {
          "output_type": "execute_result",
          "data": {
            "text/plain": [
              "alt.Chart(...)"
            ],
            "text/html": [
              "\n",
              "<div id=\"altair-viz-02376fed76f848d491966560516d8931\"></div>\n",
              "<script type=\"text/javascript\">\n",
              "  (function(spec, embedOpt){\n",
              "    let outputDiv = document.currentScript.previousElementSibling;\n",
              "    if (outputDiv.id !== \"altair-viz-02376fed76f848d491966560516d8931\") {\n",
              "      outputDiv = document.getElementById(\"altair-viz-02376fed76f848d491966560516d8931\");\n",
              "    }\n",
              "    const paths = {\n",
              "      \"vega\": \"https://cdn.jsdelivr.net/npm//vega@5?noext\",\n",
              "      \"vega-lib\": \"https://cdn.jsdelivr.net/npm//vega-lib?noext\",\n",
              "      \"vega-lite\": \"https://cdn.jsdelivr.net/npm//vega-lite@4.8.1?noext\",\n",
              "      \"vega-embed\": \"https://cdn.jsdelivr.net/npm//vega-embed@6?noext\",\n",
              "    };\n",
              "\n",
              "    function loadScript(lib) {\n",
              "      return new Promise(function(resolve, reject) {\n",
              "        var s = document.createElement('script');\n",
              "        s.src = paths[lib];\n",
              "        s.async = true;\n",
              "        s.onload = () => resolve(paths[lib]);\n",
              "        s.onerror = () => reject(`Error loading script: ${paths[lib]}`);\n",
              "        document.getElementsByTagName(\"head\")[0].appendChild(s);\n",
              "      });\n",
              "    }\n",
              "\n",
              "    function showError(err) {\n",
              "      outputDiv.innerHTML = `<div class=\"error\" style=\"color:red;\">${err}</div>`;\n",
              "      throw err;\n",
              "    }\n",
              "\n",
              "    function displayChart(vegaEmbed) {\n",
              "      vegaEmbed(outputDiv, spec, embedOpt)\n",
              "        .catch(err => showError(`Javascript Error: ${err.message}<br>This usually means there's a typo in your chart specification. See the javascript console for the full traceback.`));\n",
              "    }\n",
              "\n",
              "    if(typeof define === \"function\" && define.amd) {\n",
              "      requirejs.config({paths});\n",
              "      require([\"vega-embed\"], displayChart, err => showError(`Error loading script: ${err.message}`));\n",
              "    } else if (typeof vegaEmbed === \"function\") {\n",
              "      displayChart(vegaEmbed);\n",
              "    } else {\n",
              "      loadScript(\"vega\")\n",
              "        .then(() => loadScript(\"vega-lite\"))\n",
              "        .then(() => loadScript(\"vega-embed\"))\n",
              "        .catch(showError)\n",
              "        .then(() => displayChart(vegaEmbed));\n",
              "    }\n",
              "  })({\"config\": {\"view\": {\"continuousWidth\": 400, \"continuousHeight\": 300}}, \"data\": {\"name\": \"data-a9e0c9910afc5da8505163abd05795fc\"}, \"mark\": \"bar\", \"encoding\": {\"x\": {\"type\": \"nominal\", \"field\": \"wk_position\"}, \"y\": {\"type\": \"quantitative\", \"field\": \"N employees\"}}, \"height\": 300, \"title\": \"N\\u00ba employees by Work position\", \"width\": 1000, \"$schema\": \"https://vega.github.io/schema/vega-lite/v4.8.1.json\", \"datasets\": {\"data-a9e0c9910afc5da8505163abd05795fc\": [{\"wk_position\": \"Gruista de caldera y limpieza de caldera\", \"N employees\": 489, \"Training hours\": 398344.0}, {\"wk_position\": \"MAQUINISTA Y AYUDANTE TRANSVERSAL 4\", \"N employees\": 474, \"Training hours\": 435509.0}, {\"wk_position\": \"Operator / Stacker Operator\", \"N employees\": 466, \"Training hours\": 426280.0}, {\"wk_position\": \"Titular y ayudantes de Perfiladora de Dimeco Perfi012\", \"N employees\": 464, \"Training hours\": 402693.0}, {\"wk_position\": \"GRUISTA DE CALDERA Y OPERARIOS DE LIMPIEZA\", \"N employees\": 461, \"Training hours\": 423483.0}, {\"wk_position\": \"Gruista y limpieza de caldera\", \"N employees\": 451, \"Training hours\": 385403.0}, {\"wk_position\": \"Maquinista\", \"N employees\": 447, \"Training hours\": 399939.0}, {\"wk_position\": \"Maestro\", \"N employees\": 447, \"Training hours\": 388254.0}, {\"wk_position\": \"Maquinista perfiladora\", \"N employees\": 445, \"Training hours\": 377161.0}, {\"wk_position\": \"Lkw-Fahrer\", \"N employees\": 445, \"Training hours\": 372135.0}, {\"wk_position\": \"LONGI009\", \"N employees\": 444, \"Training hours\": 376525.0}, {\"wk_position\": \"Gruista Almacenes\", \"N employees\": 443, \"Training hours\": 392801.0}, {\"wk_position\": \"LINEAS DE CORTE LONGITUDINAL\", \"N employees\": 442, \"Training hours\": 367680.0}, {\"wk_position\": \"Operadores limpieza de caldera y gruista de caldera\", \"N employees\": 442, \"Training hours\": 407087.0}, {\"wk_position\": \"plegador\", \"N employees\": 442, \"Training hours\": 394606.0}, {\"wk_position\": \"Embalador 1 (en capacitaci\\u00f3n)\", \"N employees\": 442, \"Training hours\": 408797.0}, {\"wk_position\": \"Supervisor\", \"N employees\": 441, \"Training hours\": 393899.0}, {\"wk_position\": \"Maschinenbediener/-einrichter Presse 5\", \"N employees\": 441, \"Training hours\": 415683.0}, {\"wk_position\": \"Director de produccci\\u00f3n\", \"N employees\": 440, \"Training hours\": 366423.0}, {\"wk_position\": \"AUXILIAR DE LINEA\", \"N employees\": 438, \"Training hours\": 397593.0}, {\"wk_position\": \"Programador\", \"N employees\": 438, \"Training hours\": 371107.0}, {\"wk_position\": \"Gruista LONGI004 y LONGI008\", \"N employees\": 438, \"Training hours\": 391855.0}, {\"wk_position\": \"Gruista de caldera y operadores de limpieza\", \"N employees\": 438, \"Training hours\": 386697.0}, {\"wk_position\": \"Auxiliares de Logistica\\r\\nOperador de Grua Telescopica\", \"N employees\": 438, \"Training hours\": 378078.0}, {\"wk_position\": \"OPERARIOS DE CARGA\", \"N employees\": 436, \"Training hours\": 312372.0}, {\"wk_position\": \"Pontonero\", \"N employees\": 435, \"Training hours\": 376519.0}, {\"wk_position\": \"Flejador L\\u00ednea Corte Prensa I\", \"N employees\": 434, \"Training hours\": 366911.0}, {\"wk_position\": \"Camionero\", \"N employees\": 432, \"Training hours\": 360219.0}, {\"wk_position\": \"Empaquetador\", \"N employees\": 431, \"Training hours\": 355068.0}, {\"wk_position\": \"Operador de Embalagem\", \"N employees\": 431, \"Training hours\": 392725.0}, {\"wk_position\": \"Flejador-embalador\", \"N employees\": 428, \"Training hours\": 361009.0}, {\"wk_position\": \"L\\u00edneas de Corte Longitudinal\", \"N employees\": 426, \"Training hours\": 377916.0}, {\"wk_position\": \"Titular LCL\", \"N employees\": 426, \"Training hours\": 361452.0}, {\"wk_position\": \"L\\u00edder de Logistica y Planeaci\\u00f3n\", \"N employees\": 426, \"Training hours\": 369120.0}, {\"wk_position\": \"Gruista \\u00e1cido\", \"N employees\": 425, \"Training hours\": 380757.0}, {\"wk_position\": \"Carretillero\", \"N employees\": 424, \"Training hours\": 366854.0}, {\"wk_position\": \"Embalaje del material en la l\\u00ednea de embalaje, cliente: Hydrapres S.A\", \"N employees\": 421, \"Training hours\": 346561.0}, {\"wk_position\": \"Director Comercial Planta\", \"N employees\": 421, \"Training hours\": 381469.0}, {\"wk_position\": \"GRUISTA LONGI004-008+MANTENIMIENTO+MAQUINISTA LONGI008\", \"N employees\": 418, \"Training hours\": 401980.0}, {\"wk_position\": \"Working on Press\", \"N employees\": 415, \"Training hours\": 351106.0}, {\"wk_position\": \"Ninguno de los implicados desempe\\u00f1aban funciones habituales en la l\\u00ednea donde se produjo el incidente.\", \"N employees\": 413, \"Training hours\": 363345.0}, {\"wk_position\": \"Montacarguista (en entrenamiento)\", \"N employees\": 410, \"Training hours\": 379560.0}, {\"wk_position\": \"Anlagenf\\u00fchrer Laser 5\", \"N employees\": 410, \"Training hours\": 335613.0}, {\"wk_position\": \"T\\u00e9cnico de Mantenimiento\", \"N employees\": 408, \"Training hours\": 361733.0}, {\"wk_position\": \"Cargador/descargador\", \"N employees\": 407, \"Training hours\": 343568.0}, {\"wk_position\": \"Flejador LONGI001\", \"N employees\": 404, \"Training hours\": 351711.0}, {\"wk_position\": \"Auxiliar de producci\\u00f3n\", \"N employees\": 397, \"Training hours\": 335025.0}, {\"wk_position\": \"Conductor Tren\", \"N employees\": 393, \"Training hours\": 374197.0}, {\"wk_position\": \"Operador de Log\\u00edstica\", \"N employees\": 383, \"Training hours\": 345389.0}]}}, {\"theme\": \"latimes\", \"mode\": \"vega-lite\"});\n",
              "</script>"
            ]
          },
          "metadata": {
            "tags": []
          },
          "execution_count": 207
        }
      ]
    },
    {
      "cell_type": "code",
      "metadata": {
        "colab": {
          "base_uri": "https://localhost:8080/",
          "height": 362
        },
        "id": "dW7s9b7B2SzR",
        "outputId": "caa6aa8a-1501-40f8-86bc-7fc31f2f72cf"
      },
      "source": [
        "## we are going to see in detail the first 10 positions by gender\n",
        "\n",
        "n_employees = staff.groupby(by=['wk_position', 'Gender']).agg('sum')\n",
        "\n",
        "n_employees = n_employees.reset_index()\n",
        "n_employees.drop(columns={'Planta', 'Horas Presencia Efectiva Subcontratados',\n",
        "       'Horas Presencia Efectiva ETTs', 'Horas Formacion Seguridad Propios',\n",
        "       'Horas Formacion Seguridad ETTs'}, inplace=True)\n",
        "\n",
        "n_employees = n_employees.head(10)\n",
        "\n",
        "n_employees"
      ],
      "execution_count": 212,
      "outputs": [
        {
          "output_type": "execute_result",
          "data": {
            "text/html": [
              "<div>\n",
              "<style scoped>\n",
              "    .dataframe tbody tr th:only-of-type {\n",
              "        vertical-align: middle;\n",
              "    }\n",
              "\n",
              "    .dataframe tbody tr th {\n",
              "        vertical-align: top;\n",
              "    }\n",
              "\n",
              "    .dataframe thead th {\n",
              "        text-align: right;\n",
              "    }\n",
              "</style>\n",
              "<table border=\"1\" class=\"dataframe\">\n",
              "  <thead>\n",
              "    <tr style=\"text-align: right;\">\n",
              "      <th></th>\n",
              "      <th>wk_position</th>\n",
              "      <th>Gender</th>\n",
              "      <th>N employees</th>\n",
              "      <th>Training hours</th>\n",
              "    </tr>\n",
              "  </thead>\n",
              "  <tbody>\n",
              "    <tr>\n",
              "      <th>0</th>\n",
              "      <td>AUXILIAR DE LINEA</td>\n",
              "      <td>Hombre</td>\n",
              "      <td>408</td>\n",
              "      <td>371036.0</td>\n",
              "    </tr>\n",
              "    <tr>\n",
              "      <th>1</th>\n",
              "      <td>AUXILIAR DE LINEA</td>\n",
              "      <td>Mujer</td>\n",
              "      <td>30</td>\n",
              "      <td>26557.0</td>\n",
              "    </tr>\n",
              "    <tr>\n",
              "      <th>2</th>\n",
              "      <td>Anlagenführer Laser 5</td>\n",
              "      <td>Hombre</td>\n",
              "      <td>378</td>\n",
              "      <td>311498.0</td>\n",
              "    </tr>\n",
              "    <tr>\n",
              "      <th>3</th>\n",
              "      <td>Anlagenführer Laser 5</td>\n",
              "      <td>Mujer</td>\n",
              "      <td>32</td>\n",
              "      <td>24115.0</td>\n",
              "    </tr>\n",
              "    <tr>\n",
              "      <th>4</th>\n",
              "      <td>Auxiliar de producción</td>\n",
              "      <td>Hombre</td>\n",
              "      <td>365</td>\n",
              "      <td>305677.0</td>\n",
              "    </tr>\n",
              "    <tr>\n",
              "      <th>5</th>\n",
              "      <td>Auxiliar de producción</td>\n",
              "      <td>Mujer</td>\n",
              "      <td>32</td>\n",
              "      <td>29348.0</td>\n",
              "    </tr>\n",
              "    <tr>\n",
              "      <th>6</th>\n",
              "      <td>Auxiliares de Logistica\\r\\nOperador de Grua Te...</td>\n",
              "      <td>Hombre</td>\n",
              "      <td>407</td>\n",
              "      <td>354787.0</td>\n",
              "    </tr>\n",
              "    <tr>\n",
              "      <th>7</th>\n",
              "      <td>Auxiliares de Logistica\\r\\nOperador de Grua Te...</td>\n",
              "      <td>Mujer</td>\n",
              "      <td>31</td>\n",
              "      <td>23291.0</td>\n",
              "    </tr>\n",
              "    <tr>\n",
              "      <th>8</th>\n",
              "      <td>Camionero</td>\n",
              "      <td>Hombre</td>\n",
              "      <td>401</td>\n",
              "      <td>334100.0</td>\n",
              "    </tr>\n",
              "    <tr>\n",
              "      <th>9</th>\n",
              "      <td>Camionero</td>\n",
              "      <td>Mujer</td>\n",
              "      <td>31</td>\n",
              "      <td>26119.0</td>\n",
              "    </tr>\n",
              "  </tbody>\n",
              "</table>\n",
              "</div>"
            ],
            "text/plain": [
              "                                         wk_position  ... Training hours\n",
              "0                                  AUXILIAR DE LINEA  ...       371036.0\n",
              "1                                  AUXILIAR DE LINEA  ...        26557.0\n",
              "2                              Anlagenführer Laser 5  ...       311498.0\n",
              "3                              Anlagenführer Laser 5  ...        24115.0\n",
              "4                             Auxiliar de producción  ...       305677.0\n",
              "5                             Auxiliar de producción  ...        29348.0\n",
              "6  Auxiliares de Logistica\\r\\nOperador de Grua Te...  ...       354787.0\n",
              "7  Auxiliares de Logistica\\r\\nOperador de Grua Te...  ...        23291.0\n",
              "8                                          Camionero  ...       334100.0\n",
              "9                                          Camionero  ...        26119.0\n",
              "\n",
              "[10 rows x 4 columns]"
            ]
          },
          "metadata": {
            "tags": []
          },
          "execution_count": 212
        }
      ]
    },
    {
      "cell_type": "code",
      "metadata": {
        "colab": {
          "base_uri": "https://localhost:8080/",
          "height": 417
        },
        "id": "9FScH2op2ceL",
        "outputId": "d781c6b9-78e0-4248-ec66-91065c6b12fb"
      },
      "source": [
        "alt.Chart(n_employees, title=\"Nº employees by Work position\").mark_bar().encode( \n",
        "    y = 'N employees',\n",
        "    x ='wk_position',\n",
        "    color = 'Gender').properties(\n",
        "    width=1300,\n",
        "    height=300\n",
        ")\n",
        "     "
      ],
      "execution_count": 213,
      "outputs": [
        {
          "output_type": "execute_result",
          "data": {
            "text/plain": [
              "alt.Chart(...)"
            ],
            "text/html": [
              "\n",
              "<div id=\"altair-viz-9763c3cabb0e423b8e4a48352f375629\"></div>\n",
              "<script type=\"text/javascript\">\n",
              "  (function(spec, embedOpt){\n",
              "    let outputDiv = document.currentScript.previousElementSibling;\n",
              "    if (outputDiv.id !== \"altair-viz-9763c3cabb0e423b8e4a48352f375629\") {\n",
              "      outputDiv = document.getElementById(\"altair-viz-9763c3cabb0e423b8e4a48352f375629\");\n",
              "    }\n",
              "    const paths = {\n",
              "      \"vega\": \"https://cdn.jsdelivr.net/npm//vega@5?noext\",\n",
              "      \"vega-lib\": \"https://cdn.jsdelivr.net/npm//vega-lib?noext\",\n",
              "      \"vega-lite\": \"https://cdn.jsdelivr.net/npm//vega-lite@4.8.1?noext\",\n",
              "      \"vega-embed\": \"https://cdn.jsdelivr.net/npm//vega-embed@6?noext\",\n",
              "    };\n",
              "\n",
              "    function loadScript(lib) {\n",
              "      return new Promise(function(resolve, reject) {\n",
              "        var s = document.createElement('script');\n",
              "        s.src = paths[lib];\n",
              "        s.async = true;\n",
              "        s.onload = () => resolve(paths[lib]);\n",
              "        s.onerror = () => reject(`Error loading script: ${paths[lib]}`);\n",
              "        document.getElementsByTagName(\"head\")[0].appendChild(s);\n",
              "      });\n",
              "    }\n",
              "\n",
              "    function showError(err) {\n",
              "      outputDiv.innerHTML = `<div class=\"error\" style=\"color:red;\">${err}</div>`;\n",
              "      throw err;\n",
              "    }\n",
              "\n",
              "    function displayChart(vegaEmbed) {\n",
              "      vegaEmbed(outputDiv, spec, embedOpt)\n",
              "        .catch(err => showError(`Javascript Error: ${err.message}<br>This usually means there's a typo in your chart specification. See the javascript console for the full traceback.`));\n",
              "    }\n",
              "\n",
              "    if(typeof define === \"function\" && define.amd) {\n",
              "      requirejs.config({paths});\n",
              "      require([\"vega-embed\"], displayChart, err => showError(`Error loading script: ${err.message}`));\n",
              "    } else if (typeof vegaEmbed === \"function\") {\n",
              "      displayChart(vegaEmbed);\n",
              "    } else {\n",
              "      loadScript(\"vega\")\n",
              "        .then(() => loadScript(\"vega-lite\"))\n",
              "        .then(() => loadScript(\"vega-embed\"))\n",
              "        .catch(showError)\n",
              "        .then(() => displayChart(vegaEmbed));\n",
              "    }\n",
              "  })({\"config\": {\"view\": {\"continuousWidth\": 400, \"continuousHeight\": 300}}, \"data\": {\"name\": \"data-4ed7d102e99d714e34182fead4ed9e09\"}, \"mark\": \"bar\", \"encoding\": {\"color\": {\"type\": \"nominal\", \"field\": \"Gender\"}, \"x\": {\"type\": \"nominal\", \"field\": \"wk_position\"}, \"y\": {\"type\": \"quantitative\", \"field\": \"N employees\"}}, \"height\": 300, \"title\": \"N\\u00ba employees by Work position\", \"width\": 1300, \"$schema\": \"https://vega.github.io/schema/vega-lite/v4.8.1.json\", \"datasets\": {\"data-4ed7d102e99d714e34182fead4ed9e09\": [{\"wk_position\": \"AUXILIAR DE LINEA\", \"Gender\": \"Hombre\", \"N employees\": 408, \"Training hours\": 371036.0}, {\"wk_position\": \"AUXILIAR DE LINEA\", \"Gender\": \"Mujer\", \"N employees\": 30, \"Training hours\": 26557.0}, {\"wk_position\": \"Anlagenf\\u00fchrer Laser 5\", \"Gender\": \"Hombre\", \"N employees\": 378, \"Training hours\": 311498.0}, {\"wk_position\": \"Anlagenf\\u00fchrer Laser 5\", \"Gender\": \"Mujer\", \"N employees\": 32, \"Training hours\": 24115.0}, {\"wk_position\": \"Auxiliar de producci\\u00f3n\", \"Gender\": \"Hombre\", \"N employees\": 365, \"Training hours\": 305677.0}, {\"wk_position\": \"Auxiliar de producci\\u00f3n\", \"Gender\": \"Mujer\", \"N employees\": 32, \"Training hours\": 29348.0}, {\"wk_position\": \"Auxiliares de Logistica\\r\\nOperador de Grua Telescopica\", \"Gender\": \"Hombre\", \"N employees\": 407, \"Training hours\": 354787.0}, {\"wk_position\": \"Auxiliares de Logistica\\r\\nOperador de Grua Telescopica\", \"Gender\": \"Mujer\", \"N employees\": 31, \"Training hours\": 23291.0}, {\"wk_position\": \"Camionero\", \"Gender\": \"Hombre\", \"N employees\": 401, \"Training hours\": 334100.0}, {\"wk_position\": \"Camionero\", \"Gender\": \"Mujer\", \"N employees\": 31, \"Training hours\": 26119.0}]}}, {\"theme\": \"latimes\", \"mode\": \"vega-lite\"});\n",
              "</script>"
            ]
          },
          "metadata": {
            "tags": []
          },
          "execution_count": 213
        }
      ]
    },
    {
      "cell_type": "markdown",
      "metadata": {
        "id": "jTSXavt0tqCb"
      },
      "source": [
        "Some information about our numerical data on trainning hours and working hours"
      ]
    },
    {
      "cell_type": "code",
      "metadata": {
        "colab": {
          "base_uri": "https://localhost:8080/",
          "height": 299
        },
        "id": "S5cU1xiDts5h",
        "outputId": "1521cf70-4446-4a3a-d415-93b03b07bf9d"
      },
      "source": [
        "staff[['Horas Presencia Efectiva Subcontratados',\t'Horas Presencia Efectiva ETTs',\t'Horas Formacion Seguridad Propios',\t'Horas Formacion Seguridad ETTs',\t'N employees']].describe()"
      ],
      "execution_count": 128,
      "outputs": [
        {
          "output_type": "execute_result",
          "data": {
            "text/html": [
              "<div>\n",
              "<style scoped>\n",
              "    .dataframe tbody tr th:only-of-type {\n",
              "        vertical-align: middle;\n",
              "    }\n",
              "\n",
              "    .dataframe tbody tr th {\n",
              "        vertical-align: top;\n",
              "    }\n",
              "\n",
              "    .dataframe thead th {\n",
              "        text-align: right;\n",
              "    }\n",
              "</style>\n",
              "<table border=\"1\" class=\"dataframe\">\n",
              "  <thead>\n",
              "    <tr style=\"text-align: right;\">\n",
              "      <th></th>\n",
              "      <th>Horas Presencia Efectiva Subcontratados</th>\n",
              "      <th>Horas Presencia Efectiva ETTs</th>\n",
              "      <th>Horas Formacion Seguridad Propios</th>\n",
              "      <th>Horas Formacion Seguridad ETTs</th>\n",
              "      <th>N employees</th>\n",
              "    </tr>\n",
              "  </thead>\n",
              "  <tbody>\n",
              "    <tr>\n",
              "      <th>count</th>\n",
              "      <td>15849.000000</td>\n",
              "      <td>15849.000000</td>\n",
              "      <td>15849.000000</td>\n",
              "      <td>15849.000000</td>\n",
              "      <td>21210.0</td>\n",
              "    </tr>\n",
              "    <tr>\n",
              "      <th>mean</th>\n",
              "      <td>13155.729888</td>\n",
              "      <td>16585.554988</td>\n",
              "      <td>912.267209</td>\n",
              "      <td>255.643132</td>\n",
              "      <td>1.0</td>\n",
              "    </tr>\n",
              "    <tr>\n",
              "      <th>std</th>\n",
              "      <td>11694.713695</td>\n",
              "      <td>18859.905532</td>\n",
              "      <td>539.572227</td>\n",
              "      <td>361.751022</td>\n",
              "      <td>0.0</td>\n",
              "    </tr>\n",
              "    <tr>\n",
              "      <th>min</th>\n",
              "      <td>0.000000</td>\n",
              "      <td>0.000000</td>\n",
              "      <td>0.000000</td>\n",
              "      <td>0.000000</td>\n",
              "      <td>1.0</td>\n",
              "    </tr>\n",
              "    <tr>\n",
              "      <th>25%</th>\n",
              "      <td>0.000000</td>\n",
              "      <td>0.000000</td>\n",
              "      <td>607.000000</td>\n",
              "      <td>0.000000</td>\n",
              "      <td>1.0</td>\n",
              "    </tr>\n",
              "    <tr>\n",
              "      <th>50%</th>\n",
              "      <td>17051.000000</td>\n",
              "      <td>2625.000000</td>\n",
              "      <td>1151.000000</td>\n",
              "      <td>0.000000</td>\n",
              "      <td>1.0</td>\n",
              "    </tr>\n",
              "    <tr>\n",
              "      <th>75%</th>\n",
              "      <td>25249.000000</td>\n",
              "      <td>42485.000000</td>\n",
              "      <td>1419.000000</td>\n",
              "      <td>829.000000</td>\n",
              "      <td>1.0</td>\n",
              "    </tr>\n",
              "    <tr>\n",
              "      <th>max</th>\n",
              "      <td>25685.000000</td>\n",
              "      <td>46113.000000</td>\n",
              "      <td>1544.000000</td>\n",
              "      <td>829.000000</td>\n",
              "      <td>1.0</td>\n",
              "    </tr>\n",
              "  </tbody>\n",
              "</table>\n",
              "</div>"
            ],
            "text/plain": [
              "       Horas Presencia Efectiva Subcontratados  ...  N employees\n",
              "count                             15849.000000  ...      21210.0\n",
              "mean                              13155.729888  ...          1.0\n",
              "std                               11694.713695  ...          0.0\n",
              "min                                   0.000000  ...          1.0\n",
              "25%                                   0.000000  ...          1.0\n",
              "50%                               17051.000000  ...          1.0\n",
              "75%                               25249.000000  ...          1.0\n",
              "max                               25685.000000  ...          1.0\n",
              "\n",
              "[8 rows x 5 columns]"
            ]
          },
          "metadata": {
            "tags": []
          },
          "execution_count": 128
        }
      ]
    }
  ]
}