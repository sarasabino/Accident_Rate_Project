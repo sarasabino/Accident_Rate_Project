{
  "nbformat": 4,
  "nbformat_minor": 0,
  "metadata": {
    "colab": {
      "name": "02.1 Exploratory_final_data.ipynb",
      "provenance": [],
      "mount_file_id": "1AIRLnML1xQxxsegX1kv2oWgP-Smna9MP",
      "authorship_tag": "ABX9TyOhwSAgpM+sfhdaY3hrWdv3",
      "include_colab_link": true
    },
    "kernelspec": {
      "name": "python3",
      "display_name": "Python 3"
    },
    "language_info": {
      "name": "python"
    }
  },
  "cells": [
    {
      "cell_type": "markdown",
      "metadata": {
        "id": "view-in-github",
        "colab_type": "text"
      },
      "source": [
        "<a href=\"https://colab.research.google.com/github/sarasabino/Accident_Rate_Project/blob/main/Src/Notebooks/02_1_Exploratory_final_data.ipynb\" target=\"_parent\"><img src=\"https://colab.research.google.com/assets/colab-badge.svg\" alt=\"Open In Colab\"/></a>"
      ]
    },
    {
      "cell_type": "code",
      "metadata": {
        "id": "1CJjAMx161Kk"
      },
      "source": [
        "! cp /content/drive/MyDrive/'Colab Notebooks'/'TFM Accidentabilidad'/Data/Total_staff_by_employee.csv .\n",
        "\n",
        "import pandas as pd\n",
        "staff = pd.read_csv('Total_staff_by_employee.csv', sep=';')"
      ],
      "execution_count": 1,
      "outputs": []
    },
    {
      "cell_type": "markdown",
      "metadata": {
        "id": "jmCINoMc7r_m"
      },
      "source": [
        "# Exploratory analysis of the random data generated as Staff Data\n",
        "\n",
        "In this notebook we are going to analyze the data we have generate for our analysis from the real data we had. This data represents a company staff a row by employee. We have a final column which stays if the employee has had any accident\n",
        "\n",
        "Columns in our dataframe:\n",
        "\n",
        "- Codigo accidentado\n",
        "- Turno\n",
        "- Gender\n",
        "- Planta\n",
        "- Tipo accidente\n",
        "- Tipo trabajador\n",
        "- Fabrica\n",
        "- Tecnología\n",
        "- Pais\n",
        "- Horas Presencia Efectiva Subcontratados\n",
        "- Horas Presencia Efectiva ETTs\n",
        "- Horas Formacion Seguridad Propios\n",
        "- Horas Formacion Seguridad ETTs\n",
        "- Accident\n",
        "- wk_position\n",
        "- Age\n",
        "- Severity\n",
        "- Accident_place\n",
        "\n",
        "#### Attention: This notebook contains Altair charts so it wont be displayed in Github"
      ]
    },
    {
      "cell_type": "code",
      "metadata": {
        "colab": {
          "base_uri": "https://localhost:8080/",
          "height": 837
        },
        "id": "Sdo5_EeH7Whr",
        "outputId": "f4085586-a6e4-4d34-e3a0-cf2c54d06168"
      },
      "source": [
        "staff.drop(columns={'Unnamed: 0'}, inplace=True)\n",
        "staff.head(15)"
      ],
      "execution_count": 2,
      "outputs": [
        {
          "output_type": "execute_result",
          "data": {
            "text/html": [
              "<div>\n",
              "<style scoped>\n",
              "    .dataframe tbody tr th:only-of-type {\n",
              "        vertical-align: middle;\n",
              "    }\n",
              "\n",
              "    .dataframe tbody tr th {\n",
              "        vertical-align: top;\n",
              "    }\n",
              "\n",
              "    .dataframe thead th {\n",
              "        text-align: right;\n",
              "    }\n",
              "</style>\n",
              "<table border=\"1\" class=\"dataframe\">\n",
              "  <thead>\n",
              "    <tr style=\"text-align: right;\">\n",
              "      <th></th>\n",
              "      <th>Codigo accidentado</th>\n",
              "      <th>Turno</th>\n",
              "      <th>Gender</th>\n",
              "      <th>Planta</th>\n",
              "      <th>Tipo accidente</th>\n",
              "      <th>Tipo trabajador</th>\n",
              "      <th>Fabrica</th>\n",
              "      <th>Tecnología</th>\n",
              "      <th>Pais</th>\n",
              "      <th>Horas Presencia Efectiva Subcontratados</th>\n",
              "      <th>Horas Presencia Efectiva ETTs</th>\n",
              "      <th>Horas Formacion Seguridad Propios</th>\n",
              "      <th>Horas Formacion Seguridad ETTs</th>\n",
              "      <th>Accident</th>\n",
              "      <th>wk_position</th>\n",
              "      <th>Age</th>\n",
              "      <th>Severity</th>\n",
              "      <th>Accident_place</th>\n",
              "    </tr>\n",
              "  </thead>\n",
              "  <tbody>\n",
              "    <tr>\n",
              "      <th>0</th>\n",
              "      <td>HS-CLMB_2546</td>\n",
              "      <td>Turno de mañana</td>\n",
              "      <td>Hombre</td>\n",
              "      <td>20</td>\n",
              "      <td>Accidente c/b</td>\n",
              "      <td>ETT</td>\n",
              "      <td>Burgos</td>\n",
              "      <td>Skinpass</td>\n",
              "      <td>España</td>\n",
              "      <td>25249.0</td>\n",
              "      <td>42484.0</td>\n",
              "      <td>1419.3</td>\n",
              "      <td>830.1</td>\n",
              "      <td>Yes</td>\n",
              "      <td>Gruista LONGI004 y LONGI008</td>\n",
              "      <td>Entre 30-50</td>\n",
              "      <td>Leve</td>\n",
              "      <td>Mantenimiento</td>\n",
              "    </tr>\n",
              "    <tr>\n",
              "      <th>1</th>\n",
              "      <td>HS-CEPA_2563</td>\n",
              "      <td>Turno de mañana</td>\n",
              "      <td>Hombre</td>\n",
              "      <td>19</td>\n",
              "      <td>Accidente c/b</td>\n",
              "      <td>Indefinido</td>\n",
              "      <td>Burgos</td>\n",
              "      <td>Recocido</td>\n",
              "      <td>España</td>\n",
              "      <td>25249.0</td>\n",
              "      <td>42484.0</td>\n",
              "      <td>1419.3</td>\n",
              "      <td>830.1</td>\n",
              "      <td>Yes</td>\n",
              "      <td>Operador Puente-Grúa</td>\n",
              "      <td>Mayor 50</td>\n",
              "      <td>Muy grave</td>\n",
              "      <td>Mantenimiento</td>\n",
              "    </tr>\n",
              "    <tr>\n",
              "      <th>2</th>\n",
              "      <td>HS-GNVT_2564</td>\n",
              "      <td>Turno de tarde</td>\n",
              "      <td>Hombre</td>\n",
              "      <td>12</td>\n",
              "      <td>Accidente s/b</td>\n",
              "      <td>Duración Determinada</td>\n",
              "      <td>Barcelona</td>\n",
              "      <td>Skinpass</td>\n",
              "      <td>España</td>\n",
              "      <td>25684.5</td>\n",
              "      <td>18302.3</td>\n",
              "      <td>1150.6</td>\n",
              "      <td>151.5</td>\n",
              "      <td>Yes</td>\n",
              "      <td>hanger</td>\n",
              "      <td>Entre 30-50</td>\n",
              "      <td>Muy grave</td>\n",
              "      <td>Mantenimiento</td>\n",
              "    </tr>\n",
              "    <tr>\n",
              "      <th>3</th>\n",
              "      <td>HS-GNVT_2565</td>\n",
              "      <td>Turno de mañana</td>\n",
              "      <td>Hombre</td>\n",
              "      <td>12</td>\n",
              "      <td>Incidente</td>\n",
              "      <td>ETT</td>\n",
              "      <td>Barcelona</td>\n",
              "      <td>Skinpass</td>\n",
              "      <td>España</td>\n",
              "      <td>25684.5</td>\n",
              "      <td>18302.3</td>\n",
              "      <td>1150.6</td>\n",
              "      <td>151.5</td>\n",
              "      <td>Yes</td>\n",
              "      <td>Titular Circulares</td>\n",
              "      <td>Entre 30-50</td>\n",
              "      <td>Grave</td>\n",
              "      <td>Mantenimiento</td>\n",
              "    </tr>\n",
              "    <tr>\n",
              "      <th>4</th>\n",
              "      <td>HS-DNGG_2566</td>\n",
              "      <td>Turno de mañana</td>\n",
              "      <td>Hombre</td>\n",
              "      <td>41</td>\n",
              "      <td>Incidente</td>\n",
              "      <td>Incidente (no aplica)</td>\n",
              "      <td>Hiasa</td>\n",
              "      <td>Corte Láser</td>\n",
              "      <td>España</td>\n",
              "      <td>0.0</td>\n",
              "      <td>167848.0</td>\n",
              "      <td>1300.5</td>\n",
              "      <td>101.5</td>\n",
              "      <td>Yes</td>\n",
              "      <td>Control Calidad</td>\n",
              "      <td>Entre 30-50</td>\n",
              "      <td>Grave</td>\n",
              "      <td>Mantenimiento</td>\n",
              "    </tr>\n",
              "    <tr>\n",
              "      <th>5</th>\n",
              "      <td>HS-SAUS_2577</td>\n",
              "      <td>Turno de mañana</td>\n",
              "      <td>Hombre</td>\n",
              "      <td>7</td>\n",
              "      <td>Incidente</td>\n",
              "      <td>Indefinido</td>\n",
              "      <td>Barcelona</td>\n",
              "      <td>Cizalla</td>\n",
              "      <td>España</td>\n",
              "      <td>25684.5</td>\n",
              "      <td>18302.3</td>\n",
              "      <td>1150.6</td>\n",
              "      <td>151.5</td>\n",
              "      <td>Yes</td>\n",
              "      <td>Operador Logistico</td>\n",
              "      <td>Mayor 50</td>\n",
              "      <td>Muy grave</td>\n",
              "      <td>Mantenimiento</td>\n",
              "    </tr>\n",
              "    <tr>\n",
              "      <th>6</th>\n",
              "      <td>HS-BRCL_3127</td>\n",
              "      <td>Turno de tarde</td>\n",
              "      <td>Hombre</td>\n",
              "      <td>1</td>\n",
              "      <td>Incidente</td>\n",
              "      <td>Incidente (no aplica)</td>\n",
              "      <td>Argentina</td>\n",
              "      <td>Blanking</td>\n",
              "      <td>Argentina</td>\n",
              "      <td>0.0</td>\n",
              "      <td>0.0</td>\n",
              "      <td>606.5</td>\n",
              "      <td>0.0</td>\n",
              "      <td>Yes</td>\n",
              "      <td>Embaladora 2</td>\n",
              "      <td>Entre 30-50</td>\n",
              "      <td>Grave</td>\n",
              "      <td>Mantenimiento</td>\n",
              "    </tr>\n",
              "    <tr>\n",
              "      <th>7</th>\n",
              "      <td>HS-BRCL_3220</td>\n",
              "      <td>Turno de tarde</td>\n",
              "      <td>Hombre</td>\n",
              "      <td>1</td>\n",
              "      <td>Incidente</td>\n",
              "      <td>Indefinido</td>\n",
              "      <td>Argentina</td>\n",
              "      <td>Blanking</td>\n",
              "      <td>Argentina</td>\n",
              "      <td>0.0</td>\n",
              "      <td>0.0</td>\n",
              "      <td>606.5</td>\n",
              "      <td>0.0</td>\n",
              "      <td>Yes</td>\n",
              "      <td>AYUDANTE PRENS001</td>\n",
              "      <td>Mayor 50</td>\n",
              "      <td>Muy grave</td>\n",
              "      <td>Mantenimiento</td>\n",
              "    </tr>\n",
              "    <tr>\n",
              "      <th>8</th>\n",
              "      <td>HS-BRCL_3221</td>\n",
              "      <td>Turno de tarde</td>\n",
              "      <td>Hombre</td>\n",
              "      <td>1</td>\n",
              "      <td>Incidente</td>\n",
              "      <td>Incidente (no aplica)</td>\n",
              "      <td>Argentina</td>\n",
              "      <td>Blanking</td>\n",
              "      <td>Argentina</td>\n",
              "      <td>0.0</td>\n",
              "      <td>0.0</td>\n",
              "      <td>606.5</td>\n",
              "      <td>0.0</td>\n",
              "      <td>Yes</td>\n",
              "      <td>Gruista perfiladoras</td>\n",
              "      <td>Mayor 50</td>\n",
              "      <td>Muy grave</td>\n",
              "      <td>Mantenimiento</td>\n",
              "    </tr>\n",
              "    <tr>\n",
              "      <th>9</th>\n",
              "      <td>HS-NVRR_3222</td>\n",
              "      <td>Turno de mañana</td>\n",
              "      <td>Hombre</td>\n",
              "      <td>13</td>\n",
              "      <td>Incidente</td>\n",
              "      <td>Incidente (no aplica)</td>\n",
              "      <td>Burgos</td>\n",
              "      <td>Blanking</td>\n",
              "      <td>España</td>\n",
              "      <td>25249.0</td>\n",
              "      <td>42484.0</td>\n",
              "      <td>1419.3</td>\n",
              "      <td>830.1</td>\n",
              "      <td>Yes</td>\n",
              "      <td>packaking -road safety</td>\n",
              "      <td>Entre 30-50</td>\n",
              "      <td>Leve</td>\n",
              "      <td>Mantenimiento</td>\n",
              "    </tr>\n",
              "    <tr>\n",
              "      <th>10</th>\n",
              "      <td>HS-CEPA_3223</td>\n",
              "      <td>Turno de mañana</td>\n",
              "      <td>Hombre</td>\n",
              "      <td>19</td>\n",
              "      <td>Incidente</td>\n",
              "      <td>Incidente (no aplica)</td>\n",
              "      <td>Burgos</td>\n",
              "      <td>Recocido</td>\n",
              "      <td>España</td>\n",
              "      <td>25249.0</td>\n",
              "      <td>42484.0</td>\n",
              "      <td>1419.3</td>\n",
              "      <td>830.1</td>\n",
              "      <td>Yes</td>\n",
              "      <td>galvanizado</td>\n",
              "      <td>Mayor 50</td>\n",
              "      <td>Muy grave</td>\n",
              "      <td>Mantenimiento</td>\n",
              "    </tr>\n",
              "    <tr>\n",
              "      <th>11</th>\n",
              "      <td>HS-CEPA_3224</td>\n",
              "      <td>Turno de mañana</td>\n",
              "      <td>Hombre</td>\n",
              "      <td>19</td>\n",
              "      <td>Incidente</td>\n",
              "      <td>Incidente (no aplica)</td>\n",
              "      <td>Burgos</td>\n",
              "      <td>Recocido</td>\n",
              "      <td>España</td>\n",
              "      <td>25249.0</td>\n",
              "      <td>42484.0</td>\n",
              "      <td>1419.3</td>\n",
              "      <td>830.1</td>\n",
              "      <td>Yes</td>\n",
              "      <td>operator on packaging line</td>\n",
              "      <td>Entre 30-50</td>\n",
              "      <td>Muy grave</td>\n",
              "      <td>Mantenimiento</td>\n",
              "    </tr>\n",
              "    <tr>\n",
              "      <th>12</th>\n",
              "      <td>HS-CEPA_3226</td>\n",
              "      <td>Turno de mañana</td>\n",
              "      <td>Hombre</td>\n",
              "      <td>19</td>\n",
              "      <td>Incidente</td>\n",
              "      <td>Incidente (no aplica)</td>\n",
              "      <td>Burgos</td>\n",
              "      <td>Recocido</td>\n",
              "      <td>España</td>\n",
              "      <td>25249.0</td>\n",
              "      <td>42484.0</td>\n",
              "      <td>1419.3</td>\n",
              "      <td>830.1</td>\n",
              "      <td>Yes</td>\n",
              "      <td>GRUISTA - EMBALADOR</td>\n",
              "      <td>Entre 30-50</td>\n",
              "      <td>Grave</td>\n",
              "      <td>Mantenimiento</td>\n",
              "    </tr>\n",
              "    <tr>\n",
              "      <th>13</th>\n",
              "      <td>HS-CEPA_3227</td>\n",
              "      <td>Turno de mañana</td>\n",
              "      <td>Hombre</td>\n",
              "      <td>19</td>\n",
              "      <td>Incidente</td>\n",
              "      <td>Incidente (no aplica)</td>\n",
              "      <td>Burgos</td>\n",
              "      <td>Recocido</td>\n",
              "      <td>España</td>\n",
              "      <td>25249.0</td>\n",
              "      <td>42484.0</td>\n",
              "      <td>1419.3</td>\n",
              "      <td>830.1</td>\n",
              "      <td>Yes</td>\n",
              "      <td>Operadores limpieza de caldera y gruista de ca...</td>\n",
              "      <td>Mayor 50</td>\n",
              "      <td>Grave</td>\n",
              "      <td>Mantenimiento</td>\n",
              "    </tr>\n",
              "    <tr>\n",
              "      <th>14</th>\n",
              "      <td>HS-BRCL_3228</td>\n",
              "      <td>Turno de tarde</td>\n",
              "      <td>Hombre</td>\n",
              "      <td>1</td>\n",
              "      <td>Incidente</td>\n",
              "      <td>Incidente (no aplica)</td>\n",
              "      <td>Argentina</td>\n",
              "      <td>Blanking</td>\n",
              "      <td>Argentina</td>\n",
              "      <td>0.0</td>\n",
              "      <td>0.0</td>\n",
              "      <td>606.5</td>\n",
              "      <td>0.0</td>\n",
              "      <td>Yes</td>\n",
              "      <td>Operador de Produção II</td>\n",
              "      <td>Menor 30</td>\n",
              "      <td>Grave</td>\n",
              "      <td>Mantenimiento</td>\n",
              "    </tr>\n",
              "  </tbody>\n",
              "</table>\n",
              "</div>"
            ],
            "text/plain": [
              "   Codigo accidentado            Turno  ...   Severity  Accident_place\n",
              "0        HS-CLMB_2546  Turno de mañana  ...       Leve   Mantenimiento\n",
              "1        HS-CEPA_2563  Turno de mañana  ...  Muy grave   Mantenimiento\n",
              "2        HS-GNVT_2564   Turno de tarde  ...  Muy grave   Mantenimiento\n",
              "3        HS-GNVT_2565  Turno de mañana  ...      Grave   Mantenimiento\n",
              "4        HS-DNGG_2566  Turno de mañana  ...      Grave   Mantenimiento\n",
              "5        HS-SAUS_2577  Turno de mañana  ...  Muy grave   Mantenimiento\n",
              "6        HS-BRCL_3127   Turno de tarde  ...      Grave   Mantenimiento\n",
              "7        HS-BRCL_3220   Turno de tarde  ...  Muy grave   Mantenimiento\n",
              "8        HS-BRCL_3221   Turno de tarde  ...  Muy grave   Mantenimiento\n",
              "9        HS-NVRR_3222  Turno de mañana  ...       Leve   Mantenimiento\n",
              "10       HS-CEPA_3223  Turno de mañana  ...  Muy grave   Mantenimiento\n",
              "11       HS-CEPA_3224  Turno de mañana  ...  Muy grave   Mantenimiento\n",
              "12       HS-CEPA_3226  Turno de mañana  ...      Grave   Mantenimiento\n",
              "13       HS-CEPA_3227  Turno de mañana  ...      Grave   Mantenimiento\n",
              "14       HS-BRCL_3228   Turno de tarde  ...      Grave   Mantenimiento\n",
              "\n",
              "[15 rows x 18 columns]"
            ]
          },
          "metadata": {
            "tags": []
          },
          "execution_count": 2
        }
      ]
    },
    {
      "cell_type": "code",
      "metadata": {
        "colab": {
          "base_uri": "https://localhost:8080/"
        },
        "id": "gPmXKF9mdkFg",
        "outputId": "a3fc9389-9e70-46d4-8ea6-a0e2fbe080ab"
      },
      "source": [
        "len(staff)"
      ],
      "execution_count": 3,
      "outputs": [
        {
          "output_type": "execute_result",
          "data": {
            "text/plain": [
              "21210"
            ]
          },
          "metadata": {
            "tags": []
          },
          "execution_count": 3
        }
      ]
    },
    {
      "cell_type": "code",
      "metadata": {
        "colab": {
          "base_uri": "https://localhost:8080/"
        },
        "id": "m4V5xcX9Vmat",
        "outputId": "33f063f9-e9a8-41a6-bded-3528dc975180"
      },
      "source": [
        "staff.info()"
      ],
      "execution_count": 4,
      "outputs": [
        {
          "output_type": "stream",
          "text": [
            "<class 'pandas.core.frame.DataFrame'>\n",
            "RangeIndex: 21210 entries, 0 to 21209\n",
            "Data columns (total 18 columns):\n",
            " #   Column                                   Non-Null Count  Dtype  \n",
            "---  ------                                   --------------  -----  \n",
            " 0   Codigo accidentado                       4180 non-null   object \n",
            " 1   Turno                                    21210 non-null  object \n",
            " 2   Gender                                   21210 non-null  object \n",
            " 3   Planta                                   21210 non-null  int64  \n",
            " 4   Tipo accidente                           4180 non-null   object \n",
            " 5   Tipo trabajador                          21210 non-null  object \n",
            " 6   Fabrica                                  21210 non-null  object \n",
            " 7   Tecnología                               21210 non-null  object \n",
            " 8   Pais                                     21210 non-null  object \n",
            " 9   Horas Presencia Efectiva Subcontratados  21210 non-null  float64\n",
            " 10  Horas Presencia Efectiva ETTs            21210 non-null  float64\n",
            " 11  Horas Formacion Seguridad Propios        21210 non-null  float64\n",
            " 12  Horas Formacion Seguridad ETTs           21210 non-null  float64\n",
            " 13  Accident                                 21210 non-null  object \n",
            " 14  wk_position                              21187 non-null  object \n",
            " 15  Age                                      21210 non-null  object \n",
            " 16  Severity                                 4180 non-null   object \n",
            " 17  Accident_place                           21210 non-null  object \n",
            "dtypes: float64(4), int64(1), object(13)\n",
            "memory usage: 2.9+ MB\n"
          ],
          "name": "stdout"
        }
      ]
    },
    {
      "cell_type": "code",
      "metadata": {
        "colab": {
          "base_uri": "https://localhost:8080/"
        },
        "id": "EnU3XBrB7yk8",
        "outputId": "6c96cfb1-2ea9-4cb0-c449-4965dc597a95"
      },
      "source": [
        "staff.columns"
      ],
      "execution_count": 5,
      "outputs": [
        {
          "output_type": "execute_result",
          "data": {
            "text/plain": [
              "Index(['Codigo accidentado', 'Turno', 'Gender', 'Planta', 'Tipo accidente',\n",
              "       'Tipo trabajador', 'Fabrica', 'Tecnología', 'Pais',\n",
              "       'Horas Presencia Efectiva Subcontratados',\n",
              "       'Horas Presencia Efectiva ETTs', 'Horas Formacion Seguridad Propios',\n",
              "       'Horas Formacion Seguridad ETTs', 'Accident', 'wk_position', 'Age',\n",
              "       'Severity', 'Accident_place'],\n",
              "      dtype='object')"
            ]
          },
          "metadata": {
            "tags": []
          },
          "execution_count": 5
        }
      ]
    },
    {
      "cell_type": "code",
      "metadata": {
        "colab": {
          "base_uri": "https://localhost:8080/"
        },
        "id": "3J-dseXT-GPO",
        "outputId": "77296262-8b0b-42f7-fa60-0a6c0b3a190c"
      },
      "source": [
        "staff.shape"
      ],
      "execution_count": 6,
      "outputs": [
        {
          "output_type": "execute_result",
          "data": {
            "text/plain": [
              "(21210, 18)"
            ]
          },
          "metadata": {
            "tags": []
          },
          "execution_count": 6
        }
      ]
    },
    {
      "cell_type": "code",
      "metadata": {
        "colab": {
          "base_uri": "https://localhost:8080/"
        },
        "id": "pqf0W05m7Wnb",
        "outputId": "4cf36ce4-3195-48b9-a014-892794485707"
      },
      "source": [
        "#number of employees\n",
        "len(staff)"
      ],
      "execution_count": 7,
      "outputs": [
        {
          "output_type": "execute_result",
          "data": {
            "text/plain": [
              "21210"
            ]
          },
          "metadata": {
            "tags": []
          },
          "execution_count": 7
        }
      ]
    },
    {
      "cell_type": "code",
      "metadata": {
        "colab": {
          "base_uri": "https://localhost:8080/",
          "height": 250
        },
        "id": "EUnbbroj7Wqr",
        "outputId": "66269841-28ee-43c2-8943-1bd3f89b6622"
      },
      "source": [
        "import matplotlib.pyplot as plt\n",
        "\n",
        "labels = 'Men', 'Women'\n",
        "sizes = [len(staff[staff['Gender']=='Hombre']), len(staff[staff['Gender']=='Mujer'])]\n",
        "explode = (0, 0.1)  # only \"explode\" the 2nd slice (i.e. 'Hogs')\n",
        "\n",
        "fig1, ax1 = plt.subplots()\n",
        "ax1.pie(sizes, explode=explode, labels=labels, autopct='%1.1f%%',\n",
        "        shadow=True, startangle=90)\n",
        "ax1.axis('equal')  # Equal aspect ratio ensures that pie is drawn as a circle.\n",
        "\n",
        "plt.show()"
      ],
      "execution_count": 8,
      "outputs": [
        {
          "output_type": "display_data",
          "data": {
            "image/png": "[encoded data removed]",
            "text/plain": [
              "<Figure size 432x288 with 1 Axes>"
            ]
          },
          "metadata": {
            "tags": []
          }
        }
      ]
    },
    {
      "cell_type": "code",
      "metadata": {
        "colab": {
          "base_uri": "https://localhost:8080/"
        },
        "id": "lHXsO0CPQpPu",
        "outputId": "0f47c299-ee55-4deb-d16f-57278c0bd90f"
      },
      "source": [
        "staff['Accident']"
      ],
      "execution_count": 9,
      "outputs": [
        {
          "output_type": "execute_result",
          "data": {
            "text/plain": [
              "0        Yes\n",
              "1        Yes\n",
              "2        Yes\n",
              "3        Yes\n",
              "4        Yes\n",
              "        ... \n",
              "21205     No\n",
              "21206     No\n",
              "21207     No\n",
              "21208     No\n",
              "21209     No\n",
              "Name: Accident, Length: 21210, dtype: object"
            ]
          },
          "metadata": {
            "tags": []
          },
          "execution_count": 9
        }
      ]
    },
    {
      "cell_type": "markdown",
      "metadata": {
        "id": "K58pJAZeQ2Ko"
      },
      "source": [
        "A 19.7% of our employees has had an accident during its time in time company"
      ]
    },
    {
      "cell_type": "code",
      "metadata": {
        "colab": {
          "base_uri": "https://localhost:8080/"
        },
        "id": "1BvTaY7w__Z1",
        "outputId": "1707f392-034c-4e9d-d06e-6f7d75b4fffd"
      },
      "source": [
        "staff.columns"
      ],
      "execution_count": 10,
      "outputs": [
        {
          "output_type": "execute_result",
          "data": {
            "text/plain": [
              "Index(['Codigo accidentado', 'Turno', 'Gender', 'Planta', 'Tipo accidente',\n",
              "       'Tipo trabajador', 'Fabrica', 'Tecnología', 'Pais',\n",
              "       'Horas Presencia Efectiva Subcontratados',\n",
              "       'Horas Presencia Efectiva ETTs', 'Horas Formacion Seguridad Propios',\n",
              "       'Horas Formacion Seguridad ETTs', 'Accident', 'wk_position', 'Age',\n",
              "       'Severity', 'Accident_place'],\n",
              "      dtype='object')"
            ]
          },
          "metadata": {
            "tags": []
          },
          "execution_count": 10
        }
      ]
    },
    {
      "cell_type": "code",
      "metadata": {
        "id": "zbCBRQz3ANwN"
      },
      "source": [
        "staff['N employees'] = 1"
      ],
      "execution_count": 11,
      "outputs": []
    },
    {
      "cell_type": "code",
      "metadata": {
        "id": "n7pD20q5eMKX"
      },
      "source": [
        "staff['Severity'] = staff['Severity'].fillna('N/A')"
      ],
      "execution_count": 12,
      "outputs": []
    },
    {
      "cell_type": "code",
      "metadata": {
        "id": "AnVbHtEnmOGB"
      },
      "source": [
        "staff['Tipo accidente'] = staff['Tipo accidente'].fillna('N/A')"
      ],
      "execution_count": 13,
      "outputs": []
    },
    {
      "cell_type": "code",
      "metadata": {
        "id": "VWAfd_eV_Jb7"
      },
      "source": [
        "# we are going to aggregate the data in order to be able to plot it in a clear way\n",
        "\n",
        "n_employees = staff.groupby(by=['Fabrica',\n",
        "       'Accident', 'Severity']).agg('sum')\n"
      ],
      "execution_count": 14,
      "outputs": []
    },
    {
      "cell_type": "code",
      "metadata": {
        "id": "bp1KAMT-7W4y"
      },
      "source": [
        "n_employees.drop(columns={'Planta', 'Horas Presencia Efectiva Subcontratados',\n",
        "       'Horas Presencia Efectiva ETTs', 'Horas Formacion Seguridad Propios',\n",
        "       'Horas Formacion Seguridad ETTs'}, inplace=True)"
      ],
      "execution_count": 15,
      "outputs": []
    },
    {
      "cell_type": "code",
      "metadata": {
        "colab": {
          "base_uri": "https://localhost:8080/",
          "height": 204
        },
        "id": "Twt1XGneXHla",
        "outputId": "d0177f20-91b4-43c9-d51c-cf52b5a7c258"
      },
      "source": [
        "n_employees = n_employees.reset_index()\n",
        "n_employees.head()"
      ],
      "execution_count": 16,
      "outputs": [
        {
          "output_type": "execute_result",
          "data": {
            "text/html": [
              "<div>\n",
              "<style scoped>\n",
              "    .dataframe tbody tr th:only-of-type {\n",
              "        vertical-align: middle;\n",
              "    }\n",
              "\n",
              "    .dataframe tbody tr th {\n",
              "        vertical-align: top;\n",
              "    }\n",
              "\n",
              "    .dataframe thead th {\n",
              "        text-align: right;\n",
              "    }\n",
              "</style>\n",
              "<table border=\"1\" class=\"dataframe\">\n",
              "  <thead>\n",
              "    <tr style=\"text-align: right;\">\n",
              "      <th></th>\n",
              "      <th>Fabrica</th>\n",
              "      <th>Accident</th>\n",
              "      <th>Severity</th>\n",
              "      <th>N employees</th>\n",
              "    </tr>\n",
              "  </thead>\n",
              "  <tbody>\n",
              "    <tr>\n",
              "      <th>0</th>\n",
              "      <td>Argentina</td>\n",
              "      <td>No</td>\n",
              "      <td>N/A</td>\n",
              "      <td>923</td>\n",
              "    </tr>\n",
              "    <tr>\n",
              "      <th>1</th>\n",
              "      <td>Argentina</td>\n",
              "      <td>Yes</td>\n",
              "      <td>Grave</td>\n",
              "      <td>307</td>\n",
              "    </tr>\n",
              "    <tr>\n",
              "      <th>2</th>\n",
              "      <td>Argentina</td>\n",
              "      <td>Yes</td>\n",
              "      <td>Leve</td>\n",
              "      <td>297</td>\n",
              "    </tr>\n",
              "    <tr>\n",
              "      <th>3</th>\n",
              "      <td>Argentina</td>\n",
              "      <td>Yes</td>\n",
              "      <td>Muy grave</td>\n",
              "      <td>311</td>\n",
              "    </tr>\n",
              "    <tr>\n",
              "      <th>4</th>\n",
              "      <td>Arizona</td>\n",
              "      <td>No</td>\n",
              "      <td>N/A</td>\n",
              "      <td>1280</td>\n",
              "    </tr>\n",
              "  </tbody>\n",
              "</table>\n",
              "</div>"
            ],
            "text/plain": [
              "     Fabrica Accident   Severity  N employees\n",
              "0  Argentina       No        N/A          923\n",
              "1  Argentina      Yes      Grave          307\n",
              "2  Argentina      Yes       Leve          297\n",
              "3  Argentina      Yes  Muy grave          311\n",
              "4    Arizona       No        N/A         1280"
            ]
          },
          "metadata": {
            "tags": []
          },
          "execution_count": 16
        }
      ]
    },
    {
      "cell_type": "code",
      "metadata": {
        "id": "B_etCAR-VJhU"
      },
      "source": [
        "import altair as alt\n"
      ],
      "execution_count": 17,
      "outputs": []
    },
    {
      "cell_type": "code",
      "metadata": {
        "colab": {
          "base_uri": "https://localhost:8080/"
        },
        "id": "DtxGFVLQWsZC",
        "outputId": "c6306114-294c-4464-e529-f23141b64a50"
      },
      "source": [
        "!pip install altair_viewer"
      ],
      "execution_count": 18,
      "outputs": [
        {
          "output_type": "stream",
          "text": [
            "Requirement already satisfied: altair_viewer in /usr/local/lib/python3.7/dist-packages (0.3.0)\n",
            "Requirement already satisfied: altair in /usr/local/lib/python3.7/dist-packages (from altair_viewer) (4.1.0)\n",
            "Requirement already satisfied: altair-data-server>=0.4.0 in /usr/local/lib/python3.7/dist-packages (from altair_viewer) (0.4.1)\n",
            "Requirement already satisfied: entrypoints in /usr/local/lib/python3.7/dist-packages (from altair->altair_viewer) (0.3)\n",
            "Requirement already satisfied: pandas>=0.18 in /usr/local/lib/python3.7/dist-packages (from altair->altair_viewer) (1.1.5)\n",
            "Requirement already satisfied: jsonschema in /usr/local/lib/python3.7/dist-packages (from altair->altair_viewer) (2.6.0)\n",
            "Requirement already satisfied: toolz in /usr/local/lib/python3.7/dist-packages (from altair->altair_viewer) (0.11.1)\n",
            "Requirement already satisfied: jinja2 in /usr/local/lib/python3.7/dist-packages (from altair->altair_viewer) (2.11.3)\n",
            "Requirement already satisfied: numpy in /usr/local/lib/python3.7/dist-packages (from altair->altair_viewer) (1.19.5)\n",
            "Requirement already satisfied: portpicker in /usr/local/lib/python3.7/dist-packages (from altair-data-server>=0.4.0->altair_viewer) (1.3.9)\n",
            "Requirement already satisfied: tornado in /usr/local/lib/python3.7/dist-packages (from altair-data-server>=0.4.0->altair_viewer) (5.1.1)\n",
            "Requirement already satisfied: python-dateutil>=2.7.3 in /usr/local/lib/python3.7/dist-packages (from pandas>=0.18->altair->altair_viewer) (2.8.1)\n",
            "Requirement already satisfied: pytz>=2017.2 in /usr/local/lib/python3.7/dist-packages (from pandas>=0.18->altair->altair_viewer) (2018.9)\n",
            "Requirement already satisfied: MarkupSafe>=0.23 in /usr/local/lib/python3.7/dist-packages (from jinja2->altair->altair_viewer) (2.0.1)\n",
            "Requirement already satisfied: six>=1.5 in /usr/local/lib/python3.7/dist-packages (from python-dateutil>=2.7.3->pandas>=0.18->altair->altair_viewer) (1.15.0)\n"
          ],
          "name": "stdout"
        }
      ]
    },
    {
      "cell_type": "code",
      "metadata": {
        "id": "A_pMktZuWx_T"
      },
      "source": [
        "import altair_viewer"
      ],
      "execution_count": 19,
      "outputs": []
    },
    {
      "cell_type": "code",
      "metadata": {
        "colab": {
          "base_uri": "https://localhost:8080/"
        },
        "id": "YXfXbfdyo4Ai",
        "outputId": "c52fcaaf-02f9-4741-8f01-6a9e44db8738"
      },
      "source": [
        "import altair as alt\n",
        "from vega_datasets import data\n",
        "\n",
        "\n",
        "alt.renderers.enable(embed_options={'theme': 'latimes'})\n",
        "\n"
      ],
      "execution_count": 20,
      "outputs": [
        {
          "output_type": "execute_result",
          "data": {
            "text/plain": [
              "RendererRegistry.enable('colab')"
            ]
          },
          "metadata": {
            "tags": []
          },
          "execution_count": 20
        }
      ]
    },
    {
      "cell_type": "markdown",
      "metadata": {
        "id": "jcS6PgQmZZLY"
      },
      "source": [
        "On this chart we can appreciate that those countries with less employees are the ones with more accidents"
      ]
    },
    {
      "cell_type": "code",
      "metadata": {
        "colab": {
          "base_uri": "https://localhost:8080/",
          "height": 418
        },
        "id": "_krrWrz6VJlP",
        "outputId": "9adfeb2d-cedb-426d-a233-458850645b44"
      },
      "source": [
        "alt.Chart(n_employees, title='Nº Employees by Fabric and Accident/No Accident').mark_point().encode( \n",
        "    y = 'N employees', x ='Fabrica', color='Accident', tooltip=['Severity','N employees','Fabrica']).interactive().properties(\n",
        "    width=800,\n",
        "    height=300\n",
        ")\n"
      ],
      "execution_count": 21,
      "outputs": [
        {
          "output_type": "execute_result",
          "data": {
            "text/plain": [
              "alt.Chart(...)"
            ],
            "text/html": [
              "\n",
              "<div id=\"altair-viz-6145af54f567405e9df6a73f8f192821\"></div>\n",
              "<script type=\"text/javascript\">\n",
              "  (function(spec, embedOpt){\n",
              "    let outputDiv = document.currentScript.previousElementSibling;\n",
              "    if (outputDiv.id !== \"altair-viz-6145af54f567405e9df6a73f8f192821\") {\n",
              "      outputDiv = document.getElementById(\"altair-viz-6145af54f567405e9df6a73f8f192821\");\n",
              "    }\n",
              "    const paths = {\n",
              "      \"vega\": \"https://cdn.jsdelivr.net/npm//vega@5?noext\",\n",
              "      \"vega-lib\": \"https://cdn.jsdelivr.net/npm//vega-lib?noext\",\n",
              "      \"vega-lite\": \"https://cdn.jsdelivr.net/npm//vega-lite@4.8.1?noext\",\n",
              "      \"vega-embed\": \"https://cdn.jsdelivr.net/npm//vega-embed@6?noext\",\n",
              "    };\n",
              "\n",
              "    function loadScript(lib) {\n",
              "      return new Promise(function(resolve, reject) {\n",
              "        var s = document.createElement('script');\n",
              "        s.src = paths[lib];\n",
              "        s.async = true;\n",
              "        s.onload = () => resolve(paths[lib]);\n",
              "        s.onerror = () => reject(`Error loading script: ${paths[lib]}`);\n",
              "        document.getElementsByTagName(\"head\")[0].appendChild(s);\n",
              "      });\n",
              "    }\n",
              "\n",
              "    function showError(err) {\n",
              "      outputDiv.innerHTML = `<div class=\"error\" style=\"color:red;\">${err}</div>`;\n",
              "      throw err;\n",
              "    }\n",
              "\n",
              "    function displayChart(vegaEmbed) {\n",
              "      vegaEmbed(outputDiv, spec, embedOpt)\n",
              "        .catch(err => showError(`Javascript Error: ${err.message}<br>This usually means there's a typo in your chart specification. See the javascript console for the full traceback.`));\n",
              "    }\n",
              "\n",
              "    if(typeof define === \"function\" && define.amd) {\n",
              "      requirejs.config({paths});\n",
              "      require([\"vega-embed\"], displayChart, err => showError(`Error loading script: ${err.message}`));\n",
              "    } else if (typeof vegaEmbed === \"function\") {\n",
              "      displayChart(vegaEmbed);\n",
              "    } else {\n",
              "      loadScript(\"vega\")\n",
              "        .then(() => loadScript(\"vega-lite\"))\n",
              "        .then(() => loadScript(\"vega-embed\"))\n",
              "        .catch(showError)\n",
              "        .then(() => displayChart(vegaEmbed));\n",
              "    }\n",
              "  })({\"config\": {\"view\": {\"continuousWidth\": 400, \"continuousHeight\": 300}}, \"data\": {\"name\": \"data-c39a240914023fa0e86382186f44909b\"}, \"mark\": \"point\", \"encoding\": {\"color\": {\"type\": \"nominal\", \"field\": \"Accident\"}, \"tooltip\": [{\"type\": \"nominal\", \"field\": \"Severity\"}, {\"type\": \"quantitative\", \"field\": \"N employees\"}, {\"type\": \"nominal\", \"field\": \"Fabrica\"}], \"x\": {\"type\": \"nominal\", \"field\": \"Fabrica\"}, \"y\": {\"type\": \"quantitative\", \"field\": \"N employees\"}}, \"height\": 300, \"selection\": {\"selector001\": {\"type\": \"interval\", \"bind\": \"scales\", \"encodings\": [\"x\", \"y\"]}}, \"title\": \"N\\u00ba Employees by Fabric and Accident/No Accident\", \"width\": 800, \"$schema\": \"https://vega.github.io/schema/vega-lite/v4.8.1.json\", \"datasets\": {\"data-c39a240914023fa0e86382186f44909b\": [{\"Fabrica\": \"Argentina\", \"Accident\": \"No\", \"Severity\": \"N/A\", \"N employees\": 923}, {\"Fabrica\": \"Argentina\", \"Accident\": \"Yes\", \"Severity\": \"Grave\", \"N employees\": 307}, {\"Fabrica\": \"Argentina\", \"Accident\": \"Yes\", \"Severity\": \"Leve\", \"N employees\": 297}, {\"Fabrica\": \"Argentina\", \"Accident\": \"Yes\", \"Severity\": \"Muy grave\", \"N employees\": 311}, {\"Fabrica\": \"Arizona\", \"Accident\": \"No\", \"Severity\": \"N/A\", \"N employees\": 1280}, {\"Fabrica\": \"Arizona\", \"Accident\": \"Yes\", \"Severity\": \"Grave\", \"N employees\": 131}, {\"Fabrica\": \"Arizona\", \"Accident\": \"Yes\", \"Severity\": \"Leve\", \"N employees\": 123}, {\"Fabrica\": \"Arizona\", \"Accident\": \"Yes\", \"Severity\": \"Muy grave\", \"N employees\": 129}, {\"Fabrica\": \"Barcelona\", \"Accident\": \"No\", \"Severity\": \"N/A\", \"N employees\": 847}, {\"Fabrica\": \"Barcelona\", \"Accident\": \"Yes\", \"Severity\": \"Grave\", \"N employees\": 102}, {\"Fabrica\": \"Barcelona\", \"Accident\": \"Yes\", \"Severity\": \"Leve\", \"N employees\": 104}, {\"Fabrica\": \"Barcelona\", \"Accident\": \"Yes\", \"Severity\": \"Muy grave\", \"N employees\": 94}, {\"Fabrica\": \"Burgos\", \"Accident\": \"No\", \"Severity\": \"N/A\", \"N employees\": 3094}, {\"Fabrica\": \"Burgos\", \"Accident\": \"Yes\", \"Severity\": \"Grave\", \"N employees\": 479}, {\"Fabrica\": \"Burgos\", \"Accident\": \"Yes\", \"Severity\": \"Leve\", \"N employees\": 448}, {\"Fabrica\": \"Burgos\", \"Accident\": \"Yes\", \"Severity\": \"Muy grave\", \"N employees\": 432}, {\"Fabrica\": \"Campinas\", \"Accident\": \"No\", \"Severity\": \"N/A\", \"N employees\": 925}, {\"Fabrica\": \"Campinas\", \"Accident\": \"Yes\", \"Severity\": \"Grave\", \"N employees\": 140}, {\"Fabrica\": \"Campinas\", \"Accident\": \"Yes\", \"Severity\": \"Leve\", \"N employees\": 155}, {\"Fabrica\": \"Campinas\", \"Accident\": \"Yes\", \"Severity\": \"Muy grave\", \"N employees\": 137}, {\"Fabrica\": \"Czech\", \"Accident\": \"No\", \"Severity\": \"N/A\", \"N employees\": 441}, {\"Fabrica\": \"Czech\", \"Accident\": \"Yes\", \"Severity\": \"Grave\", \"N employees\": 12}, {\"Fabrica\": \"Czech\", \"Accident\": \"Yes\", \"Severity\": \"Leve\", \"N employees\": 10}, {\"Fabrica\": \"Czech\", \"Accident\": \"Yes\", \"Severity\": \"Muy grave\", \"N employees\": 8}, {\"Fabrica\": \"Dongguan\", \"Accident\": \"No\", \"Severity\": \"N/A\", \"N employees\": 444}, {\"Fabrica\": \"Dongguan\", \"Accident\": \"Yes\", \"Severity\": \"Grave\", \"N employees\": 16}, {\"Fabrica\": \"Dongguan\", \"Accident\": \"Yes\", \"Severity\": \"Leve\", \"N employees\": 16}, {\"Fabrica\": \"Dongguan\", \"Accident\": \"Yes\", \"Severity\": \"Muy grave\", \"N employees\": 18}, {\"Fabrica\": \"Galicia\", \"Accident\": \"No\", \"Severity\": \"N/A\", \"N employees\": 1367}, {\"Fabrica\": \"Galicia\", \"Accident\": \"Yes\", \"Severity\": \"Grave\", \"N employees\": 23}, {\"Fabrica\": \"Galicia\", \"Accident\": \"Yes\", \"Severity\": \"Leve\", \"N employees\": 19}, {\"Fabrica\": \"Galicia\", \"Accident\": \"Yes\", \"Severity\": \"Muy grave\", \"N employees\": 19}, {\"Fabrica\": \"Gonvauto Asturias\", \"Accident\": \"No\", \"Severity\": \"N/A\", \"N employees\": 900}, {\"Fabrica\": \"Gonvauto Asturias\", \"Accident\": \"Yes\", \"Severity\": \"Grave\", \"N employees\": 51}, {\"Fabrica\": \"Gonvauto Asturias\", \"Accident\": \"Yes\", \"Severity\": \"Leve\", \"N employees\": 61}, {\"Fabrica\": \"Gonvauto Asturias\", \"Accident\": \"Yes\", \"Severity\": \"Muy grave\", \"N employees\": 77}, {\"Fabrica\": \"Gonvauto Barcelona\", \"Accident\": \"No\", \"Severity\": \"N/A\", \"N employees\": 898}, {\"Fabrica\": \"Gonvauto Barcelona\", \"Accident\": \"Yes\", \"Severity\": \"Grave\", \"N employees\": 33}, {\"Fabrica\": \"Gonvauto Barcelona\", \"Accident\": \"Yes\", \"Severity\": \"Leve\", \"N employees\": 33}, {\"Fabrica\": \"Gonvauto Barcelona\", \"Accident\": \"Yes\", \"Severity\": \"Muy grave\", \"N employees\": 29}, {\"Fabrica\": \"Hiasa\", \"Accident\": \"No\", \"Severity\": \"N/A\", \"N employees\": 4537}, {\"Fabrica\": \"Hiasa\", \"Accident\": \"Yes\", \"Severity\": \"Grave\", \"N employees\": 83}, {\"Fabrica\": \"Hiasa\", \"Accident\": \"Yes\", \"Severity\": \"Leve\", \"N employees\": 72}, {\"Fabrica\": \"Hiasa\", \"Accident\": \"Yes\", \"Severity\": \"Muy grave\", \"N employees\": 69}, {\"Fabrica\": \"Kaluga\", \"Accident\": \"No\", \"Severity\": \"N/A\", \"N employees\": 439}, {\"Fabrica\": \"Kaluga\", \"Accident\": \"Yes\", \"Severity\": \"Grave\", \"N employees\": 4}, {\"Fabrica\": \"Loudi\", \"Accident\": \"No\", \"Severity\": \"N/A\", \"N employees\": 484}, {\"Fabrica\": \"Loudi\", \"Accident\": \"Yes\", \"Severity\": \"Grave\", \"N employees\": 33}, {\"Fabrica\": \"Loudi\", \"Accident\": \"Yes\", \"Severity\": \"Leve\", \"N employees\": 38}, {\"Fabrica\": \"Loudi\", \"Accident\": \"Yes\", \"Severity\": \"Muy grave\", \"N employees\": 52}, {\"Fabrica\": \"Tarragona\", \"Accident\": \"No\", \"Severity\": \"N/A\", \"N employees\": 451}, {\"Fabrica\": \"Tarragona\", \"Accident\": \"Yes\", \"Severity\": \"Grave\", \"N employees\": 7}, {\"Fabrica\": \"Tarragona\", \"Accident\": \"Yes\", \"Severity\": \"Leve\", \"N employees\": 2}, {\"Fabrica\": \"Tarragona\", \"Accident\": \"Yes\", \"Severity\": \"Muy grave\", \"N employees\": 6}]}}, {\"theme\": \"latimes\", \"mode\": \"vega-lite\"});\n",
              "</script>"
            ]
          },
          "metadata": {
            "tags": []
          },
          "execution_count": 21
        }
      ]
    },
    {
      "cell_type": "code",
      "metadata": {
        "colab": {
          "base_uri": "https://localhost:8080/",
          "height": 204
        },
        "id": "hn7jmH-QVJ4d",
        "outputId": "919fdeb5-05f5-4af9-be6a-c09976f7309f"
      },
      "source": [
        "n_employees = staff.groupby(by=['Tecnología',\n",
        "       'Accident', 'Severity']).agg('sum')\n",
        "\n",
        "n_employees = n_employees.reset_index()\n",
        "n_employees.drop(columns={'Planta', 'Horas Presencia Efectiva Subcontratados',\n",
        "       'Horas Presencia Efectiva ETTs', 'Horas Formacion Seguridad Propios',\n",
        "       'Horas Formacion Seguridad ETTs'}, inplace=True)\n",
        "n_employees.head()"
      ],
      "execution_count": 22,
      "outputs": [
        {
          "output_type": "execute_result",
          "data": {
            "text/html": [
              "<div>\n",
              "<style scoped>\n",
              "    .dataframe tbody tr th:only-of-type {\n",
              "        vertical-align: middle;\n",
              "    }\n",
              "\n",
              "    .dataframe tbody tr th {\n",
              "        vertical-align: top;\n",
              "    }\n",
              "\n",
              "    .dataframe thead th {\n",
              "        text-align: right;\n",
              "    }\n",
              "</style>\n",
              "<table border=\"1\" class=\"dataframe\">\n",
              "  <thead>\n",
              "    <tr style=\"text-align: right;\">\n",
              "      <th></th>\n",
              "      <th>Tecnología</th>\n",
              "      <th>Accident</th>\n",
              "      <th>Severity</th>\n",
              "      <th>N employees</th>\n",
              "    </tr>\n",
              "  </thead>\n",
              "  <tbody>\n",
              "    <tr>\n",
              "      <th>0</th>\n",
              "      <td>Blanking</td>\n",
              "      <td>No</td>\n",
              "      <td>N/A</td>\n",
              "      <td>2698</td>\n",
              "    </tr>\n",
              "    <tr>\n",
              "      <th>1</th>\n",
              "      <td>Blanking</td>\n",
              "      <td>Yes</td>\n",
              "      <td>Grave</td>\n",
              "      <td>244</td>\n",
              "    </tr>\n",
              "    <tr>\n",
              "      <th>2</th>\n",
              "      <td>Blanking</td>\n",
              "      <td>Yes</td>\n",
              "      <td>Leve</td>\n",
              "      <td>241</td>\n",
              "    </tr>\n",
              "    <tr>\n",
              "      <th>3</th>\n",
              "      <td>Blanking</td>\n",
              "      <td>Yes</td>\n",
              "      <td>Muy grave</td>\n",
              "      <td>237</td>\n",
              "    </tr>\n",
              "    <tr>\n",
              "      <th>4</th>\n",
              "      <td>Cizalla</td>\n",
              "      <td>No</td>\n",
              "      <td>N/A</td>\n",
              "      <td>1359</td>\n",
              "    </tr>\n",
              "  </tbody>\n",
              "</table>\n",
              "</div>"
            ],
            "text/plain": [
              "  Tecnología Accident   Severity  N employees\n",
              "0   Blanking       No        N/A         2698\n",
              "1   Blanking      Yes      Grave          244\n",
              "2   Blanking      Yes       Leve          241\n",
              "3   Blanking      Yes  Muy grave          237\n",
              "4    Cizalla       No        N/A         1359"
            ]
          },
          "metadata": {
            "tags": []
          },
          "execution_count": 22
        }
      ]
    },
    {
      "cell_type": "code",
      "metadata": {
        "colab": {
          "base_uri": "https://localhost:8080/"
        },
        "id": "gwjWrFR0fhDy",
        "outputId": "3f894ceb-531e-4b31-b076-1e62bc933b1b"
      },
      "source": [
        "n_employees_acc = n_employees[n_employees['Accident']=='Yes']\n",
        "n_employees_acc.rename(columns={'N employees':'N accidents', 'Tecnología':'Technology'}, inplace=True)"
      ],
      "execution_count": 23,
      "outputs": [
        {
          "output_type": "stream",
          "text": [
            "/usr/local/lib/python3.7/dist-packages/pandas/core/frame.py:4308: SettingWithCopyWarning: \n",
            "A value is trying to be set on a copy of a slice from a DataFrame\n",
            "\n",
            "See the caveats in the documentation: https://pandas.pydata.org/pandas-docs/stable/user_guide/indexing.html#returning-a-view-versus-a-copy\n",
            "  errors=errors,\n"
          ],
          "name": "stderr"
        }
      ]
    },
    {
      "cell_type": "code",
      "metadata": {
        "colab": {
          "base_uri": "https://localhost:8080/",
          "height": 418
        },
        "id": "6gsYidTvfVBz",
        "outputId": "105dd6c9-c653-4f16-a7d1-c1774c6ed9d6"
      },
      "source": [
        "alt.Chart(n_employees_acc,title=\"Nº Accidents by Technology and Sevirity\").mark_line().encode( \n",
        "    y = 'N accidents',\n",
        "    x ='Technology',\n",
        "    color='Severity').interactive() .properties(\n",
        "    width=1000,\n",
        "    height=300\n",
        ")"
      ],
      "execution_count": 24,
      "outputs": [
        {
          "output_type": "execute_result",
          "data": {
            "text/plain": [
              "alt.Chart(...)"
            ],
            "text/html": [
              "\n",
              "<div id=\"altair-viz-aae78cde909a43f585c78d7945de8ecb\"></div>\n",
              "<script type=\"text/javascript\">\n",
              "  (function(spec, embedOpt){\n",
              "    let outputDiv = document.currentScript.previousElementSibling;\n",
              "    if (outputDiv.id !== \"altair-viz-aae78cde909a43f585c78d7945de8ecb\") {\n",
              "      outputDiv = document.getElementById(\"altair-viz-aae78cde909a43f585c78d7945de8ecb\");\n",
              "    }\n",
              "    const paths = {\n",
              "      \"vega\": \"https://cdn.jsdelivr.net/npm//vega@5?noext\",\n",
              "      \"vega-lib\": \"https://cdn.jsdelivr.net/npm//vega-lib?noext\",\n",
              "      \"vega-lite\": \"https://cdn.jsdelivr.net/npm//vega-lite@4.8.1?noext\",\n",
              "      \"vega-embed\": \"https://cdn.jsdelivr.net/npm//vega-embed@6?noext\",\n",
              "    };\n",
              "\n",
              "    function loadScript(lib) {\n",
              "      return new Promise(function(resolve, reject) {\n",
              "        var s = document.createElement('script');\n",
              "        s.src = paths[lib];\n",
              "        s.async = true;\n",
              "        s.onload = () => resolve(paths[lib]);\n",
              "        s.onerror = () => reject(`Error loading script: ${paths[lib]}`);\n",
              "        document.getElementsByTagName(\"head\")[0].appendChild(s);\n",
              "      });\n",
              "    }\n",
              "\n",
              "    function showError(err) {\n",
              "      outputDiv.innerHTML = `<div class=\"error\" style=\"color:red;\">${err}</div>`;\n",
              "      throw err;\n",
              "    }\n",
              "\n",
              "    function displayChart(vegaEmbed) {\n",
              "      vegaEmbed(outputDiv, spec, embedOpt)\n",
              "        .catch(err => showError(`Javascript Error: ${err.message}<br>This usually means there's a typo in your chart specification. See the javascript console for the full traceback.`));\n",
              "    }\n",
              "\n",
              "    if(typeof define === \"function\" && define.amd) {\n",
              "      requirejs.config({paths});\n",
              "      require([\"vega-embed\"], displayChart, err => showError(`Error loading script: ${err.message}`));\n",
              "    } else if (typeof vegaEmbed === \"function\") {\n",
              "      displayChart(vegaEmbed);\n",
              "    } else {\n",
              "      loadScript(\"vega\")\n",
              "        .then(() => loadScript(\"vega-lite\"))\n",
              "        .then(() => loadScript(\"vega-embed\"))\n",
              "        .catch(showError)\n",
              "        .then(() => displayChart(vegaEmbed));\n",
              "    }\n",
              "  })({\"config\": {\"view\": {\"continuousWidth\": 400, \"continuousHeight\": 300}}, \"data\": {\"name\": \"data-83252fa17be15f4b72a0795e619b1674\"}, \"mark\": \"line\", \"encoding\": {\"color\": {\"type\": \"nominal\", \"field\": \"Severity\"}, \"x\": {\"type\": \"nominal\", \"field\": \"Technology\"}, \"y\": {\"type\": \"quantitative\", \"field\": \"N accidents\"}}, \"height\": 300, \"selection\": {\"selector002\": {\"type\": \"interval\", \"bind\": \"scales\", \"encodings\": [\"x\", \"y\"]}}, \"title\": \"N\\u00ba Accidents by Technology and Sevirity\", \"width\": 1000, \"$schema\": \"https://vega.github.io/schema/vega-lite/v4.8.1.json\", \"datasets\": {\"data-83252fa17be15f4b72a0795e619b1674\": [{\"Technology\": \"Blanking\", \"Accident\": \"Yes\", \"Severity\": \"Grave\", \"N accidents\": 244}, {\"Technology\": \"Blanking\", \"Accident\": \"Yes\", \"Severity\": \"Leve\", \"N accidents\": 241}, {\"Technology\": \"Blanking\", \"Accident\": \"Yes\", \"Severity\": \"Muy grave\", \"N accidents\": 237}, {\"Technology\": \"Cizalla\", \"Accident\": \"Yes\", \"Severity\": \"Grave\", \"N accidents\": 82}, {\"Technology\": \"Cizalla\", \"Accident\": \"Yes\", \"Severity\": \"Leve\", \"N accidents\": 90}, {\"Technology\": \"Cizalla\", \"Accident\": \"Yes\", \"Severity\": \"Muy grave\", \"N accidents\": 102}, {\"Technology\": \"Corte Longitudinal\", \"Accident\": \"Yes\", \"Severity\": \"Grave\", \"N accidents\": 420}, {\"Technology\": \"Corte Longitudinal\", \"Accident\": \"Yes\", \"Severity\": \"Leve\", \"N accidents\": 407}, {\"Technology\": \"Corte Longitudinal\", \"Accident\": \"Yes\", \"Severity\": \"Muy grave\", \"N accidents\": 380}, {\"Technology\": \"Corte L\\u00e1ser\", \"Accident\": \"Yes\", \"Severity\": \"Grave\", \"N accidents\": 92}, {\"Technology\": \"Corte L\\u00e1ser\", \"Accident\": \"Yes\", \"Severity\": \"Leve\", \"N accidents\": 69}, {\"Technology\": \"Corte L\\u00e1ser\", \"Accident\": \"Yes\", \"Severity\": \"Muy grave\", \"N accidents\": 85}, {\"Technology\": \"Corte L\\u00e1ser 3D\", \"Accident\": \"Yes\", \"Severity\": \"Grave\", \"N accidents\": 12}, {\"Technology\": \"Corte L\\u00e1ser 3D\", \"Accident\": \"Yes\", \"Severity\": \"Leve\", \"N accidents\": 10}, {\"Technology\": \"Corte L\\u00e1ser 3D\", \"Accident\": \"Yes\", \"Severity\": \"Muy grave\", \"N accidents\": 8}, {\"Technology\": \"Corte Plasma\", \"Accident\": \"Yes\", \"Severity\": \"Grave\", \"N accidents\": 8}, {\"Technology\": \"Corte Plasma\", \"Accident\": \"Yes\", \"Severity\": \"Leve\", \"N accidents\": 11}, {\"Technology\": \"Corte Plasma\", \"Accident\": \"Yes\", \"Severity\": \"Muy grave\", \"N accidents\": 8}, {\"Technology\": \"Corte Transversal\", \"Accident\": \"Yes\", \"Severity\": \"Grave\", \"N accidents\": 72}, {\"Technology\": \"Corte Transversal\", \"Accident\": \"Yes\", \"Severity\": \"Leve\", \"N accidents\": 65}, {\"Technology\": \"Corte Transversal\", \"Accident\": \"Yes\", \"Severity\": \"Muy grave\", \"N accidents\": 68}, {\"Technology\": \"C\\u00e9lulas Soldadura\", \"Accident\": \"Yes\", \"Severity\": \"Grave\", \"N accidents\": 28}, {\"Technology\": \"C\\u00e9lulas Soldadura\", \"Accident\": \"Yes\", \"Severity\": \"Leve\", \"N accidents\": 26}, {\"Technology\": \"C\\u00e9lulas Soldadura\", \"Accident\": \"Yes\", \"Severity\": \"Muy grave\", \"N accidents\": 23}, {\"Technology\": \"Decapado\", \"Accident\": \"Yes\", \"Severity\": \"Grave\", \"N accidents\": 4}, {\"Technology\": \"Decapado\", \"Accident\": \"Yes\", \"Severity\": \"Leve\", \"N accidents\": 3}, {\"Technology\": \"Decapado\", \"Accident\": \"Yes\", \"Severity\": \"Muy grave\", \"N accidents\": 1}, {\"Technology\": \"Galvanizado Inmersi\\u00f3n\", \"Accident\": \"Yes\", \"Severity\": \"Grave\", \"N accidents\": 4}, {\"Technology\": \"Galvanizado Inmersi\\u00f3n\", \"Accident\": \"Yes\", \"Severity\": \"Leve\", \"N accidents\": 1}, {\"Technology\": \"Galvanizado Inmersi\\u00f3n\", \"Accident\": \"Yes\", \"Severity\": \"Muy grave\", \"N accidents\": 1}, {\"Technology\": \"Laminado\", \"Accident\": \"Yes\", \"Severity\": \"Grave\", \"N accidents\": 1}, {\"Technology\": \"Laminado\", \"Accident\": \"Yes\", \"Severity\": \"Leve\", \"N accidents\": 1}, {\"Technology\": \"Laminado\", \"Accident\": \"Yes\", \"Severity\": \"Muy grave\", \"N accidents\": 3}, {\"Technology\": \"Prensa\", \"Accident\": \"Yes\", \"Severity\": \"Grave\", \"N accidents\": 136}, {\"Technology\": \"Prensa\", \"Accident\": \"Yes\", \"Severity\": \"Leve\", \"N accidents\": 140}, {\"Technology\": \"Prensa\", \"Accident\": \"Yes\", \"Severity\": \"Muy grave\", \"N accidents\": 136}, {\"Technology\": \"Punzonado\", \"Accident\": \"Yes\", \"Severity\": \"Grave\", \"N accidents\": 3}, {\"Technology\": \"Punzonado\", \"Accident\": \"Yes\", \"Severity\": \"Leve\", \"N accidents\": 8}, {\"Technology\": \"Punzonado\", \"Accident\": \"Yes\", \"Severity\": \"Muy grave\", \"N accidents\": 4}, {\"Technology\": \"Recocido\", \"Accident\": \"Yes\", \"Severity\": \"Grave\", \"N accidents\": 43}, {\"Technology\": \"Recocido\", \"Accident\": \"Yes\", \"Severity\": \"Leve\", \"N accidents\": 30}, {\"Technology\": \"Recocido\", \"Accident\": \"Yes\", \"Severity\": \"Muy grave\", \"N accidents\": 57}, {\"Technology\": \"Sierra\", \"Accident\": \"Yes\", \"Severity\": \"Grave\", \"N accidents\": 38}, {\"Technology\": \"Sierra\", \"Accident\": \"Yes\", \"Severity\": \"Leve\", \"N accidents\": 40}, {\"Technology\": \"Sierra\", \"Accident\": \"Yes\", \"Severity\": \"Muy grave\", \"N accidents\": 37}, {\"Technology\": \"Skinpass\", \"Accident\": \"Yes\", \"Severity\": \"Grave\", \"N accidents\": 163}, {\"Technology\": \"Skinpass\", \"Accident\": \"Yes\", \"Severity\": \"Leve\", \"N accidents\": 151}, {\"Technology\": \"Skinpass\", \"Accident\": \"Yes\", \"Severity\": \"Muy grave\", \"N accidents\": 135}, {\"Technology\": \"Tubos\", \"Accident\": \"Yes\", \"Severity\": \"Grave\", \"N accidents\": 71}, {\"Technology\": \"Tubos\", \"Accident\": \"Yes\", \"Severity\": \"Leve\", \"N accidents\": 85}, {\"Technology\": \"Tubos\", \"Accident\": \"Yes\", \"Severity\": \"Muy grave\", \"N accidents\": 96}]}}, {\"theme\": \"latimes\", \"mode\": \"vega-lite\"});\n",
              "</script>"
            ]
          },
          "metadata": {
            "tags": []
          },
          "execution_count": 24
        }
      ]
    },
    {
      "cell_type": "code",
      "metadata": {
        "id": "4GsfB9OzveJZ"
      },
      "source": [
        "staff_2 = staff\n",
        "staff_2['Training hours'] = staff['Horas Formacion Seguridad Propios'] + staff['Horas Formacion Seguridad ETTs']\n"
      ],
      "execution_count": 25,
      "outputs": []
    },
    {
      "cell_type": "code",
      "metadata": {
        "colab": {
          "base_uri": "https://localhost:8080/",
          "height": 204
        },
        "id": "rCWgAVQats_a",
        "outputId": "f67933e2-0656-4c16-b68c-134825aa36af"
      },
      "source": [
        "\n",
        "staff_2 = staff_2.groupby(['Fabrica', 'Accident']).sum()\n",
        "staff_2 = staff_2[['N employees', 'Training hours']].reset_index()\n",
        "staff_2['T_hours_employee'] = staff_2['Training hours'] / staff_2['N employees']\n",
        "staff_2 = staff_2[staff_2['Accident']=='Yes']\n",
        "staff_2.rename(columns={'N employees':'N accidents'}, inplace=True)\n",
        "staff_2.head()"
      ],
      "execution_count": 26,
      "outputs": [
        {
          "output_type": "execute_result",
          "data": {
            "text/html": [
              "<div>\n",
              "<style scoped>\n",
              "    .dataframe tbody tr th:only-of-type {\n",
              "        vertical-align: middle;\n",
              "    }\n",
              "\n",
              "    .dataframe tbody tr th {\n",
              "        vertical-align: top;\n",
              "    }\n",
              "\n",
              "    .dataframe thead th {\n",
              "        text-align: right;\n",
              "    }\n",
              "</style>\n",
              "<table border=\"1\" class=\"dataframe\">\n",
              "  <thead>\n",
              "    <tr style=\"text-align: right;\">\n",
              "      <th></th>\n",
              "      <th>Fabrica</th>\n",
              "      <th>Accident</th>\n",
              "      <th>N accidents</th>\n",
              "      <th>Training hours</th>\n",
              "      <th>T_hours_employee</th>\n",
              "    </tr>\n",
              "  </thead>\n",
              "  <tbody>\n",
              "    <tr>\n",
              "      <th>1</th>\n",
              "      <td>Argentina</td>\n",
              "      <td>Yes</td>\n",
              "      <td>915</td>\n",
              "      <td>554947.5</td>\n",
              "      <td>606.5</td>\n",
              "    </tr>\n",
              "    <tr>\n",
              "      <th>3</th>\n",
              "      <td>Arizona</td>\n",
              "      <td>Yes</td>\n",
              "      <td>383</td>\n",
              "      <td>0.0</td>\n",
              "      <td>0.0</td>\n",
              "    </tr>\n",
              "    <tr>\n",
              "      <th>5</th>\n",
              "      <td>Barcelona</td>\n",
              "      <td>Yes</td>\n",
              "      <td>300</td>\n",
              "      <td>390630.0</td>\n",
              "      <td>1302.1</td>\n",
              "    </tr>\n",
              "    <tr>\n",
              "      <th>7</th>\n",
              "      <td>Burgos</td>\n",
              "      <td>Yes</td>\n",
              "      <td>1359</td>\n",
              "      <td>3056934.6</td>\n",
              "      <td>2249.4</td>\n",
              "    </tr>\n",
              "    <tr>\n",
              "      <th>9</th>\n",
              "      <td>Campinas</td>\n",
              "      <td>Yes</td>\n",
              "      <td>432</td>\n",
              "      <td>523800.0</td>\n",
              "      <td>1212.5</td>\n",
              "    </tr>\n",
              "  </tbody>\n",
              "</table>\n",
              "</div>"
            ],
            "text/plain": [
              "     Fabrica Accident  N accidents  Training hours  T_hours_employee\n",
              "1  Argentina      Yes          915        554947.5             606.5\n",
              "3    Arizona      Yes          383             0.0               0.0\n",
              "5  Barcelona      Yes          300        390630.0            1302.1\n",
              "7     Burgos      Yes         1359       3056934.6            2249.4\n",
              "9   Campinas      Yes          432        523800.0            1212.5"
            ]
          },
          "metadata": {
            "tags": []
          },
          "execution_count": 26
        }
      ]
    },
    {
      "cell_type": "code",
      "metadata": {
        "colab": {
          "base_uri": "https://localhost:8080/",
          "height": 418
        },
        "id": "VZYxJLf1xN8B",
        "outputId": "f7940875-7f13-4e9e-9aca-4760b0bdb819"
      },
      "source": [
        "base = alt.Chart(staff_2, title='Comparing N accident with Training hours by employee').encode(x='Fabrica')\n",
        "\n",
        "alt.layer(base.mark_line(color='blue').encode(y='N accidents'),base.mark_line(color='red').encode(y='T_hours_employee')).properties(\n",
        "    width=900,\n",
        "    height=300)"
      ],
      "execution_count": 27,
      "outputs": [
        {
          "output_type": "execute_result",
          "data": {
            "text/plain": [
              "alt.LayerChart(...)"
            ],
            "text/html": [
              "\n",
              "<div id=\"altair-viz-3a4c138337b2469ca94b0e2bd6e1a721\"></div>\n",
              "<script type=\"text/javascript\">\n",
              "  (function(spec, embedOpt){\n",
              "    let outputDiv = document.currentScript.previousElementSibling;\n",
              "    if (outputDiv.id !== \"altair-viz-3a4c138337b2469ca94b0e2bd6e1a721\") {\n",
              "      outputDiv = document.getElementById(\"altair-viz-3a4c138337b2469ca94b0e2bd6e1a721\");\n",
              "    }\n",
              "    const paths = {\n",
              "      \"vega\": \"https://cdn.jsdelivr.net/npm//vega@5?noext\",\n",
              "      \"vega-lib\": \"https://cdn.jsdelivr.net/npm//vega-lib?noext\",\n",
              "      \"vega-lite\": \"https://cdn.jsdelivr.net/npm//vega-lite@4.8.1?noext\",\n",
              "      \"vega-embed\": \"https://cdn.jsdelivr.net/npm//vega-embed@6?noext\",\n",
              "    };\n",
              "\n",
              "    function loadScript(lib) {\n",
              "      return new Promise(function(resolve, reject) {\n",
              "        var s = document.createElement('script');\n",
              "        s.src = paths[lib];\n",
              "        s.async = true;\n",
              "        s.onload = () => resolve(paths[lib]);\n",
              "        s.onerror = () => reject(`Error loading script: ${paths[lib]}`);\n",
              "        document.getElementsByTagName(\"head\")[0].appendChild(s);\n",
              "      });\n",
              "    }\n",
              "\n",
              "    function showError(err) {\n",
              "      outputDiv.innerHTML = `<div class=\"error\" style=\"color:red;\">${err}</div>`;\n",
              "      throw err;\n",
              "    }\n",
              "\n",
              "    function displayChart(vegaEmbed) {\n",
              "      vegaEmbed(outputDiv, spec, embedOpt)\n",
              "        .catch(err => showError(`Javascript Error: ${err.message}<br>This usually means there's a typo in your chart specification. See the javascript console for the full traceback.`));\n",
              "    }\n",
              "\n",
              "    if(typeof define === \"function\" && define.amd) {\n",
              "      requirejs.config({paths});\n",
              "      require([\"vega-embed\"], displayChart, err => showError(`Error loading script: ${err.message}`));\n",
              "    } else if (typeof vegaEmbed === \"function\") {\n",
              "      displayChart(vegaEmbed);\n",
              "    } else {\n",
              "      loadScript(\"vega\")\n",
              "        .then(() => loadScript(\"vega-lite\"))\n",
              "        .then(() => loadScript(\"vega-embed\"))\n",
              "        .catch(showError)\n",
              "        .then(() => displayChart(vegaEmbed));\n",
              "    }\n",
              "  })({\"config\": {\"view\": {\"continuousWidth\": 400, \"continuousHeight\": 300}}, \"layer\": [{\"mark\": {\"type\": \"line\", \"color\": \"blue\"}, \"encoding\": {\"x\": {\"type\": \"nominal\", \"field\": \"Fabrica\"}, \"y\": {\"type\": \"quantitative\", \"field\": \"N accidents\"}}, \"title\": \"Comparing N accident with Training hours by employee\"}, {\"mark\": {\"type\": \"line\", \"color\": \"red\"}, \"encoding\": {\"x\": {\"type\": \"nominal\", \"field\": \"Fabrica\"}, \"y\": {\"type\": \"quantitative\", \"field\": \"T_hours_employee\"}}, \"title\": \"Comparing N accident with Training hours by employee\"}], \"data\": {\"name\": \"data-c8180bdb93c64c6ca29bd716395b7f43\"}, \"height\": 300, \"width\": 900, \"$schema\": \"https://vega.github.io/schema/vega-lite/v4.8.1.json\", \"datasets\": {\"data-c8180bdb93c64c6ca29bd716395b7f43\": [{\"Fabrica\": \"Argentina\", \"Accident\": \"Yes\", \"N accidents\": 915, \"Training hours\": 554947.5, \"T_hours_employee\": 606.5}, {\"Fabrica\": \"Arizona\", \"Accident\": \"Yes\", \"N accidents\": 383, \"Training hours\": 0.0, \"T_hours_employee\": 0.0}, {\"Fabrica\": \"Barcelona\", \"Accident\": \"Yes\", \"N accidents\": 300, \"Training hours\": 390629.99999999854, \"T_hours_employee\": 1302.0999999999951}, {\"Fabrica\": \"Burgos\", \"Accident\": \"Yes\", \"N accidents\": 1359, \"Training hours\": 3056934.5999999247, \"T_hours_employee\": 2249.3999999999446}, {\"Fabrica\": \"Campinas\", \"Accident\": \"Yes\", \"N accidents\": 432, \"Training hours\": 523800.0, \"T_hours_employee\": 1212.5}, {\"Fabrica\": \"Czech\", \"Accident\": \"Yes\", \"N accidents\": 30, \"Training hours\": 0.0, \"T_hours_employee\": 0.0}, {\"Fabrica\": \"Dongguan\", \"Accident\": \"Yes\", \"N accidents\": 50, \"Training hours\": 75050.0, \"T_hours_employee\": 1501.0}, {\"Fabrica\": \"Galicia\", \"Accident\": \"Yes\", \"N accidents\": 61, \"Training hours\": 46158.69999999997, \"T_hours_employee\": 756.6999999999995}, {\"Fabrica\": \"Gonvauto Asturias\", \"Accident\": \"Yes\", \"N accidents\": 189, \"Training hours\": 44415.0, \"T_hours_employee\": 235.0}, {\"Fabrica\": \"Gonvauto Barcelona\", \"Accident\": \"Yes\", \"N accidents\": 95, \"Training hours\": 55765.0, \"T_hours_employee\": 587.0}, {\"Fabrica\": \"Hiasa\", \"Accident\": \"Yes\", \"N accidents\": 224, \"Training hours\": 314048.0, \"T_hours_employee\": 1402.0}, {\"Fabrica\": \"Kaluga\", \"Accident\": \"Yes\", \"N accidents\": 4, \"Training hours\": 960.0, \"T_hours_employee\": 240.0}, {\"Fabrica\": \"Loudi\", \"Accident\": \"Yes\", \"N accidents\": 123, \"Training hours\": 189776.69999999958, \"T_hours_employee\": 1542.8999999999965}, {\"Fabrica\": \"Tarragona\", \"Accident\": \"Yes\", \"N accidents\": 15, \"Training hours\": 4774.500000000001, \"T_hours_employee\": 318.30000000000007}]}}, {\"theme\": \"latimes\", \"mode\": \"vega-lite\"});\n",
              "</script>"
            ]
          },
          "metadata": {
            "tags": []
          },
          "execution_count": 27
        }
      ]
    },
    {
      "cell_type": "code",
      "metadata": {
        "colab": {
          "base_uri": "https://localhost:8080/",
          "height": 235
        },
        "id": "-eQ56yJH2gsJ",
        "outputId": "a54ed47f-db99-437f-8a6d-e6d4b78e471e"
      },
      "source": [
        "n_accidents = staff.groupby(['Turno', 'Accident']).sum()\n",
        "n_accidents = n_accidents[['N employees']]\n",
        "n_accidents = n_accidents.reset_index()\n",
        "n_accidents"
      ],
      "execution_count": 28,
      "outputs": [
        {
          "output_type": "execute_result",
          "data": {
            "text/html": [
              "<div>\n",
              "<style scoped>\n",
              "    .dataframe tbody tr th:only-of-type {\n",
              "        vertical-align: middle;\n",
              "    }\n",
              "\n",
              "    .dataframe tbody tr th {\n",
              "        vertical-align: top;\n",
              "    }\n",
              "\n",
              "    .dataframe thead th {\n",
              "        text-align: right;\n",
              "    }\n",
              "</style>\n",
              "<table border=\"1\" class=\"dataframe\">\n",
              "  <thead>\n",
              "    <tr style=\"text-align: right;\">\n",
              "      <th></th>\n",
              "      <th>Turno</th>\n",
              "      <th>Accident</th>\n",
              "      <th>N employees</th>\n",
              "    </tr>\n",
              "  </thead>\n",
              "  <tbody>\n",
              "    <tr>\n",
              "      <th>0</th>\n",
              "      <td>Turno de mañana</td>\n",
              "      <td>No</td>\n",
              "      <td>5728</td>\n",
              "    </tr>\n",
              "    <tr>\n",
              "      <th>1</th>\n",
              "      <td>Turno de mañana</td>\n",
              "      <td>Yes</td>\n",
              "      <td>2289</td>\n",
              "    </tr>\n",
              "    <tr>\n",
              "      <th>2</th>\n",
              "      <td>Turno de noche</td>\n",
              "      <td>No</td>\n",
              "      <td>5761</td>\n",
              "    </tr>\n",
              "    <tr>\n",
              "      <th>3</th>\n",
              "      <td>Turno de noche</td>\n",
              "      <td>Yes</td>\n",
              "      <td>508</td>\n",
              "    </tr>\n",
              "    <tr>\n",
              "      <th>4</th>\n",
              "      <td>Turno de tarde</td>\n",
              "      <td>No</td>\n",
              "      <td>5541</td>\n",
              "    </tr>\n",
              "    <tr>\n",
              "      <th>5</th>\n",
              "      <td>Turno de tarde</td>\n",
              "      <td>Yes</td>\n",
              "      <td>1383</td>\n",
              "    </tr>\n",
              "  </tbody>\n",
              "</table>\n",
              "</div>"
            ],
            "text/plain": [
              "             Turno Accident  N employees\n",
              "0  Turno de mañana       No         5728\n",
              "1  Turno de mañana      Yes         2289\n",
              "2   Turno de noche       No         5761\n",
              "3   Turno de noche      Yes          508\n",
              "4   Turno de tarde       No         5541\n",
              "5   Turno de tarde      Yes         1383"
            ]
          },
          "metadata": {
            "tags": []
          },
          "execution_count": 28
        }
      ]
    },
    {
      "cell_type": "code",
      "metadata": {
        "colab": {
          "base_uri": "https://localhost:8080/",
          "height": 418
        },
        "id": "kFZfjKr53H5Q",
        "outputId": "f2403973-3e44-44f6-d2fc-c6fbc63b2d2f"
      },
      "source": [
        "alt.Chart(n_accidents,title=\"Nº Accidents by Work Turn\").mark_line().encode( \n",
        "    y = 'N employees',\n",
        "    x ='Turno',\n",
        "    color='Accident').interactive() .properties(\n",
        "    width=1000,\n",
        "    height=300\n",
        ")"
      ],
      "execution_count": 29,
      "outputs": [
        {
          "output_type": "execute_result",
          "data": {
            "text/plain": [
              "alt.Chart(...)"
            ],
            "text/html": [
              "\n",
              "<div id=\"altair-viz-96b6d645be6847079e6805c45b0c4a39\"></div>\n",
              "<script type=\"text/javascript\">\n",
              "  (function(spec, embedOpt){\n",
              "    let outputDiv = document.currentScript.previousElementSibling;\n",
              "    if (outputDiv.id !== \"altair-viz-96b6d645be6847079e6805c45b0c4a39\") {\n",
              "      outputDiv = document.getElementById(\"altair-viz-96b6d645be6847079e6805c45b0c4a39\");\n",
              "    }\n",
              "    const paths = {\n",
              "      \"vega\": \"https://cdn.jsdelivr.net/npm//vega@5?noext\",\n",
              "      \"vega-lib\": \"https://cdn.jsdelivr.net/npm//vega-lib?noext\",\n",
              "      \"vega-lite\": \"https://cdn.jsdelivr.net/npm//vega-lite@4.8.1?noext\",\n",
              "      \"vega-embed\": \"https://cdn.jsdelivr.net/npm//vega-embed@6?noext\",\n",
              "    };\n",
              "\n",
              "    function loadScript(lib) {\n",
              "      return new Promise(function(resolve, reject) {\n",
              "        var s = document.createElement('script');\n",
              "        s.src = paths[lib];\n",
              "        s.async = true;\n",
              "        s.onload = () => resolve(paths[lib]);\n",
              "        s.onerror = () => reject(`Error loading script: ${paths[lib]}`);\n",
              "        document.getElementsByTagName(\"head\")[0].appendChild(s);\n",
              "      });\n",
              "    }\n",
              "\n",
              "    function showError(err) {\n",
              "      outputDiv.innerHTML = `<div class=\"error\" style=\"color:red;\">${err}</div>`;\n",
              "      throw err;\n",
              "    }\n",
              "\n",
              "    function displayChart(vegaEmbed) {\n",
              "      vegaEmbed(outputDiv, spec, embedOpt)\n",
              "        .catch(err => showError(`Javascript Error: ${err.message}<br>This usually means there's a typo in your chart specification. See the javascript console for the full traceback.`));\n",
              "    }\n",
              "\n",
              "    if(typeof define === \"function\" && define.amd) {\n",
              "      requirejs.config({paths});\n",
              "      require([\"vega-embed\"], displayChart, err => showError(`Error loading script: ${err.message}`));\n",
              "    } else if (typeof vegaEmbed === \"function\") {\n",
              "      displayChart(vegaEmbed);\n",
              "    } else {\n",
              "      loadScript(\"vega\")\n",
              "        .then(() => loadScript(\"vega-lite\"))\n",
              "        .then(() => loadScript(\"vega-embed\"))\n",
              "        .catch(showError)\n",
              "        .then(() => displayChart(vegaEmbed));\n",
              "    }\n",
              "  })({\"config\": {\"view\": {\"continuousWidth\": 400, \"continuousHeight\": 300}}, \"data\": {\"name\": \"data-ffe7d80e5e254dda94d38dba0e443bf4\"}, \"mark\": \"line\", \"encoding\": {\"color\": {\"type\": \"nominal\", \"field\": \"Accident\"}, \"x\": {\"type\": \"nominal\", \"field\": \"Turno\"}, \"y\": {\"type\": \"quantitative\", \"field\": \"N employees\"}}, \"height\": 300, \"selection\": {\"selector003\": {\"type\": \"interval\", \"bind\": \"scales\", \"encodings\": [\"x\", \"y\"]}}, \"title\": \"N\\u00ba Accidents by Work Turn\", \"width\": 1000, \"$schema\": \"https://vega.github.io/schema/vega-lite/v4.8.1.json\", \"datasets\": {\"data-ffe7d80e5e254dda94d38dba0e443bf4\": [{\"Turno\": \"Turno de ma\\u00f1ana\", \"Accident\": \"No\", \"N employees\": 5728}, {\"Turno\": \"Turno de ma\\u00f1ana\", \"Accident\": \"Yes\", \"N employees\": 2289}, {\"Turno\": \"Turno de noche\", \"Accident\": \"No\", \"N employees\": 5761}, {\"Turno\": \"Turno de noche\", \"Accident\": \"Yes\", \"N employees\": 508}, {\"Turno\": \"Turno de tarde\", \"Accident\": \"No\", \"N employees\": 5541}, {\"Turno\": \"Turno de tarde\", \"Accident\": \"Yes\", \"N employees\": 1383}]}}, {\"theme\": \"latimes\", \"mode\": \"vega-lite\"});\n",
              "</script>"
            ]
          },
          "metadata": {
            "tags": []
          },
          "execution_count": 29
        }
      ]
    },
    {
      "cell_type": "markdown",
      "metadata": {
        "id": "fpxKw__wgX1F"
      },
      "source": [
        "## Now we are going to analyze the profile of the employees in the company"
      ]
    },
    {
      "cell_type": "markdown",
      "metadata": {
        "id": "ydGLh23sQ78P"
      },
      "source": [
        "Our staff is composed mainly by men, in a 91.4%"
      ]
    },
    {
      "cell_type": "code",
      "metadata": {
        "colab": {
          "base_uri": "https://localhost:8080/",
          "height": 248
        },
        "id": "5b0dhZg9QYA7",
        "outputId": "1cc79751-8cb5-4b09-824a-69ac8e48bbae"
      },
      "source": [
        "labels = 'EMployees Accidents', 'Employees without accident'\n",
        "sizes = [len(staff[staff['Accident']=='Yes']), len(staff[staff['Accident']=='No'])]\n",
        "explode = (0, 0.1)  # only \"explode\" the 2nd slice (i.e. 'Hogs')\n",
        "\n",
        "fig1, ax1 = plt.subplots()\n",
        "ax1.pie(sizes, explode=explode, labels=labels, autopct='%1.1f%%',\n",
        "        shadow=True, startangle=90)\n",
        "ax1.axis('equal')  # Equal aspect ratio ensures that pie is drawn as a circle.\n",
        "\n",
        "plt.show()"
      ],
      "execution_count": 30,
      "outputs": [
        {
          "output_type": "display_data",
          "data": {
            "image/png": "[encoded data removed]",
            "text/plain": [
              "<Figure size 432x288 with 1 Axes>"
            ]
          },
          "metadata": {
            "tags": []
          }
        }
      ]
    },
    {
      "cell_type": "markdown",
      "metadata": {
        "id": "zLB3qVkrgkjX"
      },
      "source": [
        ""
      ]
    },
    {
      "cell_type": "code",
      "metadata": {
        "colab": {
          "base_uri": "https://localhost:8080/"
        },
        "id": "LWwkFjWBgsKd",
        "outputId": "69b7b1d8-8500-408d-be73-2360851c3651"
      },
      "source": [
        "staff.columns"
      ],
      "execution_count": 31,
      "outputs": [
        {
          "output_type": "execute_result",
          "data": {
            "text/plain": [
              "Index(['Codigo accidentado', 'Turno', 'Gender', 'Planta', 'Tipo accidente',\n",
              "       'Tipo trabajador', 'Fabrica', 'Tecnología', 'Pais',\n",
              "       'Horas Presencia Efectiva Subcontratados',\n",
              "       'Horas Presencia Efectiva ETTs', 'Horas Formacion Seguridad Propios',\n",
              "       'Horas Formacion Seguridad ETTs', 'Accident', 'wk_position', 'Age',\n",
              "       'Severity', 'Accident_place', 'N employees', 'Training hours'],\n",
              "      dtype='object')"
            ]
          },
          "metadata": {
            "tags": []
          },
          "execution_count": 31
        }
      ]
    },
    {
      "cell_type": "code",
      "metadata": {
        "colab": {
          "base_uri": "https://localhost:8080/",
          "height": 204
        },
        "id": "2N5lWbZUgb0j",
        "outputId": "4ddb9eb6-5cee-4f59-be7a-e35f93ef964e"
      },
      "source": [
        "n_employees = staff.groupby(by=['Fabrica', 'Gender','Tipo trabajador']).agg('sum')\n",
        "\n",
        "n_employees = n_employees.reset_index()\n",
        "n_employees.drop(columns={'Planta', 'Horas Presencia Efectiva Subcontratados',\n",
        "       'Horas Presencia Efectiva ETTs', 'Horas Formacion Seguridad Propios',\n",
        "       'Horas Formacion Seguridad ETTs'}, inplace=True)\n",
        "n_employees.head()"
      ],
      "execution_count": 32,
      "outputs": [
        {
          "output_type": "execute_result",
          "data": {
            "text/html": [
              "<div>\n",
              "<style scoped>\n",
              "    .dataframe tbody tr th:only-of-type {\n",
              "        vertical-align: middle;\n",
              "    }\n",
              "\n",
              "    .dataframe tbody tr th {\n",
              "        vertical-align: top;\n",
              "    }\n",
              "\n",
              "    .dataframe thead th {\n",
              "        text-align: right;\n",
              "    }\n",
              "</style>\n",
              "<table border=\"1\" class=\"dataframe\">\n",
              "  <thead>\n",
              "    <tr style=\"text-align: right;\">\n",
              "      <th></th>\n",
              "      <th>Fabrica</th>\n",
              "      <th>Gender</th>\n",
              "      <th>Tipo trabajador</th>\n",
              "      <th>N employees</th>\n",
              "      <th>Training hours</th>\n",
              "    </tr>\n",
              "  </thead>\n",
              "  <tbody>\n",
              "    <tr>\n",
              "      <th>0</th>\n",
              "      <td>Argentina</td>\n",
              "      <td>Hombre</td>\n",
              "      <td>Cedidos de otras plantas</td>\n",
              "      <td>80</td>\n",
              "      <td>48520.0</td>\n",
              "    </tr>\n",
              "    <tr>\n",
              "      <th>1</th>\n",
              "      <td>Argentina</td>\n",
              "      <td>Hombre</td>\n",
              "      <td>Duración Determinada</td>\n",
              "      <td>110</td>\n",
              "      <td>66715.0</td>\n",
              "    </tr>\n",
              "    <tr>\n",
              "      <th>2</th>\n",
              "      <td>Argentina</td>\n",
              "      <td>Hombre</td>\n",
              "      <td>ETT</td>\n",
              "      <td>143</td>\n",
              "      <td>86729.5</td>\n",
              "    </tr>\n",
              "    <tr>\n",
              "      <th>3</th>\n",
              "      <td>Argentina</td>\n",
              "      <td>Hombre</td>\n",
              "      <td>Incidente (no aplica)</td>\n",
              "      <td>618</td>\n",
              "      <td>374817.0</td>\n",
              "    </tr>\n",
              "    <tr>\n",
              "      <th>4</th>\n",
              "      <td>Argentina</td>\n",
              "      <td>Hombre</td>\n",
              "      <td>Indefinido</td>\n",
              "      <td>322</td>\n",
              "      <td>195293.0</td>\n",
              "    </tr>\n",
              "  </tbody>\n",
              "</table>\n",
              "</div>"
            ],
            "text/plain": [
              "     Fabrica  Gender           Tipo trabajador  N employees  Training hours\n",
              "0  Argentina  Hombre  Cedidos de otras plantas           80         48520.0\n",
              "1  Argentina  Hombre      Duración Determinada          110         66715.0\n",
              "2  Argentina  Hombre                       ETT          143         86729.5\n",
              "3  Argentina  Hombre     Incidente (no aplica)          618        374817.0\n",
              "4  Argentina  Hombre                Indefinido          322        195293.0"
            ]
          },
          "metadata": {
            "tags": []
          },
          "execution_count": 32
        }
      ]
    },
    {
      "cell_type": "code",
      "metadata": {
        "colab": {
          "base_uri": "https://localhost:8080/"
        },
        "id": "hHMuV-rhkH0d",
        "outputId": "832bde2a-9f12-4a88-a1d7-5d1f290fd471"
      },
      "source": [
        "types = staff['Tipo trabajador'].unique()\n",
        "types"
      ],
      "execution_count": 33,
      "outputs": [
        {
          "output_type": "execute_result",
          "data": {
            "text/plain": [
              "array(['ETT', 'Indefinido', 'Duración Determinada',\n",
              "       'Incidente (no aplica)', 'Subcontratado', 'Prácticas',\n",
              "       'Cedidos de otras plantas', 'No aplica', 'Indefinido con preaviso'],\n",
              "      dtype=object)"
            ]
          },
          "metadata": {
            "tags": []
          },
          "execution_count": 33
        }
      ]
    },
    {
      "cell_type": "markdown",
      "metadata": {
        "id": "zrkgIPn8rmPI"
      },
      "source": [
        "The Fabrics with most employees are Hiasa and Burgos"
      ]
    },
    {
      "cell_type": "code",
      "metadata": {
        "colab": {
          "base_uri": "https://localhost:8080/",
          "height": 418
        },
        "id": "O37m37hhh5M5",
        "outputId": "a8fcca99-7b4f-43ee-9cd8-fbe0eec10b12"
      },
      "source": [
        "alt.Chart(n_employees, title=\"Nº employees by Fabric and Gender\").mark_bar().encode( \n",
        "    y = 'N employees',\n",
        "    x ='Fabrica',\n",
        "     color='Gender').properties(\n",
        "    width=1000,\n",
        "    height=300\n",
        ")\n"
      ],
      "execution_count": 34,
      "outputs": [
        {
          "output_type": "execute_result",
          "data": {
            "text/plain": [
              "alt.Chart(...)"
            ],
            "text/html": [
              "\n",
              "<div id=\"altair-viz-6ff98671af5447c3a786212efef53f82\"></div>\n",
              "<script type=\"text/javascript\">\n",
              "  (function(spec, embedOpt){\n",
              "    let outputDiv = document.currentScript.previousElementSibling;\n",
              "    if (outputDiv.id !== \"altair-viz-6ff98671af5447c3a786212efef53f82\") {\n",
              "      outputDiv = document.getElementById(\"altair-viz-6ff98671af5447c3a786212efef53f82\");\n",
              "    }\n",
              "    const paths = {\n",
              "      \"vega\": \"https://cdn.jsdelivr.net/npm//vega@5?noext\",\n",
              "      \"vega-lib\": \"https://cdn.jsdelivr.net/npm//vega-lib?noext\",\n",
              "      \"vega-lite\": \"https://cdn.jsdelivr.net/npm//vega-lite@4.8.1?noext\",\n",
              "      \"vega-embed\": \"https://cdn.jsdelivr.net/npm//vega-embed@6?noext\",\n",
              "    };\n",
              "\n",
              "    function loadScript(lib) {\n",
              "      return new Promise(function(resolve, reject) {\n",
              "        var s = document.createElement('script');\n",
              "        s.src = paths[lib];\n",
              "        s.async = true;\n",
              "        s.onload = () => resolve(paths[lib]);\n",
              "        s.onerror = () => reject(`Error loading script: ${paths[lib]}`);\n",
              "        document.getElementsByTagName(\"head\")[0].appendChild(s);\n",
              "      });\n",
              "    }\n",
              "\n",
              "    function showError(err) {\n",
              "      outputDiv.innerHTML = `<div class=\"error\" style=\"color:red;\">${err}</div>`;\n",
              "      throw err;\n",
              "    }\n",
              "\n",
              "    function displayChart(vegaEmbed) {\n",
              "      vegaEmbed(outputDiv, spec, embedOpt)\n",
              "        .catch(err => showError(`Javascript Error: ${err.message}<br>This usually means there's a typo in your chart specification. See the javascript console for the full traceback.`));\n",
              "    }\n",
              "\n",
              "    if(typeof define === \"function\" && define.amd) {\n",
              "      requirejs.config({paths});\n",
              "      require([\"vega-embed\"], displayChart, err => showError(`Error loading script: ${err.message}`));\n",
              "    } else if (typeof vegaEmbed === \"function\") {\n",
              "      displayChart(vegaEmbed);\n",
              "    } else {\n",
              "      loadScript(\"vega\")\n",
              "        .then(() => loadScript(\"vega-lite\"))\n",
              "        .then(() => loadScript(\"vega-embed\"))\n",
              "        .catch(showError)\n",
              "        .then(() => displayChart(vegaEmbed));\n",
              "    }\n",
              "  })({\"config\": {\"view\": {\"continuousWidth\": 400, \"continuousHeight\": 300}}, \"data\": {\"name\": \"data-af356637c037868e14a857fc74cd364d\"}, \"mark\": \"bar\", \"encoding\": {\"color\": {\"type\": \"nominal\", \"field\": \"Gender\"}, \"x\": {\"type\": \"nominal\", \"field\": \"Fabrica\"}, \"y\": {\"type\": \"quantitative\", \"field\": \"N employees\"}}, \"height\": 300, \"title\": \"N\\u00ba employees by Fabric and Gender\", \"width\": 1000, \"$schema\": \"https://vega.github.io/schema/vega-lite/v4.8.1.json\", \"datasets\": {\"data-af356637c037868e14a857fc74cd364d\": [{\"Fabrica\": \"Argentina\", \"Gender\": \"Hombre\", \"Tipo trabajador\": \"Cedidos de otras plantas\", \"N employees\": 80, \"Training hours\": 48520.0}, {\"Fabrica\": \"Argentina\", \"Gender\": \"Hombre\", \"Tipo trabajador\": \"Duraci\\u00f3n Determinada\", \"N employees\": 110, \"Training hours\": 66715.0}, {\"Fabrica\": \"Argentina\", \"Gender\": \"Hombre\", \"Tipo trabajador\": \"ETT\", \"N employees\": 143, \"Training hours\": 86729.5}, {\"Fabrica\": \"Argentina\", \"Gender\": \"Hombre\", \"Tipo trabajador\": \"Incidente (no aplica)\", \"N employees\": 618, \"Training hours\": 374817.0}, {\"Fabrica\": \"Argentina\", \"Gender\": \"Hombre\", \"Tipo trabajador\": \"Indefinido\", \"N employees\": 322, \"Training hours\": 195293.0}, {\"Fabrica\": \"Argentina\", \"Gender\": \"Hombre\", \"Tipo trabajador\": \"Indefinido con preaviso\", \"N employees\": 89, \"Training hours\": 53978.5}, {\"Fabrica\": \"Argentina\", \"Gender\": \"Hombre\", \"Tipo trabajador\": \"No aplica\", \"N employees\": 92, \"Training hours\": 55798.0}, {\"Fabrica\": \"Argentina\", \"Gender\": \"Hombre\", \"Tipo trabajador\": \"Pr\\u00e1cticas\", \"N employees\": 98, \"Training hours\": 59437.0}, {\"Fabrica\": \"Argentina\", \"Gender\": \"Hombre\", \"Tipo trabajador\": \"Subcontratado\", \"N employees\": 159, \"Training hours\": 96433.5}, {\"Fabrica\": \"Argentina\", \"Gender\": \"Mujer\", \"Tipo trabajador\": \"Cedidos de otras plantas\", \"N employees\": 9, \"Training hours\": 5458.5}, {\"Fabrica\": \"Argentina\", \"Gender\": \"Mujer\", \"Tipo trabajador\": \"Duraci\\u00f3n Determinada\", \"N employees\": 18, \"Training hours\": 10917.0}, {\"Fabrica\": \"Argentina\", \"Gender\": \"Mujer\", \"Tipo trabajador\": \"ETT\", \"N employees\": 22, \"Training hours\": 13343.0}, {\"Fabrica\": \"Argentina\", \"Gender\": \"Mujer\", \"Tipo trabajador\": \"Incidente (no aplica)\", \"N employees\": 16, \"Training hours\": 9704.0}, {\"Fabrica\": \"Argentina\", \"Gender\": \"Mujer\", \"Tipo trabajador\": \"Indefinido\", \"N employees\": 17, \"Training hours\": 10310.5}, {\"Fabrica\": \"Argentina\", \"Gender\": \"Mujer\", \"Tipo trabajador\": \"Indefinido con preaviso\", \"N employees\": 11, \"Training hours\": 6671.5}, {\"Fabrica\": \"Argentina\", \"Gender\": \"Mujer\", \"Tipo trabajador\": \"No aplica\", \"N employees\": 9, \"Training hours\": 5458.5}, {\"Fabrica\": \"Argentina\", \"Gender\": \"Mujer\", \"Tipo trabajador\": \"Pr\\u00e1cticas\", \"N employees\": 9, \"Training hours\": 5458.5}, {\"Fabrica\": \"Argentina\", \"Gender\": \"Mujer\", \"Tipo trabajador\": \"Subcontratado\", \"N employees\": 16, \"Training hours\": 9704.0}, {\"Fabrica\": \"Arizona\", \"Gender\": \"Hombre\", \"Tipo trabajador\": \"Cedidos de otras plantas\", \"N employees\": 136, \"Training hours\": 0.0}, {\"Fabrica\": \"Arizona\", \"Gender\": \"Hombre\", \"Tipo trabajador\": \"Duraci\\u00f3n Determinada\", \"N employees\": 148, \"Training hours\": 0.0}, {\"Fabrica\": \"Arizona\", \"Gender\": \"Hombre\", \"Tipo trabajador\": \"ETT\", \"N employees\": 170, \"Training hours\": 0.0}, {\"Fabrica\": \"Arizona\", \"Gender\": \"Hombre\", \"Tipo trabajador\": \"Incidente (no aplica)\", \"N employees\": 309, \"Training hours\": 0.0}, {\"Fabrica\": \"Arizona\", \"Gender\": \"Hombre\", \"Tipo trabajador\": \"Indefinido\", \"N employees\": 256, \"Training hours\": 0.0}, {\"Fabrica\": \"Arizona\", \"Gender\": \"Hombre\", \"Tipo trabajador\": \"Indefinido con preaviso\", \"N employees\": 112, \"Training hours\": 0.0}, {\"Fabrica\": \"Arizona\", \"Gender\": \"Hombre\", \"Tipo trabajador\": \"No aplica\", \"N employees\": 122, \"Training hours\": 0.0}, {\"Fabrica\": \"Arizona\", \"Gender\": \"Hombre\", \"Tipo trabajador\": \"Pr\\u00e1cticas\", \"N employees\": 119, \"Training hours\": 0.0}, {\"Fabrica\": \"Arizona\", \"Gender\": \"Hombre\", \"Tipo trabajador\": \"Subcontratado\", \"N employees\": 149, \"Training hours\": 0.0}, {\"Fabrica\": \"Arizona\", \"Gender\": \"Mujer\", \"Tipo trabajador\": \"Cedidos de otras plantas\", \"N employees\": 12, \"Training hours\": 0.0}, {\"Fabrica\": \"Arizona\", \"Gender\": \"Mujer\", \"Tipo trabajador\": \"Duraci\\u00f3n Determinada\", \"N employees\": 11, \"Training hours\": 0.0}, {\"Fabrica\": \"Arizona\", \"Gender\": \"Mujer\", \"Tipo trabajador\": \"ETT\", \"N employees\": 15, \"Training hours\": 0.0}, {\"Fabrica\": \"Arizona\", \"Gender\": \"Mujer\", \"Tipo trabajador\": \"Incidente (no aplica)\", \"N employees\": 20, \"Training hours\": 0.0}, {\"Fabrica\": \"Arizona\", \"Gender\": \"Mujer\", \"Tipo trabajador\": \"Indefinido\", \"N employees\": 12, \"Training hours\": 0.0}, {\"Fabrica\": \"Arizona\", \"Gender\": \"Mujer\", \"Tipo trabajador\": \"Indefinido con preaviso\", \"N employees\": 13, \"Training hours\": 0.0}, {\"Fabrica\": \"Arizona\", \"Gender\": \"Mujer\", \"Tipo trabajador\": \"No aplica\", \"N employees\": 20, \"Training hours\": 0.0}, {\"Fabrica\": \"Arizona\", \"Gender\": \"Mujer\", \"Tipo trabajador\": \"Pr\\u00e1cticas\", \"N employees\": 20, \"Training hours\": 0.0}, {\"Fabrica\": \"Arizona\", \"Gender\": \"Mujer\", \"Tipo trabajador\": \"Subcontratado\", \"N employees\": 19, \"Training hours\": 0.0}, {\"Fabrica\": \"Barcelona\", \"Gender\": \"Hombre\", \"Tipo trabajador\": \"Cedidos de otras plantas\", \"N employees\": 91, \"Training hours\": 118491.10000000018}, {\"Fabrica\": \"Barcelona\", \"Gender\": \"Hombre\", \"Tipo trabajador\": \"Duraci\\u00f3n Determinada\", \"N employees\": 91, \"Training hours\": 118491.10000000018}, {\"Fabrica\": \"Barcelona\", \"Gender\": \"Hombre\", \"Tipo trabajador\": \"ETT\", \"N employees\": 106, \"Training hours\": 138022.60000000027}, {\"Fabrica\": \"Barcelona\", \"Gender\": \"Hombre\", \"Tipo trabajador\": \"Incidente (no aplica)\", \"N employees\": 268, \"Training hours\": 348962.7999999993}, {\"Fabrica\": \"Barcelona\", \"Gender\": \"Hombre\", \"Tipo trabajador\": \"Indefinido\", \"N employees\": 139, \"Training hours\": 180991.90000000046}, {\"Fabrica\": \"Barcelona\", \"Gender\": \"Hombre\", \"Tipo trabajador\": \"Indefinido con preaviso\", \"N employees\": 71, \"Training hours\": 92449.10000000006}, {\"Fabrica\": \"Barcelona\", \"Gender\": \"Hombre\", \"Tipo trabajador\": \"No aplica\", \"N employees\": 86, \"Training hours\": 111980.60000000015}, {\"Fabrica\": \"Barcelona\", \"Gender\": \"Hombre\", \"Tipo trabajador\": \"Pr\\u00e1cticas\", \"N employees\": 104, \"Training hours\": 135418.40000000026}, {\"Fabrica\": \"Barcelona\", \"Gender\": \"Hombre\", \"Tipo trabajador\": \"Subcontratado\", \"N employees\": 97, \"Training hours\": 126303.70000000022}, {\"Fabrica\": \"Barcelona\", \"Gender\": \"Mujer\", \"Tipo trabajador\": \"Cedidos de otras plantas\", \"N employees\": 10, \"Training hours\": 13021.000000000002}, {\"Fabrica\": \"Barcelona\", \"Gender\": \"Mujer\", \"Tipo trabajador\": \"Duraci\\u00f3n Determinada\", \"N employees\": 11, \"Training hours\": 14323.100000000002}, {\"Fabrica\": \"Barcelona\", \"Gender\": \"Mujer\", \"Tipo trabajador\": \"ETT\", \"N employees\": 12, \"Training hours\": 15625.200000000003}, {\"Fabrica\": \"Barcelona\", \"Gender\": \"Mujer\", \"Tipo trabajador\": \"Incidente (no aplica)\", \"N employees\": 11, \"Training hours\": 14323.100000000002}, {\"Fabrica\": \"Barcelona\", \"Gender\": \"Mujer\", \"Tipo trabajador\": \"Indefinido\", \"N employees\": 10, \"Training hours\": 13021.000000000002}, {\"Fabrica\": \"Barcelona\", \"Gender\": \"Mujer\", \"Tipo trabajador\": \"Indefinido con preaviso\", \"N employees\": 13, \"Training hours\": 16927.300000000003}, {\"Fabrica\": \"Barcelona\", \"Gender\": \"Mujer\", \"Tipo trabajador\": \"No aplica\", \"N employees\": 7, \"Training hours\": 9114.7}, {\"Fabrica\": \"Barcelona\", \"Gender\": \"Mujer\", \"Tipo trabajador\": \"Pr\\u00e1cticas\", \"N employees\": 8, \"Training hours\": 10416.800000000001}, {\"Fabrica\": \"Barcelona\", \"Gender\": \"Mujer\", \"Tipo trabajador\": \"Subcontratado\", \"N employees\": 12, \"Training hours\": 15625.200000000003}, {\"Fabrica\": \"Burgos\", \"Gender\": \"Hombre\", \"Tipo trabajador\": \"Cedidos de otras plantas\", \"N employees\": 305, \"Training hours\": 686067.0000000038}, {\"Fabrica\": \"Burgos\", \"Gender\": \"Hombre\", \"Tipo trabajador\": \"Duraci\\u00f3n Determinada\", \"N employees\": 362, \"Training hours\": 814282.8000000052}, {\"Fabrica\": \"Burgos\", \"Gender\": \"Hombre\", \"Tipo trabajador\": \"ETT\", \"N employees\": 696, \"Training hours\": 1565582.3999999862}, {\"Fabrica\": \"Burgos\", \"Gender\": \"Hombre\", \"Tipo trabajador\": \"Incidente (no aplica)\", \"N employees\": 635, \"Training hours\": 1428368.9999999919}, {\"Fabrica\": \"Burgos\", \"Gender\": \"Hombre\", \"Tipo trabajador\": \"Indefinido\", \"N employees\": 840, \"Training hours\": 1889495.9999999728}, {\"Fabrica\": \"Burgos\", \"Gender\": \"Hombre\", \"Tipo trabajador\": \"Indefinido con preaviso\", \"N employees\": 330, \"Training hours\": 742302.0000000044}, {\"Fabrica\": \"Burgos\", \"Gender\": \"Hombre\", \"Tipo trabajador\": \"No aplica\", \"N employees\": 300, \"Training hours\": 674820.0000000037}, {\"Fabrica\": \"Burgos\", \"Gender\": \"Hombre\", \"Tipo trabajador\": \"Pr\\u00e1cticas\", \"N employees\": 315, \"Training hours\": 708561.0000000041}, {\"Fabrica\": \"Burgos\", \"Gender\": \"Hombre\", \"Tipo trabajador\": \"Subcontratado\", \"N employees\": 360, \"Training hours\": 809784.0000000051}, {\"Fabrica\": \"Burgos\", \"Gender\": \"Mujer\", \"Tipo trabajador\": \"Cedidos de otras plantas\", \"N employees\": 27, \"Training hours\": 60733.800000000025}, {\"Fabrica\": \"Burgos\", \"Gender\": \"Mujer\", \"Tipo trabajador\": \"Duraci\\u00f3n Determinada\", \"N employees\": 35, \"Training hours\": 78729.0}, {\"Fabrica\": \"Burgos\", \"Gender\": \"Mujer\", \"Tipo trabajador\": \"ETT\", \"N employees\": 28, \"Training hours\": 62983.200000000026}, {\"Fabrica\": \"Burgos\", \"Gender\": \"Mujer\", \"Tipo trabajador\": \"Incidente (no aplica)\", \"N employees\": 40, \"Training hours\": 89975.99999999997}, {\"Fabrica\": \"Burgos\", \"Gender\": \"Mujer\", \"Tipo trabajador\": \"Indefinido\", \"N employees\": 33, \"Training hours\": 74230.20000000001}, {\"Fabrica\": \"Burgos\", \"Gender\": \"Mujer\", \"Tipo trabajador\": \"Indefinido con preaviso\", \"N employees\": 21, \"Training hours\": 47237.400000000016}, {\"Fabrica\": \"Burgos\", \"Gender\": \"Mujer\", \"Tipo trabajador\": \"No aplica\", \"N employees\": 38, \"Training hours\": 85477.19999999998}, {\"Fabrica\": \"Burgos\", \"Gender\": \"Mujer\", \"Tipo trabajador\": \"Pr\\u00e1cticas\", \"N employees\": 43, \"Training hours\": 96724.19999999995}, {\"Fabrica\": \"Burgos\", \"Gender\": \"Mujer\", \"Tipo trabajador\": \"Subcontratado\", \"N employees\": 45, \"Training hours\": 101222.99999999994}, {\"Fabrica\": \"Campinas\", \"Gender\": \"Hombre\", \"Tipo trabajador\": \"Cedidos de otras plantas\", \"N employees\": 98, \"Training hours\": 118825.0}, {\"Fabrica\": \"Campinas\", \"Gender\": \"Hombre\", \"Tipo trabajador\": \"Duraci\\u00f3n Determinada\", \"N employees\": 118, \"Training hours\": 143075.0}, {\"Fabrica\": \"Campinas\", \"Gender\": \"Hombre\", \"Tipo trabajador\": \"ETT\", \"N employees\": 127, \"Training hours\": 153987.5}, {\"Fabrica\": \"Campinas\", \"Gender\": \"Hombre\", \"Tipo trabajador\": \"Incidente (no aplica)\", \"N employees\": 299, \"Training hours\": 362537.5}, {\"Fabrica\": \"Campinas\", \"Gender\": \"Hombre\", \"Tipo trabajador\": \"Indefinido\", \"N employees\": 213, \"Training hours\": 258262.5}, {\"Fabrica\": \"Campinas\", \"Gender\": \"Hombre\", \"Tipo trabajador\": \"Indefinido con preaviso\", \"N employees\": 87, \"Training hours\": 105487.5}, {\"Fabrica\": \"Campinas\", \"Gender\": \"Hombre\", \"Tipo trabajador\": \"No aplica\", \"N employees\": 86, \"Training hours\": 104275.0}, {\"Fabrica\": \"Campinas\", \"Gender\": \"Hombre\", \"Tipo trabajador\": \"Pr\\u00e1cticas\", \"N employees\": 93, \"Training hours\": 112762.5}, {\"Fabrica\": \"Campinas\", \"Gender\": \"Hombre\", \"Tipo trabajador\": \"Subcontratado\", \"N employees\": 109, \"Training hours\": 132162.5}, {\"Fabrica\": \"Campinas\", \"Gender\": \"Mujer\", \"Tipo trabajador\": \"Cedidos de otras plantas\", \"N employees\": 8, \"Training hours\": 9700.0}, {\"Fabrica\": \"Campinas\", \"Gender\": \"Mujer\", \"Tipo trabajador\": \"Duraci\\u00f3n Determinada\", \"N employees\": 14, \"Training hours\": 16975.0}, {\"Fabrica\": \"Campinas\", \"Gender\": \"Mujer\", \"Tipo trabajador\": \"ETT\", \"N employees\": 20, \"Training hours\": 24250.0}, {\"Fabrica\": \"Campinas\", \"Gender\": \"Mujer\", \"Tipo trabajador\": \"Incidente (no aplica)\", \"N employees\": 17, \"Training hours\": 20612.5}, {\"Fabrica\": \"Campinas\", \"Gender\": \"Mujer\", \"Tipo trabajador\": \"Indefinido\", \"N employees\": 21, \"Training hours\": 25462.5}, {\"Fabrica\": \"Campinas\", \"Gender\": \"Mujer\", \"Tipo trabajador\": \"Indefinido con preaviso\", \"N employees\": 10, \"Training hours\": 12125.0}, {\"Fabrica\": \"Campinas\", \"Gender\": \"Mujer\", \"Tipo trabajador\": \"No aplica\", \"N employees\": 12, \"Training hours\": 14550.0}, {\"Fabrica\": \"Campinas\", \"Gender\": \"Mujer\", \"Tipo trabajador\": \"Pr\\u00e1cticas\", \"N employees\": 14, \"Training hours\": 16975.0}, {\"Fabrica\": \"Campinas\", \"Gender\": \"Mujer\", \"Tipo trabajador\": \"Subcontratado\", \"N employees\": 11, \"Training hours\": 13337.5}, {\"Fabrica\": \"Czech\", \"Gender\": \"Hombre\", \"Tipo trabajador\": \"Cedidos de otras plantas\", \"N employees\": 58, \"Training hours\": 0.0}, {\"Fabrica\": \"Czech\", \"Gender\": \"Hombre\", \"Tipo trabajador\": \"Duraci\\u00f3n Determinada\", \"N employees\": 44, \"Training hours\": 0.0}, {\"Fabrica\": \"Czech\", \"Gender\": \"Hombre\", \"Tipo trabajador\": \"ETT\", \"N employees\": 36, \"Training hours\": 0.0}, {\"Fabrica\": \"Czech\", \"Gender\": \"Hombre\", \"Tipo trabajador\": \"Incidente (no aplica)\", \"N employees\": 71, \"Training hours\": 0.0}, {\"Fabrica\": \"Czech\", \"Gender\": \"Hombre\", \"Tipo trabajador\": \"Indefinido\", \"N employees\": 49, \"Training hours\": 0.0}, {\"Fabrica\": \"Czech\", \"Gender\": \"Hombre\", \"Tipo trabajador\": \"Indefinido con preaviso\", \"N employees\": 49, \"Training hours\": 0.0}, {\"Fabrica\": \"Czech\", \"Gender\": \"Hombre\", \"Tipo trabajador\": \"No aplica\", \"N employees\": 38, \"Training hours\": 0.0}, {\"Fabrica\": \"Czech\", \"Gender\": \"Hombre\", \"Tipo trabajador\": \"Pr\\u00e1cticas\", \"N employees\": 53, \"Training hours\": 0.0}, {\"Fabrica\": \"Czech\", \"Gender\": \"Hombre\", \"Tipo trabajador\": \"Subcontratado\", \"N employees\": 42, \"Training hours\": 0.0}, {\"Fabrica\": \"Czech\", \"Gender\": \"Mujer\", \"Tipo trabajador\": \"Cedidos de otras plantas\", \"N employees\": 3, \"Training hours\": 0.0}, {\"Fabrica\": \"Czech\", \"Gender\": \"Mujer\", \"Tipo trabajador\": \"Duraci\\u00f3n Determinada\", \"N employees\": 4, \"Training hours\": 0.0}, {\"Fabrica\": \"Czech\", \"Gender\": \"Mujer\", \"Tipo trabajador\": \"ETT\", \"N employees\": 2, \"Training hours\": 0.0}, {\"Fabrica\": \"Czech\", \"Gender\": \"Mujer\", \"Tipo trabajador\": \"Incidente (no aplica)\", \"N employees\": 7, \"Training hours\": 0.0}, {\"Fabrica\": \"Czech\", \"Gender\": \"Mujer\", \"Tipo trabajador\": \"Indefinido\", \"N employees\": 2, \"Training hours\": 0.0}, {\"Fabrica\": \"Czech\", \"Gender\": \"Mujer\", \"Tipo trabajador\": \"Indefinido con preaviso\", \"N employees\": 1, \"Training hours\": 0.0}, {\"Fabrica\": \"Czech\", \"Gender\": \"Mujer\", \"Tipo trabajador\": \"No aplica\", \"N employees\": 1, \"Training hours\": 0.0}, {\"Fabrica\": \"Czech\", \"Gender\": \"Mujer\", \"Tipo trabajador\": \"Pr\\u00e1cticas\", \"N employees\": 4, \"Training hours\": 0.0}, {\"Fabrica\": \"Czech\", \"Gender\": \"Mujer\", \"Tipo trabajador\": \"Subcontratado\", \"N employees\": 7, \"Training hours\": 0.0}, {\"Fabrica\": \"Dongguan\", \"Gender\": \"Hombre\", \"Tipo trabajador\": \"Cedidos de otras plantas\", \"N employees\": 40, \"Training hours\": 60040.0}, {\"Fabrica\": \"Dongguan\", \"Gender\": \"Hombre\", \"Tipo trabajador\": \"Duraci\\u00f3n Determinada\", \"N employees\": 50, \"Training hours\": 75050.0}, {\"Fabrica\": \"Dongguan\", \"Gender\": \"Hombre\", \"Tipo trabajador\": \"ETT\", \"N employees\": 45, \"Training hours\": 67545.0}, {\"Fabrica\": \"Dongguan\", \"Gender\": \"Hombre\", \"Tipo trabajador\": \"Incidente (no aplica)\", \"N employees\": 62, \"Training hours\": 93062.0}, {\"Fabrica\": \"Dongguan\", \"Gender\": \"Hombre\", \"Tipo trabajador\": \"Indefinido\", \"N employees\": 69, \"Training hours\": 103569.0}, {\"Fabrica\": \"Dongguan\", \"Gender\": \"Hombre\", \"Tipo trabajador\": \"Indefinido con preaviso\", \"N employees\": 50, \"Training hours\": 75050.0}, {\"Fabrica\": \"Dongguan\", \"Gender\": \"Hombre\", \"Tipo trabajador\": \"No aplica\", \"N employees\": 41, \"Training hours\": 61541.0}, {\"Fabrica\": \"Dongguan\", \"Gender\": \"Hombre\", \"Tipo trabajador\": \"Pr\\u00e1cticas\", \"N employees\": 45, \"Training hours\": 67545.0}, {\"Fabrica\": \"Dongguan\", \"Gender\": \"Hombre\", \"Tipo trabajador\": \"Subcontratado\", \"N employees\": 42, \"Training hours\": 63042.0}, {\"Fabrica\": \"Dongguan\", \"Gender\": \"Mujer\", \"Tipo trabajador\": \"Cedidos de otras plantas\", \"N employees\": 7, \"Training hours\": 10507.0}, {\"Fabrica\": \"Dongguan\", \"Gender\": \"Mujer\", \"Tipo trabajador\": \"Duraci\\u00f3n Determinada\", \"N employees\": 3, \"Training hours\": 4503.0}, {\"Fabrica\": \"Dongguan\", \"Gender\": \"Mujer\", \"Tipo trabajador\": \"ETT\", \"N employees\": 9, \"Training hours\": 13509.0}, {\"Fabrica\": \"Dongguan\", \"Gender\": \"Mujer\", \"Tipo trabajador\": \"Incidente (no aplica)\", \"N employees\": 6, \"Training hours\": 9006.0}, {\"Fabrica\": \"Dongguan\", \"Gender\": \"Mujer\", \"Tipo trabajador\": \"Indefinido\", \"N employees\": 6, \"Training hours\": 9006.0}, {\"Fabrica\": \"Dongguan\", \"Gender\": \"Mujer\", \"Tipo trabajador\": \"Indefinido con preaviso\", \"N employees\": 4, \"Training hours\": 6004.0}, {\"Fabrica\": \"Dongguan\", \"Gender\": \"Mujer\", \"Tipo trabajador\": \"No aplica\", \"N employees\": 2, \"Training hours\": 3002.0}, {\"Fabrica\": \"Dongguan\", \"Gender\": \"Mujer\", \"Tipo trabajador\": \"Pr\\u00e1cticas\", \"N employees\": 8, \"Training hours\": 12008.0}, {\"Fabrica\": \"Dongguan\", \"Gender\": \"Mujer\", \"Tipo trabajador\": \"Subcontratado\", \"N employees\": 5, \"Training hours\": 7505.0}, {\"Fabrica\": \"Galicia\", \"Gender\": \"Hombre\", \"Tipo trabajador\": \"Cedidos de otras plantas\", \"N employees\": 124, \"Training hours\": 93830.79999999978}, {\"Fabrica\": \"Galicia\", \"Gender\": \"Hombre\", \"Tipo trabajador\": \"Duraci\\u00f3n Determinada\", \"N employees\": 161, \"Training hours\": 121828.69999999968}, {\"Fabrica\": \"Galicia\", \"Gender\": \"Hombre\", \"Tipo trabajador\": \"ETT\", \"N employees\": 133, \"Training hours\": 100641.09999999976}, {\"Fabrica\": \"Galicia\", \"Gender\": \"Hombre\", \"Tipo trabajador\": \"Incidente (no aplica)\", \"N employees\": 189, \"Training hours\": 143016.2999999998}, {\"Fabrica\": \"Galicia\", \"Gender\": \"Hombre\", \"Tipo trabajador\": \"Indefinido\", \"N employees\": 138, \"Training hours\": 104424.59999999974}, {\"Fabrica\": \"Galicia\", \"Gender\": \"Hombre\", \"Tipo trabajador\": \"Indefinido con preaviso\", \"N employees\": 138, \"Training hours\": 104424.59999999974}, {\"Fabrica\": \"Galicia\", \"Gender\": \"Hombre\", \"Tipo trabajador\": \"No aplica\", \"N employees\": 130, \"Training hours\": 98370.99999999977}, {\"Fabrica\": \"Galicia\", \"Gender\": \"Hombre\", \"Tipo trabajador\": \"Pr\\u00e1cticas\", \"N employees\": 140, \"Training hours\": 105937.99999999974}, {\"Fabrica\": \"Galicia\", \"Gender\": \"Hombre\", \"Tipo trabajador\": \"Subcontratado\", \"N employees\": 127, \"Training hours\": 96100.89999999978}, {\"Fabrica\": \"Galicia\", \"Gender\": \"Mujer\", \"Tipo trabajador\": \"Cedidos de otras plantas\", \"N employees\": 21, \"Training hours\": 15890.700000000006}, {\"Fabrica\": \"Galicia\", \"Gender\": \"Mujer\", \"Tipo trabajador\": \"Duraci\\u00f3n Determinada\", \"N employees\": 19, \"Training hours\": 14377.300000000005}, {\"Fabrica\": \"Galicia\", \"Gender\": \"Mujer\", \"Tipo trabajador\": \"ETT\", \"N employees\": 14, \"Training hours\": 10593.800000000001}, {\"Fabrica\": \"Galicia\", \"Gender\": \"Mujer\", \"Tipo trabajador\": \"Incidente (no aplica)\", \"N employees\": 16, \"Training hours\": 12107.200000000003}, {\"Fabrica\": \"Galicia\", \"Gender\": \"Mujer\", \"Tipo trabajador\": \"Indefinido\", \"N employees\": 18, \"Training hours\": 13620.600000000004}, {\"Fabrica\": \"Galicia\", \"Gender\": \"Mujer\", \"Tipo trabajador\": \"Indefinido con preaviso\", \"N employees\": 15, \"Training hours\": 11350.500000000002}, {\"Fabrica\": \"Galicia\", \"Gender\": \"Mujer\", \"Tipo trabajador\": \"No aplica\", \"N employees\": 16, \"Training hours\": 12107.200000000003}, {\"Fabrica\": \"Galicia\", \"Gender\": \"Mujer\", \"Tipo trabajador\": \"Pr\\u00e1cticas\", \"N employees\": 13, \"Training hours\": 9837.1}, {\"Fabrica\": \"Galicia\", \"Gender\": \"Mujer\", \"Tipo trabajador\": \"Subcontratado\", \"N employees\": 16, \"Training hours\": 12107.200000000003}, {\"Fabrica\": \"Gonvauto Asturias\", \"Gender\": \"Hombre\", \"Tipo trabajador\": \"Cedidos de otras plantas\", \"N employees\": 79, \"Training hours\": 18565.0}, {\"Fabrica\": \"Gonvauto Asturias\", \"Gender\": \"Hombre\", \"Tipo trabajador\": \"Duraci\\u00f3n Determinada\", \"N employees\": 120, \"Training hours\": 28200.0}, {\"Fabrica\": \"Gonvauto Asturias\", \"Gender\": \"Hombre\", \"Tipo trabajador\": \"ETT\", \"N employees\": 123, \"Training hours\": 28905.0}, {\"Fabrica\": \"Gonvauto Asturias\", \"Gender\": \"Hombre\", \"Tipo trabajador\": \"Incidente (no aplica)\", \"N employees\": 173, \"Training hours\": 40655.0}, {\"Fabrica\": \"Gonvauto Asturias\", \"Gender\": \"Hombre\", \"Tipo trabajador\": \"Indefinido\", \"N employees\": 131, \"Training hours\": 30785.0}, {\"Fabrica\": \"Gonvauto Asturias\", \"Gender\": \"Hombre\", \"Tipo trabajador\": \"Indefinido con preaviso\", \"N employees\": 76, \"Training hours\": 17860.0}, {\"Fabrica\": \"Gonvauto Asturias\", \"Gender\": \"Hombre\", \"Tipo trabajador\": \"No aplica\", \"N employees\": 98, \"Training hours\": 23030.0}, {\"Fabrica\": \"Gonvauto Asturias\", \"Gender\": \"Hombre\", \"Tipo trabajador\": \"Pr\\u00e1cticas\", \"N employees\": 87, \"Training hours\": 20445.0}, {\"Fabrica\": \"Gonvauto Asturias\", \"Gender\": \"Hombre\", \"Tipo trabajador\": \"Subcontratado\", \"N employees\": 107, \"Training hours\": 25145.0}, {\"Fabrica\": \"Gonvauto Asturias\", \"Gender\": \"Mujer\", \"Tipo trabajador\": \"Cedidos de otras plantas\", \"N employees\": 10, \"Training hours\": 2350.0}, {\"Fabrica\": \"Gonvauto Asturias\", \"Gender\": \"Mujer\", \"Tipo trabajador\": \"Duraci\\u00f3n Determinada\", \"N employees\": 12, \"Training hours\": 2820.0}, {\"Fabrica\": \"Gonvauto Asturias\", \"Gender\": \"Mujer\", \"Tipo trabajador\": \"ETT\", \"N employees\": 5, \"Training hours\": 1175.0}, {\"Fabrica\": \"Gonvauto Asturias\", \"Gender\": \"Mujer\", \"Tipo trabajador\": \"Incidente (no aplica)\", \"N employees\": 15, \"Training hours\": 3525.0}, {\"Fabrica\": \"Gonvauto Asturias\", \"Gender\": \"Mujer\", \"Tipo trabajador\": \"Indefinido\", \"N employees\": 16, \"Training hours\": 3760.0}, {\"Fabrica\": \"Gonvauto Asturias\", \"Gender\": \"Mujer\", \"Tipo trabajador\": \"Indefinido con preaviso\", \"N employees\": 13, \"Training hours\": 3055.0}, {\"Fabrica\": \"Gonvauto Asturias\", \"Gender\": \"Mujer\", \"Tipo trabajador\": \"No aplica\", \"N employees\": 8, \"Training hours\": 1880.0}, {\"Fabrica\": \"Gonvauto Asturias\", \"Gender\": \"Mujer\", \"Tipo trabajador\": \"Pr\\u00e1cticas\", \"N employees\": 7, \"Training hours\": 1645.0}, {\"Fabrica\": \"Gonvauto Asturias\", \"Gender\": \"Mujer\", \"Tipo trabajador\": \"Subcontratado\", \"N employees\": 9, \"Training hours\": 2115.0}, {\"Fabrica\": \"Gonvauto Barcelona\", \"Gender\": \"Hombre\", \"Tipo trabajador\": \"Cedidos de otras plantas\", \"N employees\": 92, \"Training hours\": 54004.0}, {\"Fabrica\": \"Gonvauto Barcelona\", \"Gender\": \"Hombre\", \"Tipo trabajador\": \"Duraci\\u00f3n Determinada\", \"N employees\": 84, \"Training hours\": 49308.0}, {\"Fabrica\": \"Gonvauto Barcelona\", \"Gender\": \"Hombre\", \"Tipo trabajador\": \"ETT\", \"N employees\": 77, \"Training hours\": 45199.0}, {\"Fabrica\": \"Gonvauto Barcelona\", \"Gender\": \"Hombre\", \"Tipo trabajador\": \"Incidente (no aplica)\", \"N employees\": 151, \"Training hours\": 88637.0}, {\"Fabrica\": \"Gonvauto Barcelona\", \"Gender\": \"Hombre\", \"Tipo trabajador\": \"Indefinido\", \"N employees\": 119, \"Training hours\": 69853.0}, {\"Fabrica\": \"Gonvauto Barcelona\", \"Gender\": \"Hombre\", \"Tipo trabajador\": \"Indefinido con preaviso\", \"N employees\": 88, \"Training hours\": 51656.0}, {\"Fabrica\": \"Gonvauto Barcelona\", \"Gender\": \"Hombre\", \"Tipo trabajador\": \"No aplica\", \"N employees\": 89, \"Training hours\": 52243.0}, {\"Fabrica\": \"Gonvauto Barcelona\", \"Gender\": \"Hombre\", \"Tipo trabajador\": \"Pr\\u00e1cticas\", \"N employees\": 93, \"Training hours\": 54591.0}, {\"Fabrica\": \"Gonvauto Barcelona\", \"Gender\": \"Hombre\", \"Tipo trabajador\": \"Subcontratado\", \"N employees\": 104, \"Training hours\": 61048.0}, {\"Fabrica\": \"Gonvauto Barcelona\", \"Gender\": \"Mujer\", \"Tipo trabajador\": \"Cedidos de otras plantas\", \"N employees\": 13, \"Training hours\": 7631.0}, {\"Fabrica\": \"Gonvauto Barcelona\", \"Gender\": \"Mujer\", \"Tipo trabajador\": \"Duraci\\u00f3n Determinada\", \"N employees\": 13, \"Training hours\": 7631.0}, {\"Fabrica\": \"Gonvauto Barcelona\", \"Gender\": \"Mujer\", \"Tipo trabajador\": \"ETT\", \"N employees\": 11, \"Training hours\": 6457.0}, {\"Fabrica\": \"Gonvauto Barcelona\", \"Gender\": \"Mujer\", \"Tipo trabajador\": \"Incidente (no aplica)\", \"N employees\": 9, \"Training hours\": 5283.0}, {\"Fabrica\": \"Gonvauto Barcelona\", \"Gender\": \"Mujer\", \"Tipo trabajador\": \"Indefinido\", \"N employees\": 11, \"Training hours\": 6457.0}, {\"Fabrica\": \"Gonvauto Barcelona\", \"Gender\": \"Mujer\", \"Tipo trabajador\": \"Indefinido con preaviso\", \"N employees\": 13, \"Training hours\": 7631.0}, {\"Fabrica\": \"Gonvauto Barcelona\", \"Gender\": \"Mujer\", \"Tipo trabajador\": \"No aplica\", \"N employees\": 6, \"Training hours\": 3522.0}, {\"Fabrica\": \"Gonvauto Barcelona\", \"Gender\": \"Mujer\", \"Tipo trabajador\": \"Pr\\u00e1cticas\", \"N employees\": 10, \"Training hours\": 5870.0}, {\"Fabrica\": \"Gonvauto Barcelona\", \"Gender\": \"Mujer\", \"Tipo trabajador\": \"Subcontratado\", \"N employees\": 10, \"Training hours\": 5870.0}, {\"Fabrica\": \"Hiasa\", \"Gender\": \"Hombre\", \"Tipo trabajador\": \"Cedidos de otras plantas\", \"N employees\": 462, \"Training hours\": 647724.0}, {\"Fabrica\": \"Hiasa\", \"Gender\": \"Hombre\", \"Tipo trabajador\": \"Duraci\\u00f3n Determinada\", \"N employees\": 490, \"Training hours\": 686980.0}, {\"Fabrica\": \"Hiasa\", \"Gender\": \"Hombre\", \"Tipo trabajador\": \"ETT\", \"N employees\": 443, \"Training hours\": 621086.0}, {\"Fabrica\": \"Hiasa\", \"Gender\": \"Hombre\", \"Tipo trabajador\": \"Incidente (no aplica)\", \"N employees\": 598, \"Training hours\": 838396.0}, {\"Fabrica\": \"Hiasa\", \"Gender\": \"Hombre\", \"Tipo trabajador\": \"Indefinido\", \"N employees\": 476, \"Training hours\": 667352.0}, {\"Fabrica\": \"Hiasa\", \"Gender\": \"Hombre\", \"Tipo trabajador\": \"Indefinido con preaviso\", \"N employees\": 462, \"Training hours\": 647724.0}, {\"Fabrica\": \"Hiasa\", \"Gender\": \"Hombre\", \"Tipo trabajador\": \"No aplica\", \"N employees\": 459, \"Training hours\": 643518.0}, {\"Fabrica\": \"Hiasa\", \"Gender\": \"Hombre\", \"Tipo trabajador\": \"Pr\\u00e1cticas\", \"N employees\": 458, \"Training hours\": 642116.0}, {\"Fabrica\": \"Hiasa\", \"Gender\": \"Hombre\", \"Tipo trabajador\": \"Subcontratado\", \"N employees\": 468, \"Training hours\": 656136.0}, {\"Fabrica\": \"Hiasa\", \"Gender\": \"Mujer\", \"Tipo trabajador\": \"Cedidos de otras plantas\", \"N employees\": 49, \"Training hours\": 68698.0}, {\"Fabrica\": \"Hiasa\", \"Gender\": \"Mujer\", \"Tipo trabajador\": \"Duraci\\u00f3n Determinada\", \"N employees\": 43, \"Training hours\": 60286.0}, {\"Fabrica\": \"Hiasa\", \"Gender\": \"Mujer\", \"Tipo trabajador\": \"ETT\", \"N employees\": 45, \"Training hours\": 63090.0}, {\"Fabrica\": \"Hiasa\", \"Gender\": \"Mujer\", \"Tipo trabajador\": \"Incidente (no aplica)\", \"N employees\": 52, \"Training hours\": 72904.0}, {\"Fabrica\": \"Hiasa\", \"Gender\": \"Mujer\", \"Tipo trabajador\": \"Indefinido\", \"N employees\": 57, \"Training hours\": 79914.0}, {\"Fabrica\": \"Hiasa\", \"Gender\": \"Mujer\", \"Tipo trabajador\": \"Indefinido con preaviso\", \"N employees\": 55, \"Training hours\": 77110.0}, {\"Fabrica\": \"Hiasa\", \"Gender\": \"Mujer\", \"Tipo trabajador\": \"No aplica\", \"N employees\": 49, \"Training hours\": 68698.0}, {\"Fabrica\": \"Hiasa\", \"Gender\": \"Mujer\", \"Tipo trabajador\": \"Pr\\u00e1cticas\", \"N employees\": 55, \"Training hours\": 77110.0}, {\"Fabrica\": \"Hiasa\", \"Gender\": \"Mujer\", \"Tipo trabajador\": \"Subcontratado\", \"N employees\": 40, \"Training hours\": 56080.0}, {\"Fabrica\": \"Kaluga\", \"Gender\": \"Hombre\", \"Tipo trabajador\": \"Cedidos de otras plantas\", \"N employees\": 46, \"Training hours\": 11040.0}, {\"Fabrica\": \"Kaluga\", \"Gender\": \"Hombre\", \"Tipo trabajador\": \"Duraci\\u00f3n Determinada\", \"N employees\": 44, \"Training hours\": 10560.0}, {\"Fabrica\": \"Kaluga\", \"Gender\": \"Hombre\", \"Tipo trabajador\": \"ETT\", \"N employees\": 28, \"Training hours\": 6720.0}, {\"Fabrica\": \"Kaluga\", \"Gender\": \"Hombre\", \"Tipo trabajador\": \"Incidente (no aplica)\", \"N employees\": 56, \"Training hours\": 13440.0}, {\"Fabrica\": \"Kaluga\", \"Gender\": \"Hombre\", \"Tipo trabajador\": \"Indefinido\", \"N employees\": 55, \"Training hours\": 13200.0}, {\"Fabrica\": \"Kaluga\", \"Gender\": \"Hombre\", \"Tipo trabajador\": \"Indefinido con preaviso\", \"N employees\": 40, \"Training hours\": 9600.0}, {\"Fabrica\": \"Kaluga\", \"Gender\": \"Hombre\", \"Tipo trabajador\": \"No aplica\", \"N employees\": 44, \"Training hours\": 10560.0}, {\"Fabrica\": \"Kaluga\", \"Gender\": \"Hombre\", \"Tipo trabajador\": \"Pr\\u00e1cticas\", \"N employees\": 42, \"Training hours\": 10080.0}, {\"Fabrica\": \"Kaluga\", \"Gender\": \"Hombre\", \"Tipo trabajador\": \"Subcontratado\", \"N employees\": 48, \"Training hours\": 11520.0}, {\"Fabrica\": \"Kaluga\", \"Gender\": \"Mujer\", \"Tipo trabajador\": \"Cedidos de otras plantas\", \"N employees\": 5, \"Training hours\": 1200.0}, {\"Fabrica\": \"Kaluga\", \"Gender\": \"Mujer\", \"Tipo trabajador\": \"Duraci\\u00f3n Determinada\", \"N employees\": 5, \"Training hours\": 1200.0}, {\"Fabrica\": \"Kaluga\", \"Gender\": \"Mujer\", \"Tipo trabajador\": \"ETT\", \"N employees\": 2, \"Training hours\": 480.0}, {\"Fabrica\": \"Kaluga\", \"Gender\": \"Mujer\", \"Tipo trabajador\": \"Incidente (no aplica)\", \"N employees\": 4, \"Training hours\": 960.0}, {\"Fabrica\": \"Kaluga\", \"Gender\": \"Mujer\", \"Tipo trabajador\": \"Indefinido\", \"N employees\": 10, \"Training hours\": 2400.0}, {\"Fabrica\": \"Kaluga\", \"Gender\": \"Mujer\", \"Tipo trabajador\": \"Indefinido con preaviso\", \"N employees\": 4, \"Training hours\": 960.0}, {\"Fabrica\": \"Kaluga\", \"Gender\": \"Mujer\", \"Tipo trabajador\": \"No aplica\", \"N employees\": 5, \"Training hours\": 1200.0}, {\"Fabrica\": \"Kaluga\", \"Gender\": \"Mujer\", \"Tipo trabajador\": \"Subcontratado\", \"N employees\": 5, \"Training hours\": 1200.0}, {\"Fabrica\": \"Loudi\", \"Gender\": \"Hombre\", \"Tipo trabajador\": \"Cedidos de otras plantas\", \"N employees\": 52, \"Training hours\": 80230.79999999999}, {\"Fabrica\": \"Loudi\", \"Gender\": \"Hombre\", \"Tipo trabajador\": \"Duraci\\u00f3n Determinada\", \"N employees\": 64, \"Training hours\": 98745.59999999992}, {\"Fabrica\": \"Loudi\", \"Gender\": \"Hombre\", \"Tipo trabajador\": \"ETT\", \"N employees\": 65, \"Training hours\": 100288.49999999991}, {\"Fabrica\": \"Loudi\", \"Gender\": \"Hombre\", \"Tipo trabajador\": \"Incidente (no aplica)\", \"N employees\": 79, \"Training hours\": 121889.09999999983}, {\"Fabrica\": \"Loudi\", \"Gender\": \"Hombre\", \"Tipo trabajador\": \"Indefinido\", \"N employees\": 110, \"Training hours\": 169718.99999999965}, {\"Fabrica\": \"Loudi\", \"Gender\": \"Hombre\", \"Tipo trabajador\": \"Indefinido con preaviso\", \"N employees\": 43, \"Training hours\": 66344.70000000004}, {\"Fabrica\": \"Loudi\", \"Gender\": \"Hombre\", \"Tipo trabajador\": \"No aplica\", \"N employees\": 49, \"Training hours\": 75602.1}, {\"Fabrica\": \"Loudi\", \"Gender\": \"Hombre\", \"Tipo trabajador\": \"Pr\\u00e1cticas\", \"N employees\": 59, \"Training hours\": 91031.09999999995}, {\"Fabrica\": \"Loudi\", \"Gender\": \"Hombre\", \"Tipo trabajador\": \"Subcontratado\", \"N employees\": 50, \"Training hours\": 77145.0}, {\"Fabrica\": \"Loudi\", \"Gender\": \"Mujer\", \"Tipo trabajador\": \"Cedidos de otras plantas\", \"N employees\": 5, \"Training hours\": 7714.5}, {\"Fabrica\": \"Loudi\", \"Gender\": \"Mujer\", \"Tipo trabajador\": \"Duraci\\u00f3n Determinada\", \"N employees\": 6, \"Training hours\": 9257.4}, {\"Fabrica\": \"Loudi\", \"Gender\": \"Mujer\", \"Tipo trabajador\": \"ETT\", \"N employees\": 4, \"Training hours\": 6171.6}, {\"Fabrica\": \"Loudi\", \"Gender\": \"Mujer\", \"Tipo trabajador\": \"Incidente (no aplica)\", \"N employees\": 4, \"Training hours\": 6171.6}, {\"Fabrica\": \"Loudi\", \"Gender\": \"Mujer\", \"Tipo trabajador\": \"Indefinido\", \"N employees\": 7, \"Training hours\": 10800.3}, {\"Fabrica\": \"Loudi\", \"Gender\": \"Mujer\", \"Tipo trabajador\": \"Indefinido con preaviso\", \"N employees\": 1, \"Training hours\": 1542.9}, {\"Fabrica\": \"Loudi\", \"Gender\": \"Mujer\", \"Tipo trabajador\": \"No aplica\", \"N employees\": 4, \"Training hours\": 6171.6}, {\"Fabrica\": \"Loudi\", \"Gender\": \"Mujer\", \"Tipo trabajador\": \"Pr\\u00e1cticas\", \"N employees\": 5, \"Training hours\": 7714.5}, {\"Fabrica\": \"Tarragona\", \"Gender\": \"Hombre\", \"Tipo trabajador\": \"Cedidos de otras plantas\", \"N employees\": 51, \"Training hours\": 16233.299999999985}, {\"Fabrica\": \"Tarragona\", \"Gender\": \"Hombre\", \"Tipo trabajador\": \"Duraci\\u00f3n Determinada\", \"N employees\": 42, \"Training hours\": 13368.599999999991}, {\"Fabrica\": \"Tarragona\", \"Gender\": \"Hombre\", \"Tipo trabajador\": \"ETT\", \"N employees\": 52, \"Training hours\": 16551.599999999984}, {\"Fabrica\": \"Tarragona\", \"Gender\": \"Hombre\", \"Tipo trabajador\": \"Incidente (no aplica)\", \"N employees\": 52, \"Training hours\": 16551.599999999984}, {\"Fabrica\": \"Tarragona\", \"Gender\": \"Hombre\", \"Tipo trabajador\": \"Indefinido\", \"N employees\": 46, \"Training hours\": 14641.799999999988}, {\"Fabrica\": \"Tarragona\", \"Gender\": \"Hombre\", \"Tipo trabajador\": \"Indefinido con preaviso\", \"N employees\": 52, \"Training hours\": 16551.599999999984}, {\"Fabrica\": \"Tarragona\", \"Gender\": \"Hombre\", \"Tipo trabajador\": \"No aplica\", \"N employees\": 35, \"Training hours\": 11140.499999999996}, {\"Fabrica\": \"Tarragona\", \"Gender\": \"Hombre\", \"Tipo trabajador\": \"Pr\\u00e1cticas\", \"N employees\": 37, \"Training hours\": 11777.099999999995}, {\"Fabrica\": \"Tarragona\", \"Gender\": \"Hombre\", \"Tipo trabajador\": \"Subcontratado\", \"N employees\": 53, \"Training hours\": 16869.899999999983}, {\"Fabrica\": \"Tarragona\", \"Gender\": \"Mujer\", \"Tipo trabajador\": \"Cedidos de otras plantas\", \"N employees\": 6, \"Training hours\": 1909.8}, {\"Fabrica\": \"Tarragona\", \"Gender\": \"Mujer\", \"Tipo trabajador\": \"Duraci\\u00f3n Determinada\", \"N employees\": 8, \"Training hours\": 2546.4}, {\"Fabrica\": \"Tarragona\", \"Gender\": \"Mujer\", \"Tipo trabajador\": \"ETT\", \"N employees\": 6, \"Training hours\": 1909.8}, {\"Fabrica\": \"Tarragona\", \"Gender\": \"Mujer\", \"Tipo trabajador\": \"Incidente (no aplica)\", \"N employees\": 4, \"Training hours\": 1273.2}, {\"Fabrica\": \"Tarragona\", \"Gender\": \"Mujer\", \"Tipo trabajador\": \"Indefinido\", \"N employees\": 6, \"Training hours\": 1909.8}, {\"Fabrica\": \"Tarragona\", \"Gender\": \"Mujer\", \"Tipo trabajador\": \"Indefinido con preaviso\", \"N employees\": 4, \"Training hours\": 1273.2}, {\"Fabrica\": \"Tarragona\", \"Gender\": \"Mujer\", \"Tipo trabajador\": \"Pr\\u00e1cticas\", \"N employees\": 6, \"Training hours\": 1909.8}, {\"Fabrica\": \"Tarragona\", \"Gender\": \"Mujer\", \"Tipo trabajador\": \"Subcontratado\", \"N employees\": 6, \"Training hours\": 1909.8}]}}, {\"theme\": \"latimes\", \"mode\": \"vega-lite\"});\n",
              "</script>"
            ]
          },
          "metadata": {
            "tags": []
          },
          "execution_count": 34
        }
      ]
    },
    {
      "cell_type": "code",
      "metadata": {
        "colab": {
          "base_uri": "https://localhost:8080/"
        },
        "id": "VH_TzHpcqxGB",
        "outputId": "c7b19c7c-dc2e-4548-db43-a929149473c9"
      },
      "source": [
        "staff.columns"
      ],
      "execution_count": 35,
      "outputs": [
        {
          "output_type": "execute_result",
          "data": {
            "text/plain": [
              "Index(['Codigo accidentado', 'Turno', 'Gender', 'Planta', 'Tipo accidente',\n",
              "       'Tipo trabajador', 'Fabrica', 'Tecnología', 'Pais',\n",
              "       'Horas Presencia Efectiva Subcontratados',\n",
              "       'Horas Presencia Efectiva ETTs', 'Horas Formacion Seguridad Propios',\n",
              "       'Horas Formacion Seguridad ETTs', 'Accident', 'wk_position', 'Age',\n",
              "       'Severity', 'Accident_place', 'N employees', 'Training hours'],\n",
              "      dtype='object')"
            ]
          },
          "metadata": {
            "tags": []
          },
          "execution_count": 35
        }
      ]
    },
    {
      "cell_type": "code",
      "metadata": {
        "colab": {
          "base_uri": "https://localhost:8080/",
          "height": 204
        },
        "id": "-DG4sqwLqvHq",
        "outputId": "37dcfd26-bd84-45ae-8d45-325348f14041"
      },
      "source": [
        "n_employees = staff.groupby(by=['Age', 'Gender']).agg('sum')\n",
        "\n",
        "n_employees = n_employees.reset_index()\n",
        "n_employees.drop(columns={'Planta', 'Horas Presencia Efectiva Subcontratados',\n",
        "       'Horas Presencia Efectiva ETTs', 'Horas Formacion Seguridad Propios',\n",
        "       'Horas Formacion Seguridad ETTs'}, inplace=True)\n",
        "n_employees.head()"
      ],
      "execution_count": 36,
      "outputs": [
        {
          "output_type": "execute_result",
          "data": {
            "text/html": [
              "<div>\n",
              "<style scoped>\n",
              "    .dataframe tbody tr th:only-of-type {\n",
              "        vertical-align: middle;\n",
              "    }\n",
              "\n",
              "    .dataframe tbody tr th {\n",
              "        vertical-align: top;\n",
              "    }\n",
              "\n",
              "    .dataframe thead th {\n",
              "        text-align: right;\n",
              "    }\n",
              "</style>\n",
              "<table border=\"1\" class=\"dataframe\">\n",
              "  <thead>\n",
              "    <tr style=\"text-align: right;\">\n",
              "      <th></th>\n",
              "      <th>Age</th>\n",
              "      <th>Gender</th>\n",
              "      <th>N employees</th>\n",
              "      <th>Training hours</th>\n",
              "    </tr>\n",
              "  </thead>\n",
              "  <tbody>\n",
              "    <tr>\n",
              "      <th>0</th>\n",
              "      <td>Entre 30-50</td>\n",
              "      <td>Hombre</td>\n",
              "      <td>8751</td>\n",
              "      <td>10211335.1</td>\n",
              "    </tr>\n",
              "    <tr>\n",
              "      <th>1</th>\n",
              "      <td>Entre 30-50</td>\n",
              "      <td>Mujer</td>\n",
              "      <td>795</td>\n",
              "      <td>886787.1</td>\n",
              "    </tr>\n",
              "    <tr>\n",
              "      <th>2</th>\n",
              "      <td>Mayor 50</td>\n",
              "      <td>Hombre</td>\n",
              "      <td>6694</td>\n",
              "      <td>7847993.7</td>\n",
              "    </tr>\n",
              "    <tr>\n",
              "      <th>3</th>\n",
              "      <td>Mayor 50</td>\n",
              "      <td>Mujer</td>\n",
              "      <td>595</td>\n",
              "      <td>677621.6</td>\n",
              "    </tr>\n",
              "    <tr>\n",
              "      <th>4</th>\n",
              "      <td>Menor 30</td>\n",
              "      <td>Hombre</td>\n",
              "      <td>3978</td>\n",
              "      <td>4717726.1</td>\n",
              "    </tr>\n",
              "  </tbody>\n",
              "</table>\n",
              "</div>"
            ],
            "text/plain": [
              "           Age  Gender  N employees  Training hours\n",
              "0  Entre 30-50  Hombre         8751      10211335.1\n",
              "1  Entre 30-50   Mujer          795        886787.1\n",
              "2     Mayor 50  Hombre         6694       7847993.7\n",
              "3     Mayor 50   Mujer          595        677621.6\n",
              "4     Menor 30  Hombre         3978       4717726.1"
            ]
          },
          "metadata": {
            "tags": []
          },
          "execution_count": 36
        }
      ]
    },
    {
      "cell_type": "markdown",
      "metadata": {
        "id": "U0_iNj0GrfpC"
      },
      "source": [
        "The majority of the employees are Men between 30-50 years"
      ]
    },
    {
      "cell_type": "code",
      "metadata": {
        "colab": {
          "base_uri": "https://localhost:8080/",
          "height": 418
        },
        "id": "gEXaFN8Jq55d",
        "outputId": "b9fbaf99-46df-4375-bdfd-e69f42334d29"
      },
      "source": [
        "alt.Chart(n_employees, title=\"Nº employees by Age and Gender\").mark_bar().encode( \n",
        "    y = 'N employees',\n",
        "    x ='Age',\n",
        "     color='Gender').properties(\n",
        "    width=700,\n",
        "    height=300\n",
        ")"
      ],
      "execution_count": 37,
      "outputs": [
        {
          "output_type": "execute_result",
          "data": {
            "text/plain": [
              "alt.Chart(...)"
            ],
            "text/html": [
              "\n",
              "<div id=\"altair-viz-e7ff7683b84f4369b9d61244398f6882\"></div>\n",
              "<script type=\"text/javascript\">\n",
              "  (function(spec, embedOpt){\n",
              "    let outputDiv = document.currentScript.previousElementSibling;\n",
              "    if (outputDiv.id !== \"altair-viz-e7ff7683b84f4369b9d61244398f6882\") {\n",
              "      outputDiv = document.getElementById(\"altair-viz-e7ff7683b84f4369b9d61244398f6882\");\n",
              "    }\n",
              "    const paths = {\n",
              "      \"vega\": \"https://cdn.jsdelivr.net/npm//vega@5?noext\",\n",
              "      \"vega-lib\": \"https://cdn.jsdelivr.net/npm//vega-lib?noext\",\n",
              "      \"vega-lite\": \"https://cdn.jsdelivr.net/npm//vega-lite@4.8.1?noext\",\n",
              "      \"vega-embed\": \"https://cdn.jsdelivr.net/npm//vega-embed@6?noext\",\n",
              "    };\n",
              "\n",
              "    function loadScript(lib) {\n",
              "      return new Promise(function(resolve, reject) {\n",
              "        var s = document.createElement('script');\n",
              "        s.src = paths[lib];\n",
              "        s.async = true;\n",
              "        s.onload = () => resolve(paths[lib]);\n",
              "        s.onerror = () => reject(`Error loading script: ${paths[lib]}`);\n",
              "        document.getElementsByTagName(\"head\")[0].appendChild(s);\n",
              "      });\n",
              "    }\n",
              "\n",
              "    function showError(err) {\n",
              "      outputDiv.innerHTML = `<div class=\"error\" style=\"color:red;\">${err}</div>`;\n",
              "      throw err;\n",
              "    }\n",
              "\n",
              "    function displayChart(vegaEmbed) {\n",
              "      vegaEmbed(outputDiv, spec, embedOpt)\n",
              "        .catch(err => showError(`Javascript Error: ${err.message}<br>This usually means there's a typo in your chart specification. See the javascript console for the full traceback.`));\n",
              "    }\n",
              "\n",
              "    if(typeof define === \"function\" && define.amd) {\n",
              "      requirejs.config({paths});\n",
              "      require([\"vega-embed\"], displayChart, err => showError(`Error loading script: ${err.message}`));\n",
              "    } else if (typeof vegaEmbed === \"function\") {\n",
              "      displayChart(vegaEmbed);\n",
              "    } else {\n",
              "      loadScript(\"vega\")\n",
              "        .then(() => loadScript(\"vega-lite\"))\n",
              "        .then(() => loadScript(\"vega-embed\"))\n",
              "        .catch(showError)\n",
              "        .then(() => displayChart(vegaEmbed));\n",
              "    }\n",
              "  })({\"config\": {\"view\": {\"continuousWidth\": 400, \"continuousHeight\": 300}}, \"data\": {\"name\": \"data-d51a3d58eda3fc1bb7bc43d760423509\"}, \"mark\": \"bar\", \"encoding\": {\"color\": {\"type\": \"nominal\", \"field\": \"Gender\"}, \"x\": {\"type\": \"nominal\", \"field\": \"Age\"}, \"y\": {\"type\": \"quantitative\", \"field\": \"N employees\"}}, \"height\": 300, \"title\": \"N\\u00ba employees by Age and Gender\", \"width\": 700, \"$schema\": \"https://vega.github.io/schema/vega-lite/v4.8.1.json\", \"datasets\": {\"data-d51a3d58eda3fc1bb7bc43d760423509\": [{\"Age\": \"Entre 30-50\", \"Gender\": \"Hombre\", \"N employees\": 8751, \"Training hours\": 10211335.100000236}, {\"Age\": \"Entre 30-50\", \"Gender\": \"Mujer\", \"N employees\": 795, \"Training hours\": 886787.1000000013}, {\"Age\": \"Mayor 50\", \"Gender\": \"Hombre\", \"N employees\": 6694, \"Training hours\": 7847993.700000194}, {\"Age\": \"Mayor 50\", \"Gender\": \"Mujer\", \"N employees\": 595, \"Training hours\": 677621.6000000008}, {\"Age\": \"Menor 30\", \"Gender\": \"Hombre\", \"N employees\": 3978, \"Training hours\": 4717726.1000000145}, {\"Age\": \"Menor 30\", \"Gender\": \"Mujer\", \"N employees\": 397, \"Training hours\": 455710.5000000005}]}}, {\"theme\": \"latimes\", \"mode\": \"vega-lite\"});\n",
              "</script>"
            ]
          },
          "metadata": {
            "tags": []
          },
          "execution_count": 37
        }
      ]
    },
    {
      "cell_type": "code",
      "metadata": {
        "colab": {
          "base_uri": "https://localhost:8080/",
          "height": 204
        },
        "id": "TlYVYctBr6EZ",
        "outputId": "d78d974f-193a-4bc9-ec6e-73162cc5c6a8"
      },
      "source": [
        "n_employees = staff.groupby(by=['wk_position']).agg('sum')\n",
        "\n",
        "n_employees = n_employees.reset_index()\n",
        "n_employees.drop(columns={'Planta', 'Horas Presencia Efectiva Subcontratados',\n",
        "       'Horas Presencia Efectiva ETTs', 'Horas Formacion Seguridad Propios',\n",
        "       'Horas Formacion Seguridad ETTs'}, inplace=True)\n",
        "n_employees.head()"
      ],
      "execution_count": 38,
      "outputs": [
        {
          "output_type": "execute_result",
          "data": {
            "text/html": [
              "<div>\n",
              "<style scoped>\n",
              "    .dataframe tbody tr th:only-of-type {\n",
              "        vertical-align: middle;\n",
              "    }\n",
              "\n",
              "    .dataframe tbody tr th {\n",
              "        vertical-align: top;\n",
              "    }\n",
              "\n",
              "    .dataframe thead th {\n",
              "        text-align: right;\n",
              "    }\n",
              "</style>\n",
              "<table border=\"1\" class=\"dataframe\">\n",
              "  <thead>\n",
              "    <tr style=\"text-align: right;\">\n",
              "      <th></th>\n",
              "      <th>wk_position</th>\n",
              "      <th>N employees</th>\n",
              "      <th>Training hours</th>\n",
              "    </tr>\n",
              "  </thead>\n",
              "  <tbody>\n",
              "    <tr>\n",
              "      <th>0</th>\n",
              "      <td>-</td>\n",
              "      <td>27</td>\n",
              "      <td>35083.7</td>\n",
              "    </tr>\n",
              "    <tr>\n",
              "      <th>1</th>\n",
              "      <td>.</td>\n",
              "      <td>25</td>\n",
              "      <td>31833.6</td>\n",
              "    </tr>\n",
              "    <tr>\n",
              "      <th>2</th>\n",
              "      <td>/</td>\n",
              "      <td>42</td>\n",
              "      <td>53293.3</td>\n",
              "    </tr>\n",
              "    <tr>\n",
              "      <th>3</th>\n",
              "      <td>: Operador II</td>\n",
              "      <td>31</td>\n",
              "      <td>39097.0</td>\n",
              "    </tr>\n",
              "    <tr>\n",
              "      <th>4</th>\n",
              "      <td>APILADOR TRANS002</td>\n",
              "      <td>28</td>\n",
              "      <td>36841.7</td>\n",
              "    </tr>\n",
              "  </tbody>\n",
              "</table>\n",
              "</div>"
            ],
            "text/plain": [
              "         wk_position  N employees  Training hours\n",
              "0                  -           27         35083.7\n",
              "1                  .           25         31833.6\n",
              "2                 /            42         53293.3\n",
              "3      : Operador II           31         39097.0\n",
              "4  APILADOR TRANS002           28         36841.7"
            ]
          },
          "metadata": {
            "tags": []
          },
          "execution_count": 38
        }
      ]
    },
    {
      "cell_type": "code",
      "metadata": {
        "id": "VfLea52psWUz"
      },
      "source": [
        "n_employees = n_employees.sort_values(by='N employees', ascending=False).head(100)"
      ],
      "execution_count": 39,
      "outputs": []
    },
    {
      "cell_type": "markdown",
      "metadata": {
        "id": "_6auT3c6soxe"
      },
      "source": [
        "We are going to plot the 100 work positions with more employees in the company"
      ]
    },
    {
      "cell_type": "code",
      "metadata": {
        "colab": {
          "base_uri": "https://localhost:8080/",
          "height": 418
        },
        "id": "T95b5rIosOIQ",
        "outputId": "858f82ab-9325-45de-e4ee-8b51de542736"
      },
      "source": [
        "alt.Chart(n_employees, title=\"Nº employees by Work position\").mark_bar().encode( \n",
        "    y = 'N employees',\n",
        "    x ='wk_position',\n",
        "     ).properties(\n",
        "    width=1000,\n",
        "    height=300\n",
        ")\n",
        "     \n",
        "\n"
      ],
      "execution_count": 44,
      "outputs": [
        {
          "output_type": "execute_result",
          "data": {
            "text/plain": [
              "alt.Chart(...)"
            ],
            "text/html": [
              "\n",
              "<div id=\"altair-viz-28835f45582b424c95f0f3e9e7d393fa\"></div>\n",
              "<script type=\"text/javascript\">\n",
              "  (function(spec, embedOpt){\n",
              "    let outputDiv = document.currentScript.previousElementSibling;\n",
              "    if (outputDiv.id !== \"altair-viz-28835f45582b424c95f0f3e9e7d393fa\") {\n",
              "      outputDiv = document.getElementById(\"altair-viz-28835f45582b424c95f0f3e9e7d393fa\");\n",
              "    }\n",
              "    const paths = {\n",
              "      \"vega\": \"https://cdn.jsdelivr.net/npm//vega@5?noext\",\n",
              "      \"vega-lib\": \"https://cdn.jsdelivr.net/npm//vega-lib?noext\",\n",
              "      \"vega-lite\": \"https://cdn.jsdelivr.net/npm//vega-lite@4.8.1?noext\",\n",
              "      \"vega-embed\": \"https://cdn.jsdelivr.net/npm//vega-embed@6?noext\",\n",
              "    };\n",
              "\n",
              "    function loadScript(lib) {\n",
              "      return new Promise(function(resolve, reject) {\n",
              "        var s = document.createElement('script');\n",
              "        s.src = paths[lib];\n",
              "        s.async = true;\n",
              "        s.onload = () => resolve(paths[lib]);\n",
              "        s.onerror = () => reject(`Error loading script: ${paths[lib]}`);\n",
              "        document.getElementsByTagName(\"head\")[0].appendChild(s);\n",
              "      });\n",
              "    }\n",
              "\n",
              "    function showError(err) {\n",
              "      outputDiv.innerHTML = `<div class=\"error\" style=\"color:red;\">${err}</div>`;\n",
              "      throw err;\n",
              "    }\n",
              "\n",
              "    function displayChart(vegaEmbed) {\n",
              "      vegaEmbed(outputDiv, spec, embedOpt)\n",
              "        .catch(err => showError(`Javascript Error: ${err.message}<br>This usually means there's a typo in your chart specification. See the javascript console for the full traceback.`));\n",
              "    }\n",
              "\n",
              "    if(typeof define === \"function\" && define.amd) {\n",
              "      requirejs.config({paths});\n",
              "      require([\"vega-embed\"], displayChart, err => showError(`Error loading script: ${err.message}`));\n",
              "    } else if (typeof vegaEmbed === \"function\") {\n",
              "      displayChart(vegaEmbed);\n",
              "    } else {\n",
              "      loadScript(\"vega\")\n",
              "        .then(() => loadScript(\"vega-lite\"))\n",
              "        .then(() => loadScript(\"vega-embed\"))\n",
              "        .catch(showError)\n",
              "        .then(() => displayChart(vegaEmbed));\n",
              "    }\n",
              "  })({\"config\": {\"view\": {\"continuousWidth\": 400, \"continuousHeight\": 300}}, \"data\": {\"name\": \"data-1280bffbc0520973f3d2868db3df4f3c\"}, \"mark\": \"bar\", \"encoding\": {\"x\": {\"type\": \"nominal\", \"field\": \"wk_position\"}, \"y\": {\"type\": \"quantitative\", \"field\": \"N employees\"}}, \"height\": 300, \"title\": \"N\\u00ba employees by Work position\", \"width\": 1000, \"$schema\": \"https://vega.github.io/schema/vega-lite/v4.8.1.json\", \"datasets\": {\"data-1280bffbc0520973f3d2868db3df4f3c\": [{\"wk_position\": \"/ \", \"N employees\": 42, \"Training hours\": 53293.30000000001}, {\"wk_position\": \"LONGI008\", \"N employees\": 42, \"Training hours\": 46161.8}, {\"wk_position\": \"Embalador 1 (en capacitaci\\u00f3n)\", \"N employees\": 41, \"Training hours\": 49486.0}, {\"wk_position\": \"operatorof Press\", \"N employees\": 41, \"Training hours\": 41853.8}, {\"wk_position\": \"Maschinenf\\u00fchrer Presse 1\", \"N employees\": 40, \"Training hours\": 45600.70000000001}, {\"wk_position\": \"Alimentador de perfiladoras de tubos\", \"N employees\": 40, \"Training hours\": 48602.0}, {\"wk_position\": \"Maquinista LONGI003\", \"N employees\": 40, \"Training hours\": 48774.70000000001}, {\"wk_position\": \"Maschinenf\\u00fchrer 1 Presse 4/6\", \"N employees\": 40, \"Training hours\": 44147.6}, {\"wk_position\": \"Kranf\\u00fchrer Halle 3\", \"N employees\": 40, \"Training hours\": 46070.1}, {\"wk_position\": \"Cargador descargador\", \"N employees\": 40, \"Training hours\": 48258.299999999996}, {\"wk_position\": \"FINANZAS - PAGO A PROVEEDORES\", \"N employees\": 39, \"Training hours\": 37482.9}, {\"wk_position\": \"press op \", \"N employees\": 39, \"Training hours\": 49115.5}, {\"wk_position\": \"UTILLERO GALVANIZADO\", \"N employees\": 39, \"Training hours\": 56074.50000000001}, {\"wk_position\": \"Carretillero galvanizado\", \"N employees\": 39, \"Training hours\": 39237.299999999996}, {\"wk_position\": \"packaking -road safety\", \"N employees\": 39, \"Training hours\": 47054.299999999996}, {\"wk_position\": \"Ayudante de perfiladora de Dimeco\", \"N employees\": 39, \"Training hours\": 47036.600000000006}, {\"wk_position\": \"Verificador tubos 601\", \"N employees\": 38, \"Training hours\": 48178.100000000006}, {\"wk_position\": \"Maschinenf\\u00fchrer 1, Presse 2\", \"N employees\": 38, \"Training hours\": 46850.899999999994}, {\"wk_position\": \"Stacker - training as forklift driver\", \"N employees\": 38, \"Training hours\": 46601.8}, {\"wk_position\": \"T\\u00e9cnico de Mantenimiento\", \"N employees\": 38, \"Training hours\": 39082.2}, {\"wk_position\": \"Automatenbef\\u00fcller\", \"N employees\": 38, \"Training hours\": 34613.09999999999}, {\"wk_position\": \"Maschinenf\\u00fchrer 2 Presse 1\", \"N employees\": 38, \"Training hours\": 46514.8}, {\"wk_position\": \"Working on Press\", \"N employees\": 38, \"Training hours\": 41653.5}, {\"wk_position\": \"plegadora\", \"N employees\": 37, \"Training hours\": 44823.50000000001}, {\"wk_position\": \"Montador / Auxiliar LONGI003\", \"N employees\": 37, \"Training hours\": 44954.90000000001}, {\"wk_position\": \"Maquinista Perfiladora Tubos\", \"N employees\": 37, \"Training hours\": 42061.5}, {\"wk_position\": \"hanger\", \"N employees\": 37, \"Training hours\": 40225.2}, {\"wk_position\": \"Operador de Produ\\u00e7\\u00e3o II\", \"N employees\": 37, \"Training hours\": 43134.8}, {\"wk_position\": \"Titular Corte Termico\", \"N employees\": 37, \"Training hours\": 43683.79999999999}, {\"wk_position\": \"Operadores limpieza de caldera y gruista de caldera\", \"N employees\": 37, \"Training hours\": 40216.0}, {\"wk_position\": \"Operario corte\", \"N employees\": 37, \"Training hours\": 44537.899999999994}, {\"wk_position\": \"Final Product Logistic Operator\", \"N employees\": 37, \"Training hours\": 42296.2}, {\"wk_position\": \"Trasladando bobina\", \"N employees\": 36, \"Training hours\": 41793.3}, {\"wk_position\": \"SI\", \"N employees\": 36, \"Training hours\": 42874.4}, {\"wk_position\": \"Gruista de tubo tracker\", \"N employees\": 36, \"Training hours\": 41832.299999999996}, {\"wk_position\": \"camionero\", \"N employees\": 36, \"Training hours\": 46205.0}, {\"wk_position\": \"Kranf\\u00fchrer H1 Nord\", \"N employees\": 36, \"Training hours\": 40040.3}, {\"wk_position\": \"MF2 LONGI001\", \"N employees\": 36, \"Training hours\": 43447.500000000015}, {\"wk_position\": \"Gruista LONGI004 y LONGI008\", \"N employees\": 36, \"Training hours\": 43506.700000000004}, {\"wk_position\": \"Staplerfahrer Halle 7\", \"N employees\": 36, \"Training hours\": 39774.200000000004}, {\"wk_position\": \"Cargador/descargador\", \"N employees\": 36, \"Training hours\": 43948.5}, {\"wk_position\": \"Auszubildender Mechatroniker\", \"N employees\": 36, \"Training hours\": 38270.5}, {\"wk_position\": \"Titular L\\u00ednea Corte Prensa I\", \"N employees\": 36, \"Training hours\": 47506.99999999999}, {\"wk_position\": \"GRUISTA - CARRETILLERO - PRENSAS\", \"N employees\": 35, \"Training hours\": 45698.8}, {\"wk_position\": \"DECAPADO\", \"N employees\": 35, \"Training hours\": 37773.7}, {\"wk_position\": \"Staplerfahrer Halle 2 und 3\", \"N employees\": 35, \"Training hours\": 41574.3}, {\"wk_position\": \"DIRECTOR COMERCIAL\", \"N employees\": 35, \"Training hours\": 40419.200000000004}, {\"wk_position\": \"Gruista Longi004 -Longi008\", \"N employees\": 35, \"Training hours\": 43519.8}, {\"wk_position\": \"Si. Operario Rattunde en Formacion\", \"N employees\": 35, \"Training hours\": 45222.40000000001}, {\"wk_position\": \"Gruista/soldador\", \"N employees\": 35, \"Training hours\": 38277.49999999999}, {\"wk_position\": \"Reemplazo de herramienta en la l\\u00ednea de corte transversal PRENS002\", \"N employees\": 35, \"Training hours\": 35586.6}, {\"wk_position\": \"Oxygen welding\", \"N employees\": 35, \"Training hours\": 39257.90000000001}, {\"wk_position\": \"Puente Grua Tubos\", \"N employees\": 35, \"Training hours\": 37725.69999999999}, {\"wk_position\": \"AYUDANTE PRENS004\", \"N employees\": 35, \"Training hours\": 42052.50000000001}, {\"wk_position\": \"LONGI 1\", \"N employees\": 35, \"Training hours\": 33785.5}, {\"wk_position\": \"Longi 2\", \"N employees\": 35, \"Training hours\": 41559.1}, {\"wk_position\": \"Maschinenf\\u00fchrer 2\", \"N employees\": 35, \"Training hours\": 39887.1}, {\"wk_position\": \"maquinista/gruista\", \"N employees\": 35, \"Training hours\": 39259.2}, {\"wk_position\": \"n/a \", \"N employees\": 35, \"Training hours\": 44697.5}, {\"wk_position\": \"operator on packaging line\", \"N employees\": 35, \"Training hours\": 49195.700000000004}, {\"wk_position\": \"poligon production-black area\", \"N employees\": 35, \"Training hours\": 40074.3}, {\"wk_position\": \"OPERADOR DE CARRETILLA\", \"N employees\": 34, \"Training hours\": 44338.00000000001}, {\"wk_position\": \"Operador de har lan\", \"N employees\": 34, \"Training hours\": 40165.0}, {\"wk_position\": \"Operario Entrada Decapado M1\", \"N employees\": 34, \"Training hours\": 35671.200000000004}, {\"wk_position\": \"Gruista de entrada\", \"N employees\": 34, \"Training hours\": 39328.600000000006}, {\"wk_position\": \"Nacharbeit\", \"N employees\": 34, \"Training hours\": 45027.0}, {\"wk_position\": \"responsible for the shift\", \"N employees\": 34, \"Training hours\": 42625.9}, {\"wk_position\": \"Maintenance Engineer\", \"N employees\": 34, \"Training hours\": 37234.99999999999}, {\"wk_position\": \"carretillero\", \"N employees\": 34, \"Training hours\": 43178.2}, {\"wk_position\": \"Operador de montagem de \\u00e1rvores de navalhas / Operador auxiliar\", \"N employees\": 34, \"Training hours\": 33949.799999999996}, {\"wk_position\": \"maquinista / gruista\", \"N employees\": 34, \"Training hours\": 40251.299999999996}, {\"wk_position\": \"Bediener Biele-Wender, Halle 8\", \"N employees\": 34, \"Training hours\": 46121.3}, {\"wk_position\": \"MF1 Presse 2\", \"N employees\": 34, \"Training hours\": 33542.399999999994}, {\"wk_position\": \"Montacarguista\", \"N employees\": 34, \"Training hours\": 40231.69999999998}, {\"wk_position\": \"Descargador\", \"N employees\": 34, \"Training hours\": 37159.1}, {\"wk_position\": \"Gruista y limpieza de caldera\", \"N employees\": 34, \"Training hours\": 46957.3}, {\"wk_position\": \"EMBAL015\", \"N employees\": 34, \"Training hours\": 38049.0}, {\"wk_position\": \"Gruista/carretillero\", \"N employees\": 34, \"Training hours\": 39260.50000000001}, {\"wk_position\": \"Power Press Op\", \"N employees\": 34, \"Training hours\": 34824.4}, {\"wk_position\": \"Operador II\", \"N employees\": 33, \"Training hours\": 39606.6}, {\"wk_position\": \"welding for polygon\", \"N employees\": 33, \"Training hours\": 41227.9}, {\"wk_position\": \"EMBALADORA LONGI 6\", \"N employees\": 33, \"Training hours\": 40982.5}, {\"wk_position\": \"Salida de la carretilla de descarga y flejado del material\", \"N employees\": 33, \"Training hours\": 36857.39999999999}, {\"wk_position\": \"Tornero ajustador\", \"N employees\": 33, \"Training hours\": 30204.400000000005}, {\"wk_position\": \"Si (empresa externa)\", \"N employees\": 33, \"Training hours\": 45339.9}, {\"wk_position\": \"Titular de l\\u00ednea y auxiliar (Prensa Rovetta)\", \"N employees\": 33, \"Training hours\": 39830.40000000001}, {\"wk_position\": \"Staplerfahrer Halle 3\", \"N employees\": 33, \"Training hours\": 33587.200000000004}, {\"wk_position\": \"Crane operator\", \"N employees\": 33, \"Training hours\": 46003.600000000006}, {\"wk_position\": \"store keeper\", \"N employees\": 33, \"Training hours\": 35359.9}, {\"wk_position\": \"Driver for Adam Jones\", \"N employees\": 33, \"Training hours\": 42094.00000000001}, {\"wk_position\": \"Desmontaje de la herramienta despu\\u00e9s de la producci\\u00f3n de la l\\u00ednea 1 para colocarla en el almac\\u00e9n de matrices \\u2013 matriz n\\u00fam. 26\", \"N employees\": 33, \"Training hours\": 43115.399999999994}, {\"wk_position\": \"Flejador/ ayudante TRANS007\", \"N employees\": 33, \"Training hours\": 39312.200000000004}, {\"wk_position\": \"Maquinista Trans 003\", \"N employees\": 33, \"Training hours\": 32931.1}, {\"wk_position\": \"LIDER LONGI06\", \"N employees\": 33, \"Training hours\": 38314.50000000001}, {\"wk_position\": \"MANTENIMIENTO\", \"N employees\": 33, \"Training hours\": 40691.3}, {\"wk_position\": \"Caretillero\", \"N employees\": 33, \"Training hours\": 30044.30000000001}, {\"wk_position\": \"Verlader / Staplerfahrer Halle 8\", \"N employees\": 33, \"Training hours\": 35944.6}, {\"wk_position\": \"galvanized\", \"N employees\": 33, \"Training hours\": 39637.5}, {\"wk_position\": \"guardrail-road safety\", \"N employees\": 33, \"Training hours\": 36175.1}, {\"wk_position\": \"empaquetadora/ flejado\", \"N employees\": 33, \"Training hours\": 40886.700000000004}]}}, {\"theme\": \"latimes\", \"mode\": \"vega-lite\"});\n",
              "</script>"
            ]
          },
          "metadata": {
            "tags": []
          },
          "execution_count": 44
        }
      ]
    },
    {
      "cell_type": "markdown",
      "metadata": {
        "id": "jTSXavt0tqCb"
      },
      "source": [
        "Some information about our numerical data on trainning hours and working hours"
      ]
    },
    {
      "cell_type": "code",
      "metadata": {
        "colab": {
          "base_uri": "https://localhost:8080/",
          "height": 297
        },
        "id": "S5cU1xiDts5h",
        "outputId": "216eec88-2df4-4e05-8086-b6fa07a10452"
      },
      "source": [
        "staff[['Horas Presencia Efectiva Subcontratados',\t'Horas Presencia Efectiva ETTs',\t'Horas Formacion Seguridad Propios',\t'Horas Formacion Seguridad ETTs',\t'N employees']].describe()"
      ],
      "execution_count": 41,
      "outputs": [
        {
          "output_type": "execute_result",
          "data": {
            "text/html": [
              "<div>\n",
              "<style scoped>\n",
              "    .dataframe tbody tr th:only-of-type {\n",
              "        vertical-align: middle;\n",
              "    }\n",
              "\n",
              "    .dataframe tbody tr th {\n",
              "        vertical-align: top;\n",
              "    }\n",
              "\n",
              "    .dataframe thead th {\n",
              "        text-align: right;\n",
              "    }\n",
              "</style>\n",
              "<table border=\"1\" class=\"dataframe\">\n",
              "  <thead>\n",
              "    <tr style=\"text-align: right;\">\n",
              "      <th></th>\n",
              "      <th>Horas Presencia Efectiva Subcontratados</th>\n",
              "      <th>Horas Presencia Efectiva ETTs</th>\n",
              "      <th>Horas Formacion Seguridad Propios</th>\n",
              "      <th>Horas Formacion Seguridad ETTs</th>\n",
              "      <th>N employees</th>\n",
              "    </tr>\n",
              "  </thead>\n",
              "  <tbody>\n",
              "    <tr>\n",
              "      <th>count</th>\n",
              "      <td>21210.000000</td>\n",
              "      <td>21210.000000</td>\n",
              "      <td>21210.000000</td>\n",
              "      <td>21210.000000</td>\n",
              "      <td>21210.0</td>\n",
              "    </tr>\n",
              "    <tr>\n",
              "      <th>mean</th>\n",
              "      <td>11940.092114</td>\n",
              "      <td>51779.378225</td>\n",
              "      <td>960.195040</td>\n",
              "      <td>208.931509</td>\n",
              "      <td>1.0</td>\n",
              "    </tr>\n",
              "    <tr>\n",
              "      <th>std</th>\n",
              "      <td>17376.527532</td>\n",
              "      <td>64567.736397</td>\n",
              "      <td>507.842686</td>\n",
              "      <td>323.662662</td>\n",
              "      <td>0.0</td>\n",
              "    </tr>\n",
              "    <tr>\n",
              "      <th>min</th>\n",
              "      <td>0.000000</td>\n",
              "      <td>0.000000</td>\n",
              "      <td>0.000000</td>\n",
              "      <td>0.000000</td>\n",
              "      <td>1.0</td>\n",
              "    </tr>\n",
              "    <tr>\n",
              "      <th>25%</th>\n",
              "      <td>0.000000</td>\n",
              "      <td>211.000000</td>\n",
              "      <td>606.500000</td>\n",
              "      <td>0.000000</td>\n",
              "      <td>1.0</td>\n",
              "    </tr>\n",
              "    <tr>\n",
              "      <th>50%</th>\n",
              "      <td>0.000000</td>\n",
              "      <td>29316.000000</td>\n",
              "      <td>1212.500000</td>\n",
              "      <td>56.300000</td>\n",
              "      <td>1.0</td>\n",
              "    </tr>\n",
              "    <tr>\n",
              "      <th>75%</th>\n",
              "      <td>25249.000000</td>\n",
              "      <td>46112.000000</td>\n",
              "      <td>1419.300000</td>\n",
              "      <td>151.500000</td>\n",
              "      <td>1.0</td>\n",
              "    </tr>\n",
              "    <tr>\n",
              "      <th>max</th>\n",
              "      <td>72495.200000</td>\n",
              "      <td>167848.000000</td>\n",
              "      <td>1542.900000</td>\n",
              "      <td>830.100000</td>\n",
              "      <td>1.0</td>\n",
              "    </tr>\n",
              "  </tbody>\n",
              "</table>\n",
              "</div>"
            ],
            "text/plain": [
              "       Horas Presencia Efectiva Subcontratados  ...  N employees\n",
              "count                             21210.000000  ...      21210.0\n",
              "mean                              11940.092114  ...          1.0\n",
              "std                               17376.527532  ...          0.0\n",
              "min                                   0.000000  ...          1.0\n",
              "25%                                   0.000000  ...          1.0\n",
              "50%                                   0.000000  ...          1.0\n",
              "75%                               25249.000000  ...          1.0\n",
              "max                               72495.200000  ...          1.0\n",
              "\n",
              "[8 rows x 5 columns]"
            ]
          },
          "metadata": {
            "tags": []
          },
          "execution_count": 41
        }
      ]
    }
  ]
}