{
  "nbformat": 4,
  "nbformat_minor": 0,
  "metadata": {
    "colab": {
      "name": "02_Exploratory_Staff_data.ipynb",
      "provenance": [],
      "mount_file_id": "1M8lWieZbLFiFrBZE08HwV4adzembGGVJ",
      "authorship_tag": "ABX9TyNbR5cdF4VpXxPdgxk0AyUW",
      "include_colab_link": true
    },
    "kernelspec": {
      "name": "python3",
      "display_name": "Python 3"
    },
    "language_info": {
      "name": "python"
    }
  },
  "cells": [
    {
      "cell_type": "markdown",
      "metadata": {
        "id": "view-in-github",
        "colab_type": "text"
      },
      "source": [
        "<a href=\"https://colab.research.google.com/github/sarasabino/Accident_Rate_Project/blob/main/Src/Notebooks/02_Exploratory_Staff_data.ipynb\" target=\"_parent\"><img src=\"https://colab.research.google.com/assets/colab-badge.svg\" alt=\"Open In Colab\"/></a>"
      ]
    },
    {
      "cell_type": "markdown",
      "metadata": {
        "id": "pQXrkIKjshcF"
      },
      "source": [
        "# Exploratory Staff Data\n",
        "\n",
        "In this notebook we are going to be analyzing the aggregated staff data we got.\n",
        "\n",
        "We are going to read all data we have on the staff data file. We are going to generate six dataframes with the following data:\n",
        "\n",
        "- employees_country --> number of employees per year and country\n",
        "- int_empl_gender --> nº employees per year, country and gender\n",
        "- int_empl_age --> nº employees per year, age range and gender\n",
        "- int_empl_category --> nº employees per year, catgeory and gender\n",
        "- ext_empl_genero --> nº employees per year and gender\n",
        "- h_formacion --> nº trainning hours received by the employees per year and country"
      ]
    },
    {
      "cell_type": "code",
      "metadata": {
        "id": "UphiA3wYscFU"
      },
      "source": [
        "! cp /content/drive/MyDrive/'Colab Notebooks'/'TFM Accidentabilidad'/Data/Datos_plantilla.xlsx ."
      ],
      "execution_count": 1,
      "outputs": []
    },
    {
      "cell_type": "code",
      "metadata": {
        "colab": {
          "base_uri": "https://localhost:8080/",
          "height": 205
        },
        "id": "QgoVPbLnsrxU",
        "outputId": "2909e100-60d0-4818-88bf-b9afae9923d9"
      },
      "source": [
        "import pandas as pd\n",
        "\n",
        "employees_country = pd.read_excel('Datos_plantilla.xlsx',sheet_name='tipo_empleados_pais')\n",
        "employees_country.head()"
      ],
      "execution_count": 2,
      "outputs": [
        {
          "output_type": "execute_result",
          "data": {
            "text/html": [
              "<div>\n",
              "<style scoped>\n",
              "    .dataframe tbody tr th:only-of-type {\n",
              "        vertical-align: middle;\n",
              "    }\n",
              "\n",
              "    .dataframe tbody tr th {\n",
              "        vertical-align: top;\n",
              "    }\n",
              "\n",
              "    .dataframe thead th {\n",
              "        text-align: right;\n",
              "    }\n",
              "</style>\n",
              "<table border=\"1\" class=\"dataframe\">\n",
              "  <thead>\n",
              "    <tr style=\"text-align: right;\">\n",
              "      <th></th>\n",
              "      <th>Año</th>\n",
              "      <th>País</th>\n",
              "      <th>Tipo contrato</th>\n",
              "      <th>Empleados</th>\n",
              "    </tr>\n",
              "  </thead>\n",
              "  <tbody>\n",
              "    <tr>\n",
              "      <th>0</th>\n",
              "      <td>2018</td>\n",
              "      <td>México</td>\n",
              "      <td>Interno</td>\n",
              "      <td>154</td>\n",
              "    </tr>\n",
              "    <tr>\n",
              "      <th>1</th>\n",
              "      <td>2018</td>\n",
              "      <td>México</td>\n",
              "      <td>Externo</td>\n",
              "      <td>61</td>\n",
              "    </tr>\n",
              "    <tr>\n",
              "      <th>2</th>\n",
              "      <td>2018</td>\n",
              "      <td>EEUU</td>\n",
              "      <td>Interno</td>\n",
              "      <td>105</td>\n",
              "    </tr>\n",
              "    <tr>\n",
              "      <th>3</th>\n",
              "      <td>2018</td>\n",
              "      <td>EEUU</td>\n",
              "      <td>Externo</td>\n",
              "      <td>0</td>\n",
              "    </tr>\n",
              "    <tr>\n",
              "      <th>4</th>\n",
              "      <td>2018</td>\n",
              "      <td>Colombia</td>\n",
              "      <td>Interno</td>\n",
              "      <td>243</td>\n",
              "    </tr>\n",
              "  </tbody>\n",
              "</table>\n",
              "</div>"
            ],
            "text/plain": [
              "    Año      País Tipo contrato  Empleados\n",
              "0  2018    México       Interno        154\n",
              "1  2018    México       Externo         61\n",
              "2  2018      EEUU       Interno        105\n",
              "3  2018      EEUU       Externo          0\n",
              "4  2018  Colombia       Interno        243"
            ]
          },
          "metadata": {
            "tags": []
          },
          "execution_count": 2
        }
      ]
    },
    {
      "cell_type": "code",
      "metadata": {
        "colab": {
          "base_uri": "https://localhost:8080/",
          "height": 205
        },
        "id": "1t5bT5vXszWN",
        "outputId": "0f9dafa2-9d78-4af6-88d0-59a0088bb815"
      },
      "source": [
        "int_empl_gender = pd.read_excel('Datos_plantilla.xlsx',sheet_name='int_genero')\n",
        "int_empl_gender.head()"
      ],
      "execution_count": 3,
      "outputs": [
        {
          "output_type": "execute_result",
          "data": {
            "text/html": [
              "<div>\n",
              "<style scoped>\n",
              "    .dataframe tbody tr th:only-of-type {\n",
              "        vertical-align: middle;\n",
              "    }\n",
              "\n",
              "    .dataframe tbody tr th {\n",
              "        vertical-align: top;\n",
              "    }\n",
              "\n",
              "    .dataframe thead th {\n",
              "        text-align: right;\n",
              "    }\n",
              "</style>\n",
              "<table border=\"1\" class=\"dataframe\">\n",
              "  <thead>\n",
              "    <tr style=\"text-align: right;\">\n",
              "      <th></th>\n",
              "      <th>Año</th>\n",
              "      <th>País</th>\n",
              "      <th>Hombres</th>\n",
              "      <th>Mujeres</th>\n",
              "    </tr>\n",
              "  </thead>\n",
              "  <tbody>\n",
              "    <tr>\n",
              "      <th>0</th>\n",
              "      <td>2018</td>\n",
              "      <td>Alemania</td>\n",
              "      <td>379</td>\n",
              "      <td>67</td>\n",
              "    </tr>\n",
              "    <tr>\n",
              "      <th>1</th>\n",
              "      <td>2018</td>\n",
              "      <td>Argentina</td>\n",
              "      <td>56</td>\n",
              "      <td>10</td>\n",
              "    </tr>\n",
              "    <tr>\n",
              "      <th>2</th>\n",
              "      <td>2018</td>\n",
              "      <td>Bégica</td>\n",
              "      <td>0</td>\n",
              "      <td>0</td>\n",
              "    </tr>\n",
              "    <tr>\n",
              "      <th>3</th>\n",
              "      <td>2018</td>\n",
              "      <td>Brasil</td>\n",
              "      <td>270</td>\n",
              "      <td>58</td>\n",
              "    </tr>\n",
              "    <tr>\n",
              "      <th>4</th>\n",
              "      <td>2018</td>\n",
              "      <td>China</td>\n",
              "      <td>256</td>\n",
              "      <td>49</td>\n",
              "    </tr>\n",
              "  </tbody>\n",
              "</table>\n",
              "</div>"
            ],
            "text/plain": [
              "    Año       País  Hombres  Mujeres\n",
              "0  2018   Alemania      379       67\n",
              "1  2018  Argentina       56       10\n",
              "2  2018     Bégica        0        0\n",
              "3  2018     Brasil      270       58\n",
              "4  2018      China      256       49"
            ]
          },
          "metadata": {
            "tags": []
          },
          "execution_count": 3
        }
      ]
    },
    {
      "cell_type": "code",
      "metadata": {
        "colab": {
          "base_uri": "https://localhost:8080/",
          "height": 205
        },
        "id": "P34HrDmlszdC",
        "outputId": "f748488d-e739-4a38-bb81-4daf7c677f75"
      },
      "source": [
        "int_empl_age = pd.read_excel('Datos_plantilla.xlsx',sheet_name='int_edad')\n",
        "int_empl_age.head()"
      ],
      "execution_count": 4,
      "outputs": [
        {
          "output_type": "execute_result",
          "data": {
            "text/html": [
              "<div>\n",
              "<style scoped>\n",
              "    .dataframe tbody tr th:only-of-type {\n",
              "        vertical-align: middle;\n",
              "    }\n",
              "\n",
              "    .dataframe tbody tr th {\n",
              "        vertical-align: top;\n",
              "    }\n",
              "\n",
              "    .dataframe thead th {\n",
              "        text-align: right;\n",
              "    }\n",
              "</style>\n",
              "<table border=\"1\" class=\"dataframe\">\n",
              "  <thead>\n",
              "    <tr style=\"text-align: right;\">\n",
              "      <th></th>\n",
              "      <th>Año</th>\n",
              "      <th>Rango edad</th>\n",
              "      <th>Hombres</th>\n",
              "      <th>Mujeres</th>\n",
              "    </tr>\n",
              "  </thead>\n",
              "  <tbody>\n",
              "    <tr>\n",
              "      <th>0</th>\n",
              "      <td>2018</td>\n",
              "      <td>&lt;30</td>\n",
              "      <td>1160</td>\n",
              "      <td>139</td>\n",
              "    </tr>\n",
              "    <tr>\n",
              "      <th>1</th>\n",
              "      <td>2018</td>\n",
              "      <td>30-50</td>\n",
              "      <td>2551</td>\n",
              "      <td>504</td>\n",
              "    </tr>\n",
              "    <tr>\n",
              "      <th>2</th>\n",
              "      <td>2018</td>\n",
              "      <td>&gt;50</td>\n",
              "      <td>993</td>\n",
              "      <td>112</td>\n",
              "    </tr>\n",
              "    <tr>\n",
              "      <th>3</th>\n",
              "      <td>2019</td>\n",
              "      <td>&lt;30</td>\n",
              "      <td>786</td>\n",
              "      <td>147</td>\n",
              "    </tr>\n",
              "    <tr>\n",
              "      <th>4</th>\n",
              "      <td>2019</td>\n",
              "      <td>30-50</td>\n",
              "      <td>1883</td>\n",
              "      <td>400</td>\n",
              "    </tr>\n",
              "  </tbody>\n",
              "</table>\n",
              "</div>"
            ],
            "text/plain": [
              "    Año Rango edad  Hombres  Mujeres\n",
              "0  2018        <30     1160      139\n",
              "1  2018      30-50     2551      504\n",
              "2  2018        >50      993      112\n",
              "3  2019        <30      786      147\n",
              "4  2019      30-50     1883      400"
            ]
          },
          "metadata": {
            "tags": []
          },
          "execution_count": 4
        }
      ]
    },
    {
      "cell_type": "code",
      "metadata": {
        "colab": {
          "base_uri": "https://localhost:8080/",
          "height": 143
        },
        "id": "Oiru9292SWeS",
        "outputId": "3e944ff3-00be-4a33-efa7-3c56f5a0f48b"
      },
      "source": [
        "int_empl_age[int_empl_age['Año']==2019\n",
        "             ]"
      ],
      "execution_count": 5,
      "outputs": [
        {
          "output_type": "execute_result",
          "data": {
            "text/html": [
              "<div>\n",
              "<style scoped>\n",
              "    .dataframe tbody tr th:only-of-type {\n",
              "        vertical-align: middle;\n",
              "    }\n",
              "\n",
              "    .dataframe tbody tr th {\n",
              "        vertical-align: top;\n",
              "    }\n",
              "\n",
              "    .dataframe thead th {\n",
              "        text-align: right;\n",
              "    }\n",
              "</style>\n",
              "<table border=\"1\" class=\"dataframe\">\n",
              "  <thead>\n",
              "    <tr style=\"text-align: right;\">\n",
              "      <th></th>\n",
              "      <th>Año</th>\n",
              "      <th>Rango edad</th>\n",
              "      <th>Hombres</th>\n",
              "      <th>Mujeres</th>\n",
              "    </tr>\n",
              "  </thead>\n",
              "  <tbody>\n",
              "    <tr>\n",
              "      <th>3</th>\n",
              "      <td>2019</td>\n",
              "      <td>&lt;30</td>\n",
              "      <td>786</td>\n",
              "      <td>147</td>\n",
              "    </tr>\n",
              "    <tr>\n",
              "      <th>4</th>\n",
              "      <td>2019</td>\n",
              "      <td>30-50</td>\n",
              "      <td>1883</td>\n",
              "      <td>400</td>\n",
              "    </tr>\n",
              "    <tr>\n",
              "      <th>5</th>\n",
              "      <td>2019</td>\n",
              "      <td>&gt;50</td>\n",
              "      <td>1560</td>\n",
              "      <td>176</td>\n",
              "    </tr>\n",
              "  </tbody>\n",
              "</table>\n",
              "</div>"
            ],
            "text/plain": [
              "    Año Rango edad  Hombres  Mujeres\n",
              "3  2019        <30      786      147\n",
              "4  2019      30-50     1883      400\n",
              "5  2019        >50     1560      176"
            ]
          },
          "metadata": {
            "tags": []
          },
          "execution_count": 5
        }
      ]
    },
    {
      "cell_type": "code",
      "metadata": {
        "colab": {
          "base_uri": "https://localhost:8080/",
          "height": 205
        },
        "id": "1_Vfpa8QszjR",
        "outputId": "260ed009-4468-46a8-f39f-8fefdf14b11c"
      },
      "source": [
        "int_empl_category = pd.read_excel('Datos_plantilla.xlsx',sheet_name='int_categoria')\n",
        "int_empl_category.head()\n"
      ],
      "execution_count": 6,
      "outputs": [
        {
          "output_type": "execute_result",
          "data": {
            "text/html": [
              "<div>\n",
              "<style scoped>\n",
              "    .dataframe tbody tr th:only-of-type {\n",
              "        vertical-align: middle;\n",
              "    }\n",
              "\n",
              "    .dataframe tbody tr th {\n",
              "        vertical-align: top;\n",
              "    }\n",
              "\n",
              "    .dataframe thead th {\n",
              "        text-align: right;\n",
              "    }\n",
              "</style>\n",
              "<table border=\"1\" class=\"dataframe\">\n",
              "  <thead>\n",
              "    <tr style=\"text-align: right;\">\n",
              "      <th></th>\n",
              "      <th>Año</th>\n",
              "      <th>Categoria_laboral</th>\n",
              "      <th>Hombres</th>\n",
              "      <th>Mujeres</th>\n",
              "    </tr>\n",
              "  </thead>\n",
              "  <tbody>\n",
              "    <tr>\n",
              "      <th>0</th>\n",
              "      <td>2018</td>\n",
              "      <td>Director</td>\n",
              "      <td>110</td>\n",
              "      <td>10</td>\n",
              "    </tr>\n",
              "    <tr>\n",
              "      <th>1</th>\n",
              "      <td>2018</td>\n",
              "      <td>Mando intermedio</td>\n",
              "      <td>541</td>\n",
              "      <td>122</td>\n",
              "    </tr>\n",
              "    <tr>\n",
              "      <th>2</th>\n",
              "      <td>2018</td>\n",
              "      <td>Personal planta</td>\n",
              "      <td>4133</td>\n",
              "      <td>1378</td>\n",
              "    </tr>\n",
              "    <tr>\n",
              "      <th>3</th>\n",
              "      <td>2019</td>\n",
              "      <td>Director</td>\n",
              "      <td>147</td>\n",
              "      <td>25</td>\n",
              "    </tr>\n",
              "    <tr>\n",
              "      <th>4</th>\n",
              "      <td>2019</td>\n",
              "      <td>Mando intermedio</td>\n",
              "      <td>497</td>\n",
              "      <td>122</td>\n",
              "    </tr>\n",
              "  </tbody>\n",
              "</table>\n",
              "</div>"
            ],
            "text/plain": [
              "    Año Categoria_laboral  Hombres  Mujeres\n",
              "0  2018          Director      110       10\n",
              "1  2018  Mando intermedio      541      122\n",
              "2  2018   Personal planta     4133     1378\n",
              "3  2019          Director      147       25\n",
              "4  2019  Mando intermedio      497      122"
            ]
          },
          "metadata": {
            "tags": []
          },
          "execution_count": 6
        }
      ]
    },
    {
      "cell_type": "code",
      "metadata": {
        "colab": {
          "base_uri": "https://localhost:8080/",
          "height": 143
        },
        "id": "XRP5GxmttYrH",
        "outputId": "fdf19dc6-9b9c-4130-e075-be215faeba86"
      },
      "source": [
        "ext_empl_genero = pd.read_excel('Datos_plantilla.xlsx',sheet_name='ext_genero')\n",
        "\n",
        "ext_empl_genero.head()\n"
      ],
      "execution_count": 7,
      "outputs": [
        {
          "output_type": "execute_result",
          "data": {
            "text/html": [
              "<div>\n",
              "<style scoped>\n",
              "    .dataframe tbody tr th:only-of-type {\n",
              "        vertical-align: middle;\n",
              "    }\n",
              "\n",
              "    .dataframe tbody tr th {\n",
              "        vertical-align: top;\n",
              "    }\n",
              "\n",
              "    .dataframe thead th {\n",
              "        text-align: right;\n",
              "    }\n",
              "</style>\n",
              "<table border=\"1\" class=\"dataframe\">\n",
              "  <thead>\n",
              "    <tr style=\"text-align: right;\">\n",
              "      <th></th>\n",
              "      <th>Año</th>\n",
              "      <th>Hombres</th>\n",
              "      <th>Mujeres</th>\n",
              "    </tr>\n",
              "  </thead>\n",
              "  <tbody>\n",
              "    <tr>\n",
              "      <th>0</th>\n",
              "      <td>2018</td>\n",
              "      <td>787</td>\n",
              "      <td>53</td>\n",
              "    </tr>\n",
              "    <tr>\n",
              "      <th>1</th>\n",
              "      <td>2019</td>\n",
              "      <td>685</td>\n",
              "      <td>30</td>\n",
              "    </tr>\n",
              "    <tr>\n",
              "      <th>2</th>\n",
              "      <td>2017</td>\n",
              "      <td>496</td>\n",
              "      <td>75</td>\n",
              "    </tr>\n",
              "  </tbody>\n",
              "</table>\n",
              "</div>"
            ],
            "text/plain": [
              "    Año  Hombres  Mujeres\n",
              "0  2018      787       53\n",
              "1  2019      685       30\n",
              "2  2017      496       75"
            ]
          },
          "metadata": {
            "tags": []
          },
          "execution_count": 7
        }
      ]
    },
    {
      "cell_type": "code",
      "metadata": {
        "colab": {
          "base_uri": "https://localhost:8080/",
          "height": 205
        },
        "id": "mSmJN3TetYz-",
        "outputId": "8bbb2f1a-d36f-4336-c987-ad3b5873e981"
      },
      "source": [
        "h_formacion = pd.read_excel('Datos_plantilla.xlsx',sheet_name='h_formacion')\n",
        "h_formacion.head()"
      ],
      "execution_count": 8,
      "outputs": [
        {
          "output_type": "execute_result",
          "data": {
            "text/html": [
              "<div>\n",
              "<style scoped>\n",
              "    .dataframe tbody tr th:only-of-type {\n",
              "        vertical-align: middle;\n",
              "    }\n",
              "\n",
              "    .dataframe tbody tr th {\n",
              "        vertical-align: top;\n",
              "    }\n",
              "\n",
              "    .dataframe thead th {\n",
              "        text-align: right;\n",
              "    }\n",
              "</style>\n",
              "<table border=\"1\" class=\"dataframe\">\n",
              "  <thead>\n",
              "    <tr style=\"text-align: right;\">\n",
              "      <th></th>\n",
              "      <th>Año</th>\n",
              "      <th>Pais</th>\n",
              "      <th>Horas formacion</th>\n",
              "    </tr>\n",
              "  </thead>\n",
              "  <tbody>\n",
              "    <tr>\n",
              "      <th>0</th>\n",
              "      <td>2018</td>\n",
              "      <td>Alemania</td>\n",
              "      <td>10043</td>\n",
              "    </tr>\n",
              "    <tr>\n",
              "      <th>1</th>\n",
              "      <td>2018</td>\n",
              "      <td>Argentina</td>\n",
              "      <td>0</td>\n",
              "    </tr>\n",
              "    <tr>\n",
              "      <th>2</th>\n",
              "      <td>2018</td>\n",
              "      <td>Bégica</td>\n",
              "      <td>0</td>\n",
              "    </tr>\n",
              "    <tr>\n",
              "      <th>3</th>\n",
              "      <td>2018</td>\n",
              "      <td>Brasil</td>\n",
              "      <td>13680</td>\n",
              "    </tr>\n",
              "    <tr>\n",
              "      <th>4</th>\n",
              "      <td>2018</td>\n",
              "      <td>China</td>\n",
              "      <td>10625</td>\n",
              "    </tr>\n",
              "  </tbody>\n",
              "</table>\n",
              "</div>"
            ],
            "text/plain": [
              "    Año       Pais  Horas formacion\n",
              "0  2018   Alemania            10043\n",
              "1  2018  Argentina                0\n",
              "2  2018     Bégica                0\n",
              "3  2018     Brasil            13680\n",
              "4  2018      China            10625"
            ]
          },
          "metadata": {
            "tags": []
          },
          "execution_count": 8
        }
      ]
    },
    {
      "cell_type": "code",
      "metadata": {
        "colab": {
          "base_uri": "https://localhost:8080/",
          "height": 205
        },
        "id": "M64z82tav9l5",
        "outputId": "1e46c045-e7a1-46d0-9102-2b8e1ee5662a"
      },
      "source": [
        "employees_country.head()"
      ],
      "execution_count": 9,
      "outputs": [
        {
          "output_type": "execute_result",
          "data": {
            "text/html": [
              "<div>\n",
              "<style scoped>\n",
              "    .dataframe tbody tr th:only-of-type {\n",
              "        vertical-align: middle;\n",
              "    }\n",
              "\n",
              "    .dataframe tbody tr th {\n",
              "        vertical-align: top;\n",
              "    }\n",
              "\n",
              "    .dataframe thead th {\n",
              "        text-align: right;\n",
              "    }\n",
              "</style>\n",
              "<table border=\"1\" class=\"dataframe\">\n",
              "  <thead>\n",
              "    <tr style=\"text-align: right;\">\n",
              "      <th></th>\n",
              "      <th>Año</th>\n",
              "      <th>País</th>\n",
              "      <th>Tipo contrato</th>\n",
              "      <th>Empleados</th>\n",
              "    </tr>\n",
              "  </thead>\n",
              "  <tbody>\n",
              "    <tr>\n",
              "      <th>0</th>\n",
              "      <td>2018</td>\n",
              "      <td>México</td>\n",
              "      <td>Interno</td>\n",
              "      <td>154</td>\n",
              "    </tr>\n",
              "    <tr>\n",
              "      <th>1</th>\n",
              "      <td>2018</td>\n",
              "      <td>México</td>\n",
              "      <td>Externo</td>\n",
              "      <td>61</td>\n",
              "    </tr>\n",
              "    <tr>\n",
              "      <th>2</th>\n",
              "      <td>2018</td>\n",
              "      <td>EEUU</td>\n",
              "      <td>Interno</td>\n",
              "      <td>105</td>\n",
              "    </tr>\n",
              "    <tr>\n",
              "      <th>3</th>\n",
              "      <td>2018</td>\n",
              "      <td>EEUU</td>\n",
              "      <td>Externo</td>\n",
              "      <td>0</td>\n",
              "    </tr>\n",
              "    <tr>\n",
              "      <th>4</th>\n",
              "      <td>2018</td>\n",
              "      <td>Colombia</td>\n",
              "      <td>Interno</td>\n",
              "      <td>243</td>\n",
              "    </tr>\n",
              "  </tbody>\n",
              "</table>\n",
              "</div>"
            ],
            "text/plain": [
              "    Año      País Tipo contrato  Empleados\n",
              "0  2018    México       Interno        154\n",
              "1  2018    México       Externo         61\n",
              "2  2018      EEUU       Interno        105\n",
              "3  2018      EEUU       Externo          0\n",
              "4  2018  Colombia       Interno        243"
            ]
          },
          "metadata": {
            "tags": []
          },
          "execution_count": 9
        }
      ]
    },
    {
      "cell_type": "code",
      "metadata": {
        "colab": {
          "base_uri": "https://localhost:8080/",
          "height": 205
        },
        "id": "wlJBMaXawHCV",
        "outputId": "48132a23-928d-46d6-98ed-327f61c67701"
      },
      "source": [
        "empl_country_total = employees_country.groupby(['Año', 'País']).agg('sum')\n",
        "empl_country_total = empl_country_total.reset_index()\n",
        "\n",
        "empl_country_total.head()"
      ],
      "execution_count": 10,
      "outputs": [
        {
          "output_type": "execute_result",
          "data": {
            "text/html": [
              "<div>\n",
              "<style scoped>\n",
              "    .dataframe tbody tr th:only-of-type {\n",
              "        vertical-align: middle;\n",
              "    }\n",
              "\n",
              "    .dataframe tbody tr th {\n",
              "        vertical-align: top;\n",
              "    }\n",
              "\n",
              "    .dataframe thead th {\n",
              "        text-align: right;\n",
              "    }\n",
              "</style>\n",
              "<table border=\"1\" class=\"dataframe\">\n",
              "  <thead>\n",
              "    <tr style=\"text-align: right;\">\n",
              "      <th></th>\n",
              "      <th>Año</th>\n",
              "      <th>País</th>\n",
              "      <th>Empleados</th>\n",
              "    </tr>\n",
              "  </thead>\n",
              "  <tbody>\n",
              "    <tr>\n",
              "      <th>0</th>\n",
              "      <td>2017</td>\n",
              "      <td>Alemania</td>\n",
              "      <td>197</td>\n",
              "    </tr>\n",
              "    <tr>\n",
              "      <th>1</th>\n",
              "      <td>2017</td>\n",
              "      <td>Argentina</td>\n",
              "      <td>55</td>\n",
              "    </tr>\n",
              "    <tr>\n",
              "      <th>2</th>\n",
              "      <td>2017</td>\n",
              "      <td>Brasil</td>\n",
              "      <td>360</td>\n",
              "    </tr>\n",
              "    <tr>\n",
              "      <th>3</th>\n",
              "      <td>2017</td>\n",
              "      <td>China</td>\n",
              "      <td>245</td>\n",
              "    </tr>\n",
              "    <tr>\n",
              "      <th>4</th>\n",
              "      <td>2017</td>\n",
              "      <td>Colombia</td>\n",
              "      <td>255</td>\n",
              "    </tr>\n",
              "  </tbody>\n",
              "</table>\n",
              "</div>"
            ],
            "text/plain": [
              "    Año       País  Empleados\n",
              "0  2017   Alemania        197\n",
              "1  2017  Argentina         55\n",
              "2  2017     Brasil        360\n",
              "3  2017      China        245\n",
              "4  2017   Colombia        255"
            ]
          },
          "metadata": {
            "tags": []
          },
          "execution_count": 10
        }
      ]
    },
    {
      "cell_type": "code",
      "metadata": {
        "id": "234dX2kMAwhG"
      },
      "source": [
        "empl_country_total = empl_country_total[empl_country_total['País']!='Total'] #we have a country called 'total' for 2017 as we dont have the detail"
      ],
      "execution_count": 11,
      "outputs": []
    },
    {
      "cell_type": "code",
      "metadata": {
        "id": "6k8FzU2lBAy9"
      },
      "source": [
        "empl_country_total = empl_country_total.sort_values('Empleados', ascending=False)"
      ],
      "execution_count": 12,
      "outputs": []
    },
    {
      "cell_type": "code",
      "metadata": {
        "id": "lzUd3DSZyRQf"
      },
      "source": [
        "x = empl_country_total[empl_country_total['Año'] == 2017]['País'].astype(str)\n",
        "y = empl_country_total[empl_country_total['Año'] == 2017]['Empleados'].astype(int)"
      ],
      "execution_count": 13,
      "outputs": []
    },
    {
      "cell_type": "code",
      "metadata": {
        "id": "2EMBSmL8yc-u"
      },
      "source": [
        "x2 = empl_country_total[empl_country_total['Año'] == 2018]['País']\n",
        "y2 = empl_country_total[empl_country_total['Año'] == 2018]['Empleados']\n",
        "\n",
        "\n",
        "x3 = empl_country_total[empl_country_total['Año'] == 2019]['País']\n",
        "y3 = empl_country_total[empl_country_total['Año'] == 2019]['Empleados']"
      ],
      "execution_count": 14,
      "outputs": []
    },
    {
      "cell_type": "code",
      "metadata": {
        "colab": {
          "base_uri": "https://localhost:8080/",
          "height": 594
        },
        "id": "NjEj9E8s0ret",
        "outputId": "70ce49cb-4522-47cc-f00b-ed7b3fec77ae"
      },
      "source": [
        "import matplotlib.pyplot as plt\n",
        "\n",
        "fig, axs = plt.subplots(3, 1, figsize=(30,10))\n",
        "\n",
        "\n",
        "\n",
        "axs[0].bar(x, y)\n",
        "axs[0].set_title('Nº employees 2017')\n",
        "\n",
        "\n",
        "axs[1].bar(x2, y2)\n",
        "axs[1].set_title('Nº employees 2018')\n",
        "\n",
        "\n",
        "axs[2].bar(x3, y3)\n",
        "axs[2].set_title('Nº employees 2019')"
      ],
      "execution_count": 15,
      "outputs": [
        {
          "output_type": "execute_result",
          "data": {
            "text/plain": [
              "Text(0.5, 1.0, 'Nº employees 2019')"
            ]
          },
          "metadata": {
            "tags": []
          },
          "execution_count": 15
        },
        {
          "output_type": "display_data",
          "data": {
            "image/png": "[encoded data removed]",
            "text/plain": [
              "<Figure size 2160x720 with 3 Axes>"
            ]
          },
          "metadata": {
            "tags": [],
            "needs_background": "light"
          }
        }
      ]
    },
    {
      "cell_type": "markdown",
      "metadata": {
        "id": "o0YwjsxwBpsx"
      },
      "source": [
        "We are going to calculate the total number of employees per year"
      ]
    },
    {
      "cell_type": "code",
      "metadata": {
        "colab": {
          "base_uri": "https://localhost:8080/",
          "height": 205
        },
        "id": "ng_oegZrBt7l",
        "outputId": "c3287d50-e4b1-431f-ff73-cab832929fa9"
      },
      "source": [
        "total_employees = pd.read_excel('Datos_plantilla.xlsx',sheet_name='tipo_empleados_pais')\n",
        "total_employees.head()"
      ],
      "execution_count": 16,
      "outputs": [
        {
          "output_type": "execute_result",
          "data": {
            "text/html": [
              "<div>\n",
              "<style scoped>\n",
              "    .dataframe tbody tr th:only-of-type {\n",
              "        vertical-align: middle;\n",
              "    }\n",
              "\n",
              "    .dataframe tbody tr th {\n",
              "        vertical-align: top;\n",
              "    }\n",
              "\n",
              "    .dataframe thead th {\n",
              "        text-align: right;\n",
              "    }\n",
              "</style>\n",
              "<table border=\"1\" class=\"dataframe\">\n",
              "  <thead>\n",
              "    <tr style=\"text-align: right;\">\n",
              "      <th></th>\n",
              "      <th>Año</th>\n",
              "      <th>País</th>\n",
              "      <th>Tipo contrato</th>\n",
              "      <th>Empleados</th>\n",
              "    </tr>\n",
              "  </thead>\n",
              "  <tbody>\n",
              "    <tr>\n",
              "      <th>0</th>\n",
              "      <td>2018</td>\n",
              "      <td>México</td>\n",
              "      <td>Interno</td>\n",
              "      <td>154</td>\n",
              "    </tr>\n",
              "    <tr>\n",
              "      <th>1</th>\n",
              "      <td>2018</td>\n",
              "      <td>México</td>\n",
              "      <td>Externo</td>\n",
              "      <td>61</td>\n",
              "    </tr>\n",
              "    <tr>\n",
              "      <th>2</th>\n",
              "      <td>2018</td>\n",
              "      <td>EEUU</td>\n",
              "      <td>Interno</td>\n",
              "      <td>105</td>\n",
              "    </tr>\n",
              "    <tr>\n",
              "      <th>3</th>\n",
              "      <td>2018</td>\n",
              "      <td>EEUU</td>\n",
              "      <td>Externo</td>\n",
              "      <td>0</td>\n",
              "    </tr>\n",
              "    <tr>\n",
              "      <th>4</th>\n",
              "      <td>2018</td>\n",
              "      <td>Colombia</td>\n",
              "      <td>Interno</td>\n",
              "      <td>243</td>\n",
              "    </tr>\n",
              "  </tbody>\n",
              "</table>\n",
              "</div>"
            ],
            "text/plain": [
              "    Año      País Tipo contrato  Empleados\n",
              "0  2018    México       Interno        154\n",
              "1  2018    México       Externo         61\n",
              "2  2018      EEUU       Interno        105\n",
              "3  2018      EEUU       Externo          0\n",
              "4  2018  Colombia       Interno        243"
            ]
          },
          "metadata": {
            "tags": []
          },
          "execution_count": 16
        }
      ]
    },
    {
      "cell_type": "code",
      "metadata": {
        "id": "xVmFZJyKB4ig"
      },
      "source": [
        "total_employees = total_employees.groupby('Año').agg(sum)"
      ],
      "execution_count": 17,
      "outputs": []
    },
    {
      "cell_type": "code",
      "metadata": {
        "colab": {
          "base_uri": "https://localhost:8080/",
          "height": 175
        },
        "id": "RhaFENBdB_h5",
        "outputId": "3d6a16e1-4a2e-4d5f-d0bc-5d342fcb7e4e"
      },
      "source": [
        "total_employees"
      ],
      "execution_count": 18,
      "outputs": [
        {
          "output_type": "execute_result",
          "data": {
            "text/html": [
              "<div>\n",
              "<style scoped>\n",
              "    .dataframe tbody tr th:only-of-type {\n",
              "        vertical-align: middle;\n",
              "    }\n",
              "\n",
              "    .dataframe tbody tr th {\n",
              "        vertical-align: top;\n",
              "    }\n",
              "\n",
              "    .dataframe thead th {\n",
              "        text-align: right;\n",
              "    }\n",
              "</style>\n",
              "<table border=\"1\" class=\"dataframe\">\n",
              "  <thead>\n",
              "    <tr style=\"text-align: right;\">\n",
              "      <th></th>\n",
              "      <th>Empleados</th>\n",
              "    </tr>\n",
              "    <tr>\n",
              "      <th>Año</th>\n",
              "      <th></th>\n",
              "    </tr>\n",
              "  </thead>\n",
              "  <tbody>\n",
              "    <tr>\n",
              "      <th>2017</th>\n",
              "      <td>4872</td>\n",
              "    </tr>\n",
              "    <tr>\n",
              "      <th>2018</th>\n",
              "      <td>5357</td>\n",
              "    </tr>\n",
              "    <tr>\n",
              "      <th>2019</th>\n",
              "      <td>5268</td>\n",
              "    </tr>\n",
              "  </tbody>\n",
              "</table>\n",
              "</div>"
            ],
            "text/plain": [
              "      Empleados\n",
              "Año            \n",
              "2017       4872\n",
              "2018       5357\n",
              "2019       5268"
            ]
          },
          "metadata": {
            "tags": []
          },
          "execution_count": 18
        }
      ]
    },
    {
      "cell_type": "code",
      "metadata": {
        "id": "GpdpA37bCWkj"
      },
      "source": [
        "total_employees = total_employees.reset_index()\n",
        "total_employees['Año'] = total_employees['Año'].astype(str)"
      ],
      "execution_count": 19,
      "outputs": []
    },
    {
      "cell_type": "markdown",
      "metadata": {
        "id": "lhQfPOy6CpVK"
      },
      "source": [
        "Total amounts by year:\n",
        "It's been a several increase between 2017-18, decreasing a little bit in 2019"
      ]
    },
    {
      "cell_type": "code",
      "metadata": {
        "colab": {
          "base_uri": "https://localhost:8080/",
          "height": 143
        },
        "id": "KbxTEq8Fat1p",
        "outputId": "0497f259-fa8e-4116-972d-476a64669102"
      },
      "source": [
        "total_employees\n"
      ],
      "execution_count": 20,
      "outputs": [
        {
          "output_type": "execute_result",
          "data": {
            "text/html": [
              "<div>\n",
              "<style scoped>\n",
              "    .dataframe tbody tr th:only-of-type {\n",
              "        vertical-align: middle;\n",
              "    }\n",
              "\n",
              "    .dataframe tbody tr th {\n",
              "        vertical-align: top;\n",
              "    }\n",
              "\n",
              "    .dataframe thead th {\n",
              "        text-align: right;\n",
              "    }\n",
              "</style>\n",
              "<table border=\"1\" class=\"dataframe\">\n",
              "  <thead>\n",
              "    <tr style=\"text-align: right;\">\n",
              "      <th></th>\n",
              "      <th>Año</th>\n",
              "      <th>Empleados</th>\n",
              "    </tr>\n",
              "  </thead>\n",
              "  <tbody>\n",
              "    <tr>\n",
              "      <th>0</th>\n",
              "      <td>2017</td>\n",
              "      <td>4872</td>\n",
              "    </tr>\n",
              "    <tr>\n",
              "      <th>1</th>\n",
              "      <td>2018</td>\n",
              "      <td>5357</td>\n",
              "    </tr>\n",
              "    <tr>\n",
              "      <th>2</th>\n",
              "      <td>2019</td>\n",
              "      <td>5268</td>\n",
              "    </tr>\n",
              "  </tbody>\n",
              "</table>\n",
              "</div>"
            ],
            "text/plain": [
              "    Año  Empleados\n",
              "0  2017       4872\n",
              "1  2018       5357\n",
              "2  2019       5268"
            ]
          },
          "metadata": {
            "tags": []
          },
          "execution_count": 20
        }
      ]
    },
    {
      "cell_type": "code",
      "metadata": {
        "colab": {
          "base_uri": "https://localhost:8080/",
          "height": 295
        },
        "id": "6lgPoOLYCKwH",
        "outputId": "6436f365-f2ee-47d8-dccf-fcbc7a54d3d6"
      },
      "source": [
        "import matplotlib.pyplot as plt\n",
        "\n",
        "plt.plot(total_employees['Año'], total_employees['Empleados'])\n",
        "plt.title('Nº employees per year')\n",
        "plt.xlabel('Year')\n",
        "plt.ylabel('Nº employees')\n",
        "\n",
        "plt.show()"
      ],
      "execution_count": 21,
      "outputs": [
        {
          "output_type": "display_data",
          "data": {
            "image/png": "[encoded data removed]",
            "text/plain": [
              "<Figure size 432x288 with 1 Axes>"
            ]
          },
          "metadata": {
            "tags": [],
            "needs_background": "light"
          }
        }
      ]
    },
    {
      "cell_type": "markdown",
      "metadata": {
        "id": "dFMZj5gOC7H9"
      },
      "source": [
        "### Staff by country and gender"
      ]
    },
    {
      "cell_type": "code",
      "metadata": {
        "colab": {
          "base_uri": "https://localhost:8080/",
          "height": 205
        },
        "id": "lqKGoiWjCwcw",
        "outputId": "da7f211f-0b65-4495-8b50-64ac7f9bcba9"
      },
      "source": [
        "int_empl_gender.head()"
      ],
      "execution_count": 22,
      "outputs": [
        {
          "output_type": "execute_result",
          "data": {
            "text/html": [
              "<div>\n",
              "<style scoped>\n",
              "    .dataframe tbody tr th:only-of-type {\n",
              "        vertical-align: middle;\n",
              "    }\n",
              "\n",
              "    .dataframe tbody tr th {\n",
              "        vertical-align: top;\n",
              "    }\n",
              "\n",
              "    .dataframe thead th {\n",
              "        text-align: right;\n",
              "    }\n",
              "</style>\n",
              "<table border=\"1\" class=\"dataframe\">\n",
              "  <thead>\n",
              "    <tr style=\"text-align: right;\">\n",
              "      <th></th>\n",
              "      <th>Año</th>\n",
              "      <th>País</th>\n",
              "      <th>Hombres</th>\n",
              "      <th>Mujeres</th>\n",
              "    </tr>\n",
              "  </thead>\n",
              "  <tbody>\n",
              "    <tr>\n",
              "      <th>0</th>\n",
              "      <td>2018</td>\n",
              "      <td>Alemania</td>\n",
              "      <td>379</td>\n",
              "      <td>67</td>\n",
              "    </tr>\n",
              "    <tr>\n",
              "      <th>1</th>\n",
              "      <td>2018</td>\n",
              "      <td>Argentina</td>\n",
              "      <td>56</td>\n",
              "      <td>10</td>\n",
              "    </tr>\n",
              "    <tr>\n",
              "      <th>2</th>\n",
              "      <td>2018</td>\n",
              "      <td>Bégica</td>\n",
              "      <td>0</td>\n",
              "      <td>0</td>\n",
              "    </tr>\n",
              "    <tr>\n",
              "      <th>3</th>\n",
              "      <td>2018</td>\n",
              "      <td>Brasil</td>\n",
              "      <td>270</td>\n",
              "      <td>58</td>\n",
              "    </tr>\n",
              "    <tr>\n",
              "      <th>4</th>\n",
              "      <td>2018</td>\n",
              "      <td>China</td>\n",
              "      <td>256</td>\n",
              "      <td>49</td>\n",
              "    </tr>\n",
              "  </tbody>\n",
              "</table>\n",
              "</div>"
            ],
            "text/plain": [
              "    Año       País  Hombres  Mujeres\n",
              "0  2018   Alemania      379       67\n",
              "1  2018  Argentina       56       10\n",
              "2  2018     Bégica        0        0\n",
              "3  2018     Brasil      270       58\n",
              "4  2018      China      256       49"
            ]
          },
          "metadata": {
            "tags": []
          },
          "execution_count": 22
        }
      ]
    },
    {
      "cell_type": "code",
      "metadata": {
        "id": "onRmS_kaC_lo"
      },
      "source": [
        "staff_gender= int_empl_gender.groupby('Año').agg('sum')"
      ],
      "execution_count": 23,
      "outputs": []
    },
    {
      "cell_type": "code",
      "metadata": {
        "colab": {
          "base_uri": "https://localhost:8080/",
          "height": 175
        },
        "id": "89eM2sTJDKAh",
        "outputId": "9fe8a6ee-4981-43b1-c166-8e14d4efcd64"
      },
      "source": [
        "staff_gender.head()"
      ],
      "execution_count": 24,
      "outputs": [
        {
          "output_type": "execute_result",
          "data": {
            "text/html": [
              "<div>\n",
              "<style scoped>\n",
              "    .dataframe tbody tr th:only-of-type {\n",
              "        vertical-align: middle;\n",
              "    }\n",
              "\n",
              "    .dataframe tbody tr th {\n",
              "        vertical-align: top;\n",
              "    }\n",
              "\n",
              "    .dataframe thead th {\n",
              "        text-align: right;\n",
              "    }\n",
              "</style>\n",
              "<table border=\"1\" class=\"dataframe\">\n",
              "  <thead>\n",
              "    <tr style=\"text-align: right;\">\n",
              "      <th></th>\n",
              "      <th>Hombres</th>\n",
              "      <th>Mujeres</th>\n",
              "    </tr>\n",
              "    <tr>\n",
              "      <th>Año</th>\n",
              "      <th></th>\n",
              "      <th></th>\n",
              "    </tr>\n",
              "  </thead>\n",
              "  <tbody>\n",
              "    <tr>\n",
              "      <th>2017</th>\n",
              "      <td>3065</td>\n",
              "      <td>448</td>\n",
              "    </tr>\n",
              "    <tr>\n",
              "      <th>2018</th>\n",
              "      <td>4370</td>\n",
              "      <td>680</td>\n",
              "    </tr>\n",
              "    <tr>\n",
              "      <th>2019</th>\n",
              "      <td>3894</td>\n",
              "      <td>666</td>\n",
              "    </tr>\n",
              "  </tbody>\n",
              "</table>\n",
              "</div>"
            ],
            "text/plain": [
              "      Hombres  Mujeres\n",
              "Año                   \n",
              "2017     3065      448\n",
              "2018     4370      680\n",
              "2019     3894      666"
            ]
          },
          "metadata": {
            "tags": []
          },
          "execution_count": 24
        }
      ]
    },
    {
      "cell_type": "code",
      "metadata": {
        "colab": {
          "base_uri": "https://localhost:8080/",
          "height": 112
        },
        "id": "BAgOBkdZDX3q",
        "outputId": "f7d0bea5-e77f-475d-c284-32172f3084a1"
      },
      "source": [
        "staff_gender_t = staff_gender.T\n",
        "staff_gender_t= staff_gender_t.reset_index()\n",
        "staff_gender_t"
      ],
      "execution_count": 25,
      "outputs": [
        {
          "output_type": "execute_result",
          "data": {
            "text/html": [
              "<div>\n",
              "<style scoped>\n",
              "    .dataframe tbody tr th:only-of-type {\n",
              "        vertical-align: middle;\n",
              "    }\n",
              "\n",
              "    .dataframe tbody tr th {\n",
              "        vertical-align: top;\n",
              "    }\n",
              "\n",
              "    .dataframe thead th {\n",
              "        text-align: right;\n",
              "    }\n",
              "</style>\n",
              "<table border=\"1\" class=\"dataframe\">\n",
              "  <thead>\n",
              "    <tr style=\"text-align: right;\">\n",
              "      <th>Año</th>\n",
              "      <th>index</th>\n",
              "      <th>2017</th>\n",
              "      <th>2018</th>\n",
              "      <th>2019</th>\n",
              "    </tr>\n",
              "  </thead>\n",
              "  <tbody>\n",
              "    <tr>\n",
              "      <th>0</th>\n",
              "      <td>Hombres</td>\n",
              "      <td>3065</td>\n",
              "      <td>4370</td>\n",
              "      <td>3894</td>\n",
              "    </tr>\n",
              "    <tr>\n",
              "      <th>1</th>\n",
              "      <td>Mujeres</td>\n",
              "      <td>448</td>\n",
              "      <td>680</td>\n",
              "      <td>666</td>\n",
              "    </tr>\n",
              "  </tbody>\n",
              "</table>\n",
              "</div>"
            ],
            "text/plain": [
              "Año    index  2017  2018  2019\n",
              "0    Hombres  3065  4370  3894\n",
              "1    Mujeres   448   680   666"
            ]
          },
          "metadata": {
            "tags": []
          },
          "execution_count": 25
        }
      ]
    },
    {
      "cell_type": "markdown",
      "metadata": {
        "id": "3uOJ9Ve5IZrw"
      },
      "source": [
        "The % of womens in the company is a minority , men are in all years almost the 90% of the company's staff"
      ]
    },
    {
      "cell_type": "code",
      "metadata": {
        "colab": {
          "base_uri": "https://localhost:8080/",
          "height": 609
        },
        "id": "7DsojAmxDKCd",
        "outputId": "132e7b56-62e7-4325-ae2c-f8872a0a7c37"
      },
      "source": [
        "fig, axs = plt.subplots(3, 1, figsize=(15,10))\n",
        "\n",
        "\n",
        "\n",
        "axs[0].pie(staff_gender_t[2017], labels=staff_gender_t['index'],autopct='%1.1f%%',\n",
        "        shadow=True, startangle=90)\n",
        "axs[0].set_title('Nº employees by gender 2017')\n",
        "\n",
        "axs[1].pie(staff_gender_t[2018], labels=staff_gender_t['index'],autopct='%1.1f%%',\n",
        "        shadow=True, startangle=90)\n",
        "axs[1].set_title('Nº employees by gender 2018')\n",
        "\n",
        "axs[2].pie(staff_gender_t[2019], labels=staff_gender_t['index'], autopct='%1.1f%%',\n",
        "        shadow=True, startangle=90)\n",
        "axs[2].set_title('Nº employees by gender 2019')"
      ],
      "execution_count": 26,
      "outputs": [
        {
          "output_type": "execute_result",
          "data": {
            "text/plain": [
              "Text(0.5, 1.0, 'Nº employees by gender 2019')"
            ]
          },
          "metadata": {
            "tags": []
          },
          "execution_count": 26
        },
        {
          "output_type": "display_data",
          "data": {
            "image/png": "[encoded data removed]",
            "text/plain": [
              "<Figure size 1080x720 with 3 Axes>"
            ]
          },
          "metadata": {
            "tags": []
          }
        }
      ]
    },
    {
      "cell_type": "code",
      "metadata": {
        "colab": {
          "base_uri": "https://localhost:8080/",
          "height": 205
        },
        "id": "BmzEZ1-REayg",
        "outputId": "b95f8c36-b262-4309-9a16-d8d419a7058c"
      },
      "source": [
        "int_empl_gender.head()"
      ],
      "execution_count": 27,
      "outputs": [
        {
          "output_type": "execute_result",
          "data": {
            "text/html": [
              "<div>\n",
              "<style scoped>\n",
              "    .dataframe tbody tr th:only-of-type {\n",
              "        vertical-align: middle;\n",
              "    }\n",
              "\n",
              "    .dataframe tbody tr th {\n",
              "        vertical-align: top;\n",
              "    }\n",
              "\n",
              "    .dataframe thead th {\n",
              "        text-align: right;\n",
              "    }\n",
              "</style>\n",
              "<table border=\"1\" class=\"dataframe\">\n",
              "  <thead>\n",
              "    <tr style=\"text-align: right;\">\n",
              "      <th></th>\n",
              "      <th>Año</th>\n",
              "      <th>País</th>\n",
              "      <th>Hombres</th>\n",
              "      <th>Mujeres</th>\n",
              "    </tr>\n",
              "  </thead>\n",
              "  <tbody>\n",
              "    <tr>\n",
              "      <th>0</th>\n",
              "      <td>2018</td>\n",
              "      <td>Alemania</td>\n",
              "      <td>379</td>\n",
              "      <td>67</td>\n",
              "    </tr>\n",
              "    <tr>\n",
              "      <th>1</th>\n",
              "      <td>2018</td>\n",
              "      <td>Argentina</td>\n",
              "      <td>56</td>\n",
              "      <td>10</td>\n",
              "    </tr>\n",
              "    <tr>\n",
              "      <th>2</th>\n",
              "      <td>2018</td>\n",
              "      <td>Bégica</td>\n",
              "      <td>0</td>\n",
              "      <td>0</td>\n",
              "    </tr>\n",
              "    <tr>\n",
              "      <th>3</th>\n",
              "      <td>2018</td>\n",
              "      <td>Brasil</td>\n",
              "      <td>270</td>\n",
              "      <td>58</td>\n",
              "    </tr>\n",
              "    <tr>\n",
              "      <th>4</th>\n",
              "      <td>2018</td>\n",
              "      <td>China</td>\n",
              "      <td>256</td>\n",
              "      <td>49</td>\n",
              "    </tr>\n",
              "  </tbody>\n",
              "</table>\n",
              "</div>"
            ],
            "text/plain": [
              "    Año       País  Hombres  Mujeres\n",
              "0  2018   Alemania      379       67\n",
              "1  2018  Argentina       56       10\n",
              "2  2018     Bégica        0        0\n",
              "3  2018     Brasil      270       58\n",
              "4  2018      China      256       49"
            ]
          },
          "metadata": {
            "tags": []
          },
          "execution_count": 27
        }
      ]
    },
    {
      "cell_type": "code",
      "metadata": {
        "colab": {
          "base_uri": "https://localhost:8080/",
          "height": 205
        },
        "id": "pDqyJgp3EMdq",
        "outputId": "78c5f6c5-fbb6-479a-c25b-854cfb993fdd"
      },
      "source": [
        "#we transform our df so we can plot gender as serie of the chart\n",
        "df_melted = int_empl_gender.melt([\"Año\", 'País'],var_name=\"Gender\",value_name=\"Count\")\n",
        "df_melted.head()"
      ],
      "execution_count": 28,
      "outputs": [
        {
          "output_type": "execute_result",
          "data": {
            "text/html": [
              "<div>\n",
              "<style scoped>\n",
              "    .dataframe tbody tr th:only-of-type {\n",
              "        vertical-align: middle;\n",
              "    }\n",
              "\n",
              "    .dataframe tbody tr th {\n",
              "        vertical-align: top;\n",
              "    }\n",
              "\n",
              "    .dataframe thead th {\n",
              "        text-align: right;\n",
              "    }\n",
              "</style>\n",
              "<table border=\"1\" class=\"dataframe\">\n",
              "  <thead>\n",
              "    <tr style=\"text-align: right;\">\n",
              "      <th></th>\n",
              "      <th>Año</th>\n",
              "      <th>País</th>\n",
              "      <th>Gender</th>\n",
              "      <th>Count</th>\n",
              "    </tr>\n",
              "  </thead>\n",
              "  <tbody>\n",
              "    <tr>\n",
              "      <th>0</th>\n",
              "      <td>2018</td>\n",
              "      <td>Alemania</td>\n",
              "      <td>Hombres</td>\n",
              "      <td>379</td>\n",
              "    </tr>\n",
              "    <tr>\n",
              "      <th>1</th>\n",
              "      <td>2018</td>\n",
              "      <td>Argentina</td>\n",
              "      <td>Hombres</td>\n",
              "      <td>56</td>\n",
              "    </tr>\n",
              "    <tr>\n",
              "      <th>2</th>\n",
              "      <td>2018</td>\n",
              "      <td>Bégica</td>\n",
              "      <td>Hombres</td>\n",
              "      <td>0</td>\n",
              "    </tr>\n",
              "    <tr>\n",
              "      <th>3</th>\n",
              "      <td>2018</td>\n",
              "      <td>Brasil</td>\n",
              "      <td>Hombres</td>\n",
              "      <td>270</td>\n",
              "    </tr>\n",
              "    <tr>\n",
              "      <th>4</th>\n",
              "      <td>2018</td>\n",
              "      <td>China</td>\n",
              "      <td>Hombres</td>\n",
              "      <td>256</td>\n",
              "    </tr>\n",
              "  </tbody>\n",
              "</table>\n",
              "</div>"
            ],
            "text/plain": [
              "    Año       País   Gender  Count\n",
              "0  2018   Alemania  Hombres    379\n",
              "1  2018  Argentina  Hombres     56\n",
              "2  2018     Bégica  Hombres      0\n",
              "3  2018     Brasil  Hombres    270\n",
              "4  2018      China  Hombres    256"
            ]
          },
          "metadata": {
            "tags": []
          },
          "execution_count": 28
        }
      ]
    },
    {
      "cell_type": "code",
      "metadata": {
        "id": "DwE0OUJMFy5D"
      },
      "source": [
        "df_2017 = df_melted[df_melted['Año']==2017]\n",
        "df_2018 = df_melted[df_melted['Año']==2018]\n",
        "df_2019 = df_melted[df_melted['Año']==2019]"
      ],
      "execution_count": 29,
      "outputs": []
    },
    {
      "cell_type": "markdown",
      "metadata": {
        "id": "QxUSBxN8IOMh"
      },
      "source": [
        "On the charts below we can clearly see the notable difference between men and women. \n",
        "\n",
        "The country with more employees is Spain in all years."
      ]
    },
    {
      "cell_type": "code",
      "metadata": {
        "colab": {
          "base_uri": "https://localhost:8080/",
          "height": 319
        },
        "id": "HkNMvJ2EGyP6",
        "outputId": "75db97cc-bb33-49ff-9fee-4e86fd6294d4"
      },
      "source": [
        "import seaborn as sns\n",
        "sns.set_theme(style=\"whitegrid\")\n",
        "plt.figure(figsize=(20,4))\n",
        "\n",
        "ax = sns.barplot(x=\"País\", y=\"Count\",hue='Gender', data=df_2017)\n",
        "ax.set_title('Nº employees by gender and country in 2017')\n"
      ],
      "execution_count": 30,
      "outputs": [
        {
          "output_type": "execute_result",
          "data": {
            "text/plain": [
              "Text(0.5, 1.0, 'Nº employees by gender and country in 2017')"
            ]
          },
          "metadata": {
            "tags": []
          },
          "execution_count": 30
        },
        {
          "output_type": "display_data",
          "data": {
            "image/png": "[encoded data removed]",
            "text/plain": [
              "<Figure size 1440x288 with 1 Axes>"
            ]
          },
          "metadata": {
            "tags": []
          }
        }
      ]
    },
    {
      "cell_type": "code",
      "metadata": {
        "colab": {
          "base_uri": "https://localhost:8080/",
          "height": 319
        },
        "id": "BcrWFXaMIF43",
        "outputId": "9172af6b-111f-445f-d020-881f70274bdf"
      },
      "source": [
        "plt.figure(figsize=(23,4))\n",
        "\n",
        "ax = sns.barplot(x=\"País\", y=\"Count\",hue='Gender', data=df_2018)\n",
        "ax.set_title('Nº employees by gender and country in 2018')"
      ],
      "execution_count": 31,
      "outputs": [
        {
          "output_type": "execute_result",
          "data": {
            "text/plain": [
              "Text(0.5, 1.0, 'Nº employees by gender and country in 2018')"
            ]
          },
          "metadata": {
            "tags": []
          },
          "execution_count": 31
        },
        {
          "output_type": "display_data",
          "data": {
            "image/png": "[encoded data removed]",
            "text/plain": [
              "<Figure size 1656x288 with 1 Axes>"
            ]
          },
          "metadata": {
            "tags": []
          }
        }
      ]
    },
    {
      "cell_type": "code",
      "metadata": {
        "colab": {
          "base_uri": "https://localhost:8080/",
          "height": 319
        },
        "id": "9dUPO4_4GjVm",
        "outputId": "76db89f0-2548-4492-e89f-b13951e2e621"
      },
      "source": [
        "plt.figure(figsize=(23,4))\n",
        "\n",
        "ax = sns.barplot(x=\"País\", y=\"Count\",hue='Gender', data=df_2019)\n",
        "ax.set_title('Nº employees by gender and country in 2019')"
      ],
      "execution_count": 32,
      "outputs": [
        {
          "output_type": "execute_result",
          "data": {
            "text/plain": [
              "Text(0.5, 1.0, 'Nº employees by gender and country in 2019')"
            ]
          },
          "metadata": {
            "tags": []
          },
          "execution_count": 32
        },
        {
          "output_type": "display_data",
          "data": {
            "image/png": "[encoded data removed]",
            "text/plain": [
              "<Figure size 1656x288 with 1 Axes>"
            ]
          },
          "metadata": {
            "tags": []
          }
        }
      ]
    },
    {
      "cell_type": "markdown",
      "metadata": {
        "id": "Oy4x-ZqUItIR"
      },
      "source": [
        "### Analyzing the company's staff by age"
      ]
    },
    {
      "cell_type": "code",
      "metadata": {
        "colab": {
          "base_uri": "https://localhost:8080/",
          "height": 205
        },
        "id": "v1AEHNesIw7A",
        "outputId": "23105c4f-9d2b-4470-d6ee-dad85df1a119"
      },
      "source": [
        "int_empl_age['Total'] = int_empl_age['Hombres'] + int_empl_age['Mujeres']\n",
        "int_empl_age.head()"
      ],
      "execution_count": 33,
      "outputs": [
        {
          "output_type": "execute_result",
          "data": {
            "text/html": [
              "<div>\n",
              "<style scoped>\n",
              "    .dataframe tbody tr th:only-of-type {\n",
              "        vertical-align: middle;\n",
              "    }\n",
              "\n",
              "    .dataframe tbody tr th {\n",
              "        vertical-align: top;\n",
              "    }\n",
              "\n",
              "    .dataframe thead th {\n",
              "        text-align: right;\n",
              "    }\n",
              "</style>\n",
              "<table border=\"1\" class=\"dataframe\">\n",
              "  <thead>\n",
              "    <tr style=\"text-align: right;\">\n",
              "      <th></th>\n",
              "      <th>Año</th>\n",
              "      <th>Rango edad</th>\n",
              "      <th>Hombres</th>\n",
              "      <th>Mujeres</th>\n",
              "      <th>Total</th>\n",
              "    </tr>\n",
              "  </thead>\n",
              "  <tbody>\n",
              "    <tr>\n",
              "      <th>0</th>\n",
              "      <td>2018</td>\n",
              "      <td>&lt;30</td>\n",
              "      <td>1160</td>\n",
              "      <td>139</td>\n",
              "      <td>1299</td>\n",
              "    </tr>\n",
              "    <tr>\n",
              "      <th>1</th>\n",
              "      <td>2018</td>\n",
              "      <td>30-50</td>\n",
              "      <td>2551</td>\n",
              "      <td>504</td>\n",
              "      <td>3055</td>\n",
              "    </tr>\n",
              "    <tr>\n",
              "      <th>2</th>\n",
              "      <td>2018</td>\n",
              "      <td>&gt;50</td>\n",
              "      <td>993</td>\n",
              "      <td>112</td>\n",
              "      <td>1105</td>\n",
              "    </tr>\n",
              "    <tr>\n",
              "      <th>3</th>\n",
              "      <td>2019</td>\n",
              "      <td>&lt;30</td>\n",
              "      <td>786</td>\n",
              "      <td>147</td>\n",
              "      <td>933</td>\n",
              "    </tr>\n",
              "    <tr>\n",
              "      <th>4</th>\n",
              "      <td>2019</td>\n",
              "      <td>30-50</td>\n",
              "      <td>1883</td>\n",
              "      <td>400</td>\n",
              "      <td>2283</td>\n",
              "    </tr>\n",
              "  </tbody>\n",
              "</table>\n",
              "</div>"
            ],
            "text/plain": [
              "    Año Rango edad  Hombres  Mujeres  Total\n",
              "0  2018        <30     1160      139   1299\n",
              "1  2018      30-50     2551      504   3055\n",
              "2  2018        >50      993      112   1105\n",
              "3  2019        <30      786      147    933\n",
              "4  2019      30-50     1883      400   2283"
            ]
          },
          "metadata": {
            "tags": []
          },
          "execution_count": 33
        }
      ]
    },
    {
      "cell_type": "markdown",
      "metadata": {
        "id": "sJIFSA0qJhgg"
      },
      "source": [
        "Between 30-50 years is the predominant age of the companies workers. At this point of the analysis we have a type profile of worker: men, between 30-50 years working in Spain.\n",
        "\n",
        "Analyzing below charts we can see that the staff is becoming older and the younger employees are minoritary"
      ]
    },
    {
      "cell_type": "code",
      "metadata": {
        "colab": {
          "base_uri": "https://localhost:8080/",
          "height": 319
        },
        "id": "2kcLMV9xI62K",
        "outputId": "7c0917a2-b248-4a00-a449-49f093122989"
      },
      "source": [
        "plt.figure(figsize=(23,4))\n",
        "\n",
        "ax = sns.barplot(x=\"Rango edad\", y=\"Total\",hue='Año', data=int_empl_age)\n",
        "ax.set_title('Nº employees by age range and year')\n",
        "ax.set(xlabel='Age', ylabel='Employees')"
      ],
      "execution_count": 34,
      "outputs": [
        {
          "output_type": "execute_result",
          "data": {
            "text/plain": [
              "[Text(0, 0.5, 'Employees'), Text(0.5, 0, 'Age')]"
            ]
          },
          "metadata": {
            "tags": []
          },
          "execution_count": 34
        },
        {
          "output_type": "display_data",
          "data": {
            "image/png": "[encoded data removed]",
            "text/plain": [
              "<Figure size 1656x288 with 1 Axes>"
            ]
          },
          "metadata": {
            "tags": []
          }
        }
      ]
    },
    {
      "cell_type": "markdown",
      "metadata": {
        "id": "TwDcIyhFKINt"
      },
      "source": [
        "### Employees by laboral category\n",
        "\n",
        "The employees working at the fabric are a clear majority."
      ]
    },
    {
      "cell_type": "code",
      "metadata": {
        "colab": {
          "base_uri": "https://localhost:8080/",
          "height": 205
        },
        "id": "Dm2ofTeDKIVl",
        "outputId": "1c568712-822c-4f5a-b8b0-e9f47a59f4c8"
      },
      "source": [
        "int_empl_category['Total'] = int_empl_category['Hombres'] + int_empl_category['Mujeres']\n",
        "\n",
        "int_empl_category.head()"
      ],
      "execution_count": 35,
      "outputs": [
        {
          "output_type": "execute_result",
          "data": {
            "text/html": [
              "<div>\n",
              "<style scoped>\n",
              "    .dataframe tbody tr th:only-of-type {\n",
              "        vertical-align: middle;\n",
              "    }\n",
              "\n",
              "    .dataframe tbody tr th {\n",
              "        vertical-align: top;\n",
              "    }\n",
              "\n",
              "    .dataframe thead th {\n",
              "        text-align: right;\n",
              "    }\n",
              "</style>\n",
              "<table border=\"1\" class=\"dataframe\">\n",
              "  <thead>\n",
              "    <tr style=\"text-align: right;\">\n",
              "      <th></th>\n",
              "      <th>Año</th>\n",
              "      <th>Categoria_laboral</th>\n",
              "      <th>Hombres</th>\n",
              "      <th>Mujeres</th>\n",
              "      <th>Total</th>\n",
              "    </tr>\n",
              "  </thead>\n",
              "  <tbody>\n",
              "    <tr>\n",
              "      <th>0</th>\n",
              "      <td>2018</td>\n",
              "      <td>Director</td>\n",
              "      <td>110</td>\n",
              "      <td>10</td>\n",
              "      <td>120</td>\n",
              "    </tr>\n",
              "    <tr>\n",
              "      <th>1</th>\n",
              "      <td>2018</td>\n",
              "      <td>Mando intermedio</td>\n",
              "      <td>541</td>\n",
              "      <td>122</td>\n",
              "      <td>663</td>\n",
              "    </tr>\n",
              "    <tr>\n",
              "      <th>2</th>\n",
              "      <td>2018</td>\n",
              "      <td>Personal planta</td>\n",
              "      <td>4133</td>\n",
              "      <td>1378</td>\n",
              "      <td>5511</td>\n",
              "    </tr>\n",
              "    <tr>\n",
              "      <th>3</th>\n",
              "      <td>2019</td>\n",
              "      <td>Director</td>\n",
              "      <td>147</td>\n",
              "      <td>25</td>\n",
              "      <td>172</td>\n",
              "    </tr>\n",
              "    <tr>\n",
              "      <th>4</th>\n",
              "      <td>2019</td>\n",
              "      <td>Mando intermedio</td>\n",
              "      <td>497</td>\n",
              "      <td>122</td>\n",
              "      <td>619</td>\n",
              "    </tr>\n",
              "  </tbody>\n",
              "</table>\n",
              "</div>"
            ],
            "text/plain": [
              "    Año Categoria_laboral  Hombres  Mujeres  Total\n",
              "0  2018          Director      110       10    120\n",
              "1  2018  Mando intermedio      541      122    663\n",
              "2  2018   Personal planta     4133     1378   5511\n",
              "3  2019          Director      147       25    172\n",
              "4  2019  Mando intermedio      497      122    619"
            ]
          },
          "metadata": {
            "tags": []
          },
          "execution_count": 35
        }
      ]
    },
    {
      "cell_type": "code",
      "metadata": {
        "colab": {
          "base_uri": "https://localhost:8080/",
          "height": 319
        },
        "id": "i1ZI_PcSLy11",
        "outputId": "1100e9e8-cb03-46f8-e5f7-e95cb1c9a98f"
      },
      "source": [
        "plt.figure(figsize=(23,4))\n",
        "\n",
        "ax = sns.barplot(x=\"Categoria_laboral\", y=\"Total\",hue='Año', data = int_empl_category)\n",
        "ax.set_title('Nº employees by laboral category')\n",
        "ax.set(xlabel='Labor Category', ylabel='Employees')"
      ],
      "execution_count": 36,
      "outputs": [
        {
          "output_type": "execute_result",
          "data": {
            "text/plain": [
              "[Text(0, 0.5, 'Employees'), Text(0.5, 0, 'Labor Category')]"
            ]
          },
          "metadata": {
            "tags": []
          },
          "execution_count": 36
        },
        {
          "output_type": "display_data",
          "data": {
            "image/png": "[encoded data removed]",
            "text/plain": [
              "<Figure size 1656x288 with 1 Axes>"
            ]
          },
          "metadata": {
            "tags": []
          }
        }
      ]
    },
    {
      "cell_type": "markdown",
      "metadata": {
        "id": "vjyk1WbzNVAG"
      },
      "source": [
        "### Trainning hours"
      ]
    },
    {
      "cell_type": "code",
      "metadata": {
        "colab": {
          "base_uri": "https://localhost:8080/",
          "height": 143
        },
        "id": "srCZ5-EDMcGm",
        "outputId": "09a54a1c-ed62-4bbc-f800-2ba319692623"
      },
      "source": [
        "h_formacion = h_formacion.groupby('Año').agg('sum')\n",
        "h_formacion = h_formacion.reset_index()\n",
        "h_formacion['Año']=h_formacion['Año'].astype(str)\n",
        "h_formacion.head()"
      ],
      "execution_count": 37,
      "outputs": [
        {
          "output_type": "execute_result",
          "data": {
            "text/html": [
              "<div>\n",
              "<style scoped>\n",
              "    .dataframe tbody tr th:only-of-type {\n",
              "        vertical-align: middle;\n",
              "    }\n",
              "\n",
              "    .dataframe tbody tr th {\n",
              "        vertical-align: top;\n",
              "    }\n",
              "\n",
              "    .dataframe thead th {\n",
              "        text-align: right;\n",
              "    }\n",
              "</style>\n",
              "<table border=\"1\" class=\"dataframe\">\n",
              "  <thead>\n",
              "    <tr style=\"text-align: right;\">\n",
              "      <th></th>\n",
              "      <th>Año</th>\n",
              "      <th>Horas formacion</th>\n",
              "    </tr>\n",
              "  </thead>\n",
              "  <tbody>\n",
              "    <tr>\n",
              "      <th>0</th>\n",
              "      <td>2017</td>\n",
              "      <td>155515</td>\n",
              "    </tr>\n",
              "    <tr>\n",
              "      <th>1</th>\n",
              "      <td>2018</td>\n",
              "      <td>205453</td>\n",
              "    </tr>\n",
              "    <tr>\n",
              "      <th>2</th>\n",
              "      <td>2019</td>\n",
              "      <td>216862</td>\n",
              "    </tr>\n",
              "  </tbody>\n",
              "</table>\n",
              "</div>"
            ],
            "text/plain": [
              "    Año  Horas formacion\n",
              "0  2017           155515\n",
              "1  2018           205453\n",
              "2  2019           216862"
            ]
          },
          "metadata": {
            "tags": []
          },
          "execution_count": 37
        }
      ]
    },
    {
      "cell_type": "markdown",
      "metadata": {
        "id": "TzAgqZPEPT7_"
      },
      "source": [
        "As we can see in the chart below, the company has been investing in training among the last years.\n",
        "\n",
        "This information makes sense with the one obtained in the notebook before, the company has been investing in trainning and this make a change, reducing the nº of accidents."
      ]
    },
    {
      "cell_type": "code",
      "metadata": {
        "colab": {
          "base_uri": "https://localhost:8080/",
          "height": 301
        },
        "id": "NAglZ_JLNA1q",
        "outputId": "ea9f1655-4290-44c6-bc7a-cf872ce841d6"
      },
      "source": [
        "plt.plot(h_formacion['Año'], h_formacion['Horas formacion'])\n",
        "plt.title('Nº training hours per year')\n",
        "plt.xlabel('Year')\n",
        "plt.ylabel('Nº training hours ')\n",
        "\n",
        "plt.show()"
      ],
      "execution_count": 38,
      "outputs": [
        {
          "output_type": "display_data",
          "data": {
            "image/png": "[encoded data removed]",
            "text/plain": [
              "<Figure size 432x288 with 1 Axes>"
            ]
          },
          "metadata": {
            "tags": []
          }
        }
      ]
    }
  ]
}