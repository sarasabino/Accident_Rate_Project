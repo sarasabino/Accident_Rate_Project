{
  "nbformat": 4,
  "nbformat_minor": 0,
  "metadata": {
    "colab": {
      "name": "01_Exploratorio_datos.ipynb",
      "provenance": [],
      "mount_file_id": "1oFqHpKB1NWDhP516n3M9OZLGJ22wgOXr",
      "authorship_tag": "ABX9TyPBHNn/V8eahx5lKhIbj/8s",
      "include_colab_link": true
    },
    "kernelspec": {
      "name": "python3",
      "display_name": "Python 3"
    },
    "language_info": {
      "name": "python"
    }
  },
  "cells": [
    {
      "cell_type": "markdown",
      "metadata": {
        "id": "view-in-github",
        "colab_type": "text"
      },
      "source": [
        "<a href=\"https://colab.research.google.com/github/sarasabino/Accident_Rate_Project/blob/main/Src/Notebooks/01_Exploratorio_datos.ipynb\" target=\"_parent\"><img src=\"https://colab.research.google.com/assets/colab-badge.svg\" alt=\"Open In Colab\"/></a>"
      ]
    },
    {
      "cell_type": "code",
      "metadata": {
        "id": "wWjKorWaDtIv"
      },
      "source": [
        "! cp /content/drive/MyDrive/'Colab Notebooks'/'TFM Accidentabilidad'/Data/HS_Accidentabilidad.csv ."
      ],
      "execution_count": 189,
      "outputs": []
    },
    {
      "cell_type": "code",
      "metadata": {
        "id": "WBoNaDJeEGxw"
      },
      "source": [
        "import pandas as pd\n",
        "\n",
        "accidentabilidad = pd.read_csv('HS_Accidentabilidad.csv', sep=';')"
      ],
      "execution_count": 190,
      "outputs": []
    },
    {
      "cell_type": "code",
      "metadata": {
        "colab": {
          "base_uri": "https://localhost:8080/",
          "height": 664
        },
        "id": "Nv8606uBERT2",
        "outputId": "5069510b-e621-427d-9323-8d5fcc15fef3"
      },
      "source": [
        "accidentabilidad.head()"
      ],
      "execution_count": 191,
      "outputs": [
        {
          "output_type": "execute_result",
          "data": {
            "text/html": [
              "<div>\n",
              "<style scoped>\n",
              "    .dataframe tbody tr th:only-of-type {\n",
              "        vertical-align: middle;\n",
              "    }\n",
              "\n",
              "    .dataframe tbody tr th {\n",
              "        vertical-align: top;\n",
              "    }\n",
              "\n",
              "    .dataframe thead th {\n",
              "        text-align: right;\n",
              "    }\n",
              "</style>\n",
              "<table border=\"1\" class=\"dataframe\">\n",
              "  <thead>\n",
              "    <tr style=\"text-align: right;\">\n",
              "      <th></th>\n",
              "      <th>ID</th>\n",
              "      <th>-  DATOS DEL SUCESO -</th>\n",
              "      <th>Codigo accidentado</th>\n",
              "      <th>Fecha introduccion datos</th>\n",
              "      <th>Fecha accidente</th>\n",
              "      <th>Año</th>\n",
              "      <th>Codigo fecha accidente</th>\n",
              "      <th>Planta</th>\n",
              "      <th>Código empleado</th>\n",
              "      <th>Supervisor</th>\n",
              "      <th>Puesto habitual de trabajo</th>\n",
              "      <th>Puesto habitual de trabajo - Cerrado</th>\n",
              "      <th>MOI o MOD</th>\n",
              "      <th>La estaba desempeñando</th>\n",
              "      <th>En caso negativo, indicar qué estaba desempeñando</th>\n",
              "      <th>Edad</th>\n",
              "      <th>Género</th>\n",
              "      <th>Turno</th>\n",
              "      <th>Numero personas implicadas</th>\n",
              "      <th>Llevaba EPIs puestos</th>\n",
              "      <th>Hora</th>\n",
              "      <th>Hora jornada</th>\n",
              "      <th>Tipo trabajador</th>\n",
              "      <th>En caso de ser ajeno, indicar empresa</th>\n",
              "      <th>Lugar o seccion accidente</th>\n",
              "      <th>Línea de producción</th>\n",
              "      <th>Tarea que estaba realizando</th>\n",
              "      <th>Cumplimiento Instruccion de Seguridad</th>\n",
              "      <th>¿Se ha incumplido alguna de las normas o instrucciones existentes y explicadas?</th>\n",
              "      <th>En caso de incumplimiento, comentarios:</th>\n",
              "      <th>En caso negativo, indicar la razon</th>\n",
              "      <th>Experiencia en puesto</th>\n",
              "      <th>Fecha ultima formacion completa sobre instrucciones en el puesto</th>\n",
              "      <th>Condicion peligrosa</th>\n",
              "      <th>Forma de producirse</th>\n",
              "      <th>Factores de peligro</th>\n",
              "      <th>Acto inseguro</th>\n",
              "      <th>Naturaleza de lesion</th>\n",
              "      <th>- FORMA EN QUE SE PRODUJO -</th>\n",
              "      <th>Descripción supervisor</th>\n",
              "      <th>...</th>\n",
              "      <th>Responsable de Departamento</th>\n",
              "      <th>Nombre de Responsable</th>\n",
              "      <th>Fecha cierre informe</th>\n",
              "      <th>- VALORACIÓN DE LOS HECHOS -</th>\n",
              "      <th>Probabilidad de repeticion del suceso</th>\n",
              "      <th>Gravedad potencial</th>\n",
              "      <th>Podría haberse dado otro riesgo en estas circunstancias</th>\n",
              "      <th>- MEDIDAS DE CONTROL -</th>\n",
              "      <th>Posibilidad de este suceso detectada en la evaluación de riesgos</th>\n",
              "      <th>Estaban contempladas las medidas preventivas en la Instruccion de Seguridad</th>\n",
              "      <th>Los implicados conocian la existencia del riesgo y las medidas a adoptar</th>\n",
              "      <th>Se habian cumplido las normas establecidas, en caso de estar definidas</th>\n",
              "      <th>- PROPUESTA DE ACCIONES -</th>\n",
              "      <th>Estas acciones pueden añadir riesgos a los ya existentes</th>\n",
              "      <th>1 En caso afirmativo, cual es</th>\n",
              "      <th>Se abre NC como consecuencia de esta investigacion</th>\n",
              "      <th>2 En caso afirmativo, cual es</th>\n",
              "      <th>Requiere revision de Evaluacion de Riesgos</th>\n",
              "      <th>3 En caso afirmativo, cual es</th>\n",
              "      <th>Requiere revision de alguna Instruccion de Seguridad</th>\n",
              "      <th>4 En caso afirmativo, cual es</th>\n",
              "      <th>Requiere incorporar algun aspecto en el check list de Inspecciones</th>\n",
              "      <th>5 En caso afirmativo, cual es</th>\n",
              "      <th>Requiere amonestacion verbal el empleado</th>\n",
              "      <th>6 En caso afirmativo, cual es</th>\n",
              "      <th>Bloqueado</th>\n",
              "      <th>Fecha accidente trigger</th>\n",
              "      <th>- ACTUACIONES INMEDIATAS TOMADAS -</th>\n",
              "      <th>Actuación inmediata asistencial</th>\n",
              "      <th>Actuación inmediata instalaciones</th>\n",
              "      <th>- PROPUESTA INICIAL DE MEDIDAS A PLANIFICAR -</th>\n",
              "      <th>Medida a planificar 1</th>\n",
              "      <th>Medida a planificar 2</th>\n",
              "      <th>Medida a planificar 3</th>\n",
              "      <th>Notificacion o investigacion</th>\n",
              "      <th>Modifica notificacion</th>\n",
              "      <th>Se ha dado un suceso similar (en cuanto a sus causas y consecuencias) en el último año en planta?</th>\n",
              "      <th>En caso afirmativo, cual es y como se actuó?</th>\n",
              "      <th>Tipo Tema</th>\n",
              "      <th>Acta reunión alta baja</th>\n",
              "    </tr>\n",
              "  </thead>\n",
              "  <tbody>\n",
              "    <tr>\n",
              "      <th>0</th>\n",
              "      <td>1</td>\n",
              "      <td>0.0</td>\n",
              "      <td>HS-BRGS_0001</td>\n",
              "      <td>09/03/2019</td>\n",
              "      <td>18/01/2016</td>\n",
              "      <td>2016.0</td>\n",
              "      <td>201601</td>\n",
              "      <td>2</td>\n",
              "      <td>NaN</td>\n",
              "      <td>0</td>\n",
              "      <td>Gruista LONGI008</td>\n",
              "      <td>NaN</td>\n",
              "      <td>NaN</td>\n",
              "      <td>NaN</td>\n",
              "      <td>NaN</td>\n",
              "      <td>NaN</td>\n",
              "      <td>NaN</td>\n",
              "      <td>NaN</td>\n",
              "      <td>0</td>\n",
              "      <td>NaN</td>\n",
              "      <td>NaN</td>\n",
              "      <td>NaN</td>\n",
              "      <td>NaN</td>\n",
              "      <td>NaN</td>\n",
              "      <td>NaN</td>\n",
              "      <td>NaN</td>\n",
              "      <td>NaN</td>\n",
              "      <td>NaN</td>\n",
              "      <td>NaN</td>\n",
              "      <td>NaN</td>\n",
              "      <td>NaN</td>\n",
              "      <td>NaN</td>\n",
              "      <td>NaN</td>\n",
              "      <td>Deficiente delimitación de zonas de trabajo o ...</td>\n",
              "      <td>NaN</td>\n",
              "      <td>NaN</td>\n",
              "      <td>Desconocimiento de riesgos y/o medidas prevent...</td>\n",
              "      <td>NaN</td>\n",
              "      <td>0.0</td>\n",
              "      <td>NaN</td>\n",
              "      <td>...</td>\n",
              "      <td>NaN</td>\n",
              "      <td>NaN</td>\n",
              "      <td>NaN</td>\n",
              "      <td>0.0</td>\n",
              "      <td>NaN</td>\n",
              "      <td>NaN</td>\n",
              "      <td>NaN</td>\n",
              "      <td>0.0</td>\n",
              "      <td>NaN</td>\n",
              "      <td>NaN</td>\n",
              "      <td>NaN</td>\n",
              "      <td>NaN</td>\n",
              "      <td>0.0</td>\n",
              "      <td>NaN</td>\n",
              "      <td>NaN</td>\n",
              "      <td>NaN</td>\n",
              "      <td>NaN</td>\n",
              "      <td>NaN</td>\n",
              "      <td>NaN</td>\n",
              "      <td>NaN</td>\n",
              "      <td>NaN</td>\n",
              "      <td>NaN</td>\n",
              "      <td>NaN</td>\n",
              "      <td>NaN</td>\n",
              "      <td>NaN</td>\n",
              "      <td>No</td>\n",
              "      <td>2016-01-18</td>\n",
              "      <td>0.0</td>\n",
              "      <td>NaN</td>\n",
              "      <td>NaN</td>\n",
              "      <td>0.0</td>\n",
              "      <td>NaN</td>\n",
              "      <td>NaN</td>\n",
              "      <td>NaN</td>\n",
              "      <td>No</td>\n",
              "      <td>NaN</td>\n",
              "      <td>NaN</td>\n",
              "      <td>NaN</td>\n",
              "      <td>3</td>\n",
              "      <td>NaN</td>\n",
              "    </tr>\n",
              "    <tr>\n",
              "      <th>1</th>\n",
              "      <td>10</td>\n",
              "      <td>0.0</td>\n",
              "      <td>HS-BRGS_0010</td>\n",
              "      <td>09/03/2019</td>\n",
              "      <td>19/01/2016</td>\n",
              "      <td>2016.0</td>\n",
              "      <td>201601</td>\n",
              "      <td>2</td>\n",
              "      <td>NaN</td>\n",
              "      <td>0</td>\n",
              "      <td>Gruistas</td>\n",
              "      <td>NaN</td>\n",
              "      <td>NaN</td>\n",
              "      <td>NaN</td>\n",
              "      <td>NaN</td>\n",
              "      <td>NaN</td>\n",
              "      <td>NaN</td>\n",
              "      <td>NaN</td>\n",
              "      <td>0</td>\n",
              "      <td>NaN</td>\n",
              "      <td>NaN</td>\n",
              "      <td>NaN</td>\n",
              "      <td>NaN</td>\n",
              "      <td>NaN</td>\n",
              "      <td>NaN</td>\n",
              "      <td>NaN</td>\n",
              "      <td>NaN</td>\n",
              "      <td>NaN</td>\n",
              "      <td>NaN</td>\n",
              "      <td>NaN</td>\n",
              "      <td>NaN</td>\n",
              "      <td>NaN</td>\n",
              "      <td>NaN</td>\n",
              "      <td>Presencia o manejo de elementos pesados</td>\n",
              "      <td>NaN</td>\n",
              "      <td>Puentes grúa y accesorios de elevación</td>\n",
              "      <td>Incumplimiento de Instrucciones IS u otra orde...</td>\n",
              "      <td>NaN</td>\n",
              "      <td>0.0</td>\n",
              "      <td>NaN</td>\n",
              "      <td>...</td>\n",
              "      <td>NaN</td>\n",
              "      <td>NaN</td>\n",
              "      <td>NaN</td>\n",
              "      <td>0.0</td>\n",
              "      <td>NaN</td>\n",
              "      <td>NaN</td>\n",
              "      <td>NaN</td>\n",
              "      <td>0.0</td>\n",
              "      <td>NaN</td>\n",
              "      <td>NaN</td>\n",
              "      <td>NaN</td>\n",
              "      <td>NaN</td>\n",
              "      <td>0.0</td>\n",
              "      <td>NaN</td>\n",
              "      <td>NaN</td>\n",
              "      <td>NaN</td>\n",
              "      <td>NaN</td>\n",
              "      <td>NaN</td>\n",
              "      <td>NaN</td>\n",
              "      <td>NaN</td>\n",
              "      <td>NaN</td>\n",
              "      <td>NaN</td>\n",
              "      <td>NaN</td>\n",
              "      <td>NaN</td>\n",
              "      <td>NaN</td>\n",
              "      <td>No</td>\n",
              "      <td>2016-01-19</td>\n",
              "      <td>0.0</td>\n",
              "      <td>NaN</td>\n",
              "      <td>NaN</td>\n",
              "      <td>0.0</td>\n",
              "      <td>NaN</td>\n",
              "      <td>NaN</td>\n",
              "      <td>NaN</td>\n",
              "      <td>No</td>\n",
              "      <td>NaN</td>\n",
              "      <td>NaN</td>\n",
              "      <td>NaN</td>\n",
              "      <td>3</td>\n",
              "      <td>NaN</td>\n",
              "    </tr>\n",
              "    <tr>\n",
              "      <th>2</th>\n",
              "      <td>11</td>\n",
              "      <td>0.0</td>\n",
              "      <td>HS-BRGS_0011</td>\n",
              "      <td>09/03/2019</td>\n",
              "      <td>28/01/2016</td>\n",
              "      <td>2016.0</td>\n",
              "      <td>201601</td>\n",
              "      <td>2</td>\n",
              "      <td>NaN</td>\n",
              "      <td>0</td>\n",
              "      <td>Gruista LONGI005</td>\n",
              "      <td>NaN</td>\n",
              "      <td>NaN</td>\n",
              "      <td>NaN</td>\n",
              "      <td>NaN</td>\n",
              "      <td>NaN</td>\n",
              "      <td>NaN</td>\n",
              "      <td>NaN</td>\n",
              "      <td>0</td>\n",
              "      <td>NaN</td>\n",
              "      <td>NaN</td>\n",
              "      <td>NaN</td>\n",
              "      <td>NaN</td>\n",
              "      <td>NaN</td>\n",
              "      <td>NaN</td>\n",
              "      <td>NaN</td>\n",
              "      <td>NaN</td>\n",
              "      <td>NaN</td>\n",
              "      <td>NaN</td>\n",
              "      <td>NaN</td>\n",
              "      <td>NaN</td>\n",
              "      <td>NaN</td>\n",
              "      <td>NaN</td>\n",
              "      <td>Movimientos intempestivos de la máquina</td>\n",
              "      <td>NaN</td>\n",
              "      <td>Puentes grúa y accesorios de elevación</td>\n",
              "      <td>Ninguno</td>\n",
              "      <td>NaN</td>\n",
              "      <td>0.0</td>\n",
              "      <td>NaN</td>\n",
              "      <td>...</td>\n",
              "      <td>NaN</td>\n",
              "      <td>NaN</td>\n",
              "      <td>NaN</td>\n",
              "      <td>0.0</td>\n",
              "      <td>NaN</td>\n",
              "      <td>NaN</td>\n",
              "      <td>NaN</td>\n",
              "      <td>0.0</td>\n",
              "      <td>NaN</td>\n",
              "      <td>NaN</td>\n",
              "      <td>NaN</td>\n",
              "      <td>NaN</td>\n",
              "      <td>0.0</td>\n",
              "      <td>NaN</td>\n",
              "      <td>NaN</td>\n",
              "      <td>NaN</td>\n",
              "      <td>NaN</td>\n",
              "      <td>NaN</td>\n",
              "      <td>NaN</td>\n",
              "      <td>NaN</td>\n",
              "      <td>NaN</td>\n",
              "      <td>NaN</td>\n",
              "      <td>NaN</td>\n",
              "      <td>NaN</td>\n",
              "      <td>NaN</td>\n",
              "      <td>No</td>\n",
              "      <td>2016-01-28</td>\n",
              "      <td>0.0</td>\n",
              "      <td>NaN</td>\n",
              "      <td>NaN</td>\n",
              "      <td>0.0</td>\n",
              "      <td>NaN</td>\n",
              "      <td>NaN</td>\n",
              "      <td>NaN</td>\n",
              "      <td>No</td>\n",
              "      <td>NaN</td>\n",
              "      <td>NaN</td>\n",
              "      <td>NaN</td>\n",
              "      <td>3</td>\n",
              "      <td>NaN</td>\n",
              "    </tr>\n",
              "    <tr>\n",
              "      <th>3</th>\n",
              "      <td>12</td>\n",
              "      <td>0.0</td>\n",
              "      <td>HS-BRGS_0012</td>\n",
              "      <td>09/03/2019</td>\n",
              "      <td>29/01/2016</td>\n",
              "      <td>2016.0</td>\n",
              "      <td>201601</td>\n",
              "      <td>2</td>\n",
              "      <td>NaN</td>\n",
              "      <td>0</td>\n",
              "      <td>Gruista PRENSAS</td>\n",
              "      <td>NaN</td>\n",
              "      <td>NaN</td>\n",
              "      <td>NaN</td>\n",
              "      <td>NaN</td>\n",
              "      <td>NaN</td>\n",
              "      <td>NaN</td>\n",
              "      <td>NaN</td>\n",
              "      <td>0</td>\n",
              "      <td>NaN</td>\n",
              "      <td>NaN</td>\n",
              "      <td>NaN</td>\n",
              "      <td>NaN</td>\n",
              "      <td>NaN</td>\n",
              "      <td>NaN</td>\n",
              "      <td>NaN</td>\n",
              "      <td>NaN</td>\n",
              "      <td>NaN</td>\n",
              "      <td>NaN</td>\n",
              "      <td>NaN</td>\n",
              "      <td>NaN</td>\n",
              "      <td>NaN</td>\n",
              "      <td>NaN</td>\n",
              "      <td>NaN</td>\n",
              "      <td>NaN</td>\n",
              "      <td>Bobinas, rollos y producto terminado</td>\n",
              "      <td>Cargas mal colocadas o elevadas o transportadas</td>\n",
              "      <td>NaN</td>\n",
              "      <td>0.0</td>\n",
              "      <td>NaN</td>\n",
              "      <td>...</td>\n",
              "      <td>NaN</td>\n",
              "      <td>NaN</td>\n",
              "      <td>NaN</td>\n",
              "      <td>0.0</td>\n",
              "      <td>NaN</td>\n",
              "      <td>NaN</td>\n",
              "      <td>NaN</td>\n",
              "      <td>0.0</td>\n",
              "      <td>NaN</td>\n",
              "      <td>NaN</td>\n",
              "      <td>NaN</td>\n",
              "      <td>NaN</td>\n",
              "      <td>0.0</td>\n",
              "      <td>NaN</td>\n",
              "      <td>NaN</td>\n",
              "      <td>NaN</td>\n",
              "      <td>NaN</td>\n",
              "      <td>NaN</td>\n",
              "      <td>NaN</td>\n",
              "      <td>NaN</td>\n",
              "      <td>NaN</td>\n",
              "      <td>NaN</td>\n",
              "      <td>NaN</td>\n",
              "      <td>NaN</td>\n",
              "      <td>NaN</td>\n",
              "      <td>No</td>\n",
              "      <td>2016-01-29</td>\n",
              "      <td>0.0</td>\n",
              "      <td>NaN</td>\n",
              "      <td>NaN</td>\n",
              "      <td>0.0</td>\n",
              "      <td>NaN</td>\n",
              "      <td>NaN</td>\n",
              "      <td>NaN</td>\n",
              "      <td>No</td>\n",
              "      <td>NaN</td>\n",
              "      <td>NaN</td>\n",
              "      <td>NaN</td>\n",
              "      <td>3</td>\n",
              "      <td>NaN</td>\n",
              "    </tr>\n",
              "    <tr>\n",
              "      <th>4</th>\n",
              "      <td>13</td>\n",
              "      <td>0.0</td>\n",
              "      <td>HS-BRGS_0013</td>\n",
              "      <td>09/03/2019</td>\n",
              "      <td>04/02/2016</td>\n",
              "      <td>2016.0</td>\n",
              "      <td>201602</td>\n",
              "      <td>2</td>\n",
              "      <td>NaN</td>\n",
              "      <td>0</td>\n",
              "      <td>EMPAQ005</td>\n",
              "      <td>NaN</td>\n",
              "      <td>NaN</td>\n",
              "      <td>NaN</td>\n",
              "      <td>NaN</td>\n",
              "      <td>NaN</td>\n",
              "      <td>NaN</td>\n",
              "      <td>NaN</td>\n",
              "      <td>0</td>\n",
              "      <td>NaN</td>\n",
              "      <td>NaN</td>\n",
              "      <td>NaN</td>\n",
              "      <td>NaN</td>\n",
              "      <td>NaN</td>\n",
              "      <td>NaN</td>\n",
              "      <td>NaN</td>\n",
              "      <td>NaN</td>\n",
              "      <td>NaN</td>\n",
              "      <td>NaN</td>\n",
              "      <td>NaN</td>\n",
              "      <td>NaN</td>\n",
              "      <td>NaN</td>\n",
              "      <td>NaN</td>\n",
              "      <td>Deficiente visibilidad del punto de peligro</td>\n",
              "      <td>NaN</td>\n",
              "      <td>NaN</td>\n",
              "      <td>Accionar el equipo sin supervisar la maniobra</td>\n",
              "      <td>NaN</td>\n",
              "      <td>0.0</td>\n",
              "      <td>NaN</td>\n",
              "      <td>...</td>\n",
              "      <td>NaN</td>\n",
              "      <td>NaN</td>\n",
              "      <td>NaN</td>\n",
              "      <td>0.0</td>\n",
              "      <td>NaN</td>\n",
              "      <td>NaN</td>\n",
              "      <td>NaN</td>\n",
              "      <td>0.0</td>\n",
              "      <td>NaN</td>\n",
              "      <td>NaN</td>\n",
              "      <td>NaN</td>\n",
              "      <td>NaN</td>\n",
              "      <td>0.0</td>\n",
              "      <td>NaN</td>\n",
              "      <td>NaN</td>\n",
              "      <td>NaN</td>\n",
              "      <td>NaN</td>\n",
              "      <td>NaN</td>\n",
              "      <td>NaN</td>\n",
              "      <td>NaN</td>\n",
              "      <td>NaN</td>\n",
              "      <td>NaN</td>\n",
              "      <td>NaN</td>\n",
              "      <td>NaN</td>\n",
              "      <td>NaN</td>\n",
              "      <td>No</td>\n",
              "      <td>2016-02-04</td>\n",
              "      <td>0.0</td>\n",
              "      <td>NaN</td>\n",
              "      <td>NaN</td>\n",
              "      <td>0.0</td>\n",
              "      <td>NaN</td>\n",
              "      <td>NaN</td>\n",
              "      <td>NaN</td>\n",
              "      <td>No</td>\n",
              "      <td>NaN</td>\n",
              "      <td>NaN</td>\n",
              "      <td>NaN</td>\n",
              "      <td>3</td>\n",
              "      <td>NaN</td>\n",
              "    </tr>\n",
              "  </tbody>\n",
              "</table>\n",
              "<p>5 rows × 106 columns</p>\n",
              "</div>"
            ],
            "text/plain": [
              "   ID  -  DATOS DEL SUCESO -  ... Tipo Tema Acta reunión alta baja\n",
              "0   1                    0.0  ...         3                    NaN\n",
              "1  10                    0.0  ...         3                    NaN\n",
              "2  11                    0.0  ...         3                    NaN\n",
              "3  12                    0.0  ...         3                    NaN\n",
              "4  13                    0.0  ...         3                    NaN\n",
              "\n",
              "[5 rows x 106 columns]"
            ]
          },
          "metadata": {
            "tags": []
          },
          "execution_count": 191
        }
      ]
    },
    {
      "cell_type": "code",
      "metadata": {
        "colab": {
          "base_uri": "https://localhost:8080/"
        },
        "id": "Y8a9nQobERWd",
        "outputId": "31d04e9b-ee35-433e-8fcd-764cc7ee4a2b"
      },
      "source": [
        "len(accidentabilidad) ##Our main table has 106 columns and 7797 rows"
      ],
      "execution_count": 192,
      "outputs": [
        {
          "output_type": "execute_result",
          "data": {
            "text/plain": [
              "7797"
            ]
          },
          "metadata": {
            "tags": []
          },
          "execution_count": 192
        }
      ]
    },
    {
      "cell_type": "markdown",
      "metadata": {
        "id": "axQNoh23EioR"
      },
      "source": [
        "### Accident rate table\n",
        "\n",
        "This table will be our main data source. It contains all the accidents occur on a company during several years. Each row represent an accident occurr with one or more people involved. \n",
        "\n",
        "The dataframe shape is 106x7797, this means we have a total number of accidents equal to our table length\n",
        "\n",
        "Let's explore this data to get some information"
      ]
    },
    {
      "cell_type": "code",
      "metadata": {
        "colab": {
          "base_uri": "https://localhost:8080/"
        },
        "id": "jzrOsckzFgio",
        "outputId": "20127575-eec6-47b0-84f5-03df86af416a"
      },
      "source": [
        "accidentabilidad.columns"
      ],
      "execution_count": 193,
      "outputs": [
        {
          "output_type": "execute_result",
          "data": {
            "text/plain": [
              "Index(['ID', '-  DATOS DEL SUCESO -', 'Codigo accidentado',\n",
              "       'Fecha introduccion datos', 'Fecha accidente', 'Año',\n",
              "       'Codigo fecha accidente', 'Planta', 'Código empleado', 'Supervisor',\n",
              "       ...\n",
              "       '- PROPUESTA INICIAL DE MEDIDAS A PLANIFICAR -',\n",
              "       'Medida a planificar 1', 'Medida a planificar 2',\n",
              "       'Medida a planificar 3', 'Notificacion o investigacion',\n",
              "       'Modifica notificacion',\n",
              "       'Se ha dado un suceso similar (en cuanto a sus causas y consecuencias) en el último año en planta?',\n",
              "       'En caso afirmativo, cual es y como se actuó?', 'Tipo Tema',\n",
              "       'Acta reunión alta baja'],\n",
              "      dtype='object', length=106)"
            ]
          },
          "metadata": {
            "tags": []
          },
          "execution_count": 193
        }
      ]
    },
    {
      "cell_type": "code",
      "metadata": {
        "id": "vTYmHKFpKlzc"
      },
      "source": [
        ""
      ],
      "execution_count": 193,
      "outputs": []
    },
    {
      "cell_type": "code",
      "metadata": {
        "colab": {
          "base_uri": "https://localhost:8080/"
        },
        "id": "jQ8HSREYFbEl",
        "outputId": "84fc47b5-c1e0-46f7-92bb-31f244eecc70"
      },
      "source": [
        "## lets check how many years we have registered\n",
        "\n",
        "accidentabilidad['Año'].unique()\n",
        "\n",
        "## we have values from 2016 to 2021, as we can see we have some values without year. To be more clear we will use only accidents with year\n",
        "\n"
      ],
      "execution_count": 194,
      "outputs": [
        {
          "output_type": "execute_result",
          "data": {
            "text/plain": [
              "array([2016., 2017., 2018.,   nan, 2015., 2019., 2020., 2021.])"
            ]
          },
          "metadata": {
            "tags": []
          },
          "execution_count": 194
        }
      ]
    },
    {
      "cell_type": "code",
      "metadata": {
        "colab": {
          "base_uri": "https://localhost:8080/"
        },
        "id": "De99ebiqF1sB",
        "outputId": "53d39b5e-d28d-428d-8ae6-497d7d18a14a"
      },
      "source": [
        "# Nº rows without year\n",
        "\n",
        "len(accidentabilidad[accidentabilidad['Año'].isnull()])"
      ],
      "execution_count": 195,
      "outputs": [
        {
          "output_type": "execute_result",
          "data": {
            "text/plain": [
              "282"
            ]
          },
          "metadata": {
            "tags": []
          },
          "execution_count": 195
        }
      ]
    },
    {
      "cell_type": "code",
      "metadata": {
        "colab": {
          "base_uri": "https://localhost:8080/",
          "height": 284
        },
        "id": "JLmAifYcGjg1",
        "outputId": "0db75519-2dd7-4ff2-eaf3-5c2ec285ada2"
      },
      "source": [
        "## checking nº accidents per year\n",
        "\n",
        "year_df = accidentabilidad[['Año','Codigo accidentado']]\n",
        "\n",
        "year_df = year_df.groupby('Año').agg('count')\n",
        "year_df\n"
      ],
      "execution_count": 196,
      "outputs": [
        {
          "output_type": "execute_result",
          "data": {
            "text/html": [
              "<div>\n",
              "<style scoped>\n",
              "    .dataframe tbody tr th:only-of-type {\n",
              "        vertical-align: middle;\n",
              "    }\n",
              "\n",
              "    .dataframe tbody tr th {\n",
              "        vertical-align: top;\n",
              "    }\n",
              "\n",
              "    .dataframe thead th {\n",
              "        text-align: right;\n",
              "    }\n",
              "</style>\n",
              "<table border=\"1\" class=\"dataframe\">\n",
              "  <thead>\n",
              "    <tr style=\"text-align: right;\">\n",
              "      <th></th>\n",
              "      <th>Codigo accidentado</th>\n",
              "    </tr>\n",
              "    <tr>\n",
              "      <th>Año</th>\n",
              "      <th></th>\n",
              "    </tr>\n",
              "  </thead>\n",
              "  <tbody>\n",
              "    <tr>\n",
              "      <th>2015.0</th>\n",
              "      <td>202</td>\n",
              "    </tr>\n",
              "    <tr>\n",
              "      <th>2016.0</th>\n",
              "      <td>1335</td>\n",
              "    </tr>\n",
              "    <tr>\n",
              "      <th>2017.0</th>\n",
              "      <td>1203</td>\n",
              "    </tr>\n",
              "    <tr>\n",
              "      <th>2018.0</th>\n",
              "      <td>1532</td>\n",
              "    </tr>\n",
              "    <tr>\n",
              "      <th>2019.0</th>\n",
              "      <td>1526</td>\n",
              "    </tr>\n",
              "    <tr>\n",
              "      <th>2020.0</th>\n",
              "      <td>1122</td>\n",
              "    </tr>\n",
              "    <tr>\n",
              "      <th>2021.0</th>\n",
              "      <td>595</td>\n",
              "    </tr>\n",
              "  </tbody>\n",
              "</table>\n",
              "</div>"
            ],
            "text/plain": [
              "        Codigo accidentado\n",
              "Año                       \n",
              "2015.0                 202\n",
              "2016.0                1335\n",
              "2017.0                1203\n",
              "2018.0                1532\n",
              "2019.0                1526\n",
              "2020.0                1122\n",
              "2021.0                 595"
            ]
          },
          "metadata": {
            "tags": []
          },
          "execution_count": 196
        }
      ]
    },
    {
      "cell_type": "code",
      "metadata": {
        "id": "skMgNW-LIVeL"
      },
      "source": [
        "year_df = year_df.reset_index()\n",
        "\n"
      ],
      "execution_count": 197,
      "outputs": []
    },
    {
      "cell_type": "code",
      "metadata": {
        "colab": {
          "base_uri": "https://localhost:8080/",
          "height": 284
        },
        "id": "LVP9PEZ8HtHo",
        "outputId": "fe4f80df-19a5-4560-ea7a-5f59f61ca164"
      },
      "source": [
        "import matplotlib.pyplot as plt\n",
        "from matplotlib import pyplot\n",
        "\n",
        "plt.plot(year_df['Año'], year_df['Codigo accidentado'])\n",
        "plt.title('Nº accidents by year')\n",
        "pyplot.show()\n"
      ],
      "execution_count": 198,
      "outputs": [
        {
          "output_type": "display_data",
          "data": {
            "image/png": "[encoded data removed]",
            "text/plain": [
              "<Figure size 432x288 with 1 Axes>"
            ]
          },
          "metadata": {
            "tags": []
          }
        }
      ]
    },
    {
      "cell_type": "code",
      "metadata": {
        "id": "xA90e3qRXrSW"
      },
      "source": [
        "\n",
        "year_df = accidentabilidad[['Año','Codigo accidentado', 'Tipo accidente']]\n",
        "year_df = year_df.reset_index()\n",
        "\n",
        "year_df.drop(columns={'index'}, inplace=True)"
      ],
      "execution_count": 242,
      "outputs": []
    },
    {
      "cell_type": "code",
      "metadata": {
        "id": "UumVPh_ZYAQv"
      },
      "source": [
        "year_df['Año'] = year_df['Año'].fillna(0).apply(int)"
      ],
      "execution_count": 247,
      "outputs": []
    },
    {
      "cell_type": "code",
      "metadata": {
        "colab": {
          "base_uri": "https://localhost:8080/",
          "height": 285
        },
        "id": "rmagULOBYTek",
        "outputId": "b0700048-c46f-4e26-930a-571306aa4fe3"
      },
      "source": [
        "import seaborn as sns\n",
        "\n",
        "\n",
        "ax = sns.countplot(x=\"Año\", hue = 'Tipo accidente', data=year_df)\n"
      ],
      "execution_count": 248,
      "outputs": [
        {
          "output_type": "display_data",
          "data": {
            "image/png": "[encoded data removed]",
            "text/plain": [
              "<Figure size 432x288 with 1 Axes>"
            ]
          },
          "metadata": {
            "tags": []
          }
        }
      ]
    },
    {
      "cell_type": "markdown",
      "metadata": {
        "id": "j0mVfw67YjzU"
      },
      "source": [
        "On the above chart we can observe clearly an ascending tendency until 2019. From 2019 to present the accidents start to descent greatly."
      ]
    },
    {
      "cell_type": "code",
      "metadata": {
        "colab": {
          "base_uri": "https://localhost:8080/"
        },
        "id": "trraCajHERZX",
        "outputId": "0413a02a-2f68-49a5-dfc7-73f8fd1378d5"
      },
      "source": [
        "## Lets check which positions have been involved in an accident\n",
        "\n",
        "positions = accidentabilidad['Puesto habitual de trabajo'].unique()\n",
        "\n",
        "positions"
      ],
      "execution_count": 199,
      "outputs": [
        {
          "output_type": "execute_result",
          "data": {
            "text/plain": [
              "array(['Gruista LONGI008', 'Gruistas', 'Gruista LONGI005', ...,\n",
              "       'Raw Material and Fitter Operator', 'Mechanical Maintenance',\n",
              "       'press operator '], dtype=object)"
            ]
          },
          "metadata": {
            "tags": []
          },
          "execution_count": 199
        }
      ]
    },
    {
      "cell_type": "code",
      "metadata": {
        "colab": {
          "base_uri": "https://localhost:8080/"
        },
        "id": "kGbXKvEfGWrU",
        "outputId": "eb638f19-38b1-40ee-e756-17f89f626180"
      },
      "source": [
        "len(positions) ##total number of different positions involved in at least one accident\n"
      ],
      "execution_count": 200,
      "outputs": [
        {
          "output_type": "execute_result",
          "data": {
            "text/plain": [
              "1449"
            ]
          },
          "metadata": {
            "tags": []
          },
          "execution_count": 200
        }
      ]
    },
    {
      "cell_type": "code",
      "metadata": {
        "id": "oDkvFEvpERdO"
      },
      "source": [
        "position_df = accidentabilidad[['Codigo accidentado', 'Puesto habitual de trabajo']]\n",
        "position_df = position_df.groupby(['Puesto habitual de trabajo' ]).agg('count')"
      ],
      "execution_count": 201,
      "outputs": []
    },
    {
      "cell_type": "code",
      "metadata": {
        "id": "8Gk5sSe_LbDJ"
      },
      "source": [
        "position_df = position_df.reset_index()"
      ],
      "execution_count": 202,
      "outputs": []
    },
    {
      "cell_type": "code",
      "metadata": {
        "id": "qY0bvt4ZLRaE"
      },
      "source": [
        ""
      ],
      "execution_count": 202,
      "outputs": []
    },
    {
      "cell_type": "code",
      "metadata": {
        "colab": {
          "base_uri": "https://localhost:8080/",
          "height": 195
        },
        "id": "wRD9qvy2ERft",
        "outputId": "f4d48941-2b06-4422-fbbd-dac2e96260f1"
      },
      "source": [
        "position_df.rename(columns={'Codigo accidentado':'Count'}, inplace=True)\n",
        "position_df.head()"
      ],
      "execution_count": 203,
      "outputs": [
        {
          "output_type": "execute_result",
          "data": {
            "text/html": [
              "<div>\n",
              "<style scoped>\n",
              "    .dataframe tbody tr th:only-of-type {\n",
              "        vertical-align: middle;\n",
              "    }\n",
              "\n",
              "    .dataframe tbody tr th {\n",
              "        vertical-align: top;\n",
              "    }\n",
              "\n",
              "    .dataframe thead th {\n",
              "        text-align: right;\n",
              "    }\n",
              "</style>\n",
              "<table border=\"1\" class=\"dataframe\">\n",
              "  <thead>\n",
              "    <tr style=\"text-align: right;\">\n",
              "      <th></th>\n",
              "      <th>Puesto habitual de trabajo</th>\n",
              "      <th>Count</th>\n",
              "    </tr>\n",
              "  </thead>\n",
              "  <tbody>\n",
              "    <tr>\n",
              "      <th>0</th>\n",
              "      <td>-</td>\n",
              "      <td>1</td>\n",
              "    </tr>\n",
              "    <tr>\n",
              "      <th>1</th>\n",
              "      <td>.</td>\n",
              "      <td>3</td>\n",
              "    </tr>\n",
              "    <tr>\n",
              "      <th>2</th>\n",
              "      <td>/</td>\n",
              "      <td>1</td>\n",
              "    </tr>\n",
              "    <tr>\n",
              "      <th>3</th>\n",
              "      <td>5000-3</td>\n",
              "      <td>1</td>\n",
              "    </tr>\n",
              "    <tr>\n",
              "      <th>4</th>\n",
              "      <td>500t Press</td>\n",
              "      <td>7</td>\n",
              "    </tr>\n",
              "  </tbody>\n",
              "</table>\n",
              "</div>"
            ],
            "text/plain": [
              "  Puesto habitual de trabajo  Count\n",
              "0                          -      1\n",
              "1                          .      3\n",
              "2                         /       1\n",
              "3                     5000-3      1\n",
              "4                 500t Press      7"
            ]
          },
          "metadata": {
            "tags": []
          },
          "execution_count": 203
        }
      ]
    },
    {
      "cell_type": "code",
      "metadata": {
        "colab": {
          "base_uri": "https://localhost:8080/"
        },
        "id": "VK5yjjmrMV6W",
        "outputId": "c7dea0a2-400d-435e-b34e-df27d50de0fe"
      },
      "source": [
        "len(position_df)"
      ],
      "execution_count": 204,
      "outputs": [
        {
          "output_type": "execute_result",
          "data": {
            "text/plain": [
              "1448"
            ]
          },
          "metadata": {
            "tags": []
          },
          "execution_count": 204
        }
      ]
    },
    {
      "cell_type": "code",
      "metadata": {
        "id": "4zA9mDAJMYjF"
      },
      "source": [
        "sorted_position = position_df.sort_values('Count', ascending=False).head(10)"
      ],
      "execution_count": 205,
      "outputs": []
    },
    {
      "cell_type": "code",
      "metadata": {
        "colab": {
          "base_uri": "https://localhost:8080/",
          "height": 195
        },
        "id": "1lteh_FoM11R",
        "outputId": "92da6a71-b39a-4ccd-ce9f-c93a4bcf4e14"
      },
      "source": [
        "sorted_position.head() ##carretillero is the position with more accidents"
      ],
      "execution_count": 206,
      "outputs": [
        {
          "output_type": "execute_result",
          "data": {
            "text/html": [
              "<div>\n",
              "<style scoped>\n",
              "    .dataframe tbody tr th:only-of-type {\n",
              "        vertical-align: middle;\n",
              "    }\n",
              "\n",
              "    .dataframe tbody tr th {\n",
              "        vertical-align: top;\n",
              "    }\n",
              "\n",
              "    .dataframe thead th {\n",
              "        text-align: right;\n",
              "    }\n",
              "</style>\n",
              "<table border=\"1\" class=\"dataframe\">\n",
              "  <thead>\n",
              "    <tr style=\"text-align: right;\">\n",
              "      <th></th>\n",
              "      <th>Puesto habitual de trabajo</th>\n",
              "      <th>Count</th>\n",
              "    </tr>\n",
              "  </thead>\n",
              "  <tbody>\n",
              "    <tr>\n",
              "      <th>190</th>\n",
              "      <td>Carretillero</td>\n",
              "      <td>170</td>\n",
              "    </tr>\n",
              "    <tr>\n",
              "      <th>406</th>\n",
              "      <td>Gruista</td>\n",
              "      <td>121</td>\n",
              "    </tr>\n",
              "    <tr>\n",
              "      <th>1247</th>\n",
              "      <td>Warehouse</td>\n",
              "      <td>113</td>\n",
              "    </tr>\n",
              "    <tr>\n",
              "      <th>1288</th>\n",
              "      <td>carretillero</td>\n",
              "      <td>67</td>\n",
              "    </tr>\n",
              "    <tr>\n",
              "      <th>995</th>\n",
              "      <td>Puente Grua - Flejador</td>\n",
              "      <td>51</td>\n",
              "    </tr>\n",
              "  </tbody>\n",
              "</table>\n",
              "</div>"
            ],
            "text/plain": [
              "     Puesto habitual de trabajo  Count\n",
              "190                Carretillero    170\n",
              "406                     Gruista    121\n",
              "1247                  Warehouse    113\n",
              "1288               carretillero     67\n",
              "995      Puente Grua - Flejador     51"
            ]
          },
          "metadata": {
            "tags": []
          },
          "execution_count": 206
        }
      ]
    },
    {
      "cell_type": "code",
      "metadata": {
        "colab": {
          "base_uri": "https://localhost:8080/",
          "height": 268
        },
        "id": "Lh-vviC9Mwrn",
        "outputId": "f5cfcb81-4710-4b40-a0b2-8e8536faef2f"
      },
      "source": [
        "plt.plot(sorted_position['Puesto habitual de trabajo'], sorted_position['Count'])\n",
        "plt.show()"
      ],
      "execution_count": 207,
      "outputs": [
        {
          "output_type": "display_data",
          "data": {
            "image/png": "[encoded data removed]",
            "text/plain": [
              "<Figure size 432x288 with 1 Axes>"
            ]
          },
          "metadata": {
            "tags": []
          }
        }
      ]
    },
    {
      "cell_type": "code",
      "metadata": {
        "colab": {
          "base_uri": "https://localhost:8080/",
          "height": 268
        },
        "id": "UWTbXNtEOWKO",
        "outputId": "8f6b8d2b-e6da-466b-83e8-322615317227"
      },
      "source": [
        "import numpy as np\n",
        "import matplotlib.mlab as mlab\n",
        "import matplotlib.pyplot as plt\n",
        "\n",
        "x = sorted_position['Puesto habitual de trabajo']\n",
        "y = sorted_position['Count']\n",
        "\n",
        "plt.bar(x,y)\n",
        "\n",
        "plt.show()"
      ],
      "execution_count": 208,
      "outputs": [
        {
          "output_type": "display_data",
          "data": {
            "image/png": "[encoded data removed]",
            "text/plain": [
              "<Figure size 432x288 with 1 Axes>"
            ]
          },
          "metadata": {
            "tags": []
          }
        }
      ]
    },
    {
      "cell_type": "markdown",
      "metadata": {
        "id": "YIgMkRVgQEoJ"
      },
      "source": [
        "Now we are going to analyze the type of people which has had the accidents. For that purpose we will create a new df with the relevant columns to this analysis.\n",
        "\n",
        "We dont have data for all accidents so we will analyze the ones we have"
      ]
    },
    {
      "cell_type": "code",
      "metadata": {
        "colab": {
          "base_uri": "https://localhost:8080/",
          "height": 195
        },
        "id": "-L80LdKPQEei",
        "outputId": "40ff6729-2bfd-410c-fe63-c0167d6609b3"
      },
      "source": [
        "empleado = accidentabilidad[['Edad', 'Género', 'Codigo accidentado']]\n",
        "\n",
        "empleado.head()"
      ],
      "execution_count": 209,
      "outputs": [
        {
          "output_type": "execute_result",
          "data": {
            "text/html": [
              "<div>\n",
              "<style scoped>\n",
              "    .dataframe tbody tr th:only-of-type {\n",
              "        vertical-align: middle;\n",
              "    }\n",
              "\n",
              "    .dataframe tbody tr th {\n",
              "        vertical-align: top;\n",
              "    }\n",
              "\n",
              "    .dataframe thead th {\n",
              "        text-align: right;\n",
              "    }\n",
              "</style>\n",
              "<table border=\"1\" class=\"dataframe\">\n",
              "  <thead>\n",
              "    <tr style=\"text-align: right;\">\n",
              "      <th></th>\n",
              "      <th>Edad</th>\n",
              "      <th>Género</th>\n",
              "      <th>Codigo accidentado</th>\n",
              "    </tr>\n",
              "  </thead>\n",
              "  <tbody>\n",
              "    <tr>\n",
              "      <th>0</th>\n",
              "      <td>NaN</td>\n",
              "      <td>NaN</td>\n",
              "      <td>HS-BRGS_0001</td>\n",
              "    </tr>\n",
              "    <tr>\n",
              "      <th>1</th>\n",
              "      <td>NaN</td>\n",
              "      <td>NaN</td>\n",
              "      <td>HS-BRGS_0010</td>\n",
              "    </tr>\n",
              "    <tr>\n",
              "      <th>2</th>\n",
              "      <td>NaN</td>\n",
              "      <td>NaN</td>\n",
              "      <td>HS-BRGS_0011</td>\n",
              "    </tr>\n",
              "    <tr>\n",
              "      <th>3</th>\n",
              "      <td>NaN</td>\n",
              "      <td>NaN</td>\n",
              "      <td>HS-BRGS_0012</td>\n",
              "    </tr>\n",
              "    <tr>\n",
              "      <th>4</th>\n",
              "      <td>NaN</td>\n",
              "      <td>NaN</td>\n",
              "      <td>HS-BRGS_0013</td>\n",
              "    </tr>\n",
              "  </tbody>\n",
              "</table>\n",
              "</div>"
            ],
            "text/plain": [
              "  Edad Género Codigo accidentado\n",
              "0  NaN    NaN       HS-BRGS_0001\n",
              "1  NaN    NaN       HS-BRGS_0010\n",
              "2  NaN    NaN       HS-BRGS_0011\n",
              "3  NaN    NaN       HS-BRGS_0012\n",
              "4  NaN    NaN       HS-BRGS_0013"
            ]
          },
          "metadata": {
            "tags": []
          },
          "execution_count": 209
        }
      ]
    },
    {
      "cell_type": "code",
      "metadata": {
        "colab": {
          "base_uri": "https://localhost:8080/",
          "height": 195
        },
        "id": "MuZpeBinQvjj",
        "outputId": "fb7a35fa-cb17-4880-c16c-9e6d5e723344"
      },
      "source": [
        "empleado = empleado[(empleado['Edad'].isnull() == False) & (empleado['Género'].isnull() == False)]\n",
        "\n",
        "empleado.head()"
      ],
      "execution_count": 210,
      "outputs": [
        {
          "output_type": "execute_result",
          "data": {
            "text/html": [
              "<div>\n",
              "<style scoped>\n",
              "    .dataframe tbody tr th:only-of-type {\n",
              "        vertical-align: middle;\n",
              "    }\n",
              "\n",
              "    .dataframe tbody tr th {\n",
              "        vertical-align: top;\n",
              "    }\n",
              "\n",
              "    .dataframe thead th {\n",
              "        text-align: right;\n",
              "    }\n",
              "</style>\n",
              "<table border=\"1\" class=\"dataframe\">\n",
              "  <thead>\n",
              "    <tr style=\"text-align: right;\">\n",
              "      <th></th>\n",
              "      <th>Edad</th>\n",
              "      <th>Género</th>\n",
              "      <th>Codigo accidentado</th>\n",
              "    </tr>\n",
              "  </thead>\n",
              "  <tbody>\n",
              "    <tr>\n",
              "      <th>1411</th>\n",
              "      <td>48</td>\n",
              "      <td>Hombre</td>\n",
              "      <td>HS-TRRG_1495</td>\n",
              "    </tr>\n",
              "    <tr>\n",
              "      <th>1423</th>\n",
              "      <td>32</td>\n",
              "      <td>Hombre</td>\n",
              "      <td>HS-BRGS_1507</td>\n",
              "    </tr>\n",
              "    <tr>\n",
              "      <th>1485</th>\n",
              "      <td>44</td>\n",
              "      <td>Hombre</td>\n",
              "      <td>HS-NVRR_1589</td>\n",
              "    </tr>\n",
              "    <tr>\n",
              "      <th>1513</th>\n",
              "      <td>33</td>\n",
              "      <td>Hombre</td>\n",
              "      <td>HS-TRRG_1617</td>\n",
              "    </tr>\n",
              "    <tr>\n",
              "      <th>1578</th>\n",
              "      <td>45</td>\n",
              "      <td>Hombre</td>\n",
              "      <td>HS-NVRR_1942</td>\n",
              "    </tr>\n",
              "  </tbody>\n",
              "</table>\n",
              "</div>"
            ],
            "text/plain": [
              "     Edad  Género Codigo accidentado\n",
              "1411   48  Hombre       HS-TRRG_1495\n",
              "1423   32  Hombre       HS-BRGS_1507\n",
              "1485   44  Hombre       HS-NVRR_1589\n",
              "1513   33  Hombre       HS-TRRG_1617\n",
              "1578   45  Hombre       HS-NVRR_1942"
            ]
          },
          "metadata": {
            "tags": []
          },
          "execution_count": 210
        }
      ]
    },
    {
      "cell_type": "code",
      "metadata": {
        "colab": {
          "base_uri": "https://localhost:8080/",
          "height": 431
        },
        "id": "Np91aWneRG-a",
        "outputId": "70b0bc9d-2759-4243-8d26-930966e3f06a"
      },
      "source": [
        "empleado.groupby(['Edad', 'Género']).agg('count')"
      ],
      "execution_count": 211,
      "outputs": [
        {
          "output_type": "execute_result",
          "data": {
            "text/html": [
              "<div>\n",
              "<style scoped>\n",
              "    .dataframe tbody tr th:only-of-type {\n",
              "        vertical-align: middle;\n",
              "    }\n",
              "\n",
              "    .dataframe tbody tr th {\n",
              "        vertical-align: top;\n",
              "    }\n",
              "\n",
              "    .dataframe thead th {\n",
              "        text-align: right;\n",
              "    }\n",
              "</style>\n",
              "<table border=\"1\" class=\"dataframe\">\n",
              "  <thead>\n",
              "    <tr style=\"text-align: right;\">\n",
              "      <th></th>\n",
              "      <th></th>\n",
              "      <th>Codigo accidentado</th>\n",
              "    </tr>\n",
              "    <tr>\n",
              "      <th>Edad</th>\n",
              "      <th>Género</th>\n",
              "      <th></th>\n",
              "    </tr>\n",
              "  </thead>\n",
              "  <tbody>\n",
              "    <tr>\n",
              "      <th>*</th>\n",
              "      <th>Hombre</th>\n",
              "      <td>10</td>\n",
              "    </tr>\n",
              "    <tr>\n",
              "      <th rowspan=\"2\" valign=\"top\">-</th>\n",
              "      <th>Hombre</th>\n",
              "      <td>14</td>\n",
              "    </tr>\n",
              "    <tr>\n",
              "      <th>Mujer</th>\n",
              "      <td>2</td>\n",
              "    </tr>\n",
              "    <tr>\n",
              "      <th>---</th>\n",
              "      <th>Mujer</th>\n",
              "      <td>1</td>\n",
              "    </tr>\n",
              "    <tr>\n",
              "      <th>.</th>\n",
              "      <th>Hombre</th>\n",
              "      <td>3</td>\n",
              "    </tr>\n",
              "    <tr>\n",
              "      <th>...</th>\n",
              "      <th>...</th>\n",
              "      <td>...</td>\n",
              "    </tr>\n",
              "    <tr>\n",
              "      <th>na</th>\n",
              "      <th>Hombre</th>\n",
              "      <td>1</td>\n",
              "    </tr>\n",
              "    <tr>\n",
              "      <th>none</th>\n",
              "      <th>Hombre</th>\n",
              "      <td>6</td>\n",
              "    </tr>\n",
              "    <tr>\n",
              "      <th>se desconoce</th>\n",
              "      <th>Hombre</th>\n",
              "      <td>1</td>\n",
              "    </tr>\n",
              "    <tr>\n",
              "      <th>unknown</th>\n",
              "      <th>Hombre</th>\n",
              "      <td>2</td>\n",
              "    </tr>\n",
              "    <tr>\n",
              "      <th>x</th>\n",
              "      <th>Hombre</th>\n",
              "      <td>2</td>\n",
              "    </tr>\n",
              "  </tbody>\n",
              "</table>\n",
              "<p>139 rows × 1 columns</p>\n",
              "</div>"
            ],
            "text/plain": [
              "                     Codigo accidentado\n",
              "Edad         Género                    \n",
              "*            Hombre                  10\n",
              "-            Hombre                  14\n",
              "             Mujer                    2\n",
              "---          Mujer                    1\n",
              ".            Hombre                   3\n",
              "...                                 ...\n",
              "na           Hombre                   1\n",
              "none         Hombre                   6\n",
              "se desconoce Hombre                   1\n",
              "unknown      Hombre                   2\n",
              "x            Hombre                   2\n",
              "\n",
              "[139 rows x 1 columns]"
            ]
          },
          "metadata": {
            "tags": []
          },
          "execution_count": 211
        }
      ]
    },
    {
      "cell_type": "code",
      "metadata": {
        "id": "iaT3ay6GRcVd"
      },
      "source": [
        "## we get only numeric values or unknow for edad\n",
        "\n",
        "empleado['Edad'] = empleado['Edad'].apply(lambda x: x if x.isnumeric() else 'unknown')"
      ],
      "execution_count": 212,
      "outputs": []
    },
    {
      "cell_type": "code",
      "metadata": {
        "id": "0yGw1E2GRxkA"
      },
      "source": [
        "empleado_grouped = empleado.groupby(['Edad', 'Género']).agg('count')"
      ],
      "execution_count": 213,
      "outputs": []
    },
    {
      "cell_type": "code",
      "metadata": {
        "colab": {
          "base_uri": "https://localhost:8080/",
          "height": 225
        },
        "id": "KN2c9_prR2c6",
        "outputId": "7bd603f0-87ec-4166-8613-d0173e843cb7"
      },
      "source": [
        "empleado_grouped.head()"
      ],
      "execution_count": 214,
      "outputs": [
        {
          "output_type": "execute_result",
          "data": {
            "text/html": [
              "<div>\n",
              "<style scoped>\n",
              "    .dataframe tbody tr th:only-of-type {\n",
              "        vertical-align: middle;\n",
              "    }\n",
              "\n",
              "    .dataframe tbody tr th {\n",
              "        vertical-align: top;\n",
              "    }\n",
              "\n",
              "    .dataframe thead th {\n",
              "        text-align: right;\n",
              "    }\n",
              "</style>\n",
              "<table border=\"1\" class=\"dataframe\">\n",
              "  <thead>\n",
              "    <tr style=\"text-align: right;\">\n",
              "      <th></th>\n",
              "      <th></th>\n",
              "      <th>Codigo accidentado</th>\n",
              "    </tr>\n",
              "    <tr>\n",
              "      <th>Edad</th>\n",
              "      <th>Género</th>\n",
              "      <th></th>\n",
              "    </tr>\n",
              "  </thead>\n",
              "  <tbody>\n",
              "    <tr>\n",
              "      <th>10</th>\n",
              "      <th>Hombre</th>\n",
              "      <td>1</td>\n",
              "    </tr>\n",
              "    <tr>\n",
              "      <th>100</th>\n",
              "      <th>Hombre</th>\n",
              "      <td>13</td>\n",
              "    </tr>\n",
              "    <tr>\n",
              "      <th>17</th>\n",
              "      <th>Hombre</th>\n",
              "      <td>3</td>\n",
              "    </tr>\n",
              "    <tr>\n",
              "      <th>18</th>\n",
              "      <th>Hombre</th>\n",
              "      <td>4</td>\n",
              "    </tr>\n",
              "    <tr>\n",
              "      <th>19</th>\n",
              "      <th>Hombre</th>\n",
              "      <td>13</td>\n",
              "    </tr>\n",
              "  </tbody>\n",
              "</table>\n",
              "</div>"
            ],
            "text/plain": [
              "             Codigo accidentado\n",
              "Edad Género                    \n",
              "10   Hombre                   1\n",
              "100  Hombre                  13\n",
              "17   Hombre                   3\n",
              "18   Hombre                   4\n",
              "19   Hombre                  13"
            ]
          },
          "metadata": {
            "tags": []
          },
          "execution_count": 214
        }
      ]
    },
    {
      "cell_type": "code",
      "metadata": {
        "id": "KqNpAy-8R4TV"
      },
      "source": [
        "empleado_grouped = empleado_grouped.sort_values('Codigo accidentado', ascending=False).reset_index()\n"
      ],
      "execution_count": 215,
      "outputs": []
    },
    {
      "cell_type": "code",
      "metadata": {
        "colab": {
          "base_uri": "https://localhost:8080/",
          "height": 195
        },
        "id": "yowWW6OUSdzm",
        "outputId": "8e131d33-b150-4844-ef5e-6174165200aa"
      },
      "source": [
        "empleado_grouped.head()"
      ],
      "execution_count": 216,
      "outputs": [
        {
          "output_type": "execute_result",
          "data": {
            "text/html": [
              "<div>\n",
              "<style scoped>\n",
              "    .dataframe tbody tr th:only-of-type {\n",
              "        vertical-align: middle;\n",
              "    }\n",
              "\n",
              "    .dataframe tbody tr th {\n",
              "        vertical-align: top;\n",
              "    }\n",
              "\n",
              "    .dataframe thead th {\n",
              "        text-align: right;\n",
              "    }\n",
              "</style>\n",
              "<table border=\"1\" class=\"dataframe\">\n",
              "  <thead>\n",
              "    <tr style=\"text-align: right;\">\n",
              "      <th></th>\n",
              "      <th>Edad</th>\n",
              "      <th>Género</th>\n",
              "      <th>Codigo accidentado</th>\n",
              "    </tr>\n",
              "  </thead>\n",
              "  <tbody>\n",
              "    <tr>\n",
              "      <th>0</th>\n",
              "      <td>40</td>\n",
              "      <td>Hombre</td>\n",
              "      <td>129</td>\n",
              "    </tr>\n",
              "    <tr>\n",
              "      <th>1</th>\n",
              "      <td>35</td>\n",
              "      <td>Hombre</td>\n",
              "      <td>120</td>\n",
              "    </tr>\n",
              "    <tr>\n",
              "      <th>2</th>\n",
              "      <td>unknown</td>\n",
              "      <td>Hombre</td>\n",
              "      <td>99</td>\n",
              "    </tr>\n",
              "    <tr>\n",
              "      <th>3</th>\n",
              "      <td>45</td>\n",
              "      <td>Hombre</td>\n",
              "      <td>99</td>\n",
              "    </tr>\n",
              "    <tr>\n",
              "      <th>4</th>\n",
              "      <td>30</td>\n",
              "      <td>Hombre</td>\n",
              "      <td>86</td>\n",
              "    </tr>\n",
              "  </tbody>\n",
              "</table>\n",
              "</div>"
            ],
            "text/plain": [
              "      Edad  Género  Codigo accidentado\n",
              "0       40  Hombre                 129\n",
              "1       35  Hombre                 120\n",
              "2  unknown  Hombre                  99\n",
              "3       45  Hombre                  99\n",
              "4       30  Hombre                  86"
            ]
          },
          "metadata": {
            "tags": []
          },
          "execution_count": 216
        }
      ]
    },
    {
      "cell_type": "code",
      "metadata": {
        "id": "5mmW82nvTL6h"
      },
      "source": [
        "empleado = empleado.reset_index()"
      ],
      "execution_count": 220,
      "outputs": []
    },
    {
      "cell_type": "code",
      "metadata": {
        "colab": {
          "base_uri": "https://localhost:8080/",
          "height": 285
        },
        "id": "QY-zBQ-dSSCc",
        "outputId": "53414cf4-4182-46d1-ce90-a6e8011eed3d"
      },
      "source": [
        "\n",
        "ax = sns.countplot(x=\"Edad\", hue=\"Género\", data=empleado)\n"
      ],
      "execution_count": 222,
      "outputs": [
        {
          "output_type": "display_data",
          "data": {
            "image/png": "[encoded data removed]",
            "text/plain": [
              "<Figure size 432x288 with 1 Axes>"
            ]
          },
          "metadata": {
            "tags": []
          }
        }
      ]
    },
    {
      "cell_type": "markdown",
      "metadata": {
        "id": "WbapnyHrUSNp"
      },
      "source": [
        "At first sight we can see men have a lot more accidents than women. 40 years old men are the more target group. To see % rates we will need to compare with the Staff table.\n",
        "\n",
        "\n",
        "Now lets check the number of accidents by turno"
      ]
    },
    {
      "cell_type": "code",
      "metadata": {
        "id": "FmugCYCNU7p0"
      },
      "source": [
        "turno = accidentabilidad[['Codigo accidentado', 'Turno']]\n",
        "turno = turno[turno['Turno'].isnull()==False]"
      ],
      "execution_count": 226,
      "outputs": []
    },
    {
      "cell_type": "code",
      "metadata": {
        "colab": {
          "base_uri": "https://localhost:8080/",
          "height": 285
        },
        "id": "5J9Vy7N5U7th",
        "outputId": "dd0baf14-f708-4e75-8618-5ce4c1eda90e"
      },
      "source": [
        "ax = sns.countplot(x=\"Turno\",  data=turno)\n"
      ],
      "execution_count": 227,
      "outputs": [
        {
          "output_type": "display_data",
          "data": {
            "image/png": "[encoded data removed]",
            "text/plain": [
              "<Figure size 432x288 with 1 Axes>"
            ]
          },
          "metadata": {
            "tags": []
          }
        }
      ]
    },
    {
      "cell_type": "markdown",
      "metadata": {
        "id": "ENncIGQNVwEn"
      },
      "source": [
        "This might be unexpected but the turn with more accidentes is the morning one, lets analyze the severity of the accidents in those turns"
      ]
    },
    {
      "cell_type": "code",
      "metadata": {
        "id": "Bv77sZHnU9Tv"
      },
      "source": [
        "turno = accidentabilidad[['Codigo accidentado', 'Turno', 'Gravedad potencial']]\n",
        "turno = turno.reset_index()\n",
        "\n",
        "turno = turno[turno['Gravedad potencial'].isnull()==False]"
      ],
      "execution_count": 235,
      "outputs": []
    },
    {
      "cell_type": "code",
      "metadata": {
        "colab": {
          "base_uri": "https://localhost:8080/",
          "height": 285
        },
        "id": "8WZuuHDwU9j8",
        "outputId": "639430df-362a-4ea0-deb5-26ac02f9dc59"
      },
      "source": [
        "ax = sns.countplot(x=\"Turno\", hue = 'Gravedad potencial', data=turno)\n"
      ],
      "execution_count": 237,
      "outputs": [
        {
          "output_type": "display_data",
          "data": {
            "image/png": "[encoded data removed]",
            "text/plain": [
              "<Figure size 432x288 with 1 Axes>"
            ]
          },
          "metadata": {
            "tags": []
          }
        }
      ]
    },
    {
      "cell_type": "markdown",
      "metadata": {
        "id": "Wv6bF6ZtXGux"
      },
      "source": [
        "Morning turn keeps being the one with more severe accidents"
      ]
    }
  ]
}