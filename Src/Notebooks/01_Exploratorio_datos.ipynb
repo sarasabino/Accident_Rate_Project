{
  "nbformat": 4,
  "nbformat_minor": 0,
  "metadata": {
    "colab": {
      "name": "01_Exploratorio_datos.ipynb",
      "provenance": [],
      "collapsed_sections": [],
      "mount_file_id": "1oFqHpKB1NWDhP516n3M9OZLGJ22wgOXr",
      "authorship_tag": "ABX9TyMU3EdgWySyCE6vHnairLZ5",
      "include_colab_link": true
    },
    "kernelspec": {
      "name": "python3",
      "display_name": "Python 3"
    },
    "language_info": {
      "name": "python"
    }
  },
  "cells": [
    {
      "cell_type": "markdown",
      "metadata": {
        "id": "view-in-github",
        "colab_type": "text"
      },
      "source": [
        "<a href=\"https://colab.research.google.com/github/sarasabino/Accident_Rate_Project/blob/main/Src/Notebooks/01_Exploratorio_datos.ipynb\" target=\"_parent\"><img src=\"https://colab.research.google.com/assets/colab-badge.svg\" alt=\"Open In Colab\"/></a>"
      ]
    },
    {
      "cell_type": "markdown",
      "metadata": {
        "id": "ef1UaQX0sR6Z"
      },
      "source": [
        "## Exploratory of accident data\n",
        "\n",
        "In this notebook we are going to analyze the data received at first instance. In the accidentabilidad dataframe we are going to have the accidents occurred with its details.\n",
        "\n",
        "This data has been previously ananomyzed."
      ]
    },
    {
      "cell_type": "code",
      "metadata": {
        "id": "wWjKorWaDtIv"
      },
      "source": [
        "! cp /content/drive/MyDrive/'Colab Notebooks'/'TFM Accidentabilidad'/Data/HS_Accidentabilidad.csv ."
      ],
      "execution_count": 107,
      "outputs": []
    },
    {
      "cell_type": "code",
      "metadata": {
        "id": "WBoNaDJeEGxw"
      },
      "source": [
        "import pandas as pd\n",
        "\n",
        "accidentabilidad = pd.read_csv('HS_Accidentabilidad.csv', sep=';')"
      ],
      "execution_count": 108,
      "outputs": []
    },
    {
      "cell_type": "code",
      "metadata": {
        "colab": {
          "base_uri": "https://localhost:8080/",
          "height": 686
        },
        "id": "Nv8606uBERT2",
        "outputId": "31d04ef9-1f2e-4619-964c-46f6b6c73e9c"
      },
      "source": [
        "accidentabilidad.head()"
      ],
      "execution_count": 109,
      "outputs": [
        {
          "output_type": "execute_result",
          "data": {
            "text/html": [
              "<div>\n",
              "<style scoped>\n",
              "    .dataframe tbody tr th:only-of-type {\n",
              "        vertical-align: middle;\n",
              "    }\n",
              "\n",
              "    .dataframe tbody tr th {\n",
              "        vertical-align: top;\n",
              "    }\n",
              "\n",
              "    .dataframe thead th {\n",
              "        text-align: right;\n",
              "    }\n",
              "</style>\n",
              "<table border=\"1\" class=\"dataframe\">\n",
              "  <thead>\n",
              "    <tr style=\"text-align: right;\">\n",
              "      <th></th>\n",
              "      <th>ID</th>\n",
              "      <th>-  DATOS DEL SUCESO -</th>\n",
              "      <th>Codigo accidentado</th>\n",
              "      <th>Fecha introduccion datos</th>\n",
              "      <th>Fecha accidente</th>\n",
              "      <th>Año</th>\n",
              "      <th>Codigo fecha accidente</th>\n",
              "      <th>Planta</th>\n",
              "      <th>Código empleado</th>\n",
              "      <th>Supervisor</th>\n",
              "      <th>Puesto habitual de trabajo</th>\n",
              "      <th>Puesto habitual de trabajo - Cerrado</th>\n",
              "      <th>MOI o MOD</th>\n",
              "      <th>La estaba desempeñando</th>\n",
              "      <th>En caso negativo, indicar qué estaba desempeñando</th>\n",
              "      <th>Edad</th>\n",
              "      <th>Género</th>\n",
              "      <th>Turno</th>\n",
              "      <th>Numero personas implicadas</th>\n",
              "      <th>Llevaba EPIs puestos</th>\n",
              "      <th>Hora</th>\n",
              "      <th>Hora jornada</th>\n",
              "      <th>Tipo trabajador</th>\n",
              "      <th>En caso de ser ajeno, indicar empresa</th>\n",
              "      <th>Lugar o seccion accidente</th>\n",
              "      <th>Línea de producción</th>\n",
              "      <th>Tarea que estaba realizando</th>\n",
              "      <th>Cumplimiento Instruccion de Seguridad</th>\n",
              "      <th>¿Se ha incumplido alguna de las normas o instrucciones existentes y explicadas?</th>\n",
              "      <th>En caso de incumplimiento, comentarios:</th>\n",
              "      <th>En caso negativo, indicar la razon</th>\n",
              "      <th>Experiencia en puesto</th>\n",
              "      <th>Fecha ultima formacion completa sobre instrucciones en el puesto</th>\n",
              "      <th>Condicion peligrosa</th>\n",
              "      <th>Forma de producirse</th>\n",
              "      <th>Factores de peligro</th>\n",
              "      <th>Acto inseguro</th>\n",
              "      <th>Naturaleza de lesion</th>\n",
              "      <th>- FORMA EN QUE SE PRODUJO -</th>\n",
              "      <th>Descripción supervisor</th>\n",
              "      <th>...</th>\n",
              "      <th>Nombre del Coordinador - despegable</th>\n",
              "      <th>Nombre de participante a la investigación</th>\n",
              "      <th>Responsable de Departamento</th>\n",
              "      <th>Fecha cierre informe</th>\n",
              "      <th>- VALORACIÓN DE LOS HECHOS -</th>\n",
              "      <th>Probabilidad de repeticion del suceso</th>\n",
              "      <th>Gravedad potencial</th>\n",
              "      <th>Podría haberse dado otro riesgo en estas circunstancias</th>\n",
              "      <th>- MEDIDAS DE CONTROL -</th>\n",
              "      <th>Posibilidad de este suceso detectada en la evaluación de riesgos</th>\n",
              "      <th>Estaban contempladas las medidas preventivas en la Instruccion de Seguridad</th>\n",
              "      <th>Los implicados conocian la existencia del riesgo y las medidas a adoptar</th>\n",
              "      <th>Se habian cumplido las normas establecidas, en caso de estar definidas</th>\n",
              "      <th>- PROPUESTA DE ACCIONES -</th>\n",
              "      <th>Estas acciones pueden añadir riesgos a los ya existentes</th>\n",
              "      <th>1 En caso afirmativo, cual es</th>\n",
              "      <th>Se abre NC como consecuencia de esta investigacion</th>\n",
              "      <th>2 En caso afirmativo, cual es</th>\n",
              "      <th>Requiere revision de Evaluacion de Riesgos</th>\n",
              "      <th>3 En caso afirmativo, cual es</th>\n",
              "      <th>Requiere revision de alguna Instruccion de Seguridad</th>\n",
              "      <th>4 En caso afirmativo, cual es</th>\n",
              "      <th>Requiere incorporar algun aspecto en el check list de Inspecciones</th>\n",
              "      <th>5 En caso afirmativo, cual es</th>\n",
              "      <th>Requiere amonestacion verbal el empleado</th>\n",
              "      <th>Bloqueado</th>\n",
              "      <th>Fecha accidente trigger</th>\n",
              "      <th>- ACTUACIONES INMEDIATAS TOMADAS -</th>\n",
              "      <th>Actuación inmediata asistencial</th>\n",
              "      <th>Actuación inmediata instalaciones</th>\n",
              "      <th>- PROPUESTA INICIAL DE MEDIDAS A PLANIFICAR -</th>\n",
              "      <th>Medida a planificar 1</th>\n",
              "      <th>Medida a planificar 2</th>\n",
              "      <th>Medida a planificar 3</th>\n",
              "      <th>Notificacion o investigacion</th>\n",
              "      <th>Modifica notificacion</th>\n",
              "      <th>Se ha dado un suceso similar (en cuanto a sus causas y consecuencias) en el último año en planta?</th>\n",
              "      <th>En caso afirmativo, cual es y como se actuó?</th>\n",
              "      <th>Tipo Tema</th>\n",
              "      <th>Acta reunión alta baja</th>\n",
              "    </tr>\n",
              "  </thead>\n",
              "  <tbody>\n",
              "    <tr>\n",
              "      <th>0</th>\n",
              "      <td>1</td>\n",
              "      <td>0.0</td>\n",
              "      <td>HS-BRGS_0001</td>\n",
              "      <td>9/3/19</td>\n",
              "      <td>18/1/16</td>\n",
              "      <td>2016.0</td>\n",
              "      <td>201601</td>\n",
              "      <td>2</td>\n",
              "      <td>NaN</td>\n",
              "      <td>0</td>\n",
              "      <td>Gruista LONGI008</td>\n",
              "      <td>NaN</td>\n",
              "      <td>NaN</td>\n",
              "      <td>NaN</td>\n",
              "      <td>NaN</td>\n",
              "      <td>NaN</td>\n",
              "      <td>NaN</td>\n",
              "      <td>NaN</td>\n",
              "      <td>0</td>\n",
              "      <td>NaN</td>\n",
              "      <td>NaN</td>\n",
              "      <td>NaN</td>\n",
              "      <td>NaN</td>\n",
              "      <td>NaN</td>\n",
              "      <td>NaN</td>\n",
              "      <td>NaN</td>\n",
              "      <td>NaN</td>\n",
              "      <td>NaN</td>\n",
              "      <td>NaN</td>\n",
              "      <td>NaN</td>\n",
              "      <td>NaN</td>\n",
              "      <td>NaN</td>\n",
              "      <td>NaN</td>\n",
              "      <td>Deficiente delimitación de zonas de trabajo o ...</td>\n",
              "      <td>NaN</td>\n",
              "      <td>NaN</td>\n",
              "      <td>Desconocimiento de riesgos y/o medidas prevent...</td>\n",
              "      <td>NaN</td>\n",
              "      <td>0.0</td>\n",
              "      <td>NaN</td>\n",
              "      <td>...</td>\n",
              "      <td>NaN</td>\n",
              "      <td>NaN</td>\n",
              "      <td>NaN</td>\n",
              "      <td>NaN</td>\n",
              "      <td>0.0</td>\n",
              "      <td>NaN</td>\n",
              "      <td>NaN</td>\n",
              "      <td>NaN</td>\n",
              "      <td>0.0</td>\n",
              "      <td>NaN</td>\n",
              "      <td>NaN</td>\n",
              "      <td>NaN</td>\n",
              "      <td>NaN</td>\n",
              "      <td>0.0</td>\n",
              "      <td>NaN</td>\n",
              "      <td>NaN</td>\n",
              "      <td>NaN</td>\n",
              "      <td>NaN</td>\n",
              "      <td>NaN</td>\n",
              "      <td>NaN</td>\n",
              "      <td>NaN</td>\n",
              "      <td>NaN</td>\n",
              "      <td>NaN</td>\n",
              "      <td>NaN</td>\n",
              "      <td>NaN</td>\n",
              "      <td>No</td>\n",
              "      <td>18/1/16</td>\n",
              "      <td>0.0</td>\n",
              "      <td>NaN</td>\n",
              "      <td>NaN</td>\n",
              "      <td>0.0</td>\n",
              "      <td>NaN</td>\n",
              "      <td>NaN</td>\n",
              "      <td>NaN</td>\n",
              "      <td>No</td>\n",
              "      <td>NaN</td>\n",
              "      <td>NaN</td>\n",
              "      <td>NaN</td>\n",
              "      <td>3</td>\n",
              "      <td>NaN</td>\n",
              "    </tr>\n",
              "    <tr>\n",
              "      <th>1</th>\n",
              "      <td>10</td>\n",
              "      <td>0.0</td>\n",
              "      <td>HS-BRGS_0010</td>\n",
              "      <td>9/3/19</td>\n",
              "      <td>19/1/16</td>\n",
              "      <td>2016.0</td>\n",
              "      <td>201601</td>\n",
              "      <td>2</td>\n",
              "      <td>NaN</td>\n",
              "      <td>0</td>\n",
              "      <td>Gruistas</td>\n",
              "      <td>NaN</td>\n",
              "      <td>NaN</td>\n",
              "      <td>NaN</td>\n",
              "      <td>NaN</td>\n",
              "      <td>NaN</td>\n",
              "      <td>NaN</td>\n",
              "      <td>NaN</td>\n",
              "      <td>0</td>\n",
              "      <td>NaN</td>\n",
              "      <td>NaN</td>\n",
              "      <td>NaN</td>\n",
              "      <td>NaN</td>\n",
              "      <td>NaN</td>\n",
              "      <td>NaN</td>\n",
              "      <td>NaN</td>\n",
              "      <td>NaN</td>\n",
              "      <td>NaN</td>\n",
              "      <td>NaN</td>\n",
              "      <td>NaN</td>\n",
              "      <td>NaN</td>\n",
              "      <td>NaN</td>\n",
              "      <td>NaN</td>\n",
              "      <td>Presencia o manejo de elementos pesados</td>\n",
              "      <td>NaN</td>\n",
              "      <td>Puentes grúa y accesorios de elevación</td>\n",
              "      <td>Incumplimiento de Instrucciones IS u otra orde...</td>\n",
              "      <td>NaN</td>\n",
              "      <td>0.0</td>\n",
              "      <td>NaN</td>\n",
              "      <td>...</td>\n",
              "      <td>NaN</td>\n",
              "      <td>NaN</td>\n",
              "      <td>NaN</td>\n",
              "      <td>NaN</td>\n",
              "      <td>0.0</td>\n",
              "      <td>NaN</td>\n",
              "      <td>NaN</td>\n",
              "      <td>NaN</td>\n",
              "      <td>0.0</td>\n",
              "      <td>NaN</td>\n",
              "      <td>NaN</td>\n",
              "      <td>NaN</td>\n",
              "      <td>NaN</td>\n",
              "      <td>0.0</td>\n",
              "      <td>NaN</td>\n",
              "      <td>NaN</td>\n",
              "      <td>NaN</td>\n",
              "      <td>NaN</td>\n",
              "      <td>NaN</td>\n",
              "      <td>NaN</td>\n",
              "      <td>NaN</td>\n",
              "      <td>NaN</td>\n",
              "      <td>NaN</td>\n",
              "      <td>NaN</td>\n",
              "      <td>NaN</td>\n",
              "      <td>No</td>\n",
              "      <td>19/1/16</td>\n",
              "      <td>0.0</td>\n",
              "      <td>NaN</td>\n",
              "      <td>NaN</td>\n",
              "      <td>0.0</td>\n",
              "      <td>NaN</td>\n",
              "      <td>NaN</td>\n",
              "      <td>NaN</td>\n",
              "      <td>No</td>\n",
              "      <td>NaN</td>\n",
              "      <td>NaN</td>\n",
              "      <td>NaN</td>\n",
              "      <td>3</td>\n",
              "      <td>NaN</td>\n",
              "    </tr>\n",
              "    <tr>\n",
              "      <th>2</th>\n",
              "      <td>11</td>\n",
              "      <td>0.0</td>\n",
              "      <td>HS-BRGS_0011</td>\n",
              "      <td>9/3/19</td>\n",
              "      <td>28/1/16</td>\n",
              "      <td>2016.0</td>\n",
              "      <td>201601</td>\n",
              "      <td>2</td>\n",
              "      <td>NaN</td>\n",
              "      <td>0</td>\n",
              "      <td>Gruista LONGI005</td>\n",
              "      <td>NaN</td>\n",
              "      <td>NaN</td>\n",
              "      <td>NaN</td>\n",
              "      <td>NaN</td>\n",
              "      <td>NaN</td>\n",
              "      <td>NaN</td>\n",
              "      <td>NaN</td>\n",
              "      <td>0</td>\n",
              "      <td>NaN</td>\n",
              "      <td>NaN</td>\n",
              "      <td>NaN</td>\n",
              "      <td>NaN</td>\n",
              "      <td>NaN</td>\n",
              "      <td>NaN</td>\n",
              "      <td>NaN</td>\n",
              "      <td>NaN</td>\n",
              "      <td>NaN</td>\n",
              "      <td>NaN</td>\n",
              "      <td>NaN</td>\n",
              "      <td>NaN</td>\n",
              "      <td>NaN</td>\n",
              "      <td>NaN</td>\n",
              "      <td>Movimientos intempestivos de la máquina</td>\n",
              "      <td>NaN</td>\n",
              "      <td>Puentes grúa y accesorios de elevación</td>\n",
              "      <td>Ninguno</td>\n",
              "      <td>NaN</td>\n",
              "      <td>0.0</td>\n",
              "      <td>NaN</td>\n",
              "      <td>...</td>\n",
              "      <td>NaN</td>\n",
              "      <td>NaN</td>\n",
              "      <td>NaN</td>\n",
              "      <td>NaN</td>\n",
              "      <td>0.0</td>\n",
              "      <td>NaN</td>\n",
              "      <td>NaN</td>\n",
              "      <td>NaN</td>\n",
              "      <td>0.0</td>\n",
              "      <td>NaN</td>\n",
              "      <td>NaN</td>\n",
              "      <td>NaN</td>\n",
              "      <td>NaN</td>\n",
              "      <td>0.0</td>\n",
              "      <td>NaN</td>\n",
              "      <td>NaN</td>\n",
              "      <td>NaN</td>\n",
              "      <td>NaN</td>\n",
              "      <td>NaN</td>\n",
              "      <td>NaN</td>\n",
              "      <td>NaN</td>\n",
              "      <td>NaN</td>\n",
              "      <td>NaN</td>\n",
              "      <td>NaN</td>\n",
              "      <td>NaN</td>\n",
              "      <td>No</td>\n",
              "      <td>28/1/16</td>\n",
              "      <td>0.0</td>\n",
              "      <td>NaN</td>\n",
              "      <td>NaN</td>\n",
              "      <td>0.0</td>\n",
              "      <td>NaN</td>\n",
              "      <td>NaN</td>\n",
              "      <td>NaN</td>\n",
              "      <td>No</td>\n",
              "      <td>NaN</td>\n",
              "      <td>NaN</td>\n",
              "      <td>NaN</td>\n",
              "      <td>3</td>\n",
              "      <td>NaN</td>\n",
              "    </tr>\n",
              "    <tr>\n",
              "      <th>3</th>\n",
              "      <td>12</td>\n",
              "      <td>0.0</td>\n",
              "      <td>HS-BRGS_0012</td>\n",
              "      <td>9/3/19</td>\n",
              "      <td>29/1/16</td>\n",
              "      <td>2016.0</td>\n",
              "      <td>201601</td>\n",
              "      <td>2</td>\n",
              "      <td>NaN</td>\n",
              "      <td>0</td>\n",
              "      <td>Gruista PRENSAS</td>\n",
              "      <td>NaN</td>\n",
              "      <td>NaN</td>\n",
              "      <td>NaN</td>\n",
              "      <td>NaN</td>\n",
              "      <td>NaN</td>\n",
              "      <td>NaN</td>\n",
              "      <td>NaN</td>\n",
              "      <td>0</td>\n",
              "      <td>NaN</td>\n",
              "      <td>NaN</td>\n",
              "      <td>NaN</td>\n",
              "      <td>NaN</td>\n",
              "      <td>NaN</td>\n",
              "      <td>NaN</td>\n",
              "      <td>NaN</td>\n",
              "      <td>NaN</td>\n",
              "      <td>NaN</td>\n",
              "      <td>NaN</td>\n",
              "      <td>NaN</td>\n",
              "      <td>NaN</td>\n",
              "      <td>NaN</td>\n",
              "      <td>NaN</td>\n",
              "      <td>NaN</td>\n",
              "      <td>NaN</td>\n",
              "      <td>Bobinas, rollos y producto terminado</td>\n",
              "      <td>Cargas mal colocadas o elevadas o transportadas</td>\n",
              "      <td>NaN</td>\n",
              "      <td>0.0</td>\n",
              "      <td>NaN</td>\n",
              "      <td>...</td>\n",
              "      <td>NaN</td>\n",
              "      <td>NaN</td>\n",
              "      <td>NaN</td>\n",
              "      <td>NaN</td>\n",
              "      <td>0.0</td>\n",
              "      <td>NaN</td>\n",
              "      <td>NaN</td>\n",
              "      <td>NaN</td>\n",
              "      <td>0.0</td>\n",
              "      <td>NaN</td>\n",
              "      <td>NaN</td>\n",
              "      <td>NaN</td>\n",
              "      <td>NaN</td>\n",
              "      <td>0.0</td>\n",
              "      <td>NaN</td>\n",
              "      <td>NaN</td>\n",
              "      <td>NaN</td>\n",
              "      <td>NaN</td>\n",
              "      <td>NaN</td>\n",
              "      <td>NaN</td>\n",
              "      <td>NaN</td>\n",
              "      <td>NaN</td>\n",
              "      <td>NaN</td>\n",
              "      <td>NaN</td>\n",
              "      <td>NaN</td>\n",
              "      <td>No</td>\n",
              "      <td>29/1/16</td>\n",
              "      <td>0.0</td>\n",
              "      <td>NaN</td>\n",
              "      <td>NaN</td>\n",
              "      <td>0.0</td>\n",
              "      <td>NaN</td>\n",
              "      <td>NaN</td>\n",
              "      <td>NaN</td>\n",
              "      <td>No</td>\n",
              "      <td>NaN</td>\n",
              "      <td>NaN</td>\n",
              "      <td>NaN</td>\n",
              "      <td>3</td>\n",
              "      <td>NaN</td>\n",
              "    </tr>\n",
              "    <tr>\n",
              "      <th>4</th>\n",
              "      <td>13</td>\n",
              "      <td>0.0</td>\n",
              "      <td>HS-BRGS_0013</td>\n",
              "      <td>9/3/19</td>\n",
              "      <td>4/2/16</td>\n",
              "      <td>2016.0</td>\n",
              "      <td>201602</td>\n",
              "      <td>2</td>\n",
              "      <td>NaN</td>\n",
              "      <td>0</td>\n",
              "      <td>EMPAQ005</td>\n",
              "      <td>NaN</td>\n",
              "      <td>NaN</td>\n",
              "      <td>NaN</td>\n",
              "      <td>NaN</td>\n",
              "      <td>NaN</td>\n",
              "      <td>NaN</td>\n",
              "      <td>NaN</td>\n",
              "      <td>0</td>\n",
              "      <td>NaN</td>\n",
              "      <td>NaN</td>\n",
              "      <td>NaN</td>\n",
              "      <td>NaN</td>\n",
              "      <td>NaN</td>\n",
              "      <td>NaN</td>\n",
              "      <td>NaN</td>\n",
              "      <td>NaN</td>\n",
              "      <td>NaN</td>\n",
              "      <td>NaN</td>\n",
              "      <td>NaN</td>\n",
              "      <td>NaN</td>\n",
              "      <td>NaN</td>\n",
              "      <td>NaN</td>\n",
              "      <td>Deficiente visibilidad del punto de peligro</td>\n",
              "      <td>NaN</td>\n",
              "      <td>NaN</td>\n",
              "      <td>Accionar el equipo sin supervisar la maniobra</td>\n",
              "      <td>NaN</td>\n",
              "      <td>0.0</td>\n",
              "      <td>NaN</td>\n",
              "      <td>...</td>\n",
              "      <td>NaN</td>\n",
              "      <td>NaN</td>\n",
              "      <td>NaN</td>\n",
              "      <td>NaN</td>\n",
              "      <td>0.0</td>\n",
              "      <td>NaN</td>\n",
              "      <td>NaN</td>\n",
              "      <td>NaN</td>\n",
              "      <td>0.0</td>\n",
              "      <td>NaN</td>\n",
              "      <td>NaN</td>\n",
              "      <td>NaN</td>\n",
              "      <td>NaN</td>\n",
              "      <td>0.0</td>\n",
              "      <td>NaN</td>\n",
              "      <td>NaN</td>\n",
              "      <td>NaN</td>\n",
              "      <td>NaN</td>\n",
              "      <td>NaN</td>\n",
              "      <td>NaN</td>\n",
              "      <td>NaN</td>\n",
              "      <td>NaN</td>\n",
              "      <td>NaN</td>\n",
              "      <td>NaN</td>\n",
              "      <td>NaN</td>\n",
              "      <td>No</td>\n",
              "      <td>4/2/16</td>\n",
              "      <td>0.0</td>\n",
              "      <td>NaN</td>\n",
              "      <td>NaN</td>\n",
              "      <td>0.0</td>\n",
              "      <td>NaN</td>\n",
              "      <td>NaN</td>\n",
              "      <td>NaN</td>\n",
              "      <td>No</td>\n",
              "      <td>NaN</td>\n",
              "      <td>NaN</td>\n",
              "      <td>NaN</td>\n",
              "      <td>3</td>\n",
              "      <td>NaN</td>\n",
              "    </tr>\n",
              "  </tbody>\n",
              "</table>\n",
              "<p>5 rows × 104 columns</p>\n",
              "</div>"
            ],
            "text/plain": [
              "   ID  -  DATOS DEL SUCESO -  ... Tipo Tema Acta reunión alta baja\n",
              "0   1                    0.0  ...         3                    NaN\n",
              "1  10                    0.0  ...         3                    NaN\n",
              "2  11                    0.0  ...         3                    NaN\n",
              "3  12                    0.0  ...         3                    NaN\n",
              "4  13                    0.0  ...         3                    NaN\n",
              "\n",
              "[5 rows x 104 columns]"
            ]
          },
          "metadata": {
            "tags": []
          },
          "execution_count": 109
        }
      ]
    },
    {
      "cell_type": "code",
      "metadata": {
        "colab": {
          "base_uri": "https://localhost:8080/"
        },
        "id": "DRwcaS5ugdd9",
        "outputId": "7d42c4b2-cdd7-4a44-a977-963499df55ff"
      },
      "source": [
        "accidentabilidad.dtypes"
      ],
      "execution_count": 110,
      "outputs": [
        {
          "output_type": "execute_result",
          "data": {
            "text/plain": [
              "ID                                                                                                     int64\n",
              "-  DATOS DEL SUCESO -                                                                                float64\n",
              "Codigo accidentado                                                                                    object\n",
              "Fecha introduccion datos                                                                              object\n",
              "Fecha accidente                                                                                       object\n",
              "                                                                                                      ...   \n",
              "Modifica notificacion                                                                                 object\n",
              "Se ha dado un suceso similar (en cuanto a sus causas y consecuencias) en el último año en planta?     object\n",
              "En caso afirmativo, cual es y como se actuó?                                                          object\n",
              "Tipo Tema                                                                                              int64\n",
              "Acta reunión alta baja                                                                               float64\n",
              "Length: 104, dtype: object"
            ]
          },
          "metadata": {
            "tags": []
          },
          "execution_count": 110
        }
      ]
    },
    {
      "cell_type": "code",
      "metadata": {
        "colab": {
          "base_uri": "https://localhost:8080/"
        },
        "id": "Y8a9nQobERWd",
        "outputId": "34b17601-7e54-4563-fdaf-54211f0367fa"
      },
      "source": [
        "len(accidentabilidad) ##Our main table has 104 columns and 7797 rows"
      ],
      "execution_count": 111,
      "outputs": [
        {
          "output_type": "execute_result",
          "data": {
            "text/plain": [
              "7797"
            ]
          },
          "metadata": {
            "tags": []
          },
          "execution_count": 111
        }
      ]
    },
    {
      "cell_type": "markdown",
      "metadata": {
        "id": "axQNoh23EioR"
      },
      "source": [
        "### Accident rate table\n",
        "\n",
        "This table contains all the accidents occur on a company during several years. Each row represent an accident occurr with one or more people involved. \n",
        "\n",
        "The dataframe shape is 104x7797, this means we have a total number of accidents equal to our table length\n",
        "\n",
        "Let's explore this data to get some information"
      ]
    },
    {
      "cell_type": "code",
      "metadata": {
        "colab": {
          "base_uri": "https://localhost:8080/"
        },
        "id": "jzrOsckzFgio",
        "outputId": "93541a10-d5c9-4f1c-dc61-7a77d23131d9"
      },
      "source": [
        "accidentabilidad.columns"
      ],
      "execution_count": 112,
      "outputs": [
        {
          "output_type": "execute_result",
          "data": {
            "text/plain": [
              "Index(['ID', '-  DATOS DEL SUCESO -', 'Codigo accidentado',\n",
              "       'Fecha introduccion datos', 'Fecha accidente', 'Año',\n",
              "       'Codigo fecha accidente', 'Planta', 'Código empleado', 'Supervisor',\n",
              "       ...\n",
              "       '- PROPUESTA INICIAL DE MEDIDAS A PLANIFICAR -',\n",
              "       'Medida a planificar 1', 'Medida a planificar 2',\n",
              "       'Medida a planificar 3', 'Notificacion o investigacion',\n",
              "       'Modifica notificacion',\n",
              "       'Se ha dado un suceso similar (en cuanto a sus causas y consecuencias) en el último año en planta?',\n",
              "       'En caso afirmativo, cual es y como se actuó?', 'Tipo Tema',\n",
              "       'Acta reunión alta baja'],\n",
              "      dtype='object', length=104)"
            ]
          },
          "metadata": {
            "tags": []
          },
          "execution_count": 112
        }
      ]
    },
    {
      "cell_type": "code",
      "metadata": {
        "colab": {
          "base_uri": "https://localhost:8080/"
        },
        "id": "jQ8HSREYFbEl",
        "outputId": "0bbd443d-2cc0-478f-9789-469f065bd89b"
      },
      "source": [
        "## lets check how many years we have registered\n",
        "\n",
        "accidentabilidad['Año'].unique()\n",
        "\n",
        "## we have values from 2016 to 2021, as we can see we have some values without year. To be more clear we will use only accidents with year\n",
        "\n"
      ],
      "execution_count": 113,
      "outputs": [
        {
          "output_type": "execute_result",
          "data": {
            "text/plain": [
              "array([2016., 2017., 2018.,   nan, 2015., 2019., 2020., 2021.])"
            ]
          },
          "metadata": {
            "tags": []
          },
          "execution_count": 113
        }
      ]
    },
    {
      "cell_type": "code",
      "metadata": {
        "colab": {
          "base_uri": "https://localhost:8080/"
        },
        "id": "De99ebiqF1sB",
        "outputId": "1b861241-a570-4491-a96b-c0839360c0ca"
      },
      "source": [
        "# Nº rows without year\n",
        "\n",
        "len(accidentabilidad[accidentabilidad['Año'].isnull()])"
      ],
      "execution_count": 114,
      "outputs": [
        {
          "output_type": "execute_result",
          "data": {
            "text/plain": [
              "282"
            ]
          },
          "metadata": {
            "tags": []
          },
          "execution_count": 114
        }
      ]
    },
    {
      "cell_type": "code",
      "metadata": {
        "colab": {
          "base_uri": "https://localhost:8080/",
          "height": 299
        },
        "id": "JLmAifYcGjg1",
        "outputId": "0a822c35-e7f1-4486-ac22-3e96597fb411"
      },
      "source": [
        "## checking nº accidents per year\n",
        "\n",
        "year_df = accidentabilidad[['Año','Codigo accidentado']]\n",
        "\n",
        "year_df = year_df.groupby('Año').agg('count')\n",
        "year_df\n"
      ],
      "execution_count": 115,
      "outputs": [
        {
          "output_type": "execute_result",
          "data": {
            "text/html": [
              "<div>\n",
              "<style scoped>\n",
              "    .dataframe tbody tr th:only-of-type {\n",
              "        vertical-align: middle;\n",
              "    }\n",
              "\n",
              "    .dataframe tbody tr th {\n",
              "        vertical-align: top;\n",
              "    }\n",
              "\n",
              "    .dataframe thead th {\n",
              "        text-align: right;\n",
              "    }\n",
              "</style>\n",
              "<table border=\"1\" class=\"dataframe\">\n",
              "  <thead>\n",
              "    <tr style=\"text-align: right;\">\n",
              "      <th></th>\n",
              "      <th>Codigo accidentado</th>\n",
              "    </tr>\n",
              "    <tr>\n",
              "      <th>Año</th>\n",
              "      <th></th>\n",
              "    </tr>\n",
              "  </thead>\n",
              "  <tbody>\n",
              "    <tr>\n",
              "      <th>2015.0</th>\n",
              "      <td>202</td>\n",
              "    </tr>\n",
              "    <tr>\n",
              "      <th>2016.0</th>\n",
              "      <td>1335</td>\n",
              "    </tr>\n",
              "    <tr>\n",
              "      <th>2017.0</th>\n",
              "      <td>1203</td>\n",
              "    </tr>\n",
              "    <tr>\n",
              "      <th>2018.0</th>\n",
              "      <td>1532</td>\n",
              "    </tr>\n",
              "    <tr>\n",
              "      <th>2019.0</th>\n",
              "      <td>1526</td>\n",
              "    </tr>\n",
              "    <tr>\n",
              "      <th>2020.0</th>\n",
              "      <td>1122</td>\n",
              "    </tr>\n",
              "    <tr>\n",
              "      <th>2021.0</th>\n",
              "      <td>595</td>\n",
              "    </tr>\n",
              "  </tbody>\n",
              "</table>\n",
              "</div>"
            ],
            "text/plain": [
              "        Codigo accidentado\n",
              "Año                       \n",
              "2015.0                 202\n",
              "2016.0                1335\n",
              "2017.0                1203\n",
              "2018.0                1532\n",
              "2019.0                1526\n",
              "2020.0                1122\n",
              "2021.0                 595"
            ]
          },
          "metadata": {
            "tags": []
          },
          "execution_count": 115
        }
      ]
    },
    {
      "cell_type": "code",
      "metadata": {
        "id": "skMgNW-LIVeL"
      },
      "source": [
        "year_df = year_df.reset_index()"
      ],
      "execution_count": 116,
      "outputs": []
    },
    {
      "cell_type": "markdown",
      "metadata": {
        "id": "4BSHK-lcYl1D"
      },
      "source": [
        "As we can see in the chart below accidents has been decreasing since 2019"
      ]
    },
    {
      "cell_type": "code",
      "metadata": {
        "colab": {
          "base_uri": "https://localhost:8080/",
          "height": 281
        },
        "id": "LVP9PEZ8HtHo",
        "outputId": "8c0cd04c-792e-44bb-f225-a916253bfb52"
      },
      "source": [
        "import matplotlib.pyplot as plt\n",
        "from matplotlib import pyplot\n",
        "\n",
        "plt.plot(year_df['Año'], year_df['Codigo accidentado'])\n",
        "plt.title('Nº accidents by year')\n",
        "pyplot.show()\n"
      ],
      "execution_count": 117,
      "outputs": [
        {
          "output_type": "display_data",
          "data": {
            "image/png": "[encoded data removed]",
            "text/plain": [
              "<Figure size 432x288 with 1 Axes>"
            ]
          },
          "metadata": {
            "tags": [],
            "needs_background": "light"
          }
        }
      ]
    },
    {
      "cell_type": "code",
      "metadata": {
        "id": "xA90e3qRXrSW"
      },
      "source": [
        "\n",
        "year_df = accidentabilidad[['Año','Codigo accidentado', 'Tipo accidente']]\n",
        "year_df = year_df.reset_index()\n",
        "\n",
        "year_df.drop(columns={'index'}, inplace=True)"
      ],
      "execution_count": 118,
      "outputs": []
    },
    {
      "cell_type": "code",
      "metadata": {
        "id": "UumVPh_ZYAQv"
      },
      "source": [
        "year_df['Año'] = year_df['Año'].fillna(0).apply(int)"
      ],
      "execution_count": 119,
      "outputs": []
    },
    {
      "cell_type": "code",
      "metadata": {
        "colab": {
          "base_uri": "https://localhost:8080/",
          "height": 295
        },
        "id": "rmagULOBYTek",
        "outputId": "bf84b866-6c0d-475f-b5af-e95e2a7eb749"
      },
      "source": [
        "import seaborn as sns\n",
        "\n",
        "\n",
        "ax = sns.countplot(x=\"Año\", hue = 'Tipo accidente', data=year_df)\n",
        "ax.set_title('Nº of accidents by type')\n",
        "plt.show()"
      ],
      "execution_count": 120,
      "outputs": [
        {
          "output_type": "display_data",
          "data": {
            "image/png": "[encoded data removed]",
            "text/plain": [
              "<Figure size 432x288 with 1 Axes>"
            ]
          },
          "metadata": {
            "tags": [],
            "needs_background": "light"
          }
        }
      ]
    },
    {
      "cell_type": "markdown",
      "metadata": {
        "id": "j0mVfw67YjzU"
      },
      "source": [
        "On the above chart we can observe clearly an ascending tendency until 2019. From 2019 to present the accidents start to descent greatly.\n",
        "\n",
        "We are going to check the tendency over the years with the nº people involved in each accident"
      ]
    },
    {
      "cell_type": "code",
      "metadata": {
        "colab": {
          "base_uri": "https://localhost:8080/",
          "height": 422
        },
        "id": "94TsTvTcGVkf",
        "outputId": "65794c01-dc1b-4d86-c41b-cdfc17eca62c"
      },
      "source": [
        "people_involved = accidentabilidad[['Año', 'Numero personas implicadas']]\n",
        "people_involved\n"
      ],
      "execution_count": 121,
      "outputs": [
        {
          "output_type": "execute_result",
          "data": {
            "text/html": [
              "<div>\n",
              "<style scoped>\n",
              "    .dataframe tbody tr th:only-of-type {\n",
              "        vertical-align: middle;\n",
              "    }\n",
              "\n",
              "    .dataframe tbody tr th {\n",
              "        vertical-align: top;\n",
              "    }\n",
              "\n",
              "    .dataframe thead th {\n",
              "        text-align: right;\n",
              "    }\n",
              "</style>\n",
              "<table border=\"1\" class=\"dataframe\">\n",
              "  <thead>\n",
              "    <tr style=\"text-align: right;\">\n",
              "      <th></th>\n",
              "      <th>Año</th>\n",
              "      <th>Numero personas implicadas</th>\n",
              "    </tr>\n",
              "  </thead>\n",
              "  <tbody>\n",
              "    <tr>\n",
              "      <th>0</th>\n",
              "      <td>2016.0</td>\n",
              "      <td>0</td>\n",
              "    </tr>\n",
              "    <tr>\n",
              "      <th>1</th>\n",
              "      <td>2016.0</td>\n",
              "      <td>0</td>\n",
              "    </tr>\n",
              "    <tr>\n",
              "      <th>2</th>\n",
              "      <td>2016.0</td>\n",
              "      <td>0</td>\n",
              "    </tr>\n",
              "    <tr>\n",
              "      <th>3</th>\n",
              "      <td>2016.0</td>\n",
              "      <td>0</td>\n",
              "    </tr>\n",
              "    <tr>\n",
              "      <th>4</th>\n",
              "      <td>2016.0</td>\n",
              "      <td>0</td>\n",
              "    </tr>\n",
              "    <tr>\n",
              "      <th>...</th>\n",
              "      <td>...</td>\n",
              "      <td>...</td>\n",
              "    </tr>\n",
              "    <tr>\n",
              "      <th>7792</th>\n",
              "      <td>2021.0</td>\n",
              "      <td>1</td>\n",
              "    </tr>\n",
              "    <tr>\n",
              "      <th>7793</th>\n",
              "      <td>2021.0</td>\n",
              "      <td>1</td>\n",
              "    </tr>\n",
              "    <tr>\n",
              "      <th>7794</th>\n",
              "      <td>2021.0</td>\n",
              "      <td>1</td>\n",
              "    </tr>\n",
              "    <tr>\n",
              "      <th>7795</th>\n",
              "      <td>2021.0</td>\n",
              "      <td>1</td>\n",
              "    </tr>\n",
              "    <tr>\n",
              "      <th>7796</th>\n",
              "      <td>2021.0</td>\n",
              "      <td>1</td>\n",
              "    </tr>\n",
              "  </tbody>\n",
              "</table>\n",
              "<p>7797 rows × 2 columns</p>\n",
              "</div>"
            ],
            "text/plain": [
              "         Año  Numero personas implicadas\n",
              "0     2016.0                           0\n",
              "1     2016.0                           0\n",
              "2     2016.0                           0\n",
              "3     2016.0                           0\n",
              "4     2016.0                           0\n",
              "...      ...                         ...\n",
              "7792  2021.0                           1\n",
              "7793  2021.0                           1\n",
              "7794  2021.0                           1\n",
              "7795  2021.0                           1\n",
              "7796  2021.0                           1\n",
              "\n",
              "[7797 rows x 2 columns]"
            ]
          },
          "metadata": {
            "tags": []
          },
          "execution_count": 121
        }
      ]
    },
    {
      "cell_type": "code",
      "metadata": {
        "colab": {
          "base_uri": "https://localhost:8080/"
        },
        "id": "hnred9fiGfZ-",
        "outputId": "910e5b6c-22a8-4a92-f751-ba2bac93e8cf"
      },
      "source": [
        "people_involved['Año'] = people_involved['Año'].fillna(0).apply(int)"
      ],
      "execution_count": 122,
      "outputs": [
        {
          "output_type": "stream",
          "text": [
            "/usr/local/lib/python3.7/dist-packages/ipykernel_launcher.py:1: SettingWithCopyWarning: \n",
            "A value is trying to be set on a copy of a slice from a DataFrame.\n",
            "Try using .loc[row_indexer,col_indexer] = value instead\n",
            "\n",
            "See the caveats in the documentation: https://pandas.pydata.org/pandas-docs/stable/user_guide/indexing.html#returning-a-view-versus-a-copy\n",
            "  \"\"\"Entry point for launching an IPython kernel.\n"
          ],
          "name": "stderr"
        }
      ]
    },
    {
      "cell_type": "markdown",
      "metadata": {
        "id": "EvG_WW2DZQZK"
      },
      "source": [
        "We are going to substitute the 0 values by 1 , because as each row represents an accident we assume a minimun of 1 person is implied"
      ]
    },
    {
      "cell_type": "code",
      "metadata": {
        "colab": {
          "base_uri": "https://localhost:8080/"
        },
        "id": "qDHw75PnZGjT",
        "outputId": "198c8f4b-89e2-4fe7-f538-dbe88259f362"
      },
      "source": [
        "people_involved['Numero personas implicadas'] = people_involved['Numero personas implicadas'].replace(0, 1)"
      ],
      "execution_count": 123,
      "outputs": [
        {
          "output_type": "stream",
          "text": [
            "/usr/local/lib/python3.7/dist-packages/ipykernel_launcher.py:1: SettingWithCopyWarning: \n",
            "A value is trying to be set on a copy of a slice from a DataFrame.\n",
            "Try using .loc[row_indexer,col_indexer] = value instead\n",
            "\n",
            "See the caveats in the documentation: https://pandas.pydata.org/pandas-docs/stable/user_guide/indexing.html#returning-a-view-versus-a-copy\n",
            "  \"\"\"Entry point for launching an IPython kernel.\n"
          ],
          "name": "stderr"
        }
      ]
    },
    {
      "cell_type": "code",
      "metadata": {
        "id": "5yDoceQlGvMW"
      },
      "source": [
        "people_involved = people_involved.groupby('Año').agg('sum')"
      ],
      "execution_count": 124,
      "outputs": []
    },
    {
      "cell_type": "code",
      "metadata": {
        "colab": {
          "base_uri": "https://localhost:8080/",
          "height": 299
        },
        "id": "Vo1g80DaHL4q",
        "outputId": "c2dfb302-0dee-4fb9-f270-6902e83931c0"
      },
      "source": [
        "people_involved = people_involved.reset_index()\n",
        "people_involved.sort_values('Numero personas implicadas', ascending=False)"
      ],
      "execution_count": 125,
      "outputs": [
        {
          "output_type": "execute_result",
          "data": {
            "text/html": [
              "<div>\n",
              "<style scoped>\n",
              "    .dataframe tbody tr th:only-of-type {\n",
              "        vertical-align: middle;\n",
              "    }\n",
              "\n",
              "    .dataframe tbody tr th {\n",
              "        vertical-align: top;\n",
              "    }\n",
              "\n",
              "    .dataframe thead th {\n",
              "        text-align: right;\n",
              "    }\n",
              "</style>\n",
              "<table border=\"1\" class=\"dataframe\">\n",
              "  <thead>\n",
              "    <tr style=\"text-align: right;\">\n",
              "      <th></th>\n",
              "      <th>Año</th>\n",
              "      <th>Numero personas implicadas</th>\n",
              "    </tr>\n",
              "  </thead>\n",
              "  <tbody>\n",
              "    <tr>\n",
              "      <th>4</th>\n",
              "      <td>2018</td>\n",
              "      <td>854564</td>\n",
              "    </tr>\n",
              "    <tr>\n",
              "      <th>6</th>\n",
              "      <td>2020</td>\n",
              "      <td>351591</td>\n",
              "    </tr>\n",
              "    <tr>\n",
              "      <th>7</th>\n",
              "      <td>2021</td>\n",
              "      <td>40921</td>\n",
              "    </tr>\n",
              "    <tr>\n",
              "      <th>5</th>\n",
              "      <td>2019</td>\n",
              "      <td>1740</td>\n",
              "    </tr>\n",
              "    <tr>\n",
              "      <th>2</th>\n",
              "      <td>2016</td>\n",
              "      <td>1338</td>\n",
              "    </tr>\n",
              "    <tr>\n",
              "      <th>3</th>\n",
              "      <td>2017</td>\n",
              "      <td>1238</td>\n",
              "    </tr>\n",
              "    <tr>\n",
              "      <th>0</th>\n",
              "      <td>0</td>\n",
              "      <td>332</td>\n",
              "    </tr>\n",
              "    <tr>\n",
              "      <th>1</th>\n",
              "      <td>2015</td>\n",
              "      <td>204</td>\n",
              "    </tr>\n",
              "  </tbody>\n",
              "</table>\n",
              "</div>"
            ],
            "text/plain": [
              "    Año  Numero personas implicadas\n",
              "4  2018                      854564\n",
              "6  2020                      351591\n",
              "7  2021                       40921\n",
              "5  2019                        1740\n",
              "2  2016                        1338\n",
              "3  2017                        1238\n",
              "0     0                         332\n",
              "1  2015                         204"
            ]
          },
          "metadata": {
            "tags": []
          },
          "execution_count": 125
        }
      ]
    },
    {
      "cell_type": "code",
      "metadata": {
        "id": "OygtvD8FHXO6"
      },
      "source": [
        "x = people_involved['Año'].astype(str)\n",
        "y = people_involved['Numero personas implicadas']"
      ],
      "execution_count": 126,
      "outputs": []
    },
    {
      "cell_type": "markdown",
      "metadata": {
        "id": "smdo84hVZ6fT"
      },
      "source": [
        "Altough 2019 is one of the years with more nº of accidents in terms of people implied in the accidents 2020 and 2021 seem to be higher. It could be that a massive accident occurred those years"
      ]
    },
    {
      "cell_type": "code",
      "metadata": {
        "colab": {
          "base_uri": "https://localhost:8080/",
          "height": 295
        },
        "id": "-DX5uDp7GrSR",
        "outputId": "0630fea5-47b3-4c71-b9af-178ea7e81899"
      },
      "source": [
        "plt.plot(x,y)\n",
        "plt.title('Nº of people involved in accidents over the years')\n",
        "plt.xlabel('Year')\n",
        "plt.ylabel('People involved')\n",
        "\n",
        "plt.show()"
      ],
      "execution_count": 127,
      "outputs": [
        {
          "output_type": "display_data",
          "data": {
            "image/png": "[encoded data removed]",
            "text/plain": [
              "<Figure size 432x288 with 1 Axes>"
            ]
          },
          "metadata": {
            "tags": [],
            "needs_background": "light"
          }
        }
      ]
    },
    {
      "cell_type": "code",
      "metadata": {
        "id": "jc7th-qKITQh"
      },
      "source": [
        "n_accidents = year_df.groupby('Año').agg('count')\n",
        "n_accidents.drop(columns={'Tipo accidente'},inplace=True)"
      ],
      "execution_count": 128,
      "outputs": []
    },
    {
      "cell_type": "code",
      "metadata": {
        "id": "2fqMImNgIj0X"
      },
      "source": [
        "n_accidents.rename(columns={'Codigo accidentado':'Count'}, inplace=True)"
      ],
      "execution_count": 129,
      "outputs": []
    },
    {
      "cell_type": "code",
      "metadata": {
        "colab": {
          "base_uri": "https://localhost:8080/",
          "height": 205
        },
        "id": "94w_QWvYIj9d",
        "outputId": "7e3037ba-712e-4241-8203-fe1b079a813f"
      },
      "source": [
        "n_accidents = n_accidents.reset_index()\n",
        "n_accidents.head()"
      ],
      "execution_count": 130,
      "outputs": [
        {
          "output_type": "execute_result",
          "data": {
            "text/html": [
              "<div>\n",
              "<style scoped>\n",
              "    .dataframe tbody tr th:only-of-type {\n",
              "        vertical-align: middle;\n",
              "    }\n",
              "\n",
              "    .dataframe tbody tr th {\n",
              "        vertical-align: top;\n",
              "    }\n",
              "\n",
              "    .dataframe thead th {\n",
              "        text-align: right;\n",
              "    }\n",
              "</style>\n",
              "<table border=\"1\" class=\"dataframe\">\n",
              "  <thead>\n",
              "    <tr style=\"text-align: right;\">\n",
              "      <th></th>\n",
              "      <th>Año</th>\n",
              "      <th>Count</th>\n",
              "    </tr>\n",
              "  </thead>\n",
              "  <tbody>\n",
              "    <tr>\n",
              "      <th>0</th>\n",
              "      <td>0</td>\n",
              "      <td>282</td>\n",
              "    </tr>\n",
              "    <tr>\n",
              "      <th>1</th>\n",
              "      <td>2015</td>\n",
              "      <td>202</td>\n",
              "    </tr>\n",
              "    <tr>\n",
              "      <th>2</th>\n",
              "      <td>2016</td>\n",
              "      <td>1335</td>\n",
              "    </tr>\n",
              "    <tr>\n",
              "      <th>3</th>\n",
              "      <td>2017</td>\n",
              "      <td>1203</td>\n",
              "    </tr>\n",
              "    <tr>\n",
              "      <th>4</th>\n",
              "      <td>2018</td>\n",
              "      <td>1532</td>\n",
              "    </tr>\n",
              "  </tbody>\n",
              "</table>\n",
              "</div>"
            ],
            "text/plain": [
              "    Año  Count\n",
              "0     0    282\n",
              "1  2015    202\n",
              "2  2016   1335\n",
              "3  2017   1203\n",
              "4  2018   1532"
            ]
          },
          "metadata": {
            "tags": []
          },
          "execution_count": 130
        }
      ]
    },
    {
      "cell_type": "code",
      "metadata": {
        "id": "6nG-0-3qI4rW"
      },
      "source": [
        "x2= n_accidents['Año'].astype(str)\n",
        "y2=n_accidents['Count'].astype(int)"
      ],
      "execution_count": 131,
      "outputs": []
    },
    {
      "cell_type": "markdown",
      "metadata": {
        "id": "6JxKqhnKKjwg"
      },
      "source": [
        "As we can see on the charts before the number of accidents has been more stable than the number of accidents. It seems that although the nº of accidents in 2019 has suffered a huge decrease on the nº of accidents the number of people involved in a accident has been stable comparing to 2018 where we can see a peek on the nº"
      ]
    },
    {
      "cell_type": "code",
      "metadata": {
        "colab": {
          "base_uri": "https://localhost:8080/",
          "height": 312
        },
        "id": "TcO9OPMRI3ES",
        "outputId": "2a948ce8-49c4-4d87-c543-557765054c61"
      },
      "source": [
        "\n",
        "\n",
        "fig, axs = plt.subplots(2)\n",
        "fig.suptitle('Nº of people involved in accidents over the years')\n",
        "axs[0].plot(x, y)\n",
        "axs[1].plot(x2, y2)"
      ],
      "execution_count": 132,
      "outputs": [
        {
          "output_type": "execute_result",
          "data": {
            "text/plain": [
              "[<matplotlib.lines.Line2D at 0x7fed2e29fb90>]"
            ]
          },
          "metadata": {
            "tags": []
          },
          "execution_count": 132
        },
        {
          "output_type": "display_data",
          "data": {
            "image/png": "[encoded data removed]",
            "text/plain": [
              "<Figure size 432x288 with 2 Axes>"
            ]
          },
          "metadata": {
            "tags": [],
            "needs_background": "light"
          }
        }
      ]
    },
    {
      "cell_type": "markdown",
      "metadata": {
        "id": "S8HEhJ2LGMOP"
      },
      "source": [
        "Lets check which positions have been involved in an accident\n"
      ]
    },
    {
      "cell_type": "code",
      "metadata": {
        "colab": {
          "base_uri": "https://localhost:8080/"
        },
        "id": "trraCajHERZX",
        "outputId": "7766f9a4-4f4a-401f-a1f9-3c9a5f1063a5"
      },
      "source": [
        "\n",
        "positions = accidentabilidad['Puesto habitual de trabajo'].unique()\n",
        "\n",
        "positions"
      ],
      "execution_count": 133,
      "outputs": [
        {
          "output_type": "execute_result",
          "data": {
            "text/plain": [
              "array(['Gruista LONGI008', 'Gruistas', 'Gruista LONGI005', ...,\n",
              "       'Raw Material and Fitter Operator', 'Mechanical Maintenance',\n",
              "       'press operator '], dtype=object)"
            ]
          },
          "metadata": {
            "tags": []
          },
          "execution_count": 133
        }
      ]
    },
    {
      "cell_type": "code",
      "metadata": {
        "colab": {
          "base_uri": "https://localhost:8080/"
        },
        "id": "kGbXKvEfGWrU",
        "outputId": "f1ae754f-823d-46f5-f612-5ce9ad464585"
      },
      "source": [
        "len(positions) ##total number of different positions involved in at least one accident\n"
      ],
      "execution_count": 134,
      "outputs": [
        {
          "output_type": "execute_result",
          "data": {
            "text/plain": [
              "1449"
            ]
          },
          "metadata": {
            "tags": []
          },
          "execution_count": 134
        }
      ]
    },
    {
      "cell_type": "code",
      "metadata": {
        "id": "oDkvFEvpERdO"
      },
      "source": [
        "position_df = accidentabilidad[['Codigo accidentado', 'Puesto habitual de trabajo']]\n",
        "position_df = position_df.groupby(['Puesto habitual de trabajo' ]).agg('count')"
      ],
      "execution_count": 135,
      "outputs": []
    },
    {
      "cell_type": "code",
      "metadata": {
        "id": "8Gk5sSe_LbDJ"
      },
      "source": [
        "position_df = position_df.reset_index()"
      ],
      "execution_count": 136,
      "outputs": []
    },
    {
      "cell_type": "code",
      "metadata": {
        "colab": {
          "base_uri": "https://localhost:8080/",
          "height": 205
        },
        "id": "wRD9qvy2ERft",
        "outputId": "7ea0e7d1-c759-49f5-a028-295f4922aea8"
      },
      "source": [
        "position_df.rename(columns={'Codigo accidentado':'Count'}, inplace=True)\n",
        "position_df.head() ##we seem to have a lot of work position with wrong characterers so it is not 100% reliable"
      ],
      "execution_count": 137,
      "outputs": [
        {
          "output_type": "execute_result",
          "data": {
            "text/html": [
              "<div>\n",
              "<style scoped>\n",
              "    .dataframe tbody tr th:only-of-type {\n",
              "        vertical-align: middle;\n",
              "    }\n",
              "\n",
              "    .dataframe tbody tr th {\n",
              "        vertical-align: top;\n",
              "    }\n",
              "\n",
              "    .dataframe thead th {\n",
              "        text-align: right;\n",
              "    }\n",
              "</style>\n",
              "<table border=\"1\" class=\"dataframe\">\n",
              "  <thead>\n",
              "    <tr style=\"text-align: right;\">\n",
              "      <th></th>\n",
              "      <th>Puesto habitual de trabajo</th>\n",
              "      <th>Count</th>\n",
              "    </tr>\n",
              "  </thead>\n",
              "  <tbody>\n",
              "    <tr>\n",
              "      <th>0</th>\n",
              "      <td>-</td>\n",
              "      <td>1</td>\n",
              "    </tr>\n",
              "    <tr>\n",
              "      <th>1</th>\n",
              "      <td>.</td>\n",
              "      <td>3</td>\n",
              "    </tr>\n",
              "    <tr>\n",
              "      <th>2</th>\n",
              "      <td>/</td>\n",
              "      <td>1</td>\n",
              "    </tr>\n",
              "    <tr>\n",
              "      <th>3</th>\n",
              "      <td>5000-3</td>\n",
              "      <td>1</td>\n",
              "    </tr>\n",
              "    <tr>\n",
              "      <th>4</th>\n",
              "      <td>500t Press</td>\n",
              "      <td>7</td>\n",
              "    </tr>\n",
              "  </tbody>\n",
              "</table>\n",
              "</div>"
            ],
            "text/plain": [
              "  Puesto habitual de trabajo  Count\n",
              "0                          -      1\n",
              "1                          .      3\n",
              "2                         /       1\n",
              "3                     5000-3      1\n",
              "4                 500t Press      7"
            ]
          },
          "metadata": {
            "tags": []
          },
          "execution_count": 137
        }
      ]
    },
    {
      "cell_type": "code",
      "metadata": {
        "colab": {
          "base_uri": "https://localhost:8080/"
        },
        "id": "VK5yjjmrMV6W",
        "outputId": "e6f9b607-3e41-4bcb-b03d-b5d66a647e96"
      },
      "source": [
        "len(position_df)"
      ],
      "execution_count": 138,
      "outputs": [
        {
          "output_type": "execute_result",
          "data": {
            "text/plain": [
              "1448"
            ]
          },
          "metadata": {
            "tags": []
          },
          "execution_count": 138
        }
      ]
    },
    {
      "cell_type": "code",
      "metadata": {
        "id": "4zA9mDAJMYjF"
      },
      "source": [
        "sorted_position = position_df.sort_values('Count', ascending=False).head(10)"
      ],
      "execution_count": 139,
      "outputs": []
    },
    {
      "cell_type": "code",
      "metadata": {
        "colab": {
          "base_uri": "https://localhost:8080/",
          "height": 205
        },
        "id": "1lteh_FoM11R",
        "outputId": "f2ccd6e6-76a4-4470-8732-4eb0c958814b"
      },
      "source": [
        "sorted_position.head() ##carretillero is the position with more accidents"
      ],
      "execution_count": 140,
      "outputs": [
        {
          "output_type": "execute_result",
          "data": {
            "text/html": [
              "<div>\n",
              "<style scoped>\n",
              "    .dataframe tbody tr th:only-of-type {\n",
              "        vertical-align: middle;\n",
              "    }\n",
              "\n",
              "    .dataframe tbody tr th {\n",
              "        vertical-align: top;\n",
              "    }\n",
              "\n",
              "    .dataframe thead th {\n",
              "        text-align: right;\n",
              "    }\n",
              "</style>\n",
              "<table border=\"1\" class=\"dataframe\">\n",
              "  <thead>\n",
              "    <tr style=\"text-align: right;\">\n",
              "      <th></th>\n",
              "      <th>Puesto habitual de trabajo</th>\n",
              "      <th>Count</th>\n",
              "    </tr>\n",
              "  </thead>\n",
              "  <tbody>\n",
              "    <tr>\n",
              "      <th>190</th>\n",
              "      <td>Carretillero</td>\n",
              "      <td>170</td>\n",
              "    </tr>\n",
              "    <tr>\n",
              "      <th>406</th>\n",
              "      <td>Gruista</td>\n",
              "      <td>121</td>\n",
              "    </tr>\n",
              "    <tr>\n",
              "      <th>1247</th>\n",
              "      <td>Warehouse</td>\n",
              "      <td>113</td>\n",
              "    </tr>\n",
              "    <tr>\n",
              "      <th>1288</th>\n",
              "      <td>carretillero</td>\n",
              "      <td>67</td>\n",
              "    </tr>\n",
              "    <tr>\n",
              "      <th>995</th>\n",
              "      <td>Puente Grua - Flejador</td>\n",
              "      <td>51</td>\n",
              "    </tr>\n",
              "  </tbody>\n",
              "</table>\n",
              "</div>"
            ],
            "text/plain": [
              "     Puesto habitual de trabajo  Count\n",
              "190                Carretillero    170\n",
              "406                     Gruista    121\n",
              "1247                  Warehouse    113\n",
              "1288               carretillero     67\n",
              "995      Puente Grua - Flejador     51"
            ]
          },
          "metadata": {
            "tags": []
          },
          "execution_count": 140
        }
      ]
    },
    {
      "cell_type": "code",
      "metadata": {
        "colab": {
          "base_uri": "https://localhost:8080/",
          "height": 265
        },
        "id": "Lh-vviC9Mwrn",
        "outputId": "cf2000ff-9be5-4b7f-8a2f-111aeeca81ff"
      },
      "source": [
        "plt.plot(sorted_position['Puesto habitual de trabajo'], sorted_position['Count'])\n",
        "plt.show()"
      ],
      "execution_count": 141,
      "outputs": [
        {
          "output_type": "display_data",
          "data": {
            "image/png": "[encoded data removed]",
            "text/plain": [
              "<Figure size 432x288 with 1 Axes>"
            ]
          },
          "metadata": {
            "tags": [],
            "needs_background": "light"
          }
        }
      ]
    },
    {
      "cell_type": "markdown",
      "metadata": {
        "id": "wnvgwdGv-jcI"
      },
      "source": [
        "On the chart before we can see there are a big diference in number of accidents between the first 5 position, let plot those:"
      ]
    },
    {
      "cell_type": "code",
      "metadata": {
        "colab": {
          "base_uri": "https://localhost:8080/",
          "height": 265
        },
        "id": "UWTbXNtEOWKO",
        "outputId": "0a6f618a-5e9e-4e61-b2bd-4ce59fbc9f7a"
      },
      "source": [
        "import numpy as np\n",
        "import matplotlib.mlab as mlab\n",
        "import matplotlib.pyplot as plt\n",
        "\n",
        "x = sorted_position['Puesto habitual de trabajo'].head(5)\n",
        "y = sorted_position['Count'].head(5)\n",
        "\n",
        "plt.bar(x,y)\n",
        "\n",
        "plt.show()"
      ],
      "execution_count": 142,
      "outputs": [
        {
          "output_type": "display_data",
          "data": {
            "image/png": "[encoded data removed]",
            "text/plain": [
              "<Figure size 432x288 with 1 Axes>"
            ]
          },
          "metadata": {
            "tags": [],
            "needs_background": "light"
          }
        }
      ]
    },
    {
      "cell_type": "markdown",
      "metadata": {
        "id": "YIgMkRVgQEoJ"
      },
      "source": [
        "Now we are going to analyze the type of people which has had the accidents. For that purpose we will create a new df with the relevant columns to this analysis.\n",
        "\n",
        "We dont have data for all accidents so we will analyze the ones we have"
      ]
    },
    {
      "cell_type": "code",
      "metadata": {
        "colab": {
          "base_uri": "https://localhost:8080/",
          "height": 205
        },
        "id": "-L80LdKPQEei",
        "outputId": "4b9e1e6c-7d54-4ee5-c90b-2157f05f8975"
      },
      "source": [
        "empleado = accidentabilidad[['Edad', 'Género', 'Codigo accidentado']]\n",
        "\n",
        "empleado.head()"
      ],
      "execution_count": 143,
      "outputs": [
        {
          "output_type": "execute_result",
          "data": {
            "text/html": [
              "<div>\n",
              "<style scoped>\n",
              "    .dataframe tbody tr th:only-of-type {\n",
              "        vertical-align: middle;\n",
              "    }\n",
              "\n",
              "    .dataframe tbody tr th {\n",
              "        vertical-align: top;\n",
              "    }\n",
              "\n",
              "    .dataframe thead th {\n",
              "        text-align: right;\n",
              "    }\n",
              "</style>\n",
              "<table border=\"1\" class=\"dataframe\">\n",
              "  <thead>\n",
              "    <tr style=\"text-align: right;\">\n",
              "      <th></th>\n",
              "      <th>Edad</th>\n",
              "      <th>Género</th>\n",
              "      <th>Codigo accidentado</th>\n",
              "    </tr>\n",
              "  </thead>\n",
              "  <tbody>\n",
              "    <tr>\n",
              "      <th>0</th>\n",
              "      <td>NaN</td>\n",
              "      <td>NaN</td>\n",
              "      <td>HS-BRGS_0001</td>\n",
              "    </tr>\n",
              "    <tr>\n",
              "      <th>1</th>\n",
              "      <td>NaN</td>\n",
              "      <td>NaN</td>\n",
              "      <td>HS-BRGS_0010</td>\n",
              "    </tr>\n",
              "    <tr>\n",
              "      <th>2</th>\n",
              "      <td>NaN</td>\n",
              "      <td>NaN</td>\n",
              "      <td>HS-BRGS_0011</td>\n",
              "    </tr>\n",
              "    <tr>\n",
              "      <th>3</th>\n",
              "      <td>NaN</td>\n",
              "      <td>NaN</td>\n",
              "      <td>HS-BRGS_0012</td>\n",
              "    </tr>\n",
              "    <tr>\n",
              "      <th>4</th>\n",
              "      <td>NaN</td>\n",
              "      <td>NaN</td>\n",
              "      <td>HS-BRGS_0013</td>\n",
              "    </tr>\n",
              "  </tbody>\n",
              "</table>\n",
              "</div>"
            ],
            "text/plain": [
              "  Edad Género Codigo accidentado\n",
              "0  NaN    NaN       HS-BRGS_0001\n",
              "1  NaN    NaN       HS-BRGS_0010\n",
              "2  NaN    NaN       HS-BRGS_0011\n",
              "3  NaN    NaN       HS-BRGS_0012\n",
              "4  NaN    NaN       HS-BRGS_0013"
            ]
          },
          "metadata": {
            "tags": []
          },
          "execution_count": 143
        }
      ]
    },
    {
      "cell_type": "code",
      "metadata": {
        "colab": {
          "base_uri": "https://localhost:8080/",
          "height": 205
        },
        "id": "MuZpeBinQvjj",
        "outputId": "434116a5-b6b2-46a9-c88f-8515c972810d"
      },
      "source": [
        "empleado = empleado[(empleado['Edad'].isnull() == False) & (empleado['Género'].isnull() == False)]\n",
        "\n",
        "empleado.head()"
      ],
      "execution_count": 144,
      "outputs": [
        {
          "output_type": "execute_result",
          "data": {
            "text/html": [
              "<div>\n",
              "<style scoped>\n",
              "    .dataframe tbody tr th:only-of-type {\n",
              "        vertical-align: middle;\n",
              "    }\n",
              "\n",
              "    .dataframe tbody tr th {\n",
              "        vertical-align: top;\n",
              "    }\n",
              "\n",
              "    .dataframe thead th {\n",
              "        text-align: right;\n",
              "    }\n",
              "</style>\n",
              "<table border=\"1\" class=\"dataframe\">\n",
              "  <thead>\n",
              "    <tr style=\"text-align: right;\">\n",
              "      <th></th>\n",
              "      <th>Edad</th>\n",
              "      <th>Género</th>\n",
              "      <th>Codigo accidentado</th>\n",
              "    </tr>\n",
              "  </thead>\n",
              "  <tbody>\n",
              "    <tr>\n",
              "      <th>1411</th>\n",
              "      <td>48</td>\n",
              "      <td>Hombre</td>\n",
              "      <td>HS-TRRG_1495</td>\n",
              "    </tr>\n",
              "    <tr>\n",
              "      <th>1423</th>\n",
              "      <td>32</td>\n",
              "      <td>Hombre</td>\n",
              "      <td>HS-BRGS_1507</td>\n",
              "    </tr>\n",
              "    <tr>\n",
              "      <th>1485</th>\n",
              "      <td>44</td>\n",
              "      <td>Hombre</td>\n",
              "      <td>HS-NVRR_1589</td>\n",
              "    </tr>\n",
              "    <tr>\n",
              "      <th>1513</th>\n",
              "      <td>33</td>\n",
              "      <td>Hombre</td>\n",
              "      <td>HS-TRRG_1617</td>\n",
              "    </tr>\n",
              "    <tr>\n",
              "      <th>1578</th>\n",
              "      <td>45</td>\n",
              "      <td>Hombre</td>\n",
              "      <td>HS-NVRR_1942</td>\n",
              "    </tr>\n",
              "  </tbody>\n",
              "</table>\n",
              "</div>"
            ],
            "text/plain": [
              "     Edad  Género Codigo accidentado\n",
              "1411   48  Hombre       HS-TRRG_1495\n",
              "1423   32  Hombre       HS-BRGS_1507\n",
              "1485   44  Hombre       HS-NVRR_1589\n",
              "1513   33  Hombre       HS-TRRG_1617\n",
              "1578   45  Hombre       HS-NVRR_1942"
            ]
          },
          "metadata": {
            "tags": []
          },
          "execution_count": 144
        }
      ]
    },
    {
      "cell_type": "code",
      "metadata": {
        "colab": {
          "base_uri": "https://localhost:8080/",
          "height": 454
        },
        "id": "Np91aWneRG-a",
        "outputId": "02982dc8-9215-402d-f415-fd62342aa0f7"
      },
      "source": [
        "empleado.groupby(['Edad', 'Género']).agg('count')"
      ],
      "execution_count": 145,
      "outputs": [
        {
          "output_type": "execute_result",
          "data": {
            "text/html": [
              "<div>\n",
              "<style scoped>\n",
              "    .dataframe tbody tr th:only-of-type {\n",
              "        vertical-align: middle;\n",
              "    }\n",
              "\n",
              "    .dataframe tbody tr th {\n",
              "        vertical-align: top;\n",
              "    }\n",
              "\n",
              "    .dataframe thead th {\n",
              "        text-align: right;\n",
              "    }\n",
              "</style>\n",
              "<table border=\"1\" class=\"dataframe\">\n",
              "  <thead>\n",
              "    <tr style=\"text-align: right;\">\n",
              "      <th></th>\n",
              "      <th></th>\n",
              "      <th>Codigo accidentado</th>\n",
              "    </tr>\n",
              "    <tr>\n",
              "      <th>Edad</th>\n",
              "      <th>Género</th>\n",
              "      <th></th>\n",
              "    </tr>\n",
              "  </thead>\n",
              "  <tbody>\n",
              "    <tr>\n",
              "      <th>*</th>\n",
              "      <th>Hombre</th>\n",
              "      <td>10</td>\n",
              "    </tr>\n",
              "    <tr>\n",
              "      <th rowspan=\"2\" valign=\"top\">-</th>\n",
              "      <th>Hombre</th>\n",
              "      <td>14</td>\n",
              "    </tr>\n",
              "    <tr>\n",
              "      <th>Mujer</th>\n",
              "      <td>2</td>\n",
              "    </tr>\n",
              "    <tr>\n",
              "      <th>---</th>\n",
              "      <th>Mujer</th>\n",
              "      <td>1</td>\n",
              "    </tr>\n",
              "    <tr>\n",
              "      <th>.</th>\n",
              "      <th>Hombre</th>\n",
              "      <td>3</td>\n",
              "    </tr>\n",
              "    <tr>\n",
              "      <th>...</th>\n",
              "      <th>...</th>\n",
              "      <td>...</td>\n",
              "    </tr>\n",
              "    <tr>\n",
              "      <th>na</th>\n",
              "      <th>Hombre</th>\n",
              "      <td>1</td>\n",
              "    </tr>\n",
              "    <tr>\n",
              "      <th>none</th>\n",
              "      <th>Hombre</th>\n",
              "      <td>6</td>\n",
              "    </tr>\n",
              "    <tr>\n",
              "      <th>se desconoce</th>\n",
              "      <th>Hombre</th>\n",
              "      <td>1</td>\n",
              "    </tr>\n",
              "    <tr>\n",
              "      <th>unknown</th>\n",
              "      <th>Hombre</th>\n",
              "      <td>2</td>\n",
              "    </tr>\n",
              "    <tr>\n",
              "      <th>x</th>\n",
              "      <th>Hombre</th>\n",
              "      <td>2</td>\n",
              "    </tr>\n",
              "  </tbody>\n",
              "</table>\n",
              "<p>136 rows × 1 columns</p>\n",
              "</div>"
            ],
            "text/plain": [
              "                     Codigo accidentado\n",
              "Edad         Género                    \n",
              "*            Hombre                  10\n",
              "-            Hombre                  14\n",
              "             Mujer                    2\n",
              "---          Mujer                    1\n",
              ".            Hombre                   3\n",
              "...                                 ...\n",
              "na           Hombre                   1\n",
              "none         Hombre                   6\n",
              "se desconoce Hombre                   1\n",
              "unknown      Hombre                   2\n",
              "x            Hombre                   2\n",
              "\n",
              "[136 rows x 1 columns]"
            ]
          },
          "metadata": {
            "tags": []
          },
          "execution_count": 145
        }
      ]
    },
    {
      "cell_type": "code",
      "metadata": {
        "id": "iaT3ay6GRcVd"
      },
      "source": [
        "## we get only numeric values or unknow for edad\n",
        "\n",
        "empleado['Edad'] = empleado['Edad'].apply(lambda x: x if x.isnumeric() else 'unknown')"
      ],
      "execution_count": 146,
      "outputs": []
    },
    {
      "cell_type": "code",
      "metadata": {
        "id": "0yGw1E2GRxkA"
      },
      "source": [
        "empleado_grouped = empleado.groupby(['Edad', 'Género']).agg('count')"
      ],
      "execution_count": 147,
      "outputs": []
    },
    {
      "cell_type": "code",
      "metadata": {
        "colab": {
          "base_uri": "https://localhost:8080/",
          "height": 236
        },
        "id": "KN2c9_prR2c6",
        "outputId": "50751c9b-02bb-45f7-b4d0-ee092cc50bcc"
      },
      "source": [
        "empleado_grouped.head()"
      ],
      "execution_count": 148,
      "outputs": [
        {
          "output_type": "execute_result",
          "data": {
            "text/html": [
              "<div>\n",
              "<style scoped>\n",
              "    .dataframe tbody tr th:only-of-type {\n",
              "        vertical-align: middle;\n",
              "    }\n",
              "\n",
              "    .dataframe tbody tr th {\n",
              "        vertical-align: top;\n",
              "    }\n",
              "\n",
              "    .dataframe thead th {\n",
              "        text-align: right;\n",
              "    }\n",
              "</style>\n",
              "<table border=\"1\" class=\"dataframe\">\n",
              "  <thead>\n",
              "    <tr style=\"text-align: right;\">\n",
              "      <th></th>\n",
              "      <th></th>\n",
              "      <th>Codigo accidentado</th>\n",
              "    </tr>\n",
              "    <tr>\n",
              "      <th>Edad</th>\n",
              "      <th>Género</th>\n",
              "      <th></th>\n",
              "    </tr>\n",
              "  </thead>\n",
              "  <tbody>\n",
              "    <tr>\n",
              "      <th>10</th>\n",
              "      <th>Hombre</th>\n",
              "      <td>1</td>\n",
              "    </tr>\n",
              "    <tr>\n",
              "      <th>100</th>\n",
              "      <th>Hombre</th>\n",
              "      <td>13</td>\n",
              "    </tr>\n",
              "    <tr>\n",
              "      <th>17</th>\n",
              "      <th>Hombre</th>\n",
              "      <td>3</td>\n",
              "    </tr>\n",
              "    <tr>\n",
              "      <th>18</th>\n",
              "      <th>Hombre</th>\n",
              "      <td>4</td>\n",
              "    </tr>\n",
              "    <tr>\n",
              "      <th>19</th>\n",
              "      <th>Hombre</th>\n",
              "      <td>13</td>\n",
              "    </tr>\n",
              "  </tbody>\n",
              "</table>\n",
              "</div>"
            ],
            "text/plain": [
              "             Codigo accidentado\n",
              "Edad Género                    \n",
              "10   Hombre                   1\n",
              "100  Hombre                  13\n",
              "17   Hombre                   3\n",
              "18   Hombre                   4\n",
              "19   Hombre                  13"
            ]
          },
          "metadata": {
            "tags": []
          },
          "execution_count": 148
        }
      ]
    },
    {
      "cell_type": "code",
      "metadata": {
        "id": "KqNpAy-8R4TV"
      },
      "source": [
        "empleado_grouped = empleado_grouped.sort_values('Codigo accidentado', ascending=False).reset_index()\n"
      ],
      "execution_count": 149,
      "outputs": []
    },
    {
      "cell_type": "code",
      "metadata": {
        "colab": {
          "base_uri": "https://localhost:8080/",
          "height": 205
        },
        "id": "yowWW6OUSdzm",
        "outputId": "48435d22-0b93-479e-9553-be10b300b47f"
      },
      "source": [
        "empleado_grouped.head()"
      ],
      "execution_count": 150,
      "outputs": [
        {
          "output_type": "execute_result",
          "data": {
            "text/html": [
              "<div>\n",
              "<style scoped>\n",
              "    .dataframe tbody tr th:only-of-type {\n",
              "        vertical-align: middle;\n",
              "    }\n",
              "\n",
              "    .dataframe tbody tr th {\n",
              "        vertical-align: top;\n",
              "    }\n",
              "\n",
              "    .dataframe thead th {\n",
              "        text-align: right;\n",
              "    }\n",
              "</style>\n",
              "<table border=\"1\" class=\"dataframe\">\n",
              "  <thead>\n",
              "    <tr style=\"text-align: right;\">\n",
              "      <th></th>\n",
              "      <th>Edad</th>\n",
              "      <th>Género</th>\n",
              "      <th>Codigo accidentado</th>\n",
              "    </tr>\n",
              "  </thead>\n",
              "  <tbody>\n",
              "    <tr>\n",
              "      <th>0</th>\n",
              "      <td>40</td>\n",
              "      <td>Hombre</td>\n",
              "      <td>129</td>\n",
              "    </tr>\n",
              "    <tr>\n",
              "      <th>1</th>\n",
              "      <td>35</td>\n",
              "      <td>Hombre</td>\n",
              "      <td>120</td>\n",
              "    </tr>\n",
              "    <tr>\n",
              "      <th>2</th>\n",
              "      <td>45</td>\n",
              "      <td>Hombre</td>\n",
              "      <td>99</td>\n",
              "    </tr>\n",
              "    <tr>\n",
              "      <th>3</th>\n",
              "      <td>unknown</td>\n",
              "      <td>Hombre</td>\n",
              "      <td>96</td>\n",
              "    </tr>\n",
              "    <tr>\n",
              "      <th>4</th>\n",
              "      <td>30</td>\n",
              "      <td>Hombre</td>\n",
              "      <td>86</td>\n",
              "    </tr>\n",
              "  </tbody>\n",
              "</table>\n",
              "</div>"
            ],
            "text/plain": [
              "      Edad  Género  Codigo accidentado\n",
              "0       40  Hombre                 129\n",
              "1       35  Hombre                 120\n",
              "2       45  Hombre                  99\n",
              "3  unknown  Hombre                  96\n",
              "4       30  Hombre                  86"
            ]
          },
          "metadata": {
            "tags": []
          },
          "execution_count": 150
        }
      ]
    },
    {
      "cell_type": "code",
      "metadata": {
        "id": "5mmW82nvTL6h"
      },
      "source": [
        "empleado = empleado.reset_index()"
      ],
      "execution_count": 151,
      "outputs": []
    },
    {
      "cell_type": "code",
      "metadata": {
        "colab": {
          "base_uri": "https://localhost:8080/",
          "height": 279
        },
        "id": "QY-zBQ-dSSCc",
        "outputId": "d0b6ab89-6b6a-4c34-a7b8-44886e3a0848"
      },
      "source": [
        "plt.figure(figsize=(20,4))\n",
        "ax.set_title('Nº workers involved in an accident by gender and age')\n",
        "ax = sns.countplot(x=\"Edad\", hue=\"Género\", data=empleado)\n"
      ],
      "execution_count": 152,
      "outputs": [
        {
          "output_type": "display_data",
          "data": {
            "image/png": "[encoded data removed]",
            "text/plain": [
              "<Figure size 1440x288 with 1 Axes>"
            ]
          },
          "metadata": {
            "tags": [],
            "needs_background": "light"
          }
        }
      ]
    },
    {
      "cell_type": "markdown",
      "metadata": {
        "id": "WbapnyHrUSNp"
      },
      "source": [
        "At first sight we can see men have a lot more accidents than women. 40 years old men are the more target group. To see % rates we will need to compare with the Staff table.\n",
        "\n",
        "\n",
        "Now lets check the number of accidents by turn"
      ]
    },
    {
      "cell_type": "code",
      "metadata": {
        "id": "FmugCYCNU7p0"
      },
      "source": [
        "turno = accidentabilidad[['Codigo accidentado', 'Turno']]\n",
        "turno = turno[turno['Turno'].isnull()==False]"
      ],
      "execution_count": 153,
      "outputs": []
    },
    {
      "cell_type": "code",
      "metadata": {
        "colab": {
          "base_uri": "https://localhost:8080/",
          "height": 295
        },
        "id": "5J9Vy7N5U7th",
        "outputId": "50c49424-8a3e-430f-db31-a86996d3e79b"
      },
      "source": [
        "\n",
        "ax = sns.countplot(x=\"Turno\",  data=turno)\n",
        "ax.set_title('Nº accidents by work turn')\n",
        "plt.show()"
      ],
      "execution_count": 154,
      "outputs": [
        {
          "output_type": "display_data",
          "data": {
            "image/png": "[encoded data removed]",
            "text/plain": [
              "<Figure size 432x288 with 1 Axes>"
            ]
          },
          "metadata": {
            "tags": [],
            "needs_background": "light"
          }
        }
      ]
    },
    {
      "cell_type": "markdown",
      "metadata": {
        "id": "ENncIGQNVwEn"
      },
      "source": [
        "This might be unexpected but the turn with more accidentes is the morning one, lets analyze the severity of the accidents in those turns"
      ]
    },
    {
      "cell_type": "code",
      "metadata": {
        "id": "Bv77sZHnU9Tv"
      },
      "source": [
        "turno = accidentabilidad[['Codigo accidentado', 'Turno', 'Gravedad potencial']]\n",
        "turno = turno.reset_index()\n",
        "\n",
        "turno = turno[turno['Gravedad potencial'].isnull()==False]"
      ],
      "execution_count": 155,
      "outputs": []
    },
    {
      "cell_type": "code",
      "metadata": {
        "colab": {
          "base_uri": "https://localhost:8080/",
          "height": 295
        },
        "id": "8WZuuHDwU9j8",
        "outputId": "0dbc10cd-d917-48a6-9e43-6415c0e81318"
      },
      "source": [
        "ax = sns.countplot(x=\"Turno\", hue = 'Gravedad potencial', data=turno)\n",
        "ax.set_title('Nº accidents by work turn and potential severity')\n",
        "plt.show()"
      ],
      "execution_count": 156,
      "outputs": [
        {
          "output_type": "display_data",
          "data": {
            "image/png": "[encoded data removed]",
            "text/plain": [
              "<Figure size 432x288 with 1 Axes>"
            ]
          },
          "metadata": {
            "tags": [],
            "needs_background": "light"
          }
        }
      ]
    },
    {
      "cell_type": "markdown",
      "metadata": {
        "id": "Wv6bF6ZtXGux"
      },
      "source": [
        "Morning turn keeps being the one with more severe accidents\n",
        "\n",
        "Now we are going to get the nº of accidents by severity and location"
      ]
    },
    {
      "cell_type": "code",
      "metadata": {
        "id": "il3W2LL2_OqC"
      },
      "source": [
        "plant = accidentabilidad[['Planta', 'Codigo accidentado', 'Gravedad potencial']]"
      ],
      "execution_count": 157,
      "outputs": []
    },
    {
      "cell_type": "code",
      "metadata": {
        "colab": {
          "base_uri": "https://localhost:8080/"
        },
        "id": "PxS9fEDa_7km",
        "outputId": "3f0a28d5-7272-415c-9013-5f752848f8b7"
      },
      "source": [
        "len(plant['Planta'].unique()) ## we have 39 plants"
      ],
      "execution_count": 158,
      "outputs": [
        {
          "output_type": "execute_result",
          "data": {
            "text/plain": [
              "39"
            ]
          },
          "metadata": {
            "tags": []
          },
          "execution_count": 158
        }
      ]
    },
    {
      "cell_type": "code",
      "metadata": {
        "colab": {
          "base_uri": "https://localhost:8080/",
          "height": 295
        },
        "id": "iREZyAyG_OzH",
        "outputId": "f90fe7d8-c50b-45a4-e1fc-71cd7ad5bc38"
      },
      "source": [
        "plt.figure(figsize=(20,4))\n",
        "ax = sns.countplot(x=\"Planta\", hue = 'Gravedad potencial', data=plant)\n",
        "ax.set_title('Nº accidents by location and severity')\n",
        "plt.show()"
      ],
      "execution_count": 159,
      "outputs": [
        {
          "output_type": "display_data",
          "data": {
            "image/png": "[encoded data removed]",
            "text/plain": [
              "<Figure size 1440x288 with 1 Axes>"
            ]
          },
          "metadata": {
            "tags": [],
            "needs_background": "light"
          }
        }
      ]
    },
    {
      "cell_type": "markdown",
      "metadata": {
        "id": "HVsgEIq_A05j"
      },
      "source": [
        "We are going to upload the plants table with its location and type of technology"
      ]
    },
    {
      "cell_type": "code",
      "metadata": {
        "id": "67DJuWdq_O2K"
      },
      "source": [
        "! cp /content/drive/MyDrive/'Colab Notebooks'/'TFM Accidentabilidad'/Data/'G_Plantas y Tech'.csv ."
      ],
      "execution_count": 160,
      "outputs": []
    },
    {
      "cell_type": "code",
      "metadata": {
        "id": "YduscxiG_O4q"
      },
      "source": [
        "plants_catalog = pd.read_csv('G_Plantas y Tech.csv', sep=';')"
      ],
      "execution_count": 161,
      "outputs": []
    },
    {
      "cell_type": "code",
      "metadata": {
        "colab": {
          "base_uri": "https://localhost:8080/",
          "height": 205
        },
        "id": "Nu1DMXPv_O84",
        "outputId": "6f5ae588-93d3-4f0a-b50a-4a4eb0733470"
      },
      "source": [
        "plants_catalog.head()"
      ],
      "execution_count": 162,
      "outputs": [
        {
          "output_type": "execute_result",
          "data": {
            "text/html": [
              "<div>\n",
              "<style scoped>\n",
              "    .dataframe tbody tr th:only-of-type {\n",
              "        vertical-align: middle;\n",
              "    }\n",
              "\n",
              "    .dataframe tbody tr th {\n",
              "        vertical-align: top;\n",
              "    }\n",
              "\n",
              "    .dataframe thead th {\n",
              "        text-align: right;\n",
              "    }\n",
              "</style>\n",
              "<table border=\"1\" class=\"dataframe\">\n",
              "  <thead>\n",
              "    <tr style=\"text-align: right;\">\n",
              "      <th></th>\n",
              "      <th>ID</th>\n",
              "      <th>Fabrica</th>\n",
              "      <th>Activo</th>\n",
              "      <th>Tecnología</th>\n",
              "      <th>Pais</th>\n",
              "    </tr>\n",
              "  </thead>\n",
              "  <tbody>\n",
              "    <tr>\n",
              "      <th>0</th>\n",
              "      <td>1</td>\n",
              "      <td>Argentina</td>\n",
              "      <td>1</td>\n",
              "      <td>Blanking</td>\n",
              "      <td>Argentina</td>\n",
              "    </tr>\n",
              "    <tr>\n",
              "      <th>1</th>\n",
              "      <td>2</td>\n",
              "      <td>Argentina</td>\n",
              "      <td>1</td>\n",
              "      <td>Corte Longitudinal</td>\n",
              "      <td>Argentina</td>\n",
              "    </tr>\n",
              "    <tr>\n",
              "      <th>2</th>\n",
              "      <td>3</td>\n",
              "      <td>Argentina</td>\n",
              "      <td>1</td>\n",
              "      <td>Corte Transversal</td>\n",
              "      <td>Argentina</td>\n",
              "    </tr>\n",
              "    <tr>\n",
              "      <th>3</th>\n",
              "      <td>4</td>\n",
              "      <td>Arizona</td>\n",
              "      <td>1</td>\n",
              "      <td>Células Soldadura</td>\n",
              "      <td>EEUU</td>\n",
              "    </tr>\n",
              "    <tr>\n",
              "      <th>4</th>\n",
              "      <td>5</td>\n",
              "      <td>Arizona</td>\n",
              "      <td>1</td>\n",
              "      <td>Corte Láser</td>\n",
              "      <td>EEUU</td>\n",
              "    </tr>\n",
              "  </tbody>\n",
              "</table>\n",
              "</div>"
            ],
            "text/plain": [
              "   ID    Fabrica  Activo          Tecnología       Pais\n",
              "0   1  Argentina       1            Blanking  Argentina\n",
              "1   2  Argentina       1  Corte Longitudinal  Argentina\n",
              "2   3  Argentina       1   Corte Transversal  Argentina\n",
              "3   4    Arizona       1   Células Soldadura       EEUU\n",
              "4   5    Arizona       1         Corte Láser       EEUU"
            ]
          },
          "metadata": {
            "tags": []
          },
          "execution_count": 162
        }
      ]
    },
    {
      "cell_type": "markdown",
      "metadata": {
        "id": "ZVUzZ-E-BDlL"
      },
      "source": [
        "Each fabric is classified by the location and its technology. We have the following locations"
      ]
    },
    {
      "cell_type": "code",
      "metadata": {
        "colab": {
          "base_uri": "https://localhost:8080/"
        },
        "id": "BSqSQFC7A_Bg",
        "outputId": "1a5b0b96-2bb1-4de6-d78d-d24f8c9c39a1"
      },
      "source": [
        "plants_catalog['Fabrica'].unique()"
      ],
      "execution_count": 163,
      "outputs": [
        {
          "output_type": "execute_result",
          "data": {
            "text/plain": [
              "array(['Argentina', 'Arizona', 'Barcelona', 'Burgos', 'Campinas', 'Czech',\n",
              "       'Galicia', 'Asturias', 'Dongguan', 'Kaluga', 'Loudi', 'Navarra',\n",
              "       'Paraná', 'Polska', 'Portugal', 'Puebla', 'South Carolina',\n",
              "       'Tarragona', 'Thüringen', 'Valencia', 'Union Street',\n",
              "       'Baja California', 'Çepas', 'Colombia', 'Senica', 'Changshu',\n",
              "       'Shenyang', 'Chongqing', 'GCF', 'Bridge Street', 'Newton Aycliffe',\n",
              "       'Popes Lane', 'Darlaston', 'Cannock', 'China', 'Laser Barcelona',\n",
              "       'Laser Brandenburg', 'Laser Valencia', 'Flinsa', 'Nitra'],\n",
              "      dtype=object)"
            ]
          },
          "metadata": {
            "tags": []
          },
          "execution_count": 163
        }
      ]
    },
    {
      "cell_type": "markdown",
      "metadata": {
        "id": "LjOsy_eqBNXH"
      },
      "source": [
        "and the following types of tecnologies"
      ]
    },
    {
      "cell_type": "code",
      "metadata": {
        "colab": {
          "base_uri": "https://localhost:8080/"
        },
        "id": "U8cDFqGDBNDm",
        "outputId": "4a7830c5-e447-48ba-c6e9-d86933e262b8"
      },
      "source": [
        "plants_catalog['Tecnología'].unique()"
      ],
      "execution_count": 164,
      "outputs": [
        {
          "output_type": "execute_result",
          "data": {
            "text/plain": [
              "array(['Blanking', 'Corte Longitudinal', 'Corte Transversal',\n",
              "       'Células Soldadura', 'Corte Láser', 'Tubos', 'Cizalla',\n",
              "       'Electrozincado', 'Galvanizado continuo', 'Skinpass', 'Decapado',\n",
              "       'Laminado', 'Recocido', 'Prensa', 'Corte Láser 3D', 'Sierra',\n",
              "       'Aplanadora', 'Maquinaria Auxiliar', 'Corte Plasma',\n",
              "       'Galvanizado Inmersión', 'Perfilado de barrera y postes',\n",
              "       'Perfiles abiertos', 'Perforado', 'Pintura', 'Punzonado',\n",
              "       'Almacén de Materia Prima', 'Almacén de Producto Terminado',\n",
              "       'Ablación', 'Tailor Welding', 'Limpieza/Prepintado',\n",
              "       'Plastificado', 'Oficinas administrativas',\n",
              "       'Almacén producto semielaborado o en producción',\n",
              "       'Área de embalado', 'Instalaciones exteriores y auxiliares',\n",
              "       'Mantenimiento', 'Puente Grúa', 'Carpinteria',\n",
              "       'Almacen de recambios', 'Almacen productos quimicos',\n",
              "       'Residuos productos quimicos', 'Carretilla', 'Coil to Coil',\n",
              "       'Soldadura Manual', 'General / Auxiliar', 'Galvanizado',\n",
              "       'Galvanizado ', 'Depuradora', 'General', 'Slitting',\n",
              "       'Press Blanking', 'Shears', 'Pallet Department', 'Multi Strand',\n",
              "       'Slitting ', 'D-Ring Line', 'Ablation Line', nan, 'Matricería '],\n",
              "      dtype=object)"
            ]
          },
          "metadata": {
            "tags": []
          },
          "execution_count": 164
        }
      ]
    },
    {
      "cell_type": "markdown",
      "metadata": {
        "id": "PNTBuhY7BWNR"
      },
      "source": [
        "Lets join this information now to our accidents plant table"
      ]
    },
    {
      "cell_type": "code",
      "metadata": {
        "colab": {
          "base_uri": "https://localhost:8080/",
          "height": 422
        },
        "id": "Al64wPaiBbyr",
        "outputId": "913f116f-190b-4d52-e60a-2e8197fe7cc6"
      },
      "source": [
        "plant = plant.merge(plants_catalog, left_on='Planta', right_on='ID', how='left')\n",
        "plant"
      ],
      "execution_count": 165,
      "outputs": [
        {
          "output_type": "execute_result",
          "data": {
            "text/html": [
              "<div>\n",
              "<style scoped>\n",
              "    .dataframe tbody tr th:only-of-type {\n",
              "        vertical-align: middle;\n",
              "    }\n",
              "\n",
              "    .dataframe tbody tr th {\n",
              "        vertical-align: top;\n",
              "    }\n",
              "\n",
              "    .dataframe thead th {\n",
              "        text-align: right;\n",
              "    }\n",
              "</style>\n",
              "<table border=\"1\" class=\"dataframe\">\n",
              "  <thead>\n",
              "    <tr style=\"text-align: right;\">\n",
              "      <th></th>\n",
              "      <th>Planta</th>\n",
              "      <th>Codigo accidentado</th>\n",
              "      <th>Gravedad potencial</th>\n",
              "      <th>ID</th>\n",
              "      <th>Fabrica</th>\n",
              "      <th>Activo</th>\n",
              "      <th>Tecnología</th>\n",
              "      <th>Pais</th>\n",
              "    </tr>\n",
              "  </thead>\n",
              "  <tbody>\n",
              "    <tr>\n",
              "      <th>0</th>\n",
              "      <td>2</td>\n",
              "      <td>HS-BRGS_0001</td>\n",
              "      <td>NaN</td>\n",
              "      <td>2</td>\n",
              "      <td>Argentina</td>\n",
              "      <td>1</td>\n",
              "      <td>Corte Longitudinal</td>\n",
              "      <td>Argentina</td>\n",
              "    </tr>\n",
              "    <tr>\n",
              "      <th>1</th>\n",
              "      <td>2</td>\n",
              "      <td>HS-BRGS_0010</td>\n",
              "      <td>NaN</td>\n",
              "      <td>2</td>\n",
              "      <td>Argentina</td>\n",
              "      <td>1</td>\n",
              "      <td>Corte Longitudinal</td>\n",
              "      <td>Argentina</td>\n",
              "    </tr>\n",
              "    <tr>\n",
              "      <th>2</th>\n",
              "      <td>2</td>\n",
              "      <td>HS-BRGS_0011</td>\n",
              "      <td>NaN</td>\n",
              "      <td>2</td>\n",
              "      <td>Argentina</td>\n",
              "      <td>1</td>\n",
              "      <td>Corte Longitudinal</td>\n",
              "      <td>Argentina</td>\n",
              "    </tr>\n",
              "    <tr>\n",
              "      <th>3</th>\n",
              "      <td>2</td>\n",
              "      <td>HS-BRGS_0012</td>\n",
              "      <td>NaN</td>\n",
              "      <td>2</td>\n",
              "      <td>Argentina</td>\n",
              "      <td>1</td>\n",
              "      <td>Corte Longitudinal</td>\n",
              "      <td>Argentina</td>\n",
              "    </tr>\n",
              "    <tr>\n",
              "      <th>4</th>\n",
              "      <td>2</td>\n",
              "      <td>HS-BRGS_0013</td>\n",
              "      <td>NaN</td>\n",
              "      <td>2</td>\n",
              "      <td>Argentina</td>\n",
              "      <td>1</td>\n",
              "      <td>Corte Longitudinal</td>\n",
              "      <td>Argentina</td>\n",
              "    </tr>\n",
              "    <tr>\n",
              "      <th>...</th>\n",
              "      <td>...</td>\n",
              "      <td>...</td>\n",
              "      <td>...</td>\n",
              "      <td>...</td>\n",
              "      <td>...</td>\n",
              "      <td>...</td>\n",
              "      <td>...</td>\n",
              "      <td>...</td>\n",
              "    </tr>\n",
              "    <tr>\n",
              "      <th>7792</th>\n",
              "      <td>36</td>\n",
              "      <td>HS-CMPS_10763</td>\n",
              "      <td>NaN</td>\n",
              "      <td>36</td>\n",
              "      <td>Dongguan</td>\n",
              "      <td>1</td>\n",
              "      <td>Blanking</td>\n",
              "      <td>China</td>\n",
              "    </tr>\n",
              "    <tr>\n",
              "      <th>7793</th>\n",
              "      <td>2</td>\n",
              "      <td>HS-BRGS_10764</td>\n",
              "      <td>NaN</td>\n",
              "      <td>2</td>\n",
              "      <td>Argentina</td>\n",
              "      <td>1</td>\n",
              "      <td>Corte Longitudinal</td>\n",
              "      <td>Argentina</td>\n",
              "    </tr>\n",
              "    <tr>\n",
              "      <th>7794</th>\n",
              "      <td>20</td>\n",
              "      <td>HS-CLMB_10765</td>\n",
              "      <td>NaN</td>\n",
              "      <td>20</td>\n",
              "      <td>Burgos</td>\n",
              "      <td>1</td>\n",
              "      <td>Skinpass</td>\n",
              "      <td>España</td>\n",
              "    </tr>\n",
              "    <tr>\n",
              "      <th>7795</th>\n",
              "      <td>5</td>\n",
              "      <td>HS-VLNC_10766</td>\n",
              "      <td>NaN</td>\n",
              "      <td>5</td>\n",
              "      <td>Arizona</td>\n",
              "      <td>1</td>\n",
              "      <td>Corte Láser</td>\n",
              "      <td>EEUU</td>\n",
              "    </tr>\n",
              "    <tr>\n",
              "      <th>7796</th>\n",
              "      <td>15</td>\n",
              "      <td>HS-HIAS_10767</td>\n",
              "      <td>NaN</td>\n",
              "      <td>15</td>\n",
              "      <td>Burgos</td>\n",
              "      <td>1</td>\n",
              "      <td>Corte Longitudinal</td>\n",
              "      <td>España</td>\n",
              "    </tr>\n",
              "  </tbody>\n",
              "</table>\n",
              "<p>7797 rows × 8 columns</p>\n",
              "</div>"
            ],
            "text/plain": [
              "      Planta Codigo accidentado  ...          Tecnología       Pais\n",
              "0          2       HS-BRGS_0001  ...  Corte Longitudinal  Argentina\n",
              "1          2       HS-BRGS_0010  ...  Corte Longitudinal  Argentina\n",
              "2          2       HS-BRGS_0011  ...  Corte Longitudinal  Argentina\n",
              "3          2       HS-BRGS_0012  ...  Corte Longitudinal  Argentina\n",
              "4          2       HS-BRGS_0013  ...  Corte Longitudinal  Argentina\n",
              "...      ...                ...  ...                 ...        ...\n",
              "7792      36      HS-CMPS_10763  ...            Blanking      China\n",
              "7793       2      HS-BRGS_10764  ...  Corte Longitudinal  Argentina\n",
              "7794      20      HS-CLMB_10765  ...            Skinpass     España\n",
              "7795       5      HS-VLNC_10766  ...         Corte Láser       EEUU\n",
              "7796      15      HS-HIAS_10767  ...  Corte Longitudinal     España\n",
              "\n",
              "[7797 rows x 8 columns]"
            ]
          },
          "metadata": {
            "tags": []
          },
          "execution_count": 165
        }
      ]
    },
    {
      "cell_type": "code",
      "metadata": {
        "colab": {
          "base_uri": "https://localhost:8080/",
          "height": 295
        },
        "id": "_qLnGssICtld",
        "outputId": "993231a3-c5a8-4524-c7d6-1ed76ceb9981"
      },
      "source": [
        "plt.figure(figsize=(20,4)) \n",
        "ax = sns.countplot(x=\"Fabrica\", hue = 'Gravedad potencial', data=plant)\n",
        "ax.set_title('Nº accidents by location and severity')\n",
        "plt.show()"
      ],
      "execution_count": 166,
      "outputs": [
        {
          "output_type": "display_data",
          "data": {
            "image/png": "[encoded data removed]",
            "text/plain": [
              "<Figure size 1440x288 with 1 Axes>"
            ]
          },
          "metadata": {
            "tags": [],
            "needs_background": "light"
          }
        }
      ]
    },
    {
      "cell_type": "code",
      "metadata": {
        "colab": {
          "base_uri": "https://localhost:8080/",
          "height": 296
        },
        "id": "-dugO9DmC9_n",
        "outputId": "7feca533-ed4b-4e4e-a4d0-8d6e2cd268d1"
      },
      "source": [
        "plt.figure(figsize=(20,4)) \n",
        "ax = sns.countplot(x=\"Tecnología\", hue = 'Gravedad potencial', data=plant)\n",
        "ax.set_title('Nº accidents by technology and severity')\n",
        "plt.show()"
      ],
      "execution_count": 167,
      "outputs": [
        {
          "output_type": "display_data",
          "data": {
            "image/png": "[encoded data removed]",
            "text/plain": [
              "<Figure size 1440x288 with 1 Axes>"
            ]
          },
          "metadata": {
            "tags": [],
            "needs_background": "light"
          }
        }
      ]
    },
    {
      "cell_type": "code",
      "metadata": {
        "id": "QryAY831ETRL"
      },
      "source": [
        "plant = plant.reset_index()"
      ],
      "execution_count": 168,
      "outputs": []
    },
    {
      "cell_type": "code",
      "metadata": {
        "colab": {
          "base_uri": "https://localhost:8080/",
          "height": 205
        },
        "id": "WmTw3oP1EZke",
        "outputId": "74374c74-8967-4bbe-b17e-81674fa0bb17"
      },
      "source": [
        "plant.head()"
      ],
      "execution_count": 169,
      "outputs": [
        {
          "output_type": "execute_result",
          "data": {
            "text/html": [
              "<div>\n",
              "<style scoped>\n",
              "    .dataframe tbody tr th:only-of-type {\n",
              "        vertical-align: middle;\n",
              "    }\n",
              "\n",
              "    .dataframe tbody tr th {\n",
              "        vertical-align: top;\n",
              "    }\n",
              "\n",
              "    .dataframe thead th {\n",
              "        text-align: right;\n",
              "    }\n",
              "</style>\n",
              "<table border=\"1\" class=\"dataframe\">\n",
              "  <thead>\n",
              "    <tr style=\"text-align: right;\">\n",
              "      <th></th>\n",
              "      <th>index</th>\n",
              "      <th>Planta</th>\n",
              "      <th>Codigo accidentado</th>\n",
              "      <th>Gravedad potencial</th>\n",
              "      <th>ID</th>\n",
              "      <th>Fabrica</th>\n",
              "      <th>Activo</th>\n",
              "      <th>Tecnología</th>\n",
              "      <th>Pais</th>\n",
              "    </tr>\n",
              "  </thead>\n",
              "  <tbody>\n",
              "    <tr>\n",
              "      <th>0</th>\n",
              "      <td>0</td>\n",
              "      <td>2</td>\n",
              "      <td>HS-BRGS_0001</td>\n",
              "      <td>NaN</td>\n",
              "      <td>2</td>\n",
              "      <td>Argentina</td>\n",
              "      <td>1</td>\n",
              "      <td>Corte Longitudinal</td>\n",
              "      <td>Argentina</td>\n",
              "    </tr>\n",
              "    <tr>\n",
              "      <th>1</th>\n",
              "      <td>1</td>\n",
              "      <td>2</td>\n",
              "      <td>HS-BRGS_0010</td>\n",
              "      <td>NaN</td>\n",
              "      <td>2</td>\n",
              "      <td>Argentina</td>\n",
              "      <td>1</td>\n",
              "      <td>Corte Longitudinal</td>\n",
              "      <td>Argentina</td>\n",
              "    </tr>\n",
              "    <tr>\n",
              "      <th>2</th>\n",
              "      <td>2</td>\n",
              "      <td>2</td>\n",
              "      <td>HS-BRGS_0011</td>\n",
              "      <td>NaN</td>\n",
              "      <td>2</td>\n",
              "      <td>Argentina</td>\n",
              "      <td>1</td>\n",
              "      <td>Corte Longitudinal</td>\n",
              "      <td>Argentina</td>\n",
              "    </tr>\n",
              "    <tr>\n",
              "      <th>3</th>\n",
              "      <td>3</td>\n",
              "      <td>2</td>\n",
              "      <td>HS-BRGS_0012</td>\n",
              "      <td>NaN</td>\n",
              "      <td>2</td>\n",
              "      <td>Argentina</td>\n",
              "      <td>1</td>\n",
              "      <td>Corte Longitudinal</td>\n",
              "      <td>Argentina</td>\n",
              "    </tr>\n",
              "    <tr>\n",
              "      <th>4</th>\n",
              "      <td>4</td>\n",
              "      <td>2</td>\n",
              "      <td>HS-BRGS_0013</td>\n",
              "      <td>NaN</td>\n",
              "      <td>2</td>\n",
              "      <td>Argentina</td>\n",
              "      <td>1</td>\n",
              "      <td>Corte Longitudinal</td>\n",
              "      <td>Argentina</td>\n",
              "    </tr>\n",
              "  </tbody>\n",
              "</table>\n",
              "</div>"
            ],
            "text/plain": [
              "   index  Planta Codigo accidentado  ... Activo          Tecnología       Pais\n",
              "0      0       2       HS-BRGS_0001  ...      1  Corte Longitudinal  Argentina\n",
              "1      1       2       HS-BRGS_0010  ...      1  Corte Longitudinal  Argentina\n",
              "2      2       2       HS-BRGS_0011  ...      1  Corte Longitudinal  Argentina\n",
              "3      3       2       HS-BRGS_0012  ...      1  Corte Longitudinal  Argentina\n",
              "4      4       2       HS-BRGS_0013  ...      1  Corte Longitudinal  Argentina\n",
              "\n",
              "[5 rows x 9 columns]"
            ]
          },
          "metadata": {
            "tags": []
          },
          "execution_count": 169
        }
      ]
    },
    {
      "cell_type": "code",
      "metadata": {
        "colab": {
          "base_uri": "https://localhost:8080/",
          "height": 236
        },
        "id": "UASL2piXD0Sm",
        "outputId": "178582f6-9c06-4eff-b37e-3e08dc4aa517"
      },
      "source": [
        "plant_grouped = plant.groupby(['Fabrica','Gravedad potencial']).agg('count').sort_values('index', ascending=False)\n",
        "plant_grouped.head()"
      ],
      "execution_count": 170,
      "outputs": [
        {
          "output_type": "execute_result",
          "data": {
            "text/html": [
              "<div>\n",
              "<style scoped>\n",
              "    .dataframe tbody tr th:only-of-type {\n",
              "        vertical-align: middle;\n",
              "    }\n",
              "\n",
              "    .dataframe tbody tr th {\n",
              "        vertical-align: top;\n",
              "    }\n",
              "\n",
              "    .dataframe thead th {\n",
              "        text-align: right;\n",
              "    }\n",
              "</style>\n",
              "<table border=\"1\" class=\"dataframe\">\n",
              "  <thead>\n",
              "    <tr style=\"text-align: right;\">\n",
              "      <th></th>\n",
              "      <th></th>\n",
              "      <th>index</th>\n",
              "      <th>Planta</th>\n",
              "      <th>Codigo accidentado</th>\n",
              "      <th>ID</th>\n",
              "      <th>Activo</th>\n",
              "      <th>Tecnología</th>\n",
              "      <th>Pais</th>\n",
              "    </tr>\n",
              "    <tr>\n",
              "      <th>Fabrica</th>\n",
              "      <th>Gravedad potencial</th>\n",
              "      <th></th>\n",
              "      <th></th>\n",
              "      <th></th>\n",
              "      <th></th>\n",
              "      <th></th>\n",
              "      <th></th>\n",
              "      <th></th>\n",
              "    </tr>\n",
              "  </thead>\n",
              "  <tbody>\n",
              "    <tr>\n",
              "      <th rowspan=\"2\" valign=\"top\">Burgos</th>\n",
              "      <th>Grave</th>\n",
              "      <td>484</td>\n",
              "      <td>484</td>\n",
              "      <td>484</td>\n",
              "      <td>484</td>\n",
              "      <td>484</td>\n",
              "      <td>484</td>\n",
              "      <td>484</td>\n",
              "    </tr>\n",
              "    <tr>\n",
              "      <th>Leve</th>\n",
              "      <td>449</td>\n",
              "      <td>449</td>\n",
              "      <td>449</td>\n",
              "      <td>449</td>\n",
              "      <td>449</td>\n",
              "      <td>449</td>\n",
              "      <td>449</td>\n",
              "    </tr>\n",
              "    <tr>\n",
              "      <th rowspan=\"2\" valign=\"top\">Argentina</th>\n",
              "      <th>Leve</th>\n",
              "      <td>394</td>\n",
              "      <td>394</td>\n",
              "      <td>394</td>\n",
              "      <td>394</td>\n",
              "      <td>394</td>\n",
              "      <td>394</td>\n",
              "      <td>394</td>\n",
              "    </tr>\n",
              "    <tr>\n",
              "      <th>Grave</th>\n",
              "      <td>249</td>\n",
              "      <td>249</td>\n",
              "      <td>249</td>\n",
              "      <td>249</td>\n",
              "      <td>249</td>\n",
              "      <td>249</td>\n",
              "      <td>249</td>\n",
              "    </tr>\n",
              "    <tr>\n",
              "      <th>Barcelona</th>\n",
              "      <th>Leve</th>\n",
              "      <td>215</td>\n",
              "      <td>215</td>\n",
              "      <td>215</td>\n",
              "      <td>215</td>\n",
              "      <td>215</td>\n",
              "      <td>215</td>\n",
              "      <td>215</td>\n",
              "    </tr>\n",
              "  </tbody>\n",
              "</table>\n",
              "</div>"
            ],
            "text/plain": [
              "                              index  Planta  ...  Tecnología  Pais\n",
              "Fabrica   Gravedad potencial                 ...                  \n",
              "Burgos    Grave                 484     484  ...         484   484\n",
              "          Leve                  449     449  ...         449   449\n",
              "Argentina Leve                  394     394  ...         394   394\n",
              "          Grave                 249     249  ...         249   249\n",
              "Barcelona Leve                  215     215  ...         215   215\n",
              "\n",
              "[5 rows x 7 columns]"
            ]
          },
          "metadata": {
            "tags": []
          },
          "execution_count": 170
        }
      ]
    },
    {
      "cell_type": "code",
      "metadata": {
        "id": "R00MudlcEvQh"
      },
      "source": [
        "plant_grouped = plant_grouped.reset_index().head(10)"
      ],
      "execution_count": 171,
      "outputs": []
    },
    {
      "cell_type": "code",
      "metadata": {
        "colab": {
          "base_uri": "https://localhost:8080/",
          "height": 362
        },
        "id": "2totQei1FC3r",
        "outputId": "64a5b2df-6d11-44ae-8b67-194e827c587a"
      },
      "source": [
        "plant_grouped"
      ],
      "execution_count": 172,
      "outputs": [
        {
          "output_type": "execute_result",
          "data": {
            "text/html": [
              "<div>\n",
              "<style scoped>\n",
              "    .dataframe tbody tr th:only-of-type {\n",
              "        vertical-align: middle;\n",
              "    }\n",
              "\n",
              "    .dataframe tbody tr th {\n",
              "        vertical-align: top;\n",
              "    }\n",
              "\n",
              "    .dataframe thead th {\n",
              "        text-align: right;\n",
              "    }\n",
              "</style>\n",
              "<table border=\"1\" class=\"dataframe\">\n",
              "  <thead>\n",
              "    <tr style=\"text-align: right;\">\n",
              "      <th></th>\n",
              "      <th>Fabrica</th>\n",
              "      <th>Gravedad potencial</th>\n",
              "      <th>index</th>\n",
              "      <th>Planta</th>\n",
              "      <th>Codigo accidentado</th>\n",
              "      <th>ID</th>\n",
              "      <th>Activo</th>\n",
              "      <th>Tecnología</th>\n",
              "      <th>Pais</th>\n",
              "    </tr>\n",
              "  </thead>\n",
              "  <tbody>\n",
              "    <tr>\n",
              "      <th>0</th>\n",
              "      <td>Burgos</td>\n",
              "      <td>Grave</td>\n",
              "      <td>484</td>\n",
              "      <td>484</td>\n",
              "      <td>484</td>\n",
              "      <td>484</td>\n",
              "      <td>484</td>\n",
              "      <td>484</td>\n",
              "      <td>484</td>\n",
              "    </tr>\n",
              "    <tr>\n",
              "      <th>1</th>\n",
              "      <td>Burgos</td>\n",
              "      <td>Leve</td>\n",
              "      <td>449</td>\n",
              "      <td>449</td>\n",
              "      <td>449</td>\n",
              "      <td>449</td>\n",
              "      <td>449</td>\n",
              "      <td>449</td>\n",
              "      <td>449</td>\n",
              "    </tr>\n",
              "    <tr>\n",
              "      <th>2</th>\n",
              "      <td>Argentina</td>\n",
              "      <td>Leve</td>\n",
              "      <td>394</td>\n",
              "      <td>394</td>\n",
              "      <td>394</td>\n",
              "      <td>394</td>\n",
              "      <td>394</td>\n",
              "      <td>394</td>\n",
              "      <td>394</td>\n",
              "    </tr>\n",
              "    <tr>\n",
              "      <th>3</th>\n",
              "      <td>Argentina</td>\n",
              "      <td>Grave</td>\n",
              "      <td>249</td>\n",
              "      <td>249</td>\n",
              "      <td>249</td>\n",
              "      <td>249</td>\n",
              "      <td>249</td>\n",
              "      <td>249</td>\n",
              "      <td>249</td>\n",
              "    </tr>\n",
              "    <tr>\n",
              "      <th>4</th>\n",
              "      <td>Barcelona</td>\n",
              "      <td>Leve</td>\n",
              "      <td>215</td>\n",
              "      <td>215</td>\n",
              "      <td>215</td>\n",
              "      <td>215</td>\n",
              "      <td>215</td>\n",
              "      <td>215</td>\n",
              "      <td>215</td>\n",
              "    </tr>\n",
              "    <tr>\n",
              "      <th>5</th>\n",
              "      <td>Argentina</td>\n",
              "      <td>Muy grave</td>\n",
              "      <td>187</td>\n",
              "      <td>187</td>\n",
              "      <td>187</td>\n",
              "      <td>187</td>\n",
              "      <td>187</td>\n",
              "      <td>187</td>\n",
              "      <td>187</td>\n",
              "    </tr>\n",
              "    <tr>\n",
              "      <th>6</th>\n",
              "      <td>Arizona</td>\n",
              "      <td>Leve</td>\n",
              "      <td>178</td>\n",
              "      <td>178</td>\n",
              "      <td>178</td>\n",
              "      <td>178</td>\n",
              "      <td>178</td>\n",
              "      <td>178</td>\n",
              "      <td>178</td>\n",
              "    </tr>\n",
              "    <tr>\n",
              "      <th>7</th>\n",
              "      <td>Campinas</td>\n",
              "      <td>Grave</td>\n",
              "      <td>158</td>\n",
              "      <td>158</td>\n",
              "      <td>158</td>\n",
              "      <td>158</td>\n",
              "      <td>158</td>\n",
              "      <td>158</td>\n",
              "      <td>158</td>\n",
              "    </tr>\n",
              "    <tr>\n",
              "      <th>8</th>\n",
              "      <td>Burgos</td>\n",
              "      <td>Muy grave</td>\n",
              "      <td>153</td>\n",
              "      <td>153</td>\n",
              "      <td>153</td>\n",
              "      <td>153</td>\n",
              "      <td>153</td>\n",
              "      <td>153</td>\n",
              "      <td>153</td>\n",
              "    </tr>\n",
              "    <tr>\n",
              "      <th>9</th>\n",
              "      <td>Arizona</td>\n",
              "      <td>Grave</td>\n",
              "      <td>138</td>\n",
              "      <td>138</td>\n",
              "      <td>138</td>\n",
              "      <td>138</td>\n",
              "      <td>138</td>\n",
              "      <td>138</td>\n",
              "      <td>138</td>\n",
              "    </tr>\n",
              "  </tbody>\n",
              "</table>\n",
              "</div>"
            ],
            "text/plain": [
              "     Fabrica Gravedad potencial  index  Planta  ...   ID  Activo  Tecnología  Pais\n",
              "0     Burgos              Grave    484     484  ...  484     484         484   484\n",
              "1     Burgos               Leve    449     449  ...  449     449         449   449\n",
              "2  Argentina               Leve    394     394  ...  394     394         394   394\n",
              "3  Argentina              Grave    249     249  ...  249     249         249   249\n",
              "4  Barcelona               Leve    215     215  ...  215     215         215   215\n",
              "5  Argentina          Muy grave    187     187  ...  187     187         187   187\n",
              "6    Arizona               Leve    178     178  ...  178     178         178   178\n",
              "7   Campinas              Grave    158     158  ...  158     158         158   158\n",
              "8     Burgos          Muy grave    153     153  ...  153     153         153   153\n",
              "9    Arizona              Grave    138     138  ...  138     138         138   138\n",
              "\n",
              "[10 rows x 9 columns]"
            ]
          },
          "metadata": {
            "tags": []
          },
          "execution_count": 172
        }
      ]
    },
    {
      "cell_type": "markdown",
      "metadata": {
        "id": "SP6LHHSmFLCI"
      },
      "source": [
        "Burgos is the location with more accidents over all years, with a total of 484, followed by the Argentina plant with 449"
      ]
    },
    {
      "cell_type": "code",
      "metadata": {
        "colab": {
          "base_uri": "https://localhost:8080/",
          "height": 281
        },
        "id": "sU8wg2T9EC0V",
        "outputId": "8f6a8b4d-77aa-4803-eb68-cde5b600e4da"
      },
      "source": [
        "x = plant_grouped['Fabrica']\n",
        "y = plant_grouped['index']\n",
        "\n",
        "plt.bar(x,y)\n",
        "plt.title('Nº accidents by plant')\n",
        "plt.show()\n"
      ],
      "execution_count": 173,
      "outputs": [
        {
          "output_type": "display_data",
          "data": {
            "image/png": "[encoded data removed]",
            "text/plain": [
              "<Figure size 432x288 with 1 Axes>"
            ]
          },
          "metadata": {
            "tags": [],
            "needs_background": "light"
          }
        }
      ]
    },
    {
      "cell_type": "markdown",
      "metadata": {
        "id": "w-lmxP83M43R"
      },
      "source": [
        "We are going to analyze now the number of lost workdays by plant and if the norms were meet or not"
      ]
    },
    {
      "cell_type": "code",
      "metadata": {
        "id": "G8vwnvyPEC5J"
      },
      "source": [
        "normativa = accidentabilidad[['Planta', 'Año', 'Se habian cumplido las normas establecidas, en caso de estar definidas', 'Jornadas laborales perdidas']]"
      ],
      "execution_count": 174,
      "outputs": []
    },
    {
      "cell_type": "code",
      "metadata": {
        "colab": {
          "base_uri": "https://localhost:8080/"
        },
        "id": "2SgSsMP7NBpx",
        "outputId": "890582bd-a57a-42e3-f996-a4d6fd078f95"
      },
      "source": [
        "normativa['Año'] = normativa['Año'].fillna(0).astype(int)"
      ],
      "execution_count": 175,
      "outputs": [
        {
          "output_type": "stream",
          "text": [
            "/usr/local/lib/python3.7/dist-packages/ipykernel_launcher.py:1: SettingWithCopyWarning: \n",
            "A value is trying to be set on a copy of a slice from a DataFrame.\n",
            "Try using .loc[row_indexer,col_indexer] = value instead\n",
            "\n",
            "See the caveats in the documentation: https://pandas.pydata.org/pandas-docs/stable/user_guide/indexing.html#returning-a-view-versus-a-copy\n",
            "  \"\"\"Entry point for launching an IPython kernel.\n"
          ],
          "name": "stderr"
        }
      ]
    },
    {
      "cell_type": "code",
      "metadata": {
        "colab": {
          "base_uri": "https://localhost:8080/"
        },
        "id": "c0cTUoydNKXn",
        "outputId": "0d24fce7-fe4b-4898-b3d3-9f61e3eb2465"
      },
      "source": [
        "normativa.rename(columns={'Se habian cumplido las normas establecidas, en caso de estar definidas': 'Norma'}, inplace=True)"
      ],
      "execution_count": 176,
      "outputs": [
        {
          "output_type": "stream",
          "text": [
            "/usr/local/lib/python3.7/dist-packages/pandas/core/frame.py:4308: SettingWithCopyWarning: \n",
            "A value is trying to be set on a copy of a slice from a DataFrame\n",
            "\n",
            "See the caveats in the documentation: https://pandas.pydata.org/pandas-docs/stable/user_guide/indexing.html#returning-a-view-versus-a-copy\n",
            "  errors=errors,\n"
          ],
          "name": "stderr"
        }
      ]
    },
    {
      "cell_type": "code",
      "metadata": {
        "colab": {
          "base_uri": "https://localhost:8080/",
          "height": 205
        },
        "id": "OOsOiilqNTvG",
        "outputId": "aed3229c-eb52-4e59-ab64-332da04f5dca"
      },
      "source": [
        "normativa = normativa.merge(plants_catalog, left_on='Planta', right_on='ID', how='inner')\n",
        "normativa.head()"
      ],
      "execution_count": 177,
      "outputs": [
        {
          "output_type": "execute_result",
          "data": {
            "text/html": [
              "<div>\n",
              "<style scoped>\n",
              "    .dataframe tbody tr th:only-of-type {\n",
              "        vertical-align: middle;\n",
              "    }\n",
              "\n",
              "    .dataframe tbody tr th {\n",
              "        vertical-align: top;\n",
              "    }\n",
              "\n",
              "    .dataframe thead th {\n",
              "        text-align: right;\n",
              "    }\n",
              "</style>\n",
              "<table border=\"1\" class=\"dataframe\">\n",
              "  <thead>\n",
              "    <tr style=\"text-align: right;\">\n",
              "      <th></th>\n",
              "      <th>Planta</th>\n",
              "      <th>Año</th>\n",
              "      <th>Norma</th>\n",
              "      <th>Jornadas laborales perdidas</th>\n",
              "      <th>ID</th>\n",
              "      <th>Fabrica</th>\n",
              "      <th>Activo</th>\n",
              "      <th>Tecnología</th>\n",
              "      <th>Pais</th>\n",
              "    </tr>\n",
              "  </thead>\n",
              "  <tbody>\n",
              "    <tr>\n",
              "      <th>0</th>\n",
              "      <td>2</td>\n",
              "      <td>2016</td>\n",
              "      <td>NaN</td>\n",
              "      <td>NaN</td>\n",
              "      <td>2</td>\n",
              "      <td>Argentina</td>\n",
              "      <td>1</td>\n",
              "      <td>Corte Longitudinal</td>\n",
              "      <td>Argentina</td>\n",
              "    </tr>\n",
              "    <tr>\n",
              "      <th>1</th>\n",
              "      <td>2</td>\n",
              "      <td>2016</td>\n",
              "      <td>NaN</td>\n",
              "      <td>NaN</td>\n",
              "      <td>2</td>\n",
              "      <td>Argentina</td>\n",
              "      <td>1</td>\n",
              "      <td>Corte Longitudinal</td>\n",
              "      <td>Argentina</td>\n",
              "    </tr>\n",
              "    <tr>\n",
              "      <th>2</th>\n",
              "      <td>2</td>\n",
              "      <td>2016</td>\n",
              "      <td>NaN</td>\n",
              "      <td>NaN</td>\n",
              "      <td>2</td>\n",
              "      <td>Argentina</td>\n",
              "      <td>1</td>\n",
              "      <td>Corte Longitudinal</td>\n",
              "      <td>Argentina</td>\n",
              "    </tr>\n",
              "    <tr>\n",
              "      <th>3</th>\n",
              "      <td>2</td>\n",
              "      <td>2016</td>\n",
              "      <td>NaN</td>\n",
              "      <td>0.0</td>\n",
              "      <td>2</td>\n",
              "      <td>Argentina</td>\n",
              "      <td>1</td>\n",
              "      <td>Corte Longitudinal</td>\n",
              "      <td>Argentina</td>\n",
              "    </tr>\n",
              "    <tr>\n",
              "      <th>4</th>\n",
              "      <td>2</td>\n",
              "      <td>2016</td>\n",
              "      <td>NaN</td>\n",
              "      <td>NaN</td>\n",
              "      <td>2</td>\n",
              "      <td>Argentina</td>\n",
              "      <td>1</td>\n",
              "      <td>Corte Longitudinal</td>\n",
              "      <td>Argentina</td>\n",
              "    </tr>\n",
              "  </tbody>\n",
              "</table>\n",
              "</div>"
            ],
            "text/plain": [
              "   Planta   Año Norma  ...  Activo          Tecnología       Pais\n",
              "0       2  2016   NaN  ...       1  Corte Longitudinal  Argentina\n",
              "1       2  2016   NaN  ...       1  Corte Longitudinal  Argentina\n",
              "2       2  2016   NaN  ...       1  Corte Longitudinal  Argentina\n",
              "3       2  2016   NaN  ...       1  Corte Longitudinal  Argentina\n",
              "4       2  2016   NaN  ...       1  Corte Longitudinal  Argentina\n",
              "\n",
              "[5 rows x 9 columns]"
            ]
          },
          "metadata": {
            "tags": []
          },
          "execution_count": 177
        }
      ]
    },
    {
      "cell_type": "code",
      "metadata": {
        "colab": {
          "base_uri": "https://localhost:8080/"
        },
        "id": "WEUmjI3cOVoZ",
        "outputId": "593e2097-3f21-4f60-d9ae-cb918e6546ba"
      },
      "source": [
        "len(normativa.Fabrica.unique())"
      ],
      "execution_count": 178,
      "outputs": [
        {
          "output_type": "execute_result",
          "data": {
            "text/plain": [
              "12"
            ]
          },
          "metadata": {
            "tags": []
          },
          "execution_count": 178
        }
      ]
    },
    {
      "cell_type": "code",
      "metadata": {
        "colab": {
          "base_uri": "https://localhost:8080/",
          "height": 295
        },
        "id": "V4v_GGA9NZtr",
        "outputId": "ca7ffa2a-4f80-49c2-dda5-70325d950a24"
      },
      "source": [
        "plt.figure(figsize=(20,4)) \n",
        "ax = sns.countplot(x=\"Fabrica\", hue = 'Norma', data=normativa)\n",
        "plt.legend(loc='upper right')\n",
        "ax.set_title('Nº lost workdays by plant and if the norms have been met')\n",
        "plt.show()"
      ],
      "execution_count": 179,
      "outputs": [
        {
          "output_type": "display_data",
          "data": {
            "image/png": "[encoded data removed]",
            "text/plain": [
              "<Figure size 1440x288 with 1 Axes>"
            ]
          },
          "metadata": {
            "tags": [],
            "needs_background": "light"
          }
        }
      ]
    },
    {
      "cell_type": "code",
      "metadata": {
        "colab": {
          "base_uri": "https://localhost:8080/"
        },
        "id": "i14uMUB9TTNd",
        "outputId": "9488fd38-a833-4b33-acdd-4ad759e7e9c6"
      },
      "source": [
        "accidentabilidad.columns"
      ],
      "execution_count": 180,
      "outputs": [
        {
          "output_type": "execute_result",
          "data": {
            "text/plain": [
              "Index(['ID', '-  DATOS DEL SUCESO -', 'Codigo accidentado',\n",
              "       'Fecha introduccion datos', 'Fecha accidente', 'Año',\n",
              "       'Codigo fecha accidente', 'Planta', 'Código empleado', 'Supervisor',\n",
              "       ...\n",
              "       '- PROPUESTA INICIAL DE MEDIDAS A PLANIFICAR -',\n",
              "       'Medida a planificar 1', 'Medida a planificar 2',\n",
              "       'Medida a planificar 3', 'Notificacion o investigacion',\n",
              "       'Modifica notificacion',\n",
              "       'Se ha dado un suceso similar (en cuanto a sus causas y consecuencias) en el último año en planta?',\n",
              "       'En caso afirmativo, cual es y como se actuó?', 'Tipo Tema',\n",
              "       'Acta reunión alta baja'],\n",
              "      dtype='object', length=104)"
            ]
          },
          "metadata": {
            "tags": []
          },
          "execution_count": 180
        }
      ]
    },
    {
      "cell_type": "markdown",
      "metadata": {
        "id": "KACwhrmPQYdY"
      },
      "source": [
        "### Accident Index calculation\n",
        "\n",
        "Accident index = Nº accidents / Nº employees"
      ]
    },
    {
      "cell_type": "code",
      "metadata": {
        "colab": {
          "base_uri": "https://localhost:8080/",
          "height": 205
        },
        "id": "Wzjyz-ELQcZ-",
        "outputId": "b2f2f51a-9167-4bda-ab25-34b6e579aab8"
      },
      "source": [
        "# we come back to our dataframe with the accidents code per year and its accident type\n",
        "year_df.head()"
      ],
      "execution_count": 181,
      "outputs": [
        {
          "output_type": "execute_result",
          "data": {
            "text/html": [
              "<div>\n",
              "<style scoped>\n",
              "    .dataframe tbody tr th:only-of-type {\n",
              "        vertical-align: middle;\n",
              "    }\n",
              "\n",
              "    .dataframe tbody tr th {\n",
              "        vertical-align: top;\n",
              "    }\n",
              "\n",
              "    .dataframe thead th {\n",
              "        text-align: right;\n",
              "    }\n",
              "</style>\n",
              "<table border=\"1\" class=\"dataframe\">\n",
              "  <thead>\n",
              "    <tr style=\"text-align: right;\">\n",
              "      <th></th>\n",
              "      <th>Año</th>\n",
              "      <th>Codigo accidentado</th>\n",
              "      <th>Tipo accidente</th>\n",
              "    </tr>\n",
              "  </thead>\n",
              "  <tbody>\n",
              "    <tr>\n",
              "      <th>0</th>\n",
              "      <td>2016</td>\n",
              "      <td>HS-BRGS_0001</td>\n",
              "      <td>Incidente</td>\n",
              "    </tr>\n",
              "    <tr>\n",
              "      <th>1</th>\n",
              "      <td>2016</td>\n",
              "      <td>HS-BRGS_0010</td>\n",
              "      <td>Incidente</td>\n",
              "    </tr>\n",
              "    <tr>\n",
              "      <th>2</th>\n",
              "      <td>2016</td>\n",
              "      <td>HS-BRGS_0011</td>\n",
              "      <td>Incidente</td>\n",
              "    </tr>\n",
              "    <tr>\n",
              "      <th>3</th>\n",
              "      <td>2016</td>\n",
              "      <td>HS-BRGS_0012</td>\n",
              "      <td>Incidente</td>\n",
              "    </tr>\n",
              "    <tr>\n",
              "      <th>4</th>\n",
              "      <td>2016</td>\n",
              "      <td>HS-BRGS_0013</td>\n",
              "      <td>Incidente</td>\n",
              "    </tr>\n",
              "  </tbody>\n",
              "</table>\n",
              "</div>"
            ],
            "text/plain": [
              "    Año Codigo accidentado Tipo accidente\n",
              "0  2016       HS-BRGS_0001      Incidente\n",
              "1  2016       HS-BRGS_0010      Incidente\n",
              "2  2016       HS-BRGS_0011      Incidente\n",
              "3  2016       HS-BRGS_0012      Incidente\n",
              "4  2016       HS-BRGS_0013      Incidente"
            ]
          },
          "metadata": {
            "tags": []
          },
          "execution_count": 181
        }
      ]
    },
    {
      "cell_type": "code",
      "metadata": {
        "colab": {
          "base_uri": "https://localhost:8080/",
          "height": 236
        },
        "id": "qB8_xoctR4aW",
        "outputId": "bdfa0a30-1cb9-4579-b911-86f194b936a0"
      },
      "source": [
        "total_accidents = year_df.groupby('Año').agg('count')\n",
        "total_accidents.drop(columns={'Tipo accidente'}, inplace=True)\n",
        "total_accidents.rename(columns={'Codigo accidentado':'Nº accidents'}, inplace=True)\n",
        "\n",
        "\n",
        "\n",
        "total_accidents.head()"
      ],
      "execution_count": 182,
      "outputs": [
        {
          "output_type": "execute_result",
          "data": {
            "text/html": [
              "<div>\n",
              "<style scoped>\n",
              "    .dataframe tbody tr th:only-of-type {\n",
              "        vertical-align: middle;\n",
              "    }\n",
              "\n",
              "    .dataframe tbody tr th {\n",
              "        vertical-align: top;\n",
              "    }\n",
              "\n",
              "    .dataframe thead th {\n",
              "        text-align: right;\n",
              "    }\n",
              "</style>\n",
              "<table border=\"1\" class=\"dataframe\">\n",
              "  <thead>\n",
              "    <tr style=\"text-align: right;\">\n",
              "      <th></th>\n",
              "      <th>Nº accidents</th>\n",
              "    </tr>\n",
              "    <tr>\n",
              "      <th>Año</th>\n",
              "      <th></th>\n",
              "    </tr>\n",
              "  </thead>\n",
              "  <tbody>\n",
              "    <tr>\n",
              "      <th>0</th>\n",
              "      <td>282</td>\n",
              "    </tr>\n",
              "    <tr>\n",
              "      <th>2015</th>\n",
              "      <td>202</td>\n",
              "    </tr>\n",
              "    <tr>\n",
              "      <th>2016</th>\n",
              "      <td>1335</td>\n",
              "    </tr>\n",
              "    <tr>\n",
              "      <th>2017</th>\n",
              "      <td>1203</td>\n",
              "    </tr>\n",
              "    <tr>\n",
              "      <th>2018</th>\n",
              "      <td>1532</td>\n",
              "    </tr>\n",
              "  </tbody>\n",
              "</table>\n",
              "</div>"
            ],
            "text/plain": [
              "      Nº accidents\n",
              "Año               \n",
              "0              282\n",
              "2015           202\n",
              "2016          1335\n",
              "2017          1203\n",
              "2018          1532"
            ]
          },
          "metadata": {
            "tags": []
          },
          "execution_count": 182
        }
      ]
    },
    {
      "cell_type": "code",
      "metadata": {
        "id": "9ktXGRsuSUA8"
      },
      "source": [
        "total_accidents = total_accidents.reset_index()"
      ],
      "execution_count": 183,
      "outputs": []
    },
    {
      "cell_type": "code",
      "metadata": {
        "colab": {
          "base_uri": "https://localhost:8080/",
          "height": 205
        },
        "id": "Ozv2GRXGQsxC",
        "outputId": "6201654a-39af-4dc2-ced3-a37ae708ce54"
      },
      "source": [
        "# we are going to upload the staff data in order to calculate the accident rate for each year of study\n",
        "\n",
        "! cp /content/drive/MyDrive/'Colab Notebooks'/'TFM Accidentabilidad'/Data/Datos_plantilla.xlsx .\n",
        "\n",
        "\n",
        "employees_country = pd.read_excel('Datos_plantilla.xlsx',sheet_name='tipo_empleados_pais')\n",
        "employees_country.head()"
      ],
      "execution_count": 184,
      "outputs": [
        {
          "output_type": "execute_result",
          "data": {
            "text/html": [
              "<div>\n",
              "<style scoped>\n",
              "    .dataframe tbody tr th:only-of-type {\n",
              "        vertical-align: middle;\n",
              "    }\n",
              "\n",
              "    .dataframe tbody tr th {\n",
              "        vertical-align: top;\n",
              "    }\n",
              "\n",
              "    .dataframe thead th {\n",
              "        text-align: right;\n",
              "    }\n",
              "</style>\n",
              "<table border=\"1\" class=\"dataframe\">\n",
              "  <thead>\n",
              "    <tr style=\"text-align: right;\">\n",
              "      <th></th>\n",
              "      <th>Año</th>\n",
              "      <th>País</th>\n",
              "      <th>Tipo contrato</th>\n",
              "      <th>Empleados</th>\n",
              "    </tr>\n",
              "  </thead>\n",
              "  <tbody>\n",
              "    <tr>\n",
              "      <th>0</th>\n",
              "      <td>2018</td>\n",
              "      <td>México</td>\n",
              "      <td>Interno</td>\n",
              "      <td>154</td>\n",
              "    </tr>\n",
              "    <tr>\n",
              "      <th>1</th>\n",
              "      <td>2018</td>\n",
              "      <td>México</td>\n",
              "      <td>Externo</td>\n",
              "      <td>61</td>\n",
              "    </tr>\n",
              "    <tr>\n",
              "      <th>2</th>\n",
              "      <td>2018</td>\n",
              "      <td>EEUU</td>\n",
              "      <td>Interno</td>\n",
              "      <td>105</td>\n",
              "    </tr>\n",
              "    <tr>\n",
              "      <th>3</th>\n",
              "      <td>2018</td>\n",
              "      <td>EEUU</td>\n",
              "      <td>Externo</td>\n",
              "      <td>0</td>\n",
              "    </tr>\n",
              "    <tr>\n",
              "      <th>4</th>\n",
              "      <td>2018</td>\n",
              "      <td>Colombia</td>\n",
              "      <td>Interno</td>\n",
              "      <td>243</td>\n",
              "    </tr>\n",
              "  </tbody>\n",
              "</table>\n",
              "</div>"
            ],
            "text/plain": [
              "    Año      País Tipo contrato  Empleados\n",
              "0  2018    México       Interno        154\n",
              "1  2018    México       Externo         61\n",
              "2  2018      EEUU       Interno        105\n",
              "3  2018      EEUU       Externo          0\n",
              "4  2018  Colombia       Interno        243"
            ]
          },
          "metadata": {
            "tags": []
          },
          "execution_count": 184
        }
      ]
    },
    {
      "cell_type": "code",
      "metadata": {
        "colab": {
          "base_uri": "https://localhost:8080/",
          "height": 143
        },
        "id": "b15pG8LRScx_",
        "outputId": "6b4073d4-b9de-426b-fcc3-66cab44b520d"
      },
      "source": [
        "total_employees = employees_country.groupby('Año').agg('sum')\n",
        "total_employees = total_employees.reset_index()\n",
        "total_employees.head()"
      ],
      "execution_count": 185,
      "outputs": [
        {
          "output_type": "execute_result",
          "data": {
            "text/html": [
              "<div>\n",
              "<style scoped>\n",
              "    .dataframe tbody tr th:only-of-type {\n",
              "        vertical-align: middle;\n",
              "    }\n",
              "\n",
              "    .dataframe tbody tr th {\n",
              "        vertical-align: top;\n",
              "    }\n",
              "\n",
              "    .dataframe thead th {\n",
              "        text-align: right;\n",
              "    }\n",
              "</style>\n",
              "<table border=\"1\" class=\"dataframe\">\n",
              "  <thead>\n",
              "    <tr style=\"text-align: right;\">\n",
              "      <th></th>\n",
              "      <th>Año</th>\n",
              "      <th>Empleados</th>\n",
              "    </tr>\n",
              "  </thead>\n",
              "  <tbody>\n",
              "    <tr>\n",
              "      <th>0</th>\n",
              "      <td>2017</td>\n",
              "      <td>4872</td>\n",
              "    </tr>\n",
              "    <tr>\n",
              "      <th>1</th>\n",
              "      <td>2018</td>\n",
              "      <td>5357</td>\n",
              "    </tr>\n",
              "    <tr>\n",
              "      <th>2</th>\n",
              "      <td>2019</td>\n",
              "      <td>5268</td>\n",
              "    </tr>\n",
              "  </tbody>\n",
              "</table>\n",
              "</div>"
            ],
            "text/plain": [
              "    Año  Empleados\n",
              "0  2017       4872\n",
              "1  2018       5357\n",
              "2  2019       5268"
            ]
          },
          "metadata": {
            "tags": []
          },
          "execution_count": 185
        }
      ]
    },
    {
      "cell_type": "code",
      "metadata": {
        "colab": {
          "base_uri": "https://localhost:8080/",
          "height": 143
        },
        "id": "n26hMP9gSmac",
        "outputId": "cdd54eda-3078-4bfc-82f2-45af69803761"
      },
      "source": [
        "accident_index = total_accidents.merge(total_employees, how='inner', on='Año')\n",
        "accident_index"
      ],
      "execution_count": 186,
      "outputs": [
        {
          "output_type": "execute_result",
          "data": {
            "text/html": [
              "<div>\n",
              "<style scoped>\n",
              "    .dataframe tbody tr th:only-of-type {\n",
              "        vertical-align: middle;\n",
              "    }\n",
              "\n",
              "    .dataframe tbody tr th {\n",
              "        vertical-align: top;\n",
              "    }\n",
              "\n",
              "    .dataframe thead th {\n",
              "        text-align: right;\n",
              "    }\n",
              "</style>\n",
              "<table border=\"1\" class=\"dataframe\">\n",
              "  <thead>\n",
              "    <tr style=\"text-align: right;\">\n",
              "      <th></th>\n",
              "      <th>Año</th>\n",
              "      <th>Nº accidents</th>\n",
              "      <th>Empleados</th>\n",
              "    </tr>\n",
              "  </thead>\n",
              "  <tbody>\n",
              "    <tr>\n",
              "      <th>0</th>\n",
              "      <td>2017</td>\n",
              "      <td>1203</td>\n",
              "      <td>4872</td>\n",
              "    </tr>\n",
              "    <tr>\n",
              "      <th>1</th>\n",
              "      <td>2018</td>\n",
              "      <td>1532</td>\n",
              "      <td>5357</td>\n",
              "    </tr>\n",
              "    <tr>\n",
              "      <th>2</th>\n",
              "      <td>2019</td>\n",
              "      <td>1526</td>\n",
              "      <td>5268</td>\n",
              "    </tr>\n",
              "  </tbody>\n",
              "</table>\n",
              "</div>"
            ],
            "text/plain": [
              "    Año  Nº accidents  Empleados\n",
              "0  2017          1203       4872\n",
              "1  2018          1532       5357\n",
              "2  2019          1526       5268"
            ]
          },
          "metadata": {
            "tags": []
          },
          "execution_count": 186
        }
      ]
    },
    {
      "cell_type": "code",
      "metadata": {
        "colab": {
          "base_uri": "https://localhost:8080/",
          "height": 143
        },
        "id": "hj34zvXDSzrY",
        "outputId": "12455889-ac2f-48c0-ef75-12026f92f755"
      },
      "source": [
        "accident_index = accident_index.fillna(0)\n",
        "accident_index"
      ],
      "execution_count": 187,
      "outputs": [
        {
          "output_type": "execute_result",
          "data": {
            "text/html": [
              "<div>\n",
              "<style scoped>\n",
              "    .dataframe tbody tr th:only-of-type {\n",
              "        vertical-align: middle;\n",
              "    }\n",
              "\n",
              "    .dataframe tbody tr th {\n",
              "        vertical-align: top;\n",
              "    }\n",
              "\n",
              "    .dataframe thead th {\n",
              "        text-align: right;\n",
              "    }\n",
              "</style>\n",
              "<table border=\"1\" class=\"dataframe\">\n",
              "  <thead>\n",
              "    <tr style=\"text-align: right;\">\n",
              "      <th></th>\n",
              "      <th>Año</th>\n",
              "      <th>Nº accidents</th>\n",
              "      <th>Empleados</th>\n",
              "    </tr>\n",
              "  </thead>\n",
              "  <tbody>\n",
              "    <tr>\n",
              "      <th>0</th>\n",
              "      <td>2017</td>\n",
              "      <td>1203</td>\n",
              "      <td>4872</td>\n",
              "    </tr>\n",
              "    <tr>\n",
              "      <th>1</th>\n",
              "      <td>2018</td>\n",
              "      <td>1532</td>\n",
              "      <td>5357</td>\n",
              "    </tr>\n",
              "    <tr>\n",
              "      <th>2</th>\n",
              "      <td>2019</td>\n",
              "      <td>1526</td>\n",
              "      <td>5268</td>\n",
              "    </tr>\n",
              "  </tbody>\n",
              "</table>\n",
              "</div>"
            ],
            "text/plain": [
              "    Año  Nº accidents  Empleados\n",
              "0  2017          1203       4872\n",
              "1  2018          1532       5357\n",
              "2  2019          1526       5268"
            ]
          },
          "metadata": {
            "tags": []
          },
          "execution_count": 187
        }
      ]
    },
    {
      "cell_type": "code",
      "metadata": {
        "id": "9KIlGQpuS1-5"
      },
      "source": [
        "accident_index['Index'] = round(accident_index['Nº accidents'] / accident_index['Empleados'] * 100,2)"
      ],
      "execution_count": 188,
      "outputs": []
    },
    {
      "cell_type": "code",
      "metadata": {
        "id": "bKm1hoBETviP"
      },
      "source": [
        "accident_index['Año'] = accident_index['Año'].astype(str)"
      ],
      "execution_count": 189,
      "outputs": []
    },
    {
      "cell_type": "code",
      "metadata": {
        "colab": {
          "base_uri": "https://localhost:8080/",
          "height": 143
        },
        "id": "EmMM2rekTRb1",
        "outputId": "6a8536d1-4aff-421a-ab9e-7cc7726a8bc9"
      },
      "source": [
        "accident_index"
      ],
      "execution_count": 190,
      "outputs": [
        {
          "output_type": "execute_result",
          "data": {
            "text/html": [
              "<div>\n",
              "<style scoped>\n",
              "    .dataframe tbody tr th:only-of-type {\n",
              "        vertical-align: middle;\n",
              "    }\n",
              "\n",
              "    .dataframe tbody tr th {\n",
              "        vertical-align: top;\n",
              "    }\n",
              "\n",
              "    .dataframe thead th {\n",
              "        text-align: right;\n",
              "    }\n",
              "</style>\n",
              "<table border=\"1\" class=\"dataframe\">\n",
              "  <thead>\n",
              "    <tr style=\"text-align: right;\">\n",
              "      <th></th>\n",
              "      <th>Año</th>\n",
              "      <th>Nº accidents</th>\n",
              "      <th>Empleados</th>\n",
              "      <th>Index</th>\n",
              "    </tr>\n",
              "  </thead>\n",
              "  <tbody>\n",
              "    <tr>\n",
              "      <th>0</th>\n",
              "      <td>2017</td>\n",
              "      <td>1203</td>\n",
              "      <td>4872</td>\n",
              "      <td>24.69</td>\n",
              "    </tr>\n",
              "    <tr>\n",
              "      <th>1</th>\n",
              "      <td>2018</td>\n",
              "      <td>1532</td>\n",
              "      <td>5357</td>\n",
              "      <td>28.60</td>\n",
              "    </tr>\n",
              "    <tr>\n",
              "      <th>2</th>\n",
              "      <td>2019</td>\n",
              "      <td>1526</td>\n",
              "      <td>5268</td>\n",
              "      <td>28.97</td>\n",
              "    </tr>\n",
              "  </tbody>\n",
              "</table>\n",
              "</div>"
            ],
            "text/plain": [
              "    Año  Nº accidents  Empleados  Index\n",
              "0  2017          1203       4872  24.69\n",
              "1  2018          1532       5357  28.60\n",
              "2  2019          1526       5268  28.97"
            ]
          },
          "metadata": {
            "tags": []
          },
          "execution_count": 190
        }
      ]
    },
    {
      "cell_type": "markdown",
      "metadata": {
        "id": "DnAeqK1yUpSI"
      },
      "source": [
        "On the charts below we can see that the accident rate has increased during past years, so the company has failed to decrease it with its measures"
      ]
    },
    {
      "cell_type": "code",
      "metadata": {
        "colab": {
          "base_uri": "https://localhost:8080/",
          "height": 374
        },
        "id": "qYHunO63Ta9-",
        "outputId": "7328cba7-39e5-4cfe-afdc-376beb2b02e0"
      },
      "source": [
        "pie, ax = plt.subplots(figsize=[10,6])\n",
        "labels = accident_index['Año']\n",
        "plt.pie(x=accident_index['Index'], autopct=\"%.1f%%\", labels=labels, pctdistance=0.5)\n",
        "plt.title(\"Accident index by year\", fontsize=14);"
      ],
      "execution_count": 191,
      "outputs": [
        {
          "output_type": "display_data",
          "data": {
            "image/png": "[encoded data removed]",
            "text/plain": [
              "<Figure size 720x432 with 1 Axes>"
            ]
          },
          "metadata": {
            "tags": []
          }
        }
      ]
    },
    {
      "cell_type": "code",
      "metadata": {
        "colab": {
          "base_uri": "https://localhost:8080/",
          "height": 281
        },
        "id": "9rio3N-eUU77",
        "outputId": "98da6ae4-1f8b-49c0-fc02-c419dc0e985d"
      },
      "source": [
        "plt.plot(accident_index['Año'], accident_index['Index'])\n",
        "plt.title('Accident index by year')\n",
        "plt.ylabel('% accident index')\n",
        "plt.show()"
      ],
      "execution_count": 192,
      "outputs": [
        {
          "output_type": "display_data",
          "data": {
            "image/png": "[encoded data removed]",
            "text/plain": [
              "<Figure size 432x288 with 1 Axes>"
            ]
          },
          "metadata": {
            "tags": [],
            "needs_background": "light"
          }
        }
      ]
    },
    {
      "cell_type": "markdown",
      "metadata": {
        "id": "fZvIi_6oU2Jy"
      },
      "source": [
        "Lets analyze the index by the severity of the accidents"
      ]
    },
    {
      "cell_type": "code",
      "metadata": {
        "colab": {
          "base_uri": "https://localhost:8080/",
          "height": 205
        },
        "id": "wC9jL3sGU70y",
        "outputId": "ac458a4f-28d3-4ae3-a3b5-1b6dd814a7c6"
      },
      "source": [
        "severity_year = accidentabilidad[['Gravedad potencial', 'Año', 'Codigo accidentado']]\n",
        "severity_year = severity_year.groupby(['Año', 'Gravedad potencial']).agg('count')\n",
        "severity_year = severity_year.reset_index()\n",
        "severity_year['Año'] = severity_year['Año'].astype(int).astype(str)\n",
        "severity_year.rename(columns={'Codigo accidentado':'N accidents'}, inplace=True)\n",
        "severity_year.head()"
      ],
      "execution_count": 193,
      "outputs": [
        {
          "output_type": "execute_result",
          "data": {
            "text/html": [
              "<div>\n",
              "<style scoped>\n",
              "    .dataframe tbody tr th:only-of-type {\n",
              "        vertical-align: middle;\n",
              "    }\n",
              "\n",
              "    .dataframe tbody tr th {\n",
              "        vertical-align: top;\n",
              "    }\n",
              "\n",
              "    .dataframe thead th {\n",
              "        text-align: right;\n",
              "    }\n",
              "</style>\n",
              "<table border=\"1\" class=\"dataframe\">\n",
              "  <thead>\n",
              "    <tr style=\"text-align: right;\">\n",
              "      <th></th>\n",
              "      <th>Año</th>\n",
              "      <th>Gravedad potencial</th>\n",
              "      <th>N accidents</th>\n",
              "    </tr>\n",
              "  </thead>\n",
              "  <tbody>\n",
              "    <tr>\n",
              "      <th>0</th>\n",
              "      <td>2016</td>\n",
              "      <td>Leve</td>\n",
              "      <td>1</td>\n",
              "    </tr>\n",
              "    <tr>\n",
              "      <th>1</th>\n",
              "      <td>2017</td>\n",
              "      <td>Grave</td>\n",
              "      <td>68</td>\n",
              "    </tr>\n",
              "    <tr>\n",
              "      <th>2</th>\n",
              "      <td>2017</td>\n",
              "      <td>Leve</td>\n",
              "      <td>111</td>\n",
              "    </tr>\n",
              "    <tr>\n",
              "      <th>3</th>\n",
              "      <td>2017</td>\n",
              "      <td>Muy grave</td>\n",
              "      <td>14</td>\n",
              "    </tr>\n",
              "    <tr>\n",
              "      <th>4</th>\n",
              "      <td>2018</td>\n",
              "      <td>Grave</td>\n",
              "      <td>593</td>\n",
              "    </tr>\n",
              "  </tbody>\n",
              "</table>\n",
              "</div>"
            ],
            "text/plain": [
              "    Año Gravedad potencial  N accidents\n",
              "0  2016               Leve            1\n",
              "1  2017              Grave           68\n",
              "2  2017               Leve          111\n",
              "3  2017          Muy grave           14\n",
              "4  2018              Grave          593"
            ]
          },
          "metadata": {
            "tags": []
          },
          "execution_count": 193
        }
      ]
    },
    {
      "cell_type": "code",
      "metadata": {
        "colab": {
          "base_uri": "https://localhost:8080/",
          "height": 205
        },
        "id": "MHBjOBC1WPP0",
        "outputId": "3f4bb9b9-1cf6-427e-d5f9-99544a096b82"
      },
      "source": [
        "severity_year.head()"
      ],
      "execution_count": 194,
      "outputs": [
        {
          "output_type": "execute_result",
          "data": {
            "text/html": [
              "<div>\n",
              "<style scoped>\n",
              "    .dataframe tbody tr th:only-of-type {\n",
              "        vertical-align: middle;\n",
              "    }\n",
              "\n",
              "    .dataframe tbody tr th {\n",
              "        vertical-align: top;\n",
              "    }\n",
              "\n",
              "    .dataframe thead th {\n",
              "        text-align: right;\n",
              "    }\n",
              "</style>\n",
              "<table border=\"1\" class=\"dataframe\">\n",
              "  <thead>\n",
              "    <tr style=\"text-align: right;\">\n",
              "      <th></th>\n",
              "      <th>Año</th>\n",
              "      <th>Gravedad potencial</th>\n",
              "      <th>N accidents</th>\n",
              "    </tr>\n",
              "  </thead>\n",
              "  <tbody>\n",
              "    <tr>\n",
              "      <th>0</th>\n",
              "      <td>2016</td>\n",
              "      <td>Leve</td>\n",
              "      <td>1</td>\n",
              "    </tr>\n",
              "    <tr>\n",
              "      <th>1</th>\n",
              "      <td>2017</td>\n",
              "      <td>Grave</td>\n",
              "      <td>68</td>\n",
              "    </tr>\n",
              "    <tr>\n",
              "      <th>2</th>\n",
              "      <td>2017</td>\n",
              "      <td>Leve</td>\n",
              "      <td>111</td>\n",
              "    </tr>\n",
              "    <tr>\n",
              "      <th>3</th>\n",
              "      <td>2017</td>\n",
              "      <td>Muy grave</td>\n",
              "      <td>14</td>\n",
              "    </tr>\n",
              "    <tr>\n",
              "      <th>4</th>\n",
              "      <td>2018</td>\n",
              "      <td>Grave</td>\n",
              "      <td>593</td>\n",
              "    </tr>\n",
              "  </tbody>\n",
              "</table>\n",
              "</div>"
            ],
            "text/plain": [
              "    Año Gravedad potencial  N accidents\n",
              "0  2016               Leve            1\n",
              "1  2017              Grave           68\n",
              "2  2017               Leve          111\n",
              "3  2017          Muy grave           14\n",
              "4  2018              Grave          593"
            ]
          },
          "metadata": {
            "tags": []
          },
          "execution_count": 194
        }
      ]
    },
    {
      "cell_type": "markdown",
      "metadata": {
        "id": "OeDUuE9qXmxJ"
      },
      "source": [
        "As we only have data until 2019 to calculate the accident rate we can't see the evolution of the index at the moment and it is increasing until 2019. \n",
        "\n",
        "On the chart below we can see how the number of accidents decrease noticeably, this could be caused by Covid-19 situation in all countries as fabrics were stopped by the regulation so several workers stayed at home during a long period of time in 2020. Seeing this data we expect the accident index to decrease in 2020."
      ]
    },
    {
      "cell_type": "code",
      "metadata": {
        "colab": {
          "base_uri": "https://localhost:8080/",
          "height": 460
        },
        "id": "_cdL907eWWe8",
        "outputId": "e1c80277-f298-4be9-fc42-cfe4c585463f"
      },
      "source": [
        "plt.figure(figsize=(6,6))\n",
        "plt.title('Nº accidents by severity and year')\n",
        "\n",
        "\n",
        "sns.lineplot(severity_year['Año'], severity_year['N accidents'], hue=severity_year['Gravedad potencial'])\n",
        "\n",
        "plt.show()"
      ],
      "execution_count": 195,
      "outputs": [
        {
          "output_type": "stream",
          "text": [
            "/usr/local/lib/python3.7/dist-packages/seaborn/_decorators.py:43: FutureWarning: Pass the following variables as keyword args: x, y. From version 0.12, the only valid positional argument will be `data`, and passing other arguments without an explicit keyword will result in an error or misinterpretation.\n",
            "  FutureWarning\n"
          ],
          "name": "stderr"
        },
        {
          "output_type": "display_data",
          "data": {
            "image/png": "[encoded data removed]",
            "text/plain": [
              "<Figure size 432x432 with 1 Axes>"
            ]
          },
          "metadata": {
            "tags": [],
            "needs_background": "light"
          }
        }
      ]
    },
    {
      "cell_type": "markdown",
      "metadata": {
        "id": "SS4ALxvoTwOs"
      },
      "source": [
        "### Matriz correlacion\n",
        "Matriz correlación : Pasar numericos y meter las columnas a comparar\n",
        "\n",
        "correlation_mat = df_small.corr()\n",
        "\n",
        "sns.heatmap(correlation_mat, annot = True)\n",
        "\n",
        "plt.show()"
      ]
    },
    {
      "cell_type": "code",
      "metadata": {
        "id": "P7ds18nrbw0x"
      },
      "source": [
        "accidentes = accidentabilidad[['Codigo accidentado', 'Planta', 'Puesto habitual de trabajo',\n",
        "       'Género', 'Turno', 'Línea de producción']]"
      ],
      "execution_count": 196,
      "outputs": []
    },
    {
      "cell_type": "code",
      "metadata": {
        "colab": {
          "base_uri": "https://localhost:8080/"
        },
        "id": "DnMwNGnXdBFr",
        "outputId": "7019bc91-5fa3-4522-98c8-446057551bc9"
      },
      "source": [
        "accidentes.columns"
      ],
      "execution_count": 197,
      "outputs": [
        {
          "output_type": "execute_result",
          "data": {
            "text/plain": [
              "Index(['Codigo accidentado', 'Planta', 'Puesto habitual de trabajo', 'Género',\n",
              "       'Turno', 'Línea de producción'],\n",
              "      dtype='object')"
            ]
          },
          "metadata": {
            "tags": []
          },
          "execution_count": 197
        }
      ]
    },
    {
      "cell_type": "code",
      "metadata": {
        "id": "nnXb-Xdzc6vS"
      },
      "source": [
        "accidentes = accidentes.groupby(['Planta', 'Puesto habitual de trabajo',\n",
        "       'Género', 'Turno', 'Línea de producción']).agg('count')"
      ],
      "execution_count": 198,
      "outputs": []
    },
    {
      "cell_type": "code",
      "metadata": {
        "colab": {
          "base_uri": "https://localhost:8080/",
          "height": 205
        },
        "id": "v0FNAf1HeqZa",
        "outputId": "304eeeb2-a304-49a1-dd36-e99549e54b16"
      },
      "source": [
        "accidentes = accidentes.reset_index()\n",
        "accidentes.rename(columns={'Codigo accidentado':'N accidentes'}, inplace= True)\n",
        "accidentes.head()"
      ],
      "execution_count": 199,
      "outputs": [
        {
          "output_type": "execute_result",
          "data": {
            "text/html": [
              "<div>\n",
              "<style scoped>\n",
              "    .dataframe tbody tr th:only-of-type {\n",
              "        vertical-align: middle;\n",
              "    }\n",
              "\n",
              "    .dataframe tbody tr th {\n",
              "        vertical-align: top;\n",
              "    }\n",
              "\n",
              "    .dataframe thead th {\n",
              "        text-align: right;\n",
              "    }\n",
              "</style>\n",
              "<table border=\"1\" class=\"dataframe\">\n",
              "  <thead>\n",
              "    <tr style=\"text-align: right;\">\n",
              "      <th></th>\n",
              "      <th>Planta</th>\n",
              "      <th>Puesto habitual de trabajo</th>\n",
              "      <th>Género</th>\n",
              "      <th>Turno</th>\n",
              "      <th>Línea de producción</th>\n",
              "      <th>N accidentes</th>\n",
              "    </tr>\n",
              "  </thead>\n",
              "  <tbody>\n",
              "    <tr>\n",
              "      <th>0</th>\n",
              "      <td>1</td>\n",
              "      <td>AUXILIAR TRANS 4</td>\n",
              "      <td>Hombre</td>\n",
              "      <td>Turno de tarde</td>\n",
              "      <td>TRANS004</td>\n",
              "      <td>1</td>\n",
              "    </tr>\n",
              "    <tr>\n",
              "      <th>1</th>\n",
              "      <td>1</td>\n",
              "      <td>Auxiliar Trans 4</td>\n",
              "      <td>Mujer</td>\n",
              "      <td>Turno de mañana</td>\n",
              "      <td>TRANS004</td>\n",
              "      <td>1</td>\n",
              "    </tr>\n",
              "    <tr>\n",
              "      <th>2</th>\n",
              "      <td>1</td>\n",
              "      <td>Ayudante LCL</td>\n",
              "      <td>Hombre</td>\n",
              "      <td>Turno de tarde</td>\n",
              "      <td>LONGI003</td>\n",
              "      <td>1</td>\n",
              "    </tr>\n",
              "    <tr>\n",
              "      <th>3</th>\n",
              "      <td>1</td>\n",
              "      <td>CIZALLA</td>\n",
              "      <td>Hombre</td>\n",
              "      <td>Turno de tarde</td>\n",
              "      <td>CIZAL001</td>\n",
              "      <td>1</td>\n",
              "    </tr>\n",
              "    <tr>\n",
              "      <th>4</th>\n",
              "      <td>1</td>\n",
              "      <td>Calidad</td>\n",
              "      <td>Hombre</td>\n",
              "      <td>Turno de tarde</td>\n",
              "      <td>ZINCA001</td>\n",
              "      <td>1</td>\n",
              "    </tr>\n",
              "  </tbody>\n",
              "</table>\n",
              "</div>"
            ],
            "text/plain": [
              "   Planta Puesto habitual de trabajo  ... Línea de producción N accidentes\n",
              "0       1           AUXILIAR TRANS 4  ...            TRANS004            1\n",
              "1       1           Auxiliar Trans 4  ...            TRANS004            1\n",
              "2       1               Ayudante LCL  ...            LONGI003            1\n",
              "3       1                    CIZALLA  ...            CIZAL001            1\n",
              "4       1                    Calidad  ...            ZINCA001            1\n",
              "\n",
              "[5 rows x 6 columns]"
            ]
          },
          "metadata": {
            "tags": []
          },
          "execution_count": 199
        }
      ]
    },
    {
      "cell_type": "code",
      "metadata": {
        "colab": {
          "base_uri": "https://localhost:8080/",
          "height": 422
        },
        "id": "sLwi1V9kj1rq",
        "outputId": "872da174-cfb7-4636-d583-739bcd56e9fc"
      },
      "source": [
        "accidentes.sort_values('N accidentes', ascending=False)"
      ],
      "execution_count": 200,
      "outputs": [
        {
          "output_type": "execute_result",
          "data": {
            "text/html": [
              "<div>\n",
              "<style scoped>\n",
              "    .dataframe tbody tr th:only-of-type {\n",
              "        vertical-align: middle;\n",
              "    }\n",
              "\n",
              "    .dataframe tbody tr th {\n",
              "        vertical-align: top;\n",
              "    }\n",
              "\n",
              "    .dataframe thead th {\n",
              "        text-align: right;\n",
              "    }\n",
              "</style>\n",
              "<table border=\"1\" class=\"dataframe\">\n",
              "  <thead>\n",
              "    <tr style=\"text-align: right;\">\n",
              "      <th></th>\n",
              "      <th>Planta</th>\n",
              "      <th>Puesto habitual de trabajo</th>\n",
              "      <th>Género</th>\n",
              "      <th>Turno</th>\n",
              "      <th>Línea de producción</th>\n",
              "      <th>N accidentes</th>\n",
              "    </tr>\n",
              "  </thead>\n",
              "  <tbody>\n",
              "    <tr>\n",
              "      <th>192</th>\n",
              "      <td>6</td>\n",
              "      <td>Operador de Embalagem</td>\n",
              "      <td>Hombre</td>\n",
              "      <td>Turno de tarde</td>\n",
              "      <td>LONGI006</td>\n",
              "      <td>5</td>\n",
              "    </tr>\n",
              "    <tr>\n",
              "      <th>259</th>\n",
              "      <td>15</td>\n",
              "      <td>GRUISTA</td>\n",
              "      <td>Hombre</td>\n",
              "      <td>Turno de mañana</td>\n",
              "      <td>GALVA001</td>\n",
              "      <td>4</td>\n",
              "    </tr>\n",
              "    <tr>\n",
              "      <th>274</th>\n",
              "      <td>15</td>\n",
              "      <td>Gruista</td>\n",
              "      <td>Hombre</td>\n",
              "      <td>Turno de tarde</td>\n",
              "      <td>GALVA001</td>\n",
              "      <td>4</td>\n",
              "    </tr>\n",
              "    <tr>\n",
              "      <th>264</th>\n",
              "      <td>15</td>\n",
              "      <td>Gruista</td>\n",
              "      <td>Hombre</td>\n",
              "      <td>Turno de mañana</td>\n",
              "      <td>GALVA001</td>\n",
              "      <td>4</td>\n",
              "    </tr>\n",
              "    <tr>\n",
              "      <th>187</th>\n",
              "      <td>6</td>\n",
              "      <td>Operador de Embalagem</td>\n",
              "      <td>Hombre</td>\n",
              "      <td>Turno de mañana</td>\n",
              "      <td>LONGI004</td>\n",
              "      <td>4</td>\n",
              "    </tr>\n",
              "    <tr>\n",
              "      <th>...</th>\n",
              "      <td>...</td>\n",
              "      <td>...</td>\n",
              "      <td>...</td>\n",
              "      <td>...</td>\n",
              "      <td>...</td>\n",
              "      <td>...</td>\n",
              "    </tr>\n",
              "    <tr>\n",
              "      <th>159</th>\n",
              "      <td>5</td>\n",
              "      <td>Ninguno de los implicados desempeñaban funcion...</td>\n",
              "      <td>Hombre</td>\n",
              "      <td>Turno de mañana</td>\n",
              "      <td>LONGI002</td>\n",
              "      <td>1</td>\n",
              "    </tr>\n",
              "    <tr>\n",
              "      <th>158</th>\n",
              "      <td>5</td>\n",
              "      <td>Montador/auxiliar LONGI003</td>\n",
              "      <td>Hombre</td>\n",
              "      <td>Turno de noche</td>\n",
              "      <td>LONGI003</td>\n",
              "      <td>1</td>\n",
              "    </tr>\n",
              "    <tr>\n",
              "      <th>157</th>\n",
              "      <td>5</td>\n",
              "      <td>Montador/auxiliar</td>\n",
              "      <td>Hombre</td>\n",
              "      <td>Turno de tarde</td>\n",
              "      <td>LONGI001</td>\n",
              "      <td>1</td>\n",
              "    </tr>\n",
              "    <tr>\n",
              "      <th>156</th>\n",
              "      <td>5</td>\n",
              "      <td>Montador/Ayudante</td>\n",
              "      <td>Hombre</td>\n",
              "      <td>Turno de noche</td>\n",
              "      <td>LONGI003</td>\n",
              "      <td>1</td>\n",
              "    </tr>\n",
              "    <tr>\n",
              "      <th>488</th>\n",
              "      <td>41</td>\n",
              "      <td>toolmaker</td>\n",
              "      <td>Hombre</td>\n",
              "      <td>Turno de mañana</td>\n",
              "      <td>BLANK001</td>\n",
              "      <td>1</td>\n",
              "    </tr>\n",
              "  </tbody>\n",
              "</table>\n",
              "<p>489 rows × 6 columns</p>\n",
              "</div>"
            ],
            "text/plain": [
              "     Planta  ... N accidentes\n",
              "192       6  ...            5\n",
              "259      15  ...            4\n",
              "274      15  ...            4\n",
              "264      15  ...            4\n",
              "187       6  ...            4\n",
              "..      ...  ...          ...\n",
              "159       5  ...            1\n",
              "158       5  ...            1\n",
              "157       5  ...            1\n",
              "156       5  ...            1\n",
              "488      41  ...            1\n",
              "\n",
              "[489 rows x 6 columns]"
            ]
          },
          "metadata": {
            "tags": []
          },
          "execution_count": 200
        }
      ]
    },
    {
      "cell_type": "code",
      "metadata": {
        "colab": {
          "base_uri": "https://localhost:8080/"
        },
        "id": "xLq09UNagtTT",
        "outputId": "ae8a3bdb-8fe6-4a98-b1d3-afd22ca7b93d"
      },
      "source": [
        "len(accidentes)"
      ],
      "execution_count": 201,
      "outputs": [
        {
          "output_type": "execute_result",
          "data": {
            "text/plain": [
              "489"
            ]
          },
          "metadata": {
            "tags": []
          },
          "execution_count": 201
        }
      ]
    },
    {
      "cell_type": "code",
      "metadata": {
        "colab": {
          "base_uri": "https://localhost:8080/",
          "height": 49
        },
        "id": "qtuaiDLWgokO",
        "outputId": "efc643a0-a9fc-420d-92c3-1686d7941004"
      },
      "source": [
        "#cleaning null values, there aren't any after groupingby\n",
        "\n",
        "accidentes[accidentes.isnull().any(axis=1)]\n"
      ],
      "execution_count": 202,
      "outputs": [
        {
          "output_type": "execute_result",
          "data": {
            "text/html": [
              "<div>\n",
              "<style scoped>\n",
              "    .dataframe tbody tr th:only-of-type {\n",
              "        vertical-align: middle;\n",
              "    }\n",
              "\n",
              "    .dataframe tbody tr th {\n",
              "        vertical-align: top;\n",
              "    }\n",
              "\n",
              "    .dataframe thead th {\n",
              "        text-align: right;\n",
              "    }\n",
              "</style>\n",
              "<table border=\"1\" class=\"dataframe\">\n",
              "  <thead>\n",
              "    <tr style=\"text-align: right;\">\n",
              "      <th></th>\n",
              "      <th>Planta</th>\n",
              "      <th>Puesto habitual de trabajo</th>\n",
              "      <th>Género</th>\n",
              "      <th>Turno</th>\n",
              "      <th>Línea de producción</th>\n",
              "      <th>N accidentes</th>\n",
              "    </tr>\n",
              "  </thead>\n",
              "  <tbody>\n",
              "  </tbody>\n",
              "</table>\n",
              "</div>"
            ],
            "text/plain": [
              "Empty DataFrame\n",
              "Columns: [Planta, Puesto habitual de trabajo, Género, Turno, Línea de producción, N accidentes]\n",
              "Index: []"
            ]
          },
          "metadata": {
            "tags": []
          },
          "execution_count": 202
        }
      ]
    },
    {
      "cell_type": "code",
      "metadata": {
        "colab": {
          "base_uri": "https://localhost:8080/",
          "height": 205
        },
        "id": "XItKIoFNhdw-",
        "outputId": "00dec53f-6385-496e-fa6f-cd9f9e9bdf38"
      },
      "source": [
        "## we are going to transform our categorical data using the sklearn approach: the Ordinal Encoder\n",
        "\n",
        "from sklearn.preprocessing import OrdinalEncoder\n",
        "\n",
        "ord_enc = OrdinalEncoder()\n",
        "accidentes[\"turno_code\"] = ord_enc.fit_transform(accidentes[[\"Turno\"]])\n",
        "accidentes[[\"turno_code\", \"Turno\"]].head()"
      ],
      "execution_count": 203,
      "outputs": [
        {
          "output_type": "execute_result",
          "data": {
            "text/html": [
              "<div>\n",
              "<style scoped>\n",
              "    .dataframe tbody tr th:only-of-type {\n",
              "        vertical-align: middle;\n",
              "    }\n",
              "\n",
              "    .dataframe tbody tr th {\n",
              "        vertical-align: top;\n",
              "    }\n",
              "\n",
              "    .dataframe thead th {\n",
              "        text-align: right;\n",
              "    }\n",
              "</style>\n",
              "<table border=\"1\" class=\"dataframe\">\n",
              "  <thead>\n",
              "    <tr style=\"text-align: right;\">\n",
              "      <th></th>\n",
              "      <th>turno_code</th>\n",
              "      <th>Turno</th>\n",
              "    </tr>\n",
              "  </thead>\n",
              "  <tbody>\n",
              "    <tr>\n",
              "      <th>0</th>\n",
              "      <td>2.0</td>\n",
              "      <td>Turno de tarde</td>\n",
              "    </tr>\n",
              "    <tr>\n",
              "      <th>1</th>\n",
              "      <td>0.0</td>\n",
              "      <td>Turno de mañana</td>\n",
              "    </tr>\n",
              "    <tr>\n",
              "      <th>2</th>\n",
              "      <td>2.0</td>\n",
              "      <td>Turno de tarde</td>\n",
              "    </tr>\n",
              "    <tr>\n",
              "      <th>3</th>\n",
              "      <td>2.0</td>\n",
              "      <td>Turno de tarde</td>\n",
              "    </tr>\n",
              "    <tr>\n",
              "      <th>4</th>\n",
              "      <td>2.0</td>\n",
              "      <td>Turno de tarde</td>\n",
              "    </tr>\n",
              "  </tbody>\n",
              "</table>\n",
              "</div>"
            ],
            "text/plain": [
              "   turno_code            Turno\n",
              "0         2.0   Turno de tarde\n",
              "1         0.0  Turno de mañana\n",
              "2         2.0   Turno de tarde\n",
              "3         2.0   Turno de tarde\n",
              "4         2.0   Turno de tarde"
            ]
          },
          "metadata": {
            "tags": []
          },
          "execution_count": 203
        }
      ]
    },
    {
      "cell_type": "code",
      "metadata": {
        "id": "2dXOxP8aiFhp"
      },
      "source": [
        "col_transform = ['Puesto habitual de trabajo','Género','Línea de producción']"
      ],
      "execution_count": 204,
      "outputs": []
    },
    {
      "cell_type": "code",
      "metadata": {
        "id": "Zu5tl0hoiMvC"
      },
      "source": [
        "for col in col_transform:\n",
        "  ord_enc = OrdinalEncoder()\n",
        "  accidentes[col + \"_code\"] = ord_enc.fit_transform(accidentes[[col]])\n"
      ],
      "execution_count": 205,
      "outputs": []
    },
    {
      "cell_type": "code",
      "metadata": {
        "colab": {
          "base_uri": "https://localhost:8080/",
          "height": 205
        },
        "id": "7QnAv7yUh6ca",
        "outputId": "b4c0de5b-6659-4c28-8d32-6425b8d393d3"
      },
      "source": [
        "accidentes.head()"
      ],
      "execution_count": 206,
      "outputs": [
        {
          "output_type": "execute_result",
          "data": {
            "text/html": [
              "<div>\n",
              "<style scoped>\n",
              "    .dataframe tbody tr th:only-of-type {\n",
              "        vertical-align: middle;\n",
              "    }\n",
              "\n",
              "    .dataframe tbody tr th {\n",
              "        vertical-align: top;\n",
              "    }\n",
              "\n",
              "    .dataframe thead th {\n",
              "        text-align: right;\n",
              "    }\n",
              "</style>\n",
              "<table border=\"1\" class=\"dataframe\">\n",
              "  <thead>\n",
              "    <tr style=\"text-align: right;\">\n",
              "      <th></th>\n",
              "      <th>Planta</th>\n",
              "      <th>Puesto habitual de trabajo</th>\n",
              "      <th>Género</th>\n",
              "      <th>Turno</th>\n",
              "      <th>Línea de producción</th>\n",
              "      <th>N accidentes</th>\n",
              "      <th>turno_code</th>\n",
              "      <th>Puesto habitual de trabajo_code</th>\n",
              "      <th>Género_code</th>\n",
              "      <th>Línea de producción_code</th>\n",
              "    </tr>\n",
              "  </thead>\n",
              "  <tbody>\n",
              "    <tr>\n",
              "      <th>0</th>\n",
              "      <td>1</td>\n",
              "      <td>AUXILIAR TRANS 4</td>\n",
              "      <td>Hombre</td>\n",
              "      <td>Turno de tarde</td>\n",
              "      <td>TRANS004</td>\n",
              "      <td>1</td>\n",
              "      <td>2.0</td>\n",
              "      <td>4.0</td>\n",
              "      <td>0.0</td>\n",
              "      <td>55.0</td>\n",
              "    </tr>\n",
              "    <tr>\n",
              "      <th>1</th>\n",
              "      <td>1</td>\n",
              "      <td>Auxiliar Trans 4</td>\n",
              "      <td>Mujer</td>\n",
              "      <td>Turno de mañana</td>\n",
              "      <td>TRANS004</td>\n",
              "      <td>1</td>\n",
              "      <td>0.0</td>\n",
              "      <td>24.0</td>\n",
              "      <td>1.0</td>\n",
              "      <td>55.0</td>\n",
              "    </tr>\n",
              "    <tr>\n",
              "      <th>2</th>\n",
              "      <td>1</td>\n",
              "      <td>Ayudante LCL</td>\n",
              "      <td>Hombre</td>\n",
              "      <td>Turno de tarde</td>\n",
              "      <td>LONGI003</td>\n",
              "      <td>1</td>\n",
              "      <td>2.0</td>\n",
              "      <td>30.0</td>\n",
              "      <td>0.0</td>\n",
              "      <td>21.0</td>\n",
              "    </tr>\n",
              "    <tr>\n",
              "      <th>3</th>\n",
              "      <td>1</td>\n",
              "      <td>CIZALLA</td>\n",
              "      <td>Hombre</td>\n",
              "      <td>Turno de tarde</td>\n",
              "      <td>CIZAL001</td>\n",
              "      <td>1</td>\n",
              "      <td>2.0</td>\n",
              "      <td>43.0</td>\n",
              "      <td>0.0</td>\n",
              "      <td>7.0</td>\n",
              "    </tr>\n",
              "    <tr>\n",
              "      <th>4</th>\n",
              "      <td>1</td>\n",
              "      <td>Calidad</td>\n",
              "      <td>Hombre</td>\n",
              "      <td>Turno de tarde</td>\n",
              "      <td>ZINCA001</td>\n",
              "      <td>1</td>\n",
              "      <td>2.0</td>\n",
              "      <td>45.0</td>\n",
              "      <td>0.0</td>\n",
              "      <td>64.0</td>\n",
              "    </tr>\n",
              "  </tbody>\n",
              "</table>\n",
              "</div>"
            ],
            "text/plain": [
              "   Planta Puesto habitual de trabajo  ... Género_code Línea de producción_code\n",
              "0       1           AUXILIAR TRANS 4  ...         0.0                     55.0\n",
              "1       1           Auxiliar Trans 4  ...         1.0                     55.0\n",
              "2       1               Ayudante LCL  ...         0.0                     21.0\n",
              "3       1                    CIZALLA  ...         0.0                      7.0\n",
              "4       1                    Calidad  ...         0.0                     64.0\n",
              "\n",
              "[5 rows x 10 columns]"
            ]
          },
          "metadata": {
            "tags": []
          },
          "execution_count": 206
        }
      ]
    },
    {
      "cell_type": "code",
      "metadata": {
        "colab": {
          "base_uri": "https://localhost:8080/"
        },
        "id": "KrSfK9n7i0hB",
        "outputId": "4ce86d84-e5e2-4611-cac8-947a8b0cb838"
      },
      "source": [
        "accidentes.columns"
      ],
      "execution_count": 207,
      "outputs": [
        {
          "output_type": "execute_result",
          "data": {
            "text/plain": [
              "Index(['Planta', 'Puesto habitual de trabajo', 'Género', 'Turno',\n",
              "       'Línea de producción', 'N accidentes', 'turno_code',\n",
              "       'Puesto habitual de trabajo_code', 'Género_code',\n",
              "       'Línea de producción_code'],\n",
              "      dtype='object')"
            ]
          },
          "metadata": {
            "tags": []
          },
          "execution_count": 207
        }
      ]
    },
    {
      "cell_type": "code",
      "metadata": {
        "colab": {
          "base_uri": "https://localhost:8080/",
          "height": 205
        },
        "id": "XfVt5N7IivEA",
        "outputId": "c9bd827a-1025-4e1a-ddfc-13735e8300f5"
      },
      "source": [
        "accidents_coded = accidentes[['turno_code',\n",
        "       'Puesto habitual de trabajo_code', 'Género_code',\n",
        "       'Línea de producción_code','Planta','N accidentes']]\n",
        "\n",
        "accidents_coded.head()"
      ],
      "execution_count": 208,
      "outputs": [
        {
          "output_type": "execute_result",
          "data": {
            "text/html": [
              "<div>\n",
              "<style scoped>\n",
              "    .dataframe tbody tr th:only-of-type {\n",
              "        vertical-align: middle;\n",
              "    }\n",
              "\n",
              "    .dataframe tbody tr th {\n",
              "        vertical-align: top;\n",
              "    }\n",
              "\n",
              "    .dataframe thead th {\n",
              "        text-align: right;\n",
              "    }\n",
              "</style>\n",
              "<table border=\"1\" class=\"dataframe\">\n",
              "  <thead>\n",
              "    <tr style=\"text-align: right;\">\n",
              "      <th></th>\n",
              "      <th>turno_code</th>\n",
              "      <th>Puesto habitual de trabajo_code</th>\n",
              "      <th>Género_code</th>\n",
              "      <th>Línea de producción_code</th>\n",
              "      <th>Planta</th>\n",
              "      <th>N accidentes</th>\n",
              "    </tr>\n",
              "  </thead>\n",
              "  <tbody>\n",
              "    <tr>\n",
              "      <th>0</th>\n",
              "      <td>2.0</td>\n",
              "      <td>4.0</td>\n",
              "      <td>0.0</td>\n",
              "      <td>55.0</td>\n",
              "      <td>1</td>\n",
              "      <td>1</td>\n",
              "    </tr>\n",
              "    <tr>\n",
              "      <th>1</th>\n",
              "      <td>0.0</td>\n",
              "      <td>24.0</td>\n",
              "      <td>1.0</td>\n",
              "      <td>55.0</td>\n",
              "      <td>1</td>\n",
              "      <td>1</td>\n",
              "    </tr>\n",
              "    <tr>\n",
              "      <th>2</th>\n",
              "      <td>2.0</td>\n",
              "      <td>30.0</td>\n",
              "      <td>0.0</td>\n",
              "      <td>21.0</td>\n",
              "      <td>1</td>\n",
              "      <td>1</td>\n",
              "    </tr>\n",
              "    <tr>\n",
              "      <th>3</th>\n",
              "      <td>2.0</td>\n",
              "      <td>43.0</td>\n",
              "      <td>0.0</td>\n",
              "      <td>7.0</td>\n",
              "      <td>1</td>\n",
              "      <td>1</td>\n",
              "    </tr>\n",
              "    <tr>\n",
              "      <th>4</th>\n",
              "      <td>2.0</td>\n",
              "      <td>45.0</td>\n",
              "      <td>0.0</td>\n",
              "      <td>64.0</td>\n",
              "      <td>1</td>\n",
              "      <td>1</td>\n",
              "    </tr>\n",
              "  </tbody>\n",
              "</table>\n",
              "</div>"
            ],
            "text/plain": [
              "   turno_code  Puesto habitual de trabajo_code  ...  Planta  N accidentes\n",
              "0         2.0                              4.0  ...       1             1\n",
              "1         0.0                             24.0  ...       1             1\n",
              "2         2.0                             30.0  ...       1             1\n",
              "3         2.0                             43.0  ...       1             1\n",
              "4         2.0                             45.0  ...       1             1\n",
              "\n",
              "[5 rows x 6 columns]"
            ]
          },
          "metadata": {
            "tags": []
          },
          "execution_count": 208
        }
      ]
    },
    {
      "cell_type": "code",
      "metadata": {
        "colab": {
          "base_uri": "https://localhost:8080/",
          "height": 420
        },
        "id": "jLWsXlBqeusr",
        "outputId": "269929b2-130d-4294-e30d-57749c27dacf"
      },
      "source": [
        "correlation_mat = accidents_coded.corr()\n",
        "\n",
        "sns.heatmap(correlation_mat, annot = True)\n",
        "\n",
        "plt.show()"
      ],
      "execution_count": 209,
      "outputs": [
        {
          "output_type": "display_data",
          "data": {
            "image/png": "[encoded data removed]",
            "text/plain": [
              "<Figure size 432x288 with 2 Axes>"
            ]
          },
          "metadata": {
            "tags": [],
            "needs_background": "light"
          }
        }
      ]
    },
    {
      "cell_type": "code",
      "metadata": {
        "id": "pv23RJoMkCib"
      },
      "source": [
        "accidents_coded_srtd = accidentes[['turno_code',\n",
        "        'Género_code','Planta','N accidentes']]"
      ],
      "execution_count": 210,
      "outputs": []
    },
    {
      "cell_type": "code",
      "metadata": {
        "id": "QVUToG2TkIia",
        "colab": {
          "base_uri": "https://localhost:8080/",
          "height": 271
        },
        "outputId": "81fc77ec-ee92-40bc-f166-cb0d6c0d832c"
      },
      "source": [
        "correlation_mat = accidents_coded_srtd.corr()\n",
        "\n",
        "sns.heatmap(correlation_mat, annot = True)\n",
        "\n",
        "plt.show()"
      ],
      "execution_count": 211,
      "outputs": [
        {
          "output_type": "display_data",
          "data": {
            "image/png": "[encoded data removed]",
            "text/plain": [
              "<Figure size 432x288 with 2 Axes>"
            ]
          },
          "metadata": {
            "tags": [],
            "needs_background": "light"
          }
        }
      ]
    }
  ]
}