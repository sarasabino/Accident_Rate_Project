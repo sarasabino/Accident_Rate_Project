{
  "nbformat": 4,
  "nbformat_minor": 0,
  "metadata": {
    "colab": {
      "name": "01_Exploratorio_datos.ipynb",
      "provenance": [],
      "collapsed_sections": [],
      "mount_file_id": "1oFqHpKB1NWDhP516n3M9OZLGJ22wgOXr",
      "authorship_tag": "ABX9TyPF8xzLdg6Et9+OeNWz2oeI",
      "include_colab_link": true
    },
    "kernelspec": {
      "name": "python3",
      "display_name": "Python 3"
    },
    "language_info": {
      "name": "python"
    }
  },
  "cells": [
    {
      "cell_type": "markdown",
      "metadata": {
        "id": "view-in-github",
        "colab_type": "text"
      },
      "source": [
        "<a href=\"https://colab.research.google.com/github/sarasabino/Accident_Rate_Project/blob/main/Src/Notebooks/01_Exploratorio_datos.ipynb\" target=\"_parent\"><img src=\"https://colab.research.google.com/assets/colab-badge.svg\" alt=\"Open In Colab\"/></a>"
      ]
    },
    {
      "cell_type": "markdown",
      "metadata": {
        "id": "ef1UaQX0sR6Z"
      },
      "source": [
        "## Exploratory of accident data"
      ]
    },
    {
      "cell_type": "code",
      "metadata": {
        "id": "wWjKorWaDtIv"
      },
      "source": [
        "! cp /content/drive/MyDrive/'Colab Notebooks'/'TFM Accidentabilidad'/Data/HS_Accidentabilidad.csv ."
      ],
      "execution_count": 1,
      "outputs": []
    },
    {
      "cell_type": "code",
      "metadata": {
        "id": "WBoNaDJeEGxw"
      },
      "source": [
        "import pandas as pd\n",
        "\n",
        "accidentabilidad = pd.read_csv('HS_Accidentabilidad.csv', sep=';')"
      ],
      "execution_count": 2,
      "outputs": []
    },
    {
      "cell_type": "code",
      "metadata": {
        "colab": {
          "base_uri": "https://localhost:8080/",
          "height": 664
        },
        "id": "Nv8606uBERT2",
        "outputId": "706caf80-6758-4754-c084-82c526c1fed0"
      },
      "source": [
        "accidentabilidad.head()"
      ],
      "execution_count": 3,
      "outputs": [
        {
          "output_type": "execute_result",
          "data": {
            "text/html": [
              "<div>\n",
              "<style scoped>\n",
              "    .dataframe tbody tr th:only-of-type {\n",
              "        vertical-align: middle;\n",
              "    }\n",
              "\n",
              "    .dataframe tbody tr th {\n",
              "        vertical-align: top;\n",
              "    }\n",
              "\n",
              "    .dataframe thead th {\n",
              "        text-align: right;\n",
              "    }\n",
              "</style>\n",
              "<table border=\"1\" class=\"dataframe\">\n",
              "  <thead>\n",
              "    <tr style=\"text-align: right;\">\n",
              "      <th></th>\n",
              "      <th>ID</th>\n",
              "      <th>-  DATOS DEL SUCESO -</th>\n",
              "      <th>Codigo accidentado</th>\n",
              "      <th>Fecha introduccion datos</th>\n",
              "      <th>Fecha accidente</th>\n",
              "      <th>Año</th>\n",
              "      <th>Codigo fecha accidente</th>\n",
              "      <th>Planta</th>\n",
              "      <th>Código empleado</th>\n",
              "      <th>Supervisor</th>\n",
              "      <th>Puesto habitual de trabajo</th>\n",
              "      <th>Puesto habitual de trabajo - Cerrado</th>\n",
              "      <th>MOI o MOD</th>\n",
              "      <th>La estaba desempeñando</th>\n",
              "      <th>En caso negativo, indicar qué estaba desempeñando</th>\n",
              "      <th>Edad</th>\n",
              "      <th>Género</th>\n",
              "      <th>Turno</th>\n",
              "      <th>Numero personas implicadas</th>\n",
              "      <th>Llevaba EPIs puestos</th>\n",
              "      <th>Hora</th>\n",
              "      <th>Hora jornada</th>\n",
              "      <th>Tipo trabajador</th>\n",
              "      <th>En caso de ser ajeno, indicar empresa</th>\n",
              "      <th>Lugar o seccion accidente</th>\n",
              "      <th>Línea de producción</th>\n",
              "      <th>Tarea que estaba realizando</th>\n",
              "      <th>Cumplimiento Instruccion de Seguridad</th>\n",
              "      <th>¿Se ha incumplido alguna de las normas o instrucciones existentes y explicadas?</th>\n",
              "      <th>En caso de incumplimiento, comentarios:</th>\n",
              "      <th>En caso negativo, indicar la razon</th>\n",
              "      <th>Experiencia en puesto</th>\n",
              "      <th>Fecha ultima formacion completa sobre instrucciones en el puesto</th>\n",
              "      <th>Condicion peligrosa</th>\n",
              "      <th>Forma de producirse</th>\n",
              "      <th>Factores de peligro</th>\n",
              "      <th>Acto inseguro</th>\n",
              "      <th>Naturaleza de lesion</th>\n",
              "      <th>- FORMA EN QUE SE PRODUJO -</th>\n",
              "      <th>Descripción supervisor</th>\n",
              "      <th>...</th>\n",
              "      <th>Responsable de Departamento</th>\n",
              "      <th>Nombre de Responsable</th>\n",
              "      <th>Fecha cierre informe</th>\n",
              "      <th>- VALORACIÓN DE LOS HECHOS -</th>\n",
              "      <th>Probabilidad de repeticion del suceso</th>\n",
              "      <th>Gravedad potencial</th>\n",
              "      <th>Podría haberse dado otro riesgo en estas circunstancias</th>\n",
              "      <th>- MEDIDAS DE CONTROL -</th>\n",
              "      <th>Posibilidad de este suceso detectada en la evaluación de riesgos</th>\n",
              "      <th>Estaban contempladas las medidas preventivas en la Instruccion de Seguridad</th>\n",
              "      <th>Los implicados conocian la existencia del riesgo y las medidas a adoptar</th>\n",
              "      <th>Se habian cumplido las normas establecidas, en caso de estar definidas</th>\n",
              "      <th>- PROPUESTA DE ACCIONES -</th>\n",
              "      <th>Estas acciones pueden añadir riesgos a los ya existentes</th>\n",
              "      <th>1 En caso afirmativo, cual es</th>\n",
              "      <th>Se abre NC como consecuencia de esta investigacion</th>\n",
              "      <th>2 En caso afirmativo, cual es</th>\n",
              "      <th>Requiere revision de Evaluacion de Riesgos</th>\n",
              "      <th>3 En caso afirmativo, cual es</th>\n",
              "      <th>Requiere revision de alguna Instruccion de Seguridad</th>\n",
              "      <th>4 En caso afirmativo, cual es</th>\n",
              "      <th>Requiere incorporar algun aspecto en el check list de Inspecciones</th>\n",
              "      <th>5 En caso afirmativo, cual es</th>\n",
              "      <th>Requiere amonestacion verbal el empleado</th>\n",
              "      <th>6 En caso afirmativo, cual es</th>\n",
              "      <th>Bloqueado</th>\n",
              "      <th>Fecha accidente trigger</th>\n",
              "      <th>- ACTUACIONES INMEDIATAS TOMADAS -</th>\n",
              "      <th>Actuación inmediata asistencial</th>\n",
              "      <th>Actuación inmediata instalaciones</th>\n",
              "      <th>- PROPUESTA INICIAL DE MEDIDAS A PLANIFICAR -</th>\n",
              "      <th>Medida a planificar 1</th>\n",
              "      <th>Medida a planificar 2</th>\n",
              "      <th>Medida a planificar 3</th>\n",
              "      <th>Notificacion o investigacion</th>\n",
              "      <th>Modifica notificacion</th>\n",
              "      <th>Se ha dado un suceso similar (en cuanto a sus causas y consecuencias) en el último año en planta?</th>\n",
              "      <th>En caso afirmativo, cual es y como se actuó?</th>\n",
              "      <th>Tipo Tema</th>\n",
              "      <th>Acta reunión alta baja</th>\n",
              "    </tr>\n",
              "  </thead>\n",
              "  <tbody>\n",
              "    <tr>\n",
              "      <th>0</th>\n",
              "      <td>1</td>\n",
              "      <td>0.0</td>\n",
              "      <td>HS-BRGS_0001</td>\n",
              "      <td>09/03/2019</td>\n",
              "      <td>18/01/2016</td>\n",
              "      <td>2016.0</td>\n",
              "      <td>201601</td>\n",
              "      <td>2</td>\n",
              "      <td>NaN</td>\n",
              "      <td>0</td>\n",
              "      <td>Gruista LONGI008</td>\n",
              "      <td>NaN</td>\n",
              "      <td>NaN</td>\n",
              "      <td>NaN</td>\n",
              "      <td>NaN</td>\n",
              "      <td>NaN</td>\n",
              "      <td>NaN</td>\n",
              "      <td>NaN</td>\n",
              "      <td>0</td>\n",
              "      <td>NaN</td>\n",
              "      <td>NaN</td>\n",
              "      <td>NaN</td>\n",
              "      <td>NaN</td>\n",
              "      <td>NaN</td>\n",
              "      <td>NaN</td>\n",
              "      <td>NaN</td>\n",
              "      <td>NaN</td>\n",
              "      <td>NaN</td>\n",
              "      <td>NaN</td>\n",
              "      <td>NaN</td>\n",
              "      <td>NaN</td>\n",
              "      <td>NaN</td>\n",
              "      <td>NaN</td>\n",
              "      <td>Deficiente delimitación de zonas de trabajo o ...</td>\n",
              "      <td>NaN</td>\n",
              "      <td>NaN</td>\n",
              "      <td>Desconocimiento de riesgos y/o medidas prevent...</td>\n",
              "      <td>NaN</td>\n",
              "      <td>0.0</td>\n",
              "      <td>NaN</td>\n",
              "      <td>...</td>\n",
              "      <td>NaN</td>\n",
              "      <td>NaN</td>\n",
              "      <td>NaN</td>\n",
              "      <td>0.0</td>\n",
              "      <td>NaN</td>\n",
              "      <td>NaN</td>\n",
              "      <td>NaN</td>\n",
              "      <td>0.0</td>\n",
              "      <td>NaN</td>\n",
              "      <td>NaN</td>\n",
              "      <td>NaN</td>\n",
              "      <td>NaN</td>\n",
              "      <td>0.0</td>\n",
              "      <td>NaN</td>\n",
              "      <td>NaN</td>\n",
              "      <td>NaN</td>\n",
              "      <td>NaN</td>\n",
              "      <td>NaN</td>\n",
              "      <td>NaN</td>\n",
              "      <td>NaN</td>\n",
              "      <td>NaN</td>\n",
              "      <td>NaN</td>\n",
              "      <td>NaN</td>\n",
              "      <td>NaN</td>\n",
              "      <td>NaN</td>\n",
              "      <td>No</td>\n",
              "      <td>2016-01-18</td>\n",
              "      <td>0.0</td>\n",
              "      <td>NaN</td>\n",
              "      <td>NaN</td>\n",
              "      <td>0.0</td>\n",
              "      <td>NaN</td>\n",
              "      <td>NaN</td>\n",
              "      <td>NaN</td>\n",
              "      <td>No</td>\n",
              "      <td>NaN</td>\n",
              "      <td>NaN</td>\n",
              "      <td>NaN</td>\n",
              "      <td>3</td>\n",
              "      <td>NaN</td>\n",
              "    </tr>\n",
              "    <tr>\n",
              "      <th>1</th>\n",
              "      <td>10</td>\n",
              "      <td>0.0</td>\n",
              "      <td>HS-BRGS_0010</td>\n",
              "      <td>09/03/2019</td>\n",
              "      <td>19/01/2016</td>\n",
              "      <td>2016.0</td>\n",
              "      <td>201601</td>\n",
              "      <td>2</td>\n",
              "      <td>NaN</td>\n",
              "      <td>0</td>\n",
              "      <td>Gruistas</td>\n",
              "      <td>NaN</td>\n",
              "      <td>NaN</td>\n",
              "      <td>NaN</td>\n",
              "      <td>NaN</td>\n",
              "      <td>NaN</td>\n",
              "      <td>NaN</td>\n",
              "      <td>NaN</td>\n",
              "      <td>0</td>\n",
              "      <td>NaN</td>\n",
              "      <td>NaN</td>\n",
              "      <td>NaN</td>\n",
              "      <td>NaN</td>\n",
              "      <td>NaN</td>\n",
              "      <td>NaN</td>\n",
              "      <td>NaN</td>\n",
              "      <td>NaN</td>\n",
              "      <td>NaN</td>\n",
              "      <td>NaN</td>\n",
              "      <td>NaN</td>\n",
              "      <td>NaN</td>\n",
              "      <td>NaN</td>\n",
              "      <td>NaN</td>\n",
              "      <td>Presencia o manejo de elementos pesados</td>\n",
              "      <td>NaN</td>\n",
              "      <td>Puentes grúa y accesorios de elevación</td>\n",
              "      <td>Incumplimiento de Instrucciones IS u otra orde...</td>\n",
              "      <td>NaN</td>\n",
              "      <td>0.0</td>\n",
              "      <td>NaN</td>\n",
              "      <td>...</td>\n",
              "      <td>NaN</td>\n",
              "      <td>NaN</td>\n",
              "      <td>NaN</td>\n",
              "      <td>0.0</td>\n",
              "      <td>NaN</td>\n",
              "      <td>NaN</td>\n",
              "      <td>NaN</td>\n",
              "      <td>0.0</td>\n",
              "      <td>NaN</td>\n",
              "      <td>NaN</td>\n",
              "      <td>NaN</td>\n",
              "      <td>NaN</td>\n",
              "      <td>0.0</td>\n",
              "      <td>NaN</td>\n",
              "      <td>NaN</td>\n",
              "      <td>NaN</td>\n",
              "      <td>NaN</td>\n",
              "      <td>NaN</td>\n",
              "      <td>NaN</td>\n",
              "      <td>NaN</td>\n",
              "      <td>NaN</td>\n",
              "      <td>NaN</td>\n",
              "      <td>NaN</td>\n",
              "      <td>NaN</td>\n",
              "      <td>NaN</td>\n",
              "      <td>No</td>\n",
              "      <td>2016-01-19</td>\n",
              "      <td>0.0</td>\n",
              "      <td>NaN</td>\n",
              "      <td>NaN</td>\n",
              "      <td>0.0</td>\n",
              "      <td>NaN</td>\n",
              "      <td>NaN</td>\n",
              "      <td>NaN</td>\n",
              "      <td>No</td>\n",
              "      <td>NaN</td>\n",
              "      <td>NaN</td>\n",
              "      <td>NaN</td>\n",
              "      <td>3</td>\n",
              "      <td>NaN</td>\n",
              "    </tr>\n",
              "    <tr>\n",
              "      <th>2</th>\n",
              "      <td>11</td>\n",
              "      <td>0.0</td>\n",
              "      <td>HS-BRGS_0011</td>\n",
              "      <td>09/03/2019</td>\n",
              "      <td>28/01/2016</td>\n",
              "      <td>2016.0</td>\n",
              "      <td>201601</td>\n",
              "      <td>2</td>\n",
              "      <td>NaN</td>\n",
              "      <td>0</td>\n",
              "      <td>Gruista LONGI005</td>\n",
              "      <td>NaN</td>\n",
              "      <td>NaN</td>\n",
              "      <td>NaN</td>\n",
              "      <td>NaN</td>\n",
              "      <td>NaN</td>\n",
              "      <td>NaN</td>\n",
              "      <td>NaN</td>\n",
              "      <td>0</td>\n",
              "      <td>NaN</td>\n",
              "      <td>NaN</td>\n",
              "      <td>NaN</td>\n",
              "      <td>NaN</td>\n",
              "      <td>NaN</td>\n",
              "      <td>NaN</td>\n",
              "      <td>NaN</td>\n",
              "      <td>NaN</td>\n",
              "      <td>NaN</td>\n",
              "      <td>NaN</td>\n",
              "      <td>NaN</td>\n",
              "      <td>NaN</td>\n",
              "      <td>NaN</td>\n",
              "      <td>NaN</td>\n",
              "      <td>Movimientos intempestivos de la máquina</td>\n",
              "      <td>NaN</td>\n",
              "      <td>Puentes grúa y accesorios de elevación</td>\n",
              "      <td>Ninguno</td>\n",
              "      <td>NaN</td>\n",
              "      <td>0.0</td>\n",
              "      <td>NaN</td>\n",
              "      <td>...</td>\n",
              "      <td>NaN</td>\n",
              "      <td>NaN</td>\n",
              "      <td>NaN</td>\n",
              "      <td>0.0</td>\n",
              "      <td>NaN</td>\n",
              "      <td>NaN</td>\n",
              "      <td>NaN</td>\n",
              "      <td>0.0</td>\n",
              "      <td>NaN</td>\n",
              "      <td>NaN</td>\n",
              "      <td>NaN</td>\n",
              "      <td>NaN</td>\n",
              "      <td>0.0</td>\n",
              "      <td>NaN</td>\n",
              "      <td>NaN</td>\n",
              "      <td>NaN</td>\n",
              "      <td>NaN</td>\n",
              "      <td>NaN</td>\n",
              "      <td>NaN</td>\n",
              "      <td>NaN</td>\n",
              "      <td>NaN</td>\n",
              "      <td>NaN</td>\n",
              "      <td>NaN</td>\n",
              "      <td>NaN</td>\n",
              "      <td>NaN</td>\n",
              "      <td>No</td>\n",
              "      <td>2016-01-28</td>\n",
              "      <td>0.0</td>\n",
              "      <td>NaN</td>\n",
              "      <td>NaN</td>\n",
              "      <td>0.0</td>\n",
              "      <td>NaN</td>\n",
              "      <td>NaN</td>\n",
              "      <td>NaN</td>\n",
              "      <td>No</td>\n",
              "      <td>NaN</td>\n",
              "      <td>NaN</td>\n",
              "      <td>NaN</td>\n",
              "      <td>3</td>\n",
              "      <td>NaN</td>\n",
              "    </tr>\n",
              "    <tr>\n",
              "      <th>3</th>\n",
              "      <td>12</td>\n",
              "      <td>0.0</td>\n",
              "      <td>HS-BRGS_0012</td>\n",
              "      <td>09/03/2019</td>\n",
              "      <td>29/01/2016</td>\n",
              "      <td>2016.0</td>\n",
              "      <td>201601</td>\n",
              "      <td>2</td>\n",
              "      <td>NaN</td>\n",
              "      <td>0</td>\n",
              "      <td>Gruista PRENSAS</td>\n",
              "      <td>NaN</td>\n",
              "      <td>NaN</td>\n",
              "      <td>NaN</td>\n",
              "      <td>NaN</td>\n",
              "      <td>NaN</td>\n",
              "      <td>NaN</td>\n",
              "      <td>NaN</td>\n",
              "      <td>0</td>\n",
              "      <td>NaN</td>\n",
              "      <td>NaN</td>\n",
              "      <td>NaN</td>\n",
              "      <td>NaN</td>\n",
              "      <td>NaN</td>\n",
              "      <td>NaN</td>\n",
              "      <td>NaN</td>\n",
              "      <td>NaN</td>\n",
              "      <td>NaN</td>\n",
              "      <td>NaN</td>\n",
              "      <td>NaN</td>\n",
              "      <td>NaN</td>\n",
              "      <td>NaN</td>\n",
              "      <td>NaN</td>\n",
              "      <td>NaN</td>\n",
              "      <td>NaN</td>\n",
              "      <td>Bobinas, rollos y producto terminado</td>\n",
              "      <td>Cargas mal colocadas o elevadas o transportadas</td>\n",
              "      <td>NaN</td>\n",
              "      <td>0.0</td>\n",
              "      <td>NaN</td>\n",
              "      <td>...</td>\n",
              "      <td>NaN</td>\n",
              "      <td>NaN</td>\n",
              "      <td>NaN</td>\n",
              "      <td>0.0</td>\n",
              "      <td>NaN</td>\n",
              "      <td>NaN</td>\n",
              "      <td>NaN</td>\n",
              "      <td>0.0</td>\n",
              "      <td>NaN</td>\n",
              "      <td>NaN</td>\n",
              "      <td>NaN</td>\n",
              "      <td>NaN</td>\n",
              "      <td>0.0</td>\n",
              "      <td>NaN</td>\n",
              "      <td>NaN</td>\n",
              "      <td>NaN</td>\n",
              "      <td>NaN</td>\n",
              "      <td>NaN</td>\n",
              "      <td>NaN</td>\n",
              "      <td>NaN</td>\n",
              "      <td>NaN</td>\n",
              "      <td>NaN</td>\n",
              "      <td>NaN</td>\n",
              "      <td>NaN</td>\n",
              "      <td>NaN</td>\n",
              "      <td>No</td>\n",
              "      <td>2016-01-29</td>\n",
              "      <td>0.0</td>\n",
              "      <td>NaN</td>\n",
              "      <td>NaN</td>\n",
              "      <td>0.0</td>\n",
              "      <td>NaN</td>\n",
              "      <td>NaN</td>\n",
              "      <td>NaN</td>\n",
              "      <td>No</td>\n",
              "      <td>NaN</td>\n",
              "      <td>NaN</td>\n",
              "      <td>NaN</td>\n",
              "      <td>3</td>\n",
              "      <td>NaN</td>\n",
              "    </tr>\n",
              "    <tr>\n",
              "      <th>4</th>\n",
              "      <td>13</td>\n",
              "      <td>0.0</td>\n",
              "      <td>HS-BRGS_0013</td>\n",
              "      <td>09/03/2019</td>\n",
              "      <td>04/02/2016</td>\n",
              "      <td>2016.0</td>\n",
              "      <td>201602</td>\n",
              "      <td>2</td>\n",
              "      <td>NaN</td>\n",
              "      <td>0</td>\n",
              "      <td>EMPAQ005</td>\n",
              "      <td>NaN</td>\n",
              "      <td>NaN</td>\n",
              "      <td>NaN</td>\n",
              "      <td>NaN</td>\n",
              "      <td>NaN</td>\n",
              "      <td>NaN</td>\n",
              "      <td>NaN</td>\n",
              "      <td>0</td>\n",
              "      <td>NaN</td>\n",
              "      <td>NaN</td>\n",
              "      <td>NaN</td>\n",
              "      <td>NaN</td>\n",
              "      <td>NaN</td>\n",
              "      <td>NaN</td>\n",
              "      <td>NaN</td>\n",
              "      <td>NaN</td>\n",
              "      <td>NaN</td>\n",
              "      <td>NaN</td>\n",
              "      <td>NaN</td>\n",
              "      <td>NaN</td>\n",
              "      <td>NaN</td>\n",
              "      <td>NaN</td>\n",
              "      <td>Deficiente visibilidad del punto de peligro</td>\n",
              "      <td>NaN</td>\n",
              "      <td>NaN</td>\n",
              "      <td>Accionar el equipo sin supervisar la maniobra</td>\n",
              "      <td>NaN</td>\n",
              "      <td>0.0</td>\n",
              "      <td>NaN</td>\n",
              "      <td>...</td>\n",
              "      <td>NaN</td>\n",
              "      <td>NaN</td>\n",
              "      <td>NaN</td>\n",
              "      <td>0.0</td>\n",
              "      <td>NaN</td>\n",
              "      <td>NaN</td>\n",
              "      <td>NaN</td>\n",
              "      <td>0.0</td>\n",
              "      <td>NaN</td>\n",
              "      <td>NaN</td>\n",
              "      <td>NaN</td>\n",
              "      <td>NaN</td>\n",
              "      <td>0.0</td>\n",
              "      <td>NaN</td>\n",
              "      <td>NaN</td>\n",
              "      <td>NaN</td>\n",
              "      <td>NaN</td>\n",
              "      <td>NaN</td>\n",
              "      <td>NaN</td>\n",
              "      <td>NaN</td>\n",
              "      <td>NaN</td>\n",
              "      <td>NaN</td>\n",
              "      <td>NaN</td>\n",
              "      <td>NaN</td>\n",
              "      <td>NaN</td>\n",
              "      <td>No</td>\n",
              "      <td>2016-02-04</td>\n",
              "      <td>0.0</td>\n",
              "      <td>NaN</td>\n",
              "      <td>NaN</td>\n",
              "      <td>0.0</td>\n",
              "      <td>NaN</td>\n",
              "      <td>NaN</td>\n",
              "      <td>NaN</td>\n",
              "      <td>No</td>\n",
              "      <td>NaN</td>\n",
              "      <td>NaN</td>\n",
              "      <td>NaN</td>\n",
              "      <td>3</td>\n",
              "      <td>NaN</td>\n",
              "    </tr>\n",
              "  </tbody>\n",
              "</table>\n",
              "<p>5 rows × 106 columns</p>\n",
              "</div>"
            ],
            "text/plain": [
              "   ID  -  DATOS DEL SUCESO -  ... Tipo Tema Acta reunión alta baja\n",
              "0   1                    0.0  ...         3                    NaN\n",
              "1  10                    0.0  ...         3                    NaN\n",
              "2  11                    0.0  ...         3                    NaN\n",
              "3  12                    0.0  ...         3                    NaN\n",
              "4  13                    0.0  ...         3                    NaN\n",
              "\n",
              "[5 rows x 106 columns]"
            ]
          },
          "metadata": {
            "tags": []
          },
          "execution_count": 3
        }
      ]
    },
    {
      "cell_type": "code",
      "metadata": {
        "colab": {
          "base_uri": "https://localhost:8080/"
        },
        "id": "DRwcaS5ugdd9",
        "outputId": "4c093361-e135-472e-da90-34b042f93781"
      },
      "source": [
        "accidentabilidad.dtypes"
      ],
      "execution_count": 217,
      "outputs": [
        {
          "output_type": "execute_result",
          "data": {
            "text/plain": [
              "ID                                                                                                     int64\n",
              "-  DATOS DEL SUCESO -                                                                                float64\n",
              "Codigo accidentado                                                                                    object\n",
              "Fecha introduccion datos                                                                              object\n",
              "Fecha accidente                                                                                       object\n",
              "                                                                                                      ...   \n",
              "Modifica notificacion                                                                                 object\n",
              "Se ha dado un suceso similar (en cuanto a sus causas y consecuencias) en el último año en planta?     object\n",
              "En caso afirmativo, cual es y como se actuó?                                                          object\n",
              "Tipo Tema                                                                                              int64\n",
              "Acta reunión alta baja                                                                               float64\n",
              "Length: 106, dtype: object"
            ]
          },
          "metadata": {
            "tags": []
          },
          "execution_count": 217
        }
      ]
    },
    {
      "cell_type": "code",
      "metadata": {
        "colab": {
          "base_uri": "https://localhost:8080/"
        },
        "id": "Y8a9nQobERWd",
        "outputId": "43240e60-44aa-42cf-b1fc-ba2d3fa97077"
      },
      "source": [
        "len(accidentabilidad) ##Our main table has 106 columns and 7797 rows"
      ],
      "execution_count": 4,
      "outputs": [
        {
          "output_type": "execute_result",
          "data": {
            "text/plain": [
              "7797"
            ]
          },
          "metadata": {
            "tags": []
          },
          "execution_count": 4
        }
      ]
    },
    {
      "cell_type": "markdown",
      "metadata": {
        "id": "axQNoh23EioR"
      },
      "source": [
        "### Accident rate table\n",
        "\n",
        "This table will be our main data source. It contains all the accidents occur on a company during several years. Each row represent an accident occurr with one or more people involved. \n",
        "\n",
        "The dataframe shape is 106x7797, this means we have a total number of accidents equal to our table length\n",
        "\n",
        "Let's explore this data to get some information"
      ]
    },
    {
      "cell_type": "code",
      "metadata": {
        "colab": {
          "base_uri": "https://localhost:8080/"
        },
        "id": "jzrOsckzFgio",
        "outputId": "a2581109-54b2-41b5-d2d4-57bff7fc1092"
      },
      "source": [
        "accidentabilidad.columns"
      ],
      "execution_count": 5,
      "outputs": [
        {
          "output_type": "execute_result",
          "data": {
            "text/plain": [
              "Index(['ID', '-  DATOS DEL SUCESO -', 'Codigo accidentado',\n",
              "       'Fecha introduccion datos', 'Fecha accidente', 'Año',\n",
              "       'Codigo fecha accidente', 'Planta', 'Código empleado', 'Supervisor',\n",
              "       ...\n",
              "       '- PROPUESTA INICIAL DE MEDIDAS A PLANIFICAR -',\n",
              "       'Medida a planificar 1', 'Medida a planificar 2',\n",
              "       'Medida a planificar 3', 'Notificacion o investigacion',\n",
              "       'Modifica notificacion',\n",
              "       'Se ha dado un suceso similar (en cuanto a sus causas y consecuencias) en el último año en planta?',\n",
              "       'En caso afirmativo, cual es y como se actuó?', 'Tipo Tema',\n",
              "       'Acta reunión alta baja'],\n",
              "      dtype='object', length=106)"
            ]
          },
          "metadata": {
            "tags": []
          },
          "execution_count": 5
        }
      ]
    },
    {
      "cell_type": "code",
      "metadata": {
        "id": "vTYmHKFpKlzc"
      },
      "source": [
        ""
      ],
      "execution_count": 5,
      "outputs": []
    },
    {
      "cell_type": "code",
      "metadata": {
        "colab": {
          "base_uri": "https://localhost:8080/"
        },
        "id": "jQ8HSREYFbEl",
        "outputId": "940122d6-9bc5-44c3-81d0-0e6bfae7eb69"
      },
      "source": [
        "## lets check how many years we have registered\n",
        "\n",
        "accidentabilidad['Año'].unique()\n",
        "\n",
        "## we have values from 2016 to 2021, as we can see we have some values without year. To be more clear we will use only accidents with year\n",
        "\n"
      ],
      "execution_count": 6,
      "outputs": [
        {
          "output_type": "execute_result",
          "data": {
            "text/plain": [
              "array([2016., 2017., 2018.,   nan, 2015., 2019., 2020., 2021.])"
            ]
          },
          "metadata": {
            "tags": []
          },
          "execution_count": 6
        }
      ]
    },
    {
      "cell_type": "code",
      "metadata": {
        "colab": {
          "base_uri": "https://localhost:8080/"
        },
        "id": "De99ebiqF1sB",
        "outputId": "ee545994-5632-4886-f64c-6645eba5b068"
      },
      "source": [
        "# Nº rows without year\n",
        "\n",
        "len(accidentabilidad[accidentabilidad['Año'].isnull()])"
      ],
      "execution_count": 7,
      "outputs": [
        {
          "output_type": "execute_result",
          "data": {
            "text/plain": [
              "282"
            ]
          },
          "metadata": {
            "tags": []
          },
          "execution_count": 7
        }
      ]
    },
    {
      "cell_type": "code",
      "metadata": {
        "colab": {
          "base_uri": "https://localhost:8080/",
          "height": 284
        },
        "id": "JLmAifYcGjg1",
        "outputId": "b56f7074-3930-441c-e3dc-142c914b97ca"
      },
      "source": [
        "## checking nº accidents per year\n",
        "\n",
        "year_df = accidentabilidad[['Año','Codigo accidentado']]\n",
        "\n",
        "year_df = year_df.groupby('Año').agg('count')\n",
        "year_df\n"
      ],
      "execution_count": 8,
      "outputs": [
        {
          "output_type": "execute_result",
          "data": {
            "text/html": [
              "<div>\n",
              "<style scoped>\n",
              "    .dataframe tbody tr th:only-of-type {\n",
              "        vertical-align: middle;\n",
              "    }\n",
              "\n",
              "    .dataframe tbody tr th {\n",
              "        vertical-align: top;\n",
              "    }\n",
              "\n",
              "    .dataframe thead th {\n",
              "        text-align: right;\n",
              "    }\n",
              "</style>\n",
              "<table border=\"1\" class=\"dataframe\">\n",
              "  <thead>\n",
              "    <tr style=\"text-align: right;\">\n",
              "      <th></th>\n",
              "      <th>Codigo accidentado</th>\n",
              "    </tr>\n",
              "    <tr>\n",
              "      <th>Año</th>\n",
              "      <th></th>\n",
              "    </tr>\n",
              "  </thead>\n",
              "  <tbody>\n",
              "    <tr>\n",
              "      <th>2015.0</th>\n",
              "      <td>202</td>\n",
              "    </tr>\n",
              "    <tr>\n",
              "      <th>2016.0</th>\n",
              "      <td>1335</td>\n",
              "    </tr>\n",
              "    <tr>\n",
              "      <th>2017.0</th>\n",
              "      <td>1203</td>\n",
              "    </tr>\n",
              "    <tr>\n",
              "      <th>2018.0</th>\n",
              "      <td>1532</td>\n",
              "    </tr>\n",
              "    <tr>\n",
              "      <th>2019.0</th>\n",
              "      <td>1526</td>\n",
              "    </tr>\n",
              "    <tr>\n",
              "      <th>2020.0</th>\n",
              "      <td>1122</td>\n",
              "    </tr>\n",
              "    <tr>\n",
              "      <th>2021.0</th>\n",
              "      <td>595</td>\n",
              "    </tr>\n",
              "  </tbody>\n",
              "</table>\n",
              "</div>"
            ],
            "text/plain": [
              "        Codigo accidentado\n",
              "Año                       \n",
              "2015.0                 202\n",
              "2016.0                1335\n",
              "2017.0                1203\n",
              "2018.0                1532\n",
              "2019.0                1526\n",
              "2020.0                1122\n",
              "2021.0                 595"
            ]
          },
          "metadata": {
            "tags": []
          },
          "execution_count": 8
        }
      ]
    },
    {
      "cell_type": "code",
      "metadata": {
        "id": "skMgNW-LIVeL"
      },
      "source": [
        "year_df = year_df.reset_index()\n",
        "\n"
      ],
      "execution_count": 9,
      "outputs": []
    },
    {
      "cell_type": "code",
      "metadata": {
        "colab": {
          "base_uri": "https://localhost:8080/",
          "height": 281
        },
        "id": "LVP9PEZ8HtHo",
        "outputId": "322898e6-5faf-44b8-fd55-6439d676a91e"
      },
      "source": [
        "import matplotlib.pyplot as plt\n",
        "from matplotlib import pyplot\n",
        "\n",
        "plt.plot(year_df['Año'], year_df['Codigo accidentado'])\n",
        "plt.title('Nº accidents by year')\n",
        "pyplot.show()\n"
      ],
      "execution_count": 10,
      "outputs": [
        {
          "output_type": "display_data",
          "data": {
            "image/png": "[encoded data removed]",
            "text/plain": [
              "<Figure size 432x288 with 1 Axes>"
            ]
          },
          "metadata": {
            "tags": [],
            "needs_background": "light"
          }
        }
      ]
    },
    {
      "cell_type": "code",
      "metadata": {
        "id": "xA90e3qRXrSW"
      },
      "source": [
        "\n",
        "year_df = accidentabilidad[['Año','Codigo accidentado', 'Tipo accidente']]\n",
        "year_df = year_df.reset_index()\n",
        "\n",
        "year_df.drop(columns={'index'}, inplace=True)"
      ],
      "execution_count": 11,
      "outputs": []
    },
    {
      "cell_type": "code",
      "metadata": {
        "id": "UumVPh_ZYAQv"
      },
      "source": [
        "year_df['Año'] = year_df['Año'].fillna(0).apply(int)"
      ],
      "execution_count": 12,
      "outputs": []
    },
    {
      "cell_type": "code",
      "metadata": {
        "colab": {
          "base_uri": "https://localhost:8080/",
          "height": 295
        },
        "id": "rmagULOBYTek",
        "outputId": "82f0b03d-463f-4edd-df1a-9720047a2ee4"
      },
      "source": [
        "import seaborn as sns\n",
        "\n",
        "\n",
        "ax = sns.countplot(x=\"Año\", hue = 'Tipo accidente', data=year_df)\n",
        "ax.set_title('Nº of accidents by type')\n",
        "plt.show()"
      ],
      "execution_count": 13,
      "outputs": [
        {
          "output_type": "display_data",
          "data": {
            "image/png": "[encoded data removed]",
            "text/plain": [
              "<Figure size 432x288 with 1 Axes>"
            ]
          },
          "metadata": {
            "tags": [],
            "needs_background": "light"
          }
        }
      ]
    },
    {
      "cell_type": "markdown",
      "metadata": {
        "id": "j0mVfw67YjzU"
      },
      "source": [
        "On the above chart we can observe clearly an ascending tendency until 2019. From 2019 to present the accidents start to descent greatly.\n",
        "\n",
        "We are going to check the tendency over the years with the nº people involved in each accident"
      ]
    },
    {
      "cell_type": "code",
      "metadata": {
        "colab": {
          "base_uri": "https://localhost:8080/",
          "height": 402
        },
        "id": "94TsTvTcGVkf",
        "outputId": "e38d6d36-6ca4-45f8-ea5c-f73728202a5e"
      },
      "source": [
        "people_involved = accidentabilidad[['Año', 'Numero personas implicadas']]\n",
        "people_involved\n"
      ],
      "execution_count": 14,
      "outputs": [
        {
          "output_type": "execute_result",
          "data": {
            "text/html": [
              "<div>\n",
              "<style scoped>\n",
              "    .dataframe tbody tr th:only-of-type {\n",
              "        vertical-align: middle;\n",
              "    }\n",
              "\n",
              "    .dataframe tbody tr th {\n",
              "        vertical-align: top;\n",
              "    }\n",
              "\n",
              "    .dataframe thead th {\n",
              "        text-align: right;\n",
              "    }\n",
              "</style>\n",
              "<table border=\"1\" class=\"dataframe\">\n",
              "  <thead>\n",
              "    <tr style=\"text-align: right;\">\n",
              "      <th></th>\n",
              "      <th>Año</th>\n",
              "      <th>Numero personas implicadas</th>\n",
              "    </tr>\n",
              "  </thead>\n",
              "  <tbody>\n",
              "    <tr>\n",
              "      <th>0</th>\n",
              "      <td>2016.0</td>\n",
              "      <td>0</td>\n",
              "    </tr>\n",
              "    <tr>\n",
              "      <th>1</th>\n",
              "      <td>2016.0</td>\n",
              "      <td>0</td>\n",
              "    </tr>\n",
              "    <tr>\n",
              "      <th>2</th>\n",
              "      <td>2016.0</td>\n",
              "      <td>0</td>\n",
              "    </tr>\n",
              "    <tr>\n",
              "      <th>3</th>\n",
              "      <td>2016.0</td>\n",
              "      <td>0</td>\n",
              "    </tr>\n",
              "    <tr>\n",
              "      <th>4</th>\n",
              "      <td>2016.0</td>\n",
              "      <td>0</td>\n",
              "    </tr>\n",
              "    <tr>\n",
              "      <th>...</th>\n",
              "      <td>...</td>\n",
              "      <td>...</td>\n",
              "    </tr>\n",
              "    <tr>\n",
              "      <th>7792</th>\n",
              "      <td>2021.0</td>\n",
              "      <td>1</td>\n",
              "    </tr>\n",
              "    <tr>\n",
              "      <th>7793</th>\n",
              "      <td>2021.0</td>\n",
              "      <td>1</td>\n",
              "    </tr>\n",
              "    <tr>\n",
              "      <th>7794</th>\n",
              "      <td>2021.0</td>\n",
              "      <td>1</td>\n",
              "    </tr>\n",
              "    <tr>\n",
              "      <th>7795</th>\n",
              "      <td>2021.0</td>\n",
              "      <td>1</td>\n",
              "    </tr>\n",
              "    <tr>\n",
              "      <th>7796</th>\n",
              "      <td>2021.0</td>\n",
              "      <td>1</td>\n",
              "    </tr>\n",
              "  </tbody>\n",
              "</table>\n",
              "<p>7797 rows × 2 columns</p>\n",
              "</div>"
            ],
            "text/plain": [
              "         Año  Numero personas implicadas\n",
              "0     2016.0                           0\n",
              "1     2016.0                           0\n",
              "2     2016.0                           0\n",
              "3     2016.0                           0\n",
              "4     2016.0                           0\n",
              "...      ...                         ...\n",
              "7792  2021.0                           1\n",
              "7793  2021.0                           1\n",
              "7794  2021.0                           1\n",
              "7795  2021.0                           1\n",
              "7796  2021.0                           1\n",
              "\n",
              "[7797 rows x 2 columns]"
            ]
          },
          "metadata": {
            "tags": []
          },
          "execution_count": 14
        }
      ]
    },
    {
      "cell_type": "code",
      "metadata": {
        "colab": {
          "base_uri": "https://localhost:8080/"
        },
        "id": "hnred9fiGfZ-",
        "outputId": "09ed4647-79d6-4b03-f393-734aac48d7d1"
      },
      "source": [
        "people_involved['Año'] = people_involved['Año'].fillna(0).apply(int)"
      ],
      "execution_count": 15,
      "outputs": [
        {
          "output_type": "stream",
          "text": [
            "/usr/local/lib/python3.7/dist-packages/ipykernel_launcher.py:1: SettingWithCopyWarning: \n",
            "A value is trying to be set on a copy of a slice from a DataFrame.\n",
            "Try using .loc[row_indexer,col_indexer] = value instead\n",
            "\n",
            "See the caveats in the documentation: https://pandas.pydata.org/pandas-docs/stable/user_guide/indexing.html#returning-a-view-versus-a-copy\n",
            "  \"\"\"Entry point for launching an IPython kernel.\n"
          ],
          "name": "stderr"
        }
      ]
    },
    {
      "cell_type": "code",
      "metadata": {
        "id": "5yDoceQlGvMW"
      },
      "source": [
        "people_involved = people_involved.groupby('Año').agg('sum')"
      ],
      "execution_count": 16,
      "outputs": []
    },
    {
      "cell_type": "code",
      "metadata": {
        "colab": {
          "base_uri": "https://localhost:8080/",
          "height": 284
        },
        "id": "Vo1g80DaHL4q",
        "outputId": "3600285e-7c7d-4d7a-b9cd-1fe0c1df7d36"
      },
      "source": [
        "people_involved = people_involved.reset_index()\n",
        "people_involved.sort_values('Numero personas implicadas', ascending=False)"
      ],
      "execution_count": 17,
      "outputs": [
        {
          "output_type": "execute_result",
          "data": {
            "text/html": [
              "<div>\n",
              "<style scoped>\n",
              "    .dataframe tbody tr th:only-of-type {\n",
              "        vertical-align: middle;\n",
              "    }\n",
              "\n",
              "    .dataframe tbody tr th {\n",
              "        vertical-align: top;\n",
              "    }\n",
              "\n",
              "    .dataframe thead th {\n",
              "        text-align: right;\n",
              "    }\n",
              "</style>\n",
              "<table border=\"1\" class=\"dataframe\">\n",
              "  <thead>\n",
              "    <tr style=\"text-align: right;\">\n",
              "      <th></th>\n",
              "      <th>Año</th>\n",
              "      <th>Numero personas implicadas</th>\n",
              "    </tr>\n",
              "  </thead>\n",
              "  <tbody>\n",
              "    <tr>\n",
              "      <th>4</th>\n",
              "      <td>2018</td>\n",
              "      <td>854389</td>\n",
              "    </tr>\n",
              "    <tr>\n",
              "      <th>6</th>\n",
              "      <td>2020</td>\n",
              "      <td>351529</td>\n",
              "    </tr>\n",
              "    <tr>\n",
              "      <th>7</th>\n",
              "      <td>2021</td>\n",
              "      <td>40878</td>\n",
              "    </tr>\n",
              "    <tr>\n",
              "      <th>5</th>\n",
              "      <td>2019</td>\n",
              "      <td>1590</td>\n",
              "    </tr>\n",
              "    <tr>\n",
              "      <th>3</th>\n",
              "      <td>2017</td>\n",
              "      <td>310</td>\n",
              "    </tr>\n",
              "    <tr>\n",
              "      <th>0</th>\n",
              "      <td>0</td>\n",
              "      <td>164</td>\n",
              "    </tr>\n",
              "    <tr>\n",
              "      <th>2</th>\n",
              "      <td>2016</td>\n",
              "      <td>63</td>\n",
              "    </tr>\n",
              "    <tr>\n",
              "      <th>1</th>\n",
              "      <td>2015</td>\n",
              "      <td>32</td>\n",
              "    </tr>\n",
              "  </tbody>\n",
              "</table>\n",
              "</div>"
            ],
            "text/plain": [
              "    Año  Numero personas implicadas\n",
              "4  2018                      854389\n",
              "6  2020                      351529\n",
              "7  2021                       40878\n",
              "5  2019                        1590\n",
              "3  2017                         310\n",
              "0     0                         164\n",
              "2  2016                          63\n",
              "1  2015                          32"
            ]
          },
          "metadata": {
            "tags": []
          },
          "execution_count": 17
        }
      ]
    },
    {
      "cell_type": "code",
      "metadata": {
        "id": "OygtvD8FHXO6"
      },
      "source": [
        "x = people_involved['Año'].astype(str)\n",
        "y = people_involved['Numero personas implicadas']"
      ],
      "execution_count": 18,
      "outputs": []
    },
    {
      "cell_type": "code",
      "metadata": {
        "colab": {
          "base_uri": "https://localhost:8080/",
          "height": 295
        },
        "id": "-DX5uDp7GrSR",
        "outputId": "bb0361be-7b64-4554-dae0-e57278472343"
      },
      "source": [
        "plt.plot(x,y)\n",
        "plt.title('Nº of people involved in accidents over the years')\n",
        "plt.xlabel('Year')\n",
        "plt.ylabel('People involved')\n",
        "\n",
        "plt.show()"
      ],
      "execution_count": 19,
      "outputs": [
        {
          "output_type": "display_data",
          "data": {
            "image/png": "[encoded data removed]",
            "text/plain": [
              "<Figure size 432x288 with 1 Axes>"
            ]
          },
          "metadata": {
            "tags": [],
            "needs_background": "light"
          }
        }
      ]
    },
    {
      "cell_type": "code",
      "metadata": {
        "id": "jc7th-qKITQh"
      },
      "source": [
        "n_accidents = year_df.groupby('Año').agg('count')\n",
        "n_accidents.drop(columns={'Tipo accidente'},inplace=True)"
      ],
      "execution_count": 20,
      "outputs": []
    },
    {
      "cell_type": "code",
      "metadata": {
        "id": "2fqMImNgIj0X"
      },
      "source": [
        "n_accidents.rename(columns={'Codigo accidentado':'Count'}, inplace=True)"
      ],
      "execution_count": 21,
      "outputs": []
    },
    {
      "cell_type": "code",
      "metadata": {
        "colab": {
          "base_uri": "https://localhost:8080/",
          "height": 195
        },
        "id": "94w_QWvYIj9d",
        "outputId": "f1ba12a2-3d7b-4f0c-dc23-62f6b1cc4d52"
      },
      "source": [
        "n_accidents = n_accidents.reset_index()\n",
        "n_accidents.head()"
      ],
      "execution_count": 22,
      "outputs": [
        {
          "output_type": "execute_result",
          "data": {
            "text/html": [
              "<div>\n",
              "<style scoped>\n",
              "    .dataframe tbody tr th:only-of-type {\n",
              "        vertical-align: middle;\n",
              "    }\n",
              "\n",
              "    .dataframe tbody tr th {\n",
              "        vertical-align: top;\n",
              "    }\n",
              "\n",
              "    .dataframe thead th {\n",
              "        text-align: right;\n",
              "    }\n",
              "</style>\n",
              "<table border=\"1\" class=\"dataframe\">\n",
              "  <thead>\n",
              "    <tr style=\"text-align: right;\">\n",
              "      <th></th>\n",
              "      <th>Año</th>\n",
              "      <th>Count</th>\n",
              "    </tr>\n",
              "  </thead>\n",
              "  <tbody>\n",
              "    <tr>\n",
              "      <th>0</th>\n",
              "      <td>0</td>\n",
              "      <td>282</td>\n",
              "    </tr>\n",
              "    <tr>\n",
              "      <th>1</th>\n",
              "      <td>2015</td>\n",
              "      <td>202</td>\n",
              "    </tr>\n",
              "    <tr>\n",
              "      <th>2</th>\n",
              "      <td>2016</td>\n",
              "      <td>1335</td>\n",
              "    </tr>\n",
              "    <tr>\n",
              "      <th>3</th>\n",
              "      <td>2017</td>\n",
              "      <td>1203</td>\n",
              "    </tr>\n",
              "    <tr>\n",
              "      <th>4</th>\n",
              "      <td>2018</td>\n",
              "      <td>1532</td>\n",
              "    </tr>\n",
              "  </tbody>\n",
              "</table>\n",
              "</div>"
            ],
            "text/plain": [
              "    Año  Count\n",
              "0     0    282\n",
              "1  2015    202\n",
              "2  2016   1335\n",
              "3  2017   1203\n",
              "4  2018   1532"
            ]
          },
          "metadata": {
            "tags": []
          },
          "execution_count": 22
        }
      ]
    },
    {
      "cell_type": "code",
      "metadata": {
        "id": "6nG-0-3qI4rW"
      },
      "source": [
        "x2= n_accidents['Año'].astype(str)\n",
        "y2=n_accidents['Count'].astype(int)"
      ],
      "execution_count": 23,
      "outputs": []
    },
    {
      "cell_type": "markdown",
      "metadata": {
        "id": "6JxKqhnKKjwg"
      },
      "source": [
        "As we can see on the charts before the number of accidents has been more stable than the number of accidents. It seems that although the nº of accidents in 2019 has suffered a huge decrease on the nº of accidents the number of people involved in a accident has been stable comparing to 2018 where we can see a peek on the nº"
      ]
    },
    {
      "cell_type": "code",
      "metadata": {
        "colab": {
          "base_uri": "https://localhost:8080/",
          "height": 311
        },
        "id": "TcO9OPMRI3ES",
        "outputId": "989246d7-cda1-41a7-d638-a2e43083156d"
      },
      "source": [
        "\n",
        "\n",
        "fig, axs = plt.subplots(2)\n",
        "fig.suptitle('Nº of people involved in accidents over the years')\n",
        "axs[0].plot(x, y)\n",
        "axs[1].plot(x2, y2)"
      ],
      "execution_count": 24,
      "outputs": [
        {
          "output_type": "execute_result",
          "data": {
            "text/plain": [
              "[<matplotlib.lines.Line2D at 0x7f97196f7210>]"
            ]
          },
          "metadata": {
            "tags": []
          },
          "execution_count": 24
        },
        {
          "output_type": "display_data",
          "data": {
            "image/png": "[encoded data removed]",
            "text/plain": [
              "<Figure size 432x288 with 2 Axes>"
            ]
          },
          "metadata": {
            "tags": [],
            "needs_background": "light"
          }
        }
      ]
    },
    {
      "cell_type": "markdown",
      "metadata": {
        "id": "S8HEhJ2LGMOP"
      },
      "source": [
        "Lets check which positions have been involved in an accident\n"
      ]
    },
    {
      "cell_type": "code",
      "metadata": {
        "colab": {
          "base_uri": "https://localhost:8080/"
        },
        "id": "trraCajHERZX",
        "outputId": "951fa7cf-a1e2-4a68-8b94-275362aea8ca"
      },
      "source": [
        "\n",
        "positions = accidentabilidad['Puesto habitual de trabajo'].unique()\n",
        "\n",
        "positions"
      ],
      "execution_count": 25,
      "outputs": [
        {
          "output_type": "execute_result",
          "data": {
            "text/plain": [
              "array(['Gruista LONGI008', 'Gruistas', 'Gruista LONGI005', ...,\n",
              "       'Raw Material and Fitter Operator', 'Mechanical Maintenance',\n",
              "       'press operator '], dtype=object)"
            ]
          },
          "metadata": {
            "tags": []
          },
          "execution_count": 25
        }
      ]
    },
    {
      "cell_type": "code",
      "metadata": {
        "colab": {
          "base_uri": "https://localhost:8080/"
        },
        "id": "kGbXKvEfGWrU",
        "outputId": "7731601f-cbb4-4d2d-80f6-705387a2e0fc"
      },
      "source": [
        "len(positions) ##total number of different positions involved in at least one accident\n"
      ],
      "execution_count": 26,
      "outputs": [
        {
          "output_type": "execute_result",
          "data": {
            "text/plain": [
              "1449"
            ]
          },
          "metadata": {
            "tags": []
          },
          "execution_count": 26
        }
      ]
    },
    {
      "cell_type": "code",
      "metadata": {
        "id": "oDkvFEvpERdO"
      },
      "source": [
        "position_df = accidentabilidad[['Codigo accidentado', 'Puesto habitual de trabajo']]\n",
        "position_df = position_df.groupby(['Puesto habitual de trabajo' ]).agg('count')"
      ],
      "execution_count": 27,
      "outputs": []
    },
    {
      "cell_type": "code",
      "metadata": {
        "id": "8Gk5sSe_LbDJ"
      },
      "source": [
        "position_df = position_df.reset_index()"
      ],
      "execution_count": 28,
      "outputs": []
    },
    {
      "cell_type": "code",
      "metadata": {
        "colab": {
          "base_uri": "https://localhost:8080/",
          "height": 195
        },
        "id": "wRD9qvy2ERft",
        "outputId": "a943ffea-a360-4661-ab31-124573241932"
      },
      "source": [
        "position_df.rename(columns={'Codigo accidentado':'Count'}, inplace=True)\n",
        "position_df.head()"
      ],
      "execution_count": 29,
      "outputs": [
        {
          "output_type": "execute_result",
          "data": {
            "text/html": [
              "<div>\n",
              "<style scoped>\n",
              "    .dataframe tbody tr th:only-of-type {\n",
              "        vertical-align: middle;\n",
              "    }\n",
              "\n",
              "    .dataframe tbody tr th {\n",
              "        vertical-align: top;\n",
              "    }\n",
              "\n",
              "    .dataframe thead th {\n",
              "        text-align: right;\n",
              "    }\n",
              "</style>\n",
              "<table border=\"1\" class=\"dataframe\">\n",
              "  <thead>\n",
              "    <tr style=\"text-align: right;\">\n",
              "      <th></th>\n",
              "      <th>Puesto habitual de trabajo</th>\n",
              "      <th>Count</th>\n",
              "    </tr>\n",
              "  </thead>\n",
              "  <tbody>\n",
              "    <tr>\n",
              "      <th>0</th>\n",
              "      <td>-</td>\n",
              "      <td>1</td>\n",
              "    </tr>\n",
              "    <tr>\n",
              "      <th>1</th>\n",
              "      <td>.</td>\n",
              "      <td>3</td>\n",
              "    </tr>\n",
              "    <tr>\n",
              "      <th>2</th>\n",
              "      <td>/</td>\n",
              "      <td>1</td>\n",
              "    </tr>\n",
              "    <tr>\n",
              "      <th>3</th>\n",
              "      <td>5000-3</td>\n",
              "      <td>1</td>\n",
              "    </tr>\n",
              "    <tr>\n",
              "      <th>4</th>\n",
              "      <td>500t Press</td>\n",
              "      <td>7</td>\n",
              "    </tr>\n",
              "  </tbody>\n",
              "</table>\n",
              "</div>"
            ],
            "text/plain": [
              "  Puesto habitual de trabajo  Count\n",
              "0                          -      1\n",
              "1                          .      3\n",
              "2                         /       1\n",
              "3                     5000-3      1\n",
              "4                 500t Press      7"
            ]
          },
          "metadata": {
            "tags": []
          },
          "execution_count": 29
        }
      ]
    },
    {
      "cell_type": "code",
      "metadata": {
        "colab": {
          "base_uri": "https://localhost:8080/"
        },
        "id": "VK5yjjmrMV6W",
        "outputId": "398ffeb3-51c1-49ad-c243-46b2de712c3b"
      },
      "source": [
        "len(position_df)"
      ],
      "execution_count": 30,
      "outputs": [
        {
          "output_type": "execute_result",
          "data": {
            "text/plain": [
              "1448"
            ]
          },
          "metadata": {
            "tags": []
          },
          "execution_count": 30
        }
      ]
    },
    {
      "cell_type": "code",
      "metadata": {
        "id": "4zA9mDAJMYjF"
      },
      "source": [
        "sorted_position = position_df.sort_values('Count', ascending=False).head(10)"
      ],
      "execution_count": 31,
      "outputs": []
    },
    {
      "cell_type": "code",
      "metadata": {
        "colab": {
          "base_uri": "https://localhost:8080/",
          "height": 195
        },
        "id": "1lteh_FoM11R",
        "outputId": "b554e78c-5ed6-4bb2-e4e8-475c2f4f33cd"
      },
      "source": [
        "sorted_position.head() ##carretillero is the position with more accidents"
      ],
      "execution_count": 32,
      "outputs": [
        {
          "output_type": "execute_result",
          "data": {
            "text/html": [
              "<div>\n",
              "<style scoped>\n",
              "    .dataframe tbody tr th:only-of-type {\n",
              "        vertical-align: middle;\n",
              "    }\n",
              "\n",
              "    .dataframe tbody tr th {\n",
              "        vertical-align: top;\n",
              "    }\n",
              "\n",
              "    .dataframe thead th {\n",
              "        text-align: right;\n",
              "    }\n",
              "</style>\n",
              "<table border=\"1\" class=\"dataframe\">\n",
              "  <thead>\n",
              "    <tr style=\"text-align: right;\">\n",
              "      <th></th>\n",
              "      <th>Puesto habitual de trabajo</th>\n",
              "      <th>Count</th>\n",
              "    </tr>\n",
              "  </thead>\n",
              "  <tbody>\n",
              "    <tr>\n",
              "      <th>190</th>\n",
              "      <td>Carretillero</td>\n",
              "      <td>170</td>\n",
              "    </tr>\n",
              "    <tr>\n",
              "      <th>406</th>\n",
              "      <td>Gruista</td>\n",
              "      <td>121</td>\n",
              "    </tr>\n",
              "    <tr>\n",
              "      <th>1247</th>\n",
              "      <td>Warehouse</td>\n",
              "      <td>113</td>\n",
              "    </tr>\n",
              "    <tr>\n",
              "      <th>1288</th>\n",
              "      <td>carretillero</td>\n",
              "      <td>67</td>\n",
              "    </tr>\n",
              "    <tr>\n",
              "      <th>995</th>\n",
              "      <td>Puente Grua - Flejador</td>\n",
              "      <td>51</td>\n",
              "    </tr>\n",
              "  </tbody>\n",
              "</table>\n",
              "</div>"
            ],
            "text/plain": [
              "     Puesto habitual de trabajo  Count\n",
              "190                Carretillero    170\n",
              "406                     Gruista    121\n",
              "1247                  Warehouse    113\n",
              "1288               carretillero     67\n",
              "995      Puente Grua - Flejador     51"
            ]
          },
          "metadata": {
            "tags": []
          },
          "execution_count": 32
        }
      ]
    },
    {
      "cell_type": "code",
      "metadata": {
        "colab": {
          "base_uri": "https://localhost:8080/",
          "height": 265
        },
        "id": "Lh-vviC9Mwrn",
        "outputId": "e4de36f6-e62c-430a-9f71-d71e350cefbb"
      },
      "source": [
        "plt.plot(sorted_position['Puesto habitual de trabajo'], sorted_position['Count'])\n",
        "plt.show()"
      ],
      "execution_count": 33,
      "outputs": [
        {
          "output_type": "display_data",
          "data": {
            "image/png": "[encoded data removed]",
            "text/plain": [
              "<Figure size 432x288 with 1 Axes>"
            ]
          },
          "metadata": {
            "tags": [],
            "needs_background": "light"
          }
        }
      ]
    },
    {
      "cell_type": "markdown",
      "metadata": {
        "id": "wnvgwdGv-jcI"
      },
      "source": [
        "On the chart before we can see there are a big diference in number of accidents between the first 5 position, let plot those:"
      ]
    },
    {
      "cell_type": "code",
      "metadata": {
        "colab": {
          "base_uri": "https://localhost:8080/",
          "height": 265
        },
        "id": "UWTbXNtEOWKO",
        "outputId": "be9a69f6-2839-4cd3-bfc4-ef3d29baa1d3"
      },
      "source": [
        "import numpy as np\n",
        "import matplotlib.mlab as mlab\n",
        "import matplotlib.pyplot as plt\n",
        "\n",
        "x = sorted_position['Puesto habitual de trabajo'].head(5)\n",
        "y = sorted_position['Count'].head(5)\n",
        "\n",
        "plt.bar(x,y)\n",
        "\n",
        "plt.show()"
      ],
      "execution_count": 34,
      "outputs": [
        {
          "output_type": "display_data",
          "data": {
            "image/png": "[encoded data removed]",
            "text/plain": [
              "<Figure size 432x288 with 1 Axes>"
            ]
          },
          "metadata": {
            "tags": [],
            "needs_background": "light"
          }
        }
      ]
    },
    {
      "cell_type": "markdown",
      "metadata": {
        "id": "YIgMkRVgQEoJ"
      },
      "source": [
        "Now we are going to analyze the type of people which has had the accidents. For that purpose we will create a new df with the relevant columns to this analysis.\n",
        "\n",
        "We dont have data for all accidents so we will analyze the ones we have"
      ]
    },
    {
      "cell_type": "code",
      "metadata": {
        "colab": {
          "base_uri": "https://localhost:8080/",
          "height": 195
        },
        "id": "-L80LdKPQEei",
        "outputId": "c5af4d10-d353-4635-dafc-6a6dd4ef4722"
      },
      "source": [
        "empleado = accidentabilidad[['Edad', 'Género', 'Codigo accidentado']]\n",
        "\n",
        "empleado.head()"
      ],
      "execution_count": 35,
      "outputs": [
        {
          "output_type": "execute_result",
          "data": {
            "text/html": [
              "<div>\n",
              "<style scoped>\n",
              "    .dataframe tbody tr th:only-of-type {\n",
              "        vertical-align: middle;\n",
              "    }\n",
              "\n",
              "    .dataframe tbody tr th {\n",
              "        vertical-align: top;\n",
              "    }\n",
              "\n",
              "    .dataframe thead th {\n",
              "        text-align: right;\n",
              "    }\n",
              "</style>\n",
              "<table border=\"1\" class=\"dataframe\">\n",
              "  <thead>\n",
              "    <tr style=\"text-align: right;\">\n",
              "      <th></th>\n",
              "      <th>Edad</th>\n",
              "      <th>Género</th>\n",
              "      <th>Codigo accidentado</th>\n",
              "    </tr>\n",
              "  </thead>\n",
              "  <tbody>\n",
              "    <tr>\n",
              "      <th>0</th>\n",
              "      <td>NaN</td>\n",
              "      <td>NaN</td>\n",
              "      <td>HS-BRGS_0001</td>\n",
              "    </tr>\n",
              "    <tr>\n",
              "      <th>1</th>\n",
              "      <td>NaN</td>\n",
              "      <td>NaN</td>\n",
              "      <td>HS-BRGS_0010</td>\n",
              "    </tr>\n",
              "    <tr>\n",
              "      <th>2</th>\n",
              "      <td>NaN</td>\n",
              "      <td>NaN</td>\n",
              "      <td>HS-BRGS_0011</td>\n",
              "    </tr>\n",
              "    <tr>\n",
              "      <th>3</th>\n",
              "      <td>NaN</td>\n",
              "      <td>NaN</td>\n",
              "      <td>HS-BRGS_0012</td>\n",
              "    </tr>\n",
              "    <tr>\n",
              "      <th>4</th>\n",
              "      <td>NaN</td>\n",
              "      <td>NaN</td>\n",
              "      <td>HS-BRGS_0013</td>\n",
              "    </tr>\n",
              "  </tbody>\n",
              "</table>\n",
              "</div>"
            ],
            "text/plain": [
              "  Edad Género Codigo accidentado\n",
              "0  NaN    NaN       HS-BRGS_0001\n",
              "1  NaN    NaN       HS-BRGS_0010\n",
              "2  NaN    NaN       HS-BRGS_0011\n",
              "3  NaN    NaN       HS-BRGS_0012\n",
              "4  NaN    NaN       HS-BRGS_0013"
            ]
          },
          "metadata": {
            "tags": []
          },
          "execution_count": 35
        }
      ]
    },
    {
      "cell_type": "code",
      "metadata": {
        "colab": {
          "base_uri": "https://localhost:8080/",
          "height": 195
        },
        "id": "MuZpeBinQvjj",
        "outputId": "12fe1108-b0be-4ade-843e-e8c5f6ef3f39"
      },
      "source": [
        "empleado = empleado[(empleado['Edad'].isnull() == False) & (empleado['Género'].isnull() == False)]\n",
        "\n",
        "empleado.head()"
      ],
      "execution_count": 36,
      "outputs": [
        {
          "output_type": "execute_result",
          "data": {
            "text/html": [
              "<div>\n",
              "<style scoped>\n",
              "    .dataframe tbody tr th:only-of-type {\n",
              "        vertical-align: middle;\n",
              "    }\n",
              "\n",
              "    .dataframe tbody tr th {\n",
              "        vertical-align: top;\n",
              "    }\n",
              "\n",
              "    .dataframe thead th {\n",
              "        text-align: right;\n",
              "    }\n",
              "</style>\n",
              "<table border=\"1\" class=\"dataframe\">\n",
              "  <thead>\n",
              "    <tr style=\"text-align: right;\">\n",
              "      <th></th>\n",
              "      <th>Edad</th>\n",
              "      <th>Género</th>\n",
              "      <th>Codigo accidentado</th>\n",
              "    </tr>\n",
              "  </thead>\n",
              "  <tbody>\n",
              "    <tr>\n",
              "      <th>1411</th>\n",
              "      <td>48</td>\n",
              "      <td>Hombre</td>\n",
              "      <td>HS-TRRG_1495</td>\n",
              "    </tr>\n",
              "    <tr>\n",
              "      <th>1423</th>\n",
              "      <td>32</td>\n",
              "      <td>Hombre</td>\n",
              "      <td>HS-BRGS_1507</td>\n",
              "    </tr>\n",
              "    <tr>\n",
              "      <th>1485</th>\n",
              "      <td>44</td>\n",
              "      <td>Hombre</td>\n",
              "      <td>HS-NVRR_1589</td>\n",
              "    </tr>\n",
              "    <tr>\n",
              "      <th>1513</th>\n",
              "      <td>33</td>\n",
              "      <td>Hombre</td>\n",
              "      <td>HS-TRRG_1617</td>\n",
              "    </tr>\n",
              "    <tr>\n",
              "      <th>1578</th>\n",
              "      <td>45</td>\n",
              "      <td>Hombre</td>\n",
              "      <td>HS-NVRR_1942</td>\n",
              "    </tr>\n",
              "  </tbody>\n",
              "</table>\n",
              "</div>"
            ],
            "text/plain": [
              "     Edad  Género Codigo accidentado\n",
              "1411   48  Hombre       HS-TRRG_1495\n",
              "1423   32  Hombre       HS-BRGS_1507\n",
              "1485   44  Hombre       HS-NVRR_1589\n",
              "1513   33  Hombre       HS-TRRG_1617\n",
              "1578   45  Hombre       HS-NVRR_1942"
            ]
          },
          "metadata": {
            "tags": []
          },
          "execution_count": 36
        }
      ]
    },
    {
      "cell_type": "code",
      "metadata": {
        "colab": {
          "base_uri": "https://localhost:8080/",
          "height": 431
        },
        "id": "Np91aWneRG-a",
        "outputId": "69cb6c33-6d85-4d63-fcfc-1e6c3c4ddf34"
      },
      "source": [
        "empleado.groupby(['Edad', 'Género']).agg('count')"
      ],
      "execution_count": 37,
      "outputs": [
        {
          "output_type": "execute_result",
          "data": {
            "text/html": [
              "<div>\n",
              "<style scoped>\n",
              "    .dataframe tbody tr th:only-of-type {\n",
              "        vertical-align: middle;\n",
              "    }\n",
              "\n",
              "    .dataframe tbody tr th {\n",
              "        vertical-align: top;\n",
              "    }\n",
              "\n",
              "    .dataframe thead th {\n",
              "        text-align: right;\n",
              "    }\n",
              "</style>\n",
              "<table border=\"1\" class=\"dataframe\">\n",
              "  <thead>\n",
              "    <tr style=\"text-align: right;\">\n",
              "      <th></th>\n",
              "      <th></th>\n",
              "      <th>Codigo accidentado</th>\n",
              "    </tr>\n",
              "    <tr>\n",
              "      <th>Edad</th>\n",
              "      <th>Género</th>\n",
              "      <th></th>\n",
              "    </tr>\n",
              "  </thead>\n",
              "  <tbody>\n",
              "    <tr>\n",
              "      <th>*</th>\n",
              "      <th>Hombre</th>\n",
              "      <td>10</td>\n",
              "    </tr>\n",
              "    <tr>\n",
              "      <th rowspan=\"2\" valign=\"top\">-</th>\n",
              "      <th>Hombre</th>\n",
              "      <td>14</td>\n",
              "    </tr>\n",
              "    <tr>\n",
              "      <th>Mujer</th>\n",
              "      <td>2</td>\n",
              "    </tr>\n",
              "    <tr>\n",
              "      <th>---</th>\n",
              "      <th>Mujer</th>\n",
              "      <td>1</td>\n",
              "    </tr>\n",
              "    <tr>\n",
              "      <th>.</th>\n",
              "      <th>Hombre</th>\n",
              "      <td>3</td>\n",
              "    </tr>\n",
              "    <tr>\n",
              "      <th>...</th>\n",
              "      <th>...</th>\n",
              "      <td>...</td>\n",
              "    </tr>\n",
              "    <tr>\n",
              "      <th>na</th>\n",
              "      <th>Hombre</th>\n",
              "      <td>1</td>\n",
              "    </tr>\n",
              "    <tr>\n",
              "      <th>none</th>\n",
              "      <th>Hombre</th>\n",
              "      <td>6</td>\n",
              "    </tr>\n",
              "    <tr>\n",
              "      <th>se desconoce</th>\n",
              "      <th>Hombre</th>\n",
              "      <td>1</td>\n",
              "    </tr>\n",
              "    <tr>\n",
              "      <th>unknown</th>\n",
              "      <th>Hombre</th>\n",
              "      <td>2</td>\n",
              "    </tr>\n",
              "    <tr>\n",
              "      <th>x</th>\n",
              "      <th>Hombre</th>\n",
              "      <td>2</td>\n",
              "    </tr>\n",
              "  </tbody>\n",
              "</table>\n",
              "<p>139 rows × 1 columns</p>\n",
              "</div>"
            ],
            "text/plain": [
              "                     Codigo accidentado\n",
              "Edad         Género                    \n",
              "*            Hombre                  10\n",
              "-            Hombre                  14\n",
              "             Mujer                    2\n",
              "---          Mujer                    1\n",
              ".            Hombre                   3\n",
              "...                                 ...\n",
              "na           Hombre                   1\n",
              "none         Hombre                   6\n",
              "se desconoce Hombre                   1\n",
              "unknown      Hombre                   2\n",
              "x            Hombre                   2\n",
              "\n",
              "[139 rows x 1 columns]"
            ]
          },
          "metadata": {
            "tags": []
          },
          "execution_count": 37
        }
      ]
    },
    {
      "cell_type": "code",
      "metadata": {
        "id": "iaT3ay6GRcVd"
      },
      "source": [
        "## we get only numeric values or unknow for edad\n",
        "\n",
        "empleado['Edad'] = empleado['Edad'].apply(lambda x: x if x.isnumeric() else 'unknown')"
      ],
      "execution_count": 38,
      "outputs": []
    },
    {
      "cell_type": "code",
      "metadata": {
        "id": "0yGw1E2GRxkA"
      },
      "source": [
        "empleado_grouped = empleado.groupby(['Edad', 'Género']).agg('count')"
      ],
      "execution_count": 39,
      "outputs": []
    },
    {
      "cell_type": "code",
      "metadata": {
        "colab": {
          "base_uri": "https://localhost:8080/",
          "height": 225
        },
        "id": "KN2c9_prR2c6",
        "outputId": "13c87815-0024-4431-d36e-4972942693a8"
      },
      "source": [
        "empleado_grouped.head()"
      ],
      "execution_count": 40,
      "outputs": [
        {
          "output_type": "execute_result",
          "data": {
            "text/html": [
              "<div>\n",
              "<style scoped>\n",
              "    .dataframe tbody tr th:only-of-type {\n",
              "        vertical-align: middle;\n",
              "    }\n",
              "\n",
              "    .dataframe tbody tr th {\n",
              "        vertical-align: top;\n",
              "    }\n",
              "\n",
              "    .dataframe thead th {\n",
              "        text-align: right;\n",
              "    }\n",
              "</style>\n",
              "<table border=\"1\" class=\"dataframe\">\n",
              "  <thead>\n",
              "    <tr style=\"text-align: right;\">\n",
              "      <th></th>\n",
              "      <th></th>\n",
              "      <th>Codigo accidentado</th>\n",
              "    </tr>\n",
              "    <tr>\n",
              "      <th>Edad</th>\n",
              "      <th>Género</th>\n",
              "      <th></th>\n",
              "    </tr>\n",
              "  </thead>\n",
              "  <tbody>\n",
              "    <tr>\n",
              "      <th>10</th>\n",
              "      <th>Hombre</th>\n",
              "      <td>1</td>\n",
              "    </tr>\n",
              "    <tr>\n",
              "      <th>100</th>\n",
              "      <th>Hombre</th>\n",
              "      <td>13</td>\n",
              "    </tr>\n",
              "    <tr>\n",
              "      <th>17</th>\n",
              "      <th>Hombre</th>\n",
              "      <td>3</td>\n",
              "    </tr>\n",
              "    <tr>\n",
              "      <th>18</th>\n",
              "      <th>Hombre</th>\n",
              "      <td>4</td>\n",
              "    </tr>\n",
              "    <tr>\n",
              "      <th>19</th>\n",
              "      <th>Hombre</th>\n",
              "      <td>13</td>\n",
              "    </tr>\n",
              "  </tbody>\n",
              "</table>\n",
              "</div>"
            ],
            "text/plain": [
              "             Codigo accidentado\n",
              "Edad Género                    \n",
              "10   Hombre                   1\n",
              "100  Hombre                  13\n",
              "17   Hombre                   3\n",
              "18   Hombre                   4\n",
              "19   Hombre                  13"
            ]
          },
          "metadata": {
            "tags": []
          },
          "execution_count": 40
        }
      ]
    },
    {
      "cell_type": "code",
      "metadata": {
        "id": "KqNpAy-8R4TV"
      },
      "source": [
        "empleado_grouped = empleado_grouped.sort_values('Codigo accidentado', ascending=False).reset_index()\n"
      ],
      "execution_count": 41,
      "outputs": []
    },
    {
      "cell_type": "code",
      "metadata": {
        "colab": {
          "base_uri": "https://localhost:8080/",
          "height": 195
        },
        "id": "yowWW6OUSdzm",
        "outputId": "fdc067f7-cd75-446c-878f-59cfd91a4bf4"
      },
      "source": [
        "empleado_grouped.head()"
      ],
      "execution_count": 42,
      "outputs": [
        {
          "output_type": "execute_result",
          "data": {
            "text/html": [
              "<div>\n",
              "<style scoped>\n",
              "    .dataframe tbody tr th:only-of-type {\n",
              "        vertical-align: middle;\n",
              "    }\n",
              "\n",
              "    .dataframe tbody tr th {\n",
              "        vertical-align: top;\n",
              "    }\n",
              "\n",
              "    .dataframe thead th {\n",
              "        text-align: right;\n",
              "    }\n",
              "</style>\n",
              "<table border=\"1\" class=\"dataframe\">\n",
              "  <thead>\n",
              "    <tr style=\"text-align: right;\">\n",
              "      <th></th>\n",
              "      <th>Edad</th>\n",
              "      <th>Género</th>\n",
              "      <th>Codigo accidentado</th>\n",
              "    </tr>\n",
              "  </thead>\n",
              "  <tbody>\n",
              "    <tr>\n",
              "      <th>0</th>\n",
              "      <td>40</td>\n",
              "      <td>Hombre</td>\n",
              "      <td>129</td>\n",
              "    </tr>\n",
              "    <tr>\n",
              "      <th>1</th>\n",
              "      <td>35</td>\n",
              "      <td>Hombre</td>\n",
              "      <td>120</td>\n",
              "    </tr>\n",
              "    <tr>\n",
              "      <th>2</th>\n",
              "      <td>unknown</td>\n",
              "      <td>Hombre</td>\n",
              "      <td>99</td>\n",
              "    </tr>\n",
              "    <tr>\n",
              "      <th>3</th>\n",
              "      <td>45</td>\n",
              "      <td>Hombre</td>\n",
              "      <td>99</td>\n",
              "    </tr>\n",
              "    <tr>\n",
              "      <th>4</th>\n",
              "      <td>30</td>\n",
              "      <td>Hombre</td>\n",
              "      <td>86</td>\n",
              "    </tr>\n",
              "  </tbody>\n",
              "</table>\n",
              "</div>"
            ],
            "text/plain": [
              "      Edad  Género  Codigo accidentado\n",
              "0       40  Hombre                 129\n",
              "1       35  Hombre                 120\n",
              "2  unknown  Hombre                  99\n",
              "3       45  Hombre                  99\n",
              "4       30  Hombre                  86"
            ]
          },
          "metadata": {
            "tags": []
          },
          "execution_count": 42
        }
      ]
    },
    {
      "cell_type": "code",
      "metadata": {
        "id": "5mmW82nvTL6h"
      },
      "source": [
        "empleado = empleado.reset_index()"
      ],
      "execution_count": 43,
      "outputs": []
    },
    {
      "cell_type": "code",
      "metadata": {
        "colab": {
          "base_uri": "https://localhost:8080/",
          "height": 279
        },
        "id": "QY-zBQ-dSSCc",
        "outputId": "81872532-43c7-495e-fe6a-ef0133ead010"
      },
      "source": [
        "plt.figure(figsize=(20,4))\n",
        "ax.set_title('Nº workers involved in an accident by gender and age')\n",
        "ax = sns.countplot(x=\"Edad\", hue=\"Género\", data=empleado)\n"
      ],
      "execution_count": 44,
      "outputs": [
        {
          "output_type": "display_data",
          "data": {
            "image/png": "[encoded data removed]",
            "text/plain": [
              "<Figure size 1440x288 with 1 Axes>"
            ]
          },
          "metadata": {
            "tags": [],
            "needs_background": "light"
          }
        }
      ]
    },
    {
      "cell_type": "markdown",
      "metadata": {
        "id": "WbapnyHrUSNp"
      },
      "source": [
        "At first sight we can see men have a lot more accidents than women. 40 years old men are the more target group. To see % rates we will need to compare with the Staff table.\n",
        "\n",
        "\n",
        "Now lets check the number of accidents by turn"
      ]
    },
    {
      "cell_type": "code",
      "metadata": {
        "id": "FmugCYCNU7p0"
      },
      "source": [
        "turno = accidentabilidad[['Codigo accidentado', 'Turno']]\n",
        "turno = turno[turno['Turno'].isnull()==False]"
      ],
      "execution_count": 45,
      "outputs": []
    },
    {
      "cell_type": "code",
      "metadata": {
        "colab": {
          "base_uri": "https://localhost:8080/",
          "height": 295
        },
        "id": "5J9Vy7N5U7th",
        "outputId": "36a1236e-aa3e-4f2a-e0ee-54daf1a8083a"
      },
      "source": [
        "\n",
        "ax = sns.countplot(x=\"Turno\",  data=turno)\n",
        "ax.set_title('Nº accidents by work turn')\n",
        "plt.show()"
      ],
      "execution_count": 46,
      "outputs": [
        {
          "output_type": "display_data",
          "data": {
            "image/png": "[encoded data removed]",
            "text/plain": [
              "<Figure size 432x288 with 1 Axes>"
            ]
          },
          "metadata": {
            "tags": [],
            "needs_background": "light"
          }
        }
      ]
    },
    {
      "cell_type": "markdown",
      "metadata": {
        "id": "ENncIGQNVwEn"
      },
      "source": [
        "This might be unexpected but the turn with more accidentes is the morning one, lets analyze the severity of the accidents in those turns"
      ]
    },
    {
      "cell_type": "code",
      "metadata": {
        "id": "Bv77sZHnU9Tv"
      },
      "source": [
        "turno = accidentabilidad[['Codigo accidentado', 'Turno', 'Gravedad potencial']]\n",
        "turno = turno.reset_index()\n",
        "\n",
        "turno = turno[turno['Gravedad potencial'].isnull()==False]"
      ],
      "execution_count": 47,
      "outputs": []
    },
    {
      "cell_type": "code",
      "metadata": {
        "colab": {
          "base_uri": "https://localhost:8080/",
          "height": 295
        },
        "id": "8WZuuHDwU9j8",
        "outputId": "2850ec1c-e7ab-4a7f-f24f-4f7da7fe6b62"
      },
      "source": [
        "ax = sns.countplot(x=\"Turno\", hue = 'Gravedad potencial', data=turno)\n",
        "ax.set_title('Nº accidents by work turn and potential severity')\n",
        "plt.show()"
      ],
      "execution_count": 48,
      "outputs": [
        {
          "output_type": "display_data",
          "data": {
            "image/png": "[encoded data removed]",
            "text/plain": [
              "<Figure size 432x288 with 1 Axes>"
            ]
          },
          "metadata": {
            "tags": [],
            "needs_background": "light"
          }
        }
      ]
    },
    {
      "cell_type": "markdown",
      "metadata": {
        "id": "Wv6bF6ZtXGux"
      },
      "source": [
        "Morning turn keeps being the one with more severe accidents\n",
        "\n",
        "Now we are going to get the nº of accidents by severity and location"
      ]
    },
    {
      "cell_type": "code",
      "metadata": {
        "id": "il3W2LL2_OqC"
      },
      "source": [
        "plant = accidentabilidad[['Planta', 'Codigo accidentado', 'Gravedad potencial']]"
      ],
      "execution_count": 49,
      "outputs": []
    },
    {
      "cell_type": "code",
      "metadata": {
        "colab": {
          "base_uri": "https://localhost:8080/"
        },
        "id": "PxS9fEDa_7km",
        "outputId": "5af2b790-40a1-4e2f-c8c1-166104d2fdb7"
      },
      "source": [
        "len(plant['Planta'].unique()) ## we have 39 plants"
      ],
      "execution_count": 50,
      "outputs": [
        {
          "output_type": "execute_result",
          "data": {
            "text/plain": [
              "39"
            ]
          },
          "metadata": {
            "tags": []
          },
          "execution_count": 50
        }
      ]
    },
    {
      "cell_type": "code",
      "metadata": {
        "colab": {
          "base_uri": "https://localhost:8080/",
          "height": 295
        },
        "id": "iREZyAyG_OzH",
        "outputId": "1b43f2b4-4e40-4926-9be5-110c7fae680a"
      },
      "source": [
        "plt.figure(figsize=(20,4))\n",
        "ax = sns.countplot(x=\"Planta\", hue = 'Gravedad potencial', data=plant)\n",
        "ax.set_title('Nº accidents by location and severity')\n",
        "plt.show()"
      ],
      "execution_count": 51,
      "outputs": [
        {
          "output_type": "display_data",
          "data": {
            "image/png": "[encoded data removed]",
            "text/plain": [
              "<Figure size 1440x288 with 1 Axes>"
            ]
          },
          "metadata": {
            "tags": [],
            "needs_background": "light"
          }
        }
      ]
    },
    {
      "cell_type": "markdown",
      "metadata": {
        "id": "HVsgEIq_A05j"
      },
      "source": [
        "We are going to upload the plants table with its location and type of technology"
      ]
    },
    {
      "cell_type": "code",
      "metadata": {
        "id": "67DJuWdq_O2K"
      },
      "source": [
        "! cp /content/drive/MyDrive/'Colab Notebooks'/'TFM Accidentabilidad'/Data/'G_Plantas y Tech'.csv ."
      ],
      "execution_count": 52,
      "outputs": []
    },
    {
      "cell_type": "code",
      "metadata": {
        "id": "YduscxiG_O4q"
      },
      "source": [
        "plants_catalog = pd.read_csv('G_Plantas y Tech.csv', sep=';')"
      ],
      "execution_count": 53,
      "outputs": []
    },
    {
      "cell_type": "code",
      "metadata": {
        "colab": {
          "base_uri": "https://localhost:8080/",
          "height": 195
        },
        "id": "Nu1DMXPv_O84",
        "outputId": "0475d69a-17cd-43ff-f79a-25441ae4a337"
      },
      "source": [
        "plants_catalog.head()"
      ],
      "execution_count": 54,
      "outputs": [
        {
          "output_type": "execute_result",
          "data": {
            "text/html": [
              "<div>\n",
              "<style scoped>\n",
              "    .dataframe tbody tr th:only-of-type {\n",
              "        vertical-align: middle;\n",
              "    }\n",
              "\n",
              "    .dataframe tbody tr th {\n",
              "        vertical-align: top;\n",
              "    }\n",
              "\n",
              "    .dataframe thead th {\n",
              "        text-align: right;\n",
              "    }\n",
              "</style>\n",
              "<table border=\"1\" class=\"dataframe\">\n",
              "  <thead>\n",
              "    <tr style=\"text-align: right;\">\n",
              "      <th></th>\n",
              "      <th>ID</th>\n",
              "      <th>Fabrica</th>\n",
              "      <th>Activo</th>\n",
              "      <th>Tecnología</th>\n",
              "    </tr>\n",
              "  </thead>\n",
              "  <tbody>\n",
              "    <tr>\n",
              "      <th>0</th>\n",
              "      <td>1</td>\n",
              "      <td>Argentina</td>\n",
              "      <td>1</td>\n",
              "      <td>Blanking</td>\n",
              "    </tr>\n",
              "    <tr>\n",
              "      <th>1</th>\n",
              "      <td>2</td>\n",
              "      <td>Argentina</td>\n",
              "      <td>1</td>\n",
              "      <td>Corte Longitudinal</td>\n",
              "    </tr>\n",
              "    <tr>\n",
              "      <th>2</th>\n",
              "      <td>3</td>\n",
              "      <td>Argentina</td>\n",
              "      <td>1</td>\n",
              "      <td>Corte Transversal</td>\n",
              "    </tr>\n",
              "    <tr>\n",
              "      <th>3</th>\n",
              "      <td>4</td>\n",
              "      <td>Arizona</td>\n",
              "      <td>1</td>\n",
              "      <td>Células Soldadura</td>\n",
              "    </tr>\n",
              "    <tr>\n",
              "      <th>4</th>\n",
              "      <td>5</td>\n",
              "      <td>Arizona</td>\n",
              "      <td>1</td>\n",
              "      <td>Corte Láser</td>\n",
              "    </tr>\n",
              "  </tbody>\n",
              "</table>\n",
              "</div>"
            ],
            "text/plain": [
              "   ID    Fabrica  Activo          Tecnología\n",
              "0   1  Argentina       1            Blanking\n",
              "1   2  Argentina       1  Corte Longitudinal\n",
              "2   3  Argentina       1   Corte Transversal\n",
              "3   4    Arizona       1   Células Soldadura\n",
              "4   5    Arizona       1         Corte Láser"
            ]
          },
          "metadata": {
            "tags": []
          },
          "execution_count": 54
        }
      ]
    },
    {
      "cell_type": "markdown",
      "metadata": {
        "id": "ZVUzZ-E-BDlL"
      },
      "source": [
        "Each fabric is classified by the location and its technology. We have the following locations"
      ]
    },
    {
      "cell_type": "code",
      "metadata": {
        "colab": {
          "base_uri": "https://localhost:8080/"
        },
        "id": "BSqSQFC7A_Bg",
        "outputId": "e54781a6-d177-4750-b8c0-5b35ef6e3a8d"
      },
      "source": [
        "plants_catalog['Fabrica'].unique()"
      ],
      "execution_count": 55,
      "outputs": [
        {
          "output_type": "execute_result",
          "data": {
            "text/plain": [
              "array(['Argentina', 'Arizona', 'Barcelona', 'Burgos', 'Campinas', 'Czech',\n",
              "       'Galicia', 'Gonvauto Asturias', 'Gonvauto Barcelona', 'Dongguan',\n",
              "       'Hiasa', 'Kaluga', 'Laser Brandenburg', 'Loudi', 'Navarra',\n",
              "       'Paraná', 'Polska', 'Portugal', 'Puebla', 'South Carolina',\n",
              "       'Tarragona', 'Thüringen', 'Valencia', 'Union Street',\n",
              "       'Laser Barcelona', 'Laser Valencia', 'Baja California', 'Çepas',\n",
              "       'Colombia', 'Senica', 'Gonvvama Holding', 'Changshu', 'Shenyang',\n",
              "       'Chongqing', 'GCF', 'Bridge Street', 'Newton Aycliffe',\n",
              "       'Popes Lane', 'Darlaston', 'Cannock', 'Flinsa', 'Nitra'],\n",
              "      dtype=object)"
            ]
          },
          "metadata": {
            "tags": []
          },
          "execution_count": 55
        }
      ]
    },
    {
      "cell_type": "markdown",
      "metadata": {
        "id": "LjOsy_eqBNXH"
      },
      "source": [
        "and the following types of tecnologies"
      ]
    },
    {
      "cell_type": "code",
      "metadata": {
        "colab": {
          "base_uri": "https://localhost:8080/"
        },
        "id": "U8cDFqGDBNDm",
        "outputId": "7d4576b4-d3f3-4342-c37b-9ce40247fb7d"
      },
      "source": [
        "plants_catalog['Tecnología'].unique()"
      ],
      "execution_count": 56,
      "outputs": [
        {
          "output_type": "execute_result",
          "data": {
            "text/plain": [
              "array(['Blanking', 'Corte Longitudinal', 'Corte Transversal',\n",
              "       'Células Soldadura', 'Corte Láser', 'Tubos', 'Cizalla',\n",
              "       'Electrozincado', 'Galvanizado continuo', 'Skinpass', 'Decapado',\n",
              "       'Laminado', 'Recocido', 'Prensa', 'Corte Láser 3D', 'Sierra',\n",
              "       'Maquinaria Auxiliar', 'Aplanadora', 'Corte Plasma',\n",
              "       'Galvanizado Inmersión', 'Perfilado de barrera y postes',\n",
              "       'Perfiles abiertos', 'Perforado', 'Pintura', 'Punzonado',\n",
              "       'Ablación', 'Tailor Welding', 'Limpieza/Prepintado',\n",
              "       'Plastificado', 'Oficinas administrativas',\n",
              "       'Almacén de Materia Prima', 'Almacén de Producto Terminado',\n",
              "       'Almacén producto semielaborado o en producción',\n",
              "       'Área de embalado', 'Instalaciones exteriores y auxiliares',\n",
              "       'Mantenimiento', 'Puente Grúa', 'Carpinteria',\n",
              "       'Almacen de recambios', 'Almacen productos quimicos',\n",
              "       'Residuos productos quimicos', 'Carretilla', 'Coil to Coil',\n",
              "       'Soldadura Manual', 'General / Auxiliar', 'Galvanizado',\n",
              "       'Galvanizado ', 'Depuradora', 'General', 'Slitting',\n",
              "       'Press Blanking', 'Shears', 'Pallet Department', 'Multi Strand',\n",
              "       'Slitting ', 'D-Ring Line', 'Ablation Line', nan, 'Matricería '],\n",
              "      dtype=object)"
            ]
          },
          "metadata": {
            "tags": []
          },
          "execution_count": 56
        }
      ]
    },
    {
      "cell_type": "markdown",
      "metadata": {
        "id": "PNTBuhY7BWNR"
      },
      "source": [
        "Lets join this information now to our accidents plant table"
      ]
    },
    {
      "cell_type": "code",
      "metadata": {
        "colab": {
          "base_uri": "https://localhost:8080/",
          "height": 402
        },
        "id": "Al64wPaiBbyr",
        "outputId": "1e348d3f-b8e4-4f0a-bb8f-98b1d4552b7b"
      },
      "source": [
        "plant = plant.merge(plants_catalog, left_on='Planta', right_on='ID', how='left')\n",
        "plant"
      ],
      "execution_count": 57,
      "outputs": [
        {
          "output_type": "execute_result",
          "data": {
            "text/html": [
              "<div>\n",
              "<style scoped>\n",
              "    .dataframe tbody tr th:only-of-type {\n",
              "        vertical-align: middle;\n",
              "    }\n",
              "\n",
              "    .dataframe tbody tr th {\n",
              "        vertical-align: top;\n",
              "    }\n",
              "\n",
              "    .dataframe thead th {\n",
              "        text-align: right;\n",
              "    }\n",
              "</style>\n",
              "<table border=\"1\" class=\"dataframe\">\n",
              "  <thead>\n",
              "    <tr style=\"text-align: right;\">\n",
              "      <th></th>\n",
              "      <th>Planta</th>\n",
              "      <th>Codigo accidentado</th>\n",
              "      <th>Gravedad potencial</th>\n",
              "      <th>ID</th>\n",
              "      <th>Fabrica</th>\n",
              "      <th>Activo</th>\n",
              "      <th>Tecnología</th>\n",
              "    </tr>\n",
              "  </thead>\n",
              "  <tbody>\n",
              "    <tr>\n",
              "      <th>0</th>\n",
              "      <td>2</td>\n",
              "      <td>HS-BRGS_0001</td>\n",
              "      <td>NaN</td>\n",
              "      <td>2</td>\n",
              "      <td>Argentina</td>\n",
              "      <td>1</td>\n",
              "      <td>Corte Longitudinal</td>\n",
              "    </tr>\n",
              "    <tr>\n",
              "      <th>1</th>\n",
              "      <td>2</td>\n",
              "      <td>HS-BRGS_0010</td>\n",
              "      <td>NaN</td>\n",
              "      <td>2</td>\n",
              "      <td>Argentina</td>\n",
              "      <td>1</td>\n",
              "      <td>Corte Longitudinal</td>\n",
              "    </tr>\n",
              "    <tr>\n",
              "      <th>2</th>\n",
              "      <td>2</td>\n",
              "      <td>HS-BRGS_0011</td>\n",
              "      <td>NaN</td>\n",
              "      <td>2</td>\n",
              "      <td>Argentina</td>\n",
              "      <td>1</td>\n",
              "      <td>Corte Longitudinal</td>\n",
              "    </tr>\n",
              "    <tr>\n",
              "      <th>3</th>\n",
              "      <td>2</td>\n",
              "      <td>HS-BRGS_0012</td>\n",
              "      <td>NaN</td>\n",
              "      <td>2</td>\n",
              "      <td>Argentina</td>\n",
              "      <td>1</td>\n",
              "      <td>Corte Longitudinal</td>\n",
              "    </tr>\n",
              "    <tr>\n",
              "      <th>4</th>\n",
              "      <td>2</td>\n",
              "      <td>HS-BRGS_0013</td>\n",
              "      <td>NaN</td>\n",
              "      <td>2</td>\n",
              "      <td>Argentina</td>\n",
              "      <td>1</td>\n",
              "      <td>Corte Longitudinal</td>\n",
              "    </tr>\n",
              "    <tr>\n",
              "      <th>...</th>\n",
              "      <td>...</td>\n",
              "      <td>...</td>\n",
              "      <td>...</td>\n",
              "      <td>...</td>\n",
              "      <td>...</td>\n",
              "      <td>...</td>\n",
              "      <td>...</td>\n",
              "    </tr>\n",
              "    <tr>\n",
              "      <th>7792</th>\n",
              "      <td>36</td>\n",
              "      <td>HS-CMPS_10763</td>\n",
              "      <td>NaN</td>\n",
              "      <td>36</td>\n",
              "      <td>Dongguan</td>\n",
              "      <td>1</td>\n",
              "      <td>Blanking</td>\n",
              "    </tr>\n",
              "    <tr>\n",
              "      <th>7793</th>\n",
              "      <td>2</td>\n",
              "      <td>HS-BRGS_10764</td>\n",
              "      <td>NaN</td>\n",
              "      <td>2</td>\n",
              "      <td>Argentina</td>\n",
              "      <td>1</td>\n",
              "      <td>Corte Longitudinal</td>\n",
              "    </tr>\n",
              "    <tr>\n",
              "      <th>7794</th>\n",
              "      <td>20</td>\n",
              "      <td>HS-CLMB_10765</td>\n",
              "      <td>NaN</td>\n",
              "      <td>20</td>\n",
              "      <td>Burgos</td>\n",
              "      <td>1</td>\n",
              "      <td>Skinpass</td>\n",
              "    </tr>\n",
              "    <tr>\n",
              "      <th>7795</th>\n",
              "      <td>5</td>\n",
              "      <td>HS-VLNC_10766</td>\n",
              "      <td>NaN</td>\n",
              "      <td>5</td>\n",
              "      <td>Arizona</td>\n",
              "      <td>1</td>\n",
              "      <td>Corte Láser</td>\n",
              "    </tr>\n",
              "    <tr>\n",
              "      <th>7796</th>\n",
              "      <td>15</td>\n",
              "      <td>HS-HIAS_10767</td>\n",
              "      <td>NaN</td>\n",
              "      <td>15</td>\n",
              "      <td>Burgos</td>\n",
              "      <td>1</td>\n",
              "      <td>Corte Longitudinal</td>\n",
              "    </tr>\n",
              "  </tbody>\n",
              "</table>\n",
              "<p>7797 rows × 7 columns</p>\n",
              "</div>"
            ],
            "text/plain": [
              "      Planta Codigo accidentado  ... Activo          Tecnología\n",
              "0          2       HS-BRGS_0001  ...      1  Corte Longitudinal\n",
              "1          2       HS-BRGS_0010  ...      1  Corte Longitudinal\n",
              "2          2       HS-BRGS_0011  ...      1  Corte Longitudinal\n",
              "3          2       HS-BRGS_0012  ...      1  Corte Longitudinal\n",
              "4          2       HS-BRGS_0013  ...      1  Corte Longitudinal\n",
              "...      ...                ...  ...    ...                 ...\n",
              "7792      36      HS-CMPS_10763  ...      1            Blanking\n",
              "7793       2      HS-BRGS_10764  ...      1  Corte Longitudinal\n",
              "7794      20      HS-CLMB_10765  ...      1            Skinpass\n",
              "7795       5      HS-VLNC_10766  ...      1         Corte Láser\n",
              "7796      15      HS-HIAS_10767  ...      1  Corte Longitudinal\n",
              "\n",
              "[7797 rows x 7 columns]"
            ]
          },
          "metadata": {
            "tags": []
          },
          "execution_count": 57
        }
      ]
    },
    {
      "cell_type": "code",
      "metadata": {
        "colab": {
          "base_uri": "https://localhost:8080/",
          "height": 295
        },
        "id": "_qLnGssICtld",
        "outputId": "0c32350e-7bad-40e0-dbb7-766af9c807e1"
      },
      "source": [
        "plt.figure(figsize=(20,4)) \n",
        "ax = sns.countplot(x=\"Fabrica\", hue = 'Gravedad potencial', data=plant)\n",
        "ax.set_title('Nº accidents by location and severity')\n",
        "plt.show()"
      ],
      "execution_count": 58,
      "outputs": [
        {
          "output_type": "display_data",
          "data": {
            "image/png": "[encoded data removed]",
            "text/plain": [
              "<Figure size 1440x288 with 1 Axes>"
            ]
          },
          "metadata": {
            "tags": [],
            "needs_background": "light"
          }
        }
      ]
    },
    {
      "cell_type": "code",
      "metadata": {
        "colab": {
          "base_uri": "https://localhost:8080/",
          "height": 296
        },
        "id": "-dugO9DmC9_n",
        "outputId": "4b52aa3a-bdb4-49ac-c651-c715cb31ee13"
      },
      "source": [
        "plt.figure(figsize=(20,4)) \n",
        "ax = sns.countplot(x=\"Tecnología\", hue = 'Gravedad potencial', data=plant)\n",
        "ax.set_title('Nº accidents by technology and severity')\n",
        "plt.show()"
      ],
      "execution_count": 59,
      "outputs": [
        {
          "output_type": "display_data",
          "data": {
            "image/png": "[encoded data removed]",
            "text/plain": [
              "<Figure size 1440x288 with 1 Axes>"
            ]
          },
          "metadata": {
            "tags": [],
            "needs_background": "light"
          }
        }
      ]
    },
    {
      "cell_type": "code",
      "metadata": {
        "id": "QryAY831ETRL"
      },
      "source": [
        "plant = plant.reset_index()"
      ],
      "execution_count": 60,
      "outputs": []
    },
    {
      "cell_type": "code",
      "metadata": {
        "colab": {
          "base_uri": "https://localhost:8080/",
          "height": 402
        },
        "id": "WmTw3oP1EZke",
        "outputId": "ef64d5b3-de0c-4078-910f-f706fbc12bd7"
      },
      "source": [
        "plant.head()"
      ],
      "execution_count": 61,
      "outputs": [
        {
          "output_type": "execute_result",
          "data": {
            "text/html": [
              "<div>\n",
              "<style scoped>\n",
              "    .dataframe tbody tr th:only-of-type {\n",
              "        vertical-align: middle;\n",
              "    }\n",
              "\n",
              "    .dataframe tbody tr th {\n",
              "        vertical-align: top;\n",
              "    }\n",
              "\n",
              "    .dataframe thead th {\n",
              "        text-align: right;\n",
              "    }\n",
              "</style>\n",
              "<table border=\"1\" class=\"dataframe\">\n",
              "  <thead>\n",
              "    <tr style=\"text-align: right;\">\n",
              "      <th></th>\n",
              "      <th>index</th>\n",
              "      <th>Planta</th>\n",
              "      <th>Codigo accidentado</th>\n",
              "      <th>Gravedad potencial</th>\n",
              "      <th>ID</th>\n",
              "      <th>Fabrica</th>\n",
              "      <th>Activo</th>\n",
              "      <th>Tecnología</th>\n",
              "    </tr>\n",
              "  </thead>\n",
              "  <tbody>\n",
              "    <tr>\n",
              "      <th>0</th>\n",
              "      <td>0</td>\n",
              "      <td>2</td>\n",
              "      <td>HS-BRGS_0001</td>\n",
              "      <td>NaN</td>\n",
              "      <td>2</td>\n",
              "      <td>Argentina</td>\n",
              "      <td>1</td>\n",
              "      <td>Corte Longitudinal</td>\n",
              "    </tr>\n",
              "    <tr>\n",
              "      <th>1</th>\n",
              "      <td>1</td>\n",
              "      <td>2</td>\n",
              "      <td>HS-BRGS_0010</td>\n",
              "      <td>NaN</td>\n",
              "      <td>2</td>\n",
              "      <td>Argentina</td>\n",
              "      <td>1</td>\n",
              "      <td>Corte Longitudinal</td>\n",
              "    </tr>\n",
              "    <tr>\n",
              "      <th>2</th>\n",
              "      <td>2</td>\n",
              "      <td>2</td>\n",
              "      <td>HS-BRGS_0011</td>\n",
              "      <td>NaN</td>\n",
              "      <td>2</td>\n",
              "      <td>Argentina</td>\n",
              "      <td>1</td>\n",
              "      <td>Corte Longitudinal</td>\n",
              "    </tr>\n",
              "    <tr>\n",
              "      <th>3</th>\n",
              "      <td>3</td>\n",
              "      <td>2</td>\n",
              "      <td>HS-BRGS_0012</td>\n",
              "      <td>NaN</td>\n",
              "      <td>2</td>\n",
              "      <td>Argentina</td>\n",
              "      <td>1</td>\n",
              "      <td>Corte Longitudinal</td>\n",
              "    </tr>\n",
              "    <tr>\n",
              "      <th>4</th>\n",
              "      <td>4</td>\n",
              "      <td>2</td>\n",
              "      <td>HS-BRGS_0013</td>\n",
              "      <td>NaN</td>\n",
              "      <td>2</td>\n",
              "      <td>Argentina</td>\n",
              "      <td>1</td>\n",
              "      <td>Corte Longitudinal</td>\n",
              "    </tr>\n",
              "    <tr>\n",
              "      <th>...</th>\n",
              "      <td>...</td>\n",
              "      <td>...</td>\n",
              "      <td>...</td>\n",
              "      <td>...</td>\n",
              "      <td>...</td>\n",
              "      <td>...</td>\n",
              "      <td>...</td>\n",
              "      <td>...</td>\n",
              "    </tr>\n",
              "    <tr>\n",
              "      <th>7792</th>\n",
              "      <td>7792</td>\n",
              "      <td>36</td>\n",
              "      <td>HS-CMPS_10763</td>\n",
              "      <td>NaN</td>\n",
              "      <td>36</td>\n",
              "      <td>Dongguan</td>\n",
              "      <td>1</td>\n",
              "      <td>Blanking</td>\n",
              "    </tr>\n",
              "    <tr>\n",
              "      <th>7793</th>\n",
              "      <td>7793</td>\n",
              "      <td>2</td>\n",
              "      <td>HS-BRGS_10764</td>\n",
              "      <td>NaN</td>\n",
              "      <td>2</td>\n",
              "      <td>Argentina</td>\n",
              "      <td>1</td>\n",
              "      <td>Corte Longitudinal</td>\n",
              "    </tr>\n",
              "    <tr>\n",
              "      <th>7794</th>\n",
              "      <td>7794</td>\n",
              "      <td>20</td>\n",
              "      <td>HS-CLMB_10765</td>\n",
              "      <td>NaN</td>\n",
              "      <td>20</td>\n",
              "      <td>Burgos</td>\n",
              "      <td>1</td>\n",
              "      <td>Skinpass</td>\n",
              "    </tr>\n",
              "    <tr>\n",
              "      <th>7795</th>\n",
              "      <td>7795</td>\n",
              "      <td>5</td>\n",
              "      <td>HS-VLNC_10766</td>\n",
              "      <td>NaN</td>\n",
              "      <td>5</td>\n",
              "      <td>Arizona</td>\n",
              "      <td>1</td>\n",
              "      <td>Corte Láser</td>\n",
              "    </tr>\n",
              "    <tr>\n",
              "      <th>7796</th>\n",
              "      <td>7796</td>\n",
              "      <td>15</td>\n",
              "      <td>HS-HIAS_10767</td>\n",
              "      <td>NaN</td>\n",
              "      <td>15</td>\n",
              "      <td>Burgos</td>\n",
              "      <td>1</td>\n",
              "      <td>Corte Longitudinal</td>\n",
              "    </tr>\n",
              "  </tbody>\n",
              "</table>\n",
              "<p>7797 rows × 8 columns</p>\n",
              "</div>"
            ],
            "text/plain": [
              "      index  Planta Codigo accidentado  ...    Fabrica  Activo          Tecnología\n",
              "0         0       2       HS-BRGS_0001  ...  Argentina       1  Corte Longitudinal\n",
              "1         1       2       HS-BRGS_0010  ...  Argentina       1  Corte Longitudinal\n",
              "2         2       2       HS-BRGS_0011  ...  Argentina       1  Corte Longitudinal\n",
              "3         3       2       HS-BRGS_0012  ...  Argentina       1  Corte Longitudinal\n",
              "4         4       2       HS-BRGS_0013  ...  Argentina       1  Corte Longitudinal\n",
              "...     ...     ...                ...  ...        ...     ...                 ...\n",
              "7792   7792      36      HS-CMPS_10763  ...   Dongguan       1            Blanking\n",
              "7793   7793       2      HS-BRGS_10764  ...  Argentina       1  Corte Longitudinal\n",
              "7794   7794      20      HS-CLMB_10765  ...     Burgos       1            Skinpass\n",
              "7795   7795       5      HS-VLNC_10766  ...    Arizona       1         Corte Láser\n",
              "7796   7796      15      HS-HIAS_10767  ...     Burgos       1  Corte Longitudinal\n",
              "\n",
              "[7797 rows x 8 columns]"
            ]
          },
          "metadata": {
            "tags": []
          },
          "execution_count": 61
        }
      ]
    },
    {
      "cell_type": "code",
      "metadata": {
        "colab": {
          "base_uri": "https://localhost:8080/",
          "height": 1000
        },
        "id": "UASL2piXD0Sm",
        "outputId": "505db76a-fc42-45fa-d82d-54e602e73365"
      },
      "source": [
        "plant_grouped = plant.groupby(['Fabrica','Gravedad potencial']).agg('count').sort_values('index', ascending=False)\n",
        "plant_grouped.head()"
      ],
      "execution_count": 62,
      "outputs": [
        {
          "output_type": "execute_result",
          "data": {
            "text/html": [
              "<div>\n",
              "<style scoped>\n",
              "    .dataframe tbody tr th:only-of-type {\n",
              "        vertical-align: middle;\n",
              "    }\n",
              "\n",
              "    .dataframe tbody tr th {\n",
              "        vertical-align: top;\n",
              "    }\n",
              "\n",
              "    .dataframe thead th {\n",
              "        text-align: right;\n",
              "    }\n",
              "</style>\n",
              "<table border=\"1\" class=\"dataframe\">\n",
              "  <thead>\n",
              "    <tr style=\"text-align: right;\">\n",
              "      <th></th>\n",
              "      <th></th>\n",
              "      <th>index</th>\n",
              "      <th>Planta</th>\n",
              "      <th>Codigo accidentado</th>\n",
              "      <th>ID</th>\n",
              "      <th>Activo</th>\n",
              "      <th>Tecnología</th>\n",
              "    </tr>\n",
              "    <tr>\n",
              "      <th>Fabrica</th>\n",
              "      <th>Gravedad potencial</th>\n",
              "      <th></th>\n",
              "      <th></th>\n",
              "      <th></th>\n",
              "      <th></th>\n",
              "      <th></th>\n",
              "      <th></th>\n",
              "    </tr>\n",
              "  </thead>\n",
              "  <tbody>\n",
              "    <tr>\n",
              "      <th rowspan=\"2\" valign=\"top\">Burgos</th>\n",
              "      <th>Grave</th>\n",
              "      <td>484</td>\n",
              "      <td>484</td>\n",
              "      <td>484</td>\n",
              "      <td>484</td>\n",
              "      <td>484</td>\n",
              "      <td>484</td>\n",
              "    </tr>\n",
              "    <tr>\n",
              "      <th>Leve</th>\n",
              "      <td>449</td>\n",
              "      <td>449</td>\n",
              "      <td>449</td>\n",
              "      <td>449</td>\n",
              "      <td>449</td>\n",
              "      <td>449</td>\n",
              "    </tr>\n",
              "    <tr>\n",
              "      <th rowspan=\"3\" valign=\"top\">Argentina</th>\n",
              "      <th>Leve</th>\n",
              "      <td>394</td>\n",
              "      <td>394</td>\n",
              "      <td>394</td>\n",
              "      <td>394</td>\n",
              "      <td>394</td>\n",
              "      <td>394</td>\n",
              "    </tr>\n",
              "    <tr>\n",
              "      <th>Grave</th>\n",
              "      <td>249</td>\n",
              "      <td>249</td>\n",
              "      <td>249</td>\n",
              "      <td>249</td>\n",
              "      <td>249</td>\n",
              "      <td>249</td>\n",
              "    </tr>\n",
              "    <tr>\n",
              "      <th>Muy grave</th>\n",
              "      <td>187</td>\n",
              "      <td>187</td>\n",
              "      <td>187</td>\n",
              "      <td>187</td>\n",
              "      <td>187</td>\n",
              "      <td>187</td>\n",
              "    </tr>\n",
              "    <tr>\n",
              "      <th>Arizona</th>\n",
              "      <th>Leve</th>\n",
              "      <td>178</td>\n",
              "      <td>178</td>\n",
              "      <td>178</td>\n",
              "      <td>178</td>\n",
              "      <td>178</td>\n",
              "      <td>178</td>\n",
              "    </tr>\n",
              "    <tr>\n",
              "      <th>Barcelona</th>\n",
              "      <th>Leve</th>\n",
              "      <td>174</td>\n",
              "      <td>174</td>\n",
              "      <td>174</td>\n",
              "      <td>174</td>\n",
              "      <td>174</td>\n",
              "      <td>174</td>\n",
              "    </tr>\n",
              "    <tr>\n",
              "      <th>Campinas</th>\n",
              "      <th>Grave</th>\n",
              "      <td>158</td>\n",
              "      <td>158</td>\n",
              "      <td>158</td>\n",
              "      <td>158</td>\n",
              "      <td>158</td>\n",
              "      <td>158</td>\n",
              "    </tr>\n",
              "    <tr>\n",
              "      <th>Burgos</th>\n",
              "      <th>Muy grave</th>\n",
              "      <td>153</td>\n",
              "      <td>153</td>\n",
              "      <td>153</td>\n",
              "      <td>153</td>\n",
              "      <td>153</td>\n",
              "      <td>153</td>\n",
              "    </tr>\n",
              "    <tr>\n",
              "      <th>Arizona</th>\n",
              "      <th>Grave</th>\n",
              "      <td>138</td>\n",
              "      <td>138</td>\n",
              "      <td>138</td>\n",
              "      <td>138</td>\n",
              "      <td>138</td>\n",
              "      <td>138</td>\n",
              "    </tr>\n",
              "    <tr>\n",
              "      <th>Campinas</th>\n",
              "      <th>Muy grave</th>\n",
              "      <td>95</td>\n",
              "      <td>95</td>\n",
              "      <td>95</td>\n",
              "      <td>95</td>\n",
              "      <td>95</td>\n",
              "      <td>95</td>\n",
              "    </tr>\n",
              "    <tr>\n",
              "      <th>Hiasa</th>\n",
              "      <th>Leve</th>\n",
              "      <td>81</td>\n",
              "      <td>81</td>\n",
              "      <td>81</td>\n",
              "      <td>81</td>\n",
              "      <td>81</td>\n",
              "      <td>81</td>\n",
              "    </tr>\n",
              "    <tr>\n",
              "      <th>Campinas</th>\n",
              "      <th>Leve</th>\n",
              "      <td>80</td>\n",
              "      <td>80</td>\n",
              "      <td>80</td>\n",
              "      <td>80</td>\n",
              "      <td>80</td>\n",
              "      <td>80</td>\n",
              "    </tr>\n",
              "    <tr>\n",
              "      <th>Loudi</th>\n",
              "      <th>Leve</th>\n",
              "      <td>66</td>\n",
              "      <td>66</td>\n",
              "      <td>66</td>\n",
              "      <td>66</td>\n",
              "      <td>66</td>\n",
              "      <td>66</td>\n",
              "    </tr>\n",
              "    <tr>\n",
              "      <th>Arizona</th>\n",
              "      <th>Muy grave</th>\n",
              "      <td>50</td>\n",
              "      <td>50</td>\n",
              "      <td>50</td>\n",
              "      <td>50</td>\n",
              "      <td>50</td>\n",
              "      <td>50</td>\n",
              "    </tr>\n",
              "    <tr>\n",
              "      <th>Gonvauto Asturias</th>\n",
              "      <th>Muy grave</th>\n",
              "      <td>47</td>\n",
              "      <td>47</td>\n",
              "      <td>47</td>\n",
              "      <td>47</td>\n",
              "      <td>47</td>\n",
              "      <td>47</td>\n",
              "    </tr>\n",
              "    <tr>\n",
              "      <th>Hiasa</th>\n",
              "      <th>Grave</th>\n",
              "      <td>45</td>\n",
              "      <td>45</td>\n",
              "      <td>45</td>\n",
              "      <td>45</td>\n",
              "      <td>45</td>\n",
              "      <td>45</td>\n",
              "    </tr>\n",
              "    <tr>\n",
              "      <th>Gonvauto Asturias</th>\n",
              "      <th>Grave</th>\n",
              "      <td>44</td>\n",
              "      <td>44</td>\n",
              "      <td>44</td>\n",
              "      <td>44</td>\n",
              "      <td>44</td>\n",
              "      <td>44</td>\n",
              "    </tr>\n",
              "    <tr>\n",
              "      <th>Barcelona</th>\n",
              "      <th>Grave</th>\n",
              "      <td>43</td>\n",
              "      <td>43</td>\n",
              "      <td>43</td>\n",
              "      <td>43</td>\n",
              "      <td>43</td>\n",
              "      <td>43</td>\n",
              "    </tr>\n",
              "    <tr>\n",
              "      <th rowspan=\"2\" valign=\"top\">Gonvauto Barcelona</th>\n",
              "      <th>Grave</th>\n",
              "      <td>42</td>\n",
              "      <td>42</td>\n",
              "      <td>42</td>\n",
              "      <td>42</td>\n",
              "      <td>42</td>\n",
              "      <td>42</td>\n",
              "    </tr>\n",
              "    <tr>\n",
              "      <th>Leve</th>\n",
              "      <td>41</td>\n",
              "      <td>41</td>\n",
              "      <td>41</td>\n",
              "      <td>41</td>\n",
              "      <td>41</td>\n",
              "      <td>41</td>\n",
              "    </tr>\n",
              "    <tr>\n",
              "      <th>Gonvauto Asturias</th>\n",
              "      <th>Leve</th>\n",
              "      <td>28</td>\n",
              "      <td>28</td>\n",
              "      <td>28</td>\n",
              "      <td>28</td>\n",
              "      <td>28</td>\n",
              "      <td>28</td>\n",
              "    </tr>\n",
              "    <tr>\n",
              "      <th>Galicia</th>\n",
              "      <th>Leve</th>\n",
              "      <td>25</td>\n",
              "      <td>25</td>\n",
              "      <td>25</td>\n",
              "      <td>25</td>\n",
              "      <td>25</td>\n",
              "      <td>25</td>\n",
              "    </tr>\n",
              "    <tr>\n",
              "      <th>Loudi</th>\n",
              "      <th>Grave</th>\n",
              "      <td>22</td>\n",
              "      <td>22</td>\n",
              "      <td>22</td>\n",
              "      <td>22</td>\n",
              "      <td>22</td>\n",
              "      <td>22</td>\n",
              "    </tr>\n",
              "    <tr>\n",
              "      <th>Galicia</th>\n",
              "      <th>Grave</th>\n",
              "      <td>21</td>\n",
              "      <td>21</td>\n",
              "      <td>21</td>\n",
              "      <td>21</td>\n",
              "      <td>21</td>\n",
              "      <td>21</td>\n",
              "    </tr>\n",
              "    <tr>\n",
              "      <th rowspan=\"2\" valign=\"top\">Czech</th>\n",
              "      <th>Leve</th>\n",
              "      <td>12</td>\n",
              "      <td>12</td>\n",
              "      <td>12</td>\n",
              "      <td>12</td>\n",
              "      <td>12</td>\n",
              "      <td>12</td>\n",
              "    </tr>\n",
              "    <tr>\n",
              "      <th>Grave</th>\n",
              "      <td>11</td>\n",
              "      <td>11</td>\n",
              "      <td>11</td>\n",
              "      <td>11</td>\n",
              "      <td>11</td>\n",
              "      <td>11</td>\n",
              "    </tr>\n",
              "    <tr>\n",
              "      <th>Dongguan</th>\n",
              "      <th>Grave</th>\n",
              "      <td>10</td>\n",
              "      <td>10</td>\n",
              "      <td>10</td>\n",
              "      <td>10</td>\n",
              "      <td>10</td>\n",
              "      <td>10</td>\n",
              "    </tr>\n",
              "    <tr>\n",
              "      <th>Hiasa</th>\n",
              "      <th>Muy grave</th>\n",
              "      <td>10</td>\n",
              "      <td>10</td>\n",
              "      <td>10</td>\n",
              "      <td>10</td>\n",
              "      <td>10</td>\n",
              "      <td>10</td>\n",
              "    </tr>\n",
              "    <tr>\n",
              "      <th>Galicia</th>\n",
              "      <th>Muy grave</th>\n",
              "      <td>9</td>\n",
              "      <td>9</td>\n",
              "      <td>9</td>\n",
              "      <td>9</td>\n",
              "      <td>9</td>\n",
              "      <td>9</td>\n",
              "    </tr>\n",
              "    <tr>\n",
              "      <th>Barcelona</th>\n",
              "      <th>Muy grave</th>\n",
              "      <td>5</td>\n",
              "      <td>5</td>\n",
              "      <td>5</td>\n",
              "      <td>5</td>\n",
              "      <td>5</td>\n",
              "      <td>5</td>\n",
              "    </tr>\n",
              "    <tr>\n",
              "      <th>Loudi</th>\n",
              "      <th>Muy grave</th>\n",
              "      <td>5</td>\n",
              "      <td>5</td>\n",
              "      <td>5</td>\n",
              "      <td>5</td>\n",
              "      <td>5</td>\n",
              "      <td>5</td>\n",
              "    </tr>\n",
              "    <tr>\n",
              "      <th>Gonvauto Barcelona</th>\n",
              "      <th>Muy grave</th>\n",
              "      <td>3</td>\n",
              "      <td>3</td>\n",
              "      <td>3</td>\n",
              "      <td>3</td>\n",
              "      <td>3</td>\n",
              "      <td>3</td>\n",
              "    </tr>\n",
              "    <tr>\n",
              "      <th>Kaluga</th>\n",
              "      <th>Leve</th>\n",
              "      <td>2</td>\n",
              "      <td>2</td>\n",
              "      <td>2</td>\n",
              "      <td>2</td>\n",
              "      <td>2</td>\n",
              "      <td>2</td>\n",
              "    </tr>\n",
              "    <tr>\n",
              "      <th rowspan=\"2\" valign=\"top\">Dongguan</th>\n",
              "      <th>Leve</th>\n",
              "      <td>2</td>\n",
              "      <td>2</td>\n",
              "      <td>2</td>\n",
              "      <td>2</td>\n",
              "      <td>2</td>\n",
              "      <td>2</td>\n",
              "    </tr>\n",
              "    <tr>\n",
              "      <th>Muy grave</th>\n",
              "      <td>2</td>\n",
              "      <td>2</td>\n",
              "      <td>2</td>\n",
              "      <td>2</td>\n",
              "      <td>2</td>\n",
              "      <td>2</td>\n",
              "    </tr>\n",
              "    <tr>\n",
              "      <th>Czech</th>\n",
              "      <th>Muy grave</th>\n",
              "      <td>2</td>\n",
              "      <td>2</td>\n",
              "      <td>2</td>\n",
              "      <td>2</td>\n",
              "      <td>2</td>\n",
              "      <td>2</td>\n",
              "    </tr>\n",
              "    <tr>\n",
              "      <th>Kaluga</th>\n",
              "      <th>Grave</th>\n",
              "      <td>1</td>\n",
              "      <td>1</td>\n",
              "      <td>1</td>\n",
              "      <td>1</td>\n",
              "      <td>1</td>\n",
              "      <td>1</td>\n",
              "    </tr>\n",
              "    <tr>\n",
              "      <th>Tarragona</th>\n",
              "      <th>Grave</th>\n",
              "      <td>1</td>\n",
              "      <td>1</td>\n",
              "      <td>1</td>\n",
              "      <td>1</td>\n",
              "      <td>1</td>\n",
              "      <td>1</td>\n",
              "    </tr>\n",
              "  </tbody>\n",
              "</table>\n",
              "</div>"
            ],
            "text/plain": [
              "                                       index  Planta  ...  Activo  Tecnología\n",
              "Fabrica            Gravedad potencial                 ...                    \n",
              "Burgos             Grave                 484     484  ...     484         484\n",
              "                   Leve                  449     449  ...     449         449\n",
              "Argentina          Leve                  394     394  ...     394         394\n",
              "                   Grave                 249     249  ...     249         249\n",
              "                   Muy grave             187     187  ...     187         187\n",
              "Arizona            Leve                  178     178  ...     178         178\n",
              "Barcelona          Leve                  174     174  ...     174         174\n",
              "Campinas           Grave                 158     158  ...     158         158\n",
              "Burgos             Muy grave             153     153  ...     153         153\n",
              "Arizona            Grave                 138     138  ...     138         138\n",
              "Campinas           Muy grave              95      95  ...      95          95\n",
              "Hiasa              Leve                   81      81  ...      81          81\n",
              "Campinas           Leve                   80      80  ...      80          80\n",
              "Loudi              Leve                   66      66  ...      66          66\n",
              "Arizona            Muy grave              50      50  ...      50          50\n",
              "Gonvauto Asturias  Muy grave              47      47  ...      47          47\n",
              "Hiasa              Grave                  45      45  ...      45          45\n",
              "Gonvauto Asturias  Grave                  44      44  ...      44          44\n",
              "Barcelona          Grave                  43      43  ...      43          43\n",
              "Gonvauto Barcelona Grave                  42      42  ...      42          42\n",
              "                   Leve                   41      41  ...      41          41\n",
              "Gonvauto Asturias  Leve                   28      28  ...      28          28\n",
              "Galicia            Leve                   25      25  ...      25          25\n",
              "Loudi              Grave                  22      22  ...      22          22\n",
              "Galicia            Grave                  21      21  ...      21          21\n",
              "Czech              Leve                   12      12  ...      12          12\n",
              "                   Grave                  11      11  ...      11          11\n",
              "Dongguan           Grave                  10      10  ...      10          10\n",
              "Hiasa              Muy grave              10      10  ...      10          10\n",
              "Galicia            Muy grave               9       9  ...       9           9\n",
              "Barcelona          Muy grave               5       5  ...       5           5\n",
              "Loudi              Muy grave               5       5  ...       5           5\n",
              "Gonvauto Barcelona Muy grave               3       3  ...       3           3\n",
              "Kaluga             Leve                    2       2  ...       2           2\n",
              "Dongguan           Leve                    2       2  ...       2           2\n",
              "                   Muy grave               2       2  ...       2           2\n",
              "Czech              Muy grave               2       2  ...       2           2\n",
              "Kaluga             Grave                   1       1  ...       1           1\n",
              "Tarragona          Grave                   1       1  ...       1           1\n",
              "\n",
              "[39 rows x 6 columns]"
            ]
          },
          "metadata": {
            "tags": []
          },
          "execution_count": 62
        }
      ]
    },
    {
      "cell_type": "code",
      "metadata": {
        "id": "R00MudlcEvQh"
      },
      "source": [
        "plant_grouped = plant_grouped.reset_index().head(10)"
      ],
      "execution_count": 63,
      "outputs": []
    },
    {
      "cell_type": "code",
      "metadata": {
        "colab": {
          "base_uri": "https://localhost:8080/",
          "height": 343
        },
        "id": "2totQei1FC3r",
        "outputId": "a66f0efe-85ca-4d9f-d140-eaa7df27934a"
      },
      "source": [
        "plant_grouped"
      ],
      "execution_count": 64,
      "outputs": [
        {
          "output_type": "execute_result",
          "data": {
            "text/html": [
              "<div>\n",
              "<style scoped>\n",
              "    .dataframe tbody tr th:only-of-type {\n",
              "        vertical-align: middle;\n",
              "    }\n",
              "\n",
              "    .dataframe tbody tr th {\n",
              "        vertical-align: top;\n",
              "    }\n",
              "\n",
              "    .dataframe thead th {\n",
              "        text-align: right;\n",
              "    }\n",
              "</style>\n",
              "<table border=\"1\" class=\"dataframe\">\n",
              "  <thead>\n",
              "    <tr style=\"text-align: right;\">\n",
              "      <th></th>\n",
              "      <th>Fabrica</th>\n",
              "      <th>Gravedad potencial</th>\n",
              "      <th>index</th>\n",
              "      <th>Planta</th>\n",
              "      <th>Codigo accidentado</th>\n",
              "      <th>ID</th>\n",
              "      <th>Activo</th>\n",
              "      <th>Tecnología</th>\n",
              "    </tr>\n",
              "  </thead>\n",
              "  <tbody>\n",
              "    <tr>\n",
              "      <th>0</th>\n",
              "      <td>Burgos</td>\n",
              "      <td>Grave</td>\n",
              "      <td>484</td>\n",
              "      <td>484</td>\n",
              "      <td>484</td>\n",
              "      <td>484</td>\n",
              "      <td>484</td>\n",
              "      <td>484</td>\n",
              "    </tr>\n",
              "    <tr>\n",
              "      <th>1</th>\n",
              "      <td>Burgos</td>\n",
              "      <td>Leve</td>\n",
              "      <td>449</td>\n",
              "      <td>449</td>\n",
              "      <td>449</td>\n",
              "      <td>449</td>\n",
              "      <td>449</td>\n",
              "      <td>449</td>\n",
              "    </tr>\n",
              "    <tr>\n",
              "      <th>2</th>\n",
              "      <td>Argentina</td>\n",
              "      <td>Leve</td>\n",
              "      <td>394</td>\n",
              "      <td>394</td>\n",
              "      <td>394</td>\n",
              "      <td>394</td>\n",
              "      <td>394</td>\n",
              "      <td>394</td>\n",
              "    </tr>\n",
              "    <tr>\n",
              "      <th>3</th>\n",
              "      <td>Argentina</td>\n",
              "      <td>Grave</td>\n",
              "      <td>249</td>\n",
              "      <td>249</td>\n",
              "      <td>249</td>\n",
              "      <td>249</td>\n",
              "      <td>249</td>\n",
              "      <td>249</td>\n",
              "    </tr>\n",
              "    <tr>\n",
              "      <th>4</th>\n",
              "      <td>Argentina</td>\n",
              "      <td>Muy grave</td>\n",
              "      <td>187</td>\n",
              "      <td>187</td>\n",
              "      <td>187</td>\n",
              "      <td>187</td>\n",
              "      <td>187</td>\n",
              "      <td>187</td>\n",
              "    </tr>\n",
              "    <tr>\n",
              "      <th>5</th>\n",
              "      <td>Arizona</td>\n",
              "      <td>Leve</td>\n",
              "      <td>178</td>\n",
              "      <td>178</td>\n",
              "      <td>178</td>\n",
              "      <td>178</td>\n",
              "      <td>178</td>\n",
              "      <td>178</td>\n",
              "    </tr>\n",
              "    <tr>\n",
              "      <th>6</th>\n",
              "      <td>Barcelona</td>\n",
              "      <td>Leve</td>\n",
              "      <td>174</td>\n",
              "      <td>174</td>\n",
              "      <td>174</td>\n",
              "      <td>174</td>\n",
              "      <td>174</td>\n",
              "      <td>174</td>\n",
              "    </tr>\n",
              "    <tr>\n",
              "      <th>7</th>\n",
              "      <td>Campinas</td>\n",
              "      <td>Grave</td>\n",
              "      <td>158</td>\n",
              "      <td>158</td>\n",
              "      <td>158</td>\n",
              "      <td>158</td>\n",
              "      <td>158</td>\n",
              "      <td>158</td>\n",
              "    </tr>\n",
              "    <tr>\n",
              "      <th>8</th>\n",
              "      <td>Burgos</td>\n",
              "      <td>Muy grave</td>\n",
              "      <td>153</td>\n",
              "      <td>153</td>\n",
              "      <td>153</td>\n",
              "      <td>153</td>\n",
              "      <td>153</td>\n",
              "      <td>153</td>\n",
              "    </tr>\n",
              "    <tr>\n",
              "      <th>9</th>\n",
              "      <td>Arizona</td>\n",
              "      <td>Grave</td>\n",
              "      <td>138</td>\n",
              "      <td>138</td>\n",
              "      <td>138</td>\n",
              "      <td>138</td>\n",
              "      <td>138</td>\n",
              "      <td>138</td>\n",
              "    </tr>\n",
              "  </tbody>\n",
              "</table>\n",
              "</div>"
            ],
            "text/plain": [
              "     Fabrica Gravedad potencial  index  ...   ID  Activo  Tecnología\n",
              "0     Burgos              Grave    484  ...  484     484         484\n",
              "1     Burgos               Leve    449  ...  449     449         449\n",
              "2  Argentina               Leve    394  ...  394     394         394\n",
              "3  Argentina              Grave    249  ...  249     249         249\n",
              "4  Argentina          Muy grave    187  ...  187     187         187\n",
              "5    Arizona               Leve    178  ...  178     178         178\n",
              "6  Barcelona               Leve    174  ...  174     174         174\n",
              "7   Campinas              Grave    158  ...  158     158         158\n",
              "8     Burgos          Muy grave    153  ...  153     153         153\n",
              "9    Arizona              Grave    138  ...  138     138         138\n",
              "\n",
              "[10 rows x 8 columns]"
            ]
          },
          "metadata": {
            "tags": []
          },
          "execution_count": 64
        }
      ]
    },
    {
      "cell_type": "markdown",
      "metadata": {
        "id": "SP6LHHSmFLCI"
      },
      "source": [
        "Burgos is the location with more accidents over all years, with a total of 484, followed by the Argentina plant with 449"
      ]
    },
    {
      "cell_type": "code",
      "metadata": {
        "colab": {
          "base_uri": "https://localhost:8080/",
          "height": 281
        },
        "id": "sU8wg2T9EC0V",
        "outputId": "a5467775-590f-4393-c455-eee4e822bb27"
      },
      "source": [
        "x = plant_grouped['Fabrica']\n",
        "y = plant_grouped['index']\n",
        "\n",
        "plt.bar(x,y)\n",
        "plt.title('Nº accidents by plant')\n",
        "plt.show()\n"
      ],
      "execution_count": 65,
      "outputs": [
        {
          "output_type": "display_data",
          "data": {
            "image/png": "[encoded data removed]",
            "text/plain": [
              "<Figure size 432x288 with 1 Axes>"
            ]
          },
          "metadata": {
            "tags": [],
            "needs_background": "light"
          }
        }
      ]
    },
    {
      "cell_type": "markdown",
      "metadata": {
        "id": "w-lmxP83M43R"
      },
      "source": [
        "We are going to analyze now the number of lost workdays by plant and if the norms were meet or not"
      ]
    },
    {
      "cell_type": "code",
      "metadata": {
        "id": "G8vwnvyPEC5J"
      },
      "source": [
        "normativa = accidentabilidad[['Planta', 'Año', 'Se habian cumplido las normas establecidas, en caso de estar definidas', 'Jornadas laborales perdidas']]"
      ],
      "execution_count": 66,
      "outputs": []
    },
    {
      "cell_type": "code",
      "metadata": {
        "colab": {
          "base_uri": "https://localhost:8080/"
        },
        "id": "2SgSsMP7NBpx",
        "outputId": "21a8b3f6-c8e7-4f86-fd40-c71cc326c994"
      },
      "source": [
        "normativa['Año'] = normativa['Año'].fillna(0).astype(int)"
      ],
      "execution_count": 67,
      "outputs": [
        {
          "output_type": "stream",
          "text": [
            "/usr/local/lib/python3.7/dist-packages/ipykernel_launcher.py:1: SettingWithCopyWarning: \n",
            "A value is trying to be set on a copy of a slice from a DataFrame.\n",
            "Try using .loc[row_indexer,col_indexer] = value instead\n",
            "\n",
            "See the caveats in the documentation: https://pandas.pydata.org/pandas-docs/stable/user_guide/indexing.html#returning-a-view-versus-a-copy\n",
            "  \"\"\"Entry point for launching an IPython kernel.\n"
          ],
          "name": "stderr"
        }
      ]
    },
    {
      "cell_type": "code",
      "metadata": {
        "colab": {
          "base_uri": "https://localhost:8080/"
        },
        "id": "c0cTUoydNKXn",
        "outputId": "8c440db5-d3f2-49b2-816a-84ed4fa33852"
      },
      "source": [
        "normativa.rename(columns={'Se habian cumplido las normas establecidas, en caso de estar definidas': 'Norma'}, inplace=True)"
      ],
      "execution_count": 68,
      "outputs": [
        {
          "output_type": "stream",
          "text": [
            "/usr/local/lib/python3.7/dist-packages/pandas/core/frame.py:4308: SettingWithCopyWarning: \n",
            "A value is trying to be set on a copy of a slice from a DataFrame\n",
            "\n",
            "See the caveats in the documentation: https://pandas.pydata.org/pandas-docs/stable/user_guide/indexing.html#returning-a-view-versus-a-copy\n",
            "  errors=errors,\n"
          ],
          "name": "stderr"
        }
      ]
    },
    {
      "cell_type": "code",
      "metadata": {
        "colab": {
          "base_uri": "https://localhost:8080/",
          "height": 195
        },
        "id": "OOsOiilqNTvG",
        "outputId": "56c7a78c-60da-4f7a-aa03-cfbad29fbcf2"
      },
      "source": [
        "normativa = normativa.merge(plants_catalog, left_on='Planta', right_on='ID', how='inner')\n",
        "normativa.head()"
      ],
      "execution_count": 69,
      "outputs": [
        {
          "output_type": "execute_result",
          "data": {
            "text/html": [
              "<div>\n",
              "<style scoped>\n",
              "    .dataframe tbody tr th:only-of-type {\n",
              "        vertical-align: middle;\n",
              "    }\n",
              "\n",
              "    .dataframe tbody tr th {\n",
              "        vertical-align: top;\n",
              "    }\n",
              "\n",
              "    .dataframe thead th {\n",
              "        text-align: right;\n",
              "    }\n",
              "</style>\n",
              "<table border=\"1\" class=\"dataframe\">\n",
              "  <thead>\n",
              "    <tr style=\"text-align: right;\">\n",
              "      <th></th>\n",
              "      <th>Planta</th>\n",
              "      <th>Año</th>\n",
              "      <th>Norma</th>\n",
              "      <th>Jornadas laborales perdidas</th>\n",
              "      <th>ID</th>\n",
              "      <th>Fabrica</th>\n",
              "      <th>Activo</th>\n",
              "      <th>Tecnología</th>\n",
              "    </tr>\n",
              "  </thead>\n",
              "  <tbody>\n",
              "    <tr>\n",
              "      <th>0</th>\n",
              "      <td>2</td>\n",
              "      <td>2016</td>\n",
              "      <td>NaN</td>\n",
              "      <td>NaN</td>\n",
              "      <td>2</td>\n",
              "      <td>Argentina</td>\n",
              "      <td>1</td>\n",
              "      <td>Corte Longitudinal</td>\n",
              "    </tr>\n",
              "    <tr>\n",
              "      <th>1</th>\n",
              "      <td>2</td>\n",
              "      <td>2016</td>\n",
              "      <td>NaN</td>\n",
              "      <td>NaN</td>\n",
              "      <td>2</td>\n",
              "      <td>Argentina</td>\n",
              "      <td>1</td>\n",
              "      <td>Corte Longitudinal</td>\n",
              "    </tr>\n",
              "    <tr>\n",
              "      <th>2</th>\n",
              "      <td>2</td>\n",
              "      <td>2016</td>\n",
              "      <td>NaN</td>\n",
              "      <td>NaN</td>\n",
              "      <td>2</td>\n",
              "      <td>Argentina</td>\n",
              "      <td>1</td>\n",
              "      <td>Corte Longitudinal</td>\n",
              "    </tr>\n",
              "    <tr>\n",
              "      <th>3</th>\n",
              "      <td>2</td>\n",
              "      <td>2016</td>\n",
              "      <td>NaN</td>\n",
              "      <td>0.0</td>\n",
              "      <td>2</td>\n",
              "      <td>Argentina</td>\n",
              "      <td>1</td>\n",
              "      <td>Corte Longitudinal</td>\n",
              "    </tr>\n",
              "    <tr>\n",
              "      <th>4</th>\n",
              "      <td>2</td>\n",
              "      <td>2016</td>\n",
              "      <td>NaN</td>\n",
              "      <td>NaN</td>\n",
              "      <td>2</td>\n",
              "      <td>Argentina</td>\n",
              "      <td>1</td>\n",
              "      <td>Corte Longitudinal</td>\n",
              "    </tr>\n",
              "  </tbody>\n",
              "</table>\n",
              "</div>"
            ],
            "text/plain": [
              "   Planta   Año Norma  ...    Fabrica  Activo          Tecnología\n",
              "0       2  2016   NaN  ...  Argentina       1  Corte Longitudinal\n",
              "1       2  2016   NaN  ...  Argentina       1  Corte Longitudinal\n",
              "2       2  2016   NaN  ...  Argentina       1  Corte Longitudinal\n",
              "3       2  2016   NaN  ...  Argentina       1  Corte Longitudinal\n",
              "4       2  2016   NaN  ...  Argentina       1  Corte Longitudinal\n",
              "\n",
              "[5 rows x 8 columns]"
            ]
          },
          "metadata": {
            "tags": []
          },
          "execution_count": 69
        }
      ]
    },
    {
      "cell_type": "code",
      "metadata": {
        "colab": {
          "base_uri": "https://localhost:8080/"
        },
        "id": "WEUmjI3cOVoZ",
        "outputId": "f77d1c61-3851-4796-ab76-442968cbb2e6"
      },
      "source": [
        "len(normativa.Fabrica.unique())"
      ],
      "execution_count": 70,
      "outputs": [
        {
          "output_type": "execute_result",
          "data": {
            "text/plain": [
              "14"
            ]
          },
          "metadata": {
            "tags": []
          },
          "execution_count": 70
        }
      ]
    },
    {
      "cell_type": "code",
      "metadata": {
        "colab": {
          "base_uri": "https://localhost:8080/",
          "height": 295
        },
        "id": "V4v_GGA9NZtr",
        "outputId": "06171a18-3089-4526-d29c-a81d592d78f9"
      },
      "source": [
        "plt.figure(figsize=(20,4)) \n",
        "ax = sns.countplot(x=\"Fabrica\", hue = 'Norma', data=normativa)\n",
        "plt.legend(loc='upper right')\n",
        "ax.set_title('Nº lost workdays by plant and if the norms have been met')\n",
        "plt.show()"
      ],
      "execution_count": 71,
      "outputs": [
        {
          "output_type": "display_data",
          "data": {
            "image/png": "[encoded data removed]",
            "text/plain": [
              "<Figure size 1440x288 with 1 Axes>"
            ]
          },
          "metadata": {
            "tags": [],
            "needs_background": "light"
          }
        }
      ]
    },
    {
      "cell_type": "code",
      "metadata": {
        "colab": {
          "base_uri": "https://localhost:8080/"
        },
        "id": "i14uMUB9TTNd",
        "outputId": "0811f2d5-6213-47fb-9720-c43b69cd516d"
      },
      "source": [
        "accidentabilidad.columns"
      ],
      "execution_count": 72,
      "outputs": [
        {
          "output_type": "execute_result",
          "data": {
            "text/plain": [
              "Index(['ID', '-  DATOS DEL SUCESO -', 'Codigo accidentado',\n",
              "       'Fecha introduccion datos', 'Fecha accidente', 'Año',\n",
              "       'Codigo fecha accidente', 'Planta', 'Código empleado', 'Supervisor',\n",
              "       ...\n",
              "       '- PROPUESTA INICIAL DE MEDIDAS A PLANIFICAR -',\n",
              "       'Medida a planificar 1', 'Medida a planificar 2',\n",
              "       'Medida a planificar 3', 'Notificacion o investigacion',\n",
              "       'Modifica notificacion',\n",
              "       'Se ha dado un suceso similar (en cuanto a sus causas y consecuencias) en el último año en planta?',\n",
              "       'En caso afirmativo, cual es y como se actuó?', 'Tipo Tema',\n",
              "       'Acta reunión alta baja'],\n",
              "      dtype='object', length=106)"
            ]
          },
          "metadata": {
            "tags": []
          },
          "execution_count": 72
        }
      ]
    },
    {
      "cell_type": "markdown",
      "metadata": {
        "id": "KACwhrmPQYdY"
      },
      "source": [
        "### Accident Index calculation\n",
        "\n",
        "Accident index = Nº accidents / Nº employees"
      ]
    },
    {
      "cell_type": "code",
      "metadata": {
        "colab": {
          "base_uri": "https://localhost:8080/",
          "height": 195
        },
        "id": "Wzjyz-ELQcZ-",
        "outputId": "b2fa5a47-7371-4cf6-cef1-c9edc865a0bb"
      },
      "source": [
        "# we come back to our dataframe with the accidents code per year and its accident type\n",
        "year_df.head()"
      ],
      "execution_count": 74,
      "outputs": [
        {
          "output_type": "execute_result",
          "data": {
            "text/html": [
              "<div>\n",
              "<style scoped>\n",
              "    .dataframe tbody tr th:only-of-type {\n",
              "        vertical-align: middle;\n",
              "    }\n",
              "\n",
              "    .dataframe tbody tr th {\n",
              "        vertical-align: top;\n",
              "    }\n",
              "\n",
              "    .dataframe thead th {\n",
              "        text-align: right;\n",
              "    }\n",
              "</style>\n",
              "<table border=\"1\" class=\"dataframe\">\n",
              "  <thead>\n",
              "    <tr style=\"text-align: right;\">\n",
              "      <th></th>\n",
              "      <th>Año</th>\n",
              "      <th>Codigo accidentado</th>\n",
              "      <th>Tipo accidente</th>\n",
              "    </tr>\n",
              "  </thead>\n",
              "  <tbody>\n",
              "    <tr>\n",
              "      <th>0</th>\n",
              "      <td>2016</td>\n",
              "      <td>HS-BRGS_0001</td>\n",
              "      <td>Incidente</td>\n",
              "    </tr>\n",
              "    <tr>\n",
              "      <th>1</th>\n",
              "      <td>2016</td>\n",
              "      <td>HS-BRGS_0010</td>\n",
              "      <td>Incidente</td>\n",
              "    </tr>\n",
              "    <tr>\n",
              "      <th>2</th>\n",
              "      <td>2016</td>\n",
              "      <td>HS-BRGS_0011</td>\n",
              "      <td>Incidente</td>\n",
              "    </tr>\n",
              "    <tr>\n",
              "      <th>3</th>\n",
              "      <td>2016</td>\n",
              "      <td>HS-BRGS_0012</td>\n",
              "      <td>Incidente</td>\n",
              "    </tr>\n",
              "    <tr>\n",
              "      <th>4</th>\n",
              "      <td>2016</td>\n",
              "      <td>HS-BRGS_0013</td>\n",
              "      <td>Incidente</td>\n",
              "    </tr>\n",
              "  </tbody>\n",
              "</table>\n",
              "</div>"
            ],
            "text/plain": [
              "    Año Codigo accidentado Tipo accidente\n",
              "0  2016       HS-BRGS_0001      Incidente\n",
              "1  2016       HS-BRGS_0010      Incidente\n",
              "2  2016       HS-BRGS_0011      Incidente\n",
              "3  2016       HS-BRGS_0012      Incidente\n",
              "4  2016       HS-BRGS_0013      Incidente"
            ]
          },
          "metadata": {
            "tags": []
          },
          "execution_count": 74
        }
      ]
    },
    {
      "cell_type": "code",
      "metadata": {
        "colab": {
          "base_uri": "https://localhost:8080/",
          "height": 225
        },
        "id": "qB8_xoctR4aW",
        "outputId": "8933b7e3-de09-4086-b723-f8ce9e93daf4"
      },
      "source": [
        "total_accidents = year_df.groupby('Año').agg('count')\n",
        "total_accidents.drop(columns={'Tipo accidente'}, inplace=True)\n",
        "total_accidents.rename(columns={'Codigo accidentado':'Nº accidents'}, inplace=True)\n",
        "\n",
        "\n",
        "\n",
        "total_accidents.head()"
      ],
      "execution_count": 80,
      "outputs": [
        {
          "output_type": "execute_result",
          "data": {
            "text/html": [
              "<div>\n",
              "<style scoped>\n",
              "    .dataframe tbody tr th:only-of-type {\n",
              "        vertical-align: middle;\n",
              "    }\n",
              "\n",
              "    .dataframe tbody tr th {\n",
              "        vertical-align: top;\n",
              "    }\n",
              "\n",
              "    .dataframe thead th {\n",
              "        text-align: right;\n",
              "    }\n",
              "</style>\n",
              "<table border=\"1\" class=\"dataframe\">\n",
              "  <thead>\n",
              "    <tr style=\"text-align: right;\">\n",
              "      <th></th>\n",
              "      <th>Nº accidents</th>\n",
              "    </tr>\n",
              "    <tr>\n",
              "      <th>Año</th>\n",
              "      <th></th>\n",
              "    </tr>\n",
              "  </thead>\n",
              "  <tbody>\n",
              "    <tr>\n",
              "      <th>0</th>\n",
              "      <td>282</td>\n",
              "    </tr>\n",
              "    <tr>\n",
              "      <th>2015</th>\n",
              "      <td>202</td>\n",
              "    </tr>\n",
              "    <tr>\n",
              "      <th>2016</th>\n",
              "      <td>1335</td>\n",
              "    </tr>\n",
              "    <tr>\n",
              "      <th>2017</th>\n",
              "      <td>1203</td>\n",
              "    </tr>\n",
              "    <tr>\n",
              "      <th>2018</th>\n",
              "      <td>1532</td>\n",
              "    </tr>\n",
              "  </tbody>\n",
              "</table>\n",
              "</div>"
            ],
            "text/plain": [
              "      Nº accidents\n",
              "Año               \n",
              "0              282\n",
              "2015           202\n",
              "2016          1335\n",
              "2017          1203\n",
              "2018          1532"
            ]
          },
          "metadata": {
            "tags": []
          },
          "execution_count": 80
        }
      ]
    },
    {
      "cell_type": "code",
      "metadata": {
        "id": "9ktXGRsuSUA8"
      },
      "source": [
        "total_accidents = total_accidents.reset_index()"
      ],
      "execution_count": 81,
      "outputs": []
    },
    {
      "cell_type": "code",
      "metadata": {
        "colab": {
          "base_uri": "https://localhost:8080/",
          "height": 195
        },
        "id": "Ozv2GRXGQsxC",
        "outputId": "727a0891-1926-4dd2-dd61-896ce032e652"
      },
      "source": [
        "# we are going to upload the staff data in order to calculate the accident rate for each year of study\n",
        "\n",
        "! cp /content/drive/MyDrive/'Colab Notebooks'/'TFM Accidentabilidad'/Data/Datos_plantilla.xlsx .\n",
        "\n",
        "\n",
        "employees_country = pd.read_excel('Datos_plantilla.xlsx',sheet_name='tipo_empleados_pais')\n",
        "employees_country.head()"
      ],
      "execution_count": 117,
      "outputs": [
        {
          "output_type": "execute_result",
          "data": {
            "text/html": [
              "<div>\n",
              "<style scoped>\n",
              "    .dataframe tbody tr th:only-of-type {\n",
              "        vertical-align: middle;\n",
              "    }\n",
              "\n",
              "    .dataframe tbody tr th {\n",
              "        vertical-align: top;\n",
              "    }\n",
              "\n",
              "    .dataframe thead th {\n",
              "        text-align: right;\n",
              "    }\n",
              "</style>\n",
              "<table border=\"1\" class=\"dataframe\">\n",
              "  <thead>\n",
              "    <tr style=\"text-align: right;\">\n",
              "      <th></th>\n",
              "      <th>Año</th>\n",
              "      <th>País</th>\n",
              "      <th>Tipo contrato</th>\n",
              "      <th>Empleados</th>\n",
              "    </tr>\n",
              "  </thead>\n",
              "  <tbody>\n",
              "    <tr>\n",
              "      <th>0</th>\n",
              "      <td>2018</td>\n",
              "      <td>México</td>\n",
              "      <td>Interno</td>\n",
              "      <td>154</td>\n",
              "    </tr>\n",
              "    <tr>\n",
              "      <th>1</th>\n",
              "      <td>2018</td>\n",
              "      <td>México</td>\n",
              "      <td>Externo</td>\n",
              "      <td>61</td>\n",
              "    </tr>\n",
              "    <tr>\n",
              "      <th>2</th>\n",
              "      <td>2018</td>\n",
              "      <td>EEUU</td>\n",
              "      <td>Interno</td>\n",
              "      <td>105</td>\n",
              "    </tr>\n",
              "    <tr>\n",
              "      <th>3</th>\n",
              "      <td>2018</td>\n",
              "      <td>EEUU</td>\n",
              "      <td>Externo</td>\n",
              "      <td>0</td>\n",
              "    </tr>\n",
              "    <tr>\n",
              "      <th>4</th>\n",
              "      <td>2018</td>\n",
              "      <td>Colombia</td>\n",
              "      <td>Interno</td>\n",
              "      <td>243</td>\n",
              "    </tr>\n",
              "  </tbody>\n",
              "</table>\n",
              "</div>"
            ],
            "text/plain": [
              "    Año      País Tipo contrato  Empleados\n",
              "0  2018    México       Interno        154\n",
              "1  2018    México       Externo         61\n",
              "2  2018      EEUU       Interno        105\n",
              "3  2018      EEUU       Externo          0\n",
              "4  2018  Colombia       Interno        243"
            ]
          },
          "metadata": {
            "tags": []
          },
          "execution_count": 117
        }
      ]
    },
    {
      "cell_type": "code",
      "metadata": {
        "colab": {
          "base_uri": "https://localhost:8080/",
          "height": 136
        },
        "id": "b15pG8LRScx_",
        "outputId": "7a65b660-20e7-48f0-c012-72858c5b6657"
      },
      "source": [
        "total_employees = employees_country.groupby('Año').agg('sum')\n",
        "total_employees = total_employees.reset_index()\n",
        "total_employees.head()"
      ],
      "execution_count": 118,
      "outputs": [
        {
          "output_type": "execute_result",
          "data": {
            "text/html": [
              "<div>\n",
              "<style scoped>\n",
              "    .dataframe tbody tr th:only-of-type {\n",
              "        vertical-align: middle;\n",
              "    }\n",
              "\n",
              "    .dataframe tbody tr th {\n",
              "        vertical-align: top;\n",
              "    }\n",
              "\n",
              "    .dataframe thead th {\n",
              "        text-align: right;\n",
              "    }\n",
              "</style>\n",
              "<table border=\"1\" class=\"dataframe\">\n",
              "  <thead>\n",
              "    <tr style=\"text-align: right;\">\n",
              "      <th></th>\n",
              "      <th>Año</th>\n",
              "      <th>Empleados</th>\n",
              "    </tr>\n",
              "  </thead>\n",
              "  <tbody>\n",
              "    <tr>\n",
              "      <th>0</th>\n",
              "      <td>2017</td>\n",
              "      <td>4872</td>\n",
              "    </tr>\n",
              "    <tr>\n",
              "      <th>1</th>\n",
              "      <td>2018</td>\n",
              "      <td>5357</td>\n",
              "    </tr>\n",
              "    <tr>\n",
              "      <th>2</th>\n",
              "      <td>2019</td>\n",
              "      <td>5268</td>\n",
              "    </tr>\n",
              "  </tbody>\n",
              "</table>\n",
              "</div>"
            ],
            "text/plain": [
              "    Año  Empleados\n",
              "0  2017       4872\n",
              "1  2018       5357\n",
              "2  2019       5268"
            ]
          },
          "metadata": {
            "tags": []
          },
          "execution_count": 118
        }
      ]
    },
    {
      "cell_type": "code",
      "metadata": {
        "colab": {
          "base_uri": "https://localhost:8080/",
          "height": 136
        },
        "id": "n26hMP9gSmac",
        "outputId": "ee451ca5-8dbd-4f3c-a192-ee21f93f7d40"
      },
      "source": [
        "accident_index = total_accidents.merge(total_employees, how='inner', on='Año')\n",
        "accident_index"
      ],
      "execution_count": 119,
      "outputs": [
        {
          "output_type": "execute_result",
          "data": {
            "text/html": [
              "<div>\n",
              "<style scoped>\n",
              "    .dataframe tbody tr th:only-of-type {\n",
              "        vertical-align: middle;\n",
              "    }\n",
              "\n",
              "    .dataframe tbody tr th {\n",
              "        vertical-align: top;\n",
              "    }\n",
              "\n",
              "    .dataframe thead th {\n",
              "        text-align: right;\n",
              "    }\n",
              "</style>\n",
              "<table border=\"1\" class=\"dataframe\">\n",
              "  <thead>\n",
              "    <tr style=\"text-align: right;\">\n",
              "      <th></th>\n",
              "      <th>Año</th>\n",
              "      <th>Nº accidents</th>\n",
              "      <th>Empleados</th>\n",
              "    </tr>\n",
              "  </thead>\n",
              "  <tbody>\n",
              "    <tr>\n",
              "      <th>0</th>\n",
              "      <td>2017</td>\n",
              "      <td>1203</td>\n",
              "      <td>4872</td>\n",
              "    </tr>\n",
              "    <tr>\n",
              "      <th>1</th>\n",
              "      <td>2018</td>\n",
              "      <td>1532</td>\n",
              "      <td>5357</td>\n",
              "    </tr>\n",
              "    <tr>\n",
              "      <th>2</th>\n",
              "      <td>2019</td>\n",
              "      <td>1526</td>\n",
              "      <td>5268</td>\n",
              "    </tr>\n",
              "  </tbody>\n",
              "</table>\n",
              "</div>"
            ],
            "text/plain": [
              "    Año  Nº accidents  Empleados\n",
              "0  2017          1203       4872\n",
              "1  2018          1532       5357\n",
              "2  2019          1526       5268"
            ]
          },
          "metadata": {
            "tags": []
          },
          "execution_count": 119
        }
      ]
    },
    {
      "cell_type": "code",
      "metadata": {
        "colab": {
          "base_uri": "https://localhost:8080/",
          "height": 136
        },
        "id": "hj34zvXDSzrY",
        "outputId": "36d7fefb-58b0-4530-d72e-05a89ada460c"
      },
      "source": [
        "accident_index = accident_index.fillna(0)\n",
        "accident_index"
      ],
      "execution_count": 120,
      "outputs": [
        {
          "output_type": "execute_result",
          "data": {
            "text/html": [
              "<div>\n",
              "<style scoped>\n",
              "    .dataframe tbody tr th:only-of-type {\n",
              "        vertical-align: middle;\n",
              "    }\n",
              "\n",
              "    .dataframe tbody tr th {\n",
              "        vertical-align: top;\n",
              "    }\n",
              "\n",
              "    .dataframe thead th {\n",
              "        text-align: right;\n",
              "    }\n",
              "</style>\n",
              "<table border=\"1\" class=\"dataframe\">\n",
              "  <thead>\n",
              "    <tr style=\"text-align: right;\">\n",
              "      <th></th>\n",
              "      <th>Año</th>\n",
              "      <th>Nº accidents</th>\n",
              "      <th>Empleados</th>\n",
              "    </tr>\n",
              "  </thead>\n",
              "  <tbody>\n",
              "    <tr>\n",
              "      <th>0</th>\n",
              "      <td>2017</td>\n",
              "      <td>1203</td>\n",
              "      <td>4872</td>\n",
              "    </tr>\n",
              "    <tr>\n",
              "      <th>1</th>\n",
              "      <td>2018</td>\n",
              "      <td>1532</td>\n",
              "      <td>5357</td>\n",
              "    </tr>\n",
              "    <tr>\n",
              "      <th>2</th>\n",
              "      <td>2019</td>\n",
              "      <td>1526</td>\n",
              "      <td>5268</td>\n",
              "    </tr>\n",
              "  </tbody>\n",
              "</table>\n",
              "</div>"
            ],
            "text/plain": [
              "    Año  Nº accidents  Empleados\n",
              "0  2017          1203       4872\n",
              "1  2018          1532       5357\n",
              "2  2019          1526       5268"
            ]
          },
          "metadata": {
            "tags": []
          },
          "execution_count": 120
        }
      ]
    },
    {
      "cell_type": "code",
      "metadata": {
        "id": "9KIlGQpuS1-5"
      },
      "source": [
        "accident_index['Index'] = round(accident_index['Nº accidents'] / accident_index['Empleados'] * 100,2)"
      ],
      "execution_count": 121,
      "outputs": []
    },
    {
      "cell_type": "code",
      "metadata": {
        "id": "bKm1hoBETviP"
      },
      "source": [
        "accident_index['Año'] = accident_index['Año'].astype(str)"
      ],
      "execution_count": 122,
      "outputs": []
    },
    {
      "cell_type": "code",
      "metadata": {
        "colab": {
          "base_uri": "https://localhost:8080/",
          "height": 136
        },
        "id": "EmMM2rekTRb1",
        "outputId": "ae9accd5-f67c-4bf9-ff94-e25c884c2761"
      },
      "source": [
        "accident_index"
      ],
      "execution_count": 123,
      "outputs": [
        {
          "output_type": "execute_result",
          "data": {
            "text/html": [
              "<div>\n",
              "<style scoped>\n",
              "    .dataframe tbody tr th:only-of-type {\n",
              "        vertical-align: middle;\n",
              "    }\n",
              "\n",
              "    .dataframe tbody tr th {\n",
              "        vertical-align: top;\n",
              "    }\n",
              "\n",
              "    .dataframe thead th {\n",
              "        text-align: right;\n",
              "    }\n",
              "</style>\n",
              "<table border=\"1\" class=\"dataframe\">\n",
              "  <thead>\n",
              "    <tr style=\"text-align: right;\">\n",
              "      <th></th>\n",
              "      <th>Año</th>\n",
              "      <th>Nº accidents</th>\n",
              "      <th>Empleados</th>\n",
              "      <th>Index</th>\n",
              "    </tr>\n",
              "  </thead>\n",
              "  <tbody>\n",
              "    <tr>\n",
              "      <th>0</th>\n",
              "      <td>2017</td>\n",
              "      <td>1203</td>\n",
              "      <td>4872</td>\n",
              "      <td>24.69</td>\n",
              "    </tr>\n",
              "    <tr>\n",
              "      <th>1</th>\n",
              "      <td>2018</td>\n",
              "      <td>1532</td>\n",
              "      <td>5357</td>\n",
              "      <td>28.60</td>\n",
              "    </tr>\n",
              "    <tr>\n",
              "      <th>2</th>\n",
              "      <td>2019</td>\n",
              "      <td>1526</td>\n",
              "      <td>5268</td>\n",
              "      <td>28.97</td>\n",
              "    </tr>\n",
              "  </tbody>\n",
              "</table>\n",
              "</div>"
            ],
            "text/plain": [
              "    Año  Nº accidents  Empleados  Index\n",
              "0  2017          1203       4872  24.69\n",
              "1  2018          1532       5357  28.60\n",
              "2  2019          1526       5268  28.97"
            ]
          },
          "metadata": {
            "tags": []
          },
          "execution_count": 123
        }
      ]
    },
    {
      "cell_type": "markdown",
      "metadata": {
        "id": "DnAeqK1yUpSI"
      },
      "source": [
        "On the charts below we can see that the accident rate has increased during past years, so the company has failed to decrease it with its measures"
      ]
    },
    {
      "cell_type": "code",
      "metadata": {
        "colab": {
          "base_uri": "https://localhost:8080/",
          "height": 374
        },
        "id": "qYHunO63Ta9-",
        "outputId": "ad393c85-0862-4494-e27b-09fde3e98675"
      },
      "source": [
        "pie, ax = plt.subplots(figsize=[10,6])\n",
        "labels = accident_index['Año']\n",
        "plt.pie(x=accident_index['Index'], autopct=\"%.1f%%\", labels=labels, pctdistance=0.5)\n",
        "plt.title(\"Accident index by year\", fontsize=14);"
      ],
      "execution_count": 127,
      "outputs": [
        {
          "output_type": "display_data",
          "data": {
            "image/png": "[encoded data removed]",
            "text/plain": [
              "<Figure size 720x432 with 1 Axes>"
            ]
          },
          "metadata": {
            "tags": []
          }
        }
      ]
    },
    {
      "cell_type": "code",
      "metadata": {
        "colab": {
          "base_uri": "https://localhost:8080/",
          "height": 281
        },
        "id": "9rio3N-eUU77",
        "outputId": "dbfb1ca9-7c04-4347-f364-7090120d6709"
      },
      "source": [
        "plt.plot(accident_index['Año'], accident_index['Index'])\n",
        "plt.title('Accident index by year')\n",
        "plt.ylabel('% accident index')\n",
        "plt.show()"
      ],
      "execution_count": 129,
      "outputs": [
        {
          "output_type": "display_data",
          "data": {
            "image/png": "[encoded data removed]",
            "text/plain": [
              "<Figure size 432x288 with 1 Axes>"
            ]
          },
          "metadata": {
            "tags": [],
            "needs_background": "light"
          }
        }
      ]
    },
    {
      "cell_type": "markdown",
      "metadata": {
        "id": "fZvIi_6oU2Jy"
      },
      "source": [
        "Lets analyze the index by the severity of the accidents"
      ]
    },
    {
      "cell_type": "code",
      "metadata": {
        "colab": {
          "base_uri": "https://localhost:8080/",
          "height": 195
        },
        "id": "wC9jL3sGU70y",
        "outputId": "9864d4de-31f7-46df-f002-a4bc83e0e6a9"
      },
      "source": [
        "severity_year = accidentabilidad[['Gravedad potencial', 'Año', 'Codigo accidentado']]\n",
        "severity_year = severity_year.groupby(['Año', 'Gravedad potencial']).agg('count')\n",
        "severity_year = severity_year.reset_index()\n",
        "severity_year['Año'] = severity_year['Año'].astype(int).astype(str)\n",
        "severity_year.rename(columns={'Codigo accidentado':'N accidents'}, inplace=True)\n",
        "severity_year.head()"
      ],
      "execution_count": 147,
      "outputs": [
        {
          "output_type": "execute_result",
          "data": {
            "text/html": [
              "<div>\n",
              "<style scoped>\n",
              "    .dataframe tbody tr th:only-of-type {\n",
              "        vertical-align: middle;\n",
              "    }\n",
              "\n",
              "    .dataframe tbody tr th {\n",
              "        vertical-align: top;\n",
              "    }\n",
              "\n",
              "    .dataframe thead th {\n",
              "        text-align: right;\n",
              "    }\n",
              "</style>\n",
              "<table border=\"1\" class=\"dataframe\">\n",
              "  <thead>\n",
              "    <tr style=\"text-align: right;\">\n",
              "      <th></th>\n",
              "      <th>Año</th>\n",
              "      <th>Gravedad potencial</th>\n",
              "      <th>N accidents</th>\n",
              "    </tr>\n",
              "  </thead>\n",
              "  <tbody>\n",
              "    <tr>\n",
              "      <th>0</th>\n",
              "      <td>2016</td>\n",
              "      <td>Leve</td>\n",
              "      <td>1</td>\n",
              "    </tr>\n",
              "    <tr>\n",
              "      <th>1</th>\n",
              "      <td>2017</td>\n",
              "      <td>Grave</td>\n",
              "      <td>68</td>\n",
              "    </tr>\n",
              "    <tr>\n",
              "      <th>2</th>\n",
              "      <td>2017</td>\n",
              "      <td>Leve</td>\n",
              "      <td>111</td>\n",
              "    </tr>\n",
              "    <tr>\n",
              "      <th>3</th>\n",
              "      <td>2017</td>\n",
              "      <td>Muy grave</td>\n",
              "      <td>14</td>\n",
              "    </tr>\n",
              "    <tr>\n",
              "      <th>4</th>\n",
              "      <td>2018</td>\n",
              "      <td>Grave</td>\n",
              "      <td>593</td>\n",
              "    </tr>\n",
              "  </tbody>\n",
              "</table>\n",
              "</div>"
            ],
            "text/plain": [
              "    Año Gravedad potencial  N accidents\n",
              "0  2016               Leve            1\n",
              "1  2017              Grave           68\n",
              "2  2017               Leve          111\n",
              "3  2017          Muy grave           14\n",
              "4  2018              Grave          593"
            ]
          },
          "metadata": {
            "tags": []
          },
          "execution_count": 147
        }
      ]
    },
    {
      "cell_type": "code",
      "metadata": {
        "colab": {
          "base_uri": "https://localhost:8080/",
          "height": 195
        },
        "id": "MHBjOBC1WPP0",
        "outputId": "3d73c562-c4a4-40dc-e533-f931bf3e43f0"
      },
      "source": [
        "severity_year.head()"
      ],
      "execution_count": 151,
      "outputs": [
        {
          "output_type": "execute_result",
          "data": {
            "text/html": [
              "<div>\n",
              "<style scoped>\n",
              "    .dataframe tbody tr th:only-of-type {\n",
              "        vertical-align: middle;\n",
              "    }\n",
              "\n",
              "    .dataframe tbody tr th {\n",
              "        vertical-align: top;\n",
              "    }\n",
              "\n",
              "    .dataframe thead th {\n",
              "        text-align: right;\n",
              "    }\n",
              "</style>\n",
              "<table border=\"1\" class=\"dataframe\">\n",
              "  <thead>\n",
              "    <tr style=\"text-align: right;\">\n",
              "      <th></th>\n",
              "      <th>Año</th>\n",
              "      <th>Gravedad potencial</th>\n",
              "      <th>N accidents</th>\n",
              "    </tr>\n",
              "  </thead>\n",
              "  <tbody>\n",
              "    <tr>\n",
              "      <th>0</th>\n",
              "      <td>2016</td>\n",
              "      <td>Leve</td>\n",
              "      <td>1</td>\n",
              "    </tr>\n",
              "    <tr>\n",
              "      <th>1</th>\n",
              "      <td>2017</td>\n",
              "      <td>Grave</td>\n",
              "      <td>68</td>\n",
              "    </tr>\n",
              "    <tr>\n",
              "      <th>2</th>\n",
              "      <td>2017</td>\n",
              "      <td>Leve</td>\n",
              "      <td>111</td>\n",
              "    </tr>\n",
              "    <tr>\n",
              "      <th>3</th>\n",
              "      <td>2017</td>\n",
              "      <td>Muy grave</td>\n",
              "      <td>14</td>\n",
              "    </tr>\n",
              "    <tr>\n",
              "      <th>4</th>\n",
              "      <td>2018</td>\n",
              "      <td>Grave</td>\n",
              "      <td>593</td>\n",
              "    </tr>\n",
              "  </tbody>\n",
              "</table>\n",
              "</div>"
            ],
            "text/plain": [
              "    Año Gravedad potencial  N accidents\n",
              "0  2016               Leve            1\n",
              "1  2017              Grave           68\n",
              "2  2017               Leve          111\n",
              "3  2017          Muy grave           14\n",
              "4  2018              Grave          593"
            ]
          },
          "metadata": {
            "tags": []
          },
          "execution_count": 151
        }
      ]
    },
    {
      "cell_type": "markdown",
      "metadata": {
        "id": "OeDUuE9qXmxJ"
      },
      "source": [
        "As we only have data until 2019 to calculate the accident rate we can't see the evolution of the index at the moment and it is increasing until 2019. \n",
        "\n",
        "On the chart below we can see how the number of accidents decrease noticeably, this could be caused by Covid-19 situation in all countries as fabrics were stopped by the regulation so several workers stayed at home during a long period of time in 2020. Seeing this data we expect the accident index to decrease in 2020."
      ]
    },
    {
      "cell_type": "code",
      "metadata": {
        "colab": {
          "base_uri": "https://localhost:8080/",
          "height": 458
        },
        "id": "_cdL907eWWe8",
        "outputId": "b252bac0-2d17-4c8a-da55-83d8e17723f8"
      },
      "source": [
        "plt.figure(figsize=(6,6))\n",
        "plt.title('Nº accidents by severity and year')\n",
        "\n",
        "\n",
        "sns.lineplot(severity_year['Año'], severity_year['N accidents'], hue=severity_year['Gravedad potencial'])\n",
        "\n",
        "plt.show()"
      ],
      "execution_count": 156,
      "outputs": [
        {
          "output_type": "stream",
          "text": [
            "/usr/local/lib/python3.7/dist-packages/seaborn/_decorators.py:43: FutureWarning: Pass the following variables as keyword args: x, y. From version 0.12, the only valid positional argument will be `data`, and passing other arguments without an explicit keyword will result in an error or misinterpretation.\n",
            "  FutureWarning\n"
          ],
          "name": "stderr"
        },
        {
          "output_type": "display_data",
          "data": {
            "image/png": "[encoded data removed]",
            "text/plain": [
              "<Figure size 432x432 with 1 Axes>"
            ]
          },
          "metadata": {
            "tags": [],
            "needs_background": "light"
          }
        }
      ]
    },
    {
      "cell_type": "markdown",
      "metadata": {
        "id": "SS4ALxvoTwOs"
      },
      "source": [
        "### Matriz correlacion\n",
        "Matriz correlación : Pasar numericos y meter las columnas a comparar\n",
        "\n",
        "correlation_mat = df_small.corr()\n",
        "\n",
        "sns.heatmap(correlation_mat, annot = True)\n",
        "\n",
        "plt.show()"
      ]
    },
    {
      "cell_type": "code",
      "metadata": {
        "id": "P7ds18nrbw0x"
      },
      "source": [
        "accidentes = accidentabilidad[['Codigo accidentado', 'Planta', 'Puesto habitual de trabajo',\n",
        "       'Género', 'Turno', 'Línea de producción']]"
      ],
      "execution_count": 229,
      "outputs": []
    },
    {
      "cell_type": "code",
      "metadata": {
        "colab": {
          "base_uri": "https://localhost:8080/"
        },
        "id": "DnMwNGnXdBFr",
        "outputId": "2f10a1a8-a645-4a96-b435-ea3fcd7fa729"
      },
      "source": [
        "accidentes.columns"
      ],
      "execution_count": 230,
      "outputs": [
        {
          "output_type": "execute_result",
          "data": {
            "text/plain": [
              "Index(['Codigo accidentado', 'Planta', 'Puesto habitual de trabajo', 'Género',\n",
              "       'Turno', 'Línea de producción'],\n",
              "      dtype='object')"
            ]
          },
          "metadata": {
            "tags": []
          },
          "execution_count": 230
        }
      ]
    },
    {
      "cell_type": "code",
      "metadata": {
        "id": "nnXb-Xdzc6vS"
      },
      "source": [
        "accidentes = accidentes.groupby(['Planta', 'Puesto habitual de trabajo',\n",
        "       'Género', 'Turno', 'Línea de producción']).agg('count')"
      ],
      "execution_count": 231,
      "outputs": []
    },
    {
      "cell_type": "code",
      "metadata": {
        "colab": {
          "base_uri": "https://localhost:8080/",
          "height": 229
        },
        "id": "v0FNAf1HeqZa",
        "outputId": "eebc5ff4-26d9-41de-b6a3-8c48751238e8"
      },
      "source": [
        "accidentes = accidentes.reset_index()\n",
        "accidentes.rename(columns={'Codigo accidentado':'N accidentes'}, inplace= True)\n",
        "accidentes.head()"
      ],
      "execution_count": 242,
      "outputs": [
        {
          "output_type": "execute_result",
          "data": {
            "text/html": [
              "<div>\n",
              "<style scoped>\n",
              "    .dataframe tbody tr th:only-of-type {\n",
              "        vertical-align: middle;\n",
              "    }\n",
              "\n",
              "    .dataframe tbody tr th {\n",
              "        vertical-align: top;\n",
              "    }\n",
              "\n",
              "    .dataframe thead th {\n",
              "        text-align: right;\n",
              "    }\n",
              "</style>\n",
              "<table border=\"1\" class=\"dataframe\">\n",
              "  <thead>\n",
              "    <tr style=\"text-align: right;\">\n",
              "      <th></th>\n",
              "      <th>index</th>\n",
              "      <th>Planta</th>\n",
              "      <th>Puesto habitual de trabajo</th>\n",
              "      <th>Género</th>\n",
              "      <th>Turno</th>\n",
              "      <th>Línea de producción</th>\n",
              "      <th>N accidentes</th>\n",
              "      <th>turno_code</th>\n",
              "      <th>Puesto habitual de trabajo_code</th>\n",
              "      <th>Género_code</th>\n",
              "      <th>Línea de producción_code</th>\n",
              "    </tr>\n",
              "  </thead>\n",
              "  <tbody>\n",
              "    <tr>\n",
              "      <th>0</th>\n",
              "      <td>0</td>\n",
              "      <td>1</td>\n",
              "      <td>AUXILIAR TRANS 4</td>\n",
              "      <td>Hombre</td>\n",
              "      <td>Turno de tarde</td>\n",
              "      <td>TRANS004</td>\n",
              "      <td>1</td>\n",
              "      <td>2.0</td>\n",
              "      <td>4.0</td>\n",
              "      <td>0.0</td>\n",
              "      <td>55.0</td>\n",
              "    </tr>\n",
              "    <tr>\n",
              "      <th>1</th>\n",
              "      <td>1</td>\n",
              "      <td>1</td>\n",
              "      <td>Auxiliar Trans 4</td>\n",
              "      <td>Mujer</td>\n",
              "      <td>Turno de mañana</td>\n",
              "      <td>TRANS004</td>\n",
              "      <td>1</td>\n",
              "      <td>0.0</td>\n",
              "      <td>24.0</td>\n",
              "      <td>1.0</td>\n",
              "      <td>55.0</td>\n",
              "    </tr>\n",
              "    <tr>\n",
              "      <th>2</th>\n",
              "      <td>2</td>\n",
              "      <td>1</td>\n",
              "      <td>Ayudante LCL</td>\n",
              "      <td>Hombre</td>\n",
              "      <td>Turno de tarde</td>\n",
              "      <td>LONGI003</td>\n",
              "      <td>1</td>\n",
              "      <td>2.0</td>\n",
              "      <td>30.0</td>\n",
              "      <td>0.0</td>\n",
              "      <td>21.0</td>\n",
              "    </tr>\n",
              "    <tr>\n",
              "      <th>3</th>\n",
              "      <td>3</td>\n",
              "      <td>1</td>\n",
              "      <td>CIZALLA</td>\n",
              "      <td>Hombre</td>\n",
              "      <td>Turno de tarde</td>\n",
              "      <td>CIZAL001</td>\n",
              "      <td>1</td>\n",
              "      <td>2.0</td>\n",
              "      <td>43.0</td>\n",
              "      <td>0.0</td>\n",
              "      <td>7.0</td>\n",
              "    </tr>\n",
              "    <tr>\n",
              "      <th>4</th>\n",
              "      <td>4</td>\n",
              "      <td>1</td>\n",
              "      <td>Calidad</td>\n",
              "      <td>Hombre</td>\n",
              "      <td>Turno de tarde</td>\n",
              "      <td>ZINCA001</td>\n",
              "      <td>1</td>\n",
              "      <td>2.0</td>\n",
              "      <td>45.0</td>\n",
              "      <td>0.0</td>\n",
              "      <td>64.0</td>\n",
              "    </tr>\n",
              "  </tbody>\n",
              "</table>\n",
              "</div>"
            ],
            "text/plain": [
              "   index  Planta  ... Género_code Línea de producción_code\n",
              "0      0       1  ...         0.0                     55.0\n",
              "1      1       1  ...         1.0                     55.0\n",
              "2      2       1  ...         0.0                     21.0\n",
              "3      3       1  ...         0.0                      7.0\n",
              "4      4       1  ...         0.0                     64.0\n",
              "\n",
              "[5 rows x 11 columns]"
            ]
          },
          "metadata": {
            "tags": []
          },
          "execution_count": 242
        }
      ]
    },
    {
      "cell_type": "code",
      "metadata": {
        "colab": {
          "base_uri": "https://localhost:8080/",
          "height": 586
        },
        "id": "sLwi1V9kj1rq",
        "outputId": "9c1c1dc0-45d1-4779-fe11-12653b9b28c4"
      },
      "source": [
        "accidentes.sort_values('N accidentes', ascending=False)"
      ],
      "execution_count": 247,
      "outputs": [
        {
          "output_type": "execute_result",
          "data": {
            "text/html": [
              "<div>\n",
              "<style scoped>\n",
              "    .dataframe tbody tr th:only-of-type {\n",
              "        vertical-align: middle;\n",
              "    }\n",
              "\n",
              "    .dataframe tbody tr th {\n",
              "        vertical-align: top;\n",
              "    }\n",
              "\n",
              "    .dataframe thead th {\n",
              "        text-align: right;\n",
              "    }\n",
              "</style>\n",
              "<table border=\"1\" class=\"dataframe\">\n",
              "  <thead>\n",
              "    <tr style=\"text-align: right;\">\n",
              "      <th></th>\n",
              "      <th>index</th>\n",
              "      <th>Planta</th>\n",
              "      <th>Puesto habitual de trabajo</th>\n",
              "      <th>Género</th>\n",
              "      <th>Turno</th>\n",
              "      <th>Línea de producción</th>\n",
              "      <th>N accidentes</th>\n",
              "      <th>turno_code</th>\n",
              "      <th>Puesto habitual de trabajo_code</th>\n",
              "      <th>Género_code</th>\n",
              "      <th>Línea de producción_code</th>\n",
              "    </tr>\n",
              "  </thead>\n",
              "  <tbody>\n",
              "    <tr>\n",
              "      <th>192</th>\n",
              "      <td>192</td>\n",
              "      <td>6</td>\n",
              "      <td>Operador de Embalagem</td>\n",
              "      <td>Hombre</td>\n",
              "      <td>Turno de tarde</td>\n",
              "      <td>LONGI006</td>\n",
              "      <td>5</td>\n",
              "      <td>2.0</td>\n",
              "      <td>264.0</td>\n",
              "      <td>0.0</td>\n",
              "      <td>24.0</td>\n",
              "    </tr>\n",
              "    <tr>\n",
              "      <th>259</th>\n",
              "      <td>259</td>\n",
              "      <td>15</td>\n",
              "      <td>GRUISTA</td>\n",
              "      <td>Hombre</td>\n",
              "      <td>Turno de mañana</td>\n",
              "      <td>GALVA001</td>\n",
              "      <td>4</td>\n",
              "      <td>0.0</td>\n",
              "      <td>98.0</td>\n",
              "      <td>0.0</td>\n",
              "      <td>11.0</td>\n",
              "    </tr>\n",
              "    <tr>\n",
              "      <th>274</th>\n",
              "      <td>274</td>\n",
              "      <td>15</td>\n",
              "      <td>Gruista</td>\n",
              "      <td>Hombre</td>\n",
              "      <td>Turno de tarde</td>\n",
              "      <td>GALVA001</td>\n",
              "      <td>4</td>\n",
              "      <td>2.0</td>\n",
              "      <td>105.0</td>\n",
              "      <td>0.0</td>\n",
              "      <td>11.0</td>\n",
              "    </tr>\n",
              "    <tr>\n",
              "      <th>264</th>\n",
              "      <td>264</td>\n",
              "      <td>15</td>\n",
              "      <td>Gruista</td>\n",
              "      <td>Hombre</td>\n",
              "      <td>Turno de mañana</td>\n",
              "      <td>GALVA001</td>\n",
              "      <td>4</td>\n",
              "      <td>0.0</td>\n",
              "      <td>105.0</td>\n",
              "      <td>0.0</td>\n",
              "      <td>11.0</td>\n",
              "    </tr>\n",
              "    <tr>\n",
              "      <th>187</th>\n",
              "      <td>187</td>\n",
              "      <td>6</td>\n",
              "      <td>Operador de Embalagem</td>\n",
              "      <td>Hombre</td>\n",
              "      <td>Turno de mañana</td>\n",
              "      <td>LONGI004</td>\n",
              "      <td>4</td>\n",
              "      <td>0.0</td>\n",
              "      <td>264.0</td>\n",
              "      <td>0.0</td>\n",
              "      <td>22.0</td>\n",
              "    </tr>\n",
              "    <tr>\n",
              "      <th>...</th>\n",
              "      <td>...</td>\n",
              "      <td>...</td>\n",
              "      <td>...</td>\n",
              "      <td>...</td>\n",
              "      <td>...</td>\n",
              "      <td>...</td>\n",
              "      <td>...</td>\n",
              "      <td>...</td>\n",
              "      <td>...</td>\n",
              "      <td>...</td>\n",
              "      <td>...</td>\n",
              "    </tr>\n",
              "    <tr>\n",
              "      <th>159</th>\n",
              "      <td>159</td>\n",
              "      <td>5</td>\n",
              "      <td>Ninguno de los implicados desempeñaban funcion...</td>\n",
              "      <td>Hombre</td>\n",
              "      <td>Turno de mañana</td>\n",
              "      <td>LONGI002</td>\n",
              "      <td>1</td>\n",
              "      <td>0.0</td>\n",
              "      <td>243.0</td>\n",
              "      <td>0.0</td>\n",
              "      <td>20.0</td>\n",
              "    </tr>\n",
              "    <tr>\n",
              "      <th>158</th>\n",
              "      <td>158</td>\n",
              "      <td>5</td>\n",
              "      <td>Montador/auxiliar LONGI003</td>\n",
              "      <td>Hombre</td>\n",
              "      <td>Turno de noche</td>\n",
              "      <td>LONGI003</td>\n",
              "      <td>1</td>\n",
              "      <td>1.0</td>\n",
              "      <td>241.0</td>\n",
              "      <td>0.0</td>\n",
              "      <td>21.0</td>\n",
              "    </tr>\n",
              "    <tr>\n",
              "      <th>157</th>\n",
              "      <td>157</td>\n",
              "      <td>5</td>\n",
              "      <td>Montador/auxiliar</td>\n",
              "      <td>Hombre</td>\n",
              "      <td>Turno de tarde</td>\n",
              "      <td>LONGI001</td>\n",
              "      <td>1</td>\n",
              "      <td>2.0</td>\n",
              "      <td>240.0</td>\n",
              "      <td>0.0</td>\n",
              "      <td>19.0</td>\n",
              "    </tr>\n",
              "    <tr>\n",
              "      <th>156</th>\n",
              "      <td>156</td>\n",
              "      <td>5</td>\n",
              "      <td>Montador/Ayudante</td>\n",
              "      <td>Hombre</td>\n",
              "      <td>Turno de noche</td>\n",
              "      <td>LONGI003</td>\n",
              "      <td>1</td>\n",
              "      <td>1.0</td>\n",
              "      <td>238.0</td>\n",
              "      <td>0.0</td>\n",
              "      <td>21.0</td>\n",
              "    </tr>\n",
              "    <tr>\n",
              "      <th>488</th>\n",
              "      <td>488</td>\n",
              "      <td>41</td>\n",
              "      <td>toolmaker</td>\n",
              "      <td>Hombre</td>\n",
              "      <td>Turno de mañana</td>\n",
              "      <td>BLANK001</td>\n",
              "      <td>1</td>\n",
              "      <td>0.0</td>\n",
              "      <td>377.0</td>\n",
              "      <td>0.0</td>\n",
              "      <td>5.0</td>\n",
              "    </tr>\n",
              "  </tbody>\n",
              "</table>\n",
              "<p>489 rows × 11 columns</p>\n",
              "</div>"
            ],
            "text/plain": [
              "     index  Planta  ... Género_code Línea de producción_code\n",
              "192    192       6  ...         0.0                     24.0\n",
              "259    259      15  ...         0.0                     11.0\n",
              "274    274      15  ...         0.0                     11.0\n",
              "264    264      15  ...         0.0                     11.0\n",
              "187    187       6  ...         0.0                     22.0\n",
              "..     ...     ...  ...         ...                      ...\n",
              "159    159       5  ...         0.0                     20.0\n",
              "158    158       5  ...         0.0                     21.0\n",
              "157    157       5  ...         0.0                     19.0\n",
              "156    156       5  ...         0.0                     21.0\n",
              "488    488      41  ...         0.0                      5.0\n",
              "\n",
              "[489 rows x 11 columns]"
            ]
          },
          "metadata": {
            "tags": []
          },
          "execution_count": 247
        }
      ]
    },
    {
      "cell_type": "code",
      "metadata": {
        "colab": {
          "base_uri": "https://localhost:8080/"
        },
        "id": "xLq09UNagtTT",
        "outputId": "f1a8274f-f61a-4e23-d23e-c7472efb55e9"
      },
      "source": [
        "len(accidentes)"
      ],
      "execution_count": 233,
      "outputs": [
        {
          "output_type": "execute_result",
          "data": {
            "text/plain": [
              "489"
            ]
          },
          "metadata": {
            "tags": []
          },
          "execution_count": 233
        }
      ]
    },
    {
      "cell_type": "code",
      "metadata": {
        "colab": {
          "base_uri": "https://localhost:8080/",
          "height": 47
        },
        "id": "qtuaiDLWgokO",
        "outputId": "15b865cd-bff9-4b25-c711-dad167980f9d"
      },
      "source": [
        "#cleaning null values, there aren't any after groupingby\n",
        "\n",
        "accidentes[accidentes.isnull().any(axis=1)]\n"
      ],
      "execution_count": 234,
      "outputs": [
        {
          "output_type": "execute_result",
          "data": {
            "text/html": [
              "<div>\n",
              "<style scoped>\n",
              "    .dataframe tbody tr th:only-of-type {\n",
              "        vertical-align: middle;\n",
              "    }\n",
              "\n",
              "    .dataframe tbody tr th {\n",
              "        vertical-align: top;\n",
              "    }\n",
              "\n",
              "    .dataframe thead th {\n",
              "        text-align: right;\n",
              "    }\n",
              "</style>\n",
              "<table border=\"1\" class=\"dataframe\">\n",
              "  <thead>\n",
              "    <tr style=\"text-align: right;\">\n",
              "      <th></th>\n",
              "      <th>Planta</th>\n",
              "      <th>Puesto habitual de trabajo</th>\n",
              "      <th>Género</th>\n",
              "      <th>Turno</th>\n",
              "      <th>Línea de producción</th>\n",
              "      <th>Codigo accidentado</th>\n",
              "    </tr>\n",
              "  </thead>\n",
              "  <tbody>\n",
              "  </tbody>\n",
              "</table>\n",
              "</div>"
            ],
            "text/plain": [
              "Empty DataFrame\n",
              "Columns: [Planta, Puesto habitual de trabajo, Género, Turno, Línea de producción, Codigo accidentado]\n",
              "Index: []"
            ]
          },
          "metadata": {
            "tags": []
          },
          "execution_count": 234
        }
      ]
    },
    {
      "cell_type": "code",
      "metadata": {
        "colab": {
          "base_uri": "https://localhost:8080/",
          "height": 195
        },
        "id": "XItKIoFNhdw-",
        "outputId": "6e70c3de-f3c8-4280-dd32-be19d563e089"
      },
      "source": [
        "## we are going to transform our categorical data using the sklearn approach: the Ordinal Encoder\n",
        "\n",
        "from sklearn.preprocessing import OrdinalEncoder\n",
        "\n",
        "ord_enc = OrdinalEncoder()\n",
        "accidentes[\"turno_code\"] = ord_enc.fit_transform(accidentes[[\"Turno\"]])\n",
        "accidentes[[\"turno_code\", \"Turno\"]].head()"
      ],
      "execution_count": 235,
      "outputs": [
        {
          "output_type": "execute_result",
          "data": {
            "text/html": [
              "<div>\n",
              "<style scoped>\n",
              "    .dataframe tbody tr th:only-of-type {\n",
              "        vertical-align: middle;\n",
              "    }\n",
              "\n",
              "    .dataframe tbody tr th {\n",
              "        vertical-align: top;\n",
              "    }\n",
              "\n",
              "    .dataframe thead th {\n",
              "        text-align: right;\n",
              "    }\n",
              "</style>\n",
              "<table border=\"1\" class=\"dataframe\">\n",
              "  <thead>\n",
              "    <tr style=\"text-align: right;\">\n",
              "      <th></th>\n",
              "      <th>turno_code</th>\n",
              "      <th>Turno</th>\n",
              "    </tr>\n",
              "  </thead>\n",
              "  <tbody>\n",
              "    <tr>\n",
              "      <th>0</th>\n",
              "      <td>2.0</td>\n",
              "      <td>Turno de tarde</td>\n",
              "    </tr>\n",
              "    <tr>\n",
              "      <th>1</th>\n",
              "      <td>0.0</td>\n",
              "      <td>Turno de mañana</td>\n",
              "    </tr>\n",
              "    <tr>\n",
              "      <th>2</th>\n",
              "      <td>2.0</td>\n",
              "      <td>Turno de tarde</td>\n",
              "    </tr>\n",
              "    <tr>\n",
              "      <th>3</th>\n",
              "      <td>2.0</td>\n",
              "      <td>Turno de tarde</td>\n",
              "    </tr>\n",
              "    <tr>\n",
              "      <th>4</th>\n",
              "      <td>2.0</td>\n",
              "      <td>Turno de tarde</td>\n",
              "    </tr>\n",
              "  </tbody>\n",
              "</table>\n",
              "</div>"
            ],
            "text/plain": [
              "   turno_code            Turno\n",
              "0         2.0   Turno de tarde\n",
              "1         0.0  Turno de mañana\n",
              "2         2.0   Turno de tarde\n",
              "3         2.0   Turno de tarde\n",
              "4         2.0   Turno de tarde"
            ]
          },
          "metadata": {
            "tags": []
          },
          "execution_count": 235
        }
      ]
    },
    {
      "cell_type": "code",
      "metadata": {
        "id": "2dXOxP8aiFhp"
      },
      "source": [
        "col_transform = ['Puesto habitual de trabajo','Género','Línea de producción']"
      ],
      "execution_count": 236,
      "outputs": []
    },
    {
      "cell_type": "code",
      "metadata": {
        "id": "Zu5tl0hoiMvC"
      },
      "source": [
        "for col in col_transform:\n",
        "  ord_enc = OrdinalEncoder()\n",
        "  accidentes[col + \"_code\"] = ord_enc.fit_transform(accidentes[[col]])\n"
      ],
      "execution_count": 237,
      "outputs": []
    },
    {
      "cell_type": "code",
      "metadata": {
        "colab": {
          "base_uri": "https://localhost:8080/",
          "height": 229
        },
        "id": "7QnAv7yUh6ca",
        "outputId": "569405bf-0a09-420a-b2d0-2d50bd608867"
      },
      "source": [
        "accidentes.head()"
      ],
      "execution_count": 238,
      "outputs": [
        {
          "output_type": "execute_result",
          "data": {
            "text/html": [
              "<div>\n",
              "<style scoped>\n",
              "    .dataframe tbody tr th:only-of-type {\n",
              "        vertical-align: middle;\n",
              "    }\n",
              "\n",
              "    .dataframe tbody tr th {\n",
              "        vertical-align: top;\n",
              "    }\n",
              "\n",
              "    .dataframe thead th {\n",
              "        text-align: right;\n",
              "    }\n",
              "</style>\n",
              "<table border=\"1\" class=\"dataframe\">\n",
              "  <thead>\n",
              "    <tr style=\"text-align: right;\">\n",
              "      <th></th>\n",
              "      <th>Planta</th>\n",
              "      <th>Puesto habitual de trabajo</th>\n",
              "      <th>Género</th>\n",
              "      <th>Turno</th>\n",
              "      <th>Línea de producción</th>\n",
              "      <th>Codigo accidentado</th>\n",
              "      <th>turno_code</th>\n",
              "      <th>Puesto habitual de trabajo_code</th>\n",
              "      <th>Género_code</th>\n",
              "      <th>Línea de producción_code</th>\n",
              "    </tr>\n",
              "  </thead>\n",
              "  <tbody>\n",
              "    <tr>\n",
              "      <th>0</th>\n",
              "      <td>1</td>\n",
              "      <td>AUXILIAR TRANS 4</td>\n",
              "      <td>Hombre</td>\n",
              "      <td>Turno de tarde</td>\n",
              "      <td>TRANS004</td>\n",
              "      <td>1</td>\n",
              "      <td>2.0</td>\n",
              "      <td>4.0</td>\n",
              "      <td>0.0</td>\n",
              "      <td>55.0</td>\n",
              "    </tr>\n",
              "    <tr>\n",
              "      <th>1</th>\n",
              "      <td>1</td>\n",
              "      <td>Auxiliar Trans 4</td>\n",
              "      <td>Mujer</td>\n",
              "      <td>Turno de mañana</td>\n",
              "      <td>TRANS004</td>\n",
              "      <td>1</td>\n",
              "      <td>0.0</td>\n",
              "      <td>24.0</td>\n",
              "      <td>1.0</td>\n",
              "      <td>55.0</td>\n",
              "    </tr>\n",
              "    <tr>\n",
              "      <th>2</th>\n",
              "      <td>1</td>\n",
              "      <td>Ayudante LCL</td>\n",
              "      <td>Hombre</td>\n",
              "      <td>Turno de tarde</td>\n",
              "      <td>LONGI003</td>\n",
              "      <td>1</td>\n",
              "      <td>2.0</td>\n",
              "      <td>30.0</td>\n",
              "      <td>0.0</td>\n",
              "      <td>21.0</td>\n",
              "    </tr>\n",
              "    <tr>\n",
              "      <th>3</th>\n",
              "      <td>1</td>\n",
              "      <td>CIZALLA</td>\n",
              "      <td>Hombre</td>\n",
              "      <td>Turno de tarde</td>\n",
              "      <td>CIZAL001</td>\n",
              "      <td>1</td>\n",
              "      <td>2.0</td>\n",
              "      <td>43.0</td>\n",
              "      <td>0.0</td>\n",
              "      <td>7.0</td>\n",
              "    </tr>\n",
              "    <tr>\n",
              "      <th>4</th>\n",
              "      <td>1</td>\n",
              "      <td>Calidad</td>\n",
              "      <td>Hombre</td>\n",
              "      <td>Turno de tarde</td>\n",
              "      <td>ZINCA001</td>\n",
              "      <td>1</td>\n",
              "      <td>2.0</td>\n",
              "      <td>45.0</td>\n",
              "      <td>0.0</td>\n",
              "      <td>64.0</td>\n",
              "    </tr>\n",
              "  </tbody>\n",
              "</table>\n",
              "</div>"
            ],
            "text/plain": [
              "   Planta Puesto habitual de trabajo  ... Género_code Línea de producción_code\n",
              "0       1           AUXILIAR TRANS 4  ...         0.0                     55.0\n",
              "1       1           Auxiliar Trans 4  ...         1.0                     55.0\n",
              "2       1               Ayudante LCL  ...         0.0                     21.0\n",
              "3       1                    CIZALLA  ...         0.0                      7.0\n",
              "4       1                    Calidad  ...         0.0                     64.0\n",
              "\n",
              "[5 rows x 10 columns]"
            ]
          },
          "metadata": {
            "tags": []
          },
          "execution_count": 238
        }
      ]
    },
    {
      "cell_type": "code",
      "metadata": {
        "colab": {
          "base_uri": "https://localhost:8080/"
        },
        "id": "KrSfK9n7i0hB",
        "outputId": "234e39e2-410c-4c44-9743-903e0644d96a"
      },
      "source": [
        "accidentes.columns"
      ],
      "execution_count": 241,
      "outputs": [
        {
          "output_type": "execute_result",
          "data": {
            "text/plain": [
              "Index(['Planta', 'Puesto habitual de trabajo', 'Género', 'Turno',\n",
              "       'Línea de producción', 'Codigo accidentado', 'turno_code',\n",
              "       'Puesto habitual de trabajo_code', 'Género_code',\n",
              "       'Línea de producción_code'],\n",
              "      dtype='object')"
            ]
          },
          "metadata": {
            "tags": []
          },
          "execution_count": 241
        }
      ]
    },
    {
      "cell_type": "code",
      "metadata": {
        "colab": {
          "base_uri": "https://localhost:8080/",
          "height": 195
        },
        "id": "XfVt5N7IivEA",
        "outputId": "73c939ad-cff5-4212-e684-5e99ef6a7f91"
      },
      "source": [
        "accidents_coded = accidentes[['turno_code',\n",
        "       'Puesto habitual de trabajo_code', 'Género_code',\n",
        "       'Línea de producción_code','Planta','N accidentes']]\n",
        "\n",
        "accidents_coded.head()"
      ],
      "execution_count": 244,
      "outputs": [
        {
          "output_type": "execute_result",
          "data": {
            "text/html": [
              "<div>\n",
              "<style scoped>\n",
              "    .dataframe tbody tr th:only-of-type {\n",
              "        vertical-align: middle;\n",
              "    }\n",
              "\n",
              "    .dataframe tbody tr th {\n",
              "        vertical-align: top;\n",
              "    }\n",
              "\n",
              "    .dataframe thead th {\n",
              "        text-align: right;\n",
              "    }\n",
              "</style>\n",
              "<table border=\"1\" class=\"dataframe\">\n",
              "  <thead>\n",
              "    <tr style=\"text-align: right;\">\n",
              "      <th></th>\n",
              "      <th>turno_code</th>\n",
              "      <th>Puesto habitual de trabajo_code</th>\n",
              "      <th>Género_code</th>\n",
              "      <th>Línea de producción_code</th>\n",
              "      <th>Planta</th>\n",
              "      <th>N accidentes</th>\n",
              "    </tr>\n",
              "  </thead>\n",
              "  <tbody>\n",
              "    <tr>\n",
              "      <th>0</th>\n",
              "      <td>2.0</td>\n",
              "      <td>4.0</td>\n",
              "      <td>0.0</td>\n",
              "      <td>55.0</td>\n",
              "      <td>1</td>\n",
              "      <td>1</td>\n",
              "    </tr>\n",
              "    <tr>\n",
              "      <th>1</th>\n",
              "      <td>0.0</td>\n",
              "      <td>24.0</td>\n",
              "      <td>1.0</td>\n",
              "      <td>55.0</td>\n",
              "      <td>1</td>\n",
              "      <td>1</td>\n",
              "    </tr>\n",
              "    <tr>\n",
              "      <th>2</th>\n",
              "      <td>2.0</td>\n",
              "      <td>30.0</td>\n",
              "      <td>0.0</td>\n",
              "      <td>21.0</td>\n",
              "      <td>1</td>\n",
              "      <td>1</td>\n",
              "    </tr>\n",
              "    <tr>\n",
              "      <th>3</th>\n",
              "      <td>2.0</td>\n",
              "      <td>43.0</td>\n",
              "      <td>0.0</td>\n",
              "      <td>7.0</td>\n",
              "      <td>1</td>\n",
              "      <td>1</td>\n",
              "    </tr>\n",
              "    <tr>\n",
              "      <th>4</th>\n",
              "      <td>2.0</td>\n",
              "      <td>45.0</td>\n",
              "      <td>0.0</td>\n",
              "      <td>64.0</td>\n",
              "      <td>1</td>\n",
              "      <td>1</td>\n",
              "    </tr>\n",
              "  </tbody>\n",
              "</table>\n",
              "</div>"
            ],
            "text/plain": [
              "   turno_code  Puesto habitual de trabajo_code  ...  Planta  N accidentes\n",
              "0         2.0                              4.0  ...       1             1\n",
              "1         0.0                             24.0  ...       1             1\n",
              "2         2.0                             30.0  ...       1             1\n",
              "3         2.0                             43.0  ...       1             1\n",
              "4         2.0                             45.0  ...       1             1\n",
              "\n",
              "[5 rows x 6 columns]"
            ]
          },
          "metadata": {
            "tags": []
          },
          "execution_count": 244
        }
      ]
    },
    {
      "cell_type": "code",
      "metadata": {
        "colab": {
          "base_uri": "https://localhost:8080/",
          "height": 420
        },
        "id": "jLWsXlBqeusr",
        "outputId": "b61a9d3f-db6f-4ac6-a7a7-594203b11691"
      },
      "source": [
        "correlation_mat = accidents_coded.corr()\n",
        "\n",
        "sns.heatmap(correlation_mat, annot = True)\n",
        "\n",
        "plt.show()"
      ],
      "execution_count": 245,
      "outputs": [
        {
          "output_type": "display_data",
          "data": {
            "image/png": "[encoded data removed]",
            "text/plain": [
              "<Figure size 432x288 with 2 Axes>"
            ]
          },
          "metadata": {
            "tags": [],
            "needs_background": "light"
          }
        }
      ]
    },
    {
      "cell_type": "code",
      "metadata": {
        "id": "pv23RJoMkCib"
      },
      "source": [
        "accidents_coded_srtd = accidentes[['turno_code',\n",
        "        'Género_code','Planta','N accidentes']]"
      ],
      "execution_count": 248,
      "outputs": []
    },
    {
      "cell_type": "code",
      "metadata": {
        "colab": {
          "base_uri": "https://localhost:8080/",
          "height": 271
        },
        "id": "QVUToG2TkIia",
        "outputId": "d5e848ab-b72b-45ee-abb6-bd9f96cba07f"
      },
      "source": [
        "correlation_mat = accidents_coded_srtd.corr()\n",
        "\n",
        "sns.heatmap(correlation_mat, annot = True)\n",
        "\n",
        "plt.show()"
      ],
      "execution_count": 249,
      "outputs": [
        {
          "output_type": "display_data",
          "data": {
            "image/png": "[encoded data removed]",
            "text/plain": [
              "<Figure size 432x288 with 2 Axes>"
            ]
          },
          "metadata": {
            "tags": [],
            "needs_background": "light"
          }
        }
      ]
    }
  ]
}