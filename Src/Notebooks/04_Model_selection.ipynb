{
  "nbformat": 4,
  "nbformat_minor": 0,
  "metadata": {
    "colab": {
      "name": "04_Model_selection.ipynb",
      "provenance": [],
      "collapsed_sections": [],
      "mount_file_id": "1JTv9jnMWk0I63RJCkjdYGLSMZDwfYSAt",
      "authorship_tag": "ABX9TyM/tUY8ycPg+ZeypfbX9ceE",
      "include_colab_link": true
    },
    "kernelspec": {
      "display_name": "Python 3",
      "name": "python3"
    },
    "language_info": {
      "name": "python"
    }
  },
  "cells": [
    {
      "cell_type": "markdown",
      "metadata": {
        "id": "view-in-github",
        "colab_type": "text"
      },
      "source": [
        "<a href=\"https://colab.research.google.com/github/sarasabino/Accident_Rate_Project/blob/main/Src/Notebooks/04_Model_selection.ipynb\" target=\"_parent\"><img src=\"https://colab.research.google.com/assets/colab-badge.svg\" alt=\"Open In Colab\"/></a>"
      ]
    },
    {
      "cell_type": "code",
      "metadata": {
        "id": "Bq_m8VUeZz8C"
      },
      "source": [
        "! cp /content/drive/MyDrive/'Colab Notebooks'/'TFM Accidentabilidad'/Data/staff_encoded.csv .\n"
      ],
      "execution_count": 1,
      "outputs": []
    },
    {
      "cell_type": "code",
      "metadata": {
        "id": "6fOH4PXHaHGH"
      },
      "source": [
        "import pandas as pd\n",
        "staff = pd.read_csv('staff_encoded.csv', sep=';')"
      ],
      "execution_count": 2,
      "outputs": []
    },
    {
      "cell_type": "markdown",
      "metadata": {
        "id": "pHEBml3HdqxB"
      },
      "source": [
        "This is the data we have generated in previous notebooks and the one we are going to be using for the machine learning algorithms"
      ]
    },
    {
      "cell_type": "code",
      "metadata": {
        "colab": {
          "base_uri": "https://localhost:8080/",
          "height": 1000
        },
        "id": "fZ7ZHpsVb-6p",
        "outputId": "0ea158a7-d029-476c-e0b5-4ca46ced4d58"
      },
      "source": [
        "staff.head(50)"
      ],
      "execution_count": 3,
      "outputs": [
        {
          "output_type": "execute_result",
          "data": {
            "text/html": [
              "<div>\n",
              "<style scoped>\n",
              "    .dataframe tbody tr th:only-of-type {\n",
              "        vertical-align: middle;\n",
              "    }\n",
              "\n",
              "    .dataframe tbody tr th {\n",
              "        vertical-align: top;\n",
              "    }\n",
              "\n",
              "    .dataframe thead th {\n",
              "        text-align: right;\n",
              "    }\n",
              "</style>\n",
              "<table border=\"1\" class=\"dataframe\">\n",
              "  <thead>\n",
              "    <tr style=\"text-align: right;\">\n",
              "      <th></th>\n",
              "      <th>Unnamed: 0</th>\n",
              "      <th>Horas Presencia Efectiva Subcontratados</th>\n",
              "      <th>Horas Presencia Efectiva ETTs</th>\n",
              "      <th>Horas Formacion Seguridad Propios</th>\n",
              "      <th>Horas Formacion Seguridad ETTs</th>\n",
              "      <th>Accident</th>\n",
              "      <th>wk_position</th>\n",
              "      <th>Age</th>\n",
              "      <th>Severity</th>\n",
              "      <th>Accident_place</th>\n",
              "      <th>Gender_Hombre</th>\n",
              "      <th>T_Turno de mañana</th>\n",
              "      <th>T_Turno de noche</th>\n",
              "      <th>T_Turno de tarde</th>\n",
              "      <th>Age_Entre 30-50</th>\n",
              "      <th>Age_Mayor 50</th>\n",
              "      <th>Age_Menor 30</th>\n",
              "      <th>Tipo_trab_reduced</th>\n",
              "      <th>Acc_Duración Determinada</th>\n",
              "      <th>Acc_ETT</th>\n",
              "      <th>Acc_Indefinido</th>\n",
              "      <th>Acc_Otros</th>\n",
              "    </tr>\n",
              "  </thead>\n",
              "  <tbody>\n",
              "    <tr>\n",
              "      <th>0</th>\n",
              "      <td>0</td>\n",
              "      <td>25249.0</td>\n",
              "      <td>42485.0</td>\n",
              "      <td>1419.0</td>\n",
              "      <td>829.0</td>\n",
              "      <td>1</td>\n",
              "      <td>Gruista LONGI004 y LONGI008</td>\n",
              "      <td>Entre 30-50</td>\n",
              "      <td>Leve</td>\n",
              "      <td>Mantenimiento</td>\n",
              "      <td>1</td>\n",
              "      <td>1</td>\n",
              "      <td>0</td>\n",
              "      <td>0</td>\n",
              "      <td>1</td>\n",
              "      <td>0</td>\n",
              "      <td>0</td>\n",
              "      <td>ETT</td>\n",
              "      <td>0</td>\n",
              "      <td>1</td>\n",
              "      <td>0</td>\n",
              "      <td>0</td>\n",
              "    </tr>\n",
              "    <tr>\n",
              "      <th>1</th>\n",
              "      <td>1</td>\n",
              "      <td>25249.0</td>\n",
              "      <td>42485.0</td>\n",
              "      <td>1419.0</td>\n",
              "      <td>829.0</td>\n",
              "      <td>1</td>\n",
              "      <td>Operador Puente-Grúa</td>\n",
              "      <td>Mayor 50</td>\n",
              "      <td>Muy grave</td>\n",
              "      <td>Mantenimiento</td>\n",
              "      <td>1</td>\n",
              "      <td>1</td>\n",
              "      <td>0</td>\n",
              "      <td>0</td>\n",
              "      <td>0</td>\n",
              "      <td>1</td>\n",
              "      <td>0</td>\n",
              "      <td>Indefinido</td>\n",
              "      <td>0</td>\n",
              "      <td>0</td>\n",
              "      <td>1</td>\n",
              "      <td>0</td>\n",
              "    </tr>\n",
              "    <tr>\n",
              "      <th>2</th>\n",
              "      <td>2</td>\n",
              "      <td>25685.0</td>\n",
              "      <td>18303.0</td>\n",
              "      <td>1151.0</td>\n",
              "      <td>152.0</td>\n",
              "      <td>1</td>\n",
              "      <td>hanger</td>\n",
              "      <td>Entre 30-50</td>\n",
              "      <td>Muy grave</td>\n",
              "      <td>Mantenimiento</td>\n",
              "      <td>1</td>\n",
              "      <td>0</td>\n",
              "      <td>0</td>\n",
              "      <td>1</td>\n",
              "      <td>1</td>\n",
              "      <td>0</td>\n",
              "      <td>0</td>\n",
              "      <td>Duración Determinada</td>\n",
              "      <td>1</td>\n",
              "      <td>0</td>\n",
              "      <td>0</td>\n",
              "      <td>0</td>\n",
              "    </tr>\n",
              "    <tr>\n",
              "      <th>3</th>\n",
              "      <td>3</td>\n",
              "      <td>25685.0</td>\n",
              "      <td>18303.0</td>\n",
              "      <td>1151.0</td>\n",
              "      <td>152.0</td>\n",
              "      <td>1</td>\n",
              "      <td>Titular Circulares</td>\n",
              "      <td>Entre 30-50</td>\n",
              "      <td>Grave</td>\n",
              "      <td>Mantenimiento</td>\n",
              "      <td>1</td>\n",
              "      <td>1</td>\n",
              "      <td>0</td>\n",
              "      <td>0</td>\n",
              "      <td>1</td>\n",
              "      <td>0</td>\n",
              "      <td>0</td>\n",
              "      <td>ETT</td>\n",
              "      <td>0</td>\n",
              "      <td>1</td>\n",
              "      <td>0</td>\n",
              "      <td>0</td>\n",
              "    </tr>\n",
              "    <tr>\n",
              "      <th>4</th>\n",
              "      <td>4</td>\n",
              "      <td>0.0</td>\n",
              "      <td>0.0</td>\n",
              "      <td>0.0</td>\n",
              "      <td>0.0</td>\n",
              "      <td>1</td>\n",
              "      <td>Control Calidad</td>\n",
              "      <td>Entre 30-50</td>\n",
              "      <td>Grave</td>\n",
              "      <td>Mantenimiento</td>\n",
              "      <td>1</td>\n",
              "      <td>1</td>\n",
              "      <td>0</td>\n",
              "      <td>0</td>\n",
              "      <td>1</td>\n",
              "      <td>0</td>\n",
              "      <td>0</td>\n",
              "      <td>Otros</td>\n",
              "      <td>0</td>\n",
              "      <td>0</td>\n",
              "      <td>0</td>\n",
              "      <td>1</td>\n",
              "    </tr>\n",
              "    <tr>\n",
              "      <th>5</th>\n",
              "      <td>5</td>\n",
              "      <td>25685.0</td>\n",
              "      <td>18303.0</td>\n",
              "      <td>1151.0</td>\n",
              "      <td>152.0</td>\n",
              "      <td>1</td>\n",
              "      <td>Operador Logistico</td>\n",
              "      <td>Mayor 50</td>\n",
              "      <td>Muy grave</td>\n",
              "      <td>Mantenimiento</td>\n",
              "      <td>1</td>\n",
              "      <td>1</td>\n",
              "      <td>0</td>\n",
              "      <td>0</td>\n",
              "      <td>0</td>\n",
              "      <td>1</td>\n",
              "      <td>0</td>\n",
              "      <td>Indefinido</td>\n",
              "      <td>0</td>\n",
              "      <td>0</td>\n",
              "      <td>1</td>\n",
              "      <td>0</td>\n",
              "    </tr>\n",
              "    <tr>\n",
              "      <th>6</th>\n",
              "      <td>6</td>\n",
              "      <td>0.0</td>\n",
              "      <td>0.0</td>\n",
              "      <td>607.0</td>\n",
              "      <td>0.0</td>\n",
              "      <td>1</td>\n",
              "      <td>Embaladora 2</td>\n",
              "      <td>Entre 30-50</td>\n",
              "      <td>Grave</td>\n",
              "      <td>Mantenimiento</td>\n",
              "      <td>1</td>\n",
              "      <td>0</td>\n",
              "      <td>0</td>\n",
              "      <td>1</td>\n",
              "      <td>1</td>\n",
              "      <td>0</td>\n",
              "      <td>0</td>\n",
              "      <td>Otros</td>\n",
              "      <td>0</td>\n",
              "      <td>0</td>\n",
              "      <td>0</td>\n",
              "      <td>1</td>\n",
              "    </tr>\n",
              "    <tr>\n",
              "      <th>7</th>\n",
              "      <td>7</td>\n",
              "      <td>0.0</td>\n",
              "      <td>0.0</td>\n",
              "      <td>607.0</td>\n",
              "      <td>0.0</td>\n",
              "      <td>1</td>\n",
              "      <td>AYUDANTE PRENS001</td>\n",
              "      <td>Mayor 50</td>\n",
              "      <td>Muy grave</td>\n",
              "      <td>Mantenimiento</td>\n",
              "      <td>1</td>\n",
              "      <td>0</td>\n",
              "      <td>0</td>\n",
              "      <td>1</td>\n",
              "      <td>0</td>\n",
              "      <td>1</td>\n",
              "      <td>0</td>\n",
              "      <td>Indefinido</td>\n",
              "      <td>0</td>\n",
              "      <td>0</td>\n",
              "      <td>1</td>\n",
              "      <td>0</td>\n",
              "    </tr>\n",
              "    <tr>\n",
              "      <th>8</th>\n",
              "      <td>8</td>\n",
              "      <td>0.0</td>\n",
              "      <td>0.0</td>\n",
              "      <td>607.0</td>\n",
              "      <td>0.0</td>\n",
              "      <td>1</td>\n",
              "      <td>Gruista perfiladoras</td>\n",
              "      <td>Mayor 50</td>\n",
              "      <td>Muy grave</td>\n",
              "      <td>Mantenimiento</td>\n",
              "      <td>1</td>\n",
              "      <td>0</td>\n",
              "      <td>0</td>\n",
              "      <td>1</td>\n",
              "      <td>0</td>\n",
              "      <td>1</td>\n",
              "      <td>0</td>\n",
              "      <td>Otros</td>\n",
              "      <td>0</td>\n",
              "      <td>0</td>\n",
              "      <td>0</td>\n",
              "      <td>1</td>\n",
              "    </tr>\n",
              "    <tr>\n",
              "      <th>9</th>\n",
              "      <td>9</td>\n",
              "      <td>25249.0</td>\n",
              "      <td>42485.0</td>\n",
              "      <td>1419.0</td>\n",
              "      <td>829.0</td>\n",
              "      <td>1</td>\n",
              "      <td>packaking -road safety</td>\n",
              "      <td>Entre 30-50</td>\n",
              "      <td>Leve</td>\n",
              "      <td>Mantenimiento</td>\n",
              "      <td>1</td>\n",
              "      <td>1</td>\n",
              "      <td>0</td>\n",
              "      <td>0</td>\n",
              "      <td>1</td>\n",
              "      <td>0</td>\n",
              "      <td>0</td>\n",
              "      <td>Otros</td>\n",
              "      <td>0</td>\n",
              "      <td>0</td>\n",
              "      <td>0</td>\n",
              "      <td>1</td>\n",
              "    </tr>\n",
              "    <tr>\n",
              "      <th>10</th>\n",
              "      <td>10</td>\n",
              "      <td>25249.0</td>\n",
              "      <td>42485.0</td>\n",
              "      <td>1419.0</td>\n",
              "      <td>829.0</td>\n",
              "      <td>1</td>\n",
              "      <td>galvanizado</td>\n",
              "      <td>Mayor 50</td>\n",
              "      <td>Muy grave</td>\n",
              "      <td>Mantenimiento</td>\n",
              "      <td>1</td>\n",
              "      <td>1</td>\n",
              "      <td>0</td>\n",
              "      <td>0</td>\n",
              "      <td>0</td>\n",
              "      <td>1</td>\n",
              "      <td>0</td>\n",
              "      <td>Otros</td>\n",
              "      <td>0</td>\n",
              "      <td>0</td>\n",
              "      <td>0</td>\n",
              "      <td>1</td>\n",
              "    </tr>\n",
              "    <tr>\n",
              "      <th>11</th>\n",
              "      <td>11</td>\n",
              "      <td>25249.0</td>\n",
              "      <td>42485.0</td>\n",
              "      <td>1419.0</td>\n",
              "      <td>829.0</td>\n",
              "      <td>1</td>\n",
              "      <td>operator on packaging line</td>\n",
              "      <td>Entre 30-50</td>\n",
              "      <td>Muy grave</td>\n",
              "      <td>Mantenimiento</td>\n",
              "      <td>1</td>\n",
              "      <td>1</td>\n",
              "      <td>0</td>\n",
              "      <td>0</td>\n",
              "      <td>1</td>\n",
              "      <td>0</td>\n",
              "      <td>0</td>\n",
              "      <td>Otros</td>\n",
              "      <td>0</td>\n",
              "      <td>0</td>\n",
              "      <td>0</td>\n",
              "      <td>1</td>\n",
              "    </tr>\n",
              "    <tr>\n",
              "      <th>12</th>\n",
              "      <td>12</td>\n",
              "      <td>25249.0</td>\n",
              "      <td>42485.0</td>\n",
              "      <td>1419.0</td>\n",
              "      <td>829.0</td>\n",
              "      <td>1</td>\n",
              "      <td>GRUISTA - EMBALADOR</td>\n",
              "      <td>Entre 30-50</td>\n",
              "      <td>Grave</td>\n",
              "      <td>Mantenimiento</td>\n",
              "      <td>1</td>\n",
              "      <td>1</td>\n",
              "      <td>0</td>\n",
              "      <td>0</td>\n",
              "      <td>1</td>\n",
              "      <td>0</td>\n",
              "      <td>0</td>\n",
              "      <td>Otros</td>\n",
              "      <td>0</td>\n",
              "      <td>0</td>\n",
              "      <td>0</td>\n",
              "      <td>1</td>\n",
              "    </tr>\n",
              "    <tr>\n",
              "      <th>13</th>\n",
              "      <td>13</td>\n",
              "      <td>25249.0</td>\n",
              "      <td>42485.0</td>\n",
              "      <td>1419.0</td>\n",
              "      <td>829.0</td>\n",
              "      <td>1</td>\n",
              "      <td>Operadores limpieza de caldera y gruista de ca...</td>\n",
              "      <td>Mayor 50</td>\n",
              "      <td>Grave</td>\n",
              "      <td>Mantenimiento</td>\n",
              "      <td>1</td>\n",
              "      <td>1</td>\n",
              "      <td>0</td>\n",
              "      <td>0</td>\n",
              "      <td>0</td>\n",
              "      <td>1</td>\n",
              "      <td>0</td>\n",
              "      <td>Otros</td>\n",
              "      <td>0</td>\n",
              "      <td>0</td>\n",
              "      <td>0</td>\n",
              "      <td>1</td>\n",
              "    </tr>\n",
              "    <tr>\n",
              "      <th>14</th>\n",
              "      <td>14</td>\n",
              "      <td>0.0</td>\n",
              "      <td>0.0</td>\n",
              "      <td>607.0</td>\n",
              "      <td>0.0</td>\n",
              "      <td>1</td>\n",
              "      <td>Operador de Produção II</td>\n",
              "      <td>Menor 30</td>\n",
              "      <td>Grave</td>\n",
              "      <td>Mantenimiento</td>\n",
              "      <td>1</td>\n",
              "      <td>0</td>\n",
              "      <td>0</td>\n",
              "      <td>1</td>\n",
              "      <td>0</td>\n",
              "      <td>0</td>\n",
              "      <td>1</td>\n",
              "      <td>Otros</td>\n",
              "      <td>0</td>\n",
              "      <td>0</td>\n",
              "      <td>0</td>\n",
              "      <td>1</td>\n",
              "    </tr>\n",
              "    <tr>\n",
              "      <th>15</th>\n",
              "      <td>15</td>\n",
              "      <td>0.0</td>\n",
              "      <td>0.0</td>\n",
              "      <td>607.0</td>\n",
              "      <td>0.0</td>\n",
              "      <td>1</td>\n",
              "      <td>Titular Línea Corte Prensa II</td>\n",
              "      <td>Menor 30</td>\n",
              "      <td>Grave</td>\n",
              "      <td>Mantenimiento</td>\n",
              "      <td>1</td>\n",
              "      <td>0</td>\n",
              "      <td>1</td>\n",
              "      <td>0</td>\n",
              "      <td>0</td>\n",
              "      <td>0</td>\n",
              "      <td>1</td>\n",
              "      <td>Otros</td>\n",
              "      <td>0</td>\n",
              "      <td>0</td>\n",
              "      <td>0</td>\n",
              "      <td>1</td>\n",
              "    </tr>\n",
              "    <tr>\n",
              "      <th>16</th>\n",
              "      <td>16</td>\n",
              "      <td>0.0</td>\n",
              "      <td>0.0</td>\n",
              "      <td>607.0</td>\n",
              "      <td>0.0</td>\n",
              "      <td>1</td>\n",
              "      <td>Inspector de Calidad</td>\n",
              "      <td>Menor 30</td>\n",
              "      <td>Muy grave</td>\n",
              "      <td>Mantenimiento</td>\n",
              "      <td>1</td>\n",
              "      <td>0</td>\n",
              "      <td>0</td>\n",
              "      <td>1</td>\n",
              "      <td>0</td>\n",
              "      <td>0</td>\n",
              "      <td>1</td>\n",
              "      <td>Otros</td>\n",
              "      <td>0</td>\n",
              "      <td>0</td>\n",
              "      <td>0</td>\n",
              "      <td>1</td>\n",
              "    </tr>\n",
              "    <tr>\n",
              "      <th>17</th>\n",
              "      <td>17</td>\n",
              "      <td>17051.0</td>\n",
              "      <td>211.0</td>\n",
              "      <td>757.0</td>\n",
              "      <td>0.0</td>\n",
              "      <td>1</td>\n",
              "      <td>empaquetador perfiladora de tubos</td>\n",
              "      <td>Mayor 50</td>\n",
              "      <td>Grave</td>\n",
              "      <td>Mantenimiento</td>\n",
              "      <td>1</td>\n",
              "      <td>1</td>\n",
              "      <td>0</td>\n",
              "      <td>0</td>\n",
              "      <td>0</td>\n",
              "      <td>1</td>\n",
              "      <td>0</td>\n",
              "      <td>Indefinido</td>\n",
              "      <td>0</td>\n",
              "      <td>0</td>\n",
              "      <td>1</td>\n",
              "      <td>0</td>\n",
              "    </tr>\n",
              "    <tr>\n",
              "      <th>18</th>\n",
              "      <td>18</td>\n",
              "      <td>25685.0</td>\n",
              "      <td>18303.0</td>\n",
              "      <td>1151.0</td>\n",
              "      <td>152.0</td>\n",
              "      <td>1</td>\n",
              "      <td>EMBALAJE MANUAL</td>\n",
              "      <td>Mayor 50</td>\n",
              "      <td>Muy grave</td>\n",
              "      <td>Mantenimiento</td>\n",
              "      <td>1</td>\n",
              "      <td>1</td>\n",
              "      <td>0</td>\n",
              "      <td>0</td>\n",
              "      <td>0</td>\n",
              "      <td>1</td>\n",
              "      <td>0</td>\n",
              "      <td>Indefinido</td>\n",
              "      <td>0</td>\n",
              "      <td>0</td>\n",
              "      <td>1</td>\n",
              "      <td>0</td>\n",
              "    </tr>\n",
              "    <tr>\n",
              "      <th>19</th>\n",
              "      <td>19</td>\n",
              "      <td>25685.0</td>\n",
              "      <td>18303.0</td>\n",
              "      <td>1151.0</td>\n",
              "      <td>152.0</td>\n",
              "      <td>1</td>\n",
              "      <td>Kranführer H1 Nord</td>\n",
              "      <td>Mayor 50</td>\n",
              "      <td>Leve</td>\n",
              "      <td>Mantenimiento</td>\n",
              "      <td>1</td>\n",
              "      <td>0</td>\n",
              "      <td>0</td>\n",
              "      <td>1</td>\n",
              "      <td>0</td>\n",
              "      <td>1</td>\n",
              "      <td>0</td>\n",
              "      <td>Otros</td>\n",
              "      <td>0</td>\n",
              "      <td>0</td>\n",
              "      <td>0</td>\n",
              "      <td>1</td>\n",
              "    </tr>\n",
              "    <tr>\n",
              "      <th>20</th>\n",
              "      <td>20</td>\n",
              "      <td>0.0</td>\n",
              "      <td>0.0</td>\n",
              "      <td>607.0</td>\n",
              "      <td>0.0</td>\n",
              "      <td>1</td>\n",
              "      <td>Staplerfahrer Halle 2 und 3</td>\n",
              "      <td>Mayor 50</td>\n",
              "      <td>Grave</td>\n",
              "      <td>Mantenimiento</td>\n",
              "      <td>1</td>\n",
              "      <td>1</td>\n",
              "      <td>0</td>\n",
              "      <td>0</td>\n",
              "      <td>0</td>\n",
              "      <td>1</td>\n",
              "      <td>0</td>\n",
              "      <td>Indefinido</td>\n",
              "      <td>0</td>\n",
              "      <td>0</td>\n",
              "      <td>1</td>\n",
              "      <td>0</td>\n",
              "    </tr>\n",
              "    <tr>\n",
              "      <th>21</th>\n",
              "      <td>21</td>\n",
              "      <td>0.0</td>\n",
              "      <td>0.0</td>\n",
              "      <td>607.0</td>\n",
              "      <td>0.0</td>\n",
              "      <td>1</td>\n",
              "      <td>Recibidor línea 3mts</td>\n",
              "      <td>Mayor 50</td>\n",
              "      <td>Muy grave</td>\n",
              "      <td>Mantenimiento</td>\n",
              "      <td>1</td>\n",
              "      <td>1</td>\n",
              "      <td>0</td>\n",
              "      <td>0</td>\n",
              "      <td>0</td>\n",
              "      <td>1</td>\n",
              "      <td>0</td>\n",
              "      <td>Indefinido</td>\n",
              "      <td>0</td>\n",
              "      <td>0</td>\n",
              "      <td>1</td>\n",
              "      <td>0</td>\n",
              "    </tr>\n",
              "    <tr>\n",
              "      <th>22</th>\n",
              "      <td>22</td>\n",
              "      <td>0.0</td>\n",
              "      <td>0.0</td>\n",
              "      <td>607.0</td>\n",
              "      <td>0.0</td>\n",
              "      <td>1</td>\n",
              "      <td>Auxiliar TRANS003</td>\n",
              "      <td>Entre 30-50</td>\n",
              "      <td>Leve</td>\n",
              "      <td>Mantenimiento</td>\n",
              "      <td>1</td>\n",
              "      <td>1</td>\n",
              "      <td>0</td>\n",
              "      <td>0</td>\n",
              "      <td>1</td>\n",
              "      <td>0</td>\n",
              "      <td>0</td>\n",
              "      <td>Otros</td>\n",
              "      <td>0</td>\n",
              "      <td>0</td>\n",
              "      <td>0</td>\n",
              "      <td>1</td>\n",
              "    </tr>\n",
              "    <tr>\n",
              "      <th>23</th>\n",
              "      <td>23</td>\n",
              "      <td>0.0</td>\n",
              "      <td>0.0</td>\n",
              "      <td>607.0</td>\n",
              "      <td>0.0</td>\n",
              "      <td>1</td>\n",
              "      <td>Perfiles abiertos</td>\n",
              "      <td>Mayor 50</td>\n",
              "      <td>Muy grave</td>\n",
              "      <td>Mantenimiento</td>\n",
              "      <td>1</td>\n",
              "      <td>1</td>\n",
              "      <td>0</td>\n",
              "      <td>0</td>\n",
              "      <td>0</td>\n",
              "      <td>1</td>\n",
              "      <td>0</td>\n",
              "      <td>Otros</td>\n",
              "      <td>0</td>\n",
              "      <td>0</td>\n",
              "      <td>0</td>\n",
              "      <td>1</td>\n",
              "    </tr>\n",
              "    <tr>\n",
              "      <th>24</th>\n",
              "      <td>24</td>\n",
              "      <td>0.0</td>\n",
              "      <td>0.0</td>\n",
              "      <td>607.0</td>\n",
              "      <td>0.0</td>\n",
              "      <td>1</td>\n",
              "      <td>Operario de Linea</td>\n",
              "      <td>Menor 30</td>\n",
              "      <td>Grave</td>\n",
              "      <td>Mantenimiento</td>\n",
              "      <td>1</td>\n",
              "      <td>1</td>\n",
              "      <td>0</td>\n",
              "      <td>0</td>\n",
              "      <td>0</td>\n",
              "      <td>0</td>\n",
              "      <td>1</td>\n",
              "      <td>Otros</td>\n",
              "      <td>0</td>\n",
              "      <td>0</td>\n",
              "      <td>0</td>\n",
              "      <td>1</td>\n",
              "    </tr>\n",
              "    <tr>\n",
              "      <th>25</th>\n",
              "      <td>25</td>\n",
              "      <td>0.0</td>\n",
              "      <td>0.0</td>\n",
              "      <td>607.0</td>\n",
              "      <td>0.0</td>\n",
              "      <td>1</td>\n",
              "      <td>Utillero</td>\n",
              "      <td>Entre 30-50</td>\n",
              "      <td>Leve</td>\n",
              "      <td>Mantenimiento</td>\n",
              "      <td>1</td>\n",
              "      <td>0</td>\n",
              "      <td>0</td>\n",
              "      <td>1</td>\n",
              "      <td>1</td>\n",
              "      <td>0</td>\n",
              "      <td>0</td>\n",
              "      <td>Otros</td>\n",
              "      <td>0</td>\n",
              "      <td>0</td>\n",
              "      <td>0</td>\n",
              "      <td>1</td>\n",
              "    </tr>\n",
              "    <tr>\n",
              "      <th>26</th>\n",
              "      <td>26</td>\n",
              "      <td>25249.0</td>\n",
              "      <td>42485.0</td>\n",
              "      <td>1419.0</td>\n",
              "      <td>829.0</td>\n",
              "      <td>1</td>\n",
              "      <td>Operario de mantenimiento</td>\n",
              "      <td>Menor 30</td>\n",
              "      <td>Grave</td>\n",
              "      <td>Mantenimiento</td>\n",
              "      <td>1</td>\n",
              "      <td>0</td>\n",
              "      <td>0</td>\n",
              "      <td>1</td>\n",
              "      <td>0</td>\n",
              "      <td>0</td>\n",
              "      <td>1</td>\n",
              "      <td>Indefinido</td>\n",
              "      <td>0</td>\n",
              "      <td>0</td>\n",
              "      <td>1</td>\n",
              "      <td>0</td>\n",
              "    </tr>\n",
              "    <tr>\n",
              "      <th>27</th>\n",
              "      <td>27</td>\n",
              "      <td>0.0</td>\n",
              "      <td>0.0</td>\n",
              "      <td>607.0</td>\n",
              "      <td>0.0</td>\n",
              "      <td>1</td>\n",
              "      <td>welding for polygon</td>\n",
              "      <td>Mayor 50</td>\n",
              "      <td>Grave</td>\n",
              "      <td>Mantenimiento</td>\n",
              "      <td>1</td>\n",
              "      <td>0</td>\n",
              "      <td>1</td>\n",
              "      <td>0</td>\n",
              "      <td>0</td>\n",
              "      <td>1</td>\n",
              "      <td>0</td>\n",
              "      <td>Indefinido</td>\n",
              "      <td>0</td>\n",
              "      <td>0</td>\n",
              "      <td>1</td>\n",
              "      <td>0</td>\n",
              "    </tr>\n",
              "    <tr>\n",
              "      <th>28</th>\n",
              "      <td>28</td>\n",
              "      <td>0.0</td>\n",
              "      <td>0.0</td>\n",
              "      <td>607.0</td>\n",
              "      <td>0.0</td>\n",
              "      <td>1</td>\n",
              "      <td>Operador II</td>\n",
              "      <td>Entre 30-50</td>\n",
              "      <td>Leve</td>\n",
              "      <td>Mantenimiento</td>\n",
              "      <td>1</td>\n",
              "      <td>1</td>\n",
              "      <td>0</td>\n",
              "      <td>0</td>\n",
              "      <td>1</td>\n",
              "      <td>0</td>\n",
              "      <td>0</td>\n",
              "      <td>Indefinido</td>\n",
              "      <td>0</td>\n",
              "      <td>0</td>\n",
              "      <td>1</td>\n",
              "      <td>0</td>\n",
              "    </tr>\n",
              "    <tr>\n",
              "      <th>29</th>\n",
              "      <td>29</td>\n",
              "      <td>0.0</td>\n",
              "      <td>0.0</td>\n",
              "      <td>607.0</td>\n",
              "      <td>0.0</td>\n",
              "      <td>1</td>\n",
              "      <td>LCP 03</td>\n",
              "      <td>Entre 30-50</td>\n",
              "      <td>Leve</td>\n",
              "      <td>Mantenimiento</td>\n",
              "      <td>1</td>\n",
              "      <td>1</td>\n",
              "      <td>0</td>\n",
              "      <td>0</td>\n",
              "      <td>1</td>\n",
              "      <td>0</td>\n",
              "      <td>0</td>\n",
              "      <td>Otros</td>\n",
              "      <td>0</td>\n",
              "      <td>0</td>\n",
              "      <td>0</td>\n",
              "      <td>1</td>\n",
              "    </tr>\n",
              "    <tr>\n",
              "      <th>30</th>\n",
              "      <td>30</td>\n",
              "      <td>0.0</td>\n",
              "      <td>0.0</td>\n",
              "      <td>0.0</td>\n",
              "      <td>0.0</td>\n",
              "      <td>1</td>\n",
              "      <td>Movimentação</td>\n",
              "      <td>Entre 30-50</td>\n",
              "      <td>Leve</td>\n",
              "      <td>Mantenimiento</td>\n",
              "      <td>1</td>\n",
              "      <td>1</td>\n",
              "      <td>0</td>\n",
              "      <td>0</td>\n",
              "      <td>1</td>\n",
              "      <td>0</td>\n",
              "      <td>0</td>\n",
              "      <td>Indefinido</td>\n",
              "      <td>0</td>\n",
              "      <td>0</td>\n",
              "      <td>1</td>\n",
              "      <td>0</td>\n",
              "    </tr>\n",
              "    <tr>\n",
              "      <th>31</th>\n",
              "      <td>31</td>\n",
              "      <td>25685.0</td>\n",
              "      <td>18303.0</td>\n",
              "      <td>1151.0</td>\n",
              "      <td>152.0</td>\n",
              "      <td>1</td>\n",
              "      <td>Material  Handler / Slitting Operator</td>\n",
              "      <td>Mayor 50</td>\n",
              "      <td>Muy grave</td>\n",
              "      <td>Mantenimiento</td>\n",
              "      <td>1</td>\n",
              "      <td>1</td>\n",
              "      <td>0</td>\n",
              "      <td>0</td>\n",
              "      <td>0</td>\n",
              "      <td>1</td>\n",
              "      <td>0</td>\n",
              "      <td>ETT</td>\n",
              "      <td>0</td>\n",
              "      <td>1</td>\n",
              "      <td>0</td>\n",
              "      <td>0</td>\n",
              "    </tr>\n",
              "    <tr>\n",
              "      <th>32</th>\n",
              "      <td>32</td>\n",
              "      <td>2836.0</td>\n",
              "      <td>2046.0</td>\n",
              "      <td>1212.0</td>\n",
              "      <td>0.0</td>\n",
              "      <td>1</td>\n",
              "      <td>OPERARIO DE CARGA</td>\n",
              "      <td>Entre 30-50</td>\n",
              "      <td>Muy grave</td>\n",
              "      <td>Mantenimiento</td>\n",
              "      <td>1</td>\n",
              "      <td>1</td>\n",
              "      <td>0</td>\n",
              "      <td>0</td>\n",
              "      <td>1</td>\n",
              "      <td>0</td>\n",
              "      <td>0</td>\n",
              "      <td>Otros</td>\n",
              "      <td>0</td>\n",
              "      <td>0</td>\n",
              "      <td>0</td>\n",
              "      <td>1</td>\n",
              "    </tr>\n",
              "    <tr>\n",
              "      <th>33</th>\n",
              "      <td>33</td>\n",
              "      <td>0.0</td>\n",
              "      <td>0.0</td>\n",
              "      <td>607.0</td>\n",
              "      <td>0.0</td>\n",
              "      <td>1</td>\n",
              "      <td>Almacenes</td>\n",
              "      <td>Entre 30-50</td>\n",
              "      <td>Muy grave</td>\n",
              "      <td>Mantenimiento</td>\n",
              "      <td>1</td>\n",
              "      <td>1</td>\n",
              "      <td>0</td>\n",
              "      <td>0</td>\n",
              "      <td>1</td>\n",
              "      <td>0</td>\n",
              "      <td>0</td>\n",
              "      <td>Indefinido</td>\n",
              "      <td>0</td>\n",
              "      <td>0</td>\n",
              "      <td>1</td>\n",
              "      <td>0</td>\n",
              "    </tr>\n",
              "    <tr>\n",
              "      <th>34</th>\n",
              "      <td>34</td>\n",
              "      <td>0.0</td>\n",
              "      <td>0.0</td>\n",
              "      <td>0.0</td>\n",
              "      <td>0.0</td>\n",
              "      <td>1</td>\n",
              "      <td>Auxiliar de Producción</td>\n",
              "      <td>Menor 30</td>\n",
              "      <td>Grave</td>\n",
              "      <td>Mantenimiento</td>\n",
              "      <td>1</td>\n",
              "      <td>1</td>\n",
              "      <td>0</td>\n",
              "      <td>0</td>\n",
              "      <td>0</td>\n",
              "      <td>0</td>\n",
              "      <td>1</td>\n",
              "      <td>Otros</td>\n",
              "      <td>0</td>\n",
              "      <td>0</td>\n",
              "      <td>0</td>\n",
              "      <td>1</td>\n",
              "    </tr>\n",
              "    <tr>\n",
              "      <th>35</th>\n",
              "      <td>35</td>\n",
              "      <td>25249.0</td>\n",
              "      <td>42485.0</td>\n",
              "      <td>1419.0</td>\n",
              "      <td>829.0</td>\n",
              "      <td>1</td>\n",
              "      <td>Mitarbeiter Qualitätsmanagement</td>\n",
              "      <td>Entre 30-50</td>\n",
              "      <td>Muy grave</td>\n",
              "      <td>Mantenimiento</td>\n",
              "      <td>1</td>\n",
              "      <td>1</td>\n",
              "      <td>0</td>\n",
              "      <td>0</td>\n",
              "      <td>1</td>\n",
              "      <td>0</td>\n",
              "      <td>0</td>\n",
              "      <td>ETT</td>\n",
              "      <td>0</td>\n",
              "      <td>1</td>\n",
              "      <td>0</td>\n",
              "      <td>0</td>\n",
              "    </tr>\n",
              "    <tr>\n",
              "      <th>36</th>\n",
              "      <td>36</td>\n",
              "      <td>0.0</td>\n",
              "      <td>0.0</td>\n",
              "      <td>0.0</td>\n",
              "      <td>0.0</td>\n",
              "      <td>1</td>\n",
              "      <td>Flejador/ ayudante TRANS007</td>\n",
              "      <td>Entre 30-50</td>\n",
              "      <td>Leve</td>\n",
              "      <td>Mantenimiento</td>\n",
              "      <td>1</td>\n",
              "      <td>1</td>\n",
              "      <td>0</td>\n",
              "      <td>0</td>\n",
              "      <td>1</td>\n",
              "      <td>0</td>\n",
              "      <td>0</td>\n",
              "      <td>Otros</td>\n",
              "      <td>0</td>\n",
              "      <td>0</td>\n",
              "      <td>0</td>\n",
              "      <td>1</td>\n",
              "    </tr>\n",
              "    <tr>\n",
              "      <th>37</th>\n",
              "      <td>37</td>\n",
              "      <td>2836.0</td>\n",
              "      <td>2046.0</td>\n",
              "      <td>1212.0</td>\n",
              "      <td>0.0</td>\n",
              "      <td>1</td>\n",
              "      <td>Maquinista Sierra de corte Adige1</td>\n",
              "      <td>Entre 30-50</td>\n",
              "      <td>Grave</td>\n",
              "      <td>Mantenimiento</td>\n",
              "      <td>1</td>\n",
              "      <td>0</td>\n",
              "      <td>1</td>\n",
              "      <td>0</td>\n",
              "      <td>1</td>\n",
              "      <td>0</td>\n",
              "      <td>0</td>\n",
              "      <td>ETT</td>\n",
              "      <td>0</td>\n",
              "      <td>1</td>\n",
              "      <td>0</td>\n",
              "      <td>0</td>\n",
              "    </tr>\n",
              "    <tr>\n",
              "      <th>38</th>\n",
              "      <td>38</td>\n",
              "      <td>25249.0</td>\n",
              "      <td>42485.0</td>\n",
              "      <td>1419.0</td>\n",
              "      <td>829.0</td>\n",
              "      <td>1</td>\n",
              "      <td>Embaladora Longi 6</td>\n",
              "      <td>Mayor 50</td>\n",
              "      <td>Muy grave</td>\n",
              "      <td>Mantenimiento</td>\n",
              "      <td>1</td>\n",
              "      <td>0</td>\n",
              "      <td>1</td>\n",
              "      <td>0</td>\n",
              "      <td>0</td>\n",
              "      <td>1</td>\n",
              "      <td>0</td>\n",
              "      <td>ETT</td>\n",
              "      <td>0</td>\n",
              "      <td>1</td>\n",
              "      <td>0</td>\n",
              "      <td>0</td>\n",
              "    </tr>\n",
              "    <tr>\n",
              "      <th>39</th>\n",
              "      <td>39</td>\n",
              "      <td>0.0</td>\n",
              "      <td>0.0</td>\n",
              "      <td>607.0</td>\n",
              "      <td>0.0</td>\n",
              "      <td>1</td>\n",
              "      <td>Empaquetador Tubos</td>\n",
              "      <td>Mayor 50</td>\n",
              "      <td>Grave</td>\n",
              "      <td>Mantenimiento</td>\n",
              "      <td>1</td>\n",
              "      <td>0</td>\n",
              "      <td>0</td>\n",
              "      <td>1</td>\n",
              "      <td>0</td>\n",
              "      <td>1</td>\n",
              "      <td>0</td>\n",
              "      <td>Otros</td>\n",
              "      <td>0</td>\n",
              "      <td>0</td>\n",
              "      <td>0</td>\n",
              "      <td>1</td>\n",
              "    </tr>\n",
              "    <tr>\n",
              "      <th>40</th>\n",
              "      <td>40</td>\n",
              "      <td>0.0</td>\n",
              "      <td>0.0</td>\n",
              "      <td>1500.0</td>\n",
              "      <td>0.0</td>\n",
              "      <td>1</td>\n",
              "      <td>Verpacker LONGI001</td>\n",
              "      <td>Entre 30-50</td>\n",
              "      <td>Leve</td>\n",
              "      <td>Mantenimiento</td>\n",
              "      <td>1</td>\n",
              "      <td>0</td>\n",
              "      <td>0</td>\n",
              "      <td>1</td>\n",
              "      <td>1</td>\n",
              "      <td>0</td>\n",
              "      <td>0</td>\n",
              "      <td>Indefinido</td>\n",
              "      <td>0</td>\n",
              "      <td>0</td>\n",
              "      <td>1</td>\n",
              "      <td>0</td>\n",
              "    </tr>\n",
              "    <tr>\n",
              "      <th>41</th>\n",
              "      <td>41</td>\n",
              "      <td>25685.0</td>\n",
              "      <td>18303.0</td>\n",
              "      <td>1151.0</td>\n",
              "      <td>152.0</td>\n",
              "      <td>1</td>\n",
              "      <td>Soldadura</td>\n",
              "      <td>Entre 30-50</td>\n",
              "      <td>Grave</td>\n",
              "      <td>Mantenimiento</td>\n",
              "      <td>1</td>\n",
              "      <td>1</td>\n",
              "      <td>0</td>\n",
              "      <td>0</td>\n",
              "      <td>1</td>\n",
              "      <td>0</td>\n",
              "      <td>0</td>\n",
              "      <td>Indefinido</td>\n",
              "      <td>0</td>\n",
              "      <td>0</td>\n",
              "      <td>1</td>\n",
              "      <td>0</td>\n",
              "    </tr>\n",
              "    <tr>\n",
              "      <th>42</th>\n",
              "      <td>42</td>\n",
              "      <td>0.0</td>\n",
              "      <td>0.0</td>\n",
              "      <td>0.0</td>\n",
              "      <td>0.0</td>\n",
              "      <td>1</td>\n",
              "      <td>Werkzeugmacher</td>\n",
              "      <td>Mayor 50</td>\n",
              "      <td>Leve</td>\n",
              "      <td>Mantenimiento</td>\n",
              "      <td>1</td>\n",
              "      <td>0</td>\n",
              "      <td>0</td>\n",
              "      <td>1</td>\n",
              "      <td>0</td>\n",
              "      <td>1</td>\n",
              "      <td>0</td>\n",
              "      <td>Indefinido</td>\n",
              "      <td>0</td>\n",
              "      <td>0</td>\n",
              "      <td>1</td>\n",
              "      <td>0</td>\n",
              "    </tr>\n",
              "    <tr>\n",
              "      <th>43</th>\n",
              "      <td>43</td>\n",
              "      <td>0.0</td>\n",
              "      <td>0.0</td>\n",
              "      <td>0.0</td>\n",
              "      <td>0.0</td>\n",
              "      <td>1</td>\n",
              "      <td>Operario de pantógrafo</td>\n",
              "      <td>Menor 30</td>\n",
              "      <td>Leve</td>\n",
              "      <td>Mantenimiento</td>\n",
              "      <td>1</td>\n",
              "      <td>0</td>\n",
              "      <td>0</td>\n",
              "      <td>1</td>\n",
              "      <td>0</td>\n",
              "      <td>0</td>\n",
              "      <td>1</td>\n",
              "      <td>Otros</td>\n",
              "      <td>0</td>\n",
              "      <td>0</td>\n",
              "      <td>0</td>\n",
              "      <td>1</td>\n",
              "    </tr>\n",
              "    <tr>\n",
              "      <th>44</th>\n",
              "      <td>44</td>\n",
              "      <td>0.0</td>\n",
              "      <td>0.0</td>\n",
              "      <td>0.0</td>\n",
              "      <td>0.0</td>\n",
              "      <td>1</td>\n",
              "      <td>Ayudante volteador</td>\n",
              "      <td>Mayor 50</td>\n",
              "      <td>Grave</td>\n",
              "      <td>Mantenimiento</td>\n",
              "      <td>1</td>\n",
              "      <td>1</td>\n",
              "      <td>0</td>\n",
              "      <td>0</td>\n",
              "      <td>0</td>\n",
              "      <td>1</td>\n",
              "      <td>0</td>\n",
              "      <td>Otros</td>\n",
              "      <td>0</td>\n",
              "      <td>0</td>\n",
              "      <td>0</td>\n",
              "      <td>1</td>\n",
              "    </tr>\n",
              "    <tr>\n",
              "      <th>45</th>\n",
              "      <td>45</td>\n",
              "      <td>0.0</td>\n",
              "      <td>0.0</td>\n",
              "      <td>0.0</td>\n",
              "      <td>0.0</td>\n",
              "      <td>1</td>\n",
              "      <td>Operario de puente grúa</td>\n",
              "      <td>Mayor 50</td>\n",
              "      <td>Muy grave</td>\n",
              "      <td>Mantenimiento</td>\n",
              "      <td>1</td>\n",
              "      <td>1</td>\n",
              "      <td>0</td>\n",
              "      <td>0</td>\n",
              "      <td>0</td>\n",
              "      <td>1</td>\n",
              "      <td>0</td>\n",
              "      <td>Otros</td>\n",
              "      <td>0</td>\n",
              "      <td>0</td>\n",
              "      <td>0</td>\n",
              "      <td>1</td>\n",
              "    </tr>\n",
              "    <tr>\n",
              "      <th>46</th>\n",
              "      <td>46</td>\n",
              "      <td>0.0</td>\n",
              "      <td>0.0</td>\n",
              "      <td>0.0</td>\n",
              "      <td>0.0</td>\n",
              "      <td>1</td>\n",
              "      <td>Operario de linea</td>\n",
              "      <td>Entre 30-50</td>\n",
              "      <td>Muy grave</td>\n",
              "      <td>Mantenimiento</td>\n",
              "      <td>1</td>\n",
              "      <td>1</td>\n",
              "      <td>0</td>\n",
              "      <td>0</td>\n",
              "      <td>1</td>\n",
              "      <td>0</td>\n",
              "      <td>0</td>\n",
              "      <td>Otros</td>\n",
              "      <td>0</td>\n",
              "      <td>0</td>\n",
              "      <td>0</td>\n",
              "      <td>1</td>\n",
              "    </tr>\n",
              "    <tr>\n",
              "      <th>47</th>\n",
              "      <td>47</td>\n",
              "      <td>25685.0</td>\n",
              "      <td>18303.0</td>\n",
              "      <td>1151.0</td>\n",
              "      <td>152.0</td>\n",
              "      <td>1</td>\n",
              "      <td>Embalador 1 (en capacitación)</td>\n",
              "      <td>Menor 30</td>\n",
              "      <td>Muy grave</td>\n",
              "      <td>Mantenimiento</td>\n",
              "      <td>1</td>\n",
              "      <td>1</td>\n",
              "      <td>0</td>\n",
              "      <td>0</td>\n",
              "      <td>0</td>\n",
              "      <td>0</td>\n",
              "      <td>1</td>\n",
              "      <td>Indefinido</td>\n",
              "      <td>0</td>\n",
              "      <td>0</td>\n",
              "      <td>1</td>\n",
              "      <td>0</td>\n",
              "    </tr>\n",
              "    <tr>\n",
              "      <th>48</th>\n",
              "      <td>48</td>\n",
              "      <td>25685.0</td>\n",
              "      <td>18303.0</td>\n",
              "      <td>1151.0</td>\n",
              "      <td>152.0</td>\n",
              "      <td>1</td>\n",
              "      <td>Longi 2</td>\n",
              "      <td>Entre 30-50</td>\n",
              "      <td>Leve</td>\n",
              "      <td>Mantenimiento</td>\n",
              "      <td>1</td>\n",
              "      <td>0</td>\n",
              "      <td>1</td>\n",
              "      <td>0</td>\n",
              "      <td>1</td>\n",
              "      <td>0</td>\n",
              "      <td>0</td>\n",
              "      <td>Otros</td>\n",
              "      <td>0</td>\n",
              "      <td>0</td>\n",
              "      <td>0</td>\n",
              "      <td>1</td>\n",
              "    </tr>\n",
              "    <tr>\n",
              "      <th>49</th>\n",
              "      <td>49</td>\n",
              "      <td>25249.0</td>\n",
              "      <td>42485.0</td>\n",
              "      <td>1419.0</td>\n",
              "      <td>829.0</td>\n",
              "      <td>1</td>\n",
              "      <td>Staplerfahrer</td>\n",
              "      <td>Entre 30-50</td>\n",
              "      <td>Leve</td>\n",
              "      <td>Mantenimiento</td>\n",
              "      <td>1</td>\n",
              "      <td>0</td>\n",
              "      <td>0</td>\n",
              "      <td>1</td>\n",
              "      <td>1</td>\n",
              "      <td>0</td>\n",
              "      <td>0</td>\n",
              "      <td>ETT</td>\n",
              "      <td>0</td>\n",
              "      <td>1</td>\n",
              "      <td>0</td>\n",
              "      <td>0</td>\n",
              "    </tr>\n",
              "  </tbody>\n",
              "</table>\n",
              "</div>"
            ],
            "text/plain": [
              "    Unnamed: 0  ...  Acc_Otros\n",
              "0            0  ...          0\n",
              "1            1  ...          0\n",
              "2            2  ...          0\n",
              "3            3  ...          0\n",
              "4            4  ...          1\n",
              "5            5  ...          0\n",
              "6            6  ...          1\n",
              "7            7  ...          0\n",
              "8            8  ...          1\n",
              "9            9  ...          1\n",
              "10          10  ...          1\n",
              "11          11  ...          1\n",
              "12          12  ...          1\n",
              "13          13  ...          1\n",
              "14          14  ...          1\n",
              "15          15  ...          1\n",
              "16          16  ...          1\n",
              "17          17  ...          0\n",
              "18          18  ...          0\n",
              "19          19  ...          1\n",
              "20          20  ...          0\n",
              "21          21  ...          0\n",
              "22          22  ...          1\n",
              "23          23  ...          1\n",
              "24          24  ...          1\n",
              "25          25  ...          1\n",
              "26          26  ...          0\n",
              "27          27  ...          0\n",
              "28          28  ...          0\n",
              "29          29  ...          1\n",
              "30          30  ...          0\n",
              "31          31  ...          0\n",
              "32          32  ...          1\n",
              "33          33  ...          0\n",
              "34          34  ...          1\n",
              "35          35  ...          0\n",
              "36          36  ...          1\n",
              "37          37  ...          0\n",
              "38          38  ...          0\n",
              "39          39  ...          1\n",
              "40          40  ...          0\n",
              "41          41  ...          0\n",
              "42          42  ...          0\n",
              "43          43  ...          1\n",
              "44          44  ...          1\n",
              "45          45  ...          1\n",
              "46          46  ...          1\n",
              "47          47  ...          0\n",
              "48          48  ...          1\n",
              "49          49  ...          0\n",
              "\n",
              "[50 rows x 22 columns]"
            ]
          },
          "metadata": {
            "tags": []
          },
          "execution_count": 3
        }
      ]
    },
    {
      "cell_type": "code",
      "metadata": {
        "colab": {
          "base_uri": "https://localhost:8080/"
        },
        "id": "31UlyVlsJBfs",
        "outputId": "5d15a0ac-2da9-45b9-82d3-98cbdce1188e"
      },
      "source": [
        "len(staff.isnull().any())"
      ],
      "execution_count": 4,
      "outputs": [
        {
          "output_type": "execute_result",
          "data": {
            "text/plain": [
              "22"
            ]
          },
          "metadata": {
            "tags": []
          },
          "execution_count": 4
        }
      ]
    },
    {
      "cell_type": "code",
      "metadata": {
        "id": "yGj_3HgcJP2c"
      },
      "source": [
        "staff = staff.fillna(0)"
      ],
      "execution_count": 5,
      "outputs": []
    },
    {
      "cell_type": "code",
      "metadata": {
        "colab": {
          "base_uri": "https://localhost:8080/",
          "height": 371
        },
        "id": "sJWpxLDXeKaJ",
        "outputId": "ef66c7a0-fc61-4209-b681-1b5c8b0872df"
      },
      "source": [
        "staff.describe()"
      ],
      "execution_count": 6,
      "outputs": [
        {
          "output_type": "execute_result",
          "data": {
            "text/html": [
              "<div>\n",
              "<style scoped>\n",
              "    .dataframe tbody tr th:only-of-type {\n",
              "        vertical-align: middle;\n",
              "    }\n",
              "\n",
              "    .dataframe tbody tr th {\n",
              "        vertical-align: top;\n",
              "    }\n",
              "\n",
              "    .dataframe thead th {\n",
              "        text-align: right;\n",
              "    }\n",
              "</style>\n",
              "<table border=\"1\" class=\"dataframe\">\n",
              "  <thead>\n",
              "    <tr style=\"text-align: right;\">\n",
              "      <th></th>\n",
              "      <th>Unnamed: 0</th>\n",
              "      <th>Horas Presencia Efectiva Subcontratados</th>\n",
              "      <th>Horas Presencia Efectiva ETTs</th>\n",
              "      <th>Horas Formacion Seguridad Propios</th>\n",
              "      <th>Horas Formacion Seguridad ETTs</th>\n",
              "      <th>Accident</th>\n",
              "      <th>Gender_Hombre</th>\n",
              "      <th>T_Turno de mañana</th>\n",
              "      <th>T_Turno de noche</th>\n",
              "      <th>T_Turno de tarde</th>\n",
              "      <th>Age_Entre 30-50</th>\n",
              "      <th>Age_Mayor 50</th>\n",
              "      <th>Age_Menor 30</th>\n",
              "      <th>Acc_Duración Determinada</th>\n",
              "      <th>Acc_ETT</th>\n",
              "      <th>Acc_Indefinido</th>\n",
              "      <th>Acc_Otros</th>\n",
              "    </tr>\n",
              "  </thead>\n",
              "  <tbody>\n",
              "    <tr>\n",
              "      <th>count</th>\n",
              "      <td>21210.000000</td>\n",
              "      <td>21210.000000</td>\n",
              "      <td>21210.000000</td>\n",
              "      <td>21210.000000</td>\n",
              "      <td>21210.000000</td>\n",
              "      <td>21210.000000</td>\n",
              "      <td>21210.000000</td>\n",
              "      <td>21210.000000</td>\n",
              "      <td>21210.000000</td>\n",
              "      <td>21210.000000</td>\n",
              "      <td>21210.000000</td>\n",
              "      <td>21210.000000</td>\n",
              "      <td>21210.000000</td>\n",
              "      <td>21210.000000</td>\n",
              "      <td>21210.000000</td>\n",
              "      <td>21210.000000</td>\n",
              "      <td>21210.000000</td>\n",
              "    </tr>\n",
              "    <tr>\n",
              "      <th>mean</th>\n",
              "      <td>10604.500000</td>\n",
              "      <td>9748.611504</td>\n",
              "      <td>12426.072749</td>\n",
              "      <td>685.050118</td>\n",
              "      <td>190.613531</td>\n",
              "      <td>0.197077</td>\n",
              "      <td>0.915087</td>\n",
              "      <td>0.377982</td>\n",
              "      <td>0.295568</td>\n",
              "      <td>0.326450</td>\n",
              "      <td>0.450118</td>\n",
              "      <td>0.343612</td>\n",
              "      <td>0.206271</td>\n",
              "      <td>0.100424</td>\n",
              "      <td>0.114993</td>\n",
              "      <td>0.238284</td>\n",
              "      <td>0.546299</td>\n",
              "    </tr>\n",
              "    <tr>\n",
              "      <th>std</th>\n",
              "      <td>6122.943941</td>\n",
              "      <td>11588.876880</td>\n",
              "      <td>17903.130718</td>\n",
              "      <td>612.345562</td>\n",
              "      <td>332.199714</td>\n",
              "      <td>0.397800</td>\n",
              "      <td>0.278758</td>\n",
              "      <td>0.484895</td>\n",
              "      <td>0.456308</td>\n",
              "      <td>0.468925</td>\n",
              "      <td>0.497517</td>\n",
              "      <td>0.474924</td>\n",
              "      <td>0.404637</td>\n",
              "      <td>0.300572</td>\n",
              "      <td>0.319021</td>\n",
              "      <td>0.426044</td>\n",
              "      <td>0.497864</td>\n",
              "    </tr>\n",
              "    <tr>\n",
              "      <th>min</th>\n",
              "      <td>0.000000</td>\n",
              "      <td>0.000000</td>\n",
              "      <td>0.000000</td>\n",
              "      <td>0.000000</td>\n",
              "      <td>0.000000</td>\n",
              "      <td>0.000000</td>\n",
              "      <td>0.000000</td>\n",
              "      <td>0.000000</td>\n",
              "      <td>0.000000</td>\n",
              "      <td>0.000000</td>\n",
              "      <td>0.000000</td>\n",
              "      <td>0.000000</td>\n",
              "      <td>0.000000</td>\n",
              "      <td>0.000000</td>\n",
              "      <td>0.000000</td>\n",
              "      <td>0.000000</td>\n",
              "      <td>0.000000</td>\n",
              "    </tr>\n",
              "    <tr>\n",
              "      <th>25%</th>\n",
              "      <td>5302.250000</td>\n",
              "      <td>0.000000</td>\n",
              "      <td>0.000000</td>\n",
              "      <td>0.000000</td>\n",
              "      <td>0.000000</td>\n",
              "      <td>0.000000</td>\n",
              "      <td>1.000000</td>\n",
              "      <td>0.000000</td>\n",
              "      <td>0.000000</td>\n",
              "      <td>0.000000</td>\n",
              "      <td>0.000000</td>\n",
              "      <td>0.000000</td>\n",
              "      <td>0.000000</td>\n",
              "      <td>0.000000</td>\n",
              "      <td>0.000000</td>\n",
              "      <td>0.000000</td>\n",
              "      <td>0.000000</td>\n",
              "    </tr>\n",
              "    <tr>\n",
              "      <th>50%</th>\n",
              "      <td>10604.500000</td>\n",
              "      <td>0.000000</td>\n",
              "      <td>211.000000</td>\n",
              "      <td>607.000000</td>\n",
              "      <td>0.000000</td>\n",
              "      <td>0.000000</td>\n",
              "      <td>1.000000</td>\n",
              "      <td>0.000000</td>\n",
              "      <td>0.000000</td>\n",
              "      <td>0.000000</td>\n",
              "      <td>0.000000</td>\n",
              "      <td>0.000000</td>\n",
              "      <td>0.000000</td>\n",
              "      <td>0.000000</td>\n",
              "      <td>0.000000</td>\n",
              "      <td>0.000000</td>\n",
              "      <td>1.000000</td>\n",
              "    </tr>\n",
              "    <tr>\n",
              "      <th>75%</th>\n",
              "      <td>15906.750000</td>\n",
              "      <td>25249.000000</td>\n",
              "      <td>18303.000000</td>\n",
              "      <td>1419.000000</td>\n",
              "      <td>152.000000</td>\n",
              "      <td>0.000000</td>\n",
              "      <td>1.000000</td>\n",
              "      <td>1.000000</td>\n",
              "      <td>1.000000</td>\n",
              "      <td>1.000000</td>\n",
              "      <td>1.000000</td>\n",
              "      <td>1.000000</td>\n",
              "      <td>0.000000</td>\n",
              "      <td>0.000000</td>\n",
              "      <td>0.000000</td>\n",
              "      <td>0.000000</td>\n",
              "      <td>1.000000</td>\n",
              "    </tr>\n",
              "    <tr>\n",
              "      <th>max</th>\n",
              "      <td>21209.000000</td>\n",
              "      <td>25685.000000</td>\n",
              "      <td>46113.000000</td>\n",
              "      <td>1544.000000</td>\n",
              "      <td>829.000000</td>\n",
              "      <td>1.000000</td>\n",
              "      <td>1.000000</td>\n",
              "      <td>1.000000</td>\n",
              "      <td>1.000000</td>\n",
              "      <td>1.000000</td>\n",
              "      <td>1.000000</td>\n",
              "      <td>1.000000</td>\n",
              "      <td>1.000000</td>\n",
              "      <td>1.000000</td>\n",
              "      <td>1.000000</td>\n",
              "      <td>1.000000</td>\n",
              "      <td>1.000000</td>\n",
              "    </tr>\n",
              "  </tbody>\n",
              "</table>\n",
              "</div>"
            ],
            "text/plain": [
              "         Unnamed: 0  ...     Acc_Otros\n",
              "count  21210.000000  ...  21210.000000\n",
              "mean   10604.500000  ...      0.546299\n",
              "std     6122.943941  ...      0.497864\n",
              "min        0.000000  ...      0.000000\n",
              "25%     5302.250000  ...      0.000000\n",
              "50%    10604.500000  ...      1.000000\n",
              "75%    15906.750000  ...      1.000000\n",
              "max    21209.000000  ...      1.000000\n",
              "\n",
              "[8 rows x 17 columns]"
            ]
          },
          "metadata": {
            "tags": []
          },
          "execution_count": 6
        }
      ]
    },
    {
      "cell_type": "code",
      "metadata": {
        "colab": {
          "base_uri": "https://localhost:8080/"
        },
        "id": "T-ikhSln1yU0",
        "outputId": "ba8c5737-289a-47b9-f94e-b11cbcbc3445"
      },
      "source": [
        "ceros = staff[staff['Accident'] == 0]['Accident'].count()\n",
        "unos = staff[staff['Accident'] == 1]['Accident'].count()\n",
        "\n",
        "print('No',ceros, 'Yes', unos) ## Here we can check that we have an unbalanced dataset as we have many more employees who didnt have an accident"
      ],
      "execution_count": 7,
      "outputs": [
        {
          "output_type": "stream",
          "text": [
            "No 17030 Yes 4180\n"
          ],
          "name": "stdout"
        }
      ]
    },
    {
      "cell_type": "markdown",
      "metadata": {
        "id": "5NBhUEeIdZx4"
      },
      "source": [
        "### Linear Regression model"
      ]
    },
    {
      "cell_type": "code",
      "metadata": {
        "id": "wKl1y-zVaTT6"
      },
      "source": [
        "from sklearn.model_selection import train_test_split\n",
        "from sklearn import datasets, linear_model\n",
        "from sklearn.metrics import mean_squared_error, r2_score\n",
        "import matplotlib.pyplot as plt\n",
        "\n",
        "\n",
        "X = staff[['Horas Presencia Efectiva Subcontratados',\n",
        "       'Horas Presencia Efectiva ETTs', 'Horas Formacion Seguridad Propios',\n",
        "       'Horas Formacion Seguridad ETTs',\n",
        "       'Gender_Hombre', 'T_Turno de mañana',\n",
        "       'T_Turno de noche', 'T_Turno de tarde', 'Age_Entre 30-50',\n",
        "       'Age_Mayor 50', 'Age_Menor 30',\n",
        "        'Acc_Duración Determinada', 'Acc_ETT',\n",
        "       'Acc_Indefinido', 'Acc_Otros']]\n"
      ],
      "execution_count": 8,
      "outputs": []
    },
    {
      "cell_type": "code",
      "metadata": {
        "id": "0xUjoY9_aWFg"
      },
      "source": [
        "y = staff['Accident']"
      ],
      "execution_count": 9,
      "outputs": []
    },
    {
      "cell_type": "code",
      "metadata": {
        "id": "z-X3nsc0apGj"
      },
      "source": [
        "X_train, X_test, y_train, y_test = train_test_split(X, y, test_size=0.33, random_state=42)"
      ],
      "execution_count": 10,
      "outputs": []
    },
    {
      "cell_type": "code",
      "metadata": {
        "colab": {
          "base_uri": "https://localhost:8080/"
        },
        "id": "9Xc-m4nxckCT",
        "outputId": "0f643a84-a100-4be1-86e5-13eeb37475b2"
      },
      "source": [
        "len(X_test)"
      ],
      "execution_count": 11,
      "outputs": [
        {
          "output_type": "execute_result",
          "data": {
            "text/plain": [
              "7000"
            ]
          },
          "metadata": {
            "tags": []
          },
          "execution_count": 11
        }
      ]
    },
    {
      "cell_type": "code",
      "metadata": {
        "id": "nD7EOANjKvW4"
      },
      "source": [
        "y_train = y_train.apply(str)\n",
        "\n",
        "y_test = y_test.apply(str)"
      ],
      "execution_count": 12,
      "outputs": []
    },
    {
      "cell_type": "code",
      "metadata": {
        "colab": {
          "base_uri": "https://localhost:8080/",
          "height": 474
        },
        "id": "fnuiOp3iH9c9",
        "outputId": "0683affb-c16a-464c-ddda-8d26977bcfdd"
      },
      "source": [
        "X_test"
      ],
      "execution_count": 13,
      "outputs": [
        {
          "output_type": "execute_result",
          "data": {
            "text/html": [
              "<div>\n",
              "<style scoped>\n",
              "    .dataframe tbody tr th:only-of-type {\n",
              "        vertical-align: middle;\n",
              "    }\n",
              "\n",
              "    .dataframe tbody tr th {\n",
              "        vertical-align: top;\n",
              "    }\n",
              "\n",
              "    .dataframe thead th {\n",
              "        text-align: right;\n",
              "    }\n",
              "</style>\n",
              "<table border=\"1\" class=\"dataframe\">\n",
              "  <thead>\n",
              "    <tr style=\"text-align: right;\">\n",
              "      <th></th>\n",
              "      <th>Horas Presencia Efectiva Subcontratados</th>\n",
              "      <th>Horas Presencia Efectiva ETTs</th>\n",
              "      <th>Horas Formacion Seguridad Propios</th>\n",
              "      <th>Horas Formacion Seguridad ETTs</th>\n",
              "      <th>Gender_Hombre</th>\n",
              "      <th>T_Turno de mañana</th>\n",
              "      <th>T_Turno de noche</th>\n",
              "      <th>T_Turno de tarde</th>\n",
              "      <th>Age_Entre 30-50</th>\n",
              "      <th>Age_Mayor 50</th>\n",
              "      <th>Age_Menor 30</th>\n",
              "      <th>Acc_Duración Determinada</th>\n",
              "      <th>Acc_ETT</th>\n",
              "      <th>Acc_Indefinido</th>\n",
              "      <th>Acc_Otros</th>\n",
              "    </tr>\n",
              "  </thead>\n",
              "  <tbody>\n",
              "    <tr>\n",
              "      <th>16651</th>\n",
              "      <td>4675.0</td>\n",
              "      <td>2625.0</td>\n",
              "      <td>240.0</td>\n",
              "      <td>0.0</td>\n",
              "      <td>1</td>\n",
              "      <td>1</td>\n",
              "      <td>0</td>\n",
              "      <td>0</td>\n",
              "      <td>1</td>\n",
              "      <td>0</td>\n",
              "      <td>0</td>\n",
              "      <td>0</td>\n",
              "      <td>0</td>\n",
              "      <td>0</td>\n",
              "      <td>1</td>\n",
              "    </tr>\n",
              "    <tr>\n",
              "      <th>13898</th>\n",
              "      <td>0.0</td>\n",
              "      <td>0.0</td>\n",
              "      <td>607.0</td>\n",
              "      <td>0.0</td>\n",
              "      <td>1</td>\n",
              "      <td>0</td>\n",
              "      <td>1</td>\n",
              "      <td>0</td>\n",
              "      <td>1</td>\n",
              "      <td>0</td>\n",
              "      <td>0</td>\n",
              "      <td>0</td>\n",
              "      <td>0</td>\n",
              "      <td>1</td>\n",
              "      <td>0</td>\n",
              "    </tr>\n",
              "    <tr>\n",
              "      <th>16269</th>\n",
              "      <td>0.0</td>\n",
              "      <td>0.0</td>\n",
              "      <td>0.0</td>\n",
              "      <td>0.0</td>\n",
              "      <td>1</td>\n",
              "      <td>0</td>\n",
              "      <td>0</td>\n",
              "      <td>1</td>\n",
              "      <td>1</td>\n",
              "      <td>0</td>\n",
              "      <td>0</td>\n",
              "      <td>0</td>\n",
              "      <td>0</td>\n",
              "      <td>0</td>\n",
              "      <td>1</td>\n",
              "    </tr>\n",
              "    <tr>\n",
              "      <th>7306</th>\n",
              "      <td>0.0</td>\n",
              "      <td>0.0</td>\n",
              "      <td>0.0</td>\n",
              "      <td>0.0</td>\n",
              "      <td>0</td>\n",
              "      <td>0</td>\n",
              "      <td>1</td>\n",
              "      <td>0</td>\n",
              "      <td>1</td>\n",
              "      <td>0</td>\n",
              "      <td>0</td>\n",
              "      <td>0</td>\n",
              "      <td>0</td>\n",
              "      <td>0</td>\n",
              "      <td>1</td>\n",
              "    </tr>\n",
              "    <tr>\n",
              "      <th>13631</th>\n",
              "      <td>25685.0</td>\n",
              "      <td>18303.0</td>\n",
              "      <td>1151.0</td>\n",
              "      <td>152.0</td>\n",
              "      <td>1</td>\n",
              "      <td>1</td>\n",
              "      <td>0</td>\n",
              "      <td>0</td>\n",
              "      <td>0</td>\n",
              "      <td>0</td>\n",
              "      <td>1</td>\n",
              "      <td>0</td>\n",
              "      <td>0</td>\n",
              "      <td>0</td>\n",
              "      <td>1</td>\n",
              "    </tr>\n",
              "    <tr>\n",
              "      <th>...</th>\n",
              "      <td>...</td>\n",
              "      <td>...</td>\n",
              "      <td>...</td>\n",
              "      <td>...</td>\n",
              "      <td>...</td>\n",
              "      <td>...</td>\n",
              "      <td>...</td>\n",
              "      <td>...</td>\n",
              "      <td>...</td>\n",
              "      <td>...</td>\n",
              "      <td>...</td>\n",
              "      <td>...</td>\n",
              "      <td>...</td>\n",
              "      <td>...</td>\n",
              "      <td>...</td>\n",
              "    </tr>\n",
              "    <tr>\n",
              "      <th>1483</th>\n",
              "      <td>0.0</td>\n",
              "      <td>0.0</td>\n",
              "      <td>0.0</td>\n",
              "      <td>0.0</td>\n",
              "      <td>1</td>\n",
              "      <td>1</td>\n",
              "      <td>0</td>\n",
              "      <td>0</td>\n",
              "      <td>0</td>\n",
              "      <td>1</td>\n",
              "      <td>0</td>\n",
              "      <td>0</td>\n",
              "      <td>0</td>\n",
              "      <td>0</td>\n",
              "      <td>1</td>\n",
              "    </tr>\n",
              "    <tr>\n",
              "      <th>8570</th>\n",
              "      <td>0.0</td>\n",
              "      <td>0.0</td>\n",
              "      <td>0.0</td>\n",
              "      <td>0.0</td>\n",
              "      <td>1</td>\n",
              "      <td>0</td>\n",
              "      <td>0</td>\n",
              "      <td>1</td>\n",
              "      <td>0</td>\n",
              "      <td>1</td>\n",
              "      <td>0</td>\n",
              "      <td>0</td>\n",
              "      <td>0</td>\n",
              "      <td>1</td>\n",
              "      <td>0</td>\n",
              "    </tr>\n",
              "    <tr>\n",
              "      <th>14772</th>\n",
              "      <td>0.0</td>\n",
              "      <td>0.0</td>\n",
              "      <td>0.0</td>\n",
              "      <td>0.0</td>\n",
              "      <td>1</td>\n",
              "      <td>0</td>\n",
              "      <td>1</td>\n",
              "      <td>0</td>\n",
              "      <td>0</td>\n",
              "      <td>1</td>\n",
              "      <td>0</td>\n",
              "      <td>0</td>\n",
              "      <td>0</td>\n",
              "      <td>0</td>\n",
              "      <td>1</td>\n",
              "    </tr>\n",
              "    <tr>\n",
              "      <th>14553</th>\n",
              "      <td>0.0</td>\n",
              "      <td>46113.0</td>\n",
              "      <td>1544.0</td>\n",
              "      <td>0.0</td>\n",
              "      <td>1</td>\n",
              "      <td>0</td>\n",
              "      <td>1</td>\n",
              "      <td>0</td>\n",
              "      <td>1</td>\n",
              "      <td>0</td>\n",
              "      <td>0</td>\n",
              "      <td>0</td>\n",
              "      <td>0</td>\n",
              "      <td>1</td>\n",
              "      <td>0</td>\n",
              "    </tr>\n",
              "    <tr>\n",
              "      <th>3290</th>\n",
              "      <td>0.0</td>\n",
              "      <td>0.0</td>\n",
              "      <td>0.0</td>\n",
              "      <td>0.0</td>\n",
              "      <td>0</td>\n",
              "      <td>1</td>\n",
              "      <td>0</td>\n",
              "      <td>0</td>\n",
              "      <td>1</td>\n",
              "      <td>0</td>\n",
              "      <td>0</td>\n",
              "      <td>0</td>\n",
              "      <td>1</td>\n",
              "      <td>0</td>\n",
              "      <td>0</td>\n",
              "    </tr>\n",
              "  </tbody>\n",
              "</table>\n",
              "<p>7000 rows × 15 columns</p>\n",
              "</div>"
            ],
            "text/plain": [
              "       Horas Presencia Efectiva Subcontratados  ...  Acc_Otros\n",
              "16651                                   4675.0  ...          1\n",
              "13898                                      0.0  ...          0\n",
              "16269                                      0.0  ...          1\n",
              "7306                                       0.0  ...          1\n",
              "13631                                  25685.0  ...          1\n",
              "...                                        ...  ...        ...\n",
              "1483                                       0.0  ...          1\n",
              "8570                                       0.0  ...          0\n",
              "14772                                      0.0  ...          1\n",
              "14553                                      0.0  ...          0\n",
              "3290                                       0.0  ...          0\n",
              "\n",
              "[7000 rows x 15 columns]"
            ]
          },
          "metadata": {
            "tags": []
          },
          "execution_count": 13
        }
      ]
    },
    {
      "cell_type": "code",
      "metadata": {
        "colab": {
          "base_uri": "https://localhost:8080/"
        },
        "id": "PV2jhEvkav3J",
        "outputId": "6fb835b2-b448-40f9-82bf-ba6193fca2ac"
      },
      "source": [
        "# Create linear regression object\n",
        "regr = linear_model.LinearRegression()\n",
        "\n",
        "# Train the model using the training sets\n",
        "regr.fit(X_train, y_train)\n",
        "\n",
        "# Make predictions using the testing set\n",
        "y_pred = regr.predict(X_test)\n",
        "\n",
        "# The coefficients\n",
        "print('Coefficients: \\n', regr.coef_)\n",
        "# The mean squared error\n",
        "print('Mean squared error: %.2f'\n",
        "      % mean_squared_error(y_test, y_pred))\n",
        "# The coefficient of determination: 1 is perfect prediction\n",
        "print('Coefficient of determination: %.2f'\n",
        "      % r2_score(y_test, y_pred))\n",
        "\n"
      ],
      "execution_count": 14,
      "outputs": [
        {
          "output_type": "stream",
          "text": [
            "Coefficients: \n",
            " [-7.48597657e-06 -3.37940060e-06  1.76856038e-04  3.11088367e-04\n",
            "  1.46871715e-01  8.85601736e-02 -9.90637237e-02  1.05035502e-02\n",
            " -3.34464877e-03  8.60899897e-03 -5.26435020e-03 -8.67196124e-02\n",
            "  4.01380824e-02  5.98441083e-02 -1.32625784e-02]\n",
            "Mean squared error: 0.14\n",
            "Coefficient of determination: 0.11\n"
          ],
          "name": "stdout"
        }
      ]
    },
    {
      "cell_type": "markdown",
      "metadata": {
        "id": "BL0N9KSncb-U"
      },
      "source": [
        "# Logistic Regression"
      ]
    },
    {
      "cell_type": "code",
      "metadata": {
        "id": "gcM28BOhj5Ob"
      },
      "source": [
        "from sklearn.linear_model import LogisticRegression"
      ],
      "execution_count": 15,
      "outputs": []
    },
    {
      "cell_type": "code",
      "metadata": {
        "id": "cBunrKEuEJ7i"
      },
      "source": [
        "import matplotlib.pyplot as plt\n",
        "from sklearn.metrics import confusion_matrix, classification_report\n",
        "from sklearn.metrics import plot_confusion_matrix\n",
        "import numpy as np\n",
        "# we are going to import this function from Scikit learn to plot the confussion matrix\n",
        "\n",
        "def plot_confusion_matrix(y_true, y_pred, classes,\n",
        "                          normalize=False,\n",
        "                          title=None,\n",
        "                          cmap=plt.cm.Blues):\n",
        "    \"\"\"\n",
        "    This function prints and plots the confusion matrix.\n",
        "    Normalization can be applied by setting `normalize=True`.\n",
        "    \"\"\"\n",
        "    if not title:\n",
        "        if normalize:\n",
        "            title = 'Normalized confusion matrix'\n",
        "        else:\n",
        "            title = 'Confusion matrix, without normalization'\n",
        "\n",
        "    # Compute confusion matrix\n",
        "    cm = confusion_matrix(y_true, y_pred)\n",
        "    # Only use the labels that appear in the data\n",
        "    #classes = classes[unique_labels(y_true, y_pred)]\n",
        "    if normalize:\n",
        "        cm = cm.astype('float') / cm.sum(axis=1)[:, np.newaxis]\n",
        "        print(\"Normalized confusion matrix\")\n",
        "    else:\n",
        "        print('Confusion matrix, without normalization')\n",
        "\n",
        "    print(cm)\n",
        "\n",
        "    fig, ax = plt.subplots()\n",
        "    im = ax.imshow(cm, interpolation='nearest', cmap=cmap)\n",
        "    ax.figure.colorbar(im, ax=ax)\n",
        "    # We want to show all ticks...\n",
        "    ax.set(xticks=np.arange(cm.shape[1]),\n",
        "           yticks=np.arange(cm.shape[0]),\n",
        "           # ... and label them with the respective list entries\n",
        "           xticklabels=classes, yticklabels=classes,\n",
        "           title=title,\n",
        "           ylabel='True label',\n",
        "           xlabel='Predicted label')\n",
        "\n",
        "    # Rotate the tick labels and set their alignment.\n",
        "    plt.setp(ax.get_xticklabels(), rotation=45, ha=\"right\",\n",
        "             rotation_mode=\"anchor\")\n",
        "\n",
        "    # Loop over data dimensions and create text annotations.\n",
        "    fmt = '.2f' if normalize else 'd'\n",
        "    thresh = cm.max() / 2.\n",
        "    for i in range(cm.shape[0]):\n",
        "        for j in range(cm.shape[1]):\n",
        "            ax.text(j, i, format(cm[i, j], fmt),\n",
        "                    ha=\"center\", va=\"center\",\n",
        "                    color= \"black\")\n",
        "    fig.tight_layout()\n",
        "    return ax"
      ],
      "execution_count": 16,
      "outputs": []
    },
    {
      "cell_type": "code",
      "metadata": {
        "id": "5IofLUyveD8J"
      },
      "source": [
        "clf = LogisticRegression()"
      ],
      "execution_count": 17,
      "outputs": []
    },
    {
      "cell_type": "code",
      "metadata": {
        "id": "wiI4orXokmzE"
      },
      "source": [
        "y_train = y_train.apply(str).replace('1', 'Yes').replace('0', 'No')\n",
        "\n",
        "y_test = y_test.apply(str).replace('1', 'Yes').replace('0', 'No')"
      ],
      "execution_count": 18,
      "outputs": []
    },
    {
      "cell_type": "code",
      "metadata": {
        "colab": {
          "base_uri": "https://localhost:8080/"
        },
        "id": "JwmAFnG2eD_A",
        "outputId": "0ae6d643-c315-42df-ed03-f8d8c3bbf047"
      },
      "source": [
        "clf.fit(X_train, y_train)"
      ],
      "execution_count": 19,
      "outputs": [
        {
          "output_type": "execute_result",
          "data": {
            "text/plain": [
              "LogisticRegression(C=1.0, class_weight=None, dual=False, fit_intercept=True,\n",
              "                   intercept_scaling=1, l1_ratio=None, max_iter=100,\n",
              "                   multi_class='auto', n_jobs=None, penalty='l2',\n",
              "                   random_state=None, solver='lbfgs', tol=0.0001, verbose=0,\n",
              "                   warm_start=False)"
            ]
          },
          "metadata": {
            "tags": []
          },
          "execution_count": 19
        }
      ]
    },
    {
      "cell_type": "code",
      "metadata": {
        "colab": {
          "base_uri": "https://localhost:8080/",
          "height": 370
        },
        "id": "8vpmrFCfeEBp",
        "outputId": "e51d8a35-ab3e-445d-fa69-40b2efdc64d9"
      },
      "source": [
        "y_pred_log_reg=clf.predict(X_test)\n",
        "classes = ['No', 'Yes']\n",
        "plot_confusion_matrix(y_test, y_pred_log_reg, classes=classes, title='Logistic Regression Confussion Matrix')"
      ],
      "execution_count": 20,
      "outputs": [
        {
          "output_type": "stream",
          "text": [
            "Confusion matrix, without normalization\n",
            "[[5434  201]\n",
            " [1201  164]]\n"
          ],
          "name": "stdout"
        },
        {
          "output_type": "execute_result",
          "data": {
            "text/plain": [
              "<matplotlib.axes._subplots.AxesSubplot at 0x7f52ea209f90>"
            ]
          },
          "metadata": {
            "tags": []
          },
          "execution_count": 20
        },
        {
          "output_type": "display_data",
          "data": {
            "image/png": "[encoded data removed]",
            "text/plain": [
              "<Figure size 432x288 with 2 Axes>"
            ]
          },
          "metadata": {
            "tags": [],
            "needs_background": "light"
          }
        }
      ]
    },
    {
      "cell_type": "code",
      "metadata": {
        "id": "2G1W7aqzkGoo"
      },
      "source": [
        "from sklearn.metrics import accuracy_score\n",
        "from sklearn.model_selection import cross_val_score"
      ],
      "execution_count": 21,
      "outputs": []
    },
    {
      "cell_type": "code",
      "metadata": {
        "colab": {
          "base_uri": "https://localhost:8080/"
        },
        "id": "HzvLq25jeJD4",
        "outputId": "1d7a6c2b-51b5-4811-86d9-35f5bdc87bb9"
      },
      "source": [
        "print (classification_report(y_test, y_pred_log_reg, target_names=classes))\n",
        "print (accuracy_score(y_test, y_pred_log_reg))"
      ],
      "execution_count": 22,
      "outputs": [
        {
          "output_type": "stream",
          "text": [
            "              precision    recall  f1-score   support\n",
            "\n",
            "          No       0.82      0.96      0.89      5635\n",
            "         Yes       0.45      0.12      0.19      1365\n",
            "\n",
            "    accuracy                           0.80      7000\n",
            "   macro avg       0.63      0.54      0.54      7000\n",
            "weighted avg       0.75      0.80      0.75      7000\n",
            "\n",
            "0.7997142857142857\n"
          ],
          "name": "stdout"
        }
      ]
    },
    {
      "cell_type": "markdown",
      "metadata": {
        "id": "u6XtPKzDzm8I"
      },
      "source": [
        "As we have unbalanced classes in our dataset we are going to balance them and perform again the algorithm. It is important for our model to predict good the 'Yes' class as it is crucial for the purpose.\n",
        "\n",
        "We are going to oversample our minority class to get a 50% of each class"
      ]
    },
    {
      "cell_type": "code",
      "metadata": {
        "colab": {
          "base_uri": "https://localhost:8080/"
        },
        "id": "KyEjFoy40AjB",
        "outputId": "1d9d254c-9e88-4bc6-c851-fa6a69f60de6"
      },
      "source": [
        "from imblearn.over_sampling import SMOTE\n",
        "\n",
        "oversample = SMOTE()\n",
        "\n",
        "X, y = oversample.fit_resample(X, y)\n",
        "\n",
        "from collections import Counter\n",
        "\n",
        "counter = Counter(y)\n",
        "\n",
        "for k, v in counter.items():\n",
        "  dist = v / len(y)* 100\n",
        "  print(f'Class={k}, n={v}, ({dist}%)')\n",
        "\n"
      ],
      "execution_count": 23,
      "outputs": [
        {
          "output_type": "stream",
          "text": [
            "/usr/local/lib/python3.7/dist-packages/sklearn/externals/six.py:31: FutureWarning: The module is deprecated in version 0.21 and will be removed in version 0.23 since we've dropped support for Python 2.7. Please rely on the official version of six (https://pypi.org/project/six/).\n",
            "  \"(https://pypi.org/project/six/).\", FutureWarning)\n",
            "/usr/local/lib/python3.7/dist-packages/sklearn/utils/deprecation.py:144: FutureWarning: The sklearn.neighbors.base module is  deprecated in version 0.22 and will be removed in version 0.24. The corresponding classes / functions should instead be imported from sklearn.neighbors. Anything that cannot be imported from sklearn.neighbors is now part of the private API.\n",
            "  warnings.warn(message, FutureWarning)\n",
            "/usr/local/lib/python3.7/dist-packages/sklearn/utils/deprecation.py:87: FutureWarning: Function safe_indexing is deprecated; safe_indexing is deprecated in version 0.22 and will be removed in version 0.24.\n",
            "  warnings.warn(msg, category=FutureWarning)\n"
          ],
          "name": "stderr"
        },
        {
          "output_type": "stream",
          "text": [
            "Class=1, n=17030, (50.0%)\n",
            "Class=0, n=17030, (50.0%)\n"
          ],
          "name": "stdout"
        }
      ]
    },
    {
      "cell_type": "code",
      "metadata": {
        "id": "dJXHWndS0agE"
      },
      "source": [
        "## we are going to run the model again with this oversample data\n",
        "\n",
        "X_train_os, X_test_os, y_train_os, y_test_os = train_test_split(X, y, test_size=0.33, random_state=42)"
      ],
      "execution_count": 24,
      "outputs": []
    },
    {
      "cell_type": "code",
      "metadata": {
        "colab": {
          "base_uri": "https://localhost:8080/"
        },
        "id": "3L3vmYnB0mvn",
        "outputId": "ac6cc3fb-35b5-44ef-cb4f-52ba12815cd7"
      },
      "source": [
        "clf = LogisticRegression()\n",
        "\n",
        "clf.fit(X_train_os, y_train_os)"
      ],
      "execution_count": 25,
      "outputs": [
        {
          "output_type": "execute_result",
          "data": {
            "text/plain": [
              "LogisticRegression(C=1.0, class_weight=None, dual=False, fit_intercept=True,\n",
              "                   intercept_scaling=1, l1_ratio=None, max_iter=100,\n",
              "                   multi_class='auto', n_jobs=None, penalty='l2',\n",
              "                   random_state=None, solver='lbfgs', tol=0.0001, verbose=0,\n",
              "                   warm_start=False)"
            ]
          },
          "metadata": {
            "tags": []
          },
          "execution_count": 25
        }
      ]
    },
    {
      "cell_type": "code",
      "metadata": {
        "colab": {
          "base_uri": "https://localhost:8080/",
          "height": 370
        },
        "id": "4lKxO1qS0m5S",
        "outputId": "217eabbe-a073-40fc-8214-038f2b4dc3cc"
      },
      "source": [
        "y_pred_log_reg_os =clf.predict(X_test_os)\n",
        "classes = ['No', 'Yes']\n",
        "plot_confusion_matrix(y_test_os, y_pred_log_reg_os, classes=classes, title='Logistic Regression with Oversample Data Confussion Matrix')"
      ],
      "execution_count": 26,
      "outputs": [
        {
          "output_type": "stream",
          "text": [
            "Confusion matrix, without normalization\n",
            "[[3684 1936]\n",
            " [1754 3866]]\n"
          ],
          "name": "stdout"
        },
        {
          "output_type": "execute_result",
          "data": {
            "text/plain": [
              "<matplotlib.axes._subplots.AxesSubplot at 0x7f52de753b50>"
            ]
          },
          "metadata": {
            "tags": []
          },
          "execution_count": 26
        },
        {
          "output_type": "display_data",
          "data": {
            "image/png": "[encoded data removed]",
            "text/plain": [
              "<Figure size 432x288 with 2 Axes>"
            ]
          },
          "metadata": {
            "tags": [],
            "needs_background": "light"
          }
        }
      ]
    },
    {
      "cell_type": "code",
      "metadata": {
        "colab": {
          "base_uri": "https://localhost:8080/"
        },
        "id": "PLjR2ggG1CVo",
        "outputId": "afa12d11-ab3c-451e-bea8-6714bcfaaf0a"
      },
      "source": [
        "## oversampling the data we have achieve a better result because now we have a precision in 'Yes' of 0.61 vs 0 previosly, but the overall accuracy is lower\n",
        "\n",
        "print (classification_report(y_test_os, y_pred_log_reg_os, target_names=classes))\n",
        "print (accuracy_score(y_test_os, y_pred_log_reg_os))"
      ],
      "execution_count": 27,
      "outputs": [
        {
          "output_type": "stream",
          "text": [
            "              precision    recall  f1-score   support\n",
            "\n",
            "          No       0.68      0.66      0.67      5620\n",
            "         Yes       0.67      0.69      0.68      5620\n",
            "\n",
            "    accuracy                           0.67     11240\n",
            "   macro avg       0.67      0.67      0.67     11240\n",
            "weighted avg       0.67      0.67      0.67     11240\n",
            "\n",
            "0.6717081850533808\n"
          ],
          "name": "stdout"
        }
      ]
    },
    {
      "cell_type": "markdown",
      "metadata": {
        "id": "M76iZi54ygD-"
      },
      "source": [
        "# K Nearest Neighbors"
      ]
    },
    {
      "cell_type": "code",
      "metadata": {
        "id": "YNMquNl8yrJb"
      },
      "source": [
        "import numpy as np\n",
        "from sklearn.neighbors import KNeighborsClassifier\n",
        "\n"
      ],
      "execution_count": 28,
      "outputs": []
    },
    {
      "cell_type": "code",
      "metadata": {
        "id": "HgmjTP1eKj-m"
      },
      "source": [
        "model = KNeighborsClassifier(n_neighbors=8)\n",
        "model = model.fit(X_train, y_train)"
      ],
      "execution_count": 29,
      "outputs": []
    },
    {
      "cell_type": "code",
      "metadata": {
        "colab": {
          "base_uri": "https://localhost:8080/"
        },
        "id": "RELeZ8rszmLw",
        "outputId": "e73a1ab6-5845-4a47-e30b-a7071299ae67"
      },
      "source": [
        "std_score = model.score(X_test, y_test)\n",
        "std_score ##this is a very good accuracy of the model"
      ],
      "execution_count": 30,
      "outputs": [
        {
          "output_type": "execute_result",
          "data": {
            "text/plain": [
              "0.8001428571428572"
            ]
          },
          "metadata": {
            "tags": []
          },
          "execution_count": 30
        }
      ]
    },
    {
      "cell_type": "code",
      "metadata": {
        "id": "gmOMEYFQ0Joz"
      },
      "source": [
        "y_pred = model.predict(X_test)"
      ],
      "execution_count": 31,
      "outputs": []
    },
    {
      "cell_type": "code",
      "metadata": {
        "colab": {
          "base_uri": "https://localhost:8080/",
          "height": 370
        },
        "id": "sRqdF_NY-n-C",
        "outputId": "bcf8d4ce-3346-4b75-c452-235aedd51bda"
      },
      "source": [
        "classes = ['No', 'Yes']\n",
        "\n",
        "plot_confusion_matrix(y_test, y_pred, classes=classes, title='Confussion matrix for K Nearest Neighbors')"
      ],
      "execution_count": 32,
      "outputs": [
        {
          "output_type": "stream",
          "text": [
            "Confusion matrix, without normalization\n",
            "[[5331  304]\n",
            " [1095  270]]\n"
          ],
          "name": "stdout"
        },
        {
          "output_type": "execute_result",
          "data": {
            "text/plain": [
              "<matplotlib.axes._subplots.AxesSubplot at 0x7f52de77e650>"
            ]
          },
          "metadata": {
            "tags": []
          },
          "execution_count": 32
        },
        {
          "output_type": "display_data",
          "data": {
            "image/png": "[encoded data removed]",
            "text/plain": [
              "<Figure size 432x288 with 2 Axes>"
            ]
          },
          "metadata": {
            "tags": [],
            "needs_background": "light"
          }
        }
      ]
    },
    {
      "cell_type": "code",
      "metadata": {
        "colab": {
          "base_uri": "https://localhost:8080/"
        },
        "id": "sINpT_NL1yDl",
        "outputId": "3dd45a94-cb88-47de-b20a-23fcdd3543b4"
      },
      "source": [
        "print(classification_report(y_test, y_pred))"
      ],
      "execution_count": 33,
      "outputs": [
        {
          "output_type": "stream",
          "text": [
            "              precision    recall  f1-score   support\n",
            "\n",
            "          No       0.83      0.95      0.88      5635\n",
            "         Yes       0.47      0.20      0.28      1365\n",
            "\n",
            "    accuracy                           0.80      7000\n",
            "   macro avg       0.65      0.57      0.58      7000\n",
            "weighted avg       0.76      0.80      0.77      7000\n",
            "\n"
          ],
          "name": "stdout"
        }
      ]
    },
    {
      "cell_type": "code",
      "metadata": {
        "colab": {
          "base_uri": "https://localhost:8080/"
        },
        "id": "TVfP3bty-h73",
        "outputId": "5c914277-4932-4b5f-ebb9-e8bb6a493ddf"
      },
      "source": [
        "print (accuracy_score(y_test, y_pred))"
      ],
      "execution_count": 34,
      "outputs": [
        {
          "output_type": "stream",
          "text": [
            "0.8001428571428572\n"
          ],
          "name": "stdout"
        }
      ]
    },
    {
      "cell_type": "markdown",
      "metadata": {
        "id": "POmsaBZC2cwJ"
      },
      "source": [
        "we are going to run the model again but with the balanced data and see if the metrics increase"
      ]
    },
    {
      "cell_type": "code",
      "metadata": {
        "id": "tMmXyKTn2ced"
      },
      "source": [
        "model = KNeighborsClassifier(n_neighbors=8)\n",
        "model = model.fit(X_train_os, y_train_os)"
      ],
      "execution_count": 35,
      "outputs": []
    },
    {
      "cell_type": "code",
      "metadata": {
        "id": "HvGFykC42psI"
      },
      "source": [
        "y_pred_os = model.predict(X_test_os)"
      ],
      "execution_count": 36,
      "outputs": []
    },
    {
      "cell_type": "code",
      "metadata": {
        "colab": {
          "base_uri": "https://localhost:8080/",
          "height": 370
        },
        "id": "9-CCriUi2pyQ",
        "outputId": "97619b8b-2a0e-4d4b-c109-fd798b2f4e36"
      },
      "source": [
        "classes = ['No', 'Yes']\n",
        "\n",
        "plot_confusion_matrix(y_test_os, y_pred_os, classes=classes, title='Confussion matrix for K Nearest Neighbors with balanced data')"
      ],
      "execution_count": 37,
      "outputs": [
        {
          "output_type": "stream",
          "text": [
            "Confusion matrix, without normalization\n",
            "[[4683  937]\n",
            " [2181 3439]]\n"
          ],
          "name": "stdout"
        },
        {
          "output_type": "execute_result",
          "data": {
            "text/plain": [
              "<matplotlib.axes._subplots.AxesSubplot at 0x7f52de5cde50>"
            ]
          },
          "metadata": {
            "tags": []
          },
          "execution_count": 37
        },
        {
          "output_type": "display_data",
          "data": {
            "image/png": "[encoded data removed]",
            "text/plain": [
              "<Figure size 432x288 with 2 Axes>"
            ]
          },
          "metadata": {
            "tags": [],
            "needs_background": "light"
          }
        }
      ]
    },
    {
      "cell_type": "code",
      "metadata": {
        "colab": {
          "base_uri": "https://localhost:8080/"
        },
        "id": "ICyqdLIk25gx",
        "outputId": "ef452b25-b585-414e-f40e-64a47dde2ef9"
      },
      "source": [
        "print(classification_report(y_test_os, y_pred_os))\n",
        "print (accuracy_score(y_test_os, y_pred_os)) ## metrics for 'yes' class increase but overall accuracy decrease a little bit"
      ],
      "execution_count": 38,
      "outputs": [
        {
          "output_type": "stream",
          "text": [
            "              precision    recall  f1-score   support\n",
            "\n",
            "           0       0.68      0.83      0.75      5620\n",
            "           1       0.79      0.61      0.69      5620\n",
            "\n",
            "    accuracy                           0.72     11240\n",
            "   macro avg       0.73      0.72      0.72     11240\n",
            "weighted avg       0.73      0.72      0.72     11240\n",
            "\n",
            "0.7225978647686833\n"
          ],
          "name": "stdout"
        }
      ]
    },
    {
      "cell_type": "markdown",
      "metadata": {
        "id": "s64Bg5ln4vT3"
      },
      "source": [
        "## Decision Tree"
      ]
    },
    {
      "cell_type": "code",
      "metadata": {
        "id": "xl6npY321yMo"
      },
      "source": [
        "## check la distribucion de datos de una columna del dataset\n",
        "\n",
        "import seaborn as sns\n"
      ],
      "execution_count": 39,
      "outputs": []
    },
    {
      "cell_type": "code",
      "metadata": {
        "id": "O0EsQ5cU-Z0O"
      },
      "source": [
        "y_train = y_train.apply(str).replace('1', 'Yes').replace('0', 'No')\n",
        "\n",
        "y_test = y_test.apply(str).replace('1', 'Yes').replace('0', 'No')\n"
      ],
      "execution_count": 40,
      "outputs": []
    },
    {
      "cell_type": "code",
      "metadata": {
        "id": "7EvkfSNT7Z9b"
      },
      "source": [
        "from sklearn.tree import DecisionTreeClassifier\n",
        "\n",
        "model = DecisionTreeClassifier(random_state=1)"
      ],
      "execution_count": 41,
      "outputs": []
    },
    {
      "cell_type": "code",
      "metadata": {
        "colab": {
          "base_uri": "https://localhost:8080/"
        },
        "id": "QGBY4CSE7Z_1",
        "outputId": "807f682c-12ad-4877-ce5f-5a8da4cd6375"
      },
      "source": [
        "model.fit(X_train, y_train) ## we are going to start without giving any weight to the classes class_weight but then we will try to assign the correspondent weight"
      ],
      "execution_count": 42,
      "outputs": [
        {
          "output_type": "execute_result",
          "data": {
            "text/plain": [
              "DecisionTreeClassifier(ccp_alpha=0.0, class_weight=None, criterion='gini',\n",
              "                       max_depth=None, max_features=None, max_leaf_nodes=None,\n",
              "                       min_impurity_decrease=0.0, min_impurity_split=None,\n",
              "                       min_samples_leaf=1, min_samples_split=2,\n",
              "                       min_weight_fraction_leaf=0.0, presort='deprecated',\n",
              "                       random_state=1, splitter='best')"
            ]
          },
          "metadata": {
            "tags": []
          },
          "execution_count": 42
        }
      ]
    },
    {
      "cell_type": "code",
      "metadata": {
        "id": "GxeQYUy98FHn"
      },
      "source": [
        "y_pred = model.predict(X_test)"
      ],
      "execution_count": 43,
      "outputs": []
    },
    {
      "cell_type": "code",
      "metadata": {
        "colab": {
          "base_uri": "https://localhost:8080/",
          "height": 362
        },
        "id": "MZdr26QX8FPm",
        "outputId": "313352e7-407b-40bb-a0f8-56e52e87ecd7"
      },
      "source": [
        "comp = pd.DataFrame({'real': y_test, 'preds':y_pred})\n",
        "comp.head(10) ## parece que esta acertando debido al desbalanceo vamos analizar los casos que deberian de ser 1"
      ],
      "execution_count": 44,
      "outputs": [
        {
          "output_type": "execute_result",
          "data": {
            "text/html": [
              "<div>\n",
              "<style scoped>\n",
              "    .dataframe tbody tr th:only-of-type {\n",
              "        vertical-align: middle;\n",
              "    }\n",
              "\n",
              "    .dataframe tbody tr th {\n",
              "        vertical-align: top;\n",
              "    }\n",
              "\n",
              "    .dataframe thead th {\n",
              "        text-align: right;\n",
              "    }\n",
              "</style>\n",
              "<table border=\"1\" class=\"dataframe\">\n",
              "  <thead>\n",
              "    <tr style=\"text-align: right;\">\n",
              "      <th></th>\n",
              "      <th>real</th>\n",
              "      <th>preds</th>\n",
              "    </tr>\n",
              "  </thead>\n",
              "  <tbody>\n",
              "    <tr>\n",
              "      <th>16651</th>\n",
              "      <td>No</td>\n",
              "      <td>No</td>\n",
              "    </tr>\n",
              "    <tr>\n",
              "      <th>13898</th>\n",
              "      <td>No</td>\n",
              "      <td>No</td>\n",
              "    </tr>\n",
              "    <tr>\n",
              "      <th>16269</th>\n",
              "      <td>No</td>\n",
              "      <td>No</td>\n",
              "    </tr>\n",
              "    <tr>\n",
              "      <th>7306</th>\n",
              "      <td>No</td>\n",
              "      <td>No</td>\n",
              "    </tr>\n",
              "    <tr>\n",
              "      <th>13631</th>\n",
              "      <td>No</td>\n",
              "      <td>No</td>\n",
              "    </tr>\n",
              "    <tr>\n",
              "      <th>4609</th>\n",
              "      <td>No</td>\n",
              "      <td>No</td>\n",
              "    </tr>\n",
              "    <tr>\n",
              "      <th>18063</th>\n",
              "      <td>No</td>\n",
              "      <td>No</td>\n",
              "    </tr>\n",
              "    <tr>\n",
              "      <th>408</th>\n",
              "      <td>Yes</td>\n",
              "      <td>No</td>\n",
              "    </tr>\n",
              "    <tr>\n",
              "      <th>12181</th>\n",
              "      <td>No</td>\n",
              "      <td>No</td>\n",
              "    </tr>\n",
              "    <tr>\n",
              "      <th>3062</th>\n",
              "      <td>Yes</td>\n",
              "      <td>Yes</td>\n",
              "    </tr>\n",
              "  </tbody>\n",
              "</table>\n",
              "</div>"
            ],
            "text/plain": [
              "      real preds\n",
              "16651   No    No\n",
              "13898   No    No\n",
              "16269   No    No\n",
              "7306    No    No\n",
              "13631   No    No\n",
              "4609    No    No\n",
              "18063   No    No\n",
              "408    Yes    No\n",
              "12181   No    No\n",
              "3062   Yes   Yes"
            ]
          },
          "metadata": {
            "tags": []
          },
          "execution_count": 44
        }
      ]
    },
    {
      "cell_type": "code",
      "metadata": {
        "colab": {
          "base_uri": "https://localhost:8080/",
          "height": 422
        },
        "id": "ZjwD8Y3W7aCi",
        "outputId": "0b6d8ce4-a9b9-4ae6-a63b-14182c77ebf9"
      },
      "source": [
        "comp[comp['real']=='Yes'] ##casi siempre esta prediciendo 0 para los casos de 1"
      ],
      "execution_count": 45,
      "outputs": [
        {
          "output_type": "execute_result",
          "data": {
            "text/html": [
              "<div>\n",
              "<style scoped>\n",
              "    .dataframe tbody tr th:only-of-type {\n",
              "        vertical-align: middle;\n",
              "    }\n",
              "\n",
              "    .dataframe tbody tr th {\n",
              "        vertical-align: top;\n",
              "    }\n",
              "\n",
              "    .dataframe thead th {\n",
              "        text-align: right;\n",
              "    }\n",
              "</style>\n",
              "<table border=\"1\" class=\"dataframe\">\n",
              "  <thead>\n",
              "    <tr style=\"text-align: right;\">\n",
              "      <th></th>\n",
              "      <th>real</th>\n",
              "      <th>preds</th>\n",
              "    </tr>\n",
              "  </thead>\n",
              "  <tbody>\n",
              "    <tr>\n",
              "      <th>408</th>\n",
              "      <td>Yes</td>\n",
              "      <td>No</td>\n",
              "    </tr>\n",
              "    <tr>\n",
              "      <th>3062</th>\n",
              "      <td>Yes</td>\n",
              "      <td>Yes</td>\n",
              "    </tr>\n",
              "    <tr>\n",
              "      <th>936</th>\n",
              "      <td>Yes</td>\n",
              "      <td>No</td>\n",
              "    </tr>\n",
              "    <tr>\n",
              "      <th>44</th>\n",
              "      <td>Yes</td>\n",
              "      <td>No</td>\n",
              "    </tr>\n",
              "    <tr>\n",
              "      <th>447</th>\n",
              "      <td>Yes</td>\n",
              "      <td>Yes</td>\n",
              "    </tr>\n",
              "    <tr>\n",
              "      <th>...</th>\n",
              "      <td>...</td>\n",
              "      <td>...</td>\n",
              "    </tr>\n",
              "    <tr>\n",
              "      <th>1246</th>\n",
              "      <td>Yes</td>\n",
              "      <td>Yes</td>\n",
              "    </tr>\n",
              "    <tr>\n",
              "      <th>800</th>\n",
              "      <td>Yes</td>\n",
              "      <td>No</td>\n",
              "    </tr>\n",
              "    <tr>\n",
              "      <th>2074</th>\n",
              "      <td>Yes</td>\n",
              "      <td>No</td>\n",
              "    </tr>\n",
              "    <tr>\n",
              "      <th>1483</th>\n",
              "      <td>Yes</td>\n",
              "      <td>No</td>\n",
              "    </tr>\n",
              "    <tr>\n",
              "      <th>3290</th>\n",
              "      <td>Yes</td>\n",
              "      <td>No</td>\n",
              "    </tr>\n",
              "  </tbody>\n",
              "</table>\n",
              "<p>1365 rows × 2 columns</p>\n",
              "</div>"
            ],
            "text/plain": [
              "     real preds\n",
              "408   Yes    No\n",
              "3062  Yes   Yes\n",
              "936   Yes    No\n",
              "44    Yes    No\n",
              "447   Yes   Yes\n",
              "...   ...   ...\n",
              "1246  Yes   Yes\n",
              "800   Yes    No\n",
              "2074  Yes    No\n",
              "1483  Yes    No\n",
              "3290  Yes    No\n",
              "\n",
              "[1365 rows x 2 columns]"
            ]
          },
          "metadata": {
            "tags": []
          },
          "execution_count": 45
        }
      ]
    },
    {
      "cell_type": "code",
      "metadata": {
        "colab": {
          "base_uri": "https://localhost:8080/"
        },
        "id": "lEyX0J8x9iYO",
        "outputId": "8c2a5acc-eb8e-4296-8bc5-097145051d70"
      },
      "source": [
        "## lets check the percentge of accuracy\n",
        "\n",
        "from sklearn.metrics import accuracy_score\n",
        "\n",
        "acc = accuracy_score(y_test, y_pred)\n",
        "acc ## this accuracy is good but our problem is that it is very import to us to identify those cases with an accident so we need to better up our prediction on those"
      ],
      "execution_count": 46,
      "outputs": [
        {
          "output_type": "execute_result",
          "data": {
            "text/plain": [
              "0.8227142857142857"
            ]
          },
          "metadata": {
            "tags": []
          },
          "execution_count": 46
        }
      ]
    },
    {
      "cell_type": "code",
      "metadata": {
        "colab": {
          "base_uri": "https://localhost:8080/"
        },
        "id": "UwXz_ayYlNMY",
        "outputId": "fc632971-ab08-4a55-d749-24aa1a37a119"
      },
      "source": [
        "len(y_test[y_test=='Yes'])"
      ],
      "execution_count": 47,
      "outputs": [
        {
          "output_type": "execute_result",
          "data": {
            "text/plain": [
              "1365"
            ]
          },
          "metadata": {
            "tags": []
          },
          "execution_count": 47
        }
      ]
    },
    {
      "cell_type": "code",
      "metadata": {
        "colab": {
          "base_uri": "https://localhost:8080/",
          "height": 370
        },
        "id": "beEhJQSt-9PP",
        "outputId": "fbee050c-24d2-4190-c522-5307061d718d"
      },
      "source": [
        "classes = ['No', 'Yes']\n",
        "\n",
        "plot_confusion_matrix(y_test, y_pred, classes=classes, title='Confussion matrix for Decision Tree without weights')"
      ],
      "execution_count": 48,
      "outputs": [
        {
          "output_type": "stream",
          "text": [
            "Confusion matrix, without normalization\n",
            "[[5326  309]\n",
            " [ 932  433]]\n"
          ],
          "name": "stdout"
        },
        {
          "output_type": "execute_result",
          "data": {
            "text/plain": [
              "<matplotlib.axes._subplots.AxesSubplot at 0x7f52de459d10>"
            ]
          },
          "metadata": {
            "tags": []
          },
          "execution_count": 48
        },
        {
          "output_type": "display_data",
          "data": {
            "image/png": "[encoded data removed]",
            "text/plain": [
              "<Figure size 432x288 with 2 Axes>"
            ]
          },
          "metadata": {
            "tags": [],
            "needs_background": "light"
          }
        }
      ]
    },
    {
      "cell_type": "markdown",
      "metadata": {
        "id": "WGWCYdqM1aBR"
      },
      "source": [
        "Here we are going to perform a GridSearchCV to find th best hiperparameters for our dataset."
      ]
    },
    {
      "cell_type": "code",
      "metadata": {
        "id": "b-i2ptaaFtlT"
      },
      "source": [
        "from sklearn.model_selection import GridSearchCV\n",
        "\n",
        "clf_dt = GridSearchCV(DecisionTreeClassifier(),\n",
        "                      param_grid={\"min_samples_leaf\":[1,20],\n",
        "                                 'max_depth': np.arange(2, 20)},\n",
        "                     cv = 4,\n",
        "                     scoring = \"accuracy\")"
      ],
      "execution_count": 49,
      "outputs": []
    },
    {
      "cell_type": "code",
      "metadata": {
        "colab": {
          "base_uri": "https://localhost:8080/"
        },
        "id": "0Ahiu-dnFtuv",
        "outputId": "e757d8be-e715-4edc-d425-d75bae4764a2"
      },
      "source": [
        "clf_dt.fit(X_train, y_train)\n"
      ],
      "execution_count": 50,
      "outputs": [
        {
          "output_type": "execute_result",
          "data": {
            "text/plain": [
              "GridSearchCV(cv=4, error_score=nan,\n",
              "             estimator=DecisionTreeClassifier(ccp_alpha=0.0, class_weight=None,\n",
              "                                              criterion='gini', max_depth=None,\n",
              "                                              max_features=None,\n",
              "                                              max_leaf_nodes=None,\n",
              "                                              min_impurity_decrease=0.0,\n",
              "                                              min_impurity_split=None,\n",
              "                                              min_samples_leaf=1,\n",
              "                                              min_samples_split=2,\n",
              "                                              min_weight_fraction_leaf=0.0,\n",
              "                                              presort='deprecated',\n",
              "                                              random_state=None,\n",
              "                                              splitter='best'),\n",
              "             iid='deprecated', n_jobs=None,\n",
              "             param_grid={'max_depth': array([ 2,  3,  4,  5,  6,  7,  8,  9, 10, 11, 12, 13, 14, 15, 16, 17, 18,\n",
              "       19]),\n",
              "                         'min_samples_leaf': [1, 20]},\n",
              "             pre_dispatch='2*n_jobs', refit=True, return_train_score=False,\n",
              "             scoring='accuracy', verbose=0)"
            ]
          },
          "metadata": {
            "tags": []
          },
          "execution_count": 50
        }
      ]
    },
    {
      "cell_type": "code",
      "metadata": {
        "colab": {
          "base_uri": "https://localhost:8080/"
        },
        "id": "VGto0xBsGX-_",
        "outputId": "8f1675a0-2a0d-4310-c010-51ccfb28902a"
      },
      "source": [
        "clf_dt.best_score_\n"
      ],
      "execution_count": 51,
      "outputs": [
        {
          "output_type": "execute_result",
          "data": {
            "text/plain": [
              "0.8239271453764487"
            ]
          },
          "metadata": {
            "tags": []
          },
          "execution_count": 51
        }
      ]
    },
    {
      "cell_type": "code",
      "metadata": {
        "colab": {
          "base_uri": "https://localhost:8080/"
        },
        "id": "UuEdDOX0GUCY",
        "outputId": "b9749b97-1b0f-49d3-98c9-39af22748604"
      },
      "source": [
        "clf_dt.best_params_"
      ],
      "execution_count": 52,
      "outputs": [
        {
          "output_type": "execute_result",
          "data": {
            "text/plain": [
              "{'max_depth': 8, 'min_samples_leaf': 1}"
            ]
          },
          "metadata": {
            "tags": []
          },
          "execution_count": 52
        }
      ]
    },
    {
      "cell_type": "markdown",
      "metadata": {
        "id": "RtmmbG5CBGEs"
      },
      "source": [
        "Now we are going to  run the model again but with the class weights according to the frequency of the classes to try to balance them and achieve better results"
      ]
    },
    {
      "cell_type": "code",
      "metadata": {
        "colab": {
          "base_uri": "https://localhost:8080/"
        },
        "id": "bREbiyNpMdQy",
        "outputId": "8749444b-721b-4682-d4bf-33fcebdbfa39"
      },
      "source": [
        "## lets check frequencies\n",
        "staff['Accident'] = staff['Accident'].apply(str).apply(lambda x: x.replace('1', 'Yes').replace('0', 'No'))\n",
        "counts = staff['Accident'].replace('1', 'Yes').replace('0','No').astype(str).value_counts().to_dict()\n",
        "print(counts)\n",
        "\n"
      ],
      "execution_count": 53,
      "outputs": [
        {
          "output_type": "stream",
          "text": [
            "{'No': 17030, 'Yes': 4180}\n"
          ],
          "name": "stdout"
        }
      ]
    },
    {
      "cell_type": "code",
      "metadata": {
        "colab": {
          "base_uri": "https://localhost:8080/"
        },
        "id": "gQnu2eSHMyf5",
        "outputId": "42c12d81-8f88-4192-84a3-c283a5bd4a93"
      },
      "source": [
        "\n",
        "model = DecisionTreeClassifier(random_state=1, class_weight =counts, max_depth= 9, min_samples_leaf = 20)\n",
        "model.fit(X_train, y_train)\n",
        "\n"
      ],
      "execution_count": 54,
      "outputs": [
        {
          "output_type": "execute_result",
          "data": {
            "text/plain": [
              "DecisionTreeClassifier(ccp_alpha=0.0, class_weight={'No': 17030, 'Yes': 4180},\n",
              "                       criterion='gini', max_depth=9, max_features=None,\n",
              "                       max_leaf_nodes=None, min_impurity_decrease=0.0,\n",
              "                       min_impurity_split=None, min_samples_leaf=20,\n",
              "                       min_samples_split=2, min_weight_fraction_leaf=0.0,\n",
              "                       presort='deprecated', random_state=1, splitter='best')"
            ]
          },
          "metadata": {
            "tags": []
          },
          "execution_count": 54
        }
      ]
    },
    {
      "cell_type": "code",
      "metadata": {
        "colab": {
          "base_uri": "https://localhost:8080/",
          "height": 422
        },
        "id": "u7pLyPDVChTR",
        "outputId": "a1ab4d2e-d9fa-4bca-c1de-3a2f531fa375"
      },
      "source": [
        "y_pred = model.predict(X_test)\n",
        "comp_2 = pd.DataFrame({'real': y_test, 'preds':y_pred})\n",
        "comp_2[comp_2['real']=='Yes'] ## it seems it has increase accuracy, lets check"
      ],
      "execution_count": 55,
      "outputs": [
        {
          "output_type": "execute_result",
          "data": {
            "text/html": [
              "<div>\n",
              "<style scoped>\n",
              "    .dataframe tbody tr th:only-of-type {\n",
              "        vertical-align: middle;\n",
              "    }\n",
              "\n",
              "    .dataframe tbody tr th {\n",
              "        vertical-align: top;\n",
              "    }\n",
              "\n",
              "    .dataframe thead th {\n",
              "        text-align: right;\n",
              "    }\n",
              "</style>\n",
              "<table border=\"1\" class=\"dataframe\">\n",
              "  <thead>\n",
              "    <tr style=\"text-align: right;\">\n",
              "      <th></th>\n",
              "      <th>real</th>\n",
              "      <th>preds</th>\n",
              "    </tr>\n",
              "  </thead>\n",
              "  <tbody>\n",
              "    <tr>\n",
              "      <th>408</th>\n",
              "      <td>Yes</td>\n",
              "      <td>No</td>\n",
              "    </tr>\n",
              "    <tr>\n",
              "      <th>3062</th>\n",
              "      <td>Yes</td>\n",
              "      <td>No</td>\n",
              "    </tr>\n",
              "    <tr>\n",
              "      <th>936</th>\n",
              "      <td>Yes</td>\n",
              "      <td>No</td>\n",
              "    </tr>\n",
              "    <tr>\n",
              "      <th>44</th>\n",
              "      <td>Yes</td>\n",
              "      <td>No</td>\n",
              "    </tr>\n",
              "    <tr>\n",
              "      <th>447</th>\n",
              "      <td>Yes</td>\n",
              "      <td>No</td>\n",
              "    </tr>\n",
              "    <tr>\n",
              "      <th>...</th>\n",
              "      <td>...</td>\n",
              "      <td>...</td>\n",
              "    </tr>\n",
              "    <tr>\n",
              "      <th>1246</th>\n",
              "      <td>Yes</td>\n",
              "      <td>No</td>\n",
              "    </tr>\n",
              "    <tr>\n",
              "      <th>800</th>\n",
              "      <td>Yes</td>\n",
              "      <td>No</td>\n",
              "    </tr>\n",
              "    <tr>\n",
              "      <th>2074</th>\n",
              "      <td>Yes</td>\n",
              "      <td>No</td>\n",
              "    </tr>\n",
              "    <tr>\n",
              "      <th>1483</th>\n",
              "      <td>Yes</td>\n",
              "      <td>No</td>\n",
              "    </tr>\n",
              "    <tr>\n",
              "      <th>3290</th>\n",
              "      <td>Yes</td>\n",
              "      <td>No</td>\n",
              "    </tr>\n",
              "  </tbody>\n",
              "</table>\n",
              "<p>1365 rows × 2 columns</p>\n",
              "</div>"
            ],
            "text/plain": [
              "     real preds\n",
              "408   Yes    No\n",
              "3062  Yes    No\n",
              "936   Yes    No\n",
              "44    Yes    No\n",
              "447   Yes    No\n",
              "...   ...   ...\n",
              "1246  Yes    No\n",
              "800   Yes    No\n",
              "2074  Yes    No\n",
              "1483  Yes    No\n",
              "3290  Yes    No\n",
              "\n",
              "[1365 rows x 2 columns]"
            ]
          },
          "metadata": {
            "tags": []
          },
          "execution_count": 55
        }
      ]
    },
    {
      "cell_type": "code",
      "metadata": {
        "colab": {
          "base_uri": "https://localhost:8080/"
        },
        "id": "mpW9r55-DCC2",
        "outputId": "c65edb65-1d20-48d1-fbac-2010dfd47fe0"
      },
      "source": [
        "acc = accuracy_score(y_test, y_pred)\n",
        "acc "
      ],
      "execution_count": 56,
      "outputs": [
        {
          "output_type": "execute_result",
          "data": {
            "text/plain": [
              "0.805"
            ]
          },
          "metadata": {
            "tags": []
          },
          "execution_count": 56
        }
      ]
    },
    {
      "cell_type": "code",
      "metadata": {
        "colab": {
          "base_uri": "https://localhost:8080/"
        },
        "id": "L44QL-gTDFTw",
        "outputId": "35999e83-8256-4830-952b-b807b5a9f339"
      },
      "source": [
        "cm = confusion_matrix(y_test, y_pred)\n",
        "cm"
      ],
      "execution_count": 57,
      "outputs": [
        {
          "output_type": "execute_result",
          "data": {
            "text/plain": [
              "array([[5635,    0],\n",
              "       [1365,    0]])"
            ]
          },
          "metadata": {
            "tags": []
          },
          "execution_count": 57
        }
      ]
    },
    {
      "cell_type": "markdown",
      "metadata": {
        "id": "5_tAf7xcNtqN"
      },
      "source": [
        "If we add the best parameter the accuracy is increasing bt because it is never predicting value 'yes' so it is not working correctly"
      ]
    },
    {
      "cell_type": "code",
      "metadata": {
        "colab": {
          "base_uri": "https://localhost:8080/",
          "height": 370
        },
        "id": "jqHpEhIREOA3",
        "outputId": "2689837e-7027-4fda-c340-d3e4752dd4ef"
      },
      "source": [
        "classes = ['No', 'Yes']\n",
        "plot_confusion_matrix(y_test, y_pred, classes=classes, title='Confussion matrix for Decision Tree ')"
      ],
      "execution_count": 58,
      "outputs": [
        {
          "output_type": "stream",
          "text": [
            "Confusion matrix, without normalization\n",
            "[[5635    0]\n",
            " [1365    0]]\n"
          ],
          "name": "stdout"
        },
        {
          "output_type": "execute_result",
          "data": {
            "text/plain": [
              "<matplotlib.axes._subplots.AxesSubplot at 0x7f52dcf64b10>"
            ]
          },
          "metadata": {
            "tags": []
          },
          "execution_count": 58
        },
        {
          "output_type": "display_data",
          "data": {
            "image/png": "[encoded data removed]",
            "text/plain": [
              "<Figure size 432x288 with 2 Axes>"
            ]
          },
          "metadata": {
            "tags": [],
            "needs_background": "light"
          }
        }
      ]
    },
    {
      "cell_type": "code",
      "metadata": {
        "colab": {
          "base_uri": "https://localhost:8080/"
        },
        "id": "Da_sYtJIN3rZ",
        "outputId": "7768b92c-8374-494c-d94d-1d129d27208e"
      },
      "source": [
        "##lets try without them\n",
        "\n",
        "model = DecisionTreeClassifier()\n",
        "model = DecisionTreeClassifier(random_state=1, class_weight =counts)\n",
        "model.fit(X_train, y_train)"
      ],
      "execution_count": 59,
      "outputs": [
        {
          "output_type": "execute_result",
          "data": {
            "text/plain": [
              "DecisionTreeClassifier(ccp_alpha=0.0, class_weight={'No': 17030, 'Yes': 4180},\n",
              "                       criterion='gini', max_depth=None, max_features=None,\n",
              "                       max_leaf_nodes=None, min_impurity_decrease=0.0,\n",
              "                       min_impurity_split=None, min_samples_leaf=1,\n",
              "                       min_samples_split=2, min_weight_fraction_leaf=0.0,\n",
              "                       presort='deprecated', random_state=1, splitter='best')"
            ]
          },
          "metadata": {
            "tags": []
          },
          "execution_count": 59
        }
      ]
    },
    {
      "cell_type": "code",
      "metadata": {
        "id": "w5aPF9HKOWDu"
      },
      "source": [
        "y_pred = model.predict(X_test)\n"
      ],
      "execution_count": 60,
      "outputs": []
    },
    {
      "cell_type": "code",
      "metadata": {
        "colab": {
          "base_uri": "https://localhost:8080/",
          "height": 370
        },
        "id": "02TnmJeCN_bI",
        "outputId": "7a5c3409-cbd3-465e-c414-b3fe3e3859db"
      },
      "source": [
        "classes = ['No', 'Yes']\n",
        "plot_confusion_matrix(y_test, y_pred, classes=classes, title='Confussion matrix for Decision Tree ')"
      ],
      "execution_count": 61,
      "outputs": [
        {
          "output_type": "stream",
          "text": [
            "Confusion matrix, without normalization\n",
            "[[5632    3]\n",
            " [1360    5]]\n"
          ],
          "name": "stdout"
        },
        {
          "output_type": "execute_result",
          "data": {
            "text/plain": [
              "<matplotlib.axes._subplots.AxesSubplot at 0x7f52dd0c2990>"
            ]
          },
          "metadata": {
            "tags": []
          },
          "execution_count": 61
        },
        {
          "output_type": "display_data",
          "data": {
            "image/png": "[encoded data removed]",
            "text/plain": [
              "<Figure size 432x288 with 2 Axes>"
            ]
          },
          "metadata": {
            "tags": [],
            "needs_background": "light"
          }
        }
      ]
    },
    {
      "cell_type": "code",
      "metadata": {
        "id": "gsFD99cGq7Pa"
      },
      "source": [
        "from sklearn.metrics import f1_score\n",
        "from sklearn.model_selection import cross_validate\n",
        "\n",
        "scores = cross_validate(model, X_test, y_test, scoring ='f1_macro')"
      ],
      "execution_count": 62,
      "outputs": []
    },
    {
      "cell_type": "code",
      "metadata": {
        "colab": {
          "base_uri": "https://localhost:8080/"
        },
        "id": "_KpxjTeqrXVW",
        "outputId": "c0d5298a-fc0d-434f-c96f-b8dc4f37347c"
      },
      "source": [
        "scores ## if we look at the test_score it is around .4 which is bad"
      ],
      "execution_count": 63,
      "outputs": [
        {
          "output_type": "execute_result",
          "data": {
            "text/plain": [
              "{'fit_time': array([0.01711702, 0.01943612, 0.01750422, 0.01733589, 0.01718783]),\n",
              " 'score_time': array([0.0098927 , 0.01858139, 0.01042438, 0.01061988, 0.01030922]),\n",
              " 'test_score': array([0.47934481, 0.48454458, 0.46230819, 0.46589703, 0.4558329 ])}"
            ]
          },
          "metadata": {
            "tags": []
          },
          "execution_count": 63
        }
      ]
    },
    {
      "cell_type": "markdown",
      "metadata": {
        "id": "4eCZKbIYr7ka"
      },
      "source": [
        "Now we are going to try to over sample our minority class to balance our classes and achieve better results"
      ]
    },
    {
      "cell_type": "code",
      "metadata": {
        "id": "0f0_kbWirkqm"
      },
      "source": [
        "from imblearn.over_sampling import SMOTE"
      ],
      "execution_count": 64,
      "outputs": []
    },
    {
      "cell_type": "code",
      "metadata": {
        "id": "vdlv0vHGAc9Z"
      },
      "source": [
        "oversample = SMOTE()\n",
        "\n",
        "X, y = oversample.fit_resample(X, y)"
      ],
      "execution_count": 65,
      "outputs": []
    },
    {
      "cell_type": "code",
      "metadata": {
        "colab": {
          "base_uri": "https://localhost:8080/"
        },
        "id": "DMez56z8sRyK",
        "outputId": "f5cc9935-01fa-4976-fe96-3948a4e4518a"
      },
      "source": [
        "from collections import Counter\n",
        "\n",
        "counter = Counter(y)\n",
        "\n",
        "for k, v in counter.items():\n",
        "  dist = v / len(y)* 100\n",
        "  print(f'Class={k}, n={v}, ({dist}%)')"
      ],
      "execution_count": 66,
      "outputs": [
        {
          "output_type": "stream",
          "text": [
            "Class=1, n=17030, (50.0%)\n",
            "Class=0, n=17030, (50.0%)\n"
          ],
          "name": "stdout"
        }
      ]
    },
    {
      "cell_type": "code",
      "metadata": {
        "colab": {
          "base_uri": "https://localhost:8080/",
          "height": 501
        },
        "id": "q_3tc5RgsR2O",
        "outputId": "a0ad6758-37d5-40a2-d363-9c987771e0f1"
      },
      "source": [
        "import numpy as np\n",
        "import matplotlib.pyplot as plt\n",
        "\n",
        "plt.figure(1, figsize=(10,8))\n",
        "\n",
        "for label, _ in counter.items():\n",
        "  row = np.where(y==label)[0]\n",
        "  plt.scatter(X[row, 0], X[row, 1], label=str(label))\n",
        "\n",
        "\n",
        "plt.legend()"
      ],
      "execution_count": 67,
      "outputs": [
        {
          "output_type": "execute_result",
          "data": {
            "text/plain": [
              "<matplotlib.legend.Legend at 0x7f52dcf86c10>"
            ]
          },
          "metadata": {
            "tags": []
          },
          "execution_count": 67
        },
        {
          "output_type": "display_data",
          "data": {
            "image/png": "[encoded data removed]",
            "text/plain": [
              "<Figure size 720x576 with 1 Axes>"
            ]
          },
          "metadata": {
            "tags": [],
            "needs_background": "light"
          }
        }
      ]
    },
    {
      "cell_type": "code",
      "metadata": {
        "id": "0A4hmlfBvWkb"
      },
      "source": [
        "## we are going to run the model again with this oversample data\n",
        "\n",
        "X_train, X_test, y_train, y_test = train_test_split(X, y, test_size=0.33, random_state=42)"
      ],
      "execution_count": 68,
      "outputs": []
    },
    {
      "cell_type": "code",
      "metadata": {
        "colab": {
          "base_uri": "https://localhost:8080/"
        },
        "id": "ckMqY6mIvW1u",
        "outputId": "6ef3b1b7-6778-4a09-a4a8-c5a50fc3d553"
      },
      "source": [
        "model = DecisionTreeClassifier()\n",
        "model.fit(X_train, y_train)"
      ],
      "execution_count": 69,
      "outputs": [
        {
          "output_type": "execute_result",
          "data": {
            "text/plain": [
              "DecisionTreeClassifier(ccp_alpha=0.0, class_weight=None, criterion='gini',\n",
              "                       max_depth=None, max_features=None, max_leaf_nodes=None,\n",
              "                       min_impurity_decrease=0.0, min_impurity_split=None,\n",
              "                       min_samples_leaf=1, min_samples_split=2,\n",
              "                       min_weight_fraction_leaf=0.0, presort='deprecated',\n",
              "                       random_state=None, splitter='best')"
            ]
          },
          "metadata": {
            "tags": []
          },
          "execution_count": 69
        }
      ]
    },
    {
      "cell_type": "code",
      "metadata": {
        "colab": {
          "base_uri": "https://localhost:8080/",
          "height": 370
        },
        "id": "ckTb0fyavW4B",
        "outputId": "737bb138-499b-4011-f4d2-dfd80567b4b0"
      },
      "source": [
        "y_pred = model.predict(X_test)\n",
        "classes = ['No', 'Yes']\n",
        "plot_confusion_matrix(y_test, y_pred, classes=classes, title='Confussion matrix for Decision Tree ')"
      ],
      "execution_count": 70,
      "outputs": [
        {
          "output_type": "stream",
          "text": [
            "Confusion matrix, without normalization\n",
            "[[4220 1400]\n",
            " [1420 4200]]\n"
          ],
          "name": "stdout"
        },
        {
          "output_type": "execute_result",
          "data": {
            "text/plain": [
              "<matplotlib.axes._subplots.AxesSubplot at 0x7f52dcd79910>"
            ]
          },
          "metadata": {
            "tags": []
          },
          "execution_count": 70
        },
        {
          "output_type": "display_data",
          "data": {
            "image/png": "[encoded data removed]",
            "text/plain": [
              "<Figure size 432x288 with 2 Axes>"
            ]
          },
          "metadata": {
            "tags": [],
            "needs_background": "light"
          }
        }
      ]
    },
    {
      "cell_type": "code",
      "metadata": {
        "colab": {
          "base_uri": "https://localhost:8080/"
        },
        "id": "lvut4FcpwBKw",
        "outputId": "63698a38-c505-4ee8-b8bb-584e0d3c990c"
      },
      "source": [
        "scores = cross_validate(model, X_test, y_test, scoring ='f1_macro')\n",
        "scores ## our model has increased positively its test score with going around now a .8 which is a good result"
      ],
      "execution_count": 71,
      "outputs": [
        {
          "output_type": "execute_result",
          "data": {
            "text/plain": [
              "{'fit_time': array([0.01565862, 0.01274776, 0.01274014, 0.01265359, 0.01257944]),\n",
              " 'score_time': array([0.00231194, 0.00205302, 0.00205731, 0.00204825, 0.00207186]),\n",
              " 'test_score': array([0.74021352, 0.74329037, 0.72594199, 0.7366548 , 0.75656619])}"
            ]
          },
          "metadata": {
            "tags": []
          },
          "execution_count": 71
        }
      ]
    },
    {
      "cell_type": "code",
      "metadata": {
        "colab": {
          "base_uri": "https://localhost:8080/"
        },
        "id": "Kky-ygXN-aOQ",
        "outputId": "d86e278f-4e02-4b6f-9235-40ec0088953e"
      },
      "source": [
        "print (classification_report(y_test, y_pred, target_names=classes))\n",
        "print (accuracy_score(y_test, y_pred))"
      ],
      "execution_count": 72,
      "outputs": [
        {
          "output_type": "stream",
          "text": [
            "              precision    recall  f1-score   support\n",
            "\n",
            "          No       0.75      0.75      0.75      5620\n",
            "         Yes       0.75      0.75      0.75      5620\n",
            "\n",
            "    accuracy                           0.75     11240\n",
            "   macro avg       0.75      0.75      0.75     11240\n",
            "weighted avg       0.75      0.75      0.75     11240\n",
            "\n",
            "0.7491103202846975\n"
          ],
          "name": "stdout"
        }
      ]
    },
    {
      "cell_type": "markdown",
      "metadata": {
        "id": "FpTR-JryxYsK"
      },
      "source": [
        "# Random Forest Algorithm\n",
        "\n",
        "We are going to perform this algorithm with the balanced data we have generated before, so we are going to be using same partitions"
      ]
    },
    {
      "cell_type": "code",
      "metadata": {
        "colab": {
          "base_uri": "https://localhost:8080/"
        },
        "id": "_3pUBT3CxclM",
        "outputId": "dfd80442-c241-4162-b222-0437282414cf"
      },
      "source": [
        "from sklearn.ensemble import RandomForestClassifier\n",
        "\n",
        "model = RandomForestClassifier()\n",
        "\n",
        "model.fit(X_train, y_train)"
      ],
      "execution_count": 73,
      "outputs": [
        {
          "output_type": "execute_result",
          "data": {
            "text/plain": [
              "RandomForestClassifier(bootstrap=True, ccp_alpha=0.0, class_weight=None,\n",
              "                       criterion='gini', max_depth=None, max_features='auto',\n",
              "                       max_leaf_nodes=None, max_samples=None,\n",
              "                       min_impurity_decrease=0.0, min_impurity_split=None,\n",
              "                       min_samples_leaf=1, min_samples_split=2,\n",
              "                       min_weight_fraction_leaf=0.0, n_estimators=100,\n",
              "                       n_jobs=None, oob_score=False, random_state=None,\n",
              "                       verbose=0, warm_start=False)"
            ]
          },
          "metadata": {
            "tags": []
          },
          "execution_count": 73
        }
      ]
    },
    {
      "cell_type": "code",
      "metadata": {
        "colab": {
          "base_uri": "https://localhost:8080/"
        },
        "id": "qmtXcgS6xc5e",
        "outputId": "f6295244-3817-4cb8-92fd-aa53692c5f5b"
      },
      "source": [
        "model.score(X_test, y_test) "
      ],
      "execution_count": 74,
      "outputs": [
        {
          "output_type": "execute_result",
          "data": {
            "text/plain": [
              "0.7497330960854093"
            ]
          },
          "metadata": {
            "tags": []
          },
          "execution_count": 74
        }
      ]
    },
    {
      "cell_type": "code",
      "metadata": {
        "id": "kHJyRvclxdAq"
      },
      "source": [
        "y_predicted = model.predict(X_test)"
      ],
      "execution_count": 75,
      "outputs": []
    },
    {
      "cell_type": "code",
      "metadata": {
        "colab": {
          "base_uri": "https://localhost:8080/",
          "height": 370
        },
        "id": "pIY--CzJxdEP",
        "outputId": "70761013-23c6-44cd-85a5-60d3809113fa"
      },
      "source": [
        "classes = ['No', 'Yes']\n",
        "plot_confusion_matrix(y_test, y_predicted, classes=classes, title='Confussion matrix for Random Forest ')"
      ],
      "execution_count": 76,
      "outputs": [
        {
          "output_type": "stream",
          "text": [
            "Confusion matrix, without normalization\n",
            "[[4212 1408]\n",
            " [1405 4215]]\n"
          ],
          "name": "stdout"
        },
        {
          "output_type": "execute_result",
          "data": {
            "text/plain": [
              "<matplotlib.axes._subplots.AxesSubplot at 0x7f52dcb71710>"
            ]
          },
          "metadata": {
            "tags": []
          },
          "execution_count": 76
        },
        {
          "output_type": "display_data",
          "data": {
            "image/png": "[encoded data removed]",
            "text/plain": [
              "<Figure size 432x288 with 2 Axes>"
            ]
          },
          "metadata": {
            "tags": [],
            "needs_background": "light"
          }
        }
      ]
    },
    {
      "cell_type": "code",
      "metadata": {
        "colab": {
          "base_uri": "https://localhost:8080/"
        },
        "id": "cXEUDY9O-WEy",
        "outputId": "258296f9-c12d-46b2-f69e-63f97f5941d0"
      },
      "source": [
        "print (classification_report(y_test, y_pred, target_names=classes))\n",
        "print (accuracy_score(y_test, y_predicted))"
      ],
      "execution_count": 77,
      "outputs": [
        {
          "output_type": "stream",
          "text": [
            "              precision    recall  f1-score   support\n",
            "\n",
            "          No       0.75      0.75      0.75      5620\n",
            "         Yes       0.75      0.75      0.75      5620\n",
            "\n",
            "    accuracy                           0.75     11240\n",
            "   macro avg       0.75      0.75      0.75     11240\n",
            "weighted avg       0.75      0.75      0.75     11240\n",
            "\n",
            "0.7497330960854093\n"
          ],
          "name": "stdout"
        }
      ]
    },
    {
      "cell_type": "markdown",
      "metadata": {
        "id": "I_kzWtMs3uUs"
      },
      "source": [
        "### hyperparameter optimization\n",
        "\n",
        "Now we are going to apply a GridSearch CV to try maximize performance in our algorithm and be able to apply the hiperparamethers that best fits our model"
      ]
    },
    {
      "cell_type": "code",
      "metadata": {
        "id": "lgg0gryQJ-E2"
      },
      "source": [
        "from sklearn.model_selection import GridSearchCV\n",
        "\n",
        "param_grid={\"min_samples_leaf\": [1,20], #min number of samples required at each leaf code\n",
        "            'n_estimators': [int(x) for x in np.linspace(start=10, stop=80, num=10)], # number of trees in random forest\n",
        "            'max_depth': np.arange(2,10), #number of levels in the tree\n",
        "            'min_samples_split': [2,5]} # min number of samples required to split a node "
      ],
      "execution_count": 78,
      "outputs": []
    },
    {
      "cell_type": "code",
      "metadata": {
        "id": "bW_Wxn6VxdIy"
      },
      "source": [
        "from sklearn.model_selection import GridSearchCV\n",
        "\n",
        "clf_rt = GridSearchCV(RandomForestClassifier(),\n",
        "                      param_grid=param_grid,cv = 3,scoring = \"accuracy\",n_jobs = 4, verbose = 2)"
      ],
      "execution_count": 79,
      "outputs": []
    },
    {
      "cell_type": "code",
      "metadata": {
        "colab": {
          "base_uri": "https://localhost:8080/"
        },
        "id": "IWnbPd2R4bWe",
        "outputId": "d1facdb2-78d7-4c53-c87e-c853fd904151"
      },
      "source": [
        "clf_rt.fit(X, y)"
      ],
      "execution_count": 80,
      "outputs": [
        {
          "output_type": "stream",
          "text": [
            "Fitting 3 folds for each of 320 candidates, totalling 960 fits\n"
          ],
          "name": "stdout"
        },
        {
          "output_type": "stream",
          "text": [
            "[Parallel(n_jobs=4)]: Using backend LokyBackend with 4 concurrent workers.\n",
            "[Parallel(n_jobs=4)]: Done  33 tasks      | elapsed:    8.4s\n",
            "[Parallel(n_jobs=4)]: Done 154 tasks      | elapsed:   34.2s\n",
            "[Parallel(n_jobs=4)]: Done 357 tasks      | elapsed:  1.4min\n",
            "[Parallel(n_jobs=4)]: Done 640 tasks      | elapsed:  2.8min\n",
            "[Parallel(n_jobs=4)]: Done 960 out of 960 | elapsed:  4.5min finished\n"
          ],
          "name": "stderr"
        },
        {
          "output_type": "execute_result",
          "data": {
            "text/plain": [
              "GridSearchCV(cv=3, error_score=nan,\n",
              "             estimator=RandomForestClassifier(bootstrap=True, ccp_alpha=0.0,\n",
              "                                              class_weight=None,\n",
              "                                              criterion='gini', max_depth=None,\n",
              "                                              max_features='auto',\n",
              "                                              max_leaf_nodes=None,\n",
              "                                              max_samples=None,\n",
              "                                              min_impurity_decrease=0.0,\n",
              "                                              min_impurity_split=None,\n",
              "                                              min_samples_leaf=1,\n",
              "                                              min_samples_split=2,\n",
              "                                              min_weight_fraction_leaf=0.0,\n",
              "                                              n_estimators=100, n_jobs=None,\n",
              "                                              oob_score=False,\n",
              "                                              random_state=None, verbose=0,\n",
              "                                              warm_start=False),\n",
              "             iid='deprecated', n_jobs=4,\n",
              "             param_grid={'max_depth': array([2, 3, 4, 5, 6, 7, 8, 9]),\n",
              "                         'min_samples_leaf': [1, 20],\n",
              "                         'min_samples_split': [2, 5],\n",
              "                         'n_estimators': [10, 17, 25, 33, 41, 48, 56, 64, 72,\n",
              "                                          80]},\n",
              "             pre_dispatch='2*n_jobs', refit=True, return_train_score=False,\n",
              "             scoring='accuracy', verbose=2)"
            ]
          },
          "metadata": {
            "tags": []
          },
          "execution_count": 80
        }
      ]
    },
    {
      "cell_type": "code",
      "metadata": {
        "colab": {
          "base_uri": "https://localhost:8080/"
        },
        "id": "W3HrDRS14bdq",
        "outputId": "61418f4d-3527-4043-e28d-31d20ada54d0"
      },
      "source": [
        "clf_rt.best_score_"
      ],
      "execution_count": 81,
      "outputs": [
        {
          "output_type": "execute_result",
          "data": {
            "text/plain": [
              "0.7435704741251339"
            ]
          },
          "metadata": {
            "tags": []
          },
          "execution_count": 81
        }
      ]
    },
    {
      "cell_type": "code",
      "metadata": {
        "colab": {
          "base_uri": "https://localhost:8080/"
        },
        "id": "ekvi7Dpl4bk9",
        "outputId": "546630af-c262-4743-9c08-4dd9ae385edc"
      },
      "source": [
        "clf_rt.best_params_"
      ],
      "execution_count": 82,
      "outputs": [
        {
          "output_type": "execute_result",
          "data": {
            "text/plain": [
              "{'max_depth': 9,\n",
              " 'min_samples_leaf': 1,\n",
              " 'min_samples_split': 5,\n",
              " 'n_estimators': 56}"
            ]
          },
          "metadata": {
            "tags": []
          },
          "execution_count": 82
        }
      ]
    },
    {
      "cell_type": "code",
      "metadata": {
        "id": "14NYywVv4bsl"
      },
      "source": [
        "clf_rf_good = clf_rt.best_estimator_\n"
      ],
      "execution_count": 83,
      "outputs": []
    },
    {
      "cell_type": "markdown",
      "metadata": {
        "id": "g3-_8f5l47oo"
      },
      "source": [
        "By the feature importances method we can observe how each variable impacts the decisions taken by the random forest"
      ]
    },
    {
      "cell_type": "code",
      "metadata": {
        "colab": {
          "base_uri": "https://localhost:8080/"
        },
        "id": "pv_uo8uW46o6",
        "outputId": "11b94782-4538-44a9-d84c-8976042fe11b"
      },
      "source": [
        "clf_rf_good.feature_importances_\n"
      ],
      "execution_count": 84,
      "outputs": [
        {
          "output_type": "execute_result",
          "data": {
            "text/plain": [
              "array([0.07286645, 0.07741266, 0.28456228, 0.0384887 , 0.11184735,\n",
              "       0.0882083 , 0.13729671, 0.02817747, 0.00648736, 0.00578622,\n",
              "       0.00521669, 0.05332079, 0.02460412, 0.0279839 , 0.03774101])"
            ]
          },
          "metadata": {
            "tags": []
          },
          "execution_count": 84
        }
      ]
    },
    {
      "cell_type": "markdown",
      "metadata": {
        "id": "1JyOnE6LNWe2"
      },
      "source": [
        "Now we are going to run the algorithm with the best parameter we got from the GridSearchCV"
      ]
    },
    {
      "cell_type": "code",
      "metadata": {
        "colab": {
          "base_uri": "https://localhost:8080/"
        },
        "id": "oJUe0Kl4NPLP",
        "outputId": "4ab99462-e791-45d8-a9fb-007d20a56e69"
      },
      "source": [
        "model = RandomForestClassifier(max_depth= 9 , min_samples_leaf= 1, min_samples_split= 5, n_estimators= 72)\n",
        "\n",
        "model.fit(X_train, y_train)"
      ],
      "execution_count": 85,
      "outputs": [
        {
          "output_type": "execute_result",
          "data": {
            "text/plain": [
              "RandomForestClassifier(bootstrap=True, ccp_alpha=0.0, class_weight=None,\n",
              "                       criterion='gini', max_depth=9, max_features='auto',\n",
              "                       max_leaf_nodes=None, max_samples=None,\n",
              "                       min_impurity_decrease=0.0, min_impurity_split=None,\n",
              "                       min_samples_leaf=1, min_samples_split=5,\n",
              "                       min_weight_fraction_leaf=0.0, n_estimators=72,\n",
              "                       n_jobs=None, oob_score=False, random_state=None,\n",
              "                       verbose=0, warm_start=False)"
            ]
          },
          "metadata": {
            "tags": []
          },
          "execution_count": 85
        }
      ]
    },
    {
      "cell_type": "code",
      "metadata": {
        "colab": {
          "base_uri": "https://localhost:8080/"
        },
        "id": "T6zaos83NPOQ",
        "outputId": "365ccac5-c493-4b0d-9ece-67818214896f"
      },
      "source": [
        "model.score(X_test, y_test) "
      ],
      "execution_count": 86,
      "outputs": [
        {
          "output_type": "execute_result",
          "data": {
            "text/plain": [
              "0.7447508896797153"
            ]
          },
          "metadata": {
            "tags": []
          },
          "execution_count": 86
        }
      ]
    },
    {
      "cell_type": "code",
      "metadata": {
        "id": "HmogJ4XHNPRp"
      },
      "source": [
        "y_predicted = model.predict(X_test)"
      ],
      "execution_count": 87,
      "outputs": []
    },
    {
      "cell_type": "code",
      "metadata": {
        "colab": {
          "base_uri": "https://localhost:8080/",
          "height": 370
        },
        "id": "LDyJ-wpZNPrQ",
        "outputId": "579a0da6-80a8-41b7-f48c-b317d3f27c32"
      },
      "source": [
        "classes = ['No', 'Yes']\n",
        "plot_confusion_matrix(y_test, y_predicted, classes=classes, title='Confussion matrix for Random Forest ')"
      ],
      "execution_count": 88,
      "outputs": [
        {
          "output_type": "stream",
          "text": [
            "Confusion matrix, without normalization\n",
            "[[4108 1512]\n",
            " [1357 4263]]\n"
          ],
          "name": "stdout"
        },
        {
          "output_type": "execute_result",
          "data": {
            "text/plain": [
              "<matplotlib.axes._subplots.AxesSubplot at 0x7f52dd09d8d0>"
            ]
          },
          "metadata": {
            "tags": []
          },
          "execution_count": 88
        },
        {
          "output_type": "display_data",
          "data": {
            "image/png": "[encoded data removed]",
            "text/plain": [
              "<Figure size 432x288 with 2 Axes>"
            ]
          },
          "metadata": {
            "tags": [],
            "needs_background": "light"
          }
        }
      ]
    },
    {
      "cell_type": "code",
      "metadata": {
        "colab": {
          "base_uri": "https://localhost:8080/"
        },
        "id": "-Fmiw_3HNP_L",
        "outputId": "5e49ed93-539e-4db2-8460-cff1bb80dea3"
      },
      "source": [
        "print (classification_report(y_test, y_pred, target_names=classes))\n",
        "print (accuracy_score(y_test, y_pred))"
      ],
      "execution_count": 89,
      "outputs": [
        {
          "output_type": "stream",
          "text": [
            "              precision    recall  f1-score   support\n",
            "\n",
            "          No       0.75      0.75      0.75      5620\n",
            "         Yes       0.75      0.75      0.75      5620\n",
            "\n",
            "    accuracy                           0.75     11240\n",
            "   macro avg       0.75      0.75      0.75     11240\n",
            "weighted avg       0.75      0.75      0.75     11240\n",
            "\n",
            "0.7491103202846975\n"
          ],
          "name": "stdout"
        }
      ]
    },
    {
      "cell_type": "markdown",
      "metadata": {
        "id": "8goH9eyLzctr"
      },
      "source": [
        "With the hiperparameter optimization we have improve the metrics in our model. Now we are going to discard the columns with less importance according with the feature importances we got above. \n",
        "\n",
        "The columns we are going to discard are the following ones:\n",
        "\n",
        "- 'Age_Menor 30'\n",
        "- 'Acc_Duración Determinada'\n",
        "- 'Acc_ETT'\n"
      ]
    },
    {
      "cell_type": "code",
      "metadata": {
        "id": "M8B4FkKfzvUs"
      },
      "source": [
        "\n",
        "X_reduced = staff[['Horas Presencia Efectiva Subcontratados',\n",
        "       'Horas Presencia Efectiva ETTs', 'Horas Formacion Seguridad Propios',\n",
        "       'Horas Formacion Seguridad ETTs',\n",
        "       'Gender_Hombre', 'T_Turno de mañana',\n",
        "       'T_Turno de noche', 'T_Turno de tarde', 'Age_Entre 30-50',\n",
        "       'Age_Mayor 50', \n",
        "       'Acc_Indefinido', 'Acc_Otros']]\n",
        "y_reduced = staff['Accident']"
      ],
      "execution_count": 90,
      "outputs": []
    },
    {
      "cell_type": "code",
      "metadata": {
        "colab": {
          "base_uri": "https://localhost:8080/"
        },
        "id": "KRfpKTZ20qrB",
        "outputId": "884c261b-7843-4056-8e40-81e32115ead1"
      },
      "source": [
        "oversample = SMOTE()\n",
        "\n",
        "X_reduced, y_reduced = oversample.fit_resample(X_reduced, y_reduced)\n",
        "\n",
        "from collections import Counter\n",
        "\n",
        "counter = Counter(y)\n",
        "\n",
        "for k, v in counter.items():\n",
        "  dist = v / len(y_reduced)* 100\n",
        "  print(f'Class={k}, n={v}, ({dist}%)')"
      ],
      "execution_count": 91,
      "outputs": [
        {
          "output_type": "stream",
          "text": [
            "/usr/local/lib/python3.7/dist-packages/sklearn/utils/deprecation.py:87: FutureWarning: Function safe_indexing is deprecated; safe_indexing is deprecated in version 0.22 and will be removed in version 0.24.\n",
            "  warnings.warn(msg, category=FutureWarning)\n"
          ],
          "name": "stderr"
        },
        {
          "output_type": "stream",
          "text": [
            "Class=1, n=17030, (50.0%)\n",
            "Class=0, n=17030, (50.0%)\n"
          ],
          "name": "stdout"
        }
      ]
    },
    {
      "cell_type": "code",
      "metadata": {
        "id": "3d_2pxxKzvHz"
      },
      "source": [
        "X_train_reduced, X_test_reduced, y_train_reduced, y_test_reduced = train_test_split(X_reduced, y_reduced, test_size=0.33, random_state=42)"
      ],
      "execution_count": 92,
      "outputs": []
    },
    {
      "cell_type": "markdown",
      "metadata": {
        "id": "0-tIN1E-04Vg"
      },
      "source": [
        "Now that we have our test and train datasets reduced by the most important columns, we are going to run again the algorithm to see if the metrics has improved.\n",
        "\n"
      ]
    },
    {
      "cell_type": "code",
      "metadata": {
        "colab": {
          "base_uri": "https://localhost:8080/"
        },
        "id": "WzDMOruB03b_",
        "outputId": "f1ddbac2-681c-4fed-fca3-a0596b3a5559"
      },
      "source": [
        "model = RandomForestClassifier(max_depth= 9 , min_samples_leaf= 1, min_samples_split= 5, n_estimators= 48)\n",
        "\n",
        "model.fit(X_train_reduced, y_train_reduced)"
      ],
      "execution_count": 93,
      "outputs": [
        {
          "output_type": "execute_result",
          "data": {
            "text/plain": [
              "RandomForestClassifier(bootstrap=True, ccp_alpha=0.0, class_weight=None,\n",
              "                       criterion='gini', max_depth=9, max_features='auto',\n",
              "                       max_leaf_nodes=None, max_samples=None,\n",
              "                       min_impurity_decrease=0.0, min_impurity_split=None,\n",
              "                       min_samples_leaf=1, min_samples_split=5,\n",
              "                       min_weight_fraction_leaf=0.0, n_estimators=48,\n",
              "                       n_jobs=None, oob_score=False, random_state=None,\n",
              "                       verbose=0, warm_start=False)"
            ]
          },
          "metadata": {
            "tags": []
          },
          "execution_count": 93
        }
      ]
    },
    {
      "cell_type": "code",
      "metadata": {
        "colab": {
          "base_uri": "https://localhost:8080/"
        },
        "id": "UHXl0XNa0KF_",
        "outputId": "4df88db0-9890-4dfc-8966-267453557f0a"
      },
      "source": [
        "model.score(X_test_reduced, y_test_reduced) ## as we can see the metric remain almost the same"
      ],
      "execution_count": 94,
      "outputs": [
        {
          "output_type": "execute_result",
          "data": {
            "text/plain": [
              "0.7327402135231317"
            ]
          },
          "metadata": {
            "tags": []
          },
          "execution_count": 94
        }
      ]
    },
    {
      "cell_type": "markdown",
      "metadata": {
        "id": "lzULlhzU3MA5"
      },
      "source": [
        "We are going to run again the GridSearchCv to find the best hiperparameters again and check the feature importances , but this time with the new X_reduced and y_reduced"
      ]
    },
    {
      "cell_type": "code",
      "metadata": {
        "id": "3l9FAWJp3mGZ"
      },
      "source": [
        "from sklearn.model_selection import GridSearchCV\n",
        "\n",
        "param_grid={\"min_samples_leaf\": [1,20], #min number of samples required at each leaf code\n",
        "            'n_estimators': [int(x) for x in np.linspace(start=10, stop=80, num=10)], # number of trees in random forest\n",
        "            'max_depth': np.arange(2,10), #number of levels in the tree\n",
        "            'min_samples_split': [2,5]} # min number of samples required to split a node "
      ],
      "execution_count": 95,
      "outputs": []
    },
    {
      "cell_type": "code",
      "metadata": {
        "id": "LwKVmwCt21ty"
      },
      "source": [
        "clf_rt = GridSearchCV(RandomForestClassifier(),\n",
        "                      param_grid=param_grid,cv = 3,scoring = \"accuracy\",n_jobs = 4, verbose = 2)"
      ],
      "execution_count": 96,
      "outputs": []
    },
    {
      "cell_type": "code",
      "metadata": {
        "colab": {
          "base_uri": "https://localhost:8080/"
        },
        "id": "WztYP96x3oB4",
        "outputId": "946e8100-c73c-4955-8cc3-4336fdf81332"
      },
      "source": [
        "clf_rt.fit(X_train_reduced, y_train_reduced)"
      ],
      "execution_count": 97,
      "outputs": [
        {
          "output_type": "stream",
          "text": [
            "Fitting 3 folds for each of 320 candidates, totalling 960 fits\n"
          ],
          "name": "stdout"
        },
        {
          "output_type": "stream",
          "text": [
            "[Parallel(n_jobs=4)]: Using backend LokyBackend with 4 concurrent workers.\n",
            "[Parallel(n_jobs=4)]: Done  33 tasks      | elapsed:    6.3s\n",
            "[Parallel(n_jobs=4)]: Done 154 tasks      | elapsed:   29.4s\n",
            "[Parallel(n_jobs=4)]: Done 357 tasks      | elapsed:  1.2min\n",
            "[Parallel(n_jobs=4)]: Done 640 tasks      | elapsed:  2.3min\n",
            "[Parallel(n_jobs=4)]: Done 960 out of 960 | elapsed:  3.7min finished\n"
          ],
          "name": "stderr"
        },
        {
          "output_type": "execute_result",
          "data": {
            "text/plain": [
              "GridSearchCV(cv=3, error_score=nan,\n",
              "             estimator=RandomForestClassifier(bootstrap=True, ccp_alpha=0.0,\n",
              "                                              class_weight=None,\n",
              "                                              criterion='gini', max_depth=None,\n",
              "                                              max_features='auto',\n",
              "                                              max_leaf_nodes=None,\n",
              "                                              max_samples=None,\n",
              "                                              min_impurity_decrease=0.0,\n",
              "                                              min_impurity_split=None,\n",
              "                                              min_samples_leaf=1,\n",
              "                                              min_samples_split=2,\n",
              "                                              min_weight_fraction_leaf=0.0,\n",
              "                                              n_estimators=100, n_jobs=None,\n",
              "                                              oob_score=False,\n",
              "                                              random_state=None, verbose=0,\n",
              "                                              warm_start=False),\n",
              "             iid='deprecated', n_jobs=4,\n",
              "             param_grid={'max_depth': array([2, 3, 4, 5, 6, 7, 8, 9]),\n",
              "                         'min_samples_leaf': [1, 20],\n",
              "                         'min_samples_split': [2, 5],\n",
              "                         'n_estimators': [10, 17, 25, 33, 41, 48, 56, 64, 72,\n",
              "                                          80]},\n",
              "             pre_dispatch='2*n_jobs', refit=True, return_train_score=False,\n",
              "             scoring='accuracy', verbose=2)"
            ]
          },
          "metadata": {
            "tags": []
          },
          "execution_count": 97
        }
      ]
    },
    {
      "cell_type": "code",
      "metadata": {
        "colab": {
          "base_uri": "https://localhost:8080/"
        },
        "id": "028XoI7P3Wih",
        "outputId": "167e1170-04c8-42e0-81f2-7ffffbd14a12"
      },
      "source": [
        "clf_rt.best_params_"
      ],
      "execution_count": 98,
      "outputs": [
        {
          "output_type": "execute_result",
          "data": {
            "text/plain": [
              "{'max_depth': 9,\n",
              " 'min_samples_leaf': 1,\n",
              " 'min_samples_split': 2,\n",
              " 'n_estimators': 64}"
            ]
          },
          "metadata": {
            "tags": []
          },
          "execution_count": 98
        }
      ]
    },
    {
      "cell_type": "code",
      "metadata": {
        "colab": {
          "base_uri": "https://localhost:8080/"
        },
        "id": "vKtY3Kuy5yar",
        "outputId": "3267eea2-b19f-4b33-a205-25d32b601b8a"
      },
      "source": [
        "#we run the model with the new parameters we just obtained\n",
        "\n",
        "model = RandomForestClassifier(max_depth= 9 , min_samples_leaf= 1, min_samples_split= 2, n_estimators= 17)\n",
        "\n",
        "model.fit(X_train_reduced, y_train_reduced)"
      ],
      "execution_count": 99,
      "outputs": [
        {
          "output_type": "execute_result",
          "data": {
            "text/plain": [
              "RandomForestClassifier(bootstrap=True, ccp_alpha=0.0, class_weight=None,\n",
              "                       criterion='gini', max_depth=9, max_features='auto',\n",
              "                       max_leaf_nodes=None, max_samples=None,\n",
              "                       min_impurity_decrease=0.0, min_impurity_split=None,\n",
              "                       min_samples_leaf=1, min_samples_split=2,\n",
              "                       min_weight_fraction_leaf=0.0, n_estimators=17,\n",
              "                       n_jobs=None, oob_score=False, random_state=None,\n",
              "                       verbose=0, warm_start=False)"
            ]
          },
          "metadata": {
            "tags": []
          },
          "execution_count": 99
        }
      ]
    },
    {
      "cell_type": "code",
      "metadata": {
        "colab": {
          "base_uri": "https://localhost:8080/"
        },
        "id": "TStaQHKT5o6A",
        "outputId": "ec3b27f5-e73a-4453-917a-c48ff2bb4dd8"
      },
      "source": [
        "clf_rf_good = clf_rt.best_estimator_\n",
        "clf_rf_good.feature_importances_\n"
      ],
      "execution_count": 100,
      "outputs": [
        {
          "output_type": "execute_result",
          "data": {
            "text/plain": [
              "array([0.07536112, 0.09052185, 0.30241278, 0.03473099, 0.12386429,\n",
              "       0.07744511, 0.15080154, 0.02679055, 0.01271392, 0.01417535,\n",
              "       0.03329791, 0.05788458])"
            ]
          },
          "metadata": {
            "tags": []
          },
          "execution_count": 100
        }
      ]
    },
    {
      "cell_type": "code",
      "metadata": {
        "colab": {
          "base_uri": "https://localhost:8080/"
        },
        "id": "QbLWIePl56u6",
        "outputId": "91aaea81-efc7-4565-cf5d-e6ef8aa166d5"
      },
      "source": [
        "model.score(X_test_reduced, y_test_reduced) #same score we didnt got any better"
      ],
      "execution_count": 101,
      "outputs": [
        {
          "output_type": "execute_result",
          "data": {
            "text/plain": [
              "0.7349644128113879"
            ]
          },
          "metadata": {
            "tags": []
          },
          "execution_count": 101
        }
      ]
    },
    {
      "cell_type": "code",
      "metadata": {
        "id": "9Vxv5pDX6tMK"
      },
      "source": [
        "y_predicted_red = model.predict(X_test_reduced)"
      ],
      "execution_count": 102,
      "outputs": []
    },
    {
      "cell_type": "code",
      "metadata": {
        "colab": {
          "base_uri": "https://localhost:8080/",
          "height": 370
        },
        "id": "6SsV1KJY6m46",
        "outputId": "c9dac0b4-d33f-423f-d3ee-b2c1296a2cb2"
      },
      "source": [
        "classes = ['No', 'Yes']\n",
        "plot_confusion_matrix(y_test_reduced, y_predicted_red, classes=classes, title='Confussion matrix for Random Forest ')"
      ],
      "execution_count": 103,
      "outputs": [
        {
          "output_type": "stream",
          "text": [
            "Confusion matrix, without normalization\n",
            "[[4099 1521]\n",
            " [1458 4162]]\n"
          ],
          "name": "stdout"
        },
        {
          "output_type": "execute_result",
          "data": {
            "text/plain": [
              "<matplotlib.axes._subplots.AxesSubplot at 0x7f52dbffb990>"
            ]
          },
          "metadata": {
            "tags": []
          },
          "execution_count": 103
        },
        {
          "output_type": "display_data",
          "data": {
            "image/png": "[encoded data removed]",
            "text/plain": [
              "<Figure size 432x288 with 2 Axes>"
            ]
          },
          "metadata": {
            "tags": [],
            "needs_background": "light"
          }
        }
      ]
    },
    {
      "cell_type": "code",
      "metadata": {
        "colab": {
          "base_uri": "https://localhost:8080/"
        },
        "id": "lcDKqd9062Jx",
        "outputId": "8bb04897-ecc6-4977-8e00-83d68545c347"
      },
      "source": [
        "print (classification_report(y_test_reduced, y_predicted_red, target_names=classes))\n",
        "print (accuracy_score(y_test_reduced, y_predicted_red))"
      ],
      "execution_count": 104,
      "outputs": [
        {
          "output_type": "stream",
          "text": [
            "              precision    recall  f1-score   support\n",
            "\n",
            "          No       0.74      0.73      0.73      5620\n",
            "         Yes       0.73      0.74      0.74      5620\n",
            "\n",
            "    accuracy                           0.73     11240\n",
            "   macro avg       0.73      0.73      0.73     11240\n",
            "weighted avg       0.73      0.73      0.73     11240\n",
            "\n",
            "0.7349644128113879\n"
          ],
          "name": "stdout"
        }
      ]
    },
    {
      "cell_type": "markdown",
      "metadata": {
        "id": "AkLb0u2nPDLh"
      },
      "source": [
        "### Ploting the learning curve from the Random Forest\n",
        "\n",
        "The learning curve visualize the effect of the number of observatiosn on the performance metric"
      ]
    },
    {
      "cell_type": "code",
      "metadata": {
        "id": "LSEUyyo_PFmd"
      },
      "source": [
        "from sklearn.model_selection import learning_curve"
      ],
      "execution_count": 105,
      "outputs": []
    },
    {
      "cell_type": "code",
      "metadata": {
        "colab": {
          "base_uri": "https://localhost:8080/"
        },
        "id": "j58Hwh92S5-x",
        "outputId": "0cae81b6-d440-4a1d-b7ed-300101f72ea7"
      },
      "source": [
        "train_sizes, train_scores, test_scores = learning_curve(RandomForestClassifier(), X, y, cv = 3, train_sizes=np.linspace(.1, 1.0, 5), scoring='accuracy', verbose=1)"
      ],
      "execution_count": 106,
      "outputs": [
        {
          "output_type": "stream",
          "text": [
            "[learning_curve] Training set sizes: [ 2270  7379 12488 17597 22706]\n"
          ],
          "name": "stdout"
        },
        {
          "output_type": "stream",
          "text": [
            "[Parallel(n_jobs=1)]: Using backend SequentialBackend with 1 concurrent workers.\n",
            "[Parallel(n_jobs=1)]: Done  15 out of  15 | elapsed:   11.9s finished\n"
          ],
          "name": "stderr"
        }
      ]
    },
    {
      "cell_type": "code",
      "metadata": {
        "colab": {
          "base_uri": "https://localhost:8080/"
        },
        "id": "7_c_zwQSS6BZ",
        "outputId": "1b5a6297-b565-4e2d-ba3c-850db4c84792"
      },
      "source": [
        "import numpy as np\n",
        "\n",
        "train_mean = np.mean(train_scores, axis = 1)\n",
        "train_mean"
      ],
      "execution_count": 107,
      "outputs": [
        {
          "output_type": "execute_result",
          "data": {
            "text/plain": [
              "array([1.        , 0.83692461, 0.81502242, 0.76961982, 0.7564814 ])"
            ]
          },
          "metadata": {
            "tags": []
          },
          "execution_count": 107
        }
      ]
    },
    {
      "cell_type": "code",
      "metadata": {
        "colab": {
          "base_uri": "https://localhost:8080/"
        },
        "id": "lmRf3Np0S6EN",
        "outputId": "c18a81f9-5fc4-4edc-f969-3535697e7f3e"
      },
      "source": [
        "train_std = np.std(train_scores, axis = 1)\n",
        "train_std"
      ],
      "execution_count": 108,
      "outputs": [
        {
          "output_type": "execute_result",
          "data": {
            "text/plain": [
              "array([0.        , 0.11531172, 0.06964727, 0.0056716 , 0.00484618])"
            ]
          },
          "metadata": {
            "tags": []
          },
          "execution_count": 108
        }
      ]
    },
    {
      "cell_type": "code",
      "metadata": {
        "colab": {
          "base_uri": "https://localhost:8080/"
        },
        "id": "IJqTvxZjS6G6",
        "outputId": "95281d9e-6469-45b5-b9b2-66fdf93c98cc"
      },
      "source": [
        "test_mean = np.mean (test_scores, axis = 1)\n",
        "test_mean"
      ],
      "execution_count": 109,
      "outputs": [
        {
          "output_type": "execute_result",
          "data": {
            "text/plain": [
              "array([0.5       , 0.65264688, 0.64621666, 0.72891975, 0.74835616])"
            ]
          },
          "metadata": {
            "tags": []
          },
          "execution_count": 109
        }
      ]
    },
    {
      "cell_type": "code",
      "metadata": {
        "colab": {
          "base_uri": "https://localhost:8080/"
        },
        "id": "NcH2hGqcUMmO",
        "outputId": "2b7d82fe-ca5f-4abb-d472-fbb023dd9530"
      },
      "source": [
        "test_std = np.std(test_scores, axis = 1)\n",
        "\n",
        "test_std"
      ],
      "execution_count": 110,
      "outputs": [
        {
          "output_type": "execute_result",
          "data": {
            "text/plain": [
              "array([3.59595077e-05, 1.07970438e-01, 9.87061299e-02, 4.76577019e-03,\n",
              "       7.72869014e-03])"
            ]
          },
          "metadata": {
            "tags": []
          },
          "execution_count": 110
        }
      ]
    },
    {
      "cell_type": "code",
      "metadata": {
        "colab": {
          "base_uri": "https://localhost:8080/",
          "height": 313
        },
        "id": "sMqkOY-BUMo-",
        "outputId": "1ac693ab-52f8-4c2a-ce61-4d2e3dbbeae3"
      },
      "source": [
        "plt.plot(train_sizes, train_mean, label = 'Trainning score') #train accuracy\n",
        "plt.plot(train_sizes, test_mean, label = 'Cross-Validation Score') #training accuracy\n",
        "\n",
        "plt.title('Learning Curve')\n",
        "plt.xlabel('Training Size')\n",
        "plt.ylabel('Accuracy Score')\n",
        "plt.legend(loc = 'best')"
      ],
      "execution_count": 111,
      "outputs": [
        {
          "output_type": "execute_result",
          "data": {
            "text/plain": [
              "<matplotlib.legend.Legend at 0x7f52dbf9c250>"
            ]
          },
          "metadata": {
            "tags": []
          },
          "execution_count": 111
        },
        {
          "output_type": "display_data",
          "data": {
            "image/png": "[encoded data removed]",
            "text/plain": [
              "<Figure size 432x288 with 1 Axes>"
            ]
          },
          "metadata": {
            "tags": [],
            "needs_background": "light"
          }
        }
      ]
    },
    {
      "cell_type": "markdown",
      "metadata": {
        "id": "FefwVNYqivfM"
      },
      "source": [
        "We are going to save the model"
      ]
    },
    {
      "cell_type": "code",
      "metadata": {
        "colab": {
          "base_uri": "https://localhost:8080/"
        },
        "id": "ATTCCb8Vi19M",
        "outputId": "b8ecded8-42bf-43bd-8fa3-6c1ab3df8d81"
      },
      "source": [
        "from google.colab import drive\n",
        "drive.mount('/content/gdrive')"
      ],
      "execution_count": 112,
      "outputs": [
        {
          "output_type": "stream",
          "text": [
            "Mounted at /content/gdrive\n"
          ],
          "name": "stdout"
        }
      ]
    },
    {
      "cell_type": "code",
      "metadata": {
        "id": "1eFlYAkDjYBR"
      },
      "source": [
        "import pickle"
      ],
      "execution_count": 113,
      "outputs": []
    },
    {
      "cell_type": "code",
      "metadata": {
        "id": "dS6uxVzGkS9p"
      },
      "source": [
        "pick_insert = open('gdrive/My Drive/Colab Notebooks/TFM Accidentabilidad/random_forest_model', 'wb')\n",
        "pickle.dump(model, pick_insert)\n",
        "pick_insert.close()"
      ],
      "execution_count": 114,
      "outputs": []
    },
    {
      "cell_type": "markdown",
      "metadata": {
        "id": "3_unior9tk7d"
      },
      "source": [
        "# XGBoost\n",
        "\n",
        "Now we are going to check the XGBoost algorithm efficacy"
      ]
    },
    {
      "cell_type": "code",
      "metadata": {
        "id": "ekq46qNUtkUI"
      },
      "source": [
        "from xgboost import XGBClassifier\n"
      ],
      "execution_count": 115,
      "outputs": []
    },
    {
      "cell_type": "code",
      "metadata": {
        "id": "vVGYnbzLws1E"
      },
      "source": [
        "param_grid={'max_depth': np.arange(2,10),\n",
        "             \"learning_rate\": [0.05],\n",
        "              \"n_estimators\": np.arange(100, 150, 10)}"
      ],
      "execution_count": 116,
      "outputs": []
    },
    {
      "cell_type": "code",
      "metadata": {
        "id": "y2WnMrcwtkbX"
      },
      "source": [
        "\n",
        "clf_xg = GridSearchCV(XGBClassifier(),\n",
        "                      param_grid = param_grid ,\n",
        "                      cv = 4,\n",
        "                      scoring = 'accuracy', verbose = 2,\n",
        "                      n_jobs = -1\n",
        "         )"
      ],
      "execution_count": 117,
      "outputs": []
    },
    {
      "cell_type": "code",
      "metadata": {
        "colab": {
          "base_uri": "https://localhost:8080/"
        },
        "id": "E8n0yYEotkeG",
        "outputId": "e90d1e6e-983d-4df9-b1b3-defce4dd841d"
      },
      "source": [
        "clf_xg.fit(X_train, y_train)\n"
      ],
      "execution_count": 118,
      "outputs": [
        {
          "output_type": "stream",
          "text": [
            "Fitting 4 folds for each of 40 candidates, totalling 160 fits\n"
          ],
          "name": "stdout"
        },
        {
          "output_type": "stream",
          "text": [
            "[Parallel(n_jobs=-1)]: Using backend LokyBackend with 2 concurrent workers.\n",
            "[Parallel(n_jobs=-1)]: Done  37 tasks      | elapsed:   29.2s\n",
            "[Parallel(n_jobs=-1)]: Done 160 out of 160 | elapsed:  4.4min finished\n"
          ],
          "name": "stderr"
        },
        {
          "output_type": "execute_result",
          "data": {
            "text/plain": [
              "GridSearchCV(cv=4, error_score=nan,\n",
              "             estimator=XGBClassifier(base_score=0.5, booster='gbtree',\n",
              "                                     colsample_bylevel=1, colsample_bynode=1,\n",
              "                                     colsample_bytree=1, gamma=0,\n",
              "                                     learning_rate=0.1, max_delta_step=0,\n",
              "                                     max_depth=3, min_child_weight=1,\n",
              "                                     missing=None, n_estimators=100, n_jobs=1,\n",
              "                                     nthread=None, objective='binary:logistic',\n",
              "                                     random_state=0, reg_alpha=0, reg_lambda=1,\n",
              "                                     scale_pos_weight=1, seed=None, silent=None,\n",
              "                                     subsample=1, verbosity=1),\n",
              "             iid='deprecated', n_jobs=-1,\n",
              "             param_grid={'learning_rate': [0.05],\n",
              "                         'max_depth': array([2, 3, 4, 5, 6, 7, 8, 9]),\n",
              "                         'n_estimators': array([100, 110, 120, 130, 140])},\n",
              "             pre_dispatch='2*n_jobs', refit=True, return_train_score=False,\n",
              "             scoring='accuracy', verbose=2)"
            ]
          },
          "metadata": {
            "tags": []
          },
          "execution_count": 118
        }
      ]
    },
    {
      "cell_type": "code",
      "metadata": {
        "colab": {
          "base_uri": "https://localhost:8080/"
        },
        "id": "6f141t62yyTe",
        "outputId": "9475e9a1-5877-4207-eb06-4d0037f28900"
      },
      "source": [
        "clf_xg.best_params_\n"
      ],
      "execution_count": 119,
      "outputs": [
        {
          "output_type": "execute_result",
          "data": {
            "text/plain": [
              "{'learning_rate': 0.05, 'max_depth': 9, 'n_estimators': 140}"
            ]
          },
          "metadata": {
            "tags": []
          },
          "execution_count": 119
        }
      ]
    },
    {
      "cell_type": "code",
      "metadata": {
        "colab": {
          "base_uri": "https://localhost:8080/"
        },
        "id": "7pjuRG72yyhV",
        "outputId": "03073fa0-bc72-4e03-fea2-bf4d94d6f1b7"
      },
      "source": [
        "clf_xg.best_score_\n"
      ],
      "execution_count": 120,
      "outputs": [
        {
          "output_type": "execute_result",
          "data": {
            "text/plain": [
              "0.7482909728308501"
            ]
          },
          "metadata": {
            "tags": []
          },
          "execution_count": 120
        }
      ]
    },
    {
      "cell_type": "code",
      "metadata": {
        "colab": {
          "base_uri": "https://localhost:8080/",
          "height": 370
        },
        "id": "ohxeUOaLyyk4",
        "outputId": "35c5088b-d761-418e-e9ed-fdd2ed74af05"
      },
      "source": [
        "\n",
        "clf_xgb_test = XGBClassifier(learning_rate = 0.05, max_depth = 8, n_estimators = 140)\n",
        "clf_xgb_test.fit(X_train, y_train)\n",
        "y_pred_xgb=clf_xgb_test.predict(X_test)\n",
        "classes = ['No', 'Yes']\n",
        "plot_confusion_matrix(y_test, y_pred, classes=classes, title='Confussion Matrix XGBoost')"
      ],
      "execution_count": 121,
      "outputs": [
        {
          "output_type": "stream",
          "text": [
            "Confusion matrix, without normalization\n",
            "[[4220 1400]\n",
            " [1420 4200]]\n"
          ],
          "name": "stdout"
        },
        {
          "output_type": "execute_result",
          "data": {
            "text/plain": [
              "<matplotlib.axes._subplots.AxesSubplot at 0x7f52d3137b50>"
            ]
          },
          "metadata": {
            "tags": []
          },
          "execution_count": 121
        },
        {
          "output_type": "display_data",
          "data": {
            "image/png": "[encoded data removed]",
            "text/plain": [
              "<Figure size 432x288 with 2 Axes>"
            ]
          },
          "metadata": {
            "tags": [],
            "needs_background": "light"
          }
        }
      ]
    },
    {
      "cell_type": "code",
      "metadata": {
        "colab": {
          "base_uri": "https://localhost:8080/"
        },
        "id": "UW_ienYA0jjs",
        "outputId": "158a0d7b-2913-4c68-bab4-93241f0d7a22"
      },
      "source": [
        "print (classification_report(y_test, y_pred, target_names=classes))\n",
        "print (accuracy_score(y_test, y_pred))"
      ],
      "execution_count": 122,
      "outputs": [
        {
          "output_type": "stream",
          "text": [
            "              precision    recall  f1-score   support\n",
            "\n",
            "          No       0.75      0.75      0.75      5620\n",
            "         Yes       0.75      0.75      0.75      5620\n",
            "\n",
            "    accuracy                           0.75     11240\n",
            "   macro avg       0.75      0.75      0.75     11240\n",
            "weighted avg       0.75      0.75      0.75     11240\n",
            "\n",
            "0.7491103202846975\n"
          ],
          "name": "stdout"
        }
      ]
    },
    {
      "cell_type": "markdown",
      "metadata": {
        "id": "WB1BSnUk2_Q4"
      },
      "source": [
        "# SVM : Support Vector Machine \n",
        "\n",
        "This machine learning methods are one of the best options when getting the correct answer is higher priority than understanding why you get that answer. \n",
        "\n",
        "As Support Vector Machines work well with small datasets and not awesome with large ones and it will take long time to optimize with Cross Validation. \n",
        "\n",
        "So, we will downsample both categories."
      ]
    },
    {
      "cell_type": "code",
      "metadata": {
        "colab": {
          "base_uri": "https://localhost:8080/"
        },
        "id": "2OydYupUTNlA",
        "outputId": "c572f6d4-a3b3-4a6b-f3ce-31467ea26750"
      },
      "source": [
        "staff_reduced_sv = staff[['Horas Presencia Efectiva Subcontratados',\n",
        "       'Horas Presencia Efectiva ETTs', 'Horas Formacion Seguridad Propios',\n",
        "       'Horas Formacion Seguridad ETTs',\n",
        "       'Gender_Hombre', 'T_Turno de mañana',\n",
        "       'T_Turno de noche', 'T_Turno de tarde', 'Age_Entre 30-50',\n",
        "       'Age_Mayor 50', \n",
        "       'Acc_Indefinido', 'Acc_Otros', 'Accident']]\n",
        "len(staff_reduced_sv)"
      ],
      "execution_count": 123,
      "outputs": [
        {
          "output_type": "execute_result",
          "data": {
            "text/plain": [
              "21210"
            ]
          },
          "metadata": {
            "tags": []
          },
          "execution_count": 123
        }
      ]
    },
    {
      "cell_type": "code",
      "metadata": {
        "colab": {
          "base_uri": "https://localhost:8080/"
        },
        "id": "9Ut9dn_LTcer",
        "outputId": "c52a7a9c-fac7-40c2-c6bd-3f51044b9d42"
      },
      "source": [
        "staff_reduced_sv['Accident'] = staff_reduced_sv['Accident'].astype('str')"
      ],
      "execution_count": 124,
      "outputs": [
        {
          "output_type": "stream",
          "text": [
            "/usr/local/lib/python3.7/dist-packages/ipykernel_launcher.py:1: SettingWithCopyWarning: \n",
            "A value is trying to be set on a copy of a slice from a DataFrame.\n",
            "Try using .loc[row_indexer,col_indexer] = value instead\n",
            "\n",
            "See the caveats in the documentation: https://pandas.pydata.org/pandas-docs/stable/user_guide/indexing.html#returning-a-view-versus-a-copy\n",
            "  \"\"\"Entry point for launching an IPython kernel.\n"
          ],
          "name": "stderr"
        }
      ]
    },
    {
      "cell_type": "code",
      "metadata": {
        "colab": {
          "base_uri": "https://localhost:8080/"
        },
        "id": "_Uw2-xpqCLux",
        "outputId": "39d96218-38ab-4bfc-b5f8-1ff5e4e44515"
      },
      "source": [
        "staff_reduced_sv['Accident'] = staff_reduced_sv['Accident'].apply(lambda x: x.replace('Yes', '1').replace('No', '0'))"
      ],
      "execution_count": 125,
      "outputs": [
        {
          "output_type": "stream",
          "text": [
            "/usr/local/lib/python3.7/dist-packages/ipykernel_launcher.py:1: SettingWithCopyWarning: \n",
            "A value is trying to be set on a copy of a slice from a DataFrame.\n",
            "Try using .loc[row_indexer,col_indexer] = value instead\n",
            "\n",
            "See the caveats in the documentation: https://pandas.pydata.org/pandas-docs/stable/user_guide/indexing.html#returning-a-view-versus-a-copy\n",
            "  \"\"\"Entry point for launching an IPython kernel.\n"
          ],
          "name": "stderr"
        }
      ]
    },
    {
      "cell_type": "code",
      "metadata": {
        "colab": {
          "base_uri": "https://localhost:8080/"
        },
        "id": "I67DVvJiC-aR",
        "outputId": "4083a9b3-cfad-4053-ff1d-1cbc748aa715"
      },
      "source": [
        "staff_reduced_sv['Accident'] = staff_reduced_sv['Accident'].astype(int)"
      ],
      "execution_count": 126,
      "outputs": [
        {
          "output_type": "stream",
          "text": [
            "/usr/local/lib/python3.7/dist-packages/ipykernel_launcher.py:1: SettingWithCopyWarning: \n",
            "A value is trying to be set on a copy of a slice from a DataFrame.\n",
            "Try using .loc[row_indexer,col_indexer] = value instead\n",
            "\n",
            "See the caveats in the documentation: https://pandas.pydata.org/pandas-docs/stable/user_guide/indexing.html#returning-a-view-versus-a-copy\n",
            "  \"\"\"Entry point for launching an IPython kernel.\n"
          ],
          "name": "stderr"
        }
      ]
    },
    {
      "cell_type": "code",
      "metadata": {
        "id": "WuX9ZA1CTgUH"
      },
      "source": [
        "yes_sv = staff_reduced_sv[staff_reduced_sv['Accident']==1]\n",
        "no_sv = staff_reduced_sv[staff_reduced_sv['Accident']==0]"
      ],
      "execution_count": 127,
      "outputs": []
    },
    {
      "cell_type": "code",
      "metadata": {
        "colab": {
          "base_uri": "https://localhost:8080/"
        },
        "id": "r7DIMZnSPBYp",
        "outputId": "75214be3-709b-4a22-f717-df333c82eee8"
      },
      "source": [
        "len(yes_sv)"
      ],
      "execution_count": 128,
      "outputs": [
        {
          "output_type": "execute_result",
          "data": {
            "text/plain": [
              "4180"
            ]
          },
          "metadata": {
            "tags": []
          },
          "execution_count": 128
        }
      ]
    },
    {
      "cell_type": "code",
      "metadata": {
        "id": "o0tRv9UIUPEI"
      },
      "source": [
        "from sklearn.utils import resample"
      ],
      "execution_count": 129,
      "outputs": []
    },
    {
      "cell_type": "code",
      "metadata": {
        "colab": {
          "base_uri": "https://localhost:8080/"
        },
        "id": "vLBZ8pV9TwwQ",
        "outputId": "d3354d99-d621-4173-f516-1e7e21078080"
      },
      "source": [
        "yes_sv_downsample = resample(yes_sv, \n",
        "                             replace=False,\n",
        "                             n_samples = 2000, random_state=42)\n",
        "\n",
        "len(yes_sv_downsample)"
      ],
      "execution_count": 130,
      "outputs": [
        {
          "output_type": "execute_result",
          "data": {
            "text/plain": [
              "2000"
            ]
          },
          "metadata": {
            "tags": []
          },
          "execution_count": 130
        }
      ]
    },
    {
      "cell_type": "code",
      "metadata": {
        "colab": {
          "base_uri": "https://localhost:8080/"
        },
        "id": "v1D0pGQFUY6e",
        "outputId": "819f9702-be77-4b78-a7e7-6208f22d18cb"
      },
      "source": [
        "no_sv_downsample = resample(no_sv, \n",
        "                             replace=False,\n",
        "                             n_samples = 2000,\n",
        "                             random_state=42)\n",
        "\n",
        "len(no_sv_downsample)"
      ],
      "execution_count": 131,
      "outputs": [
        {
          "output_type": "execute_result",
          "data": {
            "text/plain": [
              "2000"
            ]
          },
          "metadata": {
            "tags": []
          },
          "execution_count": 131
        }
      ]
    },
    {
      "cell_type": "code",
      "metadata": {
        "colab": {
          "base_uri": "https://localhost:8080/"
        },
        "id": "0Blfg0TxUdlM",
        "outputId": "60f8d92e-1a67-4f24-8d77-613de83f8491"
      },
      "source": [
        "sv_downsample = pd.concat([no_sv_downsample, yes_sv_downsample])\n",
        "len(sv_downsample)"
      ],
      "execution_count": 132,
      "outputs": [
        {
          "output_type": "execute_result",
          "data": {
            "text/plain": [
              "4000"
            ]
          },
          "metadata": {
            "tags": []
          },
          "execution_count": 132
        }
      ]
    },
    {
      "cell_type": "code",
      "metadata": {
        "colab": {
          "base_uri": "https://localhost:8080/",
          "height": 223
        },
        "id": "E5Y_WJjIU1PO",
        "outputId": "1f9d55d0-a7ef-4c32-86b7-30a7e0448266"
      },
      "source": [
        "X_sv = sv_downsample.drop('Accident', axis = 1).copy()\n",
        "X_sv.head()"
      ],
      "execution_count": 133,
      "outputs": [
        {
          "output_type": "execute_result",
          "data": {
            "text/html": [
              "<div>\n",
              "<style scoped>\n",
              "    .dataframe tbody tr th:only-of-type {\n",
              "        vertical-align: middle;\n",
              "    }\n",
              "\n",
              "    .dataframe tbody tr th {\n",
              "        vertical-align: top;\n",
              "    }\n",
              "\n",
              "    .dataframe thead th {\n",
              "        text-align: right;\n",
              "    }\n",
              "</style>\n",
              "<table border=\"1\" class=\"dataframe\">\n",
              "  <thead>\n",
              "    <tr style=\"text-align: right;\">\n",
              "      <th></th>\n",
              "      <th>Horas Presencia Efectiva Subcontratados</th>\n",
              "      <th>Horas Presencia Efectiva ETTs</th>\n",
              "      <th>Horas Formacion Seguridad Propios</th>\n",
              "      <th>Horas Formacion Seguridad ETTs</th>\n",
              "      <th>Gender_Hombre</th>\n",
              "      <th>T_Turno de mañana</th>\n",
              "      <th>T_Turno de noche</th>\n",
              "      <th>T_Turno de tarde</th>\n",
              "      <th>Age_Entre 30-50</th>\n",
              "      <th>Age_Mayor 50</th>\n",
              "      <th>Acc_Indefinido</th>\n",
              "      <th>Acc_Otros</th>\n",
              "    </tr>\n",
              "  </thead>\n",
              "  <tbody>\n",
              "    <tr>\n",
              "      <th>16293</th>\n",
              "      <td>25249.0</td>\n",
              "      <td>42485.0</td>\n",
              "      <td>1419.0</td>\n",
              "      <td>829.0</td>\n",
              "      <td>1</td>\n",
              "      <td>0</td>\n",
              "      <td>0</td>\n",
              "      <td>1</td>\n",
              "      <td>0</td>\n",
              "      <td>1</td>\n",
              "      <td>0</td>\n",
              "      <td>1</td>\n",
              "    </tr>\n",
              "    <tr>\n",
              "      <th>17332</th>\n",
              "      <td>0.0</td>\n",
              "      <td>0.0</td>\n",
              "      <td>0.0</td>\n",
              "      <td>0.0</td>\n",
              "      <td>1</td>\n",
              "      <td>1</td>\n",
              "      <td>0</td>\n",
              "      <td>0</td>\n",
              "      <td>0</td>\n",
              "      <td>1</td>\n",
              "      <td>1</td>\n",
              "      <td>0</td>\n",
              "    </tr>\n",
              "    <tr>\n",
              "      <th>6016</th>\n",
              "      <td>25685.0</td>\n",
              "      <td>18303.0</td>\n",
              "      <td>1151.0</td>\n",
              "      <td>152.0</td>\n",
              "      <td>1</td>\n",
              "      <td>0</td>\n",
              "      <td>1</td>\n",
              "      <td>0</td>\n",
              "      <td>1</td>\n",
              "      <td>0</td>\n",
              "      <td>1</td>\n",
              "      <td>0</td>\n",
              "    </tr>\n",
              "    <tr>\n",
              "      <th>4239</th>\n",
              "      <td>0.0</td>\n",
              "      <td>0.0</td>\n",
              "      <td>1500.0</td>\n",
              "      <td>0.0</td>\n",
              "      <td>1</td>\n",
              "      <td>0</td>\n",
              "      <td>1</td>\n",
              "      <td>0</td>\n",
              "      <td>1</td>\n",
              "      <td>0</td>\n",
              "      <td>0</td>\n",
              "      <td>1</td>\n",
              "    </tr>\n",
              "    <tr>\n",
              "      <th>7913</th>\n",
              "      <td>25685.0</td>\n",
              "      <td>18303.0</td>\n",
              "      <td>1151.0</td>\n",
              "      <td>152.0</td>\n",
              "      <td>1</td>\n",
              "      <td>0</td>\n",
              "      <td>0</td>\n",
              "      <td>1</td>\n",
              "      <td>1</td>\n",
              "      <td>0</td>\n",
              "      <td>0</td>\n",
              "      <td>1</td>\n",
              "    </tr>\n",
              "  </tbody>\n",
              "</table>\n",
              "</div>"
            ],
            "text/plain": [
              "       Horas Presencia Efectiva Subcontratados  ...  Acc_Otros\n",
              "16293                                  25249.0  ...          1\n",
              "17332                                      0.0  ...          0\n",
              "6016                                   25685.0  ...          0\n",
              "4239                                       0.0  ...          1\n",
              "7913                                   25685.0  ...          1\n",
              "\n",
              "[5 rows x 12 columns]"
            ]
          },
          "metadata": {
            "tags": []
          },
          "execution_count": 133
        }
      ]
    },
    {
      "cell_type": "code",
      "metadata": {
        "colab": {
          "base_uri": "https://localhost:8080/"
        },
        "id": "WD1V_fh9VCqp",
        "outputId": "27419790-0601-4025-bcfb-95c2da950128"
      },
      "source": [
        "y_sv = sv_downsample['Accident'].copy()\n",
        "y_sv.head()"
      ],
      "execution_count": 134,
      "outputs": [
        {
          "output_type": "execute_result",
          "data": {
            "text/plain": [
              "16293    0\n",
              "17332    0\n",
              "6016     0\n",
              "4239     0\n",
              "7913     0\n",
              "Name: Accident, dtype: int64"
            ]
          },
          "metadata": {
            "tags": []
          },
          "execution_count": 134
        }
      ]
    },
    {
      "cell_type": "code",
      "metadata": {
        "id": "rlWWVjzdV1DV"
      },
      "source": [
        "# we are going to split and scale the data\n",
        "\n",
        "from sklearn.preprocessing import scale"
      ],
      "execution_count": 135,
      "outputs": []
    },
    {
      "cell_type": "code",
      "metadata": {
        "id": "frqMevWwVctO"
      },
      "source": [
        "X_train_sv, X_test_sv, y_train_sv, y_test_sv = train_test_split(X_sv, y_sv, random_state = 42)\n",
        "\n",
        "X_train_sv_scaled = scale(X_train_sv)\n",
        "X_test_sv_scaled = scale(X_test_sv)"
      ],
      "execution_count": 136,
      "outputs": []
    },
    {
      "cell_type": "code",
      "metadata": {
        "id": "z3nNPSfc2qu9",
        "colab": {
          "base_uri": "https://localhost:8080/"
        },
        "outputId": "e894c2c7-122c-42f0-acf8-9c7e4c4d6f0e"
      },
      "source": [
        "from sklearn.svm import SVC\n",
        "from sklearn.model_selection import GridSearchCV\n",
        "\n",
        "clf_svm = SVC(random_state=42)\n",
        "clf_svm.fit(X_train_sv_scaled, y_train_sv)\n"
      ],
      "execution_count": 137,
      "outputs": [
        {
          "output_type": "execute_result",
          "data": {
            "text/plain": [
              "SVC(C=1.0, break_ties=False, cache_size=200, class_weight=None, coef0=0.0,\n",
              "    decision_function_shape='ovr', degree=3, gamma='scale', kernel='rbf',\n",
              "    max_iter=-1, probability=False, random_state=42, shrinking=True, tol=0.001,\n",
              "    verbose=False)"
            ]
          },
          "metadata": {
            "tags": []
          },
          "execution_count": 137
        }
      ]
    },
    {
      "cell_type": "code",
      "metadata": {
        "id": "n2c-8Itau93Q",
        "colab": {
          "base_uri": "https://localhost:8080/",
          "height": 297
        },
        "outputId": "079cf67c-935c-45b2-a9d2-b8b7bddcddba"
      },
      "source": [
        "from sklearn.metrics import confusion_matrix\n",
        "from sklearn.metrics import plot_confusion_matrix\n",
        "\n",
        "plot_confusion_matrix(clf_svm, X_test_sv_scaled, y_test_sv, values_format='d', display_labels=['No', 'Yes'])"
      ],
      "execution_count": 138,
      "outputs": [
        {
          "output_type": "execute_result",
          "data": {
            "text/plain": [
              "<sklearn.metrics._plot.confusion_matrix.ConfusionMatrixDisplay at 0x7f52dbee8d50>"
            ]
          },
          "metadata": {
            "tags": []
          },
          "execution_count": 138
        },
        {
          "output_type": "display_data",
          "data": {
            "image/png": "[encoded data removed]",
            "text/plain": [
              "<Figure size 432x288 with 2 Axes>"
            ]
          },
          "metadata": {
            "tags": [],
            "needs_background": "light"
          }
        }
      ]
    },
    {
      "cell_type": "code",
      "metadata": {
        "id": "vJ2BMDIK9CQF"
      },
      "source": [
        "y_pred_svm=clf_svm.predict(X_test_sv_scaled)\n"
      ],
      "execution_count": 139,
      "outputs": []
    },
    {
      "cell_type": "code",
      "metadata": {
        "colab": {
          "base_uri": "https://localhost:8080/"
        },
        "id": "FhsiL_Ln8-Mo",
        "outputId": "88ec22f1-56c1-4c5d-c94f-4e334ee2b5ed"
      },
      "source": [
        "classes = ['No', 'Yes']\n",
        "print (classification_report(y_test_sv, y_pred_svm, target_names=classes))\n",
        "print (accuracy_score(y_test_sv, y_pred_svm))"
      ],
      "execution_count": 140,
      "outputs": [
        {
          "output_type": "stream",
          "text": [
            "              precision    recall  f1-score   support\n",
            "\n",
            "          No       0.72      0.71      0.71       524\n",
            "         Yes       0.68      0.70      0.69       476\n",
            "\n",
            "    accuracy                           0.70      1000\n",
            "   macro avg       0.70      0.70      0.70      1000\n",
            "weighted avg       0.70      0.70      0.70      1000\n",
            "\n",
            "0.703\n"
          ],
          "name": "stdout"
        }
      ]
    },
    {
      "cell_type": "markdown",
      "metadata": {
        "id": "KJmHH1SjXv5s"
      },
      "source": [
        "We are going to try improve the parameters using cross validation and GridSearchCv"
      ]
    },
    {
      "cell_type": "code",
      "metadata": {
        "id": "on3QigZ7p3Iy"
      },
      "source": [
        "param_grid = [{\n",
        "    'C':[0.5, 1, 10, 100],\n",
        "    'gamma':['scale', 1,0.1,0.01,0.001,0.0001],\n",
        "    'kernel':['rbf']\n",
        "},]"
      ],
      "execution_count": 141,
      "outputs": []
    },
    {
      "cell_type": "code",
      "metadata": {
        "id": "9bIWwxEKp3Mk"
      },
      "source": [
        "optimal_params = GridSearchCV(\n",
        "    SVC(), \n",
        "    param_grid, \n",
        "    cv = 5, \n",
        "    scoring = 'accuracy'\n",
        ")"
      ],
      "execution_count": 142,
      "outputs": []
    },
    {
      "cell_type": "code",
      "metadata": {
        "colab": {
          "base_uri": "https://localhost:8080/"
        },
        "id": "sXRIeR89p3TB",
        "outputId": "ade00dbd-6da2-4251-883f-09ef75136602"
      },
      "source": [
        "optimal_params.fit(X_train_sv_scaled, y_train_sv)"
      ],
      "execution_count": 143,
      "outputs": [
        {
          "output_type": "execute_result",
          "data": {
            "text/plain": [
              "GridSearchCV(cv=5, error_score=nan,\n",
              "             estimator=SVC(C=1.0, break_ties=False, cache_size=200,\n",
              "                           class_weight=None, coef0=0.0,\n",
              "                           decision_function_shape='ovr', degree=3,\n",
              "                           gamma='scale', kernel='rbf', max_iter=-1,\n",
              "                           probability=False, random_state=None, shrinking=True,\n",
              "                           tol=0.001, verbose=False),\n",
              "             iid='deprecated', n_jobs=None,\n",
              "             param_grid=[{'C': [0.5, 1, 10, 100],\n",
              "                          'gamma': ['scale', 1, 0.1, 0.01, 0.001, 0.0001],\n",
              "                          'kernel': ['rbf']}],\n",
              "             pre_dispatch='2*n_jobs', refit=True, return_train_score=False,\n",
              "             scoring='accuracy', verbose=0)"
            ]
          },
          "metadata": {
            "tags": []
          },
          "execution_count": 143
        }
      ]
    },
    {
      "cell_type": "code",
      "metadata": {
        "colab": {
          "base_uri": "https://localhost:8080/"
        },
        "id": "s2fcTkbgYlhS",
        "outputId": "dbeafae1-3f43-48d6-d112-48f94cb49ff0"
      },
      "source": [
        "print(optimal_params.best_params_)"
      ],
      "execution_count": 144,
      "outputs": [
        {
          "output_type": "stream",
          "text": [
            "{'C': 1, 'gamma': 'scale', 'kernel': 'rbf'}\n"
          ],
          "name": "stdout"
        }
      ]
    },
    {
      "cell_type": "code",
      "metadata": {
        "id": "V9PVvjJxYpli"
      },
      "source": [
        "#now that we got our idel parameters we are going to run again the model with them and check it has improved"
      ],
      "execution_count": 145,
      "outputs": []
    },
    {
      "cell_type": "code",
      "metadata": {
        "colab": {
          "base_uri": "https://localhost:8080/"
        },
        "id": "hfE9tcDwYpuN",
        "outputId": "e2075a5b-60d2-4a41-ec36-72d5e67865c9"
      },
      "source": [
        "clf_svm = SVC(random_state=42, C =10, gamma='scale', kernel='rbf')\n",
        "clf_svm.fit(X_train_sv_scaled, y_train_sv)"
      ],
      "execution_count": 146,
      "outputs": [
        {
          "output_type": "execute_result",
          "data": {
            "text/plain": [
              "SVC(C=10, break_ties=False, cache_size=200, class_weight=None, coef0=0.0,\n",
              "    decision_function_shape='ovr', degree=3, gamma='scale', kernel='rbf',\n",
              "    max_iter=-1, probability=False, random_state=42, shrinking=True, tol=0.001,\n",
              "    verbose=False)"
            ]
          },
          "metadata": {
            "tags": []
          },
          "execution_count": 146
        }
      ]
    },
    {
      "cell_type": "code",
      "metadata": {
        "colab": {
          "base_uri": "https://localhost:8080/",
          "height": 297
        },
        "id": "hDzv8E_CYp0O",
        "outputId": "e89c3591-0f67-415b-fd3b-9a628ea06aeb"
      },
      "source": [
        "plot_confusion_matrix(clf_svm, X_test_sv_scaled, y_test_sv, values_format='d', display_labels=['No', 'Yes'])"
      ],
      "execution_count": 147,
      "outputs": [
        {
          "output_type": "execute_result",
          "data": {
            "text/plain": [
              "<sklearn.metrics._plot.confusion_matrix.ConfusionMatrixDisplay at 0x7f52d3017d90>"
            ]
          },
          "metadata": {
            "tags": []
          },
          "execution_count": 147
        },
        {
          "output_type": "display_data",
          "data": {
            "image/png": "[encoded data removed]",
            "text/plain": [
              "<Figure size 432x288 with 2 Axes>"
            ]
          },
          "metadata": {
            "tags": [],
            "needs_background": "light"
          }
        }
      ]
    },
    {
      "cell_type": "code",
      "metadata": {
        "id": "sSeD-l7U-Ox7"
      },
      "source": [
        "def plot_confusion_matrix(y_true, y_pred, classes,\n",
        "                          normalize=False,\n",
        "                          title=None,\n",
        "                          cmap=plt.cm.Blues):\n",
        "    \"\"\"\n",
        "    This function prints and plots the confusion matrix.\n",
        "    Normalization can be applied by setting `normalize=True`.\n",
        "    \"\"\"\n",
        "    if not title:\n",
        "        if normalize:\n",
        "            title = 'Normalized confusion matrix'\n",
        "        else:\n",
        "            title = 'Confusion matrix, without normalization'\n",
        "\n",
        "    # Compute confusion matrix\n",
        "    cm = confusion_matrix(y_true, y_pred)\n",
        "    # Only use the labels that appear in the data\n",
        "    #classes = classes[unique_labels(y_true, y_pred)]\n",
        "    if normalize:\n",
        "        cm = cm.astype('float') / cm.sum(axis=1)[:, np.newaxis]\n",
        "        print(\"Normalized confusion matrix\")\n",
        "    else:\n",
        "        print('Confusion matrix, without normalization')\n",
        "\n",
        "    print(cm)\n",
        "\n",
        "    fig, ax = plt.subplots()\n",
        "    im = ax.imshow(cm, interpolation='nearest', cmap=cmap)\n",
        "    ax.figure.colorbar(im, ax=ax)\n",
        "    # We want to show all ticks...\n",
        "    ax.set(xticks=np.arange(cm.shape[1]),\n",
        "           yticks=np.arange(cm.shape[0]),\n",
        "           # ... and label them with the respective list entries\n",
        "           xticklabels=classes, yticklabels=classes,\n",
        "           title=title,\n",
        "           ylabel='True label',\n",
        "           xlabel='Predicted label')\n",
        "\n",
        "    # Rotate the tick labels and set their alignment.\n",
        "    plt.setp(ax.get_xticklabels(), rotation=45, ha=\"right\",\n",
        "             rotation_mode=\"anchor\")\n",
        "\n",
        "    # Loop over data dimensions and create text annotations.\n",
        "    fmt = '.2f' if normalize else 'd'\n",
        "    thresh = cm.max() / 2.\n",
        "    for i in range(cm.shape[0]):\n",
        "        for j in range(cm.shape[1]):\n",
        "            ax.text(j, i, format(cm[i, j], fmt),\n",
        "                    ha=\"center\", va=\"center\",\n",
        "                    color= \"black\")\n",
        "    fig.tight_layout()\n",
        "    return ax"
      ],
      "execution_count": 148,
      "outputs": []
    },
    {
      "cell_type": "code",
      "metadata": {
        "id": "3WKw4h5t9urT"
      },
      "source": [
        "y_pred_svm=clf_svm.predict(X_test_sv_scaled)\n"
      ],
      "execution_count": 149,
      "outputs": []
    },
    {
      "cell_type": "code",
      "metadata": {
        "colab": {
          "base_uri": "https://localhost:8080/",
          "height": 370
        },
        "id": "GDYGzBx995OF",
        "outputId": "7130088c-6f44-43fd-b62a-41f789cc12fe"
      },
      "source": [
        "classes = ['No', 'Yes']\n",
        "plot_confusion_matrix(y_test_sv, y_pred_svm, classes=classes, title='Confussion Matrix XGBoost')"
      ],
      "execution_count": 150,
      "outputs": [
        {
          "output_type": "stream",
          "text": [
            "Confusion matrix, without normalization\n",
            "[[366 158]\n",
            " [147 329]]\n"
          ],
          "name": "stdout"
        },
        {
          "output_type": "execute_result",
          "data": {
            "text/plain": [
              "<matplotlib.axes._subplots.AxesSubplot at 0x7f52d2f43490>"
            ]
          },
          "metadata": {
            "tags": []
          },
          "execution_count": 150
        },
        {
          "output_type": "display_data",
          "data": {
            "image/png": "[encoded data removed]",
            "text/plain": [
              "<Figure size 432x288 with 2 Axes>"
            ]
          },
          "metadata": {
            "tags": [],
            "needs_background": "light"
          }
        }
      ]
    },
    {
      "cell_type": "code",
      "metadata": {
        "colab": {
          "base_uri": "https://localhost:8080/"
        },
        "id": "Rw7xMJk59yba",
        "outputId": "d516a4ad-57be-43ab-b027-b5e7067df011"
      },
      "source": [
        "\n",
        "print (classification_report(y_test_sv, y_pred_svm, target_names=classes))\n",
        "print (accuracy_score(y_test_sv, y_pred_svm))"
      ],
      "execution_count": 151,
      "outputs": [
        {
          "output_type": "stream",
          "text": [
            "              precision    recall  f1-score   support\n",
            "\n",
            "          No       0.71      0.70      0.71       524\n",
            "         Yes       0.68      0.69      0.68       476\n",
            "\n",
            "    accuracy                           0.69      1000\n",
            "   macro avg       0.69      0.69      0.69      1000\n",
            "weighted avg       0.70      0.69      0.70      1000\n",
            "\n",
            "0.695\n"
          ],
          "name": "stdout"
        }
      ]
    },
    {
      "cell_type": "markdown",
      "metadata": {
        "id": "-7S7Wcs09gWB"
      },
      "source": [
        "#Ensembles: voting, bagging, boosting, stacking\n",
        "\n",
        "An Ensemble is a combination of machine learning models, each model makes a different prediction, the different predictions get combined to obtain a unique prediction. We are going to try voting and bagging techniques to see if we are able to increase our predictions\n",
        "\n",
        "- Voting: each model makes a prediction, the final prediction will be the one voted by more models.\n",
        "- Bagging : fit several models and average their predicitions in order to obtain a model with lower variance\n",
        "\n",
        "\n",
        "## Voting : Logistic regression, random forest and Naive Bayes"
      ]
    },
    {
      "cell_type": "code",
      "metadata": {
        "id": "aLLadHD7_23f"
      },
      "source": [
        "from sklearn.ensemble import VotingClassifier\n",
        "from sklearn.naive_bayes import GaussianNB\n",
        "from sklearn import model_selection"
      ],
      "execution_count": 152,
      "outputs": []
    },
    {
      "cell_type": "code",
      "metadata": {
        "id": "PkkVADZ8Ax2r"
      },
      "source": [
        "X = staff[['Horas Presencia Efectiva Subcontratados',\n",
        "       'Horas Presencia Efectiva ETTs', 'Horas Formacion Seguridad Propios',\n",
        "       'Horas Formacion Seguridad ETTs',\n",
        "       'Gender_Hombre', 'T_Turno de mañana',\n",
        "       'T_Turno de noche', 'T_Turno de tarde', 'Age_Entre 30-50',\n",
        "       'Age_Mayor 50', \n",
        "       'Acc_Indefinido', 'Acc_Otros']]\n",
        "\n",
        "y = staff['Accident']"
      ],
      "execution_count": 153,
      "outputs": []
    },
    {
      "cell_type": "code",
      "metadata": {
        "colab": {
          "base_uri": "https://localhost:8080/"
        },
        "id": "0M-kBQvAAons",
        "outputId": "875dc3b3-78ed-4309-f23c-f18bfaa14612"
      },
      "source": [
        "from imblearn.over_sampling import SMOTE\n",
        "oversample = SMOTE()\n",
        "\n",
        "X, y = oversample.fit_resample(X, y)\n",
        "\n",
        "from collections import Counter\n",
        "\n",
        "counter = Counter(y)\n",
        "\n",
        "for k, v in counter.items():\n",
        "  dist = v / len(y)* 100\n",
        "  print(f'Class={k}, n={v}, ({dist}%)')\n",
        "\n",
        "X_train, X_test, y_train, y_test = train_test_split(X, y, test_size=0.33, random_state=42)"
      ],
      "execution_count": 154,
      "outputs": [
        {
          "output_type": "stream",
          "text": [
            "/usr/local/lib/python3.7/dist-packages/sklearn/utils/deprecation.py:87: FutureWarning: Function safe_indexing is deprecated; safe_indexing is deprecated in version 0.22 and will be removed in version 0.24.\n",
            "  warnings.warn(msg, category=FutureWarning)\n"
          ],
          "name": "stderr"
        },
        {
          "output_type": "stream",
          "text": [
            "Class=Yes, n=17030, (50.0%)\n",
            "Class=No, n=17030, (50.0%)\n"
          ],
          "name": "stdout"
        }
      ]
    },
    {
      "cell_type": "code",
      "metadata": {
        "id": "irgNPQAV9gBG"
      },
      "source": [
        "labels = ['Logistic Regression', 'Random Forest', 'Naive Bayes',]\n",
        "clf1 = LogisticRegression(random_state=1)\n",
        "clf2 = RandomForestClassifier(random_state=1)\n",
        "clf3 = GaussianNB()\n"
      ],
      "execution_count": 155,
      "outputs": []
    },
    {
      "cell_type": "code",
      "metadata": {
        "id": "-D5NgNYFCL82"
      },
      "source": [
        "## we create now the voting classifier, trying the hard voting\n",
        "# Hard voting classifiers consider the class output and then takes the majority\n",
        "\n",
        "voting_clf_hard = VotingClassifier(estimators=[(labels[0], clf1),\n",
        "                                               (labels[1], clf2),\n",
        "                                               (labels[2], clf3)],\n",
        "                                   voting = 'hard')\n"
      ],
      "execution_count": 156,
      "outputs": []
    },
    {
      "cell_type": "code",
      "metadata": {
        "id": "WNM9MdHEB9kd"
      },
      "source": [
        "## we create now the voting classifier, trying the soft voting.\n",
        "#Soft voting classifiers takes a probability score and then averages out the probabilities\n",
        "\n",
        "voting_clf_soft = VotingClassifier(estimators=[(labels[0], clf1),\n",
        "                                               (labels[1], clf2),\n",
        "                                               (labels[2], clf3)],\n",
        "                                   voting = 'soft')"
      ],
      "execution_count": 157,
      "outputs": []
    },
    {
      "cell_type": "markdown",
      "metadata": {
        "id": "EuYr0Q7FD34q"
      },
      "source": [
        "As we can see we couldnt increase the result from the random forest using these 3 models, but with the soft voting we increase the average of all"
      ]
    },
    {
      "cell_type": "code",
      "metadata": {
        "colab": {
          "base_uri": "https://localhost:8080/"
        },
        "id": "2u8jyemkB9vO",
        "outputId": "7feac8d1-6cbf-4a43-e67a-5211fcc2030a"
      },
      "source": [
        "labels_two = ['Logistic Regression', 'Random Forest', 'Naive Bayes', 'Voting_Classifier_Hard', 'Voting_Classifier_Soft']\n",
        "\n",
        "for clf, label in zip([clf1, clf2, clf3, voting_clf_hard, voting_clf_soft], labels_two):\n",
        "\n",
        "  scores = model_selection.cross_val_score(clf, X, y, \n",
        "                                           cv = 5, \n",
        "                                           scoring='accuracy')\n",
        "  print('Accuracy : %0.2f (+/- %0.2f) [%s]' % (scores.mean(), scores.std(), label))"
      ],
      "execution_count": 158,
      "outputs": [
        {
          "output_type": "stream",
          "text": [
            "Accuracy : 0.67 (+/- 0.01) [Logistic Regression]\n",
            "Accuracy : 0.74 (+/- 0.01) [Random Forest]\n",
            "Accuracy : 0.58 (+/- 0.00) [Naive Bayes]\n",
            "Accuracy : 0.70 (+/- 0.00) [Voting_Classifier_Hard]\n",
            "Accuracy : 0.71 (+/- 0.01) [Voting_Classifier_Soft]\n"
          ],
          "name": "stdout"
        }
      ]
    },
    {
      "cell_type": "markdown",
      "metadata": {
        "id": "SuVYKSSgEGQi"
      },
      "source": [
        "## Voting : Random Forest, XGBoost and Decision Tree\n",
        "\n",
        "We are going to try again but with the models we achieved best results and the hiperparameters we used: Random Forest, XGBoost and Decision Tree"
      ]
    },
    {
      "cell_type": "code",
      "metadata": {
        "id": "TVOp4mvHEEQ7"
      },
      "source": [
        "from xgboost import XGBClassifier\n",
        "from sklearn.tree import DecisionTreeClassifier\n",
        "from sklearn.ensemble import RandomForestClassifier\n",
        "\n",
        "\n",
        "clf1 = XGBClassifier(learning_rate = 0.05, max_depth = 8, n_estimators = 140)\n",
        "clf2 = RandomForestClassifier(max_depth= 9 , min_samples_leaf= 1, min_samples_split= 2, n_estimators= 17)\n",
        "clf3 = DecisionTreeClassifier()\n",
        "\n",
        "labels = ['XGBoost', 'Random Forest', 'Decision Tree']"
      ],
      "execution_count": 159,
      "outputs": []
    },
    {
      "cell_type": "code",
      "metadata": {
        "id": "QPrKMvVPFwbv"
      },
      "source": [
        "voting_clf_hard = VotingClassifier(estimators=[(labels[0], clf1),\n",
        "                                               (labels[1], clf2),\n",
        "                                               (labels[2], clf3)],\n",
        "                                   voting = 'hard')"
      ],
      "execution_count": 160,
      "outputs": []
    },
    {
      "cell_type": "code",
      "metadata": {
        "id": "y34xH0rsFwlT"
      },
      "source": [
        "voting_clf_soft = VotingClassifier(estimators=[(labels[0], clf1),\n",
        "                                               (labels[1], clf2),\n",
        "                                               (labels[2], clf3)],\n",
        "                                   voting = 'soft')"
      ],
      "execution_count": 161,
      "outputs": []
    },
    {
      "cell_type": "markdown",
      "metadata": {
        "id": "tlw4jmlqGNVZ"
      },
      "source": [
        "As we can see below we are not able to increase the accuracy by combining these models"
      ]
    },
    {
      "cell_type": "code",
      "metadata": {
        "colab": {
          "base_uri": "https://localhost:8080/"
        },
        "id": "m1yXlVn3F1nT",
        "outputId": "f7a750c3-52a7-499b-e493-ea1ebe7744a0"
      },
      "source": [
        "labels_two = ['XGBoost', 'Random Forest', 'Decision Tree', 'Voting_Classifier_Hard', 'Voting_Classifier_Soft']\n",
        "\n",
        "for clf, label in zip([clf1, clf2, clf3, voting_clf_hard, voting_clf_soft], labels_two):\n",
        "\n",
        "  scores = model_selection.cross_val_score(clf, X, y, \n",
        "                                           cv = 5, \n",
        "                                           scoring='accuracy')\n",
        "  print('Accuracy : %0.2f (+/- %0.2f) [%s]' % (scores.mean(), scores.std(), label))"
      ],
      "execution_count": 162,
      "outputs": [
        {
          "output_type": "stream",
          "text": [
            "Accuracy : 0.74 (+/- 0.01) [XGBoost]\n",
            "Accuracy : 0.73 (+/- 0.01) [Random Forest]\n",
            "Accuracy : 0.74 (+/- 0.01) [Decision Tree]\n",
            "Accuracy : 0.74 (+/- 0.01) [Voting_Classifier_Hard]\n",
            "Accuracy : 0.74 (+/- 0.01) [Voting_Classifier_Soft]\n"
          ],
          "name": "stdout"
        }
      ]
    },
    {
      "cell_type": "markdown",
      "metadata": {
        "id": "1I0mE60lGbDG"
      },
      "source": [
        "Lets see in detail the results obtained by the Voting Classifiers"
      ]
    },
    {
      "cell_type": "code",
      "metadata": {
        "colab": {
          "base_uri": "https://localhost:8080/",
          "height": 370
        },
        "id": "_RBYylhMGgrO",
        "outputId": "80287656-57d3-4216-d385-54999a210bf5"
      },
      "source": [
        "voting_clf_hard.fit(X_train, y_train)\n",
        "y_pred_hard = voting_clf_hard.predict(X_test)\n",
        "classes = ['No', 'Yes']\n",
        "plot_confusion_matrix(y_test, y_pred_hard, classes=classes, title='Hard Votting Classifier')"
      ],
      "execution_count": 163,
      "outputs": [
        {
          "output_type": "stream",
          "text": [
            "Confusion matrix, without normalization\n",
            "[[4127 1493]\n",
            " [1451 4169]]\n"
          ],
          "name": "stdout"
        },
        {
          "output_type": "execute_result",
          "data": {
            "text/plain": [
              "<matplotlib.axes._subplots.AxesSubplot at 0x7f52d2eb1ed0>"
            ]
          },
          "metadata": {
            "tags": []
          },
          "execution_count": 163
        },
        {
          "output_type": "display_data",
          "data": {
            "image/png": "[encoded data removed]",
            "text/plain": [
              "<Figure size 432x288 with 2 Axes>"
            ]
          },
          "metadata": {
            "tags": [],
            "needs_background": "light"
          }
        }
      ]
    },
    {
      "cell_type": "code",
      "metadata": {
        "colab": {
          "base_uri": "https://localhost:8080/"
        },
        "id": "fWpVhIOMHB1V",
        "outputId": "5485da4e-cd47-4d0e-8c0d-f829d423c509"
      },
      "source": [
        "print (classification_report(y_test, y_pred_hard, target_names=classes))\n",
        "print (accuracy_score(y_test, y_pred_hard))"
      ],
      "execution_count": 164,
      "outputs": [
        {
          "output_type": "stream",
          "text": [
            "              precision    recall  f1-score   support\n",
            "\n",
            "          No       0.74      0.73      0.74      5620\n",
            "         Yes       0.74      0.74      0.74      5620\n",
            "\n",
            "    accuracy                           0.74     11240\n",
            "   macro avg       0.74      0.74      0.74     11240\n",
            "weighted avg       0.74      0.74      0.74     11240\n",
            "\n",
            "0.7380782918149467\n"
          ],
          "name": "stdout"
        }
      ]
    },
    {
      "cell_type": "code",
      "metadata": {
        "colab": {
          "base_uri": "https://localhost:8080/",
          "height": 370
        },
        "id": "rRx-ZzBlHJQE",
        "outputId": "54936b3e-1df3-4573-9a1d-27748f39106d"
      },
      "source": [
        "voting_clf_soft.fit(X_train, y_train)\n",
        "y_pred_soft = voting_clf_soft.predict(X_test)\n",
        "classes = ['No', 'Yes']\n",
        "plot_confusion_matrix(y_test, y_pred_soft, classes=classes, title='Soft Votting Classifier')"
      ],
      "execution_count": 165,
      "outputs": [
        {
          "output_type": "stream",
          "text": [
            "Confusion matrix, without normalization\n",
            "[[4155 1465]\n",
            " [1458 4162]]\n"
          ],
          "name": "stdout"
        },
        {
          "output_type": "execute_result",
          "data": {
            "text/plain": [
              "<matplotlib.axes._subplots.AxesSubplot at 0x7f52d2ddbe90>"
            ]
          },
          "metadata": {
            "tags": []
          },
          "execution_count": 165
        },
        {
          "output_type": "display_data",
          "data": {
            "image/png": "[encoded data removed]",
            "text/plain": [
              "<Figure size 432x288 with 2 Axes>"
            ]
          },
          "metadata": {
            "tags": [],
            "needs_background": "light"
          }
        }
      ]
    },
    {
      "cell_type": "code",
      "metadata": {
        "colab": {
          "base_uri": "https://localhost:8080/"
        },
        "id": "0BATsaO_HJXt",
        "outputId": "0ebb2829-7f43-4b42-a0bd-0fc25f177dfb"
      },
      "source": [
        "print (classification_report(y_test, y_pred_soft, target_names=classes))\n",
        "print (accuracy_score(y_test, y_pred_soft))"
      ],
      "execution_count": 166,
      "outputs": [
        {
          "output_type": "stream",
          "text": [
            "              precision    recall  f1-score   support\n",
            "\n",
            "          No       0.74      0.74      0.74      5620\n",
            "         Yes       0.74      0.74      0.74      5620\n",
            "\n",
            "    accuracy                           0.74     11240\n",
            "   macro avg       0.74      0.74      0.74     11240\n",
            "weighted avg       0.74      0.74      0.74     11240\n",
            "\n",
            "0.7399466192170818\n"
          ],
          "name": "stdout"
        }
      ]
    },
    {
      "cell_type": "markdown",
      "metadata": {
        "id": "WP_yZTweIul2"
      },
      "source": [
        "#Bagging or Bootstrap Aggregation: Random Forest\n",
        "\n"
      ]
    },
    {
      "cell_type": "code",
      "metadata": {
        "id": "0Px9MhzWLx6p"
      },
      "source": [
        "from sklearn.ensemble import BaggingClassifier\n",
        "from sklearn.model_selection import cross_val_score\n",
        "from sklearn.model_selection import RepeatedStratifiedKFold"
      ],
      "execution_count": 167,
      "outputs": []
    },
    {
      "cell_type": "code",
      "metadata": {
        "colab": {
          "base_uri": "https://localhost:8080/"
        },
        "id": "q5j78X6tMPmR",
        "outputId": "18930a45-6ab8-4412-a15c-68b6f5e5d872"
      },
      "source": [
        "## we are going to start running the model with the basic parameters. As we can see the result is good comparing with the other models we run, although it is not better\n",
        "\n",
        "model = BaggingClassifier()\n",
        "\n",
        "cv = RepeatedStratifiedKFold(n_splits=5, n_repeats=2, random_state=0)\n",
        "score = cross_val_score(model, X, y, scoring='accuracy', cv = cv, n_jobs=-1)\n",
        "\n",
        "print(f\"Mean accuracy: {np.mean(score):.3f} \\nstd: {np.std(score):.3f}\")"
      ],
      "execution_count": 168,
      "outputs": [
        {
          "output_type": "stream",
          "text": [
            "Mean accuracy: 0.739 \n",
            "std: 0.004\n"
          ],
          "name": "stdout"
        }
      ]
    },
    {
      "cell_type": "code",
      "metadata": {
        "colab": {
          "base_uri": "https://localhost:8080/"
        },
        "id": "qHZPCyWSNZLN",
        "outputId": "071e8f13-c272-47cc-866b-8aaf1bf80cda"
      },
      "source": [
        "## lets try to increase the results with other hiperparameters\n",
        "\n",
        "\n",
        "model = BaggingClassifier(base_estimator=DecisionTreeClassifier(min_samples_leaf=1, max_depth=9), n_estimators=400)\n",
        "\n",
        "score = cross_val_score(model, X, y, scoring='accuracy', cv = 10, n_jobs=-1)\n",
        "\n",
        "print(f\"Mean accuracy: {np.mean(score):.3f} \\nstd: {np.std(score):.3f}\")"
      ],
      "execution_count": 169,
      "outputs": [
        {
          "output_type": "stream",
          "text": [
            "Mean accuracy: 0.733 \n",
            "std: 0.009\n"
          ],
          "name": "stdout"
        }
      ]
    },
    {
      "cell_type": "markdown",
      "metadata": {
        "id": "pVU8wXdJoGH-"
      },
      "source": [
        "# Neural Network\n",
        "\n",
        "We are going to try to run a neural network and check if our model gets better"
      ]
    },
    {
      "cell_type": "code",
      "metadata": {
        "id": "oBmpCpwHoOTM"
      },
      "source": [
        "import keras\n",
        "from keras import layers\n",
        "from keras import models\n",
        "from keras import optimizers\n",
        "from keras import losses\n",
        "from keras import metrics\n",
        "from keras import utils\n"
      ],
      "execution_count": 170,
      "outputs": []
    },
    {
      "cell_type": "code",
      "metadata": {
        "id": "j4ZYYk-cPEtC"
      },
      "source": [
        "X = staff[['Horas Presencia Efectiva Subcontratados',\n",
        "       'Horas Presencia Efectiva ETTs', 'Horas Formacion Seguridad Propios',\n",
        "       'Horas Formacion Seguridad ETTs',\n",
        "       'Gender_Hombre', 'T_Turno de mañana',\n",
        "       'T_Turno de noche', 'T_Turno de tarde', 'Age_Entre 30-50',\n",
        "       'Age_Mayor 50', 'Age_Menor 30',\n",
        "        'Acc_Duración Determinada', 'Acc_ETT',\n",
        "       'Acc_Indefinido', 'Acc_Otros']]\n",
        "\n",
        "\n",
        "y = staff['Accident']\n",
        "\n",
        "\n"
      ],
      "execution_count": 171,
      "outputs": []
    },
    {
      "cell_type": "code",
      "metadata": {
        "id": "gyi_ZRWjQzo0"
      },
      "source": [
        "y= y.replace('Yes',1).replace('No', 0)"
      ],
      "execution_count": 172,
      "outputs": []
    },
    {
      "cell_type": "code",
      "metadata": {
        "colab": {
          "base_uri": "https://localhost:8080/"
        },
        "id": "YdHk_njiPlqQ",
        "outputId": "8aa94da7-2d2c-412e-8614-dc99f2284c19"
      },
      "source": [
        "from imblearn.over_sampling import SMOTE\n",
        "oversample = SMOTE()\n",
        "\n",
        "X, y = oversample.fit_resample(X, y)\n",
        "\n",
        "from collections import Counter\n",
        "\n",
        "counter = Counter(y)\n",
        "\n",
        "for k, v in counter.items():\n",
        "  dist = v / len(y)* 100\n",
        "  print(f'Class={k}, n={v}, ({dist}%)')\n",
        "\n",
        "X_train, X_test, y_train, y_test = train_test_split(X, y, test_size=0.33, random_state=42)"
      ],
      "execution_count": 173,
      "outputs": [
        {
          "output_type": "stream",
          "text": [
            "/usr/local/lib/python3.7/dist-packages/sklearn/utils/deprecation.py:87: FutureWarning: Function safe_indexing is deprecated; safe_indexing is deprecated in version 0.22 and will be removed in version 0.24.\n",
            "  warnings.warn(msg, category=FutureWarning)\n"
          ],
          "name": "stderr"
        },
        {
          "output_type": "stream",
          "text": [
            "Class=1, n=17030, (50.0%)\n",
            "Class=0, n=17030, (50.0%)\n"
          ],
          "name": "stdout"
        }
      ]
    },
    {
      "cell_type": "code",
      "metadata": {
        "colab": {
          "base_uri": "https://localhost:8080/"
        },
        "id": "_PsBDR-jqAA8",
        "outputId": "da09d29d-d00a-420f-b794-7693d8d44e08"
      },
      "source": [
        "X_train.shape"
      ],
      "execution_count": 174,
      "outputs": [
        {
          "output_type": "execute_result",
          "data": {
            "text/plain": [
              "(22820, 15)"
            ]
          },
          "metadata": {
            "tags": []
          },
          "execution_count": 174
        }
      ]
    },
    {
      "cell_type": "code",
      "metadata": {
        "id": "AvAYVRirsz_X"
      },
      "source": [
        "model = keras.Sequential([\n",
        "                          keras.layers.Dense(32, input_shape=(15,), activation='relu'),\n",
        "                          keras.layers.Dense(16, activation='relu'),\n",
        "                          keras.layers.Dense(2, activation='softmax')\n",
        "])"
      ],
      "execution_count": 175,
      "outputs": []
    },
    {
      "cell_type": "code",
      "metadata": {
        "id": "7tfTtbfAtUKV"
      },
      "source": [
        "model.compile(optimizer=optimizers.RMSprop(), \n",
        "              loss='sparse_categorical_crossentropy',\n",
        "              metrics=[metrics.categorical_accuracy])"
      ],
      "execution_count": 176,
      "outputs": []
    },
    {
      "cell_type": "code",
      "metadata": {
        "colab": {
          "base_uri": "https://localhost:8080/"
        },
        "id": "K-sNaYfYtUxR",
        "outputId": "0f786490-2629-4efe-b78b-68ebcddff0c8"
      },
      "source": [
        "model.summary()"
      ],
      "execution_count": 177,
      "outputs": [
        {
          "output_type": "stream",
          "text": [
            "Model: \"sequential\"\n",
            "_________________________________________________________________\n",
            "Layer (type)                 Output Shape              Param #   \n",
            "=================================================================\n",
            "dense (Dense)                (None, 32)                512       \n",
            "_________________________________________________________________\n",
            "dense_1 (Dense)              (None, 16)                528       \n",
            "_________________________________________________________________\n",
            "dense_2 (Dense)              (None, 2)                 34        \n",
            "=================================================================\n",
            "Total params: 1,074\n",
            "Trainable params: 1,074\n",
            "Non-trainable params: 0\n",
            "_________________________________________________________________\n"
          ],
          "name": "stdout"
        }
      ]
    },
    {
      "cell_type": "code",
      "metadata": {
        "colab": {
          "base_uri": "https://localhost:8080/"
        },
        "id": "wBXeZ14BQ653",
        "outputId": "d3839659-6f37-4cd4-98cd-3e2fd2414c63"
      },
      "source": [
        "y_train"
      ],
      "execution_count": 178,
      "outputs": [
        {
          "output_type": "execute_result",
          "data": {
            "text/plain": [
              "array([0, 0, 0, ..., 0, 1, 0])"
            ]
          },
          "metadata": {
            "tags": []
          },
          "execution_count": 178
        }
      ]
    },
    {
      "cell_type": "code",
      "metadata": {
        "colab": {
          "base_uri": "https://localhost:8080/"
        },
        "id": "vieuoGihtU5F",
        "outputId": "e5ee9657-e4b6-41d8-b0a7-1f04ac55537f"
      },
      "source": [
        "h = model.fit(X_train,y_train, epochs=30,  batch_size=10, validation_split=.2)"
      ],
      "execution_count": 179,
      "outputs": [
        {
          "output_type": "stream",
          "text": [
            "Epoch 1/30\n",
            "1826/1826 [==============================] - 16s 2ms/step - loss: 128.1794 - categorical_accuracy: 0.5529 - val_loss: 112.0285 - val_categorical_accuracy: 0.9479\n",
            "Epoch 2/30\n",
            "1826/1826 [==============================] - 3s 2ms/step - loss: 58.6636 - categorical_accuracy: 0.5678 - val_loss: 30.5777 - val_categorical_accuracy: 0.8819\n",
            "Epoch 3/30\n",
            "1826/1826 [==============================] - 3s 2ms/step - loss: 32.0345 - categorical_accuracy: 0.5869 - val_loss: 12.8258 - val_categorical_accuracy: 0.3950\n",
            "Epoch 4/30\n",
            "1826/1826 [==============================] - 3s 2ms/step - loss: 14.0949 - categorical_accuracy: 0.5704 - val_loss: 5.2619 - val_categorical_accuracy: 0.4406\n",
            "Epoch 5/30\n",
            "1826/1826 [==============================] - 3s 2ms/step - loss: 5.5288 - categorical_accuracy: 0.5274 - val_loss: 1.2465 - val_categorical_accuracy: 0.2897\n",
            "Epoch 6/30\n",
            "1826/1826 [==============================] - 3s 2ms/step - loss: 2.1776 - categorical_accuracy: 0.3921 - val_loss: 0.6152 - val_categorical_accuracy: 0.3883\n",
            "Epoch 7/30\n",
            "1826/1826 [==============================] - 3s 1ms/step - loss: 0.6845 - categorical_accuracy: 0.3523 - val_loss: 0.6175 - val_categorical_accuracy: 0.3639\n",
            "Epoch 8/30\n",
            "1826/1826 [==============================] - 3s 1ms/step - loss: 0.6640 - categorical_accuracy: 0.3724 - val_loss: 0.7276 - val_categorical_accuracy: 0.3804\n",
            "Epoch 9/30\n",
            "1826/1826 [==============================] - 3s 2ms/step - loss: 0.6824 - categorical_accuracy: 0.3499 - val_loss: 0.6176 - val_categorical_accuracy: 0.3642\n",
            "Epoch 10/30\n",
            "1826/1826 [==============================] - 3s 2ms/step - loss: 0.6676 - categorical_accuracy: 0.3661 - val_loss: 0.6275 - val_categorical_accuracy: 0.3740\n",
            "Epoch 11/30\n",
            "1826/1826 [==============================] - 3s 2ms/step - loss: 0.6570 - categorical_accuracy: 0.3387 - val_loss: 0.6320 - val_categorical_accuracy: 0.3740\n",
            "Epoch 12/30\n",
            "1826/1826 [==============================] - 3s 2ms/step - loss: 0.6674 - categorical_accuracy: 0.3574 - val_loss: 0.6217 - val_categorical_accuracy: 0.2546\n",
            "Epoch 13/30\n",
            "1826/1826 [==============================] - 3s 2ms/step - loss: 0.6583 - categorical_accuracy: 0.3341 - val_loss: 0.6121 - val_categorical_accuracy: 0.3455\n",
            "Epoch 14/30\n",
            "1826/1826 [==============================] - 3s 2ms/step - loss: 0.6954 - categorical_accuracy: 0.3362 - val_loss: 0.6436 - val_categorical_accuracy: 0.2993\n",
            "Epoch 15/30\n",
            "1826/1826 [==============================] - 3s 2ms/step - loss: 0.6775 - categorical_accuracy: 0.3391 - val_loss: 0.6526 - val_categorical_accuracy: 0.2910\n",
            "Epoch 16/30\n",
            "1826/1826 [==============================] - 3s 2ms/step - loss: 0.6575 - categorical_accuracy: 0.3487 - val_loss: 0.6347 - val_categorical_accuracy: 0.2715\n",
            "Epoch 17/30\n",
            "1826/1826 [==============================] - 3s 2ms/step - loss: 0.6563 - categorical_accuracy: 0.3243 - val_loss: 0.7269 - val_categorical_accuracy: 0.3609\n",
            "Epoch 18/30\n",
            "1826/1826 [==============================] - 3s 2ms/step - loss: 0.6767 - categorical_accuracy: 0.3447 - val_loss: 1.8827 - val_categorical_accuracy: 0.5660\n",
            "Epoch 19/30\n",
            "1826/1826 [==============================] - 3s 2ms/step - loss: 0.6499 - categorical_accuracy: 0.3378 - val_loss: 0.6217 - val_categorical_accuracy: 0.3431\n",
            "Epoch 20/30\n",
            "1826/1826 [==============================] - 3s 2ms/step - loss: 0.6467 - categorical_accuracy: 0.3499 - val_loss: 0.6630 - val_categorical_accuracy: 0.3795\n",
            "Epoch 21/30\n",
            "1826/1826 [==============================] - 3s 2ms/step - loss: 0.6496 - categorical_accuracy: 0.3415 - val_loss: 0.6306 - val_categorical_accuracy: 0.3501\n",
            "Epoch 22/30\n",
            "1826/1826 [==============================] - 3s 2ms/step - loss: 0.6283 - categorical_accuracy: 0.3494 - val_loss: 0.6126 - val_categorical_accuracy: 0.2686\n",
            "Epoch 23/30\n",
            "1826/1826 [==============================] - 3s 2ms/step - loss: 0.6358 - categorical_accuracy: 0.3181 - val_loss: 0.6844 - val_categorical_accuracy: 0.4680\n",
            "Epoch 24/30\n",
            "1826/1826 [==============================] - 3s 2ms/step - loss: 0.6587 - categorical_accuracy: 0.3313 - val_loss: 0.6431 - val_categorical_accuracy: 0.3293\n",
            "Epoch 25/30\n",
            "1826/1826 [==============================] - 3s 2ms/step - loss: 0.6311 - categorical_accuracy: 0.3283 - val_loss: 0.6333 - val_categorical_accuracy: 0.3688\n",
            "Epoch 26/30\n",
            "1826/1826 [==============================] - 3s 2ms/step - loss: 0.6339 - categorical_accuracy: 0.3384 - val_loss: 0.6267 - val_categorical_accuracy: 0.3639\n",
            "Epoch 27/30\n",
            "1826/1826 [==============================] - 3s 2ms/step - loss: 0.6541 - categorical_accuracy: 0.3419 - val_loss: 0.6186 - val_categorical_accuracy: 0.3727\n",
            "Epoch 28/30\n",
            "1826/1826 [==============================] - 3s 2ms/step - loss: 0.6706 - categorical_accuracy: 0.3561 - val_loss: 0.6591 - val_categorical_accuracy: 0.2851\n",
            "Epoch 29/30\n",
            "1826/1826 [==============================] - 3s 1ms/step - loss: 0.6655 - categorical_accuracy: 0.3396 - val_loss: 0.6124 - val_categorical_accuracy: 0.2647\n",
            "Epoch 30/30\n",
            "1826/1826 [==============================] - 3s 2ms/step - loss: 0.6417 - categorical_accuracy: 0.3307 - val_loss: 0.6162 - val_categorical_accuracy: 0.2686\n"
          ],
          "name": "stdout"
        }
      ]
    },
    {
      "cell_type": "code",
      "metadata": {
        "id": "a0vq9oRItU_s",
        "colab": {
          "base_uri": "https://localhost:8080/"
        },
        "outputId": "b813689c-c63f-4dde-8a63-4cff74c23af3"
      },
      "source": [
        "test_loss, test_acc = model.evaluate(X_test, y_test, verbose=2)\n",
        "\n",
        "print('\\nTest accuracy:', test_acc) "
      ],
      "execution_count": 180,
      "outputs": [
        {
          "output_type": "stream",
          "text": [
            "352/352 - 0s - loss: 0.6214 - categorical_accuracy: 0.2754\n",
            "\n",
            "Test accuracy: 0.2754448354244232\n"
          ],
          "name": "stdout"
        }
      ]
    },
    {
      "cell_type": "code",
      "metadata": {
        "id": "ZEa4RBVwvJC3"
      },
      "source": [
        "# we are going to use this function we learn during the master to plot the learning\n",
        "\n",
        "def plot_metric(history, metric):\n",
        "    history_dict = history.history\n",
        "    values = history_dict[metric]\n",
        "    if 'val_' + metric in history_dict.keys():  \n",
        "        val_values = history_dict['val_' + metric]\n",
        "\n",
        "    epochs = range(1, len(values) + 1)\n",
        "\n",
        "    if 'val_' + metric in history_dict.keys():  \n",
        "        plt.plot(epochs, val_values, label='Validation')\n",
        "    plt.semilogy(epochs, values, label='Training')\n",
        "\n",
        "    if 'val_' + metric in history_dict.keys():  \n",
        "        plt.title('Training and validation %s' % metric)\n",
        "    else:\n",
        "        plt.title('Training %s' % metric)\n",
        "    plt.xlabel('Epochs')\n",
        "    plt.ylabel(metric.capitalize())\n",
        "    plt.legend()\n",
        "    plt.grid()\n",
        "\n",
        "    plt.show()"
      ],
      "execution_count": 181,
      "outputs": []
    },
    {
      "cell_type": "code",
      "metadata": {
        "id": "ZBFOdcSrvJlO",
        "colab": {
          "base_uri": "https://localhost:8080/",
          "height": 295
        },
        "outputId": "16dd464b-1bec-4b4e-ccd1-f482fe1e9ebd"
      },
      "source": [
        "plot_metric(h, 'loss')"
      ],
      "execution_count": 182,
      "outputs": [
        {
          "output_type": "display_data",
          "data": {
            "image/png": "[encoded data removed]",
            "text/plain": [
              "<Figure size 432x288 with 1 Axes>"
            ]
          },
          "metadata": {
            "tags": [],
            "needs_background": "light"
          }
        }
      ]
    },
    {
      "cell_type": "code",
      "metadata": {
        "id": "vn_D4f3-ma1Q",
        "colab": {
          "base_uri": "https://localhost:8080/",
          "height": 295
        },
        "outputId": "f4b16e05-b5e1-45ec-ae86-7526562cf570"
      },
      "source": [
        "plot_metric(h, 'categorical_accuracy')"
      ],
      "execution_count": 183,
      "outputs": [
        {
          "output_type": "display_data",
          "data": {
            "image/png": "[encoded data removed]",
            "text/plain": [
              "<Figure size 432x288 with 1 Axes>"
            ]
          },
          "metadata": {
            "tags": [],
            "needs_background": "light"
          }
        }
      ]
    },
    {
      "cell_type": "markdown",
      "metadata": {
        "id": "RDpf7jq6j2Kg"
      },
      "source": [
        "We are going to normalize the data in order to achieve better results"
      ]
    },
    {
      "cell_type": "code",
      "metadata": {
        "id": "WOUEQoUtkDJE"
      },
      "source": [
        "X_reduced = staff[['Horas Presencia Efectiva Subcontratados',\n",
        "       'Horas Presencia Efectiva ETTs', 'Horas Formacion Seguridad Propios',\n",
        "       'Horas Formacion Seguridad ETTs',\n",
        "       'Gender_Hombre', 'T_Turno de mañana',\n",
        "       'T_Turno de noche', 'T_Turno de tarde', 'Age_Entre 30-50',\n",
        "       'Age_Mayor 50', \n",
        "       'Acc_Indefinido', 'Acc_Otros']]\n",
        "y_reduced = staff['Accident'].copy()"
      ],
      "execution_count": 184,
      "outputs": []
    },
    {
      "cell_type": "code",
      "metadata": {
        "id": "Ipi1-P_pFyLN"
      },
      "source": [
        "y_reduced = y_reduced.replace('Yes', 1).replace('No', 0)"
      ],
      "execution_count": 185,
      "outputs": []
    },
    {
      "cell_type": "code",
      "metadata": {
        "id": "x2zeC8f9kjI8"
      },
      "source": [
        "def normalize(df):\n",
        "\n",
        "  for column in df.columns:\n",
        "    X_reduced[column] = X_reduced[column]  / X_reduced[column].max()"
      ],
      "execution_count": 186,
      "outputs": []
    },
    {
      "cell_type": "code",
      "metadata": {
        "id": "r2uxbgpRx8t7",
        "colab": {
          "base_uri": "https://localhost:8080/"
        },
        "outputId": "5f99fec6-2027-4634-bbbd-39143dc791e6"
      },
      "source": [
        "len(X_reduced.columns)"
      ],
      "execution_count": 187,
      "outputs": [
        {
          "output_type": "execute_result",
          "data": {
            "text/plain": [
              "12"
            ]
          },
          "metadata": {
            "tags": []
          },
          "execution_count": 187
        }
      ]
    },
    {
      "cell_type": "code",
      "metadata": {
        "id": "FzIhLrlDkjQr",
        "colab": {
          "base_uri": "https://localhost:8080/"
        },
        "outputId": "96b1456b-4c92-4abe-a4ac-975c98f9fc82"
      },
      "source": [
        "normalize(X_reduced)"
      ],
      "execution_count": 188,
      "outputs": [
        {
          "output_type": "stream",
          "text": [
            "/usr/local/lib/python3.7/dist-packages/ipykernel_launcher.py:4: SettingWithCopyWarning: \n",
            "A value is trying to be set on a copy of a slice from a DataFrame.\n",
            "Try using .loc[row_indexer,col_indexer] = value instead\n",
            "\n",
            "See the caveats in the documentation: https://pandas.pydata.org/pandas-docs/stable/user_guide/indexing.html#returning-a-view-versus-a-copy\n",
            "  after removing the cwd from sys.path.\n"
          ],
          "name": "stderr"
        }
      ]
    },
    {
      "cell_type": "code",
      "metadata": {
        "id": "LTsdukw84AM9"
      },
      "source": [
        "y_reduced_r = y_reduced.replace('Yes','1').replace('No', '0')"
      ],
      "execution_count": 189,
      "outputs": []
    },
    {
      "cell_type": "code",
      "metadata": {
        "id": "XDUj617klStg"
      },
      "source": [
        "X_train_norm, X_test_norm, y_train_norm, y_test_norm = train_test_split(X_reduced, y_reduced_r, test_size=0.33, random_state=42)"
      ],
      "execution_count": 190,
      "outputs": []
    },
    {
      "cell_type": "code",
      "metadata": {
        "id": "9MXeFmCKzWBF"
      },
      "source": [
        "model = keras.Sequential([\n",
        "                          keras.layers.Dense(32, input_shape=(12,), activation='relu'),\n",
        "                          keras.layers.Dense(16, activation='relu'),\n",
        "                          keras.layers.Dense(2, activation='softmax') #the number of nodes in the output layer matches the number of labels\n",
        "])"
      ],
      "execution_count": 191,
      "outputs": []
    },
    {
      "cell_type": "code",
      "metadata": {
        "id": "lyWhz2kTzdUl"
      },
      "source": [
        "model.compile(optimizer=optimizers.RMSprop(), \n",
        "              loss='sparse_categorical_crossentropy',\n",
        "              metrics=[metrics.categorical_accuracy])"
      ],
      "execution_count": 192,
      "outputs": []
    },
    {
      "cell_type": "code",
      "metadata": {
        "id": "IVJcgw4MzhXP",
        "colab": {
          "base_uri": "https://localhost:8080/"
        },
        "outputId": "6c385452-59a8-4169-d821-838e211074e4"
      },
      "source": [
        "model.summary()"
      ],
      "execution_count": 193,
      "outputs": [
        {
          "output_type": "stream",
          "text": [
            "Model: \"sequential_1\"\n",
            "_________________________________________________________________\n",
            "Layer (type)                 Output Shape              Param #   \n",
            "=================================================================\n",
            "dense_3 (Dense)              (None, 32)                416       \n",
            "_________________________________________________________________\n",
            "dense_4 (Dense)              (None, 16)                528       \n",
            "_________________________________________________________________\n",
            "dense_5 (Dense)              (None, 2)                 34        \n",
            "=================================================================\n",
            "Total params: 978\n",
            "Trainable params: 978\n",
            "Non-trainable params: 0\n",
            "_________________________________________________________________\n"
          ],
          "name": "stdout"
        }
      ]
    },
    {
      "cell_type": "code",
      "metadata": {
        "id": "jXIA_qh-EDuy"
      },
      "source": [
        "from keras.callbacks import History \n",
        "history = History()\n"
      ],
      "execution_count": 194,
      "outputs": []
    },
    {
      "cell_type": "code",
      "metadata": {
        "id": "qExUnc7AzheQ",
        "colab": {
          "base_uri": "https://localhost:8080/"
        },
        "outputId": "cad6634e-b5a2-495b-d579-2c9f8afab214"
      },
      "source": [
        "h = model.fit(X_train_norm, y_train_norm, epochs=30,  batch_size=10, validation_split=.2, callbacks=[history])"
      ],
      "execution_count": 195,
      "outputs": [
        {
          "output_type": "stream",
          "text": [
            "Epoch 1/30\n",
            "1137/1137 [==============================] - 3s 2ms/step - loss: 0.4667 - categorical_accuracy: 0.9966 - val_loss: 0.4198 - val_categorical_accuracy: 0.9564\n",
            "Epoch 2/30\n",
            "1137/1137 [==============================] - 2s 2ms/step - loss: 0.4368 - categorical_accuracy: 0.9589 - val_loss: 0.4076 - val_categorical_accuracy: 0.9620\n",
            "Epoch 3/30\n",
            "1137/1137 [==============================] - 2s 2ms/step - loss: 0.4385 - categorical_accuracy: 0.9477 - val_loss: 0.4001 - val_categorical_accuracy: 0.9346\n",
            "Epoch 4/30\n",
            "1137/1137 [==============================] - 2s 2ms/step - loss: 0.4222 - categorical_accuracy: 0.9268 - val_loss: 0.3998 - val_categorical_accuracy: 0.9205\n",
            "Epoch 5/30\n",
            "1137/1137 [==============================] - 2s 2ms/step - loss: 0.4261 - categorical_accuracy: 0.9221 - val_loss: 0.3961 - val_categorical_accuracy: 0.9043\n",
            "Epoch 6/30\n",
            "1137/1137 [==============================] - 2s 2ms/step - loss: 0.4232 - categorical_accuracy: 0.9194 - val_loss: 0.3954 - val_categorical_accuracy: 0.9110\n",
            "Epoch 7/30\n",
            "1137/1137 [==============================] - 2s 2ms/step - loss: 0.4238 - categorical_accuracy: 0.9105 - val_loss: 0.4021 - val_categorical_accuracy: 0.8747\n",
            "Epoch 8/30\n",
            "1137/1137 [==============================] - 2s 2ms/step - loss: 0.4251 - categorical_accuracy: 0.9079 - val_loss: 0.3926 - val_categorical_accuracy: 0.8990\n",
            "Epoch 9/30\n",
            "1137/1137 [==============================] - 2s 2ms/step - loss: 0.4156 - categorical_accuracy: 0.9048 - val_loss: 0.3984 - val_categorical_accuracy: 0.8536\n",
            "Epoch 10/30\n",
            "1137/1137 [==============================] - 2s 2ms/step - loss: 0.4156 - categorical_accuracy: 0.8953 - val_loss: 0.3965 - val_categorical_accuracy: 0.8688\n",
            "Epoch 11/30\n",
            "1137/1137 [==============================] - 2s 2ms/step - loss: 0.4178 - categorical_accuracy: 0.8938 - val_loss: 0.3956 - val_categorical_accuracy: 0.8733\n",
            "Epoch 12/30\n",
            "1137/1137 [==============================] - 2s 2ms/step - loss: 0.4147 - categorical_accuracy: 0.9085 - val_loss: 0.3954 - val_categorical_accuracy: 0.9602\n",
            "Epoch 13/30\n",
            "1137/1137 [==============================] - 2s 2ms/step - loss: 0.4158 - categorical_accuracy: 0.8997 - val_loss: 0.3950 - val_categorical_accuracy: 0.8614\n",
            "Epoch 14/30\n",
            "1137/1137 [==============================] - 2s 2ms/step - loss: 0.4186 - categorical_accuracy: 0.8841 - val_loss: 0.3942 - val_categorical_accuracy: 0.8821\n",
            "Epoch 15/30\n",
            "1137/1137 [==============================] - 2s 2ms/step - loss: 0.4275 - categorical_accuracy: 0.9127 - val_loss: 0.3900 - val_categorical_accuracy: 0.8867\n",
            "Epoch 16/30\n",
            "1137/1137 [==============================] - 2s 2ms/step - loss: 0.4070 - categorical_accuracy: 0.9036 - val_loss: 0.3895 - val_categorical_accuracy: 0.8621\n",
            "Epoch 17/30\n",
            "1137/1137 [==============================] - 2s 2ms/step - loss: 0.4213 - categorical_accuracy: 0.8954 - val_loss: 0.3945 - val_categorical_accuracy: 0.8624\n",
            "Epoch 18/30\n",
            "1137/1137 [==============================] - 2s 2ms/step - loss: 0.4132 - categorical_accuracy: 0.8984 - val_loss: 0.3899 - val_categorical_accuracy: 0.9145\n",
            "Epoch 19/30\n",
            "1137/1137 [==============================] - 2s 2ms/step - loss: 0.4162 - categorical_accuracy: 0.9098 - val_loss: 0.3897 - val_categorical_accuracy: 0.8846\n",
            "Epoch 20/30\n",
            "1137/1137 [==============================] - 2s 2ms/step - loss: 0.4238 - categorical_accuracy: 0.8860 - val_loss: 0.3878 - val_categorical_accuracy: 0.9251\n",
            "Epoch 21/30\n",
            "1137/1137 [==============================] - 2s 2ms/step - loss: 0.4124 - categorical_accuracy: 0.8945 - val_loss: 0.3898 - val_categorical_accuracy: 0.8832\n",
            "Epoch 22/30\n",
            "1137/1137 [==============================] - 2s 2ms/step - loss: 0.4275 - categorical_accuracy: 0.8950 - val_loss: 0.3918 - val_categorical_accuracy: 0.8958\n",
            "Epoch 23/30\n",
            "1137/1137 [==============================] - 2s 2ms/step - loss: 0.4202 - categorical_accuracy: 0.9004 - val_loss: 0.3907 - val_categorical_accuracy: 0.8730\n",
            "Epoch 24/30\n",
            "1137/1137 [==============================] - 2s 2ms/step - loss: 0.4127 - categorical_accuracy: 0.8906 - val_loss: 0.3899 - val_categorical_accuracy: 0.9310\n",
            "Epoch 25/30\n",
            "1137/1137 [==============================] - 2s 2ms/step - loss: 0.4096 - categorical_accuracy: 0.9051 - val_loss: 0.3869 - val_categorical_accuracy: 0.8772\n",
            "Epoch 26/30\n",
            "1137/1137 [==============================] - 2s 2ms/step - loss: 0.4134 - categorical_accuracy: 0.9000 - val_loss: 0.3913 - val_categorical_accuracy: 0.8663\n",
            "Epoch 27/30\n",
            "1137/1137 [==============================] - 2s 2ms/step - loss: 0.4175 - categorical_accuracy: 0.8861 - val_loss: 0.3914 - val_categorical_accuracy: 0.9423\n",
            "Epoch 28/30\n",
            "1137/1137 [==============================] - 2s 2ms/step - loss: 0.4193 - categorical_accuracy: 0.8962 - val_loss: 0.3889 - val_categorical_accuracy: 0.9398\n",
            "Epoch 29/30\n",
            "1137/1137 [==============================] - 2s 2ms/step - loss: 0.4113 - categorical_accuracy: 0.9092 - val_loss: 0.3868 - val_categorical_accuracy: 0.9001\n",
            "Epoch 30/30\n",
            "1137/1137 [==============================] - 2s 2ms/step - loss: 0.4161 - categorical_accuracy: 0.9039 - val_loss: 0.3883 - val_categorical_accuracy: 0.9092\n"
          ],
          "name": "stdout"
        }
      ]
    },
    {
      "cell_type": "code",
      "metadata": {
        "id": "Bgq1CI-U4bKr",
        "colab": {
          "base_uri": "https://localhost:8080/"
        },
        "outputId": "d1a917bf-cd48-4327-81d2-e086e19a789b"
      },
      "source": [
        "test_loss, test_acc = model.evaluate(X_test_norm, y_test_norm, verbose=2)\n",
        "\n",
        "print('\\nTest accuracy:', test_acc) "
      ],
      "execution_count": 196,
      "outputs": [
        {
          "output_type": "stream",
          "text": [
            "219/219 - 0s - loss: 0.4123 - categorical_accuracy: 0.9066\n",
            "\n",
            "Test accuracy: 0.9065714478492737\n"
          ],
          "name": "stdout"
        }
      ]
    },
    {
      "cell_type": "markdown",
      "metadata": {
        "id": "1c4_kxFU835f"
      },
      "source": [
        "By analyzing this training and validation loss , it may look as the validatio dataset may be easier for the model to predict than the training dataset"
      ]
    },
    {
      "cell_type": "code",
      "metadata": {
        "id": "eLAHgedT4oOC",
        "colab": {
          "base_uri": "https://localhost:8080/",
          "height": 295
        },
        "outputId": "4b3aa1b3-b01e-49fe-f851-50be853fab06"
      },
      "source": [
        "plot_metric(h, 'loss')"
      ],
      "execution_count": 197,
      "outputs": [
        {
          "output_type": "display_data",
          "data": {
            "image/png": "[encoded data removed]",
            "text/plain": [
              "<Figure size 432x288 with 1 Axes>"
            ]
          },
          "metadata": {
            "tags": [],
            "needs_background": "light"
          }
        }
      ]
    },
    {
      "cell_type": "code",
      "metadata": {
        "id": "yPTmEPOw4rBr",
        "colab": {
          "base_uri": "https://localhost:8080/",
          "height": 295
        },
        "outputId": "26d0fed3-7c99-4b65-fe9e-cf790ba24f15"
      },
      "source": [
        "plot_metric(h, 'categorical_accuracy')"
      ],
      "execution_count": 198,
      "outputs": [
        {
          "output_type": "display_data",
          "data": {
            "image/png": "[encoded data removed]",
            "text/plain": [
              "<Figure size 432x288 with 1 Axes>"
            ]
          },
          "metadata": {
            "tags": [],
            "needs_background": "light"
          }
        }
      ]
    },
    {
      "cell_type": "code",
      "metadata": {
        "id": "DMHmrVImEa7D",
        "colab": {
          "base_uri": "https://localhost:8080/"
        },
        "outputId": "4e116a87-d319-4ac9-e44e-a547a306e91d"
      },
      "source": [
        "a = history.history\n",
        "\n",
        "a"
      ],
      "execution_count": 199,
      "outputs": [
        {
          "output_type": "execute_result",
          "data": {
            "text/plain": [
              "{'categorical_accuracy': [0.9865411520004272,\n",
              "  0.9605031609535217,\n",
              "  0.9482758641242981,\n",
              "  0.9269000887870789,\n",
              "  0.9139690399169922,\n",
              "  0.910538375377655,\n",
              "  0.9056122303009033,\n",
              "  0.9078993797302246,\n",
              "  0.9016537666320801,\n",
              "  0.898574948310852,\n",
              "  0.9023575186729431,\n",
              "  0.8994545936584473,\n",
              "  0.9053483605384827,\n",
              "  0.9002463221549988,\n",
              "  0.9016537666320801,\n",
              "  0.9021815657615662,\n",
              "  0.8958479762077332,\n",
              "  0.8999823927879333,\n",
              "  0.90728360414505,\n",
              "  0.8951442837715149,\n",
              "  0.894792377948761,\n",
              "  0.8964637517929077,\n",
              "  0.8986629247665405,\n",
              "  0.8885468244552612,\n",
              "  0.8983989953994751,\n",
              "  0.8932969570159912,\n",
              "  0.8944405317306519,\n",
              "  0.892241358757019,\n",
              "  0.8940007090568542,\n",
              "  0.900422215461731],\n",
              " 'loss': [0.45995375514030457,\n",
              "  0.4370095133781433,\n",
              "  0.4289727210998535,\n",
              "  0.4255097508430481,\n",
              "  0.42296937108039856,\n",
              "  0.4216183125972748,\n",
              "  0.42071136832237244,\n",
              "  0.42030826210975647,\n",
              "  0.419057160615921,\n",
              "  0.41809189319610596,\n",
              "  0.4181400537490845,\n",
              "  0.4181222915649414,\n",
              "  0.41875967383384705,\n",
              "  0.41702595353126526,\n",
              "  0.4167463183403015,\n",
              "  0.41721421480178833,\n",
              "  0.41650280356407166,\n",
              "  0.4165966808795929,\n",
              "  0.4169766306877136,\n",
              "  0.41597598791122437,\n",
              "  0.4167679250240326,\n",
              "  0.4169413447380066,\n",
              "  0.4161677062511444,\n",
              "  0.4156375229358673,\n",
              "  0.4155481457710266,\n",
              "  0.4160029888153076,\n",
              "  0.4152546525001526,\n",
              "  0.4147076904773712,\n",
              "  0.41575923562049866,\n",
              "  0.4140101373195648],\n",
              " 'val_categorical_accuracy': [0.9563687443733215,\n",
              "  0.9619985818862915,\n",
              "  0.9345531463623047,\n",
              "  0.9204785227775574,\n",
              "  0.9042927622795105,\n",
              "  0.9109781980514526,\n",
              "  0.8747361302375793,\n",
              "  0.8990147709846497,\n",
              "  0.8536242246627808,\n",
              "  0.8687543869018555,\n",
              "  0.8733286261558533,\n",
              "  0.9602392911911011,\n",
              "  0.8613652586936951,\n",
              "  0.8821252584457397,\n",
              "  0.8866994976997375,\n",
              "  0.8620689511299133,\n",
              "  0.8624208569526672,\n",
              "  0.9144968390464783,\n",
              "  0.8845883011817932,\n",
              "  0.9250527620315552,\n",
              "  0.8831808567047119,\n",
              "  0.8958479762077332,\n",
              "  0.8729767799377441,\n",
              "  0.931034505367279,\n",
              "  0.8771991729736328,\n",
              "  0.866291344165802,\n",
              "  0.942294180393219,\n",
              "  0.9398310780525208,\n",
              "  0.9000703692436218,\n",
              "  0.9092188477516174],\n",
              " 'val_loss': [0.41981831192970276,\n",
              "  0.40757185220718384,\n",
              "  0.4001021087169647,\n",
              "  0.39981022477149963,\n",
              "  0.3961445391178131,\n",
              "  0.3954221308231354,\n",
              "  0.4020911157131195,\n",
              "  0.3925538957118988,\n",
              "  0.39842307567596436,\n",
              "  0.3964570164680481,\n",
              "  0.3956023156642914,\n",
              "  0.39538463950157166,\n",
              "  0.395006000995636,\n",
              "  0.39419499039649963,\n",
              "  0.38998669385910034,\n",
              "  0.38948091864585876,\n",
              "  0.39451420307159424,\n",
              "  0.38987278938293457,\n",
              "  0.389661967754364,\n",
              "  0.38782215118408203,\n",
              "  0.3897671103477478,\n",
              "  0.39182963967323303,\n",
              "  0.3907463252544403,\n",
              "  0.38994863629341125,\n",
              "  0.3869270980358124,\n",
              "  0.3913298547267914,\n",
              "  0.3913978934288025,\n",
              "  0.3889482617378235,\n",
              "  0.38684722781181335,\n",
              "  0.38834014534950256]}"
            ]
          },
          "metadata": {
            "tags": []
          },
          "execution_count": 199
        }
      ]
    },
    {
      "cell_type": "code",
      "metadata": {
        "id": "05uXGw5O-6yi",
        "colab": {
          "base_uri": "https://localhost:8080/"
        },
        "outputId": "3f3cceca-47a1-4ea3-9b9e-538bdf6659e7"
      },
      "source": [
        "eval_model=model.evaluate(X_train_norm, y_train_norm)\n",
        "eval_model"
      ],
      "execution_count": 200,
      "outputs": [
        {
          "output_type": "stream",
          "text": [
            "445/445 [==============================] - 1s 1ms/step - loss: 0.4109 - categorical_accuracy: 0.9015\n"
          ],
          "name": "stdout"
        },
        {
          "output_type": "execute_result",
          "data": {
            "text/plain": [
              "[0.4108816981315613, 0.9015482068061829]"
            ]
          },
          "metadata": {
            "tags": []
          },
          "execution_count": 200
        }
      ]
    },
    {
      "cell_type": "code",
      "metadata": {
        "id": "lmJMwvbJE8_I"
      },
      "source": [
        "model.save('accident_model.h5')"
      ],
      "execution_count": 201,
      "outputs": []
    },
    {
      "cell_type": "code",
      "metadata": {
        "id": "-GWuLAfV-7GX",
        "colab": {
          "base_uri": "https://localhost:8080/"
        },
        "outputId": "e9e1a1e7-b18c-4c4e-a554-8c87851da0a9"
      },
      "source": [
        "train_loss, train_acc = model.evaluate(X_train_norm, y_train_norm)"
      ],
      "execution_count": 202,
      "outputs": [
        {
          "output_type": "stream",
          "text": [
            "445/445 [==============================] - 1s 1ms/step - loss: 0.4109 - categorical_accuracy: 0.9015\n"
          ],
          "name": "stdout"
        }
      ]
    },
    {
      "cell_type": "code",
      "metadata": {
        "id": "7qorI6yhFW_R",
        "colab": {
          "base_uri": "https://localhost:8080/"
        },
        "outputId": "1990ee6d-81b3-44f4-d6b2-a036187f3c27"
      },
      "source": [
        "test_loss, test_acc = model.evaluate(X_test_norm, y_test_norm)"
      ],
      "execution_count": 203,
      "outputs": [
        {
          "output_type": "stream",
          "text": [
            "219/219 [==============================] - 0s 1ms/step - loss: 0.4123 - categorical_accuracy: 0.9066\n"
          ],
          "name": "stdout"
        }
      ]
    },
    {
      "cell_type": "code",
      "metadata": {
        "id": "gyUNOwG0Flz8",
        "colab": {
          "base_uri": "https://localhost:8080/"
        },
        "outputId": "41a26df5-d5a0-4059-e357-523eeaf01835"
      },
      "source": [
        "##accuracy\n",
        "\n",
        "print('Train accuracy: %.3f, Test accuracy: %.3f' % (train_acc, test_acc))"
      ],
      "execution_count": 204,
      "outputs": [
        {
          "output_type": "stream",
          "text": [
            "Train accuracy: 0.902, Test accuracy: 0.907\n"
          ],
          "name": "stdout"
        }
      ]
    },
    {
      "cell_type": "code",
      "metadata": {
        "id": "CpWMrJNyFtK5",
        "colab": {
          "base_uri": "https://localhost:8080/"
        },
        "outputId": "da1519e5-d413-48ea-cc6e-aeee7c4e346b"
      },
      "source": [
        "#loss \n",
        "\n",
        "print('Train loss: %.3f, Test loss: %.3f' % (train_loss, test_loss))"
      ],
      "execution_count": 205,
      "outputs": [
        {
          "output_type": "stream",
          "text": [
            "Train loss: 0.411, Test loss: 0.412\n"
          ],
          "name": "stdout"
        }
      ]
    },
    {
      "cell_type": "markdown",
      "metadata": {
        "id": "0CXpE7H0HYvy"
      },
      "source": [
        "Now we are going to try to increase our model performance by playing with the parameters"
      ]
    },
    {
      "cell_type": "code",
      "metadata": {
        "id": "gSIZqA-wMPb_",
        "colab": {
          "base_uri": "https://localhost:8080/"
        },
        "outputId": "e5354ea8-ead1-4c27-c053-3f42e10664d1"
      },
      "source": [
        "h = model.fit(X_train_norm, y_train_norm, epochs=64,  batch_size=40, validation_split=.2, callbacks=[history])"
      ],
      "execution_count": 206,
      "outputs": [
        {
          "output_type": "stream",
          "text": [
            "Epoch 1/64\n",
            "285/285 [==============================] - 1s 2ms/step - loss: 0.4116 - categorical_accuracy: 0.8889 - val_loss: 0.3860 - val_categorical_accuracy: 0.8716\n",
            "Epoch 2/64\n",
            "285/285 [==============================] - 1s 2ms/step - loss: 0.4107 - categorical_accuracy: 0.8923 - val_loss: 0.3906 - val_categorical_accuracy: 0.8825\n",
            "Epoch 3/64\n",
            "285/285 [==============================] - 0s 2ms/step - loss: 0.4105 - categorical_accuracy: 0.8923 - val_loss: 0.3862 - val_categorical_accuracy: 0.8860\n",
            "Epoch 4/64\n",
            "285/285 [==============================] - 1s 2ms/step - loss: 0.4103 - categorical_accuracy: 0.8934 - val_loss: 0.3840 - val_categorical_accuracy: 0.8906\n",
            "Epoch 5/64\n",
            "285/285 [==============================] - 0s 2ms/step - loss: 0.4100 - categorical_accuracy: 0.8890 - val_loss: 0.3843 - val_categorical_accuracy: 0.8962\n",
            "Epoch 6/64\n",
            "285/285 [==============================] - 0s 2ms/step - loss: 0.4099 - categorical_accuracy: 0.8959 - val_loss: 0.3911 - val_categorical_accuracy: 0.8712\n",
            "Epoch 7/64\n",
            "285/285 [==============================] - 0s 2ms/step - loss: 0.4098 - categorical_accuracy: 0.8859 - val_loss: 0.3841 - val_categorical_accuracy: 0.8958\n",
            "Epoch 8/64\n",
            "285/285 [==============================] - 1s 2ms/step - loss: 0.4092 - categorical_accuracy: 0.8964 - val_loss: 0.3842 - val_categorical_accuracy: 0.8863\n",
            "Epoch 9/64\n",
            "285/285 [==============================] - 0s 2ms/step - loss: 0.4097 - categorical_accuracy: 0.8906 - val_loss: 0.3859 - val_categorical_accuracy: 0.8916\n",
            "Epoch 10/64\n",
            "285/285 [==============================] - 1s 2ms/step - loss: 0.4091 - categorical_accuracy: 0.8869 - val_loss: 0.3881 - val_categorical_accuracy: 0.8754\n",
            "Epoch 11/64\n",
            "285/285 [==============================] - 0s 2ms/step - loss: 0.4091 - categorical_accuracy: 0.8907 - val_loss: 0.3844 - val_categorical_accuracy: 0.9015\n",
            "Epoch 12/64\n",
            "285/285 [==============================] - 1s 2ms/step - loss: 0.4092 - categorical_accuracy: 0.8892 - val_loss: 0.3855 - val_categorical_accuracy: 0.8821\n",
            "Epoch 13/64\n",
            "285/285 [==============================] - 1s 2ms/step - loss: 0.4089 - categorical_accuracy: 0.8880 - val_loss: 0.3869 - val_categorical_accuracy: 0.8987\n",
            "Epoch 14/64\n",
            "285/285 [==============================] - 1s 2ms/step - loss: 0.4086 - categorical_accuracy: 0.8917 - val_loss: 0.3839 - val_categorical_accuracy: 0.9205\n",
            "Epoch 15/64\n",
            "285/285 [==============================] - 0s 2ms/step - loss: 0.4091 - categorical_accuracy: 0.8936 - val_loss: 0.3849 - val_categorical_accuracy: 0.8987\n",
            "Epoch 16/64\n",
            "285/285 [==============================] - 0s 2ms/step - loss: 0.4086 - categorical_accuracy: 0.8945 - val_loss: 0.3843 - val_categorical_accuracy: 0.9018\n",
            "Epoch 17/64\n",
            "285/285 [==============================] - 0s 2ms/step - loss: 0.4083 - categorical_accuracy: 0.8919 - val_loss: 0.3870 - val_categorical_accuracy: 0.9338\n",
            "Epoch 18/64\n",
            "285/285 [==============================] - 0s 2ms/step - loss: 0.4087 - categorical_accuracy: 0.8976 - val_loss: 0.3904 - val_categorical_accuracy: 0.8719\n",
            "Epoch 19/64\n",
            "285/285 [==============================] - 0s 2ms/step - loss: 0.4083 - categorical_accuracy: 0.8930 - val_loss: 0.3831 - val_categorical_accuracy: 0.9082\n",
            "Epoch 20/64\n",
            "285/285 [==============================] - 0s 2ms/step - loss: 0.4080 - categorical_accuracy: 0.8951 - val_loss: 0.3858 - val_categorical_accuracy: 0.8705\n",
            "Epoch 21/64\n",
            "285/285 [==============================] - 1s 2ms/step - loss: 0.4082 - categorical_accuracy: 0.8833 - val_loss: 0.3824 - val_categorical_accuracy: 0.9286\n",
            "Epoch 22/64\n",
            "285/285 [==============================] - 0s 2ms/step - loss: 0.4077 - categorical_accuracy: 0.8951 - val_loss: 0.3851 - val_categorical_accuracy: 0.9018\n",
            "Epoch 23/64\n",
            "285/285 [==============================] - 1s 2ms/step - loss: 0.4079 - categorical_accuracy: 0.8961 - val_loss: 0.3832 - val_categorical_accuracy: 0.8888\n",
            "Epoch 24/64\n",
            "285/285 [==============================] - 0s 2ms/step - loss: 0.4078 - categorical_accuracy: 0.8880 - val_loss: 0.3844 - val_categorical_accuracy: 0.8878\n",
            "Epoch 25/64\n",
            "285/285 [==============================] - 1s 2ms/step - loss: 0.4079 - categorical_accuracy: 0.8913 - val_loss: 0.3847 - val_categorical_accuracy: 0.8892\n",
            "Epoch 26/64\n",
            "285/285 [==============================] - 0s 2ms/step - loss: 0.4076 - categorical_accuracy: 0.8879 - val_loss: 0.3853 - val_categorical_accuracy: 0.9254\n",
            "Epoch 27/64\n",
            "285/285 [==============================] - 1s 2ms/step - loss: 0.4080 - categorical_accuracy: 0.8994 - val_loss: 0.3927 - val_categorical_accuracy: 0.8522\n",
            "Epoch 28/64\n",
            "285/285 [==============================] - 0s 2ms/step - loss: 0.4079 - categorical_accuracy: 0.8852 - val_loss: 0.3855 - val_categorical_accuracy: 0.8733\n",
            "Epoch 29/64\n",
            "285/285 [==============================] - 1s 2ms/step - loss: 0.4074 - categorical_accuracy: 0.8881 - val_loss: 0.3828 - val_categorical_accuracy: 0.8863\n",
            "Epoch 30/64\n",
            "285/285 [==============================] - 0s 2ms/step - loss: 0.4078 - categorical_accuracy: 0.8905 - val_loss: 0.3877 - val_categorical_accuracy: 0.8776\n",
            "Epoch 31/64\n",
            "285/285 [==============================] - 0s 2ms/step - loss: 0.4077 - categorical_accuracy: 0.8896 - val_loss: 0.3847 - val_categorical_accuracy: 0.8860\n",
            "Epoch 32/64\n",
            "285/285 [==============================] - 0s 2ms/step - loss: 0.4081 - categorical_accuracy: 0.8862 - val_loss: 0.3888 - val_categorical_accuracy: 0.8818\n",
            "Epoch 33/64\n",
            "285/285 [==============================] - 0s 2ms/step - loss: 0.4079 - categorical_accuracy: 0.8858 - val_loss: 0.3891 - val_categorical_accuracy: 0.9124\n",
            "Epoch 34/64\n",
            "285/285 [==============================] - 0s 2ms/step - loss: 0.4077 - categorical_accuracy: 0.8976 - val_loss: 0.3852 - val_categorical_accuracy: 0.8987\n",
            "Epoch 35/64\n",
            "285/285 [==============================] - 1s 2ms/step - loss: 0.4073 - categorical_accuracy: 0.8951 - val_loss: 0.3841 - val_categorical_accuracy: 0.8920\n",
            "Epoch 36/64\n",
            "285/285 [==============================] - 0s 2ms/step - loss: 0.4076 - categorical_accuracy: 0.8923 - val_loss: 0.3873 - val_categorical_accuracy: 0.8990\n",
            "Epoch 37/64\n",
            "285/285 [==============================] - 0s 2ms/step - loss: 0.4075 - categorical_accuracy: 0.8895 - val_loss: 0.3863 - val_categorical_accuracy: 0.8863\n",
            "Epoch 38/64\n",
            "285/285 [==============================] - 0s 2ms/step - loss: 0.4078 - categorical_accuracy: 0.8936 - val_loss: 0.3835 - val_categorical_accuracy: 0.9229\n",
            "Epoch 39/64\n",
            "285/285 [==============================] - 0s 2ms/step - loss: 0.4077 - categorical_accuracy: 0.8927 - val_loss: 0.3827 - val_categorical_accuracy: 0.9321\n",
            "Epoch 40/64\n",
            "285/285 [==============================] - 0s 2ms/step - loss: 0.4076 - categorical_accuracy: 0.8938 - val_loss: 0.3845 - val_categorical_accuracy: 0.9194\n",
            "Epoch 41/64\n",
            "285/285 [==============================] - 1s 2ms/step - loss: 0.4076 - categorical_accuracy: 0.8924 - val_loss: 0.3841 - val_categorical_accuracy: 0.9194\n",
            "Epoch 42/64\n",
            "285/285 [==============================] - 0s 2ms/step - loss: 0.4073 - categorical_accuracy: 0.8984 - val_loss: 0.3854 - val_categorical_accuracy: 0.9039\n",
            "Epoch 43/64\n",
            "285/285 [==============================] - 0s 2ms/step - loss: 0.4068 - categorical_accuracy: 0.8928 - val_loss: 0.3829 - val_categorical_accuracy: 0.9229\n",
            "Epoch 44/64\n",
            "285/285 [==============================] - 0s 2ms/step - loss: 0.4068 - categorical_accuracy: 0.8949 - val_loss: 0.3852 - val_categorical_accuracy: 0.9064\n",
            "Epoch 45/64\n",
            "285/285 [==============================] - 0s 2ms/step - loss: 0.4063 - categorical_accuracy: 0.8954 - val_loss: 0.3871 - val_categorical_accuracy: 0.9075\n",
            "Epoch 46/64\n",
            "285/285 [==============================] - 1s 2ms/step - loss: 0.4071 - categorical_accuracy: 0.8948 - val_loss: 0.3878 - val_categorical_accuracy: 0.8666\n",
            "Epoch 47/64\n",
            "285/285 [==============================] - 1s 2ms/step - loss: 0.4072 - categorical_accuracy: 0.8868 - val_loss: 0.3847 - val_categorical_accuracy: 0.9008\n",
            "Epoch 48/64\n",
            "285/285 [==============================] - 0s 2ms/step - loss: 0.4072 - categorical_accuracy: 0.8948 - val_loss: 0.3849 - val_categorical_accuracy: 0.9156\n",
            "Epoch 49/64\n",
            "285/285 [==============================] - 1s 2ms/step - loss: 0.4074 - categorical_accuracy: 0.8886 - val_loss: 0.3869 - val_categorical_accuracy: 0.8807\n",
            "Epoch 50/64\n",
            "285/285 [==============================] - 0s 2ms/step - loss: 0.4072 - categorical_accuracy: 0.8836 - val_loss: 0.3839 - val_categorical_accuracy: 0.9215\n",
            "Epoch 51/64\n",
            "285/285 [==============================] - 0s 2ms/step - loss: 0.4068 - categorical_accuracy: 0.8961 - val_loss: 0.3846 - val_categorical_accuracy: 0.8983\n",
            "Epoch 52/64\n",
            "285/285 [==============================] - 1s 2ms/step - loss: 0.4069 - categorical_accuracy: 0.8975 - val_loss: 0.3870 - val_categorical_accuracy: 0.8786\n",
            "Epoch 53/64\n",
            "285/285 [==============================] - 1s 2ms/step - loss: 0.4065 - categorical_accuracy: 0.8949 - val_loss: 0.3846 - val_categorical_accuracy: 0.9001\n",
            "Epoch 54/64\n",
            "285/285 [==============================] - 1s 2ms/step - loss: 0.4069 - categorical_accuracy: 0.8932 - val_loss: 0.3835 - val_categorical_accuracy: 0.9092\n",
            "Epoch 55/64\n",
            "285/285 [==============================] - 0s 2ms/step - loss: 0.4067 - categorical_accuracy: 0.8924 - val_loss: 0.3850 - val_categorical_accuracy: 0.9011\n",
            "Epoch 56/64\n",
            "285/285 [==============================] - 0s 2ms/step - loss: 0.4068 - categorical_accuracy: 0.8878 - val_loss: 0.3839 - val_categorical_accuracy: 0.9156\n",
            "Epoch 57/64\n",
            "285/285 [==============================] - 1s 2ms/step - loss: 0.4070 - categorical_accuracy: 0.8941 - val_loss: 0.3900 - val_categorical_accuracy: 0.8839\n",
            "Epoch 58/64\n",
            "285/285 [==============================] - 1s 2ms/step - loss: 0.4066 - categorical_accuracy: 0.8934 - val_loss: 0.3920 - val_categorical_accuracy: 0.9233\n",
            "Epoch 59/64\n",
            "285/285 [==============================] - 1s 2ms/step - loss: 0.4069 - categorical_accuracy: 0.8886 - val_loss: 0.3844 - val_categorical_accuracy: 0.9381\n",
            "Epoch 60/64\n",
            "285/285 [==============================] - 1s 2ms/step - loss: 0.4062 - categorical_accuracy: 0.8989 - val_loss: 0.3833 - val_categorical_accuracy: 0.9089\n",
            "Epoch 61/64\n",
            "285/285 [==============================] - 1s 2ms/step - loss: 0.4066 - categorical_accuracy: 0.8862 - val_loss: 0.3840 - val_categorical_accuracy: 0.9092\n",
            "Epoch 62/64\n",
            "285/285 [==============================] - 1s 2ms/step - loss: 0.4064 - categorical_accuracy: 0.8912 - val_loss: 0.3843 - val_categorical_accuracy: 0.9152\n",
            "Epoch 63/64\n",
            "285/285 [==============================] - 0s 2ms/step - loss: 0.4058 - categorical_accuracy: 0.8856 - val_loss: 0.3842 - val_categorical_accuracy: 0.9163\n",
            "Epoch 64/64\n",
            "285/285 [==============================] - 0s 2ms/step - loss: 0.4063 - categorical_accuracy: 0.8915 - val_loss: 0.3860 - val_categorical_accuracy: 0.8927\n"
          ],
          "name": "stdout"
        }
      ]
    },
    {
      "cell_type": "code",
      "metadata": {
        "id": "sPZROspzMno4",
        "colab": {
          "base_uri": "https://localhost:8080/"
        },
        "outputId": "3d352ee3-d9e8-4dae-c435-fc5d1454ecca"
      },
      "source": [
        "test_loss, test_acc = model.evaluate(X_test_norm, y_test_norm, verbose=2)\n",
        "\n",
        "print('\\nTest accuracy:', test_acc) "
      ],
      "execution_count": 207,
      "outputs": [
        {
          "output_type": "stream",
          "text": [
            "219/219 - 0s - loss: 0.4088 - categorical_accuracy: 0.9016\n",
            "\n",
            "Test accuracy: 0.9015714526176453\n"
          ],
          "name": "stdout"
        }
      ]
    },
    {
      "cell_type": "code",
      "metadata": {
        "id": "HuoavHtUMPed",
        "colab": {
          "base_uri": "https://localhost:8080/",
          "height": 295
        },
        "outputId": "d5ddc737-0360-4809-d007-5d136148e88b"
      },
      "source": [
        "plot_metric(h, 'loss')"
      ],
      "execution_count": 208,
      "outputs": [
        {
          "output_type": "display_data",
          "data": {
            "image/png": "[encoded data removed]",
            "text/plain": [
              "<Figure size 432x288 with 1 Axes>"
            ]
          },
          "metadata": {
            "tags": [],
            "needs_background": "light"
          }
        }
      ]
    },
    {
      "cell_type": "code",
      "metadata": {
        "id": "w0aOj8DEMPrR",
        "colab": {
          "base_uri": "https://localhost:8080/",
          "height": 295
        },
        "outputId": "dee358be-5fcd-4187-e61b-55d6267ea091"
      },
      "source": [
        "plot_metric(h, 'categorical_accuracy')"
      ],
      "execution_count": 209,
      "outputs": [
        {
          "output_type": "display_data",
          "data": {
            "image/png": "[encoded data removed]",
            "text/plain": [
              "<Figure size 432x288 with 1 Axes>"
            ]
          },
          "metadata": {
            "tags": [],
            "needs_background": "light"
          }
        }
      ]
    }
  ]
}