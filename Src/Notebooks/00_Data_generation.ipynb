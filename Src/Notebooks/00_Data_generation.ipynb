{
  "nbformat": 4,
  "nbformat_minor": 0,
  "metadata": {
    "colab": {
      "name": "00_Data_generation.ipynb",
      "provenance": [],
      "mount_file_id": "18MOCeNlI0OqA7MkkYVcWzKC5s8ijnAd4",
      "authorship_tag": "ABX9TyMVjZv0p7nfSEnJ21aHcHKt",
      "include_colab_link": true
    },
    "kernelspec": {
      "name": "python3",
      "display_name": "Python 3"
    },
    "language_info": {
      "name": "python"
    }
  },
  "cells": [
    {
      "cell_type": "markdown",
      "metadata": {
        "id": "view-in-github",
        "colab_type": "text"
      },
      "source": [
        "<a href=\"https://colab.research.google.com/github/sarasabino/Accident_Rate_Project/blob/main/Src/Notebooks/00_Data_generation.ipynb\" target=\"_parent\"><img src=\"https://colab.research.google.com/assets/colab-badge.svg\" alt=\"Open In Colab\"/></a>"
      ]
    },
    {
      "cell_type": "markdown",
      "metadata": {
        "id": "tfPS3xuQU1MA"
      },
      "source": [
        "## Data Generation\n",
        "\n",
        "We initially received the data from the accidents occurred in the company, although it is usefull we will need the data from the staff and the resolution if each employee has had an accident or not. This data will allow us to perform our accident prediction model. \n",
        "\n",
        "For that purpose we are going to generate a csv file with random data, but based in the real one, that contains the company's staff by employee. Each row represents an employee, with all its characteristic. In the \"Accident\" column we will have if that person has had an accident during his time in the company or not. \n"
      ]
    },
    {
      "cell_type": "code",
      "metadata": {
        "id": "KGd4qTHoUv2G"
      },
      "source": [
        "! cp /content/drive/MyDrive/'Colab Notebooks'/'TFM Accidentabilidad'/Data/HS_Accidentabilidad.csv .\n",
        "! cp /content/drive/MyDrive/'Colab Notebooks'/'TFM Accidentabilidad'/Data/'G_Plantas y Tech'.csv .\n",
        "! cp /content/drive/MyDrive/'Colab Notebooks'/'TFM Accidentabilidad'/Data/Datos_plantilla_fabrica.csv .\n"
      ],
      "execution_count": 308,
      "outputs": []
    },
    {
      "cell_type": "markdown",
      "metadata": {
        "id": "tHkkk17yXuQa"
      },
      "source": [
        "We are going to upload the accidents' data and filter by year. We would only work with 2018,2019 and 2020 as the other years are incomplete."
      ]
    },
    {
      "cell_type": "code",
      "metadata": {
        "id": "KfBhfVGnXiG2"
      },
      "source": [
        "import pandas as pd\n",
        "\n",
        "accidentes = pd.read_csv('HS_Accidentabilidad.csv', sep=';')\n",
        "\n",
        "accidentes = accidentes[(accidentes['Año']== 2018) | (accidentes['Año']==2019) | (accidentes['Año']==2020) ]"
      ],
      "execution_count": 309,
      "outputs": []
    },
    {
      "cell_type": "code",
      "metadata": {
        "colab": {
          "base_uri": "https://localhost:8080/"
        },
        "id": "3Ale6fXJjE8f",
        "outputId": "a9b984e2-e2a6-49a9-985a-25262175b052"
      },
      "source": [
        "print(\"We have a total accidents amount of \",  len(accidentes))"
      ],
      "execution_count": 310,
      "outputs": [
        {
          "output_type": "stream",
          "text": [
            "We have a total accidents amount of  4180\n"
          ],
          "name": "stdout"
        }
      ]
    },
    {
      "cell_type": "code",
      "metadata": {
        "colab": {
          "base_uri": "https://localhost:8080/",
          "height": 721
        },
        "id": "dVZjq2685jr8",
        "outputId": "17ec7c56-a924-42d2-cf1d-98afbc93b27a"
      },
      "source": [
        "accidentes.head() ## we have 104 columns which is a lot of information"
      ],
      "execution_count": 311,
      "outputs": [
        {
          "output_type": "execute_result",
          "data": {
            "text/html": [
              "<div>\n",
              "<style scoped>\n",
              "    .dataframe tbody tr th:only-of-type {\n",
              "        vertical-align: middle;\n",
              "    }\n",
              "\n",
              "    .dataframe tbody tr th {\n",
              "        vertical-align: top;\n",
              "    }\n",
              "\n",
              "    .dataframe thead th {\n",
              "        text-align: right;\n",
              "    }\n",
              "</style>\n",
              "<table border=\"1\" class=\"dataframe\">\n",
              "  <thead>\n",
              "    <tr style=\"text-align: right;\">\n",
              "      <th></th>\n",
              "      <th>ID</th>\n",
              "      <th>-  DATOS DEL SUCESO -</th>\n",
              "      <th>Codigo accidentado</th>\n",
              "      <th>Fecha introduccion datos</th>\n",
              "      <th>Fecha accidente</th>\n",
              "      <th>Año</th>\n",
              "      <th>Codigo fecha accidente</th>\n",
              "      <th>Planta</th>\n",
              "      <th>Código empleado</th>\n",
              "      <th>Supervisor</th>\n",
              "      <th>Puesto habitual de trabajo</th>\n",
              "      <th>Puesto habitual de trabajo - Cerrado</th>\n",
              "      <th>MOI o MOD</th>\n",
              "      <th>La estaba desempeñando</th>\n",
              "      <th>En caso negativo, indicar qué estaba desempeñando</th>\n",
              "      <th>Edad</th>\n",
              "      <th>Género</th>\n",
              "      <th>Turno</th>\n",
              "      <th>Numero personas implicadas</th>\n",
              "      <th>Llevaba EPIs puestos</th>\n",
              "      <th>Hora</th>\n",
              "      <th>Hora jornada</th>\n",
              "      <th>Tipo trabajador</th>\n",
              "      <th>En caso de ser ajeno, indicar empresa</th>\n",
              "      <th>Lugar o seccion accidente</th>\n",
              "      <th>Línea de producción</th>\n",
              "      <th>Tarea que estaba realizando</th>\n",
              "      <th>Cumplimiento Instruccion de Seguridad</th>\n",
              "      <th>¿Se ha incumplido alguna de las normas o instrucciones existentes y explicadas?</th>\n",
              "      <th>En caso de incumplimiento, comentarios:</th>\n",
              "      <th>En caso negativo, indicar la razon</th>\n",
              "      <th>Experiencia en puesto</th>\n",
              "      <th>Fecha ultima formacion completa sobre instrucciones en el puesto</th>\n",
              "      <th>Condicion peligrosa</th>\n",
              "      <th>Forma de producirse</th>\n",
              "      <th>Factores de peligro</th>\n",
              "      <th>Acto inseguro</th>\n",
              "      <th>Naturaleza de lesion</th>\n",
              "      <th>- FORMA EN QUE SE PRODUJO -</th>\n",
              "      <th>Descripción supervisor</th>\n",
              "      <th>...</th>\n",
              "      <th>Nombre del Coordinador - despegable</th>\n",
              "      <th>Nombre de participante a la investigación</th>\n",
              "      <th>Responsable de Departamento</th>\n",
              "      <th>Fecha cierre informe</th>\n",
              "      <th>- VALORACIÓN DE LOS HECHOS -</th>\n",
              "      <th>Probabilidad de repeticion del suceso</th>\n",
              "      <th>Gravedad potencial</th>\n",
              "      <th>Podría haberse dado otro riesgo en estas circunstancias</th>\n",
              "      <th>- MEDIDAS DE CONTROL -</th>\n",
              "      <th>Posibilidad de este suceso detectada en la evaluación de riesgos</th>\n",
              "      <th>Estaban contempladas las medidas preventivas en la Instruccion de Seguridad</th>\n",
              "      <th>Los implicados conocian la existencia del riesgo y las medidas a adoptar</th>\n",
              "      <th>Se habian cumplido las normas establecidas, en caso de estar definidas</th>\n",
              "      <th>- PROPUESTA DE ACCIONES -</th>\n",
              "      <th>Estas acciones pueden añadir riesgos a los ya existentes</th>\n",
              "      <th>1 En caso afirmativo, cual es</th>\n",
              "      <th>Se abre NC como consecuencia de esta investigacion</th>\n",
              "      <th>2 En caso afirmativo, cual es</th>\n",
              "      <th>Requiere revision de Evaluacion de Riesgos</th>\n",
              "      <th>3 En caso afirmativo, cual es</th>\n",
              "      <th>Requiere revision de alguna Instruccion de Seguridad</th>\n",
              "      <th>4 En caso afirmativo, cual es</th>\n",
              "      <th>Requiere incorporar algun aspecto en el check list de Inspecciones</th>\n",
              "      <th>5 En caso afirmativo, cual es</th>\n",
              "      <th>Requiere amonestacion verbal el empleado</th>\n",
              "      <th>Bloqueado</th>\n",
              "      <th>Fecha accidente trigger</th>\n",
              "      <th>- ACTUACIONES INMEDIATAS TOMADAS -</th>\n",
              "      <th>Actuación inmediata asistencial</th>\n",
              "      <th>Actuación inmediata instalaciones</th>\n",
              "      <th>- PROPUESTA INICIAL DE MEDIDAS A PLANIFICAR -</th>\n",
              "      <th>Medida a planificar 1</th>\n",
              "      <th>Medida a planificar 2</th>\n",
              "      <th>Medida a planificar 3</th>\n",
              "      <th>Notificacion o investigacion</th>\n",
              "      <th>Modifica notificacion</th>\n",
              "      <th>Se ha dado un suceso similar (en cuanto a sus causas y consecuencias) en el último año en planta?</th>\n",
              "      <th>En caso afirmativo, cual es y como se actuó?</th>\n",
              "      <th>Tipo Tema</th>\n",
              "      <th>Acta reunión alta baja</th>\n",
              "    </tr>\n",
              "  </thead>\n",
              "  <tbody>\n",
              "    <tr>\n",
              "      <th>2057</th>\n",
              "      <td>2546</td>\n",
              "      <td>0.0</td>\n",
              "      <td>HS-CLMB_2546</td>\n",
              "      <td>9/3/19</td>\n",
              "      <td>3/1/18</td>\n",
              "      <td>2018.0</td>\n",
              "      <td>201801</td>\n",
              "      <td>20</td>\n",
              "      <td>Jhonatan Restrepo Perez</td>\n",
              "      <td>62</td>\n",
              "      <td>Operario de Puente Grúa</td>\n",
              "      <td>NaN</td>\n",
              "      <td>NaN</td>\n",
              "      <td>Si</td>\n",
              "      <td>NaN</td>\n",
              "      <td>31</td>\n",
              "      <td>Hombre</td>\n",
              "      <td>Turno de mañana</td>\n",
              "      <td>0</td>\n",
              "      <td>Si</td>\n",
              "      <td>NaN</td>\n",
              "      <td>Tercera hora</td>\n",
              "      <td>ETT</td>\n",
              "      <td>Complementos Humanos</td>\n",
              "      <td>Células Soldadura</td>\n",
              "      <td>NaN</td>\n",
              "      <td>Izaje de estiba de láminas</td>\n",
              "      <td>No</td>\n",
              "      <td>NaN</td>\n",
              "      <td>NaN</td>\n",
              "      <td>Falta de percepción del riesgo</td>\n",
              "      <td>De 1 a 4 años</td>\n",
              "      <td>6/9/17</td>\n",
              "      <td>Falta de herramientas, útiles o equipos auxili...</td>\n",
              "      <td>Golpes por objetos o herramientas</td>\n",
              "      <td>Puentes grúa y accesorios de elevación</td>\n",
              "      <td>Despistes, bromas, prisas, etc.</td>\n",
              "      <td>Fracturas</td>\n",
              "      <td>0.0</td>\n",
              "      <td>NaN</td>\n",
              "      <td>...</td>\n",
              "      <td>NaN</td>\n",
              "      <td>Dora Osorio Ocampo</td>\n",
              "      <td>Plant Manager</td>\n",
              "      <td>NaN</td>\n",
              "      <td>0.0</td>\n",
              "      <td>Frecuente</td>\n",
              "      <td>Muy grave</td>\n",
              "      <td>Fractura de otros dedos de las manos</td>\n",
              "      <td>0.0</td>\n",
              "      <td>Si</td>\n",
              "      <td>Si</td>\n",
              "      <td>Si</td>\n",
              "      <td>Si</td>\n",
              "      <td>0.0</td>\n",
              "      <td>No</td>\n",
              "      <td>NaN</td>\n",
              "      <td>Si</td>\n",
              "      <td>AC-018-2018</td>\n",
              "      <td>No</td>\n",
              "      <td>NaN</td>\n",
              "      <td>No</td>\n",
              "      <td>NaN</td>\n",
              "      <td>No</td>\n",
              "      <td>NaN</td>\n",
              "      <td>Si</td>\n",
              "      <td>No</td>\n",
              "      <td>3/1/18</td>\n",
              "      <td>0.0</td>\n",
              "      <td>NaN</td>\n",
              "      <td>NaN</td>\n",
              "      <td>0.0</td>\n",
              "      <td>NaN</td>\n",
              "      <td>NaN</td>\n",
              "      <td>NaN</td>\n",
              "      <td>No</td>\n",
              "      <td>NaN</td>\n",
              "      <td>NaN</td>\n",
              "      <td>NaN</td>\n",
              "      <td>1</td>\n",
              "      <td>NaN</td>\n",
              "    </tr>\n",
              "    <tr>\n",
              "      <th>2062</th>\n",
              "      <td>2563</td>\n",
              "      <td>0.0</td>\n",
              "      <td>HS-CEPA_2563</td>\n",
              "      <td>9/3/19</td>\n",
              "      <td>4/1/18</td>\n",
              "      <td>2018.0</td>\n",
              "      <td>201801</td>\n",
              "      <td>19</td>\n",
              "      <td>Ercan Bulduk</td>\n",
              "      <td>728</td>\n",
              "      <td>Engraving</td>\n",
              "      <td>NaN</td>\n",
              "      <td>NaN</td>\n",
              "      <td>Si</td>\n",
              "      <td>NaN</td>\n",
              "      <td>35</td>\n",
              "      <td>Hombre</td>\n",
              "      <td>Turno de mañana</td>\n",
              "      <td>1</td>\n",
              "      <td>Si</td>\n",
              "      <td>NaN</td>\n",
              "      <td>Primera hora</td>\n",
              "      <td>Indefinido</td>\n",
              "      <td>NaN</td>\n",
              "      <td>Tubos</td>\n",
              "      <td>NaN</td>\n",
              "      <td>Engraving process with press</td>\n",
              "      <td>Si</td>\n",
              "      <td>NaN</td>\n",
              "      <td>NaN</td>\n",
              "      <td>NaN</td>\n",
              "      <td>De 4 meses a 1 año</td>\n",
              "      <td>25/12/17</td>\n",
              "      <td>Ausencia de resguardos y/o dispositivos de pro...</td>\n",
              "      <td>Atrapamiento por o entre objetos</td>\n",
              "      <td>Maquinaria en general en funcionamiento y/o mo...</td>\n",
              "      <td>Falta de coordinación con el compañero</td>\n",
              "      <td>Fracturas</td>\n",
              "      <td>0.0</td>\n",
              "      <td>NaN</td>\n",
              "      <td>...</td>\n",
              "      <td>NaN</td>\n",
              "      <td>Meltem Aruer</td>\n",
              "      <td>Production</td>\n",
              "      <td>14/4/18</td>\n",
              "      <td>0.0</td>\n",
              "      <td>Frecuente</td>\n",
              "      <td>Leve</td>\n",
              "      <td>hand injury, fall the material to body</td>\n",
              "      <td>0.0</td>\n",
              "      <td>Si</td>\n",
              "      <td>Si</td>\n",
              "      <td>Si</td>\n",
              "      <td>Si</td>\n",
              "      <td>0.0</td>\n",
              "      <td>No</td>\n",
              "      <td>NaN</td>\n",
              "      <td>No</td>\n",
              "      <td>NaN</td>\n",
              "      <td>No</td>\n",
              "      <td>NaN</td>\n",
              "      <td>No</td>\n",
              "      <td>NaN</td>\n",
              "      <td>No</td>\n",
              "      <td>NaN</td>\n",
              "      <td>No</td>\n",
              "      <td>No</td>\n",
              "      <td>4/1/18</td>\n",
              "      <td>0.0</td>\n",
              "      <td>NaN</td>\n",
              "      <td>NaN</td>\n",
              "      <td>0.0</td>\n",
              "      <td>NaN</td>\n",
              "      <td>NaN</td>\n",
              "      <td>NaN</td>\n",
              "      <td>No</td>\n",
              "      <td>NaN</td>\n",
              "      <td>NaN</td>\n",
              "      <td>NaN</td>\n",
              "      <td>1</td>\n",
              "      <td>NaN</td>\n",
              "    </tr>\n",
              "    <tr>\n",
              "      <th>2063</th>\n",
              "      <td>2564</td>\n",
              "      <td>0.0</td>\n",
              "      <td>HS-GNVT_2564</td>\n",
              "      <td>9/3/19</td>\n",
              "      <td>10/1/18</td>\n",
              "      <td>2018.0</td>\n",
              "      <td>201801</td>\n",
              "      <td>12</td>\n",
              "      <td>20453</td>\n",
              "      <td>83</td>\n",
              "      <td>Titular L-8</td>\n",
              "      <td>NaN</td>\n",
              "      <td>NaN</td>\n",
              "      <td>Si</td>\n",
              "      <td>NaN</td>\n",
              "      <td>54</td>\n",
              "      <td>Hombre</td>\n",
              "      <td>Turno de tarde</td>\n",
              "      <td>1</td>\n",
              "      <td>No</td>\n",
              "      <td>NaN</td>\n",
              "      <td>Hora extra</td>\n",
              "      <td>Duración Determinada</td>\n",
              "      <td>NaN</td>\n",
              "      <td>Tubos</td>\n",
              "      <td>NaN</td>\n",
              "      <td>Retirar un retal en el interior de la  línea</td>\n",
              "      <td>No</td>\n",
              "      <td>NaN</td>\n",
              "      <td>NaN</td>\n",
              "      <td>Descuido</td>\n",
              "      <td>De 1 a 4 años</td>\n",
              "      <td>16/1/17</td>\n",
              "      <td>Equipo de protección individual inadecuado o i...</td>\n",
              "      <td>Choque contra objeto inmóvil</td>\n",
              "      <td>Trabajos de ajuste, mantenimiento y limpieza d...</td>\n",
              "      <td>No utilización o utilización incorrecta de EPIs</td>\n",
              "      <td>Cortes</td>\n",
              "      <td>0.0</td>\n",
              "      <td>NaN</td>\n",
              "      <td>...</td>\n",
              "      <td>NaN</td>\n",
              "      <td>Toni Carrasco</td>\n",
              "      <td>H&amp;S</td>\n",
              "      <td>NaN</td>\n",
              "      <td>0.0</td>\n",
              "      <td>Raro</td>\n",
              "      <td>Leve</td>\n",
              "      <td>no</td>\n",
              "      <td>0.0</td>\n",
              "      <td>Si</td>\n",
              "      <td>Si</td>\n",
              "      <td>Si</td>\n",
              "      <td>No</td>\n",
              "      <td>0.0</td>\n",
              "      <td>No</td>\n",
              "      <td>NaN</td>\n",
              "      <td>No</td>\n",
              "      <td>NaN</td>\n",
              "      <td>No</td>\n",
              "      <td>NaN</td>\n",
              "      <td>No</td>\n",
              "      <td>NaN</td>\n",
              "      <td>No</td>\n",
              "      <td>NaN</td>\n",
              "      <td>Si</td>\n",
              "      <td>No</td>\n",
              "      <td>10/1/18</td>\n",
              "      <td>0.0</td>\n",
              "      <td>NaN</td>\n",
              "      <td>NaN</td>\n",
              "      <td>0.0</td>\n",
              "      <td>NaN</td>\n",
              "      <td>NaN</td>\n",
              "      <td>NaN</td>\n",
              "      <td>No</td>\n",
              "      <td>NaN</td>\n",
              "      <td>NaN</td>\n",
              "      <td>NaN</td>\n",
              "      <td>1</td>\n",
              "      <td>NaN</td>\n",
              "    </tr>\n",
              "    <tr>\n",
              "      <th>2064</th>\n",
              "      <td>2565</td>\n",
              "      <td>0.0</td>\n",
              "      <td>HS-GNVT_2565</td>\n",
              "      <td>9/3/19</td>\n",
              "      <td>11/1/18</td>\n",
              "      <td>2018.0</td>\n",
              "      <td>201801</td>\n",
              "      <td>12</td>\n",
              "      <td>NaN</td>\n",
              "      <td>84</td>\n",
              "      <td>Carretillero</td>\n",
              "      <td>NaN</td>\n",
              "      <td>NaN</td>\n",
              "      <td>Si</td>\n",
              "      <td>NaN</td>\n",
              "      <td>NaN</td>\n",
              "      <td>Hombre</td>\n",
              "      <td>Turno de mañana</td>\n",
              "      <td>1</td>\n",
              "      <td>Si</td>\n",
              "      <td>NaN</td>\n",
              "      <td>Cuarta hora</td>\n",
              "      <td>ETT</td>\n",
              "      <td>EUROFIRMS</td>\n",
              "      <td>Almacén de Producto Terminado</td>\n",
              "      <td>NaN</td>\n",
              "      <td>Trasportar paquete</td>\n",
              "      <td>Si</td>\n",
              "      <td>NaN</td>\n",
              "      <td>NaN</td>\n",
              "      <td>NaN</td>\n",
              "      <td>Menos de 4 meses</td>\n",
              "      <td>15/10/18</td>\n",
              "      <td>Asociadas a la movilidad de los equipos automo...</td>\n",
              "      <td>Caída de objetos en manipulación</td>\n",
              "      <td>Carretilla elevadora</td>\n",
              "      <td>Cargas mal colocadas o elevadas o transportadas</td>\n",
              "      <td>NaN</td>\n",
              "      <td>0.0</td>\n",
              "      <td>NaN</td>\n",
              "      <td>...</td>\n",
              "      <td>NaN</td>\n",
              "      <td>TONI CARRASCO</td>\n",
              "      <td>H&amp;S</td>\n",
              "      <td>NaN</td>\n",
              "      <td>0.0</td>\n",
              "      <td>Ocasional</td>\n",
              "      <td>Leve</td>\n",
              "      <td>SI</td>\n",
              "      <td>0.0</td>\n",
              "      <td>Si</td>\n",
              "      <td>Si</td>\n",
              "      <td>Si</td>\n",
              "      <td>Si</td>\n",
              "      <td>0.0</td>\n",
              "      <td>No</td>\n",
              "      <td>NaN</td>\n",
              "      <td>No</td>\n",
              "      <td>NaN</td>\n",
              "      <td>No</td>\n",
              "      <td>NaN</td>\n",
              "      <td>No</td>\n",
              "      <td>NaN</td>\n",
              "      <td>No</td>\n",
              "      <td>NaN</td>\n",
              "      <td>No</td>\n",
              "      <td>No</td>\n",
              "      <td>11/1/18</td>\n",
              "      <td>0.0</td>\n",
              "      <td>NaN</td>\n",
              "      <td>NaN</td>\n",
              "      <td>0.0</td>\n",
              "      <td>NaN</td>\n",
              "      <td>NaN</td>\n",
              "      <td>NaN</td>\n",
              "      <td>No</td>\n",
              "      <td>NaN</td>\n",
              "      <td>NaN</td>\n",
              "      <td>NaN</td>\n",
              "      <td>3</td>\n",
              "      <td>NaN</td>\n",
              "    </tr>\n",
              "    <tr>\n",
              "      <th>2065</th>\n",
              "      <td>2566</td>\n",
              "      <td>0.0</td>\n",
              "      <td>HS-DNGG_2566</td>\n",
              "      <td>9/3/19</td>\n",
              "      <td>12/1/18</td>\n",
              "      <td>2018.0</td>\n",
              "      <td>201801</td>\n",
              "      <td>41</td>\n",
              "      <td>NaN</td>\n",
              "      <td>228</td>\n",
              "      <td>NaN</td>\n",
              "      <td>NaN</td>\n",
              "      <td>NaN</td>\n",
              "      <td>NaN</td>\n",
              "      <td>NaN</td>\n",
              "      <td>NaN</td>\n",
              "      <td>NaN</td>\n",
              "      <td>Turno de mañana</td>\n",
              "      <td>1</td>\n",
              "      <td>Si</td>\n",
              "      <td>NaN</td>\n",
              "      <td>Segunda hora</td>\n",
              "      <td>Incidente (no aplica)</td>\n",
              "      <td>NaN</td>\n",
              "      <td>Blanking</td>\n",
              "      <td>BLANK001</td>\n",
              "      <td>NaN</td>\n",
              "      <td>Si</td>\n",
              "      <td>NaN</td>\n",
              "      <td>NaN</td>\n",
              "      <td>NaN</td>\n",
              "      <td>Incidente (no aplica)</td>\n",
              "      <td>NaN</td>\n",
              "      <td>Sistemas de mando confusos o inseguros</td>\n",
              "      <td>Choque contra objeto móvil</td>\n",
              "      <td>Trabajos de ajuste, mantenimiento y limpieza d...</td>\n",
              "      <td>Desconocimiento del método de trabajo</td>\n",
              "      <td>NaN</td>\n",
              "      <td>0.0</td>\n",
              "      <td>NaN</td>\n",
              "      <td>...</td>\n",
              "      <td>NaN</td>\n",
              "      <td>Cai Fuming</td>\n",
              "      <td>Production</td>\n",
              "      <td>NaN</td>\n",
              "      <td>0.0</td>\n",
              "      <td>Ocasional</td>\n",
              "      <td>Leve</td>\n",
              "      <td>more things broken in the stacker</td>\n",
              "      <td>0.0</td>\n",
              "      <td>Si</td>\n",
              "      <td>Si</td>\n",
              "      <td>Si</td>\n",
              "      <td>Si</td>\n",
              "      <td>0.0</td>\n",
              "      <td>No</td>\n",
              "      <td>NaN</td>\n",
              "      <td>No</td>\n",
              "      <td>NaN</td>\n",
              "      <td>No</td>\n",
              "      <td>NaN</td>\n",
              "      <td>No</td>\n",
              "      <td>NaN</td>\n",
              "      <td>Si</td>\n",
              "      <td>we will add a new board with this warning</td>\n",
              "      <td>Si</td>\n",
              "      <td>No</td>\n",
              "      <td>12/1/18</td>\n",
              "      <td>0.0</td>\n",
              "      <td>NaN</td>\n",
              "      <td>NaN</td>\n",
              "      <td>0.0</td>\n",
              "      <td>NaN</td>\n",
              "      <td>NaN</td>\n",
              "      <td>NaN</td>\n",
              "      <td>No</td>\n",
              "      <td>NaN</td>\n",
              "      <td>NaN</td>\n",
              "      <td>NaN</td>\n",
              "      <td>3</td>\n",
              "      <td>NaN</td>\n",
              "    </tr>\n",
              "  </tbody>\n",
              "</table>\n",
              "<p>5 rows × 104 columns</p>\n",
              "</div>"
            ],
            "text/plain": [
              "        ID  -  DATOS DEL SUCESO -  ... Tipo Tema Acta reunión alta baja\n",
              "2057  2546                    0.0  ...         1                    NaN\n",
              "2062  2563                    0.0  ...         1                    NaN\n",
              "2063  2564                    0.0  ...         1                    NaN\n",
              "2064  2565                    0.0  ...         3                    NaN\n",
              "2065  2566                    0.0  ...         3                    NaN\n",
              "\n",
              "[5 rows x 104 columns]"
            ]
          },
          "metadata": {
            "tags": []
          },
          "execution_count": 311
        }
      ]
    },
    {
      "cell_type": "code",
      "metadata": {
        "colab": {
          "base_uri": "https://localhost:8080/"
        },
        "id": "lzAPU5nj5sR1",
        "outputId": "1c687d9c-51ca-49ae-ec95-fc10f80553b2"
      },
      "source": [
        "accidentes.columns"
      ],
      "execution_count": 312,
      "outputs": [
        {
          "output_type": "execute_result",
          "data": {
            "text/plain": [
              "Index(['ID', '-  DATOS DEL SUCESO -', 'Codigo accidentado',\n",
              "       'Fecha introduccion datos', 'Fecha accidente', 'Año',\n",
              "       'Codigo fecha accidente', 'Planta', 'Código empleado', 'Supervisor',\n",
              "       ...\n",
              "       '- PROPUESTA INICIAL DE MEDIDAS A PLANIFICAR -',\n",
              "       'Medida a planificar 1', 'Medida a planificar 2',\n",
              "       'Medida a planificar 3', 'Notificacion o investigacion',\n",
              "       'Modifica notificacion',\n",
              "       'Se ha dado un suceso similar (en cuanto a sus causas y consecuencias) en el último año en planta?',\n",
              "       'En caso afirmativo, cual es y como se actuó?', 'Tipo Tema',\n",
              "       'Acta reunión alta baja'],\n",
              "      dtype='object', length=104)"
            ]
          },
          "metadata": {
            "tags": []
          },
          "execution_count": 312
        }
      ]
    },
    {
      "cell_type": "code",
      "metadata": {
        "colab": {
          "base_uri": "https://localhost:8080/"
        },
        "id": "9tc0ohI_5dq8",
        "outputId": "db81f797-b4c3-487e-a94c-5dc3a6b82525"
      },
      "source": [
        "#lets check all columns dtypes\n",
        "with pd.option_context('display.max_rows', None, 'display.max_columns', None):\n",
        "    print(accidentes.dtypes)"
      ],
      "execution_count": 313,
      "outputs": [
        {
          "output_type": "stream",
          "text": [
            "ID                                                                                                     int64\n",
            "-  DATOS DEL SUCESO -                                                                                float64\n",
            "Codigo accidentado                                                                                    object\n",
            "Fecha introduccion datos                                                                              object\n",
            "Fecha accidente                                                                                       object\n",
            "Año                                                                                                  float64\n",
            "Codigo fecha accidente                                                                                 int64\n",
            "Planta                                                                                                 int64\n",
            "Código empleado                                                                                       object\n",
            "Supervisor                                                                                             int64\n",
            "Puesto habitual de trabajo                                                                            object\n",
            "Puesto habitual de trabajo - Cerrado                                                                  object\n",
            "MOI o MOD                                                                                             object\n",
            "La estaba desempeñando                                                                                object\n",
            "En caso negativo, indicar qué estaba desempeñando                                                     object\n",
            "Edad                                                                                                  object\n",
            "Género                                                                                                object\n",
            "Turno                                                                                                 object\n",
            "Numero personas implicadas                                                                             int64\n",
            "Llevaba EPIs puestos                                                                                  object\n",
            "Hora                                                                                                  object\n",
            "Hora jornada                                                                                          object\n",
            "Tipo trabajador                                                                                       object\n",
            "En caso de ser ajeno, indicar empresa                                                                 object\n",
            "Lugar o seccion accidente                                                                             object\n",
            "Línea de producción                                                                                   object\n",
            "Tarea que estaba realizando                                                                           object\n",
            "Cumplimiento Instruccion de Seguridad                                                                 object\n",
            "¿Se ha incumplido alguna de las normas o instrucciones existentes y explicadas?                       object\n",
            "En caso de incumplimiento, comentarios:                                                               object\n",
            "En caso negativo, indicar la razon                                                                    object\n",
            "Experiencia en puesto                                                                                 object\n",
            "Fecha ultima formacion completa sobre instrucciones en el puesto                                      object\n",
            "Condicion peligrosa                                                                                   object\n",
            "Forma de producirse                                                                                   object\n",
            "Factores de peligro                                                                                   object\n",
            "Acto inseguro                                                                                         object\n",
            "Naturaleza de lesion                                                                                  object\n",
            "- FORMA EN QUE SE PRODUJO -                                                                          float64\n",
            "Descripción supervisor                                                                                object\n",
            "Causa inmediata supervisor                                                                            object\n",
            "¿Por qué ocurrió el incidente?                                                                        object\n",
            "¿… y por qué se dio esa circunstancia?                                                                object\n",
            "¿… y por qué se dio esa otra circunstancia?                                                           object\n",
            "- DESCRIPCIÓN -                                                                                      float64\n",
            "Tipo accidente                                                                                        object\n",
            "Causa inmediata                                                                                       object\n",
            "Descripcion accidente o incidente                                                                     object\n",
            "Fotos del accidente                                                                                   object\n",
            "- CONSECUENCIAS -                                                                                    float64\n",
            "Fecha inicio baja                                                                                     object\n",
            "Codigo fecha inicio baja                                                                             float64\n",
            "Daños personales                                                                                      object\n",
            "Parte lesionada                                                                                       object\n",
            "Descripcion de la lesion                                                                              object\n",
            "Daños materiales                                                                                      object\n",
            "Consecuencias materiales                                                                              object\n",
            "Descripcion pérdida material                                                                          object\n",
            "- FECHA DE ALTA Y RECAÍDA -                                                                          float64\n",
            "Fecha alta                                                                                            object\n",
            "Comentarios recaída                                                                                   object\n",
            "Jornadas laborales perdidas                                                                          float64\n",
            "- INVESTIGACIÓN -                                                                                    float64\n",
            "Coordinador de Seguridad y Salud                                                                      object\n",
            "Nombre del Coordinador - despegable                                                                   object\n",
            "Nombre de participante a la investigación                                                             object\n",
            "Responsable de Departamento                                                                           object\n",
            "Fecha cierre informe                                                                                  object\n",
            "- VALORACIÓN DE LOS HECHOS -                                                                         float64\n",
            "Probabilidad de repeticion del suceso                                                                 object\n",
            "Gravedad potencial                                                                                    object\n",
            "Podría haberse dado otro riesgo en estas circunstancias                                               object\n",
            "- MEDIDAS DE CONTROL -                                                                               float64\n",
            "Posibilidad de este suceso detectada en la evaluación de riesgos                                      object\n",
            "Estaban contempladas las medidas preventivas en la Instruccion de Seguridad                           object\n",
            "Los implicados conocian la existencia del riesgo y las medidas a adoptar                              object\n",
            "Se habian cumplido las normas establecidas, en caso de estar definidas                                object\n",
            "- PROPUESTA DE ACCIONES -                                                                            float64\n",
            "Estas acciones pueden añadir riesgos a los ya existentes                                              object\n",
            "1 En caso afirmativo, cual es                                                                         object\n",
            "Se abre NC como consecuencia de esta investigacion                                                    object\n",
            "2 En caso afirmativo, cual es                                                                         object\n",
            "Requiere revision de Evaluacion de Riesgos                                                            object\n",
            "3 En caso afirmativo, cual es                                                                         object\n",
            "Requiere revision de alguna Instruccion de Seguridad                                                  object\n",
            "4 En caso afirmativo, cual es                                                                         object\n",
            "Requiere incorporar algun aspecto en el check list de Inspecciones                                    object\n",
            "5 En caso afirmativo, cual es                                                                         object\n",
            "Requiere amonestacion verbal el empleado                                                              object\n",
            "Bloqueado                                                                                             object\n",
            "Fecha accidente trigger                                                                               object\n",
            "- ACTUACIONES INMEDIATAS TOMADAS -                                                                   float64\n",
            "Actuación inmediata asistencial                                                                       object\n",
            "Actuación inmediata instalaciones                                                                     object\n",
            "- PROPUESTA INICIAL DE MEDIDAS A PLANIFICAR -                                                        float64\n",
            "Medida a planificar 1                                                                                 object\n",
            "Medida a planificar 2                                                                                 object\n",
            "Medida a planificar 3                                                                                 object\n",
            "Notificacion o investigacion                                                                          object\n",
            "Modifica notificacion                                                                                 object\n",
            "Se ha dado un suceso similar (en cuanto a sus causas y consecuencias) en el último año en planta?     object\n",
            "En caso afirmativo, cual es y como se actuó?                                                          object\n",
            "Tipo Tema                                                                                              int64\n",
            "Acta reunión alta baja                                                                               float64\n",
            "dtype: object\n"
          ],
          "name": "stdout"
        }
      ]
    },
    {
      "cell_type": "code",
      "metadata": {
        "colab": {
          "base_uri": "https://localhost:8080/"
        },
        "id": "2DlQRjYaX5G7",
        "outputId": "86cfdf78-6fc0-42e1-ee74-5c4b2f455ea9"
      },
      "source": [
        "accidentes['Gravedad potencial'].unique()"
      ],
      "execution_count": 314,
      "outputs": [
        {
          "output_type": "execute_result",
          "data": {
            "text/plain": [
              "array(['Muy grave', 'Leve', 'Grave', nan], dtype=object)"
            ]
          },
          "metadata": {
            "tags": []
          },
          "execution_count": 314
        }
      ]
    },
    {
      "cell_type": "code",
      "metadata": {
        "colab": {
          "base_uri": "https://localhost:8080/",
          "height": 205
        },
        "id": "GyMVvB9rX7C9",
        "outputId": "57920402-2a81-40ea-f0d7-acf02c6bf7e4"
      },
      "source": [
        "## we are going to filter to get the most important columns\n",
        "staff = accidentes[['Codigo accidentado', 'Puesto habitual de trabajo','Turno','Edad','Género','Planta', 'Tipo accidente', 'Tipo trabajador', 'Gravedad potencial', 'Lugar o seccion accidente']]\n",
        "staff.head()"
      ],
      "execution_count": 315,
      "outputs": [
        {
          "output_type": "execute_result",
          "data": {
            "text/html": [
              "<div>\n",
              "<style scoped>\n",
              "    .dataframe tbody tr th:only-of-type {\n",
              "        vertical-align: middle;\n",
              "    }\n",
              "\n",
              "    .dataframe tbody tr th {\n",
              "        vertical-align: top;\n",
              "    }\n",
              "\n",
              "    .dataframe thead th {\n",
              "        text-align: right;\n",
              "    }\n",
              "</style>\n",
              "<table border=\"1\" class=\"dataframe\">\n",
              "  <thead>\n",
              "    <tr style=\"text-align: right;\">\n",
              "      <th></th>\n",
              "      <th>Codigo accidentado</th>\n",
              "      <th>Puesto habitual de trabajo</th>\n",
              "      <th>Turno</th>\n",
              "      <th>Edad</th>\n",
              "      <th>Género</th>\n",
              "      <th>Planta</th>\n",
              "      <th>Tipo accidente</th>\n",
              "      <th>Tipo trabajador</th>\n",
              "      <th>Gravedad potencial</th>\n",
              "      <th>Lugar o seccion accidente</th>\n",
              "    </tr>\n",
              "  </thead>\n",
              "  <tbody>\n",
              "    <tr>\n",
              "      <th>2057</th>\n",
              "      <td>HS-CLMB_2546</td>\n",
              "      <td>Operario de Puente Grúa</td>\n",
              "      <td>Turno de mañana</td>\n",
              "      <td>31</td>\n",
              "      <td>Hombre</td>\n",
              "      <td>20</td>\n",
              "      <td>Accidente c/b</td>\n",
              "      <td>ETT</td>\n",
              "      <td>Muy grave</td>\n",
              "      <td>Células Soldadura</td>\n",
              "    </tr>\n",
              "    <tr>\n",
              "      <th>2062</th>\n",
              "      <td>HS-CEPA_2563</td>\n",
              "      <td>Engraving</td>\n",
              "      <td>Turno de mañana</td>\n",
              "      <td>35</td>\n",
              "      <td>Hombre</td>\n",
              "      <td>19</td>\n",
              "      <td>Accidente c/b</td>\n",
              "      <td>Indefinido</td>\n",
              "      <td>Leve</td>\n",
              "      <td>Tubos</td>\n",
              "    </tr>\n",
              "    <tr>\n",
              "      <th>2063</th>\n",
              "      <td>HS-GNVT_2564</td>\n",
              "      <td>Titular L-8</td>\n",
              "      <td>Turno de tarde</td>\n",
              "      <td>54</td>\n",
              "      <td>Hombre</td>\n",
              "      <td>12</td>\n",
              "      <td>Accidente s/b</td>\n",
              "      <td>Duración Determinada</td>\n",
              "      <td>Leve</td>\n",
              "      <td>Tubos</td>\n",
              "    </tr>\n",
              "    <tr>\n",
              "      <th>2064</th>\n",
              "      <td>HS-GNVT_2565</td>\n",
              "      <td>Carretillero</td>\n",
              "      <td>Turno de mañana</td>\n",
              "      <td>NaN</td>\n",
              "      <td>Hombre</td>\n",
              "      <td>12</td>\n",
              "      <td>Incidente</td>\n",
              "      <td>ETT</td>\n",
              "      <td>Leve</td>\n",
              "      <td>Almacén de Producto Terminado</td>\n",
              "    </tr>\n",
              "    <tr>\n",
              "      <th>2065</th>\n",
              "      <td>HS-DNGG_2566</td>\n",
              "      <td>NaN</td>\n",
              "      <td>Turno de mañana</td>\n",
              "      <td>NaN</td>\n",
              "      <td>NaN</td>\n",
              "      <td>41</td>\n",
              "      <td>Incidente</td>\n",
              "      <td>Incidente (no aplica)</td>\n",
              "      <td>Leve</td>\n",
              "      <td>Blanking</td>\n",
              "    </tr>\n",
              "  </tbody>\n",
              "</table>\n",
              "</div>"
            ],
            "text/plain": [
              "     Codigo accidentado  ...      Lugar o seccion accidente\n",
              "2057       HS-CLMB_2546  ...              Células Soldadura\n",
              "2062       HS-CEPA_2563  ...                          Tubos\n",
              "2063       HS-GNVT_2564  ...                          Tubos\n",
              "2064       HS-GNVT_2565  ...  Almacén de Producto Terminado\n",
              "2065       HS-DNGG_2566  ...                       Blanking\n",
              "\n",
              "[5 rows x 10 columns]"
            ]
          },
          "metadata": {
            "tags": []
          },
          "execution_count": 315
        }
      ]
    },
    {
      "cell_type": "markdown",
      "metadata": {
        "id": "MSHXcion6TwX"
      },
      "source": [
        "Now we are going to upload the Plants and Tech file, which contains the relation between the fabric the tecnology and the country. We can join this table with the staff table by Planta - ID"
      ]
    },
    {
      "cell_type": "code",
      "metadata": {
        "colab": {
          "base_uri": "https://localhost:8080/",
          "height": 205
        },
        "id": "pKf83P3gZKU-",
        "outputId": "26f15ae2-dc93-48aa-c0de-ccdbe4b6a7be"
      },
      "source": [
        "planta = pd.read_csv('G_Plantas y Tech.csv', sep=';')\n",
        "planta.drop(columns={'Activo'}, inplace=True)\n",
        "planta.head()"
      ],
      "execution_count": 316,
      "outputs": [
        {
          "output_type": "execute_result",
          "data": {
            "text/html": [
              "<div>\n",
              "<style scoped>\n",
              "    .dataframe tbody tr th:only-of-type {\n",
              "        vertical-align: middle;\n",
              "    }\n",
              "\n",
              "    .dataframe tbody tr th {\n",
              "        vertical-align: top;\n",
              "    }\n",
              "\n",
              "    .dataframe thead th {\n",
              "        text-align: right;\n",
              "    }\n",
              "</style>\n",
              "<table border=\"1\" class=\"dataframe\">\n",
              "  <thead>\n",
              "    <tr style=\"text-align: right;\">\n",
              "      <th></th>\n",
              "      <th>ID</th>\n",
              "      <th>Fabrica</th>\n",
              "      <th>Tecnología</th>\n",
              "      <th>Pais</th>\n",
              "    </tr>\n",
              "  </thead>\n",
              "  <tbody>\n",
              "    <tr>\n",
              "      <th>0</th>\n",
              "      <td>1</td>\n",
              "      <td>Argentina</td>\n",
              "      <td>Blanking</td>\n",
              "      <td>Argentina</td>\n",
              "    </tr>\n",
              "    <tr>\n",
              "      <th>1</th>\n",
              "      <td>2</td>\n",
              "      <td>Argentina</td>\n",
              "      <td>Corte Longitudinal</td>\n",
              "      <td>Argentina</td>\n",
              "    </tr>\n",
              "    <tr>\n",
              "      <th>2</th>\n",
              "      <td>3</td>\n",
              "      <td>Argentina</td>\n",
              "      <td>Corte Transversal</td>\n",
              "      <td>Argentina</td>\n",
              "    </tr>\n",
              "    <tr>\n",
              "      <th>3</th>\n",
              "      <td>4</td>\n",
              "      <td>Arizona</td>\n",
              "      <td>Células Soldadura</td>\n",
              "      <td>EEUU</td>\n",
              "    </tr>\n",
              "    <tr>\n",
              "      <th>4</th>\n",
              "      <td>5</td>\n",
              "      <td>Arizona</td>\n",
              "      <td>Corte Láser</td>\n",
              "      <td>EEUU</td>\n",
              "    </tr>\n",
              "  </tbody>\n",
              "</table>\n",
              "</div>"
            ],
            "text/plain": [
              "   ID    Fabrica          Tecnología       Pais\n",
              "0   1  Argentina            Blanking  Argentina\n",
              "1   2  Argentina  Corte Longitudinal  Argentina\n",
              "2   3  Argentina   Corte Transversal  Argentina\n",
              "3   4    Arizona   Células Soldadura       EEUU\n",
              "4   5    Arizona         Corte Láser       EEUU"
            ]
          },
          "metadata": {
            "tags": []
          },
          "execution_count": 316
        }
      ]
    },
    {
      "cell_type": "code",
      "metadata": {
        "id": "ycAEG8ykZZi3"
      },
      "source": [
        "# we merge both df so we have all information in staff df with a left join in case we dont have plants for some rows\n",
        "\n",
        "staff = staff.merge(planta, left_on='Planta', right_on='ID', how='left')\n"
      ],
      "execution_count": 317,
      "outputs": []
    },
    {
      "cell_type": "code",
      "metadata": {
        "colab": {
          "base_uri": "https://localhost:8080/",
          "height": 205
        },
        "id": "wOQez98xaDFQ",
        "outputId": "93a41bb5-b8ab-44d1-fccb-304ad499f178"
      },
      "source": [
        "staff.drop(columns={'ID'}, inplace=True)\n",
        "\n",
        "staff.head()"
      ],
      "execution_count": 318,
      "outputs": [
        {
          "output_type": "execute_result",
          "data": {
            "text/html": [
              "<div>\n",
              "<style scoped>\n",
              "    .dataframe tbody tr th:only-of-type {\n",
              "        vertical-align: middle;\n",
              "    }\n",
              "\n",
              "    .dataframe tbody tr th {\n",
              "        vertical-align: top;\n",
              "    }\n",
              "\n",
              "    .dataframe thead th {\n",
              "        text-align: right;\n",
              "    }\n",
              "</style>\n",
              "<table border=\"1\" class=\"dataframe\">\n",
              "  <thead>\n",
              "    <tr style=\"text-align: right;\">\n",
              "      <th></th>\n",
              "      <th>Codigo accidentado</th>\n",
              "      <th>Puesto habitual de trabajo</th>\n",
              "      <th>Turno</th>\n",
              "      <th>Edad</th>\n",
              "      <th>Género</th>\n",
              "      <th>Planta</th>\n",
              "      <th>Tipo accidente</th>\n",
              "      <th>Tipo trabajador</th>\n",
              "      <th>Gravedad potencial</th>\n",
              "      <th>Lugar o seccion accidente</th>\n",
              "      <th>Fabrica</th>\n",
              "      <th>Tecnología</th>\n",
              "      <th>Pais</th>\n",
              "    </tr>\n",
              "  </thead>\n",
              "  <tbody>\n",
              "    <tr>\n",
              "      <th>0</th>\n",
              "      <td>HS-CLMB_2546</td>\n",
              "      <td>Operario de Puente Grúa</td>\n",
              "      <td>Turno de mañana</td>\n",
              "      <td>31</td>\n",
              "      <td>Hombre</td>\n",
              "      <td>20</td>\n",
              "      <td>Accidente c/b</td>\n",
              "      <td>ETT</td>\n",
              "      <td>Muy grave</td>\n",
              "      <td>Células Soldadura</td>\n",
              "      <td>Burgos</td>\n",
              "      <td>Skinpass</td>\n",
              "      <td>España</td>\n",
              "    </tr>\n",
              "    <tr>\n",
              "      <th>1</th>\n",
              "      <td>HS-CEPA_2563</td>\n",
              "      <td>Engraving</td>\n",
              "      <td>Turno de mañana</td>\n",
              "      <td>35</td>\n",
              "      <td>Hombre</td>\n",
              "      <td>19</td>\n",
              "      <td>Accidente c/b</td>\n",
              "      <td>Indefinido</td>\n",
              "      <td>Leve</td>\n",
              "      <td>Tubos</td>\n",
              "      <td>Burgos</td>\n",
              "      <td>Recocido</td>\n",
              "      <td>España</td>\n",
              "    </tr>\n",
              "    <tr>\n",
              "      <th>2</th>\n",
              "      <td>HS-GNVT_2564</td>\n",
              "      <td>Titular L-8</td>\n",
              "      <td>Turno de tarde</td>\n",
              "      <td>54</td>\n",
              "      <td>Hombre</td>\n",
              "      <td>12</td>\n",
              "      <td>Accidente s/b</td>\n",
              "      <td>Duración Determinada</td>\n",
              "      <td>Leve</td>\n",
              "      <td>Tubos</td>\n",
              "      <td>Barcelona</td>\n",
              "      <td>Skinpass</td>\n",
              "      <td>España</td>\n",
              "    </tr>\n",
              "    <tr>\n",
              "      <th>3</th>\n",
              "      <td>HS-GNVT_2565</td>\n",
              "      <td>Carretillero</td>\n",
              "      <td>Turno de mañana</td>\n",
              "      <td>NaN</td>\n",
              "      <td>Hombre</td>\n",
              "      <td>12</td>\n",
              "      <td>Incidente</td>\n",
              "      <td>ETT</td>\n",
              "      <td>Leve</td>\n",
              "      <td>Almacén de Producto Terminado</td>\n",
              "      <td>Barcelona</td>\n",
              "      <td>Skinpass</td>\n",
              "      <td>España</td>\n",
              "    </tr>\n",
              "    <tr>\n",
              "      <th>4</th>\n",
              "      <td>HS-DNGG_2566</td>\n",
              "      <td>NaN</td>\n",
              "      <td>Turno de mañana</td>\n",
              "      <td>NaN</td>\n",
              "      <td>NaN</td>\n",
              "      <td>41</td>\n",
              "      <td>Incidente</td>\n",
              "      <td>Incidente (no aplica)</td>\n",
              "      <td>Leve</td>\n",
              "      <td>Blanking</td>\n",
              "      <td>Asturias</td>\n",
              "      <td>Corte Láser</td>\n",
              "      <td>España</td>\n",
              "    </tr>\n",
              "  </tbody>\n",
              "</table>\n",
              "</div>"
            ],
            "text/plain": [
              "  Codigo accidentado Puesto habitual de trabajo  ...   Tecnología    Pais\n",
              "0       HS-CLMB_2546    Operario de Puente Grúa  ...     Skinpass  España\n",
              "1       HS-CEPA_2563                  Engraving  ...     Recocido  España\n",
              "2       HS-GNVT_2564                Titular L-8  ...     Skinpass  España\n",
              "3       HS-GNVT_2565               Carretillero  ...     Skinpass  España\n",
              "4       HS-DNGG_2566                        NaN  ...  Corte Láser  España\n",
              "\n",
              "[5 rows x 13 columns]"
            ]
          },
          "metadata": {
            "tags": []
          },
          "execution_count": 318
        }
      ]
    },
    {
      "cell_type": "code",
      "metadata": {
        "colab": {
          "base_uri": "https://localhost:8080/"
        },
        "id": "C63jEalecZG9",
        "outputId": "6fd51516-717b-4227-a2b0-951bd94d6ea7"
      },
      "source": [
        "len(staff) ## we have same amount as before"
      ],
      "execution_count": 319,
      "outputs": [
        {
          "output_type": "execute_result",
          "data": {
            "text/plain": [
              "4180"
            ]
          },
          "metadata": {
            "tags": []
          },
          "execution_count": 319
        }
      ]
    },
    {
      "cell_type": "markdown",
      "metadata": {
        "id": "t3mDNDyVap0l"
      },
      "source": [
        "Now we are going to upload some staff data to get the number of trainning hours per plant and have a reference of the quantity of employees we want to generate. \n",
        "\n",
        "This data is aggregated so it is not valid for our model."
      ]
    },
    {
      "cell_type": "code",
      "metadata": {
        "colab": {
          "base_uri": "https://localhost:8080/"
        },
        "id": "VBXW__tUapZn",
        "outputId": "55164347-1c4d-4a15-95d2-171b51a834db"
      },
      "source": [
        "rrhh_plant = pd.read_csv('Datos_plantilla_fabrica.csv', sep=';')\n",
        "\n",
        "rrhh_plant['Año'].unique()"
      ],
      "execution_count": 320,
      "outputs": [
        {
          "output_type": "execute_result",
          "data": {
            "text/plain": [
              "array([2017., 2016., 2018., 2019.,   nan, 2020., 2021.])"
            ]
          },
          "metadata": {
            "tags": []
          },
          "execution_count": 320
        }
      ]
    },
    {
      "cell_type": "code",
      "metadata": {
        "id": "AYIu-lEjbJF5"
      },
      "source": [
        "# we are getting only 2020 for our analysis to have a reference\n",
        "\n",
        "rrhh_plant = rrhh_plant[rrhh_plant['Año']==2020]\n"
      ],
      "execution_count": 321,
      "outputs": []
    },
    {
      "cell_type": "code",
      "metadata": {
        "colab": {
          "base_uri": "https://localhost:8080/",
          "height": 257
        },
        "id": "Tdw6rjhXbUPh",
        "outputId": "9afb39d3-feaf-4537-d95f-523681c83ca7"
      },
      "source": [
        "rrhh_plant.head()"
      ],
      "execution_count": 322,
      "outputs": [
        {
          "output_type": "execute_result",
          "data": {
            "text/html": [
              "<div>\n",
              "<style scoped>\n",
              "    .dataframe tbody tr th:only-of-type {\n",
              "        vertical-align: middle;\n",
              "    }\n",
              "\n",
              "    .dataframe tbody tr th {\n",
              "        vertical-align: top;\n",
              "    }\n",
              "\n",
              "    .dataframe thead th {\n",
              "        text-align: right;\n",
              "    }\n",
              "</style>\n",
              "<table border=\"1\" class=\"dataframe\">\n",
              "  <thead>\n",
              "    <tr style=\"text-align: right;\">\n",
              "      <th></th>\n",
              "      <th>ID</th>\n",
              "      <th>Planta</th>\n",
              "      <th>Año</th>\n",
              "      <th>Mes</th>\n",
              "      <th>Empleados Propios</th>\n",
              "      <th>Empleados Ajenos</th>\n",
              "      <th>Empleados ETTS</th>\n",
              "      <th>Empleados Subcontrata</th>\n",
              "      <th>Horas Presencia Efectiva Propios</th>\n",
              "      <th>Horas Presencia Efectiva Subcontratados</th>\n",
              "      <th>Horas Presencia Efectiva ETTs</th>\n",
              "      <th>Horas Formacion Seguridad Propios</th>\n",
              "      <th>Horas Formacion Seguridad ETTs</th>\n",
              "      <th>Horas Formacion General Propios</th>\n",
              "      <th>Empleados Propios - indefinido</th>\n",
              "      <th>Empleados Propios - duración determinada</th>\n",
              "    </tr>\n",
              "  </thead>\n",
              "  <tbody>\n",
              "    <tr>\n",
              "      <th>2615</th>\n",
              "      <td>3819</td>\n",
              "      <td>Barcelona</td>\n",
              "      <td>2020.0</td>\n",
              "      <td>ENE</td>\n",
              "      <td>203.0</td>\n",
              "      <td>28.0</td>\n",
              "      <td>8.0</td>\n",
              "      <td>20.0</td>\n",
              "      <td>29770,3</td>\n",
              "      <td>3138</td>\n",
              "      <td>1307,5</td>\n",
              "      <td>15</td>\n",
              "      <td>23</td>\n",
              "      <td>211</td>\n",
              "      <td>189.0</td>\n",
              "      <td>14.0</td>\n",
              "    </tr>\n",
              "    <tr>\n",
              "      <th>2616</th>\n",
              "      <td>3820</td>\n",
              "      <td>Burgos</td>\n",
              "      <td>2020.0</td>\n",
              "      <td>ENE</td>\n",
              "      <td>239.0</td>\n",
              "      <td>68.0</td>\n",
              "      <td>28.0</td>\n",
              "      <td>40.0</td>\n",
              "      <td>32625</td>\n",
              "      <td>6487</td>\n",
              "      <td>4549,3</td>\n",
              "      <td>445</td>\n",
              "      <td>348,5</td>\n",
              "      <td>757</td>\n",
              "      <td>188.0</td>\n",
              "      <td>38.0</td>\n",
              "    </tr>\n",
              "    <tr>\n",
              "      <th>2617</th>\n",
              "      <td>3821</td>\n",
              "      <td>Tarragona</td>\n",
              "      <td>2020.0</td>\n",
              "      <td>ENE</td>\n",
              "      <td>49.0</td>\n",
              "      <td>17.0</td>\n",
              "      <td>5.0</td>\n",
              "      <td>12.0</td>\n",
              "      <td>8352,5</td>\n",
              "      <td>2080</td>\n",
              "      <td>862</td>\n",
              "      <td>8</td>\n",
              "      <td>12</td>\n",
              "      <td>111</td>\n",
              "      <td>46.0</td>\n",
              "      <td>3.0</td>\n",
              "    </tr>\n",
              "    <tr>\n",
              "      <th>2618</th>\n",
              "      <td>3822</td>\n",
              "      <td>Valencia</td>\n",
              "      <td>2020.0</td>\n",
              "      <td>ENE</td>\n",
              "      <td>153.0</td>\n",
              "      <td>28.0</td>\n",
              "      <td>24.0</td>\n",
              "      <td>3.0</td>\n",
              "      <td>22105,2</td>\n",
              "      <td>647</td>\n",
              "      <td>3968,3</td>\n",
              "      <td>8</td>\n",
              "      <td>6</td>\n",
              "      <td>35,5</td>\n",
              "      <td>139.0</td>\n",
              "      <td>2.0</td>\n",
              "    </tr>\n",
              "    <tr>\n",
              "      <th>2619</th>\n",
              "      <td>3823</td>\n",
              "      <td>Portugal</td>\n",
              "      <td>2020.0</td>\n",
              "      <td>ENE</td>\n",
              "      <td>99.0</td>\n",
              "      <td>12.0</td>\n",
              "      <td>10.0</td>\n",
              "      <td>2.0</td>\n",
              "      <td>16625,75</td>\n",
              "      <td>384</td>\n",
              "      <td>1866,5</td>\n",
              "      <td>80</td>\n",
              "      <td>32,5</td>\n",
              "      <td>514</td>\n",
              "      <td>72.0</td>\n",
              "      <td>28.0</td>\n",
              "    </tr>\n",
              "  </tbody>\n",
              "</table>\n",
              "</div>"
            ],
            "text/plain": [
              "        ID  ... Empleados Propios - duración determinada\n",
              "2615  3819  ...                                     14.0\n",
              "2616  3820  ...                                     38.0\n",
              "2617  3821  ...                                      3.0\n",
              "2618  3822  ...                                      2.0\n",
              "2619  3823  ...                                     28.0\n",
              "\n",
              "[5 rows x 16 columns]"
            ]
          },
          "metadata": {
            "tags": []
          },
          "execution_count": 322
        }
      ]
    },
    {
      "cell_type": "code",
      "metadata": {
        "colab": {
          "base_uri": "https://localhost:8080/"
        },
        "id": "__DNNs_IF0LU",
        "outputId": "34cdab6a-0d99-45b0-953d-be9f2440c0de"
      },
      "source": [
        "a = 545613.01\n",
        "round(a)"
      ],
      "execution_count": 323,
      "outputs": [
        {
          "output_type": "execute_result",
          "data": {
            "text/plain": [
              "545613"
            ]
          },
          "metadata": {
            "tags": []
          },
          "execution_count": 323
        }
      ]
    },
    {
      "cell_type": "code",
      "metadata": {
        "id": "aQ6lOc6eBwxr"
      },
      "source": [
        "lista = ['Horas Presencia Efectiva Propios', 'Horas Presencia Efectiva Subcontratados', 'Horas Presencia Efectiva ETTs','Horas Formacion Seguridad Propios' ,'Horas Formacion Seguridad ETTs', 'Horas Formacion General Propios'  ]\n",
        "\n",
        "for column in lista:  \n",
        "  rrhh_plant[column] = rrhh_plant[column].apply(lambda x: x.replace(',', '.')).astype(float)\n",
        "  rrhh_plant[column] = rrhh_plant[column].apply(lambda x: round(x))"
      ],
      "execution_count": 324,
      "outputs": []
    },
    {
      "cell_type": "code",
      "metadata": {
        "colab": {
          "base_uri": "https://localhost:8080/"
        },
        "id": "K3Zl33woBSyT",
        "outputId": "4efb85b2-af4d-4cee-e982-567b15ff5ad5"
      },
      "source": [
        "rrhh_plant.dtypes"
      ],
      "execution_count": 325,
      "outputs": [
        {
          "output_type": "execute_result",
          "data": {
            "text/plain": [
              "ID                                            int64\n",
              "Planta                                       object\n",
              "Año                                         float64\n",
              "Mes                                          object\n",
              "Empleados Propios                           float64\n",
              "Empleados Ajenos                            float64\n",
              "Empleados ETTS                              float64\n",
              "Empleados Subcontrata                       float64\n",
              "Horas Presencia Efectiva Propios              int64\n",
              "Horas Presencia Efectiva Subcontratados       int64\n",
              "Horas Presencia Efectiva ETTs                 int64\n",
              "Horas Formacion Seguridad Propios             int64\n",
              "Horas Formacion Seguridad ETTs                int64\n",
              "Horas Formacion General Propios               int64\n",
              "Empleados Propios - indefinido              float64\n",
              "Empleados Propios - duración determinada    float64\n",
              "dtype: object"
            ]
          },
          "metadata": {
            "tags": []
          },
          "execution_count": 325
        }
      ]
    },
    {
      "cell_type": "code",
      "metadata": {
        "id": "TUC8nVIObaIi"
      },
      "source": [
        "trainning_hours = rrhh_plant[['Planta','Horas Presencia Efectiva Subcontratados', 'Horas Presencia Efectiva ETTs', 'Horas Formacion Seguridad Propios', 'Horas Formacion Seguridad ETTs']]"
      ],
      "execution_count": 326,
      "outputs": []
    },
    {
      "cell_type": "code",
      "metadata": {
        "colab": {
          "base_uri": "https://localhost:8080/",
          "height": 172
        },
        "id": "CKCTghNybt4M",
        "outputId": "28c7ecc9-8cdd-46e5-8161-4537a0681292"
      },
      "source": [
        "trainning_hours.rename(columns={'Planta':'Fabrica'}, inplace=True)\n",
        "trainning_hours.head(1)"
      ],
      "execution_count": 327,
      "outputs": [
        {
          "output_type": "stream",
          "text": [
            "/usr/local/lib/python3.7/dist-packages/pandas/core/frame.py:4308: SettingWithCopyWarning: \n",
            "A value is trying to be set on a copy of a slice from a DataFrame\n",
            "\n",
            "See the caveats in the documentation: https://pandas.pydata.org/pandas-docs/stable/user_guide/indexing.html#returning-a-view-versus-a-copy\n",
            "  errors=errors,\n"
          ],
          "name": "stderr"
        },
        {
          "output_type": "execute_result",
          "data": {
            "text/html": [
              "<div>\n",
              "<style scoped>\n",
              "    .dataframe tbody tr th:only-of-type {\n",
              "        vertical-align: middle;\n",
              "    }\n",
              "\n",
              "    .dataframe tbody tr th {\n",
              "        vertical-align: top;\n",
              "    }\n",
              "\n",
              "    .dataframe thead th {\n",
              "        text-align: right;\n",
              "    }\n",
              "</style>\n",
              "<table border=\"1\" class=\"dataframe\">\n",
              "  <thead>\n",
              "    <tr style=\"text-align: right;\">\n",
              "      <th></th>\n",
              "      <th>Fabrica</th>\n",
              "      <th>Horas Presencia Efectiva Subcontratados</th>\n",
              "      <th>Horas Presencia Efectiva ETTs</th>\n",
              "      <th>Horas Formacion Seguridad Propios</th>\n",
              "      <th>Horas Formacion Seguridad ETTs</th>\n",
              "    </tr>\n",
              "  </thead>\n",
              "  <tbody>\n",
              "    <tr>\n",
              "      <th>2615</th>\n",
              "      <td>Barcelona</td>\n",
              "      <td>3138</td>\n",
              "      <td>1308</td>\n",
              "      <td>15</td>\n",
              "      <td>23</td>\n",
              "    </tr>\n",
              "  </tbody>\n",
              "</table>\n",
              "</div>"
            ],
            "text/plain": [
              "        Fabrica  ...  Horas Formacion Seguridad ETTs\n",
              "2615  Barcelona  ...                              23\n",
              "\n",
              "[1 rows x 5 columns]"
            ]
          },
          "metadata": {
            "tags": []
          },
          "execution_count": 327
        }
      ]
    },
    {
      "cell_type": "code",
      "metadata": {
        "id": "-Bn5ixLVcgjz",
        "colab": {
          "base_uri": "https://localhost:8080/",
          "height": 205
        },
        "outputId": "ae1a3698-e058-405f-d0e6-dd82d8c2e197"
      },
      "source": [
        "trainning_hours = trainning_hours.groupby('Fabrica').agg('sum').reset_index() ## we get the nº of trainning hours by fabric\n",
        "trainning_hours.head()"
      ],
      "execution_count": 328,
      "outputs": [
        {
          "output_type": "execute_result",
          "data": {
            "text/html": [
              "<div>\n",
              "<style scoped>\n",
              "    .dataframe tbody tr th:only-of-type {\n",
              "        vertical-align: middle;\n",
              "    }\n",
              "\n",
              "    .dataframe tbody tr th {\n",
              "        vertical-align: top;\n",
              "    }\n",
              "\n",
              "    .dataframe thead th {\n",
              "        text-align: right;\n",
              "    }\n",
              "</style>\n",
              "<table border=\"1\" class=\"dataframe\">\n",
              "  <thead>\n",
              "    <tr style=\"text-align: right;\">\n",
              "      <th></th>\n",
              "      <th>Fabrica</th>\n",
              "      <th>Horas Presencia Efectiva Subcontratados</th>\n",
              "      <th>Horas Presencia Efectiva ETTs</th>\n",
              "      <th>Horas Formacion Seguridad Propios</th>\n",
              "      <th>Horas Formacion Seguridad ETTs</th>\n",
              "    </tr>\n",
              "  </thead>\n",
              "  <tbody>\n",
              "    <tr>\n",
              "      <th>0</th>\n",
              "      <td>Addimen</td>\n",
              "      <td>0</td>\n",
              "      <td>0</td>\n",
              "      <td>0</td>\n",
              "      <td>0</td>\n",
              "    </tr>\n",
              "    <tr>\n",
              "      <th>1</th>\n",
              "      <td>Argentina</td>\n",
              "      <td>0</td>\n",
              "      <td>0</td>\n",
              "      <td>607</td>\n",
              "      <td>0</td>\n",
              "    </tr>\n",
              "    <tr>\n",
              "      <th>2</th>\n",
              "      <td>Arizona</td>\n",
              "      <td>0</td>\n",
              "      <td>0</td>\n",
              "      <td>0</td>\n",
              "      <td>0</td>\n",
              "    </tr>\n",
              "    <tr>\n",
              "      <th>3</th>\n",
              "      <td>Baja California</td>\n",
              "      <td>0</td>\n",
              "      <td>900</td>\n",
              "      <td>0</td>\n",
              "      <td>0</td>\n",
              "    </tr>\n",
              "    <tr>\n",
              "      <th>4</th>\n",
              "      <td>Barcelona</td>\n",
              "      <td>25685</td>\n",
              "      <td>18303</td>\n",
              "      <td>1151</td>\n",
              "      <td>152</td>\n",
              "    </tr>\n",
              "  </tbody>\n",
              "</table>\n",
              "</div>"
            ],
            "text/plain": [
              "           Fabrica  ...  Horas Formacion Seguridad ETTs\n",
              "0          Addimen  ...                               0\n",
              "1        Argentina  ...                               0\n",
              "2          Arizona  ...                               0\n",
              "3  Baja California  ...                               0\n",
              "4        Barcelona  ...                             152\n",
              "\n",
              "[5 rows x 5 columns]"
            ]
          },
          "metadata": {
            "tags": []
          },
          "execution_count": 328
        }
      ]
    },
    {
      "cell_type": "code",
      "metadata": {
        "colab": {
          "base_uri": "https://localhost:8080/",
          "height": 361
        },
        "id": "ouad-9t0bwi6",
        "outputId": "177f4165-f4b2-4b37-e5c9-c907e8c044f5"
      },
      "source": [
        "staff = staff.merge(trainning_hours, on='Fabrica', how='left') # adding the training hours to staff df\n",
        "staff.head()"
      ],
      "execution_count": 329,
      "outputs": [
        {
          "output_type": "execute_result",
          "data": {
            "text/html": [
              "<div>\n",
              "<style scoped>\n",
              "    .dataframe tbody tr th:only-of-type {\n",
              "        vertical-align: middle;\n",
              "    }\n",
              "\n",
              "    .dataframe tbody tr th {\n",
              "        vertical-align: top;\n",
              "    }\n",
              "\n",
              "    .dataframe thead th {\n",
              "        text-align: right;\n",
              "    }\n",
              "</style>\n",
              "<table border=\"1\" class=\"dataframe\">\n",
              "  <thead>\n",
              "    <tr style=\"text-align: right;\">\n",
              "      <th></th>\n",
              "      <th>Codigo accidentado</th>\n",
              "      <th>Puesto habitual de trabajo</th>\n",
              "      <th>Turno</th>\n",
              "      <th>Edad</th>\n",
              "      <th>Género</th>\n",
              "      <th>Planta</th>\n",
              "      <th>Tipo accidente</th>\n",
              "      <th>Tipo trabajador</th>\n",
              "      <th>Gravedad potencial</th>\n",
              "      <th>Lugar o seccion accidente</th>\n",
              "      <th>Fabrica</th>\n",
              "      <th>Tecnología</th>\n",
              "      <th>Pais</th>\n",
              "      <th>Horas Presencia Efectiva Subcontratados</th>\n",
              "      <th>Horas Presencia Efectiva ETTs</th>\n",
              "      <th>Horas Formacion Seguridad Propios</th>\n",
              "      <th>Horas Formacion Seguridad ETTs</th>\n",
              "    </tr>\n",
              "  </thead>\n",
              "  <tbody>\n",
              "    <tr>\n",
              "      <th>0</th>\n",
              "      <td>HS-CLMB_2546</td>\n",
              "      <td>Operario de Puente Grúa</td>\n",
              "      <td>Turno de mañana</td>\n",
              "      <td>31</td>\n",
              "      <td>Hombre</td>\n",
              "      <td>20</td>\n",
              "      <td>Accidente c/b</td>\n",
              "      <td>ETT</td>\n",
              "      <td>Muy grave</td>\n",
              "      <td>Células Soldadura</td>\n",
              "      <td>Burgos</td>\n",
              "      <td>Skinpass</td>\n",
              "      <td>España</td>\n",
              "      <td>25249.0</td>\n",
              "      <td>42485.0</td>\n",
              "      <td>1419.0</td>\n",
              "      <td>829.0</td>\n",
              "    </tr>\n",
              "    <tr>\n",
              "      <th>1</th>\n",
              "      <td>HS-CEPA_2563</td>\n",
              "      <td>Engraving</td>\n",
              "      <td>Turno de mañana</td>\n",
              "      <td>35</td>\n",
              "      <td>Hombre</td>\n",
              "      <td>19</td>\n",
              "      <td>Accidente c/b</td>\n",
              "      <td>Indefinido</td>\n",
              "      <td>Leve</td>\n",
              "      <td>Tubos</td>\n",
              "      <td>Burgos</td>\n",
              "      <td>Recocido</td>\n",
              "      <td>España</td>\n",
              "      <td>25249.0</td>\n",
              "      <td>42485.0</td>\n",
              "      <td>1419.0</td>\n",
              "      <td>829.0</td>\n",
              "    </tr>\n",
              "    <tr>\n",
              "      <th>2</th>\n",
              "      <td>HS-GNVT_2564</td>\n",
              "      <td>Titular L-8</td>\n",
              "      <td>Turno de tarde</td>\n",
              "      <td>54</td>\n",
              "      <td>Hombre</td>\n",
              "      <td>12</td>\n",
              "      <td>Accidente s/b</td>\n",
              "      <td>Duración Determinada</td>\n",
              "      <td>Leve</td>\n",
              "      <td>Tubos</td>\n",
              "      <td>Barcelona</td>\n",
              "      <td>Skinpass</td>\n",
              "      <td>España</td>\n",
              "      <td>25685.0</td>\n",
              "      <td>18303.0</td>\n",
              "      <td>1151.0</td>\n",
              "      <td>152.0</td>\n",
              "    </tr>\n",
              "    <tr>\n",
              "      <th>3</th>\n",
              "      <td>HS-GNVT_2565</td>\n",
              "      <td>Carretillero</td>\n",
              "      <td>Turno de mañana</td>\n",
              "      <td>NaN</td>\n",
              "      <td>Hombre</td>\n",
              "      <td>12</td>\n",
              "      <td>Incidente</td>\n",
              "      <td>ETT</td>\n",
              "      <td>Leve</td>\n",
              "      <td>Almacén de Producto Terminado</td>\n",
              "      <td>Barcelona</td>\n",
              "      <td>Skinpass</td>\n",
              "      <td>España</td>\n",
              "      <td>25685.0</td>\n",
              "      <td>18303.0</td>\n",
              "      <td>1151.0</td>\n",
              "      <td>152.0</td>\n",
              "    </tr>\n",
              "    <tr>\n",
              "      <th>4</th>\n",
              "      <td>HS-DNGG_2566</td>\n",
              "      <td>NaN</td>\n",
              "      <td>Turno de mañana</td>\n",
              "      <td>NaN</td>\n",
              "      <td>NaN</td>\n",
              "      <td>41</td>\n",
              "      <td>Incidente</td>\n",
              "      <td>Incidente (no aplica)</td>\n",
              "      <td>Leve</td>\n",
              "      <td>Blanking</td>\n",
              "      <td>Asturias</td>\n",
              "      <td>Corte Láser</td>\n",
              "      <td>España</td>\n",
              "      <td>NaN</td>\n",
              "      <td>NaN</td>\n",
              "      <td>NaN</td>\n",
              "      <td>NaN</td>\n",
              "    </tr>\n",
              "  </tbody>\n",
              "</table>\n",
              "</div>"
            ],
            "text/plain": [
              "  Codigo accidentado  ... Horas Formacion Seguridad ETTs\n",
              "0       HS-CLMB_2546  ...                          829.0\n",
              "1       HS-CEPA_2563  ...                          829.0\n",
              "2       HS-GNVT_2564  ...                          152.0\n",
              "3       HS-GNVT_2565  ...                          152.0\n",
              "4       HS-DNGG_2566  ...                            NaN\n",
              "\n",
              "[5 rows x 17 columns]"
            ]
          },
          "metadata": {
            "tags": []
          },
          "execution_count": 329
        }
      ]
    },
    {
      "cell_type": "markdown",
      "metadata": {
        "id": "Y4Xmhhnpcs1x"
      },
      "source": [
        "Now we are going to calculate the proportion in 2020 between people and accidents occur"
      ]
    },
    {
      "cell_type": "code",
      "metadata": {
        "colab": {
          "base_uri": "https://localhost:8080/",
          "height": 236
        },
        "id": "bwOOUyA_cygZ",
        "outputId": "5c4a51d2-ddc0-4b0f-dcfe-e4cbf603814f"
      },
      "source": [
        "employees = pd.read_csv('Datos_plantilla_fabrica.csv', sep=';')\n",
        "employees = employees[['Año', 'Empleados Propios', 'Empleados Ajenos', 'Empleados ETTS',  'Empleados Subcontrata']]\n",
        "employees = employees.fillna(0)\n",
        "employees = employees.groupby(['Año']).agg('sum')\n",
        "employees.head()"
      ],
      "execution_count": 330,
      "outputs": [
        {
          "output_type": "execute_result",
          "data": {
            "text/html": [
              "<div>\n",
              "<style scoped>\n",
              "    .dataframe tbody tr th:only-of-type {\n",
              "        vertical-align: middle;\n",
              "    }\n",
              "\n",
              "    .dataframe tbody tr th {\n",
              "        vertical-align: top;\n",
              "    }\n",
              "\n",
              "    .dataframe thead th {\n",
              "        text-align: right;\n",
              "    }\n",
              "</style>\n",
              "<table border=\"1\" class=\"dataframe\">\n",
              "  <thead>\n",
              "    <tr style=\"text-align: right;\">\n",
              "      <th></th>\n",
              "      <th>Empleados Propios</th>\n",
              "      <th>Empleados Ajenos</th>\n",
              "      <th>Empleados ETTS</th>\n",
              "      <th>Empleados Subcontrata</th>\n",
              "    </tr>\n",
              "    <tr>\n",
              "      <th>Año</th>\n",
              "      <th></th>\n",
              "      <th></th>\n",
              "      <th></th>\n",
              "      <th></th>\n",
              "    </tr>\n",
              "  </thead>\n",
              "  <tbody>\n",
              "    <tr>\n",
              "      <th>0.0</th>\n",
              "      <td>15754.0</td>\n",
              "      <td>3277.0</td>\n",
              "      <td>2490.0</td>\n",
              "      <td>786.0</td>\n",
              "    </tr>\n",
              "    <tr>\n",
              "      <th>2016.0</th>\n",
              "      <td>40609.0</td>\n",
              "      <td>9160.0</td>\n",
              "      <td>0.0</td>\n",
              "      <td>0.0</td>\n",
              "    </tr>\n",
              "    <tr>\n",
              "      <th>2017.0</th>\n",
              "      <td>43291.0</td>\n",
              "      <td>9794.0</td>\n",
              "      <td>0.0</td>\n",
              "      <td>0.0</td>\n",
              "    </tr>\n",
              "    <tr>\n",
              "      <th>2018.0</th>\n",
              "      <td>49865.0</td>\n",
              "      <td>10973.0</td>\n",
              "      <td>7964.0</td>\n",
              "      <td>2993.0</td>\n",
              "    </tr>\n",
              "    <tr>\n",
              "      <th>2019.0</th>\n",
              "      <td>50625.0</td>\n",
              "      <td>10527.0</td>\n",
              "      <td>7823.0</td>\n",
              "      <td>2697.0</td>\n",
              "    </tr>\n",
              "  </tbody>\n",
              "</table>\n",
              "</div>"
            ],
            "text/plain": [
              "        Empleados Propios  ...  Empleados Subcontrata\n",
              "Año                        ...                       \n",
              "0.0               15754.0  ...                  786.0\n",
              "2016.0            40609.0  ...                    0.0\n",
              "2017.0            43291.0  ...                    0.0\n",
              "2018.0            49865.0  ...                 2993.0\n",
              "2019.0            50625.0  ...                 2697.0\n",
              "\n",
              "[5 rows x 4 columns]"
            ]
          },
          "metadata": {
            "tags": []
          },
          "execution_count": 330
        }
      ]
    },
    {
      "cell_type": "code",
      "metadata": {
        "colab": {
          "base_uri": "https://localhost:8080/",
          "height": 205
        },
        "id": "p8S8gP4cdj19",
        "outputId": "a061964e-0090-4f9c-8999-faf395b859af"
      },
      "source": [
        "accidentes = pd.read_csv('HS_Accidentabilidad.csv', sep=';')\n",
        "accidentes = accidentes[['Año', 'Codigo accidentado']]\n",
        "accidentes = accidentes.groupby('Año').agg('count').reset_index()\n",
        "accidentes.rename(columns={'Codigo accidentado':'Accidentes'}, inplace=True)\n",
        "accidentes.head()"
      ],
      "execution_count": 331,
      "outputs": [
        {
          "output_type": "execute_result",
          "data": {
            "text/html": [
              "<div>\n",
              "<style scoped>\n",
              "    .dataframe tbody tr th:only-of-type {\n",
              "        vertical-align: middle;\n",
              "    }\n",
              "\n",
              "    .dataframe tbody tr th {\n",
              "        vertical-align: top;\n",
              "    }\n",
              "\n",
              "    .dataframe thead th {\n",
              "        text-align: right;\n",
              "    }\n",
              "</style>\n",
              "<table border=\"1\" class=\"dataframe\">\n",
              "  <thead>\n",
              "    <tr style=\"text-align: right;\">\n",
              "      <th></th>\n",
              "      <th>Año</th>\n",
              "      <th>Accidentes</th>\n",
              "    </tr>\n",
              "  </thead>\n",
              "  <tbody>\n",
              "    <tr>\n",
              "      <th>0</th>\n",
              "      <td>2015.0</td>\n",
              "      <td>202</td>\n",
              "    </tr>\n",
              "    <tr>\n",
              "      <th>1</th>\n",
              "      <td>2016.0</td>\n",
              "      <td>1335</td>\n",
              "    </tr>\n",
              "    <tr>\n",
              "      <th>2</th>\n",
              "      <td>2017.0</td>\n",
              "      <td>1203</td>\n",
              "    </tr>\n",
              "    <tr>\n",
              "      <th>3</th>\n",
              "      <td>2018.0</td>\n",
              "      <td>1532</td>\n",
              "    </tr>\n",
              "    <tr>\n",
              "      <th>4</th>\n",
              "      <td>2019.0</td>\n",
              "      <td>1526</td>\n",
              "    </tr>\n",
              "  </tbody>\n",
              "</table>\n",
              "</div>"
            ],
            "text/plain": [
              "      Año  Accidentes\n",
              "0  2015.0         202\n",
              "1  2016.0        1335\n",
              "2  2017.0        1203\n",
              "3  2018.0        1532\n",
              "4  2019.0        1526"
            ]
          },
          "metadata": {
            "tags": []
          },
          "execution_count": 331
        }
      ]
    },
    {
      "cell_type": "code",
      "metadata": {
        "colab": {
          "base_uri": "https://localhost:8080/",
          "height": 205
        },
        "id": "A9r6y_xwdxjn",
        "outputId": "9e19e3c6-43c8-413b-b3c4-58382dbb56c2"
      },
      "source": [
        "employees = employees.merge(accidentes, on='Año', how='inner')\n",
        "employees.head()"
      ],
      "execution_count": 332,
      "outputs": [
        {
          "output_type": "execute_result",
          "data": {
            "text/html": [
              "<div>\n",
              "<style scoped>\n",
              "    .dataframe tbody tr th:only-of-type {\n",
              "        vertical-align: middle;\n",
              "    }\n",
              "\n",
              "    .dataframe tbody tr th {\n",
              "        vertical-align: top;\n",
              "    }\n",
              "\n",
              "    .dataframe thead th {\n",
              "        text-align: right;\n",
              "    }\n",
              "</style>\n",
              "<table border=\"1\" class=\"dataframe\">\n",
              "  <thead>\n",
              "    <tr style=\"text-align: right;\">\n",
              "      <th></th>\n",
              "      <th>Año</th>\n",
              "      <th>Empleados Propios</th>\n",
              "      <th>Empleados Ajenos</th>\n",
              "      <th>Empleados ETTS</th>\n",
              "      <th>Empleados Subcontrata</th>\n",
              "      <th>Accidentes</th>\n",
              "    </tr>\n",
              "  </thead>\n",
              "  <tbody>\n",
              "    <tr>\n",
              "      <th>0</th>\n",
              "      <td>2016.0</td>\n",
              "      <td>40609.0</td>\n",
              "      <td>9160.0</td>\n",
              "      <td>0.0</td>\n",
              "      <td>0.0</td>\n",
              "      <td>1335</td>\n",
              "    </tr>\n",
              "    <tr>\n",
              "      <th>1</th>\n",
              "      <td>2017.0</td>\n",
              "      <td>43291.0</td>\n",
              "      <td>9794.0</td>\n",
              "      <td>0.0</td>\n",
              "      <td>0.0</td>\n",
              "      <td>1203</td>\n",
              "    </tr>\n",
              "    <tr>\n",
              "      <th>2</th>\n",
              "      <td>2018.0</td>\n",
              "      <td>49865.0</td>\n",
              "      <td>10973.0</td>\n",
              "      <td>7964.0</td>\n",
              "      <td>2993.0</td>\n",
              "      <td>1532</td>\n",
              "    </tr>\n",
              "    <tr>\n",
              "      <th>3</th>\n",
              "      <td>2019.0</td>\n",
              "      <td>50625.0</td>\n",
              "      <td>10527.0</td>\n",
              "      <td>7823.0</td>\n",
              "      <td>2697.0</td>\n",
              "      <td>1526</td>\n",
              "    </tr>\n",
              "    <tr>\n",
              "      <th>4</th>\n",
              "      <td>2020.0</td>\n",
              "      <td>65644.0</td>\n",
              "      <td>7114.0</td>\n",
              "      <td>5773.0</td>\n",
              "      <td>1335.0</td>\n",
              "      <td>1122</td>\n",
              "    </tr>\n",
              "  </tbody>\n",
              "</table>\n",
              "</div>"
            ],
            "text/plain": [
              "      Año  Empleados Propios  ...  Empleados Subcontrata  Accidentes\n",
              "0  2016.0            40609.0  ...                    0.0        1335\n",
              "1  2017.0            43291.0  ...                    0.0        1203\n",
              "2  2018.0            49865.0  ...                 2993.0        1532\n",
              "3  2019.0            50625.0  ...                 2697.0        1526\n",
              "4  2020.0            65644.0  ...                 1335.0        1122\n",
              "\n",
              "[5 rows x 6 columns]"
            ]
          },
          "metadata": {
            "tags": []
          },
          "execution_count": 332
        }
      ]
    },
    {
      "cell_type": "code",
      "metadata": {
        "colab": {
          "base_uri": "https://localhost:8080/"
        },
        "id": "hyiYEWhCeT1G",
        "outputId": "6a6abf32-c289-4b92-888a-3623ab5309c3"
      },
      "source": [
        "employees.dtypes"
      ],
      "execution_count": 333,
      "outputs": [
        {
          "output_type": "execute_result",
          "data": {
            "text/plain": [
              "Año                      float64\n",
              "Empleados Propios        float64\n",
              "Empleados Ajenos         float64\n",
              "Empleados ETTS           float64\n",
              "Empleados Subcontrata    float64\n",
              "Accidentes                 int64\n",
              "dtype: object"
            ]
          },
          "metadata": {
            "tags": []
          },
          "execution_count": 333
        }
      ]
    },
    {
      "cell_type": "code",
      "metadata": {
        "id": "f_m4PyTsebt8"
      },
      "source": [
        "employees['Total_emp'] = employees['Empleados Propios'] + employees['Empleados Ajenos'] + employees['Empleados ETTS'] + employees['Empleados Subcontrata']"
      ],
      "execution_count": 334,
      "outputs": []
    },
    {
      "cell_type": "code",
      "metadata": {
        "colab": {
          "base_uri": "https://localhost:8080/",
          "height": 205
        },
        "id": "mRNPhfJjetv3",
        "outputId": "e9ed1545-aee5-4291-bc46-b95578f88a62"
      },
      "source": [
        "employees = employees[['Año', 'Accidentes', 'Total_emp']]\n",
        "\n",
        "employees['perc_acc'] = employees['Accidentes'] / employees['Total_emp'] * 100\n",
        "employees.head()"
      ],
      "execution_count": 335,
      "outputs": [
        {
          "output_type": "execute_result",
          "data": {
            "text/html": [
              "<div>\n",
              "<style scoped>\n",
              "    .dataframe tbody tr th:only-of-type {\n",
              "        vertical-align: middle;\n",
              "    }\n",
              "\n",
              "    .dataframe tbody tr th {\n",
              "        vertical-align: top;\n",
              "    }\n",
              "\n",
              "    .dataframe thead th {\n",
              "        text-align: right;\n",
              "    }\n",
              "</style>\n",
              "<table border=\"1\" class=\"dataframe\">\n",
              "  <thead>\n",
              "    <tr style=\"text-align: right;\">\n",
              "      <th></th>\n",
              "      <th>Año</th>\n",
              "      <th>Accidentes</th>\n",
              "      <th>Total_emp</th>\n",
              "      <th>perc_acc</th>\n",
              "    </tr>\n",
              "  </thead>\n",
              "  <tbody>\n",
              "    <tr>\n",
              "      <th>0</th>\n",
              "      <td>2016.0</td>\n",
              "      <td>1335</td>\n",
              "      <td>49769.0</td>\n",
              "      <td>2.682393</td>\n",
              "    </tr>\n",
              "    <tr>\n",
              "      <th>1</th>\n",
              "      <td>2017.0</td>\n",
              "      <td>1203</td>\n",
              "      <td>53085.0</td>\n",
              "      <td>2.266177</td>\n",
              "    </tr>\n",
              "    <tr>\n",
              "      <th>2</th>\n",
              "      <td>2018.0</td>\n",
              "      <td>1532</td>\n",
              "      <td>71795.0</td>\n",
              "      <td>2.133853</td>\n",
              "    </tr>\n",
              "    <tr>\n",
              "      <th>3</th>\n",
              "      <td>2019.0</td>\n",
              "      <td>1526</td>\n",
              "      <td>71672.0</td>\n",
              "      <td>2.129144</td>\n",
              "    </tr>\n",
              "    <tr>\n",
              "      <th>4</th>\n",
              "      <td>2020.0</td>\n",
              "      <td>1122</td>\n",
              "      <td>79866.0</td>\n",
              "      <td>1.404853</td>\n",
              "    </tr>\n",
              "  </tbody>\n",
              "</table>\n",
              "</div>"
            ],
            "text/plain": [
              "      Año  Accidentes  Total_emp  perc_acc\n",
              "0  2016.0        1335    49769.0  2.682393\n",
              "1  2017.0        1203    53085.0  2.266177\n",
              "2  2018.0        1532    71795.0  2.133853\n",
              "3  2019.0        1526    71672.0  2.129144\n",
              "4  2020.0        1122    79866.0  1.404853"
            ]
          },
          "metadata": {
            "tags": []
          },
          "execution_count": 335
        }
      ]
    },
    {
      "cell_type": "markdown",
      "metadata": {
        "id": "GAQCk2Ozfla8"
      },
      "source": [
        "For our analysis we are going to suppose we have a year staff, with all people. \n",
        "We would have 79900 people with around 7000 people who have suffered an accident on the past years."
      ]
    },
    {
      "cell_type": "code",
      "metadata": {
        "colab": {
          "base_uri": "https://localhost:8080/"
        },
        "id": "EViQKE4PgK6n",
        "outputId": "ff46a808-02f6-4b01-ca7b-e0d3d225a8d7"
      },
      "source": [
        "len(staff)"
      ],
      "execution_count": 336,
      "outputs": [
        {
          "output_type": "execute_result",
          "data": {
            "text/plain": [
              "4180"
            ]
          },
          "metadata": {
            "tags": []
          },
          "execution_count": 336
        }
      ]
    },
    {
      "cell_type": "code",
      "metadata": {
        "colab": {
          "base_uri": "https://localhost:8080/",
          "height": 361
        },
        "id": "Uu_tlzE2gFl2",
        "outputId": "9192805d-7047-4a19-af57-9782c05d3194"
      },
      "source": [
        "#we add a new column to indetify those people who have suffered an accident in our dataset\n",
        "staff['Accident'] = 'Yes'\n",
        "staff.head()"
      ],
      "execution_count": 337,
      "outputs": [
        {
          "output_type": "execute_result",
          "data": {
            "text/html": [
              "<div>\n",
              "<style scoped>\n",
              "    .dataframe tbody tr th:only-of-type {\n",
              "        vertical-align: middle;\n",
              "    }\n",
              "\n",
              "    .dataframe tbody tr th {\n",
              "        vertical-align: top;\n",
              "    }\n",
              "\n",
              "    .dataframe thead th {\n",
              "        text-align: right;\n",
              "    }\n",
              "</style>\n",
              "<table border=\"1\" class=\"dataframe\">\n",
              "  <thead>\n",
              "    <tr style=\"text-align: right;\">\n",
              "      <th></th>\n",
              "      <th>Codigo accidentado</th>\n",
              "      <th>Puesto habitual de trabajo</th>\n",
              "      <th>Turno</th>\n",
              "      <th>Edad</th>\n",
              "      <th>Género</th>\n",
              "      <th>Planta</th>\n",
              "      <th>Tipo accidente</th>\n",
              "      <th>Tipo trabajador</th>\n",
              "      <th>Gravedad potencial</th>\n",
              "      <th>Lugar o seccion accidente</th>\n",
              "      <th>Fabrica</th>\n",
              "      <th>Tecnología</th>\n",
              "      <th>Pais</th>\n",
              "      <th>Horas Presencia Efectiva Subcontratados</th>\n",
              "      <th>Horas Presencia Efectiva ETTs</th>\n",
              "      <th>Horas Formacion Seguridad Propios</th>\n",
              "      <th>Horas Formacion Seguridad ETTs</th>\n",
              "      <th>Accident</th>\n",
              "    </tr>\n",
              "  </thead>\n",
              "  <tbody>\n",
              "    <tr>\n",
              "      <th>0</th>\n",
              "      <td>HS-CLMB_2546</td>\n",
              "      <td>Operario de Puente Grúa</td>\n",
              "      <td>Turno de mañana</td>\n",
              "      <td>31</td>\n",
              "      <td>Hombre</td>\n",
              "      <td>20</td>\n",
              "      <td>Accidente c/b</td>\n",
              "      <td>ETT</td>\n",
              "      <td>Muy grave</td>\n",
              "      <td>Células Soldadura</td>\n",
              "      <td>Burgos</td>\n",
              "      <td>Skinpass</td>\n",
              "      <td>España</td>\n",
              "      <td>25249.0</td>\n",
              "      <td>42485.0</td>\n",
              "      <td>1419.0</td>\n",
              "      <td>829.0</td>\n",
              "      <td>Yes</td>\n",
              "    </tr>\n",
              "    <tr>\n",
              "      <th>1</th>\n",
              "      <td>HS-CEPA_2563</td>\n",
              "      <td>Engraving</td>\n",
              "      <td>Turno de mañana</td>\n",
              "      <td>35</td>\n",
              "      <td>Hombre</td>\n",
              "      <td>19</td>\n",
              "      <td>Accidente c/b</td>\n",
              "      <td>Indefinido</td>\n",
              "      <td>Leve</td>\n",
              "      <td>Tubos</td>\n",
              "      <td>Burgos</td>\n",
              "      <td>Recocido</td>\n",
              "      <td>España</td>\n",
              "      <td>25249.0</td>\n",
              "      <td>42485.0</td>\n",
              "      <td>1419.0</td>\n",
              "      <td>829.0</td>\n",
              "      <td>Yes</td>\n",
              "    </tr>\n",
              "    <tr>\n",
              "      <th>2</th>\n",
              "      <td>HS-GNVT_2564</td>\n",
              "      <td>Titular L-8</td>\n",
              "      <td>Turno de tarde</td>\n",
              "      <td>54</td>\n",
              "      <td>Hombre</td>\n",
              "      <td>12</td>\n",
              "      <td>Accidente s/b</td>\n",
              "      <td>Duración Determinada</td>\n",
              "      <td>Leve</td>\n",
              "      <td>Tubos</td>\n",
              "      <td>Barcelona</td>\n",
              "      <td>Skinpass</td>\n",
              "      <td>España</td>\n",
              "      <td>25685.0</td>\n",
              "      <td>18303.0</td>\n",
              "      <td>1151.0</td>\n",
              "      <td>152.0</td>\n",
              "      <td>Yes</td>\n",
              "    </tr>\n",
              "    <tr>\n",
              "      <th>3</th>\n",
              "      <td>HS-GNVT_2565</td>\n",
              "      <td>Carretillero</td>\n",
              "      <td>Turno de mañana</td>\n",
              "      <td>NaN</td>\n",
              "      <td>Hombre</td>\n",
              "      <td>12</td>\n",
              "      <td>Incidente</td>\n",
              "      <td>ETT</td>\n",
              "      <td>Leve</td>\n",
              "      <td>Almacén de Producto Terminado</td>\n",
              "      <td>Barcelona</td>\n",
              "      <td>Skinpass</td>\n",
              "      <td>España</td>\n",
              "      <td>25685.0</td>\n",
              "      <td>18303.0</td>\n",
              "      <td>1151.0</td>\n",
              "      <td>152.0</td>\n",
              "      <td>Yes</td>\n",
              "    </tr>\n",
              "    <tr>\n",
              "      <th>4</th>\n",
              "      <td>HS-DNGG_2566</td>\n",
              "      <td>NaN</td>\n",
              "      <td>Turno de mañana</td>\n",
              "      <td>NaN</td>\n",
              "      <td>NaN</td>\n",
              "      <td>41</td>\n",
              "      <td>Incidente</td>\n",
              "      <td>Incidente (no aplica)</td>\n",
              "      <td>Leve</td>\n",
              "      <td>Blanking</td>\n",
              "      <td>Asturias</td>\n",
              "      <td>Corte Láser</td>\n",
              "      <td>España</td>\n",
              "      <td>NaN</td>\n",
              "      <td>NaN</td>\n",
              "      <td>NaN</td>\n",
              "      <td>NaN</td>\n",
              "      <td>Yes</td>\n",
              "    </tr>\n",
              "  </tbody>\n",
              "</table>\n",
              "</div>"
            ],
            "text/plain": [
              "  Codigo accidentado  ... Accident\n",
              "0       HS-CLMB_2546  ...      Yes\n",
              "1       HS-CEPA_2563  ...      Yes\n",
              "2       HS-GNVT_2564  ...      Yes\n",
              "3       HS-GNVT_2565  ...      Yes\n",
              "4       HS-DNGG_2566  ...      Yes\n",
              "\n",
              "[5 rows x 18 columns]"
            ]
          },
          "metadata": {
            "tags": []
          },
          "execution_count": 337
        }
      ]
    },
    {
      "cell_type": "code",
      "metadata": {
        "colab": {
          "base_uri": "https://localhost:8080/"
        },
        "id": "BOluCL_zgY2w",
        "outputId": "0a074f1b-7006-4321-f65e-838b7fe7d4ce"
      },
      "source": [
        "#plant data we dont have any null values\n",
        "staff['Planta'].unique()"
      ],
      "execution_count": 338,
      "outputs": [
        {
          "output_type": "execute_result",
          "data": {
            "text/plain": [
              "array([20, 19, 12, 41,  7,  1, 13, 28,  2,  5, 26, 16, 25, 15, 36, 35, 33,\n",
              "       53, 54,  4, 14, 34, 27, 29, 32, 57,  6, 56, 30, 55, 46, 43, 45, 18,\n",
              "       44, 63, 47, 84])"
            ]
          },
          "metadata": {
            "tags": []
          },
          "execution_count": 338
        }
      ]
    },
    {
      "cell_type": "code",
      "metadata": {
        "colab": {
          "base_uri": "https://localhost:8080/"
        },
        "id": "RsPbnhW0ggWN",
        "outputId": "5f375916-0ac2-4483-f4cd-9ae171f50a8d"
      },
      "source": [
        "##work position\n",
        "\n",
        "positions = staff['Puesto habitual de trabajo'].unique()\n",
        "len(positions)"
      ],
      "execution_count": 339,
      "outputs": [
        {
          "output_type": "execute_result",
          "data": {
            "text/plain": [
              "794"
            ]
          },
          "metadata": {
            "tags": []
          },
          "execution_count": 339
        }
      ]
    },
    {
      "cell_type": "code",
      "metadata": {
        "id": "InbOHf9-kMJV"
      },
      "source": [
        "import random\n",
        "import numpy as np \n",
        "\n",
        "staff['wk_position'] = np.random.choice(positions, size=len(staff))"
      ],
      "execution_count": 340,
      "outputs": []
    },
    {
      "cell_type": "code",
      "metadata": {
        "colab": {
          "base_uri": "https://localhost:8080/"
        },
        "id": "w9j1MGl6hwHz",
        "outputId": "6391e45c-d088-401c-96d1-227d7bd19935"
      },
      "source": [
        "staff['wk_position'].unique()"
      ],
      "execution_count": 341,
      "outputs": [
        {
          "output_type": "execute_result",
          "data": {
            "text/plain": [
              "array(['Gruista LONGI004 y LONGI008', 'Operador Puente-Grúa', 'hanger',\n",
              "       'Titular Circulares', 'Control Calidad', 'Operador Logistico',\n",
              "       'Embaladora 2', 'AYUDANTE PRENS001', 'Gruista perfiladoras',\n",
              "       'packaking -road safety', 'galvanizado',\n",
              "       'operator on packaging line', 'GRUISTA - EMBALADOR',\n",
              "       'Operadores limpieza de caldera y gruista de caldera',\n",
              "       'Operador de Produção II', 'Titular Línea Corte Prensa II',\n",
              "       'Inspector de Calidad', 'empaquetador perfiladora de tubos',\n",
              "       'EMBALAJE MANUAL', 'Kranführer H1 Nord',\n",
              "       'Staplerfahrer Halle 2 und 3', 'Recibidor línea 3mts',\n",
              "       'Auxiliar TRANS003', 'Perfiles abiertos', 'Operario de Linea',\n",
              "       'Utillero', 'Operario de mantenimiento', 'welding for polygon',\n",
              "       'Operador II', 'LCP 03', 'Movimentação',\n",
              "       'Material  Handler / Slitting Operator', 'OPERARIO DE CARGA',\n",
              "       'Almacenes', 'Auxiliar de Producción',\n",
              "       'Mitarbeiter Qualitätsmanagement', 'Flejador/ ayudante TRANS007',\n",
              "       'Maquinista Sierra de corte Adige1', 'Embaladora Longi 6',\n",
              "       'Empaquetador Tubos', 'Verpacker LONGI001', 'Soldadura',\n",
              "       'Werkzeugmacher', 'Operario de pantógrafo', 'Ayudante volteador',\n",
              "       'Operario de puente grúa', 'Operario de linea',\n",
              "       'Embalador 1 (en capacitación)', 'Longi 2', 'Staplerfahrer',\n",
              "       'Ayudante CIZAL008', 'CARRETILLA', 'Titular de Linea',\n",
              "       'Operador de Har lan', 'Saumschrott durchtrennen',\n",
              "       'Kranführer Halle 3', 'Flejador LONGI001', 'OPERADOR PUENTE GRUA',\n",
              "       'Chofer camión', 'alimentador', 'Oxgyen cutting', 'MF2 LONGI001',\n",
              "       'Transporte de material acabado', 'Presseneinrichter',\n",
              "       'forklift external maintance', 'Maschinenführer 1, Presse 2',\n",
              "       'Longi 1', 'Titular de línea y auxiliar (Prensa Rovetta)',\n",
              "       'Automatenbefüller', 'Carretillero/Gruista', 'Operating the crane',\n",
              "       'Press Operator/Crane', 'Maquinista longitudinales',\n",
              "       'Gruista entrada', 'sierra de madera', 'Gruista carga nave 6A',\n",
              "       'Maschinenführerin 2 Presse 3',\n",
              "       'Tool & Die tech from Gestamp working onsite at Gonvauto',\n",
              "       'customer', 'CARRETILLERO PRENS004',\n",
              "       'Jefe de gestión de Mantenimiento', 'Gruista ácido',\n",
              "       'Ninguno de los implicados desempeñaban funciones habituales en la línea donde se produjo el incidente.',\n",
              "       'Toolmaker', 'Loading team leader', 'Anlagenführer Laser 5',\n",
              "       'EMBAL015', 'toolmaker', 'Operador Logistico I',\n",
              "       'Supervisor Logistik', 'Auxiliar/Montador',\n",
              "       'Pontonero y maquinista TRANS006', 'operatorof Press',\n",
              "       'material carrying-plasma', 'Maquinista plasma',\n",
              "       'Maquinista Trans 003', 'Gruista de caldera y limpieza de caldera',\n",
              "       'Kranführer Halle 0', 'Working on Press', 'AUXILIAR DE LINEA',\n",
              "       'road safety', 'Caretilla', 'Si. Jefe cortadora Mair.',\n",
              "       'Cizal - Guilhotina', 'Team Leader', 'responsible for the shift',\n",
              "       'Cargador descargador', 'CARPINTERO TRANS002', 'Gruista tubos',\n",
              "       'Carrying metarial by forklift', 'Gruista de entrada',\n",
              "       'Operator on Evtek blanking line', 'Descargador', 'flejador',\n",
              "       'Maschinenführer 1, Presse 3', 'Empaquetador perfiladoras',\n",
              "       'Maschinenführer 2 Presse 5', 'línea de corte',\n",
              "       'galvanized-hanging-handling', 'Auxiliar logística',\n",
              "       'shift manager', 'Empaquetador en formación',\n",
              "       'Maschinenführer Presse 4/6', 'Operario Salida Decapado',\n",
              "       'team leader', 'Supervisor Mantenimiento',\n",
              "       'GRUISTA DE ENTRADA EN TUBOS', 'assembler of circular knives',\n",
              "       'BOBINERO', 'Alimentador Perfiladora Tubos 601',\n",
              "       'Maquinista linea de corte longitudinal', 'CIZALLA',\n",
              "       'empaquetador', 'Forkift driver', 'carretilla',\n",
              "       'Flejador Línea Corte Prensa I',\n",
              "       'Titular y ayudantes de Perfiladora de Dimeco Perfi012',\n",
              "       'gruista/ maquinista plasma', 'Cargador',\n",
              "       'Gruista de salida galvanizado', 'Operario procesos', 'bobinero',\n",
              "       'OPERARIO', 'Galvanizado', 'Si. Operario Rattunde en Formacion',\n",
              "       'wrapping and packing bundles of steel ', 'Cargue de material',\n",
              "       'ENH CNC OPERATOR', 'AUXILIAR LONGI', 'Crane driver',\n",
              "       'Carpinteria', 'PRENSA002', 'press op ', 'LINEA DE PRENSA',\n",
              "       'Mecanico', 'Staplerfahrer Halle 7', 'EMBALADOR  480',\n",
              "       'guardrail-road safety', 'MAQUINISTA PERFILADORAS',\n",
              "       'Regular function', 'Puente Grua Longitudinales Y Transversales',\n",
              "       'Nacharbeit', 'Lifting',\n",
              "       'Material Handler moving stock around and loading vehicles',\n",
              "       'Pote Galvanizado', 'CARPINTERIA', 'Operario puente grúa',\n",
              "       'Auxiliar de Laboratorio', 'Titular/ayudante de perfiladoras',\n",
              "       'DESCARGADOR GALVANIZADO', 'Operador de har lan',\n",
              "       'Operador auxiliar', 'Verpacker', 'EMBALADORA 1', 'slitting Op ',\n",
              "       'Operario entrada linea decapado', 'CHATARRERO',\n",
              "       'GRUISTA LONGI004-008+MANTENIMIENTO+MAQUINISTA LONGI008',\n",
              "       'Proceso decapado', 'Titular LCL', 'EMBALADOR 015', 'foreman',\n",
              "       'Manutenção', 'Verpacker Halle 3', 'Auxiliar Trans 4',\n",
              "       'Programador', 'Maschinenbediener/-einrichter Presse 5',\n",
              "       'Sierra Behringer', 'Shipping Coordinator',\n",
              "       'Gruista de tubo tracker', 'LONGI009', 'Cargador negro/gruista',\n",
              "       'Entrada Decapado', 'Operario máquina III', 'Carretillera',\n",
              "       'Gruista nave 6b zona negro', 'Blanking operator', 'Embalador 1',\n",
              "       'Maschinenführer Presse 1', 'N/A ', 'Proceso Galva',\n",
              "       'Alimentador Tubos', 'AYUDANTE PRENSAS', 'APILADOR TRANS002',\n",
              "       'Gruista de tubos', 'Montador / Auxiliar LONGI003',\n",
              "       'Desmontaje de la herramienta después de la producción de la línea 1 para colocarla en el almacén de matrices – matriz núm. 26',\n",
              "       'Rework Operation', 'Soldador', 'Handling the equipment', 'worker',\n",
              "       'CARRETILLERO PRENSAS', 'Metarial Handling',\n",
              "       'Manual operation on protective rods', 'Jigging', 'LONGI008',\n",
              "       'Chófer', 'Si (empresa externa)', 'Lkw Fahrer Firma Schielke',\n",
              "       'Verpacker / Bestuecker', 'Ayudante longitudinal',\n",
              "       'Staplerfahrer Halle 3', 'Maschinenführer 1 Presse 1',\n",
              "       'Cargador de entrada', 'OPERADOR DE CARRETILLA',\n",
              "       'montador LONGI008', 'Operador de Embalagem LCL',\n",
              "       'Auxiliar/Montador Longi 7', 'TREN DE LAMINACIÓN',\n",
              "       'Operario de Máquina', 'SI', 'Operario Entrada Decapado M1',\n",
              "       'Vaciado contenedores de chatarra', 'crane operator',\n",
              "       'Mantenimiento electrico', 'Si', 'EMBALADOR',\n",
              "       'Maschinenführer 2 Presse 2', 'Ferienarbeiter Instandhaltung',\n",
              "       'Ayudante de circular', 'Verpackerin', 'Techniker',\n",
              "       'Maschinenführer Presse 7', 'TPM loading car loop',\n",
              "       'Auxiliar/montador LONGI002', 'EMBALAJE  T1', 'TRANS005',\n",
              "       'Laboratorio de Calidad', 'Puente Grua Tubos',\n",
              "       'Montador/auxiliar LONGI003', 'Líder de Logistica y Planeación',\n",
              "       'MF2 Presse 5', 'Gruista zona negro', 'Maschinenführer1 (MF1)',\n",
              "       'Prozessoptimierer', 'Titular prensa', 'empaquetadora/ flejado',\n",
              "       '/ ', 'Operador auxiliar / Montador de árvores de navalhas',\n",
              "       'Operador Puente Grúa', 'Final Product Logistic Operator',\n",
              "       'Operador Logístico I', 'operative Logistikfachkraft',\n",
              "       'Carrtillero', 'Oxygen welding', 'soldador maquinista', 'Rework',\n",
              "       'MANTENIMIENTO', 'Operador Logística 2',\n",
              "       'Maschinenführer 1 Presse 7', 'Ayudante LONGI008',\n",
              "       'Material handler', 'Forklift Driver', 'Titular de longi004',\n",
              "       'slitting operator', 'MF1 Presse 2', 'Titular Corte Termico',\n",
              "       'Bediener Biele-Wender, Halle 8', 'Flejado y embalado',\n",
              "       'Material Handler', 'Descargador galvanizado', 'Soldador II',\n",
              "       'Montador', 'Verpacker Presse 3', 'Carrying a pole via forklift',\n",
              "       'Soldador 001', 'plegador', 'Maschinenführer Presse 3',\n",
              "       'SI. Carretillero', 'Maschinenführer 2 LONGI001',\n",
              "       'Entrada para la descarga del camión con la bobina – no se dispone de datos del conductor',\n",
              "       'Handling material', 'Montacarguista (en entrenamiento)',\n",
              "       'Kranfahrer', 'LONGI002', 'LONGI 1', 'Puente Grua - Flejador',\n",
              "       '占从涛', 'Titular LONGI008', 'Auszubildender Mechatroniker',\n",
              "       'Maintenance Manager', 'Operario de maquina (taladro radial)',\n",
              "       'Incidente sin personas implicadas', 'safety guard', 'Pontonero',\n",
              "       'Lkw Fahrer', 'Puente Grua Galvanizado',\n",
              "       'montador y embajador en LCL', 'packaging worker',\n",
              "       'Montador LONGI001', 'Titular Línea Corte Prensa I',\n",
              "       'Kranführer Halle 7', 'OPERADOR CARRETILLA',\n",
              "       'SI. Auxiliar Evacuación MTM2', 'ayudante longitudinal',\n",
              "       'maquinista tubos', 'MF2 LONGI002', 'si', 'Maquinista LONGI003',\n",
              "       'Operador logistico', 'Hornero Aprendiz', 'LONGI06',\n",
              "       'No, su puesto habitual es entrada decapado',\n",
              "       'Auxiliar de logística', 'galvanized packaking',\n",
              "       'Stacker - training as forklift driver', 'EMBALADOR 480',\n",
              "       'EMBALADORA LC6', 'Recibidor Línea de 7m', 'packer',\n",
              "       'GRUISTA PTA008', 'EMBALADO Y FLEJADO', 'Zona de Picos de Nave 3',\n",
              "       'Longi 6', 'Slitter Op', 'Driver for Adam Jones',\n",
              "       'Gruista ( PARDO FREIJO) Subcontrata',\n",
              "       'Líneas de Corte Longitudinal', 'Auxiliar de producción',\n",
              "       'PROCESOS', 'EPM', 'Director de produccción',\n",
              "       'maquinista longi009', 'Camionero',\n",
              "       'Gruista de longitudinales y transversales',\n",
              "       'Gruista entrada decapado', 'Movimiento de carretilla elevadora',\n",
              "       'OPERARIO LONGI 3', 'Operario de producción',\n",
              "       'Carretillero galvanizado', 'Gruista Nave 4.',\n",
              "       'Expediciones, carga de camiones', 'Personal de mantenimiento',\n",
              "       'Maquinista Trans3', 'Flejado y Embalado', 'operator',\n",
              "       'EMABALADOR',\n",
              "       'Operador de montagem de árvores de navalhas / Operador auxiliar',\n",
              "       'AYUDANTE LONGI004', 'GRUISTA TRANS002', 'Operario de montacarga',\n",
              "       'line operator', 'Gruista Tubos', 'Maschinenführer 2 Presse 7',\n",
              "       'Mantenimiento Eléctrico', 'AUXILIAR LONGI 3', 'Stacker Operator',\n",
              "       'Gruista y limpieza de caldera', nan, 'maquinista/gruista',\n",
              "       'supplier', 'Neutra De Galvanizado', 'Operario de granallado',\n",
              "       'Maquinista longitudinal', 'GRUA CALDERA', 'assistant of operator',\n",
              "       'Ayudante LONGI004', 'Gruísta', 'Auxiliar de linea',\n",
              "       'Sierra corte metal', 'PERSONAL DE LINEA',\n",
              "       'Ensamblado tubo tracker (plantilla 2)', 'extern', 'Auxiliar',\n",
              "       'Maschinenführer 1 Presse', 'Forklift', 'Maquinista TRANS005',\n",
              "       'gruista tracker', 'EMBALADORA LONGI 6', 'welding', 'soldador',\n",
              "       'Kranführer Halle 2', 'Auxiliar línea 11', 'Shift Manager',\n",
              "       'Trasladando bobina',\n",
              "       'Gruista de caldera y operadores de limpieza', 'Power Press Op',\n",
              "       'IT-Administrator', 'Titular L-8',\n",
              "       'Drove the forklift fork the products',\n",
              "       'Gruista Longi004 -Longi008', 'Corte térmico ',\n",
              "       'Limpieza del rodillo continuo en la línea PRENS002',\n",
              "       'Maschinenführer 2 Presse 1', 'plasma', 'MAQUINISTA PRENSA004',\n",
              "       'Operador de Embalagem', 'camionero', 'Verlader / Staplerfahrer',\n",
              "       'Staplerfahrer Halle 5', 'Slitter Operators ',\n",
              "       'Jefe de Mantenimiento', 'Maquinista Trans003',\n",
              "       'Responsable de Calidad, SGI, SPG', 'TITULAR LÍNEA CORTE PRENSA I',\n",
              "       'Camionero externo', 'Maquinista', 'soldadura', 'EMBALADORA',\n",
              "       'proceso', 'Corte plasma', 'MF1 LONGI',\n",
              "       'Maquinista LC4/LC7 y Gruista', 'TORO GRANDE', 'MATRICERO',\n",
              "       'GRUISTA', 'n/a ', 'Platinen wenden', 'Torro Hyster',\n",
              "       'Área de manutenção de ferramentas da prensa (Matrizes de corte)',\n",
              "       'LCP 02', 'Maquinista Perfiladora Tubos', 'MAQUINISTA TRANS 2',\n",
              "       'Embaladora',\n",
              "       'Salida del vehículo de la nave en semáforo rojo después de haber realizado la descarga',\n",
              "       'Colgador', 'Embalador Prensas', 'Operador Paletizadora',\n",
              "       'OPERARIO DE MÁQUINA', 'none', 'No hay personas implicadas',\n",
              "       'AYUDANTE PRENS004', 'LIDER LONGI06', 'maquinista / gruista',\n",
              "       'MF1 LONGI001', 'roll form machine', 'Packing team member ',\n",
              "       'plegadora', 'Ferienarbeiter', 'Maschinen- und Anlagenführer',\n",
              "       'Traslado de bobinas del almacén de materia prima para su corte en la línea transversal PRENS002',\n",
              "       'galvanized - hanger', 'galvanized-hanger', 'Varios',\n",
              "       'Alimentador de perfiladoras de tubos', 'Operador de montacargas',\n",
              "       'Operating the portalcrane', 'Alimentador P3',\n",
              "       'Operador auxiliar LCT', 'Salida Galvanizado',\n",
              "       'Slitting line Operator', 'Maquinista LC4', 'Plazmada kesim',\n",
              "       'Preparación del material para el corte en la línea, corte flejado',\n",
              "       'Handling / packaking', 'Forklift driver',\n",
              "       'Carretillero Railsider', 'LONGI004', 'Punzonadora',\n",
              "       'OPERARIO DE LINEA', 'MAQUINISTA CORTE LONGITUDINAL',\n",
              "       'poligon production-black area', 'Titular Linea',\n",
              "       'Operario Puente Grúa', 'External Agency - Camera Installer',\n",
              "       'Operario Puente grúa', 'Ayudante de longitudinal', 'Tubos',\n",
              "       'operator of packaging', 'OPERARIOS DE CARGA', 'DESCARGAS',\n",
              "       'Empaquetador tubos', 'Maschinenführer 1 Presse 3',\n",
              "       'Gruista/cargador', 'Titular Prensa 1', 'Línea Longitudinal',\n",
              "       'gruista de salida',\n",
              "       'Camionero ( PARDO FREIJO) Gruista Gancho C (Gonvauto Galicia)',\n",
              "       'Maschinenführer', 'Cargador/descargador',\n",
              "       'Maschinenbediener Presse 5', 'Maquinista Longi 3',\n",
              "       'FINANZAS - PAGO A PROVEEDORES', 'Gruista/carretillero',\n",
              "       'Gruista Procesos', 'Maquinista Sierras Corte Tubos', 'maquinista',\n",
              "       'operator on catting line', 'Mitarbeiter Schrottentsorgung',\n",
              "       'Operador de Embalagem / Operador Auxiliar', 'GRUISTA NAVE 5',\n",
              "       'Instandhalter', 'Operador Principal LCL', 'Tornero mecanico',\n",
              "       'Gruista caldera', 'Verlader', ': Operador II',\n",
              "       'Carga material negro', 'truck driver', 'Alimentador tubos',\n",
              "       'Working in I T Department', 'Press Operator',\n",
              "       'Supervisor Produktion', 'Maquinista perfiladora',\n",
              "       'Kranführer Halle 1 Nord', 'Montador Prensa 002', 'Empaquetador',\n",
              "       'Alimentador de perfiladora',\n",
              "       'Operador Auxiliar / Montador de árvores de navalhas', 'MONTADOR',\n",
              "       'Titular Robot Soldadura 002', 'Perfiladora Casset',\n",
              "       'UTILLERO GALVANIZADO', 'AUXILIAR TRANS 4',\n",
              "       'Operario Entrada Decapado', 'Gruista/soldador',\n",
              "       'Descarga Galvanizado.', 'Soldador y gruista', '.', 'Lkw-Fahrer',\n",
              "       'Slitting Line Operator', 'Gruista Subcontrata Pardo Freijo',\n",
              "       'Supervisor', 'CONTROLADOR DE PROCESOS',\n",
              "       'Salida de la carretilla de descarga y flejado del material',\n",
              "       'Maquinistas Líneas de Corte', 'Ayudante perfiladora Dimeco',\n",
              "       'DIRECTOR COMERCIAL', 'Titular LONGI001', 'Kranbediener',\n",
              "       'packaging operator', 'Embal480', 'storekeeper',\n",
              "       'Montador/auxiliar', 'Maestro', 'metal grinding - 2A hole',\n",
              "       'MAQUINISTA LONGI008', 'gruista', 'Operador puente grúa',\n",
              "       'Maschinenführer 2', 'Madera Prensas', 'Flejador',\n",
              "       'Gruista nave 6b zona de carga', 'Staplerfahrer Halle 8',\n",
              "       'Recibido de galvanizado', 'store keeper',\n",
              "       'Controlador de proceso', 'Cargador zona de negro',\n",
              "       'ENH PRODUCTION', 'LONGI 6', 'Montacarguista',\n",
              "       'Grua Caldera Galvanizado', 'Maschinenführer 2 Presse 3',\n",
              "       'Descarga galvanizado', 'Carreteillero', 'Supplier',\n",
              "       'Descargador Galvanizado', 'lider', 'Gruista de salida',\n",
              "       'Auxiliar máquina 1', 'LINEAS DE CORTE LONGITUDINAL',\n",
              "       'Mantenimiento', 'mantenimiento mecánico', 'Flejador TRANS001',\n",
              "       'Gruista y Maquinista Trans', 'AYUDANTE PRENSA002',\n",
              "       'sacado de los palés verdes de la zona para suministrarlos a las líneas como bases de palés alternativos, utilizados reiteradamente por Gestamp',\n",
              "       'Jefe Ventas Zona Sur', 'gruista en nave 6b zona carga',\n",
              "       'CHOFER CAMIÓN CARPINTERIA', 'Auxiliar Línea Corte Prensa I',\n",
              "       'LONGI2', 'Gruista', 'Werkzeugbau', 'Controlador de procesos',\n",
              "       'trabajo en la grúa de pórtico Q25T, nave lateral 1, colocación del círculo en el almacén de bobinas',\n",
              "       'Operador de Recolha de Resíduos',\n",
              "       'Carretillero de la Empresa Pardo Freijo', 'Chofer',\n",
              "       'Forklift Operator', 'FLEJADOR TRANS002', 'Carretillero',\n",
              "       'Auxiliar LONGI003', 'Slitter Operator', 'OPEN COIL',\n",
              "       'Equipo de preparación de montajes', 'Pupitre de entrada decapado',\n",
              "       'Embalaje del material en la línea de embalaje, cliente: Hydrapres S.A',\n",
              "       'packaging', 'Maquinista Adige TS72', 'GRUISTA EXTERNO',\n",
              "       'embaladora nave 2', 'maquinista de maquina de corte Tecoi',\n",
              "       'Auxiliar Línea Corte Longitudinal', 'ayudante de longitudinal',\n",
              "       'Titular Línea Corte Transversal', 'galvanized', 'CARRETILLERO',\n",
              "       'CARPINTERO TRANS001', 'Verpacker Halle 4',\n",
              "       'Verlader / Staplerfahrer Halle 8', '-', 'Maschinenführer 1',\n",
              "       'Grinding', 'Maschinenführer 1 Presse 5', 'DECAPADO',\n",
              "       'Bestücker LSL 2', 'Lifting material on acid pool', 'PRENSA 001',\n",
              "       'CHOFER', 'EMBALADORA 2', 'Kranfahrer Halle 1 Nord',\n",
              "       'Reemplazo de herramienta en la línea de corte transversal PRENS002',\n",
              "       'LkW-Fahrer', 'Troquelista', 'Operario de maquina l',\n",
              "       'maquinista de maquina laser', 'GRUISTA LONGI009', 'manager',\n",
              "       'Gruista 6B Negro', 'Maquinista tubos', 'NÃO SE APLICA', 'POTE',\n",
              "       'OPERARIO TREN DE TROQUELADO', 'Ayudante de perfiladora de Dimeco',\n",
              "       'MONTADOR LONGI005',\n",
              "       'Mick Brennan is responsible for all cranes and lifting equipment',\n",
              "       'Operario de Puente Grúa', 'carretillero', 'LONGI 5',\n",
              "       'Operador Principal', 'Crane operator', 'CARGADOR ENTRADA',\n",
              "       'linea de manutencion', 'Operario plasma', 'Caretillero',\n",
              "       'LIDER LONGI002', 'CARRETILLERO TRANS005',\n",
              "       'Maquinista Perfiladoras', 'Maschinenbedienerin',\n",
              "       'Maquinista líder PRENS004', 'Operator / Stacker Operator',\n",
              "       'MF LSL 1', 'VARIOS - EMBALAJE DE BOBINAS',\n",
              "       'GRUISTA DE CALDERA Y OPERARIOS DE LIMPIEZA', 'Montador LC4',\n",
              "       'TRANS 4', 'Alimentador tubos 601', 'Operador principal',\n",
              "       'Maschinenführer 2 Pressen', 'Titular de linea', 'gruista varios',\n",
              "       'Titular de Línea', 'Traslados', 'Alimentador Tubos 601',\n",
              "       'Engraving', 'Conductor Tren', 'Gantry crane operator',\n",
              "       'Wergzeugmacher', 'Cargador/descargador galvanizado',\n",
              "       'Electromecánico',\n",
              "       'Operador Principal / montador de árvore de navalhas',\n",
              "       'OPERARIO LONGI 05', 'Maintenance Engineer', 'Operario corte',\n",
              "       'Flejador-embalador', 'store-keeper', 'AYUDANTE LONGI005',\n",
              "       'Verlader Halle 8', 'Forklift kullan?m?',\n",
              "       'Logistic Forklift Driver', 'Laser Trumpf',\n",
              "       'Conductor Toro Hyster', 'Sorting and packing product',\n",
              "       'Montador LONGI003', 'Bobinero', 'Maschinenführer 1 Presse 4/6',\n",
              "       'EMBALADORA015', 'Hornero',\n",
              "       'Activación del descenso de la puerta después de haber entrado en la nave para preparar el vehículo para la descarga en la zona designada.',\n",
              "       'Linha de corte transversal', 'GRUISTA - CARRETILLERO - PRENSAS',\n",
              "       'Titular TRANS003', 'GRUISTA TRANS004', 'Fertigungsingenieur',\n",
              "       'MONTADORA', 'Maestro II', 'Slitting Operator', 'Kranführer',\n",
              "       'Press Operators', 'MONTADOR LONGI008', 'Operador de Logística',\n",
              "       'Operario de Entrada M1 y Gruista', 'Auxiliar de produccion',\n",
              "       'Maniobra de marcha atrás después de dejar el palé con producto acabado en la zona B3',\n",
              "       '包装packaging', 'Gruista Almacenes', 'Carga y descarga vagones',\n",
              "       'Stacker Operator - Training as blanking operator',\n",
              "       'forklift driver', 'Painting',\n",
              "       'Operador de montacargas asistido en la carga de camiones',\n",
              "       'soldador/gruista', 'Packaging Operator', 'Cargador Galvanizado',\n",
              "       'tooling work', 'Operador Principal (Em formação)',\n",
              "       'maquinista lc', 'Entrada Decapado M1', 'Carpintería',\n",
              "       'Crane Operator', 'Línea de Prensa - Cargador de Bobina',\n",
              "       'Chófer/camionero', 'Alimentador', 'MF2 Anlernen',\n",
              "       'Kranführer Halle 1 Süd', 'Na', 'Técnico de Mantenimiento',\n",
              "       'Embalador', 'Verpacker Halle 8', 'Fahrer Räumfahrzeug',\n",
              "       'Nacharbeiter', 'Packer', 'GRUISTA DE TUBO TRACKER', 'Acumulador',\n",
              "       'maquinista de robot de soldadura', 'Soldador/gruista',\n",
              "       'MF1 Presse 1',\n",
              "       'Accidente que ocurre en la planta de un cliente con una cantonera colocada en un paquete de formatos enviado desde nuestra planta',\n",
              "       'Staplerfahrerin', 'Expedição - enlonamento',\n",
              "       'Operating of press machine', 'Tornero ajustador',\n",
              "       'Gruista Nave 2 - 3', 'MF2 Presse 1', 'Gruista de caldera',\n",
              "       'Weighbridge Operator', 'Verificador tubos 601',\n",
              "       'Slitting Operator ', 'Operario de maquinas', 'Carretilleros',\n",
              "       'Auxiliares de Logistica\\r\\nOperador de Grua Telescopica',\n",
              "       'Operario de muestras', 'GRUISTA DE ENTRADA LINEA DE DECAPADO',\n",
              "       'EMBAL480', 'Mechatroniker',\n",
              "       'Entrada por la puerta número 3 del vehículo de carga para su descarga',\n",
              "       'GRUISTA PTA07 PTA08', 'Gruista de evacuación de maquinas',\n",
              "       'Mitarbeiter Produktion', 'Maintenance', 'Operador Decapado',\n",
              "       'Mechatroinker', 'caretillero',\n",
              "       'Lkw-Fahrer von Veolia-Umweltservice (extern)',\n",
              "       'Recogedor de cizallas', 'ZONA APILADOR LCP',\n",
              "       'MAQUINISTA Y AYUDANTE TRANSVERSAL 4', 'Maschinenführerin 1',\n",
              "       'Maschinenführer 2  LONGI 001', 'Carretilla', 'alimentador p5',\n",
              "       'Grúa de salida', 'galvanized-  packaging', 'TRASLADOS',\n",
              "       'operario de linea', 'Director Comercial Planta',\n",
              "       'EMBALADOR TRANS002', 'ayudante longi008', 'Gruista del ácido',\n",
              "       'LCL 01', 'Staplerfahrer Halle 2',\n",
              "       'Bestücker / Verpacker LONGI001', 'supervisor',\n",
              "       'Press operator Ln 3  2nd shift', 'EMBALADORA NAVE 2',\n",
              "       'Maschinenführer LONGI002', 'Maquinista LONGI009',\n",
              "       'Red Bud Blanking Line', 'Apprentice Maintenance',\n",
              "       'Assistant of line operator'], dtype=object)"
            ]
          },
          "metadata": {
            "tags": []
          },
          "execution_count": 341
        }
      ]
    },
    {
      "cell_type": "code",
      "metadata": {
        "id": "S_rVpEjurIC0"
      },
      "source": [
        "staff.drop(columns={'Puesto habitual de trabajo'}, inplace=True)"
      ],
      "execution_count": 342,
      "outputs": []
    },
    {
      "cell_type": "code",
      "metadata": {
        "id": "fi_sEKJVgtPT"
      },
      "source": [
        "#gender\n",
        "\n",
        "staff.rename(columns={'Género':'Gender'}, inplace=True)\n"
      ],
      "execution_count": 343,
      "outputs": []
    },
    {
      "cell_type": "code",
      "metadata": {
        "colab": {
          "base_uri": "https://localhost:8080/"
        },
        "id": "ClWWt7J0q7ct",
        "outputId": "e253ac14-e4a8-4c46-89e3-4ac1576a319e"
      },
      "source": [
        "staff['Gender'].unique()"
      ],
      "execution_count": 344,
      "outputs": [
        {
          "output_type": "execute_result",
          "data": {
            "text/plain": [
              "array(['Hombre', nan, 'Mujer'], dtype=object)"
            ]
          },
          "metadata": {
            "tags": []
          },
          "execution_count": 344
        }
      ]
    },
    {
      "cell_type": "code",
      "metadata": {
        "id": "q40fmLfHrRtY"
      },
      "source": [
        "staff['Gender'] = staff['Gender'].fillna('Hombre')"
      ],
      "execution_count": 345,
      "outputs": []
    },
    {
      "cell_type": "code",
      "metadata": {
        "colab": {
          "base_uri": "https://localhost:8080/"
        },
        "id": "TYtAeC8_rvBV",
        "outputId": "c2c7151e-2b3d-41af-8f25-15bd80e2fe35"
      },
      "source": [
        "len(staff[staff['Gender'].isnull()])"
      ],
      "execution_count": 346,
      "outputs": [
        {
          "output_type": "execute_result",
          "data": {
            "text/plain": [
              "0"
            ]
          },
          "metadata": {
            "tags": []
          },
          "execution_count": 346
        }
      ]
    },
    {
      "cell_type": "code",
      "metadata": {
        "id": "vcpecFlvtJCw",
        "colab": {
          "base_uri": "https://localhost:8080/"
        },
        "outputId": "3222182c-07ef-4ccf-d255-4a3c70ab9a26"
      },
      "source": [
        "staff['Gender'].unique()"
      ],
      "execution_count": 347,
      "outputs": [
        {
          "output_type": "execute_result",
          "data": {
            "text/plain": [
              "array(['Hombre', 'Mujer'], dtype=object)"
            ]
          },
          "metadata": {
            "tags": []
          },
          "execution_count": 347
        }
      ]
    },
    {
      "cell_type": "markdown",
      "metadata": {
        "id": "On0qind9Q7vT"
      },
      "source": [
        "Checking if we have null values in turno"
      ]
    },
    {
      "cell_type": "code",
      "metadata": {
        "colab": {
          "base_uri": "https://localhost:8080/"
        },
        "id": "5mgU0fRMQtMk",
        "outputId": "f4317338-ab71-461c-ee03-85ca4399b9dd"
      },
      "source": [
        "staff.Turno.isnull().any()"
      ],
      "execution_count": 348,
      "outputs": [
        {
          "output_type": "execute_result",
          "data": {
            "text/plain": [
              "False"
            ]
          },
          "metadata": {
            "tags": []
          },
          "execution_count": 348
        }
      ]
    },
    {
      "cell_type": "markdown",
      "metadata": {
        "id": "xMtW2ta4RLKn"
      },
      "source": [
        "Checking for nulls in age:\n",
        "\n",
        "As we have null values we are goign to reassing the age range based on the proportion of the tables we hav analyzed"
      ]
    },
    {
      "cell_type": "code",
      "metadata": {
        "colab": {
          "base_uri": "https://localhost:8080/"
        },
        "id": "VfoOTxnNRFqQ",
        "outputId": "e4798d08-6750-485c-f080-d9e6d8d79151"
      },
      "source": [
        "staff.Edad.isnull().any()"
      ],
      "execution_count": 349,
      "outputs": [
        {
          "output_type": "execute_result",
          "data": {
            "text/plain": [
              "True"
            ]
          },
          "metadata": {
            "tags": []
          },
          "execution_count": 349
        }
      ]
    },
    {
      "cell_type": "code",
      "metadata": {
        "colab": {
          "base_uri": "https://localhost:8080/"
        },
        "id": "2vsQ-xouRN5u",
        "outputId": "14bab5c9-d4de-4766-bd47-871bc1984121"
      },
      "source": [
        "len(staff[staff.Edad.isnull()])"
      ],
      "execution_count": 350,
      "outputs": [
        {
          "output_type": "execute_result",
          "data": {
            "text/plain": [
              "1855"
            ]
          },
          "metadata": {
            "tags": []
          },
          "execution_count": 350
        }
      ]
    },
    {
      "cell_type": "code",
      "metadata": {
        "id": "FrNrlUx9TAk3"
      },
      "source": [
        "rangos_edad = ['Menor 30', 'Entre 30-50', 'Mayor 50']\n",
        "weights = {'Hombre':[0.2, 0.44, 0.36], 'Mujer':[0.2,0.55,0.25]}"
      ],
      "execution_count": 351,
      "outputs": []
    },
    {
      "cell_type": "code",
      "metadata": {
        "id": "c4hqSPXrTWYv"
      },
      "source": [
        "np.random.seed(0)\n",
        "\n",
        "def apply_randoms(x):\n",
        "  key = x['Gender'].iat[0]\n",
        "  return pd.Series(np.random.choice(rangos_edad, size=len(x), p=weights[key]))"
      ],
      "execution_count": 352,
      "outputs": []
    },
    {
      "cell_type": "code",
      "metadata": {
        "id": "xo_dqWllTmdP"
      },
      "source": [
        "staff['Age'] = staff.groupby('Gender').apply(apply_randoms)\\\n",
        "       .rename('Age').reset_index().drop('level_1', 1)['Age']"
      ],
      "execution_count": 353,
      "outputs": []
    },
    {
      "cell_type": "code",
      "metadata": {
        "id": "a0IPi-T0Vr75"
      },
      "source": [
        "staff.drop(columns={'Edad'}, inplace=True)"
      ],
      "execution_count": 354,
      "outputs": []
    },
    {
      "cell_type": "markdown",
      "metadata": {
        "id": "cTtN_YqqWBxD"
      },
      "source": [
        "Checking is there is any row with null at type of accident"
      ]
    },
    {
      "cell_type": "code",
      "metadata": {
        "colab": {
          "base_uri": "https://localhost:8080/"
        },
        "id": "P1Nsvpr4V8nS",
        "outputId": "404e8aae-4545-46c0-da18-7cf708700647"
      },
      "source": [
        "staff['Tipo accidente'].isnull().any()"
      ],
      "execution_count": 355,
      "outputs": [
        {
          "output_type": "execute_result",
          "data": {
            "text/plain": [
              "False"
            ]
          },
          "metadata": {
            "tags": []
          },
          "execution_count": 355
        }
      ]
    },
    {
      "cell_type": "markdown",
      "metadata": {
        "id": "TG3K4TseWNM0"
      },
      "source": [
        "Worker type have null values at some rows"
      ]
    },
    {
      "cell_type": "code",
      "metadata": {
        "colab": {
          "base_uri": "https://localhost:8080/"
        },
        "id": "60IWQzzvV6Ak",
        "outputId": "564d207a-ce6d-4100-d119-af08cfdc5601"
      },
      "source": [
        "staff['Tipo trabajador'].isnull().any()"
      ],
      "execution_count": 356,
      "outputs": [
        {
          "output_type": "execute_result",
          "data": {
            "text/plain": [
              "True"
            ]
          },
          "metadata": {
            "tags": []
          },
          "execution_count": 356
        }
      ]
    },
    {
      "cell_type": "code",
      "metadata": {
        "colab": {
          "base_uri": "https://localhost:8080/"
        },
        "id": "etiwpbahWeo6",
        "outputId": "3b053ff6-695b-4c83-f9e1-e6a8380caea2"
      },
      "source": [
        "staff['Tipo trabajador'].unique()"
      ],
      "execution_count": 357,
      "outputs": [
        {
          "output_type": "execute_result",
          "data": {
            "text/plain": [
              "array(['ETT', 'Indefinido', 'Duración Determinada',\n",
              "       'Incidente (no aplica)', 'Subcontratado', 'Prácticas', nan,\n",
              "       'Cedidos de otras plantas', 'No aplica', 'Indefinido con preaviso'],\n",
              "      dtype=object)"
            ]
          },
          "metadata": {
            "tags": []
          },
          "execution_count": 357
        }
      ]
    },
    {
      "cell_type": "code",
      "metadata": {
        "colab": {
          "base_uri": "https://localhost:8080/",
          "height": 198
        },
        "id": "1U8ShHwkWitG",
        "outputId": "bd21f7d4-7870-4d9b-8563-f18ddfda5ed2"
      },
      "source": [
        "staff[staff['Tipo trabajador'].isnull()] #As we only have two values null we are going to assign directly 'Indefinido'"
      ],
      "execution_count": 358,
      "outputs": [
        {
          "output_type": "execute_result",
          "data": {
            "text/html": [
              "<div>\n",
              "<style scoped>\n",
              "    .dataframe tbody tr th:only-of-type {\n",
              "        vertical-align: middle;\n",
              "    }\n",
              "\n",
              "    .dataframe tbody tr th {\n",
              "        vertical-align: top;\n",
              "    }\n",
              "\n",
              "    .dataframe thead th {\n",
              "        text-align: right;\n",
              "    }\n",
              "</style>\n",
              "<table border=\"1\" class=\"dataframe\">\n",
              "  <thead>\n",
              "    <tr style=\"text-align: right;\">\n",
              "      <th></th>\n",
              "      <th>Codigo accidentado</th>\n",
              "      <th>Turno</th>\n",
              "      <th>Gender</th>\n",
              "      <th>Planta</th>\n",
              "      <th>Tipo accidente</th>\n",
              "      <th>Tipo trabajador</th>\n",
              "      <th>Gravedad potencial</th>\n",
              "      <th>Lugar o seccion accidente</th>\n",
              "      <th>Fabrica</th>\n",
              "      <th>Tecnología</th>\n",
              "      <th>Pais</th>\n",
              "      <th>Horas Presencia Efectiva Subcontratados</th>\n",
              "      <th>Horas Presencia Efectiva ETTs</th>\n",
              "      <th>Horas Formacion Seguridad Propios</th>\n",
              "      <th>Horas Formacion Seguridad ETTs</th>\n",
              "      <th>Accident</th>\n",
              "      <th>wk_position</th>\n",
              "      <th>Age</th>\n",
              "    </tr>\n",
              "  </thead>\n",
              "  <tbody>\n",
              "    <tr>\n",
              "      <th>2831</th>\n",
              "      <td>HS-NVRR_8597</td>\n",
              "      <td>Turno de mañana</td>\n",
              "      <td>Hombre</td>\n",
              "      <td>13</td>\n",
              "      <td>Incidente</td>\n",
              "      <td>NaN</td>\n",
              "      <td>Leve</td>\n",
              "      <td>Carretilla</td>\n",
              "      <td>Burgos</td>\n",
              "      <td>Blanking</td>\n",
              "      <td>España</td>\n",
              "      <td>25249.0</td>\n",
              "      <td>42485.0</td>\n",
              "      <td>1419.0</td>\n",
              "      <td>829.0</td>\n",
              "      <td>Yes</td>\n",
              "      <td>/</td>\n",
              "      <td>Menor 30</td>\n",
              "    </tr>\n",
              "    <tr>\n",
              "      <th>2832</th>\n",
              "      <td>HS-NVRR_8598</td>\n",
              "      <td>Turno de mañana</td>\n",
              "      <td>Hombre</td>\n",
              "      <td>13</td>\n",
              "      <td>Incidente</td>\n",
              "      <td>NaN</td>\n",
              "      <td>Leve</td>\n",
              "      <td>Carretilla</td>\n",
              "      <td>Burgos</td>\n",
              "      <td>Blanking</td>\n",
              "      <td>España</td>\n",
              "      <td>25249.0</td>\n",
              "      <td>42485.0</td>\n",
              "      <td>1419.0</td>\n",
              "      <td>829.0</td>\n",
              "      <td>Yes</td>\n",
              "      <td>Packaging Operator</td>\n",
              "      <td>Mayor 50</td>\n",
              "    </tr>\n",
              "  </tbody>\n",
              "</table>\n",
              "</div>"
            ],
            "text/plain": [
              "     Codigo accidentado            Turno  ...         wk_position       Age\n",
              "2831       HS-NVRR_8597  Turno de mañana  ...                  /   Menor 30\n",
              "2832       HS-NVRR_8598  Turno de mañana  ...  Packaging Operator  Mayor 50\n",
              "\n",
              "[2 rows x 18 columns]"
            ]
          },
          "metadata": {
            "tags": []
          },
          "execution_count": 358
        }
      ]
    },
    {
      "cell_type": "code",
      "metadata": {
        "id": "YWHUxreCWziC"
      },
      "source": [
        "staff['Tipo trabajador'] = staff['Tipo trabajador'].fillna('Indefinido')"
      ],
      "execution_count": 359,
      "outputs": []
    },
    {
      "cell_type": "code",
      "metadata": {
        "colab": {
          "base_uri": "https://localhost:8080/"
        },
        "id": "rO8DKxDoW5pT",
        "outputId": "34098464-a649-4140-8598-d6f381263403"
      },
      "source": [
        "staff['Tipo trabajador'].isnull().any()"
      ],
      "execution_count": 360,
      "outputs": [
        {
          "output_type": "execute_result",
          "data": {
            "text/plain": [
              "False"
            ]
          },
          "metadata": {
            "tags": []
          },
          "execution_count": 360
        }
      ]
    },
    {
      "cell_type": "markdown",
      "metadata": {
        "id": "ybuCX7ewW-ki"
      },
      "source": [
        "Potential Severity columns has null values as well"
      ]
    },
    {
      "cell_type": "code",
      "metadata": {
        "colab": {
          "base_uri": "https://localhost:8080/"
        },
        "id": "vC75AR5RW7o4",
        "outputId": "f5865645-796a-4d14-9d4d-47c5f6a83aaf"
      },
      "source": [
        "staff[staff['Accident']=='Yes']['Gravedad potencial'].isnull().any()"
      ],
      "execution_count": 361,
      "outputs": [
        {
          "output_type": "execute_result",
          "data": {
            "text/plain": [
              "True"
            ]
          },
          "metadata": {
            "tags": []
          },
          "execution_count": 361
        }
      ]
    },
    {
      "cell_type": "code",
      "metadata": {
        "colab": {
          "base_uri": "https://localhost:8080/"
        },
        "id": "ssjB5QElXES6",
        "outputId": "dd6058a3-86b2-495e-d0ac-40c4cec60472"
      },
      "source": [
        "len(staff[(staff['Gravedad potencial'].isnull()) & (staff['Accident']=='Yes')])"
      ],
      "execution_count": 362,
      "outputs": [
        {
          "output_type": "execute_result",
          "data": {
            "text/plain": [
              "1009"
            ]
          },
          "metadata": {
            "tags": []
          },
          "execution_count": 362
        }
      ]
    },
    {
      "cell_type": "code",
      "metadata": {
        "id": "O_4-3_RqXLlo"
      },
      "source": [
        "## we are going to assign it randomly\n",
        "staff['Gravedad potencial'].unique()\n",
        "severity = ['Muy grave', 'Leve', 'Grave']"
      ],
      "execution_count": 363,
      "outputs": []
    },
    {
      "cell_type": "code",
      "metadata": {
        "id": "vzT-nAysXaWy"
      },
      "source": [
        "for i in staff['Gravedad potencial']:\n",
        "\n",
        "  if str(i) == 'nan':\n",
        "    staff['Severity'] = np.random.choice(severity, size=len(staff))\n",
        "  else:\n",
        "    staff['Severity'] = i\n"
      ],
      "execution_count": 364,
      "outputs": []
    },
    {
      "cell_type": "code",
      "metadata": {
        "colab": {
          "base_uri": "https://localhost:8080/"
        },
        "id": "0fFOxJE5YipI",
        "outputId": "43ed4f23-3144-4931-a13a-c031aabe2170"
      },
      "source": [
        "staff['Severity'].isnull().any()"
      ],
      "execution_count": 365,
      "outputs": [
        {
          "output_type": "execute_result",
          "data": {
            "text/plain": [
              "False"
            ]
          },
          "metadata": {
            "tags": []
          },
          "execution_count": 365
        }
      ]
    },
    {
      "cell_type": "code",
      "metadata": {
        "colab": {
          "base_uri": "https://localhost:8080/"
        },
        "id": "gefUfwVkYlKe",
        "outputId": "525bd6ef-53ad-4c14-a153-ee5781e563d9"
      },
      "source": [
        "staff['Severity'].unique()"
      ],
      "execution_count": 366,
      "outputs": [
        {
          "output_type": "execute_result",
          "data": {
            "text/plain": [
              "array(['Leve', 'Muy grave', 'Grave'], dtype=object)"
            ]
          },
          "metadata": {
            "tags": []
          },
          "execution_count": 366
        }
      ]
    },
    {
      "cell_type": "code",
      "metadata": {
        "id": "NtBRkmeiZVnN"
      },
      "source": [
        "staff.drop(columns={'Gravedad potencial'}, inplace=True)"
      ],
      "execution_count": 367,
      "outputs": []
    },
    {
      "cell_type": "code",
      "metadata": {
        "colab": {
          "base_uri": "https://localhost:8080/"
        },
        "id": "Tl_lLlotbBSP",
        "outputId": "7044c118-920d-4f9e-cd62-adf81ef05900"
      },
      "source": [
        "staff['Severity'].isnull().any()"
      ],
      "execution_count": 368,
      "outputs": [
        {
          "output_type": "execute_result",
          "data": {
            "text/plain": [
              "False"
            ]
          },
          "metadata": {
            "tags": []
          },
          "execution_count": 368
        }
      ]
    },
    {
      "cell_type": "markdown",
      "metadata": {
        "id": "sibFbBZeYoPq"
      },
      "source": [
        "Aciccent's place/section"
      ]
    },
    {
      "cell_type": "code",
      "metadata": {
        "colab": {
          "base_uri": "https://localhost:8080/"
        },
        "id": "aobbvPbFYoiO",
        "outputId": "aa6682d2-3339-49f9-b28f-9e7d6bdb2cc6"
      },
      "source": [
        "staff['Lugar o seccion accidente'].isnull().any()"
      ],
      "execution_count": 369,
      "outputs": [
        {
          "output_type": "execute_result",
          "data": {
            "text/plain": [
              "True"
            ]
          },
          "metadata": {
            "tags": []
          },
          "execution_count": 369
        }
      ]
    },
    {
      "cell_type": "code",
      "metadata": {
        "colab": {
          "base_uri": "https://localhost:8080/"
        },
        "id": "ahjhHbcGYwG1",
        "outputId": "167ee0b2-d140-412c-b92b-61fc8a6a3ee4"
      },
      "source": [
        "len(staff[staff['Lugar o seccion accidente'].isnull()])"
      ],
      "execution_count": 370,
      "outputs": [
        {
          "output_type": "execute_result",
          "data": {
            "text/plain": [
              "63"
            ]
          },
          "metadata": {
            "tags": []
          },
          "execution_count": 370
        }
      ]
    },
    {
      "cell_type": "code",
      "metadata": {
        "colab": {
          "base_uri": "https://localhost:8080/"
        },
        "id": "q2vSNBsDY3u_",
        "outputId": "58817f6b-e53d-443e-968e-88f35698d17d"
      },
      "source": [
        "staff['Lugar o seccion accidente'].unique()"
      ],
      "execution_count": 371,
      "outputs": [
        {
          "output_type": "execute_result",
          "data": {
            "text/plain": [
              "array(['Células Soldadura', 'Tubos', 'Almacén de Producto Terminado',\n",
              "       'Blanking', 'Corte Longitudinal', 'Corte Transversal',\n",
              "       'Almacén de Materia Prima', 'Cizalla', 'Decapado', 'Puente Grúa',\n",
              "       'Carpinteria', 'Galvanizado Inmersión', nan, 'Maquinaria Auxiliar',\n",
              "       'Corte Plasma', 'Perfiles abiertos', 'Corte Láser',\n",
              "       'Almacen productos quimicos', 'Corte Láser 3D',\n",
              "       'Instalaciones exteriores y auxiliares', 'Mantenimiento', 'Prensa',\n",
              "       'Almacén producto semielaborado o en producción', 'Carretilla',\n",
              "       'Sierra', 'Oficinas administrativas', 'Área de embalado',\n",
              "       'Punzonado', 'Soldadura Manual', 'Limpieza/Prepintado',\n",
              "       'Galvanizado continuo', 'Perforado', 'Coil to Coil',\n",
              "       'Tailor Welding', 'Galvanizado ', 'Almacen de recambios',\n",
              "       'Galvanizado', 'Electrozincado', 'Pintura', 'General / Auxiliar',\n",
              "       'Perfilado de barrera y postes', 'Skinpass', 'Slitting ',\n",
              "       'General', 'Press Blanking', 'Laminado', 'Ablation Line',\n",
              "       'Slitting', 'D-Ring Line', 'Multi Strand'], dtype=object)"
            ]
          },
          "metadata": {
            "tags": []
          },
          "execution_count": 371
        }
      ]
    },
    {
      "cell_type": "code",
      "metadata": {
        "id": "1_CNhHvuY7Xb"
      },
      "source": [
        "place_acc = ['Células Soldadura', 'Tubos', 'Almacén de Producto Terminado',\n",
        "       'Blanking', 'Corte Longitudinal', 'Corte Transversal',\n",
        "       'Almacén de Materia Prima', 'Cizalla', 'Decapado', 'Puente Grúa',\n",
        "       'Carpinteria', 'Galvanizado Inmersión',  'Maquinaria Auxiliar',\n",
        "       'Corte Plasma', 'Perfiles abiertos', 'Corte Láser',\n",
        "       'Almacen productos quimicos', 'Corte Láser 3D',\n",
        "       'Instalaciones exteriores y auxiliares', 'Mantenimiento', 'Prensa',\n",
        "       'Almacén producto semielaborado o en producción', 'Carretilla',\n",
        "       'Sierra', 'Oficinas administrativas', 'Área de embalado',\n",
        "       'Punzonado', 'Soldadura Manual', 'Limpieza/Prepintado',\n",
        "       'Galvanizado continuo', 'Perforado', 'Coil to Coil',\n",
        "       'Tailor Welding', 'Galvanizado ', 'Almacen de recambios',\n",
        "       'Galvanizado', 'Electrozincado', 'Pintura', 'General / Auxiliar',\n",
        "       'Perfilado de barrera y postes', 'Skinpass', 'Slitting ',\n",
        "       'General', 'Press Blanking', 'Laminado', 'Ablation Line',\n",
        "       'Slitting', 'D-Ring Line', 'Multi Strand']"
      ],
      "execution_count": 372,
      "outputs": []
    },
    {
      "cell_type": "code",
      "metadata": {
        "id": "FiKK_r8rZCP7"
      },
      "source": [
        "for i in staff['Lugar o seccion accidente']:\n",
        "\n",
        "  if str(i) == 'nan':\n",
        "    staff['Accident_place'] = np.random.choice(place_acc, size=len(staff))\n",
        "  else:\n",
        "    staff['Accident_place'] = i"
      ],
      "execution_count": 373,
      "outputs": []
    },
    {
      "cell_type": "code",
      "metadata": {
        "colab": {
          "base_uri": "https://localhost:8080/"
        },
        "id": "_tOXAMrtZK6s",
        "outputId": "47e83994-2861-47b8-eeae-13c29968d29a"
      },
      "source": [
        "staff['Accident_place'].isnull().any()"
      ],
      "execution_count": 374,
      "outputs": [
        {
          "output_type": "execute_result",
          "data": {
            "text/plain": [
              "False"
            ]
          },
          "metadata": {
            "tags": []
          },
          "execution_count": 374
        }
      ]
    },
    {
      "cell_type": "code",
      "metadata": {
        "id": "jRwSx7dnZPOb"
      },
      "source": [
        "staff.drop(columns={'Lugar o seccion accidente'}, inplace=True)"
      ],
      "execution_count": 375,
      "outputs": []
    },
    {
      "cell_type": "markdown",
      "metadata": {
        "id": "YsUVAcDlZg6-"
      },
      "source": [
        "There arent any null values in Fabric column, technology and country fields are from fabric so the will be filled as well"
      ]
    },
    {
      "cell_type": "code",
      "metadata": {
        "colab": {
          "base_uri": "https://localhost:8080/"
        },
        "id": "g5x_ldO5Zipl",
        "outputId": "0bc47366-7f06-42cf-db4e-9073c8a36493"
      },
      "source": [
        "staff['Fabrica'].isnull().any()"
      ],
      "execution_count": 376,
      "outputs": [
        {
          "output_type": "execute_result",
          "data": {
            "text/plain": [
              "False"
            ]
          },
          "metadata": {
            "tags": []
          },
          "execution_count": 376
        }
      ]
    },
    {
      "cell_type": "markdown",
      "metadata": {
        "id": "AmJ8A8IZZ04t"
      },
      "source": [
        "Now we are going to check the columns of efective presence hours"
      ]
    },
    {
      "cell_type": "code",
      "metadata": {
        "colab": {
          "base_uri": "https://localhost:8080/"
        },
        "id": "-oDdy55OZxBP",
        "outputId": "f65d9842-c6f2-478d-9189-32e5c91624ba"
      },
      "source": [
        "staff['Horas Presencia Efectiva Subcontratados'].isnull().any()"
      ],
      "execution_count": 377,
      "outputs": [
        {
          "output_type": "execute_result",
          "data": {
            "text/plain": [
              "True"
            ]
          },
          "metadata": {
            "tags": []
          },
          "execution_count": 377
        }
      ]
    },
    {
      "cell_type": "code",
      "metadata": {
        "id": "33VchKwnD8Qf"
      },
      "source": [
        "staff['Horas Presencia Efectiva Subcontratados'] = staff['Horas Presencia Efectiva Subcontratados'].fillna(0)"
      ],
      "execution_count": 378,
      "outputs": []
    },
    {
      "cell_type": "code",
      "metadata": {
        "colab": {
          "base_uri": "https://localhost:8080/"
        },
        "id": "s2A5wluPZ_p2",
        "outputId": "04c15e0d-9330-45d0-ae18-986a8477a606"
      },
      "source": [
        "staff['Horas Presencia Efectiva ETTs'].isnull().any()"
      ],
      "execution_count": 379,
      "outputs": [
        {
          "output_type": "execute_result",
          "data": {
            "text/plain": [
              "True"
            ]
          },
          "metadata": {
            "tags": []
          },
          "execution_count": 379
        }
      ]
    },
    {
      "cell_type": "code",
      "metadata": {
        "id": "fGJDdW2bD-uf"
      },
      "source": [
        "staff['Horas Presencia Efectiva ETTs'] = staff['Horas Presencia Efectiva ETTs'].fillna(0)"
      ],
      "execution_count": 380,
      "outputs": []
    },
    {
      "cell_type": "code",
      "metadata": {
        "colab": {
          "base_uri": "https://localhost:8080/"
        },
        "id": "K9tsFwMcZ_yp",
        "outputId": "79db9531-6ec3-46ca-8456-c1eb2c9ee03f"
      },
      "source": [
        "staff['Horas Formacion Seguridad Propios'].isnull().any()"
      ],
      "execution_count": 381,
      "outputs": [
        {
          "output_type": "execute_result",
          "data": {
            "text/plain": [
              "True"
            ]
          },
          "metadata": {
            "tags": []
          },
          "execution_count": 381
        }
      ]
    },
    {
      "cell_type": "code",
      "metadata": {
        "id": "uJheuZRdEA7v"
      },
      "source": [
        "staff['Horas Formacion Seguridad Propios'] = staff['Horas Formacion Seguridad Propios'].fillna(0)"
      ],
      "execution_count": 382,
      "outputs": []
    },
    {
      "cell_type": "code",
      "metadata": {
        "colab": {
          "base_uri": "https://localhost:8080/"
        },
        "id": "fw6NRZcRaADR",
        "outputId": "5d026a04-6650-4de8-83fd-9cbc8a7833d0"
      },
      "source": [
        "staff['Horas Formacion Seguridad ETTs'].isnull().any()"
      ],
      "execution_count": 383,
      "outputs": [
        {
          "output_type": "execute_result",
          "data": {
            "text/plain": [
              "True"
            ]
          },
          "metadata": {
            "tags": []
          },
          "execution_count": 383
        }
      ]
    },
    {
      "cell_type": "code",
      "metadata": {
        "id": "BBMwhcoaEEWq"
      },
      "source": [
        "staff['Horas Formacion Seguridad ETTs'] = staff['Horas Formacion Seguridad ETTs'].fillna(0)"
      ],
      "execution_count": 384,
      "outputs": []
    },
    {
      "cell_type": "code",
      "metadata": {
        "colab": {
          "base_uri": "https://localhost:8080/",
          "height": 361
        },
        "id": "0kt3Tb2DQ_5a",
        "outputId": "552524fb-b695-4b56-a69c-697acca5d296"
      },
      "source": [
        "staff.head()"
      ],
      "execution_count": 385,
      "outputs": [
        {
          "output_type": "execute_result",
          "data": {
            "text/html": [
              "<div>\n",
              "<style scoped>\n",
              "    .dataframe tbody tr th:only-of-type {\n",
              "        vertical-align: middle;\n",
              "    }\n",
              "\n",
              "    .dataframe tbody tr th {\n",
              "        vertical-align: top;\n",
              "    }\n",
              "\n",
              "    .dataframe thead th {\n",
              "        text-align: right;\n",
              "    }\n",
              "</style>\n",
              "<table border=\"1\" class=\"dataframe\">\n",
              "  <thead>\n",
              "    <tr style=\"text-align: right;\">\n",
              "      <th></th>\n",
              "      <th>Codigo accidentado</th>\n",
              "      <th>Turno</th>\n",
              "      <th>Gender</th>\n",
              "      <th>Planta</th>\n",
              "      <th>Tipo accidente</th>\n",
              "      <th>Tipo trabajador</th>\n",
              "      <th>Fabrica</th>\n",
              "      <th>Tecnología</th>\n",
              "      <th>Pais</th>\n",
              "      <th>Horas Presencia Efectiva Subcontratados</th>\n",
              "      <th>Horas Presencia Efectiva ETTs</th>\n",
              "      <th>Horas Formacion Seguridad Propios</th>\n",
              "      <th>Horas Formacion Seguridad ETTs</th>\n",
              "      <th>Accident</th>\n",
              "      <th>wk_position</th>\n",
              "      <th>Age</th>\n",
              "      <th>Severity</th>\n",
              "      <th>Accident_place</th>\n",
              "    </tr>\n",
              "  </thead>\n",
              "  <tbody>\n",
              "    <tr>\n",
              "      <th>0</th>\n",
              "      <td>HS-CLMB_2546</td>\n",
              "      <td>Turno de mañana</td>\n",
              "      <td>Hombre</td>\n",
              "      <td>20</td>\n",
              "      <td>Accidente c/b</td>\n",
              "      <td>ETT</td>\n",
              "      <td>Burgos</td>\n",
              "      <td>Skinpass</td>\n",
              "      <td>España</td>\n",
              "      <td>25249.0</td>\n",
              "      <td>42485.0</td>\n",
              "      <td>1419.0</td>\n",
              "      <td>829.0</td>\n",
              "      <td>Yes</td>\n",
              "      <td>Gruista LONGI004 y LONGI008</td>\n",
              "      <td>Entre 30-50</td>\n",
              "      <td>Leve</td>\n",
              "      <td>Mantenimiento</td>\n",
              "    </tr>\n",
              "    <tr>\n",
              "      <th>1</th>\n",
              "      <td>HS-CEPA_2563</td>\n",
              "      <td>Turno de mañana</td>\n",
              "      <td>Hombre</td>\n",
              "      <td>19</td>\n",
              "      <td>Accidente c/b</td>\n",
              "      <td>Indefinido</td>\n",
              "      <td>Burgos</td>\n",
              "      <td>Recocido</td>\n",
              "      <td>España</td>\n",
              "      <td>25249.0</td>\n",
              "      <td>42485.0</td>\n",
              "      <td>1419.0</td>\n",
              "      <td>829.0</td>\n",
              "      <td>Yes</td>\n",
              "      <td>Operador Puente-Grúa</td>\n",
              "      <td>Mayor 50</td>\n",
              "      <td>Muy grave</td>\n",
              "      <td>Mantenimiento</td>\n",
              "    </tr>\n",
              "    <tr>\n",
              "      <th>2</th>\n",
              "      <td>HS-GNVT_2564</td>\n",
              "      <td>Turno de tarde</td>\n",
              "      <td>Hombre</td>\n",
              "      <td>12</td>\n",
              "      <td>Accidente s/b</td>\n",
              "      <td>Duración Determinada</td>\n",
              "      <td>Barcelona</td>\n",
              "      <td>Skinpass</td>\n",
              "      <td>España</td>\n",
              "      <td>25685.0</td>\n",
              "      <td>18303.0</td>\n",
              "      <td>1151.0</td>\n",
              "      <td>152.0</td>\n",
              "      <td>Yes</td>\n",
              "      <td>hanger</td>\n",
              "      <td>Entre 30-50</td>\n",
              "      <td>Muy grave</td>\n",
              "      <td>Mantenimiento</td>\n",
              "    </tr>\n",
              "    <tr>\n",
              "      <th>3</th>\n",
              "      <td>HS-GNVT_2565</td>\n",
              "      <td>Turno de mañana</td>\n",
              "      <td>Hombre</td>\n",
              "      <td>12</td>\n",
              "      <td>Incidente</td>\n",
              "      <td>ETT</td>\n",
              "      <td>Barcelona</td>\n",
              "      <td>Skinpass</td>\n",
              "      <td>España</td>\n",
              "      <td>25685.0</td>\n",
              "      <td>18303.0</td>\n",
              "      <td>1151.0</td>\n",
              "      <td>152.0</td>\n",
              "      <td>Yes</td>\n",
              "      <td>Titular Circulares</td>\n",
              "      <td>Entre 30-50</td>\n",
              "      <td>Grave</td>\n",
              "      <td>Mantenimiento</td>\n",
              "    </tr>\n",
              "    <tr>\n",
              "      <th>4</th>\n",
              "      <td>HS-DNGG_2566</td>\n",
              "      <td>Turno de mañana</td>\n",
              "      <td>Hombre</td>\n",
              "      <td>41</td>\n",
              "      <td>Incidente</td>\n",
              "      <td>Incidente (no aplica)</td>\n",
              "      <td>Asturias</td>\n",
              "      <td>Corte Láser</td>\n",
              "      <td>España</td>\n",
              "      <td>0.0</td>\n",
              "      <td>0.0</td>\n",
              "      <td>0.0</td>\n",
              "      <td>0.0</td>\n",
              "      <td>Yes</td>\n",
              "      <td>Control Calidad</td>\n",
              "      <td>Entre 30-50</td>\n",
              "      <td>Grave</td>\n",
              "      <td>Mantenimiento</td>\n",
              "    </tr>\n",
              "  </tbody>\n",
              "</table>\n",
              "</div>"
            ],
            "text/plain": [
              "  Codigo accidentado            Turno  ...   Severity  Accident_place\n",
              "0       HS-CLMB_2546  Turno de mañana  ...       Leve   Mantenimiento\n",
              "1       HS-CEPA_2563  Turno de mañana  ...  Muy grave   Mantenimiento\n",
              "2       HS-GNVT_2564   Turno de tarde  ...  Muy grave   Mantenimiento\n",
              "3       HS-GNVT_2565  Turno de mañana  ...      Grave   Mantenimiento\n",
              "4       HS-DNGG_2566  Turno de mañana  ...      Grave   Mantenimiento\n",
              "\n",
              "[5 rows x 18 columns]"
            ]
          },
          "metadata": {
            "tags": []
          },
          "execution_count": 385
        }
      ]
    },
    {
      "cell_type": "markdown",
      "metadata": {
        "id": "-m9oOgwJacnG"
      },
      "source": [
        "Now we are going to generate the other part of our staff dataframe which contains those people who havent had an accident"
      ]
    },
    {
      "cell_type": "code",
      "metadata": {
        "colab": {
          "base_uri": "https://localhost:8080/"
        },
        "id": "gowwbtslabDt",
        "outputId": "58799001-2d73-41dd-f092-a90d40cd7b0a"
      },
      "source": [
        "len(staff)"
      ],
      "execution_count": 386,
      "outputs": [
        {
          "output_type": "execute_result",
          "data": {
            "text/plain": [
              "4180"
            ]
          },
          "metadata": {
            "tags": []
          },
          "execution_count": 386
        }
      ]
    },
    {
      "cell_type": "code",
      "metadata": {
        "colab": {
          "base_uri": "https://localhost:8080/"
        },
        "id": "TTFXyWaHalgl",
        "outputId": "55f3ee91-8c08-4a2f-e760-6ed8ff500529"
      },
      "source": [
        "employees = rrhh_plant[['Año', 'Mes', 'Empleados Propios', 'Empleados Ajenos','Empleados ETTS','Empleados Subcontrata']]\n",
        "employees  = employees[employees['Mes']=='ENE']\n",
        "\n",
        "employees['Total'] = employees['Empleados Propios'] + employees['Empleados Ajenos'] + employees['Empleados ETTS'] + employees['Empleados Subcontrata']\n",
        "\n",
        "employees = employees.groupby(['Año', 'Mes']).agg('sum')\n",
        "employees['Total']"
      ],
      "execution_count": 387,
      "outputs": [
        {
          "output_type": "execute_result",
          "data": {
            "text/plain": [
              "Año     Mes\n",
              "2020.0  ENE    7070.0\n",
              "Name: Total, dtype: float64"
            ]
          },
          "metadata": {
            "tags": []
          },
          "execution_count": 387
        }
      ]
    },
    {
      "cell_type": "markdown",
      "metadata": {
        "id": "kKOZcETNbunM"
      },
      "source": [
        "So the number of employees in 2020 7070 and we are going to take that as reference. \n",
        "\n",
        "As we are taking 3 years of accidents we are going to have the same proportion on the staff to be able to evaluate it. So our total number of employees in the staff table will be 21.210, 4180 accidents. \n",
        "\n",
        "We are going to generate now the 17030 employees who didnt have any accident"
      ]
    },
    {
      "cell_type": "code",
      "metadata": {
        "colab": {
          "base_uri": "https://localhost:8080/",
          "height": 101
        },
        "id": "K7CTv67ybpku",
        "outputId": "1b4127f6-41e9-44e3-dbde-912b8786ef57"
      },
      "source": [
        "staff_without = pd.DataFrame(columns=staff.columns)\n",
        "\n",
        "staff_without"
      ],
      "execution_count": 388,
      "outputs": [
        {
          "output_type": "execute_result",
          "data": {
            "text/html": [
              "<div>\n",
              "<style scoped>\n",
              "    .dataframe tbody tr th:only-of-type {\n",
              "        vertical-align: middle;\n",
              "    }\n",
              "\n",
              "    .dataframe tbody tr th {\n",
              "        vertical-align: top;\n",
              "    }\n",
              "\n",
              "    .dataframe thead th {\n",
              "        text-align: right;\n",
              "    }\n",
              "</style>\n",
              "<table border=\"1\" class=\"dataframe\">\n",
              "  <thead>\n",
              "    <tr style=\"text-align: right;\">\n",
              "      <th></th>\n",
              "      <th>Codigo accidentado</th>\n",
              "      <th>Turno</th>\n",
              "      <th>Gender</th>\n",
              "      <th>Planta</th>\n",
              "      <th>Tipo accidente</th>\n",
              "      <th>Tipo trabajador</th>\n",
              "      <th>Fabrica</th>\n",
              "      <th>Tecnología</th>\n",
              "      <th>Pais</th>\n",
              "      <th>Horas Presencia Efectiva Subcontratados</th>\n",
              "      <th>Horas Presencia Efectiva ETTs</th>\n",
              "      <th>Horas Formacion Seguridad Propios</th>\n",
              "      <th>Horas Formacion Seguridad ETTs</th>\n",
              "      <th>Accident</th>\n",
              "      <th>wk_position</th>\n",
              "      <th>Age</th>\n",
              "      <th>Severity</th>\n",
              "      <th>Accident_place</th>\n",
              "    </tr>\n",
              "  </thead>\n",
              "  <tbody>\n",
              "  </tbody>\n",
              "</table>\n",
              "</div>"
            ],
            "text/plain": [
              "Empty DataFrame\n",
              "Columns: [Codigo accidentado, Turno, Gender, Planta, Tipo accidente, Tipo trabajador, Fabrica, Tecnología, Pais, Horas Presencia Efectiva Subcontratados, Horas Presencia Efectiva ETTs, Horas Formacion Seguridad Propios, Horas Formacion Seguridad ETTs, Accident, wk_position, Age, Severity, Accident_place]\n",
              "Index: []"
            ]
          },
          "metadata": {
            "tags": []
          },
          "execution_count": 388
        }
      ]
    },
    {
      "cell_type": "code",
      "metadata": {
        "id": "ri3Y2pTadv2_"
      },
      "source": [
        "def create_rndm(values, column):\n",
        "  staff_without[column] = np.random.choice(values, size=17030)"
      ],
      "execution_count": 389,
      "outputs": []
    },
    {
      "cell_type": "code",
      "metadata": {
        "id": "QyymGdVpdM4q"
      },
      "source": [
        "turno  = ['Turno de mañana', 'Turno de tarde', 'Turno de noche']\n",
        "\n",
        "create_rndm(turno, 'Turno')"
      ],
      "execution_count": 390,
      "outputs": []
    },
    {
      "cell_type": "markdown",
      "metadata": {
        "id": "s2qZ8uByiG-6"
      },
      "source": [
        "To create the gender columns we are going to apply weights based on the data we had from staff"
      ]
    },
    {
      "cell_type": "code",
      "metadata": {
        "id": "1oPrbFJNiLQs"
      },
      "source": [
        "gender = ['Hombre', 'Mujer']\n",
        "weights = [0.90,0.1]\n",
        "\n",
        "np.random.seed(0)\n",
        "\n",
        "staff_without['Gender'] = random.choices(gender, weights=weights, k=len(staff_without))"
      ],
      "execution_count": 391,
      "outputs": []
    },
    {
      "cell_type": "code",
      "metadata": {
        "id": "f7ffOH-IeHwT"
      },
      "source": [
        "planta_list = staff.Planta.unique()\n",
        "create_rndm(planta_list, 'Planta')"
      ],
      "execution_count": 392,
      "outputs": []
    },
    {
      "cell_type": "code",
      "metadata": {
        "colab": {
          "base_uri": "https://localhost:8080/",
          "height": 167
        },
        "id": "kivrUdyydscS",
        "outputId": "ef043a07-f809-4a21-a690-fc0450b298ea"
      },
      "source": [
        "staff_without.head(1)"
      ],
      "execution_count": 393,
      "outputs": [
        {
          "output_type": "execute_result",
          "data": {
            "text/html": [
              "<div>\n",
              "<style scoped>\n",
              "    .dataframe tbody tr th:only-of-type {\n",
              "        vertical-align: middle;\n",
              "    }\n",
              "\n",
              "    .dataframe tbody tr th {\n",
              "        vertical-align: top;\n",
              "    }\n",
              "\n",
              "    .dataframe thead th {\n",
              "        text-align: right;\n",
              "    }\n",
              "</style>\n",
              "<table border=\"1\" class=\"dataframe\">\n",
              "  <thead>\n",
              "    <tr style=\"text-align: right;\">\n",
              "      <th></th>\n",
              "      <th>Codigo accidentado</th>\n",
              "      <th>Turno</th>\n",
              "      <th>Gender</th>\n",
              "      <th>Planta</th>\n",
              "      <th>Tipo accidente</th>\n",
              "      <th>Tipo trabajador</th>\n",
              "      <th>Fabrica</th>\n",
              "      <th>Tecnología</th>\n",
              "      <th>Pais</th>\n",
              "      <th>Horas Presencia Efectiva Subcontratados</th>\n",
              "      <th>Horas Presencia Efectiva ETTs</th>\n",
              "      <th>Horas Formacion Seguridad Propios</th>\n",
              "      <th>Horas Formacion Seguridad ETTs</th>\n",
              "      <th>Accident</th>\n",
              "      <th>wk_position</th>\n",
              "      <th>Age</th>\n",
              "      <th>Severity</th>\n",
              "      <th>Accident_place</th>\n",
              "    </tr>\n",
              "  </thead>\n",
              "  <tbody>\n",
              "    <tr>\n",
              "      <th>0</th>\n",
              "      <td>NaN</td>\n",
              "      <td>Turno de tarde</td>\n",
              "      <td>Hombre</td>\n",
              "      <td>20</td>\n",
              "      <td>NaN</td>\n",
              "      <td>NaN</td>\n",
              "      <td>NaN</td>\n",
              "      <td>NaN</td>\n",
              "      <td>NaN</td>\n",
              "      <td>NaN</td>\n",
              "      <td>NaN</td>\n",
              "      <td>NaN</td>\n",
              "      <td>NaN</td>\n",
              "      <td>NaN</td>\n",
              "      <td>NaN</td>\n",
              "      <td>NaN</td>\n",
              "      <td>NaN</td>\n",
              "      <td>NaN</td>\n",
              "    </tr>\n",
              "  </tbody>\n",
              "</table>\n",
              "</div>"
            ],
            "text/plain": [
              "  Codigo accidentado           Turno  Gender  ...  Age Severity Accident_place\n",
              "0                NaN  Turno de tarde  Hombre  ...  NaN      NaN            NaN\n",
              "\n",
              "[1 rows x 18 columns]"
            ]
          },
          "metadata": {
            "tags": []
          },
          "execution_count": 393
        }
      ]
    },
    {
      "cell_type": "code",
      "metadata": {
        "id": "fSFpEuogew86"
      },
      "source": [
        "staff_without.drop(columns={'Fabrica', 'Tecnología', 'Pais'}, inplace=True)"
      ],
      "execution_count": 394,
      "outputs": []
    },
    {
      "cell_type": "code",
      "metadata": {
        "colab": {
          "base_uri": "https://localhost:8080/",
          "height": 198
        },
        "id": "J3ZC3VJ4eatF",
        "outputId": "30c5f9b1-5178-47c2-d25b-51dff3fef4da"
      },
      "source": [
        "staff_without = staff_without.merge(planta, left_on='Planta', right_on='ID', how='left')\n",
        "staff_without.head(2)"
      ],
      "execution_count": 395,
      "outputs": [
        {
          "output_type": "execute_result",
          "data": {
            "text/html": [
              "<div>\n",
              "<style scoped>\n",
              "    .dataframe tbody tr th:only-of-type {\n",
              "        vertical-align: middle;\n",
              "    }\n",
              "\n",
              "    .dataframe tbody tr th {\n",
              "        vertical-align: top;\n",
              "    }\n",
              "\n",
              "    .dataframe thead th {\n",
              "        text-align: right;\n",
              "    }\n",
              "</style>\n",
              "<table border=\"1\" class=\"dataframe\">\n",
              "  <thead>\n",
              "    <tr style=\"text-align: right;\">\n",
              "      <th></th>\n",
              "      <th>Codigo accidentado</th>\n",
              "      <th>Turno</th>\n",
              "      <th>Gender</th>\n",
              "      <th>Planta</th>\n",
              "      <th>Tipo accidente</th>\n",
              "      <th>Tipo trabajador</th>\n",
              "      <th>Horas Presencia Efectiva Subcontratados</th>\n",
              "      <th>Horas Presencia Efectiva ETTs</th>\n",
              "      <th>Horas Formacion Seguridad Propios</th>\n",
              "      <th>Horas Formacion Seguridad ETTs</th>\n",
              "      <th>Accident</th>\n",
              "      <th>wk_position</th>\n",
              "      <th>Age</th>\n",
              "      <th>Severity</th>\n",
              "      <th>Accident_place</th>\n",
              "      <th>ID</th>\n",
              "      <th>Fabrica</th>\n",
              "      <th>Tecnología</th>\n",
              "      <th>Pais</th>\n",
              "    </tr>\n",
              "  </thead>\n",
              "  <tbody>\n",
              "    <tr>\n",
              "      <th>0</th>\n",
              "      <td>NaN</td>\n",
              "      <td>Turno de tarde</td>\n",
              "      <td>Hombre</td>\n",
              "      <td>20</td>\n",
              "      <td>NaN</td>\n",
              "      <td>NaN</td>\n",
              "      <td>NaN</td>\n",
              "      <td>NaN</td>\n",
              "      <td>NaN</td>\n",
              "      <td>NaN</td>\n",
              "      <td>NaN</td>\n",
              "      <td>NaN</td>\n",
              "      <td>NaN</td>\n",
              "      <td>NaN</td>\n",
              "      <td>NaN</td>\n",
              "      <td>20</td>\n",
              "      <td>Burgos</td>\n",
              "      <td>Skinpass</td>\n",
              "      <td>España</td>\n",
              "    </tr>\n",
              "    <tr>\n",
              "      <th>1</th>\n",
              "      <td>NaN</td>\n",
              "      <td>Turno de mañana</td>\n",
              "      <td>Hombre</td>\n",
              "      <td>41</td>\n",
              "      <td>NaN</td>\n",
              "      <td>NaN</td>\n",
              "      <td>NaN</td>\n",
              "      <td>NaN</td>\n",
              "      <td>NaN</td>\n",
              "      <td>NaN</td>\n",
              "      <td>NaN</td>\n",
              "      <td>NaN</td>\n",
              "      <td>NaN</td>\n",
              "      <td>NaN</td>\n",
              "      <td>NaN</td>\n",
              "      <td>41</td>\n",
              "      <td>Asturias</td>\n",
              "      <td>Corte Láser</td>\n",
              "      <td>España</td>\n",
              "    </tr>\n",
              "  </tbody>\n",
              "</table>\n",
              "</div>"
            ],
            "text/plain": [
              "  Codigo accidentado            Turno  Gender  ...   Fabrica   Tecnología    Pais\n",
              "0                NaN   Turno de tarde  Hombre  ...    Burgos     Skinpass  España\n",
              "1                NaN  Turno de mañana  Hombre  ...  Asturias  Corte Láser  España\n",
              "\n",
              "[2 rows x 19 columns]"
            ]
          },
          "metadata": {
            "tags": []
          },
          "execution_count": 395
        }
      ]
    },
    {
      "cell_type": "code",
      "metadata": {
        "colab": {
          "base_uri": "https://localhost:8080/"
        },
        "id": "LtatiQe0fEDE",
        "outputId": "b60b82f6-7738-4915-c815-b525aadd24ad"
      },
      "source": [
        "len(staff_without)"
      ],
      "execution_count": 396,
      "outputs": [
        {
          "output_type": "execute_result",
          "data": {
            "text/plain": [
              "17030"
            ]
          },
          "metadata": {
            "tags": []
          },
          "execution_count": 396
        }
      ]
    },
    {
      "cell_type": "code",
      "metadata": {
        "id": "TGEK4TxjfTJ8"
      },
      "source": [
        "tipo_trabj = staff['Tipo trabajador'].unique()\n",
        "create_rndm(tipo_trabj, 'Tipo trabajador')"
      ],
      "execution_count": 397,
      "outputs": []
    },
    {
      "cell_type": "code",
      "metadata": {
        "id": "TdOr-faWftMD"
      },
      "source": [
        "staff_without.drop(columns=['Horas Presencia Efectiva Subcontratados','Horas Presencia Efectiva ETTs', 'Horas Formacion Seguridad Propios', 'Horas Formacion Seguridad ETTs' ], inplace=True)"
      ],
      "execution_count": 398,
      "outputs": []
    },
    {
      "cell_type": "code",
      "metadata": {
        "id": "QI2kNL0HfpLq"
      },
      "source": [
        "staff_without = staff_without.merge(trainning_hours, on='Fabrica', how='left')"
      ],
      "execution_count": 399,
      "outputs": []
    },
    {
      "cell_type": "code",
      "metadata": {
        "id": "7ZN2fwdQgXNf"
      },
      "source": [
        "staff_without.drop(columns={'ID'}, inplace=True)"
      ],
      "execution_count": 400,
      "outputs": []
    },
    {
      "cell_type": "code",
      "metadata": {
        "id": "bquZP8TKgcAF"
      },
      "source": [
        "staff_without['Accident'] = 'No'"
      ],
      "execution_count": 401,
      "outputs": []
    },
    {
      "cell_type": "code",
      "metadata": {
        "id": "HNyZT-0bgr1v"
      },
      "source": [
        "pos_wk = staff['wk_position'].unique()\n",
        "\n",
        "create_rndm(pos_wk, 'wk_position')"
      ],
      "execution_count": 402,
      "outputs": []
    },
    {
      "cell_type": "code",
      "metadata": {
        "id": "K5XiOFCKhGDc"
      },
      "source": [
        "rangos_edad = ['Menor 30', 'Entre 30-50', 'Mayor 50']\n",
        "weights = {'Hombre':[0.2, 0.44, 0.36], 'Mujer':[0.2,0.55,0.25]}\n",
        "\n",
        "np.random.seed(0)\n",
        "\n",
        "staff_without['Age'] = staff_without.groupby('Gender').apply(apply_randoms)\\\n",
        "       .rename('Age').reset_index().drop('level_1', 1)['Age']"
      ],
      "execution_count": 403,
      "outputs": []
    },
    {
      "cell_type": "code",
      "metadata": {
        "id": "XckpSlJ4h5Be"
      },
      "source": [
        "place = staff['Accident_place'].unique()\n",
        "\n",
        "create_rndm(place, 'Accident_place')"
      ],
      "execution_count": 404,
      "outputs": []
    },
    {
      "cell_type": "code",
      "metadata": {
        "colab": {
          "base_uri": "https://localhost:8080/",
          "height": 198
        },
        "id": "28GRajdlfQOG",
        "outputId": "9219a905-7fdf-468f-9b19-f90196ef5d82"
      },
      "source": [
        "staff_without.head(2) ##cod accidentado is the only column we are going to leave blank as these employees doestn have any accident"
      ],
      "execution_count": 405,
      "outputs": [
        {
          "output_type": "execute_result",
          "data": {
            "text/html": [
              "<div>\n",
              "<style scoped>\n",
              "    .dataframe tbody tr th:only-of-type {\n",
              "        vertical-align: middle;\n",
              "    }\n",
              "\n",
              "    .dataframe tbody tr th {\n",
              "        vertical-align: top;\n",
              "    }\n",
              "\n",
              "    .dataframe thead th {\n",
              "        text-align: right;\n",
              "    }\n",
              "</style>\n",
              "<table border=\"1\" class=\"dataframe\">\n",
              "  <thead>\n",
              "    <tr style=\"text-align: right;\">\n",
              "      <th></th>\n",
              "      <th>Codigo accidentado</th>\n",
              "      <th>Turno</th>\n",
              "      <th>Gender</th>\n",
              "      <th>Planta</th>\n",
              "      <th>Tipo accidente</th>\n",
              "      <th>Tipo trabajador</th>\n",
              "      <th>Accident</th>\n",
              "      <th>wk_position</th>\n",
              "      <th>Age</th>\n",
              "      <th>Severity</th>\n",
              "      <th>Accident_place</th>\n",
              "      <th>Fabrica</th>\n",
              "      <th>Tecnología</th>\n",
              "      <th>Pais</th>\n",
              "      <th>Horas Presencia Efectiva Subcontratados</th>\n",
              "      <th>Horas Presencia Efectiva ETTs</th>\n",
              "      <th>Horas Formacion Seguridad Propios</th>\n",
              "      <th>Horas Formacion Seguridad ETTs</th>\n",
              "    </tr>\n",
              "  </thead>\n",
              "  <tbody>\n",
              "    <tr>\n",
              "      <th>0</th>\n",
              "      <td>NaN</td>\n",
              "      <td>Turno de tarde</td>\n",
              "      <td>Hombre</td>\n",
              "      <td>20</td>\n",
              "      <td>NaN</td>\n",
              "      <td>Subcontratado</td>\n",
              "      <td>No</td>\n",
              "      <td>galvanized</td>\n",
              "      <td>Entre 30-50</td>\n",
              "      <td>NaN</td>\n",
              "      <td>Mantenimiento</td>\n",
              "      <td>Burgos</td>\n",
              "      <td>Skinpass</td>\n",
              "      <td>España</td>\n",
              "      <td>25249.0</td>\n",
              "      <td>42485.0</td>\n",
              "      <td>1419.0</td>\n",
              "      <td>829.0</td>\n",
              "    </tr>\n",
              "    <tr>\n",
              "      <th>1</th>\n",
              "      <td>NaN</td>\n",
              "      <td>Turno de mañana</td>\n",
              "      <td>Hombre</td>\n",
              "      <td>41</td>\n",
              "      <td>NaN</td>\n",
              "      <td>Prácticas</td>\n",
              "      <td>No</td>\n",
              "      <td>OPERARIOS DE CARGA</td>\n",
              "      <td>Mayor 50</td>\n",
              "      <td>NaN</td>\n",
              "      <td>Mantenimiento</td>\n",
              "      <td>Asturias</td>\n",
              "      <td>Corte Láser</td>\n",
              "      <td>España</td>\n",
              "      <td>NaN</td>\n",
              "      <td>NaN</td>\n",
              "      <td>NaN</td>\n",
              "      <td>NaN</td>\n",
              "    </tr>\n",
              "  </tbody>\n",
              "</table>\n",
              "</div>"
            ],
            "text/plain": [
              "  Codigo accidentado  ... Horas Formacion Seguridad ETTs\n",
              "0                NaN  ...                          829.0\n",
              "1                NaN  ...                            NaN\n",
              "\n",
              "[2 rows x 18 columns]"
            ]
          },
          "metadata": {
            "tags": []
          },
          "execution_count": 405
        }
      ]
    },
    {
      "cell_type": "markdown",
      "metadata": {
        "id": "cGvHis4sjMCz"
      },
      "source": [
        "Now we are going to concat both dataframes on a resulting dataframe with length of 21.210"
      ]
    },
    {
      "cell_type": "code",
      "metadata": {
        "colab": {
          "base_uri": "https://localhost:8080/"
        },
        "id": "K32u2TrXg8O6",
        "outputId": "1bd3f132-06c1-4ac4-9da4-6ccd3921ee33"
      },
      "source": [
        "staff = pd.concat([staff, staff_without])\n",
        "len(staff)"
      ],
      "execution_count": 406,
      "outputs": [
        {
          "output_type": "execute_result",
          "data": {
            "text/plain": [
              "21210"
            ]
          },
          "metadata": {
            "tags": []
          },
          "execution_count": 406
        }
      ]
    },
    {
      "cell_type": "code",
      "metadata": {
        "colab": {
          "base_uri": "https://localhost:8080/"
        },
        "id": "524rnVKLFEl9",
        "outputId": "8f0b6be0-776b-4656-9a70-a3b8ec90dfed"
      },
      "source": [
        "staff.iloc[0]"
      ],
      "execution_count": 407,
      "outputs": [
        {
          "output_type": "execute_result",
          "data": {
            "text/plain": [
              "Codigo accidentado                                        HS-CLMB_2546\n",
              "Turno                                                  Turno de mañana\n",
              "Gender                                                          Hombre\n",
              "Planta                                                              20\n",
              "Tipo accidente                                           Accidente c/b\n",
              "Tipo trabajador                                                    ETT\n",
              "Fabrica                                                         Burgos\n",
              "Tecnología                                                    Skinpass\n",
              "Pais                                                            España\n",
              "Horas Presencia Efectiva Subcontratados                          25249\n",
              "Horas Presencia Efectiva ETTs                                    42485\n",
              "Horas Formacion Seguridad Propios                                 1419\n",
              "Horas Formacion Seguridad ETTs                                     829\n",
              "Accident                                                           Yes\n",
              "wk_position                                Gruista LONGI004 y LONGI008\n",
              "Age                                                        Entre 30-50\n",
              "Severity                                                          Leve\n",
              "Accident_place                                           Mantenimiento\n",
              "Name: 0, dtype: object"
            ]
          },
          "metadata": {
            "tags": []
          },
          "execution_count": 407
        }
      ]
    },
    {
      "cell_type": "code",
      "metadata": {
        "colab": {
          "base_uri": "https://localhost:8080/",
          "height": 17
        },
        "id": "eRSaepnedK6x",
        "outputId": "206b0f13-25b5-4495-f363-0ab12692bf16"
      },
      "source": [
        "from google.colab import files\n",
        "\n",
        "staff.to_csv('Total_staff_by_employee.csv', sep=';')\n",
        "files.download(\"Total_staff_by_employee.csv\")"
      ],
      "execution_count": 408,
      "outputs": [
        {
          "output_type": "display_data",
          "data": {
            "application/javascript": [
              "\n",
              "    async function download(id, filename, size) {\n",
              "      if (!google.colab.kernel.accessAllowed) {\n",
              "        return;\n",
              "      }\n",
              "      const div = document.createElement('div');\n",
              "      const label = document.createElement('label');\n",
              "      label.textContent = `Downloading \"${filename}\": `;\n",
              "      div.appendChild(label);\n",
              "      const progress = document.createElement('progress');\n",
              "      progress.max = size;\n",
              "      div.appendChild(progress);\n",
              "      document.body.appendChild(div);\n",
              "\n",
              "      const buffers = [];\n",
              "      let downloaded = 0;\n",
              "\n",
              "      const channel = await google.colab.kernel.comms.open(id);\n",
              "      // Send a message to notify the kernel that we're ready.\n",
              "      channel.send({})\n",
              "\n",
              "      for await (const message of channel.messages) {\n",
              "        // Send a message to notify the kernel that we're ready.\n",
              "        channel.send({})\n",
              "        if (message.buffers) {\n",
              "          for (const buffer of message.buffers) {\n",
              "            buffers.push(buffer);\n",
              "            downloaded += buffer.byteLength;\n",
              "            progress.value = downloaded;\n",
              "          }\n",
              "        }\n",
              "      }\n",
              "      const blob = new Blob(buffers, {type: 'application/binary'});\n",
              "      const a = document.createElement('a');\n",
              "      a.href = window.URL.createObjectURL(blob);\n",
              "      a.download = filename;\n",
              "      div.appendChild(a);\n",
              "      a.click();\n",
              "      div.remove();\n",
              "    }\n",
              "  "
            ],
            "text/plain": [
              "<IPython.core.display.Javascript object>"
            ]
          },
          "metadata": {
            "tags": []
          }
        },
        {
          "output_type": "display_data",
          "data": {
            "application/javascript": [
              "download(\"download_1146e059-9840-4f8e-9e50-60cc716037f4\", \"Total_staff_by_employee.csv\", 3204452)"
            ],
            "text/plain": [
              "<IPython.core.display.Javascript object>"
            ]
          },
          "metadata": {
            "tags": []
          }
        }
      ]
    }
  ]
}