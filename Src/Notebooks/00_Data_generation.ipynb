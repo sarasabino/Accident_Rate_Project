{
  "nbformat": 4,
  "nbformat_minor": 0,
  "metadata": {
    "colab": {
      "name": "00_Data_generation.ipynb",
      "provenance": [],
      "mount_file_id": "18MOCeNlI0OqA7MkkYVcWzKC5s8ijnAd4",
      "authorship_tag": "ABX9TyNoq2cdweCWWc2orJpIHcNm",
      "include_colab_link": true
    },
    "kernelspec": {
      "name": "python3",
      "display_name": "Python 3"
    },
    "language_info": {
      "name": "python"
    }
  },
  "cells": [
    {
      "cell_type": "markdown",
      "metadata": {
        "id": "view-in-github",
        "colab_type": "text"
      },
      "source": [
        "<a href=\"https://colab.research.google.com/github/sarasabino/Accident_Rate_Project/blob/main/Src/Notebooks/00_Data_generation.ipynb\" target=\"_parent\"><img src=\"https://colab.research.google.com/assets/colab-badge.svg\" alt=\"Open In Colab\"/></a>"
      ]
    },
    {
      "cell_type": "markdown",
      "metadata": {
        "id": "tfPS3xuQU1MA"
      },
      "source": [
        "## Data Generation\n",
        "\n",
        "Although we have the data from the accidents occurred at the company we need to have the data from the staff with its characteristics to be able to develop a machine learning algorithm. \n",
        "\n",
        "The idea is to generate fake data to be able to perform the algorithm and then when data is real we can apply it.\n",
        "\n",
        "For that purpose we are going to generate a csv file with the staff of the company. \n",
        "\n",
        "We are going to assume this is the static company's staff."
      ]
    },
    {
      "cell_type": "code",
      "metadata": {
        "id": "KGd4qTHoUv2G"
      },
      "source": [
        "! cp /content/drive/MyDrive/'Colab Notebooks'/'TFM Accidentabilidad'/Data/HS_Accidentabilidad.csv .\n",
        "! cp /content/drive/MyDrive/'Colab Notebooks'/'TFM Accidentabilidad'/Data/'G_Plantas y Tech'.csv .\n",
        "! cp /content/drive/MyDrive/'Colab Notebooks'/'TFM Accidentabilidad'/Data/Datos_plantilla_fabrica.csv .\n",
        "\n",
        "\n"
      ],
      "execution_count": 228,
      "outputs": []
    },
    {
      "cell_type": "markdown",
      "metadata": {
        "id": "tHkkk17yXuQa"
      },
      "source": [
        "We are going to upload the accidents data we have"
      ]
    },
    {
      "cell_type": "code",
      "metadata": {
        "id": "KfBhfVGnXiG2"
      },
      "source": [
        "import pandas as pd\n",
        "\n",
        "accidentes = pd.read_csv('HS_Accidentabilidad.csv', sep=';')\n",
        "\n",
        "accidentes = accidentes[(accidentes['Año']== 2018) | (accidentes['Año']==2019) | (accidentes['Año']==2020) ]"
      ],
      "execution_count": 229,
      "outputs": []
    },
    {
      "cell_type": "code",
      "metadata": {
        "colab": {
          "base_uri": "https://localhost:8080/"
        },
        "id": "3Ale6fXJjE8f",
        "outputId": "6b6f09cc-96bd-4411-e246-d69eaf7855f0"
      },
      "source": [
        "len(accidentes)"
      ],
      "execution_count": 230,
      "outputs": [
        {
          "output_type": "execute_result",
          "data": {
            "text/plain": [
              "4180"
            ]
          },
          "metadata": {
            "tags": []
          },
          "execution_count": 230
        }
      ]
    },
    {
      "cell_type": "code",
      "metadata": {
        "colab": {
          "base_uri": "https://localhost:8080/"
        },
        "id": "2DlQRjYaX5G7",
        "outputId": "5502e744-82e7-48a4-bda6-2c9a4d57bc4e"
      },
      "source": [
        "accidentes['Gravedad potencial']"
      ],
      "execution_count": 231,
      "outputs": [
        {
          "output_type": "execute_result",
          "data": {
            "text/plain": [
              "2057    Muy grave\n",
              "2062         Leve\n",
              "2063         Leve\n",
              "2064         Leve\n",
              "2065         Leve\n",
              "          ...    \n",
              "7200          NaN\n",
              "7430          NaN\n",
              "7436          NaN\n",
              "7580          NaN\n",
              "7581          NaN\n",
              "Name: Gravedad potencial, Length: 4180, dtype: object"
            ]
          },
          "metadata": {
            "tags": []
          },
          "execution_count": 231
        }
      ]
    },
    {
      "cell_type": "code",
      "metadata": {
        "colab": {
          "base_uri": "https://localhost:8080/",
          "height": 296
        },
        "id": "GyMVvB9rX7C9",
        "outputId": "280ea663-c69d-4422-db64-1f0197a385f1"
      },
      "source": [
        "staff = accidentes[['Codigo accidentado', 'Puesto habitual de trabajo','Turno','Edad','Género','Planta', 'Tipo accidente', 'Tipo trabajador', 'Gravedad potencial', 'Lugar o seccion accidente']]\n",
        "staff.head()"
      ],
      "execution_count": 232,
      "outputs": [
        {
          "output_type": "execute_result",
          "data": {
            "text/html": [
              "<div>\n",
              "<style scoped>\n",
              "    .dataframe tbody tr th:only-of-type {\n",
              "        vertical-align: middle;\n",
              "    }\n",
              "\n",
              "    .dataframe tbody tr th {\n",
              "        vertical-align: top;\n",
              "    }\n",
              "\n",
              "    .dataframe thead th {\n",
              "        text-align: right;\n",
              "    }\n",
              "</style>\n",
              "<table border=\"1\" class=\"dataframe\">\n",
              "  <thead>\n",
              "    <tr style=\"text-align: right;\">\n",
              "      <th></th>\n",
              "      <th>Codigo accidentado</th>\n",
              "      <th>Puesto habitual de trabajo</th>\n",
              "      <th>Turno</th>\n",
              "      <th>Edad</th>\n",
              "      <th>Género</th>\n",
              "      <th>Planta</th>\n",
              "      <th>Tipo accidente</th>\n",
              "      <th>Tipo trabajador</th>\n",
              "      <th>Gravedad potencial</th>\n",
              "      <th>Lugar o seccion accidente</th>\n",
              "    </tr>\n",
              "  </thead>\n",
              "  <tbody>\n",
              "    <tr>\n",
              "      <th>2057</th>\n",
              "      <td>HS-CLMB_2546</td>\n",
              "      <td>Operario de Puente Grúa</td>\n",
              "      <td>Turno de mañana</td>\n",
              "      <td>31</td>\n",
              "      <td>Hombre</td>\n",
              "      <td>20</td>\n",
              "      <td>Accidente c/b</td>\n",
              "      <td>ETT</td>\n",
              "      <td>Muy grave</td>\n",
              "      <td>Células Soldadura</td>\n",
              "    </tr>\n",
              "    <tr>\n",
              "      <th>2062</th>\n",
              "      <td>HS-CEPA_2563</td>\n",
              "      <td>Engraving</td>\n",
              "      <td>Turno de mañana</td>\n",
              "      <td>35</td>\n",
              "      <td>Hombre</td>\n",
              "      <td>19</td>\n",
              "      <td>Accidente c/b</td>\n",
              "      <td>Indefinido</td>\n",
              "      <td>Leve</td>\n",
              "      <td>Tubos</td>\n",
              "    </tr>\n",
              "    <tr>\n",
              "      <th>2063</th>\n",
              "      <td>HS-GNVT_2564</td>\n",
              "      <td>Titular L-8</td>\n",
              "      <td>Turno de tarde</td>\n",
              "      <td>54</td>\n",
              "      <td>Hombre</td>\n",
              "      <td>12</td>\n",
              "      <td>Accidente s/b</td>\n",
              "      <td>Duración Determinada</td>\n",
              "      <td>Leve</td>\n",
              "      <td>Tubos</td>\n",
              "    </tr>\n",
              "    <tr>\n",
              "      <th>2064</th>\n",
              "      <td>HS-GNVT_2565</td>\n",
              "      <td>Carretillero</td>\n",
              "      <td>Turno de mañana</td>\n",
              "      <td>NaN</td>\n",
              "      <td>Hombre</td>\n",
              "      <td>12</td>\n",
              "      <td>Incidente</td>\n",
              "      <td>ETT</td>\n",
              "      <td>Leve</td>\n",
              "      <td>Almacén de Producto Terminado</td>\n",
              "    </tr>\n",
              "    <tr>\n",
              "      <th>2065</th>\n",
              "      <td>HS-DNGG_2566</td>\n",
              "      <td>NaN</td>\n",
              "      <td>Turno de mañana</td>\n",
              "      <td>NaN</td>\n",
              "      <td>NaN</td>\n",
              "      <td>41</td>\n",
              "      <td>Incidente</td>\n",
              "      <td>Incidente (no aplica)</td>\n",
              "      <td>Leve</td>\n",
              "      <td>Blanking</td>\n",
              "    </tr>\n",
              "  </tbody>\n",
              "</table>\n",
              "</div>"
            ],
            "text/plain": [
              "     Codigo accidentado  ...      Lugar o seccion accidente\n",
              "2057       HS-CLMB_2546  ...              Células Soldadura\n",
              "2062       HS-CEPA_2563  ...                          Tubos\n",
              "2063       HS-GNVT_2564  ...                          Tubos\n",
              "2064       HS-GNVT_2565  ...  Almacén de Producto Terminado\n",
              "2065       HS-DNGG_2566  ...                       Blanking\n",
              "\n",
              "[5 rows x 10 columns]"
            ]
          },
          "metadata": {
            "tags": []
          },
          "execution_count": 232
        }
      ]
    },
    {
      "cell_type": "code",
      "metadata": {
        "colab": {
          "base_uri": "https://localhost:8080/",
          "height": 195
        },
        "id": "pKf83P3gZKU-",
        "outputId": "45dbaba2-0506-426d-e3af-04c234e4225a"
      },
      "source": [
        "planta = pd.read_csv('G_Plantas y Tech.csv', sep=';')\n",
        "planta.drop(columns={'Activo'}, inplace=True)\n",
        "planta.head()"
      ],
      "execution_count": 233,
      "outputs": [
        {
          "output_type": "execute_result",
          "data": {
            "text/html": [
              "<div>\n",
              "<style scoped>\n",
              "    .dataframe tbody tr th:only-of-type {\n",
              "        vertical-align: middle;\n",
              "    }\n",
              "\n",
              "    .dataframe tbody tr th {\n",
              "        vertical-align: top;\n",
              "    }\n",
              "\n",
              "    .dataframe thead th {\n",
              "        text-align: right;\n",
              "    }\n",
              "</style>\n",
              "<table border=\"1\" class=\"dataframe\">\n",
              "  <thead>\n",
              "    <tr style=\"text-align: right;\">\n",
              "      <th></th>\n",
              "      <th>ID</th>\n",
              "      <th>Fabrica</th>\n",
              "      <th>Tecnología</th>\n",
              "      <th>Pais</th>\n",
              "    </tr>\n",
              "  </thead>\n",
              "  <tbody>\n",
              "    <tr>\n",
              "      <th>0</th>\n",
              "      <td>1</td>\n",
              "      <td>Argentina</td>\n",
              "      <td>Blanking</td>\n",
              "      <td>Argentina</td>\n",
              "    </tr>\n",
              "    <tr>\n",
              "      <th>1</th>\n",
              "      <td>2</td>\n",
              "      <td>Argentina</td>\n",
              "      <td>Corte Longitudinal</td>\n",
              "      <td>Argentina</td>\n",
              "    </tr>\n",
              "    <tr>\n",
              "      <th>2</th>\n",
              "      <td>3</td>\n",
              "      <td>Argentina</td>\n",
              "      <td>Corte Transversal</td>\n",
              "      <td>Argentina</td>\n",
              "    </tr>\n",
              "    <tr>\n",
              "      <th>3</th>\n",
              "      <td>4</td>\n",
              "      <td>Arizona</td>\n",
              "      <td>Células Soldadura</td>\n",
              "      <td>EEUU</td>\n",
              "    </tr>\n",
              "    <tr>\n",
              "      <th>4</th>\n",
              "      <td>5</td>\n",
              "      <td>Arizona</td>\n",
              "      <td>Corte Láser</td>\n",
              "      <td>EEUU</td>\n",
              "    </tr>\n",
              "  </tbody>\n",
              "</table>\n",
              "</div>"
            ],
            "text/plain": [
              "   ID    Fabrica          Tecnología       Pais\n",
              "0   1  Argentina            Blanking  Argentina\n",
              "1   2  Argentina  Corte Longitudinal  Argentina\n",
              "2   3  Argentina   Corte Transversal  Argentina\n",
              "3   4    Arizona   Células Soldadura       EEUU\n",
              "4   5    Arizona         Corte Láser       EEUU"
            ]
          },
          "metadata": {
            "tags": []
          },
          "execution_count": 233
        }
      ]
    },
    {
      "cell_type": "code",
      "metadata": {
        "colab": {
          "base_uri": "https://localhost:8080/"
        },
        "id": "8iusKWB6ZiWh",
        "outputId": "1cc14fce-9b97-47f0-b304-acca129c8852"
      },
      "source": [
        "len(staff)"
      ],
      "execution_count": 234,
      "outputs": [
        {
          "output_type": "execute_result",
          "data": {
            "text/plain": [
              "4180"
            ]
          },
          "metadata": {
            "tags": []
          },
          "execution_count": 234
        }
      ]
    },
    {
      "cell_type": "code",
      "metadata": {
        "id": "ycAEG8ykZZi3"
      },
      "source": [
        "staff = staff.merge(planta, left_on='Planta', right_on='ID', how='left')\n"
      ],
      "execution_count": 235,
      "outputs": []
    },
    {
      "cell_type": "code",
      "metadata": {
        "colab": {
          "base_uri": "https://localhost:8080/",
          "height": 296
        },
        "id": "wOQez98xaDFQ",
        "outputId": "da0e18a7-c8ac-4fc1-e148-18a4af7bc9e3"
      },
      "source": [
        "staff.drop(columns={'ID'}, inplace=True)\n",
        "\n",
        "staff.head()"
      ],
      "execution_count": 236,
      "outputs": [
        {
          "output_type": "execute_result",
          "data": {
            "text/html": [
              "<div>\n",
              "<style scoped>\n",
              "    .dataframe tbody tr th:only-of-type {\n",
              "        vertical-align: middle;\n",
              "    }\n",
              "\n",
              "    .dataframe tbody tr th {\n",
              "        vertical-align: top;\n",
              "    }\n",
              "\n",
              "    .dataframe thead th {\n",
              "        text-align: right;\n",
              "    }\n",
              "</style>\n",
              "<table border=\"1\" class=\"dataframe\">\n",
              "  <thead>\n",
              "    <tr style=\"text-align: right;\">\n",
              "      <th></th>\n",
              "      <th>Codigo accidentado</th>\n",
              "      <th>Puesto habitual de trabajo</th>\n",
              "      <th>Turno</th>\n",
              "      <th>Edad</th>\n",
              "      <th>Género</th>\n",
              "      <th>Planta</th>\n",
              "      <th>Tipo accidente</th>\n",
              "      <th>Tipo trabajador</th>\n",
              "      <th>Gravedad potencial</th>\n",
              "      <th>Lugar o seccion accidente</th>\n",
              "      <th>Fabrica</th>\n",
              "      <th>Tecnología</th>\n",
              "      <th>Pais</th>\n",
              "    </tr>\n",
              "  </thead>\n",
              "  <tbody>\n",
              "    <tr>\n",
              "      <th>0</th>\n",
              "      <td>HS-CLMB_2546</td>\n",
              "      <td>Operario de Puente Grúa</td>\n",
              "      <td>Turno de mañana</td>\n",
              "      <td>31</td>\n",
              "      <td>Hombre</td>\n",
              "      <td>20</td>\n",
              "      <td>Accidente c/b</td>\n",
              "      <td>ETT</td>\n",
              "      <td>Muy grave</td>\n",
              "      <td>Células Soldadura</td>\n",
              "      <td>Burgos</td>\n",
              "      <td>Skinpass</td>\n",
              "      <td>España</td>\n",
              "    </tr>\n",
              "    <tr>\n",
              "      <th>1</th>\n",
              "      <td>HS-CEPA_2563</td>\n",
              "      <td>Engraving</td>\n",
              "      <td>Turno de mañana</td>\n",
              "      <td>35</td>\n",
              "      <td>Hombre</td>\n",
              "      <td>19</td>\n",
              "      <td>Accidente c/b</td>\n",
              "      <td>Indefinido</td>\n",
              "      <td>Leve</td>\n",
              "      <td>Tubos</td>\n",
              "      <td>Burgos</td>\n",
              "      <td>Recocido</td>\n",
              "      <td>España</td>\n",
              "    </tr>\n",
              "    <tr>\n",
              "      <th>2</th>\n",
              "      <td>HS-GNVT_2564</td>\n",
              "      <td>Titular L-8</td>\n",
              "      <td>Turno de tarde</td>\n",
              "      <td>54</td>\n",
              "      <td>Hombre</td>\n",
              "      <td>12</td>\n",
              "      <td>Accidente s/b</td>\n",
              "      <td>Duración Determinada</td>\n",
              "      <td>Leve</td>\n",
              "      <td>Tubos</td>\n",
              "      <td>Barcelona</td>\n",
              "      <td>Skinpass</td>\n",
              "      <td>España</td>\n",
              "    </tr>\n",
              "    <tr>\n",
              "      <th>3</th>\n",
              "      <td>HS-GNVT_2565</td>\n",
              "      <td>Carretillero</td>\n",
              "      <td>Turno de mañana</td>\n",
              "      <td>NaN</td>\n",
              "      <td>Hombre</td>\n",
              "      <td>12</td>\n",
              "      <td>Incidente</td>\n",
              "      <td>ETT</td>\n",
              "      <td>Leve</td>\n",
              "      <td>Almacén de Producto Terminado</td>\n",
              "      <td>Barcelona</td>\n",
              "      <td>Skinpass</td>\n",
              "      <td>España</td>\n",
              "    </tr>\n",
              "    <tr>\n",
              "      <th>4</th>\n",
              "      <td>HS-DNGG_2566</td>\n",
              "      <td>NaN</td>\n",
              "      <td>Turno de mañana</td>\n",
              "      <td>NaN</td>\n",
              "      <td>NaN</td>\n",
              "      <td>41</td>\n",
              "      <td>Incidente</td>\n",
              "      <td>Incidente (no aplica)</td>\n",
              "      <td>Leve</td>\n",
              "      <td>Blanking</td>\n",
              "      <td>Hiasa</td>\n",
              "      <td>Corte Láser</td>\n",
              "      <td>España</td>\n",
              "    </tr>\n",
              "  </tbody>\n",
              "</table>\n",
              "</div>"
            ],
            "text/plain": [
              "  Codigo accidentado Puesto habitual de trabajo  ...   Tecnología    Pais\n",
              "0       HS-CLMB_2546    Operario de Puente Grúa  ...     Skinpass  España\n",
              "1       HS-CEPA_2563                  Engraving  ...     Recocido  España\n",
              "2       HS-GNVT_2564                Titular L-8  ...     Skinpass  España\n",
              "3       HS-GNVT_2565               Carretillero  ...     Skinpass  España\n",
              "4       HS-DNGG_2566                        NaN  ...  Corte Láser  España\n",
              "\n",
              "[5 rows x 13 columns]"
            ]
          },
          "metadata": {
            "tags": []
          },
          "execution_count": 236
        }
      ]
    },
    {
      "cell_type": "code",
      "metadata": {
        "colab": {
          "base_uri": "https://localhost:8080/"
        },
        "id": "C63jEalecZG9",
        "outputId": "8caea102-6c76-47d6-d330-f01b606de99c"
      },
      "source": [
        "len(staff)"
      ],
      "execution_count": 237,
      "outputs": [
        {
          "output_type": "execute_result",
          "data": {
            "text/plain": [
              "4180"
            ]
          },
          "metadata": {
            "tags": []
          },
          "execution_count": 237
        }
      ]
    },
    {
      "cell_type": "markdown",
      "metadata": {
        "id": "t3mDNDyVap0l"
      },
      "source": [
        "Now we are going to upload some staff data to get the number of trainning hours per plant and have a reference of the quantity of empleados we want to generate. This data is aggregated so it is not valid for our analysis"
      ]
    },
    {
      "cell_type": "code",
      "metadata": {
        "colab": {
          "base_uri": "https://localhost:8080/"
        },
        "id": "VBXW__tUapZn",
        "outputId": "a6fa7571-bbc4-45cc-cf97-dff12294d5f3"
      },
      "source": [
        "rrhh_plant = pd.read_csv('Datos_plantilla_fabrica.csv', sep=';')\n",
        "\n",
        "rrhh_plant['Año'].unique()"
      ],
      "execution_count": 238,
      "outputs": [
        {
          "output_type": "execute_result",
          "data": {
            "text/plain": [
              "array([2017., 2016., 2018., 2019.,   nan, 2020., 2021.])"
            ]
          },
          "metadata": {
            "tags": []
          },
          "execution_count": 238
        }
      ]
    },
    {
      "cell_type": "code",
      "metadata": {
        "id": "AYIu-lEjbJF5"
      },
      "source": [
        "# we are getting only 2020 for our analysis\n",
        "\n",
        "rrhh_plant = rrhh_plant[rrhh_plant['Año']==2020]\n"
      ],
      "execution_count": 239,
      "outputs": []
    },
    {
      "cell_type": "code",
      "metadata": {
        "colab": {
          "base_uri": "https://localhost:8080/",
          "height": 266
        },
        "id": "Tdw6rjhXbUPh",
        "outputId": "79f3edb8-dd16-436f-f4f8-a17bd69c9388"
      },
      "source": [
        "rrhh_plant.head()"
      ],
      "execution_count": 240,
      "outputs": [
        {
          "output_type": "execute_result",
          "data": {
            "text/html": [
              "<div>\n",
              "<style scoped>\n",
              "    .dataframe tbody tr th:only-of-type {\n",
              "        vertical-align: middle;\n",
              "    }\n",
              "\n",
              "    .dataframe tbody tr th {\n",
              "        vertical-align: top;\n",
              "    }\n",
              "\n",
              "    .dataframe thead th {\n",
              "        text-align: right;\n",
              "    }\n",
              "</style>\n",
              "<table border=\"1\" class=\"dataframe\">\n",
              "  <thead>\n",
              "    <tr style=\"text-align: right;\">\n",
              "      <th></th>\n",
              "      <th>ID</th>\n",
              "      <th>Planta</th>\n",
              "      <th>Año</th>\n",
              "      <th>Mes</th>\n",
              "      <th>Empleados Propios</th>\n",
              "      <th>Empleados Ajenos</th>\n",
              "      <th>Empleados ETTS</th>\n",
              "      <th>Empleados Subcontrata</th>\n",
              "      <th>Horas Presencia Efectiva Propios</th>\n",
              "      <th>Horas Presencia Efectiva Subcontratados</th>\n",
              "      <th>Horas Presencia Efectiva ETTs</th>\n",
              "      <th>Horas Formacion Seguridad Propios</th>\n",
              "      <th>Horas Formacion Seguridad ETTs</th>\n",
              "      <th>Horas Formacion General Propios</th>\n",
              "      <th>Empleados Propios - indefinido</th>\n",
              "      <th>Empleados Propios - duración determinada</th>\n",
              "    </tr>\n",
              "  </thead>\n",
              "  <tbody>\n",
              "    <tr>\n",
              "      <th>2615</th>\n",
              "      <td>3819</td>\n",
              "      <td>Barcelona</td>\n",
              "      <td>2020.0</td>\n",
              "      <td>ENE</td>\n",
              "      <td>203.0</td>\n",
              "      <td>28.0</td>\n",
              "      <td>8.0</td>\n",
              "      <td>20.0</td>\n",
              "      <td>29770.30</td>\n",
              "      <td>3138.0</td>\n",
              "      <td>1307.5</td>\n",
              "      <td>15.0</td>\n",
              "      <td>23.0</td>\n",
              "      <td>211.0</td>\n",
              "      <td>189.0</td>\n",
              "      <td>14.0</td>\n",
              "    </tr>\n",
              "    <tr>\n",
              "      <th>2616</th>\n",
              "      <td>3820</td>\n",
              "      <td>Burgos</td>\n",
              "      <td>2020.0</td>\n",
              "      <td>ENE</td>\n",
              "      <td>239.0</td>\n",
              "      <td>68.0</td>\n",
              "      <td>28.0</td>\n",
              "      <td>40.0</td>\n",
              "      <td>32625.00</td>\n",
              "      <td>6487.0</td>\n",
              "      <td>4549.3</td>\n",
              "      <td>445.0</td>\n",
              "      <td>348.5</td>\n",
              "      <td>757.0</td>\n",
              "      <td>188.0</td>\n",
              "      <td>38.0</td>\n",
              "    </tr>\n",
              "    <tr>\n",
              "      <th>2617</th>\n",
              "      <td>3821</td>\n",
              "      <td>Tarragona</td>\n",
              "      <td>2020.0</td>\n",
              "      <td>ENE</td>\n",
              "      <td>49.0</td>\n",
              "      <td>17.0</td>\n",
              "      <td>5.0</td>\n",
              "      <td>12.0</td>\n",
              "      <td>8352.50</td>\n",
              "      <td>2080.0</td>\n",
              "      <td>862.0</td>\n",
              "      <td>8.0</td>\n",
              "      <td>12.0</td>\n",
              "      <td>111.0</td>\n",
              "      <td>46.0</td>\n",
              "      <td>3.0</td>\n",
              "    </tr>\n",
              "    <tr>\n",
              "      <th>2618</th>\n",
              "      <td>3822</td>\n",
              "      <td>Valencia</td>\n",
              "      <td>2020.0</td>\n",
              "      <td>ENE</td>\n",
              "      <td>153.0</td>\n",
              "      <td>28.0</td>\n",
              "      <td>24.0</td>\n",
              "      <td>3.0</td>\n",
              "      <td>22105.20</td>\n",
              "      <td>647.0</td>\n",
              "      <td>3968.3</td>\n",
              "      <td>8.0</td>\n",
              "      <td>6.0</td>\n",
              "      <td>35.5</td>\n",
              "      <td>139.0</td>\n",
              "      <td>2.0</td>\n",
              "    </tr>\n",
              "    <tr>\n",
              "      <th>2619</th>\n",
              "      <td>3823</td>\n",
              "      <td>Portugal</td>\n",
              "      <td>2020.0</td>\n",
              "      <td>ENE</td>\n",
              "      <td>99.0</td>\n",
              "      <td>12.0</td>\n",
              "      <td>10.0</td>\n",
              "      <td>2.0</td>\n",
              "      <td>16625.75</td>\n",
              "      <td>384.0</td>\n",
              "      <td>1866.5</td>\n",
              "      <td>80.0</td>\n",
              "      <td>32.5</td>\n",
              "      <td>514.0</td>\n",
              "      <td>72.0</td>\n",
              "      <td>28.0</td>\n",
              "    </tr>\n",
              "  </tbody>\n",
              "</table>\n",
              "</div>"
            ],
            "text/plain": [
              "        ID  ... Empleados Propios - duración determinada\n",
              "2615  3819  ...                                     14.0\n",
              "2616  3820  ...                                     38.0\n",
              "2617  3821  ...                                      3.0\n",
              "2618  3822  ...                                      2.0\n",
              "2619  3823  ...                                     28.0\n",
              "\n",
              "[5 rows x 16 columns]"
            ]
          },
          "metadata": {
            "tags": []
          },
          "execution_count": 240
        }
      ]
    },
    {
      "cell_type": "code",
      "metadata": {
        "id": "TUC8nVIObaIi"
      },
      "source": [
        "trainning_hours = rrhh_plant[['Planta','Horas Presencia Efectiva Subcontratados', 'Horas Presencia Efectiva ETTs', 'Horas Formacion Seguridad Propios', 'Horas Formacion Seguridad ETTs']]"
      ],
      "execution_count": 241,
      "outputs": []
    },
    {
      "cell_type": "code",
      "metadata": {
        "colab": {
          "base_uri": "https://localhost:8080/",
          "height": 161
        },
        "id": "CKCTghNybt4M",
        "outputId": "260b79e0-b061-42f2-ec7c-d0c594254587"
      },
      "source": [
        "trainning_hours.rename(columns={'Planta':'Fabrica'}, inplace=True)\n",
        "trainning_hours.head(1)"
      ],
      "execution_count": 242,
      "outputs": [
        {
          "output_type": "stream",
          "text": [
            "/usr/local/lib/python3.7/dist-packages/pandas/core/frame.py:4308: SettingWithCopyWarning: \n",
            "A value is trying to be set on a copy of a slice from a DataFrame\n",
            "\n",
            "See the caveats in the documentation: https://pandas.pydata.org/pandas-docs/stable/user_guide/indexing.html#returning-a-view-versus-a-copy\n",
            "  errors=errors,\n"
          ],
          "name": "stderr"
        },
        {
          "output_type": "execute_result",
          "data": {
            "text/html": [
              "<div>\n",
              "<style scoped>\n",
              "    .dataframe tbody tr th:only-of-type {\n",
              "        vertical-align: middle;\n",
              "    }\n",
              "\n",
              "    .dataframe tbody tr th {\n",
              "        vertical-align: top;\n",
              "    }\n",
              "\n",
              "    .dataframe thead th {\n",
              "        text-align: right;\n",
              "    }\n",
              "</style>\n",
              "<table border=\"1\" class=\"dataframe\">\n",
              "  <thead>\n",
              "    <tr style=\"text-align: right;\">\n",
              "      <th></th>\n",
              "      <th>Fabrica</th>\n",
              "      <th>Horas Presencia Efectiva Subcontratados</th>\n",
              "      <th>Horas Presencia Efectiva ETTs</th>\n",
              "      <th>Horas Formacion Seguridad Propios</th>\n",
              "      <th>Horas Formacion Seguridad ETTs</th>\n",
              "    </tr>\n",
              "  </thead>\n",
              "  <tbody>\n",
              "    <tr>\n",
              "      <th>2615</th>\n",
              "      <td>Barcelona</td>\n",
              "      <td>3138.0</td>\n",
              "      <td>1307.5</td>\n",
              "      <td>15.0</td>\n",
              "      <td>23.0</td>\n",
              "    </tr>\n",
              "  </tbody>\n",
              "</table>\n",
              "</div>"
            ],
            "text/plain": [
              "        Fabrica  ...  Horas Formacion Seguridad ETTs\n",
              "2615  Barcelona  ...                            23.0\n",
              "\n",
              "[1 rows x 5 columns]"
            ]
          },
          "metadata": {
            "tags": []
          },
          "execution_count": 242
        }
      ]
    },
    {
      "cell_type": "code",
      "metadata": {
        "id": "-Bn5ixLVcgjz"
      },
      "source": [
        "trainning_hours = trainning_hours.groupby('Fabrica').agg('sum').reset_index()"
      ],
      "execution_count": 243,
      "outputs": []
    },
    {
      "cell_type": "code",
      "metadata": {
        "colab": {
          "base_uri": "https://localhost:8080/",
          "height": 434
        },
        "id": "ouad-9t0bwi6",
        "outputId": "214cceab-6858-4f78-8772-1e0ace0cf14e"
      },
      "source": [
        "staff = staff.merge(trainning_hours, on='Fabrica', how='left')\n",
        "staff.head()"
      ],
      "execution_count": 244,
      "outputs": [
        {
          "output_type": "execute_result",
          "data": {
            "text/html": [
              "<div>\n",
              "<style scoped>\n",
              "    .dataframe tbody tr th:only-of-type {\n",
              "        vertical-align: middle;\n",
              "    }\n",
              "\n",
              "    .dataframe tbody tr th {\n",
              "        vertical-align: top;\n",
              "    }\n",
              "\n",
              "    .dataframe thead th {\n",
              "        text-align: right;\n",
              "    }\n",
              "</style>\n",
              "<table border=\"1\" class=\"dataframe\">\n",
              "  <thead>\n",
              "    <tr style=\"text-align: right;\">\n",
              "      <th></th>\n",
              "      <th>Codigo accidentado</th>\n",
              "      <th>Puesto habitual de trabajo</th>\n",
              "      <th>Turno</th>\n",
              "      <th>Edad</th>\n",
              "      <th>Género</th>\n",
              "      <th>Planta</th>\n",
              "      <th>Tipo accidente</th>\n",
              "      <th>Tipo trabajador</th>\n",
              "      <th>Gravedad potencial</th>\n",
              "      <th>Lugar o seccion accidente</th>\n",
              "      <th>Fabrica</th>\n",
              "      <th>Tecnología</th>\n",
              "      <th>Pais</th>\n",
              "      <th>Horas Presencia Efectiva Subcontratados</th>\n",
              "      <th>Horas Presencia Efectiva ETTs</th>\n",
              "      <th>Horas Formacion Seguridad Propios</th>\n",
              "      <th>Horas Formacion Seguridad ETTs</th>\n",
              "    </tr>\n",
              "  </thead>\n",
              "  <tbody>\n",
              "    <tr>\n",
              "      <th>0</th>\n",
              "      <td>HS-CLMB_2546</td>\n",
              "      <td>Operario de Puente Grúa</td>\n",
              "      <td>Turno de mañana</td>\n",
              "      <td>31</td>\n",
              "      <td>Hombre</td>\n",
              "      <td>20</td>\n",
              "      <td>Accidente c/b</td>\n",
              "      <td>ETT</td>\n",
              "      <td>Muy grave</td>\n",
              "      <td>Células Soldadura</td>\n",
              "      <td>Burgos</td>\n",
              "      <td>Skinpass</td>\n",
              "      <td>España</td>\n",
              "      <td>25249.0</td>\n",
              "      <td>42484.0</td>\n",
              "      <td>1419.3</td>\n",
              "      <td>830.1</td>\n",
              "    </tr>\n",
              "    <tr>\n",
              "      <th>1</th>\n",
              "      <td>HS-CEPA_2563</td>\n",
              "      <td>Engraving</td>\n",
              "      <td>Turno de mañana</td>\n",
              "      <td>35</td>\n",
              "      <td>Hombre</td>\n",
              "      <td>19</td>\n",
              "      <td>Accidente c/b</td>\n",
              "      <td>Indefinido</td>\n",
              "      <td>Leve</td>\n",
              "      <td>Tubos</td>\n",
              "      <td>Burgos</td>\n",
              "      <td>Recocido</td>\n",
              "      <td>España</td>\n",
              "      <td>25249.0</td>\n",
              "      <td>42484.0</td>\n",
              "      <td>1419.3</td>\n",
              "      <td>830.1</td>\n",
              "    </tr>\n",
              "    <tr>\n",
              "      <th>2</th>\n",
              "      <td>HS-GNVT_2564</td>\n",
              "      <td>Titular L-8</td>\n",
              "      <td>Turno de tarde</td>\n",
              "      <td>54</td>\n",
              "      <td>Hombre</td>\n",
              "      <td>12</td>\n",
              "      <td>Accidente s/b</td>\n",
              "      <td>Duración Determinada</td>\n",
              "      <td>Leve</td>\n",
              "      <td>Tubos</td>\n",
              "      <td>Barcelona</td>\n",
              "      <td>Skinpass</td>\n",
              "      <td>España</td>\n",
              "      <td>25684.5</td>\n",
              "      <td>18302.3</td>\n",
              "      <td>1150.6</td>\n",
              "      <td>151.5</td>\n",
              "    </tr>\n",
              "    <tr>\n",
              "      <th>3</th>\n",
              "      <td>HS-GNVT_2565</td>\n",
              "      <td>Carretillero</td>\n",
              "      <td>Turno de mañana</td>\n",
              "      <td>NaN</td>\n",
              "      <td>Hombre</td>\n",
              "      <td>12</td>\n",
              "      <td>Incidente</td>\n",
              "      <td>ETT</td>\n",
              "      <td>Leve</td>\n",
              "      <td>Almacén de Producto Terminado</td>\n",
              "      <td>Barcelona</td>\n",
              "      <td>Skinpass</td>\n",
              "      <td>España</td>\n",
              "      <td>25684.5</td>\n",
              "      <td>18302.3</td>\n",
              "      <td>1150.6</td>\n",
              "      <td>151.5</td>\n",
              "    </tr>\n",
              "    <tr>\n",
              "      <th>4</th>\n",
              "      <td>HS-DNGG_2566</td>\n",
              "      <td>NaN</td>\n",
              "      <td>Turno de mañana</td>\n",
              "      <td>NaN</td>\n",
              "      <td>NaN</td>\n",
              "      <td>41</td>\n",
              "      <td>Incidente</td>\n",
              "      <td>Incidente (no aplica)</td>\n",
              "      <td>Leve</td>\n",
              "      <td>Blanking</td>\n",
              "      <td>Hiasa</td>\n",
              "      <td>Corte Láser</td>\n",
              "      <td>España</td>\n",
              "      <td>0.0</td>\n",
              "      <td>167848.0</td>\n",
              "      <td>1300.5</td>\n",
              "      <td>101.5</td>\n",
              "    </tr>\n",
              "  </tbody>\n",
              "</table>\n",
              "</div>"
            ],
            "text/plain": [
              "  Codigo accidentado  ... Horas Formacion Seguridad ETTs\n",
              "0       HS-CLMB_2546  ...                          830.1\n",
              "1       HS-CEPA_2563  ...                          830.1\n",
              "2       HS-GNVT_2564  ...                          151.5\n",
              "3       HS-GNVT_2565  ...                          151.5\n",
              "4       HS-DNGG_2566  ...                          101.5\n",
              "\n",
              "[5 rows x 17 columns]"
            ]
          },
          "metadata": {
            "tags": []
          },
          "execution_count": 244
        }
      ]
    },
    {
      "cell_type": "markdown",
      "metadata": {
        "id": "Y4Xmhhnpcs1x"
      },
      "source": [
        "Now we are going to calculate the proportion in 2020 between people and accidents occur"
      ]
    },
    {
      "cell_type": "code",
      "metadata": {
        "colab": {
          "base_uri": "https://localhost:8080/",
          "height": 225
        },
        "id": "bwOOUyA_cygZ",
        "outputId": "4bd5de54-f723-4cd0-a86d-aba65d46a7d8"
      },
      "source": [
        "employees = pd.read_csv('Datos_plantilla_fabrica.csv', sep=';')\n",
        "employees = employees[['Año', 'Empleados Propios', 'Empleados Ajenos', 'Empleados ETTS',  'Empleados Subcontrata']]\n",
        "employees = employees.fillna(0)\n",
        "employees = employees.groupby(['Año']).agg('sum')\n",
        "employees.head()"
      ],
      "execution_count": 245,
      "outputs": [
        {
          "output_type": "execute_result",
          "data": {
            "text/html": [
              "<div>\n",
              "<style scoped>\n",
              "    .dataframe tbody tr th:only-of-type {\n",
              "        vertical-align: middle;\n",
              "    }\n",
              "\n",
              "    .dataframe tbody tr th {\n",
              "        vertical-align: top;\n",
              "    }\n",
              "\n",
              "    .dataframe thead th {\n",
              "        text-align: right;\n",
              "    }\n",
              "</style>\n",
              "<table border=\"1\" class=\"dataframe\">\n",
              "  <thead>\n",
              "    <tr style=\"text-align: right;\">\n",
              "      <th></th>\n",
              "      <th>Empleados Propios</th>\n",
              "      <th>Empleados Ajenos</th>\n",
              "      <th>Empleados ETTS</th>\n",
              "      <th>Empleados Subcontrata</th>\n",
              "    </tr>\n",
              "    <tr>\n",
              "      <th>Año</th>\n",
              "      <th></th>\n",
              "      <th></th>\n",
              "      <th></th>\n",
              "      <th></th>\n",
              "    </tr>\n",
              "  </thead>\n",
              "  <tbody>\n",
              "    <tr>\n",
              "      <th>0.0</th>\n",
              "      <td>15754.0</td>\n",
              "      <td>3277.0</td>\n",
              "      <td>2490.0</td>\n",
              "      <td>786.0</td>\n",
              "    </tr>\n",
              "    <tr>\n",
              "      <th>2016.0</th>\n",
              "      <td>40609.0</td>\n",
              "      <td>9160.0</td>\n",
              "      <td>0.0</td>\n",
              "      <td>0.0</td>\n",
              "    </tr>\n",
              "    <tr>\n",
              "      <th>2017.0</th>\n",
              "      <td>43291.0</td>\n",
              "      <td>9794.0</td>\n",
              "      <td>0.0</td>\n",
              "      <td>0.0</td>\n",
              "    </tr>\n",
              "    <tr>\n",
              "      <th>2018.0</th>\n",
              "      <td>49865.0</td>\n",
              "      <td>10973.0</td>\n",
              "      <td>7964.0</td>\n",
              "      <td>2993.0</td>\n",
              "    </tr>\n",
              "    <tr>\n",
              "      <th>2019.0</th>\n",
              "      <td>50625.0</td>\n",
              "      <td>10527.0</td>\n",
              "      <td>7823.0</td>\n",
              "      <td>2697.0</td>\n",
              "    </tr>\n",
              "  </tbody>\n",
              "</table>\n",
              "</div>"
            ],
            "text/plain": [
              "        Empleados Propios  ...  Empleados Subcontrata\n",
              "Año                        ...                       \n",
              "0.0               15754.0  ...                  786.0\n",
              "2016.0            40609.0  ...                    0.0\n",
              "2017.0            43291.0  ...                    0.0\n",
              "2018.0            49865.0  ...                 2993.0\n",
              "2019.0            50625.0  ...                 2697.0\n",
              "\n",
              "[5 rows x 4 columns]"
            ]
          },
          "metadata": {
            "tags": []
          },
          "execution_count": 245
        }
      ]
    },
    {
      "cell_type": "code",
      "metadata": {
        "colab": {
          "base_uri": "https://localhost:8080/",
          "height": 195
        },
        "id": "p8S8gP4cdj19",
        "outputId": "d6faa7d0-17a0-4067-9dce-d95c25981d2c"
      },
      "source": [
        "accidentes = pd.read_csv('HS_Accidentabilidad.csv', sep=';')\n",
        "accidentes = accidentes[['Año', 'Codigo accidentado']]\n",
        "accidentes = accidentes.groupby('Año').agg('count').reset_index()\n",
        "accidentes.rename(columns={'Codigo accidentado':'Accidentes'}, inplace=True)\n",
        "accidentes.head()"
      ],
      "execution_count": 246,
      "outputs": [
        {
          "output_type": "execute_result",
          "data": {
            "text/html": [
              "<div>\n",
              "<style scoped>\n",
              "    .dataframe tbody tr th:only-of-type {\n",
              "        vertical-align: middle;\n",
              "    }\n",
              "\n",
              "    .dataframe tbody tr th {\n",
              "        vertical-align: top;\n",
              "    }\n",
              "\n",
              "    .dataframe thead th {\n",
              "        text-align: right;\n",
              "    }\n",
              "</style>\n",
              "<table border=\"1\" class=\"dataframe\">\n",
              "  <thead>\n",
              "    <tr style=\"text-align: right;\">\n",
              "      <th></th>\n",
              "      <th>Año</th>\n",
              "      <th>Accidentes</th>\n",
              "    </tr>\n",
              "  </thead>\n",
              "  <tbody>\n",
              "    <tr>\n",
              "      <th>0</th>\n",
              "      <td>2015.0</td>\n",
              "      <td>202</td>\n",
              "    </tr>\n",
              "    <tr>\n",
              "      <th>1</th>\n",
              "      <td>2016.0</td>\n",
              "      <td>1335</td>\n",
              "    </tr>\n",
              "    <tr>\n",
              "      <th>2</th>\n",
              "      <td>2017.0</td>\n",
              "      <td>1203</td>\n",
              "    </tr>\n",
              "    <tr>\n",
              "      <th>3</th>\n",
              "      <td>2018.0</td>\n",
              "      <td>1532</td>\n",
              "    </tr>\n",
              "    <tr>\n",
              "      <th>4</th>\n",
              "      <td>2019.0</td>\n",
              "      <td>1526</td>\n",
              "    </tr>\n",
              "  </tbody>\n",
              "</table>\n",
              "</div>"
            ],
            "text/plain": [
              "      Año  Accidentes\n",
              "0  2015.0         202\n",
              "1  2016.0        1335\n",
              "2  2017.0        1203\n",
              "3  2018.0        1532\n",
              "4  2019.0        1526"
            ]
          },
          "metadata": {
            "tags": []
          },
          "execution_count": 246
        }
      ]
    },
    {
      "cell_type": "code",
      "metadata": {
        "colab": {
          "base_uri": "https://localhost:8080/",
          "height": 195
        },
        "id": "A9r6y_xwdxjn",
        "outputId": "628f20c9-4f93-4278-c13c-93588572ee36"
      },
      "source": [
        "employees = employees.merge(accidentes, on='Año', how='inner')\n",
        "employees.head()"
      ],
      "execution_count": 247,
      "outputs": [
        {
          "output_type": "execute_result",
          "data": {
            "text/html": [
              "<div>\n",
              "<style scoped>\n",
              "    .dataframe tbody tr th:only-of-type {\n",
              "        vertical-align: middle;\n",
              "    }\n",
              "\n",
              "    .dataframe tbody tr th {\n",
              "        vertical-align: top;\n",
              "    }\n",
              "\n",
              "    .dataframe thead th {\n",
              "        text-align: right;\n",
              "    }\n",
              "</style>\n",
              "<table border=\"1\" class=\"dataframe\">\n",
              "  <thead>\n",
              "    <tr style=\"text-align: right;\">\n",
              "      <th></th>\n",
              "      <th>Año</th>\n",
              "      <th>Empleados Propios</th>\n",
              "      <th>Empleados Ajenos</th>\n",
              "      <th>Empleados ETTS</th>\n",
              "      <th>Empleados Subcontrata</th>\n",
              "      <th>Accidentes</th>\n",
              "    </tr>\n",
              "  </thead>\n",
              "  <tbody>\n",
              "    <tr>\n",
              "      <th>0</th>\n",
              "      <td>2016.0</td>\n",
              "      <td>40609.0</td>\n",
              "      <td>9160.0</td>\n",
              "      <td>0.0</td>\n",
              "      <td>0.0</td>\n",
              "      <td>1335</td>\n",
              "    </tr>\n",
              "    <tr>\n",
              "      <th>1</th>\n",
              "      <td>2017.0</td>\n",
              "      <td>43291.0</td>\n",
              "      <td>9794.0</td>\n",
              "      <td>0.0</td>\n",
              "      <td>0.0</td>\n",
              "      <td>1203</td>\n",
              "    </tr>\n",
              "    <tr>\n",
              "      <th>2</th>\n",
              "      <td>2018.0</td>\n",
              "      <td>49865.0</td>\n",
              "      <td>10973.0</td>\n",
              "      <td>7964.0</td>\n",
              "      <td>2993.0</td>\n",
              "      <td>1532</td>\n",
              "    </tr>\n",
              "    <tr>\n",
              "      <th>3</th>\n",
              "      <td>2019.0</td>\n",
              "      <td>50625.0</td>\n",
              "      <td>10527.0</td>\n",
              "      <td>7823.0</td>\n",
              "      <td>2697.0</td>\n",
              "      <td>1526</td>\n",
              "    </tr>\n",
              "    <tr>\n",
              "      <th>4</th>\n",
              "      <td>2020.0</td>\n",
              "      <td>65644.0</td>\n",
              "      <td>7114.0</td>\n",
              "      <td>5773.0</td>\n",
              "      <td>1335.0</td>\n",
              "      <td>1122</td>\n",
              "    </tr>\n",
              "  </tbody>\n",
              "</table>\n",
              "</div>"
            ],
            "text/plain": [
              "      Año  Empleados Propios  ...  Empleados Subcontrata  Accidentes\n",
              "0  2016.0            40609.0  ...                    0.0        1335\n",
              "1  2017.0            43291.0  ...                    0.0        1203\n",
              "2  2018.0            49865.0  ...                 2993.0        1532\n",
              "3  2019.0            50625.0  ...                 2697.0        1526\n",
              "4  2020.0            65644.0  ...                 1335.0        1122\n",
              "\n",
              "[5 rows x 6 columns]"
            ]
          },
          "metadata": {
            "tags": []
          },
          "execution_count": 247
        }
      ]
    },
    {
      "cell_type": "code",
      "metadata": {
        "colab": {
          "base_uri": "https://localhost:8080/"
        },
        "id": "hyiYEWhCeT1G",
        "outputId": "62ae57a7-266d-41a2-ed25-b8e368a45179"
      },
      "source": [
        "employees.dtypes"
      ],
      "execution_count": 248,
      "outputs": [
        {
          "output_type": "execute_result",
          "data": {
            "text/plain": [
              "Año                      float64\n",
              "Empleados Propios        float64\n",
              "Empleados Ajenos         float64\n",
              "Empleados ETTS           float64\n",
              "Empleados Subcontrata    float64\n",
              "Accidentes                 int64\n",
              "dtype: object"
            ]
          },
          "metadata": {
            "tags": []
          },
          "execution_count": 248
        }
      ]
    },
    {
      "cell_type": "code",
      "metadata": {
        "id": "f_m4PyTsebt8"
      },
      "source": [
        "employees['Total_emp'] = employees['Empleados Propios'] + employees['Empleados Ajenos'] + employees['Empleados ETTS'] + employees['Empleados Subcontrata']"
      ],
      "execution_count": 249,
      "outputs": []
    },
    {
      "cell_type": "code",
      "metadata": {
        "colab": {
          "base_uri": "https://localhost:8080/",
          "height": 195
        },
        "id": "mRNPhfJjetv3",
        "outputId": "e4e156e9-82ea-4bf8-b89d-ce447812b945"
      },
      "source": [
        "employees = employees[['Año', 'Accidentes', 'Total_emp']]\n",
        "\n",
        "employees['perc_acc'] = employees['Accidentes'] / employees['Total_emp'] * 100\n",
        "employees.head()"
      ],
      "execution_count": 250,
      "outputs": [
        {
          "output_type": "execute_result",
          "data": {
            "text/html": [
              "<div>\n",
              "<style scoped>\n",
              "    .dataframe tbody tr th:only-of-type {\n",
              "        vertical-align: middle;\n",
              "    }\n",
              "\n",
              "    .dataframe tbody tr th {\n",
              "        vertical-align: top;\n",
              "    }\n",
              "\n",
              "    .dataframe thead th {\n",
              "        text-align: right;\n",
              "    }\n",
              "</style>\n",
              "<table border=\"1\" class=\"dataframe\">\n",
              "  <thead>\n",
              "    <tr style=\"text-align: right;\">\n",
              "      <th></th>\n",
              "      <th>Año</th>\n",
              "      <th>Accidentes</th>\n",
              "      <th>Total_emp</th>\n",
              "      <th>perc_acc</th>\n",
              "    </tr>\n",
              "  </thead>\n",
              "  <tbody>\n",
              "    <tr>\n",
              "      <th>0</th>\n",
              "      <td>2016.0</td>\n",
              "      <td>1335</td>\n",
              "      <td>49769.0</td>\n",
              "      <td>2.682393</td>\n",
              "    </tr>\n",
              "    <tr>\n",
              "      <th>1</th>\n",
              "      <td>2017.0</td>\n",
              "      <td>1203</td>\n",
              "      <td>53085.0</td>\n",
              "      <td>2.266177</td>\n",
              "    </tr>\n",
              "    <tr>\n",
              "      <th>2</th>\n",
              "      <td>2018.0</td>\n",
              "      <td>1532</td>\n",
              "      <td>71795.0</td>\n",
              "      <td>2.133853</td>\n",
              "    </tr>\n",
              "    <tr>\n",
              "      <th>3</th>\n",
              "      <td>2019.0</td>\n",
              "      <td>1526</td>\n",
              "      <td>71672.0</td>\n",
              "      <td>2.129144</td>\n",
              "    </tr>\n",
              "    <tr>\n",
              "      <th>4</th>\n",
              "      <td>2020.0</td>\n",
              "      <td>1122</td>\n",
              "      <td>79866.0</td>\n",
              "      <td>1.404853</td>\n",
              "    </tr>\n",
              "  </tbody>\n",
              "</table>\n",
              "</div>"
            ],
            "text/plain": [
              "      Año  Accidentes  Total_emp  perc_acc\n",
              "0  2016.0        1335    49769.0  2.682393\n",
              "1  2017.0        1203    53085.0  2.266177\n",
              "2  2018.0        1532    71795.0  2.133853\n",
              "3  2019.0        1526    71672.0  2.129144\n",
              "4  2020.0        1122    79866.0  1.404853"
            ]
          },
          "metadata": {
            "tags": []
          },
          "execution_count": 250
        }
      ]
    },
    {
      "cell_type": "markdown",
      "metadata": {
        "id": "GAQCk2Ozfla8"
      },
      "source": [
        "For our analysis we are going to suppose we have a year staff, with all people. \n",
        "We would have 79900 people with around 7000 people who have suffered an accident on the past years."
      ]
    },
    {
      "cell_type": "code",
      "metadata": {
        "colab": {
          "base_uri": "https://localhost:8080/"
        },
        "id": "EViQKE4PgK6n",
        "outputId": "2f8011f7-1037-43a7-eaaa-2f3054e0b7d0"
      },
      "source": [
        "len(staff)"
      ],
      "execution_count": 251,
      "outputs": [
        {
          "output_type": "execute_result",
          "data": {
            "text/plain": [
              "4180"
            ]
          },
          "metadata": {
            "tags": []
          },
          "execution_count": 251
        }
      ]
    },
    {
      "cell_type": "code",
      "metadata": {
        "colab": {
          "base_uri": "https://localhost:8080/",
          "height": 434
        },
        "id": "Uu_tlzE2gFl2",
        "outputId": "6f1a4c09-2474-453c-e1b3-aa18cebd45c8"
      },
      "source": [
        "#we add a new column to indetify those people who have suffered an accident in our dataset\n",
        "staff['Accident'] = 'Yes'\n",
        "staff.head()"
      ],
      "execution_count": 252,
      "outputs": [
        {
          "output_type": "execute_result",
          "data": {
            "text/html": [
              "<div>\n",
              "<style scoped>\n",
              "    .dataframe tbody tr th:only-of-type {\n",
              "        vertical-align: middle;\n",
              "    }\n",
              "\n",
              "    .dataframe tbody tr th {\n",
              "        vertical-align: top;\n",
              "    }\n",
              "\n",
              "    .dataframe thead th {\n",
              "        text-align: right;\n",
              "    }\n",
              "</style>\n",
              "<table border=\"1\" class=\"dataframe\">\n",
              "  <thead>\n",
              "    <tr style=\"text-align: right;\">\n",
              "      <th></th>\n",
              "      <th>Codigo accidentado</th>\n",
              "      <th>Puesto habitual de trabajo</th>\n",
              "      <th>Turno</th>\n",
              "      <th>Edad</th>\n",
              "      <th>Género</th>\n",
              "      <th>Planta</th>\n",
              "      <th>Tipo accidente</th>\n",
              "      <th>Tipo trabajador</th>\n",
              "      <th>Gravedad potencial</th>\n",
              "      <th>Lugar o seccion accidente</th>\n",
              "      <th>Fabrica</th>\n",
              "      <th>Tecnología</th>\n",
              "      <th>Pais</th>\n",
              "      <th>Horas Presencia Efectiva Subcontratados</th>\n",
              "      <th>Horas Presencia Efectiva ETTs</th>\n",
              "      <th>Horas Formacion Seguridad Propios</th>\n",
              "      <th>Horas Formacion Seguridad ETTs</th>\n",
              "      <th>Accident</th>\n",
              "    </tr>\n",
              "  </thead>\n",
              "  <tbody>\n",
              "    <tr>\n",
              "      <th>0</th>\n",
              "      <td>HS-CLMB_2546</td>\n",
              "      <td>Operario de Puente Grúa</td>\n",
              "      <td>Turno de mañana</td>\n",
              "      <td>31</td>\n",
              "      <td>Hombre</td>\n",
              "      <td>20</td>\n",
              "      <td>Accidente c/b</td>\n",
              "      <td>ETT</td>\n",
              "      <td>Muy grave</td>\n",
              "      <td>Células Soldadura</td>\n",
              "      <td>Burgos</td>\n",
              "      <td>Skinpass</td>\n",
              "      <td>España</td>\n",
              "      <td>25249.0</td>\n",
              "      <td>42484.0</td>\n",
              "      <td>1419.3</td>\n",
              "      <td>830.1</td>\n",
              "      <td>Yes</td>\n",
              "    </tr>\n",
              "    <tr>\n",
              "      <th>1</th>\n",
              "      <td>HS-CEPA_2563</td>\n",
              "      <td>Engraving</td>\n",
              "      <td>Turno de mañana</td>\n",
              "      <td>35</td>\n",
              "      <td>Hombre</td>\n",
              "      <td>19</td>\n",
              "      <td>Accidente c/b</td>\n",
              "      <td>Indefinido</td>\n",
              "      <td>Leve</td>\n",
              "      <td>Tubos</td>\n",
              "      <td>Burgos</td>\n",
              "      <td>Recocido</td>\n",
              "      <td>España</td>\n",
              "      <td>25249.0</td>\n",
              "      <td>42484.0</td>\n",
              "      <td>1419.3</td>\n",
              "      <td>830.1</td>\n",
              "      <td>Yes</td>\n",
              "    </tr>\n",
              "    <tr>\n",
              "      <th>2</th>\n",
              "      <td>HS-GNVT_2564</td>\n",
              "      <td>Titular L-8</td>\n",
              "      <td>Turno de tarde</td>\n",
              "      <td>54</td>\n",
              "      <td>Hombre</td>\n",
              "      <td>12</td>\n",
              "      <td>Accidente s/b</td>\n",
              "      <td>Duración Determinada</td>\n",
              "      <td>Leve</td>\n",
              "      <td>Tubos</td>\n",
              "      <td>Barcelona</td>\n",
              "      <td>Skinpass</td>\n",
              "      <td>España</td>\n",
              "      <td>25684.5</td>\n",
              "      <td>18302.3</td>\n",
              "      <td>1150.6</td>\n",
              "      <td>151.5</td>\n",
              "      <td>Yes</td>\n",
              "    </tr>\n",
              "    <tr>\n",
              "      <th>3</th>\n",
              "      <td>HS-GNVT_2565</td>\n",
              "      <td>Carretillero</td>\n",
              "      <td>Turno de mañana</td>\n",
              "      <td>NaN</td>\n",
              "      <td>Hombre</td>\n",
              "      <td>12</td>\n",
              "      <td>Incidente</td>\n",
              "      <td>ETT</td>\n",
              "      <td>Leve</td>\n",
              "      <td>Almacén de Producto Terminado</td>\n",
              "      <td>Barcelona</td>\n",
              "      <td>Skinpass</td>\n",
              "      <td>España</td>\n",
              "      <td>25684.5</td>\n",
              "      <td>18302.3</td>\n",
              "      <td>1150.6</td>\n",
              "      <td>151.5</td>\n",
              "      <td>Yes</td>\n",
              "    </tr>\n",
              "    <tr>\n",
              "      <th>4</th>\n",
              "      <td>HS-DNGG_2566</td>\n",
              "      <td>NaN</td>\n",
              "      <td>Turno de mañana</td>\n",
              "      <td>NaN</td>\n",
              "      <td>NaN</td>\n",
              "      <td>41</td>\n",
              "      <td>Incidente</td>\n",
              "      <td>Incidente (no aplica)</td>\n",
              "      <td>Leve</td>\n",
              "      <td>Blanking</td>\n",
              "      <td>Hiasa</td>\n",
              "      <td>Corte Láser</td>\n",
              "      <td>España</td>\n",
              "      <td>0.0</td>\n",
              "      <td>167848.0</td>\n",
              "      <td>1300.5</td>\n",
              "      <td>101.5</td>\n",
              "      <td>Yes</td>\n",
              "    </tr>\n",
              "  </tbody>\n",
              "</table>\n",
              "</div>"
            ],
            "text/plain": [
              "  Codigo accidentado  ... Accident\n",
              "0       HS-CLMB_2546  ...      Yes\n",
              "1       HS-CEPA_2563  ...      Yes\n",
              "2       HS-GNVT_2564  ...      Yes\n",
              "3       HS-GNVT_2565  ...      Yes\n",
              "4       HS-DNGG_2566  ...      Yes\n",
              "\n",
              "[5 rows x 18 columns]"
            ]
          },
          "metadata": {
            "tags": []
          },
          "execution_count": 252
        }
      ]
    },
    {
      "cell_type": "code",
      "metadata": {
        "colab": {
          "base_uri": "https://localhost:8080/"
        },
        "id": "BOluCL_zgY2w",
        "outputId": "4cd1db0f-622b-4386-f73e-abe89d3a84ba"
      },
      "source": [
        "#plant data we dont have any null values\n",
        "staff['Planta'].unique()"
      ],
      "execution_count": 253,
      "outputs": [
        {
          "output_type": "execute_result",
          "data": {
            "text/plain": [
              "array([20, 19, 12, 41,  7,  1, 13, 28,  2,  5, 26, 16, 25, 15, 36, 35, 33,\n",
              "       53, 54,  4, 14, 34, 27, 29, 32, 57,  6, 56, 30, 55, 46, 43, 45, 18,\n",
              "       44, 63, 47, 84])"
            ]
          },
          "metadata": {
            "tags": []
          },
          "execution_count": 253
        }
      ]
    },
    {
      "cell_type": "code",
      "metadata": {
        "colab": {
          "base_uri": "https://localhost:8080/"
        },
        "id": "RsPbnhW0ggWN",
        "outputId": "4489c154-4bb5-4009-f306-3d9c2eae9de8"
      },
      "source": [
        "##work position\n",
        "\n",
        "positions = staff['Puesto habitual de trabajo'].unique()\n",
        "len(positions)"
      ],
      "execution_count": 254,
      "outputs": [
        {
          "output_type": "execute_result",
          "data": {
            "text/plain": [
              "794"
            ]
          },
          "metadata": {
            "tags": []
          },
          "execution_count": 254
        }
      ]
    },
    {
      "cell_type": "code",
      "metadata": {
        "id": "InbOHf9-kMJV"
      },
      "source": [
        "import random\n",
        "import numpy as np \n",
        "\n",
        "staff['wk_position'] = np.random.choice(positions, size=len(staff))"
      ],
      "execution_count": 255,
      "outputs": []
    },
    {
      "cell_type": "code",
      "metadata": {
        "colab": {
          "base_uri": "https://localhost:8080/"
        },
        "id": "w9j1MGl6hwHz",
        "outputId": "88eb8f46-1b25-4d71-d803-d4724fe90e02"
      },
      "source": [
        "staff['wk_position'].unique()"
      ],
      "execution_count": 256,
      "outputs": [
        {
          "output_type": "execute_result",
          "data": {
            "text/plain": [
              "array(['operative Logistikfachkraft', 'Saumschrott durchtrennen',\n",
              "       'Bediener Biele-Wender, Halle 8', 'Gruista/soldador',\n",
              "       'Línea de Prensa - Cargador de Bobina', 'OPERARIO DE MÁQUINA',\n",
              "       'Bestücker LSL 2', 'OPERARIO LONGI 05', 'Auxiliar/Montador',\n",
              "       'Operario de montacarga', 'LINEA DE PRENSA', 'press op ',\n",
              "       'Operador puente grúa', 'carretilla', 'Proceso Galva',\n",
              "       'Mantenimiento', 'Operario de linea', 'tooling work',\n",
              "       'UTILLERO GALVANIZADO', 'Montador/auxiliar',\n",
              "       'Operador Paletizadora', 'PRENSA002', 'Empaquetador perfiladoras',\n",
              "       '包装packaging', 'Carreteillero', 'AYUDANTE PRENSA002',\n",
              "       'Maquinista tubos', 'Jigging', 'Zona de Picos de Nave 3',\n",
              "       'Entrada Decapado', 'Gruista Nave 2 - 3',\n",
              "       'Press operator Ln 3  2nd shift',\n",
              "       'Ayudante de perfiladora de Dimeco', 'GRUISTA PTA07 PTA08',\n",
              "       'Titular LONGI001', 'Kranfahrer', 'Instandhalter',\n",
              "       'Cargador descargador', 'Auxiliar/montador LONGI002',\n",
              "       'Maquinista Sierras Corte Tubos', 'Gruista ácido', 'Werkzeugbau',\n",
              "       'Forklift Driver', 'Maschinenführer LONGI002', 'Operador auxiliar',\n",
              "       'Handling / packaking', 'LkW-Fahrer',\n",
              "       'Operario entrada linea decapado', 'soldador maquinista',\n",
              "       'Maschinenführer 1 Presse 7', 'Equipo de preparación de montajes',\n",
              "       'TRANS002', 'LONGI 6', 'Cizal - Guilhotina',\n",
              "       'Maschinenführer Presse 4/6', 'Maschinenführer 2 Pressen',\n",
              "       'maquinista longi009', 'Líder de Logistica y Planeación',\n",
              "       'Titular Circulares', 'assembler of circular knives', 'MATRICERO',\n",
              "       'Transportista externo(Telemix)', 'Manutenção',\n",
              "       'GRUISTA DE CALDERA Y OPERARIOS DE LIMPIEZA', 'NÃO SE APLICA',\n",
              "       'Wergzeugmacher', 'Staplerfahrer Halle 3', 'Carretillero',\n",
              "       'Slitting Operator ', 'Control Calidad', 'Nacharbeiter', 'plasma',\n",
              "       'Driver for Adam Jones', 'Supervisor Produktion',\n",
              "       'Proceso decapado', 'MAQUINISTA Y AYUDANTE TRANSVERSAL 4',\n",
              "       'Maquinista LC4', 'LIDER LONGI002', 'operator',\n",
              "       'MONTADOR LONGI008', 'none', 'Titular TRANS003',\n",
              "       'Maquinista longitudinales', 'Handling the equipment', 'proceso',\n",
              "       'Director de produccción', 'Gruista carga nave 6A',\n",
              "       'Alimentador Tubos 601', 'EMBALADORA 1',\n",
              "       'Maschinenführer 2 Presse 3', 'DESCARGAS', 'Punzonadora',\n",
              "       'CARPINTERO TRANS002', 'Bobinero', 'Camionero', 'Gruista',\n",
              "       'MF2 Anlernen', 'Maquinista Perfiladoras', 'Corte plasma',\n",
              "       'Expedição - enlonamento', 'Chofer camión', 'Gruista tubos',\n",
              "       'SI. Carretillero', 'store-keeper', 'Perfiles abiertos',\n",
              "       'Slitting line Operator', 'Operario de Linea', 'Montador',\n",
              "       'OPERARIO DE LINEA', 'Gruista nave 6b zona negro',\n",
              "       'Operador de Recolha de Resíduos', 'Lkw Fahrer Firma Schielke',\n",
              "       'Maintenance', 'Embalador 1', 'Maquinista LONGI009',\n",
              "       'Operador de montacargas asistido en la carga de camiones',\n",
              "       'Operario de maquina l', 'Flejador/ ayudante TRANS007',\n",
              "       'embaladora nave 2', 'Embalador 1 (en capacitación)', 'Auxiliar',\n",
              "       'alimentador p5', 'manager', 'BOBINERO', 'safety guard',\n",
              "       'GRUISTA TRANS002', 'Ayudante de circular', 'Soldador y gruista',\n",
              "       'Titular Línea Corte Transversal', 'Oxygen welding', 'Verpacker',\n",
              "       'No hay personas implicadas', 'Auxiliar/Montador Longi 7',\n",
              "       'Operario corte', 'Auxiliar Trans 4', 'CARRETILLERO', 'Kranführer',\n",
              "       'VARIOS - EMBALAJE DE BOBINAS', 'Titular Línea Corte Prensa II',\n",
              "       'Titular LCL', 'Lkw Fahrer', 'Operario de maquinas', 'packer',\n",
              "       'Entrada para la descarga del camión con la bobina – no se dispone de datos del conductor',\n",
              "       'Press Operator',\n",
              "       'Ninguno de los implicados desempeñaban funciones habituales en la línea donde se produjo el incidente.',\n",
              "       'CARRETILLERO PRENSAS', 'montador LONGI008', 'Slitter Operator',\n",
              "       'plegador', 'Operario de Máquina', 'metal grinding - 2A hole',\n",
              "       'OPERARIO TREN DE TROQUELADO', 'Maschinenführer 2 Presse 2',\n",
              "       'operator on catting line', 'Staplerfahrer Halle 7', 'Hornero',\n",
              "       'LONGI004', 'Operario Puente Grúa', 'Staplerfahrer',\n",
              "       'assistant of operator', 'Maintenance Manager',\n",
              "       'Operador Logistico I', 'Slitter Operators ',\n",
              "       'Sorting and packing product', 'Operador Principal (Em formação)',\n",
              "       'AUXILIAR LONGI 3', 'Gruista de caldera y operadores de limpieza',\n",
              "       'Auszubildender Mechatroniker', 'Descarga galvanizado',\n",
              "       'Gruista de salida', 'Toolmaker', 'Carpinteria',\n",
              "       'Tool & Die tech from Gestamp working onsite at Gonvauto',\n",
              "       'Alimentador P3', 'Kranfahrer Halle 1 Nord',\n",
              "       'GRUISTA DE TUBO TRACKER', 'Maquinista Sierra de corte Adige1',\n",
              "       'Embaladora 2', 'Maestro', 'Prozessoptimierer',\n",
              "       'operario de linea', 'LONGI008', 'SI. Auxiliar Evacuación MTM2',\n",
              "       'Controlador de proceso',\n",
              "       'No, su puesto habitual es entrada decapado',\n",
              "       'poligon production-black area', 'toolmaker',\n",
              "       'Montador Prensa 002', 'carretillero', 'Laboratorio de Calidad',\n",
              "       'CHATARRERO', 'MF1 LONGI', 'Soldador/gruista', 'LCP 03',\n",
              "       'AYUDANTE PRENS004', 'line operator',\n",
              "       'Operario de Entrada M1 y Gruista', 'Verpackerin',\n",
              "       'TPM loading car loop', 'packaging worker', 'Embalador Prensas',\n",
              "       'Handling material',\n",
              "       'Lkw-Fahrer von Veolia-Umweltservice (extern)',\n",
              "       'Verpacker LONGI001', 'GRUISTA LONGI009', 'extern',\n",
              "       'Responsable de Calidad, SGI, SPG', 'Operario de puente grúa',\n",
              "       'Corte térmico ', 'Operador Puente-Grúa', 'OPERARIO DE CARGA',\n",
              "       'Painting', 'empaquetador', 'Ferienarbeiter', 'TRANS 4',\n",
              "       'Colgador',\n",
              "       'Activación del descenso de la puerta después de haber entrado en la nave para preparar el vehículo para la descarga en la zona designada.',\n",
              "       'Techniker', 'Ayudante de longitudinal', 'n/a ', 'EMBAL480',\n",
              "       'Maquinista', 'maquinista / gruista', 'SI',\n",
              "       'galvanized-hanging-handling', 'Titular de Linea',\n",
              "       'Kranführer Halle 1 Süd', 'Maquinista perfiladora',\n",
              "       'responsible for the shift', 'OPERARIOS DE CARGA',\n",
              "       'línea de corte', 'CARGADOR ENTRADA', 'Gruista y Maquinista Trans',\n",
              "       'GRUISTA NAVE 5', 'EMBALADORA LC6',\n",
              "       'Operator on Evtek blanking line', 'Packaging Operator',\n",
              "       'Werkzeugmacher', 'Operador Logistico', 'Mantenimiento electrico',\n",
              "       'Operario de granallado', 'Verpacker Halle 8',\n",
              "       'Gruista/carretillero', 'Weighbridge Operator', 'MF1 Presse 2',\n",
              "       'montador y embajador en LCL', 'Maquinista líder PRENS004',\n",
              "       'Longi 2', 'Operador II',\n",
              "       'Operador Auxiliar / Montador de árvores de navalhas',\n",
              "       'Pontonero y maquinista TRANS006', 'Operator / Stacker Operator',\n",
              "       'Soldador', 'slitting Op ', 'packaking -road safety', 'OPEN COIL',\n",
              "       'Maschinenbediener Presse 5', 'Gruista de caldera',\n",
              "       'Ensamblado tubo tracker (plantilla 2)', 'Operador de Har lan',\n",
              "       'Gruista ( PARDO FREIJO) Subcontrata', 'flejador', 'welding',\n",
              "       'Team Leader', 'MAQUINISTA CORTE LONGITUDINAL',\n",
              "       'Personal de mantenimiento', 'OPERARIO',\n",
              "       'Gruista entrada decapado', 'Inspector de Calidad', 'N/A ',\n",
              "       'PROCESOS', 'Incidente sin personas implicadas',\n",
              "       'Titular Línea Corte Prensa I', 'Maquinista Trans 003',\n",
              "       'Traslado de bobinas del almacén de materia prima para su corte en la línea transversal PRENS002',\n",
              "       'Montador LONGI003', 'AUXILIAR DE LINEA',\n",
              "       'Carrying a pole via forklift', '-', 'Trasladando bobina',\n",
              "       'Sierra Behringer', 'gruista tracker',\n",
              "       'Expediciones, carga de camiones', 'caretillero',\n",
              "       'LINEAS DE CORTE LONGITUDINAL', 'Carretillera', 'Material handler',\n",
              "       'Operario puente grúa', 'Titular de Línea', 'MF2 LONGI001',\n",
              "       'material carrying-plasma', 'Maschinenbedienerin', 'CIZALLA',\n",
              "       'Gruista caldera', 'Engraving', 'Grúa de salida',\n",
              "       'EMBALADORA LONGI 6', 'MF2 LONGI002', 'Auxiliar línea 11',\n",
              "       'Gruista de evacuación de maquinas', 'Power Press Op',\n",
              "       'Carretilleros', 'Gruista y limpieza de caldera', ': Operador II',\n",
              "       'AYUDANTE LONGI004', 'Titular de longi004',\n",
              "       'sacado de los palés verdes de la zona para suministrarlos a las líneas como bases de palés alternativos, utilizados reiteradamente por Gestamp',\n",
              "       'Stacker - training as forklift driver', 'Gruista de tubos',\n",
              "       'gruista de salida', 'GRUISTA PTA008', 'Programador',\n",
              "       'Operador de Produção II', 'Flejador TRANS001',\n",
              "       'Red Bud Blanking Line', 'Auxiliar Línea Corte Longitudinal',\n",
              "       'CHOFER', 'Blanking operator', 'maquinista/gruista',\n",
              "       'Mitarbeiter Produktion',\n",
              "       'Stacker Operator - Training as blanking operator',\n",
              "       'Ayudante LONGI008', 'Cargador/descargador',\n",
              "       'Maschinenführer 1, Presse 3', 'Operador de Logística',\n",
              "       'Nacharbeit', 'Jefe Ventas Zona Sur',\n",
              "       'Camionero ( PARDO FREIJO) Gruista Gancho C (Gonvauto Galicia)',\n",
              "       'road safety', 'Si. Jefe cortadora Mair.', 'Troquelista',\n",
              "       'Kranführer Halle 0', 'Working on Press',\n",
              "       'GRUISTA DE ENTRADA EN TUBOS', 'Kranführer Halle 7',\n",
              "       'Flejador-embalador', 'ayudante longi008', 'Longi 1',\n",
              "       'Empaquetador en formación', 'Operario de mantenimiento',\n",
              "       'Auxiliar logística', 'Verpacker Halle 4', 'Kranbediener',\n",
              "       'EMBALADORA', 'Soldador 001', 'Verpacker Presse 3',\n",
              "       'Forkift driver', 'MF LSL 1', 'Caretilla',\n",
              "       'Controlador de procesos', 'maquinista de maquina laser',\n",
              "       'Staplerfahrer Halle 5', 'Kranführer Halle 2', 'Laser Trumpf',\n",
              "       'Operario de producción', 'mantenimiento mecánico',\n",
              "       'Maquinista Trans3', 'MAQUINISTA TRANS 2', 'LONGI2',\n",
              "       'Empaquetador', 'DIRECTOR COMERCIAL', 'Gruista Procesos',\n",
              "       'GRUA CALDERA', 'team leader', 'Kranführer Halle 1 Nord',\n",
              "       'Maquinista Trans003', 'Auxiliar máquina 1',\n",
              "       'Alimentador de perfiladora', 'Neutra De Galvanizado',\n",
              "       'MF2 Presse 5', 'PERSONAL DE LINEA', 'worker',\n",
              "       'Perfiladora Casset', 'LONGI002',\n",
              "       'Desmontaje de la herramienta después de la producción de la línea 1 para colocarla en el almacén de matrices – matriz núm. 26',\n",
              "       'Maquinistas Líneas de Corte', 'Operador Puente Grúa',\n",
              "       'Montador / Auxiliar LONGI003', 'APILADOR TRANS002',\n",
              "       'Maschinenführer 2 Presse 7', 'Línea Longitudinal', 'TRANS005',\n",
              "       'Embalaje del material en la línea de embalaje, cliente: Hydrapres S.A',\n",
              "       'forklift external maintance',\n",
              "       'Material  Handler / Slitting Operator', 'Hornero Aprendiz',\n",
              "       'Chófer/camionero', 'CARRETILLERO TRANS005', 'Titular L-8',\n",
              "       'Automatenbefüller', 'Maquinista Perfiladora Tubos', 'Flejador',\n",
              "       'Puente Grua Tubos', 'Operario de Puente Grúa', '占从涛',\n",
              "       'ENH CNC OPERATOR', 'Operador Principal',\n",
              "       'maquinista de robot de soldadura', 'bobinero',\n",
              "       'Gruista de tubo tracker', 'Si (empresa externa)',\n",
              "       'Tornero mecanico', 'Operador Principal LCL',\n",
              "       'Gruista nave 6b zona de carga', 'CARRETILLERO PRENS004',\n",
              "       'Gruista entrada', 'Slitter Op', 'Ayudante longitudinal',\n",
              "       'Salida Galvanizado', 'Maschinenführer 1', 'maquinista lc',\n",
              "       'Staplerfahrer Halle 2', 'maquinista tubos', 'forklift driver',\n",
              "       'Maschinenführer 2 Presse 5', 'Gruísta', 'Staplerfahrerin',\n",
              "       'Operador principal', 'Maschinenführer1 (MF1)',\n",
              "       'CARPINTERO TRANS001', 'Alimentador de perfiladoras de tubos',\n",
              "       'Maschinenbediener/-einrichter Presse 5', 'galvanized-hanger',\n",
              "       'Mick Brennan is responsible for all cranes and lifting equipment',\n",
              "       'Auxiliar de logística', 'Operario de muestras',\n",
              "       'AUXILIAR TRANS 4', 'Gruista 6B Negro', 'Auxiliar LONGI003',\n",
              "       'LCP 02', 'EMBALADORA 2', 'Verlader / Staplerfahrer Halle 8',\n",
              "       'EMBALAJE  T1', 'ayudante de longitudinal',\n",
              "       'GRUISTA DE ENTRADA LINEA DE DECAPADO', 'GRUISTA TRANS004',\n",
              "       'Maestro II', 'Gruista del ácido', 'MONTADOR',\n",
              "       'Operador Logístico I', 'Verpacker Halle 3',\n",
              "       'Cargador negro/gruista', 'Líneas de Corte Longitudinal',\n",
              "       'Operating the portalcrane', 'Auxiliar de produccion',\n",
              "       'Operador logistico', 'gruista', 'store keeper',\n",
              "       'Recibido de galvanizado',\n",
              "       'Reemplazo de herramienta en la línea de corte transversal PRENS002',\n",
              "       'GRUISTA LONGI004-008+MANTENIMIENTO+MAQUINISTA LONGI008',\n",
              "       'slitting operator', 'Manual operation on protective rods',\n",
              "       'Maschinenführer Presse 3', 'soldador/gruista',\n",
              "       'OPERADOR DE CARRETILLA', 'Regular function', 'LCL 01', 'LONGI06',\n",
              "       'Operario máquina III', 'operator on packaging line',\n",
              "       'AUXILIAR LONGI', 'Logistic Forklift Driver',\n",
              "       'Alimentador Perfiladora Tubos 601', 'CONTROLADOR DE PROCESOS',\n",
              "       'Working in I T Department', 'Maschinenführer 1 Presse 4/6',\n",
              "       'LONGI009', 'si', 'Lifting', 'welding for polygon',\n",
              "       'operatorof Press',\n",
              "       'Operador Principal / montador de árvore de navalhas',\n",
              "       'Montador/auxiliar LONGI003', 'Crane driver', 'Montador LONGI001',\n",
              "       'Maschinenführer 2 LONGI001', 'Staplerfahrer Halle 2 und 3',\n",
              "       'Supervisor Logistik', 'CARPINTERIA', 'Carretilla',\n",
              "       'Carga y descarga vagones', 'Operario procesos',\n",
              "       'Presseneinrichter',\n",
              "       'Entrada por la puerta número 3 del vehículo de carga para su descarga',\n",
              "       'Montacarguista (en entrenamiento)', 'Gruista/cargador',\n",
              "       'IT-Administrator', 'Operador de har lan', 'Shipping Coordinator',\n",
              "       'Montacarguista', 'packaging',\n",
              "       'Si. Operario Rattunde en Formacion', 'Gruista Nave 4.',\n",
              "       'roll form machine', 'Verlader Halle 8', 'GRUISTA',\n",
              "       'EMBALADOR 480',\n",
              "       'Operadores limpieza de caldera y gruista de caldera',\n",
              "       'galvanized-  packaging', 'Empaquetador Tubos',\n",
              "       'Gruista de salida galvanizado', 'Verpacker / Bestuecker', 'Na',\n",
              "       'Alimentador tubos', '/ ', 'Embaladora Longi 6',\n",
              "       'Cargador/descargador galvanizado',\n",
              "       'Material Handler moving stock around and loading vehicles',\n",
              "       'EMBALADOR  480', 'Operador de Embalagem',\n",
              "       'Operador de montacargas', 'MF1 Presse 1',\n",
              "       'Apprentice Maintenance', 'DECAPADO', 'soldadura',\n",
              "       'Verlader / Staplerfahrer', 'lider',\n",
              "       'Titular/ayudante de perfiladoras', 'Maschinenführer Presse 1',\n",
              "       'Supplier', 'LIDER LONGI06', 'Grinding', 'Forklift driver',\n",
              "       'Kranführer H1 Nord', 'Pote Galvanizado', 'customer', 'LONGI 1',\n",
              "       'Accidente que ocurre en la planta de un cliente con una cantonera colocada en un paquete de formatos enviado desde nuestra planta',\n",
              "       'Rework Operation', 'Maschinenführerin 2 Presse 3',\n",
              "       'Cargador Galvanizado', 'MAQUINISTA PERFILADORAS',\n",
              "       'Crane Operator', 'gruista varios',\n",
              "       'Drove the forklift fork the products', 'Maschinenführer 2',\n",
              "       'Verlader', 'Carretillero Railsider', 'Gruista zona negro',\n",
              "       'Forklift Operator', 'MF2 Presse 1',\n",
              "       'Titular y ayudantes de Perfiladora de Dimeco Perfi012',\n",
              "       'ZONA APILADOR LCP', 'Operario Entrada Decapado',\n",
              "       'AYUDANTE PRENSAS', 'storekeeper',\n",
              "       'Puente Grua Longitudinales Y Transversales', 'Chofer',\n",
              "       'Auxiliar de Laboratorio', nan,\n",
              "       'Auxiliares de Logistica\\r\\nOperador de Grua Telescopica',\n",
              "       'GRUISTA EXTERNO', 'Operador de Embalagem / Operador Auxiliar',\n",
              "       'Operario de maquina (taladro radial)', 'Operador Decapado',\n",
              "       'Varios', 'Puente Grua - Flejador', 'Mechatroniker',\n",
              "       'Titular prensa', 'Gruista Subcontrata Pardo Freijo', 'Embal480',\n",
              "       'Maquinista LC4/LC7 y Gruista', 'Slitting Operator',\n",
              "       'Auxiliar Línea Corte Prensa I',\n",
              "       'Área de manutenção de ferramentas da prensa (Matrizes de corte)',\n",
              "       'Cargue de material', 'Cargador', 'Carrtillero', 'MONTADORA',\n",
              "       'Transporte de material acabado', 'AYUDANTE LONGI005', 'Tubos',\n",
              "       'Descargador Galvanizado', 'FINANZAS - PAGO A PROVEEDORES',\n",
              "       'Recogedor de cizallas', 'Operador Logística 2',\n",
              "       'Maschinenführer 2 Presse 1', 'FLEJADOR TRANS002',\n",
              "       'Maschinenführer 1 Presse 5', 'gruista/ maquinista plasma',\n",
              "       'galvanizado', 'Operating the crane', 'MONTADOR LONGI005',\n",
              "       'Maschinenführer 2  LONGI 001', 'Gruista Longi004 -Longi008',\n",
              "       'Flejado y Embalado', 'Press Operators',\n",
              "       'Titular Robot Soldadura 002', 'Gantry crane operator',\n",
              "       'Crane operator', 'Gruista Almacenes', 'Titular Corte Termico',\n",
              "       'Cargador zona de negro', 'Maschinenführer Presse 7',\n",
              "       'GRUISTA - EMBALADOR', 'Handling', 'Titular Prensa 1',\n",
              "       'Ayudante perfiladora Dimeco', 'Descargador', 'sierra de madera',\n",
              "       'Madera Prensas', 'Sierra corte metal',\n",
              "       'Bestücker / Verpacker LONGI001', 'Kranführer Halle 3',\n",
              "       'Titular LONGI008', 'Mantenimiento Eléctrico',\n",
              "       'Flejado y embalado',\n",
              "       'Maniobra de marcha atrás después de dejar el palé con producto acabado en la zona B3',\n",
              "       'Montador LC4', 'Utillero', 'Acumulador', 'Maintenance Engineer',\n",
              "       'Flejador Línea Corte Prensa I', 'empaquetadora/ flejado',\n",
              "       'Forklift kullan?m?',\n",
              "       'Operador de montagem de árvores de navalhas / Operador auxiliar',\n",
              "       'Operario plasma', 'Maschinenführer 1, Presse 2', 'supervisor',\n",
              "       'Operario Salida Decapado', 'Operating of press machine',\n",
              "       'Shift Manager', 'Grua Caldera Galvanizado', 'Electromecánico',\n",
              "       'packaging operator', 'DESCARGADOR GALVANIZADO', 'Torro Hyster',\n",
              "       'MANTENIMIENTO', 'EMBALADOR 015',\n",
              "       'Preparación del material para el corte en la línea, corte flejado',\n",
              "       'ayudante longitudinal', 'Fahrer Räumfahrzeug', 'Oxgyen cutting',\n",
              "       'shift manager', 'EMBALADO Y FLEJADO', 'Galvanizado',\n",
              "       'Gruista de entrada', 'Press Operator/Crane',\n",
              "       'guardrail-road safety', 'AYUDANTE PRENS001', 'Gruista Tubos',\n",
              "       'Maquinista plasma', 'foreman', 'GRUISTA - CARRETILLERO - PRENSAS',\n",
              "       'Operador auxiliar / Montador de árvores de navalhas',\n",
              "       'Maquinista TRANS005', 'soldador', 'Titular Linea', 'Embalador',\n",
              "       'wrapping and packing bundles of steel ',\n",
              "       'Descargador galvanizado', 'Caretillero', 'Empaquetador tubos',\n",
              "       'Gruista perfiladoras', 'Movimentação',\n",
              "       'Maquinista linea de corte longitudinal', 'hanger',\n",
              "       'Anlagenführer Laser 5', 'EMBALAJE MANUAL',\n",
              "       'Puente Grua Galvanizado',\n",
              "       'Salida del vehículo de la nave en semáforo rojo después de haber realizado la descarga',\n",
              "       'Operario Puente grúa', 'Lkw-Fahrer', 'Técnico de Mantenimiento',\n",
              "       'Mechatroinker', 'Maschinen- und Anlagenführer', 'ENH PRODUCTION',\n",
              "       'Ayudante LONGI004', 'Soldador II',\n",
              "       'Lifting material on acid pool', 'Auxiliar de Producción',\n",
              "       'EMBALADOR', 'Gruista LONGI004 y LONGI008', 'TRASLADOS', 'Chófer',\n",
              "       'Auxiliar de producción', 'Alimentador tubos 601',\n",
              "       'Jefe de gestión de Mantenimiento', 'Camionero externo',\n",
              "       'maquinista de maquina de corte Tecoi', 'Maquinista Adige TS72',\n",
              "       'LONGI 5', 'galvanized packaking', 'Auxiliar TRANS003',\n",
              "       'Mitarbeiter Schrottentsorgung', 'linea de manutencion',\n",
              "       'EMBAL015', 'operator of packaging', 'Stacker Operator',\n",
              "       'Auxiliar de linea', 'Operador auxiliar LCT', 'supplier',\n",
              "       'External Agency - Camera Installer', 'Plazmada kesim',\n",
              "       'Embaladora', 'empaquetador perfiladora de tubos',\n",
              "       'Alimentador Tubos', 'EMBALADORA NAVE 2', 'PRENSA 001',\n",
              "       'Titular de linea', 'Flejador LONGI001', 'EPM',\n",
              "       'Carrying metarial by forklift', 'Maschinenführer 1 Presse 3',\n",
              "       'EMBALADORA015', 'Vaciado contenedores de chatarra',\n",
              "       'Carretillero/Gruista', 'OPERADOR PUENTE GRUA',\n",
              "       'Operario Entrada Decapado M1', 'truck driver',\n",
              "       'Maquinista Longi 3', 'Maquinista longitudinal', 'Almacenes',\n",
              "       'Operario de pantógrafo', 'galvanized - hanger',\n",
              "       'Carretillero galvanizado', 'Fertigungsingenieur',\n",
              "       'Recibidor Línea de 7m', 'CHOFER CAMIÓN CARPINTERIA',\n",
              "       'TORO GRANDE', 'Si', 'Ayudante volteador',\n",
              "       'Maschinenführer 1 Presse', 'Operador de Embalagem LCL',\n",
              "       'Mecanico', 'Tornero ajustador', 'MF1 LONGI001',\n",
              "       'MAQUINISTA PRENSA004', 'Loading team leader', 'POTE',\n",
              "       'Jefe de Mantenimiento',\n",
              "       'trabajo en la grúa de pórtico Q25T, nave lateral 1, colocación del círculo en el almacén de bobinas',\n",
              "       'Gruista de caldera y limpieza de caldera',\n",
              "       'Staplerfahrer Halle 8', 'Pontonero', 'Director Comercial Planta',\n",
              "       'Descarga Galvanizado.', 'Soldadura', 'Forklift',\n",
              "       'Maschinenführer', 'Metarial Handling', 'Cargador de entrada',\n",
              "       'Supervisor', 'Carretillero de la Empresa Pardo Freijo',\n",
              "       'Titular de línea y auxiliar (Prensa Rovetta)',\n",
              "       'EMBALADOR TRANS002', 'Assistant of line operator',\n",
              "       'Ayudante CIZAL008', 'Maquinista LONGI003', 'crane operator',\n",
              "       'Alimentador', 'Conductor Toro Hyster', 'Verificador tubos 601',\n",
              "       'Rework', 'TITULAR LÍNEA CORTE PRENSA I', 'Carga material negro',\n",
              "       'OPERARIO LONGI 3', 'Linha de corte transversal',\n",
              "       'gruista en nave 6b zona carga', 'Recibidor línea 3mts',\n",
              "       'Platinen wenden', 'maquinista', 'Ferienarbeiter Instandhaltung',\n",
              "       'CARRETILLA', 'Pupitre de entrada decapado', 'galvanized',\n",
              "       'Conductor Tren', 'plegadora',\n",
              "       'Gruista de longitudinales y transversales', 'Entrada Decapado M1',\n",
              "       'OPERADOR CARRETILLA', 'Maschinenführer 1 Presse 1',\n",
              "       'Limpieza del rodillo continuo en la línea PRENS002',\n",
              "       'Material Handler', 'Packing team member ',\n",
              "       'Salida de la carretilla de descarga y flejado del material',\n",
              "       'EMABALADOR', 'alimentador', 'Traslados', '.', 'camionero',\n",
              "       'Maschinenführerin 1', 'MAQUINISTA LONGI008',\n",
              "       'Movimiento de carretilla elevadora',\n",
              "       'Mitarbeiter Qualitätsmanagement'], dtype=object)"
            ]
          },
          "metadata": {
            "tags": []
          },
          "execution_count": 256
        }
      ]
    },
    {
      "cell_type": "code",
      "metadata": {
        "id": "S_rVpEjurIC0"
      },
      "source": [
        "staff.drop(columns={'Puesto habitual de trabajo'}, inplace=True)"
      ],
      "execution_count": 257,
      "outputs": []
    },
    {
      "cell_type": "code",
      "metadata": {
        "id": "fi_sEKJVgtPT"
      },
      "source": [
        "#gender\n",
        "\n",
        "staff.rename(columns={'Género':'Gender'}, inplace=True)\n"
      ],
      "execution_count": 258,
      "outputs": []
    },
    {
      "cell_type": "code",
      "metadata": {
        "colab": {
          "base_uri": "https://localhost:8080/"
        },
        "id": "ClWWt7J0q7ct",
        "outputId": "39f19227-acfe-4417-8c3b-b3af2f86b8be"
      },
      "source": [
        "staff['Gender'].unique()"
      ],
      "execution_count": 260,
      "outputs": [
        {
          "output_type": "execute_result",
          "data": {
            "text/plain": [
              "array(['Hombre', nan, 'Mujer'], dtype=object)"
            ]
          },
          "metadata": {
            "tags": []
          },
          "execution_count": 260
        }
      ]
    },
    {
      "cell_type": "code",
      "metadata": {
        "id": "q40fmLfHrRtY"
      },
      "source": [
        "staff['Gender'] = staff['Gender'].fillna('Hombre')"
      ],
      "execution_count": 275,
      "outputs": []
    },
    {
      "cell_type": "code",
      "metadata": {
        "colab": {
          "base_uri": "https://localhost:8080/"
        },
        "id": "TYtAeC8_rvBV",
        "outputId": "4d34f942-b306-4a8e-9529-caf36a475be7"
      },
      "source": [
        "len(staff[staff['Gender'].isnull()])"
      ],
      "execution_count": 276,
      "outputs": [
        {
          "output_type": "execute_result",
          "data": {
            "text/plain": [
              "0"
            ]
          },
          "metadata": {
            "tags": []
          },
          "execution_count": 276
        }
      ]
    },
    {
      "cell_type": "code",
      "metadata": {
        "colab": {
          "base_uri": "https://localhost:8080/"
        },
        "id": "vcpecFlvtJCw",
        "outputId": "5b750557-dfe8-47f7-d6e8-bdea4b0549a5"
      },
      "source": [
        "staff['Gender'].unique()"
      ],
      "execution_count": 277,
      "outputs": [
        {
          "output_type": "execute_result",
          "data": {
            "text/plain": [
              "array(['Hombre', 'Mujer'], dtype=object)"
            ]
          },
          "metadata": {
            "tags": []
          },
          "execution_count": 277
        }
      ]
    }
  ]
}