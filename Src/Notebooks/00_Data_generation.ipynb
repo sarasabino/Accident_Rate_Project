{
  "nbformat": 4,
  "nbformat_minor": 0,
  "metadata": {
    "colab": {
      "name": "00_Data_generation.ipynb",
      "provenance": [],
      "mount_file_id": "18MOCeNlI0OqA7MkkYVcWzKC5s8ijnAd4",
      "authorship_tag": "ABX9TyNJemTQFYUjohpWD4C0LaGR",
      "include_colab_link": true
    },
    "kernelspec": {
      "name": "python3",
      "display_name": "Python 3"
    },
    "language_info": {
      "name": "python"
    }
  },
  "cells": [
    {
      "cell_type": "markdown",
      "metadata": {
        "id": "view-in-github",
        "colab_type": "text"
      },
      "source": [
        "<a href=\"https://colab.research.google.com/github/sarasabino/Accident_Rate_Project/blob/main/Src/Notebooks/00_Data_generation.ipynb\" target=\"_parent\"><img src=\"https://colab.research.google.com/assets/colab-badge.svg\" alt=\"Open In Colab\"/></a>"
      ]
    },
    {
      "cell_type": "markdown",
      "metadata": {
        "id": "tfPS3xuQU1MA"
      },
      "source": [
        "## Data Generation\n",
        "\n",
        "We initially received the data from the accidents occurred in the company, although it is usefull we will need the data from the staff and the resolution if each employee has had an accident or not. This data will allow us to perform our accident prediction model. \n",
        "\n",
        "For that purpose we are going to generate a csv file with random data, but based in the real one, that contains the company's staff by employee. Each row represents an employee, with all its characteristic. In the \"Accident\" column we will have if that person has had an accident during his time in the company or not. \n"
      ]
    },
    {
      "cell_type": "code",
      "metadata": {
        "id": "KGd4qTHoUv2G"
      },
      "source": [
        "! cp /content/drive/MyDrive/'Colab Notebooks'/'TFM Accidentabilidad'/Data/HS_Accidentabilidad.csv .\n",
        "! cp /content/drive/MyDrive/'Colab Notebooks'/'TFM Accidentabilidad'/Data/'G_Plantas y Tech'.csv .\n",
        "! cp /content/drive/MyDrive/'Colab Notebooks'/'TFM Accidentabilidad'/Data/Datos_plantilla_fabrica.csv .\n"
      ],
      "execution_count": 52,
      "outputs": []
    },
    {
      "cell_type": "markdown",
      "metadata": {
        "id": "tHkkk17yXuQa"
      },
      "source": [
        "We are going to upload the accidents' data and filter by year. We would only work with 2018,2019 and 2020 as the other years are incomplete."
      ]
    },
    {
      "cell_type": "code",
      "metadata": {
        "id": "KfBhfVGnXiG2"
      },
      "source": [
        "import pandas as pd\n",
        "\n",
        "accidentes = pd.read_csv('HS_Accidentabilidad.csv', sep=';')\n",
        "\n",
        "accidentes = accidentes[(accidentes['Año']== 2018) | (accidentes['Año']==2019) | (accidentes['Año']==2020) ]"
      ],
      "execution_count": 53,
      "outputs": []
    },
    {
      "cell_type": "code",
      "metadata": {
        "colab": {
          "base_uri": "https://localhost:8080/"
        },
        "id": "3Ale6fXJjE8f",
        "outputId": "5b846f55-49fe-465d-bcbb-99aec1704ce2"
      },
      "source": [
        "print(\"We have a total accidents amount of \",  len(accidentes))"
      ],
      "execution_count": 54,
      "outputs": [
        {
          "output_type": "stream",
          "text": [
            "We have a total accidents amount of  4180\n"
          ],
          "name": "stdout"
        }
      ]
    },
    {
      "cell_type": "code",
      "metadata": {
        "colab": {
          "base_uri": "https://localhost:8080/",
          "height": 669
        },
        "id": "dVZjq2685jr8",
        "outputId": "534217d2-dd9a-4a1a-e83a-8bd3096030d0"
      },
      "source": [
        "accidentes.head() ## we have 104 columns which is a lot of information"
      ],
      "execution_count": 55,
      "outputs": [
        {
          "output_type": "execute_result",
          "data": {
            "text/html": [
              "<div>\n",
              "<style scoped>\n",
              "    .dataframe tbody tr th:only-of-type {\n",
              "        vertical-align: middle;\n",
              "    }\n",
              "\n",
              "    .dataframe tbody tr th {\n",
              "        vertical-align: top;\n",
              "    }\n",
              "\n",
              "    .dataframe thead th {\n",
              "        text-align: right;\n",
              "    }\n",
              "</style>\n",
              "<table border=\"1\" class=\"dataframe\">\n",
              "  <thead>\n",
              "    <tr style=\"text-align: right;\">\n",
              "      <th></th>\n",
              "      <th>ID</th>\n",
              "      <th>-  DATOS DEL SUCESO -</th>\n",
              "      <th>Codigo accidentado</th>\n",
              "      <th>Fecha introduccion datos</th>\n",
              "      <th>Fecha accidente</th>\n",
              "      <th>Año</th>\n",
              "      <th>Codigo fecha accidente</th>\n",
              "      <th>Planta</th>\n",
              "      <th>Código empleado</th>\n",
              "      <th>Supervisor</th>\n",
              "      <th>Puesto habitual de trabajo</th>\n",
              "      <th>Puesto habitual de trabajo - Cerrado</th>\n",
              "      <th>MOI o MOD</th>\n",
              "      <th>La estaba desempeñando</th>\n",
              "      <th>En caso negativo, indicar qué estaba desempeñando</th>\n",
              "      <th>Edad</th>\n",
              "      <th>Género</th>\n",
              "      <th>Turno</th>\n",
              "      <th>Numero personas implicadas</th>\n",
              "      <th>Llevaba EPIs puestos</th>\n",
              "      <th>Hora</th>\n",
              "      <th>Hora jornada</th>\n",
              "      <th>Tipo trabajador</th>\n",
              "      <th>En caso de ser ajeno, indicar empresa</th>\n",
              "      <th>Lugar o seccion accidente</th>\n",
              "      <th>Línea de producción</th>\n",
              "      <th>Tarea que estaba realizando</th>\n",
              "      <th>Cumplimiento Instruccion de Seguridad</th>\n",
              "      <th>¿Se ha incumplido alguna de las normas o instrucciones existentes y explicadas?</th>\n",
              "      <th>En caso de incumplimiento, comentarios:</th>\n",
              "      <th>En caso negativo, indicar la razon</th>\n",
              "      <th>Experiencia en puesto</th>\n",
              "      <th>Fecha ultima formacion completa sobre instrucciones en el puesto</th>\n",
              "      <th>Condicion peligrosa</th>\n",
              "      <th>Forma de producirse</th>\n",
              "      <th>Factores de peligro</th>\n",
              "      <th>Acto inseguro</th>\n",
              "      <th>Naturaleza de lesion</th>\n",
              "      <th>- FORMA EN QUE SE PRODUJO -</th>\n",
              "      <th>Descripción supervisor</th>\n",
              "      <th>...</th>\n",
              "      <th>Nombre del Coordinador - despegable</th>\n",
              "      <th>Nombre de participante a la investigación</th>\n",
              "      <th>Responsable de Departamento</th>\n",
              "      <th>Fecha cierre informe</th>\n",
              "      <th>- VALORACIÓN DE LOS HECHOS -</th>\n",
              "      <th>Probabilidad de repeticion del suceso</th>\n",
              "      <th>Gravedad potencial</th>\n",
              "      <th>Podría haberse dado otro riesgo en estas circunstancias</th>\n",
              "      <th>- MEDIDAS DE CONTROL -</th>\n",
              "      <th>Posibilidad de este suceso detectada en la evaluación de riesgos</th>\n",
              "      <th>Estaban contempladas las medidas preventivas en la Instruccion de Seguridad</th>\n",
              "      <th>Los implicados conocian la existencia del riesgo y las medidas a adoptar</th>\n",
              "      <th>Se habian cumplido las normas establecidas, en caso de estar definidas</th>\n",
              "      <th>- PROPUESTA DE ACCIONES -</th>\n",
              "      <th>Estas acciones pueden añadir riesgos a los ya existentes</th>\n",
              "      <th>1 En caso afirmativo, cual es</th>\n",
              "      <th>Se abre NC como consecuencia de esta investigacion</th>\n",
              "      <th>2 En caso afirmativo, cual es</th>\n",
              "      <th>Requiere revision de Evaluacion de Riesgos</th>\n",
              "      <th>3 En caso afirmativo, cual es</th>\n",
              "      <th>Requiere revision de alguna Instruccion de Seguridad</th>\n",
              "      <th>4 En caso afirmativo, cual es</th>\n",
              "      <th>Requiere incorporar algun aspecto en el check list de Inspecciones</th>\n",
              "      <th>5 En caso afirmativo, cual es</th>\n",
              "      <th>Requiere amonestacion verbal el empleado</th>\n",
              "      <th>Bloqueado</th>\n",
              "      <th>Fecha accidente trigger</th>\n",
              "      <th>- ACTUACIONES INMEDIATAS TOMADAS -</th>\n",
              "      <th>Actuación inmediata asistencial</th>\n",
              "      <th>Actuación inmediata instalaciones</th>\n",
              "      <th>- PROPUESTA INICIAL DE MEDIDAS A PLANIFICAR -</th>\n",
              "      <th>Medida a planificar 1</th>\n",
              "      <th>Medida a planificar 2</th>\n",
              "      <th>Medida a planificar 3</th>\n",
              "      <th>Notificacion o investigacion</th>\n",
              "      <th>Modifica notificacion</th>\n",
              "      <th>Se ha dado un suceso similar (en cuanto a sus causas y consecuencias) en el último año en planta?</th>\n",
              "      <th>En caso afirmativo, cual es y como se actuó?</th>\n",
              "      <th>Tipo Tema</th>\n",
              "      <th>Acta reunión alta baja</th>\n",
              "    </tr>\n",
              "  </thead>\n",
              "  <tbody>\n",
              "    <tr>\n",
              "      <th>2057</th>\n",
              "      <td>6253</td>\n",
              "      <td>0.0</td>\n",
              "      <td>HS-CHGQ_6253</td>\n",
              "      <td>09/03/2019</td>\n",
              "      <td>30/05/2018</td>\n",
              "      <td>2018.0</td>\n",
              "      <td>201805</td>\n",
              "      <td>45</td>\n",
              "      <td>NaN</td>\n",
              "      <td>522</td>\n",
              "      <td>NaN</td>\n",
              "      <td>NaN</td>\n",
              "      <td>NaN</td>\n",
              "      <td>NaN</td>\n",
              "      <td>NaN</td>\n",
              "      <td>NaN</td>\n",
              "      <td>NaN</td>\n",
              "      <td>Turno de mañana</td>\n",
              "      <td>17</td>\n",
              "      <td>NaN</td>\n",
              "      <td>NaN</td>\n",
              "      <td>Primera hora</td>\n",
              "      <td>Incidente (no aplica)</td>\n",
              "      <td>NaN</td>\n",
              "      <td>Almacén producto semielaborado o en producción</td>\n",
              "      <td>NaN</td>\n",
              "      <td>NaN</td>\n",
              "      <td>Pendiente incluir el riesgo y medidas en Instr...</td>\n",
              "      <td>NaN</td>\n",
              "      <td>NaN</td>\n",
              "      <td>NaN</td>\n",
              "      <td>NaN</td>\n",
              "      <td>NaN</td>\n",
              "      <td>Deficiente visibilidad del punto de peligro</td>\n",
              "      <td>Choque contra objeto inmóvil</td>\n",
              "      <td>Camiones</td>\n",
              "      <td>Accionar el equipo sin supervisar la maniobra</td>\n",
              "      <td>NaN</td>\n",
              "      <td>0.0</td>\n",
              "      <td>NaN</td>\n",
              "      <td>...</td>\n",
              "      <td>NaN</td>\n",
              "      <td>NaN</td>\n",
              "      <td>Logistics</td>\n",
              "      <td>NaN</td>\n",
              "      <td>0.0</td>\n",
              "      <td>NaN</td>\n",
              "      <td>NaN</td>\n",
              "      <td>NaN</td>\n",
              "      <td>0.0</td>\n",
              "      <td>Si</td>\n",
              "      <td>Si</td>\n",
              "      <td>NaN</td>\n",
              "      <td>NaN</td>\n",
              "      <td>0.0</td>\n",
              "      <td>NaN</td>\n",
              "      <td>NaN</td>\n",
              "      <td>NaN</td>\n",
              "      <td>NaN</td>\n",
              "      <td>NaN</td>\n",
              "      <td>NaN</td>\n",
              "      <td>NaN</td>\n",
              "      <td>NaN</td>\n",
              "      <td>NaN</td>\n",
              "      <td>NaN</td>\n",
              "      <td>NaN</td>\n",
              "      <td>No</td>\n",
              "      <td>30/05/2018</td>\n",
              "      <td>0.0</td>\n",
              "      <td>NaN</td>\n",
              "      <td>NaN</td>\n",
              "      <td>0.0</td>\n",
              "      <td>NaN</td>\n",
              "      <td>NaN</td>\n",
              "      <td>NaN</td>\n",
              "      <td>No</td>\n",
              "      <td>NaN</td>\n",
              "      <td>NaN</td>\n",
              "      <td>NaN</td>\n",
              "      <td>3</td>\n",
              "      <td>NaN</td>\n",
              "    </tr>\n",
              "    <tr>\n",
              "      <th>2062</th>\n",
              "      <td>6813</td>\n",
              "      <td>0.0</td>\n",
              "      <td>HS-CHGQ_6813</td>\n",
              "      <td>09/03/2019</td>\n",
              "      <td>30/05/2018</td>\n",
              "      <td>2018.0</td>\n",
              "      <td>201805</td>\n",
              "      <td>45</td>\n",
              "      <td>NaN</td>\n",
              "      <td>522</td>\n",
              "      <td>NaN</td>\n",
              "      <td>NaN</td>\n",
              "      <td>NaN</td>\n",
              "      <td>NaN</td>\n",
              "      <td>NaN</td>\n",
              "      <td>NaN</td>\n",
              "      <td>NaN</td>\n",
              "      <td>Turno de mañana</td>\n",
              "      <td>17</td>\n",
              "      <td>NaN</td>\n",
              "      <td>NaN</td>\n",
              "      <td>Primera hora</td>\n",
              "      <td>Incidente (no aplica)</td>\n",
              "      <td>NaN</td>\n",
              "      <td>Área de embalado</td>\n",
              "      <td>NaN</td>\n",
              "      <td>NaN</td>\n",
              "      <td>Si</td>\n",
              "      <td>NaN</td>\n",
              "      <td>NaN</td>\n",
              "      <td>NaN</td>\n",
              "      <td>NaN</td>\n",
              "      <td>NaN</td>\n",
              "      <td>Ninguna</td>\n",
              "      <td>Choque contra objeto inmóvil</td>\n",
              "      <td>Camiones</td>\n",
              "      <td>Falta de coordinación con el compañero</td>\n",
              "      <td>NaN</td>\n",
              "      <td>0.0</td>\n",
              "      <td>NaN</td>\n",
              "      <td>...</td>\n",
              "      <td>NaN</td>\n",
              "      <td>NaN</td>\n",
              "      <td>Logistics</td>\n",
              "      <td>NaN</td>\n",
              "      <td>0.0</td>\n",
              "      <td>NaN</td>\n",
              "      <td>NaN</td>\n",
              "      <td>NaN</td>\n",
              "      <td>0.0</td>\n",
              "      <td>Si</td>\n",
              "      <td>Si</td>\n",
              "      <td>NaN</td>\n",
              "      <td>NaN</td>\n",
              "      <td>0.0</td>\n",
              "      <td>NaN</td>\n",
              "      <td>NaN</td>\n",
              "      <td>NaN</td>\n",
              "      <td>NaN</td>\n",
              "      <td>NaN</td>\n",
              "      <td>NaN</td>\n",
              "      <td>NaN</td>\n",
              "      <td>NaN</td>\n",
              "      <td>NaN</td>\n",
              "      <td>NaN</td>\n",
              "      <td>NaN</td>\n",
              "      <td>No</td>\n",
              "      <td>30/05/2018</td>\n",
              "      <td>0.0</td>\n",
              "      <td>NaN</td>\n",
              "      <td>NaN</td>\n",
              "      <td>0.0</td>\n",
              "      <td>NaN</td>\n",
              "      <td>NaN</td>\n",
              "      <td>NaN</td>\n",
              "      <td>No</td>\n",
              "      <td>NaN</td>\n",
              "      <td>NaN</td>\n",
              "      <td>NaN</td>\n",
              "      <td>3</td>\n",
              "      <td>NaN</td>\n",
              "    </tr>\n",
              "    <tr>\n",
              "      <th>2063</th>\n",
              "      <td>6814</td>\n",
              "      <td>0.0</td>\n",
              "      <td>HS-CHGQ_6814</td>\n",
              "      <td>09/03/2019</td>\n",
              "      <td>16/07/2018</td>\n",
              "      <td>2018.0</td>\n",
              "      <td>201807</td>\n",
              "      <td>45</td>\n",
              "      <td>NaN</td>\n",
              "      <td>522</td>\n",
              "      <td>NaN</td>\n",
              "      <td>NaN</td>\n",
              "      <td>NaN</td>\n",
              "      <td>NaN</td>\n",
              "      <td>NaN</td>\n",
              "      <td>NaN</td>\n",
              "      <td>NaN</td>\n",
              "      <td>Turno de mañana</td>\n",
              "      <td>17</td>\n",
              "      <td>NaN</td>\n",
              "      <td>NaN</td>\n",
              "      <td>Octava hora</td>\n",
              "      <td>Incidente (no aplica)</td>\n",
              "      <td>NaN</td>\n",
              "      <td>Instalaciones exteriores y auxiliares</td>\n",
              "      <td>NaN</td>\n",
              "      <td>NaN</td>\n",
              "      <td>Si</td>\n",
              "      <td>NaN</td>\n",
              "      <td>NaN</td>\n",
              "      <td>NaN</td>\n",
              "      <td>NaN</td>\n",
              "      <td>NaN</td>\n",
              "      <td>Herramientas o útiles en mal estado, o mal con...</td>\n",
              "      <td>Contacto eléctrico</td>\n",
              "      <td>Otro</td>\n",
              "      <td>Ninguno</td>\n",
              "      <td>NaN</td>\n",
              "      <td>0.0</td>\n",
              "      <td>NaN</td>\n",
              "      <td>...</td>\n",
              "      <td>NaN</td>\n",
              "      <td>NaN</td>\n",
              "      <td>Maintenance</td>\n",
              "      <td>NaN</td>\n",
              "      <td>0.0</td>\n",
              "      <td>NaN</td>\n",
              "      <td>NaN</td>\n",
              "      <td>NaN</td>\n",
              "      <td>0.0</td>\n",
              "      <td>Si</td>\n",
              "      <td>Si</td>\n",
              "      <td>NaN</td>\n",
              "      <td>NaN</td>\n",
              "      <td>0.0</td>\n",
              "      <td>NaN</td>\n",
              "      <td>NaN</td>\n",
              "      <td>NaN</td>\n",
              "      <td>NaN</td>\n",
              "      <td>NaN</td>\n",
              "      <td>NaN</td>\n",
              "      <td>NaN</td>\n",
              "      <td>NaN</td>\n",
              "      <td>NaN</td>\n",
              "      <td>NaN</td>\n",
              "      <td>NaN</td>\n",
              "      <td>No</td>\n",
              "      <td>16/07/2018</td>\n",
              "      <td>0.0</td>\n",
              "      <td>NaN</td>\n",
              "      <td>NaN</td>\n",
              "      <td>0.0</td>\n",
              "      <td>NaN</td>\n",
              "      <td>NaN</td>\n",
              "      <td>NaN</td>\n",
              "      <td>No</td>\n",
              "      <td>NaN</td>\n",
              "      <td>NaN</td>\n",
              "      <td>NaN</td>\n",
              "      <td>3</td>\n",
              "      <td>NaN</td>\n",
              "    </tr>\n",
              "    <tr>\n",
              "      <th>2064</th>\n",
              "      <td>6138</td>\n",
              "      <td>0.0</td>\n",
              "      <td>HS-CHGQ_6138</td>\n",
              "      <td>09/03/2019</td>\n",
              "      <td>13/03/2018</td>\n",
              "      <td>2018.0</td>\n",
              "      <td>201803</td>\n",
              "      <td>45</td>\n",
              "      <td>NaN</td>\n",
              "      <td>522</td>\n",
              "      <td>NaN</td>\n",
              "      <td>NaN</td>\n",
              "      <td>NaN</td>\n",
              "      <td>NaN</td>\n",
              "      <td>NaN</td>\n",
              "      <td>NaN</td>\n",
              "      <td>NaN</td>\n",
              "      <td>Turno de mañana</td>\n",
              "      <td>17</td>\n",
              "      <td>NaN</td>\n",
              "      <td>NaN</td>\n",
              "      <td>Cuarta hora</td>\n",
              "      <td>Incidente (no aplica)</td>\n",
              "      <td>NaN</td>\n",
              "      <td>Puente Grúa</td>\n",
              "      <td>NaN</td>\n",
              "      <td>NaN</td>\n",
              "      <td>Si</td>\n",
              "      <td>NaN</td>\n",
              "      <td>NaN</td>\n",
              "      <td>NaN</td>\n",
              "      <td>NaN</td>\n",
              "      <td>NaN</td>\n",
              "      <td>Ausencia de ubicaciones, soportes, contenedore...</td>\n",
              "      <td>Caída de objetos desprendidos</td>\n",
              "      <td>Actividades en altura</td>\n",
              "      <td>Desconocimiento de riesgos y/o medidas prevent...</td>\n",
              "      <td>NaN</td>\n",
              "      <td>0.0</td>\n",
              "      <td>NaN</td>\n",
              "      <td>...</td>\n",
              "      <td>NaN</td>\n",
              "      <td>NaN</td>\n",
              "      <td>Maintenance</td>\n",
              "      <td>NaN</td>\n",
              "      <td>0.0</td>\n",
              "      <td>NaN</td>\n",
              "      <td>NaN</td>\n",
              "      <td>NaN</td>\n",
              "      <td>0.0</td>\n",
              "      <td>Si</td>\n",
              "      <td>Si</td>\n",
              "      <td>NaN</td>\n",
              "      <td>NaN</td>\n",
              "      <td>0.0</td>\n",
              "      <td>NaN</td>\n",
              "      <td>NaN</td>\n",
              "      <td>NaN</td>\n",
              "      <td>NaN</td>\n",
              "      <td>NaN</td>\n",
              "      <td>NaN</td>\n",
              "      <td>NaN</td>\n",
              "      <td>NaN</td>\n",
              "      <td>NaN</td>\n",
              "      <td>NaN</td>\n",
              "      <td>NaN</td>\n",
              "      <td>No</td>\n",
              "      <td>13/03/2018</td>\n",
              "      <td>0.0</td>\n",
              "      <td>NaN</td>\n",
              "      <td>NaN</td>\n",
              "      <td>0.0</td>\n",
              "      <td>NaN</td>\n",
              "      <td>NaN</td>\n",
              "      <td>NaN</td>\n",
              "      <td>No</td>\n",
              "      <td>NaN</td>\n",
              "      <td>NaN</td>\n",
              "      <td>NaN</td>\n",
              "      <td>3</td>\n",
              "      <td>NaN</td>\n",
              "    </tr>\n",
              "    <tr>\n",
              "      <th>2065</th>\n",
              "      <td>6139</td>\n",
              "      <td>0.0</td>\n",
              "      <td>HS-CHGQ_6139</td>\n",
              "      <td>09/03/2019</td>\n",
              "      <td>15/03/2018</td>\n",
              "      <td>2018.0</td>\n",
              "      <td>201803</td>\n",
              "      <td>45</td>\n",
              "      <td>NaN</td>\n",
              "      <td>522</td>\n",
              "      <td>NaN</td>\n",
              "      <td>NaN</td>\n",
              "      <td>NaN</td>\n",
              "      <td>NaN</td>\n",
              "      <td>NaN</td>\n",
              "      <td>NaN</td>\n",
              "      <td>NaN</td>\n",
              "      <td>Turno de tarde</td>\n",
              "      <td>17</td>\n",
              "      <td>NaN</td>\n",
              "      <td>NaN</td>\n",
              "      <td>Tercera hora</td>\n",
              "      <td>Incidente (no aplica)</td>\n",
              "      <td>NaN</td>\n",
              "      <td>Instalaciones exteriores y auxiliares</td>\n",
              "      <td>NaN</td>\n",
              "      <td>NaN</td>\n",
              "      <td>Pendiente incluir el riesgo y medidas en Instr...</td>\n",
              "      <td>NaN</td>\n",
              "      <td>NaN</td>\n",
              "      <td>NaN</td>\n",
              "      <td>NaN</td>\n",
              "      <td>NaN</td>\n",
              "      <td>Equipo de protección individual inadecuado o i...</td>\n",
              "      <td>Caída de personas a distinto nivel</td>\n",
              "      <td>Actividades en altura</td>\n",
              "      <td>Desconocimiento del método de trabajo</td>\n",
              "      <td>NaN</td>\n",
              "      <td>0.0</td>\n",
              "      <td>NaN</td>\n",
              "      <td>...</td>\n",
              "      <td>NaN</td>\n",
              "      <td>NaN</td>\n",
              "      <td>Maintenance</td>\n",
              "      <td>NaN</td>\n",
              "      <td>0.0</td>\n",
              "      <td>NaN</td>\n",
              "      <td>NaN</td>\n",
              "      <td>NaN</td>\n",
              "      <td>0.0</td>\n",
              "      <td>Si</td>\n",
              "      <td>Si</td>\n",
              "      <td>NaN</td>\n",
              "      <td>NaN</td>\n",
              "      <td>0.0</td>\n",
              "      <td>NaN</td>\n",
              "      <td>NaN</td>\n",
              "      <td>NaN</td>\n",
              "      <td>NaN</td>\n",
              "      <td>NaN</td>\n",
              "      <td>NaN</td>\n",
              "      <td>NaN</td>\n",
              "      <td>NaN</td>\n",
              "      <td>NaN</td>\n",
              "      <td>NaN</td>\n",
              "      <td>NaN</td>\n",
              "      <td>No</td>\n",
              "      <td>15/03/2018</td>\n",
              "      <td>0.0</td>\n",
              "      <td>NaN</td>\n",
              "      <td>NaN</td>\n",
              "      <td>0.0</td>\n",
              "      <td>NaN</td>\n",
              "      <td>NaN</td>\n",
              "      <td>NaN</td>\n",
              "      <td>No</td>\n",
              "      <td>NaN</td>\n",
              "      <td>NaN</td>\n",
              "      <td>NaN</td>\n",
              "      <td>3</td>\n",
              "      <td>NaN</td>\n",
              "    </tr>\n",
              "  </tbody>\n",
              "</table>\n",
              "<p>5 rows × 104 columns</p>\n",
              "</div>"
            ],
            "text/plain": [
              "        ID  -  DATOS DEL SUCESO -  ... Tipo Tema Acta reunión alta baja\n",
              "2057  6253                    0.0  ...         3                    NaN\n",
              "2062  6813                    0.0  ...         3                    NaN\n",
              "2063  6814                    0.0  ...         3                    NaN\n",
              "2064  6138                    0.0  ...         3                    NaN\n",
              "2065  6139                    0.0  ...         3                    NaN\n",
              "\n",
              "[5 rows x 104 columns]"
            ]
          },
          "metadata": {
            "tags": []
          },
          "execution_count": 55
        }
      ]
    },
    {
      "cell_type": "code",
      "metadata": {
        "colab": {
          "base_uri": "https://localhost:8080/"
        },
        "id": "lzAPU5nj5sR1",
        "outputId": "66954e19-669f-4993-edd6-4b47ff2a9d83"
      },
      "source": [
        "accidentes.columns"
      ],
      "execution_count": 56,
      "outputs": [
        {
          "output_type": "execute_result",
          "data": {
            "text/plain": [
              "Index(['ID', '-  DATOS DEL SUCESO -', 'Codigo accidentado',\n",
              "       'Fecha introduccion datos', 'Fecha accidente', 'Año',\n",
              "       'Codigo fecha accidente', 'Planta', 'Código empleado', 'Supervisor',\n",
              "       ...\n",
              "       '- PROPUESTA INICIAL DE MEDIDAS A PLANIFICAR -',\n",
              "       'Medida a planificar 1', 'Medida a planificar 2',\n",
              "       'Medida a planificar 3', 'Notificacion o investigacion',\n",
              "       'Modifica notificacion',\n",
              "       'Se ha dado un suceso similar (en cuanto a sus causas y consecuencias) en el último año en planta?',\n",
              "       'En caso afirmativo, cual es y como se actuó?', 'Tipo Tema',\n",
              "       'Acta reunión alta baja'],\n",
              "      dtype='object', length=104)"
            ]
          },
          "metadata": {
            "tags": []
          },
          "execution_count": 56
        }
      ]
    },
    {
      "cell_type": "code",
      "metadata": {
        "colab": {
          "base_uri": "https://localhost:8080/"
        },
        "id": "9tc0ohI_5dq8",
        "outputId": "908e50d3-5b93-4779-8fb5-592f189cc2e4"
      },
      "source": [
        "#lets check all columns dtypes\n",
        "with pd.option_context('display.max_rows', None, 'display.max_columns', None):\n",
        "    print(accidentes.dtypes)"
      ],
      "execution_count": 57,
      "outputs": [
        {
          "output_type": "stream",
          "text": [
            "ID                                                                                                     int64\n",
            "-  DATOS DEL SUCESO -                                                                                float64\n",
            "Codigo accidentado                                                                                    object\n",
            "Fecha introduccion datos                                                                              object\n",
            "Fecha accidente                                                                                       object\n",
            "Año                                                                                                  float64\n",
            "Codigo fecha accidente                                                                                 int64\n",
            "Planta                                                                                                 int64\n",
            "Código empleado                                                                                       object\n",
            "Supervisor                                                                                             int64\n",
            "Puesto habitual de trabajo                                                                            object\n",
            "Puesto habitual de trabajo - Cerrado                                                                  object\n",
            "MOI o MOD                                                                                             object\n",
            "La estaba desempeñando                                                                                object\n",
            "En caso negativo, indicar qué estaba desempeñando                                                     object\n",
            "Edad                                                                                                  object\n",
            "Género                                                                                                object\n",
            "Turno                                                                                                 object\n",
            "Numero personas implicadas                                                                             int64\n",
            "Llevaba EPIs puestos                                                                                  object\n",
            "Hora                                                                                                  object\n",
            "Hora jornada                                                                                          object\n",
            "Tipo trabajador                                                                                       object\n",
            "En caso de ser ajeno, indicar empresa                                                                 object\n",
            "Lugar o seccion accidente                                                                             object\n",
            "Línea de producción                                                                                   object\n",
            "Tarea que estaba realizando                                                                           object\n",
            "Cumplimiento Instruccion de Seguridad                                                                 object\n",
            "¿Se ha incumplido alguna de las normas o instrucciones existentes y explicadas?                       object\n",
            "En caso de incumplimiento, comentarios:                                                               object\n",
            "En caso negativo, indicar la razon                                                                    object\n",
            "Experiencia en puesto                                                                                 object\n",
            "Fecha ultima formacion completa sobre instrucciones en el puesto                                      object\n",
            "Condicion peligrosa                                                                                   object\n",
            "Forma de producirse                                                                                   object\n",
            "Factores de peligro                                                                                   object\n",
            "Acto inseguro                                                                                         object\n",
            "Naturaleza de lesion                                                                                  object\n",
            "- FORMA EN QUE SE PRODUJO -                                                                          float64\n",
            "Descripción supervisor                                                                                object\n",
            "Causa inmediata supervisor                                                                            object\n",
            "¿Por qué ocurrió el incidente?                                                                        object\n",
            "¿… y por qué se dio esa circunstancia?                                                                object\n",
            "¿… y por qué se dio esa otra circunstancia?                                                           object\n",
            "- DESCRIPCIÓN -                                                                                      float64\n",
            "Tipo accidente                                                                                        object\n",
            "Causa inmediata                                                                                       object\n",
            "Descripcion accidente o incidente                                                                     object\n",
            "Fotos del accidente                                                                                   object\n",
            "- CONSECUENCIAS -                                                                                    float64\n",
            "Fecha inicio baja                                                                                     object\n",
            "Codigo fecha inicio baja                                                                             float64\n",
            "Daños personales                                                                                      object\n",
            "Parte lesionada                                                                                       object\n",
            "Descripcion de la lesion                                                                              object\n",
            "Daños materiales                                                                                      object\n",
            "Consecuencias materiales                                                                              object\n",
            "Descripcion pérdida material                                                                          object\n",
            "- FECHA DE ALTA Y RECAÍDA -                                                                          float64\n",
            "Fecha alta                                                                                            object\n",
            "Comentarios recaída                                                                                   object\n",
            "Jornadas laborales perdidas                                                                          float64\n",
            "- INVESTIGACIÓN -                                                                                    float64\n",
            "Coordinador de Seguridad y Salud                                                                      object\n",
            "Nombre del Coordinador - despegable                                                                   object\n",
            "Nombre de participante a la investigación                                                             object\n",
            "Responsable de Departamento                                                                           object\n",
            "Fecha cierre informe                                                                                  object\n",
            "- VALORACIÓN DE LOS HECHOS -                                                                         float64\n",
            "Probabilidad de repeticion del suceso                                                                 object\n",
            "Gravedad potencial                                                                                    object\n",
            "Podría haberse dado otro riesgo en estas circunstancias                                               object\n",
            "- MEDIDAS DE CONTROL -                                                                               float64\n",
            "Posibilidad de este suceso detectada en la evaluación de riesgos                                      object\n",
            "Estaban contempladas las medidas preventivas en la Instruccion de Seguridad                           object\n",
            "Los implicados conocian la existencia del riesgo y las medidas a adoptar                              object\n",
            "Se habian cumplido las normas establecidas, en caso de estar definidas                                object\n",
            "- PROPUESTA DE ACCIONES -                                                                            float64\n",
            "Estas acciones pueden añadir riesgos a los ya existentes                                              object\n",
            "1 En caso afirmativo, cual es                                                                         object\n",
            "Se abre NC como consecuencia de esta investigacion                                                    object\n",
            "2 En caso afirmativo, cual es                                                                         object\n",
            "Requiere revision de Evaluacion de Riesgos                                                            object\n",
            "3 En caso afirmativo, cual es                                                                         object\n",
            "Requiere revision de alguna Instruccion de Seguridad                                                  object\n",
            "4 En caso afirmativo, cual es                                                                         object\n",
            "Requiere incorporar algun aspecto en el check list de Inspecciones                                    object\n",
            "5 En caso afirmativo, cual es                                                                         object\n",
            "Requiere amonestacion verbal el empleado                                                              object\n",
            "Bloqueado                                                                                             object\n",
            "Fecha accidente trigger                                                                               object\n",
            "- ACTUACIONES INMEDIATAS TOMADAS -                                                                   float64\n",
            "Actuación inmediata asistencial                                                                       object\n",
            "Actuación inmediata instalaciones                                                                     object\n",
            "- PROPUESTA INICIAL DE MEDIDAS A PLANIFICAR -                                                        float64\n",
            "Medida a planificar 1                                                                                 object\n",
            "Medida a planificar 2                                                                                 object\n",
            "Medida a planificar 3                                                                                 object\n",
            "Notificacion o investigacion                                                                          object\n",
            "Modifica notificacion                                                                                 object\n",
            "Se ha dado un suceso similar (en cuanto a sus causas y consecuencias) en el último año en planta?     object\n",
            "En caso afirmativo, cual es y como se actuó?                                                          object\n",
            "Tipo Tema                                                                                              int64\n",
            "Acta reunión alta baja                                                                               float64\n",
            "dtype: object\n"
          ],
          "name": "stdout"
        }
      ]
    },
    {
      "cell_type": "code",
      "metadata": {
        "colab": {
          "base_uri": "https://localhost:8080/"
        },
        "id": "2DlQRjYaX5G7",
        "outputId": "428707de-ba33-4a16-dfc7-b2459a360ab7"
      },
      "source": [
        "accidentes['Gravedad potencial'].unique()"
      ],
      "execution_count": 58,
      "outputs": [
        {
          "output_type": "execute_result",
          "data": {
            "text/plain": [
              "array([nan, 'Muy grave', 'Leve', 'Grave'], dtype=object)"
            ]
          },
          "metadata": {
            "tags": []
          },
          "execution_count": 58
        }
      ]
    },
    {
      "cell_type": "code",
      "metadata": {
        "colab": {
          "base_uri": "https://localhost:8080/",
          "height": 205
        },
        "id": "GyMVvB9rX7C9",
        "outputId": "7b013daf-8809-4f46-e9cd-39266b37d78f"
      },
      "source": [
        "## we are going to filter to get the most important columns\n",
        "staff = accidentes[['Codigo accidentado', 'Puesto habitual de trabajo','Turno','Edad','Género','Planta', 'Tipo accidente', 'Tipo trabajador', 'Gravedad potencial', 'Lugar o seccion accidente']]\n",
        "staff.head()"
      ],
      "execution_count": 59,
      "outputs": [
        {
          "output_type": "execute_result",
          "data": {
            "text/html": [
              "<div>\n",
              "<style scoped>\n",
              "    .dataframe tbody tr th:only-of-type {\n",
              "        vertical-align: middle;\n",
              "    }\n",
              "\n",
              "    .dataframe tbody tr th {\n",
              "        vertical-align: top;\n",
              "    }\n",
              "\n",
              "    .dataframe thead th {\n",
              "        text-align: right;\n",
              "    }\n",
              "</style>\n",
              "<table border=\"1\" class=\"dataframe\">\n",
              "  <thead>\n",
              "    <tr style=\"text-align: right;\">\n",
              "      <th></th>\n",
              "      <th>Codigo accidentado</th>\n",
              "      <th>Puesto habitual de trabajo</th>\n",
              "      <th>Turno</th>\n",
              "      <th>Edad</th>\n",
              "      <th>Género</th>\n",
              "      <th>Planta</th>\n",
              "      <th>Tipo accidente</th>\n",
              "      <th>Tipo trabajador</th>\n",
              "      <th>Gravedad potencial</th>\n",
              "      <th>Lugar o seccion accidente</th>\n",
              "    </tr>\n",
              "  </thead>\n",
              "  <tbody>\n",
              "    <tr>\n",
              "      <th>2057</th>\n",
              "      <td>HS-CHGQ_6253</td>\n",
              "      <td>NaN</td>\n",
              "      <td>Turno de mañana</td>\n",
              "      <td>NaN</td>\n",
              "      <td>NaN</td>\n",
              "      <td>45</td>\n",
              "      <td>Incidente</td>\n",
              "      <td>Incidente (no aplica)</td>\n",
              "      <td>NaN</td>\n",
              "      <td>Almacén producto semielaborado o en producción</td>\n",
              "    </tr>\n",
              "    <tr>\n",
              "      <th>2062</th>\n",
              "      <td>HS-CHGQ_6813</td>\n",
              "      <td>NaN</td>\n",
              "      <td>Turno de mañana</td>\n",
              "      <td>NaN</td>\n",
              "      <td>NaN</td>\n",
              "      <td>45</td>\n",
              "      <td>Incidente</td>\n",
              "      <td>Incidente (no aplica)</td>\n",
              "      <td>NaN</td>\n",
              "      <td>Área de embalado</td>\n",
              "    </tr>\n",
              "    <tr>\n",
              "      <th>2063</th>\n",
              "      <td>HS-CHGQ_6814</td>\n",
              "      <td>NaN</td>\n",
              "      <td>Turno de mañana</td>\n",
              "      <td>NaN</td>\n",
              "      <td>NaN</td>\n",
              "      <td>45</td>\n",
              "      <td>Incidente</td>\n",
              "      <td>Incidente (no aplica)</td>\n",
              "      <td>NaN</td>\n",
              "      <td>Instalaciones exteriores y auxiliares</td>\n",
              "    </tr>\n",
              "    <tr>\n",
              "      <th>2064</th>\n",
              "      <td>HS-CHGQ_6138</td>\n",
              "      <td>NaN</td>\n",
              "      <td>Turno de mañana</td>\n",
              "      <td>NaN</td>\n",
              "      <td>NaN</td>\n",
              "      <td>45</td>\n",
              "      <td>Incidente</td>\n",
              "      <td>Incidente (no aplica)</td>\n",
              "      <td>NaN</td>\n",
              "      <td>Puente Grúa</td>\n",
              "    </tr>\n",
              "    <tr>\n",
              "      <th>2065</th>\n",
              "      <td>HS-CHGQ_6139</td>\n",
              "      <td>NaN</td>\n",
              "      <td>Turno de tarde</td>\n",
              "      <td>NaN</td>\n",
              "      <td>NaN</td>\n",
              "      <td>45</td>\n",
              "      <td>Incidente</td>\n",
              "      <td>Incidente (no aplica)</td>\n",
              "      <td>NaN</td>\n",
              "      <td>Instalaciones exteriores y auxiliares</td>\n",
              "    </tr>\n",
              "  </tbody>\n",
              "</table>\n",
              "</div>"
            ],
            "text/plain": [
              "     Codigo accidentado  ...                       Lugar o seccion accidente\n",
              "2057       HS-CHGQ_6253  ...  Almacén producto semielaborado o en producción\n",
              "2062       HS-CHGQ_6813  ...                                Área de embalado\n",
              "2063       HS-CHGQ_6814  ...           Instalaciones exteriores y auxiliares\n",
              "2064       HS-CHGQ_6138  ...                                     Puente Grúa\n",
              "2065       HS-CHGQ_6139  ...           Instalaciones exteriores y auxiliares\n",
              "\n",
              "[5 rows x 10 columns]"
            ]
          },
          "metadata": {
            "tags": []
          },
          "execution_count": 59
        }
      ]
    },
    {
      "cell_type": "markdown",
      "metadata": {
        "id": "MSHXcion6TwX"
      },
      "source": [
        "Now we are going to upload the Plants and Tech file, which contains the relation between the fabric the tecnology and the country. We can join this table with the staff table by Planta - ID"
      ]
    },
    {
      "cell_type": "code",
      "metadata": {
        "colab": {
          "base_uri": "https://localhost:8080/",
          "height": 205
        },
        "id": "pKf83P3gZKU-",
        "outputId": "56dc5610-ac00-4f80-aeb9-e89d764f6ae2"
      },
      "source": [
        "planta = pd.read_csv('G_Plantas y Tech.csv', sep=';')\n",
        "planta.drop(columns={'Activo'}, inplace=True)\n",
        "planta.head()"
      ],
      "execution_count": 60,
      "outputs": [
        {
          "output_type": "execute_result",
          "data": {
            "text/html": [
              "<div>\n",
              "<style scoped>\n",
              "    .dataframe tbody tr th:only-of-type {\n",
              "        vertical-align: middle;\n",
              "    }\n",
              "\n",
              "    .dataframe tbody tr th {\n",
              "        vertical-align: top;\n",
              "    }\n",
              "\n",
              "    .dataframe thead th {\n",
              "        text-align: right;\n",
              "    }\n",
              "</style>\n",
              "<table border=\"1\" class=\"dataframe\">\n",
              "  <thead>\n",
              "    <tr style=\"text-align: right;\">\n",
              "      <th></th>\n",
              "      <th>ID</th>\n",
              "      <th>Fabrica</th>\n",
              "      <th>Tecnología</th>\n",
              "      <th>Pais</th>\n",
              "    </tr>\n",
              "  </thead>\n",
              "  <tbody>\n",
              "    <tr>\n",
              "      <th>0</th>\n",
              "      <td>1</td>\n",
              "      <td>Argentina</td>\n",
              "      <td>Blanking</td>\n",
              "      <td>Argentina</td>\n",
              "    </tr>\n",
              "    <tr>\n",
              "      <th>1</th>\n",
              "      <td>2</td>\n",
              "      <td>Argentina</td>\n",
              "      <td>Corte Longitudinal</td>\n",
              "      <td>Argentina</td>\n",
              "    </tr>\n",
              "    <tr>\n",
              "      <th>2</th>\n",
              "      <td>3</td>\n",
              "      <td>Argentina</td>\n",
              "      <td>Corte Transversal</td>\n",
              "      <td>Argentina</td>\n",
              "    </tr>\n",
              "    <tr>\n",
              "      <th>3</th>\n",
              "      <td>4</td>\n",
              "      <td>Arizona</td>\n",
              "      <td>Células Soldadura</td>\n",
              "      <td>EEUU</td>\n",
              "    </tr>\n",
              "    <tr>\n",
              "      <th>4</th>\n",
              "      <td>5</td>\n",
              "      <td>Arizona</td>\n",
              "      <td>Corte Láser</td>\n",
              "      <td>EEUU</td>\n",
              "    </tr>\n",
              "  </tbody>\n",
              "</table>\n",
              "</div>"
            ],
            "text/plain": [
              "   ID    Fabrica          Tecnología       Pais\n",
              "0   1  Argentina            Blanking  Argentina\n",
              "1   2  Argentina  Corte Longitudinal  Argentina\n",
              "2   3  Argentina   Corte Transversal  Argentina\n",
              "3   4    Arizona   Células Soldadura       EEUU\n",
              "4   5    Arizona         Corte Láser       EEUU"
            ]
          },
          "metadata": {
            "tags": []
          },
          "execution_count": 60
        }
      ]
    },
    {
      "cell_type": "code",
      "metadata": {
        "id": "ycAEG8ykZZi3"
      },
      "source": [
        "# we merge both df so we have all information in staff df with a left join in case we dont have plants for some rows\n",
        "\n",
        "staff = staff.merge(planta, left_on='Planta', right_on='ID', how='left')\n"
      ],
      "execution_count": 61,
      "outputs": []
    },
    {
      "cell_type": "code",
      "metadata": {
        "colab": {
          "base_uri": "https://localhost:8080/",
          "height": 309
        },
        "id": "wOQez98xaDFQ",
        "outputId": "443683a3-113e-451b-a8be-8430595f434a"
      },
      "source": [
        "staff.drop(columns={'ID'}, inplace=True)\n",
        "\n",
        "staff.head()"
      ],
      "execution_count": 62,
      "outputs": [
        {
          "output_type": "execute_result",
          "data": {
            "text/html": [
              "<div>\n",
              "<style scoped>\n",
              "    .dataframe tbody tr th:only-of-type {\n",
              "        vertical-align: middle;\n",
              "    }\n",
              "\n",
              "    .dataframe tbody tr th {\n",
              "        vertical-align: top;\n",
              "    }\n",
              "\n",
              "    .dataframe thead th {\n",
              "        text-align: right;\n",
              "    }\n",
              "</style>\n",
              "<table border=\"1\" class=\"dataframe\">\n",
              "  <thead>\n",
              "    <tr style=\"text-align: right;\">\n",
              "      <th></th>\n",
              "      <th>Codigo accidentado</th>\n",
              "      <th>Puesto habitual de trabajo</th>\n",
              "      <th>Turno</th>\n",
              "      <th>Edad</th>\n",
              "      <th>Género</th>\n",
              "      <th>Planta</th>\n",
              "      <th>Tipo accidente</th>\n",
              "      <th>Tipo trabajador</th>\n",
              "      <th>Gravedad potencial</th>\n",
              "      <th>Lugar o seccion accidente</th>\n",
              "      <th>Fabrica</th>\n",
              "      <th>Tecnología</th>\n",
              "      <th>Pais</th>\n",
              "    </tr>\n",
              "  </thead>\n",
              "  <tbody>\n",
              "    <tr>\n",
              "      <th>0</th>\n",
              "      <td>HS-CHGQ_6253</td>\n",
              "      <td>NaN</td>\n",
              "      <td>Turno de mañana</td>\n",
              "      <td>NaN</td>\n",
              "      <td>NaN</td>\n",
              "      <td>45</td>\n",
              "      <td>Incidente</td>\n",
              "      <td>Incidente (no aplica)</td>\n",
              "      <td>NaN</td>\n",
              "      <td>Almacén producto semielaborado o en producción</td>\n",
              "      <td>Asturias</td>\n",
              "      <td>Decapado</td>\n",
              "      <td>España</td>\n",
              "    </tr>\n",
              "    <tr>\n",
              "      <th>1</th>\n",
              "      <td>HS-CHGQ_6813</td>\n",
              "      <td>NaN</td>\n",
              "      <td>Turno de mañana</td>\n",
              "      <td>NaN</td>\n",
              "      <td>NaN</td>\n",
              "      <td>45</td>\n",
              "      <td>Incidente</td>\n",
              "      <td>Incidente (no aplica)</td>\n",
              "      <td>NaN</td>\n",
              "      <td>Área de embalado</td>\n",
              "      <td>Asturias</td>\n",
              "      <td>Decapado</td>\n",
              "      <td>España</td>\n",
              "    </tr>\n",
              "    <tr>\n",
              "      <th>2</th>\n",
              "      <td>HS-CHGQ_6814</td>\n",
              "      <td>NaN</td>\n",
              "      <td>Turno de mañana</td>\n",
              "      <td>NaN</td>\n",
              "      <td>NaN</td>\n",
              "      <td>45</td>\n",
              "      <td>Incidente</td>\n",
              "      <td>Incidente (no aplica)</td>\n",
              "      <td>NaN</td>\n",
              "      <td>Instalaciones exteriores y auxiliares</td>\n",
              "      <td>Asturias</td>\n",
              "      <td>Decapado</td>\n",
              "      <td>España</td>\n",
              "    </tr>\n",
              "    <tr>\n",
              "      <th>3</th>\n",
              "      <td>HS-CHGQ_6138</td>\n",
              "      <td>NaN</td>\n",
              "      <td>Turno de mañana</td>\n",
              "      <td>NaN</td>\n",
              "      <td>NaN</td>\n",
              "      <td>45</td>\n",
              "      <td>Incidente</td>\n",
              "      <td>Incidente (no aplica)</td>\n",
              "      <td>NaN</td>\n",
              "      <td>Puente Grúa</td>\n",
              "      <td>Asturias</td>\n",
              "      <td>Decapado</td>\n",
              "      <td>España</td>\n",
              "    </tr>\n",
              "    <tr>\n",
              "      <th>4</th>\n",
              "      <td>HS-CHGQ_6139</td>\n",
              "      <td>NaN</td>\n",
              "      <td>Turno de tarde</td>\n",
              "      <td>NaN</td>\n",
              "      <td>NaN</td>\n",
              "      <td>45</td>\n",
              "      <td>Incidente</td>\n",
              "      <td>Incidente (no aplica)</td>\n",
              "      <td>NaN</td>\n",
              "      <td>Instalaciones exteriores y auxiliares</td>\n",
              "      <td>Asturias</td>\n",
              "      <td>Decapado</td>\n",
              "      <td>España</td>\n",
              "    </tr>\n",
              "  </tbody>\n",
              "</table>\n",
              "</div>"
            ],
            "text/plain": [
              "  Codigo accidentado Puesto habitual de trabajo  ... Tecnología    Pais\n",
              "0       HS-CHGQ_6253                        NaN  ...   Decapado  España\n",
              "1       HS-CHGQ_6813                        NaN  ...   Decapado  España\n",
              "2       HS-CHGQ_6814                        NaN  ...   Decapado  España\n",
              "3       HS-CHGQ_6138                        NaN  ...   Decapado  España\n",
              "4       HS-CHGQ_6139                        NaN  ...   Decapado  España\n",
              "\n",
              "[5 rows x 13 columns]"
            ]
          },
          "metadata": {
            "tags": []
          },
          "execution_count": 62
        }
      ]
    },
    {
      "cell_type": "code",
      "metadata": {
        "colab": {
          "base_uri": "https://localhost:8080/"
        },
        "id": "C63jEalecZG9",
        "outputId": "1d655a6e-35fd-4b4a-f059-3a47d61177ba"
      },
      "source": [
        "len(staff) ## we have same amount as before"
      ],
      "execution_count": 63,
      "outputs": [
        {
          "output_type": "execute_result",
          "data": {
            "text/plain": [
              "4180"
            ]
          },
          "metadata": {
            "tags": []
          },
          "execution_count": 63
        }
      ]
    },
    {
      "cell_type": "markdown",
      "metadata": {
        "id": "t3mDNDyVap0l"
      },
      "source": [
        "Now we are going to upload some staff data to get the number of trainning hours per plant and have a reference of the quantity of employees we want to generate. \n",
        "\n",
        "This data is aggregated so it is not valid for our model."
      ]
    },
    {
      "cell_type": "code",
      "metadata": {
        "colab": {
          "base_uri": "https://localhost:8080/"
        },
        "id": "VBXW__tUapZn",
        "outputId": "bb7eb14a-7d26-4d13-ea3f-7f0ff12a7fca"
      },
      "source": [
        "rrhh_plant = pd.read_csv('Datos_plantilla_fabrica.csv', sep=';')\n",
        "\n",
        "rrhh_plant['Año'].unique()"
      ],
      "execution_count": 64,
      "outputs": [
        {
          "output_type": "execute_result",
          "data": {
            "text/plain": [
              "array([2017., 2016., 2018., 2019.,   nan, 2020., 2021.])"
            ]
          },
          "metadata": {
            "tags": []
          },
          "execution_count": 64
        }
      ]
    },
    {
      "cell_type": "code",
      "metadata": {
        "id": "AYIu-lEjbJF5"
      },
      "source": [
        "# we are getting only 2020 for our analysis to have a reference\n",
        "\n",
        "rrhh_plant = rrhh_plant[rrhh_plant['Año']==2020]\n"
      ],
      "execution_count": 65,
      "outputs": []
    },
    {
      "cell_type": "code",
      "metadata": {
        "colab": {
          "base_uri": "https://localhost:8080/",
          "height": 257
        },
        "id": "Tdw6rjhXbUPh",
        "outputId": "064264d1-46dc-4e82-bfb7-b764b9153f3c"
      },
      "source": [
        "rrhh_plant.head()"
      ],
      "execution_count": 66,
      "outputs": [
        {
          "output_type": "execute_result",
          "data": {
            "text/html": [
              "<div>\n",
              "<style scoped>\n",
              "    .dataframe tbody tr th:only-of-type {\n",
              "        vertical-align: middle;\n",
              "    }\n",
              "\n",
              "    .dataframe tbody tr th {\n",
              "        vertical-align: top;\n",
              "    }\n",
              "\n",
              "    .dataframe thead th {\n",
              "        text-align: right;\n",
              "    }\n",
              "</style>\n",
              "<table border=\"1\" class=\"dataframe\">\n",
              "  <thead>\n",
              "    <tr style=\"text-align: right;\">\n",
              "      <th></th>\n",
              "      <th>ID</th>\n",
              "      <th>Planta</th>\n",
              "      <th>Año</th>\n",
              "      <th>Mes</th>\n",
              "      <th>Empleados Propios</th>\n",
              "      <th>Empleados Ajenos</th>\n",
              "      <th>Empleados ETTS</th>\n",
              "      <th>Empleados Subcontrata</th>\n",
              "      <th>Horas Presencia Efectiva Propios</th>\n",
              "      <th>Horas Presencia Efectiva Subcontratados</th>\n",
              "      <th>Horas Presencia Efectiva ETTs</th>\n",
              "      <th>Horas Formacion Seguridad Propios</th>\n",
              "      <th>Horas Formacion Seguridad ETTs</th>\n",
              "      <th>Horas Formacion General Propios</th>\n",
              "      <th>Empleados Propios - indefinido</th>\n",
              "      <th>Empleados Propios - duración determinada</th>\n",
              "    </tr>\n",
              "  </thead>\n",
              "  <tbody>\n",
              "    <tr>\n",
              "      <th>2615</th>\n",
              "      <td>3819</td>\n",
              "      <td>Barcelona</td>\n",
              "      <td>2020.0</td>\n",
              "      <td>ENE</td>\n",
              "      <td>203.0</td>\n",
              "      <td>28.0</td>\n",
              "      <td>8.0</td>\n",
              "      <td>20.0</td>\n",
              "      <td>29770,3</td>\n",
              "      <td>3138</td>\n",
              "      <td>1307,5</td>\n",
              "      <td>15</td>\n",
              "      <td>23</td>\n",
              "      <td>211</td>\n",
              "      <td>189.0</td>\n",
              "      <td>14.0</td>\n",
              "    </tr>\n",
              "    <tr>\n",
              "      <th>2616</th>\n",
              "      <td>3820</td>\n",
              "      <td>Burgos</td>\n",
              "      <td>2020.0</td>\n",
              "      <td>ENE</td>\n",
              "      <td>239.0</td>\n",
              "      <td>68.0</td>\n",
              "      <td>28.0</td>\n",
              "      <td>40.0</td>\n",
              "      <td>32625</td>\n",
              "      <td>6487</td>\n",
              "      <td>4549,3</td>\n",
              "      <td>445</td>\n",
              "      <td>348,5</td>\n",
              "      <td>757</td>\n",
              "      <td>188.0</td>\n",
              "      <td>38.0</td>\n",
              "    </tr>\n",
              "    <tr>\n",
              "      <th>2617</th>\n",
              "      <td>3821</td>\n",
              "      <td>Tarragona</td>\n",
              "      <td>2020.0</td>\n",
              "      <td>ENE</td>\n",
              "      <td>49.0</td>\n",
              "      <td>17.0</td>\n",
              "      <td>5.0</td>\n",
              "      <td>12.0</td>\n",
              "      <td>8352,5</td>\n",
              "      <td>2080</td>\n",
              "      <td>862</td>\n",
              "      <td>8</td>\n",
              "      <td>12</td>\n",
              "      <td>111</td>\n",
              "      <td>46.0</td>\n",
              "      <td>3.0</td>\n",
              "    </tr>\n",
              "    <tr>\n",
              "      <th>2618</th>\n",
              "      <td>3822</td>\n",
              "      <td>Valencia</td>\n",
              "      <td>2020.0</td>\n",
              "      <td>ENE</td>\n",
              "      <td>153.0</td>\n",
              "      <td>28.0</td>\n",
              "      <td>24.0</td>\n",
              "      <td>3.0</td>\n",
              "      <td>22105,2</td>\n",
              "      <td>647</td>\n",
              "      <td>3968,3</td>\n",
              "      <td>8</td>\n",
              "      <td>6</td>\n",
              "      <td>35,5</td>\n",
              "      <td>139.0</td>\n",
              "      <td>2.0</td>\n",
              "    </tr>\n",
              "    <tr>\n",
              "      <th>2619</th>\n",
              "      <td>3823</td>\n",
              "      <td>Portugal</td>\n",
              "      <td>2020.0</td>\n",
              "      <td>ENE</td>\n",
              "      <td>99.0</td>\n",
              "      <td>12.0</td>\n",
              "      <td>10.0</td>\n",
              "      <td>2.0</td>\n",
              "      <td>16625,75</td>\n",
              "      <td>384</td>\n",
              "      <td>1866,5</td>\n",
              "      <td>80</td>\n",
              "      <td>32,5</td>\n",
              "      <td>514</td>\n",
              "      <td>72.0</td>\n",
              "      <td>28.0</td>\n",
              "    </tr>\n",
              "  </tbody>\n",
              "</table>\n",
              "</div>"
            ],
            "text/plain": [
              "        ID  ... Empleados Propios - duración determinada\n",
              "2615  3819  ...                                     14.0\n",
              "2616  3820  ...                                     38.0\n",
              "2617  3821  ...                                      3.0\n",
              "2618  3822  ...                                      2.0\n",
              "2619  3823  ...                                     28.0\n",
              "\n",
              "[5 rows x 16 columns]"
            ]
          },
          "metadata": {
            "tags": []
          },
          "execution_count": 66
        }
      ]
    },
    {
      "cell_type": "code",
      "metadata": {
        "colab": {
          "base_uri": "https://localhost:8080/"
        },
        "id": "__DNNs_IF0LU",
        "outputId": "497c6109-533c-49b0-f761-ab68d5e984ca"
      },
      "source": [
        "a = 545613.01\n",
        "round(a)"
      ],
      "execution_count": 67,
      "outputs": [
        {
          "output_type": "execute_result",
          "data": {
            "text/plain": [
              "545613"
            ]
          },
          "metadata": {
            "tags": []
          },
          "execution_count": 67
        }
      ]
    },
    {
      "cell_type": "code",
      "metadata": {
        "id": "aQ6lOc6eBwxr"
      },
      "source": [
        "lista = ['Horas Presencia Efectiva Propios', 'Horas Presencia Efectiva Subcontratados', 'Horas Presencia Efectiva ETTs','Horas Formacion Seguridad Propios' ,'Horas Formacion Seguridad ETTs', 'Horas Formacion General Propios'  ]\n",
        "\n",
        "for column in lista:  \n",
        "  rrhh_plant[column] = rrhh_plant[column].apply(lambda x: x.replace(',', '.')).astype(float)\n",
        "  rrhh_plant[column] = rrhh_plant[column].apply(lambda x: round(x))"
      ],
      "execution_count": 68,
      "outputs": []
    },
    {
      "cell_type": "code",
      "metadata": {
        "colab": {
          "base_uri": "https://localhost:8080/"
        },
        "id": "K3Zl33woBSyT",
        "outputId": "d536a7f3-b933-4a7b-a903-9b94a58393c5"
      },
      "source": [
        "rrhh_plant.dtypes"
      ],
      "execution_count": 69,
      "outputs": [
        {
          "output_type": "execute_result",
          "data": {
            "text/plain": [
              "ID                                            int64\n",
              "Planta                                       object\n",
              "Año                                         float64\n",
              "Mes                                          object\n",
              "Empleados Propios                           float64\n",
              "Empleados Ajenos                            float64\n",
              "Empleados ETTS                              float64\n",
              "Empleados Subcontrata                       float64\n",
              "Horas Presencia Efectiva Propios              int64\n",
              "Horas Presencia Efectiva Subcontratados       int64\n",
              "Horas Presencia Efectiva ETTs                 int64\n",
              "Horas Formacion Seguridad Propios             int64\n",
              "Horas Formacion Seguridad ETTs                int64\n",
              "Horas Formacion General Propios               int64\n",
              "Empleados Propios - indefinido              float64\n",
              "Empleados Propios - duración determinada    float64\n",
              "dtype: object"
            ]
          },
          "metadata": {
            "tags": []
          },
          "execution_count": 69
        }
      ]
    },
    {
      "cell_type": "code",
      "metadata": {
        "id": "TUC8nVIObaIi"
      },
      "source": [
        "trainning_hours = rrhh_plant[['Planta','Horas Presencia Efectiva Subcontratados', 'Horas Presencia Efectiva ETTs', 'Horas Formacion Seguridad Propios', 'Horas Formacion Seguridad ETTs']]"
      ],
      "execution_count": 70,
      "outputs": []
    },
    {
      "cell_type": "code",
      "metadata": {
        "colab": {
          "base_uri": "https://localhost:8080/",
          "height": 172
        },
        "id": "CKCTghNybt4M",
        "outputId": "0426e3f0-3d95-4409-8da2-8a59ea8239ac"
      },
      "source": [
        "trainning_hours.rename(columns={'Planta':'Fabrica'}, inplace=True)\n",
        "trainning_hours.head(1)"
      ],
      "execution_count": 71,
      "outputs": [
        {
          "output_type": "stream",
          "text": [
            "/usr/local/lib/python3.7/dist-packages/pandas/core/frame.py:4308: SettingWithCopyWarning: \n",
            "A value is trying to be set on a copy of a slice from a DataFrame\n",
            "\n",
            "See the caveats in the documentation: https://pandas.pydata.org/pandas-docs/stable/user_guide/indexing.html#returning-a-view-versus-a-copy\n",
            "  errors=errors,\n"
          ],
          "name": "stderr"
        },
        {
          "output_type": "execute_result",
          "data": {
            "text/html": [
              "<div>\n",
              "<style scoped>\n",
              "    .dataframe tbody tr th:only-of-type {\n",
              "        vertical-align: middle;\n",
              "    }\n",
              "\n",
              "    .dataframe tbody tr th {\n",
              "        vertical-align: top;\n",
              "    }\n",
              "\n",
              "    .dataframe thead th {\n",
              "        text-align: right;\n",
              "    }\n",
              "</style>\n",
              "<table border=\"1\" class=\"dataframe\">\n",
              "  <thead>\n",
              "    <tr style=\"text-align: right;\">\n",
              "      <th></th>\n",
              "      <th>Fabrica</th>\n",
              "      <th>Horas Presencia Efectiva Subcontratados</th>\n",
              "      <th>Horas Presencia Efectiva ETTs</th>\n",
              "      <th>Horas Formacion Seguridad Propios</th>\n",
              "      <th>Horas Formacion Seguridad ETTs</th>\n",
              "    </tr>\n",
              "  </thead>\n",
              "  <tbody>\n",
              "    <tr>\n",
              "      <th>2615</th>\n",
              "      <td>Barcelona</td>\n",
              "      <td>3138</td>\n",
              "      <td>1308</td>\n",
              "      <td>15</td>\n",
              "      <td>23</td>\n",
              "    </tr>\n",
              "  </tbody>\n",
              "</table>\n",
              "</div>"
            ],
            "text/plain": [
              "        Fabrica  ...  Horas Formacion Seguridad ETTs\n",
              "2615  Barcelona  ...                              23\n",
              "\n",
              "[1 rows x 5 columns]"
            ]
          },
          "metadata": {
            "tags": []
          },
          "execution_count": 71
        }
      ]
    },
    {
      "cell_type": "code",
      "metadata": {
        "id": "-Bn5ixLVcgjz",
        "colab": {
          "base_uri": "https://localhost:8080/",
          "height": 205
        },
        "outputId": "e8c24cf4-3f71-427a-bda1-647ad0c747fb"
      },
      "source": [
        "trainning_hours = trainning_hours.groupby('Fabrica').agg('sum').reset_index() ## we get the nº of trainning hours by fabric\n",
        "trainning_hours.head()"
      ],
      "execution_count": 72,
      "outputs": [
        {
          "output_type": "execute_result",
          "data": {
            "text/html": [
              "<div>\n",
              "<style scoped>\n",
              "    .dataframe tbody tr th:only-of-type {\n",
              "        vertical-align: middle;\n",
              "    }\n",
              "\n",
              "    .dataframe tbody tr th {\n",
              "        vertical-align: top;\n",
              "    }\n",
              "\n",
              "    .dataframe thead th {\n",
              "        text-align: right;\n",
              "    }\n",
              "</style>\n",
              "<table border=\"1\" class=\"dataframe\">\n",
              "  <thead>\n",
              "    <tr style=\"text-align: right;\">\n",
              "      <th></th>\n",
              "      <th>Fabrica</th>\n",
              "      <th>Horas Presencia Efectiva Subcontratados</th>\n",
              "      <th>Horas Presencia Efectiva ETTs</th>\n",
              "      <th>Horas Formacion Seguridad Propios</th>\n",
              "      <th>Horas Formacion Seguridad ETTs</th>\n",
              "    </tr>\n",
              "  </thead>\n",
              "  <tbody>\n",
              "    <tr>\n",
              "      <th>0</th>\n",
              "      <td>Addimen</td>\n",
              "      <td>0</td>\n",
              "      <td>0</td>\n",
              "      <td>0</td>\n",
              "      <td>0</td>\n",
              "    </tr>\n",
              "    <tr>\n",
              "      <th>1</th>\n",
              "      <td>Argentina</td>\n",
              "      <td>0</td>\n",
              "      <td>0</td>\n",
              "      <td>607</td>\n",
              "      <td>0</td>\n",
              "    </tr>\n",
              "    <tr>\n",
              "      <th>2</th>\n",
              "      <td>Arizona</td>\n",
              "      <td>0</td>\n",
              "      <td>0</td>\n",
              "      <td>0</td>\n",
              "      <td>0</td>\n",
              "    </tr>\n",
              "    <tr>\n",
              "      <th>3</th>\n",
              "      <td>Baja California</td>\n",
              "      <td>0</td>\n",
              "      <td>900</td>\n",
              "      <td>0</td>\n",
              "      <td>0</td>\n",
              "    </tr>\n",
              "    <tr>\n",
              "      <th>4</th>\n",
              "      <td>Barcelona</td>\n",
              "      <td>25685</td>\n",
              "      <td>18303</td>\n",
              "      <td>1151</td>\n",
              "      <td>152</td>\n",
              "    </tr>\n",
              "  </tbody>\n",
              "</table>\n",
              "</div>"
            ],
            "text/plain": [
              "           Fabrica  ...  Horas Formacion Seguridad ETTs\n",
              "0          Addimen  ...                               0\n",
              "1        Argentina  ...                               0\n",
              "2          Arizona  ...                               0\n",
              "3  Baja California  ...                               0\n",
              "4        Barcelona  ...                             152\n",
              "\n",
              "[5 rows x 5 columns]"
            ]
          },
          "metadata": {
            "tags": []
          },
          "execution_count": 72
        }
      ]
    },
    {
      "cell_type": "code",
      "metadata": {
        "colab": {
          "base_uri": "https://localhost:8080/",
          "height": 395
        },
        "id": "ouad-9t0bwi6",
        "outputId": "c3daa1d5-a41e-450b-bdba-2ade131fd3fe"
      },
      "source": [
        "staff = staff.merge(trainning_hours, on='Fabrica', how='left') # adding the training hours to staff df\n",
        "staff.head()"
      ],
      "execution_count": 73,
      "outputs": [
        {
          "output_type": "execute_result",
          "data": {
            "text/html": [
              "<div>\n",
              "<style scoped>\n",
              "    .dataframe tbody tr th:only-of-type {\n",
              "        vertical-align: middle;\n",
              "    }\n",
              "\n",
              "    .dataframe tbody tr th {\n",
              "        vertical-align: top;\n",
              "    }\n",
              "\n",
              "    .dataframe thead th {\n",
              "        text-align: right;\n",
              "    }\n",
              "</style>\n",
              "<table border=\"1\" class=\"dataframe\">\n",
              "  <thead>\n",
              "    <tr style=\"text-align: right;\">\n",
              "      <th></th>\n",
              "      <th>Codigo accidentado</th>\n",
              "      <th>Puesto habitual de trabajo</th>\n",
              "      <th>Turno</th>\n",
              "      <th>Edad</th>\n",
              "      <th>Género</th>\n",
              "      <th>Planta</th>\n",
              "      <th>Tipo accidente</th>\n",
              "      <th>Tipo trabajador</th>\n",
              "      <th>Gravedad potencial</th>\n",
              "      <th>Lugar o seccion accidente</th>\n",
              "      <th>Fabrica</th>\n",
              "      <th>Tecnología</th>\n",
              "      <th>Pais</th>\n",
              "      <th>Horas Presencia Efectiva Subcontratados</th>\n",
              "      <th>Horas Presencia Efectiva ETTs</th>\n",
              "      <th>Horas Formacion Seguridad Propios</th>\n",
              "      <th>Horas Formacion Seguridad ETTs</th>\n",
              "    </tr>\n",
              "  </thead>\n",
              "  <tbody>\n",
              "    <tr>\n",
              "      <th>0</th>\n",
              "      <td>HS-CHGQ_6253</td>\n",
              "      <td>NaN</td>\n",
              "      <td>Turno de mañana</td>\n",
              "      <td>NaN</td>\n",
              "      <td>NaN</td>\n",
              "      <td>45</td>\n",
              "      <td>Incidente</td>\n",
              "      <td>Incidente (no aplica)</td>\n",
              "      <td>NaN</td>\n",
              "      <td>Almacén producto semielaborado o en producción</td>\n",
              "      <td>Asturias</td>\n",
              "      <td>Decapado</td>\n",
              "      <td>España</td>\n",
              "      <td>NaN</td>\n",
              "      <td>NaN</td>\n",
              "      <td>NaN</td>\n",
              "      <td>NaN</td>\n",
              "    </tr>\n",
              "    <tr>\n",
              "      <th>1</th>\n",
              "      <td>HS-CHGQ_6813</td>\n",
              "      <td>NaN</td>\n",
              "      <td>Turno de mañana</td>\n",
              "      <td>NaN</td>\n",
              "      <td>NaN</td>\n",
              "      <td>45</td>\n",
              "      <td>Incidente</td>\n",
              "      <td>Incidente (no aplica)</td>\n",
              "      <td>NaN</td>\n",
              "      <td>Área de embalado</td>\n",
              "      <td>Asturias</td>\n",
              "      <td>Decapado</td>\n",
              "      <td>España</td>\n",
              "      <td>NaN</td>\n",
              "      <td>NaN</td>\n",
              "      <td>NaN</td>\n",
              "      <td>NaN</td>\n",
              "    </tr>\n",
              "    <tr>\n",
              "      <th>2</th>\n",
              "      <td>HS-CHGQ_6814</td>\n",
              "      <td>NaN</td>\n",
              "      <td>Turno de mañana</td>\n",
              "      <td>NaN</td>\n",
              "      <td>NaN</td>\n",
              "      <td>45</td>\n",
              "      <td>Incidente</td>\n",
              "      <td>Incidente (no aplica)</td>\n",
              "      <td>NaN</td>\n",
              "      <td>Instalaciones exteriores y auxiliares</td>\n",
              "      <td>Asturias</td>\n",
              "      <td>Decapado</td>\n",
              "      <td>España</td>\n",
              "      <td>NaN</td>\n",
              "      <td>NaN</td>\n",
              "      <td>NaN</td>\n",
              "      <td>NaN</td>\n",
              "    </tr>\n",
              "    <tr>\n",
              "      <th>3</th>\n",
              "      <td>HS-CHGQ_6138</td>\n",
              "      <td>NaN</td>\n",
              "      <td>Turno de mañana</td>\n",
              "      <td>NaN</td>\n",
              "      <td>NaN</td>\n",
              "      <td>45</td>\n",
              "      <td>Incidente</td>\n",
              "      <td>Incidente (no aplica)</td>\n",
              "      <td>NaN</td>\n",
              "      <td>Puente Grúa</td>\n",
              "      <td>Asturias</td>\n",
              "      <td>Decapado</td>\n",
              "      <td>España</td>\n",
              "      <td>NaN</td>\n",
              "      <td>NaN</td>\n",
              "      <td>NaN</td>\n",
              "      <td>NaN</td>\n",
              "    </tr>\n",
              "    <tr>\n",
              "      <th>4</th>\n",
              "      <td>HS-CHGQ_6139</td>\n",
              "      <td>NaN</td>\n",
              "      <td>Turno de tarde</td>\n",
              "      <td>NaN</td>\n",
              "      <td>NaN</td>\n",
              "      <td>45</td>\n",
              "      <td>Incidente</td>\n",
              "      <td>Incidente (no aplica)</td>\n",
              "      <td>NaN</td>\n",
              "      <td>Instalaciones exteriores y auxiliares</td>\n",
              "      <td>Asturias</td>\n",
              "      <td>Decapado</td>\n",
              "      <td>España</td>\n",
              "      <td>NaN</td>\n",
              "      <td>NaN</td>\n",
              "      <td>NaN</td>\n",
              "      <td>NaN</td>\n",
              "    </tr>\n",
              "  </tbody>\n",
              "</table>\n",
              "</div>"
            ],
            "text/plain": [
              "  Codigo accidentado  ... Horas Formacion Seguridad ETTs\n",
              "0       HS-CHGQ_6253  ...                            NaN\n",
              "1       HS-CHGQ_6813  ...                            NaN\n",
              "2       HS-CHGQ_6814  ...                            NaN\n",
              "3       HS-CHGQ_6138  ...                            NaN\n",
              "4       HS-CHGQ_6139  ...                            NaN\n",
              "\n",
              "[5 rows x 17 columns]"
            ]
          },
          "metadata": {
            "tags": []
          },
          "execution_count": 73
        }
      ]
    },
    {
      "cell_type": "markdown",
      "metadata": {
        "id": "Y4Xmhhnpcs1x"
      },
      "source": [
        "Now we are going to calculate the proportion in 2020 between people and accidents occur"
      ]
    },
    {
      "cell_type": "code",
      "metadata": {
        "colab": {
          "base_uri": "https://localhost:8080/",
          "height": 236
        },
        "id": "bwOOUyA_cygZ",
        "outputId": "0b7e784b-87bf-4b29-ab3b-ea777cafb0ef"
      },
      "source": [
        "employees = pd.read_csv('Datos_plantilla_fabrica.csv', sep=';')\n",
        "employees = employees[['Año', 'Empleados Propios', 'Empleados Ajenos', 'Empleados ETTS',  'Empleados Subcontrata']]\n",
        "employees = employees.fillna(0)\n",
        "employees = employees.groupby(['Año']).agg('sum')\n",
        "employees.head()"
      ],
      "execution_count": 74,
      "outputs": [
        {
          "output_type": "execute_result",
          "data": {
            "text/html": [
              "<div>\n",
              "<style scoped>\n",
              "    .dataframe tbody tr th:only-of-type {\n",
              "        vertical-align: middle;\n",
              "    }\n",
              "\n",
              "    .dataframe tbody tr th {\n",
              "        vertical-align: top;\n",
              "    }\n",
              "\n",
              "    .dataframe thead th {\n",
              "        text-align: right;\n",
              "    }\n",
              "</style>\n",
              "<table border=\"1\" class=\"dataframe\">\n",
              "  <thead>\n",
              "    <tr style=\"text-align: right;\">\n",
              "      <th></th>\n",
              "      <th>Empleados Propios</th>\n",
              "      <th>Empleados Ajenos</th>\n",
              "      <th>Empleados ETTS</th>\n",
              "      <th>Empleados Subcontrata</th>\n",
              "    </tr>\n",
              "    <tr>\n",
              "      <th>Año</th>\n",
              "      <th></th>\n",
              "      <th></th>\n",
              "      <th></th>\n",
              "      <th></th>\n",
              "    </tr>\n",
              "  </thead>\n",
              "  <tbody>\n",
              "    <tr>\n",
              "      <th>0.0</th>\n",
              "      <td>15754.0</td>\n",
              "      <td>3277.0</td>\n",
              "      <td>2490.0</td>\n",
              "      <td>786.0</td>\n",
              "    </tr>\n",
              "    <tr>\n",
              "      <th>2016.0</th>\n",
              "      <td>40609.0</td>\n",
              "      <td>9160.0</td>\n",
              "      <td>0.0</td>\n",
              "      <td>0.0</td>\n",
              "    </tr>\n",
              "    <tr>\n",
              "      <th>2017.0</th>\n",
              "      <td>43291.0</td>\n",
              "      <td>9794.0</td>\n",
              "      <td>0.0</td>\n",
              "      <td>0.0</td>\n",
              "    </tr>\n",
              "    <tr>\n",
              "      <th>2018.0</th>\n",
              "      <td>49865.0</td>\n",
              "      <td>10973.0</td>\n",
              "      <td>7964.0</td>\n",
              "      <td>2993.0</td>\n",
              "    </tr>\n",
              "    <tr>\n",
              "      <th>2019.0</th>\n",
              "      <td>50625.0</td>\n",
              "      <td>10527.0</td>\n",
              "      <td>7823.0</td>\n",
              "      <td>2697.0</td>\n",
              "    </tr>\n",
              "  </tbody>\n",
              "</table>\n",
              "</div>"
            ],
            "text/plain": [
              "        Empleados Propios  ...  Empleados Subcontrata\n",
              "Año                        ...                       \n",
              "0.0               15754.0  ...                  786.0\n",
              "2016.0            40609.0  ...                    0.0\n",
              "2017.0            43291.0  ...                    0.0\n",
              "2018.0            49865.0  ...                 2993.0\n",
              "2019.0            50625.0  ...                 2697.0\n",
              "\n",
              "[5 rows x 4 columns]"
            ]
          },
          "metadata": {
            "tags": []
          },
          "execution_count": 74
        }
      ]
    },
    {
      "cell_type": "code",
      "metadata": {
        "colab": {
          "base_uri": "https://localhost:8080/",
          "height": 205
        },
        "id": "p8S8gP4cdj19",
        "outputId": "8cc3c210-c2f1-40a4-b321-1a3231769493"
      },
      "source": [
        "accidentes = pd.read_csv('HS_Accidentabilidad.csv', sep=';')\n",
        "accidentes = accidentes[['Año', 'Codigo accidentado']]\n",
        "accidentes = accidentes.groupby('Año').agg('count').reset_index()\n",
        "accidentes.rename(columns={'Codigo accidentado':'Accidentes'}, inplace=True)\n",
        "accidentes.head()"
      ],
      "execution_count": 75,
      "outputs": [
        {
          "output_type": "execute_result",
          "data": {
            "text/html": [
              "<div>\n",
              "<style scoped>\n",
              "    .dataframe tbody tr th:only-of-type {\n",
              "        vertical-align: middle;\n",
              "    }\n",
              "\n",
              "    .dataframe tbody tr th {\n",
              "        vertical-align: top;\n",
              "    }\n",
              "\n",
              "    .dataframe thead th {\n",
              "        text-align: right;\n",
              "    }\n",
              "</style>\n",
              "<table border=\"1\" class=\"dataframe\">\n",
              "  <thead>\n",
              "    <tr style=\"text-align: right;\">\n",
              "      <th></th>\n",
              "      <th>Año</th>\n",
              "      <th>Accidentes</th>\n",
              "    </tr>\n",
              "  </thead>\n",
              "  <tbody>\n",
              "    <tr>\n",
              "      <th>0</th>\n",
              "      <td>2015.0</td>\n",
              "      <td>202</td>\n",
              "    </tr>\n",
              "    <tr>\n",
              "      <th>1</th>\n",
              "      <td>2016.0</td>\n",
              "      <td>1335</td>\n",
              "    </tr>\n",
              "    <tr>\n",
              "      <th>2</th>\n",
              "      <td>2017.0</td>\n",
              "      <td>1203</td>\n",
              "    </tr>\n",
              "    <tr>\n",
              "      <th>3</th>\n",
              "      <td>2018.0</td>\n",
              "      <td>1532</td>\n",
              "    </tr>\n",
              "    <tr>\n",
              "      <th>4</th>\n",
              "      <td>2019.0</td>\n",
              "      <td>1526</td>\n",
              "    </tr>\n",
              "  </tbody>\n",
              "</table>\n",
              "</div>"
            ],
            "text/plain": [
              "      Año  Accidentes\n",
              "0  2015.0         202\n",
              "1  2016.0        1335\n",
              "2  2017.0        1203\n",
              "3  2018.0        1532\n",
              "4  2019.0        1526"
            ]
          },
          "metadata": {
            "tags": []
          },
          "execution_count": 75
        }
      ]
    },
    {
      "cell_type": "code",
      "metadata": {
        "colab": {
          "base_uri": "https://localhost:8080/",
          "height": 205
        },
        "id": "A9r6y_xwdxjn",
        "outputId": "be65bbf0-8a90-4ae3-c42f-8ffd219b9043"
      },
      "source": [
        "employees = employees.merge(accidentes, on='Año', how='inner')\n",
        "employees.head()"
      ],
      "execution_count": 76,
      "outputs": [
        {
          "output_type": "execute_result",
          "data": {
            "text/html": [
              "<div>\n",
              "<style scoped>\n",
              "    .dataframe tbody tr th:only-of-type {\n",
              "        vertical-align: middle;\n",
              "    }\n",
              "\n",
              "    .dataframe tbody tr th {\n",
              "        vertical-align: top;\n",
              "    }\n",
              "\n",
              "    .dataframe thead th {\n",
              "        text-align: right;\n",
              "    }\n",
              "</style>\n",
              "<table border=\"1\" class=\"dataframe\">\n",
              "  <thead>\n",
              "    <tr style=\"text-align: right;\">\n",
              "      <th></th>\n",
              "      <th>Año</th>\n",
              "      <th>Empleados Propios</th>\n",
              "      <th>Empleados Ajenos</th>\n",
              "      <th>Empleados ETTS</th>\n",
              "      <th>Empleados Subcontrata</th>\n",
              "      <th>Accidentes</th>\n",
              "    </tr>\n",
              "  </thead>\n",
              "  <tbody>\n",
              "    <tr>\n",
              "      <th>0</th>\n",
              "      <td>2016.0</td>\n",
              "      <td>40609.0</td>\n",
              "      <td>9160.0</td>\n",
              "      <td>0.0</td>\n",
              "      <td>0.0</td>\n",
              "      <td>1335</td>\n",
              "    </tr>\n",
              "    <tr>\n",
              "      <th>1</th>\n",
              "      <td>2017.0</td>\n",
              "      <td>43291.0</td>\n",
              "      <td>9794.0</td>\n",
              "      <td>0.0</td>\n",
              "      <td>0.0</td>\n",
              "      <td>1203</td>\n",
              "    </tr>\n",
              "    <tr>\n",
              "      <th>2</th>\n",
              "      <td>2018.0</td>\n",
              "      <td>49865.0</td>\n",
              "      <td>10973.0</td>\n",
              "      <td>7964.0</td>\n",
              "      <td>2993.0</td>\n",
              "      <td>1532</td>\n",
              "    </tr>\n",
              "    <tr>\n",
              "      <th>3</th>\n",
              "      <td>2019.0</td>\n",
              "      <td>50625.0</td>\n",
              "      <td>10527.0</td>\n",
              "      <td>7823.0</td>\n",
              "      <td>2697.0</td>\n",
              "      <td>1526</td>\n",
              "    </tr>\n",
              "    <tr>\n",
              "      <th>4</th>\n",
              "      <td>2020.0</td>\n",
              "      <td>65644.0</td>\n",
              "      <td>7114.0</td>\n",
              "      <td>5773.0</td>\n",
              "      <td>1335.0</td>\n",
              "      <td>1122</td>\n",
              "    </tr>\n",
              "  </tbody>\n",
              "</table>\n",
              "</div>"
            ],
            "text/plain": [
              "      Año  Empleados Propios  ...  Empleados Subcontrata  Accidentes\n",
              "0  2016.0            40609.0  ...                    0.0        1335\n",
              "1  2017.0            43291.0  ...                    0.0        1203\n",
              "2  2018.0            49865.0  ...                 2993.0        1532\n",
              "3  2019.0            50625.0  ...                 2697.0        1526\n",
              "4  2020.0            65644.0  ...                 1335.0        1122\n",
              "\n",
              "[5 rows x 6 columns]"
            ]
          },
          "metadata": {
            "tags": []
          },
          "execution_count": 76
        }
      ]
    },
    {
      "cell_type": "code",
      "metadata": {
        "colab": {
          "base_uri": "https://localhost:8080/"
        },
        "id": "hyiYEWhCeT1G",
        "outputId": "deb3067e-d8cd-45c7-e46e-527de2c2f07d"
      },
      "source": [
        "employees.dtypes"
      ],
      "execution_count": 77,
      "outputs": [
        {
          "output_type": "execute_result",
          "data": {
            "text/plain": [
              "Año                      float64\n",
              "Empleados Propios        float64\n",
              "Empleados Ajenos         float64\n",
              "Empleados ETTS           float64\n",
              "Empleados Subcontrata    float64\n",
              "Accidentes                 int64\n",
              "dtype: object"
            ]
          },
          "metadata": {
            "tags": []
          },
          "execution_count": 77
        }
      ]
    },
    {
      "cell_type": "code",
      "metadata": {
        "id": "f_m4PyTsebt8"
      },
      "source": [
        "employees['Total_emp'] = employees['Empleados Propios'] + employees['Empleados Ajenos'] + employees['Empleados ETTS'] + employees['Empleados Subcontrata']"
      ],
      "execution_count": 78,
      "outputs": []
    },
    {
      "cell_type": "code",
      "metadata": {
        "colab": {
          "base_uri": "https://localhost:8080/",
          "height": 205
        },
        "id": "mRNPhfJjetv3",
        "outputId": "c5420075-1fc1-4b6f-e2fb-5210027e0b82"
      },
      "source": [
        "employees = employees[['Año', 'Accidentes', 'Total_emp']]\n",
        "\n",
        "employees['perc_acc'] = employees['Accidentes'] / employees['Total_emp'] * 100\n",
        "employees.head()"
      ],
      "execution_count": 79,
      "outputs": [
        {
          "output_type": "execute_result",
          "data": {
            "text/html": [
              "<div>\n",
              "<style scoped>\n",
              "    .dataframe tbody tr th:only-of-type {\n",
              "        vertical-align: middle;\n",
              "    }\n",
              "\n",
              "    .dataframe tbody tr th {\n",
              "        vertical-align: top;\n",
              "    }\n",
              "\n",
              "    .dataframe thead th {\n",
              "        text-align: right;\n",
              "    }\n",
              "</style>\n",
              "<table border=\"1\" class=\"dataframe\">\n",
              "  <thead>\n",
              "    <tr style=\"text-align: right;\">\n",
              "      <th></th>\n",
              "      <th>Año</th>\n",
              "      <th>Accidentes</th>\n",
              "      <th>Total_emp</th>\n",
              "      <th>perc_acc</th>\n",
              "    </tr>\n",
              "  </thead>\n",
              "  <tbody>\n",
              "    <tr>\n",
              "      <th>0</th>\n",
              "      <td>2016.0</td>\n",
              "      <td>1335</td>\n",
              "      <td>49769.0</td>\n",
              "      <td>2.682393</td>\n",
              "    </tr>\n",
              "    <tr>\n",
              "      <th>1</th>\n",
              "      <td>2017.0</td>\n",
              "      <td>1203</td>\n",
              "      <td>53085.0</td>\n",
              "      <td>2.266177</td>\n",
              "    </tr>\n",
              "    <tr>\n",
              "      <th>2</th>\n",
              "      <td>2018.0</td>\n",
              "      <td>1532</td>\n",
              "      <td>71795.0</td>\n",
              "      <td>2.133853</td>\n",
              "    </tr>\n",
              "    <tr>\n",
              "      <th>3</th>\n",
              "      <td>2019.0</td>\n",
              "      <td>1526</td>\n",
              "      <td>71672.0</td>\n",
              "      <td>2.129144</td>\n",
              "    </tr>\n",
              "    <tr>\n",
              "      <th>4</th>\n",
              "      <td>2020.0</td>\n",
              "      <td>1122</td>\n",
              "      <td>79866.0</td>\n",
              "      <td>1.404853</td>\n",
              "    </tr>\n",
              "  </tbody>\n",
              "</table>\n",
              "</div>"
            ],
            "text/plain": [
              "      Año  Accidentes  Total_emp  perc_acc\n",
              "0  2016.0        1335    49769.0  2.682393\n",
              "1  2017.0        1203    53085.0  2.266177\n",
              "2  2018.0        1532    71795.0  2.133853\n",
              "3  2019.0        1526    71672.0  2.129144\n",
              "4  2020.0        1122    79866.0  1.404853"
            ]
          },
          "metadata": {
            "tags": []
          },
          "execution_count": 79
        }
      ]
    },
    {
      "cell_type": "markdown",
      "metadata": {
        "id": "GAQCk2Ozfla8"
      },
      "source": [
        "For our analysis we are going to suppose we have a year staff, with all people. \n",
        "We would have 79900 people with around 7000 people who have suffered an accident on the past years."
      ]
    },
    {
      "cell_type": "code",
      "metadata": {
        "colab": {
          "base_uri": "https://localhost:8080/"
        },
        "id": "EViQKE4PgK6n",
        "outputId": "ca1a56b3-ef53-4c29-e546-03d3ceb6ca33"
      },
      "source": [
        "len(staff)"
      ],
      "execution_count": 80,
      "outputs": [
        {
          "output_type": "execute_result",
          "data": {
            "text/plain": [
              "4180"
            ]
          },
          "metadata": {
            "tags": []
          },
          "execution_count": 80
        }
      ]
    },
    {
      "cell_type": "code",
      "metadata": {
        "colab": {
          "base_uri": "https://localhost:8080/",
          "height": 395
        },
        "id": "Uu_tlzE2gFl2",
        "outputId": "c6c79b12-62b7-460e-ffb2-b63cb47be59c"
      },
      "source": [
        "#we add a new column to indetify those people who have suffered an accident in our dataset\n",
        "staff['Accident'] = 'Yes'\n",
        "staff.head()"
      ],
      "execution_count": 81,
      "outputs": [
        {
          "output_type": "execute_result",
          "data": {
            "text/html": [
              "<div>\n",
              "<style scoped>\n",
              "    .dataframe tbody tr th:only-of-type {\n",
              "        vertical-align: middle;\n",
              "    }\n",
              "\n",
              "    .dataframe tbody tr th {\n",
              "        vertical-align: top;\n",
              "    }\n",
              "\n",
              "    .dataframe thead th {\n",
              "        text-align: right;\n",
              "    }\n",
              "</style>\n",
              "<table border=\"1\" class=\"dataframe\">\n",
              "  <thead>\n",
              "    <tr style=\"text-align: right;\">\n",
              "      <th></th>\n",
              "      <th>Codigo accidentado</th>\n",
              "      <th>Puesto habitual de trabajo</th>\n",
              "      <th>Turno</th>\n",
              "      <th>Edad</th>\n",
              "      <th>Género</th>\n",
              "      <th>Planta</th>\n",
              "      <th>Tipo accidente</th>\n",
              "      <th>Tipo trabajador</th>\n",
              "      <th>Gravedad potencial</th>\n",
              "      <th>Lugar o seccion accidente</th>\n",
              "      <th>Fabrica</th>\n",
              "      <th>Tecnología</th>\n",
              "      <th>Pais</th>\n",
              "      <th>Horas Presencia Efectiva Subcontratados</th>\n",
              "      <th>Horas Presencia Efectiva ETTs</th>\n",
              "      <th>Horas Formacion Seguridad Propios</th>\n",
              "      <th>Horas Formacion Seguridad ETTs</th>\n",
              "      <th>Accident</th>\n",
              "    </tr>\n",
              "  </thead>\n",
              "  <tbody>\n",
              "    <tr>\n",
              "      <th>0</th>\n",
              "      <td>HS-CHGQ_6253</td>\n",
              "      <td>NaN</td>\n",
              "      <td>Turno de mañana</td>\n",
              "      <td>NaN</td>\n",
              "      <td>NaN</td>\n",
              "      <td>45</td>\n",
              "      <td>Incidente</td>\n",
              "      <td>Incidente (no aplica)</td>\n",
              "      <td>NaN</td>\n",
              "      <td>Almacén producto semielaborado o en producción</td>\n",
              "      <td>Asturias</td>\n",
              "      <td>Decapado</td>\n",
              "      <td>España</td>\n",
              "      <td>NaN</td>\n",
              "      <td>NaN</td>\n",
              "      <td>NaN</td>\n",
              "      <td>NaN</td>\n",
              "      <td>Yes</td>\n",
              "    </tr>\n",
              "    <tr>\n",
              "      <th>1</th>\n",
              "      <td>HS-CHGQ_6813</td>\n",
              "      <td>NaN</td>\n",
              "      <td>Turno de mañana</td>\n",
              "      <td>NaN</td>\n",
              "      <td>NaN</td>\n",
              "      <td>45</td>\n",
              "      <td>Incidente</td>\n",
              "      <td>Incidente (no aplica)</td>\n",
              "      <td>NaN</td>\n",
              "      <td>Área de embalado</td>\n",
              "      <td>Asturias</td>\n",
              "      <td>Decapado</td>\n",
              "      <td>España</td>\n",
              "      <td>NaN</td>\n",
              "      <td>NaN</td>\n",
              "      <td>NaN</td>\n",
              "      <td>NaN</td>\n",
              "      <td>Yes</td>\n",
              "    </tr>\n",
              "    <tr>\n",
              "      <th>2</th>\n",
              "      <td>HS-CHGQ_6814</td>\n",
              "      <td>NaN</td>\n",
              "      <td>Turno de mañana</td>\n",
              "      <td>NaN</td>\n",
              "      <td>NaN</td>\n",
              "      <td>45</td>\n",
              "      <td>Incidente</td>\n",
              "      <td>Incidente (no aplica)</td>\n",
              "      <td>NaN</td>\n",
              "      <td>Instalaciones exteriores y auxiliares</td>\n",
              "      <td>Asturias</td>\n",
              "      <td>Decapado</td>\n",
              "      <td>España</td>\n",
              "      <td>NaN</td>\n",
              "      <td>NaN</td>\n",
              "      <td>NaN</td>\n",
              "      <td>NaN</td>\n",
              "      <td>Yes</td>\n",
              "    </tr>\n",
              "    <tr>\n",
              "      <th>3</th>\n",
              "      <td>HS-CHGQ_6138</td>\n",
              "      <td>NaN</td>\n",
              "      <td>Turno de mañana</td>\n",
              "      <td>NaN</td>\n",
              "      <td>NaN</td>\n",
              "      <td>45</td>\n",
              "      <td>Incidente</td>\n",
              "      <td>Incidente (no aplica)</td>\n",
              "      <td>NaN</td>\n",
              "      <td>Puente Grúa</td>\n",
              "      <td>Asturias</td>\n",
              "      <td>Decapado</td>\n",
              "      <td>España</td>\n",
              "      <td>NaN</td>\n",
              "      <td>NaN</td>\n",
              "      <td>NaN</td>\n",
              "      <td>NaN</td>\n",
              "      <td>Yes</td>\n",
              "    </tr>\n",
              "    <tr>\n",
              "      <th>4</th>\n",
              "      <td>HS-CHGQ_6139</td>\n",
              "      <td>NaN</td>\n",
              "      <td>Turno de tarde</td>\n",
              "      <td>NaN</td>\n",
              "      <td>NaN</td>\n",
              "      <td>45</td>\n",
              "      <td>Incidente</td>\n",
              "      <td>Incidente (no aplica)</td>\n",
              "      <td>NaN</td>\n",
              "      <td>Instalaciones exteriores y auxiliares</td>\n",
              "      <td>Asturias</td>\n",
              "      <td>Decapado</td>\n",
              "      <td>España</td>\n",
              "      <td>NaN</td>\n",
              "      <td>NaN</td>\n",
              "      <td>NaN</td>\n",
              "      <td>NaN</td>\n",
              "      <td>Yes</td>\n",
              "    </tr>\n",
              "  </tbody>\n",
              "</table>\n",
              "</div>"
            ],
            "text/plain": [
              "  Codigo accidentado  ... Accident\n",
              "0       HS-CHGQ_6253  ...      Yes\n",
              "1       HS-CHGQ_6813  ...      Yes\n",
              "2       HS-CHGQ_6814  ...      Yes\n",
              "3       HS-CHGQ_6138  ...      Yes\n",
              "4       HS-CHGQ_6139  ...      Yes\n",
              "\n",
              "[5 rows x 18 columns]"
            ]
          },
          "metadata": {
            "tags": []
          },
          "execution_count": 81
        }
      ]
    },
    {
      "cell_type": "code",
      "metadata": {
        "colab": {
          "base_uri": "https://localhost:8080/"
        },
        "id": "BOluCL_zgY2w",
        "outputId": "e39756ec-cdb1-421a-cf69-bcfd14866382"
      },
      "source": [
        "#plant data we dont have any null values\n",
        "staff['Planta'].unique()"
      ],
      "execution_count": 82,
      "outputs": [
        {
          "output_type": "execute_result",
          "data": {
            "text/plain": [
              "array([45, 30, 15,  4,  2, 20, 32, 25, 43,  5, 26, 33,  7, 53, 12,  1, 14,\n",
              "        6, 41, 55, 34, 29, 13, 19, 28, 16, 36, 35, 54, 27, 57, 56, 18, 44,\n",
              "       63, 46, 47, 84])"
            ]
          },
          "metadata": {
            "tags": []
          },
          "execution_count": 82
        }
      ]
    },
    {
      "cell_type": "code",
      "metadata": {
        "colab": {
          "base_uri": "https://localhost:8080/"
        },
        "id": "RsPbnhW0ggWN",
        "outputId": "b7c8c8c6-c4ea-4748-c46f-db04307373e6"
      },
      "source": [
        "##work position\n",
        "\n",
        "positions = staff['Puesto habitual de trabajo'].unique()\n",
        "len(positions)"
      ],
      "execution_count": 83,
      "outputs": [
        {
          "output_type": "execute_result",
          "data": {
            "text/plain": [
              "794"
            ]
          },
          "metadata": {
            "tags": []
          },
          "execution_count": 83
        }
      ]
    },
    {
      "cell_type": "markdown",
      "metadata": {
        "id": "lZotAqQyu8Dk"
      },
      "source": [
        "As we have 794 positions we are going to get only 50 to generate the random values:"
      ]
    },
    {
      "cell_type": "code",
      "metadata": {
        "colab": {
          "base_uri": "https://localhost:8080/"
        },
        "id": "hg-DW_IwuK1G",
        "outputId": "893f047e-d923-4b0e-9728-3d29c267de66"
      },
      "source": [
        "positions = positions[1:50]\n",
        "positions"
      ],
      "execution_count": 84,
      "outputs": [
        {
          "output_type": "execute_result",
          "data": {
            "text/plain": [
              "array(['Anlagenführer Laser 5',\n",
              "       'Gruista de caldera y limpieza de caldera',\n",
              "       'Gruista de caldera y operadores de limpieza',\n",
              "       'Operadores limpieza de caldera y gruista de caldera',\n",
              "       'Auxiliares de Logistica\\r\\nOperador de Grua Telescopica',\n",
              "       'Embalador 1 (en capacitación)', 'Empaquetador',\n",
              "       'Maschinenbediener/-einrichter Presse 5', 'LONGI009',\n",
              "       'Ninguno de los implicados desempeñaban funciones habituales en la línea donde se produjo el incidente.',\n",
              "       'GRUISTA LONGI004-008+MANTENIMIENTO+MAQUINISTA LONGI008',\n",
              "       'Auxiliar de producción',\n",
              "       'Titular y ayudantes de Perfiladora de Dimeco Perfi012',\n",
              "       'OPERARIOS DE CARGA', 'Maquinista perfiladora',\n",
              "       'GRUISTA DE CALDERA Y OPERARIOS DE LIMPIEZA',\n",
              "       'Embalaje del material en la línea de embalaje, cliente: Hydrapres S.A',\n",
              "       'Gruista y limpieza de caldera', 'Operator / Stacker Operator',\n",
              "       'Maquinista', 'Gruista ácido', 'Carretillero',\n",
              "       'Director Comercial Planta', 'Titular LCL', 'AUXILIAR DE LINEA',\n",
              "       'Flejador-embalador', 'Working on Press',\n",
              "       'Montacarguista (en entrenamiento)', 'Gruista LONGI004 y LONGI008',\n",
              "       'Líder de Logistica y Planeación', 'Operador de Embalagem',\n",
              "       'Operador de Logística', 'Programador', 'Flejador LONGI001',\n",
              "       'Maestro', 'Flejador Línea Corte Prensa I', 'Camionero',\n",
              "       'LINEAS DE CORTE LONGITUDINAL', 'Conductor Tren', 'Lkw-Fahrer',\n",
              "       'Supervisor', 'Cargador/descargador', 'Director de produccción',\n",
              "       'Pontonero', 'plegador', 'MAQUINISTA Y AYUDANTE TRANSVERSAL 4',\n",
              "       'Gruista Almacenes', 'Técnico de Mantenimiento',\n",
              "       'Líneas de Corte Longitudinal'], dtype=object)"
            ]
          },
          "metadata": {
            "tags": []
          },
          "execution_count": 84
        }
      ]
    },
    {
      "cell_type": "code",
      "metadata": {
        "id": "InbOHf9-kMJV"
      },
      "source": [
        "import random\n",
        "import numpy as np \n",
        "\n",
        "staff['wk_position'] = np.random.choice(positions, size=len(staff))"
      ],
      "execution_count": 85,
      "outputs": []
    },
    {
      "cell_type": "code",
      "metadata": {
        "colab": {
          "base_uri": "https://localhost:8080/"
        },
        "id": "w9j1MGl6hwHz",
        "outputId": "10e9ed22-ccc9-4f21-9703-b1def793fd35"
      },
      "source": [
        "staff['wk_position'].unique()"
      ],
      "execution_count": 86,
      "outputs": [
        {
          "output_type": "execute_result",
          "data": {
            "text/plain": [
              "array(['Programador', 'Gruista y limpieza de caldera', 'Gruista ácido',\n",
              "       'Montacarguista (en entrenamiento)',\n",
              "       'Líneas de Corte Longitudinal',\n",
              "       'Operadores limpieza de caldera y gruista de caldera', 'Maestro',\n",
              "       'Maschinenbediener/-einrichter Presse 5', 'Maquinista perfiladora',\n",
              "       'Anlagenführer Laser 5', 'OPERARIOS DE CARGA',\n",
              "       'Gruista de caldera y limpieza de caldera', 'Cargador/descargador',\n",
              "       'Flejador Línea Corte Prensa I', 'Líder de Logistica y Planeación',\n",
              "       'Working on Press', 'Gruista Almacenes', 'Conductor Tren',\n",
              "       'Ninguno de los implicados desempeñaban funciones habituales en la línea donde se produjo el incidente.',\n",
              "       'Maquinista', 'Flejador-embalador',\n",
              "       'Gruista de caldera y operadores de limpieza',\n",
              "       'Gruista LONGI004 y LONGI008',\n",
              "       'MAQUINISTA Y AYUDANTE TRANSVERSAL 4',\n",
              "       'GRUISTA LONGI004-008+MANTENIMIENTO+MAQUINISTA LONGI008',\n",
              "       'Flejador LONGI001', 'Camionero', 'Supervisor',\n",
              "       'Director Comercial Planta', 'Embalador 1 (en capacitación)',\n",
              "       'LINEAS DE CORTE LONGITUDINAL', 'plegador', 'Titular LCL',\n",
              "       'Carretillero',\n",
              "       'Embalaje del material en la línea de embalaje, cliente: Hydrapres S.A',\n",
              "       'AUXILIAR DE LINEA', 'Pontonero', 'Lkw-Fahrer', 'LONGI009',\n",
              "       'Director de produccción', 'Operador de Logística',\n",
              "       'Auxiliar de producción', 'Empaquetador',\n",
              "       'Operator / Stacker Operator',\n",
              "       'Auxiliares de Logistica\\r\\nOperador de Grua Telescopica',\n",
              "       'Técnico de Mantenimiento',\n",
              "       'GRUISTA DE CALDERA Y OPERARIOS DE LIMPIEZA',\n",
              "       'Titular y ayudantes de Perfiladora de Dimeco Perfi012',\n",
              "       'Operador de Embalagem'], dtype=object)"
            ]
          },
          "metadata": {
            "tags": []
          },
          "execution_count": 86
        }
      ]
    },
    {
      "cell_type": "code",
      "metadata": {
        "id": "S_rVpEjurIC0"
      },
      "source": [
        "staff.drop(columns={'Puesto habitual de trabajo'}, inplace=True)"
      ],
      "execution_count": 87,
      "outputs": []
    },
    {
      "cell_type": "code",
      "metadata": {
        "id": "fi_sEKJVgtPT"
      },
      "source": [
        "#gender\n",
        "\n",
        "staff.rename(columns={'Género':'Gender'}, inplace=True)\n"
      ],
      "execution_count": 88,
      "outputs": []
    },
    {
      "cell_type": "code",
      "metadata": {
        "colab": {
          "base_uri": "https://localhost:8080/"
        },
        "id": "ClWWt7J0q7ct",
        "outputId": "77540b8f-9aca-4cf1-ebeb-28ba1a794dcb"
      },
      "source": [
        "staff['Gender'].unique()"
      ],
      "execution_count": 89,
      "outputs": [
        {
          "output_type": "execute_result",
          "data": {
            "text/plain": [
              "array([nan, 'Hombre', 'Mujer'], dtype=object)"
            ]
          },
          "metadata": {
            "tags": []
          },
          "execution_count": 89
        }
      ]
    },
    {
      "cell_type": "code",
      "metadata": {
        "id": "q40fmLfHrRtY"
      },
      "source": [
        "staff['Gender'] = staff['Gender'].fillna('Hombre')"
      ],
      "execution_count": 90,
      "outputs": []
    },
    {
      "cell_type": "code",
      "metadata": {
        "colab": {
          "base_uri": "https://localhost:8080/"
        },
        "id": "TYtAeC8_rvBV",
        "outputId": "38dfa222-b675-4ef0-c845-62cfc0f18baa"
      },
      "source": [
        "len(staff[staff['Gender'].isnull()])"
      ],
      "execution_count": 91,
      "outputs": [
        {
          "output_type": "execute_result",
          "data": {
            "text/plain": [
              "0"
            ]
          },
          "metadata": {
            "tags": []
          },
          "execution_count": 91
        }
      ]
    },
    {
      "cell_type": "code",
      "metadata": {
        "id": "vcpecFlvtJCw",
        "colab": {
          "base_uri": "https://localhost:8080/"
        },
        "outputId": "40d7d045-83b1-479e-9028-927b5150e8f4"
      },
      "source": [
        "staff['Gender'].unique()"
      ],
      "execution_count": 92,
      "outputs": [
        {
          "output_type": "execute_result",
          "data": {
            "text/plain": [
              "array(['Hombre', 'Mujer'], dtype=object)"
            ]
          },
          "metadata": {
            "tags": []
          },
          "execution_count": 92
        }
      ]
    },
    {
      "cell_type": "markdown",
      "metadata": {
        "id": "On0qind9Q7vT"
      },
      "source": [
        "Checking if we have null values in turno"
      ]
    },
    {
      "cell_type": "code",
      "metadata": {
        "colab": {
          "base_uri": "https://localhost:8080/"
        },
        "id": "5mgU0fRMQtMk",
        "outputId": "3c3e5e9b-7863-44fe-817b-f008ad2b6e6f"
      },
      "source": [
        "staff.Turno.isnull().any()"
      ],
      "execution_count": 93,
      "outputs": [
        {
          "output_type": "execute_result",
          "data": {
            "text/plain": [
              "False"
            ]
          },
          "metadata": {
            "tags": []
          },
          "execution_count": 93
        }
      ]
    },
    {
      "cell_type": "markdown",
      "metadata": {
        "id": "xMtW2ta4RLKn"
      },
      "source": [
        "Checking for nulls in age:\n",
        "\n",
        "As we have null values we are goign to reassing the age range based on the proportion of the tables we hav analyzed"
      ]
    },
    {
      "cell_type": "code",
      "metadata": {
        "colab": {
          "base_uri": "https://localhost:8080/"
        },
        "id": "VfoOTxnNRFqQ",
        "outputId": "1ea4b899-ee75-4706-c4ba-10a115fc792d"
      },
      "source": [
        "staff.Edad.isnull().any()"
      ],
      "execution_count": 94,
      "outputs": [
        {
          "output_type": "execute_result",
          "data": {
            "text/plain": [
              "True"
            ]
          },
          "metadata": {
            "tags": []
          },
          "execution_count": 94
        }
      ]
    },
    {
      "cell_type": "code",
      "metadata": {
        "colab": {
          "base_uri": "https://localhost:8080/"
        },
        "id": "2vsQ-xouRN5u",
        "outputId": "c11ed5bf-c532-4ee3-8b66-6f82c7fc6d34"
      },
      "source": [
        "len(staff[staff.Edad.isnull()])"
      ],
      "execution_count": 95,
      "outputs": [
        {
          "output_type": "execute_result",
          "data": {
            "text/plain": [
              "1855"
            ]
          },
          "metadata": {
            "tags": []
          },
          "execution_count": 95
        }
      ]
    },
    {
      "cell_type": "code",
      "metadata": {
        "id": "FrNrlUx9TAk3"
      },
      "source": [
        "rangos_edad = ['Menor 30', 'Entre 30-50', 'Mayor 50']\n",
        "weights = {'Hombre':[0.2, 0.44, 0.36], 'Mujer':[0.2,0.55,0.25]}"
      ],
      "execution_count": 96,
      "outputs": []
    },
    {
      "cell_type": "code",
      "metadata": {
        "id": "c4hqSPXrTWYv"
      },
      "source": [
        "np.random.seed(0)\n",
        "\n",
        "def apply_randoms(x):\n",
        "  key = x['Gender'].iat[0]\n",
        "  return pd.Series(np.random.choice(rangos_edad, size=len(x), p=weights[key]))"
      ],
      "execution_count": 97,
      "outputs": []
    },
    {
      "cell_type": "code",
      "metadata": {
        "id": "xo_dqWllTmdP"
      },
      "source": [
        "staff['Age'] = staff.groupby('Gender').apply(apply_randoms)\\\n",
        "       .rename('Age').reset_index().drop('level_1', 1)['Age']"
      ],
      "execution_count": 98,
      "outputs": []
    },
    {
      "cell_type": "code",
      "metadata": {
        "id": "a0IPi-T0Vr75"
      },
      "source": [
        "staff.drop(columns={'Edad'}, inplace=True)"
      ],
      "execution_count": 99,
      "outputs": []
    },
    {
      "cell_type": "markdown",
      "metadata": {
        "id": "cTtN_YqqWBxD"
      },
      "source": [
        "Checking is there is any row with null at type of accident"
      ]
    },
    {
      "cell_type": "code",
      "metadata": {
        "colab": {
          "base_uri": "https://localhost:8080/"
        },
        "id": "P1Nsvpr4V8nS",
        "outputId": "4863c7f7-e58a-4df6-fd79-4a07a655c60e"
      },
      "source": [
        "staff['Tipo accidente'].isnull().any()"
      ],
      "execution_count": 100,
      "outputs": [
        {
          "output_type": "execute_result",
          "data": {
            "text/plain": [
              "False"
            ]
          },
          "metadata": {
            "tags": []
          },
          "execution_count": 100
        }
      ]
    },
    {
      "cell_type": "markdown",
      "metadata": {
        "id": "TG3K4TseWNM0"
      },
      "source": [
        "Worker type have null values at some rows"
      ]
    },
    {
      "cell_type": "code",
      "metadata": {
        "colab": {
          "base_uri": "https://localhost:8080/"
        },
        "id": "60IWQzzvV6Ak",
        "outputId": "c0cf93fb-2ad1-48e1-a949-33929c684ff1"
      },
      "source": [
        "staff['Tipo trabajador'].isnull().any()"
      ],
      "execution_count": 101,
      "outputs": [
        {
          "output_type": "execute_result",
          "data": {
            "text/plain": [
              "True"
            ]
          },
          "metadata": {
            "tags": []
          },
          "execution_count": 101
        }
      ]
    },
    {
      "cell_type": "code",
      "metadata": {
        "colab": {
          "base_uri": "https://localhost:8080/"
        },
        "id": "etiwpbahWeo6",
        "outputId": "6c0787d8-f5e2-4358-8cbe-a889340b618c"
      },
      "source": [
        "staff['Tipo trabajador'].unique()"
      ],
      "execution_count": 102,
      "outputs": [
        {
          "output_type": "execute_result",
          "data": {
            "text/plain": [
              "array(['Incidente (no aplica)', 'ETT', 'Indefinido', 'Subcontratado',\n",
              "       'Duración Determinada', 'Prácticas', nan,\n",
              "       'Cedidos de otras plantas', 'No aplica', 'Indefinido con preaviso'],\n",
              "      dtype=object)"
            ]
          },
          "metadata": {
            "tags": []
          },
          "execution_count": 102
        }
      ]
    },
    {
      "cell_type": "code",
      "metadata": {
        "colab": {
          "base_uri": "https://localhost:8080/",
          "height": 215
        },
        "id": "1U8ShHwkWitG",
        "outputId": "da8140a1-acaa-4fef-dce7-de449abccafb"
      },
      "source": [
        "staff[staff['Tipo trabajador'].isnull()] #As we only have two values null we are going to assign directly 'Indefinido'"
      ],
      "execution_count": 103,
      "outputs": [
        {
          "output_type": "execute_result",
          "data": {
            "text/html": [
              "<div>\n",
              "<style scoped>\n",
              "    .dataframe tbody tr th:only-of-type {\n",
              "        vertical-align: middle;\n",
              "    }\n",
              "\n",
              "    .dataframe tbody tr th {\n",
              "        vertical-align: top;\n",
              "    }\n",
              "\n",
              "    .dataframe thead th {\n",
              "        text-align: right;\n",
              "    }\n",
              "</style>\n",
              "<table border=\"1\" class=\"dataframe\">\n",
              "  <thead>\n",
              "    <tr style=\"text-align: right;\">\n",
              "      <th></th>\n",
              "      <th>Codigo accidentado</th>\n",
              "      <th>Turno</th>\n",
              "      <th>Gender</th>\n",
              "      <th>Planta</th>\n",
              "      <th>Tipo accidente</th>\n",
              "      <th>Tipo trabajador</th>\n",
              "      <th>Gravedad potencial</th>\n",
              "      <th>Lugar o seccion accidente</th>\n",
              "      <th>Fabrica</th>\n",
              "      <th>Tecnología</th>\n",
              "      <th>Pais</th>\n",
              "      <th>Horas Presencia Efectiva Subcontratados</th>\n",
              "      <th>Horas Presencia Efectiva ETTs</th>\n",
              "      <th>Horas Formacion Seguridad Propios</th>\n",
              "      <th>Horas Formacion Seguridad ETTs</th>\n",
              "      <th>Accident</th>\n",
              "      <th>wk_position</th>\n",
              "      <th>Age</th>\n",
              "    </tr>\n",
              "  </thead>\n",
              "  <tbody>\n",
              "    <tr>\n",
              "      <th>2831</th>\n",
              "      <td>HS-NVRR_8597</td>\n",
              "      <td>Turno de mañana</td>\n",
              "      <td>Hombre</td>\n",
              "      <td>13</td>\n",
              "      <td>Incidente</td>\n",
              "      <td>NaN</td>\n",
              "      <td>Leve</td>\n",
              "      <td>Carretilla</td>\n",
              "      <td>Burgos</td>\n",
              "      <td>Blanking</td>\n",
              "      <td>España</td>\n",
              "      <td>25249.0</td>\n",
              "      <td>42485.0</td>\n",
              "      <td>1419.0</td>\n",
              "      <td>829.0</td>\n",
              "      <td>Yes</td>\n",
              "      <td>MAQUINISTA Y AYUDANTE TRANSVERSAL 4</td>\n",
              "      <td>Menor 30</td>\n",
              "    </tr>\n",
              "    <tr>\n",
              "      <th>2832</th>\n",
              "      <td>HS-NVRR_8598</td>\n",
              "      <td>Turno de mañana</td>\n",
              "      <td>Hombre</td>\n",
              "      <td>13</td>\n",
              "      <td>Incidente</td>\n",
              "      <td>NaN</td>\n",
              "      <td>Leve</td>\n",
              "      <td>Carretilla</td>\n",
              "      <td>Burgos</td>\n",
              "      <td>Blanking</td>\n",
              "      <td>España</td>\n",
              "      <td>25249.0</td>\n",
              "      <td>42485.0</td>\n",
              "      <td>1419.0</td>\n",
              "      <td>829.0</td>\n",
              "      <td>Yes</td>\n",
              "      <td>Montacarguista (en entrenamiento)</td>\n",
              "      <td>Mayor 50</td>\n",
              "    </tr>\n",
              "  </tbody>\n",
              "</table>\n",
              "</div>"
            ],
            "text/plain": [
              "     Codigo accidentado  ...       Age\n",
              "2831       HS-NVRR_8597  ...  Menor 30\n",
              "2832       HS-NVRR_8598  ...  Mayor 50\n",
              "\n",
              "[2 rows x 18 columns]"
            ]
          },
          "metadata": {
            "tags": []
          },
          "execution_count": 103
        }
      ]
    },
    {
      "cell_type": "code",
      "metadata": {
        "id": "YWHUxreCWziC"
      },
      "source": [
        "staff['Tipo trabajador'] = staff['Tipo trabajador'].fillna('Indefinido')"
      ],
      "execution_count": 104,
      "outputs": []
    },
    {
      "cell_type": "code",
      "metadata": {
        "colab": {
          "base_uri": "https://localhost:8080/"
        },
        "id": "rO8DKxDoW5pT",
        "outputId": "ffc67af4-db19-4837-a040-f462c33d9af2"
      },
      "source": [
        "staff['Tipo trabajador'].isnull().any()"
      ],
      "execution_count": 105,
      "outputs": [
        {
          "output_type": "execute_result",
          "data": {
            "text/plain": [
              "False"
            ]
          },
          "metadata": {
            "tags": []
          },
          "execution_count": 105
        }
      ]
    },
    {
      "cell_type": "markdown",
      "metadata": {
        "id": "ybuCX7ewW-ki"
      },
      "source": [
        "Potential Severity columns has null values as well"
      ]
    },
    {
      "cell_type": "code",
      "metadata": {
        "colab": {
          "base_uri": "https://localhost:8080/"
        },
        "id": "vC75AR5RW7o4",
        "outputId": "c3ab41f8-9ae8-452b-ee61-2705a1db5795"
      },
      "source": [
        "staff[staff['Accident']=='Yes']['Gravedad potencial'].isnull().any()"
      ],
      "execution_count": 106,
      "outputs": [
        {
          "output_type": "execute_result",
          "data": {
            "text/plain": [
              "True"
            ]
          },
          "metadata": {
            "tags": []
          },
          "execution_count": 106
        }
      ]
    },
    {
      "cell_type": "code",
      "metadata": {
        "colab": {
          "base_uri": "https://localhost:8080/"
        },
        "id": "ssjB5QElXES6",
        "outputId": "28216a2e-760c-453d-dbb8-67c321186515"
      },
      "source": [
        "len(staff[(staff['Gravedad potencial'].isnull()) & (staff['Accident']=='Yes')])"
      ],
      "execution_count": 107,
      "outputs": [
        {
          "output_type": "execute_result",
          "data": {
            "text/plain": [
              "1009"
            ]
          },
          "metadata": {
            "tags": []
          },
          "execution_count": 107
        }
      ]
    },
    {
      "cell_type": "code",
      "metadata": {
        "id": "O_4-3_RqXLlo"
      },
      "source": [
        "## we are going to assign it randomly\n",
        "staff['Gravedad potencial'].unique()\n",
        "severity = ['Muy grave', 'Leve', 'Grave']"
      ],
      "execution_count": 108,
      "outputs": []
    },
    {
      "cell_type": "code",
      "metadata": {
        "id": "vzT-nAysXaWy"
      },
      "source": [
        "for i in staff['Gravedad potencial']:\n",
        "\n",
        "  if str(i) == 'nan':\n",
        "    staff['Severity'] = np.random.choice(severity, size=len(staff))\n",
        "  else:\n",
        "    staff['Severity'] = i\n"
      ],
      "execution_count": 109,
      "outputs": []
    },
    {
      "cell_type": "code",
      "metadata": {
        "colab": {
          "base_uri": "https://localhost:8080/"
        },
        "id": "0fFOxJE5YipI",
        "outputId": "ab2e7c6f-8f57-436f-fb26-a57b2f9ec0d5"
      },
      "source": [
        "staff['Severity'].isnull().any()"
      ],
      "execution_count": 110,
      "outputs": [
        {
          "output_type": "execute_result",
          "data": {
            "text/plain": [
              "False"
            ]
          },
          "metadata": {
            "tags": []
          },
          "execution_count": 110
        }
      ]
    },
    {
      "cell_type": "code",
      "metadata": {
        "colab": {
          "base_uri": "https://localhost:8080/"
        },
        "id": "gefUfwVkYlKe",
        "outputId": "89be97ac-c71a-4df3-ad85-62fc6ee7c684"
      },
      "source": [
        "staff['Severity'].unique()"
      ],
      "execution_count": 111,
      "outputs": [
        {
          "output_type": "execute_result",
          "data": {
            "text/plain": [
              "array(['Leve', 'Muy grave', 'Grave'], dtype=object)"
            ]
          },
          "metadata": {
            "tags": []
          },
          "execution_count": 111
        }
      ]
    },
    {
      "cell_type": "code",
      "metadata": {
        "id": "NtBRkmeiZVnN"
      },
      "source": [
        "staff.drop(columns={'Gravedad potencial'}, inplace=True)"
      ],
      "execution_count": 112,
      "outputs": []
    },
    {
      "cell_type": "code",
      "metadata": {
        "colab": {
          "base_uri": "https://localhost:8080/"
        },
        "id": "Tl_lLlotbBSP",
        "outputId": "935cdbb9-3a83-4739-ea72-0fb217e3567a"
      },
      "source": [
        "staff['Severity'].isnull().any()"
      ],
      "execution_count": 113,
      "outputs": [
        {
          "output_type": "execute_result",
          "data": {
            "text/plain": [
              "False"
            ]
          },
          "metadata": {
            "tags": []
          },
          "execution_count": 113
        }
      ]
    },
    {
      "cell_type": "markdown",
      "metadata": {
        "id": "sibFbBZeYoPq"
      },
      "source": [
        "Aciccent's place/section"
      ]
    },
    {
      "cell_type": "code",
      "metadata": {
        "colab": {
          "base_uri": "https://localhost:8080/"
        },
        "id": "aobbvPbFYoiO",
        "outputId": "1d327184-b223-4c50-aaf9-9822d30e95b9"
      },
      "source": [
        "staff['Lugar o seccion accidente'].isnull().any()"
      ],
      "execution_count": 114,
      "outputs": [
        {
          "output_type": "execute_result",
          "data": {
            "text/plain": [
              "True"
            ]
          },
          "metadata": {
            "tags": []
          },
          "execution_count": 114
        }
      ]
    },
    {
      "cell_type": "code",
      "metadata": {
        "colab": {
          "base_uri": "https://localhost:8080/"
        },
        "id": "ahjhHbcGYwG1",
        "outputId": "1bbdca76-5d44-45ca-ee6d-a822402d0c8b"
      },
      "source": [
        "len(staff[staff['Lugar o seccion accidente'].isnull()])"
      ],
      "execution_count": 115,
      "outputs": [
        {
          "output_type": "execute_result",
          "data": {
            "text/plain": [
              "63"
            ]
          },
          "metadata": {
            "tags": []
          },
          "execution_count": 115
        }
      ]
    },
    {
      "cell_type": "code",
      "metadata": {
        "colab": {
          "base_uri": "https://localhost:8080/"
        },
        "id": "q2vSNBsDY3u_",
        "outputId": "7c56f94f-6ec3-4fbe-9413-05ade37494a5"
      },
      "source": [
        "staff['Lugar o seccion accidente'].unique()"
      ],
      "execution_count": 116,
      "outputs": [
        {
          "output_type": "execute_result",
          "data": {
            "text/plain": [
              "array(['Almacén producto semielaborado o en producción',\n",
              "       'Área de embalado', 'Instalaciones exteriores y auxiliares',\n",
              "       'Puente Grúa', 'Corte Láser 3D', 'Galvanizado Inmersión',\n",
              "       'Decapado', 'Blanking', 'Corte Transversal', 'Corte Longitudinal',\n",
              "       'Almacén de Materia Prima', 'Perfiles abiertos', 'Cizalla',\n",
              "       'Almacén de Producto Terminado', 'Tubos',\n",
              "       'Oficinas administrativas', 'Prensa', 'Maquinaria Auxiliar',\n",
              "       'Galvanizado continuo', 'Mantenimiento', 'Almacen de recambios',\n",
              "       'Carretilla', 'Células Soldadura', 'Carpinteria', nan,\n",
              "       'Corte Plasma', 'Corte Láser', 'Almacen productos quimicos',\n",
              "       'Sierra', 'Punzonado', 'Soldadura Manual', 'Limpieza/Prepintado',\n",
              "       'Perforado', 'Coil to Coil', 'Galvanizado ', 'Electrozincado',\n",
              "       'Pintura', 'Tailor Welding', 'Galvanizado', 'General / Auxiliar',\n",
              "       'Perfilado de barrera y postes', 'Skinpass', 'Slitting ',\n",
              "       'General', 'Press Blanking', 'Ablation Line', 'Laminado',\n",
              "       'Slitting', 'D-Ring Line', 'Multi Strand'], dtype=object)"
            ]
          },
          "metadata": {
            "tags": []
          },
          "execution_count": 116
        }
      ]
    },
    {
      "cell_type": "code",
      "metadata": {
        "id": "1_CNhHvuY7Xb"
      },
      "source": [
        "place_acc = ['Células Soldadura', 'Tubos', 'Almacén de Producto Terminado',\n",
        "       'Blanking', 'Corte Longitudinal', 'Corte Transversal',\n",
        "       'Almacén de Materia Prima', 'Cizalla', 'Decapado', 'Puente Grúa',\n",
        "       'Carpinteria', 'Galvanizado Inmersión',  'Maquinaria Auxiliar',\n",
        "       'Corte Plasma', 'Perfiles abiertos', 'Corte Láser',\n",
        "       'Almacen productos quimicos', 'Corte Láser 3D',\n",
        "       'Instalaciones exteriores y auxiliares', 'Mantenimiento', 'Prensa',\n",
        "       'Almacén producto semielaborado o en producción', 'Carretilla',\n",
        "       'Sierra', 'Oficinas administrativas', 'Área de embalado',\n",
        "       'Punzonado', 'Soldadura Manual', 'Limpieza/Prepintado',\n",
        "       'Galvanizado continuo', 'Perforado', 'Coil to Coil',\n",
        "       'Tailor Welding', 'Galvanizado ', 'Almacen de recambios',\n",
        "       'Galvanizado', 'Electrozincado', 'Pintura', 'General / Auxiliar',\n",
        "       'Perfilado de barrera y postes', 'Skinpass', 'Slitting ',\n",
        "       'General', 'Press Blanking', 'Laminado', 'Ablation Line',\n",
        "       'Slitting', 'D-Ring Line', 'Multi Strand']"
      ],
      "execution_count": 117,
      "outputs": []
    },
    {
      "cell_type": "code",
      "metadata": {
        "id": "FiKK_r8rZCP7"
      },
      "source": [
        "for i in staff['Lugar o seccion accidente']:\n",
        "\n",
        "  if str(i) == 'nan':\n",
        "    staff['Accident_place'] = np.random.choice(place_acc, size=len(staff))\n",
        "  else:\n",
        "    staff['Accident_place'] = i"
      ],
      "execution_count": 118,
      "outputs": []
    },
    {
      "cell_type": "code",
      "metadata": {
        "colab": {
          "base_uri": "https://localhost:8080/"
        },
        "id": "_tOXAMrtZK6s",
        "outputId": "704504be-fb90-4f64-cd79-62aa567fa14d"
      },
      "source": [
        "staff['Accident_place'].isnull().any()"
      ],
      "execution_count": 119,
      "outputs": [
        {
          "output_type": "execute_result",
          "data": {
            "text/plain": [
              "False"
            ]
          },
          "metadata": {
            "tags": []
          },
          "execution_count": 119
        }
      ]
    },
    {
      "cell_type": "code",
      "metadata": {
        "id": "jRwSx7dnZPOb"
      },
      "source": [
        "staff.drop(columns={'Lugar o seccion accidente'}, inplace=True)"
      ],
      "execution_count": 120,
      "outputs": []
    },
    {
      "cell_type": "markdown",
      "metadata": {
        "id": "YsUVAcDlZg6-"
      },
      "source": [
        "There arent any null values in Fabric column, technology and country fields are from fabric so the will be filled as well"
      ]
    },
    {
      "cell_type": "code",
      "metadata": {
        "colab": {
          "base_uri": "https://localhost:8080/"
        },
        "id": "g5x_ldO5Zipl",
        "outputId": "39875b8b-36f0-4b65-c33b-7bdb0cd74268"
      },
      "source": [
        "staff['Fabrica'].isnull().any()"
      ],
      "execution_count": 121,
      "outputs": [
        {
          "output_type": "execute_result",
          "data": {
            "text/plain": [
              "False"
            ]
          },
          "metadata": {
            "tags": []
          },
          "execution_count": 121
        }
      ]
    },
    {
      "cell_type": "markdown",
      "metadata": {
        "id": "AmJ8A8IZZ04t"
      },
      "source": [
        "Now we are going to check the columns of efective presence hours"
      ]
    },
    {
      "cell_type": "code",
      "metadata": {
        "colab": {
          "base_uri": "https://localhost:8080/"
        },
        "id": "-oDdy55OZxBP",
        "outputId": "4a1e1401-caca-4725-bdc7-165ec81791f6"
      },
      "source": [
        "staff['Horas Presencia Efectiva Subcontratados'].isnull().any()"
      ],
      "execution_count": 122,
      "outputs": [
        {
          "output_type": "execute_result",
          "data": {
            "text/plain": [
              "True"
            ]
          },
          "metadata": {
            "tags": []
          },
          "execution_count": 122
        }
      ]
    },
    {
      "cell_type": "code",
      "metadata": {
        "id": "33VchKwnD8Qf"
      },
      "source": [
        "staff['Horas Presencia Efectiva Subcontratados'] = staff['Horas Presencia Efectiva Subcontratados'].fillna(0)"
      ],
      "execution_count": 123,
      "outputs": []
    },
    {
      "cell_type": "code",
      "metadata": {
        "colab": {
          "base_uri": "https://localhost:8080/"
        },
        "id": "s2A5wluPZ_p2",
        "outputId": "0d5fa716-2d26-48bd-eb4e-5c0ffd42bfd2"
      },
      "source": [
        "staff['Horas Presencia Efectiva ETTs'].isnull().any()"
      ],
      "execution_count": 124,
      "outputs": [
        {
          "output_type": "execute_result",
          "data": {
            "text/plain": [
              "True"
            ]
          },
          "metadata": {
            "tags": []
          },
          "execution_count": 124
        }
      ]
    },
    {
      "cell_type": "code",
      "metadata": {
        "id": "fGJDdW2bD-uf"
      },
      "source": [
        "staff['Horas Presencia Efectiva ETTs'] = staff['Horas Presencia Efectiva ETTs'].fillna(0)"
      ],
      "execution_count": 125,
      "outputs": []
    },
    {
      "cell_type": "code",
      "metadata": {
        "colab": {
          "base_uri": "https://localhost:8080/"
        },
        "id": "K9tsFwMcZ_yp",
        "outputId": "c17654b4-5157-4012-bb60-d7e28edb24e7"
      },
      "source": [
        "staff['Horas Formacion Seguridad Propios'].isnull().any()"
      ],
      "execution_count": 126,
      "outputs": [
        {
          "output_type": "execute_result",
          "data": {
            "text/plain": [
              "True"
            ]
          },
          "metadata": {
            "tags": []
          },
          "execution_count": 126
        }
      ]
    },
    {
      "cell_type": "code",
      "metadata": {
        "id": "uJheuZRdEA7v"
      },
      "source": [
        "staff['Horas Formacion Seguridad Propios'] = staff['Horas Formacion Seguridad Propios'].fillna(0)"
      ],
      "execution_count": 127,
      "outputs": []
    },
    {
      "cell_type": "code",
      "metadata": {
        "colab": {
          "base_uri": "https://localhost:8080/"
        },
        "id": "fw6NRZcRaADR",
        "outputId": "d42cb053-d1ef-496b-de1e-b7544cd1c885"
      },
      "source": [
        "staff['Horas Formacion Seguridad ETTs'].isnull().any()"
      ],
      "execution_count": 128,
      "outputs": [
        {
          "output_type": "execute_result",
          "data": {
            "text/plain": [
              "True"
            ]
          },
          "metadata": {
            "tags": []
          },
          "execution_count": 128
        }
      ]
    },
    {
      "cell_type": "code",
      "metadata": {
        "id": "BBMwhcoaEEWq"
      },
      "source": [
        "staff['Horas Formacion Seguridad ETTs'] = staff['Horas Formacion Seguridad ETTs'].fillna(0)"
      ],
      "execution_count": 129,
      "outputs": []
    },
    {
      "cell_type": "code",
      "metadata": {
        "colab": {
          "base_uri": "https://localhost:8080/",
          "height": 395
        },
        "id": "0kt3Tb2DQ_5a",
        "outputId": "71758e2d-375f-4d37-bfcb-21ee7c95c572"
      },
      "source": [
        "staff.head()"
      ],
      "execution_count": 130,
      "outputs": [
        {
          "output_type": "execute_result",
          "data": {
            "text/html": [
              "<div>\n",
              "<style scoped>\n",
              "    .dataframe tbody tr th:only-of-type {\n",
              "        vertical-align: middle;\n",
              "    }\n",
              "\n",
              "    .dataframe tbody tr th {\n",
              "        vertical-align: top;\n",
              "    }\n",
              "\n",
              "    .dataframe thead th {\n",
              "        text-align: right;\n",
              "    }\n",
              "</style>\n",
              "<table border=\"1\" class=\"dataframe\">\n",
              "  <thead>\n",
              "    <tr style=\"text-align: right;\">\n",
              "      <th></th>\n",
              "      <th>Codigo accidentado</th>\n",
              "      <th>Turno</th>\n",
              "      <th>Gender</th>\n",
              "      <th>Planta</th>\n",
              "      <th>Tipo accidente</th>\n",
              "      <th>Tipo trabajador</th>\n",
              "      <th>Fabrica</th>\n",
              "      <th>Tecnología</th>\n",
              "      <th>Pais</th>\n",
              "      <th>Horas Presencia Efectiva Subcontratados</th>\n",
              "      <th>Horas Presencia Efectiva ETTs</th>\n",
              "      <th>Horas Formacion Seguridad Propios</th>\n",
              "      <th>Horas Formacion Seguridad ETTs</th>\n",
              "      <th>Accident</th>\n",
              "      <th>wk_position</th>\n",
              "      <th>Age</th>\n",
              "      <th>Severity</th>\n",
              "      <th>Accident_place</th>\n",
              "    </tr>\n",
              "  </thead>\n",
              "  <tbody>\n",
              "    <tr>\n",
              "      <th>0</th>\n",
              "      <td>HS-CHGQ_6253</td>\n",
              "      <td>Turno de mañana</td>\n",
              "      <td>Hombre</td>\n",
              "      <td>45</td>\n",
              "      <td>Incidente</td>\n",
              "      <td>Incidente (no aplica)</td>\n",
              "      <td>Asturias</td>\n",
              "      <td>Decapado</td>\n",
              "      <td>España</td>\n",
              "      <td>0.0</td>\n",
              "      <td>0.0</td>\n",
              "      <td>0.0</td>\n",
              "      <td>0.0</td>\n",
              "      <td>Yes</td>\n",
              "      <td>Programador</td>\n",
              "      <td>Entre 30-50</td>\n",
              "      <td>Leve</td>\n",
              "      <td>Mantenimiento</td>\n",
              "    </tr>\n",
              "    <tr>\n",
              "      <th>1</th>\n",
              "      <td>HS-CHGQ_6813</td>\n",
              "      <td>Turno de mañana</td>\n",
              "      <td>Hombre</td>\n",
              "      <td>45</td>\n",
              "      <td>Incidente</td>\n",
              "      <td>Incidente (no aplica)</td>\n",
              "      <td>Asturias</td>\n",
              "      <td>Decapado</td>\n",
              "      <td>España</td>\n",
              "      <td>0.0</td>\n",
              "      <td>0.0</td>\n",
              "      <td>0.0</td>\n",
              "      <td>0.0</td>\n",
              "      <td>Yes</td>\n",
              "      <td>Gruista y limpieza de caldera</td>\n",
              "      <td>Mayor 50</td>\n",
              "      <td>Muy grave</td>\n",
              "      <td>Mantenimiento</td>\n",
              "    </tr>\n",
              "    <tr>\n",
              "      <th>2</th>\n",
              "      <td>HS-CHGQ_6814</td>\n",
              "      <td>Turno de mañana</td>\n",
              "      <td>Hombre</td>\n",
              "      <td>45</td>\n",
              "      <td>Incidente</td>\n",
              "      <td>Incidente (no aplica)</td>\n",
              "      <td>Asturias</td>\n",
              "      <td>Decapado</td>\n",
              "      <td>España</td>\n",
              "      <td>0.0</td>\n",
              "      <td>0.0</td>\n",
              "      <td>0.0</td>\n",
              "      <td>0.0</td>\n",
              "      <td>Yes</td>\n",
              "      <td>Gruista ácido</td>\n",
              "      <td>Entre 30-50</td>\n",
              "      <td>Muy grave</td>\n",
              "      <td>Mantenimiento</td>\n",
              "    </tr>\n",
              "    <tr>\n",
              "      <th>3</th>\n",
              "      <td>HS-CHGQ_6138</td>\n",
              "      <td>Turno de mañana</td>\n",
              "      <td>Hombre</td>\n",
              "      <td>45</td>\n",
              "      <td>Incidente</td>\n",
              "      <td>Incidente (no aplica)</td>\n",
              "      <td>Asturias</td>\n",
              "      <td>Decapado</td>\n",
              "      <td>España</td>\n",
              "      <td>0.0</td>\n",
              "      <td>0.0</td>\n",
              "      <td>0.0</td>\n",
              "      <td>0.0</td>\n",
              "      <td>Yes</td>\n",
              "      <td>Montacarguista (en entrenamiento)</td>\n",
              "      <td>Entre 30-50</td>\n",
              "      <td>Grave</td>\n",
              "      <td>Mantenimiento</td>\n",
              "    </tr>\n",
              "    <tr>\n",
              "      <th>4</th>\n",
              "      <td>HS-CHGQ_6139</td>\n",
              "      <td>Turno de tarde</td>\n",
              "      <td>Hombre</td>\n",
              "      <td>45</td>\n",
              "      <td>Incidente</td>\n",
              "      <td>Incidente (no aplica)</td>\n",
              "      <td>Asturias</td>\n",
              "      <td>Decapado</td>\n",
              "      <td>España</td>\n",
              "      <td>0.0</td>\n",
              "      <td>0.0</td>\n",
              "      <td>0.0</td>\n",
              "      <td>0.0</td>\n",
              "      <td>Yes</td>\n",
              "      <td>Gruista y limpieza de caldera</td>\n",
              "      <td>Entre 30-50</td>\n",
              "      <td>Grave</td>\n",
              "      <td>Mantenimiento</td>\n",
              "    </tr>\n",
              "  </tbody>\n",
              "</table>\n",
              "</div>"
            ],
            "text/plain": [
              "  Codigo accidentado            Turno  ...   Severity  Accident_place\n",
              "0       HS-CHGQ_6253  Turno de mañana  ...       Leve   Mantenimiento\n",
              "1       HS-CHGQ_6813  Turno de mañana  ...  Muy grave   Mantenimiento\n",
              "2       HS-CHGQ_6814  Turno de mañana  ...  Muy grave   Mantenimiento\n",
              "3       HS-CHGQ_6138  Turno de mañana  ...      Grave   Mantenimiento\n",
              "4       HS-CHGQ_6139   Turno de tarde  ...      Grave   Mantenimiento\n",
              "\n",
              "[5 rows x 18 columns]"
            ]
          },
          "metadata": {
            "tags": []
          },
          "execution_count": 130
        }
      ]
    },
    {
      "cell_type": "markdown",
      "metadata": {
        "id": "-m9oOgwJacnG"
      },
      "source": [
        "Now we are going to generate the other part of our staff dataframe which contains those people who havent had an accident"
      ]
    },
    {
      "cell_type": "code",
      "metadata": {
        "colab": {
          "base_uri": "https://localhost:8080/"
        },
        "id": "gowwbtslabDt",
        "outputId": "61a53da5-be3b-46fd-a38f-309e83547fcc"
      },
      "source": [
        "len(staff)"
      ],
      "execution_count": 131,
      "outputs": [
        {
          "output_type": "execute_result",
          "data": {
            "text/plain": [
              "4180"
            ]
          },
          "metadata": {
            "tags": []
          },
          "execution_count": 131
        }
      ]
    },
    {
      "cell_type": "code",
      "metadata": {
        "colab": {
          "base_uri": "https://localhost:8080/"
        },
        "id": "TTFXyWaHalgl",
        "outputId": "30da8a81-39cd-4943-a71e-d37aa1512826"
      },
      "source": [
        "employees = rrhh_plant[['Año', 'Mes', 'Empleados Propios', 'Empleados Ajenos','Empleados ETTS','Empleados Subcontrata']]\n",
        "employees  = employees[employees['Mes']=='ENE']\n",
        "\n",
        "employees['Total'] = employees['Empleados Propios'] + employees['Empleados Ajenos'] + employees['Empleados ETTS'] + employees['Empleados Subcontrata']\n",
        "\n",
        "employees = employees.groupby(['Año', 'Mes']).agg('sum')\n",
        "employees['Total']"
      ],
      "execution_count": 132,
      "outputs": [
        {
          "output_type": "execute_result",
          "data": {
            "text/plain": [
              "Año     Mes\n",
              "2020.0  ENE    7070.0\n",
              "Name: Total, dtype: float64"
            ]
          },
          "metadata": {
            "tags": []
          },
          "execution_count": 132
        }
      ]
    },
    {
      "cell_type": "markdown",
      "metadata": {
        "id": "kKOZcETNbunM"
      },
      "source": [
        "So the number of employees in 2020 7070 and we are going to take that as reference. \n",
        "\n",
        "As we are taking 3 years of accidents we are going to have the same proportion on the staff to be able to evaluate it. So our total number of employees in the staff table will be 21.210, 4180 accidents. \n",
        "\n",
        "We are going to generate now the 17030 employees who didnt have any accident"
      ]
    },
    {
      "cell_type": "code",
      "metadata": {
        "colab": {
          "base_uri": "https://localhost:8080/",
          "height": 101
        },
        "id": "K7CTv67ybpku",
        "outputId": "b902afce-6340-4a5a-e0b1-469951262653"
      },
      "source": [
        "staff_without = pd.DataFrame(columns=staff.columns)\n",
        "\n",
        "staff_without"
      ],
      "execution_count": 133,
      "outputs": [
        {
          "output_type": "execute_result",
          "data": {
            "text/html": [
              "<div>\n",
              "<style scoped>\n",
              "    .dataframe tbody tr th:only-of-type {\n",
              "        vertical-align: middle;\n",
              "    }\n",
              "\n",
              "    .dataframe tbody tr th {\n",
              "        vertical-align: top;\n",
              "    }\n",
              "\n",
              "    .dataframe thead th {\n",
              "        text-align: right;\n",
              "    }\n",
              "</style>\n",
              "<table border=\"1\" class=\"dataframe\">\n",
              "  <thead>\n",
              "    <tr style=\"text-align: right;\">\n",
              "      <th></th>\n",
              "      <th>Codigo accidentado</th>\n",
              "      <th>Turno</th>\n",
              "      <th>Gender</th>\n",
              "      <th>Planta</th>\n",
              "      <th>Tipo accidente</th>\n",
              "      <th>Tipo trabajador</th>\n",
              "      <th>Fabrica</th>\n",
              "      <th>Tecnología</th>\n",
              "      <th>Pais</th>\n",
              "      <th>Horas Presencia Efectiva Subcontratados</th>\n",
              "      <th>Horas Presencia Efectiva ETTs</th>\n",
              "      <th>Horas Formacion Seguridad Propios</th>\n",
              "      <th>Horas Formacion Seguridad ETTs</th>\n",
              "      <th>Accident</th>\n",
              "      <th>wk_position</th>\n",
              "      <th>Age</th>\n",
              "      <th>Severity</th>\n",
              "      <th>Accident_place</th>\n",
              "    </tr>\n",
              "  </thead>\n",
              "  <tbody>\n",
              "  </tbody>\n",
              "</table>\n",
              "</div>"
            ],
            "text/plain": [
              "Empty DataFrame\n",
              "Columns: [Codigo accidentado, Turno, Gender, Planta, Tipo accidente, Tipo trabajador, Fabrica, Tecnología, Pais, Horas Presencia Efectiva Subcontratados, Horas Presencia Efectiva ETTs, Horas Formacion Seguridad Propios, Horas Formacion Seguridad ETTs, Accident, wk_position, Age, Severity, Accident_place]\n",
              "Index: []"
            ]
          },
          "metadata": {
            "tags": []
          },
          "execution_count": 133
        }
      ]
    },
    {
      "cell_type": "code",
      "metadata": {
        "id": "ri3Y2pTadv2_"
      },
      "source": [
        "def create_rndm(values, column):\n",
        "  staff_without[column] = np.random.choice(values, size=17030)"
      ],
      "execution_count": 134,
      "outputs": []
    },
    {
      "cell_type": "code",
      "metadata": {
        "id": "QyymGdVpdM4q"
      },
      "source": [
        "turno  = ['Turno de mañana', 'Turno de tarde', 'Turno de noche']\n",
        "\n",
        "create_rndm(turno, 'Turno')"
      ],
      "execution_count": 135,
      "outputs": []
    },
    {
      "cell_type": "markdown",
      "metadata": {
        "id": "s2qZ8uByiG-6"
      },
      "source": [
        "To create the gender columns we are going to apply weights based on the data we had from staff"
      ]
    },
    {
      "cell_type": "code",
      "metadata": {
        "id": "1oPrbFJNiLQs"
      },
      "source": [
        "gender = ['Hombre', 'Mujer']\n",
        "weights = [0.90,0.1]\n",
        "\n",
        "np.random.seed(0)\n",
        "\n",
        "staff_without['Gender'] = random.choices(gender, weights=weights, k=len(staff_without))"
      ],
      "execution_count": 136,
      "outputs": []
    },
    {
      "cell_type": "code",
      "metadata": {
        "id": "f7ffOH-IeHwT"
      },
      "source": [
        "planta_list = staff.Planta.unique()\n",
        "create_rndm(planta_list, 'Planta')"
      ],
      "execution_count": 137,
      "outputs": []
    },
    {
      "cell_type": "code",
      "metadata": {
        "colab": {
          "base_uri": "https://localhost:8080/",
          "height": 167
        },
        "id": "kivrUdyydscS",
        "outputId": "b85a6bf5-68f6-442f-ab70-d56804165894"
      },
      "source": [
        "staff_without.head(1)"
      ],
      "execution_count": 138,
      "outputs": [
        {
          "output_type": "execute_result",
          "data": {
            "text/html": [
              "<div>\n",
              "<style scoped>\n",
              "    .dataframe tbody tr th:only-of-type {\n",
              "        vertical-align: middle;\n",
              "    }\n",
              "\n",
              "    .dataframe tbody tr th {\n",
              "        vertical-align: top;\n",
              "    }\n",
              "\n",
              "    .dataframe thead th {\n",
              "        text-align: right;\n",
              "    }\n",
              "</style>\n",
              "<table border=\"1\" class=\"dataframe\">\n",
              "  <thead>\n",
              "    <tr style=\"text-align: right;\">\n",
              "      <th></th>\n",
              "      <th>Codigo accidentado</th>\n",
              "      <th>Turno</th>\n",
              "      <th>Gender</th>\n",
              "      <th>Planta</th>\n",
              "      <th>Tipo accidente</th>\n",
              "      <th>Tipo trabajador</th>\n",
              "      <th>Fabrica</th>\n",
              "      <th>Tecnología</th>\n",
              "      <th>Pais</th>\n",
              "      <th>Horas Presencia Efectiva Subcontratados</th>\n",
              "      <th>Horas Presencia Efectiva ETTs</th>\n",
              "      <th>Horas Formacion Seguridad Propios</th>\n",
              "      <th>Horas Formacion Seguridad ETTs</th>\n",
              "      <th>Accident</th>\n",
              "      <th>wk_position</th>\n",
              "      <th>Age</th>\n",
              "      <th>Severity</th>\n",
              "      <th>Accident_place</th>\n",
              "    </tr>\n",
              "  </thead>\n",
              "  <tbody>\n",
              "    <tr>\n",
              "      <th>0</th>\n",
              "      <td>NaN</td>\n",
              "      <td>Turno de tarde</td>\n",
              "      <td>Hombre</td>\n",
              "      <td>45</td>\n",
              "      <td>NaN</td>\n",
              "      <td>NaN</td>\n",
              "      <td>NaN</td>\n",
              "      <td>NaN</td>\n",
              "      <td>NaN</td>\n",
              "      <td>NaN</td>\n",
              "      <td>NaN</td>\n",
              "      <td>NaN</td>\n",
              "      <td>NaN</td>\n",
              "      <td>NaN</td>\n",
              "      <td>NaN</td>\n",
              "      <td>NaN</td>\n",
              "      <td>NaN</td>\n",
              "      <td>NaN</td>\n",
              "    </tr>\n",
              "  </tbody>\n",
              "</table>\n",
              "</div>"
            ],
            "text/plain": [
              "  Codigo accidentado           Turno  Gender  ...  Age Severity Accident_place\n",
              "0                NaN  Turno de tarde  Hombre  ...  NaN      NaN            NaN\n",
              "\n",
              "[1 rows x 18 columns]"
            ]
          },
          "metadata": {
            "tags": []
          },
          "execution_count": 138
        }
      ]
    },
    {
      "cell_type": "code",
      "metadata": {
        "id": "fSFpEuogew86"
      },
      "source": [
        "staff_without.drop(columns={'Fabrica', 'Tecnología', 'Pais'}, inplace=True)"
      ],
      "execution_count": 139,
      "outputs": []
    },
    {
      "cell_type": "code",
      "metadata": {
        "colab": {
          "base_uri": "https://localhost:8080/",
          "height": 198
        },
        "id": "J3ZC3VJ4eatF",
        "outputId": "887a1c18-00b9-4d22-e2dc-fa718e35be0e"
      },
      "source": [
        "staff_without = staff_without.merge(planta, left_on='Planta', right_on='ID', how='left')\n",
        "staff_without.head(2)"
      ],
      "execution_count": 140,
      "outputs": [
        {
          "output_type": "execute_result",
          "data": {
            "text/html": [
              "<div>\n",
              "<style scoped>\n",
              "    .dataframe tbody tr th:only-of-type {\n",
              "        vertical-align: middle;\n",
              "    }\n",
              "\n",
              "    .dataframe tbody tr th {\n",
              "        vertical-align: top;\n",
              "    }\n",
              "\n",
              "    .dataframe thead th {\n",
              "        text-align: right;\n",
              "    }\n",
              "</style>\n",
              "<table border=\"1\" class=\"dataframe\">\n",
              "  <thead>\n",
              "    <tr style=\"text-align: right;\">\n",
              "      <th></th>\n",
              "      <th>Codigo accidentado</th>\n",
              "      <th>Turno</th>\n",
              "      <th>Gender</th>\n",
              "      <th>Planta</th>\n",
              "      <th>Tipo accidente</th>\n",
              "      <th>Tipo trabajador</th>\n",
              "      <th>Horas Presencia Efectiva Subcontratados</th>\n",
              "      <th>Horas Presencia Efectiva ETTs</th>\n",
              "      <th>Horas Formacion Seguridad Propios</th>\n",
              "      <th>Horas Formacion Seguridad ETTs</th>\n",
              "      <th>Accident</th>\n",
              "      <th>wk_position</th>\n",
              "      <th>Age</th>\n",
              "      <th>Severity</th>\n",
              "      <th>Accident_place</th>\n",
              "      <th>ID</th>\n",
              "      <th>Fabrica</th>\n",
              "      <th>Tecnología</th>\n",
              "      <th>Pais</th>\n",
              "    </tr>\n",
              "  </thead>\n",
              "  <tbody>\n",
              "    <tr>\n",
              "      <th>0</th>\n",
              "      <td>NaN</td>\n",
              "      <td>Turno de tarde</td>\n",
              "      <td>Hombre</td>\n",
              "      <td>45</td>\n",
              "      <td>NaN</td>\n",
              "      <td>NaN</td>\n",
              "      <td>NaN</td>\n",
              "      <td>NaN</td>\n",
              "      <td>NaN</td>\n",
              "      <td>NaN</td>\n",
              "      <td>NaN</td>\n",
              "      <td>NaN</td>\n",
              "      <td>NaN</td>\n",
              "      <td>NaN</td>\n",
              "      <td>NaN</td>\n",
              "      <td>45</td>\n",
              "      <td>Asturias</td>\n",
              "      <td>Decapado</td>\n",
              "      <td>España</td>\n",
              "    </tr>\n",
              "    <tr>\n",
              "      <th>1</th>\n",
              "      <td>NaN</td>\n",
              "      <td>Turno de mañana</td>\n",
              "      <td>Hombre</td>\n",
              "      <td>4</td>\n",
              "      <td>NaN</td>\n",
              "      <td>NaN</td>\n",
              "      <td>NaN</td>\n",
              "      <td>NaN</td>\n",
              "      <td>NaN</td>\n",
              "      <td>NaN</td>\n",
              "      <td>NaN</td>\n",
              "      <td>NaN</td>\n",
              "      <td>NaN</td>\n",
              "      <td>NaN</td>\n",
              "      <td>NaN</td>\n",
              "      <td>4</td>\n",
              "      <td>Arizona</td>\n",
              "      <td>Células Soldadura</td>\n",
              "      <td>EEUU</td>\n",
              "    </tr>\n",
              "  </tbody>\n",
              "</table>\n",
              "</div>"
            ],
            "text/plain": [
              "  Codigo accidentado            Turno  ...         Tecnología    Pais\n",
              "0                NaN   Turno de tarde  ...           Decapado  España\n",
              "1                NaN  Turno de mañana  ...  Células Soldadura    EEUU\n",
              "\n",
              "[2 rows x 19 columns]"
            ]
          },
          "metadata": {
            "tags": []
          },
          "execution_count": 140
        }
      ]
    },
    {
      "cell_type": "code",
      "metadata": {
        "colab": {
          "base_uri": "https://localhost:8080/"
        },
        "id": "LtatiQe0fEDE",
        "outputId": "0d9bdc18-8c4a-4c15-e77a-1958874a8584"
      },
      "source": [
        "len(staff_without)"
      ],
      "execution_count": 141,
      "outputs": [
        {
          "output_type": "execute_result",
          "data": {
            "text/plain": [
              "17030"
            ]
          },
          "metadata": {
            "tags": []
          },
          "execution_count": 141
        }
      ]
    },
    {
      "cell_type": "code",
      "metadata": {
        "id": "TGEK4TxjfTJ8"
      },
      "source": [
        "tipo_trabj = staff['Tipo trabajador'].unique()\n",
        "create_rndm(tipo_trabj, 'Tipo trabajador')"
      ],
      "execution_count": 142,
      "outputs": []
    },
    {
      "cell_type": "code",
      "metadata": {
        "id": "TdOr-faWftMD"
      },
      "source": [
        "staff_without.drop(columns=['Horas Presencia Efectiva Subcontratados','Horas Presencia Efectiva ETTs', 'Horas Formacion Seguridad Propios', 'Horas Formacion Seguridad ETTs' ], inplace=True)"
      ],
      "execution_count": 143,
      "outputs": []
    },
    {
      "cell_type": "code",
      "metadata": {
        "id": "QI2kNL0HfpLq"
      },
      "source": [
        "staff_without = staff_without.merge(trainning_hours, on='Fabrica', how='left')"
      ],
      "execution_count": 144,
      "outputs": []
    },
    {
      "cell_type": "code",
      "metadata": {
        "id": "7ZN2fwdQgXNf"
      },
      "source": [
        "staff_without.drop(columns={'ID'}, inplace=True)"
      ],
      "execution_count": 145,
      "outputs": []
    },
    {
      "cell_type": "code",
      "metadata": {
        "id": "bquZP8TKgcAF"
      },
      "source": [
        "staff_without['Accident'] = 'No'"
      ],
      "execution_count": 146,
      "outputs": []
    },
    {
      "cell_type": "code",
      "metadata": {
        "id": "HNyZT-0bgr1v"
      },
      "source": [
        "pos_wk = staff['wk_position'].unique()\n",
        "\n",
        "create_rndm(pos_wk, 'wk_position')"
      ],
      "execution_count": 147,
      "outputs": []
    },
    {
      "cell_type": "code",
      "metadata": {
        "id": "K5XiOFCKhGDc"
      },
      "source": [
        "rangos_edad = ['Menor 30', 'Entre 30-50', 'Mayor 50']\n",
        "weights = {'Hombre':[0.2, 0.44, 0.36], 'Mujer':[0.2,0.55,0.25]}\n",
        "\n",
        "np.random.seed(0)\n",
        "\n",
        "staff_without['Age'] = staff_without.groupby('Gender').apply(apply_randoms)\\\n",
        "       .rename('Age').reset_index().drop('level_1', 1)['Age']"
      ],
      "execution_count": 148,
      "outputs": []
    },
    {
      "cell_type": "code",
      "metadata": {
        "id": "XckpSlJ4h5Be"
      },
      "source": [
        "place = staff['Accident_place'].unique()\n",
        "\n",
        "create_rndm(place, 'Accident_place')"
      ],
      "execution_count": 149,
      "outputs": []
    },
    {
      "cell_type": "code",
      "metadata": {
        "colab": {
          "base_uri": "https://localhost:8080/",
          "height": 215
        },
        "id": "28GRajdlfQOG",
        "outputId": "92918ab2-dd05-43f9-c95d-b7460b49d1d8"
      },
      "source": [
        "staff_without.head(2) ##cod accidentado is the only column we are going to leave blank as these employees doestn have any accident"
      ],
      "execution_count": 150,
      "outputs": [
        {
          "output_type": "execute_result",
          "data": {
            "text/html": [
              "<div>\n",
              "<style scoped>\n",
              "    .dataframe tbody tr th:only-of-type {\n",
              "        vertical-align: middle;\n",
              "    }\n",
              "\n",
              "    .dataframe tbody tr th {\n",
              "        vertical-align: top;\n",
              "    }\n",
              "\n",
              "    .dataframe thead th {\n",
              "        text-align: right;\n",
              "    }\n",
              "</style>\n",
              "<table border=\"1\" class=\"dataframe\">\n",
              "  <thead>\n",
              "    <tr style=\"text-align: right;\">\n",
              "      <th></th>\n",
              "      <th>Codigo accidentado</th>\n",
              "      <th>Turno</th>\n",
              "      <th>Gender</th>\n",
              "      <th>Planta</th>\n",
              "      <th>Tipo accidente</th>\n",
              "      <th>Tipo trabajador</th>\n",
              "      <th>Accident</th>\n",
              "      <th>wk_position</th>\n",
              "      <th>Age</th>\n",
              "      <th>Severity</th>\n",
              "      <th>Accident_place</th>\n",
              "      <th>Fabrica</th>\n",
              "      <th>Tecnología</th>\n",
              "      <th>Pais</th>\n",
              "      <th>Horas Presencia Efectiva Subcontratados</th>\n",
              "      <th>Horas Presencia Efectiva ETTs</th>\n",
              "      <th>Horas Formacion Seguridad Propios</th>\n",
              "      <th>Horas Formacion Seguridad ETTs</th>\n",
              "    </tr>\n",
              "  </thead>\n",
              "  <tbody>\n",
              "    <tr>\n",
              "      <th>0</th>\n",
              "      <td>NaN</td>\n",
              "      <td>Turno de tarde</td>\n",
              "      <td>Hombre</td>\n",
              "      <td>45</td>\n",
              "      <td>NaN</td>\n",
              "      <td>Duración Determinada</td>\n",
              "      <td>No</td>\n",
              "      <td>LINEAS DE CORTE LONGITUDINAL</td>\n",
              "      <td>Entre 30-50</td>\n",
              "      <td>NaN</td>\n",
              "      <td>Mantenimiento</td>\n",
              "      <td>Asturias</td>\n",
              "      <td>Decapado</td>\n",
              "      <td>España</td>\n",
              "      <td>NaN</td>\n",
              "      <td>NaN</td>\n",
              "      <td>NaN</td>\n",
              "      <td>NaN</td>\n",
              "    </tr>\n",
              "    <tr>\n",
              "      <th>1</th>\n",
              "      <td>NaN</td>\n",
              "      <td>Turno de mañana</td>\n",
              "      <td>Hombre</td>\n",
              "      <td>4</td>\n",
              "      <td>NaN</td>\n",
              "      <td>Prácticas</td>\n",
              "      <td>No</td>\n",
              "      <td>plegador</td>\n",
              "      <td>Mayor 50</td>\n",
              "      <td>NaN</td>\n",
              "      <td>Mantenimiento</td>\n",
              "      <td>Arizona</td>\n",
              "      <td>Células Soldadura</td>\n",
              "      <td>EEUU</td>\n",
              "      <td>0.0</td>\n",
              "      <td>0.0</td>\n",
              "      <td>0.0</td>\n",
              "      <td>0.0</td>\n",
              "    </tr>\n",
              "  </tbody>\n",
              "</table>\n",
              "</div>"
            ],
            "text/plain": [
              "  Codigo accidentado  ... Horas Formacion Seguridad ETTs\n",
              "0                NaN  ...                            NaN\n",
              "1                NaN  ...                            0.0\n",
              "\n",
              "[2 rows x 18 columns]"
            ]
          },
          "metadata": {
            "tags": []
          },
          "execution_count": 150
        }
      ]
    },
    {
      "cell_type": "markdown",
      "metadata": {
        "id": "cGvHis4sjMCz"
      },
      "source": [
        "Now we are going to concat both dataframes on a resulting dataframe with length of 21.210"
      ]
    },
    {
      "cell_type": "code",
      "metadata": {
        "colab": {
          "base_uri": "https://localhost:8080/"
        },
        "id": "K32u2TrXg8O6",
        "outputId": "fb106362-6714-497a-c868-762e3825a05e"
      },
      "source": [
        "staff = pd.concat([staff, staff_without])\n",
        "len(staff)"
      ],
      "execution_count": 151,
      "outputs": [
        {
          "output_type": "execute_result",
          "data": {
            "text/plain": [
              "21210"
            ]
          },
          "metadata": {
            "tags": []
          },
          "execution_count": 151
        }
      ]
    },
    {
      "cell_type": "code",
      "metadata": {
        "colab": {
          "base_uri": "https://localhost:8080/"
        },
        "id": "524rnVKLFEl9",
        "outputId": "e3cc1f37-7ce4-4438-9d13-c262c7cf0987"
      },
      "source": [
        "staff.iloc[0]"
      ],
      "execution_count": 152,
      "outputs": [
        {
          "output_type": "execute_result",
          "data": {
            "text/plain": [
              "Codigo accidentado                                  HS-CHGQ_6253\n",
              "Turno                                            Turno de mañana\n",
              "Gender                                                    Hombre\n",
              "Planta                                                        45\n",
              "Tipo accidente                                         Incidente\n",
              "Tipo trabajador                            Incidente (no aplica)\n",
              "Fabrica                                                 Asturias\n",
              "Tecnología                                              Decapado\n",
              "Pais                                                      España\n",
              "Horas Presencia Efectiva Subcontratados                        0\n",
              "Horas Presencia Efectiva ETTs                                  0\n",
              "Horas Formacion Seguridad Propios                              0\n",
              "Horas Formacion Seguridad ETTs                                 0\n",
              "Accident                                                     Yes\n",
              "wk_position                                          Programador\n",
              "Age                                                  Entre 30-50\n",
              "Severity                                                    Leve\n",
              "Accident_place                                     Mantenimiento\n",
              "Name: 0, dtype: object"
            ]
          },
          "metadata": {
            "tags": []
          },
          "execution_count": 152
        }
      ]
    },
    {
      "cell_type": "code",
      "metadata": {
        "colab": {
          "base_uri": "https://localhost:8080/",
          "height": 17
        },
        "id": "eRSaepnedK6x",
        "outputId": "571f0cc2-d26d-4e0e-d866-e46cf0dbc1d2"
      },
      "source": [
        "from google.colab import files\n",
        "\n",
        "staff.to_csv('Total_staff_by_employee.csv', sep=';')\n",
        "files.download(\"Total_staff_by_employee.csv\")"
      ],
      "execution_count": 153,
      "outputs": [
        {
          "output_type": "display_data",
          "data": {
            "application/javascript": [
              "\n",
              "    async function download(id, filename, size) {\n",
              "      if (!google.colab.kernel.accessAllowed) {\n",
              "        return;\n",
              "      }\n",
              "      const div = document.createElement('div');\n",
              "      const label = document.createElement('label');\n",
              "      label.textContent = `Downloading \"${filename}\": `;\n",
              "      div.appendChild(label);\n",
              "      const progress = document.createElement('progress');\n",
              "      progress.max = size;\n",
              "      div.appendChild(progress);\n",
              "      document.body.appendChild(div);\n",
              "\n",
              "      const buffers = [];\n",
              "      let downloaded = 0;\n",
              "\n",
              "      const channel = await google.colab.kernel.comms.open(id);\n",
              "      // Send a message to notify the kernel that we're ready.\n",
              "      channel.send({})\n",
              "\n",
              "      for await (const message of channel.messages) {\n",
              "        // Send a message to notify the kernel that we're ready.\n",
              "        channel.send({})\n",
              "        if (message.buffers) {\n",
              "          for (const buffer of message.buffers) {\n",
              "            buffers.push(buffer);\n",
              "            downloaded += buffer.byteLength;\n",
              "            progress.value = downloaded;\n",
              "          }\n",
              "        }\n",
              "      }\n",
              "      const blob = new Blob(buffers, {type: 'application/binary'});\n",
              "      const a = document.createElement('a');\n",
              "      a.href = window.URL.createObjectURL(blob);\n",
              "      a.download = filename;\n",
              "      div.appendChild(a);\n",
              "      a.click();\n",
              "      div.remove();\n",
              "    }\n",
              "  "
            ],
            "text/plain": [
              "<IPython.core.display.Javascript object>"
            ]
          },
          "metadata": {
            "tags": []
          }
        },
        {
          "output_type": "display_data",
          "data": {
            "application/javascript": [
              "download(\"download_5ecfe178-0b05-4a07-bcd5-30674982a048\", \"Total_staff_by_employee.csv\", 3335883)"
            ],
            "text/plain": [
              "<IPython.core.display.Javascript object>"
            ]
          },
          "metadata": {
            "tags": []
          }
        }
      ]
    }
  ]
}