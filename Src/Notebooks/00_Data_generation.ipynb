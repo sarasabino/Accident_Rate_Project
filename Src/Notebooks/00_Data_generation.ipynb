{
  "nbformat": 4,
  "nbformat_minor": 0,
  "metadata": {
    "colab": {
      "name": "00_Data_generation.ipynb",
      "provenance": [],
      "mount_file_id": "18MOCeNlI0OqA7MkkYVcWzKC5s8ijnAd4",
      "authorship_tag": "ABX9TyMprGGHY2K6CcIYinb2LpES",
      "include_colab_link": true
    },
    "kernelspec": {
      "name": "python3",
      "display_name": "Python 3"
    },
    "language_info": {
      "name": "python"
    }
  },
  "cells": [
    {
      "cell_type": "markdown",
      "metadata": {
        "id": "view-in-github",
        "colab_type": "text"
      },
      "source": [
        "<a href=\"https://colab.research.google.com/github/sarasabino/Accident_Rate_Project/blob/main/Src/Notebooks/00_Data_generation.ipynb\" target=\"_parent\"><img src=\"https://colab.research.google.com/assets/colab-badge.svg\" alt=\"Open In Colab\"/></a>"
      ]
    },
    {
      "cell_type": "markdown",
      "metadata": {
        "id": "tfPS3xuQU1MA"
      },
      "source": [
        "## Data Generation\n",
        "\n",
        "Although we have the data from the accidents occurred at the company we need to have the data from the staff with its characteristics to be able to develop a machine learning algorithm. \n",
        "\n",
        "The idea is to generate fake data to be able to perform the algorithm and then when data is real we can apply it.\n",
        "\n",
        "For that purpose we are going to generate a csv file with the staff of the company. \n",
        "\n",
        "We are going to assume this is the static company's staff."
      ]
    },
    {
      "cell_type": "code",
      "metadata": {
        "id": "KGd4qTHoUv2G"
      },
      "source": [
        "! cp /content/drive/MyDrive/'Colab Notebooks'/'TFM Accidentabilidad'/Data/HS_Accidentabilidad.csv .\n",
        "! cp /content/drive/MyDrive/'Colab Notebooks'/'TFM Accidentabilidad'/Data/'G_Plantas y Tech'.csv .\n",
        "! cp /content/drive/MyDrive/'Colab Notebooks'/'TFM Accidentabilidad'/Data/Datos_plantilla_fabrica.csv .\n",
        "\n",
        "\n"
      ],
      "execution_count": 213,
      "outputs": []
    },
    {
      "cell_type": "markdown",
      "metadata": {
        "id": "tHkkk17yXuQa"
      },
      "source": [
        "We are going to upload the accidents data we have"
      ]
    },
    {
      "cell_type": "code",
      "metadata": {
        "id": "KfBhfVGnXiG2"
      },
      "source": [
        "import pandas as pd\n",
        "\n",
        "accidentes = pd.read_csv('HS_Accidentabilidad.csv', sep=';')\n",
        "\n",
        "accidentes = accidentes[(accidentes['Año']== 2018) | (accidentes['Año']==2019) | (accidentes['Año']==2020) ]"
      ],
      "execution_count": 214,
      "outputs": []
    },
    {
      "cell_type": "code",
      "metadata": {
        "colab": {
          "base_uri": "https://localhost:8080/"
        },
        "id": "3Ale6fXJjE8f",
        "outputId": "f9a3e876-ed3c-4b49-cbc5-0e9c7859daaa"
      },
      "source": [
        "len(accidentes)"
      ],
      "execution_count": 215,
      "outputs": [
        {
          "output_type": "execute_result",
          "data": {
            "text/plain": [
              "4180"
            ]
          },
          "metadata": {
            "tags": []
          },
          "execution_count": 215
        }
      ]
    },
    {
      "cell_type": "code",
      "metadata": {
        "colab": {
          "base_uri": "https://localhost:8080/"
        },
        "id": "2DlQRjYaX5G7",
        "outputId": "b06d4fc6-bd65-4bae-d38f-9e244117323b"
      },
      "source": [
        "accidentes['Gravedad potencial']"
      ],
      "execution_count": 216,
      "outputs": [
        {
          "output_type": "execute_result",
          "data": {
            "text/plain": [
              "2057    Muy grave\n",
              "2062         Leve\n",
              "2063         Leve\n",
              "2064         Leve\n",
              "2065         Leve\n",
              "          ...    \n",
              "7200          NaN\n",
              "7430          NaN\n",
              "7436          NaN\n",
              "7580          NaN\n",
              "7581          NaN\n",
              "Name: Gravedad potencial, Length: 4180, dtype: object"
            ]
          },
          "metadata": {
            "tags": []
          },
          "execution_count": 216
        }
      ]
    },
    {
      "cell_type": "code",
      "metadata": {
        "colab": {
          "base_uri": "https://localhost:8080/",
          "height": 204
        },
        "id": "GyMVvB9rX7C9",
        "outputId": "2ddc466e-93f0-4542-93c1-490a5d4a0611"
      },
      "source": [
        "staff = accidentes[['Codigo accidentado', 'Puesto habitual de trabajo','Turno','Edad','Género','Planta', 'Tipo accidente', 'Tipo trabajador', 'Gravedad potencial', 'Lugar o seccion accidente']]\n",
        "staff.head()"
      ],
      "execution_count": 217,
      "outputs": [
        {
          "output_type": "execute_result",
          "data": {
            "text/html": [
              "<div>\n",
              "<style scoped>\n",
              "    .dataframe tbody tr th:only-of-type {\n",
              "        vertical-align: middle;\n",
              "    }\n",
              "\n",
              "    .dataframe tbody tr th {\n",
              "        vertical-align: top;\n",
              "    }\n",
              "\n",
              "    .dataframe thead th {\n",
              "        text-align: right;\n",
              "    }\n",
              "</style>\n",
              "<table border=\"1\" class=\"dataframe\">\n",
              "  <thead>\n",
              "    <tr style=\"text-align: right;\">\n",
              "      <th></th>\n",
              "      <th>Codigo accidentado</th>\n",
              "      <th>Puesto habitual de trabajo</th>\n",
              "      <th>Turno</th>\n",
              "      <th>Edad</th>\n",
              "      <th>Género</th>\n",
              "      <th>Planta</th>\n",
              "      <th>Tipo accidente</th>\n",
              "      <th>Tipo trabajador</th>\n",
              "      <th>Gravedad potencial</th>\n",
              "      <th>Lugar o seccion accidente</th>\n",
              "    </tr>\n",
              "  </thead>\n",
              "  <tbody>\n",
              "    <tr>\n",
              "      <th>2057</th>\n",
              "      <td>HS-CLMB_2546</td>\n",
              "      <td>Operario de Puente Grúa</td>\n",
              "      <td>Turno de mañana</td>\n",
              "      <td>31</td>\n",
              "      <td>Hombre</td>\n",
              "      <td>20</td>\n",
              "      <td>Accidente c/b</td>\n",
              "      <td>ETT</td>\n",
              "      <td>Muy grave</td>\n",
              "      <td>Células Soldadura</td>\n",
              "    </tr>\n",
              "    <tr>\n",
              "      <th>2062</th>\n",
              "      <td>HS-CEPA_2563</td>\n",
              "      <td>Engraving</td>\n",
              "      <td>Turno de mañana</td>\n",
              "      <td>35</td>\n",
              "      <td>Hombre</td>\n",
              "      <td>19</td>\n",
              "      <td>Accidente c/b</td>\n",
              "      <td>Indefinido</td>\n",
              "      <td>Leve</td>\n",
              "      <td>Tubos</td>\n",
              "    </tr>\n",
              "    <tr>\n",
              "      <th>2063</th>\n",
              "      <td>HS-GNVT_2564</td>\n",
              "      <td>Titular L-8</td>\n",
              "      <td>Turno de tarde</td>\n",
              "      <td>54</td>\n",
              "      <td>Hombre</td>\n",
              "      <td>12</td>\n",
              "      <td>Accidente s/b</td>\n",
              "      <td>Duración Determinada</td>\n",
              "      <td>Leve</td>\n",
              "      <td>Tubos</td>\n",
              "    </tr>\n",
              "    <tr>\n",
              "      <th>2064</th>\n",
              "      <td>HS-GNVT_2565</td>\n",
              "      <td>Carretillero</td>\n",
              "      <td>Turno de mañana</td>\n",
              "      <td>NaN</td>\n",
              "      <td>Hombre</td>\n",
              "      <td>12</td>\n",
              "      <td>Incidente</td>\n",
              "      <td>ETT</td>\n",
              "      <td>Leve</td>\n",
              "      <td>Almacén de Producto Terminado</td>\n",
              "    </tr>\n",
              "    <tr>\n",
              "      <th>2065</th>\n",
              "      <td>HS-DNGG_2566</td>\n",
              "      <td>NaN</td>\n",
              "      <td>Turno de mañana</td>\n",
              "      <td>NaN</td>\n",
              "      <td>NaN</td>\n",
              "      <td>41</td>\n",
              "      <td>Incidente</td>\n",
              "      <td>Incidente (no aplica)</td>\n",
              "      <td>Leve</td>\n",
              "      <td>Blanking</td>\n",
              "    </tr>\n",
              "  </tbody>\n",
              "</table>\n",
              "</div>"
            ],
            "text/plain": [
              "     Codigo accidentado  ...      Lugar o seccion accidente\n",
              "2057       HS-CLMB_2546  ...              Células Soldadura\n",
              "2062       HS-CEPA_2563  ...                          Tubos\n",
              "2063       HS-GNVT_2564  ...                          Tubos\n",
              "2064       HS-GNVT_2565  ...  Almacén de Producto Terminado\n",
              "2065       HS-DNGG_2566  ...                       Blanking\n",
              "\n",
              "[5 rows x 10 columns]"
            ]
          },
          "metadata": {
            "tags": []
          },
          "execution_count": 217
        }
      ]
    },
    {
      "cell_type": "code",
      "metadata": {
        "colab": {
          "base_uri": "https://localhost:8080/",
          "height": 204
        },
        "id": "pKf83P3gZKU-",
        "outputId": "b1bf72f3-e03b-429e-9531-17667b4adaae"
      },
      "source": [
        "planta = pd.read_csv('G_Plantas y Tech.csv', sep=';')\n",
        "planta.drop(columns={'Activo'}, inplace=True)\n",
        "planta.head()"
      ],
      "execution_count": 218,
      "outputs": [
        {
          "output_type": "execute_result",
          "data": {
            "text/html": [
              "<div>\n",
              "<style scoped>\n",
              "    .dataframe tbody tr th:only-of-type {\n",
              "        vertical-align: middle;\n",
              "    }\n",
              "\n",
              "    .dataframe tbody tr th {\n",
              "        vertical-align: top;\n",
              "    }\n",
              "\n",
              "    .dataframe thead th {\n",
              "        text-align: right;\n",
              "    }\n",
              "</style>\n",
              "<table border=\"1\" class=\"dataframe\">\n",
              "  <thead>\n",
              "    <tr style=\"text-align: right;\">\n",
              "      <th></th>\n",
              "      <th>ID</th>\n",
              "      <th>Fabrica</th>\n",
              "      <th>Tecnología</th>\n",
              "      <th>Pais</th>\n",
              "    </tr>\n",
              "  </thead>\n",
              "  <tbody>\n",
              "    <tr>\n",
              "      <th>0</th>\n",
              "      <td>1</td>\n",
              "      <td>Argentina</td>\n",
              "      <td>Blanking</td>\n",
              "      <td>Argentina</td>\n",
              "    </tr>\n",
              "    <tr>\n",
              "      <th>1</th>\n",
              "      <td>2</td>\n",
              "      <td>Argentina</td>\n",
              "      <td>Corte Longitudinal</td>\n",
              "      <td>Argentina</td>\n",
              "    </tr>\n",
              "    <tr>\n",
              "      <th>2</th>\n",
              "      <td>3</td>\n",
              "      <td>Argentina</td>\n",
              "      <td>Corte Transversal</td>\n",
              "      <td>Argentina</td>\n",
              "    </tr>\n",
              "    <tr>\n",
              "      <th>3</th>\n",
              "      <td>4</td>\n",
              "      <td>Arizona</td>\n",
              "      <td>Células Soldadura</td>\n",
              "      <td>EEUU</td>\n",
              "    </tr>\n",
              "    <tr>\n",
              "      <th>4</th>\n",
              "      <td>5</td>\n",
              "      <td>Arizona</td>\n",
              "      <td>Corte Láser</td>\n",
              "      <td>EEUU</td>\n",
              "    </tr>\n",
              "  </tbody>\n",
              "</table>\n",
              "</div>"
            ],
            "text/plain": [
              "   ID    Fabrica          Tecnología       Pais\n",
              "0   1  Argentina            Blanking  Argentina\n",
              "1   2  Argentina  Corte Longitudinal  Argentina\n",
              "2   3  Argentina   Corte Transversal  Argentina\n",
              "3   4    Arizona   Células Soldadura       EEUU\n",
              "4   5    Arizona         Corte Láser       EEUU"
            ]
          },
          "metadata": {
            "tags": []
          },
          "execution_count": 218
        }
      ]
    },
    {
      "cell_type": "code",
      "metadata": {
        "colab": {
          "base_uri": "https://localhost:8080/"
        },
        "id": "8iusKWB6ZiWh",
        "outputId": "ea2ad826-5a8e-4d7f-dcd6-043a6489df6b"
      },
      "source": [
        "len(staff)"
      ],
      "execution_count": 219,
      "outputs": [
        {
          "output_type": "execute_result",
          "data": {
            "text/plain": [
              "4180"
            ]
          },
          "metadata": {
            "tags": []
          },
          "execution_count": 219
        }
      ]
    },
    {
      "cell_type": "code",
      "metadata": {
        "id": "ycAEG8ykZZi3"
      },
      "source": [
        "staff = staff.merge(planta, left_on='Planta', right_on='ID', how='left')\n"
      ],
      "execution_count": 220,
      "outputs": []
    },
    {
      "cell_type": "code",
      "metadata": {
        "colab": {
          "base_uri": "https://localhost:8080/",
          "height": 204
        },
        "id": "wOQez98xaDFQ",
        "outputId": "24640257-9a33-4b9c-ba1a-1d68c4c49a52"
      },
      "source": [
        "staff.drop(columns={'ID'}, inplace=True)\n",
        "\n",
        "staff.head()"
      ],
      "execution_count": 221,
      "outputs": [
        {
          "output_type": "execute_result",
          "data": {
            "text/html": [
              "<div>\n",
              "<style scoped>\n",
              "    .dataframe tbody tr th:only-of-type {\n",
              "        vertical-align: middle;\n",
              "    }\n",
              "\n",
              "    .dataframe tbody tr th {\n",
              "        vertical-align: top;\n",
              "    }\n",
              "\n",
              "    .dataframe thead th {\n",
              "        text-align: right;\n",
              "    }\n",
              "</style>\n",
              "<table border=\"1\" class=\"dataframe\">\n",
              "  <thead>\n",
              "    <tr style=\"text-align: right;\">\n",
              "      <th></th>\n",
              "      <th>Codigo accidentado</th>\n",
              "      <th>Puesto habitual de trabajo</th>\n",
              "      <th>Turno</th>\n",
              "      <th>Edad</th>\n",
              "      <th>Género</th>\n",
              "      <th>Planta</th>\n",
              "      <th>Tipo accidente</th>\n",
              "      <th>Tipo trabajador</th>\n",
              "      <th>Gravedad potencial</th>\n",
              "      <th>Lugar o seccion accidente</th>\n",
              "      <th>Fabrica</th>\n",
              "      <th>Tecnología</th>\n",
              "      <th>Pais</th>\n",
              "    </tr>\n",
              "  </thead>\n",
              "  <tbody>\n",
              "    <tr>\n",
              "      <th>0</th>\n",
              "      <td>HS-CLMB_2546</td>\n",
              "      <td>Operario de Puente Grúa</td>\n",
              "      <td>Turno de mañana</td>\n",
              "      <td>31</td>\n",
              "      <td>Hombre</td>\n",
              "      <td>20</td>\n",
              "      <td>Accidente c/b</td>\n",
              "      <td>ETT</td>\n",
              "      <td>Muy grave</td>\n",
              "      <td>Células Soldadura</td>\n",
              "      <td>Burgos</td>\n",
              "      <td>Skinpass</td>\n",
              "      <td>España</td>\n",
              "    </tr>\n",
              "    <tr>\n",
              "      <th>1</th>\n",
              "      <td>HS-CEPA_2563</td>\n",
              "      <td>Engraving</td>\n",
              "      <td>Turno de mañana</td>\n",
              "      <td>35</td>\n",
              "      <td>Hombre</td>\n",
              "      <td>19</td>\n",
              "      <td>Accidente c/b</td>\n",
              "      <td>Indefinido</td>\n",
              "      <td>Leve</td>\n",
              "      <td>Tubos</td>\n",
              "      <td>Burgos</td>\n",
              "      <td>Recocido</td>\n",
              "      <td>España</td>\n",
              "    </tr>\n",
              "    <tr>\n",
              "      <th>2</th>\n",
              "      <td>HS-GNVT_2564</td>\n",
              "      <td>Titular L-8</td>\n",
              "      <td>Turno de tarde</td>\n",
              "      <td>54</td>\n",
              "      <td>Hombre</td>\n",
              "      <td>12</td>\n",
              "      <td>Accidente s/b</td>\n",
              "      <td>Duración Determinada</td>\n",
              "      <td>Leve</td>\n",
              "      <td>Tubos</td>\n",
              "      <td>Barcelona</td>\n",
              "      <td>Skinpass</td>\n",
              "      <td>España</td>\n",
              "    </tr>\n",
              "    <tr>\n",
              "      <th>3</th>\n",
              "      <td>HS-GNVT_2565</td>\n",
              "      <td>Carretillero</td>\n",
              "      <td>Turno de mañana</td>\n",
              "      <td>NaN</td>\n",
              "      <td>Hombre</td>\n",
              "      <td>12</td>\n",
              "      <td>Incidente</td>\n",
              "      <td>ETT</td>\n",
              "      <td>Leve</td>\n",
              "      <td>Almacén de Producto Terminado</td>\n",
              "      <td>Barcelona</td>\n",
              "      <td>Skinpass</td>\n",
              "      <td>España</td>\n",
              "    </tr>\n",
              "    <tr>\n",
              "      <th>4</th>\n",
              "      <td>HS-DNGG_2566</td>\n",
              "      <td>NaN</td>\n",
              "      <td>Turno de mañana</td>\n",
              "      <td>NaN</td>\n",
              "      <td>NaN</td>\n",
              "      <td>41</td>\n",
              "      <td>Incidente</td>\n",
              "      <td>Incidente (no aplica)</td>\n",
              "      <td>Leve</td>\n",
              "      <td>Blanking</td>\n",
              "      <td>Hiasa</td>\n",
              "      <td>Corte Láser</td>\n",
              "      <td>España</td>\n",
              "    </tr>\n",
              "  </tbody>\n",
              "</table>\n",
              "</div>"
            ],
            "text/plain": [
              "  Codigo accidentado Puesto habitual de trabajo  ...   Tecnología    Pais\n",
              "0       HS-CLMB_2546    Operario de Puente Grúa  ...     Skinpass  España\n",
              "1       HS-CEPA_2563                  Engraving  ...     Recocido  España\n",
              "2       HS-GNVT_2564                Titular L-8  ...     Skinpass  España\n",
              "3       HS-GNVT_2565               Carretillero  ...     Skinpass  España\n",
              "4       HS-DNGG_2566                        NaN  ...  Corte Láser  España\n",
              "\n",
              "[5 rows x 13 columns]"
            ]
          },
          "metadata": {
            "tags": []
          },
          "execution_count": 221
        }
      ]
    },
    {
      "cell_type": "code",
      "metadata": {
        "colab": {
          "base_uri": "https://localhost:8080/"
        },
        "id": "C63jEalecZG9",
        "outputId": "d8c680b4-573f-4347-cf61-30fa48b0392a"
      },
      "source": [
        "len(staff)"
      ],
      "execution_count": 222,
      "outputs": [
        {
          "output_type": "execute_result",
          "data": {
            "text/plain": [
              "4180"
            ]
          },
          "metadata": {
            "tags": []
          },
          "execution_count": 222
        }
      ]
    },
    {
      "cell_type": "markdown",
      "metadata": {
        "id": "t3mDNDyVap0l"
      },
      "source": [
        "Now we are going to upload some staff data to get the number of trainning hours per plant and have a reference of the quantity of empleados we want to generate. This data is aggregated so it is not valid for our analysis"
      ]
    },
    {
      "cell_type": "code",
      "metadata": {
        "colab": {
          "base_uri": "https://localhost:8080/"
        },
        "id": "VBXW__tUapZn",
        "outputId": "2b481efe-6e13-4eef-9ca5-ee48777cde16"
      },
      "source": [
        "rrhh_plant = pd.read_csv('Datos_plantilla_fabrica.csv', sep=';')\n",
        "\n",
        "rrhh_plant['Año'].unique()"
      ],
      "execution_count": 223,
      "outputs": [
        {
          "output_type": "execute_result",
          "data": {
            "text/plain": [
              "array([2017., 2016., 2018., 2019.,   nan, 2020., 2021.])"
            ]
          },
          "metadata": {
            "tags": []
          },
          "execution_count": 223
        }
      ]
    },
    {
      "cell_type": "code",
      "metadata": {
        "id": "AYIu-lEjbJF5"
      },
      "source": [
        "# we are getting only 2020 for our analysis\n",
        "\n",
        "rrhh_plant = rrhh_plant[rrhh_plant['Año']==2020]\n"
      ],
      "execution_count": 224,
      "outputs": []
    },
    {
      "cell_type": "code",
      "metadata": {
        "colab": {
          "base_uri": "https://localhost:8080/",
          "height": 238
        },
        "id": "Tdw6rjhXbUPh",
        "outputId": "046f5224-e340-46ac-c5d1-ad83a99b9641"
      },
      "source": [
        "rrhh_plant.head()"
      ],
      "execution_count": 225,
      "outputs": [
        {
          "output_type": "execute_result",
          "data": {
            "text/html": [
              "<div>\n",
              "<style scoped>\n",
              "    .dataframe tbody tr th:only-of-type {\n",
              "        vertical-align: middle;\n",
              "    }\n",
              "\n",
              "    .dataframe tbody tr th {\n",
              "        vertical-align: top;\n",
              "    }\n",
              "\n",
              "    .dataframe thead th {\n",
              "        text-align: right;\n",
              "    }\n",
              "</style>\n",
              "<table border=\"1\" class=\"dataframe\">\n",
              "  <thead>\n",
              "    <tr style=\"text-align: right;\">\n",
              "      <th></th>\n",
              "      <th>ID</th>\n",
              "      <th>Planta</th>\n",
              "      <th>Año</th>\n",
              "      <th>Mes</th>\n",
              "      <th>Empleados Propios</th>\n",
              "      <th>Empleados Ajenos</th>\n",
              "      <th>Empleados ETTS</th>\n",
              "      <th>Empleados Subcontrata</th>\n",
              "      <th>Horas Presencia Efectiva Propios</th>\n",
              "      <th>Horas Presencia Efectiva Subcontratados</th>\n",
              "      <th>Horas Presencia Efectiva ETTs</th>\n",
              "      <th>Horas Formacion Seguridad Propios</th>\n",
              "      <th>Horas Formacion Seguridad ETTs</th>\n",
              "      <th>Horas Formacion General Propios</th>\n",
              "      <th>Empleados Propios - indefinido</th>\n",
              "      <th>Empleados Propios - duración determinada</th>\n",
              "    </tr>\n",
              "  </thead>\n",
              "  <tbody>\n",
              "    <tr>\n",
              "      <th>2615</th>\n",
              "      <td>3819</td>\n",
              "      <td>Barcelona</td>\n",
              "      <td>2020.0</td>\n",
              "      <td>ENE</td>\n",
              "      <td>203.0</td>\n",
              "      <td>28.0</td>\n",
              "      <td>8.0</td>\n",
              "      <td>20.0</td>\n",
              "      <td>29770.30</td>\n",
              "      <td>3138.0</td>\n",
              "      <td>1307.5</td>\n",
              "      <td>15.0</td>\n",
              "      <td>23.0</td>\n",
              "      <td>211.0</td>\n",
              "      <td>189.0</td>\n",
              "      <td>14.0</td>\n",
              "    </tr>\n",
              "    <tr>\n",
              "      <th>2616</th>\n",
              "      <td>3820</td>\n",
              "      <td>Burgos</td>\n",
              "      <td>2020.0</td>\n",
              "      <td>ENE</td>\n",
              "      <td>239.0</td>\n",
              "      <td>68.0</td>\n",
              "      <td>28.0</td>\n",
              "      <td>40.0</td>\n",
              "      <td>32625.00</td>\n",
              "      <td>6487.0</td>\n",
              "      <td>4549.3</td>\n",
              "      <td>445.0</td>\n",
              "      <td>348.5</td>\n",
              "      <td>757.0</td>\n",
              "      <td>188.0</td>\n",
              "      <td>38.0</td>\n",
              "    </tr>\n",
              "    <tr>\n",
              "      <th>2617</th>\n",
              "      <td>3821</td>\n",
              "      <td>Tarragona</td>\n",
              "      <td>2020.0</td>\n",
              "      <td>ENE</td>\n",
              "      <td>49.0</td>\n",
              "      <td>17.0</td>\n",
              "      <td>5.0</td>\n",
              "      <td>12.0</td>\n",
              "      <td>8352.50</td>\n",
              "      <td>2080.0</td>\n",
              "      <td>862.0</td>\n",
              "      <td>8.0</td>\n",
              "      <td>12.0</td>\n",
              "      <td>111.0</td>\n",
              "      <td>46.0</td>\n",
              "      <td>3.0</td>\n",
              "    </tr>\n",
              "    <tr>\n",
              "      <th>2618</th>\n",
              "      <td>3822</td>\n",
              "      <td>Valencia</td>\n",
              "      <td>2020.0</td>\n",
              "      <td>ENE</td>\n",
              "      <td>153.0</td>\n",
              "      <td>28.0</td>\n",
              "      <td>24.0</td>\n",
              "      <td>3.0</td>\n",
              "      <td>22105.20</td>\n",
              "      <td>647.0</td>\n",
              "      <td>3968.3</td>\n",
              "      <td>8.0</td>\n",
              "      <td>6.0</td>\n",
              "      <td>35.5</td>\n",
              "      <td>139.0</td>\n",
              "      <td>2.0</td>\n",
              "    </tr>\n",
              "    <tr>\n",
              "      <th>2619</th>\n",
              "      <td>3823</td>\n",
              "      <td>Portugal</td>\n",
              "      <td>2020.0</td>\n",
              "      <td>ENE</td>\n",
              "      <td>99.0</td>\n",
              "      <td>12.0</td>\n",
              "      <td>10.0</td>\n",
              "      <td>2.0</td>\n",
              "      <td>16625.75</td>\n",
              "      <td>384.0</td>\n",
              "      <td>1866.5</td>\n",
              "      <td>80.0</td>\n",
              "      <td>32.5</td>\n",
              "      <td>514.0</td>\n",
              "      <td>72.0</td>\n",
              "      <td>28.0</td>\n",
              "    </tr>\n",
              "  </tbody>\n",
              "</table>\n",
              "</div>"
            ],
            "text/plain": [
              "        ID  ... Empleados Propios - duración determinada\n",
              "2615  3819  ...                                     14.0\n",
              "2616  3820  ...                                     38.0\n",
              "2617  3821  ...                                      3.0\n",
              "2618  3822  ...                                      2.0\n",
              "2619  3823  ...                                     28.0\n",
              "\n",
              "[5 rows x 16 columns]"
            ]
          },
          "metadata": {
            "tags": []
          },
          "execution_count": 225
        }
      ]
    },
    {
      "cell_type": "code",
      "metadata": {
        "id": "TUC8nVIObaIi"
      },
      "source": [
        "trainning_hours = rrhh_plant[['Planta','Horas Presencia Efectiva Subcontratados', 'Horas Presencia Efectiva ETTs', 'Horas Formacion Seguridad Propios', 'Horas Formacion Seguridad ETTs']]"
      ],
      "execution_count": 226,
      "outputs": []
    },
    {
      "cell_type": "code",
      "metadata": {
        "colab": {
          "base_uri": "https://localhost:8080/",
          "height": 165
        },
        "id": "CKCTghNybt4M",
        "outputId": "d180067f-a053-4df3-dff6-2c11e16dada0"
      },
      "source": [
        "trainning_hours.rename(columns={'Planta':'Fabrica'}, inplace=True)\n",
        "trainning_hours.head(1)"
      ],
      "execution_count": 227,
      "outputs": [
        {
          "output_type": "stream",
          "text": [
            "/usr/local/lib/python3.7/dist-packages/pandas/core/frame.py:4308: SettingWithCopyWarning: \n",
            "A value is trying to be set on a copy of a slice from a DataFrame\n",
            "\n",
            "See the caveats in the documentation: https://pandas.pydata.org/pandas-docs/stable/user_guide/indexing.html#returning-a-view-versus-a-copy\n",
            "  errors=errors,\n"
          ],
          "name": "stderr"
        },
        {
          "output_type": "execute_result",
          "data": {
            "text/html": [
              "<div>\n",
              "<style scoped>\n",
              "    .dataframe tbody tr th:only-of-type {\n",
              "        vertical-align: middle;\n",
              "    }\n",
              "\n",
              "    .dataframe tbody tr th {\n",
              "        vertical-align: top;\n",
              "    }\n",
              "\n",
              "    .dataframe thead th {\n",
              "        text-align: right;\n",
              "    }\n",
              "</style>\n",
              "<table border=\"1\" class=\"dataframe\">\n",
              "  <thead>\n",
              "    <tr style=\"text-align: right;\">\n",
              "      <th></th>\n",
              "      <th>Fabrica</th>\n",
              "      <th>Horas Presencia Efectiva Subcontratados</th>\n",
              "      <th>Horas Presencia Efectiva ETTs</th>\n",
              "      <th>Horas Formacion Seguridad Propios</th>\n",
              "      <th>Horas Formacion Seguridad ETTs</th>\n",
              "    </tr>\n",
              "  </thead>\n",
              "  <tbody>\n",
              "    <tr>\n",
              "      <th>2615</th>\n",
              "      <td>Barcelona</td>\n",
              "      <td>3138.0</td>\n",
              "      <td>1307.5</td>\n",
              "      <td>15.0</td>\n",
              "      <td>23.0</td>\n",
              "    </tr>\n",
              "  </tbody>\n",
              "</table>\n",
              "</div>"
            ],
            "text/plain": [
              "        Fabrica  ...  Horas Formacion Seguridad ETTs\n",
              "2615  Barcelona  ...                            23.0\n",
              "\n",
              "[1 rows x 5 columns]"
            ]
          },
          "metadata": {
            "tags": []
          },
          "execution_count": 227
        }
      ]
    },
    {
      "cell_type": "code",
      "metadata": {
        "id": "-Bn5ixLVcgjz"
      },
      "source": [
        "trainning_hours = trainning_hours.groupby('Fabrica').agg('sum').reset_index()"
      ],
      "execution_count": 228,
      "outputs": []
    },
    {
      "cell_type": "code",
      "metadata": {
        "colab": {
          "base_uri": "https://localhost:8080/",
          "height": 340
        },
        "id": "ouad-9t0bwi6",
        "outputId": "fd5a9a69-9019-4be6-e018-a5c379e69277"
      },
      "source": [
        "staff = staff.merge(trainning_hours, on='Fabrica', how='left')\n",
        "staff.head()"
      ],
      "execution_count": 229,
      "outputs": [
        {
          "output_type": "execute_result",
          "data": {
            "text/html": [
              "<div>\n",
              "<style scoped>\n",
              "    .dataframe tbody tr th:only-of-type {\n",
              "        vertical-align: middle;\n",
              "    }\n",
              "\n",
              "    .dataframe tbody tr th {\n",
              "        vertical-align: top;\n",
              "    }\n",
              "\n",
              "    .dataframe thead th {\n",
              "        text-align: right;\n",
              "    }\n",
              "</style>\n",
              "<table border=\"1\" class=\"dataframe\">\n",
              "  <thead>\n",
              "    <tr style=\"text-align: right;\">\n",
              "      <th></th>\n",
              "      <th>Codigo accidentado</th>\n",
              "      <th>Puesto habitual de trabajo</th>\n",
              "      <th>Turno</th>\n",
              "      <th>Edad</th>\n",
              "      <th>Género</th>\n",
              "      <th>Planta</th>\n",
              "      <th>Tipo accidente</th>\n",
              "      <th>Tipo trabajador</th>\n",
              "      <th>Gravedad potencial</th>\n",
              "      <th>Lugar o seccion accidente</th>\n",
              "      <th>Fabrica</th>\n",
              "      <th>Tecnología</th>\n",
              "      <th>Pais</th>\n",
              "      <th>Horas Presencia Efectiva Subcontratados</th>\n",
              "      <th>Horas Presencia Efectiva ETTs</th>\n",
              "      <th>Horas Formacion Seguridad Propios</th>\n",
              "      <th>Horas Formacion Seguridad ETTs</th>\n",
              "    </tr>\n",
              "  </thead>\n",
              "  <tbody>\n",
              "    <tr>\n",
              "      <th>0</th>\n",
              "      <td>HS-CLMB_2546</td>\n",
              "      <td>Operario de Puente Grúa</td>\n",
              "      <td>Turno de mañana</td>\n",
              "      <td>31</td>\n",
              "      <td>Hombre</td>\n",
              "      <td>20</td>\n",
              "      <td>Accidente c/b</td>\n",
              "      <td>ETT</td>\n",
              "      <td>Muy grave</td>\n",
              "      <td>Células Soldadura</td>\n",
              "      <td>Burgos</td>\n",
              "      <td>Skinpass</td>\n",
              "      <td>España</td>\n",
              "      <td>25249.0</td>\n",
              "      <td>42484.0</td>\n",
              "      <td>1419.3</td>\n",
              "      <td>830.1</td>\n",
              "    </tr>\n",
              "    <tr>\n",
              "      <th>1</th>\n",
              "      <td>HS-CEPA_2563</td>\n",
              "      <td>Engraving</td>\n",
              "      <td>Turno de mañana</td>\n",
              "      <td>35</td>\n",
              "      <td>Hombre</td>\n",
              "      <td>19</td>\n",
              "      <td>Accidente c/b</td>\n",
              "      <td>Indefinido</td>\n",
              "      <td>Leve</td>\n",
              "      <td>Tubos</td>\n",
              "      <td>Burgos</td>\n",
              "      <td>Recocido</td>\n",
              "      <td>España</td>\n",
              "      <td>25249.0</td>\n",
              "      <td>42484.0</td>\n",
              "      <td>1419.3</td>\n",
              "      <td>830.1</td>\n",
              "    </tr>\n",
              "    <tr>\n",
              "      <th>2</th>\n",
              "      <td>HS-GNVT_2564</td>\n",
              "      <td>Titular L-8</td>\n",
              "      <td>Turno de tarde</td>\n",
              "      <td>54</td>\n",
              "      <td>Hombre</td>\n",
              "      <td>12</td>\n",
              "      <td>Accidente s/b</td>\n",
              "      <td>Duración Determinada</td>\n",
              "      <td>Leve</td>\n",
              "      <td>Tubos</td>\n",
              "      <td>Barcelona</td>\n",
              "      <td>Skinpass</td>\n",
              "      <td>España</td>\n",
              "      <td>25684.5</td>\n",
              "      <td>18302.3</td>\n",
              "      <td>1150.6</td>\n",
              "      <td>151.5</td>\n",
              "    </tr>\n",
              "    <tr>\n",
              "      <th>3</th>\n",
              "      <td>HS-GNVT_2565</td>\n",
              "      <td>Carretillero</td>\n",
              "      <td>Turno de mañana</td>\n",
              "      <td>NaN</td>\n",
              "      <td>Hombre</td>\n",
              "      <td>12</td>\n",
              "      <td>Incidente</td>\n",
              "      <td>ETT</td>\n",
              "      <td>Leve</td>\n",
              "      <td>Almacén de Producto Terminado</td>\n",
              "      <td>Barcelona</td>\n",
              "      <td>Skinpass</td>\n",
              "      <td>España</td>\n",
              "      <td>25684.5</td>\n",
              "      <td>18302.3</td>\n",
              "      <td>1150.6</td>\n",
              "      <td>151.5</td>\n",
              "    </tr>\n",
              "    <tr>\n",
              "      <th>4</th>\n",
              "      <td>HS-DNGG_2566</td>\n",
              "      <td>NaN</td>\n",
              "      <td>Turno de mañana</td>\n",
              "      <td>NaN</td>\n",
              "      <td>NaN</td>\n",
              "      <td>41</td>\n",
              "      <td>Incidente</td>\n",
              "      <td>Incidente (no aplica)</td>\n",
              "      <td>Leve</td>\n",
              "      <td>Blanking</td>\n",
              "      <td>Hiasa</td>\n",
              "      <td>Corte Láser</td>\n",
              "      <td>España</td>\n",
              "      <td>0.0</td>\n",
              "      <td>167848.0</td>\n",
              "      <td>1300.5</td>\n",
              "      <td>101.5</td>\n",
              "    </tr>\n",
              "  </tbody>\n",
              "</table>\n",
              "</div>"
            ],
            "text/plain": [
              "  Codigo accidentado  ... Horas Formacion Seguridad ETTs\n",
              "0       HS-CLMB_2546  ...                          830.1\n",
              "1       HS-CEPA_2563  ...                          830.1\n",
              "2       HS-GNVT_2564  ...                          151.5\n",
              "3       HS-GNVT_2565  ...                          151.5\n",
              "4       HS-DNGG_2566  ...                          101.5\n",
              "\n",
              "[5 rows x 17 columns]"
            ]
          },
          "metadata": {
            "tags": []
          },
          "execution_count": 229
        }
      ]
    },
    {
      "cell_type": "markdown",
      "metadata": {
        "id": "Y4Xmhhnpcs1x"
      },
      "source": [
        "Now we are going to calculate the proportion in 2020 between people and accidents occur"
      ]
    },
    {
      "cell_type": "code",
      "metadata": {
        "colab": {
          "base_uri": "https://localhost:8080/",
          "height": 235
        },
        "id": "bwOOUyA_cygZ",
        "outputId": "e83b1cff-a825-47fb-87c6-547be3a03297"
      },
      "source": [
        "employees = pd.read_csv('Datos_plantilla_fabrica.csv', sep=';')\n",
        "employees = employees[['Año', 'Empleados Propios', 'Empleados Ajenos', 'Empleados ETTS',  'Empleados Subcontrata']]\n",
        "employees = employees.fillna(0)\n",
        "employees = employees.groupby(['Año']).agg('sum')\n",
        "employees.head()"
      ],
      "execution_count": 230,
      "outputs": [
        {
          "output_type": "execute_result",
          "data": {
            "text/html": [
              "<div>\n",
              "<style scoped>\n",
              "    .dataframe tbody tr th:only-of-type {\n",
              "        vertical-align: middle;\n",
              "    }\n",
              "\n",
              "    .dataframe tbody tr th {\n",
              "        vertical-align: top;\n",
              "    }\n",
              "\n",
              "    .dataframe thead th {\n",
              "        text-align: right;\n",
              "    }\n",
              "</style>\n",
              "<table border=\"1\" class=\"dataframe\">\n",
              "  <thead>\n",
              "    <tr style=\"text-align: right;\">\n",
              "      <th></th>\n",
              "      <th>Empleados Propios</th>\n",
              "      <th>Empleados Ajenos</th>\n",
              "      <th>Empleados ETTS</th>\n",
              "      <th>Empleados Subcontrata</th>\n",
              "    </tr>\n",
              "    <tr>\n",
              "      <th>Año</th>\n",
              "      <th></th>\n",
              "      <th></th>\n",
              "      <th></th>\n",
              "      <th></th>\n",
              "    </tr>\n",
              "  </thead>\n",
              "  <tbody>\n",
              "    <tr>\n",
              "      <th>0.0</th>\n",
              "      <td>15754.0</td>\n",
              "      <td>3277.0</td>\n",
              "      <td>2490.0</td>\n",
              "      <td>786.0</td>\n",
              "    </tr>\n",
              "    <tr>\n",
              "      <th>2016.0</th>\n",
              "      <td>40609.0</td>\n",
              "      <td>9160.0</td>\n",
              "      <td>0.0</td>\n",
              "      <td>0.0</td>\n",
              "    </tr>\n",
              "    <tr>\n",
              "      <th>2017.0</th>\n",
              "      <td>43291.0</td>\n",
              "      <td>9794.0</td>\n",
              "      <td>0.0</td>\n",
              "      <td>0.0</td>\n",
              "    </tr>\n",
              "    <tr>\n",
              "      <th>2018.0</th>\n",
              "      <td>49865.0</td>\n",
              "      <td>10973.0</td>\n",
              "      <td>7964.0</td>\n",
              "      <td>2993.0</td>\n",
              "    </tr>\n",
              "    <tr>\n",
              "      <th>2019.0</th>\n",
              "      <td>50625.0</td>\n",
              "      <td>10527.0</td>\n",
              "      <td>7823.0</td>\n",
              "      <td>2697.0</td>\n",
              "    </tr>\n",
              "  </tbody>\n",
              "</table>\n",
              "</div>"
            ],
            "text/plain": [
              "        Empleados Propios  ...  Empleados Subcontrata\n",
              "Año                        ...                       \n",
              "0.0               15754.0  ...                  786.0\n",
              "2016.0            40609.0  ...                    0.0\n",
              "2017.0            43291.0  ...                    0.0\n",
              "2018.0            49865.0  ...                 2993.0\n",
              "2019.0            50625.0  ...                 2697.0\n",
              "\n",
              "[5 rows x 4 columns]"
            ]
          },
          "metadata": {
            "tags": []
          },
          "execution_count": 230
        }
      ]
    },
    {
      "cell_type": "code",
      "metadata": {
        "colab": {
          "base_uri": "https://localhost:8080/",
          "height": 204
        },
        "id": "p8S8gP4cdj19",
        "outputId": "a20d8d67-cf9f-4d83-a355-a68f3ba561a7"
      },
      "source": [
        "accidentes = pd.read_csv('HS_Accidentabilidad.csv', sep=';')\n",
        "accidentes = accidentes[['Año', 'Codigo accidentado']]\n",
        "accidentes = accidentes.groupby('Año').agg('count').reset_index()\n",
        "accidentes.rename(columns={'Codigo accidentado':'Accidentes'}, inplace=True)\n",
        "accidentes.head()"
      ],
      "execution_count": 231,
      "outputs": [
        {
          "output_type": "execute_result",
          "data": {
            "text/html": [
              "<div>\n",
              "<style scoped>\n",
              "    .dataframe tbody tr th:only-of-type {\n",
              "        vertical-align: middle;\n",
              "    }\n",
              "\n",
              "    .dataframe tbody tr th {\n",
              "        vertical-align: top;\n",
              "    }\n",
              "\n",
              "    .dataframe thead th {\n",
              "        text-align: right;\n",
              "    }\n",
              "</style>\n",
              "<table border=\"1\" class=\"dataframe\">\n",
              "  <thead>\n",
              "    <tr style=\"text-align: right;\">\n",
              "      <th></th>\n",
              "      <th>Año</th>\n",
              "      <th>Accidentes</th>\n",
              "    </tr>\n",
              "  </thead>\n",
              "  <tbody>\n",
              "    <tr>\n",
              "      <th>0</th>\n",
              "      <td>2015.0</td>\n",
              "      <td>202</td>\n",
              "    </tr>\n",
              "    <tr>\n",
              "      <th>1</th>\n",
              "      <td>2016.0</td>\n",
              "      <td>1335</td>\n",
              "    </tr>\n",
              "    <tr>\n",
              "      <th>2</th>\n",
              "      <td>2017.0</td>\n",
              "      <td>1203</td>\n",
              "    </tr>\n",
              "    <tr>\n",
              "      <th>3</th>\n",
              "      <td>2018.0</td>\n",
              "      <td>1532</td>\n",
              "    </tr>\n",
              "    <tr>\n",
              "      <th>4</th>\n",
              "      <td>2019.0</td>\n",
              "      <td>1526</td>\n",
              "    </tr>\n",
              "  </tbody>\n",
              "</table>\n",
              "</div>"
            ],
            "text/plain": [
              "      Año  Accidentes\n",
              "0  2015.0         202\n",
              "1  2016.0        1335\n",
              "2  2017.0        1203\n",
              "3  2018.0        1532\n",
              "4  2019.0        1526"
            ]
          },
          "metadata": {
            "tags": []
          },
          "execution_count": 231
        }
      ]
    },
    {
      "cell_type": "code",
      "metadata": {
        "colab": {
          "base_uri": "https://localhost:8080/",
          "height": 204
        },
        "id": "A9r6y_xwdxjn",
        "outputId": "8e524b2f-30ac-40db-fc50-664b1efbebdb"
      },
      "source": [
        "employees = employees.merge(accidentes, on='Año', how='inner')\n",
        "employees.head()"
      ],
      "execution_count": 232,
      "outputs": [
        {
          "output_type": "execute_result",
          "data": {
            "text/html": [
              "<div>\n",
              "<style scoped>\n",
              "    .dataframe tbody tr th:only-of-type {\n",
              "        vertical-align: middle;\n",
              "    }\n",
              "\n",
              "    .dataframe tbody tr th {\n",
              "        vertical-align: top;\n",
              "    }\n",
              "\n",
              "    .dataframe thead th {\n",
              "        text-align: right;\n",
              "    }\n",
              "</style>\n",
              "<table border=\"1\" class=\"dataframe\">\n",
              "  <thead>\n",
              "    <tr style=\"text-align: right;\">\n",
              "      <th></th>\n",
              "      <th>Año</th>\n",
              "      <th>Empleados Propios</th>\n",
              "      <th>Empleados Ajenos</th>\n",
              "      <th>Empleados ETTS</th>\n",
              "      <th>Empleados Subcontrata</th>\n",
              "      <th>Accidentes</th>\n",
              "    </tr>\n",
              "  </thead>\n",
              "  <tbody>\n",
              "    <tr>\n",
              "      <th>0</th>\n",
              "      <td>2016.0</td>\n",
              "      <td>40609.0</td>\n",
              "      <td>9160.0</td>\n",
              "      <td>0.0</td>\n",
              "      <td>0.0</td>\n",
              "      <td>1335</td>\n",
              "    </tr>\n",
              "    <tr>\n",
              "      <th>1</th>\n",
              "      <td>2017.0</td>\n",
              "      <td>43291.0</td>\n",
              "      <td>9794.0</td>\n",
              "      <td>0.0</td>\n",
              "      <td>0.0</td>\n",
              "      <td>1203</td>\n",
              "    </tr>\n",
              "    <tr>\n",
              "      <th>2</th>\n",
              "      <td>2018.0</td>\n",
              "      <td>49865.0</td>\n",
              "      <td>10973.0</td>\n",
              "      <td>7964.0</td>\n",
              "      <td>2993.0</td>\n",
              "      <td>1532</td>\n",
              "    </tr>\n",
              "    <tr>\n",
              "      <th>3</th>\n",
              "      <td>2019.0</td>\n",
              "      <td>50625.0</td>\n",
              "      <td>10527.0</td>\n",
              "      <td>7823.0</td>\n",
              "      <td>2697.0</td>\n",
              "      <td>1526</td>\n",
              "    </tr>\n",
              "    <tr>\n",
              "      <th>4</th>\n",
              "      <td>2020.0</td>\n",
              "      <td>65644.0</td>\n",
              "      <td>7114.0</td>\n",
              "      <td>5773.0</td>\n",
              "      <td>1335.0</td>\n",
              "      <td>1122</td>\n",
              "    </tr>\n",
              "  </tbody>\n",
              "</table>\n",
              "</div>"
            ],
            "text/plain": [
              "      Año  Empleados Propios  ...  Empleados Subcontrata  Accidentes\n",
              "0  2016.0            40609.0  ...                    0.0        1335\n",
              "1  2017.0            43291.0  ...                    0.0        1203\n",
              "2  2018.0            49865.0  ...                 2993.0        1532\n",
              "3  2019.0            50625.0  ...                 2697.0        1526\n",
              "4  2020.0            65644.0  ...                 1335.0        1122\n",
              "\n",
              "[5 rows x 6 columns]"
            ]
          },
          "metadata": {
            "tags": []
          },
          "execution_count": 232
        }
      ]
    },
    {
      "cell_type": "code",
      "metadata": {
        "colab": {
          "base_uri": "https://localhost:8080/"
        },
        "id": "hyiYEWhCeT1G",
        "outputId": "81a3b574-b711-47c2-f544-2e955c0b2feb"
      },
      "source": [
        "employees.dtypes"
      ],
      "execution_count": 233,
      "outputs": [
        {
          "output_type": "execute_result",
          "data": {
            "text/plain": [
              "Año                      float64\n",
              "Empleados Propios        float64\n",
              "Empleados Ajenos         float64\n",
              "Empleados ETTS           float64\n",
              "Empleados Subcontrata    float64\n",
              "Accidentes                 int64\n",
              "dtype: object"
            ]
          },
          "metadata": {
            "tags": []
          },
          "execution_count": 233
        }
      ]
    },
    {
      "cell_type": "code",
      "metadata": {
        "id": "f_m4PyTsebt8"
      },
      "source": [
        "employees['Total_emp'] = employees['Empleados Propios'] + employees['Empleados Ajenos'] + employees['Empleados ETTS'] + employees['Empleados Subcontrata']"
      ],
      "execution_count": 234,
      "outputs": []
    },
    {
      "cell_type": "code",
      "metadata": {
        "colab": {
          "base_uri": "https://localhost:8080/",
          "height": 204
        },
        "id": "mRNPhfJjetv3",
        "outputId": "640cb0d6-3c5f-460e-9274-d695ade64059"
      },
      "source": [
        "employees = employees[['Año', 'Accidentes', 'Total_emp']]\n",
        "\n",
        "employees['perc_acc'] = employees['Accidentes'] / employees['Total_emp'] * 100\n",
        "employees.head()"
      ],
      "execution_count": 235,
      "outputs": [
        {
          "output_type": "execute_result",
          "data": {
            "text/html": [
              "<div>\n",
              "<style scoped>\n",
              "    .dataframe tbody tr th:only-of-type {\n",
              "        vertical-align: middle;\n",
              "    }\n",
              "\n",
              "    .dataframe tbody tr th {\n",
              "        vertical-align: top;\n",
              "    }\n",
              "\n",
              "    .dataframe thead th {\n",
              "        text-align: right;\n",
              "    }\n",
              "</style>\n",
              "<table border=\"1\" class=\"dataframe\">\n",
              "  <thead>\n",
              "    <tr style=\"text-align: right;\">\n",
              "      <th></th>\n",
              "      <th>Año</th>\n",
              "      <th>Accidentes</th>\n",
              "      <th>Total_emp</th>\n",
              "      <th>perc_acc</th>\n",
              "    </tr>\n",
              "  </thead>\n",
              "  <tbody>\n",
              "    <tr>\n",
              "      <th>0</th>\n",
              "      <td>2016.0</td>\n",
              "      <td>1335</td>\n",
              "      <td>49769.0</td>\n",
              "      <td>2.682393</td>\n",
              "    </tr>\n",
              "    <tr>\n",
              "      <th>1</th>\n",
              "      <td>2017.0</td>\n",
              "      <td>1203</td>\n",
              "      <td>53085.0</td>\n",
              "      <td>2.266177</td>\n",
              "    </tr>\n",
              "    <tr>\n",
              "      <th>2</th>\n",
              "      <td>2018.0</td>\n",
              "      <td>1532</td>\n",
              "      <td>71795.0</td>\n",
              "      <td>2.133853</td>\n",
              "    </tr>\n",
              "    <tr>\n",
              "      <th>3</th>\n",
              "      <td>2019.0</td>\n",
              "      <td>1526</td>\n",
              "      <td>71672.0</td>\n",
              "      <td>2.129144</td>\n",
              "    </tr>\n",
              "    <tr>\n",
              "      <th>4</th>\n",
              "      <td>2020.0</td>\n",
              "      <td>1122</td>\n",
              "      <td>79866.0</td>\n",
              "      <td>1.404853</td>\n",
              "    </tr>\n",
              "  </tbody>\n",
              "</table>\n",
              "</div>"
            ],
            "text/plain": [
              "      Año  Accidentes  Total_emp  perc_acc\n",
              "0  2016.0        1335    49769.0  2.682393\n",
              "1  2017.0        1203    53085.0  2.266177\n",
              "2  2018.0        1532    71795.0  2.133853\n",
              "3  2019.0        1526    71672.0  2.129144\n",
              "4  2020.0        1122    79866.0  1.404853"
            ]
          },
          "metadata": {
            "tags": []
          },
          "execution_count": 235
        }
      ]
    },
    {
      "cell_type": "markdown",
      "metadata": {
        "id": "GAQCk2Ozfla8"
      },
      "source": [
        "For our analysis we are going to suppose we have a year staff, with all people. \n",
        "We would have 79900 people with around 7000 people who have suffered an accident on the past years."
      ]
    },
    {
      "cell_type": "code",
      "metadata": {
        "colab": {
          "base_uri": "https://localhost:8080/"
        },
        "id": "EViQKE4PgK6n",
        "outputId": "ca02e870-6656-4ec9-f212-91dcacbceee6"
      },
      "source": [
        "len(staff)"
      ],
      "execution_count": 236,
      "outputs": [
        {
          "output_type": "execute_result",
          "data": {
            "text/plain": [
              "4180"
            ]
          },
          "metadata": {
            "tags": []
          },
          "execution_count": 236
        }
      ]
    },
    {
      "cell_type": "code",
      "metadata": {
        "colab": {
          "base_uri": "https://localhost:8080/",
          "height": 340
        },
        "id": "Uu_tlzE2gFl2",
        "outputId": "3b62117e-d637-4273-9814-53cdf2932848"
      },
      "source": [
        "#we add a new column to indetify those people who have suffered an accident in our dataset\n",
        "staff['Accident'] = 'Yes'\n",
        "staff.head()"
      ],
      "execution_count": 237,
      "outputs": [
        {
          "output_type": "execute_result",
          "data": {
            "text/html": [
              "<div>\n",
              "<style scoped>\n",
              "    .dataframe tbody tr th:only-of-type {\n",
              "        vertical-align: middle;\n",
              "    }\n",
              "\n",
              "    .dataframe tbody tr th {\n",
              "        vertical-align: top;\n",
              "    }\n",
              "\n",
              "    .dataframe thead th {\n",
              "        text-align: right;\n",
              "    }\n",
              "</style>\n",
              "<table border=\"1\" class=\"dataframe\">\n",
              "  <thead>\n",
              "    <tr style=\"text-align: right;\">\n",
              "      <th></th>\n",
              "      <th>Codigo accidentado</th>\n",
              "      <th>Puesto habitual de trabajo</th>\n",
              "      <th>Turno</th>\n",
              "      <th>Edad</th>\n",
              "      <th>Género</th>\n",
              "      <th>Planta</th>\n",
              "      <th>Tipo accidente</th>\n",
              "      <th>Tipo trabajador</th>\n",
              "      <th>Gravedad potencial</th>\n",
              "      <th>Lugar o seccion accidente</th>\n",
              "      <th>Fabrica</th>\n",
              "      <th>Tecnología</th>\n",
              "      <th>Pais</th>\n",
              "      <th>Horas Presencia Efectiva Subcontratados</th>\n",
              "      <th>Horas Presencia Efectiva ETTs</th>\n",
              "      <th>Horas Formacion Seguridad Propios</th>\n",
              "      <th>Horas Formacion Seguridad ETTs</th>\n",
              "      <th>Accident</th>\n",
              "    </tr>\n",
              "  </thead>\n",
              "  <tbody>\n",
              "    <tr>\n",
              "      <th>0</th>\n",
              "      <td>HS-CLMB_2546</td>\n",
              "      <td>Operario de Puente Grúa</td>\n",
              "      <td>Turno de mañana</td>\n",
              "      <td>31</td>\n",
              "      <td>Hombre</td>\n",
              "      <td>20</td>\n",
              "      <td>Accidente c/b</td>\n",
              "      <td>ETT</td>\n",
              "      <td>Muy grave</td>\n",
              "      <td>Células Soldadura</td>\n",
              "      <td>Burgos</td>\n",
              "      <td>Skinpass</td>\n",
              "      <td>España</td>\n",
              "      <td>25249.0</td>\n",
              "      <td>42484.0</td>\n",
              "      <td>1419.3</td>\n",
              "      <td>830.1</td>\n",
              "      <td>Yes</td>\n",
              "    </tr>\n",
              "    <tr>\n",
              "      <th>1</th>\n",
              "      <td>HS-CEPA_2563</td>\n",
              "      <td>Engraving</td>\n",
              "      <td>Turno de mañana</td>\n",
              "      <td>35</td>\n",
              "      <td>Hombre</td>\n",
              "      <td>19</td>\n",
              "      <td>Accidente c/b</td>\n",
              "      <td>Indefinido</td>\n",
              "      <td>Leve</td>\n",
              "      <td>Tubos</td>\n",
              "      <td>Burgos</td>\n",
              "      <td>Recocido</td>\n",
              "      <td>España</td>\n",
              "      <td>25249.0</td>\n",
              "      <td>42484.0</td>\n",
              "      <td>1419.3</td>\n",
              "      <td>830.1</td>\n",
              "      <td>Yes</td>\n",
              "    </tr>\n",
              "    <tr>\n",
              "      <th>2</th>\n",
              "      <td>HS-GNVT_2564</td>\n",
              "      <td>Titular L-8</td>\n",
              "      <td>Turno de tarde</td>\n",
              "      <td>54</td>\n",
              "      <td>Hombre</td>\n",
              "      <td>12</td>\n",
              "      <td>Accidente s/b</td>\n",
              "      <td>Duración Determinada</td>\n",
              "      <td>Leve</td>\n",
              "      <td>Tubos</td>\n",
              "      <td>Barcelona</td>\n",
              "      <td>Skinpass</td>\n",
              "      <td>España</td>\n",
              "      <td>25684.5</td>\n",
              "      <td>18302.3</td>\n",
              "      <td>1150.6</td>\n",
              "      <td>151.5</td>\n",
              "      <td>Yes</td>\n",
              "    </tr>\n",
              "    <tr>\n",
              "      <th>3</th>\n",
              "      <td>HS-GNVT_2565</td>\n",
              "      <td>Carretillero</td>\n",
              "      <td>Turno de mañana</td>\n",
              "      <td>NaN</td>\n",
              "      <td>Hombre</td>\n",
              "      <td>12</td>\n",
              "      <td>Incidente</td>\n",
              "      <td>ETT</td>\n",
              "      <td>Leve</td>\n",
              "      <td>Almacén de Producto Terminado</td>\n",
              "      <td>Barcelona</td>\n",
              "      <td>Skinpass</td>\n",
              "      <td>España</td>\n",
              "      <td>25684.5</td>\n",
              "      <td>18302.3</td>\n",
              "      <td>1150.6</td>\n",
              "      <td>151.5</td>\n",
              "      <td>Yes</td>\n",
              "    </tr>\n",
              "    <tr>\n",
              "      <th>4</th>\n",
              "      <td>HS-DNGG_2566</td>\n",
              "      <td>NaN</td>\n",
              "      <td>Turno de mañana</td>\n",
              "      <td>NaN</td>\n",
              "      <td>NaN</td>\n",
              "      <td>41</td>\n",
              "      <td>Incidente</td>\n",
              "      <td>Incidente (no aplica)</td>\n",
              "      <td>Leve</td>\n",
              "      <td>Blanking</td>\n",
              "      <td>Hiasa</td>\n",
              "      <td>Corte Láser</td>\n",
              "      <td>España</td>\n",
              "      <td>0.0</td>\n",
              "      <td>167848.0</td>\n",
              "      <td>1300.5</td>\n",
              "      <td>101.5</td>\n",
              "      <td>Yes</td>\n",
              "    </tr>\n",
              "  </tbody>\n",
              "</table>\n",
              "</div>"
            ],
            "text/plain": [
              "  Codigo accidentado  ... Accident\n",
              "0       HS-CLMB_2546  ...      Yes\n",
              "1       HS-CEPA_2563  ...      Yes\n",
              "2       HS-GNVT_2564  ...      Yes\n",
              "3       HS-GNVT_2565  ...      Yes\n",
              "4       HS-DNGG_2566  ...      Yes\n",
              "\n",
              "[5 rows x 18 columns]"
            ]
          },
          "metadata": {
            "tags": []
          },
          "execution_count": 237
        }
      ]
    },
    {
      "cell_type": "code",
      "metadata": {
        "colab": {
          "base_uri": "https://localhost:8080/"
        },
        "id": "BOluCL_zgY2w",
        "outputId": "493338b4-5680-4bee-ec5e-7ec44afdca71"
      },
      "source": [
        "#plant data we dont have any null values\n",
        "staff['Planta'].unique()"
      ],
      "execution_count": 238,
      "outputs": [
        {
          "output_type": "execute_result",
          "data": {
            "text/plain": [
              "array([20, 19, 12, 41,  7,  1, 13, 28,  2,  5, 26, 16, 25, 15, 36, 35, 33,\n",
              "       53, 54,  4, 14, 34, 27, 29, 32, 57,  6, 56, 30, 55, 46, 43, 45, 18,\n",
              "       44, 63, 47, 84])"
            ]
          },
          "metadata": {
            "tags": []
          },
          "execution_count": 238
        }
      ]
    },
    {
      "cell_type": "code",
      "metadata": {
        "colab": {
          "base_uri": "https://localhost:8080/"
        },
        "id": "RsPbnhW0ggWN",
        "outputId": "09f2ccc2-c631-4371-cf1e-75a6ffccf332"
      },
      "source": [
        "##work position\n",
        "\n",
        "positions = staff['Puesto habitual de trabajo'].unique()\n",
        "len(positions)"
      ],
      "execution_count": 239,
      "outputs": [
        {
          "output_type": "execute_result",
          "data": {
            "text/plain": [
              "794"
            ]
          },
          "metadata": {
            "tags": []
          },
          "execution_count": 239
        }
      ]
    },
    {
      "cell_type": "code",
      "metadata": {
        "id": "InbOHf9-kMJV"
      },
      "source": [
        "import random\n",
        "import numpy as np \n",
        "\n",
        "staff['wk_position'] = np.random.choice(positions, size=len(staff))"
      ],
      "execution_count": 240,
      "outputs": []
    },
    {
      "cell_type": "code",
      "metadata": {
        "colab": {
          "base_uri": "https://localhost:8080/"
        },
        "id": "w9j1MGl6hwHz",
        "outputId": "3eb061a6-cd83-421d-db52-66f0519efb82"
      },
      "source": [
        "staff['wk_position'].unique()"
      ],
      "execution_count": 241,
      "outputs": [
        {
          "output_type": "execute_result",
          "data": {
            "text/plain": [
              "array(['galvanized-hanging-handling', 'Auxiliar Trans 4',\n",
              "       'Equipo de preparación de montajes',\n",
              "       'Manual operation on protective rods', ': Operador II',\n",
              "       'Mantenimiento electrico', 'Red Bud Blanking Line',\n",
              "       'Desmontaje de la herramienta después de la producción de la línea 1 para colocarla en el almacén de matrices – matriz núm. 26',\n",
              "       'Titular de Linea', 'operatorof Press', 'EMBALADORA',\n",
              "       'Montador Prensa 002', '包装packaging', 'EMBALADORA LC6',\n",
              "       'CARRETILLERO TRANS005', 'embaladora nave 2',\n",
              "       'Operating the portalcrane', 'carretillero', 'OPERARIO LONGI 3',\n",
              "       'Packing team member ', 'operator of packaging',\n",
              "       'Maschinenführer 2 Presse 2', 'Gruista tubos', 'Instandhalter',\n",
              "       'Ayudante de perfiladora de Dimeco', 'Titular LCL',\n",
              "       'soldador/gruista', 'Gruista Nave 2 - 3',\n",
              "       'Operario Entrada Decapado M1', 'Alimentador P3',\n",
              "       'Chófer/camionero', 'EMBALADORA 2', 'Cizal - Guilhotina',\n",
              "       'Auxiliares de Logistica\\r\\nOperador de Grua Telescopica',\n",
              "       'Carretillera', 'Incidente sin personas implicadas',\n",
              "       'OPERARIO TREN DE TROQUELADO', 'OPERARIOS DE CARGA',\n",
              "       'Operario de mantenimiento', 'Prozessoptimierer',\n",
              "       'Maquinista TRANS005', 'Slitting Line Operator',\n",
              "       'Neutra De Galvanizado', 'Forklift', 'EMBAL480',\n",
              "       'Slitting Operator', 'Maschinenführer 1 Presse 7', 'Carretilleros',\n",
              "       'Operario Puente grúa', 'Staplerfahrer Halle 3', 'EMBALADOR 480',\n",
              "       'Carpinteria', 'Maschinen- und Anlagenführer',\n",
              "       'OPERADOR PUENTE GRUA', 'Operario de Puente Grúa', 'Packer',\n",
              "       'caretillero', 'Operador de Har lan', 'Plazmada kesim',\n",
              "       'Expediciones, carga de camiones', 'metal grinding - 2A hole',\n",
              "       'Conductor Tren', 'Maschinenführer 1 Presse 3',\n",
              "       'Maquinista Sierras Corte Tubos', 'Maestro', 'Salida Galvanizado',\n",
              "       'slitting Op ', 'Si. Jefe cortadora Mair.',\n",
              "       'Camionero ( PARDO FREIJO) Gruista Gancho C (Gonvauto Galicia)',\n",
              "       'Soldador 001', 'IT-Administrator', 'OPERADOR CARRETILLA',\n",
              "       'GRUISTA - EMBALADOR', 'slitting operator', 'Trasladando bobina',\n",
              "       'Carretillero', 'Responsable de Calidad, SGI, SPG',\n",
              "       'Rework Operation', 'Auxiliar de Laboratorio',\n",
              "       'Controlador de proceso', 'Gruista de tubo tracker',\n",
              "       'Ayudante volteador', 'Techniker', 'Alimentador',\n",
              "       'Operador auxiliar', 'tooling work', 'Gruista/cargador',\n",
              "       'Maschinenführer LONGI002', 'Expedição - enlonamento',\n",
              "       'EMBALADORA 1', 'LONGI 6', 'Slitter Op',\n",
              "       'Mick Brennan is responsible for all cranes and lifting equipment',\n",
              "       'No, su puesto habitual es entrada decapado', 'Laser Trumpf',\n",
              "       'Operador Decapado', 'SI. Carretillero', 'Laboratorio de Calidad',\n",
              "       'sacado de los palés verdes de la zona para suministrarlos a las líneas como bases de palés alternativos, utilizados reiteradamente por Gestamp',\n",
              "       'Colgador', 'Gruista ( PARDO FREIJO) Subcontrata',\n",
              "       'Forklift Driver', 'FLEJADOR TRANS002', 'Titular LONGI001',\n",
              "       'Maschinenführer 1 Presse 4/6', 'TITULAR LÍNEA CORTE PRENSA I',\n",
              "       'LINEA DE PRENSA', 'Sorting and packing product',\n",
              "       'Jefe Ventas Zona Sur', 'LCP 02', 'LkW-Fahrer',\n",
              "       'Staplerfahrer Halle 2 und 3', 'Punzonadora',\n",
              "       'CARPINTERO TRANS001', 'LONGI004', 'Gruista de tubos',\n",
              "       'LIDER LONGI002', 'Puente Grua Galvanizado', 'Maschinenführerin 1',\n",
              "       'MF1 LONGI001', 'Corte plasma', 'Maschinenführer 2',\n",
              "       'Descargador Galvanizado', 'Grua Caldera Galvanizado',\n",
              "       'Gruista perfiladoras', 'PRENSA 001', 'NÃO SE APLICA',\n",
              "       'Tool & Die tech from Gestamp working onsite at Gonvauto',\n",
              "       'Maschinenführer 2 Presse 7', 'maquinista de robot de soldadura',\n",
              "       'Ninguno de los implicados desempeñaban funciones habituales en la línea donde se produjo el incidente.',\n",
              "       'foreman', 'Mechatroinker', 'Operador de Produção II',\n",
              "       'Traslado de bobinas del almacén de materia prima para su corte en la línea transversal PRENS002',\n",
              "       'Maquinista linea de corte longitudinal',\n",
              "       'GRUISTA DE ENTRADA LINEA DE DECAPADO',\n",
              "       'Operador Auxiliar / Montador de árvores de navalhas',\n",
              "       'Supervisor Logistik', 'Operario de pantógrafo', 'worker',\n",
              "       'Movimentação', 'Embalador Prensas', 'CONTROLADOR DE PROCESOS',\n",
              "       'Gruista y limpieza de caldera', 'Press Operator',\n",
              "       'Carretillero/Gruista', 'Operario de Linea',\n",
              "       'galvanized packaking', 'Operario de Máquina',\n",
              "       'Descarga galvanizado', 'Verlader / Staplerfahrer Halle 8',\n",
              "       'MF2 Presse 1', 'LONGI009', 'Titular Circulares', 'hanger',\n",
              "       'Embalador', 'EMBALADOR 015', 'Lkw-Fahrer',\n",
              "       'Operador de Embalagem / Operador Auxiliar',\n",
              "       'Titular Línea Corte Prensa II', 'Team Leader', 'Galvanizado',\n",
              "       'Tubos', 'Ferienarbeiter', 'maquinista',\n",
              "       'Movimiento de carretilla elevadora', 'packaking -road safety',\n",
              "       'Auxiliar máquina 1', 'Slitter Operators ', 'Material handler',\n",
              "       'Operador de montagem de árvores de navalhas / Operador auxiliar',\n",
              "       'Operador de Logística', 'Mitarbeiter Schrottentsorgung',\n",
              "       'Pupitre de entrada decapado', 'Programador', '.',\n",
              "       'Perfiles abiertos', 'LINEAS DE CORTE LONGITUDINAL',\n",
              "       'Pote Galvanizado', 'customer', 'Gruista de salida galvanizado',\n",
              "       'Embaladora Longi 6', 'Na', 'Auxiliar de logística',\n",
              "       'Weighbridge Operator', 'Operador de montacargas', 'MF1 Presse 1',\n",
              "       'Mechatroniker', 'Montacarguista (en entrenamiento)',\n",
              "       'gruista en nave 6b zona carga', 'EMBAL015', 'Embaladora',\n",
              "       'ayudante longi008', 'alimentador', 'DESCARGAS',\n",
              "       'Working on Press', 'Hornero', 'CARRETILLERO PRENS004',\n",
              "       'Operador auxiliar LCT', 'Staplerfahrer Halle 7',\n",
              "       'External Agency - Camera Installer', 'Verlader Halle 8',\n",
              "       'Operario plasma', 'AYUDANTE LONGI004', 'Kranführer Halle 3',\n",
              "       'No hay personas implicadas', 'Operario de granallado',\n",
              "       'MAQUINISTA Y AYUDANTE TRANSVERSAL 4',\n",
              "       'operator on packaging line', 'Operador Logística 2', 'plegador',\n",
              "       'Embalaje del material en la línea de embalaje, cliente: Hydrapres S.A',\n",
              "       'Operador puente grúa', 'packer', 'Maschinenführer 2  LONGI 001',\n",
              "       'Cargador', 'Cargador zona de negro', 'Nacharbeiter',\n",
              "       'Bediener Biele-Wender, Halle 8', 'Supplier', 'maquinista lc',\n",
              "       'Descargador', 'Transportista externo(Telemix)',\n",
              "       'Alimentador de perfiladora', 'Staplerfahrer Halle 2',\n",
              "       'montador LONGI008', 'Maschinenführer 2 LONGI001', 'Kranführer',\n",
              "       'Técnico de Mantenimiento', 'material carrying-plasma',\n",
              "       'Línea Longitudinal', 'Gruista caldera', 'TREN DE LAMINACIÓN',\n",
              "       'Soldadura', 'Vaciado contenedores de chatarra', 'store-keeper',\n",
              "       'Ayudante de longitudinal', 'Maschinenbediener Presse 5',\n",
              "       'AUXILIAR LONGI 3', 'none', 'Longi 1', 'Maquinista perfiladora',\n",
              "       'Maschinenführer 1 Presse', 'Verpacker Halle 4', 'AUXILIAR LONGI',\n",
              "       'Operador auxiliar / Montador de árvores de navalhas',\n",
              "       'Operador Principal (Em formação)', 'sierra de madera',\n",
              "       'galvanized-  packaging', 'Auxiliar de producción',\n",
              "       'Staplerfahrerin', 'Supervisor Mantenimiento',\n",
              "       'Recibidor línea 3mts', 'Gruista entrada decapado',\n",
              "       'Maschinenführer 1 Presse 5', 'Verlader / Staplerfahrer',\n",
              "       'Carga y descarga vagones', 'Cargue de material',\n",
              "       'Driver for Adam Jones', 'GRUISTA DE TUBO TRACKER', 'Maintenance',\n",
              "       'Lifting', 'EMBALADORA NAVE 2', 'Proceso Galva',\n",
              "       'Operador Principal LCL', 'Maschinenbediener/-einrichter Presse 5',\n",
              "       'Wergzeugmacher', 'packaging worker', 'Maquinista plasma',\n",
              "       'Manutenção', 'Empaquetador tubos', 'MAQUINISTA PRENSA004', 'SI',\n",
              "       'Gruista Nave 4.', 'shift manager', 'Mantenimiento',\n",
              "       'EMBALADOR TRANS002', 'Auxiliar línea 11', 'Gruista/soldador',\n",
              "       'Auxiliar/Montador', 'Titular Robot Soldadura 002',\n",
              "       'Titular Corte Termico', 'assistant of operator',\n",
              "       'Maniobra de marcha atrás después de dejar el palé con producto acabado en la zona B3',\n",
              "       'Transporte de material acabado', 'Operador II',\n",
              "       'Gruista 6B Negro', 'AYUDANTE PRENS004', 'LIDER LONGI06',\n",
              "       'Maschinenführer 1, Presse 2', 'forklift external maintance',\n",
              "       'Traslados', 'Madera Prensas', 'EMABALADOR', 'Gruista ácido',\n",
              "       'Fahrer Räumfahrzeug', 'Zona de Picos de Nave 3',\n",
              "       'Empaquetador en formación', 'Werkzeugmacher',\n",
              "       'Mitarbeiter Qualitätsmanagement',\n",
              "       'Operador de Recolha de Resíduos', 'Operario máquina III',\n",
              "       'CARRETILLERO', 'Auszubildender Mechatroniker',\n",
              "       'OPERARIO LONGI 05', 'Kranführer Halle 2', 'EMBALADORA015',\n",
              "       'TPM loading car loop', 'safety guard', 'CARGADOR ENTRADA',\n",
              "       'Gruista nave 6b zona de carga', 'supplier',\n",
              "       'Maschinenführer 1, Presse 3', 'AUXILIAR TRANS 4',\n",
              "       'Cargador negro/gruista', 'GRUISTA DE ENTRADA EN TUBOS',\n",
              "       'Cargador Galvanizado', 'Carrying a pole via forklift',\n",
              "       'Área de manutenção de ferramentas da prensa (Matrizes de corte)',\n",
              "       'Carga material negro', 'Líneas de Corte Longitudinal',\n",
              "       'Operadores limpieza de caldera y gruista de caldera', 'n/a ',\n",
              "       'Shift Manager', 'Forklift driver', 'Corte térmico ',\n",
              "       'Crane operator', 'Maschinenführer Presse 4/6',\n",
              "       'OPERADOR DE CARRETILLA', 'Auxiliar logística', 'Platinen wenden',\n",
              "       'Final Product Logistic Operator',\n",
              "       'Material Handler moving stock around and loading vehicles',\n",
              "       'Auxiliar Línea Corte Longitudinal', 'Alimentador Tubos',\n",
              "       'Alimentador de perfiladoras de tubos',\n",
              "       'Auxiliar/montador LONGI002', 'Gruista nave 6b zona negro',\n",
              "       'AYUDANTE PRENSA002', 'Cargador/descargador', 'TORO GRANDE',\n",
              "       'GRUISTA', 'Si', 'Verificador tubos 601', 'Staplerfahrer Halle 5',\n",
              "       'VARIOS - EMBALAJE DE BOBINAS', 'Tornero mecanico',\n",
              "       'Operario entrada linea decapado',\n",
              "       'Operador Principal / montador de árvore de navalhas',\n",
              "       'roll form machine', 'Operador Logistico I',\n",
              "       'Auxiliar de produccion', 'CHOFER', 'Maschinenbedienerin',\n",
              "       'Ayudante longitudinal', 'Jefe de gestión de Mantenimiento',\n",
              "       'Logistic Forklift Driver', 'Maquinista tubos',\n",
              "       'Maintenance Manager', 'DIRECTOR COMERCIAL', 'LONGI002', '/ ',\n",
              "       'Electromecánico', 'Recibido de galvanizado', 'Bobinero',\n",
              "       'MF2 LONGI002', 'MAQUINISTA CORTE LONGITUDINAL',\n",
              "       'Maschinenführer 2 Presse 1', 'Maquinista longitudinales',\n",
              "       'Entrada Decapado M1', 'Embalador 1', 'Loading team leader',\n",
              "       'Cargador de entrada', 'Proceso decapado', 'Bestücker LSL 2',\n",
              "       'responsible for the shift', 'CARPINTERIA',\n",
              "       'Reemplazo de herramienta en la línea de corte transversal PRENS002',\n",
              "       'Montador LONGI001', 'Verpackerin', 'Kranführer Halle 1 Süd',\n",
              "       'Troquelista', 'Torro Hyster', 'Maquinista líder PRENS004',\n",
              "       'Slitting line Operator', 'Maquinista Perfiladora Tubos',\n",
              "       'maquinista de maquina laser', 'Forklift kullan?m?',\n",
              "       'Director Comercial Planta', 'Camionero externo',\n",
              "       'Maschinenführer 2 Presse 5', 'Ayudante perfiladora Dimeco',\n",
              "       'bobinero', 'Soldador/gruista', 'OPERARIO DE LINEA',\n",
              "       'Operator / Stacker Operator', 'Almacenes',\n",
              "       'Descarga Galvanizado.', 'Maschinenführer 1 Presse 1',\n",
              "       'empaquetador', 'Operario de Entrada M1 y Gruista',\n",
              "       'Slitting Operator ', 'Titular de Línea',\n",
              "       'Gruista Subcontrata Pardo Freijo', 'Rework',\n",
              "       'Alimentador Tubos 601',\n",
              "       'Gruista de caldera y limpieza de caldera',\n",
              "       'Director de produccción', 'EMBALAJE MANUAL', 'Operador Logistico',\n",
              "       'Power Press Op', 'Operario de producción', 'Engraving', 'Gruísta',\n",
              "       'Gruista del ácido', 'EMBALADOR', 'Supervisor', 'TRANS002',\n",
              "       'Toolmaker', 'Maestro II', 'maquinista longi009', 'EPM',\n",
              "       'gruista tracker', 'Titular Linea', 'galvanized',\n",
              "       'Jefe de Mantenimiento', 'ayudante de longitudinal',\n",
              "       'Grúa de salida', 'línea de corte', 'Operador de Embalagem LCL',\n",
              "       'soldador maquinista', 'Carreteillero', 'Longi 6', 'TRANS005',\n",
              "       'guardrail-road safety', 'OPEN COIL', 'Montador LC4',\n",
              "       'Werkzeugbau',\n",
              "       'Activación del descenso de la puerta después de haber entrado en la nave para preparar el vehículo para la descarga en la zona designada.',\n",
              "       'Working in I T Department', 'Montador / Auxiliar LONGI003',\n",
              "       'Maquinista', 'MF2 LONGI001', 'Líder de Logistica y Planeación',\n",
              "       'Ayudante CIZAL008', 'Handling material', 'Gruista de caldera',\n",
              "       'MONTADORA', 'Regular function',\n",
              "       'Material  Handler / Slitting Operator', 'soldadura',\n",
              "       'GRUISTA DE CALDERA Y OPERARIOS DE LIMPIEZA',\n",
              "       'Staplerfahrer Halle 8', '占从涛', 'Gruista y Maquinista Trans',\n",
              "       'Sierra corte metal',\n",
              "       'Preparación del material para el corte en la línea, corte flejado',\n",
              "       'Operador de har lan', 'OPERARIO DE MÁQUINA', 'N/A ',\n",
              "       'Descargador galvanizado', 'Handling the equipment',\n",
              "       'Auxiliar TRANS003', 'Drove the forklift fork the products',\n",
              "       'Nacharbeit', 'Gruista', 'empaquetadora/ flejado', 'LONGI008',\n",
              "       'Maschinenführer 2 Pressen', 'Alimentador tubos 601',\n",
              "       'Oxygen welding', 'SI. Auxiliar Evacuación MTM2',\n",
              "       'Auxiliar de linea', 'Verpacker Presse 3', 'TRANS 4',\n",
              "       'DESCARGADOR GALVANIZADO', 'Empaquetador Tubos',\n",
              "       'Flejador Línea Corte Prensa I', 'Soldador y gruista',\n",
              "       'MONTADOR LONGI008', 'carretilla', 'AYUDANTE PRENS001',\n",
              "       'MATRICERO', 'assembler of circular knives', 'Control Calidad',\n",
              "       '-', 'Flejador-embalador', 'Inspector de Calidad', 'si',\n",
              "       'Gruista LONGI004 y LONGI008', 'Oxgyen cutting',\n",
              "       'Operador de montacargas asistido en la carga de camiones',\n",
              "       'Flejado y embalado', 'Longi 2', 'Operador Puente Grúa',\n",
              "       'Auxiliar', 'Jigging', 'Maquinista LC4',\n",
              "       'Titular Línea Corte Transversal', 'Gruista Procesos', 'press op ',\n",
              "       'Auxiliar Línea Corte Prensa I', 'LONGI 1', 'Maintenance Engineer',\n",
              "       'Gruista Longi004 -Longi008', 'Gruista entrada',\n",
              "       'Operador Logístico I', 'Conductor Toro Hyster', 'store keeper',\n",
              "       'gruista de salida', 'Kranfahrer Halle 1 Nord',\n",
              "       'operative Logistikfachkraft', 'LONGI2',\n",
              "       'Titular Línea Corte Prensa I', 'ENH CNC OPERATOR',\n",
              "       'Puente Grua Tubos', 'Operario Puente Grúa', nan, 'OPERARIO',\n",
              "       'Operador de Embalagem',\n",
              "       'Lkw-Fahrer von Veolia-Umweltservice (extern)', 'gruista varios',\n",
              "       'LCP 03', 'Maquinista Trans 003', 'Flejador', 'Packaging Operator',\n",
              "       'Verpacker', 'GRUISTA PTA07 PTA08', 'Staplerfahrer',\n",
              "       'Titular de longi004', 'POTE', 'CARRETILLA', 'Operador Principal',\n",
              "       'GRUISTA LONGI004-008+MANTENIMIENTO+MAQUINISTA LONGI008',\n",
              "       'Ayudante LONGI004', 'Maquinista Adige TS72', 'Entrada Decapado',\n",
              "       'Handling', 'Automatenbefüller', 'Maschinenführer',\n",
              "       'GRUISTA NAVE 5', 'Puente Grua - Flejador', 'Si (empresa externa)',\n",
              "       'Maquinista longitudinal', 'Soldador II',\n",
              "       'Operario de puente grúa', 'alimentador p5', 'Crane Operator',\n",
              "       'Caretilla', 'PERSONAL DE LINEA', 'Kranfahrer',\n",
              "       'Operario procesos', 'PRENSA002', 'Press Operator/Crane',\n",
              "       'Ensamblado tubo tracker (plantilla 2)',\n",
              "       'Maschinenführer Presse 7', 'Montador/auxiliar LONGI003',\n",
              "       'CARPINTERO TRANS002', 'Apprentice Maintenance',\n",
              "       'Puente Grua Longitudinales Y Transversales', 'Operador principal',\n",
              "       'wrapping and packing bundles of steel ', 'CARRETILLERO PRENSAS',\n",
              "       'Linha de corte transversal', 'LONGI06', 'Chofer',\n",
              "       'Verpacker Halle 3', 'proceso', 'Empaquetador', 'Montacarguista',\n",
              "       'Operador Puente-Grúa', 'Alimentador tubos', 'PROCESOS',\n",
              "       'welding for polygon', 'Maschinenführer Presse 1',\n",
              "       'MAQUINISTA PERFILADORAS', 'Shipping Coordinator', 'GRUA CALDERA',\n",
              "       'EMBALADORA LONGI 6', 'soldador', 'manager',\n",
              "       'Maquinista Perfiladoras', 'Operario de montacarga', 'Lkw Fahrer',\n",
              "       'linea de manutencion', 'Titular prensa',\n",
              "       'Personal de mantenimiento', 'Si. Operario Rattunde en Formacion',\n",
              "       'AUXILIAR DE LINEA', 'Assistant of line operator',\n",
              "       'Auxiliar de Producción', 'Flejado y Embalado',\n",
              "       'Handling / packaking', 'Presseneinrichter', 'EMBALAJE  T1',\n",
              "       'MANTENIMIENTO', 'Kranführer H1 Nord', 'Gruista zona negro',\n",
              "       'Gruista Almacenes',\n",
              "       'Salida de la carretilla de descarga y flejado del material',\n",
              "       'Forkift driver', 'maquinista / gruista', 'Supervisor Produktion',\n",
              "       'Recogedor de cizallas', 'Operario de muestras',\n",
              "       'Perfiladora Casset', 'Titular/ayudante de perfiladoras',\n",
              "       'maquinista/gruista', 'supervisor', 'Maquinistas Líneas de Corte',\n",
              "       'crane operator', 'toolmaker',\n",
              "       'Gruista de caldera y operadores de limpieza', 'Grinding',\n",
              "       'Entrada para la descarga del camión con la bobina – no se dispone de datos del conductor',\n",
              "       'montador y embajador en LCL', 'GRUISTA EXTERNO',\n",
              "       'Operating of press machine', 'Varios', 'packaging', 'MF LSL 1',\n",
              "       'Stacker Operator - Training as blanking operator',\n",
              "       'AYUDANTE LONGI005',\n",
              "       'trabajo en la grúa de pórtico Q25T, nave lateral 1, colocación del círculo en el almacén de bobinas',\n",
              "       'Saumschrott durchtrennen', 'Flejador LONGI001', 'truck driver',\n",
              "       'GRUISTA - CARRETILLERO - PRENSAS', 'Embal480', 'galvanizado',\n",
              "       'plegadora', 'Verlader', 'Kranbediener',\n",
              "       'Lkw Fahrer Firma Schielke', 'Mitarbeiter Produktion',\n",
              "       'MF2 Anlernen', 'plasma', 'Lifting material on acid pool',\n",
              "       'Operario de linea',\n",
              "       'Limpieza del rodillo continuo en la línea PRENS002',\n",
              "       'maquinista de maquina de corte Tecoi', 'mantenimiento mecánico',\n",
              "       'Auxiliar/Montador Longi 7', 'Cargador/descargador galvanizado',\n",
              "       'Hornero Aprendiz', 'Crane driver', 'Pontonero', 'Acumulador',\n",
              "       'Maquinista Trans003', 'road safety', 'Kranführer Halle 1 Nord',\n",
              "       'Salida del vehículo de la nave en semáforo rojo después de haber realizado la descarga',\n",
              "       'Gruista de longitudinales y transversales', 'Maschinenführer 1',\n",
              "       'MONTADOR LONGI005', 'Gruista Tubos', 'MAQUINISTA LONGI008',\n",
              "       'LCL 01', 'Gruista de evacuación de maquinas',\n",
              "       'poligon production-black area', 'Ayudante LONGI008', 'LONGI 5',\n",
              "       'Camionero', 'welding', 'Bestücker / Verpacker LONGI001',\n",
              "       'MONTADOR', 'AYUDANTE PRENSAS', 'packaging operator',\n",
              "       'Verpacker / Bestuecker', 'ENH PRODUCTION',\n",
              "       'Operator on Evtek blanking line', 'flejador',\n",
              "       'Operario de maquina (taladro radial)',\n",
              "       'Carrying metarial by forklift', 'Fertigungsingenieur',\n",
              "       'Alimentador Perfiladora Tubos 601', 'Mantenimiento Eléctrico',\n",
              "       'EMBALADOR  480', 'Mecanico', 'GRUISTA LONGI009', 'Painting',\n",
              "       'Auxiliar LONGI003', 'Montador/auxiliar', 'Carpintería',\n",
              "       'Metarial Handling', 'GRUISTA TRANS004', 'Soldador',\n",
              "       'Maquinista Sierra de corte Adige1', 'Empaquetador perfiladoras',\n",
              "       'Ayudante de circular', 'Flejador/ ayudante TRANS007',\n",
              "       'Titular de línea y auxiliar (Prensa Rovetta)',\n",
              "       'Maquinista LONGI009', 'Verpacker Halle 8',\n",
              "       'Stacker - training as forklift driver',\n",
              "       'Operario Entrada Decapado', 'Titular de linea',\n",
              "       'Entrada por la puerta número 3 del vehículo de carga para su descarga',\n",
              "       'Chófer', 'Carrtillero', 'gruista', 'CHATARRERO',\n",
              "       'Press Operators', 'Cargador descargador', 'operator',\n",
              "       'FINANZAS - PAGO A PROVEEDORES', 'UTILLERO GALVANIZADO',\n",
              "       'Titular LONGI008', 'camionero', 'Titular Prensa 1',\n",
              "       'forklift driver', 'GRUISTA TRANS002', 'Operario Salida Decapado',\n",
              "       'Maquinista Longi 3', 'BOBINERO', 'Recibidor Línea de 7m',\n",
              "       'OPERARIO DE CARGA', 'Embalador 1 (en capacitación)',\n",
              "       'Titular L-8', 'MAQUINISTA TRANS 2', 'Montador',\n",
              "       'Operario de maquinas', 'Gruista de entrada',\n",
              "       'CHOFER CAMIÓN CARPINTERIA', 'Utillero', 'Gruista de salida',\n",
              "       'Blanking operator', 'maquinista tubos', 'lider', 'TRASLADOS',\n",
              "       'line operator', 'Gantry crane operator', 'Operario de maquina l',\n",
              "       'MF1 LONGI', 'Chofer camión', 'Carretillero galvanizado',\n",
              "       'Controlador de procesos', 'gruista/ maquinista plasma',\n",
              "       'Verpacker LONGI001', 'Operador Paletizadora', 'Flejador TRANS001',\n",
              "       'Stacker Operator', 'APILADOR TRANS002', 'Forklift Operator',\n",
              "       'Accidente que ocurre en la planta de un cliente con una cantonera colocada en un paquete de formatos enviado desde nuestra planta',\n",
              "       'Maschinenführer 2 Presse 3', 'operator on catting line',\n",
              "       'Anlagenführer Laser 5', 'Maquinista LONGI003', 'Caretillero',\n",
              "       'Kranführer Halle 0', 'operario de linea', 'EMBALADO Y FLEJADO',\n",
              "       'Carretillero Railsider', 'Operador logistico', 'MF2 Presse 5',\n",
              "       'Titular y ayudantes de Perfiladora de Dimeco Perfi012',\n",
              "       'Maschinenführer Presse 3', 'Maquinista Trans3', 'Carretilla',\n",
              "       'galvanized-hanger', 'Press operator Ln 3  2nd shift',\n",
              "       'Operario corte', 'GRUISTA PTA008', 'Tornero ajustador',\n",
              "       'ayudante longitudinal', 'Gruista/carretillero',\n",
              "       'Slitter Operator', 'Maschinenführerin 2 Presse 3', 'storekeeper',\n",
              "       'Material Handler', 'ZONA APILADOR LCP', 'Maschinenführer1 (MF1)',\n",
              "       'galvanized - hanger', 'Carretillero de la Empresa Pardo Freijo',\n",
              "       'extern', 'Sierra Behringer', 'Operating the crane', 'team leader',\n",
              "       'Embaladora 2', 'Titular TRANS003', 'CIZALLA',\n",
              "       'Maquinista LC4/LC7 y Gruista', 'Montador LONGI003',\n",
              "       'empaquetador perfiladora de tubos',\n",
              "       'Pontonero y maquinista TRANS006',\n",
              "       'Línea de Prensa - Cargador de Bobina', 'MF1 Presse 2',\n",
              "       'Operario puente grúa', 'Gruista carga nave 6A'], dtype=object)"
            ]
          },
          "metadata": {
            "tags": []
          },
          "execution_count": 241
        }
      ]
    },
    {
      "cell_type": "code",
      "metadata": {
        "id": "S_rVpEjurIC0"
      },
      "source": [
        "staff.drop(columns={'Puesto habitual de trabajo'}, inplace=True)"
      ],
      "execution_count": 242,
      "outputs": []
    },
    {
      "cell_type": "code",
      "metadata": {
        "id": "fi_sEKJVgtPT"
      },
      "source": [
        "#gender\n",
        "\n",
        "staff.rename(columns={'Género':'Gender'}, inplace=True)\n"
      ],
      "execution_count": 243,
      "outputs": []
    },
    {
      "cell_type": "code",
      "metadata": {
        "colab": {
          "base_uri": "https://localhost:8080/"
        },
        "id": "ClWWt7J0q7ct",
        "outputId": "f795dd3b-05de-4911-f753-bc94cac7daee"
      },
      "source": [
        "staff['Gender'].unique()"
      ],
      "execution_count": 244,
      "outputs": [
        {
          "output_type": "execute_result",
          "data": {
            "text/plain": [
              "array(['Hombre', nan, 'Mujer'], dtype=object)"
            ]
          },
          "metadata": {
            "tags": []
          },
          "execution_count": 244
        }
      ]
    },
    {
      "cell_type": "code",
      "metadata": {
        "id": "q40fmLfHrRtY"
      },
      "source": [
        "staff['Gender'] = staff['Gender'].fillna('Hombre')"
      ],
      "execution_count": 245,
      "outputs": []
    },
    {
      "cell_type": "code",
      "metadata": {
        "colab": {
          "base_uri": "https://localhost:8080/"
        },
        "id": "TYtAeC8_rvBV",
        "outputId": "57b8fb74-2870-4f1d-ca2e-c22e208e3f50"
      },
      "source": [
        "len(staff[staff['Gender'].isnull()])"
      ],
      "execution_count": 246,
      "outputs": [
        {
          "output_type": "execute_result",
          "data": {
            "text/plain": [
              "0"
            ]
          },
          "metadata": {
            "tags": []
          },
          "execution_count": 246
        }
      ]
    },
    {
      "cell_type": "code",
      "metadata": {
        "id": "vcpecFlvtJCw",
        "colab": {
          "base_uri": "https://localhost:8080/"
        },
        "outputId": "32688ef9-fc8d-4a6a-ee00-edcf6a61f89c"
      },
      "source": [
        "staff['Gender'].unique()"
      ],
      "execution_count": 247,
      "outputs": [
        {
          "output_type": "execute_result",
          "data": {
            "text/plain": [
              "array(['Hombre', 'Mujer'], dtype=object)"
            ]
          },
          "metadata": {
            "tags": []
          },
          "execution_count": 247
        }
      ]
    },
    {
      "cell_type": "markdown",
      "metadata": {
        "id": "On0qind9Q7vT"
      },
      "source": [
        "Checking if we have null values in turno"
      ]
    },
    {
      "cell_type": "code",
      "metadata": {
        "colab": {
          "base_uri": "https://localhost:8080/"
        },
        "id": "5mgU0fRMQtMk",
        "outputId": "5c027ca5-6f68-42e9-ce22-8a43c94b0509"
      },
      "source": [
        "staff.Turno.isnull().any()"
      ],
      "execution_count": 248,
      "outputs": [
        {
          "output_type": "execute_result",
          "data": {
            "text/plain": [
              "False"
            ]
          },
          "metadata": {
            "tags": []
          },
          "execution_count": 248
        }
      ]
    },
    {
      "cell_type": "markdown",
      "metadata": {
        "id": "xMtW2ta4RLKn"
      },
      "source": [
        "Checking for nulls in age:\n",
        "\n",
        "As we have null values we are goign to reassing the age range based on the proportion of the tables we hav analyzed"
      ]
    },
    {
      "cell_type": "code",
      "metadata": {
        "colab": {
          "base_uri": "https://localhost:8080/"
        },
        "id": "VfoOTxnNRFqQ",
        "outputId": "97ca2176-79cf-4ff0-ee04-4ac0e3219185"
      },
      "source": [
        "staff.Edad.isnull().any()"
      ],
      "execution_count": 249,
      "outputs": [
        {
          "output_type": "execute_result",
          "data": {
            "text/plain": [
              "True"
            ]
          },
          "metadata": {
            "tags": []
          },
          "execution_count": 249
        }
      ]
    },
    {
      "cell_type": "code",
      "metadata": {
        "colab": {
          "base_uri": "https://localhost:8080/"
        },
        "id": "2vsQ-xouRN5u",
        "outputId": "32570642-ef3b-49b6-ee0f-9a094ab0d075"
      },
      "source": [
        "len(staff[staff.Edad.isnull()])"
      ],
      "execution_count": 250,
      "outputs": [
        {
          "output_type": "execute_result",
          "data": {
            "text/plain": [
              "1855"
            ]
          },
          "metadata": {
            "tags": []
          },
          "execution_count": 250
        }
      ]
    },
    {
      "cell_type": "code",
      "metadata": {
        "id": "FrNrlUx9TAk3"
      },
      "source": [
        "rangos_edad = ['Menor 30', 'Entre 30-50', 'Mayor 50']\n",
        "weights = {'Hombre':[0.2, 0.44, 0.36], 'Mujer':[0.2,0.55,0.25]}"
      ],
      "execution_count": 251,
      "outputs": []
    },
    {
      "cell_type": "code",
      "metadata": {
        "id": "c4hqSPXrTWYv"
      },
      "source": [
        "np.random.seed(0)\n",
        "\n",
        "def apply_randoms(x):\n",
        "  key = x['Gender'].iat[0]\n",
        "  return pd.Series(np.random.choice(rangos_edad, size=len(x), p=weights[key]))"
      ],
      "execution_count": 252,
      "outputs": []
    },
    {
      "cell_type": "code",
      "metadata": {
        "id": "xo_dqWllTmdP"
      },
      "source": [
        "staff['Age'] = staff.groupby('Gender').apply(apply_randoms)\\\n",
        "       .rename('Age').reset_index().drop('level_1', 1)['Age']"
      ],
      "execution_count": 253,
      "outputs": []
    },
    {
      "cell_type": "code",
      "metadata": {
        "id": "a0IPi-T0Vr75"
      },
      "source": [
        "staff.drop(columns={'Edad'}, inplace=True)"
      ],
      "execution_count": 254,
      "outputs": []
    },
    {
      "cell_type": "markdown",
      "metadata": {
        "id": "cTtN_YqqWBxD"
      },
      "source": [
        "Checking is there is any row with null at type of accident"
      ]
    },
    {
      "cell_type": "code",
      "metadata": {
        "colab": {
          "base_uri": "https://localhost:8080/"
        },
        "id": "P1Nsvpr4V8nS",
        "outputId": "02bdb3ca-8d17-46b1-aff4-b8cc9e915a73"
      },
      "source": [
        "staff['Tipo accidente'].isnull().any()"
      ],
      "execution_count": 255,
      "outputs": [
        {
          "output_type": "execute_result",
          "data": {
            "text/plain": [
              "False"
            ]
          },
          "metadata": {
            "tags": []
          },
          "execution_count": 255
        }
      ]
    },
    {
      "cell_type": "markdown",
      "metadata": {
        "id": "TG3K4TseWNM0"
      },
      "source": [
        "Worker type have null values at some rows"
      ]
    },
    {
      "cell_type": "code",
      "metadata": {
        "colab": {
          "base_uri": "https://localhost:8080/"
        },
        "id": "60IWQzzvV6Ak",
        "outputId": "79aa72d4-0f8c-4dd1-b191-af9c1d4580cc"
      },
      "source": [
        "staff['Tipo trabajador'].isnull().any()"
      ],
      "execution_count": 256,
      "outputs": [
        {
          "output_type": "execute_result",
          "data": {
            "text/plain": [
              "True"
            ]
          },
          "metadata": {
            "tags": []
          },
          "execution_count": 256
        }
      ]
    },
    {
      "cell_type": "code",
      "metadata": {
        "colab": {
          "base_uri": "https://localhost:8080/"
        },
        "id": "etiwpbahWeo6",
        "outputId": "ec28729f-9b5b-40cf-bc76-6c236e799c9e"
      },
      "source": [
        "staff['Tipo trabajador'].unique()"
      ],
      "execution_count": 257,
      "outputs": [
        {
          "output_type": "execute_result",
          "data": {
            "text/plain": [
              "array(['ETT', 'Indefinido', 'Duración Determinada',\n",
              "       'Incidente (no aplica)', 'Subcontratado', 'Prácticas', nan,\n",
              "       'Cedidos de otras plantas', 'No aplica', 'Indefinido con preaviso'],\n",
              "      dtype=object)"
            ]
          },
          "metadata": {
            "tags": []
          },
          "execution_count": 257
        }
      ]
    },
    {
      "cell_type": "code",
      "metadata": {
        "colab": {
          "base_uri": "https://localhost:8080/",
          "height": 179
        },
        "id": "1U8ShHwkWitG",
        "outputId": "17fb40eb-a9e6-4510-aa62-ec95176c9312"
      },
      "source": [
        "staff[staff['Tipo trabajador'].isnull()] #As we only have two values null we are going to assign directly 'Indefinido'"
      ],
      "execution_count": 258,
      "outputs": [
        {
          "output_type": "execute_result",
          "data": {
            "text/html": [
              "<div>\n",
              "<style scoped>\n",
              "    .dataframe tbody tr th:only-of-type {\n",
              "        vertical-align: middle;\n",
              "    }\n",
              "\n",
              "    .dataframe tbody tr th {\n",
              "        vertical-align: top;\n",
              "    }\n",
              "\n",
              "    .dataframe thead th {\n",
              "        text-align: right;\n",
              "    }\n",
              "</style>\n",
              "<table border=\"1\" class=\"dataframe\">\n",
              "  <thead>\n",
              "    <tr style=\"text-align: right;\">\n",
              "      <th></th>\n",
              "      <th>Codigo accidentado</th>\n",
              "      <th>Turno</th>\n",
              "      <th>Gender</th>\n",
              "      <th>Planta</th>\n",
              "      <th>Tipo accidente</th>\n",
              "      <th>Tipo trabajador</th>\n",
              "      <th>Gravedad potencial</th>\n",
              "      <th>Lugar o seccion accidente</th>\n",
              "      <th>Fabrica</th>\n",
              "      <th>Tecnología</th>\n",
              "      <th>Pais</th>\n",
              "      <th>Horas Presencia Efectiva Subcontratados</th>\n",
              "      <th>Horas Presencia Efectiva ETTs</th>\n",
              "      <th>Horas Formacion Seguridad Propios</th>\n",
              "      <th>Horas Formacion Seguridad ETTs</th>\n",
              "      <th>Accident</th>\n",
              "      <th>wk_position</th>\n",
              "      <th>Age</th>\n",
              "    </tr>\n",
              "  </thead>\n",
              "  <tbody>\n",
              "    <tr>\n",
              "      <th>2831</th>\n",
              "      <td>HS-NVRR_8597</td>\n",
              "      <td>Turno de mañana</td>\n",
              "      <td>Hombre</td>\n",
              "      <td>13</td>\n",
              "      <td>Incidente</td>\n",
              "      <td>NaN</td>\n",
              "      <td>Leve</td>\n",
              "      <td>Carretilla</td>\n",
              "      <td>Burgos</td>\n",
              "      <td>Blanking</td>\n",
              "      <td>España</td>\n",
              "      <td>25249.0</td>\n",
              "      <td>42484.0</td>\n",
              "      <td>1419.3</td>\n",
              "      <td>830.1</td>\n",
              "      <td>Yes</td>\n",
              "      <td>lider</td>\n",
              "      <td>Menor 30</td>\n",
              "    </tr>\n",
              "    <tr>\n",
              "      <th>2832</th>\n",
              "      <td>HS-NVRR_8598</td>\n",
              "      <td>Turno de mañana</td>\n",
              "      <td>Hombre</td>\n",
              "      <td>13</td>\n",
              "      <td>Incidente</td>\n",
              "      <td>NaN</td>\n",
              "      <td>Leve</td>\n",
              "      <td>Carretilla</td>\n",
              "      <td>Burgos</td>\n",
              "      <td>Blanking</td>\n",
              "      <td>España</td>\n",
              "      <td>25249.0</td>\n",
              "      <td>42484.0</td>\n",
              "      <td>1419.3</td>\n",
              "      <td>830.1</td>\n",
              "      <td>Yes</td>\n",
              "      <td>Neutra De Galvanizado</td>\n",
              "      <td>Mayor 50</td>\n",
              "    </tr>\n",
              "  </tbody>\n",
              "</table>\n",
              "</div>"
            ],
            "text/plain": [
              "     Codigo accidentado            Turno  ...            wk_position       Age\n",
              "2831       HS-NVRR_8597  Turno de mañana  ...                  lider  Menor 30\n",
              "2832       HS-NVRR_8598  Turno de mañana  ...  Neutra De Galvanizado  Mayor 50\n",
              "\n",
              "[2 rows x 18 columns]"
            ]
          },
          "metadata": {
            "tags": []
          },
          "execution_count": 258
        }
      ]
    },
    {
      "cell_type": "code",
      "metadata": {
        "id": "YWHUxreCWziC"
      },
      "source": [
        "staff['Tipo trabajador'] = staff['Tipo trabajador'].fillna('Indefinido')"
      ],
      "execution_count": 259,
      "outputs": []
    },
    {
      "cell_type": "code",
      "metadata": {
        "colab": {
          "base_uri": "https://localhost:8080/"
        },
        "id": "rO8DKxDoW5pT",
        "outputId": "2a636968-3926-4d0e-c35b-c3c3e2894452"
      },
      "source": [
        "staff['Tipo trabajador'].isnull().any()"
      ],
      "execution_count": 260,
      "outputs": [
        {
          "output_type": "execute_result",
          "data": {
            "text/plain": [
              "False"
            ]
          },
          "metadata": {
            "tags": []
          },
          "execution_count": 260
        }
      ]
    },
    {
      "cell_type": "markdown",
      "metadata": {
        "id": "ybuCX7ewW-ki"
      },
      "source": [
        "Potential Severity columns has null values as well"
      ]
    },
    {
      "cell_type": "code",
      "metadata": {
        "colab": {
          "base_uri": "https://localhost:8080/"
        },
        "id": "vC75AR5RW7o4",
        "outputId": "3279d300-e6d1-4ebf-edf1-a3c0da7e3e02"
      },
      "source": [
        "staff[staff['Accident']=='Yes']['Gravedad potencial'].isnull().any()"
      ],
      "execution_count": 261,
      "outputs": [
        {
          "output_type": "execute_result",
          "data": {
            "text/plain": [
              "True"
            ]
          },
          "metadata": {
            "tags": []
          },
          "execution_count": 261
        }
      ]
    },
    {
      "cell_type": "code",
      "metadata": {
        "colab": {
          "base_uri": "https://localhost:8080/"
        },
        "id": "ssjB5QElXES6",
        "outputId": "432396b7-f6b0-4600-f076-48c4f893998d"
      },
      "source": [
        "len(staff[(staff['Gravedad potencial'].isnull()) & (staff['Accident']=='Yes')])"
      ],
      "execution_count": 262,
      "outputs": [
        {
          "output_type": "execute_result",
          "data": {
            "text/plain": [
              "1009"
            ]
          },
          "metadata": {
            "tags": []
          },
          "execution_count": 262
        }
      ]
    },
    {
      "cell_type": "code",
      "metadata": {
        "id": "O_4-3_RqXLlo"
      },
      "source": [
        "## we are going to assign it randomly\n",
        "staff['Gravedad potencial'].unique()\n",
        "severity = ['Muy grave', 'Leve', 'Grave']"
      ],
      "execution_count": 263,
      "outputs": []
    },
    {
      "cell_type": "code",
      "metadata": {
        "id": "vzT-nAysXaWy"
      },
      "source": [
        "for i in staff['Gravedad potencial']:\n",
        "\n",
        "  if str(i) == 'nan':\n",
        "    staff['Severity'] = np.random.choice(severity, size=len(staff))\n",
        "  else:\n",
        "    staff['Severity'] = i\n"
      ],
      "execution_count": 264,
      "outputs": []
    },
    {
      "cell_type": "code",
      "metadata": {
        "colab": {
          "base_uri": "https://localhost:8080/"
        },
        "id": "0fFOxJE5YipI",
        "outputId": "6fb8fe43-ff29-40b0-b9a8-6761f52339d7"
      },
      "source": [
        "staff['Severity'].isnull().any()"
      ],
      "execution_count": 265,
      "outputs": [
        {
          "output_type": "execute_result",
          "data": {
            "text/plain": [
              "False"
            ]
          },
          "metadata": {
            "tags": []
          },
          "execution_count": 265
        }
      ]
    },
    {
      "cell_type": "code",
      "metadata": {
        "colab": {
          "base_uri": "https://localhost:8080/"
        },
        "id": "gefUfwVkYlKe",
        "outputId": "c4e0cbdd-5880-4a16-ec10-dcb7b15e1a03"
      },
      "source": [
        "staff['Severity'].unique()"
      ],
      "execution_count": 266,
      "outputs": [
        {
          "output_type": "execute_result",
          "data": {
            "text/plain": [
              "array(['Leve', 'Muy grave', 'Grave'], dtype=object)"
            ]
          },
          "metadata": {
            "tags": []
          },
          "execution_count": 266
        }
      ]
    },
    {
      "cell_type": "code",
      "metadata": {
        "id": "NtBRkmeiZVnN"
      },
      "source": [
        "staff.drop(columns={'Gravedad potencial'}, inplace=True)"
      ],
      "execution_count": 267,
      "outputs": []
    },
    {
      "cell_type": "code",
      "metadata": {
        "colab": {
          "base_uri": "https://localhost:8080/"
        },
        "id": "Tl_lLlotbBSP",
        "outputId": "e3ce8212-e0fa-425f-b2ce-95b4bb21b88e"
      },
      "source": [
        "staff['Severity'].isnull().any()"
      ],
      "execution_count": 268,
      "outputs": [
        {
          "output_type": "execute_result",
          "data": {
            "text/plain": [
              "False"
            ]
          },
          "metadata": {
            "tags": []
          },
          "execution_count": 268
        }
      ]
    },
    {
      "cell_type": "markdown",
      "metadata": {
        "id": "sibFbBZeYoPq"
      },
      "source": [
        "Aciccent's place/section"
      ]
    },
    {
      "cell_type": "code",
      "metadata": {
        "colab": {
          "base_uri": "https://localhost:8080/"
        },
        "id": "aobbvPbFYoiO",
        "outputId": "88850d04-1391-44fb-c5bc-c23469315a43"
      },
      "source": [
        "staff['Lugar o seccion accidente'].isnull().any()"
      ],
      "execution_count": 269,
      "outputs": [
        {
          "output_type": "execute_result",
          "data": {
            "text/plain": [
              "True"
            ]
          },
          "metadata": {
            "tags": []
          },
          "execution_count": 269
        }
      ]
    },
    {
      "cell_type": "code",
      "metadata": {
        "colab": {
          "base_uri": "https://localhost:8080/"
        },
        "id": "ahjhHbcGYwG1",
        "outputId": "c9b66cd4-ec9a-4bd2-b376-c316db8bac10"
      },
      "source": [
        "len(staff[staff['Lugar o seccion accidente'].isnull()])"
      ],
      "execution_count": 270,
      "outputs": [
        {
          "output_type": "execute_result",
          "data": {
            "text/plain": [
              "63"
            ]
          },
          "metadata": {
            "tags": []
          },
          "execution_count": 270
        }
      ]
    },
    {
      "cell_type": "code",
      "metadata": {
        "colab": {
          "base_uri": "https://localhost:8080/"
        },
        "id": "q2vSNBsDY3u_",
        "outputId": "2dff4a81-4f7d-48d2-89b5-77ee78d09244"
      },
      "source": [
        "staff['Lugar o seccion accidente'].unique()"
      ],
      "execution_count": 271,
      "outputs": [
        {
          "output_type": "execute_result",
          "data": {
            "text/plain": [
              "array(['Células Soldadura', 'Tubos', 'Almacén de Producto Terminado',\n",
              "       'Blanking', 'Corte Longitudinal', 'Corte Transversal',\n",
              "       'Almacén de Materia Prima', 'Cizalla', 'Decapado', 'Puente Grúa',\n",
              "       'Carpinteria', 'Galvanizado Inmersión', nan, 'Maquinaria Auxiliar',\n",
              "       'Corte Plasma', 'Perfiles abiertos', 'Corte Láser',\n",
              "       'Almacen productos quimicos', 'Corte Láser 3D',\n",
              "       'Instalaciones exteriores y auxiliares', 'Mantenimiento', 'Prensa',\n",
              "       'Almacén producto semielaborado o en producción', 'Carretilla',\n",
              "       'Sierra', 'Oficinas administrativas', 'Área de embalado',\n",
              "       'Punzonado', 'Soldadura Manual', 'Limpieza/Prepintado',\n",
              "       'Galvanizado continuo', 'Perforado', 'Coil to Coil',\n",
              "       'Tailor Welding', 'Galvanizado ', 'Almacen de recambios',\n",
              "       'Galvanizado', 'Electrozincado', 'Pintura', 'General / Auxiliar',\n",
              "       'Perfilado de barrera y postes', 'Skinpass', 'Slitting ',\n",
              "       'General', 'Press Blanking', 'Laminado', 'Ablation Line',\n",
              "       'Slitting', 'D-Ring Line', 'Multi Strand'], dtype=object)"
            ]
          },
          "metadata": {
            "tags": []
          },
          "execution_count": 271
        }
      ]
    },
    {
      "cell_type": "code",
      "metadata": {
        "id": "1_CNhHvuY7Xb"
      },
      "source": [
        "place_acc = ['Células Soldadura', 'Tubos', 'Almacén de Producto Terminado',\n",
        "       'Blanking', 'Corte Longitudinal', 'Corte Transversal',\n",
        "       'Almacén de Materia Prima', 'Cizalla', 'Decapado', 'Puente Grúa',\n",
        "       'Carpinteria', 'Galvanizado Inmersión',  'Maquinaria Auxiliar',\n",
        "       'Corte Plasma', 'Perfiles abiertos', 'Corte Láser',\n",
        "       'Almacen productos quimicos', 'Corte Láser 3D',\n",
        "       'Instalaciones exteriores y auxiliares', 'Mantenimiento', 'Prensa',\n",
        "       'Almacén producto semielaborado o en producción', 'Carretilla',\n",
        "       'Sierra', 'Oficinas administrativas', 'Área de embalado',\n",
        "       'Punzonado', 'Soldadura Manual', 'Limpieza/Prepintado',\n",
        "       'Galvanizado continuo', 'Perforado', 'Coil to Coil',\n",
        "       'Tailor Welding', 'Galvanizado ', 'Almacen de recambios',\n",
        "       'Galvanizado', 'Electrozincado', 'Pintura', 'General / Auxiliar',\n",
        "       'Perfilado de barrera y postes', 'Skinpass', 'Slitting ',\n",
        "       'General', 'Press Blanking', 'Laminado', 'Ablation Line',\n",
        "       'Slitting', 'D-Ring Line', 'Multi Strand']"
      ],
      "execution_count": 272,
      "outputs": []
    },
    {
      "cell_type": "code",
      "metadata": {
        "id": "FiKK_r8rZCP7"
      },
      "source": [
        "for i in staff['Lugar o seccion accidente']:\n",
        "\n",
        "  if str(i) == 'nan':\n",
        "    staff['Accident_place'] = np.random.choice(place_acc, size=len(staff))\n",
        "  else:\n",
        "    staff['Accident_place'] = i"
      ],
      "execution_count": 273,
      "outputs": []
    },
    {
      "cell_type": "code",
      "metadata": {
        "colab": {
          "base_uri": "https://localhost:8080/"
        },
        "id": "_tOXAMrtZK6s",
        "outputId": "89f337e1-11d1-4de0-9913-64af04250fb2"
      },
      "source": [
        "staff['Accident_place'].isnull().any()"
      ],
      "execution_count": 274,
      "outputs": [
        {
          "output_type": "execute_result",
          "data": {
            "text/plain": [
              "False"
            ]
          },
          "metadata": {
            "tags": []
          },
          "execution_count": 274
        }
      ]
    },
    {
      "cell_type": "code",
      "metadata": {
        "id": "jRwSx7dnZPOb"
      },
      "source": [
        "staff.drop(columns={'Lugar o seccion accidente'}, inplace=True)"
      ],
      "execution_count": 275,
      "outputs": []
    },
    {
      "cell_type": "markdown",
      "metadata": {
        "id": "YsUVAcDlZg6-"
      },
      "source": [
        "There arent any null values in Fabric column, technology and country fields are from fabric so the will be filled as well"
      ]
    },
    {
      "cell_type": "code",
      "metadata": {
        "colab": {
          "base_uri": "https://localhost:8080/"
        },
        "id": "g5x_ldO5Zipl",
        "outputId": "8804273c-bff1-4964-e467-9ad0a8b3e20b"
      },
      "source": [
        "staff['Fabrica'].isnull().any()"
      ],
      "execution_count": 276,
      "outputs": [
        {
          "output_type": "execute_result",
          "data": {
            "text/plain": [
              "False"
            ]
          },
          "metadata": {
            "tags": []
          },
          "execution_count": 276
        }
      ]
    },
    {
      "cell_type": "markdown",
      "metadata": {
        "id": "AmJ8A8IZZ04t"
      },
      "source": [
        "Now we are going to check the columns of efective presence hours"
      ]
    },
    {
      "cell_type": "code",
      "metadata": {
        "colab": {
          "base_uri": "https://localhost:8080/"
        },
        "id": "-oDdy55OZxBP",
        "outputId": "4d9becaf-8aea-44cd-974f-5c00ab294385"
      },
      "source": [
        "staff['Horas Presencia Efectiva Subcontratados'].isnull().any()"
      ],
      "execution_count": 277,
      "outputs": [
        {
          "output_type": "execute_result",
          "data": {
            "text/plain": [
              "False"
            ]
          },
          "metadata": {
            "tags": []
          },
          "execution_count": 277
        }
      ]
    },
    {
      "cell_type": "code",
      "metadata": {
        "colab": {
          "base_uri": "https://localhost:8080/"
        },
        "id": "s2A5wluPZ_p2",
        "outputId": "6bb39783-892d-48e8-bbc8-3b70320ff556"
      },
      "source": [
        "staff['Horas Presencia Efectiva ETTs'].isnull().any()"
      ],
      "execution_count": 278,
      "outputs": [
        {
          "output_type": "execute_result",
          "data": {
            "text/plain": [
              "False"
            ]
          },
          "metadata": {
            "tags": []
          },
          "execution_count": 278
        }
      ]
    },
    {
      "cell_type": "code",
      "metadata": {
        "colab": {
          "base_uri": "https://localhost:8080/"
        },
        "id": "K9tsFwMcZ_yp",
        "outputId": "283b82c3-fd93-4fc5-855a-3e43f88e9c2e"
      },
      "source": [
        "staff['Horas Formacion Seguridad Propios'].isnull().any()"
      ],
      "execution_count": 279,
      "outputs": [
        {
          "output_type": "execute_result",
          "data": {
            "text/plain": [
              "False"
            ]
          },
          "metadata": {
            "tags": []
          },
          "execution_count": 279
        }
      ]
    },
    {
      "cell_type": "code",
      "metadata": {
        "colab": {
          "base_uri": "https://localhost:8080/"
        },
        "id": "fw6NRZcRaADR",
        "outputId": "5331177d-30b5-4741-9384-a7c67f3983be"
      },
      "source": [
        "staff['Horas Formacion Seguridad ETTs'].isnull().any()"
      ],
      "execution_count": 280,
      "outputs": [
        {
          "output_type": "execute_result",
          "data": {
            "text/plain": [
              "False"
            ]
          },
          "metadata": {
            "tags": []
          },
          "execution_count": 280
        }
      ]
    },
    {
      "cell_type": "code",
      "metadata": {
        "colab": {
          "base_uri": "https://localhost:8080/",
          "height": 340
        },
        "id": "0kt3Tb2DQ_5a",
        "outputId": "0982b732-5197-4d39-d70c-60c4cc52bee2"
      },
      "source": [
        "staff.head()"
      ],
      "execution_count": 281,
      "outputs": [
        {
          "output_type": "execute_result",
          "data": {
            "text/html": [
              "<div>\n",
              "<style scoped>\n",
              "    .dataframe tbody tr th:only-of-type {\n",
              "        vertical-align: middle;\n",
              "    }\n",
              "\n",
              "    .dataframe tbody tr th {\n",
              "        vertical-align: top;\n",
              "    }\n",
              "\n",
              "    .dataframe thead th {\n",
              "        text-align: right;\n",
              "    }\n",
              "</style>\n",
              "<table border=\"1\" class=\"dataframe\">\n",
              "  <thead>\n",
              "    <tr style=\"text-align: right;\">\n",
              "      <th></th>\n",
              "      <th>Codigo accidentado</th>\n",
              "      <th>Turno</th>\n",
              "      <th>Gender</th>\n",
              "      <th>Planta</th>\n",
              "      <th>Tipo accidente</th>\n",
              "      <th>Tipo trabajador</th>\n",
              "      <th>Fabrica</th>\n",
              "      <th>Tecnología</th>\n",
              "      <th>Pais</th>\n",
              "      <th>Horas Presencia Efectiva Subcontratados</th>\n",
              "      <th>Horas Presencia Efectiva ETTs</th>\n",
              "      <th>Horas Formacion Seguridad Propios</th>\n",
              "      <th>Horas Formacion Seguridad ETTs</th>\n",
              "      <th>Accident</th>\n",
              "      <th>wk_position</th>\n",
              "      <th>Age</th>\n",
              "      <th>Severity</th>\n",
              "      <th>Accident_place</th>\n",
              "    </tr>\n",
              "  </thead>\n",
              "  <tbody>\n",
              "    <tr>\n",
              "      <th>0</th>\n",
              "      <td>HS-CLMB_2546</td>\n",
              "      <td>Turno de mañana</td>\n",
              "      <td>Hombre</td>\n",
              "      <td>20</td>\n",
              "      <td>Accidente c/b</td>\n",
              "      <td>ETT</td>\n",
              "      <td>Burgos</td>\n",
              "      <td>Skinpass</td>\n",
              "      <td>España</td>\n",
              "      <td>25249.0</td>\n",
              "      <td>42484.0</td>\n",
              "      <td>1419.3</td>\n",
              "      <td>830.1</td>\n",
              "      <td>Yes</td>\n",
              "      <td>galvanized-hanging-handling</td>\n",
              "      <td>Entre 30-50</td>\n",
              "      <td>Leve</td>\n",
              "      <td>Mantenimiento</td>\n",
              "    </tr>\n",
              "    <tr>\n",
              "      <th>1</th>\n",
              "      <td>HS-CEPA_2563</td>\n",
              "      <td>Turno de mañana</td>\n",
              "      <td>Hombre</td>\n",
              "      <td>19</td>\n",
              "      <td>Accidente c/b</td>\n",
              "      <td>Indefinido</td>\n",
              "      <td>Burgos</td>\n",
              "      <td>Recocido</td>\n",
              "      <td>España</td>\n",
              "      <td>25249.0</td>\n",
              "      <td>42484.0</td>\n",
              "      <td>1419.3</td>\n",
              "      <td>830.1</td>\n",
              "      <td>Yes</td>\n",
              "      <td>Auxiliar Trans 4</td>\n",
              "      <td>Mayor 50</td>\n",
              "      <td>Muy grave</td>\n",
              "      <td>Mantenimiento</td>\n",
              "    </tr>\n",
              "    <tr>\n",
              "      <th>2</th>\n",
              "      <td>HS-GNVT_2564</td>\n",
              "      <td>Turno de tarde</td>\n",
              "      <td>Hombre</td>\n",
              "      <td>12</td>\n",
              "      <td>Accidente s/b</td>\n",
              "      <td>Duración Determinada</td>\n",
              "      <td>Barcelona</td>\n",
              "      <td>Skinpass</td>\n",
              "      <td>España</td>\n",
              "      <td>25684.5</td>\n",
              "      <td>18302.3</td>\n",
              "      <td>1150.6</td>\n",
              "      <td>151.5</td>\n",
              "      <td>Yes</td>\n",
              "      <td>Equipo de preparación de montajes</td>\n",
              "      <td>Entre 30-50</td>\n",
              "      <td>Muy grave</td>\n",
              "      <td>Mantenimiento</td>\n",
              "    </tr>\n",
              "    <tr>\n",
              "      <th>3</th>\n",
              "      <td>HS-GNVT_2565</td>\n",
              "      <td>Turno de mañana</td>\n",
              "      <td>Hombre</td>\n",
              "      <td>12</td>\n",
              "      <td>Incidente</td>\n",
              "      <td>ETT</td>\n",
              "      <td>Barcelona</td>\n",
              "      <td>Skinpass</td>\n",
              "      <td>España</td>\n",
              "      <td>25684.5</td>\n",
              "      <td>18302.3</td>\n",
              "      <td>1150.6</td>\n",
              "      <td>151.5</td>\n",
              "      <td>Yes</td>\n",
              "      <td>Manual operation on protective rods</td>\n",
              "      <td>Entre 30-50</td>\n",
              "      <td>Grave</td>\n",
              "      <td>Mantenimiento</td>\n",
              "    </tr>\n",
              "    <tr>\n",
              "      <th>4</th>\n",
              "      <td>HS-DNGG_2566</td>\n",
              "      <td>Turno de mañana</td>\n",
              "      <td>Hombre</td>\n",
              "      <td>41</td>\n",
              "      <td>Incidente</td>\n",
              "      <td>Incidente (no aplica)</td>\n",
              "      <td>Hiasa</td>\n",
              "      <td>Corte Láser</td>\n",
              "      <td>España</td>\n",
              "      <td>0.0</td>\n",
              "      <td>167848.0</td>\n",
              "      <td>1300.5</td>\n",
              "      <td>101.5</td>\n",
              "      <td>Yes</td>\n",
              "      <td>: Operador II</td>\n",
              "      <td>Entre 30-50</td>\n",
              "      <td>Grave</td>\n",
              "      <td>Mantenimiento</td>\n",
              "    </tr>\n",
              "  </tbody>\n",
              "</table>\n",
              "</div>"
            ],
            "text/plain": [
              "  Codigo accidentado            Turno  ...   Severity  Accident_place\n",
              "0       HS-CLMB_2546  Turno de mañana  ...       Leve   Mantenimiento\n",
              "1       HS-CEPA_2563  Turno de mañana  ...  Muy grave   Mantenimiento\n",
              "2       HS-GNVT_2564   Turno de tarde  ...  Muy grave   Mantenimiento\n",
              "3       HS-GNVT_2565  Turno de mañana  ...      Grave   Mantenimiento\n",
              "4       HS-DNGG_2566  Turno de mañana  ...      Grave   Mantenimiento\n",
              "\n",
              "[5 rows x 18 columns]"
            ]
          },
          "metadata": {
            "tags": []
          },
          "execution_count": 281
        }
      ]
    },
    {
      "cell_type": "markdown",
      "metadata": {
        "id": "-m9oOgwJacnG"
      },
      "source": [
        "Now we are going to generate the other part of our staff dataframe which contains those people who havent had an accident"
      ]
    },
    {
      "cell_type": "code",
      "metadata": {
        "colab": {
          "base_uri": "https://localhost:8080/"
        },
        "id": "gowwbtslabDt",
        "outputId": "8e5b3e0c-fd31-408d-9ff1-f770d2010c75"
      },
      "source": [
        "len(staff)"
      ],
      "execution_count": 282,
      "outputs": [
        {
          "output_type": "execute_result",
          "data": {
            "text/plain": [
              "4180"
            ]
          },
          "metadata": {
            "tags": []
          },
          "execution_count": 282
        }
      ]
    },
    {
      "cell_type": "code",
      "metadata": {
        "colab": {
          "base_uri": "https://localhost:8080/"
        },
        "id": "TTFXyWaHalgl",
        "outputId": "9e870bf7-727a-44e2-8d63-7c0a2752e758"
      },
      "source": [
        "employees = rrhh_plant[['Año', 'Mes', 'Empleados Propios', 'Empleados Ajenos','Empleados ETTS','Empleados Subcontrata']]\n",
        "employees  = employees[employees['Mes']=='ENE']\n",
        "\n",
        "employees['Total'] = employees['Empleados Propios'] + employees['Empleados Ajenos'] + employees['Empleados ETTS'] + employees['Empleados Subcontrata']\n",
        "\n",
        "employees = employees.groupby(['Año', 'Mes']).agg('sum')\n",
        "employees['Total']"
      ],
      "execution_count": 283,
      "outputs": [
        {
          "output_type": "execute_result",
          "data": {
            "text/plain": [
              "Año     Mes\n",
              "2020.0  ENE    7070.0\n",
              "Name: Total, dtype: float64"
            ]
          },
          "metadata": {
            "tags": []
          },
          "execution_count": 283
        }
      ]
    },
    {
      "cell_type": "markdown",
      "metadata": {
        "id": "kKOZcETNbunM"
      },
      "source": [
        "So the number of employees in 2020 7070 and we are going to take that as reference. \n",
        "\n",
        "As we are taking 3 years of accidents we are going to have the same proportion on the staff to be able to evaluate it. So our total number of employees in the staff table will be 21.210, 4180 accidents. \n",
        "\n",
        "We are going to generate now the 17030 employees who didnt have any accident"
      ]
    },
    {
      "cell_type": "code",
      "metadata": {
        "colab": {
          "base_uri": "https://localhost:8080/",
          "height": 66
        },
        "id": "K7CTv67ybpku",
        "outputId": "ddc7b183-a637-43bf-85b2-dadf947a21b4"
      },
      "source": [
        "staff_without = pd.DataFrame(columns=staff.columns)\n",
        "\n",
        "staff_without"
      ],
      "execution_count": 284,
      "outputs": [
        {
          "output_type": "execute_result",
          "data": {
            "text/html": [
              "<div>\n",
              "<style scoped>\n",
              "    .dataframe tbody tr th:only-of-type {\n",
              "        vertical-align: middle;\n",
              "    }\n",
              "\n",
              "    .dataframe tbody tr th {\n",
              "        vertical-align: top;\n",
              "    }\n",
              "\n",
              "    .dataframe thead th {\n",
              "        text-align: right;\n",
              "    }\n",
              "</style>\n",
              "<table border=\"1\" class=\"dataframe\">\n",
              "  <thead>\n",
              "    <tr style=\"text-align: right;\">\n",
              "      <th></th>\n",
              "      <th>Codigo accidentado</th>\n",
              "      <th>Turno</th>\n",
              "      <th>Gender</th>\n",
              "      <th>Planta</th>\n",
              "      <th>Tipo accidente</th>\n",
              "      <th>Tipo trabajador</th>\n",
              "      <th>Fabrica</th>\n",
              "      <th>Tecnología</th>\n",
              "      <th>Pais</th>\n",
              "      <th>Horas Presencia Efectiva Subcontratados</th>\n",
              "      <th>Horas Presencia Efectiva ETTs</th>\n",
              "      <th>Horas Formacion Seguridad Propios</th>\n",
              "      <th>Horas Formacion Seguridad ETTs</th>\n",
              "      <th>Accident</th>\n",
              "      <th>wk_position</th>\n",
              "      <th>Age</th>\n",
              "      <th>Severity</th>\n",
              "      <th>Accident_place</th>\n",
              "    </tr>\n",
              "  </thead>\n",
              "  <tbody>\n",
              "  </tbody>\n",
              "</table>\n",
              "</div>"
            ],
            "text/plain": [
              "Empty DataFrame\n",
              "Columns: [Codigo accidentado, Turno, Gender, Planta, Tipo accidente, Tipo trabajador, Fabrica, Tecnología, Pais, Horas Presencia Efectiva Subcontratados, Horas Presencia Efectiva ETTs, Horas Formacion Seguridad Propios, Horas Formacion Seguridad ETTs, Accident, wk_position, Age, Severity, Accident_place]\n",
              "Index: []"
            ]
          },
          "metadata": {
            "tags": []
          },
          "execution_count": 284
        }
      ]
    },
    {
      "cell_type": "code",
      "metadata": {
        "id": "ri3Y2pTadv2_"
      },
      "source": [
        "def create_rndm(values, column):\n",
        "  staff_without[column] = np.random.choice(values, size=17030)"
      ],
      "execution_count": 285,
      "outputs": []
    },
    {
      "cell_type": "code",
      "metadata": {
        "id": "QyymGdVpdM4q"
      },
      "source": [
        "turno  = ['Turno de mañana', 'Turno de tarde', 'Turno de noche']\n",
        "\n",
        "create_rndm(turno, 'Turno')"
      ],
      "execution_count": 286,
      "outputs": []
    },
    {
      "cell_type": "markdown",
      "metadata": {
        "id": "s2qZ8uByiG-6"
      },
      "source": [
        "To create the gender columns we are going to apply weights based on the data we had from staff"
      ]
    },
    {
      "cell_type": "code",
      "metadata": {
        "id": "1oPrbFJNiLQs"
      },
      "source": [
        "gender = ['Hombre', 'Mujer']\n",
        "weights = [0.90,0.1]\n",
        "\n",
        "np.random.seed(0)\n",
        "\n",
        "staff_without['Gender'] = random.choices(gender, weights=weights, k=len(staff_without))"
      ],
      "execution_count": 287,
      "outputs": []
    },
    {
      "cell_type": "code",
      "metadata": {
        "id": "f7ffOH-IeHwT"
      },
      "source": [
        "planta_list = staff.Planta.unique()\n",
        "create_rndm(planta_list, 'Planta')"
      ],
      "execution_count": 288,
      "outputs": []
    },
    {
      "cell_type": "code",
      "metadata": {
        "colab": {
          "base_uri": "https://localhost:8080/",
          "height": 114
        },
        "id": "kivrUdyydscS",
        "outputId": "6c54c4f1-82b8-4394-d7e6-30c85e03ea1e"
      },
      "source": [
        "staff_without.head(1)"
      ],
      "execution_count": 289,
      "outputs": [
        {
          "output_type": "execute_result",
          "data": {
            "text/html": [
              "<div>\n",
              "<style scoped>\n",
              "    .dataframe tbody tr th:only-of-type {\n",
              "        vertical-align: middle;\n",
              "    }\n",
              "\n",
              "    .dataframe tbody tr th {\n",
              "        vertical-align: top;\n",
              "    }\n",
              "\n",
              "    .dataframe thead th {\n",
              "        text-align: right;\n",
              "    }\n",
              "</style>\n",
              "<table border=\"1\" class=\"dataframe\">\n",
              "  <thead>\n",
              "    <tr style=\"text-align: right;\">\n",
              "      <th></th>\n",
              "      <th>Codigo accidentado</th>\n",
              "      <th>Turno</th>\n",
              "      <th>Gender</th>\n",
              "      <th>Planta</th>\n",
              "      <th>Tipo accidente</th>\n",
              "      <th>Tipo trabajador</th>\n",
              "      <th>Fabrica</th>\n",
              "      <th>Tecnología</th>\n",
              "      <th>Pais</th>\n",
              "      <th>Horas Presencia Efectiva Subcontratados</th>\n",
              "      <th>Horas Presencia Efectiva ETTs</th>\n",
              "      <th>Horas Formacion Seguridad Propios</th>\n",
              "      <th>Horas Formacion Seguridad ETTs</th>\n",
              "      <th>Accident</th>\n",
              "      <th>wk_position</th>\n",
              "      <th>Age</th>\n",
              "      <th>Severity</th>\n",
              "      <th>Accident_place</th>\n",
              "    </tr>\n",
              "  </thead>\n",
              "  <tbody>\n",
              "    <tr>\n",
              "      <th>0</th>\n",
              "      <td>NaN</td>\n",
              "      <td>Turno de tarde</td>\n",
              "      <td>Mujer</td>\n",
              "      <td>20</td>\n",
              "      <td>NaN</td>\n",
              "      <td>NaN</td>\n",
              "      <td>NaN</td>\n",
              "      <td>NaN</td>\n",
              "      <td>NaN</td>\n",
              "      <td>NaN</td>\n",
              "      <td>NaN</td>\n",
              "      <td>NaN</td>\n",
              "      <td>NaN</td>\n",
              "      <td>NaN</td>\n",
              "      <td>NaN</td>\n",
              "      <td>NaN</td>\n",
              "      <td>NaN</td>\n",
              "      <td>NaN</td>\n",
              "    </tr>\n",
              "  </tbody>\n",
              "</table>\n",
              "</div>"
            ],
            "text/plain": [
              "  Codigo accidentado           Turno Gender  ...  Age Severity Accident_place\n",
              "0                NaN  Turno de tarde  Mujer  ...  NaN      NaN            NaN\n",
              "\n",
              "[1 rows x 18 columns]"
            ]
          },
          "metadata": {
            "tags": []
          },
          "execution_count": 289
        }
      ]
    },
    {
      "cell_type": "code",
      "metadata": {
        "id": "fSFpEuogew86"
      },
      "source": [
        "staff_without.drop(columns={'Fabrica', 'Tecnología', 'Pais'}, inplace=True)"
      ],
      "execution_count": 290,
      "outputs": []
    },
    {
      "cell_type": "code",
      "metadata": {
        "colab": {
          "base_uri": "https://localhost:8080/",
          "height": 179
        },
        "id": "J3ZC3VJ4eatF",
        "outputId": "1fdbe997-e306-47bc-d270-98573479ff80"
      },
      "source": [
        "staff_without = staff_without.merge(planta, left_on='Planta', right_on='ID', how='left')\n",
        "staff_without.head(2)"
      ],
      "execution_count": 291,
      "outputs": [
        {
          "output_type": "execute_result",
          "data": {
            "text/html": [
              "<div>\n",
              "<style scoped>\n",
              "    .dataframe tbody tr th:only-of-type {\n",
              "        vertical-align: middle;\n",
              "    }\n",
              "\n",
              "    .dataframe tbody tr th {\n",
              "        vertical-align: top;\n",
              "    }\n",
              "\n",
              "    .dataframe thead th {\n",
              "        text-align: right;\n",
              "    }\n",
              "</style>\n",
              "<table border=\"1\" class=\"dataframe\">\n",
              "  <thead>\n",
              "    <tr style=\"text-align: right;\">\n",
              "      <th></th>\n",
              "      <th>Codigo accidentado</th>\n",
              "      <th>Turno</th>\n",
              "      <th>Gender</th>\n",
              "      <th>Planta</th>\n",
              "      <th>Tipo accidente</th>\n",
              "      <th>Tipo trabajador</th>\n",
              "      <th>Horas Presencia Efectiva Subcontratados</th>\n",
              "      <th>Horas Presencia Efectiva ETTs</th>\n",
              "      <th>Horas Formacion Seguridad Propios</th>\n",
              "      <th>Horas Formacion Seguridad ETTs</th>\n",
              "      <th>Accident</th>\n",
              "      <th>wk_position</th>\n",
              "      <th>Age</th>\n",
              "      <th>Severity</th>\n",
              "      <th>Accident_place</th>\n",
              "      <th>ID</th>\n",
              "      <th>Fabrica</th>\n",
              "      <th>Tecnología</th>\n",
              "      <th>Pais</th>\n",
              "    </tr>\n",
              "  </thead>\n",
              "  <tbody>\n",
              "    <tr>\n",
              "      <th>0</th>\n",
              "      <td>NaN</td>\n",
              "      <td>Turno de tarde</td>\n",
              "      <td>Mujer</td>\n",
              "      <td>20</td>\n",
              "      <td>NaN</td>\n",
              "      <td>NaN</td>\n",
              "      <td>NaN</td>\n",
              "      <td>NaN</td>\n",
              "      <td>NaN</td>\n",
              "      <td>NaN</td>\n",
              "      <td>NaN</td>\n",
              "      <td>NaN</td>\n",
              "      <td>NaN</td>\n",
              "      <td>NaN</td>\n",
              "      <td>NaN</td>\n",
              "      <td>20</td>\n",
              "      <td>Burgos</td>\n",
              "      <td>Skinpass</td>\n",
              "      <td>España</td>\n",
              "    </tr>\n",
              "    <tr>\n",
              "      <th>1</th>\n",
              "      <td>NaN</td>\n",
              "      <td>Turno de mañana</td>\n",
              "      <td>Hombre</td>\n",
              "      <td>41</td>\n",
              "      <td>NaN</td>\n",
              "      <td>NaN</td>\n",
              "      <td>NaN</td>\n",
              "      <td>NaN</td>\n",
              "      <td>NaN</td>\n",
              "      <td>NaN</td>\n",
              "      <td>NaN</td>\n",
              "      <td>NaN</td>\n",
              "      <td>NaN</td>\n",
              "      <td>NaN</td>\n",
              "      <td>NaN</td>\n",
              "      <td>41</td>\n",
              "      <td>Hiasa</td>\n",
              "      <td>Corte Láser</td>\n",
              "      <td>España</td>\n",
              "    </tr>\n",
              "  </tbody>\n",
              "</table>\n",
              "</div>"
            ],
            "text/plain": [
              "  Codigo accidentado            Turno  Gender  ...  Fabrica   Tecnología    Pais\n",
              "0                NaN   Turno de tarde   Mujer  ...   Burgos     Skinpass  España\n",
              "1                NaN  Turno de mañana  Hombre  ...    Hiasa  Corte Láser  España\n",
              "\n",
              "[2 rows x 19 columns]"
            ]
          },
          "metadata": {
            "tags": []
          },
          "execution_count": 291
        }
      ]
    },
    {
      "cell_type": "code",
      "metadata": {
        "colab": {
          "base_uri": "https://localhost:8080/"
        },
        "id": "LtatiQe0fEDE",
        "outputId": "066b2905-7a07-48a2-8168-8b3d9b547cef"
      },
      "source": [
        "len(staff_without)"
      ],
      "execution_count": 292,
      "outputs": [
        {
          "output_type": "execute_result",
          "data": {
            "text/plain": [
              "17030"
            ]
          },
          "metadata": {
            "tags": []
          },
          "execution_count": 292
        }
      ]
    },
    {
      "cell_type": "code",
      "metadata": {
        "id": "jZ2YaFmFfGtU"
      },
      "source": [
        "tipo_accidente = staff['Tipo accidente'].unique()\n",
        "create_rndm(tipo_accidente, 'Tipo accidente')"
      ],
      "execution_count": 293,
      "outputs": []
    },
    {
      "cell_type": "code",
      "metadata": {
        "id": "TGEK4TxjfTJ8"
      },
      "source": [
        "tipo_trabj = staff['Tipo trabajador'].unique()\n",
        "create_rndm(tipo_trabj, 'Tipo trabajador')"
      ],
      "execution_count": 294,
      "outputs": []
    },
    {
      "cell_type": "code",
      "metadata": {
        "id": "TdOr-faWftMD"
      },
      "source": [
        "staff_without.drop(columns=['Horas Presencia Efectiva Subcontratados','Horas Presencia Efectiva ETTs', 'Horas Formacion Seguridad Propios', 'Horas Formacion Seguridad ETTs' ], inplace=True)"
      ],
      "execution_count": 295,
      "outputs": []
    },
    {
      "cell_type": "code",
      "metadata": {
        "id": "QI2kNL0HfpLq"
      },
      "source": [
        "staff_without = staff_without.merge(trainning_hours, on='Fabrica', how='left')"
      ],
      "execution_count": 296,
      "outputs": []
    },
    {
      "cell_type": "code",
      "metadata": {
        "id": "7ZN2fwdQgXNf"
      },
      "source": [
        "staff_without.drop(columns={'ID'}, inplace=True)"
      ],
      "execution_count": 297,
      "outputs": []
    },
    {
      "cell_type": "code",
      "metadata": {
        "id": "bquZP8TKgcAF"
      },
      "source": [
        "staff_without['Accident'] = 'No'"
      ],
      "execution_count": 298,
      "outputs": []
    },
    {
      "cell_type": "code",
      "metadata": {
        "id": "HNyZT-0bgr1v"
      },
      "source": [
        "pos_wk = staff['wk_position'].unique()\n",
        "\n",
        "create_rndm(pos_wk, 'wk_position')"
      ],
      "execution_count": 299,
      "outputs": []
    },
    {
      "cell_type": "code",
      "metadata": {
        "id": "K5XiOFCKhGDc"
      },
      "source": [
        "rangos_edad = ['Menor 30', 'Entre 30-50', 'Mayor 50']\n",
        "weights = {'Hombre':[0.2, 0.44, 0.36], 'Mujer':[0.2,0.55,0.25]}\n",
        "\n",
        "np.random.seed(0)\n",
        "\n",
        "staff_without['Age'] = staff_without.groupby('Gender').apply(apply_randoms)\\\n",
        "       .rename('Age').reset_index().drop('level_1', 1)['Age']"
      ],
      "execution_count": 300,
      "outputs": []
    },
    {
      "cell_type": "code",
      "metadata": {
        "id": "XckpSlJ4h5Be"
      },
      "source": [
        "place = staff['Accident_place'].unique()\n",
        "\n",
        "create_rndm(place, 'Accident_place')"
      ],
      "execution_count": 302,
      "outputs": []
    },
    {
      "cell_type": "code",
      "metadata": {
        "id": "cA-bUaOrcVRq"
      },
      "source": [
        ""
      ],
      "execution_count": null,
      "outputs": []
    },
    {
      "cell_type": "code",
      "metadata": {
        "colab": {
          "base_uri": "https://localhost:8080/",
          "height": 196
        },
        "id": "28GRajdlfQOG",
        "outputId": "ce9ad1cc-c4c4-4c67-dd45-4f0ce05ae8fe"
      },
      "source": [
        "staff_without.head(2) ##cod accidentado is the only column we are going to leave blank as these employees doestn have any accident"
      ],
      "execution_count": 303,
      "outputs": [
        {
          "output_type": "execute_result",
          "data": {
            "text/html": [
              "<div>\n",
              "<style scoped>\n",
              "    .dataframe tbody tr th:only-of-type {\n",
              "        vertical-align: middle;\n",
              "    }\n",
              "\n",
              "    .dataframe tbody tr th {\n",
              "        vertical-align: top;\n",
              "    }\n",
              "\n",
              "    .dataframe thead th {\n",
              "        text-align: right;\n",
              "    }\n",
              "</style>\n",
              "<table border=\"1\" class=\"dataframe\">\n",
              "  <thead>\n",
              "    <tr style=\"text-align: right;\">\n",
              "      <th></th>\n",
              "      <th>Codigo accidentado</th>\n",
              "      <th>Turno</th>\n",
              "      <th>Gender</th>\n",
              "      <th>Planta</th>\n",
              "      <th>Tipo accidente</th>\n",
              "      <th>Tipo trabajador</th>\n",
              "      <th>Accident</th>\n",
              "      <th>wk_position</th>\n",
              "      <th>Age</th>\n",
              "      <th>Severity</th>\n",
              "      <th>Accident_place</th>\n",
              "      <th>Fabrica</th>\n",
              "      <th>Tecnología</th>\n",
              "      <th>Pais</th>\n",
              "      <th>Horas Presencia Efectiva Subcontratados</th>\n",
              "      <th>Horas Presencia Efectiva ETTs</th>\n",
              "      <th>Horas Formacion Seguridad Propios</th>\n",
              "      <th>Horas Formacion Seguridad ETTs</th>\n",
              "    </tr>\n",
              "  </thead>\n",
              "  <tbody>\n",
              "    <tr>\n",
              "      <th>0</th>\n",
              "      <td>NaN</td>\n",
              "      <td>Turno de tarde</td>\n",
              "      <td>Mujer</td>\n",
              "      <td>20</td>\n",
              "      <td>Accidente c/b</td>\n",
              "      <td>Incidente (no aplica)</td>\n",
              "      <td>No</td>\n",
              "      <td>Auxiliar de Producción</td>\n",
              "      <td>Entre 30-50</td>\n",
              "      <td>NaN</td>\n",
              "      <td>Mantenimiento</td>\n",
              "      <td>Burgos</td>\n",
              "      <td>Skinpass</td>\n",
              "      <td>España</td>\n",
              "      <td>25249.0</td>\n",
              "      <td>42484.0</td>\n",
              "      <td>1419.3</td>\n",
              "      <td>830.1</td>\n",
              "    </tr>\n",
              "    <tr>\n",
              "      <th>1</th>\n",
              "      <td>NaN</td>\n",
              "      <td>Turno de mañana</td>\n",
              "      <td>Hombre</td>\n",
              "      <td>41</td>\n",
              "      <td>Accidente s/b</td>\n",
              "      <td>Indefinido con preaviso</td>\n",
              "      <td>No</td>\n",
              "      <td>poligon production-black area</td>\n",
              "      <td>Mayor 50</td>\n",
              "      <td>NaN</td>\n",
              "      <td>Mantenimiento</td>\n",
              "      <td>Hiasa</td>\n",
              "      <td>Corte Láser</td>\n",
              "      <td>España</td>\n",
              "      <td>0.0</td>\n",
              "      <td>167848.0</td>\n",
              "      <td>1300.5</td>\n",
              "      <td>101.5</td>\n",
              "    </tr>\n",
              "  </tbody>\n",
              "</table>\n",
              "</div>"
            ],
            "text/plain": [
              "  Codigo accidentado  ... Horas Formacion Seguridad ETTs\n",
              "0                NaN  ...                          830.1\n",
              "1                NaN  ...                          101.5\n",
              "\n",
              "[2 rows x 18 columns]"
            ]
          },
          "metadata": {
            "tags": []
          },
          "execution_count": 303
        }
      ]
    },
    {
      "cell_type": "markdown",
      "metadata": {
        "id": "cGvHis4sjMCz"
      },
      "source": [
        "Now we are going to concat both dataframes on a resulting dataframe with length of 21.210"
      ]
    },
    {
      "cell_type": "code",
      "metadata": {
        "colab": {
          "base_uri": "https://localhost:8080/"
        },
        "id": "K32u2TrXg8O6",
        "outputId": "bec3d6e9-0249-4cce-dde7-c5f6af693dc9"
      },
      "source": [
        "staff = pd.concat([staff, staff_without])\n",
        "len(staff)"
      ],
      "execution_count": 304,
      "outputs": [
        {
          "output_type": "execute_result",
          "data": {
            "text/plain": [
              "21210"
            ]
          },
          "metadata": {
            "tags": []
          },
          "execution_count": 304
        }
      ]
    },
    {
      "cell_type": "code",
      "metadata": {
        "colab": {
          "base_uri": "https://localhost:8080/",
          "height": 17
        },
        "id": "eRSaepnedK6x",
        "outputId": "3899b7b2-24cd-497e-f0ca-49941376f193"
      },
      "source": [
        "from google.colab import files\n",
        "\n",
        "staff.to_csv('Total_staff_by_employee.csv', sep=';')\n",
        "files.download(\"Total_staff_by_employee.csv\")"
      ],
      "execution_count": 305,
      "outputs": [
        {
          "output_type": "display_data",
          "data": {
            "application/javascript": [
              "\n",
              "    async function download(id, filename, size) {\n",
              "      if (!google.colab.kernel.accessAllowed) {\n",
              "        return;\n",
              "      }\n",
              "      const div = document.createElement('div');\n",
              "      const label = document.createElement('label');\n",
              "      label.textContent = `Downloading \"${filename}\": `;\n",
              "      div.appendChild(label);\n",
              "      const progress = document.createElement('progress');\n",
              "      progress.max = size;\n",
              "      div.appendChild(progress);\n",
              "      document.body.appendChild(div);\n",
              "\n",
              "      const buffers = [];\n",
              "      let downloaded = 0;\n",
              "\n",
              "      const channel = await google.colab.kernel.comms.open(id);\n",
              "      // Send a message to notify the kernel that we're ready.\n",
              "      channel.send({})\n",
              "\n",
              "      for await (const message of channel.messages) {\n",
              "        // Send a message to notify the kernel that we're ready.\n",
              "        channel.send({})\n",
              "        if (message.buffers) {\n",
              "          for (const buffer of message.buffers) {\n",
              "            buffers.push(buffer);\n",
              "            downloaded += buffer.byteLength;\n",
              "            progress.value = downloaded;\n",
              "          }\n",
              "        }\n",
              "      }\n",
              "      const blob = new Blob(buffers, {type: 'application/binary'});\n",
              "      const a = document.createElement('a');\n",
              "      a.href = window.URL.createObjectURL(blob);\n",
              "      a.download = filename;\n",
              "      div.appendChild(a);\n",
              "      a.click();\n",
              "      div.remove();\n",
              "    }\n",
              "  "
            ],
            "text/plain": [
              "<IPython.core.display.Javascript object>"
            ]
          },
          "metadata": {
            "tags": []
          }
        },
        {
          "output_type": "display_data",
          "data": {
            "application/javascript": [
              "download(\"download_ce064a4a-2a3e-4167-99f0-128ed140461c\", \"Total_staff_by_employee.csv\", 3591106)"
            ],
            "text/plain": [
              "<IPython.core.display.Javascript object>"
            ]
          },
          "metadata": {
            "tags": []
          }
        }
      ]
    }
  ]
}