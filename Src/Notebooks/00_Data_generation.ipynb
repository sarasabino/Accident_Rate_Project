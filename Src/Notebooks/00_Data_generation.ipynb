{
  "nbformat": 4,
  "nbformat_minor": 0,
  "metadata": {
    "colab": {
      "name": "00_Data_generation.ipynb",
      "provenance": [],
      "mount_file_id": "18MOCeNlI0OqA7MkkYVcWzKC5s8ijnAd4",
      "authorship_tag": "ABX9TyMVjZv0p7nfSEnJ21aHcHKt",
      "include_colab_link": true
    },
    "kernelspec": {
      "name": "python3",
      "display_name": "Python 3"
    },
    "language_info": {
      "name": "python"
    }
  },
  "cells": [
    {
      "cell_type": "markdown",
      "metadata": {
        "id": "view-in-github",
        "colab_type": "text"
      },
      "source": [
        "<a href=\"https://colab.research.google.com/github/sarasabino/Accident_Rate_Project/blob/main/Src/Notebooks/00_Data_generation.ipynb\" target=\"_parent\"><img src=\"https://colab.research.google.com/assets/colab-badge.svg\" alt=\"Open In Colab\"/></a>"
      ]
    },
    {
      "cell_type": "markdown",
      "metadata": {
        "id": "tfPS3xuQU1MA"
      },
      "source": [
        "## Data Generation\n",
        "\n",
        "We initially received the data from the accidents occurred in the company, although it is usefull we will need the data from the staff and the resolution if each employee has had an accident or not. This data will allow us to perform our accident prediction model. \n",
        "\n",
        "For that purpose we are going to generate a csv file with random data, but based in the real one, that contains the company's staff by employee. Each row represents an employee, with all its characteristic. In the \"Accident\" column we will have if that person has had an accident during his time in the company or not. \n"
      ]
    },
    {
      "cell_type": "code",
      "metadata": {
        "id": "KGd4qTHoUv2G"
      },
      "source": [
        "! cp /content/drive/MyDrive/'Colab Notebooks'/'TFM Accidentabilidad'/Data/HS_Accidentabilidad.csv .\n",
        "! cp /content/drive/MyDrive/'Colab Notebooks'/'TFM Accidentabilidad'/Data/'G_Plantas y Tech'.csv .\n",
        "! cp /content/drive/MyDrive/'Colab Notebooks'/'TFM Accidentabilidad'/Data/Datos_plantilla_fabrica.csv .\n"
      ],
      "execution_count": 1,
      "outputs": []
    },
    {
      "cell_type": "markdown",
      "metadata": {
        "id": "tHkkk17yXuQa"
      },
      "source": [
        "We are going to upload the accidents' data and filter by year. We would only work with 2018,2019 and 2020 as the other years are incomplete."
      ]
    },
    {
      "cell_type": "code",
      "metadata": {
        "id": "KfBhfVGnXiG2"
      },
      "source": [
        "import pandas as pd\n",
        "\n",
        "accidentes = pd.read_csv('HS_Accidentabilidad.csv', sep=';')\n",
        "\n",
        "accidentes = accidentes[(accidentes['Año']== 2018) | (accidentes['Año']==2019) | (accidentes['Año']==2020) ]"
      ],
      "execution_count": 2,
      "outputs": []
    },
    {
      "cell_type": "code",
      "metadata": {
        "colab": {
          "base_uri": "https://localhost:8080/"
        },
        "id": "3Ale6fXJjE8f",
        "outputId": "2de95535-f635-4928-9643-17d2ed7c7ad3"
      },
      "source": [
        "print(\"We have a total accidents amount of \",  len(accidentes))"
      ],
      "execution_count": 3,
      "outputs": [
        {
          "output_type": "stream",
          "text": [
            "We have a total accidents amount of  4180\n"
          ],
          "name": "stdout"
        }
      ]
    },
    {
      "cell_type": "code",
      "metadata": {
        "colab": {
          "base_uri": "https://localhost:8080/",
          "height": 669
        },
        "id": "dVZjq2685jr8",
        "outputId": "6f5a150d-8cef-4a18-8640-5f0c3fccb0b4"
      },
      "source": [
        "accidentes.head() ## we have 104 columns which is a lot of information"
      ],
      "execution_count": 4,
      "outputs": [
        {
          "output_type": "execute_result",
          "data": {
            "text/html": [
              "<div>\n",
              "<style scoped>\n",
              "    .dataframe tbody tr th:only-of-type {\n",
              "        vertical-align: middle;\n",
              "    }\n",
              "\n",
              "    .dataframe tbody tr th {\n",
              "        vertical-align: top;\n",
              "    }\n",
              "\n",
              "    .dataframe thead th {\n",
              "        text-align: right;\n",
              "    }\n",
              "</style>\n",
              "<table border=\"1\" class=\"dataframe\">\n",
              "  <thead>\n",
              "    <tr style=\"text-align: right;\">\n",
              "      <th></th>\n",
              "      <th>ID</th>\n",
              "      <th>-  DATOS DEL SUCESO -</th>\n",
              "      <th>Codigo accidentado</th>\n",
              "      <th>Fecha introduccion datos</th>\n",
              "      <th>Fecha accidente</th>\n",
              "      <th>Año</th>\n",
              "      <th>Codigo fecha accidente</th>\n",
              "      <th>Planta</th>\n",
              "      <th>Código empleado</th>\n",
              "      <th>Supervisor</th>\n",
              "      <th>Puesto habitual de trabajo</th>\n",
              "      <th>Puesto habitual de trabajo - Cerrado</th>\n",
              "      <th>MOI o MOD</th>\n",
              "      <th>La estaba desempeñando</th>\n",
              "      <th>En caso negativo, indicar qué estaba desempeñando</th>\n",
              "      <th>Edad</th>\n",
              "      <th>Género</th>\n",
              "      <th>Turno</th>\n",
              "      <th>Numero personas implicadas</th>\n",
              "      <th>Llevaba EPIs puestos</th>\n",
              "      <th>Hora</th>\n",
              "      <th>Hora jornada</th>\n",
              "      <th>Tipo trabajador</th>\n",
              "      <th>En caso de ser ajeno, indicar empresa</th>\n",
              "      <th>Lugar o seccion accidente</th>\n",
              "      <th>Línea de producción</th>\n",
              "      <th>Tarea que estaba realizando</th>\n",
              "      <th>Cumplimiento Instruccion de Seguridad</th>\n",
              "      <th>¿Se ha incumplido alguna de las normas o instrucciones existentes y explicadas?</th>\n",
              "      <th>En caso de incumplimiento, comentarios:</th>\n",
              "      <th>En caso negativo, indicar la razon</th>\n",
              "      <th>Experiencia en puesto</th>\n",
              "      <th>Fecha ultima formacion completa sobre instrucciones en el puesto</th>\n",
              "      <th>Condicion peligrosa</th>\n",
              "      <th>Forma de producirse</th>\n",
              "      <th>Factores de peligro</th>\n",
              "      <th>Acto inseguro</th>\n",
              "      <th>Naturaleza de lesion</th>\n",
              "      <th>- FORMA EN QUE SE PRODUJO -</th>\n",
              "      <th>Descripción supervisor</th>\n",
              "      <th>...</th>\n",
              "      <th>Nombre del Coordinador - despegable</th>\n",
              "      <th>Nombre de participante a la investigación</th>\n",
              "      <th>Responsable de Departamento</th>\n",
              "      <th>Fecha cierre informe</th>\n",
              "      <th>- VALORACIÓN DE LOS HECHOS -</th>\n",
              "      <th>Probabilidad de repeticion del suceso</th>\n",
              "      <th>Gravedad potencial</th>\n",
              "      <th>Podría haberse dado otro riesgo en estas circunstancias</th>\n",
              "      <th>- MEDIDAS DE CONTROL -</th>\n",
              "      <th>Posibilidad de este suceso detectada en la evaluación de riesgos</th>\n",
              "      <th>Estaban contempladas las medidas preventivas en la Instruccion de Seguridad</th>\n",
              "      <th>Los implicados conocian la existencia del riesgo y las medidas a adoptar</th>\n",
              "      <th>Se habian cumplido las normas establecidas, en caso de estar definidas</th>\n",
              "      <th>- PROPUESTA DE ACCIONES -</th>\n",
              "      <th>Estas acciones pueden añadir riesgos a los ya existentes</th>\n",
              "      <th>1 En caso afirmativo, cual es</th>\n",
              "      <th>Se abre NC como consecuencia de esta investigacion</th>\n",
              "      <th>2 En caso afirmativo, cual es</th>\n",
              "      <th>Requiere revision de Evaluacion de Riesgos</th>\n",
              "      <th>3 En caso afirmativo, cual es</th>\n",
              "      <th>Requiere revision de alguna Instruccion de Seguridad</th>\n",
              "      <th>4 En caso afirmativo, cual es</th>\n",
              "      <th>Requiere incorporar algun aspecto en el check list de Inspecciones</th>\n",
              "      <th>5 En caso afirmativo, cual es</th>\n",
              "      <th>Requiere amonestacion verbal el empleado</th>\n",
              "      <th>Bloqueado</th>\n",
              "      <th>Fecha accidente trigger</th>\n",
              "      <th>- ACTUACIONES INMEDIATAS TOMADAS -</th>\n",
              "      <th>Actuación inmediata asistencial</th>\n",
              "      <th>Actuación inmediata instalaciones</th>\n",
              "      <th>- PROPUESTA INICIAL DE MEDIDAS A PLANIFICAR -</th>\n",
              "      <th>Medida a planificar 1</th>\n",
              "      <th>Medida a planificar 2</th>\n",
              "      <th>Medida a planificar 3</th>\n",
              "      <th>Notificacion o investigacion</th>\n",
              "      <th>Modifica notificacion</th>\n",
              "      <th>Se ha dado un suceso similar (en cuanto a sus causas y consecuencias) en el último año en planta?</th>\n",
              "      <th>En caso afirmativo, cual es y como se actuó?</th>\n",
              "      <th>Tipo Tema</th>\n",
              "      <th>Acta reunión alta baja</th>\n",
              "    </tr>\n",
              "  </thead>\n",
              "  <tbody>\n",
              "    <tr>\n",
              "      <th>2057</th>\n",
              "      <td>6253</td>\n",
              "      <td>0.0</td>\n",
              "      <td>HS-CHGQ_6253</td>\n",
              "      <td>09/03/2019</td>\n",
              "      <td>30/05/2018</td>\n",
              "      <td>2018.0</td>\n",
              "      <td>201805</td>\n",
              "      <td>45</td>\n",
              "      <td>NaN</td>\n",
              "      <td>522</td>\n",
              "      <td>NaN</td>\n",
              "      <td>NaN</td>\n",
              "      <td>NaN</td>\n",
              "      <td>NaN</td>\n",
              "      <td>NaN</td>\n",
              "      <td>NaN</td>\n",
              "      <td>NaN</td>\n",
              "      <td>Turno de mañana</td>\n",
              "      <td>17</td>\n",
              "      <td>NaN</td>\n",
              "      <td>NaN</td>\n",
              "      <td>Primera hora</td>\n",
              "      <td>Incidente (no aplica)</td>\n",
              "      <td>NaN</td>\n",
              "      <td>Almacén producto semielaborado o en producción</td>\n",
              "      <td>NaN</td>\n",
              "      <td>NaN</td>\n",
              "      <td>Pendiente incluir el riesgo y medidas en Instr...</td>\n",
              "      <td>NaN</td>\n",
              "      <td>NaN</td>\n",
              "      <td>NaN</td>\n",
              "      <td>NaN</td>\n",
              "      <td>NaN</td>\n",
              "      <td>Deficiente visibilidad del punto de peligro</td>\n",
              "      <td>Choque contra objeto inmóvil</td>\n",
              "      <td>Camiones</td>\n",
              "      <td>Accionar el equipo sin supervisar la maniobra</td>\n",
              "      <td>NaN</td>\n",
              "      <td>0.0</td>\n",
              "      <td>NaN</td>\n",
              "      <td>...</td>\n",
              "      <td>NaN</td>\n",
              "      <td>NaN</td>\n",
              "      <td>Logistics</td>\n",
              "      <td>NaN</td>\n",
              "      <td>0.0</td>\n",
              "      <td>NaN</td>\n",
              "      <td>NaN</td>\n",
              "      <td>NaN</td>\n",
              "      <td>0.0</td>\n",
              "      <td>Si</td>\n",
              "      <td>Si</td>\n",
              "      <td>NaN</td>\n",
              "      <td>NaN</td>\n",
              "      <td>0.0</td>\n",
              "      <td>NaN</td>\n",
              "      <td>NaN</td>\n",
              "      <td>NaN</td>\n",
              "      <td>NaN</td>\n",
              "      <td>NaN</td>\n",
              "      <td>NaN</td>\n",
              "      <td>NaN</td>\n",
              "      <td>NaN</td>\n",
              "      <td>NaN</td>\n",
              "      <td>NaN</td>\n",
              "      <td>NaN</td>\n",
              "      <td>No</td>\n",
              "      <td>30/05/2018</td>\n",
              "      <td>0.0</td>\n",
              "      <td>NaN</td>\n",
              "      <td>NaN</td>\n",
              "      <td>0.0</td>\n",
              "      <td>NaN</td>\n",
              "      <td>NaN</td>\n",
              "      <td>NaN</td>\n",
              "      <td>No</td>\n",
              "      <td>NaN</td>\n",
              "      <td>NaN</td>\n",
              "      <td>NaN</td>\n",
              "      <td>3</td>\n",
              "      <td>NaN</td>\n",
              "    </tr>\n",
              "    <tr>\n",
              "      <th>2062</th>\n",
              "      <td>6813</td>\n",
              "      <td>0.0</td>\n",
              "      <td>HS-CHGQ_6813</td>\n",
              "      <td>09/03/2019</td>\n",
              "      <td>30/05/2018</td>\n",
              "      <td>2018.0</td>\n",
              "      <td>201805</td>\n",
              "      <td>45</td>\n",
              "      <td>NaN</td>\n",
              "      <td>522</td>\n",
              "      <td>NaN</td>\n",
              "      <td>NaN</td>\n",
              "      <td>NaN</td>\n",
              "      <td>NaN</td>\n",
              "      <td>NaN</td>\n",
              "      <td>NaN</td>\n",
              "      <td>NaN</td>\n",
              "      <td>Turno de mañana</td>\n",
              "      <td>17</td>\n",
              "      <td>NaN</td>\n",
              "      <td>NaN</td>\n",
              "      <td>Primera hora</td>\n",
              "      <td>Incidente (no aplica)</td>\n",
              "      <td>NaN</td>\n",
              "      <td>Área de embalado</td>\n",
              "      <td>NaN</td>\n",
              "      <td>NaN</td>\n",
              "      <td>Si</td>\n",
              "      <td>NaN</td>\n",
              "      <td>NaN</td>\n",
              "      <td>NaN</td>\n",
              "      <td>NaN</td>\n",
              "      <td>NaN</td>\n",
              "      <td>Ninguna</td>\n",
              "      <td>Choque contra objeto inmóvil</td>\n",
              "      <td>Camiones</td>\n",
              "      <td>Falta de coordinación con el compañero</td>\n",
              "      <td>NaN</td>\n",
              "      <td>0.0</td>\n",
              "      <td>NaN</td>\n",
              "      <td>...</td>\n",
              "      <td>NaN</td>\n",
              "      <td>NaN</td>\n",
              "      <td>Logistics</td>\n",
              "      <td>NaN</td>\n",
              "      <td>0.0</td>\n",
              "      <td>NaN</td>\n",
              "      <td>NaN</td>\n",
              "      <td>NaN</td>\n",
              "      <td>0.0</td>\n",
              "      <td>Si</td>\n",
              "      <td>Si</td>\n",
              "      <td>NaN</td>\n",
              "      <td>NaN</td>\n",
              "      <td>0.0</td>\n",
              "      <td>NaN</td>\n",
              "      <td>NaN</td>\n",
              "      <td>NaN</td>\n",
              "      <td>NaN</td>\n",
              "      <td>NaN</td>\n",
              "      <td>NaN</td>\n",
              "      <td>NaN</td>\n",
              "      <td>NaN</td>\n",
              "      <td>NaN</td>\n",
              "      <td>NaN</td>\n",
              "      <td>NaN</td>\n",
              "      <td>No</td>\n",
              "      <td>30/05/2018</td>\n",
              "      <td>0.0</td>\n",
              "      <td>NaN</td>\n",
              "      <td>NaN</td>\n",
              "      <td>0.0</td>\n",
              "      <td>NaN</td>\n",
              "      <td>NaN</td>\n",
              "      <td>NaN</td>\n",
              "      <td>No</td>\n",
              "      <td>NaN</td>\n",
              "      <td>NaN</td>\n",
              "      <td>NaN</td>\n",
              "      <td>3</td>\n",
              "      <td>NaN</td>\n",
              "    </tr>\n",
              "    <tr>\n",
              "      <th>2063</th>\n",
              "      <td>6814</td>\n",
              "      <td>0.0</td>\n",
              "      <td>HS-CHGQ_6814</td>\n",
              "      <td>09/03/2019</td>\n",
              "      <td>16/07/2018</td>\n",
              "      <td>2018.0</td>\n",
              "      <td>201807</td>\n",
              "      <td>45</td>\n",
              "      <td>NaN</td>\n",
              "      <td>522</td>\n",
              "      <td>NaN</td>\n",
              "      <td>NaN</td>\n",
              "      <td>NaN</td>\n",
              "      <td>NaN</td>\n",
              "      <td>NaN</td>\n",
              "      <td>NaN</td>\n",
              "      <td>NaN</td>\n",
              "      <td>Turno de mañana</td>\n",
              "      <td>17</td>\n",
              "      <td>NaN</td>\n",
              "      <td>NaN</td>\n",
              "      <td>Octava hora</td>\n",
              "      <td>Incidente (no aplica)</td>\n",
              "      <td>NaN</td>\n",
              "      <td>Instalaciones exteriores y auxiliares</td>\n",
              "      <td>NaN</td>\n",
              "      <td>NaN</td>\n",
              "      <td>Si</td>\n",
              "      <td>NaN</td>\n",
              "      <td>NaN</td>\n",
              "      <td>NaN</td>\n",
              "      <td>NaN</td>\n",
              "      <td>NaN</td>\n",
              "      <td>Herramientas o útiles en mal estado, o mal con...</td>\n",
              "      <td>Contacto eléctrico</td>\n",
              "      <td>Otro</td>\n",
              "      <td>Ninguno</td>\n",
              "      <td>NaN</td>\n",
              "      <td>0.0</td>\n",
              "      <td>NaN</td>\n",
              "      <td>...</td>\n",
              "      <td>NaN</td>\n",
              "      <td>NaN</td>\n",
              "      <td>Maintenance</td>\n",
              "      <td>NaN</td>\n",
              "      <td>0.0</td>\n",
              "      <td>NaN</td>\n",
              "      <td>NaN</td>\n",
              "      <td>NaN</td>\n",
              "      <td>0.0</td>\n",
              "      <td>Si</td>\n",
              "      <td>Si</td>\n",
              "      <td>NaN</td>\n",
              "      <td>NaN</td>\n",
              "      <td>0.0</td>\n",
              "      <td>NaN</td>\n",
              "      <td>NaN</td>\n",
              "      <td>NaN</td>\n",
              "      <td>NaN</td>\n",
              "      <td>NaN</td>\n",
              "      <td>NaN</td>\n",
              "      <td>NaN</td>\n",
              "      <td>NaN</td>\n",
              "      <td>NaN</td>\n",
              "      <td>NaN</td>\n",
              "      <td>NaN</td>\n",
              "      <td>No</td>\n",
              "      <td>16/07/2018</td>\n",
              "      <td>0.0</td>\n",
              "      <td>NaN</td>\n",
              "      <td>NaN</td>\n",
              "      <td>0.0</td>\n",
              "      <td>NaN</td>\n",
              "      <td>NaN</td>\n",
              "      <td>NaN</td>\n",
              "      <td>No</td>\n",
              "      <td>NaN</td>\n",
              "      <td>NaN</td>\n",
              "      <td>NaN</td>\n",
              "      <td>3</td>\n",
              "      <td>NaN</td>\n",
              "    </tr>\n",
              "    <tr>\n",
              "      <th>2064</th>\n",
              "      <td>6138</td>\n",
              "      <td>0.0</td>\n",
              "      <td>HS-CHGQ_6138</td>\n",
              "      <td>09/03/2019</td>\n",
              "      <td>13/03/2018</td>\n",
              "      <td>2018.0</td>\n",
              "      <td>201803</td>\n",
              "      <td>45</td>\n",
              "      <td>NaN</td>\n",
              "      <td>522</td>\n",
              "      <td>NaN</td>\n",
              "      <td>NaN</td>\n",
              "      <td>NaN</td>\n",
              "      <td>NaN</td>\n",
              "      <td>NaN</td>\n",
              "      <td>NaN</td>\n",
              "      <td>NaN</td>\n",
              "      <td>Turno de mañana</td>\n",
              "      <td>17</td>\n",
              "      <td>NaN</td>\n",
              "      <td>NaN</td>\n",
              "      <td>Cuarta hora</td>\n",
              "      <td>Incidente (no aplica)</td>\n",
              "      <td>NaN</td>\n",
              "      <td>Puente Grúa</td>\n",
              "      <td>NaN</td>\n",
              "      <td>NaN</td>\n",
              "      <td>Si</td>\n",
              "      <td>NaN</td>\n",
              "      <td>NaN</td>\n",
              "      <td>NaN</td>\n",
              "      <td>NaN</td>\n",
              "      <td>NaN</td>\n",
              "      <td>Ausencia de ubicaciones, soportes, contenedore...</td>\n",
              "      <td>Caída de objetos desprendidos</td>\n",
              "      <td>Actividades en altura</td>\n",
              "      <td>Desconocimiento de riesgos y/o medidas prevent...</td>\n",
              "      <td>NaN</td>\n",
              "      <td>0.0</td>\n",
              "      <td>NaN</td>\n",
              "      <td>...</td>\n",
              "      <td>NaN</td>\n",
              "      <td>NaN</td>\n",
              "      <td>Maintenance</td>\n",
              "      <td>NaN</td>\n",
              "      <td>0.0</td>\n",
              "      <td>NaN</td>\n",
              "      <td>NaN</td>\n",
              "      <td>NaN</td>\n",
              "      <td>0.0</td>\n",
              "      <td>Si</td>\n",
              "      <td>Si</td>\n",
              "      <td>NaN</td>\n",
              "      <td>NaN</td>\n",
              "      <td>0.0</td>\n",
              "      <td>NaN</td>\n",
              "      <td>NaN</td>\n",
              "      <td>NaN</td>\n",
              "      <td>NaN</td>\n",
              "      <td>NaN</td>\n",
              "      <td>NaN</td>\n",
              "      <td>NaN</td>\n",
              "      <td>NaN</td>\n",
              "      <td>NaN</td>\n",
              "      <td>NaN</td>\n",
              "      <td>NaN</td>\n",
              "      <td>No</td>\n",
              "      <td>13/03/2018</td>\n",
              "      <td>0.0</td>\n",
              "      <td>NaN</td>\n",
              "      <td>NaN</td>\n",
              "      <td>0.0</td>\n",
              "      <td>NaN</td>\n",
              "      <td>NaN</td>\n",
              "      <td>NaN</td>\n",
              "      <td>No</td>\n",
              "      <td>NaN</td>\n",
              "      <td>NaN</td>\n",
              "      <td>NaN</td>\n",
              "      <td>3</td>\n",
              "      <td>NaN</td>\n",
              "    </tr>\n",
              "    <tr>\n",
              "      <th>2065</th>\n",
              "      <td>6139</td>\n",
              "      <td>0.0</td>\n",
              "      <td>HS-CHGQ_6139</td>\n",
              "      <td>09/03/2019</td>\n",
              "      <td>15/03/2018</td>\n",
              "      <td>2018.0</td>\n",
              "      <td>201803</td>\n",
              "      <td>45</td>\n",
              "      <td>NaN</td>\n",
              "      <td>522</td>\n",
              "      <td>NaN</td>\n",
              "      <td>NaN</td>\n",
              "      <td>NaN</td>\n",
              "      <td>NaN</td>\n",
              "      <td>NaN</td>\n",
              "      <td>NaN</td>\n",
              "      <td>NaN</td>\n",
              "      <td>Turno de tarde</td>\n",
              "      <td>17</td>\n",
              "      <td>NaN</td>\n",
              "      <td>NaN</td>\n",
              "      <td>Tercera hora</td>\n",
              "      <td>Incidente (no aplica)</td>\n",
              "      <td>NaN</td>\n",
              "      <td>Instalaciones exteriores y auxiliares</td>\n",
              "      <td>NaN</td>\n",
              "      <td>NaN</td>\n",
              "      <td>Pendiente incluir el riesgo y medidas en Instr...</td>\n",
              "      <td>NaN</td>\n",
              "      <td>NaN</td>\n",
              "      <td>NaN</td>\n",
              "      <td>NaN</td>\n",
              "      <td>NaN</td>\n",
              "      <td>Equipo de protección individual inadecuado o i...</td>\n",
              "      <td>Caída de personas a distinto nivel</td>\n",
              "      <td>Actividades en altura</td>\n",
              "      <td>Desconocimiento del método de trabajo</td>\n",
              "      <td>NaN</td>\n",
              "      <td>0.0</td>\n",
              "      <td>NaN</td>\n",
              "      <td>...</td>\n",
              "      <td>NaN</td>\n",
              "      <td>NaN</td>\n",
              "      <td>Maintenance</td>\n",
              "      <td>NaN</td>\n",
              "      <td>0.0</td>\n",
              "      <td>NaN</td>\n",
              "      <td>NaN</td>\n",
              "      <td>NaN</td>\n",
              "      <td>0.0</td>\n",
              "      <td>Si</td>\n",
              "      <td>Si</td>\n",
              "      <td>NaN</td>\n",
              "      <td>NaN</td>\n",
              "      <td>0.0</td>\n",
              "      <td>NaN</td>\n",
              "      <td>NaN</td>\n",
              "      <td>NaN</td>\n",
              "      <td>NaN</td>\n",
              "      <td>NaN</td>\n",
              "      <td>NaN</td>\n",
              "      <td>NaN</td>\n",
              "      <td>NaN</td>\n",
              "      <td>NaN</td>\n",
              "      <td>NaN</td>\n",
              "      <td>NaN</td>\n",
              "      <td>No</td>\n",
              "      <td>15/03/2018</td>\n",
              "      <td>0.0</td>\n",
              "      <td>NaN</td>\n",
              "      <td>NaN</td>\n",
              "      <td>0.0</td>\n",
              "      <td>NaN</td>\n",
              "      <td>NaN</td>\n",
              "      <td>NaN</td>\n",
              "      <td>No</td>\n",
              "      <td>NaN</td>\n",
              "      <td>NaN</td>\n",
              "      <td>NaN</td>\n",
              "      <td>3</td>\n",
              "      <td>NaN</td>\n",
              "    </tr>\n",
              "  </tbody>\n",
              "</table>\n",
              "<p>5 rows × 104 columns</p>\n",
              "</div>"
            ],
            "text/plain": [
              "        ID  -  DATOS DEL SUCESO -  ... Tipo Tema Acta reunión alta baja\n",
              "2057  6253                    0.0  ...         3                    NaN\n",
              "2062  6813                    0.0  ...         3                    NaN\n",
              "2063  6814                    0.0  ...         3                    NaN\n",
              "2064  6138                    0.0  ...         3                    NaN\n",
              "2065  6139                    0.0  ...         3                    NaN\n",
              "\n",
              "[5 rows x 104 columns]"
            ]
          },
          "metadata": {
            "tags": []
          },
          "execution_count": 4
        }
      ]
    },
    {
      "cell_type": "code",
      "metadata": {
        "colab": {
          "base_uri": "https://localhost:8080/"
        },
        "id": "lzAPU5nj5sR1",
        "outputId": "c0b1c9f5-5039-437a-b5d4-c0f422130f6c"
      },
      "source": [
        "accidentes.columns"
      ],
      "execution_count": 5,
      "outputs": [
        {
          "output_type": "execute_result",
          "data": {
            "text/plain": [
              "Index(['ID', '-  DATOS DEL SUCESO -', 'Codigo accidentado',\n",
              "       'Fecha introduccion datos', 'Fecha accidente', 'Año',\n",
              "       'Codigo fecha accidente', 'Planta', 'Código empleado', 'Supervisor',\n",
              "       ...\n",
              "       '- PROPUESTA INICIAL DE MEDIDAS A PLANIFICAR -',\n",
              "       'Medida a planificar 1', 'Medida a planificar 2',\n",
              "       'Medida a planificar 3', 'Notificacion o investigacion',\n",
              "       'Modifica notificacion',\n",
              "       'Se ha dado un suceso similar (en cuanto a sus causas y consecuencias) en el último año en planta?',\n",
              "       'En caso afirmativo, cual es y como se actuó?', 'Tipo Tema',\n",
              "       'Acta reunión alta baja'],\n",
              "      dtype='object', length=104)"
            ]
          },
          "metadata": {
            "tags": []
          },
          "execution_count": 5
        }
      ]
    },
    {
      "cell_type": "code",
      "metadata": {
        "colab": {
          "base_uri": "https://localhost:8080/"
        },
        "id": "9tc0ohI_5dq8",
        "outputId": "5081bf35-9d9f-4911-a3f9-5ccc0f640245"
      },
      "source": [
        "#lets check all columns dtypes\n",
        "with pd.option_context('display.max_rows', None, 'display.max_columns', None):\n",
        "    print(accidentes.dtypes)"
      ],
      "execution_count": 6,
      "outputs": [
        {
          "output_type": "stream",
          "text": [
            "ID                                                                                                     int64\n",
            "-  DATOS DEL SUCESO -                                                                                float64\n",
            "Codigo accidentado                                                                                    object\n",
            "Fecha introduccion datos                                                                              object\n",
            "Fecha accidente                                                                                       object\n",
            "Año                                                                                                  float64\n",
            "Codigo fecha accidente                                                                                 int64\n",
            "Planta                                                                                                 int64\n",
            "Código empleado                                                                                       object\n",
            "Supervisor                                                                                             int64\n",
            "Puesto habitual de trabajo                                                                            object\n",
            "Puesto habitual de trabajo - Cerrado                                                                  object\n",
            "MOI o MOD                                                                                             object\n",
            "La estaba desempeñando                                                                                object\n",
            "En caso negativo, indicar qué estaba desempeñando                                                     object\n",
            "Edad                                                                                                  object\n",
            "Género                                                                                                object\n",
            "Turno                                                                                                 object\n",
            "Numero personas implicadas                                                                             int64\n",
            "Llevaba EPIs puestos                                                                                  object\n",
            "Hora                                                                                                  object\n",
            "Hora jornada                                                                                          object\n",
            "Tipo trabajador                                                                                       object\n",
            "En caso de ser ajeno, indicar empresa                                                                 object\n",
            "Lugar o seccion accidente                                                                             object\n",
            "Línea de producción                                                                                   object\n",
            "Tarea que estaba realizando                                                                           object\n",
            "Cumplimiento Instruccion de Seguridad                                                                 object\n",
            "¿Se ha incumplido alguna de las normas o instrucciones existentes y explicadas?                       object\n",
            "En caso de incumplimiento, comentarios:                                                               object\n",
            "En caso negativo, indicar la razon                                                                    object\n",
            "Experiencia en puesto                                                                                 object\n",
            "Fecha ultima formacion completa sobre instrucciones en el puesto                                      object\n",
            "Condicion peligrosa                                                                                   object\n",
            "Forma de producirse                                                                                   object\n",
            "Factores de peligro                                                                                   object\n",
            "Acto inseguro                                                                                         object\n",
            "Naturaleza de lesion                                                                                  object\n",
            "- FORMA EN QUE SE PRODUJO -                                                                          float64\n",
            "Descripción supervisor                                                                                object\n",
            "Causa inmediata supervisor                                                                            object\n",
            "¿Por qué ocurrió el incidente?                                                                        object\n",
            "¿… y por qué se dio esa circunstancia?                                                                object\n",
            "¿… y por qué se dio esa otra circunstancia?                                                           object\n",
            "- DESCRIPCIÓN -                                                                                      float64\n",
            "Tipo accidente                                                                                        object\n",
            "Causa inmediata                                                                                       object\n",
            "Descripcion accidente o incidente                                                                     object\n",
            "Fotos del accidente                                                                                   object\n",
            "- CONSECUENCIAS -                                                                                    float64\n",
            "Fecha inicio baja                                                                                     object\n",
            "Codigo fecha inicio baja                                                                             float64\n",
            "Daños personales                                                                                      object\n",
            "Parte lesionada                                                                                       object\n",
            "Descripcion de la lesion                                                                              object\n",
            "Daños materiales                                                                                      object\n",
            "Consecuencias materiales                                                                              object\n",
            "Descripcion pérdida material                                                                          object\n",
            "- FECHA DE ALTA Y RECAÍDA -                                                                          float64\n",
            "Fecha alta                                                                                            object\n",
            "Comentarios recaída                                                                                   object\n",
            "Jornadas laborales perdidas                                                                          float64\n",
            "- INVESTIGACIÓN -                                                                                    float64\n",
            "Coordinador de Seguridad y Salud                                                                      object\n",
            "Nombre del Coordinador - despegable                                                                   object\n",
            "Nombre de participante a la investigación                                                             object\n",
            "Responsable de Departamento                                                                           object\n",
            "Fecha cierre informe                                                                                  object\n",
            "- VALORACIÓN DE LOS HECHOS -                                                                         float64\n",
            "Probabilidad de repeticion del suceso                                                                 object\n",
            "Gravedad potencial                                                                                    object\n",
            "Podría haberse dado otro riesgo en estas circunstancias                                               object\n",
            "- MEDIDAS DE CONTROL -                                                                               float64\n",
            "Posibilidad de este suceso detectada en la evaluación de riesgos                                      object\n",
            "Estaban contempladas las medidas preventivas en la Instruccion de Seguridad                           object\n",
            "Los implicados conocian la existencia del riesgo y las medidas a adoptar                              object\n",
            "Se habian cumplido las normas establecidas, en caso de estar definidas                                object\n",
            "- PROPUESTA DE ACCIONES -                                                                            float64\n",
            "Estas acciones pueden añadir riesgos a los ya existentes                                              object\n",
            "1 En caso afirmativo, cual es                                                                         object\n",
            "Se abre NC como consecuencia de esta investigacion                                                    object\n",
            "2 En caso afirmativo, cual es                                                                         object\n",
            "Requiere revision de Evaluacion de Riesgos                                                            object\n",
            "3 En caso afirmativo, cual es                                                                         object\n",
            "Requiere revision de alguna Instruccion de Seguridad                                                  object\n",
            "4 En caso afirmativo, cual es                                                                         object\n",
            "Requiere incorporar algun aspecto en el check list de Inspecciones                                    object\n",
            "5 En caso afirmativo, cual es                                                                         object\n",
            "Requiere amonestacion verbal el empleado                                                              object\n",
            "Bloqueado                                                                                             object\n",
            "Fecha accidente trigger                                                                               object\n",
            "- ACTUACIONES INMEDIATAS TOMADAS -                                                                   float64\n",
            "Actuación inmediata asistencial                                                                       object\n",
            "Actuación inmediata instalaciones                                                                     object\n",
            "- PROPUESTA INICIAL DE MEDIDAS A PLANIFICAR -                                                        float64\n",
            "Medida a planificar 1                                                                                 object\n",
            "Medida a planificar 2                                                                                 object\n",
            "Medida a planificar 3                                                                                 object\n",
            "Notificacion o investigacion                                                                          object\n",
            "Modifica notificacion                                                                                 object\n",
            "Se ha dado un suceso similar (en cuanto a sus causas y consecuencias) en el último año en planta?     object\n",
            "En caso afirmativo, cual es y como se actuó?                                                          object\n",
            "Tipo Tema                                                                                              int64\n",
            "Acta reunión alta baja                                                                               float64\n",
            "dtype: object\n"
          ],
          "name": "stdout"
        }
      ]
    },
    {
      "cell_type": "code",
      "metadata": {
        "colab": {
          "base_uri": "https://localhost:8080/"
        },
        "id": "2DlQRjYaX5G7",
        "outputId": "eabe1ea4-efbc-481b-ebb2-c6c2f3dbeddf"
      },
      "source": [
        "accidentes['Gravedad potencial'].unique()"
      ],
      "execution_count": 7,
      "outputs": [
        {
          "output_type": "execute_result",
          "data": {
            "text/plain": [
              "array([nan, 'Muy grave', 'Leve', 'Grave'], dtype=object)"
            ]
          },
          "metadata": {
            "tags": []
          },
          "execution_count": 7
        }
      ]
    },
    {
      "cell_type": "code",
      "metadata": {
        "colab": {
          "base_uri": "https://localhost:8080/",
          "height": 205
        },
        "id": "GyMVvB9rX7C9",
        "outputId": "0a0b8d49-6900-4e57-b9a2-66e855032d41"
      },
      "source": [
        "## we are going to filter to get the most important columns\n",
        "staff = accidentes[['Codigo accidentado', 'Puesto habitual de trabajo','Turno','Edad','Género','Planta', 'Tipo accidente', 'Tipo trabajador', 'Gravedad potencial', 'Lugar o seccion accidente']]\n",
        "staff.head()"
      ],
      "execution_count": 8,
      "outputs": [
        {
          "output_type": "execute_result",
          "data": {
            "text/html": [
              "<div>\n",
              "<style scoped>\n",
              "    .dataframe tbody tr th:only-of-type {\n",
              "        vertical-align: middle;\n",
              "    }\n",
              "\n",
              "    .dataframe tbody tr th {\n",
              "        vertical-align: top;\n",
              "    }\n",
              "\n",
              "    .dataframe thead th {\n",
              "        text-align: right;\n",
              "    }\n",
              "</style>\n",
              "<table border=\"1\" class=\"dataframe\">\n",
              "  <thead>\n",
              "    <tr style=\"text-align: right;\">\n",
              "      <th></th>\n",
              "      <th>Codigo accidentado</th>\n",
              "      <th>Puesto habitual de trabajo</th>\n",
              "      <th>Turno</th>\n",
              "      <th>Edad</th>\n",
              "      <th>Género</th>\n",
              "      <th>Planta</th>\n",
              "      <th>Tipo accidente</th>\n",
              "      <th>Tipo trabajador</th>\n",
              "      <th>Gravedad potencial</th>\n",
              "      <th>Lugar o seccion accidente</th>\n",
              "    </tr>\n",
              "  </thead>\n",
              "  <tbody>\n",
              "    <tr>\n",
              "      <th>2057</th>\n",
              "      <td>HS-CHGQ_6253</td>\n",
              "      <td>NaN</td>\n",
              "      <td>Turno de mañana</td>\n",
              "      <td>NaN</td>\n",
              "      <td>NaN</td>\n",
              "      <td>45</td>\n",
              "      <td>Incidente</td>\n",
              "      <td>Incidente (no aplica)</td>\n",
              "      <td>NaN</td>\n",
              "      <td>Almacén producto semielaborado o en producción</td>\n",
              "    </tr>\n",
              "    <tr>\n",
              "      <th>2062</th>\n",
              "      <td>HS-CHGQ_6813</td>\n",
              "      <td>NaN</td>\n",
              "      <td>Turno de mañana</td>\n",
              "      <td>NaN</td>\n",
              "      <td>NaN</td>\n",
              "      <td>45</td>\n",
              "      <td>Incidente</td>\n",
              "      <td>Incidente (no aplica)</td>\n",
              "      <td>NaN</td>\n",
              "      <td>Área de embalado</td>\n",
              "    </tr>\n",
              "    <tr>\n",
              "      <th>2063</th>\n",
              "      <td>HS-CHGQ_6814</td>\n",
              "      <td>NaN</td>\n",
              "      <td>Turno de mañana</td>\n",
              "      <td>NaN</td>\n",
              "      <td>NaN</td>\n",
              "      <td>45</td>\n",
              "      <td>Incidente</td>\n",
              "      <td>Incidente (no aplica)</td>\n",
              "      <td>NaN</td>\n",
              "      <td>Instalaciones exteriores y auxiliares</td>\n",
              "    </tr>\n",
              "    <tr>\n",
              "      <th>2064</th>\n",
              "      <td>HS-CHGQ_6138</td>\n",
              "      <td>NaN</td>\n",
              "      <td>Turno de mañana</td>\n",
              "      <td>NaN</td>\n",
              "      <td>NaN</td>\n",
              "      <td>45</td>\n",
              "      <td>Incidente</td>\n",
              "      <td>Incidente (no aplica)</td>\n",
              "      <td>NaN</td>\n",
              "      <td>Puente Grúa</td>\n",
              "    </tr>\n",
              "    <tr>\n",
              "      <th>2065</th>\n",
              "      <td>HS-CHGQ_6139</td>\n",
              "      <td>NaN</td>\n",
              "      <td>Turno de tarde</td>\n",
              "      <td>NaN</td>\n",
              "      <td>NaN</td>\n",
              "      <td>45</td>\n",
              "      <td>Incidente</td>\n",
              "      <td>Incidente (no aplica)</td>\n",
              "      <td>NaN</td>\n",
              "      <td>Instalaciones exteriores y auxiliares</td>\n",
              "    </tr>\n",
              "  </tbody>\n",
              "</table>\n",
              "</div>"
            ],
            "text/plain": [
              "     Codigo accidentado  ...                       Lugar o seccion accidente\n",
              "2057       HS-CHGQ_6253  ...  Almacén producto semielaborado o en producción\n",
              "2062       HS-CHGQ_6813  ...                                Área de embalado\n",
              "2063       HS-CHGQ_6814  ...           Instalaciones exteriores y auxiliares\n",
              "2064       HS-CHGQ_6138  ...                                     Puente Grúa\n",
              "2065       HS-CHGQ_6139  ...           Instalaciones exteriores y auxiliares\n",
              "\n",
              "[5 rows x 10 columns]"
            ]
          },
          "metadata": {
            "tags": []
          },
          "execution_count": 8
        }
      ]
    },
    {
      "cell_type": "markdown",
      "metadata": {
        "id": "MSHXcion6TwX"
      },
      "source": [
        "Now we are going to upload the Plants and Tech file, which contains the relation between the fabric the tecnology and the country. We can join this table with the staff table by Planta - ID"
      ]
    },
    {
      "cell_type": "code",
      "metadata": {
        "colab": {
          "base_uri": "https://localhost:8080/",
          "height": 205
        },
        "id": "pKf83P3gZKU-",
        "outputId": "79734016-dbb9-42f5-9ac6-94fe884d4758"
      },
      "source": [
        "planta = pd.read_csv('G_Plantas y Tech.csv', sep=';')\n",
        "planta.drop(columns={'Activo'}, inplace=True)\n",
        "planta.head()"
      ],
      "execution_count": 9,
      "outputs": [
        {
          "output_type": "execute_result",
          "data": {
            "text/html": [
              "<div>\n",
              "<style scoped>\n",
              "    .dataframe tbody tr th:only-of-type {\n",
              "        vertical-align: middle;\n",
              "    }\n",
              "\n",
              "    .dataframe tbody tr th {\n",
              "        vertical-align: top;\n",
              "    }\n",
              "\n",
              "    .dataframe thead th {\n",
              "        text-align: right;\n",
              "    }\n",
              "</style>\n",
              "<table border=\"1\" class=\"dataframe\">\n",
              "  <thead>\n",
              "    <tr style=\"text-align: right;\">\n",
              "      <th></th>\n",
              "      <th>ID</th>\n",
              "      <th>Fabrica</th>\n",
              "      <th>Tecnología</th>\n",
              "      <th>Pais</th>\n",
              "    </tr>\n",
              "  </thead>\n",
              "  <tbody>\n",
              "    <tr>\n",
              "      <th>0</th>\n",
              "      <td>1</td>\n",
              "      <td>Argentina</td>\n",
              "      <td>Blanking</td>\n",
              "      <td>Argentina</td>\n",
              "    </tr>\n",
              "    <tr>\n",
              "      <th>1</th>\n",
              "      <td>2</td>\n",
              "      <td>Argentina</td>\n",
              "      <td>Corte Longitudinal</td>\n",
              "      <td>Argentina</td>\n",
              "    </tr>\n",
              "    <tr>\n",
              "      <th>2</th>\n",
              "      <td>3</td>\n",
              "      <td>Argentina</td>\n",
              "      <td>Corte Transversal</td>\n",
              "      <td>Argentina</td>\n",
              "    </tr>\n",
              "    <tr>\n",
              "      <th>3</th>\n",
              "      <td>4</td>\n",
              "      <td>Arizona</td>\n",
              "      <td>Células Soldadura</td>\n",
              "      <td>EEUU</td>\n",
              "    </tr>\n",
              "    <tr>\n",
              "      <th>4</th>\n",
              "      <td>5</td>\n",
              "      <td>Arizona</td>\n",
              "      <td>Corte Láser</td>\n",
              "      <td>EEUU</td>\n",
              "    </tr>\n",
              "  </tbody>\n",
              "</table>\n",
              "</div>"
            ],
            "text/plain": [
              "   ID    Fabrica          Tecnología       Pais\n",
              "0   1  Argentina            Blanking  Argentina\n",
              "1   2  Argentina  Corte Longitudinal  Argentina\n",
              "2   3  Argentina   Corte Transversal  Argentina\n",
              "3   4    Arizona   Células Soldadura       EEUU\n",
              "4   5    Arizona         Corte Láser       EEUU"
            ]
          },
          "metadata": {
            "tags": []
          },
          "execution_count": 9
        }
      ]
    },
    {
      "cell_type": "code",
      "metadata": {
        "id": "ycAEG8ykZZi3"
      },
      "source": [
        "# we merge both df so we have all information in staff df with a left join in case we dont have plants for some rows\n",
        "\n",
        "staff = staff.merge(planta, left_on='Planta', right_on='ID', how='left')\n"
      ],
      "execution_count": 10,
      "outputs": []
    },
    {
      "cell_type": "code",
      "metadata": {
        "colab": {
          "base_uri": "https://localhost:8080/",
          "height": 309
        },
        "id": "wOQez98xaDFQ",
        "outputId": "ba1b766e-2153-44be-b9ca-75bc0952d587"
      },
      "source": [
        "staff.drop(columns={'ID'}, inplace=True)\n",
        "\n",
        "staff.head()"
      ],
      "execution_count": 11,
      "outputs": [
        {
          "output_type": "execute_result",
          "data": {
            "text/html": [
              "<div>\n",
              "<style scoped>\n",
              "    .dataframe tbody tr th:only-of-type {\n",
              "        vertical-align: middle;\n",
              "    }\n",
              "\n",
              "    .dataframe tbody tr th {\n",
              "        vertical-align: top;\n",
              "    }\n",
              "\n",
              "    .dataframe thead th {\n",
              "        text-align: right;\n",
              "    }\n",
              "</style>\n",
              "<table border=\"1\" class=\"dataframe\">\n",
              "  <thead>\n",
              "    <tr style=\"text-align: right;\">\n",
              "      <th></th>\n",
              "      <th>Codigo accidentado</th>\n",
              "      <th>Puesto habitual de trabajo</th>\n",
              "      <th>Turno</th>\n",
              "      <th>Edad</th>\n",
              "      <th>Género</th>\n",
              "      <th>Planta</th>\n",
              "      <th>Tipo accidente</th>\n",
              "      <th>Tipo trabajador</th>\n",
              "      <th>Gravedad potencial</th>\n",
              "      <th>Lugar o seccion accidente</th>\n",
              "      <th>Fabrica</th>\n",
              "      <th>Tecnología</th>\n",
              "      <th>Pais</th>\n",
              "    </tr>\n",
              "  </thead>\n",
              "  <tbody>\n",
              "    <tr>\n",
              "      <th>0</th>\n",
              "      <td>HS-CHGQ_6253</td>\n",
              "      <td>NaN</td>\n",
              "      <td>Turno de mañana</td>\n",
              "      <td>NaN</td>\n",
              "      <td>NaN</td>\n",
              "      <td>45</td>\n",
              "      <td>Incidente</td>\n",
              "      <td>Incidente (no aplica)</td>\n",
              "      <td>NaN</td>\n",
              "      <td>Almacén producto semielaborado o en producción</td>\n",
              "      <td>Asturias</td>\n",
              "      <td>Decapado</td>\n",
              "      <td>España</td>\n",
              "    </tr>\n",
              "    <tr>\n",
              "      <th>1</th>\n",
              "      <td>HS-CHGQ_6813</td>\n",
              "      <td>NaN</td>\n",
              "      <td>Turno de mañana</td>\n",
              "      <td>NaN</td>\n",
              "      <td>NaN</td>\n",
              "      <td>45</td>\n",
              "      <td>Incidente</td>\n",
              "      <td>Incidente (no aplica)</td>\n",
              "      <td>NaN</td>\n",
              "      <td>Área de embalado</td>\n",
              "      <td>Asturias</td>\n",
              "      <td>Decapado</td>\n",
              "      <td>España</td>\n",
              "    </tr>\n",
              "    <tr>\n",
              "      <th>2</th>\n",
              "      <td>HS-CHGQ_6814</td>\n",
              "      <td>NaN</td>\n",
              "      <td>Turno de mañana</td>\n",
              "      <td>NaN</td>\n",
              "      <td>NaN</td>\n",
              "      <td>45</td>\n",
              "      <td>Incidente</td>\n",
              "      <td>Incidente (no aplica)</td>\n",
              "      <td>NaN</td>\n",
              "      <td>Instalaciones exteriores y auxiliares</td>\n",
              "      <td>Asturias</td>\n",
              "      <td>Decapado</td>\n",
              "      <td>España</td>\n",
              "    </tr>\n",
              "    <tr>\n",
              "      <th>3</th>\n",
              "      <td>HS-CHGQ_6138</td>\n",
              "      <td>NaN</td>\n",
              "      <td>Turno de mañana</td>\n",
              "      <td>NaN</td>\n",
              "      <td>NaN</td>\n",
              "      <td>45</td>\n",
              "      <td>Incidente</td>\n",
              "      <td>Incidente (no aplica)</td>\n",
              "      <td>NaN</td>\n",
              "      <td>Puente Grúa</td>\n",
              "      <td>Asturias</td>\n",
              "      <td>Decapado</td>\n",
              "      <td>España</td>\n",
              "    </tr>\n",
              "    <tr>\n",
              "      <th>4</th>\n",
              "      <td>HS-CHGQ_6139</td>\n",
              "      <td>NaN</td>\n",
              "      <td>Turno de tarde</td>\n",
              "      <td>NaN</td>\n",
              "      <td>NaN</td>\n",
              "      <td>45</td>\n",
              "      <td>Incidente</td>\n",
              "      <td>Incidente (no aplica)</td>\n",
              "      <td>NaN</td>\n",
              "      <td>Instalaciones exteriores y auxiliares</td>\n",
              "      <td>Asturias</td>\n",
              "      <td>Decapado</td>\n",
              "      <td>España</td>\n",
              "    </tr>\n",
              "  </tbody>\n",
              "</table>\n",
              "</div>"
            ],
            "text/plain": [
              "  Codigo accidentado Puesto habitual de trabajo  ... Tecnología    Pais\n",
              "0       HS-CHGQ_6253                        NaN  ...   Decapado  España\n",
              "1       HS-CHGQ_6813                        NaN  ...   Decapado  España\n",
              "2       HS-CHGQ_6814                        NaN  ...   Decapado  España\n",
              "3       HS-CHGQ_6138                        NaN  ...   Decapado  España\n",
              "4       HS-CHGQ_6139                        NaN  ...   Decapado  España\n",
              "\n",
              "[5 rows x 13 columns]"
            ]
          },
          "metadata": {
            "tags": []
          },
          "execution_count": 11
        }
      ]
    },
    {
      "cell_type": "code",
      "metadata": {
        "colab": {
          "base_uri": "https://localhost:8080/"
        },
        "id": "C63jEalecZG9",
        "outputId": "d10821fe-fec7-4feb-cc7b-34200a30cf30"
      },
      "source": [
        "len(staff) ## we have same amount as before"
      ],
      "execution_count": 12,
      "outputs": [
        {
          "output_type": "execute_result",
          "data": {
            "text/plain": [
              "4180"
            ]
          },
          "metadata": {
            "tags": []
          },
          "execution_count": 12
        }
      ]
    },
    {
      "cell_type": "markdown",
      "metadata": {
        "id": "t3mDNDyVap0l"
      },
      "source": [
        "Now we are going to upload some staff data to get the number of trainning hours per plant and have a reference of the quantity of employees we want to generate. \n",
        "\n",
        "This data is aggregated so it is not valid for our model."
      ]
    },
    {
      "cell_type": "code",
      "metadata": {
        "colab": {
          "base_uri": "https://localhost:8080/"
        },
        "id": "VBXW__tUapZn",
        "outputId": "ca12ae43-5c61-47b5-ab34-fd7afdd2b0d3"
      },
      "source": [
        "rrhh_plant = pd.read_csv('Datos_plantilla_fabrica.csv', sep=';')\n",
        "\n",
        "rrhh_plant['Año'].unique()"
      ],
      "execution_count": 13,
      "outputs": [
        {
          "output_type": "execute_result",
          "data": {
            "text/plain": [
              "array([2017., 2016., 2018., 2019.,   nan, 2020., 2021.])"
            ]
          },
          "metadata": {
            "tags": []
          },
          "execution_count": 13
        }
      ]
    },
    {
      "cell_type": "code",
      "metadata": {
        "id": "AYIu-lEjbJF5"
      },
      "source": [
        "# we are getting only 2020 for our analysis to have a reference\n",
        "\n",
        "rrhh_plant = rrhh_plant[rrhh_plant['Año']==2020]\n"
      ],
      "execution_count": 14,
      "outputs": []
    },
    {
      "cell_type": "code",
      "metadata": {
        "colab": {
          "base_uri": "https://localhost:8080/",
          "height": 257
        },
        "id": "Tdw6rjhXbUPh",
        "outputId": "c981af72-ce80-4a29-fdcb-e1303f3efa8b"
      },
      "source": [
        "rrhh_plant.head()"
      ],
      "execution_count": 15,
      "outputs": [
        {
          "output_type": "execute_result",
          "data": {
            "text/html": [
              "<div>\n",
              "<style scoped>\n",
              "    .dataframe tbody tr th:only-of-type {\n",
              "        vertical-align: middle;\n",
              "    }\n",
              "\n",
              "    .dataframe tbody tr th {\n",
              "        vertical-align: top;\n",
              "    }\n",
              "\n",
              "    .dataframe thead th {\n",
              "        text-align: right;\n",
              "    }\n",
              "</style>\n",
              "<table border=\"1\" class=\"dataframe\">\n",
              "  <thead>\n",
              "    <tr style=\"text-align: right;\">\n",
              "      <th></th>\n",
              "      <th>ID</th>\n",
              "      <th>Planta</th>\n",
              "      <th>Año</th>\n",
              "      <th>Mes</th>\n",
              "      <th>Empleados Propios</th>\n",
              "      <th>Empleados Ajenos</th>\n",
              "      <th>Empleados ETTS</th>\n",
              "      <th>Empleados Subcontrata</th>\n",
              "      <th>Horas Presencia Efectiva Propios</th>\n",
              "      <th>Horas Presencia Efectiva Subcontratados</th>\n",
              "      <th>Horas Presencia Efectiva ETTs</th>\n",
              "      <th>Horas Formacion Seguridad Propios</th>\n",
              "      <th>Horas Formacion Seguridad ETTs</th>\n",
              "      <th>Horas Formacion General Propios</th>\n",
              "      <th>Empleados Propios - indefinido</th>\n",
              "      <th>Empleados Propios - duración determinada</th>\n",
              "    </tr>\n",
              "  </thead>\n",
              "  <tbody>\n",
              "    <tr>\n",
              "      <th>2615</th>\n",
              "      <td>3819</td>\n",
              "      <td>Barcelona</td>\n",
              "      <td>2020.0</td>\n",
              "      <td>ENE</td>\n",
              "      <td>203.0</td>\n",
              "      <td>28.0</td>\n",
              "      <td>8.0</td>\n",
              "      <td>20.0</td>\n",
              "      <td>29770,3</td>\n",
              "      <td>3138</td>\n",
              "      <td>1307,5</td>\n",
              "      <td>15</td>\n",
              "      <td>23</td>\n",
              "      <td>211</td>\n",
              "      <td>189.0</td>\n",
              "      <td>14.0</td>\n",
              "    </tr>\n",
              "    <tr>\n",
              "      <th>2616</th>\n",
              "      <td>3820</td>\n",
              "      <td>Burgos</td>\n",
              "      <td>2020.0</td>\n",
              "      <td>ENE</td>\n",
              "      <td>239.0</td>\n",
              "      <td>68.0</td>\n",
              "      <td>28.0</td>\n",
              "      <td>40.0</td>\n",
              "      <td>32625</td>\n",
              "      <td>6487</td>\n",
              "      <td>4549,3</td>\n",
              "      <td>445</td>\n",
              "      <td>348,5</td>\n",
              "      <td>757</td>\n",
              "      <td>188.0</td>\n",
              "      <td>38.0</td>\n",
              "    </tr>\n",
              "    <tr>\n",
              "      <th>2617</th>\n",
              "      <td>3821</td>\n",
              "      <td>Tarragona</td>\n",
              "      <td>2020.0</td>\n",
              "      <td>ENE</td>\n",
              "      <td>49.0</td>\n",
              "      <td>17.0</td>\n",
              "      <td>5.0</td>\n",
              "      <td>12.0</td>\n",
              "      <td>8352,5</td>\n",
              "      <td>2080</td>\n",
              "      <td>862</td>\n",
              "      <td>8</td>\n",
              "      <td>12</td>\n",
              "      <td>111</td>\n",
              "      <td>46.0</td>\n",
              "      <td>3.0</td>\n",
              "    </tr>\n",
              "    <tr>\n",
              "      <th>2618</th>\n",
              "      <td>3822</td>\n",
              "      <td>Valencia</td>\n",
              "      <td>2020.0</td>\n",
              "      <td>ENE</td>\n",
              "      <td>153.0</td>\n",
              "      <td>28.0</td>\n",
              "      <td>24.0</td>\n",
              "      <td>3.0</td>\n",
              "      <td>22105,2</td>\n",
              "      <td>647</td>\n",
              "      <td>3968,3</td>\n",
              "      <td>8</td>\n",
              "      <td>6</td>\n",
              "      <td>35,5</td>\n",
              "      <td>139.0</td>\n",
              "      <td>2.0</td>\n",
              "    </tr>\n",
              "    <tr>\n",
              "      <th>2619</th>\n",
              "      <td>3823</td>\n",
              "      <td>Portugal</td>\n",
              "      <td>2020.0</td>\n",
              "      <td>ENE</td>\n",
              "      <td>99.0</td>\n",
              "      <td>12.0</td>\n",
              "      <td>10.0</td>\n",
              "      <td>2.0</td>\n",
              "      <td>16625,75</td>\n",
              "      <td>384</td>\n",
              "      <td>1866,5</td>\n",
              "      <td>80</td>\n",
              "      <td>32,5</td>\n",
              "      <td>514</td>\n",
              "      <td>72.0</td>\n",
              "      <td>28.0</td>\n",
              "    </tr>\n",
              "  </tbody>\n",
              "</table>\n",
              "</div>"
            ],
            "text/plain": [
              "        ID  ... Empleados Propios - duración determinada\n",
              "2615  3819  ...                                     14.0\n",
              "2616  3820  ...                                     38.0\n",
              "2617  3821  ...                                      3.0\n",
              "2618  3822  ...                                      2.0\n",
              "2619  3823  ...                                     28.0\n",
              "\n",
              "[5 rows x 16 columns]"
            ]
          },
          "metadata": {
            "tags": []
          },
          "execution_count": 15
        }
      ]
    },
    {
      "cell_type": "code",
      "metadata": {
        "colab": {
          "base_uri": "https://localhost:8080/"
        },
        "id": "__DNNs_IF0LU",
        "outputId": "298a2d93-29e6-4cb7-8bdf-1a579fc9d519"
      },
      "source": [
        "a = 545613.01\n",
        "round(a)"
      ],
      "execution_count": 16,
      "outputs": [
        {
          "output_type": "execute_result",
          "data": {
            "text/plain": [
              "545613"
            ]
          },
          "metadata": {
            "tags": []
          },
          "execution_count": 16
        }
      ]
    },
    {
      "cell_type": "code",
      "metadata": {
        "id": "aQ6lOc6eBwxr"
      },
      "source": [
        "lista = ['Horas Presencia Efectiva Propios', 'Horas Presencia Efectiva Subcontratados', 'Horas Presencia Efectiva ETTs','Horas Formacion Seguridad Propios' ,'Horas Formacion Seguridad ETTs', 'Horas Formacion General Propios'  ]\n",
        "\n",
        "for column in lista:  \n",
        "  rrhh_plant[column] = rrhh_plant[column].apply(lambda x: x.replace(',', '.')).astype(float)\n",
        "  rrhh_plant[column] = rrhh_plant[column].apply(lambda x: round(x))"
      ],
      "execution_count": 17,
      "outputs": []
    },
    {
      "cell_type": "code",
      "metadata": {
        "colab": {
          "base_uri": "https://localhost:8080/"
        },
        "id": "K3Zl33woBSyT",
        "outputId": "806fbb51-1c47-46f7-e98d-4756fc75e248"
      },
      "source": [
        "rrhh_plant.dtypes"
      ],
      "execution_count": 18,
      "outputs": [
        {
          "output_type": "execute_result",
          "data": {
            "text/plain": [
              "ID                                            int64\n",
              "Planta                                       object\n",
              "Año                                         float64\n",
              "Mes                                          object\n",
              "Empleados Propios                           float64\n",
              "Empleados Ajenos                            float64\n",
              "Empleados ETTS                              float64\n",
              "Empleados Subcontrata                       float64\n",
              "Horas Presencia Efectiva Propios              int64\n",
              "Horas Presencia Efectiva Subcontratados       int64\n",
              "Horas Presencia Efectiva ETTs                 int64\n",
              "Horas Formacion Seguridad Propios             int64\n",
              "Horas Formacion Seguridad ETTs                int64\n",
              "Horas Formacion General Propios               int64\n",
              "Empleados Propios - indefinido              float64\n",
              "Empleados Propios - duración determinada    float64\n",
              "dtype: object"
            ]
          },
          "metadata": {
            "tags": []
          },
          "execution_count": 18
        }
      ]
    },
    {
      "cell_type": "code",
      "metadata": {
        "id": "TUC8nVIObaIi"
      },
      "source": [
        "trainning_hours = rrhh_plant[['Planta','Horas Presencia Efectiva Subcontratados', 'Horas Presencia Efectiva ETTs', 'Horas Formacion Seguridad Propios', 'Horas Formacion Seguridad ETTs']]"
      ],
      "execution_count": 19,
      "outputs": []
    },
    {
      "cell_type": "code",
      "metadata": {
        "colab": {
          "base_uri": "https://localhost:8080/",
          "height": 172
        },
        "id": "CKCTghNybt4M",
        "outputId": "a56cb1e1-c683-4082-9acf-8e484d12faa2"
      },
      "source": [
        "trainning_hours.rename(columns={'Planta':'Fabrica'}, inplace=True)\n",
        "trainning_hours.head(1)"
      ],
      "execution_count": 20,
      "outputs": [
        {
          "output_type": "stream",
          "text": [
            "/usr/local/lib/python3.7/dist-packages/pandas/core/frame.py:4308: SettingWithCopyWarning: \n",
            "A value is trying to be set on a copy of a slice from a DataFrame\n",
            "\n",
            "See the caveats in the documentation: https://pandas.pydata.org/pandas-docs/stable/user_guide/indexing.html#returning-a-view-versus-a-copy\n",
            "  errors=errors,\n"
          ],
          "name": "stderr"
        },
        {
          "output_type": "execute_result",
          "data": {
            "text/html": [
              "<div>\n",
              "<style scoped>\n",
              "    .dataframe tbody tr th:only-of-type {\n",
              "        vertical-align: middle;\n",
              "    }\n",
              "\n",
              "    .dataframe tbody tr th {\n",
              "        vertical-align: top;\n",
              "    }\n",
              "\n",
              "    .dataframe thead th {\n",
              "        text-align: right;\n",
              "    }\n",
              "</style>\n",
              "<table border=\"1\" class=\"dataframe\">\n",
              "  <thead>\n",
              "    <tr style=\"text-align: right;\">\n",
              "      <th></th>\n",
              "      <th>Fabrica</th>\n",
              "      <th>Horas Presencia Efectiva Subcontratados</th>\n",
              "      <th>Horas Presencia Efectiva ETTs</th>\n",
              "      <th>Horas Formacion Seguridad Propios</th>\n",
              "      <th>Horas Formacion Seguridad ETTs</th>\n",
              "    </tr>\n",
              "  </thead>\n",
              "  <tbody>\n",
              "    <tr>\n",
              "      <th>2615</th>\n",
              "      <td>Barcelona</td>\n",
              "      <td>3138</td>\n",
              "      <td>1308</td>\n",
              "      <td>15</td>\n",
              "      <td>23</td>\n",
              "    </tr>\n",
              "  </tbody>\n",
              "</table>\n",
              "</div>"
            ],
            "text/plain": [
              "        Fabrica  ...  Horas Formacion Seguridad ETTs\n",
              "2615  Barcelona  ...                              23\n",
              "\n",
              "[1 rows x 5 columns]"
            ]
          },
          "metadata": {
            "tags": []
          },
          "execution_count": 20
        }
      ]
    },
    {
      "cell_type": "code",
      "metadata": {
        "id": "-Bn5ixLVcgjz",
        "colab": {
          "base_uri": "https://localhost:8080/",
          "height": 205
        },
        "outputId": "14502136-db1f-44ea-b255-01c00027f043"
      },
      "source": [
        "trainning_hours = trainning_hours.groupby('Fabrica').agg('sum').reset_index() ## we get the nº of trainning hours by fabric\n",
        "trainning_hours.head()"
      ],
      "execution_count": 21,
      "outputs": [
        {
          "output_type": "execute_result",
          "data": {
            "text/html": [
              "<div>\n",
              "<style scoped>\n",
              "    .dataframe tbody tr th:only-of-type {\n",
              "        vertical-align: middle;\n",
              "    }\n",
              "\n",
              "    .dataframe tbody tr th {\n",
              "        vertical-align: top;\n",
              "    }\n",
              "\n",
              "    .dataframe thead th {\n",
              "        text-align: right;\n",
              "    }\n",
              "</style>\n",
              "<table border=\"1\" class=\"dataframe\">\n",
              "  <thead>\n",
              "    <tr style=\"text-align: right;\">\n",
              "      <th></th>\n",
              "      <th>Fabrica</th>\n",
              "      <th>Horas Presencia Efectiva Subcontratados</th>\n",
              "      <th>Horas Presencia Efectiva ETTs</th>\n",
              "      <th>Horas Formacion Seguridad Propios</th>\n",
              "      <th>Horas Formacion Seguridad ETTs</th>\n",
              "    </tr>\n",
              "  </thead>\n",
              "  <tbody>\n",
              "    <tr>\n",
              "      <th>0</th>\n",
              "      <td>Addimen</td>\n",
              "      <td>0</td>\n",
              "      <td>0</td>\n",
              "      <td>0</td>\n",
              "      <td>0</td>\n",
              "    </tr>\n",
              "    <tr>\n",
              "      <th>1</th>\n",
              "      <td>Argentina</td>\n",
              "      <td>0</td>\n",
              "      <td>0</td>\n",
              "      <td>607</td>\n",
              "      <td>0</td>\n",
              "    </tr>\n",
              "    <tr>\n",
              "      <th>2</th>\n",
              "      <td>Arizona</td>\n",
              "      <td>0</td>\n",
              "      <td>0</td>\n",
              "      <td>0</td>\n",
              "      <td>0</td>\n",
              "    </tr>\n",
              "    <tr>\n",
              "      <th>3</th>\n",
              "      <td>Baja California</td>\n",
              "      <td>0</td>\n",
              "      <td>900</td>\n",
              "      <td>0</td>\n",
              "      <td>0</td>\n",
              "    </tr>\n",
              "    <tr>\n",
              "      <th>4</th>\n",
              "      <td>Barcelona</td>\n",
              "      <td>25685</td>\n",
              "      <td>18303</td>\n",
              "      <td>1151</td>\n",
              "      <td>152</td>\n",
              "    </tr>\n",
              "  </tbody>\n",
              "</table>\n",
              "</div>"
            ],
            "text/plain": [
              "           Fabrica  ...  Horas Formacion Seguridad ETTs\n",
              "0          Addimen  ...                               0\n",
              "1        Argentina  ...                               0\n",
              "2          Arizona  ...                               0\n",
              "3  Baja California  ...                               0\n",
              "4        Barcelona  ...                             152\n",
              "\n",
              "[5 rows x 5 columns]"
            ]
          },
          "metadata": {
            "tags": []
          },
          "execution_count": 21
        }
      ]
    },
    {
      "cell_type": "code",
      "metadata": {
        "colab": {
          "base_uri": "https://localhost:8080/",
          "height": 395
        },
        "id": "ouad-9t0bwi6",
        "outputId": "fce99608-a107-4622-dfe3-6da0756dc327"
      },
      "source": [
        "staff = staff.merge(trainning_hours, on='Fabrica', how='left') # adding the training hours to staff df\n",
        "staff.head()"
      ],
      "execution_count": 22,
      "outputs": [
        {
          "output_type": "execute_result",
          "data": {
            "text/html": [
              "<div>\n",
              "<style scoped>\n",
              "    .dataframe tbody tr th:only-of-type {\n",
              "        vertical-align: middle;\n",
              "    }\n",
              "\n",
              "    .dataframe tbody tr th {\n",
              "        vertical-align: top;\n",
              "    }\n",
              "\n",
              "    .dataframe thead th {\n",
              "        text-align: right;\n",
              "    }\n",
              "</style>\n",
              "<table border=\"1\" class=\"dataframe\">\n",
              "  <thead>\n",
              "    <tr style=\"text-align: right;\">\n",
              "      <th></th>\n",
              "      <th>Codigo accidentado</th>\n",
              "      <th>Puesto habitual de trabajo</th>\n",
              "      <th>Turno</th>\n",
              "      <th>Edad</th>\n",
              "      <th>Género</th>\n",
              "      <th>Planta</th>\n",
              "      <th>Tipo accidente</th>\n",
              "      <th>Tipo trabajador</th>\n",
              "      <th>Gravedad potencial</th>\n",
              "      <th>Lugar o seccion accidente</th>\n",
              "      <th>Fabrica</th>\n",
              "      <th>Tecnología</th>\n",
              "      <th>Pais</th>\n",
              "      <th>Horas Presencia Efectiva Subcontratados</th>\n",
              "      <th>Horas Presencia Efectiva ETTs</th>\n",
              "      <th>Horas Formacion Seguridad Propios</th>\n",
              "      <th>Horas Formacion Seguridad ETTs</th>\n",
              "    </tr>\n",
              "  </thead>\n",
              "  <tbody>\n",
              "    <tr>\n",
              "      <th>0</th>\n",
              "      <td>HS-CHGQ_6253</td>\n",
              "      <td>NaN</td>\n",
              "      <td>Turno de mañana</td>\n",
              "      <td>NaN</td>\n",
              "      <td>NaN</td>\n",
              "      <td>45</td>\n",
              "      <td>Incidente</td>\n",
              "      <td>Incidente (no aplica)</td>\n",
              "      <td>NaN</td>\n",
              "      <td>Almacén producto semielaborado o en producción</td>\n",
              "      <td>Asturias</td>\n",
              "      <td>Decapado</td>\n",
              "      <td>España</td>\n",
              "      <td>NaN</td>\n",
              "      <td>NaN</td>\n",
              "      <td>NaN</td>\n",
              "      <td>NaN</td>\n",
              "    </tr>\n",
              "    <tr>\n",
              "      <th>1</th>\n",
              "      <td>HS-CHGQ_6813</td>\n",
              "      <td>NaN</td>\n",
              "      <td>Turno de mañana</td>\n",
              "      <td>NaN</td>\n",
              "      <td>NaN</td>\n",
              "      <td>45</td>\n",
              "      <td>Incidente</td>\n",
              "      <td>Incidente (no aplica)</td>\n",
              "      <td>NaN</td>\n",
              "      <td>Área de embalado</td>\n",
              "      <td>Asturias</td>\n",
              "      <td>Decapado</td>\n",
              "      <td>España</td>\n",
              "      <td>NaN</td>\n",
              "      <td>NaN</td>\n",
              "      <td>NaN</td>\n",
              "      <td>NaN</td>\n",
              "    </tr>\n",
              "    <tr>\n",
              "      <th>2</th>\n",
              "      <td>HS-CHGQ_6814</td>\n",
              "      <td>NaN</td>\n",
              "      <td>Turno de mañana</td>\n",
              "      <td>NaN</td>\n",
              "      <td>NaN</td>\n",
              "      <td>45</td>\n",
              "      <td>Incidente</td>\n",
              "      <td>Incidente (no aplica)</td>\n",
              "      <td>NaN</td>\n",
              "      <td>Instalaciones exteriores y auxiliares</td>\n",
              "      <td>Asturias</td>\n",
              "      <td>Decapado</td>\n",
              "      <td>España</td>\n",
              "      <td>NaN</td>\n",
              "      <td>NaN</td>\n",
              "      <td>NaN</td>\n",
              "      <td>NaN</td>\n",
              "    </tr>\n",
              "    <tr>\n",
              "      <th>3</th>\n",
              "      <td>HS-CHGQ_6138</td>\n",
              "      <td>NaN</td>\n",
              "      <td>Turno de mañana</td>\n",
              "      <td>NaN</td>\n",
              "      <td>NaN</td>\n",
              "      <td>45</td>\n",
              "      <td>Incidente</td>\n",
              "      <td>Incidente (no aplica)</td>\n",
              "      <td>NaN</td>\n",
              "      <td>Puente Grúa</td>\n",
              "      <td>Asturias</td>\n",
              "      <td>Decapado</td>\n",
              "      <td>España</td>\n",
              "      <td>NaN</td>\n",
              "      <td>NaN</td>\n",
              "      <td>NaN</td>\n",
              "      <td>NaN</td>\n",
              "    </tr>\n",
              "    <tr>\n",
              "      <th>4</th>\n",
              "      <td>HS-CHGQ_6139</td>\n",
              "      <td>NaN</td>\n",
              "      <td>Turno de tarde</td>\n",
              "      <td>NaN</td>\n",
              "      <td>NaN</td>\n",
              "      <td>45</td>\n",
              "      <td>Incidente</td>\n",
              "      <td>Incidente (no aplica)</td>\n",
              "      <td>NaN</td>\n",
              "      <td>Instalaciones exteriores y auxiliares</td>\n",
              "      <td>Asturias</td>\n",
              "      <td>Decapado</td>\n",
              "      <td>España</td>\n",
              "      <td>NaN</td>\n",
              "      <td>NaN</td>\n",
              "      <td>NaN</td>\n",
              "      <td>NaN</td>\n",
              "    </tr>\n",
              "  </tbody>\n",
              "</table>\n",
              "</div>"
            ],
            "text/plain": [
              "  Codigo accidentado  ... Horas Formacion Seguridad ETTs\n",
              "0       HS-CHGQ_6253  ...                            NaN\n",
              "1       HS-CHGQ_6813  ...                            NaN\n",
              "2       HS-CHGQ_6814  ...                            NaN\n",
              "3       HS-CHGQ_6138  ...                            NaN\n",
              "4       HS-CHGQ_6139  ...                            NaN\n",
              "\n",
              "[5 rows x 17 columns]"
            ]
          },
          "metadata": {
            "tags": []
          },
          "execution_count": 22
        }
      ]
    },
    {
      "cell_type": "markdown",
      "metadata": {
        "id": "Y4Xmhhnpcs1x"
      },
      "source": [
        "Now we are going to calculate the proportion in 2020 between people and accidents occur"
      ]
    },
    {
      "cell_type": "code",
      "metadata": {
        "colab": {
          "base_uri": "https://localhost:8080/",
          "height": 236
        },
        "id": "bwOOUyA_cygZ",
        "outputId": "c0a5f25a-b6ef-4142-8799-faed3b57381c"
      },
      "source": [
        "employees = pd.read_csv('Datos_plantilla_fabrica.csv', sep=';')\n",
        "employees = employees[['Año', 'Empleados Propios', 'Empleados Ajenos', 'Empleados ETTS',  'Empleados Subcontrata']]\n",
        "employees = employees.fillna(0)\n",
        "employees = employees.groupby(['Año']).agg('sum')\n",
        "employees.head()"
      ],
      "execution_count": 23,
      "outputs": [
        {
          "output_type": "execute_result",
          "data": {
            "text/html": [
              "<div>\n",
              "<style scoped>\n",
              "    .dataframe tbody tr th:only-of-type {\n",
              "        vertical-align: middle;\n",
              "    }\n",
              "\n",
              "    .dataframe tbody tr th {\n",
              "        vertical-align: top;\n",
              "    }\n",
              "\n",
              "    .dataframe thead th {\n",
              "        text-align: right;\n",
              "    }\n",
              "</style>\n",
              "<table border=\"1\" class=\"dataframe\">\n",
              "  <thead>\n",
              "    <tr style=\"text-align: right;\">\n",
              "      <th></th>\n",
              "      <th>Empleados Propios</th>\n",
              "      <th>Empleados Ajenos</th>\n",
              "      <th>Empleados ETTS</th>\n",
              "      <th>Empleados Subcontrata</th>\n",
              "    </tr>\n",
              "    <tr>\n",
              "      <th>Año</th>\n",
              "      <th></th>\n",
              "      <th></th>\n",
              "      <th></th>\n",
              "      <th></th>\n",
              "    </tr>\n",
              "  </thead>\n",
              "  <tbody>\n",
              "    <tr>\n",
              "      <th>0.0</th>\n",
              "      <td>15754.0</td>\n",
              "      <td>3277.0</td>\n",
              "      <td>2490.0</td>\n",
              "      <td>786.0</td>\n",
              "    </tr>\n",
              "    <tr>\n",
              "      <th>2016.0</th>\n",
              "      <td>40609.0</td>\n",
              "      <td>9160.0</td>\n",
              "      <td>0.0</td>\n",
              "      <td>0.0</td>\n",
              "    </tr>\n",
              "    <tr>\n",
              "      <th>2017.0</th>\n",
              "      <td>43291.0</td>\n",
              "      <td>9794.0</td>\n",
              "      <td>0.0</td>\n",
              "      <td>0.0</td>\n",
              "    </tr>\n",
              "    <tr>\n",
              "      <th>2018.0</th>\n",
              "      <td>49865.0</td>\n",
              "      <td>10973.0</td>\n",
              "      <td>7964.0</td>\n",
              "      <td>2993.0</td>\n",
              "    </tr>\n",
              "    <tr>\n",
              "      <th>2019.0</th>\n",
              "      <td>50625.0</td>\n",
              "      <td>10527.0</td>\n",
              "      <td>7823.0</td>\n",
              "      <td>2697.0</td>\n",
              "    </tr>\n",
              "  </tbody>\n",
              "</table>\n",
              "</div>"
            ],
            "text/plain": [
              "        Empleados Propios  ...  Empleados Subcontrata\n",
              "Año                        ...                       \n",
              "0.0               15754.0  ...                  786.0\n",
              "2016.0            40609.0  ...                    0.0\n",
              "2017.0            43291.0  ...                    0.0\n",
              "2018.0            49865.0  ...                 2993.0\n",
              "2019.0            50625.0  ...                 2697.0\n",
              "\n",
              "[5 rows x 4 columns]"
            ]
          },
          "metadata": {
            "tags": []
          },
          "execution_count": 23
        }
      ]
    },
    {
      "cell_type": "code",
      "metadata": {
        "colab": {
          "base_uri": "https://localhost:8080/",
          "height": 205
        },
        "id": "p8S8gP4cdj19",
        "outputId": "3d544d44-1b16-4cd3-8e8f-b13349dbeea1"
      },
      "source": [
        "accidentes = pd.read_csv('HS_Accidentabilidad.csv', sep=';')\n",
        "accidentes = accidentes[['Año', 'Codigo accidentado']]\n",
        "accidentes = accidentes.groupby('Año').agg('count').reset_index()\n",
        "accidentes.rename(columns={'Codigo accidentado':'Accidentes'}, inplace=True)\n",
        "accidentes.head()"
      ],
      "execution_count": 24,
      "outputs": [
        {
          "output_type": "execute_result",
          "data": {
            "text/html": [
              "<div>\n",
              "<style scoped>\n",
              "    .dataframe tbody tr th:only-of-type {\n",
              "        vertical-align: middle;\n",
              "    }\n",
              "\n",
              "    .dataframe tbody tr th {\n",
              "        vertical-align: top;\n",
              "    }\n",
              "\n",
              "    .dataframe thead th {\n",
              "        text-align: right;\n",
              "    }\n",
              "</style>\n",
              "<table border=\"1\" class=\"dataframe\">\n",
              "  <thead>\n",
              "    <tr style=\"text-align: right;\">\n",
              "      <th></th>\n",
              "      <th>Año</th>\n",
              "      <th>Accidentes</th>\n",
              "    </tr>\n",
              "  </thead>\n",
              "  <tbody>\n",
              "    <tr>\n",
              "      <th>0</th>\n",
              "      <td>2015.0</td>\n",
              "      <td>202</td>\n",
              "    </tr>\n",
              "    <tr>\n",
              "      <th>1</th>\n",
              "      <td>2016.0</td>\n",
              "      <td>1335</td>\n",
              "    </tr>\n",
              "    <tr>\n",
              "      <th>2</th>\n",
              "      <td>2017.0</td>\n",
              "      <td>1203</td>\n",
              "    </tr>\n",
              "    <tr>\n",
              "      <th>3</th>\n",
              "      <td>2018.0</td>\n",
              "      <td>1532</td>\n",
              "    </tr>\n",
              "    <tr>\n",
              "      <th>4</th>\n",
              "      <td>2019.0</td>\n",
              "      <td>1526</td>\n",
              "    </tr>\n",
              "  </tbody>\n",
              "</table>\n",
              "</div>"
            ],
            "text/plain": [
              "      Año  Accidentes\n",
              "0  2015.0         202\n",
              "1  2016.0        1335\n",
              "2  2017.0        1203\n",
              "3  2018.0        1532\n",
              "4  2019.0        1526"
            ]
          },
          "metadata": {
            "tags": []
          },
          "execution_count": 24
        }
      ]
    },
    {
      "cell_type": "code",
      "metadata": {
        "colab": {
          "base_uri": "https://localhost:8080/",
          "height": 205
        },
        "id": "A9r6y_xwdxjn",
        "outputId": "c307653a-21a3-4e7c-ee40-c96ed0e64fdd"
      },
      "source": [
        "employees = employees.merge(accidentes, on='Año', how='inner')\n",
        "employees.head()"
      ],
      "execution_count": 25,
      "outputs": [
        {
          "output_type": "execute_result",
          "data": {
            "text/html": [
              "<div>\n",
              "<style scoped>\n",
              "    .dataframe tbody tr th:only-of-type {\n",
              "        vertical-align: middle;\n",
              "    }\n",
              "\n",
              "    .dataframe tbody tr th {\n",
              "        vertical-align: top;\n",
              "    }\n",
              "\n",
              "    .dataframe thead th {\n",
              "        text-align: right;\n",
              "    }\n",
              "</style>\n",
              "<table border=\"1\" class=\"dataframe\">\n",
              "  <thead>\n",
              "    <tr style=\"text-align: right;\">\n",
              "      <th></th>\n",
              "      <th>Año</th>\n",
              "      <th>Empleados Propios</th>\n",
              "      <th>Empleados Ajenos</th>\n",
              "      <th>Empleados ETTS</th>\n",
              "      <th>Empleados Subcontrata</th>\n",
              "      <th>Accidentes</th>\n",
              "    </tr>\n",
              "  </thead>\n",
              "  <tbody>\n",
              "    <tr>\n",
              "      <th>0</th>\n",
              "      <td>2016.0</td>\n",
              "      <td>40609.0</td>\n",
              "      <td>9160.0</td>\n",
              "      <td>0.0</td>\n",
              "      <td>0.0</td>\n",
              "      <td>1335</td>\n",
              "    </tr>\n",
              "    <tr>\n",
              "      <th>1</th>\n",
              "      <td>2017.0</td>\n",
              "      <td>43291.0</td>\n",
              "      <td>9794.0</td>\n",
              "      <td>0.0</td>\n",
              "      <td>0.0</td>\n",
              "      <td>1203</td>\n",
              "    </tr>\n",
              "    <tr>\n",
              "      <th>2</th>\n",
              "      <td>2018.0</td>\n",
              "      <td>49865.0</td>\n",
              "      <td>10973.0</td>\n",
              "      <td>7964.0</td>\n",
              "      <td>2993.0</td>\n",
              "      <td>1532</td>\n",
              "    </tr>\n",
              "    <tr>\n",
              "      <th>3</th>\n",
              "      <td>2019.0</td>\n",
              "      <td>50625.0</td>\n",
              "      <td>10527.0</td>\n",
              "      <td>7823.0</td>\n",
              "      <td>2697.0</td>\n",
              "      <td>1526</td>\n",
              "    </tr>\n",
              "    <tr>\n",
              "      <th>4</th>\n",
              "      <td>2020.0</td>\n",
              "      <td>65644.0</td>\n",
              "      <td>7114.0</td>\n",
              "      <td>5773.0</td>\n",
              "      <td>1335.0</td>\n",
              "      <td>1122</td>\n",
              "    </tr>\n",
              "  </tbody>\n",
              "</table>\n",
              "</div>"
            ],
            "text/plain": [
              "      Año  Empleados Propios  ...  Empleados Subcontrata  Accidentes\n",
              "0  2016.0            40609.0  ...                    0.0        1335\n",
              "1  2017.0            43291.0  ...                    0.0        1203\n",
              "2  2018.0            49865.0  ...                 2993.0        1532\n",
              "3  2019.0            50625.0  ...                 2697.0        1526\n",
              "4  2020.0            65644.0  ...                 1335.0        1122\n",
              "\n",
              "[5 rows x 6 columns]"
            ]
          },
          "metadata": {
            "tags": []
          },
          "execution_count": 25
        }
      ]
    },
    {
      "cell_type": "code",
      "metadata": {
        "colab": {
          "base_uri": "https://localhost:8080/"
        },
        "id": "hyiYEWhCeT1G",
        "outputId": "80af1997-3e91-4b84-d0c8-b873a0734e09"
      },
      "source": [
        "employees.dtypes"
      ],
      "execution_count": 26,
      "outputs": [
        {
          "output_type": "execute_result",
          "data": {
            "text/plain": [
              "Año                      float64\n",
              "Empleados Propios        float64\n",
              "Empleados Ajenos         float64\n",
              "Empleados ETTS           float64\n",
              "Empleados Subcontrata    float64\n",
              "Accidentes                 int64\n",
              "dtype: object"
            ]
          },
          "metadata": {
            "tags": []
          },
          "execution_count": 26
        }
      ]
    },
    {
      "cell_type": "code",
      "metadata": {
        "id": "f_m4PyTsebt8"
      },
      "source": [
        "employees['Total_emp'] = employees['Empleados Propios'] + employees['Empleados Ajenos'] + employees['Empleados ETTS'] + employees['Empleados Subcontrata']"
      ],
      "execution_count": 27,
      "outputs": []
    },
    {
      "cell_type": "code",
      "metadata": {
        "colab": {
          "base_uri": "https://localhost:8080/",
          "height": 205
        },
        "id": "mRNPhfJjetv3",
        "outputId": "5ff66022-69b2-43d7-902e-d5d11e71f4e2"
      },
      "source": [
        "employees = employees[['Año', 'Accidentes', 'Total_emp']]\n",
        "\n",
        "employees['perc_acc'] = employees['Accidentes'] / employees['Total_emp'] * 100\n",
        "employees.head()"
      ],
      "execution_count": 28,
      "outputs": [
        {
          "output_type": "execute_result",
          "data": {
            "text/html": [
              "<div>\n",
              "<style scoped>\n",
              "    .dataframe tbody tr th:only-of-type {\n",
              "        vertical-align: middle;\n",
              "    }\n",
              "\n",
              "    .dataframe tbody tr th {\n",
              "        vertical-align: top;\n",
              "    }\n",
              "\n",
              "    .dataframe thead th {\n",
              "        text-align: right;\n",
              "    }\n",
              "</style>\n",
              "<table border=\"1\" class=\"dataframe\">\n",
              "  <thead>\n",
              "    <tr style=\"text-align: right;\">\n",
              "      <th></th>\n",
              "      <th>Año</th>\n",
              "      <th>Accidentes</th>\n",
              "      <th>Total_emp</th>\n",
              "      <th>perc_acc</th>\n",
              "    </tr>\n",
              "  </thead>\n",
              "  <tbody>\n",
              "    <tr>\n",
              "      <th>0</th>\n",
              "      <td>2016.0</td>\n",
              "      <td>1335</td>\n",
              "      <td>49769.0</td>\n",
              "      <td>2.682393</td>\n",
              "    </tr>\n",
              "    <tr>\n",
              "      <th>1</th>\n",
              "      <td>2017.0</td>\n",
              "      <td>1203</td>\n",
              "      <td>53085.0</td>\n",
              "      <td>2.266177</td>\n",
              "    </tr>\n",
              "    <tr>\n",
              "      <th>2</th>\n",
              "      <td>2018.0</td>\n",
              "      <td>1532</td>\n",
              "      <td>71795.0</td>\n",
              "      <td>2.133853</td>\n",
              "    </tr>\n",
              "    <tr>\n",
              "      <th>3</th>\n",
              "      <td>2019.0</td>\n",
              "      <td>1526</td>\n",
              "      <td>71672.0</td>\n",
              "      <td>2.129144</td>\n",
              "    </tr>\n",
              "    <tr>\n",
              "      <th>4</th>\n",
              "      <td>2020.0</td>\n",
              "      <td>1122</td>\n",
              "      <td>79866.0</td>\n",
              "      <td>1.404853</td>\n",
              "    </tr>\n",
              "  </tbody>\n",
              "</table>\n",
              "</div>"
            ],
            "text/plain": [
              "      Año  Accidentes  Total_emp  perc_acc\n",
              "0  2016.0        1335    49769.0  2.682393\n",
              "1  2017.0        1203    53085.0  2.266177\n",
              "2  2018.0        1532    71795.0  2.133853\n",
              "3  2019.0        1526    71672.0  2.129144\n",
              "4  2020.0        1122    79866.0  1.404853"
            ]
          },
          "metadata": {
            "tags": []
          },
          "execution_count": 28
        }
      ]
    },
    {
      "cell_type": "markdown",
      "metadata": {
        "id": "GAQCk2Ozfla8"
      },
      "source": [
        "For our analysis we are going to suppose we have a year staff, with all people. \n",
        "We would have 79900 people with around 7000 people who have suffered an accident on the past years."
      ]
    },
    {
      "cell_type": "code",
      "metadata": {
        "colab": {
          "base_uri": "https://localhost:8080/"
        },
        "id": "EViQKE4PgK6n",
        "outputId": "5ea85172-0f35-45bf-ba0e-ebe6cb59dfe0"
      },
      "source": [
        "len(staff)"
      ],
      "execution_count": 29,
      "outputs": [
        {
          "output_type": "execute_result",
          "data": {
            "text/plain": [
              "4180"
            ]
          },
          "metadata": {
            "tags": []
          },
          "execution_count": 29
        }
      ]
    },
    {
      "cell_type": "code",
      "metadata": {
        "colab": {
          "base_uri": "https://localhost:8080/",
          "height": 395
        },
        "id": "Uu_tlzE2gFl2",
        "outputId": "de088773-7ce6-43d8-fed2-ef2c972010d5"
      },
      "source": [
        "#we add a new column to indetify those people who have suffered an accident in our dataset\n",
        "staff['Accident'] = 'Yes'\n",
        "staff.head()"
      ],
      "execution_count": 30,
      "outputs": [
        {
          "output_type": "execute_result",
          "data": {
            "text/html": [
              "<div>\n",
              "<style scoped>\n",
              "    .dataframe tbody tr th:only-of-type {\n",
              "        vertical-align: middle;\n",
              "    }\n",
              "\n",
              "    .dataframe tbody tr th {\n",
              "        vertical-align: top;\n",
              "    }\n",
              "\n",
              "    .dataframe thead th {\n",
              "        text-align: right;\n",
              "    }\n",
              "</style>\n",
              "<table border=\"1\" class=\"dataframe\">\n",
              "  <thead>\n",
              "    <tr style=\"text-align: right;\">\n",
              "      <th></th>\n",
              "      <th>Codigo accidentado</th>\n",
              "      <th>Puesto habitual de trabajo</th>\n",
              "      <th>Turno</th>\n",
              "      <th>Edad</th>\n",
              "      <th>Género</th>\n",
              "      <th>Planta</th>\n",
              "      <th>Tipo accidente</th>\n",
              "      <th>Tipo trabajador</th>\n",
              "      <th>Gravedad potencial</th>\n",
              "      <th>Lugar o seccion accidente</th>\n",
              "      <th>Fabrica</th>\n",
              "      <th>Tecnología</th>\n",
              "      <th>Pais</th>\n",
              "      <th>Horas Presencia Efectiva Subcontratados</th>\n",
              "      <th>Horas Presencia Efectiva ETTs</th>\n",
              "      <th>Horas Formacion Seguridad Propios</th>\n",
              "      <th>Horas Formacion Seguridad ETTs</th>\n",
              "      <th>Accident</th>\n",
              "    </tr>\n",
              "  </thead>\n",
              "  <tbody>\n",
              "    <tr>\n",
              "      <th>0</th>\n",
              "      <td>HS-CHGQ_6253</td>\n",
              "      <td>NaN</td>\n",
              "      <td>Turno de mañana</td>\n",
              "      <td>NaN</td>\n",
              "      <td>NaN</td>\n",
              "      <td>45</td>\n",
              "      <td>Incidente</td>\n",
              "      <td>Incidente (no aplica)</td>\n",
              "      <td>NaN</td>\n",
              "      <td>Almacén producto semielaborado o en producción</td>\n",
              "      <td>Asturias</td>\n",
              "      <td>Decapado</td>\n",
              "      <td>España</td>\n",
              "      <td>NaN</td>\n",
              "      <td>NaN</td>\n",
              "      <td>NaN</td>\n",
              "      <td>NaN</td>\n",
              "      <td>Yes</td>\n",
              "    </tr>\n",
              "    <tr>\n",
              "      <th>1</th>\n",
              "      <td>HS-CHGQ_6813</td>\n",
              "      <td>NaN</td>\n",
              "      <td>Turno de mañana</td>\n",
              "      <td>NaN</td>\n",
              "      <td>NaN</td>\n",
              "      <td>45</td>\n",
              "      <td>Incidente</td>\n",
              "      <td>Incidente (no aplica)</td>\n",
              "      <td>NaN</td>\n",
              "      <td>Área de embalado</td>\n",
              "      <td>Asturias</td>\n",
              "      <td>Decapado</td>\n",
              "      <td>España</td>\n",
              "      <td>NaN</td>\n",
              "      <td>NaN</td>\n",
              "      <td>NaN</td>\n",
              "      <td>NaN</td>\n",
              "      <td>Yes</td>\n",
              "    </tr>\n",
              "    <tr>\n",
              "      <th>2</th>\n",
              "      <td>HS-CHGQ_6814</td>\n",
              "      <td>NaN</td>\n",
              "      <td>Turno de mañana</td>\n",
              "      <td>NaN</td>\n",
              "      <td>NaN</td>\n",
              "      <td>45</td>\n",
              "      <td>Incidente</td>\n",
              "      <td>Incidente (no aplica)</td>\n",
              "      <td>NaN</td>\n",
              "      <td>Instalaciones exteriores y auxiliares</td>\n",
              "      <td>Asturias</td>\n",
              "      <td>Decapado</td>\n",
              "      <td>España</td>\n",
              "      <td>NaN</td>\n",
              "      <td>NaN</td>\n",
              "      <td>NaN</td>\n",
              "      <td>NaN</td>\n",
              "      <td>Yes</td>\n",
              "    </tr>\n",
              "    <tr>\n",
              "      <th>3</th>\n",
              "      <td>HS-CHGQ_6138</td>\n",
              "      <td>NaN</td>\n",
              "      <td>Turno de mañana</td>\n",
              "      <td>NaN</td>\n",
              "      <td>NaN</td>\n",
              "      <td>45</td>\n",
              "      <td>Incidente</td>\n",
              "      <td>Incidente (no aplica)</td>\n",
              "      <td>NaN</td>\n",
              "      <td>Puente Grúa</td>\n",
              "      <td>Asturias</td>\n",
              "      <td>Decapado</td>\n",
              "      <td>España</td>\n",
              "      <td>NaN</td>\n",
              "      <td>NaN</td>\n",
              "      <td>NaN</td>\n",
              "      <td>NaN</td>\n",
              "      <td>Yes</td>\n",
              "    </tr>\n",
              "    <tr>\n",
              "      <th>4</th>\n",
              "      <td>HS-CHGQ_6139</td>\n",
              "      <td>NaN</td>\n",
              "      <td>Turno de tarde</td>\n",
              "      <td>NaN</td>\n",
              "      <td>NaN</td>\n",
              "      <td>45</td>\n",
              "      <td>Incidente</td>\n",
              "      <td>Incidente (no aplica)</td>\n",
              "      <td>NaN</td>\n",
              "      <td>Instalaciones exteriores y auxiliares</td>\n",
              "      <td>Asturias</td>\n",
              "      <td>Decapado</td>\n",
              "      <td>España</td>\n",
              "      <td>NaN</td>\n",
              "      <td>NaN</td>\n",
              "      <td>NaN</td>\n",
              "      <td>NaN</td>\n",
              "      <td>Yes</td>\n",
              "    </tr>\n",
              "  </tbody>\n",
              "</table>\n",
              "</div>"
            ],
            "text/plain": [
              "  Codigo accidentado  ... Accident\n",
              "0       HS-CHGQ_6253  ...      Yes\n",
              "1       HS-CHGQ_6813  ...      Yes\n",
              "2       HS-CHGQ_6814  ...      Yes\n",
              "3       HS-CHGQ_6138  ...      Yes\n",
              "4       HS-CHGQ_6139  ...      Yes\n",
              "\n",
              "[5 rows x 18 columns]"
            ]
          },
          "metadata": {
            "tags": []
          },
          "execution_count": 30
        }
      ]
    },
    {
      "cell_type": "code",
      "metadata": {
        "colab": {
          "base_uri": "https://localhost:8080/"
        },
        "id": "BOluCL_zgY2w",
        "outputId": "de9d8327-dcbf-45a6-f3b0-b65e212fb31e"
      },
      "source": [
        "#plant data we dont have any null values\n",
        "staff['Planta'].unique()"
      ],
      "execution_count": 31,
      "outputs": [
        {
          "output_type": "execute_result",
          "data": {
            "text/plain": [
              "array([45, 30, 15,  4,  2, 20, 32, 25, 43,  5, 26, 33,  7, 53, 12,  1, 14,\n",
              "        6, 41, 55, 34, 29, 13, 19, 28, 16, 36, 35, 54, 27, 57, 56, 18, 44,\n",
              "       63, 46, 47, 84])"
            ]
          },
          "metadata": {
            "tags": []
          },
          "execution_count": 31
        }
      ]
    },
    {
      "cell_type": "code",
      "metadata": {
        "colab": {
          "base_uri": "https://localhost:8080/"
        },
        "id": "RsPbnhW0ggWN",
        "outputId": "b18c0a92-a9eb-49cf-e4fc-3b555aa67f77"
      },
      "source": [
        "##work position\n",
        "\n",
        "positions = staff['Puesto habitual de trabajo'].unique()\n",
        "len(positions)"
      ],
      "execution_count": 32,
      "outputs": [
        {
          "output_type": "execute_result",
          "data": {
            "text/plain": [
              "794"
            ]
          },
          "metadata": {
            "tags": []
          },
          "execution_count": 32
        }
      ]
    },
    {
      "cell_type": "code",
      "metadata": {
        "id": "InbOHf9-kMJV"
      },
      "source": [
        "import random\n",
        "import numpy as np \n",
        "\n",
        "staff['wk_position'] = np.random.choice(positions, size=len(staff))"
      ],
      "execution_count": 33,
      "outputs": []
    },
    {
      "cell_type": "code",
      "metadata": {
        "colab": {
          "base_uri": "https://localhost:8080/"
        },
        "id": "w9j1MGl6hwHz",
        "outputId": "e3f3fb00-b494-4beb-cfbc-77f518224f46"
      },
      "source": [
        "staff['wk_position'].unique()"
      ],
      "execution_count": 34,
      "outputs": [
        {
          "output_type": "execute_result",
          "data": {
            "text/plain": [
              "array(['EMABALADOR', 'GRUA CALDERA', 'Embalador 1 (en capacitación)',\n",
              "       'galvanized packaking', 'tooling work', 'Auxiliar de linea',\n",
              "       'GRUISTA DE ENTRADA LINEA DE DECAPADO', 'LONGI009',\n",
              "       'Entrada por la puerta número 3 del vehículo de carga para su descarga',\n",
              "       'Operador Principal / montador de árvore de navalhas', 'Lifting',\n",
              "       'Maschinenführer 2  LONGI 001', 'gruista de salida',\n",
              "       'Ferienarbeiter', 'Tornero mecanico', 'extern', 'Montador',\n",
              "       'LCL 01', 'safety guard', 'bobinero', 'Forklift kullan?m?',\n",
              "       'EMBAL015', 'Maquinista longitudinal', 'CARPINTERIA',\n",
              "       'Flejador Línea Corte Prensa I', 'Montador / Auxiliar LONGI003',\n",
              "       'Bobinero', 'Carretilla', 'mantenimiento mecánico', 'foreman',\n",
              "       'Lifting material on acid pool', 'EMBALADOR',\n",
              "       'Preparación del material para el corte en la línea, corte flejado',\n",
              "       'Cargador zona de negro', 'DIRECTOR COMERCIAL',\n",
              "       'OPERARIO LONGI 05', 'AUXILIAR LONGI',\n",
              "       'wrapping and packing bundles of steel ', 'Soldador 001',\n",
              "       'Press Operator/Crane', 'Carreteillero',\n",
              "       'Gruista y Maquinista Trans', 'Soldador', 'Si (empresa externa)',\n",
              "       'Supervisor Logistik', 'Soldador y gruista', 'Slitter Op',\n",
              "       'MATRICERO', 'Incidente sin personas implicadas',\n",
              "       'APILADOR TRANS002', 'Press operator Ln 3  2nd shift',\n",
              "       'Blanking operator', 'EMBALADORA 2', 'welding', 'plasma',\n",
              "       'Operador de montagem de árvores de navalhas / Operador auxiliar',\n",
              "       'PERSONAL DE LINEA', 'Slitting line Operator',\n",
              "       'Auxiliar de produccion', 'Operador de Logística',\n",
              "       'roll form machine', 'Maschinenführer Presse 3',\n",
              "       'MAQUINISTA TRANS 2', 'Maquinista Perfiladoras', 'Forklift',\n",
              "       'soldador/gruista', 'Maquinista',\n",
              "       'Drove the forklift fork the products', 'Ayudante longitudinal',\n",
              "       'Maschinenführer 1 Presse 7', 'Operario plasma',\n",
              "       'Ayudante volteador', 'Flejado y embalado',\n",
              "       'Gantry crane operator', 'Salida Galvanizado',\n",
              "       'Descargador galvanizado', 'Alimentador de perfiladora',\n",
              "       'OPERARIO DE MÁQUINA', 'Transportista externo(Telemix)',\n",
              "       'Sierra corte metal', 'gruista en nave 6b zona carga',\n",
              "       'Stacker Operator', 'Linha de corte transversal',\n",
              "       'Staplerfahrer Halle 5', 'Rework', 'Maschinenbedienerin',\n",
              "       'Assistant of line operator', 'LIDER LONGI002',\n",
              "       'Salida del vehículo de la nave en semáforo rojo después de haber realizado la descarga',\n",
              "       'Maschinenführer Presse 7', 'Operador Logistico I', 'LONGI002',\n",
              "       'GRUISTA LONGI009', 'Packaging Operator', 'ayudante longi008',\n",
              "       'maquinista / gruista', 'MONTADOR LONGI005', 'PRENSA002',\n",
              "       'Maquinista Trans003', 'Operario de maquinas', 'galvanized-hanger',\n",
              "       'GRUISTA', 'Carretillero de la Empresa Pardo Freijo',\n",
              "       'Maquinista líder PRENS004', 'PRENSA 001', 'POTE',\n",
              "       'Operario de Linea', 'Prozessoptimierer', 'Entrada Decapado M1',\n",
              "       'Verpackerin', 'Maestro', 'Jigging', 'Kranfahrer Halle 1 Nord',\n",
              "       'Gruista Longi004 -Longi008', 'Titular de Línea',\n",
              "       'Soldador/gruista', 'Operario de montacarga', 'SI. Carretillero',\n",
              "       'Operario de pantógrafo', 'Mitarbeiter Qualitätsmanagement',\n",
              "       'Slitter Operator', 'Maschinenführer1 (MF1)',\n",
              "       'Final Product Logistic Operator', 'Titular de linea',\n",
              "       'Gruista perfiladoras', 'Oxygen welding', 'Puente Grua Tubos',\n",
              "       'Embalador 1', 'Verpacker Halle 8', 'Staplerfahrer Halle 2',\n",
              "       'Verlader / Staplerfahrer Halle 8',\n",
              "       'Gruista de salida galvanizado', 'Driver for Adam Jones',\n",
              "       'press op ', 'operator', 'Slitting Operator',\n",
              "       'VARIOS - EMBALAJE DE BOBINAS',\n",
              "       'Activación del descenso de la puerta después de haber entrado en la nave para preparar el vehículo para la descarga en la zona designada.',\n",
              "       'Operador de montacargas', 'Flejador LONGI001',\n",
              "       'AYUDANTE PRENS001', 'Caretillero', 'Wergzeugmacher',\n",
              "       'Titular Línea Corte Prensa II', 'Maschinenführer 2 Presse 7',\n",
              "       'Transporte de material acabado', 'Supervisor Mantenimiento',\n",
              "       'Operador de Embalagem / Operador Auxiliar',\n",
              "       'Controlador de procesos', 'Mantenimiento Eléctrico',\n",
              "       'Operador Logistico', 'Maquinista Sierras Corte Tubos',\n",
              "       'Slitting Line Operator', 'CARRETILLERO PRENSAS',\n",
              "       'Carretillero/Gruista', 'Embalador Prensas', 'Línea Longitudinal',\n",
              "       'Maschinenführer Presse 1', 'Entrada Decapado',\n",
              "       'guardrail-road safety', 'TRANS005', 'Carretillera',\n",
              "       'Responsable de Calidad, SGI, SPG', 'Maquinistas Líneas de Corte',\n",
              "       'Hornero', 'MANTENIMIENTO', 'Titular Robot Soldadura 002',\n",
              "       'Maschinenführerin 1', 'Crane driver', 'EMBALADORA015',\n",
              "       'Auxiliar Línea Corte Prensa I', 'OPERARIO DE CARGA',\n",
              "       'EMBALADOR 015', 'Punzonadora', 'Operator on Evtek blanking line',\n",
              "       'Longi 2', 'No hay personas implicadas', 'Handling / packaking',\n",
              "       'Operador Puente-Grúa', 'si', 'EMBALAJE MANUAL',\n",
              "       'Sierra Behringer', 'External Agency - Camera Installer',\n",
              "       'Jefe de gestión de Mantenimiento', 'soldador maquinista',\n",
              "       'supervisor', 'Gruista de tubo tracker', 'Cizal - Guilhotina',\n",
              "       'Gruista LONGI004 y LONGI008', 'Camionero', 'Maquinista tubos',\n",
              "       'empaquetadora/ flejado', 'MF LSL 1',\n",
              "       'maquinista de maquina de corte Tecoi', 'Varios',\n",
              "       'Maquinista Trans3', 'Saumschrott durchtrennen',\n",
              "       'Operador Logística 2', 'Titular LCL', 'Operador de Embalagem LCL',\n",
              "       'empaquetador perfiladora de tubos', 'Traslados',\n",
              "       'Staplerfahrer Halle 3', 'OPERARIO DE LINEA', 'Trasladando bobina',\n",
              "       'Auxiliares de Logistica\\r\\nOperador de Grua Telescopica', nan,\n",
              "       'Electromecánico', 'Maquinista Adige TS72',\n",
              "       'Movimiento de carretilla elevadora', 'Conductor Toro Hyster',\n",
              "       'Regular function', 'Flejador-embalador',\n",
              "       'Operario de Entrada M1 y Gruista', 'Automatenbefüller',\n",
              "       'Carrying metarial by forklift',\n",
              "       'No, su puesto habitual es entrada decapado',\n",
              "       'Mantenimiento electrico', 'Maschinenführer 2 Presse 1',\n",
              "       'TORO GRANDE', 'EMBALADORA NAVE 2', 'Techniker',\n",
              "       'Montador Prensa 002', 'Montador LONGI001', 'Soldador II',\n",
              "       'Forkift driver', 'Kranführer Halle 1 Nord',\n",
              "       'TITULAR LÍNEA CORTE PRENSA I',\n",
              "       'Gruista de caldera y operadores de limpieza',\n",
              "       'montador y embajador en LCL', 'Verpacker LONGI001',\n",
              "       'AYUDANTE PRENSAS', '/ ', 'Embaladora Longi 6', 'Shift Manager',\n",
              "       'MF2 LONGI001', 'Forklift driver', 'EMBALADO Y FLEJADO',\n",
              "       'FINANZAS - PAGO A PROVEEDORES', 'galvanized - hanger',\n",
              "       'Titular Línea Corte Transversal', 'MONTADORA',\n",
              "       'Jefe de Mantenimiento', 'Team Leader', 'maquinista longi009',\n",
              "       'montador LONGI008', 'Auxiliar Trans 4', 'hanger',\n",
              "       'Operador principal', 'Auxiliar logística',\n",
              "       'Titular/ayudante de perfiladoras', 'GRUISTA PTA008',\n",
              "       'Alimentador tubos', 'Carpinteria', 'Montacarguista',\n",
              "       'Fahrer Räumfahrzeug', 'Operario de Máquina',\n",
              "       'Maschinenführer 1, Presse 2', 'IT-Administrator',\n",
              "       'GRUISTA TRANS002', 'Titular Linea', 'Press Operators',\n",
              "       'Mechatroniker', 'LIDER LONGI06', 'Maquinista Longi 3',\n",
              "       'MAQUINISTA PERFILADORAS', 'caretillero',\n",
              "       'Operador auxiliar / Montador de árvores de navalhas',\n",
              "       'Director Comercial Planta', 'maquinista/gruista',\n",
              "       'Gruista de caldera y limpieza de caldera', 'embaladora nave 2',\n",
              "       'carretilla', 'Maintenance Engineer',\n",
              "       'trabajo en la grúa de pórtico Q25T, nave lateral 1, colocación del círculo en el almacén de bobinas',\n",
              "       'MF1 Presse 1', 'CARRETILLERO', 'Operador de Produção II',\n",
              "       'Weighbridge Operator', 'Almacenes', 'Operario de mantenimiento',\n",
              "       'ZONA APILADOR LCP', 'Maschinenführer 1 Presse 1',\n",
              "       'Slitter Operators ', '-', 'Alimentador Perfiladora Tubos 601',\n",
              "       'Neutra De Galvanizado', 'Carrtillero', 'plegador',\n",
              "       'Gruista de entrada', 'LINEA DE PRENSA', 'CARRETILLA',\n",
              "       'OPERADOR DE CARRETILLA', 'MONTADOR LONGI008', 'Carretillero',\n",
              "       'Empaquetador Tubos', 'Gruista de evacuación de maquinas',\n",
              "       'operatorof Press', 'Working on Press', 'Alimentador Tubos 601',\n",
              "       'Auxiliar de logística', 'Auxiliar máquina 1',\n",
              "       'Handling the equipment', 'Operario Salida Decapado',\n",
              "       'Operating the portalcrane', 'Staplerfahrerin', 'slitting Op ',\n",
              "       'ayudante longitudinal', 'GRUISTA PTA07 PTA08', 'Gruista ácido',\n",
              "       'MF2 Anlernen', 'Laboratorio de Calidad', 'Utillero',\n",
              "       'Plazmada kesim', 'Shipping Coordinator',\n",
              "       'Ayudante de perfiladora de Dimeco',\n",
              "       'Maquinista LC4/LC7 y Gruista', 'Gruista carga nave 6A',\n",
              "       'Montador LC4',\n",
              "       'Reemplazo de herramienta en la línea de corte transversal PRENS002',\n",
              "       'Gruista Almacenes', 'Kranführer Halle 0',\n",
              "       'Operator / Stacker Operator', 'Recogedor de cizallas',\n",
              "       'Operario corte', 'CARGADOR ENTRADA', 'Alimentador',\n",
              "       'Operario de puente grúa', 'Forklift Driver', 'Proceso decapado',\n",
              "       'empaquetador', 'Maschinenführer 1 Presse', 'Madera Prensas',\n",
              "       'Longi 6', 'Embaladora 2', 'Corte térmico ',\n",
              "       'Ayudante perfiladora Dimeco',\n",
              "       'GRUISTA DE CALDERA Y OPERARIOS DE LIMPIEZA', 'Material handler',\n",
              "       'Titular y ayudantes de Perfiladora de Dimeco Perfi012',\n",
              "       'Cargador/descargador', 'Auxiliar', 'Grua Caldera Galvanizado',\n",
              "       'Engraving', 'packaging worker', 'ayudante de longitudinal',\n",
              "       'Gruista de longitudinales y transversales', 'Verlader',\n",
              "       'Maestro II', 'Si. Operario Rattunde en Formacion',\n",
              "       'Maquinista Perfiladora Tubos',\n",
              "       'Salida de la carretilla de descarga y flejado del material',\n",
              "       'soldador', 'Recibido de galvanizado',\n",
              "       'Pupitre de entrada decapado', 'Empaquetador tubos',\n",
              "       'Auxiliar Línea Corte Longitudinal', 'Alimentador Tubos',\n",
              "       'Titular Prensa 1', 'Operador de har lan', 'Gruista caldera',\n",
              "       'maquinista de maquina laser', 'Galvanizado',\n",
              "       'Operador Auxiliar / Montador de árvores de navalhas', 'Soldadura',\n",
              "       'Maschinenführer 2 Pressen', 'Operario de muestras',\n",
              "       'Hornero Aprendiz', 'Maquinista LONGI003',\n",
              "       'Equipo de preparación de montajes', 'SI', 'LONGI008',\n",
              "       'Operador Principal', 'Titular Línea Corte Prensa I',\n",
              "       'Apprentice Maintenance', 'Verlader / Staplerfahrer',\n",
              "       'GRUISTA LONGI004-008+MANTENIMIENTO+MAQUINISTA LONGI008',\n",
              "       'Empaquetador perfiladoras',\n",
              "       'Ensamblado tubo tracker (plantilla 2)', 'Mechatroinker',\n",
              "       'Material  Handler / Slitting Operator',\n",
              "       'Cargador/descargador galvanizado', 'Camionero externo',\n",
              "       'Grúa de salida', 'Auxiliar de Producción', 'Auxiliar línea 11',\n",
              "       'Gruista/cargador', 'Personal de mantenimiento',\n",
              "       'AUXILIAR TRANS 4', 'Kranführer Halle 7', 'Operador de Har lan',\n",
              "       'Gruista/soldador', 'SI. Auxiliar Evacuación MTM2', 'galvanized',\n",
              "       'Flejador TRANS001', 'Operating of press machine', 'supplier',\n",
              "       'store keeper', 'Metarial Handling', 'Crane Operator',\n",
              "       'Bestücker LSL 2', 'Titular L-8', 'Operario Puente Grúa',\n",
              "       'Mick Brennan is responsible for all cranes and lifting equipment',\n",
              "       'Recibidor línea 3mts', 'DESCARGADOR GALVANIZADO',\n",
              "       'línea de corte',\n",
              "       'Embalaje del material en la línea de embalaje, cliente: Hydrapres S.A',\n",
              "       'Instandhalter', 'Carretilleros', 'customer',\n",
              "       'TPM loading car loop', 'Operador Principal (Em formação)',\n",
              "       'Traslado de bobinas del almacén de materia prima para su corte en la línea transversal PRENS002',\n",
              "       'Operario Puente grúa', 'crane operator', 'maquinista lc',\n",
              "       'Flejador', 'Gruista zona negro', 'Maschinenbediener Presse 5',\n",
              "       'Gruísta', 'lider', 'Mitarbeiter Schrottentsorgung',\n",
              "       'galvanized-hanging-handling', 'camionero', 'Gruista entrada',\n",
              "       'GRUISTA DE ENTRADA EN TUBOS',\n",
              "       'Accidente que ocurre en la planta de un cliente con una cantonera colocada en un paquete de formatos enviado desde nuestra planta',\n",
              "       'MONTADOR', 'Maschinenbediener/-einrichter Presse 5',\n",
              "       'galvanized-  packaging', 'Tornero ajustador', 'DECAPADO',\n",
              "       'Verpacker / Bestuecker', 'Línea de Prensa - Cargador de Bobina',\n",
              "       'Mecanico', 'LkW-Fahrer', 'Kranführer', 'Gruista entrada decapado',\n",
              "       'Desmontaje de la herramienta después de la producción de la línea 1 para colocarla en el almacén de matrices – matriz núm. 26',\n",
              "       'Operador Puente Grúa', 'TRASLADOS', 'Gruista Tubos',\n",
              "       'Gruista nave 6b zona negro', 'Conductor Tren',\n",
              "       'Operario Entrada Decapado M1', 'Working in I T Department',\n",
              "       'Gruista de caldera', 'Verpacker Presse 3', 'Gruista Nave 4.',\n",
              "       'Verpacker Halle 3', 'Zona de Picos de Nave 3', 'LONGI2',\n",
              "       ': Operador II', 'CONTROLADOR DE PROCESOS',\n",
              "       'Gruista Subcontrata Pardo Freijo', 'Movimentação',\n",
              "       'Alimentador P3', 'TRANS 4', 'OPERARIO LONGI 3',\n",
              "       'Forklift Operator', 'MF2 Presse 1', 'plegadora', 'Carpintería',\n",
              "       'Maschinenführer 1 Presse 4/6', 'Packing team member ',\n",
              "       'Operador II', 'Titular LONGI008', 'Chófer/camionero',\n",
              "       'AYUDANTE LONGI004', 'Auxiliar/montador LONGI002',\n",
              "       'Stacker - training as forklift driver', 'Crane operator',\n",
              "       'Bediener Biele-Wender, Halle 8', 'Cargador descargador',\n",
              "       'team leader', 'Operador de Embalagem', 'Operario de Puente Grúa',\n",
              "       'Auszubildender Mechatroniker', 'Titular TRANS003',\n",
              "       'Pote Galvanizado', 'Nacharbeiter', 'Supervisor Produktion',\n",
              "       'Supplier', 'Bestücker / Verpacker LONGI001',\n",
              "       'Operario máquina III', 'Operario de granallado',\n",
              "       'Ayudante LONGI008', 'material carrying-plasma',\n",
              "       'Maquinista linea de corte longitudinal',\n",
              "       'Entrada para la descarga del camión con la bobina – no se dispone de datos del conductor',\n",
              "       'Cargador negro/gruista', 'Presseneinrichter', 'Press Operator',\n",
              "       'Manual operation on protective rods', 'alimentador p5',\n",
              "       'operario de linea', 'Red Bud Blanking Line',\n",
              "       'Kranführer Halle 1 Süd', 'Anlagenführer Laser 5',\n",
              "       'Handling material', 'MF1 Presse 2', 'Puente Grua Galvanizado',\n",
              "       'Power Press Op', 'Gruista y limpieza de caldera',\n",
              "       'CARPINTERO TRANS001', 'Montacarguista (en entrenamiento)',\n",
              "       'storekeeper', 'CHATARRERO', 'Montador/auxiliar',\n",
              "       'Titular Circulares', 'Cargador Galvanizado',\n",
              "       'Empaquetador en formación', 'LONGI 5', 'Embalador', 'Werkzeugbau',\n",
              "       'none', 'proceso', 'NÃO SE APLICA', 'Gruista del ácido',\n",
              "       'Puente Grua Longitudinales Y Transversales',\n",
              "       'Puente Grua - Flejador', 'Técnico de Mantenimiento',\n",
              "       'gruista varios', 'Carretillero galvanizado', 'AUXILIAR DE LINEA',\n",
              "       'GRUISTA EXTERNO', 'Pontonero y maquinista TRANS006',\n",
              "       'Auxiliar/Montador Longi 7', 'Gruista tubos', 'Torro Hyster',\n",
              "       'Chofer', 'GRUISTA - EMBALADOR', 'Painting',\n",
              "       'OPERADOR PUENTE GRUA', 'Alimentador de perfiladoras de tubos',\n",
              "       'Programador', 'Descargador', 'Packer', 'Verpacker',\n",
              "       'Titular de línea y auxiliar (Prensa Rovetta)',\n",
              "       'CARPINTERO TRANS002', 'Vaciado contenedores de chatarra',\n",
              "       'maquinista de robot de soldadura', 'Controlador de proceso',\n",
              "       'Lkw-Fahrer', 'welding for polygon', 'Gruista de salida',\n",
              "       'Si. Jefe cortadora Mair.', 'Cargador', 'AYUDANTE PRENSA002',\n",
              "       'Maschinenführer', 'packer', 'Gruista',\n",
              "       'Lkw Fahrer Firma Schielke', 'N/A ', 'flejador', 'Staplerfahrer',\n",
              "       'FLEJADOR TRANS002', 'Proceso Galva', 'Director de produccción',\n",
              "       'Líneas de Corte Longitudinal',\n",
              "       'Operario de maquina (taladro radial)', 'Operador auxiliar',\n",
              "       'Operador de Recolha de Resíduos', 'EMBALADOR TRANS002',\n",
              "       'Cargador de entrada', 'Carretillero Railsider',\n",
              "       'Operario procesos', 'Maquinista TRANS005',\n",
              "       'Alimentador tubos 601', 'Verificador tubos 601', 'Kranbediener',\n",
              "       'Kranführer Halle 2', 'road safety', 'Supervisor',\n",
              "       'maquinista tubos', 'EMBAL480', 'EMBALADOR 480', 'toolmaker',\n",
              "       'Expedição - enlonamento', 'Caretilla',\n",
              "       'Carrying a pole via forklift', 'Si', 'Lkw Fahrer',\n",
              "       'EMBALADORA LC6', 'Maschinenführer 1',\n",
              "       'Maschinen- und Anlagenführer', 'OPEN COIL', 'galvanizado',\n",
              "       'Loading team leader', 'Maschinenführer 2 Presse 2', 'EPM',\n",
              "       'Control Calidad', 'Maschinenführer 1 Presse 5',\n",
              "       'ENH CNC OPERATOR', '占从涛', 'Auxiliar LONGI003',\n",
              "       'Operario de producción', 'Líder de Logistica y Planeación',\n",
              "       'manager', 'CIZALLA', 'GRUISTA TRANS004',\n",
              "       'Maschinenführer 2 LONGI001', 'line operator', 'Auxiliar TRANS003',\n",
              "       'Carga y descarga vagones', 'LONGI 1', 'Grinding', 'LONGI06',\n",
              "       'worker', 'Titular Corte Termico', 'Staplerfahrer Halle 2 und 3',\n",
              "       'Maschinenführer 2 Presse 3', 'Maquinista LONGI009',\n",
              "       'Lkw-Fahrer von Veolia-Umweltservice (extern)',\n",
              "       'Maschinenführer 2 Presse 5', 'soldadura', 'Gruista de tubos',\n",
              "       'Maquinista longitudinales', 'Operador auxiliar LCT',\n",
              "       'Operador de montacargas asistido en la carga de camiones',\n",
              "       'AYUDANTE PRENS004', 'OPERARIOS DE CARGA',\n",
              "       'GRUISTA DE TUBO TRACKER', 'truck driver',\n",
              "       'GRUISTA - CARRETILLERO - PRENSAS', 'operator on packaging line',\n",
              "       'store-keeper', 'Ayudante LONGI004', 'Titular de Linea',\n",
              "       'gruista/ maquinista plasma', 'Operating the crane',\n",
              "       'Ayudante de longitudinal', 'MAQUINISTA PRENSA004',\n",
              "       'Maquinista perfiladora', 'MAQUINISTA Y AYUDANTE TRANSVERSAL 4',\n",
              "       'EMBALADORA 1', 'Stacker Operator - Training as blanking operator',\n",
              "       'Cargue de material', 'gruista tracker', 'Handling',\n",
              "       'OPERADOR CARRETILLA', 'forklift driver',\n",
              "       'assembler of circular knives', 'MF2 LONGI002',\n",
              "       'Flejado y Embalado', 'Kranführer Halle 3', 'Slitting Operator ',\n",
              "       'Auxiliar de producción', 'Maquinista Trans 003',\n",
              "       'metal grinding - 2A hole', 'Montador/auxiliar LONGI003',\n",
              "       'Corte plasma', 'Auxiliar/Montador',\n",
              "       'Área de manutenção de ferramentas da prensa (Matrizes de corte)',\n",
              "       'Staplerfahrer Halle 7', 'packaging', 'EMBALAJE  T1',\n",
              "       'sacado de los palés verdes de la zona para suministrarlos a las líneas como bases de palés alternativos, utilizados reiteradamente por Gestamp',\n",
              "       'Sorting and packing product', 'Gruista Procesos',\n",
              "       'GRUISTA NAVE 5', 'Perfiladora Casset', 'Perfiles abiertos',\n",
              "       'Maschinenführer 1, Presse 3', 'gruista',\n",
              "       'Tool & Die tech from Gestamp working onsite at Gonvauto',\n",
              "       'Operador Logístico I',\n",
              "       'Maniobra de marcha atrás después de dejar el palé con producto acabado en la zona B3',\n",
              "       'Gruista ( PARDO FREIJO) Subcontrata', 'LONGI 6',\n",
              "       'Material Handler', 'operator of packaging', 'Maschinenführer 2',\n",
              "       'Jefe Ventas Zona Sur', 'poligon production-black area', 'Tubos',\n",
              "       'Na', 'Rework Operation', 'shift manager', 'Verlader Halle 8',\n",
              "       'responsible for the shift', 'Expediciones, carga de camiones',\n",
              "       'Maschinenführer LONGI002', 'n/a ', 'Operario Entrada Decapado',\n",
              "       'Operario entrada linea decapado', 'Platinen wenden', 'maquinista',\n",
              "       'LONGI004', 'carretillero', 'Chofer camión',\n",
              "       'UTILLERO GALVANIZADO', 'PROCESOS', 'Descarga Galvanizado.',\n",
              "       'CHOFER', 'Operador Principal LCL', 'Ayudante CIZAL008',\n",
              "       'Kranführer H1 Nord', 'sierra de madera', 'Staplerfahrer Halle 8',\n",
              "       'Embaladora', 'Maschinenführer 1 Presse 3',\n",
              "       'Operario de maquina l', 'DESCARGAS',\n",
              "       'Flejador/ ayudante TRANS007', 'Gruista nave 6b zona de carga',\n",
              "       'CHOFER CAMIÓN CARPINTERIA', 'Manutenção', '包装packaging',\n",
              "       'TRANS002', 'BOBINERO', 'MF1 LONGI', 'Nacharbeit', 'Toolmaker',\n",
              "       'Carga material negro', 'CARRETILLERO PRENS004',\n",
              "       'Camionero ( PARDO FREIJO) Gruista Gancho C (Gonvauto Galicia)',\n",
              "       'Verpacker Halle 4',\n",
              "       'Limpieza del rodillo continuo en la línea PRENS002',\n",
              "       'ENH PRODUCTION', 'Laser Trumpf', 'LINEAS DE CORTE LONGITUDINAL',\n",
              "       'OPERARIO TREN DE TROQUELADO', 'Pontonero', 'Fertigungsingenieur',\n",
              "       'Material Handler moving stock around and loading vehicles',\n",
              "       'Operador Decapado', 'MF1 LONGI001', 'AUXILIAR LONGI 3',\n",
              "       'operator on catting line', 'Titular prensa', 'Embal480', 'LCP 03',\n",
              "       'CARRETILLERO TRANS005', 'EMBALADORA', 'Troquelista',\n",
              "       'MAQUINISTA LONGI008', 'Maschinenführer Presse 4/6', '.',\n",
              "       'slitting operator', 'Operador Paletizadora', 'Maquinista LC4',\n",
              "       'Gruista Nave 2 - 3', 'Colgador', 'EMBALADOR  480',\n",
              "       'Titular de longi004', 'Descarga galvanizado',\n",
              "       'packaking -road safety', 'Operario de linea',\n",
              "       'Operadores limpieza de caldera y gruista de caldera',\n",
              "       'Gruista 6B Negro', 'linea de manutencion', 'LCP 02',\n",
              "       'Maquinista Sierra de corte Adige1', 'MF2 Presse 5',\n",
              "       'Oxgyen cutting', 'Kranfahrer', 'EMBALADORA LONGI 6',\n",
              "       'assistant of operator', 'Empaquetador',\n",
              "       'Logistic Forklift Driver', 'Gruista/carretillero',\n",
              "       'Maschinenführerin 2 Presse 3', 'Werkzeugmacher',\n",
              "       'forklift external maintance', 'Maintenance Manager',\n",
              "       'Mantenimiento', 'Maquinista plasma', 'Operario puente grúa',\n",
              "       'Ninguno de los implicados desempeñaban funciones habituales en la línea donde se produjo el incidente.',\n",
              "       'operative Logistikfachkraft', 'Recibidor Línea de 7m',\n",
              "       'Ayudante de circular', 'packaging operator',\n",
              "       'Ferienarbeiter Instandhaltung', 'MAQUINISTA CORTE LONGITUDINAL',\n",
              "       'Titular LONGI001', 'TREN DE LAMINACIÓN', 'Inspector de Calidad',\n",
              "       'Operador puente grúa', 'Chófer', 'alimentador',\n",
              "       'Operador logistico', 'Longi 1', 'Maintenance'], dtype=object)"
            ]
          },
          "metadata": {
            "tags": []
          },
          "execution_count": 34
        }
      ]
    },
    {
      "cell_type": "code",
      "metadata": {
        "id": "S_rVpEjurIC0"
      },
      "source": [
        "staff.drop(columns={'Puesto habitual de trabajo'}, inplace=True)"
      ],
      "execution_count": 35,
      "outputs": []
    },
    {
      "cell_type": "code",
      "metadata": {
        "id": "fi_sEKJVgtPT"
      },
      "source": [
        "#gender\n",
        "\n",
        "staff.rename(columns={'Género':'Gender'}, inplace=True)\n"
      ],
      "execution_count": 36,
      "outputs": []
    },
    {
      "cell_type": "code",
      "metadata": {
        "colab": {
          "base_uri": "https://localhost:8080/"
        },
        "id": "ClWWt7J0q7ct",
        "outputId": "a7f641c3-a076-43fc-e9b1-7d304969de98"
      },
      "source": [
        "staff['Gender'].unique()"
      ],
      "execution_count": 37,
      "outputs": [
        {
          "output_type": "execute_result",
          "data": {
            "text/plain": [
              "array([nan, 'Hombre', 'Mujer'], dtype=object)"
            ]
          },
          "metadata": {
            "tags": []
          },
          "execution_count": 37
        }
      ]
    },
    {
      "cell_type": "code",
      "metadata": {
        "id": "q40fmLfHrRtY"
      },
      "source": [
        "staff['Gender'] = staff['Gender'].fillna('Hombre')"
      ],
      "execution_count": 38,
      "outputs": []
    },
    {
      "cell_type": "code",
      "metadata": {
        "colab": {
          "base_uri": "https://localhost:8080/"
        },
        "id": "TYtAeC8_rvBV",
        "outputId": "b422721e-0aa0-48ec-a390-16c3672e1f1f"
      },
      "source": [
        "len(staff[staff['Gender'].isnull()])"
      ],
      "execution_count": 39,
      "outputs": [
        {
          "output_type": "execute_result",
          "data": {
            "text/plain": [
              "0"
            ]
          },
          "metadata": {
            "tags": []
          },
          "execution_count": 39
        }
      ]
    },
    {
      "cell_type": "code",
      "metadata": {
        "id": "vcpecFlvtJCw",
        "colab": {
          "base_uri": "https://localhost:8080/"
        },
        "outputId": "6f34ff11-4bd1-4222-c155-60c4a4c079d3"
      },
      "source": [
        "staff['Gender'].unique()"
      ],
      "execution_count": 40,
      "outputs": [
        {
          "output_type": "execute_result",
          "data": {
            "text/plain": [
              "array(['Hombre', 'Mujer'], dtype=object)"
            ]
          },
          "metadata": {
            "tags": []
          },
          "execution_count": 40
        }
      ]
    },
    {
      "cell_type": "markdown",
      "metadata": {
        "id": "On0qind9Q7vT"
      },
      "source": [
        "Checking if we have null values in turno"
      ]
    },
    {
      "cell_type": "code",
      "metadata": {
        "colab": {
          "base_uri": "https://localhost:8080/"
        },
        "id": "5mgU0fRMQtMk",
        "outputId": "ef312ce1-a524-4008-a02e-691f87b3086e"
      },
      "source": [
        "staff.Turno.isnull().any()"
      ],
      "execution_count": 41,
      "outputs": [
        {
          "output_type": "execute_result",
          "data": {
            "text/plain": [
              "False"
            ]
          },
          "metadata": {
            "tags": []
          },
          "execution_count": 41
        }
      ]
    },
    {
      "cell_type": "markdown",
      "metadata": {
        "id": "xMtW2ta4RLKn"
      },
      "source": [
        "Checking for nulls in age:\n",
        "\n",
        "As we have null values we are goign to reassing the age range based on the proportion of the tables we hav analyzed"
      ]
    },
    {
      "cell_type": "code",
      "metadata": {
        "colab": {
          "base_uri": "https://localhost:8080/"
        },
        "id": "VfoOTxnNRFqQ",
        "outputId": "3f7d242b-023a-4d12-ea29-91f39375b325"
      },
      "source": [
        "staff.Edad.isnull().any()"
      ],
      "execution_count": 42,
      "outputs": [
        {
          "output_type": "execute_result",
          "data": {
            "text/plain": [
              "True"
            ]
          },
          "metadata": {
            "tags": []
          },
          "execution_count": 42
        }
      ]
    },
    {
      "cell_type": "code",
      "metadata": {
        "colab": {
          "base_uri": "https://localhost:8080/"
        },
        "id": "2vsQ-xouRN5u",
        "outputId": "2e909b9d-c1be-474b-9cda-7d0caec8702b"
      },
      "source": [
        "len(staff[staff.Edad.isnull()])"
      ],
      "execution_count": 43,
      "outputs": [
        {
          "output_type": "execute_result",
          "data": {
            "text/plain": [
              "1855"
            ]
          },
          "metadata": {
            "tags": []
          },
          "execution_count": 43
        }
      ]
    },
    {
      "cell_type": "code",
      "metadata": {
        "id": "FrNrlUx9TAk3"
      },
      "source": [
        "rangos_edad = ['Menor 30', 'Entre 30-50', 'Mayor 50']\n",
        "weights = {'Hombre':[0.2, 0.44, 0.36], 'Mujer':[0.2,0.55,0.25]}"
      ],
      "execution_count": 44,
      "outputs": []
    },
    {
      "cell_type": "code",
      "metadata": {
        "id": "c4hqSPXrTWYv"
      },
      "source": [
        "np.random.seed(0)\n",
        "\n",
        "def apply_randoms(x):\n",
        "  key = x['Gender'].iat[0]\n",
        "  return pd.Series(np.random.choice(rangos_edad, size=len(x), p=weights[key]))"
      ],
      "execution_count": 45,
      "outputs": []
    },
    {
      "cell_type": "code",
      "metadata": {
        "id": "xo_dqWllTmdP"
      },
      "source": [
        "staff['Age'] = staff.groupby('Gender').apply(apply_randoms)\\\n",
        "       .rename('Age').reset_index().drop('level_1', 1)['Age']"
      ],
      "execution_count": 46,
      "outputs": []
    },
    {
      "cell_type": "code",
      "metadata": {
        "id": "a0IPi-T0Vr75"
      },
      "source": [
        "staff.drop(columns={'Edad'}, inplace=True)"
      ],
      "execution_count": 47,
      "outputs": []
    },
    {
      "cell_type": "markdown",
      "metadata": {
        "id": "cTtN_YqqWBxD"
      },
      "source": [
        "Checking is there is any row with null at type of accident"
      ]
    },
    {
      "cell_type": "code",
      "metadata": {
        "colab": {
          "base_uri": "https://localhost:8080/"
        },
        "id": "P1Nsvpr4V8nS",
        "outputId": "4ca15951-94f4-4213-b271-73d30a98c12c"
      },
      "source": [
        "staff['Tipo accidente'].isnull().any()"
      ],
      "execution_count": 48,
      "outputs": [
        {
          "output_type": "execute_result",
          "data": {
            "text/plain": [
              "False"
            ]
          },
          "metadata": {
            "tags": []
          },
          "execution_count": 48
        }
      ]
    },
    {
      "cell_type": "markdown",
      "metadata": {
        "id": "TG3K4TseWNM0"
      },
      "source": [
        "Worker type have null values at some rows"
      ]
    },
    {
      "cell_type": "code",
      "metadata": {
        "colab": {
          "base_uri": "https://localhost:8080/"
        },
        "id": "60IWQzzvV6Ak",
        "outputId": "b1585ed0-b8c6-4bb1-ce90-a0fcc0b3a16a"
      },
      "source": [
        "staff['Tipo trabajador'].isnull().any()"
      ],
      "execution_count": 49,
      "outputs": [
        {
          "output_type": "execute_result",
          "data": {
            "text/plain": [
              "True"
            ]
          },
          "metadata": {
            "tags": []
          },
          "execution_count": 49
        }
      ]
    },
    {
      "cell_type": "code",
      "metadata": {
        "colab": {
          "base_uri": "https://localhost:8080/"
        },
        "id": "etiwpbahWeo6",
        "outputId": "7d30f3a8-523b-4da6-ed21-d625f6040be5"
      },
      "source": [
        "staff['Tipo trabajador'].unique()"
      ],
      "execution_count": 50,
      "outputs": [
        {
          "output_type": "execute_result",
          "data": {
            "text/plain": [
              "array(['Incidente (no aplica)', 'ETT', 'Indefinido', 'Subcontratado',\n",
              "       'Duración Determinada', 'Prácticas', nan,\n",
              "       'Cedidos de otras plantas', 'No aplica', 'Indefinido con preaviso'],\n",
              "      dtype=object)"
            ]
          },
          "metadata": {
            "tags": []
          },
          "execution_count": 50
        }
      ]
    },
    {
      "cell_type": "code",
      "metadata": {
        "colab": {
          "base_uri": "https://localhost:8080/",
          "height": 198
        },
        "id": "1U8ShHwkWitG",
        "outputId": "3f8430ce-635b-4964-c22b-6c6a84255e79"
      },
      "source": [
        "staff[staff['Tipo trabajador'].isnull()] #As we only have two values null we are going to assign directly 'Indefinido'"
      ],
      "execution_count": 51,
      "outputs": [
        {
          "output_type": "execute_result",
          "data": {
            "text/html": [
              "<div>\n",
              "<style scoped>\n",
              "    .dataframe tbody tr th:only-of-type {\n",
              "        vertical-align: middle;\n",
              "    }\n",
              "\n",
              "    .dataframe tbody tr th {\n",
              "        vertical-align: top;\n",
              "    }\n",
              "\n",
              "    .dataframe thead th {\n",
              "        text-align: right;\n",
              "    }\n",
              "</style>\n",
              "<table border=\"1\" class=\"dataframe\">\n",
              "  <thead>\n",
              "    <tr style=\"text-align: right;\">\n",
              "      <th></th>\n",
              "      <th>Codigo accidentado</th>\n",
              "      <th>Turno</th>\n",
              "      <th>Gender</th>\n",
              "      <th>Planta</th>\n",
              "      <th>Tipo accidente</th>\n",
              "      <th>Tipo trabajador</th>\n",
              "      <th>Gravedad potencial</th>\n",
              "      <th>Lugar o seccion accidente</th>\n",
              "      <th>Fabrica</th>\n",
              "      <th>Tecnología</th>\n",
              "      <th>Pais</th>\n",
              "      <th>Horas Presencia Efectiva Subcontratados</th>\n",
              "      <th>Horas Presencia Efectiva ETTs</th>\n",
              "      <th>Horas Formacion Seguridad Propios</th>\n",
              "      <th>Horas Formacion Seguridad ETTs</th>\n",
              "      <th>Accident</th>\n",
              "      <th>wk_position</th>\n",
              "      <th>Age</th>\n",
              "    </tr>\n",
              "  </thead>\n",
              "  <tbody>\n",
              "    <tr>\n",
              "      <th>2831</th>\n",
              "      <td>HS-NVRR_8597</td>\n",
              "      <td>Turno de mañana</td>\n",
              "      <td>Hombre</td>\n",
              "      <td>13</td>\n",
              "      <td>Incidente</td>\n",
              "      <td>NaN</td>\n",
              "      <td>Leve</td>\n",
              "      <td>Carretilla</td>\n",
              "      <td>Burgos</td>\n",
              "      <td>Blanking</td>\n",
              "      <td>España</td>\n",
              "      <td>25249.0</td>\n",
              "      <td>42485.0</td>\n",
              "      <td>1419.0</td>\n",
              "      <td>829.0</td>\n",
              "      <td>Yes</td>\n",
              "      <td>soldador</td>\n",
              "      <td>Menor 30</td>\n",
              "    </tr>\n",
              "    <tr>\n",
              "      <th>2832</th>\n",
              "      <td>HS-NVRR_8598</td>\n",
              "      <td>Turno de mañana</td>\n",
              "      <td>Hombre</td>\n",
              "      <td>13</td>\n",
              "      <td>Incidente</td>\n",
              "      <td>NaN</td>\n",
              "      <td>Leve</td>\n",
              "      <td>Carretilla</td>\n",
              "      <td>Burgos</td>\n",
              "      <td>Blanking</td>\n",
              "      <td>España</td>\n",
              "      <td>25249.0</td>\n",
              "      <td>42485.0</td>\n",
              "      <td>1419.0</td>\n",
              "      <td>829.0</td>\n",
              "      <td>Yes</td>\n",
              "      <td>EMBALADORA LONGI 6</td>\n",
              "      <td>Mayor 50</td>\n",
              "    </tr>\n",
              "  </tbody>\n",
              "</table>\n",
              "</div>"
            ],
            "text/plain": [
              "     Codigo accidentado            Turno  ...         wk_position       Age\n",
              "2831       HS-NVRR_8597  Turno de mañana  ...            soldador  Menor 30\n",
              "2832       HS-NVRR_8598  Turno de mañana  ...  EMBALADORA LONGI 6  Mayor 50\n",
              "\n",
              "[2 rows x 18 columns]"
            ]
          },
          "metadata": {
            "tags": []
          },
          "execution_count": 51
        }
      ]
    },
    {
      "cell_type": "code",
      "metadata": {
        "id": "YWHUxreCWziC"
      },
      "source": [
        "staff['Tipo trabajador'] = staff['Tipo trabajador'].fillna('Indefinido')"
      ],
      "execution_count": 52,
      "outputs": []
    },
    {
      "cell_type": "code",
      "metadata": {
        "colab": {
          "base_uri": "https://localhost:8080/"
        },
        "id": "rO8DKxDoW5pT",
        "outputId": "bf569032-94e3-4be1-a757-9d594f0ebb41"
      },
      "source": [
        "staff['Tipo trabajador'].isnull().any()"
      ],
      "execution_count": 53,
      "outputs": [
        {
          "output_type": "execute_result",
          "data": {
            "text/plain": [
              "False"
            ]
          },
          "metadata": {
            "tags": []
          },
          "execution_count": 53
        }
      ]
    },
    {
      "cell_type": "markdown",
      "metadata": {
        "id": "ybuCX7ewW-ki"
      },
      "source": [
        "Potential Severity columns has null values as well"
      ]
    },
    {
      "cell_type": "code",
      "metadata": {
        "colab": {
          "base_uri": "https://localhost:8080/"
        },
        "id": "vC75AR5RW7o4",
        "outputId": "febc536f-a69f-4750-b489-e749fddb69c1"
      },
      "source": [
        "staff[staff['Accident']=='Yes']['Gravedad potencial'].isnull().any()"
      ],
      "execution_count": 54,
      "outputs": [
        {
          "output_type": "execute_result",
          "data": {
            "text/plain": [
              "True"
            ]
          },
          "metadata": {
            "tags": []
          },
          "execution_count": 54
        }
      ]
    },
    {
      "cell_type": "code",
      "metadata": {
        "colab": {
          "base_uri": "https://localhost:8080/"
        },
        "id": "ssjB5QElXES6",
        "outputId": "1ba1b994-527f-404d-afb4-04576561259f"
      },
      "source": [
        "len(staff[(staff['Gravedad potencial'].isnull()) & (staff['Accident']=='Yes')])"
      ],
      "execution_count": 55,
      "outputs": [
        {
          "output_type": "execute_result",
          "data": {
            "text/plain": [
              "1009"
            ]
          },
          "metadata": {
            "tags": []
          },
          "execution_count": 55
        }
      ]
    },
    {
      "cell_type": "code",
      "metadata": {
        "id": "O_4-3_RqXLlo"
      },
      "source": [
        "## we are going to assign it randomly\n",
        "staff['Gravedad potencial'].unique()\n",
        "severity = ['Muy grave', 'Leve', 'Grave']"
      ],
      "execution_count": 56,
      "outputs": []
    },
    {
      "cell_type": "code",
      "metadata": {
        "id": "vzT-nAysXaWy"
      },
      "source": [
        "for i in staff['Gravedad potencial']:\n",
        "\n",
        "  if str(i) == 'nan':\n",
        "    staff['Severity'] = np.random.choice(severity, size=len(staff))\n",
        "  else:\n",
        "    staff['Severity'] = i\n"
      ],
      "execution_count": 57,
      "outputs": []
    },
    {
      "cell_type": "code",
      "metadata": {
        "colab": {
          "base_uri": "https://localhost:8080/"
        },
        "id": "0fFOxJE5YipI",
        "outputId": "75412f1c-9111-4f23-f97d-5db31c751fda"
      },
      "source": [
        "staff['Severity'].isnull().any()"
      ],
      "execution_count": 58,
      "outputs": [
        {
          "output_type": "execute_result",
          "data": {
            "text/plain": [
              "False"
            ]
          },
          "metadata": {
            "tags": []
          },
          "execution_count": 58
        }
      ]
    },
    {
      "cell_type": "code",
      "metadata": {
        "colab": {
          "base_uri": "https://localhost:8080/"
        },
        "id": "gefUfwVkYlKe",
        "outputId": "f625f3e4-82eb-4b5b-b70c-ec7852263026"
      },
      "source": [
        "staff['Severity'].unique()"
      ],
      "execution_count": 59,
      "outputs": [
        {
          "output_type": "execute_result",
          "data": {
            "text/plain": [
              "array(['Leve', 'Muy grave', 'Grave'], dtype=object)"
            ]
          },
          "metadata": {
            "tags": []
          },
          "execution_count": 59
        }
      ]
    },
    {
      "cell_type": "code",
      "metadata": {
        "id": "NtBRkmeiZVnN"
      },
      "source": [
        "staff.drop(columns={'Gravedad potencial'}, inplace=True)"
      ],
      "execution_count": 60,
      "outputs": []
    },
    {
      "cell_type": "code",
      "metadata": {
        "colab": {
          "base_uri": "https://localhost:8080/"
        },
        "id": "Tl_lLlotbBSP",
        "outputId": "7de646a7-ce16-433d-f128-b4f35f285ffd"
      },
      "source": [
        "staff['Severity'].isnull().any()"
      ],
      "execution_count": 61,
      "outputs": [
        {
          "output_type": "execute_result",
          "data": {
            "text/plain": [
              "False"
            ]
          },
          "metadata": {
            "tags": []
          },
          "execution_count": 61
        }
      ]
    },
    {
      "cell_type": "markdown",
      "metadata": {
        "id": "sibFbBZeYoPq"
      },
      "source": [
        "Aciccent's place/section"
      ]
    },
    {
      "cell_type": "code",
      "metadata": {
        "colab": {
          "base_uri": "https://localhost:8080/"
        },
        "id": "aobbvPbFYoiO",
        "outputId": "ce899c7c-dfa4-436b-b8a0-8a2c52e91501"
      },
      "source": [
        "staff['Lugar o seccion accidente'].isnull().any()"
      ],
      "execution_count": 62,
      "outputs": [
        {
          "output_type": "execute_result",
          "data": {
            "text/plain": [
              "True"
            ]
          },
          "metadata": {
            "tags": []
          },
          "execution_count": 62
        }
      ]
    },
    {
      "cell_type": "code",
      "metadata": {
        "colab": {
          "base_uri": "https://localhost:8080/"
        },
        "id": "ahjhHbcGYwG1",
        "outputId": "4cefce8a-1965-4a91-8159-a300e73e3758"
      },
      "source": [
        "len(staff[staff['Lugar o seccion accidente'].isnull()])"
      ],
      "execution_count": 63,
      "outputs": [
        {
          "output_type": "execute_result",
          "data": {
            "text/plain": [
              "63"
            ]
          },
          "metadata": {
            "tags": []
          },
          "execution_count": 63
        }
      ]
    },
    {
      "cell_type": "code",
      "metadata": {
        "colab": {
          "base_uri": "https://localhost:8080/"
        },
        "id": "q2vSNBsDY3u_",
        "outputId": "6970789f-25bf-4676-9eab-bd08644f1301"
      },
      "source": [
        "staff['Lugar o seccion accidente'].unique()"
      ],
      "execution_count": 64,
      "outputs": [
        {
          "output_type": "execute_result",
          "data": {
            "text/plain": [
              "array(['Almacén producto semielaborado o en producción',\n",
              "       'Área de embalado', 'Instalaciones exteriores y auxiliares',\n",
              "       'Puente Grúa', 'Corte Láser 3D', 'Galvanizado Inmersión',\n",
              "       'Decapado', 'Blanking', 'Corte Transversal', 'Corte Longitudinal',\n",
              "       'Almacén de Materia Prima', 'Perfiles abiertos', 'Cizalla',\n",
              "       'Almacén de Producto Terminado', 'Tubos',\n",
              "       'Oficinas administrativas', 'Prensa', 'Maquinaria Auxiliar',\n",
              "       'Galvanizado continuo', 'Mantenimiento', 'Almacen de recambios',\n",
              "       'Carretilla', 'Células Soldadura', 'Carpinteria', nan,\n",
              "       'Corte Plasma', 'Corte Láser', 'Almacen productos quimicos',\n",
              "       'Sierra', 'Punzonado', 'Soldadura Manual', 'Limpieza/Prepintado',\n",
              "       'Perforado', 'Coil to Coil', 'Galvanizado ', 'Electrozincado',\n",
              "       'Pintura', 'Tailor Welding', 'Galvanizado', 'General / Auxiliar',\n",
              "       'Perfilado de barrera y postes', 'Skinpass', 'Slitting ',\n",
              "       'General', 'Press Blanking', 'Ablation Line', 'Laminado',\n",
              "       'Slitting', 'D-Ring Line', 'Multi Strand'], dtype=object)"
            ]
          },
          "metadata": {
            "tags": []
          },
          "execution_count": 64
        }
      ]
    },
    {
      "cell_type": "code",
      "metadata": {
        "id": "1_CNhHvuY7Xb"
      },
      "source": [
        "place_acc = ['Células Soldadura', 'Tubos', 'Almacén de Producto Terminado',\n",
        "       'Blanking', 'Corte Longitudinal', 'Corte Transversal',\n",
        "       'Almacén de Materia Prima', 'Cizalla', 'Decapado', 'Puente Grúa',\n",
        "       'Carpinteria', 'Galvanizado Inmersión',  'Maquinaria Auxiliar',\n",
        "       'Corte Plasma', 'Perfiles abiertos', 'Corte Láser',\n",
        "       'Almacen productos quimicos', 'Corte Láser 3D',\n",
        "       'Instalaciones exteriores y auxiliares', 'Mantenimiento', 'Prensa',\n",
        "       'Almacén producto semielaborado o en producción', 'Carretilla',\n",
        "       'Sierra', 'Oficinas administrativas', 'Área de embalado',\n",
        "       'Punzonado', 'Soldadura Manual', 'Limpieza/Prepintado',\n",
        "       'Galvanizado continuo', 'Perforado', 'Coil to Coil',\n",
        "       'Tailor Welding', 'Galvanizado ', 'Almacen de recambios',\n",
        "       'Galvanizado', 'Electrozincado', 'Pintura', 'General / Auxiliar',\n",
        "       'Perfilado de barrera y postes', 'Skinpass', 'Slitting ',\n",
        "       'General', 'Press Blanking', 'Laminado', 'Ablation Line',\n",
        "       'Slitting', 'D-Ring Line', 'Multi Strand']"
      ],
      "execution_count": 65,
      "outputs": []
    },
    {
      "cell_type": "code",
      "metadata": {
        "id": "FiKK_r8rZCP7"
      },
      "source": [
        "for i in staff['Lugar o seccion accidente']:\n",
        "\n",
        "  if str(i) == 'nan':\n",
        "    staff['Accident_place'] = np.random.choice(place_acc, size=len(staff))\n",
        "  else:\n",
        "    staff['Accident_place'] = i"
      ],
      "execution_count": 66,
      "outputs": []
    },
    {
      "cell_type": "code",
      "metadata": {
        "colab": {
          "base_uri": "https://localhost:8080/"
        },
        "id": "_tOXAMrtZK6s",
        "outputId": "1f78a44d-7ab6-4617-bff0-f4f1f81ed90c"
      },
      "source": [
        "staff['Accident_place'].isnull().any()"
      ],
      "execution_count": 67,
      "outputs": [
        {
          "output_type": "execute_result",
          "data": {
            "text/plain": [
              "False"
            ]
          },
          "metadata": {
            "tags": []
          },
          "execution_count": 67
        }
      ]
    },
    {
      "cell_type": "code",
      "metadata": {
        "id": "jRwSx7dnZPOb"
      },
      "source": [
        "staff.drop(columns={'Lugar o seccion accidente'}, inplace=True)"
      ],
      "execution_count": 68,
      "outputs": []
    },
    {
      "cell_type": "markdown",
      "metadata": {
        "id": "YsUVAcDlZg6-"
      },
      "source": [
        "There arent any null values in Fabric column, technology and country fields are from fabric so the will be filled as well"
      ]
    },
    {
      "cell_type": "code",
      "metadata": {
        "colab": {
          "base_uri": "https://localhost:8080/"
        },
        "id": "g5x_ldO5Zipl",
        "outputId": "66d26faf-3a97-46eb-ef1f-944789314ef1"
      },
      "source": [
        "staff['Fabrica'].isnull().any()"
      ],
      "execution_count": 69,
      "outputs": [
        {
          "output_type": "execute_result",
          "data": {
            "text/plain": [
              "False"
            ]
          },
          "metadata": {
            "tags": []
          },
          "execution_count": 69
        }
      ]
    },
    {
      "cell_type": "markdown",
      "metadata": {
        "id": "AmJ8A8IZZ04t"
      },
      "source": [
        "Now we are going to check the columns of efective presence hours"
      ]
    },
    {
      "cell_type": "code",
      "metadata": {
        "colab": {
          "base_uri": "https://localhost:8080/"
        },
        "id": "-oDdy55OZxBP",
        "outputId": "b1d7770c-0cdc-4f24-882b-73efffa55024"
      },
      "source": [
        "staff['Horas Presencia Efectiva Subcontratados'].isnull().any()"
      ],
      "execution_count": 70,
      "outputs": [
        {
          "output_type": "execute_result",
          "data": {
            "text/plain": [
              "True"
            ]
          },
          "metadata": {
            "tags": []
          },
          "execution_count": 70
        }
      ]
    },
    {
      "cell_type": "code",
      "metadata": {
        "id": "33VchKwnD8Qf"
      },
      "source": [
        "staff['Horas Presencia Efectiva Subcontratados'] = staff['Horas Presencia Efectiva Subcontratados'].fillna(0)"
      ],
      "execution_count": 71,
      "outputs": []
    },
    {
      "cell_type": "code",
      "metadata": {
        "colab": {
          "base_uri": "https://localhost:8080/"
        },
        "id": "s2A5wluPZ_p2",
        "outputId": "8e39bc0d-367b-4af6-9622-81731ed27434"
      },
      "source": [
        "staff['Horas Presencia Efectiva ETTs'].isnull().any()"
      ],
      "execution_count": 72,
      "outputs": [
        {
          "output_type": "execute_result",
          "data": {
            "text/plain": [
              "True"
            ]
          },
          "metadata": {
            "tags": []
          },
          "execution_count": 72
        }
      ]
    },
    {
      "cell_type": "code",
      "metadata": {
        "id": "fGJDdW2bD-uf"
      },
      "source": [
        "staff['Horas Presencia Efectiva ETTs'] = staff['Horas Presencia Efectiva ETTs'].fillna(0)"
      ],
      "execution_count": 73,
      "outputs": []
    },
    {
      "cell_type": "code",
      "metadata": {
        "colab": {
          "base_uri": "https://localhost:8080/"
        },
        "id": "K9tsFwMcZ_yp",
        "outputId": "719d227e-6038-40c9-9f03-4064d7403623"
      },
      "source": [
        "staff['Horas Formacion Seguridad Propios'].isnull().any()"
      ],
      "execution_count": 74,
      "outputs": [
        {
          "output_type": "execute_result",
          "data": {
            "text/plain": [
              "True"
            ]
          },
          "metadata": {
            "tags": []
          },
          "execution_count": 74
        }
      ]
    },
    {
      "cell_type": "code",
      "metadata": {
        "id": "uJheuZRdEA7v"
      },
      "source": [
        "staff['Horas Formacion Seguridad Propios'] = staff['Horas Formacion Seguridad Propios'].fillna(0)"
      ],
      "execution_count": 75,
      "outputs": []
    },
    {
      "cell_type": "code",
      "metadata": {
        "colab": {
          "base_uri": "https://localhost:8080/"
        },
        "id": "fw6NRZcRaADR",
        "outputId": "464e9619-8d38-4728-ba44-cd174f12160d"
      },
      "source": [
        "staff['Horas Formacion Seguridad ETTs'].isnull().any()"
      ],
      "execution_count": 76,
      "outputs": [
        {
          "output_type": "execute_result",
          "data": {
            "text/plain": [
              "True"
            ]
          },
          "metadata": {
            "tags": []
          },
          "execution_count": 76
        }
      ]
    },
    {
      "cell_type": "code",
      "metadata": {
        "id": "BBMwhcoaEEWq"
      },
      "source": [
        "staff['Horas Formacion Seguridad ETTs'] = staff['Horas Formacion Seguridad ETTs'].fillna(0)"
      ],
      "execution_count": 77,
      "outputs": []
    },
    {
      "cell_type": "code",
      "metadata": {
        "colab": {
          "base_uri": "https://localhost:8080/",
          "height": 344
        },
        "id": "0kt3Tb2DQ_5a",
        "outputId": "778ac481-16ab-4f87-cfb0-216d2bfdfbeb"
      },
      "source": [
        "staff.head()"
      ],
      "execution_count": 78,
      "outputs": [
        {
          "output_type": "execute_result",
          "data": {
            "text/html": [
              "<div>\n",
              "<style scoped>\n",
              "    .dataframe tbody tr th:only-of-type {\n",
              "        vertical-align: middle;\n",
              "    }\n",
              "\n",
              "    .dataframe tbody tr th {\n",
              "        vertical-align: top;\n",
              "    }\n",
              "\n",
              "    .dataframe thead th {\n",
              "        text-align: right;\n",
              "    }\n",
              "</style>\n",
              "<table border=\"1\" class=\"dataframe\">\n",
              "  <thead>\n",
              "    <tr style=\"text-align: right;\">\n",
              "      <th></th>\n",
              "      <th>Codigo accidentado</th>\n",
              "      <th>Turno</th>\n",
              "      <th>Gender</th>\n",
              "      <th>Planta</th>\n",
              "      <th>Tipo accidente</th>\n",
              "      <th>Tipo trabajador</th>\n",
              "      <th>Fabrica</th>\n",
              "      <th>Tecnología</th>\n",
              "      <th>Pais</th>\n",
              "      <th>Horas Presencia Efectiva Subcontratados</th>\n",
              "      <th>Horas Presencia Efectiva ETTs</th>\n",
              "      <th>Horas Formacion Seguridad Propios</th>\n",
              "      <th>Horas Formacion Seguridad ETTs</th>\n",
              "      <th>Accident</th>\n",
              "      <th>wk_position</th>\n",
              "      <th>Age</th>\n",
              "      <th>Severity</th>\n",
              "      <th>Accident_place</th>\n",
              "    </tr>\n",
              "  </thead>\n",
              "  <tbody>\n",
              "    <tr>\n",
              "      <th>0</th>\n",
              "      <td>HS-CHGQ_6253</td>\n",
              "      <td>Turno de mañana</td>\n",
              "      <td>Hombre</td>\n",
              "      <td>45</td>\n",
              "      <td>Incidente</td>\n",
              "      <td>Incidente (no aplica)</td>\n",
              "      <td>Asturias</td>\n",
              "      <td>Decapado</td>\n",
              "      <td>España</td>\n",
              "      <td>0.0</td>\n",
              "      <td>0.0</td>\n",
              "      <td>0.0</td>\n",
              "      <td>0.0</td>\n",
              "      <td>Yes</td>\n",
              "      <td>EMABALADOR</td>\n",
              "      <td>Entre 30-50</td>\n",
              "      <td>Leve</td>\n",
              "      <td>Mantenimiento</td>\n",
              "    </tr>\n",
              "    <tr>\n",
              "      <th>1</th>\n",
              "      <td>HS-CHGQ_6813</td>\n",
              "      <td>Turno de mañana</td>\n",
              "      <td>Hombre</td>\n",
              "      <td>45</td>\n",
              "      <td>Incidente</td>\n",
              "      <td>Incidente (no aplica)</td>\n",
              "      <td>Asturias</td>\n",
              "      <td>Decapado</td>\n",
              "      <td>España</td>\n",
              "      <td>0.0</td>\n",
              "      <td>0.0</td>\n",
              "      <td>0.0</td>\n",
              "      <td>0.0</td>\n",
              "      <td>Yes</td>\n",
              "      <td>GRUA CALDERA</td>\n",
              "      <td>Mayor 50</td>\n",
              "      <td>Muy grave</td>\n",
              "      <td>Mantenimiento</td>\n",
              "    </tr>\n",
              "    <tr>\n",
              "      <th>2</th>\n",
              "      <td>HS-CHGQ_6814</td>\n",
              "      <td>Turno de mañana</td>\n",
              "      <td>Hombre</td>\n",
              "      <td>45</td>\n",
              "      <td>Incidente</td>\n",
              "      <td>Incidente (no aplica)</td>\n",
              "      <td>Asturias</td>\n",
              "      <td>Decapado</td>\n",
              "      <td>España</td>\n",
              "      <td>0.0</td>\n",
              "      <td>0.0</td>\n",
              "      <td>0.0</td>\n",
              "      <td>0.0</td>\n",
              "      <td>Yes</td>\n",
              "      <td>Embalador 1 (en capacitación)</td>\n",
              "      <td>Entre 30-50</td>\n",
              "      <td>Muy grave</td>\n",
              "      <td>Mantenimiento</td>\n",
              "    </tr>\n",
              "    <tr>\n",
              "      <th>3</th>\n",
              "      <td>HS-CHGQ_6138</td>\n",
              "      <td>Turno de mañana</td>\n",
              "      <td>Hombre</td>\n",
              "      <td>45</td>\n",
              "      <td>Incidente</td>\n",
              "      <td>Incidente (no aplica)</td>\n",
              "      <td>Asturias</td>\n",
              "      <td>Decapado</td>\n",
              "      <td>España</td>\n",
              "      <td>0.0</td>\n",
              "      <td>0.0</td>\n",
              "      <td>0.0</td>\n",
              "      <td>0.0</td>\n",
              "      <td>Yes</td>\n",
              "      <td>galvanized packaking</td>\n",
              "      <td>Entre 30-50</td>\n",
              "      <td>Grave</td>\n",
              "      <td>Mantenimiento</td>\n",
              "    </tr>\n",
              "    <tr>\n",
              "      <th>4</th>\n",
              "      <td>HS-CHGQ_6139</td>\n",
              "      <td>Turno de tarde</td>\n",
              "      <td>Hombre</td>\n",
              "      <td>45</td>\n",
              "      <td>Incidente</td>\n",
              "      <td>Incidente (no aplica)</td>\n",
              "      <td>Asturias</td>\n",
              "      <td>Decapado</td>\n",
              "      <td>España</td>\n",
              "      <td>0.0</td>\n",
              "      <td>0.0</td>\n",
              "      <td>0.0</td>\n",
              "      <td>0.0</td>\n",
              "      <td>Yes</td>\n",
              "      <td>tooling work</td>\n",
              "      <td>Entre 30-50</td>\n",
              "      <td>Grave</td>\n",
              "      <td>Mantenimiento</td>\n",
              "    </tr>\n",
              "  </tbody>\n",
              "</table>\n",
              "</div>"
            ],
            "text/plain": [
              "  Codigo accidentado            Turno  ...   Severity  Accident_place\n",
              "0       HS-CHGQ_6253  Turno de mañana  ...       Leve   Mantenimiento\n",
              "1       HS-CHGQ_6813  Turno de mañana  ...  Muy grave   Mantenimiento\n",
              "2       HS-CHGQ_6814  Turno de mañana  ...  Muy grave   Mantenimiento\n",
              "3       HS-CHGQ_6138  Turno de mañana  ...      Grave   Mantenimiento\n",
              "4       HS-CHGQ_6139   Turno de tarde  ...      Grave   Mantenimiento\n",
              "\n",
              "[5 rows x 18 columns]"
            ]
          },
          "metadata": {
            "tags": []
          },
          "execution_count": 78
        }
      ]
    },
    {
      "cell_type": "markdown",
      "metadata": {
        "id": "-m9oOgwJacnG"
      },
      "source": [
        "Now we are going to generate the other part of our staff dataframe which contains those people who havent had an accident"
      ]
    },
    {
      "cell_type": "code",
      "metadata": {
        "colab": {
          "base_uri": "https://localhost:8080/"
        },
        "id": "gowwbtslabDt",
        "outputId": "77b7c3f6-0a94-4367-c503-108066dca817"
      },
      "source": [
        "len(staff)"
      ],
      "execution_count": 79,
      "outputs": [
        {
          "output_type": "execute_result",
          "data": {
            "text/plain": [
              "4180"
            ]
          },
          "metadata": {
            "tags": []
          },
          "execution_count": 79
        }
      ]
    },
    {
      "cell_type": "code",
      "metadata": {
        "colab": {
          "base_uri": "https://localhost:8080/"
        },
        "id": "TTFXyWaHalgl",
        "outputId": "1cc4439d-0199-4ea0-d2cd-1eb7ef82c5cc"
      },
      "source": [
        "employees = rrhh_plant[['Año', 'Mes', 'Empleados Propios', 'Empleados Ajenos','Empleados ETTS','Empleados Subcontrata']]\n",
        "employees  = employees[employees['Mes']=='ENE']\n",
        "\n",
        "employees['Total'] = employees['Empleados Propios'] + employees['Empleados Ajenos'] + employees['Empleados ETTS'] + employees['Empleados Subcontrata']\n",
        "\n",
        "employees = employees.groupby(['Año', 'Mes']).agg('sum')\n",
        "employees['Total']"
      ],
      "execution_count": 80,
      "outputs": [
        {
          "output_type": "execute_result",
          "data": {
            "text/plain": [
              "Año     Mes\n",
              "2020.0  ENE    7070.0\n",
              "Name: Total, dtype: float64"
            ]
          },
          "metadata": {
            "tags": []
          },
          "execution_count": 80
        }
      ]
    },
    {
      "cell_type": "markdown",
      "metadata": {
        "id": "kKOZcETNbunM"
      },
      "source": [
        "So the number of employees in 2020 7070 and we are going to take that as reference. \n",
        "\n",
        "As we are taking 3 years of accidents we are going to have the same proportion on the staff to be able to evaluate it. So our total number of employees in the staff table will be 21.210, 4180 accidents. \n",
        "\n",
        "We are going to generate now the 17030 employees who didnt have any accident"
      ]
    },
    {
      "cell_type": "code",
      "metadata": {
        "colab": {
          "base_uri": "https://localhost:8080/",
          "height": 101
        },
        "id": "K7CTv67ybpku",
        "outputId": "27d253f3-c296-4a6c-ce34-f43e07f32f11"
      },
      "source": [
        "staff_without = pd.DataFrame(columns=staff.columns)\n",
        "\n",
        "staff_without"
      ],
      "execution_count": 81,
      "outputs": [
        {
          "output_type": "execute_result",
          "data": {
            "text/html": [
              "<div>\n",
              "<style scoped>\n",
              "    .dataframe tbody tr th:only-of-type {\n",
              "        vertical-align: middle;\n",
              "    }\n",
              "\n",
              "    .dataframe tbody tr th {\n",
              "        vertical-align: top;\n",
              "    }\n",
              "\n",
              "    .dataframe thead th {\n",
              "        text-align: right;\n",
              "    }\n",
              "</style>\n",
              "<table border=\"1\" class=\"dataframe\">\n",
              "  <thead>\n",
              "    <tr style=\"text-align: right;\">\n",
              "      <th></th>\n",
              "      <th>Codigo accidentado</th>\n",
              "      <th>Turno</th>\n",
              "      <th>Gender</th>\n",
              "      <th>Planta</th>\n",
              "      <th>Tipo accidente</th>\n",
              "      <th>Tipo trabajador</th>\n",
              "      <th>Fabrica</th>\n",
              "      <th>Tecnología</th>\n",
              "      <th>Pais</th>\n",
              "      <th>Horas Presencia Efectiva Subcontratados</th>\n",
              "      <th>Horas Presencia Efectiva ETTs</th>\n",
              "      <th>Horas Formacion Seguridad Propios</th>\n",
              "      <th>Horas Formacion Seguridad ETTs</th>\n",
              "      <th>Accident</th>\n",
              "      <th>wk_position</th>\n",
              "      <th>Age</th>\n",
              "      <th>Severity</th>\n",
              "      <th>Accident_place</th>\n",
              "    </tr>\n",
              "  </thead>\n",
              "  <tbody>\n",
              "  </tbody>\n",
              "</table>\n",
              "</div>"
            ],
            "text/plain": [
              "Empty DataFrame\n",
              "Columns: [Codigo accidentado, Turno, Gender, Planta, Tipo accidente, Tipo trabajador, Fabrica, Tecnología, Pais, Horas Presencia Efectiva Subcontratados, Horas Presencia Efectiva ETTs, Horas Formacion Seguridad Propios, Horas Formacion Seguridad ETTs, Accident, wk_position, Age, Severity, Accident_place]\n",
              "Index: []"
            ]
          },
          "metadata": {
            "tags": []
          },
          "execution_count": 81
        }
      ]
    },
    {
      "cell_type": "code",
      "metadata": {
        "id": "ri3Y2pTadv2_"
      },
      "source": [
        "def create_rndm(values, column):\n",
        "  staff_without[column] = np.random.choice(values, size=17030)"
      ],
      "execution_count": 82,
      "outputs": []
    },
    {
      "cell_type": "code",
      "metadata": {
        "id": "QyymGdVpdM4q"
      },
      "source": [
        "turno  = ['Turno de mañana', 'Turno de tarde', 'Turno de noche']\n",
        "\n",
        "create_rndm(turno, 'Turno')"
      ],
      "execution_count": 83,
      "outputs": []
    },
    {
      "cell_type": "markdown",
      "metadata": {
        "id": "s2qZ8uByiG-6"
      },
      "source": [
        "To create the gender columns we are going to apply weights based on the data we had from staff"
      ]
    },
    {
      "cell_type": "code",
      "metadata": {
        "id": "1oPrbFJNiLQs"
      },
      "source": [
        "gender = ['Hombre', 'Mujer']\n",
        "weights = [0.90,0.1]\n",
        "\n",
        "np.random.seed(0)\n",
        "\n",
        "staff_without['Gender'] = random.choices(gender, weights=weights, k=len(staff_without))"
      ],
      "execution_count": 84,
      "outputs": []
    },
    {
      "cell_type": "code",
      "metadata": {
        "id": "f7ffOH-IeHwT"
      },
      "source": [
        "planta_list = staff.Planta.unique()\n",
        "create_rndm(planta_list, 'Planta')"
      ],
      "execution_count": 85,
      "outputs": []
    },
    {
      "cell_type": "code",
      "metadata": {
        "colab": {
          "base_uri": "https://localhost:8080/",
          "height": 167
        },
        "id": "kivrUdyydscS",
        "outputId": "f4767c65-c6a9-4e66-8cad-f07ac3300561"
      },
      "source": [
        "staff_without.head(1)"
      ],
      "execution_count": 86,
      "outputs": [
        {
          "output_type": "execute_result",
          "data": {
            "text/html": [
              "<div>\n",
              "<style scoped>\n",
              "    .dataframe tbody tr th:only-of-type {\n",
              "        vertical-align: middle;\n",
              "    }\n",
              "\n",
              "    .dataframe tbody tr th {\n",
              "        vertical-align: top;\n",
              "    }\n",
              "\n",
              "    .dataframe thead th {\n",
              "        text-align: right;\n",
              "    }\n",
              "</style>\n",
              "<table border=\"1\" class=\"dataframe\">\n",
              "  <thead>\n",
              "    <tr style=\"text-align: right;\">\n",
              "      <th></th>\n",
              "      <th>Codigo accidentado</th>\n",
              "      <th>Turno</th>\n",
              "      <th>Gender</th>\n",
              "      <th>Planta</th>\n",
              "      <th>Tipo accidente</th>\n",
              "      <th>Tipo trabajador</th>\n",
              "      <th>Fabrica</th>\n",
              "      <th>Tecnología</th>\n",
              "      <th>Pais</th>\n",
              "      <th>Horas Presencia Efectiva Subcontratados</th>\n",
              "      <th>Horas Presencia Efectiva ETTs</th>\n",
              "      <th>Horas Formacion Seguridad Propios</th>\n",
              "      <th>Horas Formacion Seguridad ETTs</th>\n",
              "      <th>Accident</th>\n",
              "      <th>wk_position</th>\n",
              "      <th>Age</th>\n",
              "      <th>Severity</th>\n",
              "      <th>Accident_place</th>\n",
              "    </tr>\n",
              "  </thead>\n",
              "  <tbody>\n",
              "    <tr>\n",
              "      <th>0</th>\n",
              "      <td>NaN</td>\n",
              "      <td>Turno de tarde</td>\n",
              "      <td>Hombre</td>\n",
              "      <td>45</td>\n",
              "      <td>NaN</td>\n",
              "      <td>NaN</td>\n",
              "      <td>NaN</td>\n",
              "      <td>NaN</td>\n",
              "      <td>NaN</td>\n",
              "      <td>NaN</td>\n",
              "      <td>NaN</td>\n",
              "      <td>NaN</td>\n",
              "      <td>NaN</td>\n",
              "      <td>NaN</td>\n",
              "      <td>NaN</td>\n",
              "      <td>NaN</td>\n",
              "      <td>NaN</td>\n",
              "      <td>NaN</td>\n",
              "    </tr>\n",
              "  </tbody>\n",
              "</table>\n",
              "</div>"
            ],
            "text/plain": [
              "  Codigo accidentado           Turno  Gender  ...  Age Severity Accident_place\n",
              "0                NaN  Turno de tarde  Hombre  ...  NaN      NaN            NaN\n",
              "\n",
              "[1 rows x 18 columns]"
            ]
          },
          "metadata": {
            "tags": []
          },
          "execution_count": 86
        }
      ]
    },
    {
      "cell_type": "code",
      "metadata": {
        "id": "fSFpEuogew86"
      },
      "source": [
        "staff_without.drop(columns={'Fabrica', 'Tecnología', 'Pais'}, inplace=True)"
      ],
      "execution_count": 87,
      "outputs": []
    },
    {
      "cell_type": "code",
      "metadata": {
        "colab": {
          "base_uri": "https://localhost:8080/",
          "height": 198
        },
        "id": "J3ZC3VJ4eatF",
        "outputId": "c68117fd-c30c-4240-dea2-8a9291a843d0"
      },
      "source": [
        "staff_without = staff_without.merge(planta, left_on='Planta', right_on='ID', how='left')\n",
        "staff_without.head(2)"
      ],
      "execution_count": 88,
      "outputs": [
        {
          "output_type": "execute_result",
          "data": {
            "text/html": [
              "<div>\n",
              "<style scoped>\n",
              "    .dataframe tbody tr th:only-of-type {\n",
              "        vertical-align: middle;\n",
              "    }\n",
              "\n",
              "    .dataframe tbody tr th {\n",
              "        vertical-align: top;\n",
              "    }\n",
              "\n",
              "    .dataframe thead th {\n",
              "        text-align: right;\n",
              "    }\n",
              "</style>\n",
              "<table border=\"1\" class=\"dataframe\">\n",
              "  <thead>\n",
              "    <tr style=\"text-align: right;\">\n",
              "      <th></th>\n",
              "      <th>Codigo accidentado</th>\n",
              "      <th>Turno</th>\n",
              "      <th>Gender</th>\n",
              "      <th>Planta</th>\n",
              "      <th>Tipo accidente</th>\n",
              "      <th>Tipo trabajador</th>\n",
              "      <th>Horas Presencia Efectiva Subcontratados</th>\n",
              "      <th>Horas Presencia Efectiva ETTs</th>\n",
              "      <th>Horas Formacion Seguridad Propios</th>\n",
              "      <th>Horas Formacion Seguridad ETTs</th>\n",
              "      <th>Accident</th>\n",
              "      <th>wk_position</th>\n",
              "      <th>Age</th>\n",
              "      <th>Severity</th>\n",
              "      <th>Accident_place</th>\n",
              "      <th>ID</th>\n",
              "      <th>Fabrica</th>\n",
              "      <th>Tecnología</th>\n",
              "      <th>Pais</th>\n",
              "    </tr>\n",
              "  </thead>\n",
              "  <tbody>\n",
              "    <tr>\n",
              "      <th>0</th>\n",
              "      <td>NaN</td>\n",
              "      <td>Turno de tarde</td>\n",
              "      <td>Hombre</td>\n",
              "      <td>45</td>\n",
              "      <td>NaN</td>\n",
              "      <td>NaN</td>\n",
              "      <td>NaN</td>\n",
              "      <td>NaN</td>\n",
              "      <td>NaN</td>\n",
              "      <td>NaN</td>\n",
              "      <td>NaN</td>\n",
              "      <td>NaN</td>\n",
              "      <td>NaN</td>\n",
              "      <td>NaN</td>\n",
              "      <td>NaN</td>\n",
              "      <td>45</td>\n",
              "      <td>Asturias</td>\n",
              "      <td>Decapado</td>\n",
              "      <td>España</td>\n",
              "    </tr>\n",
              "    <tr>\n",
              "      <th>1</th>\n",
              "      <td>NaN</td>\n",
              "      <td>Turno de mañana</td>\n",
              "      <td>Hombre</td>\n",
              "      <td>4</td>\n",
              "      <td>NaN</td>\n",
              "      <td>NaN</td>\n",
              "      <td>NaN</td>\n",
              "      <td>NaN</td>\n",
              "      <td>NaN</td>\n",
              "      <td>NaN</td>\n",
              "      <td>NaN</td>\n",
              "      <td>NaN</td>\n",
              "      <td>NaN</td>\n",
              "      <td>NaN</td>\n",
              "      <td>NaN</td>\n",
              "      <td>4</td>\n",
              "      <td>Arizona</td>\n",
              "      <td>Células Soldadura</td>\n",
              "      <td>EEUU</td>\n",
              "    </tr>\n",
              "  </tbody>\n",
              "</table>\n",
              "</div>"
            ],
            "text/plain": [
              "  Codigo accidentado            Turno  ...         Tecnología    Pais\n",
              "0                NaN   Turno de tarde  ...           Decapado  España\n",
              "1                NaN  Turno de mañana  ...  Células Soldadura    EEUU\n",
              "\n",
              "[2 rows x 19 columns]"
            ]
          },
          "metadata": {
            "tags": []
          },
          "execution_count": 88
        }
      ]
    },
    {
      "cell_type": "code",
      "metadata": {
        "colab": {
          "base_uri": "https://localhost:8080/"
        },
        "id": "LtatiQe0fEDE",
        "outputId": "7fde66b3-06ad-4388-c9f8-5dc424a35944"
      },
      "source": [
        "len(staff_without)"
      ],
      "execution_count": 89,
      "outputs": [
        {
          "output_type": "execute_result",
          "data": {
            "text/plain": [
              "17030"
            ]
          },
          "metadata": {
            "tags": []
          },
          "execution_count": 89
        }
      ]
    },
    {
      "cell_type": "code",
      "metadata": {
        "id": "TGEK4TxjfTJ8"
      },
      "source": [
        "tipo_trabj = staff['Tipo trabajador'].unique()\n",
        "create_rndm(tipo_trabj, 'Tipo trabajador')"
      ],
      "execution_count": 90,
      "outputs": []
    },
    {
      "cell_type": "code",
      "metadata": {
        "id": "TdOr-faWftMD"
      },
      "source": [
        "staff_without.drop(columns=['Horas Presencia Efectiva Subcontratados','Horas Presencia Efectiva ETTs', 'Horas Formacion Seguridad Propios', 'Horas Formacion Seguridad ETTs' ], inplace=True)"
      ],
      "execution_count": 91,
      "outputs": []
    },
    {
      "cell_type": "code",
      "metadata": {
        "id": "QI2kNL0HfpLq"
      },
      "source": [
        "staff_without = staff_without.merge(trainning_hours, on='Fabrica', how='left')"
      ],
      "execution_count": 92,
      "outputs": []
    },
    {
      "cell_type": "code",
      "metadata": {
        "id": "7ZN2fwdQgXNf"
      },
      "source": [
        "staff_without.drop(columns={'ID'}, inplace=True)"
      ],
      "execution_count": 93,
      "outputs": []
    },
    {
      "cell_type": "code",
      "metadata": {
        "id": "bquZP8TKgcAF"
      },
      "source": [
        "staff_without['Accident'] = 'No'"
      ],
      "execution_count": 94,
      "outputs": []
    },
    {
      "cell_type": "code",
      "metadata": {
        "id": "HNyZT-0bgr1v"
      },
      "source": [
        "pos_wk = staff['wk_position'].unique()\n",
        "\n",
        "create_rndm(pos_wk, 'wk_position')"
      ],
      "execution_count": 95,
      "outputs": []
    },
    {
      "cell_type": "code",
      "metadata": {
        "id": "K5XiOFCKhGDc"
      },
      "source": [
        "rangos_edad = ['Menor 30', 'Entre 30-50', 'Mayor 50']\n",
        "weights = {'Hombre':[0.2, 0.44, 0.36], 'Mujer':[0.2,0.55,0.25]}\n",
        "\n",
        "np.random.seed(0)\n",
        "\n",
        "staff_without['Age'] = staff_without.groupby('Gender').apply(apply_randoms)\\\n",
        "       .rename('Age').reset_index().drop('level_1', 1)['Age']"
      ],
      "execution_count": 96,
      "outputs": []
    },
    {
      "cell_type": "code",
      "metadata": {
        "id": "XckpSlJ4h5Be"
      },
      "source": [
        "place = staff['Accident_place'].unique()\n",
        "\n",
        "create_rndm(place, 'Accident_place')"
      ],
      "execution_count": 97,
      "outputs": []
    },
    {
      "cell_type": "code",
      "metadata": {
        "colab": {
          "base_uri": "https://localhost:8080/",
          "height": 215
        },
        "id": "28GRajdlfQOG",
        "outputId": "3139890c-e24c-490c-e115-0adf8cca11f8"
      },
      "source": [
        "staff_without.head(2) ##cod accidentado is the only column we are going to leave blank as these employees doestn have any accident"
      ],
      "execution_count": 98,
      "outputs": [
        {
          "output_type": "execute_result",
          "data": {
            "text/html": [
              "<div>\n",
              "<style scoped>\n",
              "    .dataframe tbody tr th:only-of-type {\n",
              "        vertical-align: middle;\n",
              "    }\n",
              "\n",
              "    .dataframe tbody tr th {\n",
              "        vertical-align: top;\n",
              "    }\n",
              "\n",
              "    .dataframe thead th {\n",
              "        text-align: right;\n",
              "    }\n",
              "</style>\n",
              "<table border=\"1\" class=\"dataframe\">\n",
              "  <thead>\n",
              "    <tr style=\"text-align: right;\">\n",
              "      <th></th>\n",
              "      <th>Codigo accidentado</th>\n",
              "      <th>Turno</th>\n",
              "      <th>Gender</th>\n",
              "      <th>Planta</th>\n",
              "      <th>Tipo accidente</th>\n",
              "      <th>Tipo trabajador</th>\n",
              "      <th>Accident</th>\n",
              "      <th>wk_position</th>\n",
              "      <th>Age</th>\n",
              "      <th>Severity</th>\n",
              "      <th>Accident_place</th>\n",
              "      <th>Fabrica</th>\n",
              "      <th>Tecnología</th>\n",
              "      <th>Pais</th>\n",
              "      <th>Horas Presencia Efectiva Subcontratados</th>\n",
              "      <th>Horas Presencia Efectiva ETTs</th>\n",
              "      <th>Horas Formacion Seguridad Propios</th>\n",
              "      <th>Horas Formacion Seguridad ETTs</th>\n",
              "    </tr>\n",
              "  </thead>\n",
              "  <tbody>\n",
              "    <tr>\n",
              "      <th>0</th>\n",
              "      <td>NaN</td>\n",
              "      <td>Turno de tarde</td>\n",
              "      <td>Hombre</td>\n",
              "      <td>45</td>\n",
              "      <td>NaN</td>\n",
              "      <td>Duración Determinada</td>\n",
              "      <td>No</td>\n",
              "      <td>Carga y descarga vagones</td>\n",
              "      <td>Entre 30-50</td>\n",
              "      <td>NaN</td>\n",
              "      <td>Mantenimiento</td>\n",
              "      <td>Asturias</td>\n",
              "      <td>Decapado</td>\n",
              "      <td>España</td>\n",
              "      <td>NaN</td>\n",
              "      <td>NaN</td>\n",
              "      <td>NaN</td>\n",
              "      <td>NaN</td>\n",
              "    </tr>\n",
              "    <tr>\n",
              "      <th>1</th>\n",
              "      <td>NaN</td>\n",
              "      <td>Turno de mañana</td>\n",
              "      <td>Hombre</td>\n",
              "      <td>4</td>\n",
              "      <td>NaN</td>\n",
              "      <td>Prácticas</td>\n",
              "      <td>No</td>\n",
              "      <td>Titular TRANS003</td>\n",
              "      <td>Mayor 50</td>\n",
              "      <td>NaN</td>\n",
              "      <td>Mantenimiento</td>\n",
              "      <td>Arizona</td>\n",
              "      <td>Células Soldadura</td>\n",
              "      <td>EEUU</td>\n",
              "      <td>0.0</td>\n",
              "      <td>0.0</td>\n",
              "      <td>0.0</td>\n",
              "      <td>0.0</td>\n",
              "    </tr>\n",
              "  </tbody>\n",
              "</table>\n",
              "</div>"
            ],
            "text/plain": [
              "  Codigo accidentado  ... Horas Formacion Seguridad ETTs\n",
              "0                NaN  ...                            NaN\n",
              "1                NaN  ...                            0.0\n",
              "\n",
              "[2 rows x 18 columns]"
            ]
          },
          "metadata": {
            "tags": []
          },
          "execution_count": 98
        }
      ]
    },
    {
      "cell_type": "markdown",
      "metadata": {
        "id": "cGvHis4sjMCz"
      },
      "source": [
        "Now we are going to concat both dataframes on a resulting dataframe with length of 21.210"
      ]
    },
    {
      "cell_type": "code",
      "metadata": {
        "colab": {
          "base_uri": "https://localhost:8080/"
        },
        "id": "K32u2TrXg8O6",
        "outputId": "35eb7a99-b15b-4432-cb2c-0c1687f696c7"
      },
      "source": [
        "staff = pd.concat([staff, staff_without])\n",
        "len(staff)"
      ],
      "execution_count": 99,
      "outputs": [
        {
          "output_type": "execute_result",
          "data": {
            "text/plain": [
              "21210"
            ]
          },
          "metadata": {
            "tags": []
          },
          "execution_count": 99
        }
      ]
    },
    {
      "cell_type": "code",
      "metadata": {
        "colab": {
          "base_uri": "https://localhost:8080/"
        },
        "id": "524rnVKLFEl9",
        "outputId": "edfda645-809d-41e8-d5d5-a0155f383c1f"
      },
      "source": [
        "staff.iloc[0]"
      ],
      "execution_count": 100,
      "outputs": [
        {
          "output_type": "execute_result",
          "data": {
            "text/plain": [
              "Codigo accidentado                                  HS-CHGQ_6253\n",
              "Turno                                            Turno de mañana\n",
              "Gender                                                    Hombre\n",
              "Planta                                                        45\n",
              "Tipo accidente                                         Incidente\n",
              "Tipo trabajador                            Incidente (no aplica)\n",
              "Fabrica                                                 Asturias\n",
              "Tecnología                                              Decapado\n",
              "Pais                                                      España\n",
              "Horas Presencia Efectiva Subcontratados                        0\n",
              "Horas Presencia Efectiva ETTs                                  0\n",
              "Horas Formacion Seguridad Propios                              0\n",
              "Horas Formacion Seguridad ETTs                                 0\n",
              "Accident                                                     Yes\n",
              "wk_position                                           EMABALADOR\n",
              "Age                                                  Entre 30-50\n",
              "Severity                                                    Leve\n",
              "Accident_place                                     Mantenimiento\n",
              "Name: 0, dtype: object"
            ]
          },
          "metadata": {
            "tags": []
          },
          "execution_count": 100
        }
      ]
    },
    {
      "cell_type": "code",
      "metadata": {
        "colab": {
          "base_uri": "https://localhost:8080/",
          "height": 17
        },
        "id": "eRSaepnedK6x",
        "outputId": "206b0f13-25b5-4495-f363-0ab12692bf16"
      },
      "source": [
        "from google.colab import files\n",
        "\n",
        "staff.to_csv('Total_staff_by_employee.csv', sep=';')\n",
        "files.download(\"Total_staff_by_employee.csv\")"
      ],
      "execution_count": null,
      "outputs": [
        {
          "output_type": "display_data",
          "data": {
            "application/javascript": [
              "\n",
              "    async function download(id, filename, size) {\n",
              "      if (!google.colab.kernel.accessAllowed) {\n",
              "        return;\n",
              "      }\n",
              "      const div = document.createElement('div');\n",
              "      const label = document.createElement('label');\n",
              "      label.textContent = `Downloading \"${filename}\": `;\n",
              "      div.appendChild(label);\n",
              "      const progress = document.createElement('progress');\n",
              "      progress.max = size;\n",
              "      div.appendChild(progress);\n",
              "      document.body.appendChild(div);\n",
              "\n",
              "      const buffers = [];\n",
              "      let downloaded = 0;\n",
              "\n",
              "      const channel = await google.colab.kernel.comms.open(id);\n",
              "      // Send a message to notify the kernel that we're ready.\n",
              "      channel.send({})\n",
              "\n",
              "      for await (const message of channel.messages) {\n",
              "        // Send a message to notify the kernel that we're ready.\n",
              "        channel.send({})\n",
              "        if (message.buffers) {\n",
              "          for (const buffer of message.buffers) {\n",
              "            buffers.push(buffer);\n",
              "            downloaded += buffer.byteLength;\n",
              "            progress.value = downloaded;\n",
              "          }\n",
              "        }\n",
              "      }\n",
              "      const blob = new Blob(buffers, {type: 'application/binary'});\n",
              "      const a = document.createElement('a');\n",
              "      a.href = window.URL.createObjectURL(blob);\n",
              "      a.download = filename;\n",
              "      div.appendChild(a);\n",
              "      a.click();\n",
              "      div.remove();\n",
              "    }\n",
              "  "
            ],
            "text/plain": [
              "<IPython.core.display.Javascript object>"
            ]
          },
          "metadata": {
            "tags": []
          }
        },
        {
          "output_type": "display_data",
          "data": {
            "application/javascript": [
              "download(\"download_1146e059-9840-4f8e-9e50-60cc716037f4\", \"Total_staff_by_employee.csv\", 3204452)"
            ],
            "text/plain": [
              "<IPython.core.display.Javascript object>"
            ]
          },
          "metadata": {
            "tags": []
          }
        }
      ]
    }
  ]
}