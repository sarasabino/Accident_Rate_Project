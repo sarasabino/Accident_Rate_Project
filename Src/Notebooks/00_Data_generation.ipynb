{
  "nbformat": 4,
  "nbformat_minor": 0,
  "metadata": {
    "colab": {
      "name": "00_Data_generation.ipynb",
      "provenance": [],
      "mount_file_id": "18MOCeNlI0OqA7MkkYVcWzKC5s8ijnAd4",
      "authorship_tag": "ABX9TyNz4QQHEY3iX8jwWwI9IvHY",
      "include_colab_link": true
    },
    "kernelspec": {
      "name": "python3",
      "display_name": "Python 3"
    },
    "language_info": {
      "name": "python"
    }
  },
  "cells": [
    {
      "cell_type": "markdown",
      "metadata": {
        "id": "view-in-github",
        "colab_type": "text"
      },
      "source": [
        "<a href=\"https://colab.research.google.com/github/sarasabino/Accident_Rate_Project/blob/main/Src/Notebooks/00_Data_generation.ipynb\" target=\"_parent\"><img src=\"https://colab.research.google.com/assets/colab-badge.svg\" alt=\"Open In Colab\"/></a>"
      ]
    },
    {
      "cell_type": "markdown",
      "metadata": {
        "id": "tfPS3xuQU1MA"
      },
      "source": [
        "## Data Generation\n",
        "\n",
        "Although we have the data from the accidents occurred at the company we need to have the data from the staff with its characteristics to be able to develop a machine learning algorithm. \n",
        "\n",
        "The idea is to generate fake data to be able to perform the algorithm and then when data is real we can apply it.\n",
        "\n",
        "For that purpose we are going to generate a csv file with the staff of the company. \n",
        "\n",
        "We are going to assume this is the static company's staff."
      ]
    },
    {
      "cell_type": "code",
      "metadata": {
        "id": "KGd4qTHoUv2G"
      },
      "source": [
        "! cp /content/drive/MyDrive/'Colab Notebooks'/'TFM Accidentabilidad'/Data/HS_Accidentabilidad.csv .\n",
        "! cp /content/drive/MyDrive/'Colab Notebooks'/'TFM Accidentabilidad'/Data/'G_Plantas y Tech'.csv .\n",
        "! cp /content/drive/MyDrive/'Colab Notebooks'/'TFM Accidentabilidad'/Data/Datos_plantilla_fabrica.csv .\n",
        "\n",
        "\n"
      ],
      "execution_count": 407,
      "outputs": []
    },
    {
      "cell_type": "markdown",
      "metadata": {
        "id": "tHkkk17yXuQa"
      },
      "source": [
        "We are going to upload the accidents data we have"
      ]
    },
    {
      "cell_type": "code",
      "metadata": {
        "id": "KfBhfVGnXiG2"
      },
      "source": [
        "import pandas as pd\n",
        "\n",
        "accidentes = pd.read_csv('HS_Accidentabilidad.csv', sep=';')\n",
        "\n",
        "accidentes = accidentes[(accidentes['Año']== 2018) | (accidentes['Año']==2019) | (accidentes['Año']==2020) ]"
      ],
      "execution_count": 408,
      "outputs": []
    },
    {
      "cell_type": "code",
      "metadata": {
        "colab": {
          "base_uri": "https://localhost:8080/"
        },
        "id": "3Ale6fXJjE8f",
        "outputId": "c234a69a-68c5-44c2-e838-ab4b6e7034ee"
      },
      "source": [
        "len(accidentes)"
      ],
      "execution_count": 409,
      "outputs": [
        {
          "output_type": "execute_result",
          "data": {
            "text/plain": [
              "4180"
            ]
          },
          "metadata": {
            "tags": []
          },
          "execution_count": 409
        }
      ]
    },
    {
      "cell_type": "code",
      "metadata": {
        "colab": {
          "base_uri": "https://localhost:8080/"
        },
        "id": "2DlQRjYaX5G7",
        "outputId": "1b61494e-5c1d-475a-83e6-d470755d7f36"
      },
      "source": [
        "accidentes['Gravedad potencial']"
      ],
      "execution_count": 410,
      "outputs": [
        {
          "output_type": "execute_result",
          "data": {
            "text/plain": [
              "2057    Muy grave\n",
              "2062         Leve\n",
              "2063         Leve\n",
              "2064         Leve\n",
              "2065         Leve\n",
              "          ...    \n",
              "7200          NaN\n",
              "7430          NaN\n",
              "7436          NaN\n",
              "7580          NaN\n",
              "7581          NaN\n",
              "Name: Gravedad potencial, Length: 4180, dtype: object"
            ]
          },
          "metadata": {
            "tags": []
          },
          "execution_count": 410
        }
      ]
    },
    {
      "cell_type": "code",
      "metadata": {
        "colab": {
          "base_uri": "https://localhost:8080/",
          "height": 296
        },
        "id": "GyMVvB9rX7C9",
        "outputId": "5d10c6b9-e05d-4a7f-c6e4-183ab582f2ce"
      },
      "source": [
        "staff = accidentes[['Codigo accidentado', 'Puesto habitual de trabajo','Turno','Edad','Género','Planta', 'Tipo accidente', 'Tipo trabajador', 'Gravedad potencial', 'Lugar o seccion accidente']]\n",
        "staff.head()"
      ],
      "execution_count": 411,
      "outputs": [
        {
          "output_type": "execute_result",
          "data": {
            "text/html": [
              "<div>\n",
              "<style scoped>\n",
              "    .dataframe tbody tr th:only-of-type {\n",
              "        vertical-align: middle;\n",
              "    }\n",
              "\n",
              "    .dataframe tbody tr th {\n",
              "        vertical-align: top;\n",
              "    }\n",
              "\n",
              "    .dataframe thead th {\n",
              "        text-align: right;\n",
              "    }\n",
              "</style>\n",
              "<table border=\"1\" class=\"dataframe\">\n",
              "  <thead>\n",
              "    <tr style=\"text-align: right;\">\n",
              "      <th></th>\n",
              "      <th>Codigo accidentado</th>\n",
              "      <th>Puesto habitual de trabajo</th>\n",
              "      <th>Turno</th>\n",
              "      <th>Edad</th>\n",
              "      <th>Género</th>\n",
              "      <th>Planta</th>\n",
              "      <th>Tipo accidente</th>\n",
              "      <th>Tipo trabajador</th>\n",
              "      <th>Gravedad potencial</th>\n",
              "      <th>Lugar o seccion accidente</th>\n",
              "    </tr>\n",
              "  </thead>\n",
              "  <tbody>\n",
              "    <tr>\n",
              "      <th>2057</th>\n",
              "      <td>HS-CLMB_2546</td>\n",
              "      <td>Operario de Puente Grúa</td>\n",
              "      <td>Turno de mañana</td>\n",
              "      <td>31</td>\n",
              "      <td>Hombre</td>\n",
              "      <td>20</td>\n",
              "      <td>Accidente c/b</td>\n",
              "      <td>ETT</td>\n",
              "      <td>Muy grave</td>\n",
              "      <td>Células Soldadura</td>\n",
              "    </tr>\n",
              "    <tr>\n",
              "      <th>2062</th>\n",
              "      <td>HS-CEPA_2563</td>\n",
              "      <td>Engraving</td>\n",
              "      <td>Turno de mañana</td>\n",
              "      <td>35</td>\n",
              "      <td>Hombre</td>\n",
              "      <td>19</td>\n",
              "      <td>Accidente c/b</td>\n",
              "      <td>Indefinido</td>\n",
              "      <td>Leve</td>\n",
              "      <td>Tubos</td>\n",
              "    </tr>\n",
              "    <tr>\n",
              "      <th>2063</th>\n",
              "      <td>HS-GNVT_2564</td>\n",
              "      <td>Titular L-8</td>\n",
              "      <td>Turno de tarde</td>\n",
              "      <td>54</td>\n",
              "      <td>Hombre</td>\n",
              "      <td>12</td>\n",
              "      <td>Accidente s/b</td>\n",
              "      <td>Duración Determinada</td>\n",
              "      <td>Leve</td>\n",
              "      <td>Tubos</td>\n",
              "    </tr>\n",
              "    <tr>\n",
              "      <th>2064</th>\n",
              "      <td>HS-GNVT_2565</td>\n",
              "      <td>Carretillero</td>\n",
              "      <td>Turno de mañana</td>\n",
              "      <td>NaN</td>\n",
              "      <td>Hombre</td>\n",
              "      <td>12</td>\n",
              "      <td>Incidente</td>\n",
              "      <td>ETT</td>\n",
              "      <td>Leve</td>\n",
              "      <td>Almacén de Producto Terminado</td>\n",
              "    </tr>\n",
              "    <tr>\n",
              "      <th>2065</th>\n",
              "      <td>HS-DNGG_2566</td>\n",
              "      <td>NaN</td>\n",
              "      <td>Turno de mañana</td>\n",
              "      <td>NaN</td>\n",
              "      <td>NaN</td>\n",
              "      <td>41</td>\n",
              "      <td>Incidente</td>\n",
              "      <td>Incidente (no aplica)</td>\n",
              "      <td>Leve</td>\n",
              "      <td>Blanking</td>\n",
              "    </tr>\n",
              "  </tbody>\n",
              "</table>\n",
              "</div>"
            ],
            "text/plain": [
              "     Codigo accidentado  ...      Lugar o seccion accidente\n",
              "2057       HS-CLMB_2546  ...              Células Soldadura\n",
              "2062       HS-CEPA_2563  ...                          Tubos\n",
              "2063       HS-GNVT_2564  ...                          Tubos\n",
              "2064       HS-GNVT_2565  ...  Almacén de Producto Terminado\n",
              "2065       HS-DNGG_2566  ...                       Blanking\n",
              "\n",
              "[5 rows x 10 columns]"
            ]
          },
          "metadata": {
            "tags": []
          },
          "execution_count": 411
        }
      ]
    },
    {
      "cell_type": "code",
      "metadata": {
        "colab": {
          "base_uri": "https://localhost:8080/",
          "height": 195
        },
        "id": "pKf83P3gZKU-",
        "outputId": "c7a25ef7-6ed0-4910-95b7-34e8a995b49d"
      },
      "source": [
        "planta = pd.read_csv('G_Plantas y Tech.csv', sep=';')\n",
        "planta.drop(columns={'Activo'}, inplace=True)\n",
        "planta.head()"
      ],
      "execution_count": 412,
      "outputs": [
        {
          "output_type": "execute_result",
          "data": {
            "text/html": [
              "<div>\n",
              "<style scoped>\n",
              "    .dataframe tbody tr th:only-of-type {\n",
              "        vertical-align: middle;\n",
              "    }\n",
              "\n",
              "    .dataframe tbody tr th {\n",
              "        vertical-align: top;\n",
              "    }\n",
              "\n",
              "    .dataframe thead th {\n",
              "        text-align: right;\n",
              "    }\n",
              "</style>\n",
              "<table border=\"1\" class=\"dataframe\">\n",
              "  <thead>\n",
              "    <tr style=\"text-align: right;\">\n",
              "      <th></th>\n",
              "      <th>ID</th>\n",
              "      <th>Fabrica</th>\n",
              "      <th>Tecnología</th>\n",
              "      <th>Pais</th>\n",
              "    </tr>\n",
              "  </thead>\n",
              "  <tbody>\n",
              "    <tr>\n",
              "      <th>0</th>\n",
              "      <td>1</td>\n",
              "      <td>Argentina</td>\n",
              "      <td>Blanking</td>\n",
              "      <td>Argentina</td>\n",
              "    </tr>\n",
              "    <tr>\n",
              "      <th>1</th>\n",
              "      <td>2</td>\n",
              "      <td>Argentina</td>\n",
              "      <td>Corte Longitudinal</td>\n",
              "      <td>Argentina</td>\n",
              "    </tr>\n",
              "    <tr>\n",
              "      <th>2</th>\n",
              "      <td>3</td>\n",
              "      <td>Argentina</td>\n",
              "      <td>Corte Transversal</td>\n",
              "      <td>Argentina</td>\n",
              "    </tr>\n",
              "    <tr>\n",
              "      <th>3</th>\n",
              "      <td>4</td>\n",
              "      <td>Arizona</td>\n",
              "      <td>Células Soldadura</td>\n",
              "      <td>EEUU</td>\n",
              "    </tr>\n",
              "    <tr>\n",
              "      <th>4</th>\n",
              "      <td>5</td>\n",
              "      <td>Arizona</td>\n",
              "      <td>Corte Láser</td>\n",
              "      <td>EEUU</td>\n",
              "    </tr>\n",
              "  </tbody>\n",
              "</table>\n",
              "</div>"
            ],
            "text/plain": [
              "   ID    Fabrica          Tecnología       Pais\n",
              "0   1  Argentina            Blanking  Argentina\n",
              "1   2  Argentina  Corte Longitudinal  Argentina\n",
              "2   3  Argentina   Corte Transversal  Argentina\n",
              "3   4    Arizona   Células Soldadura       EEUU\n",
              "4   5    Arizona         Corte Láser       EEUU"
            ]
          },
          "metadata": {
            "tags": []
          },
          "execution_count": 412
        }
      ]
    },
    {
      "cell_type": "code",
      "metadata": {
        "colab": {
          "base_uri": "https://localhost:8080/"
        },
        "id": "8iusKWB6ZiWh",
        "outputId": "b3815110-6f85-4228-9869-e714d74afc66"
      },
      "source": [
        "len(staff)"
      ],
      "execution_count": 413,
      "outputs": [
        {
          "output_type": "execute_result",
          "data": {
            "text/plain": [
              "4180"
            ]
          },
          "metadata": {
            "tags": []
          },
          "execution_count": 413
        }
      ]
    },
    {
      "cell_type": "code",
      "metadata": {
        "id": "ycAEG8ykZZi3"
      },
      "source": [
        "staff = staff.merge(planta, left_on='Planta', right_on='ID', how='left')\n"
      ],
      "execution_count": 414,
      "outputs": []
    },
    {
      "cell_type": "code",
      "metadata": {
        "colab": {
          "base_uri": "https://localhost:8080/",
          "height": 296
        },
        "id": "wOQez98xaDFQ",
        "outputId": "721383ff-3fe8-4b5f-d406-b9e26ca1cab3"
      },
      "source": [
        "staff.drop(columns={'ID'}, inplace=True)\n",
        "\n",
        "staff.head()"
      ],
      "execution_count": 415,
      "outputs": [
        {
          "output_type": "execute_result",
          "data": {
            "text/html": [
              "<div>\n",
              "<style scoped>\n",
              "    .dataframe tbody tr th:only-of-type {\n",
              "        vertical-align: middle;\n",
              "    }\n",
              "\n",
              "    .dataframe tbody tr th {\n",
              "        vertical-align: top;\n",
              "    }\n",
              "\n",
              "    .dataframe thead th {\n",
              "        text-align: right;\n",
              "    }\n",
              "</style>\n",
              "<table border=\"1\" class=\"dataframe\">\n",
              "  <thead>\n",
              "    <tr style=\"text-align: right;\">\n",
              "      <th></th>\n",
              "      <th>Codigo accidentado</th>\n",
              "      <th>Puesto habitual de trabajo</th>\n",
              "      <th>Turno</th>\n",
              "      <th>Edad</th>\n",
              "      <th>Género</th>\n",
              "      <th>Planta</th>\n",
              "      <th>Tipo accidente</th>\n",
              "      <th>Tipo trabajador</th>\n",
              "      <th>Gravedad potencial</th>\n",
              "      <th>Lugar o seccion accidente</th>\n",
              "      <th>Fabrica</th>\n",
              "      <th>Tecnología</th>\n",
              "      <th>Pais</th>\n",
              "    </tr>\n",
              "  </thead>\n",
              "  <tbody>\n",
              "    <tr>\n",
              "      <th>0</th>\n",
              "      <td>HS-CLMB_2546</td>\n",
              "      <td>Operario de Puente Grúa</td>\n",
              "      <td>Turno de mañana</td>\n",
              "      <td>31</td>\n",
              "      <td>Hombre</td>\n",
              "      <td>20</td>\n",
              "      <td>Accidente c/b</td>\n",
              "      <td>ETT</td>\n",
              "      <td>Muy grave</td>\n",
              "      <td>Células Soldadura</td>\n",
              "      <td>Burgos</td>\n",
              "      <td>Skinpass</td>\n",
              "      <td>España</td>\n",
              "    </tr>\n",
              "    <tr>\n",
              "      <th>1</th>\n",
              "      <td>HS-CEPA_2563</td>\n",
              "      <td>Engraving</td>\n",
              "      <td>Turno de mañana</td>\n",
              "      <td>35</td>\n",
              "      <td>Hombre</td>\n",
              "      <td>19</td>\n",
              "      <td>Accidente c/b</td>\n",
              "      <td>Indefinido</td>\n",
              "      <td>Leve</td>\n",
              "      <td>Tubos</td>\n",
              "      <td>Burgos</td>\n",
              "      <td>Recocido</td>\n",
              "      <td>España</td>\n",
              "    </tr>\n",
              "    <tr>\n",
              "      <th>2</th>\n",
              "      <td>HS-GNVT_2564</td>\n",
              "      <td>Titular L-8</td>\n",
              "      <td>Turno de tarde</td>\n",
              "      <td>54</td>\n",
              "      <td>Hombre</td>\n",
              "      <td>12</td>\n",
              "      <td>Accidente s/b</td>\n",
              "      <td>Duración Determinada</td>\n",
              "      <td>Leve</td>\n",
              "      <td>Tubos</td>\n",
              "      <td>Barcelona</td>\n",
              "      <td>Skinpass</td>\n",
              "      <td>España</td>\n",
              "    </tr>\n",
              "    <tr>\n",
              "      <th>3</th>\n",
              "      <td>HS-GNVT_2565</td>\n",
              "      <td>Carretillero</td>\n",
              "      <td>Turno de mañana</td>\n",
              "      <td>NaN</td>\n",
              "      <td>Hombre</td>\n",
              "      <td>12</td>\n",
              "      <td>Incidente</td>\n",
              "      <td>ETT</td>\n",
              "      <td>Leve</td>\n",
              "      <td>Almacén de Producto Terminado</td>\n",
              "      <td>Barcelona</td>\n",
              "      <td>Skinpass</td>\n",
              "      <td>España</td>\n",
              "    </tr>\n",
              "    <tr>\n",
              "      <th>4</th>\n",
              "      <td>HS-DNGG_2566</td>\n",
              "      <td>NaN</td>\n",
              "      <td>Turno de mañana</td>\n",
              "      <td>NaN</td>\n",
              "      <td>NaN</td>\n",
              "      <td>41</td>\n",
              "      <td>Incidente</td>\n",
              "      <td>Incidente (no aplica)</td>\n",
              "      <td>Leve</td>\n",
              "      <td>Blanking</td>\n",
              "      <td>Hiasa</td>\n",
              "      <td>Corte Láser</td>\n",
              "      <td>España</td>\n",
              "    </tr>\n",
              "  </tbody>\n",
              "</table>\n",
              "</div>"
            ],
            "text/plain": [
              "  Codigo accidentado Puesto habitual de trabajo  ...   Tecnología    Pais\n",
              "0       HS-CLMB_2546    Operario de Puente Grúa  ...     Skinpass  España\n",
              "1       HS-CEPA_2563                  Engraving  ...     Recocido  España\n",
              "2       HS-GNVT_2564                Titular L-8  ...     Skinpass  España\n",
              "3       HS-GNVT_2565               Carretillero  ...     Skinpass  España\n",
              "4       HS-DNGG_2566                        NaN  ...  Corte Láser  España\n",
              "\n",
              "[5 rows x 13 columns]"
            ]
          },
          "metadata": {
            "tags": []
          },
          "execution_count": 415
        }
      ]
    },
    {
      "cell_type": "code",
      "metadata": {
        "colab": {
          "base_uri": "https://localhost:8080/"
        },
        "id": "C63jEalecZG9",
        "outputId": "315ed096-83d7-4c33-fce9-c728d560e8f6"
      },
      "source": [
        "len(staff)"
      ],
      "execution_count": 416,
      "outputs": [
        {
          "output_type": "execute_result",
          "data": {
            "text/plain": [
              "4180"
            ]
          },
          "metadata": {
            "tags": []
          },
          "execution_count": 416
        }
      ]
    },
    {
      "cell_type": "markdown",
      "metadata": {
        "id": "t3mDNDyVap0l"
      },
      "source": [
        "Now we are going to upload some staff data to get the number of trainning hours per plant and have a reference of the quantity of empleados we want to generate. This data is aggregated so it is not valid for our analysis"
      ]
    },
    {
      "cell_type": "code",
      "metadata": {
        "colab": {
          "base_uri": "https://localhost:8080/"
        },
        "id": "VBXW__tUapZn",
        "outputId": "132bc003-16d4-4de3-9412-c31f260a0c2f"
      },
      "source": [
        "rrhh_plant = pd.read_csv('Datos_plantilla_fabrica.csv', sep=';')\n",
        "\n",
        "rrhh_plant['Año'].unique()"
      ],
      "execution_count": 417,
      "outputs": [
        {
          "output_type": "execute_result",
          "data": {
            "text/plain": [
              "array([2017., 2016., 2018., 2019.,   nan, 2020., 2021.])"
            ]
          },
          "metadata": {
            "tags": []
          },
          "execution_count": 417
        }
      ]
    },
    {
      "cell_type": "code",
      "metadata": {
        "id": "AYIu-lEjbJF5"
      },
      "source": [
        "# we are getting only 2020 for our analysis\n",
        "\n",
        "rrhh_plant = rrhh_plant[rrhh_plant['Año']==2020]\n"
      ],
      "execution_count": 418,
      "outputs": []
    },
    {
      "cell_type": "code",
      "metadata": {
        "colab": {
          "base_uri": "https://localhost:8080/",
          "height": 266
        },
        "id": "Tdw6rjhXbUPh",
        "outputId": "48867b56-638d-4449-9ff9-2f2aa9b475b4"
      },
      "source": [
        "rrhh_plant.head()"
      ],
      "execution_count": 419,
      "outputs": [
        {
          "output_type": "execute_result",
          "data": {
            "text/html": [
              "<div>\n",
              "<style scoped>\n",
              "    .dataframe tbody tr th:only-of-type {\n",
              "        vertical-align: middle;\n",
              "    }\n",
              "\n",
              "    .dataframe tbody tr th {\n",
              "        vertical-align: top;\n",
              "    }\n",
              "\n",
              "    .dataframe thead th {\n",
              "        text-align: right;\n",
              "    }\n",
              "</style>\n",
              "<table border=\"1\" class=\"dataframe\">\n",
              "  <thead>\n",
              "    <tr style=\"text-align: right;\">\n",
              "      <th></th>\n",
              "      <th>ID</th>\n",
              "      <th>Planta</th>\n",
              "      <th>Año</th>\n",
              "      <th>Mes</th>\n",
              "      <th>Empleados Propios</th>\n",
              "      <th>Empleados Ajenos</th>\n",
              "      <th>Empleados ETTS</th>\n",
              "      <th>Empleados Subcontrata</th>\n",
              "      <th>Horas Presencia Efectiva Propios</th>\n",
              "      <th>Horas Presencia Efectiva Subcontratados</th>\n",
              "      <th>Horas Presencia Efectiva ETTs</th>\n",
              "      <th>Horas Formacion Seguridad Propios</th>\n",
              "      <th>Horas Formacion Seguridad ETTs</th>\n",
              "      <th>Horas Formacion General Propios</th>\n",
              "      <th>Empleados Propios - indefinido</th>\n",
              "      <th>Empleados Propios - duración determinada</th>\n",
              "    </tr>\n",
              "  </thead>\n",
              "  <tbody>\n",
              "    <tr>\n",
              "      <th>2615</th>\n",
              "      <td>3819</td>\n",
              "      <td>Barcelona</td>\n",
              "      <td>2020.0</td>\n",
              "      <td>ENE</td>\n",
              "      <td>203.0</td>\n",
              "      <td>28.0</td>\n",
              "      <td>8.0</td>\n",
              "      <td>20.0</td>\n",
              "      <td>29770.30</td>\n",
              "      <td>3138.0</td>\n",
              "      <td>1307.5</td>\n",
              "      <td>15.0</td>\n",
              "      <td>23.0</td>\n",
              "      <td>211.0</td>\n",
              "      <td>189.0</td>\n",
              "      <td>14.0</td>\n",
              "    </tr>\n",
              "    <tr>\n",
              "      <th>2616</th>\n",
              "      <td>3820</td>\n",
              "      <td>Burgos</td>\n",
              "      <td>2020.0</td>\n",
              "      <td>ENE</td>\n",
              "      <td>239.0</td>\n",
              "      <td>68.0</td>\n",
              "      <td>28.0</td>\n",
              "      <td>40.0</td>\n",
              "      <td>32625.00</td>\n",
              "      <td>6487.0</td>\n",
              "      <td>4549.3</td>\n",
              "      <td>445.0</td>\n",
              "      <td>348.5</td>\n",
              "      <td>757.0</td>\n",
              "      <td>188.0</td>\n",
              "      <td>38.0</td>\n",
              "    </tr>\n",
              "    <tr>\n",
              "      <th>2617</th>\n",
              "      <td>3821</td>\n",
              "      <td>Tarragona</td>\n",
              "      <td>2020.0</td>\n",
              "      <td>ENE</td>\n",
              "      <td>49.0</td>\n",
              "      <td>17.0</td>\n",
              "      <td>5.0</td>\n",
              "      <td>12.0</td>\n",
              "      <td>8352.50</td>\n",
              "      <td>2080.0</td>\n",
              "      <td>862.0</td>\n",
              "      <td>8.0</td>\n",
              "      <td>12.0</td>\n",
              "      <td>111.0</td>\n",
              "      <td>46.0</td>\n",
              "      <td>3.0</td>\n",
              "    </tr>\n",
              "    <tr>\n",
              "      <th>2618</th>\n",
              "      <td>3822</td>\n",
              "      <td>Valencia</td>\n",
              "      <td>2020.0</td>\n",
              "      <td>ENE</td>\n",
              "      <td>153.0</td>\n",
              "      <td>28.0</td>\n",
              "      <td>24.0</td>\n",
              "      <td>3.0</td>\n",
              "      <td>22105.20</td>\n",
              "      <td>647.0</td>\n",
              "      <td>3968.3</td>\n",
              "      <td>8.0</td>\n",
              "      <td>6.0</td>\n",
              "      <td>35.5</td>\n",
              "      <td>139.0</td>\n",
              "      <td>2.0</td>\n",
              "    </tr>\n",
              "    <tr>\n",
              "      <th>2619</th>\n",
              "      <td>3823</td>\n",
              "      <td>Portugal</td>\n",
              "      <td>2020.0</td>\n",
              "      <td>ENE</td>\n",
              "      <td>99.0</td>\n",
              "      <td>12.0</td>\n",
              "      <td>10.0</td>\n",
              "      <td>2.0</td>\n",
              "      <td>16625.75</td>\n",
              "      <td>384.0</td>\n",
              "      <td>1866.5</td>\n",
              "      <td>80.0</td>\n",
              "      <td>32.5</td>\n",
              "      <td>514.0</td>\n",
              "      <td>72.0</td>\n",
              "      <td>28.0</td>\n",
              "    </tr>\n",
              "  </tbody>\n",
              "</table>\n",
              "</div>"
            ],
            "text/plain": [
              "        ID  ... Empleados Propios - duración determinada\n",
              "2615  3819  ...                                     14.0\n",
              "2616  3820  ...                                     38.0\n",
              "2617  3821  ...                                      3.0\n",
              "2618  3822  ...                                      2.0\n",
              "2619  3823  ...                                     28.0\n",
              "\n",
              "[5 rows x 16 columns]"
            ]
          },
          "metadata": {
            "tags": []
          },
          "execution_count": 419
        }
      ]
    },
    {
      "cell_type": "code",
      "metadata": {
        "id": "TUC8nVIObaIi"
      },
      "source": [
        "trainning_hours = rrhh_plant[['Planta','Horas Presencia Efectiva Subcontratados', 'Horas Presencia Efectiva ETTs', 'Horas Formacion Seguridad Propios', 'Horas Formacion Seguridad ETTs']]"
      ],
      "execution_count": 420,
      "outputs": []
    },
    {
      "cell_type": "code",
      "metadata": {
        "colab": {
          "base_uri": "https://localhost:8080/",
          "height": 161
        },
        "id": "CKCTghNybt4M",
        "outputId": "91fe7dae-8d57-4ef4-f2bd-38efc91d2af4"
      },
      "source": [
        "trainning_hours.rename(columns={'Planta':'Fabrica'}, inplace=True)\n",
        "trainning_hours.head(1)"
      ],
      "execution_count": 421,
      "outputs": [
        {
          "output_type": "stream",
          "text": [
            "/usr/local/lib/python3.7/dist-packages/pandas/core/frame.py:4308: SettingWithCopyWarning: \n",
            "A value is trying to be set on a copy of a slice from a DataFrame\n",
            "\n",
            "See the caveats in the documentation: https://pandas.pydata.org/pandas-docs/stable/user_guide/indexing.html#returning-a-view-versus-a-copy\n",
            "  errors=errors,\n"
          ],
          "name": "stderr"
        },
        {
          "output_type": "execute_result",
          "data": {
            "text/html": [
              "<div>\n",
              "<style scoped>\n",
              "    .dataframe tbody tr th:only-of-type {\n",
              "        vertical-align: middle;\n",
              "    }\n",
              "\n",
              "    .dataframe tbody tr th {\n",
              "        vertical-align: top;\n",
              "    }\n",
              "\n",
              "    .dataframe thead th {\n",
              "        text-align: right;\n",
              "    }\n",
              "</style>\n",
              "<table border=\"1\" class=\"dataframe\">\n",
              "  <thead>\n",
              "    <tr style=\"text-align: right;\">\n",
              "      <th></th>\n",
              "      <th>Fabrica</th>\n",
              "      <th>Horas Presencia Efectiva Subcontratados</th>\n",
              "      <th>Horas Presencia Efectiva ETTs</th>\n",
              "      <th>Horas Formacion Seguridad Propios</th>\n",
              "      <th>Horas Formacion Seguridad ETTs</th>\n",
              "    </tr>\n",
              "  </thead>\n",
              "  <tbody>\n",
              "    <tr>\n",
              "      <th>2615</th>\n",
              "      <td>Barcelona</td>\n",
              "      <td>3138.0</td>\n",
              "      <td>1307.5</td>\n",
              "      <td>15.0</td>\n",
              "      <td>23.0</td>\n",
              "    </tr>\n",
              "  </tbody>\n",
              "</table>\n",
              "</div>"
            ],
            "text/plain": [
              "        Fabrica  ...  Horas Formacion Seguridad ETTs\n",
              "2615  Barcelona  ...                            23.0\n",
              "\n",
              "[1 rows x 5 columns]"
            ]
          },
          "metadata": {
            "tags": []
          },
          "execution_count": 421
        }
      ]
    },
    {
      "cell_type": "code",
      "metadata": {
        "id": "-Bn5ixLVcgjz"
      },
      "source": [
        "trainning_hours = trainning_hours.groupby('Fabrica').agg('sum').reset_index()"
      ],
      "execution_count": 422,
      "outputs": []
    },
    {
      "cell_type": "code",
      "metadata": {
        "colab": {
          "base_uri": "https://localhost:8080/",
          "height": 434
        },
        "id": "ouad-9t0bwi6",
        "outputId": "024760ef-e5b6-4afb-945f-8408a63684a0"
      },
      "source": [
        "staff = staff.merge(trainning_hours, on='Fabrica', how='left')\n",
        "staff.head()"
      ],
      "execution_count": 423,
      "outputs": [
        {
          "output_type": "execute_result",
          "data": {
            "text/html": [
              "<div>\n",
              "<style scoped>\n",
              "    .dataframe tbody tr th:only-of-type {\n",
              "        vertical-align: middle;\n",
              "    }\n",
              "\n",
              "    .dataframe tbody tr th {\n",
              "        vertical-align: top;\n",
              "    }\n",
              "\n",
              "    .dataframe thead th {\n",
              "        text-align: right;\n",
              "    }\n",
              "</style>\n",
              "<table border=\"1\" class=\"dataframe\">\n",
              "  <thead>\n",
              "    <tr style=\"text-align: right;\">\n",
              "      <th></th>\n",
              "      <th>Codigo accidentado</th>\n",
              "      <th>Puesto habitual de trabajo</th>\n",
              "      <th>Turno</th>\n",
              "      <th>Edad</th>\n",
              "      <th>Género</th>\n",
              "      <th>Planta</th>\n",
              "      <th>Tipo accidente</th>\n",
              "      <th>Tipo trabajador</th>\n",
              "      <th>Gravedad potencial</th>\n",
              "      <th>Lugar o seccion accidente</th>\n",
              "      <th>Fabrica</th>\n",
              "      <th>Tecnología</th>\n",
              "      <th>Pais</th>\n",
              "      <th>Horas Presencia Efectiva Subcontratados</th>\n",
              "      <th>Horas Presencia Efectiva ETTs</th>\n",
              "      <th>Horas Formacion Seguridad Propios</th>\n",
              "      <th>Horas Formacion Seguridad ETTs</th>\n",
              "    </tr>\n",
              "  </thead>\n",
              "  <tbody>\n",
              "    <tr>\n",
              "      <th>0</th>\n",
              "      <td>HS-CLMB_2546</td>\n",
              "      <td>Operario de Puente Grúa</td>\n",
              "      <td>Turno de mañana</td>\n",
              "      <td>31</td>\n",
              "      <td>Hombre</td>\n",
              "      <td>20</td>\n",
              "      <td>Accidente c/b</td>\n",
              "      <td>ETT</td>\n",
              "      <td>Muy grave</td>\n",
              "      <td>Células Soldadura</td>\n",
              "      <td>Burgos</td>\n",
              "      <td>Skinpass</td>\n",
              "      <td>España</td>\n",
              "      <td>25249.0</td>\n",
              "      <td>42484.0</td>\n",
              "      <td>1419.3</td>\n",
              "      <td>830.1</td>\n",
              "    </tr>\n",
              "    <tr>\n",
              "      <th>1</th>\n",
              "      <td>HS-CEPA_2563</td>\n",
              "      <td>Engraving</td>\n",
              "      <td>Turno de mañana</td>\n",
              "      <td>35</td>\n",
              "      <td>Hombre</td>\n",
              "      <td>19</td>\n",
              "      <td>Accidente c/b</td>\n",
              "      <td>Indefinido</td>\n",
              "      <td>Leve</td>\n",
              "      <td>Tubos</td>\n",
              "      <td>Burgos</td>\n",
              "      <td>Recocido</td>\n",
              "      <td>España</td>\n",
              "      <td>25249.0</td>\n",
              "      <td>42484.0</td>\n",
              "      <td>1419.3</td>\n",
              "      <td>830.1</td>\n",
              "    </tr>\n",
              "    <tr>\n",
              "      <th>2</th>\n",
              "      <td>HS-GNVT_2564</td>\n",
              "      <td>Titular L-8</td>\n",
              "      <td>Turno de tarde</td>\n",
              "      <td>54</td>\n",
              "      <td>Hombre</td>\n",
              "      <td>12</td>\n",
              "      <td>Accidente s/b</td>\n",
              "      <td>Duración Determinada</td>\n",
              "      <td>Leve</td>\n",
              "      <td>Tubos</td>\n",
              "      <td>Barcelona</td>\n",
              "      <td>Skinpass</td>\n",
              "      <td>España</td>\n",
              "      <td>25684.5</td>\n",
              "      <td>18302.3</td>\n",
              "      <td>1150.6</td>\n",
              "      <td>151.5</td>\n",
              "    </tr>\n",
              "    <tr>\n",
              "      <th>3</th>\n",
              "      <td>HS-GNVT_2565</td>\n",
              "      <td>Carretillero</td>\n",
              "      <td>Turno de mañana</td>\n",
              "      <td>NaN</td>\n",
              "      <td>Hombre</td>\n",
              "      <td>12</td>\n",
              "      <td>Incidente</td>\n",
              "      <td>ETT</td>\n",
              "      <td>Leve</td>\n",
              "      <td>Almacén de Producto Terminado</td>\n",
              "      <td>Barcelona</td>\n",
              "      <td>Skinpass</td>\n",
              "      <td>España</td>\n",
              "      <td>25684.5</td>\n",
              "      <td>18302.3</td>\n",
              "      <td>1150.6</td>\n",
              "      <td>151.5</td>\n",
              "    </tr>\n",
              "    <tr>\n",
              "      <th>4</th>\n",
              "      <td>HS-DNGG_2566</td>\n",
              "      <td>NaN</td>\n",
              "      <td>Turno de mañana</td>\n",
              "      <td>NaN</td>\n",
              "      <td>NaN</td>\n",
              "      <td>41</td>\n",
              "      <td>Incidente</td>\n",
              "      <td>Incidente (no aplica)</td>\n",
              "      <td>Leve</td>\n",
              "      <td>Blanking</td>\n",
              "      <td>Hiasa</td>\n",
              "      <td>Corte Láser</td>\n",
              "      <td>España</td>\n",
              "      <td>0.0</td>\n",
              "      <td>167848.0</td>\n",
              "      <td>1300.5</td>\n",
              "      <td>101.5</td>\n",
              "    </tr>\n",
              "  </tbody>\n",
              "</table>\n",
              "</div>"
            ],
            "text/plain": [
              "  Codigo accidentado  ... Horas Formacion Seguridad ETTs\n",
              "0       HS-CLMB_2546  ...                          830.1\n",
              "1       HS-CEPA_2563  ...                          830.1\n",
              "2       HS-GNVT_2564  ...                          151.5\n",
              "3       HS-GNVT_2565  ...                          151.5\n",
              "4       HS-DNGG_2566  ...                          101.5\n",
              "\n",
              "[5 rows x 17 columns]"
            ]
          },
          "metadata": {
            "tags": []
          },
          "execution_count": 423
        }
      ]
    },
    {
      "cell_type": "markdown",
      "metadata": {
        "id": "Y4Xmhhnpcs1x"
      },
      "source": [
        "Now we are going to calculate the proportion in 2020 between people and accidents occur"
      ]
    },
    {
      "cell_type": "code",
      "metadata": {
        "colab": {
          "base_uri": "https://localhost:8080/",
          "height": 225
        },
        "id": "bwOOUyA_cygZ",
        "outputId": "6ebe14a3-19b7-41f3-c84c-338056e789b0"
      },
      "source": [
        "employees = pd.read_csv('Datos_plantilla_fabrica.csv', sep=';')\n",
        "employees = employees[['Año', 'Empleados Propios', 'Empleados Ajenos', 'Empleados ETTS',  'Empleados Subcontrata']]\n",
        "employees = employees.fillna(0)\n",
        "employees = employees.groupby(['Año']).agg('sum')\n",
        "employees.head()"
      ],
      "execution_count": 424,
      "outputs": [
        {
          "output_type": "execute_result",
          "data": {
            "text/html": [
              "<div>\n",
              "<style scoped>\n",
              "    .dataframe tbody tr th:only-of-type {\n",
              "        vertical-align: middle;\n",
              "    }\n",
              "\n",
              "    .dataframe tbody tr th {\n",
              "        vertical-align: top;\n",
              "    }\n",
              "\n",
              "    .dataframe thead th {\n",
              "        text-align: right;\n",
              "    }\n",
              "</style>\n",
              "<table border=\"1\" class=\"dataframe\">\n",
              "  <thead>\n",
              "    <tr style=\"text-align: right;\">\n",
              "      <th></th>\n",
              "      <th>Empleados Propios</th>\n",
              "      <th>Empleados Ajenos</th>\n",
              "      <th>Empleados ETTS</th>\n",
              "      <th>Empleados Subcontrata</th>\n",
              "    </tr>\n",
              "    <tr>\n",
              "      <th>Año</th>\n",
              "      <th></th>\n",
              "      <th></th>\n",
              "      <th></th>\n",
              "      <th></th>\n",
              "    </tr>\n",
              "  </thead>\n",
              "  <tbody>\n",
              "    <tr>\n",
              "      <th>0.0</th>\n",
              "      <td>15754.0</td>\n",
              "      <td>3277.0</td>\n",
              "      <td>2490.0</td>\n",
              "      <td>786.0</td>\n",
              "    </tr>\n",
              "    <tr>\n",
              "      <th>2016.0</th>\n",
              "      <td>40609.0</td>\n",
              "      <td>9160.0</td>\n",
              "      <td>0.0</td>\n",
              "      <td>0.0</td>\n",
              "    </tr>\n",
              "    <tr>\n",
              "      <th>2017.0</th>\n",
              "      <td>43291.0</td>\n",
              "      <td>9794.0</td>\n",
              "      <td>0.0</td>\n",
              "      <td>0.0</td>\n",
              "    </tr>\n",
              "    <tr>\n",
              "      <th>2018.0</th>\n",
              "      <td>49865.0</td>\n",
              "      <td>10973.0</td>\n",
              "      <td>7964.0</td>\n",
              "      <td>2993.0</td>\n",
              "    </tr>\n",
              "    <tr>\n",
              "      <th>2019.0</th>\n",
              "      <td>50625.0</td>\n",
              "      <td>10527.0</td>\n",
              "      <td>7823.0</td>\n",
              "      <td>2697.0</td>\n",
              "    </tr>\n",
              "  </tbody>\n",
              "</table>\n",
              "</div>"
            ],
            "text/plain": [
              "        Empleados Propios  ...  Empleados Subcontrata\n",
              "Año                        ...                       \n",
              "0.0               15754.0  ...                  786.0\n",
              "2016.0            40609.0  ...                    0.0\n",
              "2017.0            43291.0  ...                    0.0\n",
              "2018.0            49865.0  ...                 2993.0\n",
              "2019.0            50625.0  ...                 2697.0\n",
              "\n",
              "[5 rows x 4 columns]"
            ]
          },
          "metadata": {
            "tags": []
          },
          "execution_count": 424
        }
      ]
    },
    {
      "cell_type": "code",
      "metadata": {
        "colab": {
          "base_uri": "https://localhost:8080/",
          "height": 195
        },
        "id": "p8S8gP4cdj19",
        "outputId": "4c1fb599-4fd6-4f1c-d8dc-f1d2d4a71152"
      },
      "source": [
        "accidentes = pd.read_csv('HS_Accidentabilidad.csv', sep=';')\n",
        "accidentes = accidentes[['Año', 'Codigo accidentado']]\n",
        "accidentes = accidentes.groupby('Año').agg('count').reset_index()\n",
        "accidentes.rename(columns={'Codigo accidentado':'Accidentes'}, inplace=True)\n",
        "accidentes.head()"
      ],
      "execution_count": 425,
      "outputs": [
        {
          "output_type": "execute_result",
          "data": {
            "text/html": [
              "<div>\n",
              "<style scoped>\n",
              "    .dataframe tbody tr th:only-of-type {\n",
              "        vertical-align: middle;\n",
              "    }\n",
              "\n",
              "    .dataframe tbody tr th {\n",
              "        vertical-align: top;\n",
              "    }\n",
              "\n",
              "    .dataframe thead th {\n",
              "        text-align: right;\n",
              "    }\n",
              "</style>\n",
              "<table border=\"1\" class=\"dataframe\">\n",
              "  <thead>\n",
              "    <tr style=\"text-align: right;\">\n",
              "      <th></th>\n",
              "      <th>Año</th>\n",
              "      <th>Accidentes</th>\n",
              "    </tr>\n",
              "  </thead>\n",
              "  <tbody>\n",
              "    <tr>\n",
              "      <th>0</th>\n",
              "      <td>2015.0</td>\n",
              "      <td>202</td>\n",
              "    </tr>\n",
              "    <tr>\n",
              "      <th>1</th>\n",
              "      <td>2016.0</td>\n",
              "      <td>1335</td>\n",
              "    </tr>\n",
              "    <tr>\n",
              "      <th>2</th>\n",
              "      <td>2017.0</td>\n",
              "      <td>1203</td>\n",
              "    </tr>\n",
              "    <tr>\n",
              "      <th>3</th>\n",
              "      <td>2018.0</td>\n",
              "      <td>1532</td>\n",
              "    </tr>\n",
              "    <tr>\n",
              "      <th>4</th>\n",
              "      <td>2019.0</td>\n",
              "      <td>1526</td>\n",
              "    </tr>\n",
              "  </tbody>\n",
              "</table>\n",
              "</div>"
            ],
            "text/plain": [
              "      Año  Accidentes\n",
              "0  2015.0         202\n",
              "1  2016.0        1335\n",
              "2  2017.0        1203\n",
              "3  2018.0        1532\n",
              "4  2019.0        1526"
            ]
          },
          "metadata": {
            "tags": []
          },
          "execution_count": 425
        }
      ]
    },
    {
      "cell_type": "code",
      "metadata": {
        "colab": {
          "base_uri": "https://localhost:8080/",
          "height": 195
        },
        "id": "A9r6y_xwdxjn",
        "outputId": "d723b428-aaa1-4eaf-a110-84bdc8113002"
      },
      "source": [
        "employees = employees.merge(accidentes, on='Año', how='inner')\n",
        "employees.head()"
      ],
      "execution_count": 426,
      "outputs": [
        {
          "output_type": "execute_result",
          "data": {
            "text/html": [
              "<div>\n",
              "<style scoped>\n",
              "    .dataframe tbody tr th:only-of-type {\n",
              "        vertical-align: middle;\n",
              "    }\n",
              "\n",
              "    .dataframe tbody tr th {\n",
              "        vertical-align: top;\n",
              "    }\n",
              "\n",
              "    .dataframe thead th {\n",
              "        text-align: right;\n",
              "    }\n",
              "</style>\n",
              "<table border=\"1\" class=\"dataframe\">\n",
              "  <thead>\n",
              "    <tr style=\"text-align: right;\">\n",
              "      <th></th>\n",
              "      <th>Año</th>\n",
              "      <th>Empleados Propios</th>\n",
              "      <th>Empleados Ajenos</th>\n",
              "      <th>Empleados ETTS</th>\n",
              "      <th>Empleados Subcontrata</th>\n",
              "      <th>Accidentes</th>\n",
              "    </tr>\n",
              "  </thead>\n",
              "  <tbody>\n",
              "    <tr>\n",
              "      <th>0</th>\n",
              "      <td>2016.0</td>\n",
              "      <td>40609.0</td>\n",
              "      <td>9160.0</td>\n",
              "      <td>0.0</td>\n",
              "      <td>0.0</td>\n",
              "      <td>1335</td>\n",
              "    </tr>\n",
              "    <tr>\n",
              "      <th>1</th>\n",
              "      <td>2017.0</td>\n",
              "      <td>43291.0</td>\n",
              "      <td>9794.0</td>\n",
              "      <td>0.0</td>\n",
              "      <td>0.0</td>\n",
              "      <td>1203</td>\n",
              "    </tr>\n",
              "    <tr>\n",
              "      <th>2</th>\n",
              "      <td>2018.0</td>\n",
              "      <td>49865.0</td>\n",
              "      <td>10973.0</td>\n",
              "      <td>7964.0</td>\n",
              "      <td>2993.0</td>\n",
              "      <td>1532</td>\n",
              "    </tr>\n",
              "    <tr>\n",
              "      <th>3</th>\n",
              "      <td>2019.0</td>\n",
              "      <td>50625.0</td>\n",
              "      <td>10527.0</td>\n",
              "      <td>7823.0</td>\n",
              "      <td>2697.0</td>\n",
              "      <td>1526</td>\n",
              "    </tr>\n",
              "    <tr>\n",
              "      <th>4</th>\n",
              "      <td>2020.0</td>\n",
              "      <td>65644.0</td>\n",
              "      <td>7114.0</td>\n",
              "      <td>5773.0</td>\n",
              "      <td>1335.0</td>\n",
              "      <td>1122</td>\n",
              "    </tr>\n",
              "  </tbody>\n",
              "</table>\n",
              "</div>"
            ],
            "text/plain": [
              "      Año  Empleados Propios  ...  Empleados Subcontrata  Accidentes\n",
              "0  2016.0            40609.0  ...                    0.0        1335\n",
              "1  2017.0            43291.0  ...                    0.0        1203\n",
              "2  2018.0            49865.0  ...                 2993.0        1532\n",
              "3  2019.0            50625.0  ...                 2697.0        1526\n",
              "4  2020.0            65644.0  ...                 1335.0        1122\n",
              "\n",
              "[5 rows x 6 columns]"
            ]
          },
          "metadata": {
            "tags": []
          },
          "execution_count": 426
        }
      ]
    },
    {
      "cell_type": "code",
      "metadata": {
        "colab": {
          "base_uri": "https://localhost:8080/"
        },
        "id": "hyiYEWhCeT1G",
        "outputId": "76ee875b-9009-4d65-ecc5-a55a84a570dc"
      },
      "source": [
        "employees.dtypes"
      ],
      "execution_count": 427,
      "outputs": [
        {
          "output_type": "execute_result",
          "data": {
            "text/plain": [
              "Año                      float64\n",
              "Empleados Propios        float64\n",
              "Empleados Ajenos         float64\n",
              "Empleados ETTS           float64\n",
              "Empleados Subcontrata    float64\n",
              "Accidentes                 int64\n",
              "dtype: object"
            ]
          },
          "metadata": {
            "tags": []
          },
          "execution_count": 427
        }
      ]
    },
    {
      "cell_type": "code",
      "metadata": {
        "id": "f_m4PyTsebt8"
      },
      "source": [
        "employees['Total_emp'] = employees['Empleados Propios'] + employees['Empleados Ajenos'] + employees['Empleados ETTS'] + employees['Empleados Subcontrata']"
      ],
      "execution_count": 428,
      "outputs": []
    },
    {
      "cell_type": "code",
      "metadata": {
        "colab": {
          "base_uri": "https://localhost:8080/",
          "height": 195
        },
        "id": "mRNPhfJjetv3",
        "outputId": "47a7cd56-dac4-41d7-a7aa-53b1e9af60c1"
      },
      "source": [
        "employees = employees[['Año', 'Accidentes', 'Total_emp']]\n",
        "\n",
        "employees['perc_acc'] = employees['Accidentes'] / employees['Total_emp'] * 100\n",
        "employees.head()"
      ],
      "execution_count": 429,
      "outputs": [
        {
          "output_type": "execute_result",
          "data": {
            "text/html": [
              "<div>\n",
              "<style scoped>\n",
              "    .dataframe tbody tr th:only-of-type {\n",
              "        vertical-align: middle;\n",
              "    }\n",
              "\n",
              "    .dataframe tbody tr th {\n",
              "        vertical-align: top;\n",
              "    }\n",
              "\n",
              "    .dataframe thead th {\n",
              "        text-align: right;\n",
              "    }\n",
              "</style>\n",
              "<table border=\"1\" class=\"dataframe\">\n",
              "  <thead>\n",
              "    <tr style=\"text-align: right;\">\n",
              "      <th></th>\n",
              "      <th>Año</th>\n",
              "      <th>Accidentes</th>\n",
              "      <th>Total_emp</th>\n",
              "      <th>perc_acc</th>\n",
              "    </tr>\n",
              "  </thead>\n",
              "  <tbody>\n",
              "    <tr>\n",
              "      <th>0</th>\n",
              "      <td>2016.0</td>\n",
              "      <td>1335</td>\n",
              "      <td>49769.0</td>\n",
              "      <td>2.682393</td>\n",
              "    </tr>\n",
              "    <tr>\n",
              "      <th>1</th>\n",
              "      <td>2017.0</td>\n",
              "      <td>1203</td>\n",
              "      <td>53085.0</td>\n",
              "      <td>2.266177</td>\n",
              "    </tr>\n",
              "    <tr>\n",
              "      <th>2</th>\n",
              "      <td>2018.0</td>\n",
              "      <td>1532</td>\n",
              "      <td>71795.0</td>\n",
              "      <td>2.133853</td>\n",
              "    </tr>\n",
              "    <tr>\n",
              "      <th>3</th>\n",
              "      <td>2019.0</td>\n",
              "      <td>1526</td>\n",
              "      <td>71672.0</td>\n",
              "      <td>2.129144</td>\n",
              "    </tr>\n",
              "    <tr>\n",
              "      <th>4</th>\n",
              "      <td>2020.0</td>\n",
              "      <td>1122</td>\n",
              "      <td>79866.0</td>\n",
              "      <td>1.404853</td>\n",
              "    </tr>\n",
              "  </tbody>\n",
              "</table>\n",
              "</div>"
            ],
            "text/plain": [
              "      Año  Accidentes  Total_emp  perc_acc\n",
              "0  2016.0        1335    49769.0  2.682393\n",
              "1  2017.0        1203    53085.0  2.266177\n",
              "2  2018.0        1532    71795.0  2.133853\n",
              "3  2019.0        1526    71672.0  2.129144\n",
              "4  2020.0        1122    79866.0  1.404853"
            ]
          },
          "metadata": {
            "tags": []
          },
          "execution_count": 429
        }
      ]
    },
    {
      "cell_type": "markdown",
      "metadata": {
        "id": "GAQCk2Ozfla8"
      },
      "source": [
        "For our analysis we are going to suppose we have a year staff, with all people. \n",
        "We would have 79900 people with around 7000 people who have suffered an accident on the past years."
      ]
    },
    {
      "cell_type": "code",
      "metadata": {
        "colab": {
          "base_uri": "https://localhost:8080/"
        },
        "id": "EViQKE4PgK6n",
        "outputId": "a895a6ad-6318-4223-bade-60dba5d203f6"
      },
      "source": [
        "len(staff)"
      ],
      "execution_count": 430,
      "outputs": [
        {
          "output_type": "execute_result",
          "data": {
            "text/plain": [
              "4180"
            ]
          },
          "metadata": {
            "tags": []
          },
          "execution_count": 430
        }
      ]
    },
    {
      "cell_type": "code",
      "metadata": {
        "colab": {
          "base_uri": "https://localhost:8080/",
          "height": 434
        },
        "id": "Uu_tlzE2gFl2",
        "outputId": "474cf82e-2b37-4a1d-bbac-f906494f596a"
      },
      "source": [
        "#we add a new column to indetify those people who have suffered an accident in our dataset\n",
        "staff['Accident'] = 'Yes'\n",
        "staff.head()"
      ],
      "execution_count": 431,
      "outputs": [
        {
          "output_type": "execute_result",
          "data": {
            "text/html": [
              "<div>\n",
              "<style scoped>\n",
              "    .dataframe tbody tr th:only-of-type {\n",
              "        vertical-align: middle;\n",
              "    }\n",
              "\n",
              "    .dataframe tbody tr th {\n",
              "        vertical-align: top;\n",
              "    }\n",
              "\n",
              "    .dataframe thead th {\n",
              "        text-align: right;\n",
              "    }\n",
              "</style>\n",
              "<table border=\"1\" class=\"dataframe\">\n",
              "  <thead>\n",
              "    <tr style=\"text-align: right;\">\n",
              "      <th></th>\n",
              "      <th>Codigo accidentado</th>\n",
              "      <th>Puesto habitual de trabajo</th>\n",
              "      <th>Turno</th>\n",
              "      <th>Edad</th>\n",
              "      <th>Género</th>\n",
              "      <th>Planta</th>\n",
              "      <th>Tipo accidente</th>\n",
              "      <th>Tipo trabajador</th>\n",
              "      <th>Gravedad potencial</th>\n",
              "      <th>Lugar o seccion accidente</th>\n",
              "      <th>Fabrica</th>\n",
              "      <th>Tecnología</th>\n",
              "      <th>Pais</th>\n",
              "      <th>Horas Presencia Efectiva Subcontratados</th>\n",
              "      <th>Horas Presencia Efectiva ETTs</th>\n",
              "      <th>Horas Formacion Seguridad Propios</th>\n",
              "      <th>Horas Formacion Seguridad ETTs</th>\n",
              "      <th>Accident</th>\n",
              "    </tr>\n",
              "  </thead>\n",
              "  <tbody>\n",
              "    <tr>\n",
              "      <th>0</th>\n",
              "      <td>HS-CLMB_2546</td>\n",
              "      <td>Operario de Puente Grúa</td>\n",
              "      <td>Turno de mañana</td>\n",
              "      <td>31</td>\n",
              "      <td>Hombre</td>\n",
              "      <td>20</td>\n",
              "      <td>Accidente c/b</td>\n",
              "      <td>ETT</td>\n",
              "      <td>Muy grave</td>\n",
              "      <td>Células Soldadura</td>\n",
              "      <td>Burgos</td>\n",
              "      <td>Skinpass</td>\n",
              "      <td>España</td>\n",
              "      <td>25249.0</td>\n",
              "      <td>42484.0</td>\n",
              "      <td>1419.3</td>\n",
              "      <td>830.1</td>\n",
              "      <td>Yes</td>\n",
              "    </tr>\n",
              "    <tr>\n",
              "      <th>1</th>\n",
              "      <td>HS-CEPA_2563</td>\n",
              "      <td>Engraving</td>\n",
              "      <td>Turno de mañana</td>\n",
              "      <td>35</td>\n",
              "      <td>Hombre</td>\n",
              "      <td>19</td>\n",
              "      <td>Accidente c/b</td>\n",
              "      <td>Indefinido</td>\n",
              "      <td>Leve</td>\n",
              "      <td>Tubos</td>\n",
              "      <td>Burgos</td>\n",
              "      <td>Recocido</td>\n",
              "      <td>España</td>\n",
              "      <td>25249.0</td>\n",
              "      <td>42484.0</td>\n",
              "      <td>1419.3</td>\n",
              "      <td>830.1</td>\n",
              "      <td>Yes</td>\n",
              "    </tr>\n",
              "    <tr>\n",
              "      <th>2</th>\n",
              "      <td>HS-GNVT_2564</td>\n",
              "      <td>Titular L-8</td>\n",
              "      <td>Turno de tarde</td>\n",
              "      <td>54</td>\n",
              "      <td>Hombre</td>\n",
              "      <td>12</td>\n",
              "      <td>Accidente s/b</td>\n",
              "      <td>Duración Determinada</td>\n",
              "      <td>Leve</td>\n",
              "      <td>Tubos</td>\n",
              "      <td>Barcelona</td>\n",
              "      <td>Skinpass</td>\n",
              "      <td>España</td>\n",
              "      <td>25684.5</td>\n",
              "      <td>18302.3</td>\n",
              "      <td>1150.6</td>\n",
              "      <td>151.5</td>\n",
              "      <td>Yes</td>\n",
              "    </tr>\n",
              "    <tr>\n",
              "      <th>3</th>\n",
              "      <td>HS-GNVT_2565</td>\n",
              "      <td>Carretillero</td>\n",
              "      <td>Turno de mañana</td>\n",
              "      <td>NaN</td>\n",
              "      <td>Hombre</td>\n",
              "      <td>12</td>\n",
              "      <td>Incidente</td>\n",
              "      <td>ETT</td>\n",
              "      <td>Leve</td>\n",
              "      <td>Almacén de Producto Terminado</td>\n",
              "      <td>Barcelona</td>\n",
              "      <td>Skinpass</td>\n",
              "      <td>España</td>\n",
              "      <td>25684.5</td>\n",
              "      <td>18302.3</td>\n",
              "      <td>1150.6</td>\n",
              "      <td>151.5</td>\n",
              "      <td>Yes</td>\n",
              "    </tr>\n",
              "    <tr>\n",
              "      <th>4</th>\n",
              "      <td>HS-DNGG_2566</td>\n",
              "      <td>NaN</td>\n",
              "      <td>Turno de mañana</td>\n",
              "      <td>NaN</td>\n",
              "      <td>NaN</td>\n",
              "      <td>41</td>\n",
              "      <td>Incidente</td>\n",
              "      <td>Incidente (no aplica)</td>\n",
              "      <td>Leve</td>\n",
              "      <td>Blanking</td>\n",
              "      <td>Hiasa</td>\n",
              "      <td>Corte Láser</td>\n",
              "      <td>España</td>\n",
              "      <td>0.0</td>\n",
              "      <td>167848.0</td>\n",
              "      <td>1300.5</td>\n",
              "      <td>101.5</td>\n",
              "      <td>Yes</td>\n",
              "    </tr>\n",
              "  </tbody>\n",
              "</table>\n",
              "</div>"
            ],
            "text/plain": [
              "  Codigo accidentado  ... Accident\n",
              "0       HS-CLMB_2546  ...      Yes\n",
              "1       HS-CEPA_2563  ...      Yes\n",
              "2       HS-GNVT_2564  ...      Yes\n",
              "3       HS-GNVT_2565  ...      Yes\n",
              "4       HS-DNGG_2566  ...      Yes\n",
              "\n",
              "[5 rows x 18 columns]"
            ]
          },
          "metadata": {
            "tags": []
          },
          "execution_count": 431
        }
      ]
    },
    {
      "cell_type": "code",
      "metadata": {
        "colab": {
          "base_uri": "https://localhost:8080/"
        },
        "id": "BOluCL_zgY2w",
        "outputId": "7a89d121-35d0-4b3c-c414-0783df9a45d0"
      },
      "source": [
        "#plant data we dont have any null values\n",
        "staff['Planta'].unique()"
      ],
      "execution_count": 432,
      "outputs": [
        {
          "output_type": "execute_result",
          "data": {
            "text/plain": [
              "array([20, 19, 12, 41,  7,  1, 13, 28,  2,  5, 26, 16, 25, 15, 36, 35, 33,\n",
              "       53, 54,  4, 14, 34, 27, 29, 32, 57,  6, 56, 30, 55, 46, 43, 45, 18,\n",
              "       44, 63, 47, 84])"
            ]
          },
          "metadata": {
            "tags": []
          },
          "execution_count": 432
        }
      ]
    },
    {
      "cell_type": "code",
      "metadata": {
        "colab": {
          "base_uri": "https://localhost:8080/"
        },
        "id": "RsPbnhW0ggWN",
        "outputId": "86e86385-2d88-4b27-e74a-238726aafff8"
      },
      "source": [
        "##work position\n",
        "\n",
        "positions = staff['Puesto habitual de trabajo'].unique()\n",
        "len(positions)"
      ],
      "execution_count": 433,
      "outputs": [
        {
          "output_type": "execute_result",
          "data": {
            "text/plain": [
              "794"
            ]
          },
          "metadata": {
            "tags": []
          },
          "execution_count": 433
        }
      ]
    },
    {
      "cell_type": "code",
      "metadata": {
        "id": "InbOHf9-kMJV"
      },
      "source": [
        "import random\n",
        "import numpy as np \n",
        "\n",
        "staff['wk_position'] = np.random.choice(positions, size=len(staff))"
      ],
      "execution_count": 434,
      "outputs": []
    },
    {
      "cell_type": "code",
      "metadata": {
        "colab": {
          "base_uri": "https://localhost:8080/"
        },
        "id": "w9j1MGl6hwHz",
        "outputId": "0bed820e-cc01-4397-d2de-99d07ab47beb"
      },
      "source": [
        "staff['wk_position'].unique()"
      ],
      "execution_count": 435,
      "outputs": [
        {
          "output_type": "execute_result",
          "data": {
            "text/plain": [
              "array(['Material Handler', 'customer', 'Vaciado contenedores de chatarra',\n",
              "       'Pontonero', 'Longi 2', 'Operator / Stacker Operator',\n",
              "       'Slitter Op', 'Gantry crane operator', 'Verpackerin',\n",
              "       'assistant of operator', 'Gruista Subcontrata Pardo Freijo',\n",
              "       'Expediciones, carga de camiones', 'Operario Puente Grúa',\n",
              "       'Maschinenführer', 'Proceso decapado',\n",
              "       'Maschinenführerin 2 Presse 3', 'MF2 Presse 1',\n",
              "       'Transportista externo(Telemix)', 'Conductor Toro Hyster',\n",
              "       'TRANS005', 'Madera Prensas', 'Ayudante perfiladora Dimeco', 'EPM',\n",
              "       'APILADOR TRANS002', 'Maquinista Perfiladora Tubos',\n",
              "       'CARPINTERO TRANS001', 'CHOFER', 'Lkw-Fahrer', 'Maintenance',\n",
              "       'Material Handler moving stock around and loading vehicles',\n",
              "       'AYUDANTE PRENSA002', 'Operario entrada linea decapado',\n",
              "       'Verificador tubos 601', 'Acumulador', 'Maquinista longitudinales',\n",
              "       'Carreteillero', 'Maschinenbedienerin', 'LINEA DE PRENSA', 'lider',\n",
              "       'Packing team member ', 'GRUISTA - CARRETILLERO - PRENSAS',\n",
              "       'Montador LONGI003', 'packer', 'Ayudante LONGI004',\n",
              "       'Empaquetador Tubos', 'supplier', 'Operador Logístico I',\n",
              "       'Ayudante LONGI008', 'Fahrer Räumfahrzeug', 'EMBALAJE MANUAL',\n",
              "       'Verpacker Halle 4', 'EMBALADORA LONGI 6', 'Titular Corte Termico',\n",
              "       'Sierra Behringer', 'Kranführer Halle 1 Süd', 'LCP 02', 'DECAPADO',\n",
              "       'No hay personas implicadas', 'Operador de Har lan',\n",
              "       'Maschinenführer 1 Presse', 'Auxiliar/Montador', 'CHATARRERO',\n",
              "       'MF1 LONGI001', 'BOBINERO',\n",
              "       'Carretillero de la Empresa Pardo Freijo',\n",
              "       'Puente Grua Galvanizado', 'alimentador p5', 'Operating the crane',\n",
              "       'Montacarguista (en entrenamiento)', 'Material handler',\n",
              "       'roll form machine', 'Instandhalter', 'GRUISTA PTA07 PTA08',\n",
              "       'Movimiento de carretilla elevadora', 'maquinista / gruista',\n",
              "       'CARRETILLERO PRENS004', 'Montador LC4', 'Supervisor Logistik',\n",
              "       'Carrtillero', 'Sierra corte metal', 'DESCARGAS',\n",
              "       'MAQUINISTA TRANS 2', 'Shift Manager', 'Gruista/soldador',\n",
              "       'Operador Decapado', 'Gruista Almacenes', 'EMBAL015', 'Montador',\n",
              "       'No, su puesto habitual es entrada decapado', 'Titular de Linea',\n",
              "       'TITULAR LÍNEA CORTE PRENSA I', 'Gruista nave 6b zona negro',\n",
              "       'forklift external maintance', 'Maquinista LONGI009',\n",
              "       'Forklift Driver', 'plegadora', 'Gruista/cargador',\n",
              "       'Supervisor Mantenimiento', 'Cargador zona de negro',\n",
              "       'Maschinenführer Presse 4/6', 'Prozessoptimierer',\n",
              "       'Salida de la carretilla de descarga y flejado del material',\n",
              "       'MF1 Presse 1', 'galvanizado', 'Auxiliar logística',\n",
              "       'Carretillero galvanizado', 'Carrying metarial by forklift',\n",
              "       'Transporte de material acabado', 'Pupitre de entrada decapado',\n",
              "       'Handling material', 'Descargador', 'Carga y descarga vagones',\n",
              "       'Operador de Produção II', 'MF LSL 1', 'GRUISTA', 'Mantenimiento',\n",
              "       'maquinista', 'Operador logistico', 'Sorting and packing product',\n",
              "       'Verlader Halle 8', 'Lkw Fahrer Firma Schielke',\n",
              "       'GRUISTA - EMBALADOR', 'Maschinenführer 1 Presse 4/6',\n",
              "       'Soldador/gruista', 'Kranführer Halle 2', 'Titular Prensa 1',\n",
              "       'Operario de montacarga', 'Crane driver', 'galvanized-hanger',\n",
              "       'Operadores limpieza de caldera y gruista de caldera',\n",
              "       'Neutra De Galvanizado', 'OPERARIO TREN DE TROQUELADO',\n",
              "       'soldador/gruista', 'LONGI002', 'Mantenimiento Eléctrico',\n",
              "       'Operario de maquinas', 'FINANZAS - PAGO A PROVEEDORES',\n",
              "       'Camionero externo',\n",
              "       'Stacker Operator - Training as blanking operator',\n",
              "       'welding for polygon', 'Lkw Fahrer', 'Operario Salida Decapado',\n",
              "       '占从涛', 'hanger', 'Varios', 'Carpintería', 'EMBAL480', 'flejador',\n",
              "       'Manutenção', 'montador y embajador en LCL', 'Slitting Operator ',\n",
              "       'Auxiliar de Laboratorio', 'MF2 LONGI002', 'Fertigungsingenieur',\n",
              "       'Supervisor Produktion', 'Corte plasma', 'Techniker', 'Embal480',\n",
              "       'CARRETILLERO TRANS005', 'metal grinding - 2A hole',\n",
              "       'Lkw-Fahrer von Veolia-Umweltservice (extern)',\n",
              "       'galvanized-  packaging', 'OPERARIO', 'GRUA CALDERA', 'plegador',\n",
              "       'Soldador y gruista', 'Puente Grua - Flejador',\n",
              "       'External Agency - Camera Installer', 'Maschinenführer 2 Pressen',\n",
              "       'Zona de Picos de Nave 3', 'safety guard', 'Presseneinrichter',\n",
              "       'Auxiliar máquina 1', 'Wergzeugmacher', 'maquinista/gruista',\n",
              "       'Operario de Entrada M1 y Gruista', 'Platinen wenden',\n",
              "       'Press operator Ln 3  2nd shift', 'Maschinenführer Presse 1',\n",
              "       'Titular de línea y auxiliar (Prensa Rovetta)', 'team leader',\n",
              "       'Gruista entrada', 'Operario de maquina (taladro radial)',\n",
              "       'Control Calidad', 'storekeeper', 'Maquinista longitudinal',\n",
              "       'Línea Longitudinal', 'Operating the portalcrane',\n",
              "       'Operador auxiliar', 'proceso',\n",
              "       'Auxiliares de Logistica\\r\\nOperador de Grua Telescopica',\n",
              "       'Kranführer', 'Corte térmico ', 'Maquinista perfiladora',\n",
              "       'MAQUINISTA CORTE LONGITUDINAL', 'maquinista longi009',\n",
              "       'Maschinenführer 1 Presse 7',\n",
              "       'Operador de montacargas asistido en la carga de camiones',\n",
              "       'Maquinista', 'Verpacker LONGI001', 'Empaquetador tubos',\n",
              "       'EMBALADO Y FLEJADO', 'Maquinista LC4/LC7 y Gruista',\n",
              "       'Cargador negro/gruista', 'Nacharbeit', 'Operador Puente Grúa',\n",
              "       'Gruista Nave 2 - 3', 'Operador Puente-Grúa', 'Oxgyen cutting',\n",
              "       'Gruista de caldera y operadores de limpieza',\n",
              "       'maquinista de robot de soldadura', 'OPERARIO DE CARGA',\n",
              "       'DESCARGADOR GALVANIZADO', 'Maquinista TRANS005',\n",
              "       'Operario de muestras', 'OPERADOR CARRETILLA', 'Soldador II',\n",
              "       'Operador Principal LCL', 'EMBALADORA 2', 'EMBALADORA 1',\n",
              "       'Gruista ( PARDO FREIJO) Subcontrata', 'Ayudante de circular',\n",
              "       'PRENSA002', 'Werkzeugmacher', 'Flejado y Embalado',\n",
              "       'Staplerfahrer Halle 3',\n",
              "       'Operador de montagem de árvores de navalhas / Operador auxiliar',\n",
              "       'Slitter Operator', 'Maquinista Perfiladoras',\n",
              "       'Operario Entrada Decapado M1', 'Operario Puente grúa',\n",
              "       'Handling the equipment', 'Cargador Galvanizado',\n",
              "       'IT-Administrator', 'poligon production-black area',\n",
              "       'Bestücker LSL 2', 'EMBALADOR TRANS002',\n",
              "       'Titular Línea Corte Prensa II',\n",
              "       'Drove the forklift fork the products',\n",
              "       'Líder de Logistica y Planeación',\n",
              "       'Operador auxiliar / Montador de árvores de navalhas',\n",
              "       'Verpacker Presse 3', 'Maquinista Sierras Corte Tubos',\n",
              "       'SI. Auxiliar Evacuación MTM2', 'Lifting material on acid pool',\n",
              "       'Cargador de entrada', 'Titular LONGI001', 'Auxiliar de logística',\n",
              "       'Empaquetador en formación', 'OPERADOR PUENTE GRUA',\n",
              "       'empaquetador',\n",
              "       'Salida del vehículo de la nave en semáforo rojo después de haber realizado la descarga',\n",
              "       'OPERADOR DE CARRETILLA', 'Grinding',\n",
              "       'Preparación del material para el corte en la línea, corte flejado',\n",
              "       'Ninguno de los implicados desempeñaban funciones habituales en la línea donde se produjo el incidente.',\n",
              "       'LONGI 1', 'n/a ', 'N/A ', 'road safety', 'operario de linea',\n",
              "       'GRUISTA LONGI004-008+MANTENIMIENTO+MAQUINISTA LONGI008',\n",
              "       'Gruista nave 6b zona de carga', 'Flejador',\n",
              "       'Maschinenführer 2 Presse 5', 'MONTADOR LONGI008',\n",
              "       'CONTROLADOR DE PROCESOS', 'AUXILIAR DE LINEA',\n",
              "       'Red Bud Blanking Line', 'Kranfahrer Halle 1 Nord',\n",
              "       'Ferienarbeiter Instandhaltung', 'Operador Paletizadora',\n",
              "       'Carretilla', 'gruista varios', 'Maquinista Trans3', 'Soldadura',\n",
              "       'forklift driver', 'Alimentador Tubos 601', 'MONTADOR LONGI005',\n",
              "       'EMBALAJE  T1', 'Staplerfahrer Halle 5',\n",
              "       'Gruista de longitudinales y transversales',\n",
              "       'Maniobra de marcha atrás después de dejar el palé con producto acabado en la zona B3',\n",
              "       'store keeper', 'Lifting', 'galvanized', 'Auxiliar línea 11',\n",
              "       'Embaladora', 'Maquinista Trans 003', 'gruista/ maquinista plasma',\n",
              "       'Auxiliar Trans 4', 'Blanking operator', 'Slitting line Operator',\n",
              "       'Proceso Galva', nan, 'MANTENIMIENTO',\n",
              "       'Maschinenführer 1 Presse 1', 'operator on catting line',\n",
              "       'Montacarguista', 'EMBALADOR', 'empaquetadora/ flejado',\n",
              "       'Galvanizado', 'Kranbediener', 'Operario procesos',\n",
              "       'Incidente sin personas implicadas', 'Carretilleros',\n",
              "       'Rework Operation', 'Electromecánico',\n",
              "       'Maquinistas Líneas de Corte', 'OPERARIO DE MÁQUINA',\n",
              "       'Conductor Tren', 'Montador/auxiliar LONGI003', 'POTE',\n",
              "       'Auxiliar Línea Corte Prensa I',\n",
              "       'trabajo en la grúa de pórtico Q25T, nave lateral 1, colocación del círculo en el almacén de bobinas',\n",
              "       'Operador de Logística', 'Operador de har lan', 'Programador',\n",
              "       'extern', 'responsible for the shift',\n",
              "       'Desmontaje de la herramienta después de la producción de la línea 1 para colocarla en el almacén de matrices – matriz núm. 26',\n",
              "       'Supervisor', 'Gruista de tubos', 'EMBALADOR  480',\n",
              "       'Working on Press', 'Carretillera', 'Laboratorio de Calidad',\n",
              "       'Nacharbeiter', 'Gruista Tubos', 'Working in I T Department',\n",
              "       'Gruista 6B Negro', 'Operario corte',\n",
              "       'Limpieza del rodillo continuo en la línea PRENS002',\n",
              "       'Ayudante CIZAL008', 'Longi 1', 'Maschinenführer 2',\n",
              "       'store-keeper', 'Flejador-embalador',\n",
              "       'Gruista y limpieza de caldera', 'mantenimiento mecánico',\n",
              "       'empaquetador perfiladora de tubos',\n",
              "       'Alimentador Perfiladora Tubos 601',\n",
              "       'Gruista de salida galvanizado', 'CARRETILLERO PRENSAS',\n",
              "       'Operator on Evtek blanking line', 'tooling work',\n",
              "       'Apprentice Maintenance', 'Carretillero', 'Embaladora Longi 6',\n",
              "       'bobinero', 'GRUISTA DE ENTRADA EN TUBOS',\n",
              "       'Auxiliar/Montador Longi 7', 'Maquinista LC4', 'alimentador',\n",
              "       'Embalador',\n",
              "       'Entrada por la puerta número 3 del vehículo de carga para su descarga',\n",
              "       'Ayudante volteador', 'Cargador', 'Kranführer Halle 1 Nord',\n",
              "       'Director de produccción', 'Maschinen- und Anlagenführer',\n",
              "       'GRUISTA LONGI009', 'Operating of press machine', 'Gruista ácido',\n",
              "       'Verlader / Staplerfahrer', 'AUXILIAR LONGI 3',\n",
              "       'EMBALADORA NAVE 2',\n",
              "       'Traslado de bobinas del almacén de materia prima para su corte en la línea transversal PRENS002',\n",
              "       'GRUISTA DE TUBO TRACKER', 'Cargador/descargador',\n",
              "       'Slitting Line Operator', 'Línea de Prensa - Cargador de Bobina',\n",
              "       'Staplerfahrer Halle 2', 'Operario de Linea',\n",
              "       'Operario puente grúa', 'Controlador de proceso',\n",
              "       'Carrying a pole via forklift', 'Maschinenführer 1 Presse 3', '.',\n",
              "       'Flejador TRANS001', 'PERSONAL DE LINEA', 'packaging',\n",
              "       'Forklift Operator', 'LONGI06',\n",
              "       'Operador de Embalagem / Operador Auxiliar', 'Operador II',\n",
              "       'maquinista tubos', 'Verpacker / Bestuecker', 'Verlader',\n",
              "       'Weighbridge Operator', 'OPERARIO DE LINEA', 'Mechatroniker',\n",
              "       'Gruista/carretillero', 'Montador LONGI001', 'Alimentador tubos',\n",
              "       'EMBALADOR 480', 'Titular prensa', 'Shipping Coordinator',\n",
              "       'shift manager', 'Maschinenführer 2 Presse 1',\n",
              "       'Área de manutenção de ferramentas da prensa (Matrizes de corte)',\n",
              "       'LONGI009', 'TREN DE LAMINACIÓN', 'Crane operator',\n",
              "       'Pontonero y maquinista TRANS006',\n",
              "       'Verlader / Staplerfahrer Halle 8', 'PROCESOS', 'OPEN COIL',\n",
              "       'ZONA APILADOR LCP', 'Carga material negro',\n",
              "       'Maschinenführer 2 Presse 2', 'Na', 'Mechatroinker',\n",
              "       'LINEAS DE CORTE LONGITUDINAL',\n",
              "       'Camionero ( PARDO FREIJO) Gruista Gancho C (Gonvauto Galicia)',\n",
              "       'Assistant of line operator', 'Verpacker Halle 8', 'TRANS 4',\n",
              "       'Descargador Galvanizado', 'Chófer/camionero', 'Plazmada kesim',\n",
              "       'Maquinista Trans003', 'Gruista del ácido', 'Entrada Decapado',\n",
              "       'Operador de Recolha de Resíduos', 'Gruista Nave 4.', 'operator',\n",
              "       'Alimentador de perfiladoras de tubos', 'TPM loading car loop',\n",
              "       'Cargue de material', 'Si. Jefe cortadora Mair.',\n",
              "       'Descargador galvanizado', 'AYUDANTE LONGI005',\n",
              "       'Entrada para la descarga del camión con la bobina – no se dispone de datos del conductor',\n",
              "       'Movimentação', 'Grua Caldera Galvanizado',\n",
              "       'VARIOS - EMBALAJE DE BOBINAS',\n",
              "       'sacado de los palés verdes de la zona para suministrarlos a las líneas como bases de palés alternativos, utilizados reiteradamente por Gestamp',\n",
              "       'Automatenbefüller', 'Kranführer Halle 7', 'Caretillero',\n",
              "       'Montador Prensa 002', 'Slitting Operator',\n",
              "       'Maschinenführer 2  LONGI 001', 'Operario de mantenimiento',\n",
              "       'Operador Principal / montador de árvore de navalhas',\n",
              "       'montador LONGI008', 'línea de corte',\n",
              "       'Mick Brennan is responsible for all cranes and lifting equipment',\n",
              "       'Carretillero/Gruista', 'Loading team leader',\n",
              "       'Maquinista LONGI003', 'FLEJADOR TRANS002',\n",
              "       'Manual operation on protective rods', 'Longi 6',\n",
              "       'Operador Principal (Em formação)', 'Cargador descargador',\n",
              "       'Entrada Decapado M1', 'Titular Línea Corte Prensa I',\n",
              "       'Operario de puente grúa', 'CIZALLA', 'truck driver', 'TRANS002',\n",
              "       'LkW-Fahrer', 'CARPINTERO TRANS002', 'Forklift driver',\n",
              "       'CARRETILLA', 'EMBALADORA', 'Auxiliar de Producción',\n",
              "       'Material  Handler / Slitting Operator',\n",
              "       'maquinista de maquina de corte Tecoi', 'Titular de longi004',\n",
              "       'Oxygen welding', 'MAQUINISTA LONGI008', 'Torro Hyster',\n",
              "       'Tornero ajustador', 'Personal de mantenimiento', 'Embaladora 2',\n",
              "       'Verpacker', 'Maschinenführer 1', 'Flejador/ ayudante TRANS007',\n",
              "       'Mecanico', 'Auxiliar Línea Corte Longitudinal', 'Kranfahrer',\n",
              "       'Alimentador', 'Cizal - Guilhotina',\n",
              "       'Puente Grua Longitudinales Y Transversales',\n",
              "       'operator on packaging line', 'DIRECTOR COMERCIAL',\n",
              "       'Recibido de galvanizado', 'Maquinista plasma',\n",
              "       'packaking -road safety', 'Toolmaker', 'Perfiladora Casset',\n",
              "       'Gruista de salida', 'Traslados', 'Operario Entrada Decapado',\n",
              "       'Maschinenführer Presse 3', 'assembler of circular knives',\n",
              "       'caretillero', 'Kranführer Halle 0', 'Rework',\n",
              "       'Maquinista líder PRENS004', 'Expedição - enlonamento',\n",
              "       'GRUISTA NAVE 5', 'Si. Operario Rattunde en Formacion',\n",
              "       'GRUISTA PTA008', 'GRUISTA DE CALDERA Y OPERARIOS DE LIMPIEZA',\n",
              "       'Equipo de preparación de montajes', 'Jigging',\n",
              "       'Operador auxiliar LCT', 'LCL 01', 'MF2 Anlernen', 'Almacenes',\n",
              "       'Operario de Puente Grúa', 'Maintenance Engineer',\n",
              "       'Titular TRANS003', 'LONGI008', 'material carrying-plasma',\n",
              "       'Kranführer Halle 3', 'Regular function', 'Jefe Ventas Zona Sur',\n",
              "       'Slitter Operators ', 'Punzonadora',\n",
              "       'Gruista de caldera y limpieza de caldera', '包装packaging',\n",
              "       'Engraving', 'packaging worker', 'worker',\n",
              "       'Gruista y Maquinista Trans', 'Bediener Biele-Wender, Halle 8',\n",
              "       'slitting Op ', 'Mitarbeiter Produktion', 'PRENSA 001',\n",
              "       'press op ', 'Maschinenführer Presse 7',\n",
              "       'Montador / Auxiliar LONGI003', 'welding', 'Gruista Procesos',\n",
              "       'LONGI004', 'LIDER LONGI06', 'Packer', 'GRUISTA TRANS004',\n",
              "       'GRUISTA DE ENTRADA LINEA DE DECAPADO', '-', 'Bobinero',\n",
              "       'Titular de Línea', 'Perfiles abiertos', 'Grúa de salida',\n",
              "       'EMBALADOR 015', 'Linha de corte transversal', 'Painting',\n",
              "       'Ferienarbeiter', 'CARGADOR ENTRADA', 'supervisor',\n",
              "       'MAQUINISTA PRENSA004', 'Gruista zona negro',\n",
              "       'Mantenimiento electrico', 'Gruista Longi004 -Longi008', 'Hornero',\n",
              "       'MF2 LONGI001', 'Packaging Operator', 'Driver for Adam Jones',\n",
              "       'Operador puente grúa', 'MONTADORA', 'Titular LCL',\n",
              "       'Alimentador tubos 601', 'galvanized-hanging-handling',\n",
              "       'Staplerfahrerin', 'Auxiliar TRANS003', 'Empaquetador',\n",
              "       'AUXILIAR TRANS 4', 'Staplerfahrer Halle 7', 'OPERARIO LONGI 3',\n",
              "       'Supplier', 'LCP 03', 'Titular Robot Soldadura 002',\n",
              "       'Embalador Prensas', 'Si', 'Chófer', 'NÃO SE APLICA',\n",
              "       'Auxiliar LONGI003',\n",
              "       'Tool & Die tech from Gestamp working onsite at Gonvauto',\n",
              "       'LONGI2', 'Gruista de tubo tracker', 'MF1 Presse 2',\n",
              "       'Descarga galvanizado', 'UTILLERO GALVANIZADO',\n",
              "       'Maquinista Adige TS72', 'Hornero Aprendiz',\n",
              "       'ayudante de longitudinal', 'Metarial Handling', 'Camionero',\n",
              "       'Técnico de Mantenimiento', 'ENH PRODUCTION',\n",
              "       'Maschinenführer1 (MF1)', 'Mitarbeiter Schrottentsorgung',\n",
              "       'Utillero', 'Maschinenbediener Presse 5', 'Tubos',\n",
              "       'Maschinenbediener/-einrichter Presse 5', 'GRUISTA TRANS002',\n",
              "       'Operador de Embalagem', 'OPERARIOS DE CARGA',\n",
              "       'Maquinista Longi 3', 'Maquinista linea de corte longitudinal',\n",
              "       'EMABALADOR', 'Gruista caldera', 'Maschinenführer 1, Presse 3',\n",
              "       'Ayudante de longitudinal', 'Werkzeugbau',\n",
              "       'Alimentador de perfiladora', 'Líneas de Corte Longitudinal',\n",
              "       'Embalador 1 (en capacitación)', 'Flejador Línea Corte Prensa I',\n",
              "       'Maschinenführer LONGI002',\n",
              "       'Embalaje del material en la línea de embalaje, cliente: Hydrapres S.A',\n",
              "       'toolmaker', 'Verpacker Halle 3', 'Titular LONGI008',\n",
              "       'Inspector de Calidad', 'Press Operator',\n",
              "       'Mitarbeiter Qualitätsmanagement', 'soldador maquinista',\n",
              "       'ayudante longi008', 'Titular Circulares', 'Kranführer H1 Nord',\n",
              "       'Forklift', 'Flejador LONGI001', 'Operario de granallado',\n",
              "       'Saumschrott durchtrennen', 'Recibidor línea 3mts',\n",
              "       'Operario máquina III', 'gruista', 'AYUDANTE PRENS001',\n",
              "       'carretillero', 'Maschinenführer 1 Presse 5', 'Carpinteria',\n",
              "       'Jefe de gestión de Mantenimiento', 'Stacker Operator',\n",
              "       'ayudante longitudinal', 'Titular Línea Corte Transversal',\n",
              "       'Press Operator/Crane', 'Puente Grua Tubos',\n",
              "       'Auszubildender Mechatroniker', 'Responsable de Calidad, SGI, SPG',\n",
              "       'Activación del descenso de la puerta después de haber entrado en la nave para preparar el vehículo para la descarga en la zona designada.',\n",
              "       'MATRICERO', 'gruista tracker',\n",
              "       'Ensamblado tubo tracker (plantilla 2)',\n",
              "       'Maschinenführer 1, Presse 2', 'Staplerfahrer Halle 8',\n",
              "       'Accidente que ocurre en la planta de un cliente con una cantonera colocada en un paquete de formatos enviado desde nuestra planta',\n",
              "       'Maschinenführer 2 LONGI001', 'Handling', 'Trasladando bobina',\n",
              "       'Operador Logistico', 'Maestro', 'MONTADOR', 'TORO GRANDE',\n",
              "       'maquinista de maquina laser', 'Gruísta',\n",
              "       'Auxiliar/montador LONGI002', 'carretilla', 'Chofer',\n",
              "       'EMBALADORA LC6', 'Operario de Máquina', 'Forklift kullan?m?',\n",
              "       'Staplerfahrer Halle 2 und 3', 'Operario plasma', 'Chofer camión',\n",
              "       'Controlador de procesos', 'GRUISTA EXTERNO',\n",
              "       'Logistic Forklift Driver', 'Colgador', 'Jefe de Mantenimiento',\n",
              "       'Operador Auxiliar / Montador de árvores de navalhas',\n",
              "       'Team Leader', 'Staplerfahrer', 'LONGI 6', 'AYUDANTE PRENS004',\n",
              "       'galvanized packaking', '/ ', 'sierra de madera', ': Operador II',\n",
              "       'operatorof Press', 'Gruista de entrada',\n",
              "       'Cargador/descargador galvanizado', 'soldadura', 'Maestro II',\n",
              "       'LONGI 5', 'guardrail-road safety', 'Gruista carga nave 6A',\n",
              "       'Operador de Embalagem LCL', 'AYUDANTE PRENSAS', 'AUXILIAR LONGI',\n",
              "       'packaging operator', 'AYUDANTE LONGI004', 'operator of packaging',\n",
              "       'Reemplazo de herramienta en la línea de corte transversal PRENS002',\n",
              "       'Gruista de caldera', 'Maschinenführerin 1', 'Forkift driver',\n",
              "       'soldador', 'maquinista lc', 'MAQUINISTA Y AYUDANTE TRANSVERSAL 4',\n",
              "       'TRASLADOS', 'Si (empresa externa)', 'Descarga Galvanizado.',\n",
              "       'Laser Trumpf', 'Operador Principal', 'gruista de salida',\n",
              "       'Flejado y embalado', 'Press Operators', 'Montador/auxiliar',\n",
              "       'Operador de montacargas', 'Operador principal',\n",
              "       'Titular de linea', 'galvanized - hanger', 'Gruista perfiladoras',\n",
              "       'SI', 'Auxiliar', 'Anlagenführer Laser 5', 'manager',\n",
              "       'Operario de maquina l', 'Handling / packaking',\n",
              "       'Bestücker / Verpacker LONGI001', 'ENH CNC OPERATOR',\n",
              "       'Salida Galvanizado', 'Gruista tubos', 'MF2 Presse 5',\n",
              "       'wrapping and packing bundles of steel ', 'Maintenance Manager',\n",
              "       'Stacker - training as forklift driver', 'Alimentador Tubos',\n",
              "       'Soldador 001', 'Maquinista Sierra de corte Adige1',\n",
              "       'line operator', 'Operador Logistico I',\n",
              "       'Maschinenführer 2 Presse 3', 'Operario de pantógrafo',\n",
              "       'Recibidor Línea de 7m', 'Auxiliar de linea',\n",
              "       'Operador Logística 2', 'SI. Carretillero', 'Pote Galvanizado',\n",
              "       'CARRETILLERO', 'Troquelista', 'none', 'foreman', 'EMBALADORA015',\n",
              "       'Maschinenführer 2 Presse 7', 'camionero', 'slitting operator',\n",
              "       'Power Press Op',\n",
              "       'Titular y ayudantes de Perfiladora de Dimeco Perfi012',\n",
              "       'embaladora nave 2', 'Recogedor de cizallas',\n",
              "       'Gruista de evacuación de maquinas',\n",
              "       'Ayudante de perfiladora de Dimeco',\n",
              "       'Titular/ayudante de perfiladoras', 'Ayudante longitudinal',\n",
              "       'plasma', 'gruista en nave 6b zona carga', 'Titular L-8',\n",
              "       'Carretillero Railsider', 'Gruista', 'LIDER LONGI002', 'MF1 LONGI',\n",
              "       'CARPINTERIA', 'Tornero mecanico', 'Alimentador P3',\n",
              "       'OPERARIO LONGI 05', 'operative Logistikfachkraft',\n",
              "       'crane operator', 'Final Product Logistic Operator',\n",
              "       'linea de manutencion', 'Maquinista tubos',\n",
              "       'CHOFER CAMIÓN CARPINTERIA', 'Titular Linea',\n",
              "       'Auxiliar de produccion', 'Crane Operator', 'Soldador',\n",
              "       'MAQUINISTA PERFILADORAS', 'Empaquetador perfiladoras',\n",
              "       'Auxiliar de producción', 'Embalador 1', 'Operario de producción',\n",
              "       'Gruista LONGI004 y LONGI008', 'si', 'Gruista entrada decapado'],\n",
              "      dtype=object)"
            ]
          },
          "metadata": {
            "tags": []
          },
          "execution_count": 435
        }
      ]
    },
    {
      "cell_type": "code",
      "metadata": {
        "id": "S_rVpEjurIC0"
      },
      "source": [
        "staff.drop(columns={'Puesto habitual de trabajo'}, inplace=True)"
      ],
      "execution_count": 436,
      "outputs": []
    },
    {
      "cell_type": "code",
      "metadata": {
        "id": "fi_sEKJVgtPT"
      },
      "source": [
        "#gender\n",
        "\n",
        "staff.rename(columns={'Género':'Gender'}, inplace=True)\n"
      ],
      "execution_count": 437,
      "outputs": []
    },
    {
      "cell_type": "code",
      "metadata": {
        "colab": {
          "base_uri": "https://localhost:8080/"
        },
        "id": "ClWWt7J0q7ct",
        "outputId": "580aa4d3-9330-486b-8af0-0014046d089b"
      },
      "source": [
        "staff['Gender'].unique()"
      ],
      "execution_count": 438,
      "outputs": [
        {
          "output_type": "execute_result",
          "data": {
            "text/plain": [
              "array(['Hombre', nan, 'Mujer'], dtype=object)"
            ]
          },
          "metadata": {
            "tags": []
          },
          "execution_count": 438
        }
      ]
    },
    {
      "cell_type": "code",
      "metadata": {
        "id": "q40fmLfHrRtY"
      },
      "source": [
        "staff['Gender'] = staff['Gender'].fillna('Hombre')"
      ],
      "execution_count": 439,
      "outputs": []
    },
    {
      "cell_type": "code",
      "metadata": {
        "colab": {
          "base_uri": "https://localhost:8080/"
        },
        "id": "TYtAeC8_rvBV",
        "outputId": "27928f00-f358-49db-9265-c3cf7cb45dd8"
      },
      "source": [
        "len(staff[staff['Gender'].isnull()])"
      ],
      "execution_count": 440,
      "outputs": [
        {
          "output_type": "execute_result",
          "data": {
            "text/plain": [
              "0"
            ]
          },
          "metadata": {
            "tags": []
          },
          "execution_count": 440
        }
      ]
    },
    {
      "cell_type": "code",
      "metadata": {
        "id": "vcpecFlvtJCw",
        "colab": {
          "base_uri": "https://localhost:8080/"
        },
        "outputId": "15984210-55a9-47cf-d8fa-6035c2e2294a"
      },
      "source": [
        "staff['Gender'].unique()"
      ],
      "execution_count": 441,
      "outputs": [
        {
          "output_type": "execute_result",
          "data": {
            "text/plain": [
              "array(['Hombre', 'Mujer'], dtype=object)"
            ]
          },
          "metadata": {
            "tags": []
          },
          "execution_count": 441
        }
      ]
    },
    {
      "cell_type": "markdown",
      "metadata": {
        "id": "On0qind9Q7vT"
      },
      "source": [
        "Checking if we have null values in turno"
      ]
    },
    {
      "cell_type": "code",
      "metadata": {
        "colab": {
          "base_uri": "https://localhost:8080/"
        },
        "id": "5mgU0fRMQtMk",
        "outputId": "0accce2e-ef8a-4bc2-afa2-3398d106f75c"
      },
      "source": [
        "staff.Turno.isnull().any()"
      ],
      "execution_count": 442,
      "outputs": [
        {
          "output_type": "execute_result",
          "data": {
            "text/plain": [
              "False"
            ]
          },
          "metadata": {
            "tags": []
          },
          "execution_count": 442
        }
      ]
    },
    {
      "cell_type": "markdown",
      "metadata": {
        "id": "xMtW2ta4RLKn"
      },
      "source": [
        "Checking for nulls in age:\n",
        "\n",
        "As we have null values we are goign to reassing the age range based on the proportion of the tables we hav analyzed"
      ]
    },
    {
      "cell_type": "code",
      "metadata": {
        "colab": {
          "base_uri": "https://localhost:8080/"
        },
        "id": "VfoOTxnNRFqQ",
        "outputId": "75895acc-6c02-4953-943c-2c1440833d0c"
      },
      "source": [
        "staff.Edad.isnull().any()"
      ],
      "execution_count": 443,
      "outputs": [
        {
          "output_type": "execute_result",
          "data": {
            "text/plain": [
              "True"
            ]
          },
          "metadata": {
            "tags": []
          },
          "execution_count": 443
        }
      ]
    },
    {
      "cell_type": "code",
      "metadata": {
        "colab": {
          "base_uri": "https://localhost:8080/"
        },
        "id": "2vsQ-xouRN5u",
        "outputId": "391aca06-b1c4-42d1-8367-d8095ac28224"
      },
      "source": [
        "len(staff[staff.Edad.isnull()])"
      ],
      "execution_count": 444,
      "outputs": [
        {
          "output_type": "execute_result",
          "data": {
            "text/plain": [
              "1855"
            ]
          },
          "metadata": {
            "tags": []
          },
          "execution_count": 444
        }
      ]
    },
    {
      "cell_type": "code",
      "metadata": {
        "id": "FrNrlUx9TAk3"
      },
      "source": [
        "rangos_edad = ['Menor 30', 'Entre 30-50', 'Mayor 50']\n",
        "weights = {'Hombre':[0.2, 0.44, 0.36], 'Mujer':[0.2,0.55,0.25]}"
      ],
      "execution_count": 445,
      "outputs": []
    },
    {
      "cell_type": "code",
      "metadata": {
        "id": "c4hqSPXrTWYv"
      },
      "source": [
        "np.random.seed(0)\n",
        "\n",
        "def apply_randoms(x):\n",
        "  key = x['Gender'].iat[0]\n",
        "  return pd.Series(np.random.choice(rangos_edad, size=len(x), p=weights[key]))"
      ],
      "execution_count": 446,
      "outputs": []
    },
    {
      "cell_type": "code",
      "metadata": {
        "id": "xo_dqWllTmdP"
      },
      "source": [
        "staff['Age'] = staff.groupby('Gender').apply(apply_randoms)\\\n",
        "       .rename('Age').reset_index().drop('level_1', 1)['Age']"
      ],
      "execution_count": 447,
      "outputs": []
    },
    {
      "cell_type": "code",
      "metadata": {
        "id": "a0IPi-T0Vr75"
      },
      "source": [
        "staff.drop(columns={'Edad'}, inplace=True)"
      ],
      "execution_count": 448,
      "outputs": []
    },
    {
      "cell_type": "markdown",
      "metadata": {
        "id": "cTtN_YqqWBxD"
      },
      "source": [
        "Checking is there is any row with null at type of accident"
      ]
    },
    {
      "cell_type": "code",
      "metadata": {
        "colab": {
          "base_uri": "https://localhost:8080/"
        },
        "id": "P1Nsvpr4V8nS",
        "outputId": "9fc5dda3-2fd0-4ef8-de20-63f1de35dc91"
      },
      "source": [
        "staff['Tipo accidente'].isnull().any()"
      ],
      "execution_count": 449,
      "outputs": [
        {
          "output_type": "execute_result",
          "data": {
            "text/plain": [
              "False"
            ]
          },
          "metadata": {
            "tags": []
          },
          "execution_count": 449
        }
      ]
    },
    {
      "cell_type": "markdown",
      "metadata": {
        "id": "TG3K4TseWNM0"
      },
      "source": [
        "Worker type have null values at some rows"
      ]
    },
    {
      "cell_type": "code",
      "metadata": {
        "colab": {
          "base_uri": "https://localhost:8080/"
        },
        "id": "60IWQzzvV6Ak",
        "outputId": "1fba3fae-ef77-4e35-d1de-9d5df2872f5a"
      },
      "source": [
        "staff['Tipo trabajador'].isnull().any()"
      ],
      "execution_count": 450,
      "outputs": [
        {
          "output_type": "execute_result",
          "data": {
            "text/plain": [
              "True"
            ]
          },
          "metadata": {
            "tags": []
          },
          "execution_count": 450
        }
      ]
    },
    {
      "cell_type": "code",
      "metadata": {
        "colab": {
          "base_uri": "https://localhost:8080/"
        },
        "id": "etiwpbahWeo6",
        "outputId": "deab5986-9cc5-4376-8026-a2a530e84050"
      },
      "source": [
        "staff['Tipo trabajador'].unique()"
      ],
      "execution_count": 451,
      "outputs": [
        {
          "output_type": "execute_result",
          "data": {
            "text/plain": [
              "array(['ETT', 'Indefinido', 'Duración Determinada',\n",
              "       'Incidente (no aplica)', 'Subcontratado', 'Prácticas', nan,\n",
              "       'Cedidos de otras plantas', 'No aplica', 'Indefinido con preaviso'],\n",
              "      dtype=object)"
            ]
          },
          "metadata": {
            "tags": []
          },
          "execution_count": 451
        }
      ]
    },
    {
      "cell_type": "code",
      "metadata": {
        "colab": {
          "base_uri": "https://localhost:8080/",
          "height": 244
        },
        "id": "1U8ShHwkWitG",
        "outputId": "5f1c5f2e-2188-4718-dce7-641f3f8d6dc6"
      },
      "source": [
        "staff[staff['Tipo trabajador'].isnull()] #As we only have two values null we are going to assign directly 'Indefinido'"
      ],
      "execution_count": 452,
      "outputs": [
        {
          "output_type": "execute_result",
          "data": {
            "text/html": [
              "<div>\n",
              "<style scoped>\n",
              "    .dataframe tbody tr th:only-of-type {\n",
              "        vertical-align: middle;\n",
              "    }\n",
              "\n",
              "    .dataframe tbody tr th {\n",
              "        vertical-align: top;\n",
              "    }\n",
              "\n",
              "    .dataframe thead th {\n",
              "        text-align: right;\n",
              "    }\n",
              "</style>\n",
              "<table border=\"1\" class=\"dataframe\">\n",
              "  <thead>\n",
              "    <tr style=\"text-align: right;\">\n",
              "      <th></th>\n",
              "      <th>Codigo accidentado</th>\n",
              "      <th>Turno</th>\n",
              "      <th>Gender</th>\n",
              "      <th>Planta</th>\n",
              "      <th>Tipo accidente</th>\n",
              "      <th>Tipo trabajador</th>\n",
              "      <th>Gravedad potencial</th>\n",
              "      <th>Lugar o seccion accidente</th>\n",
              "      <th>Fabrica</th>\n",
              "      <th>Tecnología</th>\n",
              "      <th>Pais</th>\n",
              "      <th>Horas Presencia Efectiva Subcontratados</th>\n",
              "      <th>Horas Presencia Efectiva ETTs</th>\n",
              "      <th>Horas Formacion Seguridad Propios</th>\n",
              "      <th>Horas Formacion Seguridad ETTs</th>\n",
              "      <th>Accident</th>\n",
              "      <th>wk_position</th>\n",
              "      <th>Age</th>\n",
              "    </tr>\n",
              "  </thead>\n",
              "  <tbody>\n",
              "    <tr>\n",
              "      <th>2831</th>\n",
              "      <td>HS-NVRR_8597</td>\n",
              "      <td>Turno de mañana</td>\n",
              "      <td>Hombre</td>\n",
              "      <td>13</td>\n",
              "      <td>Incidente</td>\n",
              "      <td>NaN</td>\n",
              "      <td>Leve</td>\n",
              "      <td>Carretilla</td>\n",
              "      <td>Burgos</td>\n",
              "      <td>Blanking</td>\n",
              "      <td>España</td>\n",
              "      <td>25249.0</td>\n",
              "      <td>42484.0</td>\n",
              "      <td>1419.3</td>\n",
              "      <td>830.1</td>\n",
              "      <td>Yes</td>\n",
              "      <td>galvanizado</td>\n",
              "      <td>Menor 30</td>\n",
              "    </tr>\n",
              "    <tr>\n",
              "      <th>2832</th>\n",
              "      <td>HS-NVRR_8598</td>\n",
              "      <td>Turno de mañana</td>\n",
              "      <td>Hombre</td>\n",
              "      <td>13</td>\n",
              "      <td>Incidente</td>\n",
              "      <td>NaN</td>\n",
              "      <td>Leve</td>\n",
              "      <td>Carretilla</td>\n",
              "      <td>Burgos</td>\n",
              "      <td>Blanking</td>\n",
              "      <td>España</td>\n",
              "      <td>25249.0</td>\n",
              "      <td>42484.0</td>\n",
              "      <td>1419.3</td>\n",
              "      <td>830.1</td>\n",
              "      <td>Yes</td>\n",
              "      <td>Titular de Linea</td>\n",
              "      <td>Mayor 50</td>\n",
              "    </tr>\n",
              "  </tbody>\n",
              "</table>\n",
              "</div>"
            ],
            "text/plain": [
              "     Codigo accidentado            Turno  ...       wk_position       Age\n",
              "2831       HS-NVRR_8597  Turno de mañana  ...       galvanizado  Menor 30\n",
              "2832       HS-NVRR_8598  Turno de mañana  ...  Titular de Linea  Mayor 50\n",
              "\n",
              "[2 rows x 18 columns]"
            ]
          },
          "metadata": {
            "tags": []
          },
          "execution_count": 452
        }
      ]
    },
    {
      "cell_type": "code",
      "metadata": {
        "id": "YWHUxreCWziC"
      },
      "source": [
        "staff['Tipo trabajador'] = staff['Tipo trabajador'].fillna('Indefinido')"
      ],
      "execution_count": 453,
      "outputs": []
    },
    {
      "cell_type": "code",
      "metadata": {
        "colab": {
          "base_uri": "https://localhost:8080/"
        },
        "id": "rO8DKxDoW5pT",
        "outputId": "4d1ec570-4f44-490d-f659-4fcf7ae28cce"
      },
      "source": [
        "staff['Tipo trabajador'].isnull().any()"
      ],
      "execution_count": 454,
      "outputs": [
        {
          "output_type": "execute_result",
          "data": {
            "text/plain": [
              "False"
            ]
          },
          "metadata": {
            "tags": []
          },
          "execution_count": 454
        }
      ]
    },
    {
      "cell_type": "markdown",
      "metadata": {
        "id": "ybuCX7ewW-ki"
      },
      "source": [
        "Potential Severity columns has null values as well"
      ]
    },
    {
      "cell_type": "code",
      "metadata": {
        "colab": {
          "base_uri": "https://localhost:8080/"
        },
        "id": "vC75AR5RW7o4",
        "outputId": "39c83b0a-07d4-47d8-eb41-eda7b5ff0e95"
      },
      "source": [
        "staff['Gravedad potencial'].isnull().any()"
      ],
      "execution_count": 455,
      "outputs": [
        {
          "output_type": "execute_result",
          "data": {
            "text/plain": [
              "True"
            ]
          },
          "metadata": {
            "tags": []
          },
          "execution_count": 455
        }
      ]
    },
    {
      "cell_type": "code",
      "metadata": {
        "colab": {
          "base_uri": "https://localhost:8080/"
        },
        "id": "ssjB5QElXES6",
        "outputId": "76b80fdf-c7b6-412b-bf0b-a6f55b20b4bd"
      },
      "source": [
        "len(staff[staff['Gravedad potencial'].isnull()])"
      ],
      "execution_count": 456,
      "outputs": [
        {
          "output_type": "execute_result",
          "data": {
            "text/plain": [
              "1009"
            ]
          },
          "metadata": {
            "tags": []
          },
          "execution_count": 456
        }
      ]
    },
    {
      "cell_type": "code",
      "metadata": {
        "id": "O_4-3_RqXLlo"
      },
      "source": [
        "## we are going to assign it randomly\n",
        "staff['Gravedad potencial'].unique()\n",
        "severity = ['Muy grave', 'Leve', 'Grave']"
      ],
      "execution_count": 457,
      "outputs": []
    },
    {
      "cell_type": "code",
      "metadata": {
        "id": "vzT-nAysXaWy"
      },
      "source": [
        "for i in staff['Gravedad potencial']:\n",
        "\n",
        "  if str(i) == 'nan':\n",
        "    staff['Severity'] = np.random.choice(severity, size=len(staff))\n",
        "  else:\n",
        "    staff['Severity'] = i\n"
      ],
      "execution_count": 458,
      "outputs": []
    },
    {
      "cell_type": "code",
      "metadata": {
        "colab": {
          "base_uri": "https://localhost:8080/"
        },
        "id": "0fFOxJE5YipI",
        "outputId": "11d2b71b-0e5a-436e-fc82-0724e8e8f1d6"
      },
      "source": [
        "staff['Severity'].isnull().any()"
      ],
      "execution_count": 459,
      "outputs": [
        {
          "output_type": "execute_result",
          "data": {
            "text/plain": [
              "False"
            ]
          },
          "metadata": {
            "tags": []
          },
          "execution_count": 459
        }
      ]
    },
    {
      "cell_type": "code",
      "metadata": {
        "colab": {
          "base_uri": "https://localhost:8080/"
        },
        "id": "gefUfwVkYlKe",
        "outputId": "593c3f4b-783a-4d6d-888b-8f35db858208"
      },
      "source": [
        "staff['Severity'].unique()"
      ],
      "execution_count": 460,
      "outputs": [
        {
          "output_type": "execute_result",
          "data": {
            "text/plain": [
              "array(['Leve', 'Muy grave', 'Grave'], dtype=object)"
            ]
          },
          "metadata": {
            "tags": []
          },
          "execution_count": 460
        }
      ]
    },
    {
      "cell_type": "code",
      "metadata": {
        "id": "NtBRkmeiZVnN"
      },
      "source": [
        "staff.drop(columns={'Gravedad potencial'}, inplace=True)"
      ],
      "execution_count": 461,
      "outputs": []
    },
    {
      "cell_type": "markdown",
      "metadata": {
        "id": "sibFbBZeYoPq"
      },
      "source": [
        "Aciccent's place/section"
      ]
    },
    {
      "cell_type": "code",
      "metadata": {
        "colab": {
          "base_uri": "https://localhost:8080/"
        },
        "id": "aobbvPbFYoiO",
        "outputId": "7e9f7ccf-8479-4ffd-ad1e-89d48175f07b"
      },
      "source": [
        "staff['Lugar o seccion accidente'].isnull().any()"
      ],
      "execution_count": 462,
      "outputs": [
        {
          "output_type": "execute_result",
          "data": {
            "text/plain": [
              "True"
            ]
          },
          "metadata": {
            "tags": []
          },
          "execution_count": 462
        }
      ]
    },
    {
      "cell_type": "code",
      "metadata": {
        "colab": {
          "base_uri": "https://localhost:8080/"
        },
        "id": "ahjhHbcGYwG1",
        "outputId": "c852e9f8-3ed5-4449-92fe-3d13629f6c70"
      },
      "source": [
        "len(staff[staff['Lugar o seccion accidente'].isnull()])"
      ],
      "execution_count": 463,
      "outputs": [
        {
          "output_type": "execute_result",
          "data": {
            "text/plain": [
              "63"
            ]
          },
          "metadata": {
            "tags": []
          },
          "execution_count": 463
        }
      ]
    },
    {
      "cell_type": "code",
      "metadata": {
        "colab": {
          "base_uri": "https://localhost:8080/"
        },
        "id": "q2vSNBsDY3u_",
        "outputId": "c8e40110-ff89-4c4c-91f1-abb98c9ad82c"
      },
      "source": [
        "staff['Lugar o seccion accidente'].unique()"
      ],
      "execution_count": 464,
      "outputs": [
        {
          "output_type": "execute_result",
          "data": {
            "text/plain": [
              "array(['Células Soldadura', 'Tubos', 'Almacén de Producto Terminado',\n",
              "       'Blanking', 'Corte Longitudinal', 'Corte Transversal',\n",
              "       'Almacén de Materia Prima', 'Cizalla', 'Decapado', 'Puente Grúa',\n",
              "       'Carpinteria', 'Galvanizado Inmersión', nan, 'Maquinaria Auxiliar',\n",
              "       'Corte Plasma', 'Perfiles abiertos', 'Corte Láser',\n",
              "       'Almacen productos quimicos', 'Corte Láser 3D',\n",
              "       'Instalaciones exteriores y auxiliares', 'Mantenimiento', 'Prensa',\n",
              "       'Almacén producto semielaborado o en producción', 'Carretilla',\n",
              "       'Sierra', 'Oficinas administrativas', 'Área de embalado',\n",
              "       'Punzonado', 'Soldadura Manual', 'Limpieza/Prepintado',\n",
              "       'Galvanizado continuo', 'Perforado', 'Coil to Coil',\n",
              "       'Tailor Welding', 'Galvanizado ', 'Almacen de recambios',\n",
              "       'Galvanizado', 'Electrozincado', 'Pintura', 'General / Auxiliar',\n",
              "       'Perfilado de barrera y postes', 'Skinpass', 'Slitting ',\n",
              "       'General', 'Press Blanking', 'Laminado', 'Ablation Line',\n",
              "       'Slitting', 'D-Ring Line', 'Multi Strand'], dtype=object)"
            ]
          },
          "metadata": {
            "tags": []
          },
          "execution_count": 464
        }
      ]
    },
    {
      "cell_type": "code",
      "metadata": {
        "id": "1_CNhHvuY7Xb"
      },
      "source": [
        "place_acc = ['Células Soldadura', 'Tubos', 'Almacén de Producto Terminado',\n",
        "       'Blanking', 'Corte Longitudinal', 'Corte Transversal',\n",
        "       'Almacén de Materia Prima', 'Cizalla', 'Decapado', 'Puente Grúa',\n",
        "       'Carpinteria', 'Galvanizado Inmersión',  'Maquinaria Auxiliar',\n",
        "       'Corte Plasma', 'Perfiles abiertos', 'Corte Láser',\n",
        "       'Almacen productos quimicos', 'Corte Láser 3D',\n",
        "       'Instalaciones exteriores y auxiliares', 'Mantenimiento', 'Prensa',\n",
        "       'Almacén producto semielaborado o en producción', 'Carretilla',\n",
        "       'Sierra', 'Oficinas administrativas', 'Área de embalado',\n",
        "       'Punzonado', 'Soldadura Manual', 'Limpieza/Prepintado',\n",
        "       'Galvanizado continuo', 'Perforado', 'Coil to Coil',\n",
        "       'Tailor Welding', 'Galvanizado ', 'Almacen de recambios',\n",
        "       'Galvanizado', 'Electrozincado', 'Pintura', 'General / Auxiliar',\n",
        "       'Perfilado de barrera y postes', 'Skinpass', 'Slitting ',\n",
        "       'General', 'Press Blanking', 'Laminado', 'Ablation Line',\n",
        "       'Slitting', 'D-Ring Line', 'Multi Strand']"
      ],
      "execution_count": 465,
      "outputs": []
    },
    {
      "cell_type": "code",
      "metadata": {
        "id": "FiKK_r8rZCP7"
      },
      "source": [
        "for i in staff['Lugar o seccion accidente']:\n",
        "\n",
        "  if str(i) == 'nan':\n",
        "    staff['Accident_place'] = np.random.choice(place_acc, size=len(staff))\n",
        "  else:\n",
        "    staff['Accident_place'] = i"
      ],
      "execution_count": 466,
      "outputs": []
    },
    {
      "cell_type": "code",
      "metadata": {
        "colab": {
          "base_uri": "https://localhost:8080/"
        },
        "id": "_tOXAMrtZK6s",
        "outputId": "49dd0f75-3e6c-4c23-85b3-6041949c4f76"
      },
      "source": [
        "staff['Accident_place'].isnull().any()"
      ],
      "execution_count": 467,
      "outputs": [
        {
          "output_type": "execute_result",
          "data": {
            "text/plain": [
              "False"
            ]
          },
          "metadata": {
            "tags": []
          },
          "execution_count": 467
        }
      ]
    },
    {
      "cell_type": "code",
      "metadata": {
        "id": "jRwSx7dnZPOb"
      },
      "source": [
        "staff.drop(columns={'Lugar o seccion accidente'}, inplace=True)"
      ],
      "execution_count": 468,
      "outputs": []
    },
    {
      "cell_type": "markdown",
      "metadata": {
        "id": "YsUVAcDlZg6-"
      },
      "source": [
        "There arent any null values in Fabric column, technology and country fields are from fabric so the will be filled as well"
      ]
    },
    {
      "cell_type": "code",
      "metadata": {
        "colab": {
          "base_uri": "https://localhost:8080/"
        },
        "id": "g5x_ldO5Zipl",
        "outputId": "8c454ae6-bb67-423e-ec36-42e60efd67c3"
      },
      "source": [
        "staff['Fabrica'].isnull().any()"
      ],
      "execution_count": 469,
      "outputs": [
        {
          "output_type": "execute_result",
          "data": {
            "text/plain": [
              "False"
            ]
          },
          "metadata": {
            "tags": []
          },
          "execution_count": 469
        }
      ]
    },
    {
      "cell_type": "markdown",
      "metadata": {
        "id": "AmJ8A8IZZ04t"
      },
      "source": [
        "Now we are going to check the columns of efective presence hours"
      ]
    },
    {
      "cell_type": "code",
      "metadata": {
        "colab": {
          "base_uri": "https://localhost:8080/"
        },
        "id": "-oDdy55OZxBP",
        "outputId": "abdbeeb9-dce2-4350-9e0d-3a05ae078dae"
      },
      "source": [
        "staff['Horas Presencia Efectiva Subcontratados'].isnull().any()"
      ],
      "execution_count": 470,
      "outputs": [
        {
          "output_type": "execute_result",
          "data": {
            "text/plain": [
              "False"
            ]
          },
          "metadata": {
            "tags": []
          },
          "execution_count": 470
        }
      ]
    },
    {
      "cell_type": "code",
      "metadata": {
        "colab": {
          "base_uri": "https://localhost:8080/"
        },
        "id": "s2A5wluPZ_p2",
        "outputId": "8dd397dd-dd64-4bb3-c317-cf3edb26028b"
      },
      "source": [
        "staff['Horas Presencia Efectiva ETTs'].isnull().any()"
      ],
      "execution_count": 471,
      "outputs": [
        {
          "output_type": "execute_result",
          "data": {
            "text/plain": [
              "False"
            ]
          },
          "metadata": {
            "tags": []
          },
          "execution_count": 471
        }
      ]
    },
    {
      "cell_type": "code",
      "metadata": {
        "colab": {
          "base_uri": "https://localhost:8080/"
        },
        "id": "K9tsFwMcZ_yp",
        "outputId": "fc7f3ace-8555-4b5e-9b5e-840248283372"
      },
      "source": [
        "staff['Horas Formacion Seguridad Propios'].isnull().any()"
      ],
      "execution_count": 472,
      "outputs": [
        {
          "output_type": "execute_result",
          "data": {
            "text/plain": [
              "False"
            ]
          },
          "metadata": {
            "tags": []
          },
          "execution_count": 472
        }
      ]
    },
    {
      "cell_type": "code",
      "metadata": {
        "colab": {
          "base_uri": "https://localhost:8080/"
        },
        "id": "fw6NRZcRaADR",
        "outputId": "6f1d534a-af91-406d-b27f-6038d5507b59"
      },
      "source": [
        "staff['Horas Formacion Seguridad ETTs'].isnull().any()"
      ],
      "execution_count": 473,
      "outputs": [
        {
          "output_type": "execute_result",
          "data": {
            "text/plain": [
              "False"
            ]
          },
          "metadata": {
            "tags": []
          },
          "execution_count": 473
        }
      ]
    },
    {
      "cell_type": "code",
      "metadata": {
        "colab": {
          "base_uri": "https://localhost:8080/",
          "height": 434
        },
        "id": "0kt3Tb2DQ_5a",
        "outputId": "25a73f69-e8bf-487b-df00-e85b7ff2a94e"
      },
      "source": [
        "staff.head()"
      ],
      "execution_count": 474,
      "outputs": [
        {
          "output_type": "execute_result",
          "data": {
            "text/html": [
              "<div>\n",
              "<style scoped>\n",
              "    .dataframe tbody tr th:only-of-type {\n",
              "        vertical-align: middle;\n",
              "    }\n",
              "\n",
              "    .dataframe tbody tr th {\n",
              "        vertical-align: top;\n",
              "    }\n",
              "\n",
              "    .dataframe thead th {\n",
              "        text-align: right;\n",
              "    }\n",
              "</style>\n",
              "<table border=\"1\" class=\"dataframe\">\n",
              "  <thead>\n",
              "    <tr style=\"text-align: right;\">\n",
              "      <th></th>\n",
              "      <th>Codigo accidentado</th>\n",
              "      <th>Turno</th>\n",
              "      <th>Gender</th>\n",
              "      <th>Planta</th>\n",
              "      <th>Tipo accidente</th>\n",
              "      <th>Tipo trabajador</th>\n",
              "      <th>Fabrica</th>\n",
              "      <th>Tecnología</th>\n",
              "      <th>Pais</th>\n",
              "      <th>Horas Presencia Efectiva Subcontratados</th>\n",
              "      <th>Horas Presencia Efectiva ETTs</th>\n",
              "      <th>Horas Formacion Seguridad Propios</th>\n",
              "      <th>Horas Formacion Seguridad ETTs</th>\n",
              "      <th>Accident</th>\n",
              "      <th>wk_position</th>\n",
              "      <th>Age</th>\n",
              "      <th>Severity</th>\n",
              "      <th>Accident_place</th>\n",
              "    </tr>\n",
              "  </thead>\n",
              "  <tbody>\n",
              "    <tr>\n",
              "      <th>0</th>\n",
              "      <td>HS-CLMB_2546</td>\n",
              "      <td>Turno de mañana</td>\n",
              "      <td>Hombre</td>\n",
              "      <td>20</td>\n",
              "      <td>Accidente c/b</td>\n",
              "      <td>ETT</td>\n",
              "      <td>Burgos</td>\n",
              "      <td>Skinpass</td>\n",
              "      <td>España</td>\n",
              "      <td>25249.0</td>\n",
              "      <td>42484.0</td>\n",
              "      <td>1419.3</td>\n",
              "      <td>830.1</td>\n",
              "      <td>Yes</td>\n",
              "      <td>Material Handler</td>\n",
              "      <td>Entre 30-50</td>\n",
              "      <td>Leve</td>\n",
              "      <td>Mantenimiento</td>\n",
              "    </tr>\n",
              "    <tr>\n",
              "      <th>1</th>\n",
              "      <td>HS-CEPA_2563</td>\n",
              "      <td>Turno de mañana</td>\n",
              "      <td>Hombre</td>\n",
              "      <td>19</td>\n",
              "      <td>Accidente c/b</td>\n",
              "      <td>Indefinido</td>\n",
              "      <td>Burgos</td>\n",
              "      <td>Recocido</td>\n",
              "      <td>España</td>\n",
              "      <td>25249.0</td>\n",
              "      <td>42484.0</td>\n",
              "      <td>1419.3</td>\n",
              "      <td>830.1</td>\n",
              "      <td>Yes</td>\n",
              "      <td>customer</td>\n",
              "      <td>Mayor 50</td>\n",
              "      <td>Muy grave</td>\n",
              "      <td>Mantenimiento</td>\n",
              "    </tr>\n",
              "    <tr>\n",
              "      <th>2</th>\n",
              "      <td>HS-GNVT_2564</td>\n",
              "      <td>Turno de tarde</td>\n",
              "      <td>Hombre</td>\n",
              "      <td>12</td>\n",
              "      <td>Accidente s/b</td>\n",
              "      <td>Duración Determinada</td>\n",
              "      <td>Barcelona</td>\n",
              "      <td>Skinpass</td>\n",
              "      <td>España</td>\n",
              "      <td>25684.5</td>\n",
              "      <td>18302.3</td>\n",
              "      <td>1150.6</td>\n",
              "      <td>151.5</td>\n",
              "      <td>Yes</td>\n",
              "      <td>Vaciado contenedores de chatarra</td>\n",
              "      <td>Entre 30-50</td>\n",
              "      <td>Muy grave</td>\n",
              "      <td>Mantenimiento</td>\n",
              "    </tr>\n",
              "    <tr>\n",
              "      <th>3</th>\n",
              "      <td>HS-GNVT_2565</td>\n",
              "      <td>Turno de mañana</td>\n",
              "      <td>Hombre</td>\n",
              "      <td>12</td>\n",
              "      <td>Incidente</td>\n",
              "      <td>ETT</td>\n",
              "      <td>Barcelona</td>\n",
              "      <td>Skinpass</td>\n",
              "      <td>España</td>\n",
              "      <td>25684.5</td>\n",
              "      <td>18302.3</td>\n",
              "      <td>1150.6</td>\n",
              "      <td>151.5</td>\n",
              "      <td>Yes</td>\n",
              "      <td>Pontonero</td>\n",
              "      <td>Entre 30-50</td>\n",
              "      <td>Grave</td>\n",
              "      <td>Mantenimiento</td>\n",
              "    </tr>\n",
              "    <tr>\n",
              "      <th>4</th>\n",
              "      <td>HS-DNGG_2566</td>\n",
              "      <td>Turno de mañana</td>\n",
              "      <td>Hombre</td>\n",
              "      <td>41</td>\n",
              "      <td>Incidente</td>\n",
              "      <td>Incidente (no aplica)</td>\n",
              "      <td>Hiasa</td>\n",
              "      <td>Corte Láser</td>\n",
              "      <td>España</td>\n",
              "      <td>0.0</td>\n",
              "      <td>167848.0</td>\n",
              "      <td>1300.5</td>\n",
              "      <td>101.5</td>\n",
              "      <td>Yes</td>\n",
              "      <td>Longi 2</td>\n",
              "      <td>Entre 30-50</td>\n",
              "      <td>Grave</td>\n",
              "      <td>Mantenimiento</td>\n",
              "    </tr>\n",
              "  </tbody>\n",
              "</table>\n",
              "</div>"
            ],
            "text/plain": [
              "  Codigo accidentado            Turno  ...   Severity  Accident_place\n",
              "0       HS-CLMB_2546  Turno de mañana  ...       Leve   Mantenimiento\n",
              "1       HS-CEPA_2563  Turno de mañana  ...  Muy grave   Mantenimiento\n",
              "2       HS-GNVT_2564   Turno de tarde  ...  Muy grave   Mantenimiento\n",
              "3       HS-GNVT_2565  Turno de mañana  ...      Grave   Mantenimiento\n",
              "4       HS-DNGG_2566  Turno de mañana  ...      Grave   Mantenimiento\n",
              "\n",
              "[5 rows x 18 columns]"
            ]
          },
          "metadata": {
            "tags": []
          },
          "execution_count": 474
        }
      ]
    },
    {
      "cell_type": "markdown",
      "metadata": {
        "id": "-m9oOgwJacnG"
      },
      "source": [
        "Now we are going to generate the other part of our staff dataframe which contains those people who havent had an accident"
      ]
    },
    {
      "cell_type": "code",
      "metadata": {
        "colab": {
          "base_uri": "https://localhost:8080/"
        },
        "id": "gowwbtslabDt",
        "outputId": "bca96b12-495c-4ac3-ac5b-fa413d2bddb6"
      },
      "source": [
        "len(staff)"
      ],
      "execution_count": 475,
      "outputs": [
        {
          "output_type": "execute_result",
          "data": {
            "text/plain": [
              "4180"
            ]
          },
          "metadata": {
            "tags": []
          },
          "execution_count": 475
        }
      ]
    },
    {
      "cell_type": "code",
      "metadata": {
        "colab": {
          "base_uri": "https://localhost:8080/"
        },
        "id": "TTFXyWaHalgl",
        "outputId": "ecde8d2f-5400-49df-845a-87315434cb8b"
      },
      "source": [
        "employees = rrhh_plant[['Año', 'Mes', 'Empleados Propios', 'Empleados Ajenos','Empleados ETTS','Empleados Subcontrata']]\n",
        "employees  = employees[employees['Mes']=='ENE']\n",
        "\n",
        "employees['Total'] = employees['Empleados Propios'] + employees['Empleados Ajenos'] + employees['Empleados ETTS'] + employees['Empleados Subcontrata']\n",
        "\n",
        "employees = employees.groupby(['Año', 'Mes']).agg('sum')\n",
        "employees['Total']"
      ],
      "execution_count": 476,
      "outputs": [
        {
          "output_type": "execute_result",
          "data": {
            "text/plain": [
              "Año     Mes\n",
              "2020.0  ENE    7070.0\n",
              "Name: Total, dtype: float64"
            ]
          },
          "metadata": {
            "tags": []
          },
          "execution_count": 476
        }
      ]
    },
    {
      "cell_type": "markdown",
      "metadata": {
        "id": "kKOZcETNbunM"
      },
      "source": [
        "So the number of employees in 2020 7070 and we are going to take that as reference. \n",
        "\n",
        "As we are taking 3 years of accidents we are going to have the same proportion on the staff to be able to evaluate it. So our total number of employees in the staff table will be 21.210, 4180 accidents. \n",
        "\n",
        "We are going to generate now the 17030 employees who didnt have any accident"
      ]
    },
    {
      "cell_type": "code",
      "metadata": {
        "colab": {
          "base_uri": "https://localhost:8080/",
          "height": 118
        },
        "id": "K7CTv67ybpku",
        "outputId": "d20affe6-f7b7-49df-a961-40d9c630fa45"
      },
      "source": [
        "staff_without = pd.DataFrame(columns=staff.columns)\n",
        "\n",
        "staff_without"
      ],
      "execution_count": 477,
      "outputs": [
        {
          "output_type": "execute_result",
          "data": {
            "text/html": [
              "<div>\n",
              "<style scoped>\n",
              "    .dataframe tbody tr th:only-of-type {\n",
              "        vertical-align: middle;\n",
              "    }\n",
              "\n",
              "    .dataframe tbody tr th {\n",
              "        vertical-align: top;\n",
              "    }\n",
              "\n",
              "    .dataframe thead th {\n",
              "        text-align: right;\n",
              "    }\n",
              "</style>\n",
              "<table border=\"1\" class=\"dataframe\">\n",
              "  <thead>\n",
              "    <tr style=\"text-align: right;\">\n",
              "      <th></th>\n",
              "      <th>Codigo accidentado</th>\n",
              "      <th>Turno</th>\n",
              "      <th>Gender</th>\n",
              "      <th>Planta</th>\n",
              "      <th>Tipo accidente</th>\n",
              "      <th>Tipo trabajador</th>\n",
              "      <th>Fabrica</th>\n",
              "      <th>Tecnología</th>\n",
              "      <th>Pais</th>\n",
              "      <th>Horas Presencia Efectiva Subcontratados</th>\n",
              "      <th>Horas Presencia Efectiva ETTs</th>\n",
              "      <th>Horas Formacion Seguridad Propios</th>\n",
              "      <th>Horas Formacion Seguridad ETTs</th>\n",
              "      <th>Accident</th>\n",
              "      <th>wk_position</th>\n",
              "      <th>Age</th>\n",
              "      <th>Severity</th>\n",
              "      <th>Accident_place</th>\n",
              "    </tr>\n",
              "  </thead>\n",
              "  <tbody>\n",
              "  </tbody>\n",
              "</table>\n",
              "</div>"
            ],
            "text/plain": [
              "Empty DataFrame\n",
              "Columns: [Codigo accidentado, Turno, Gender, Planta, Tipo accidente, Tipo trabajador, Fabrica, Tecnología, Pais, Horas Presencia Efectiva Subcontratados, Horas Presencia Efectiva ETTs, Horas Formacion Seguridad Propios, Horas Formacion Seguridad ETTs, Accident, wk_position, Age, Severity, Accident_place]\n",
              "Index: []"
            ]
          },
          "metadata": {
            "tags": []
          },
          "execution_count": 477
        }
      ]
    },
    {
      "cell_type": "code",
      "metadata": {
        "id": "ri3Y2pTadv2_"
      },
      "source": [
        "def create_rndm(values, column):\n",
        "  staff_without[column] = np.random.choice(values, size=17030)"
      ],
      "execution_count": 478,
      "outputs": []
    },
    {
      "cell_type": "code",
      "metadata": {
        "id": "QyymGdVpdM4q"
      },
      "source": [
        "turno  = ['Turno de mañana', 'Turno de tarde', 'Turno de noche']\n",
        "\n",
        "create_rndm(turno, 'Turno')"
      ],
      "execution_count": 479,
      "outputs": []
    },
    {
      "cell_type": "markdown",
      "metadata": {
        "id": "s2qZ8uByiG-6"
      },
      "source": [
        "To create the gender columns we are going to apply weights based on the data we had from staff"
      ]
    },
    {
      "cell_type": "code",
      "metadata": {
        "id": "1oPrbFJNiLQs"
      },
      "source": [
        "gender = ['Hombre', 'Mujer']\n",
        "weights = [0.90,0.1]\n",
        "\n",
        "np.random.seed(0)\n",
        "\n",
        "staff_without['Gender'] = random.choices(gender, weights=weights, k=len(staff_without))"
      ],
      "execution_count": 507,
      "outputs": []
    },
    {
      "cell_type": "code",
      "metadata": {
        "id": "f7ffOH-IeHwT"
      },
      "source": [
        "planta_list = staff.Planta.unique()\n",
        "create_rndm(planta_list, 'Planta')"
      ],
      "execution_count": 481,
      "outputs": []
    },
    {
      "cell_type": "code",
      "metadata": {
        "colab": {
          "base_uri": "https://localhost:8080/",
          "height": 181
        },
        "id": "kivrUdyydscS",
        "outputId": "3f9c8fa7-eac6-4ea9-9db1-1cfedaa916aa"
      },
      "source": [
        "staff_without.head(1)"
      ],
      "execution_count": 482,
      "outputs": [
        {
          "output_type": "execute_result",
          "data": {
            "text/html": [
              "<div>\n",
              "<style scoped>\n",
              "    .dataframe tbody tr th:only-of-type {\n",
              "        vertical-align: middle;\n",
              "    }\n",
              "\n",
              "    .dataframe tbody tr th {\n",
              "        vertical-align: top;\n",
              "    }\n",
              "\n",
              "    .dataframe thead th {\n",
              "        text-align: right;\n",
              "    }\n",
              "</style>\n",
              "<table border=\"1\" class=\"dataframe\">\n",
              "  <thead>\n",
              "    <tr style=\"text-align: right;\">\n",
              "      <th></th>\n",
              "      <th>Codigo accidentado</th>\n",
              "      <th>Turno</th>\n",
              "      <th>Gender</th>\n",
              "      <th>Planta</th>\n",
              "      <th>Tipo accidente</th>\n",
              "      <th>Tipo trabajador</th>\n",
              "      <th>Fabrica</th>\n",
              "      <th>Tecnología</th>\n",
              "      <th>Pais</th>\n",
              "      <th>Horas Presencia Efectiva Subcontratados</th>\n",
              "      <th>Horas Presencia Efectiva ETTs</th>\n",
              "      <th>Horas Formacion Seguridad Propios</th>\n",
              "      <th>Horas Formacion Seguridad ETTs</th>\n",
              "      <th>Accident</th>\n",
              "      <th>wk_position</th>\n",
              "      <th>Age</th>\n",
              "      <th>Severity</th>\n",
              "      <th>Accident_place</th>\n",
              "    </tr>\n",
              "  </thead>\n",
              "  <tbody>\n",
              "    <tr>\n",
              "      <th>0</th>\n",
              "      <td>NaN</td>\n",
              "      <td>Turno de tarde</td>\n",
              "      <td>Mujer</td>\n",
              "      <td>5</td>\n",
              "      <td>NaN</td>\n",
              "      <td>NaN</td>\n",
              "      <td>NaN</td>\n",
              "      <td>NaN</td>\n",
              "      <td>NaN</td>\n",
              "      <td>NaN</td>\n",
              "      <td>NaN</td>\n",
              "      <td>NaN</td>\n",
              "      <td>NaN</td>\n",
              "      <td>NaN</td>\n",
              "      <td>NaN</td>\n",
              "      <td>NaN</td>\n",
              "      <td>NaN</td>\n",
              "      <td>NaN</td>\n",
              "    </tr>\n",
              "  </tbody>\n",
              "</table>\n",
              "</div>"
            ],
            "text/plain": [
              "  Codigo accidentado           Turno Gender  ...  Age Severity Accident_place\n",
              "0                NaN  Turno de tarde  Mujer  ...  NaN      NaN            NaN\n",
              "\n",
              "[1 rows x 18 columns]"
            ]
          },
          "metadata": {
            "tags": []
          },
          "execution_count": 482
        }
      ]
    },
    {
      "cell_type": "code",
      "metadata": {
        "id": "fSFpEuogew86"
      },
      "source": [
        "staff_without.drop(columns={'Fabrica', 'Tecnología', 'Pais'}, inplace=True)"
      ],
      "execution_count": 483,
      "outputs": []
    },
    {
      "cell_type": "code",
      "metadata": {
        "colab": {
          "base_uri": "https://localhost:8080/",
          "height": 244
        },
        "id": "J3ZC3VJ4eatF",
        "outputId": "8dd96a01-3099-4404-c384-5f647e43c838"
      },
      "source": [
        "staff_without = staff_without.merge(planta, left_on='Planta', right_on='ID', how='left')\n",
        "staff_without.head(2)"
      ],
      "execution_count": 484,
      "outputs": [
        {
          "output_type": "execute_result",
          "data": {
            "text/html": [
              "<div>\n",
              "<style scoped>\n",
              "    .dataframe tbody tr th:only-of-type {\n",
              "        vertical-align: middle;\n",
              "    }\n",
              "\n",
              "    .dataframe tbody tr th {\n",
              "        vertical-align: top;\n",
              "    }\n",
              "\n",
              "    .dataframe thead th {\n",
              "        text-align: right;\n",
              "    }\n",
              "</style>\n",
              "<table border=\"1\" class=\"dataframe\">\n",
              "  <thead>\n",
              "    <tr style=\"text-align: right;\">\n",
              "      <th></th>\n",
              "      <th>Codigo accidentado</th>\n",
              "      <th>Turno</th>\n",
              "      <th>Gender</th>\n",
              "      <th>Planta</th>\n",
              "      <th>Tipo accidente</th>\n",
              "      <th>Tipo trabajador</th>\n",
              "      <th>Horas Presencia Efectiva Subcontratados</th>\n",
              "      <th>Horas Presencia Efectiva ETTs</th>\n",
              "      <th>Horas Formacion Seguridad Propios</th>\n",
              "      <th>Horas Formacion Seguridad ETTs</th>\n",
              "      <th>Accident</th>\n",
              "      <th>wk_position</th>\n",
              "      <th>Age</th>\n",
              "      <th>Severity</th>\n",
              "      <th>Accident_place</th>\n",
              "      <th>ID</th>\n",
              "      <th>Fabrica</th>\n",
              "      <th>Tecnología</th>\n",
              "      <th>Pais</th>\n",
              "    </tr>\n",
              "  </thead>\n",
              "  <tbody>\n",
              "    <tr>\n",
              "      <th>0</th>\n",
              "      <td>NaN</td>\n",
              "      <td>Turno de tarde</td>\n",
              "      <td>Mujer</td>\n",
              "      <td>5</td>\n",
              "      <td>NaN</td>\n",
              "      <td>NaN</td>\n",
              "      <td>NaN</td>\n",
              "      <td>NaN</td>\n",
              "      <td>NaN</td>\n",
              "      <td>NaN</td>\n",
              "      <td>NaN</td>\n",
              "      <td>NaN</td>\n",
              "      <td>NaN</td>\n",
              "      <td>NaN</td>\n",
              "      <td>NaN</td>\n",
              "      <td>5</td>\n",
              "      <td>Arizona</td>\n",
              "      <td>Corte Láser</td>\n",
              "      <td>EEUU</td>\n",
              "    </tr>\n",
              "    <tr>\n",
              "      <th>1</th>\n",
              "      <td>NaN</td>\n",
              "      <td>Turno de mañana</td>\n",
              "      <td>Mujer</td>\n",
              "      <td>28</td>\n",
              "      <td>NaN</td>\n",
              "      <td>NaN</td>\n",
              "      <td>NaN</td>\n",
              "      <td>NaN</td>\n",
              "      <td>NaN</td>\n",
              "      <td>NaN</td>\n",
              "      <td>NaN</td>\n",
              "      <td>NaN</td>\n",
              "      <td>NaN</td>\n",
              "      <td>NaN</td>\n",
              "      <td>NaN</td>\n",
              "      <td>28</td>\n",
              "      <td>Galicia</td>\n",
              "      <td>Blanking</td>\n",
              "      <td>España</td>\n",
              "    </tr>\n",
              "  </tbody>\n",
              "</table>\n",
              "</div>"
            ],
            "text/plain": [
              "  Codigo accidentado            Turno Gender  ...  Fabrica   Tecnología    Pais\n",
              "0                NaN   Turno de tarde  Mujer  ...  Arizona  Corte Láser    EEUU\n",
              "1                NaN  Turno de mañana  Mujer  ...  Galicia     Blanking  España\n",
              "\n",
              "[2 rows x 19 columns]"
            ]
          },
          "metadata": {
            "tags": []
          },
          "execution_count": 484
        }
      ]
    },
    {
      "cell_type": "code",
      "metadata": {
        "colab": {
          "base_uri": "https://localhost:8080/"
        },
        "id": "LtatiQe0fEDE",
        "outputId": "ad7f49b1-1474-491f-e391-3c8513dfd5d2"
      },
      "source": [
        "len(staff_without)"
      ],
      "execution_count": 485,
      "outputs": [
        {
          "output_type": "execute_result",
          "data": {
            "text/plain": [
              "17030"
            ]
          },
          "metadata": {
            "tags": []
          },
          "execution_count": 485
        }
      ]
    },
    {
      "cell_type": "code",
      "metadata": {
        "id": "jZ2YaFmFfGtU"
      },
      "source": [
        "tipo_accidente = staff['Tipo accidente'].unique()\n",
        "create_rndm(tipo_accidente, 'Tipo accidente')"
      ],
      "execution_count": 486,
      "outputs": []
    },
    {
      "cell_type": "code",
      "metadata": {
        "id": "TGEK4TxjfTJ8"
      },
      "source": [
        "tipo_trabj = staff['Tipo trabajador'].unique()\n",
        "create_rndm(tipo_trabj, 'Tipo trabajador')"
      ],
      "execution_count": 487,
      "outputs": []
    },
    {
      "cell_type": "code",
      "metadata": {
        "id": "TdOr-faWftMD"
      },
      "source": [
        "staff_without.drop(columns=['Horas Presencia Efectiva Subcontratados','Horas Presencia Efectiva ETTs', 'Horas Formacion Seguridad Propios', 'Horas Formacion Seguridad ETTs' ], inplace=True)"
      ],
      "execution_count": 488,
      "outputs": []
    },
    {
      "cell_type": "code",
      "metadata": {
        "id": "QI2kNL0HfpLq"
      },
      "source": [
        "staff_without = staff_without.merge(trainning_hours, on='Fabrica', how='left')"
      ],
      "execution_count": 489,
      "outputs": []
    },
    {
      "cell_type": "code",
      "metadata": {
        "id": "7ZN2fwdQgXNf"
      },
      "source": [
        "staff_without.drop(columns={'ID'}, inplace=True)"
      ],
      "execution_count": 492,
      "outputs": []
    },
    {
      "cell_type": "code",
      "metadata": {
        "id": "bquZP8TKgcAF"
      },
      "source": [
        "staff_without['Accident'] = 'No'"
      ],
      "execution_count": 496,
      "outputs": []
    },
    {
      "cell_type": "code",
      "metadata": {
        "id": "HNyZT-0bgr1v"
      },
      "source": [
        "pos_wk = staff['wk_position'].unique()\n",
        "\n",
        "create_rndm(pos_wk, 'wk_position')"
      ],
      "execution_count": 498,
      "outputs": []
    },
    {
      "cell_type": "code",
      "metadata": {
        "id": "K5XiOFCKhGDc"
      },
      "source": [
        "rangos_edad = ['Menor 30', 'Entre 30-50', 'Mayor 50']\n",
        "weights = {'Hombre':[0.2, 0.44, 0.36], 'Mujer':[0.2,0.55,0.25]}\n",
        "\n",
        "np.random.seed(0)\n",
        "\n",
        "staff_without['Age'] = staff_without.groupby('Gender').apply(apply_randoms)\\\n",
        "       .rename('Age').reset_index().drop('level_1', 1)['Age']"
      ],
      "execution_count": 500,
      "outputs": []
    },
    {
      "cell_type": "code",
      "metadata": {
        "id": "32td5NXVhwat"
      },
      "source": [
        "severe = staff['Severity'].unique()\n",
        "\n",
        "create_rndm(severe, 'Severity')"
      ],
      "execution_count": 502,
      "outputs": []
    },
    {
      "cell_type": "code",
      "metadata": {
        "id": "XckpSlJ4h5Be"
      },
      "source": [
        "place = staff['Accident_place'].unique()\n",
        "\n",
        "create_rndm(place, 'Accident_place')"
      ],
      "execution_count": 504,
      "outputs": []
    },
    {
      "cell_type": "code",
      "metadata": {
        "colab": {
          "base_uri": "https://localhost:8080/",
          "height": 261
        },
        "id": "28GRajdlfQOG",
        "outputId": "1678f494-4d79-43ff-bafc-5a059793e04a"
      },
      "source": [
        "staff_without.head(2) ##cod accidentado is the only column we are going to leave blank as these employees doestn have any accident"
      ],
      "execution_count": 508,
      "outputs": [
        {
          "output_type": "execute_result",
          "data": {
            "text/html": [
              "<div>\n",
              "<style scoped>\n",
              "    .dataframe tbody tr th:only-of-type {\n",
              "        vertical-align: middle;\n",
              "    }\n",
              "\n",
              "    .dataframe tbody tr th {\n",
              "        vertical-align: top;\n",
              "    }\n",
              "\n",
              "    .dataframe thead th {\n",
              "        text-align: right;\n",
              "    }\n",
              "</style>\n",
              "<table border=\"1\" class=\"dataframe\">\n",
              "  <thead>\n",
              "    <tr style=\"text-align: right;\">\n",
              "      <th></th>\n",
              "      <th>Codigo accidentado</th>\n",
              "      <th>Turno</th>\n",
              "      <th>Gender</th>\n",
              "      <th>Planta</th>\n",
              "      <th>Tipo accidente</th>\n",
              "      <th>Tipo trabajador</th>\n",
              "      <th>Accident</th>\n",
              "      <th>wk_position</th>\n",
              "      <th>Age</th>\n",
              "      <th>Severity</th>\n",
              "      <th>Accident_place</th>\n",
              "      <th>Fabrica</th>\n",
              "      <th>Tecnología</th>\n",
              "      <th>Pais</th>\n",
              "      <th>Horas Presencia Efectiva Subcontratados</th>\n",
              "      <th>Horas Presencia Efectiva ETTs</th>\n",
              "      <th>Horas Formacion Seguridad Propios</th>\n",
              "      <th>Horas Formacion Seguridad ETTs</th>\n",
              "    </tr>\n",
              "  </thead>\n",
              "  <tbody>\n",
              "    <tr>\n",
              "      <th>0</th>\n",
              "      <td>NaN</td>\n",
              "      <td>Turno de tarde</td>\n",
              "      <td>Hombre</td>\n",
              "      <td>5</td>\n",
              "      <td>Accidente s/b</td>\n",
              "      <td>Indefinido con preaviso</td>\n",
              "      <td>No</td>\n",
              "      <td>Operador de montacargas asistido en la carga d...</td>\n",
              "      <td>Entre 30-50</td>\n",
              "      <td>Muy grave</td>\n",
              "      <td>Mantenimiento</td>\n",
              "      <td>Arizona</td>\n",
              "      <td>Corte Láser</td>\n",
              "      <td>EEUU</td>\n",
              "      <td>0.0</td>\n",
              "      <td>0.0</td>\n",
              "      <td>0.0</td>\n",
              "      <td>0.0</td>\n",
              "    </tr>\n",
              "    <tr>\n",
              "      <th>1</th>\n",
              "      <td>NaN</td>\n",
              "      <td>Turno de mañana</td>\n",
              "      <td>Hombre</td>\n",
              "      <td>28</td>\n",
              "      <td>Accidente c/b</td>\n",
              "      <td>ETT</td>\n",
              "      <td>No</td>\n",
              "      <td>embaladora nave 2</td>\n",
              "      <td>Mayor 50</td>\n",
              "      <td>Muy grave</td>\n",
              "      <td>Mantenimiento</td>\n",
              "      <td>Galicia</td>\n",
              "      <td>Blanking</td>\n",
              "      <td>España</td>\n",
              "      <td>17051.0</td>\n",
              "      <td>211.0</td>\n",
              "      <td>756.3</td>\n",
              "      <td>0.4</td>\n",
              "    </tr>\n",
              "  </tbody>\n",
              "</table>\n",
              "</div>"
            ],
            "text/plain": [
              "  Codigo accidentado  ... Horas Formacion Seguridad ETTs\n",
              "0                NaN  ...                            0.0\n",
              "1                NaN  ...                            0.4\n",
              "\n",
              "[2 rows x 18 columns]"
            ]
          },
          "metadata": {
            "tags": []
          },
          "execution_count": 508
        }
      ]
    },
    {
      "cell_type": "markdown",
      "metadata": {
        "id": "cGvHis4sjMCz"
      },
      "source": [
        "Now we are going to concat both dataframes on a resulting dataframe with length of 21.210"
      ]
    },
    {
      "cell_type": "code",
      "metadata": {
        "colab": {
          "base_uri": "https://localhost:8080/"
        },
        "id": "K32u2TrXg8O6",
        "outputId": "4ac20d07-4d62-49ee-8bc0-80a27142f978"
      },
      "source": [
        "staff = pd.concat([staff, staff_without])\n",
        "len(staff)"
      ],
      "execution_count": 511,
      "outputs": [
        {
          "output_type": "execute_result",
          "data": {
            "text/plain": [
              "21210"
            ]
          },
          "metadata": {
            "tags": []
          },
          "execution_count": 511
        }
      ]
    },
    {
      "cell_type": "code",
      "metadata": {
        "colab": {
          "base_uri": "https://localhost:8080/",
          "height": 17
        },
        "id": "eRSaepnedK6x",
        "outputId": "96f206b0-a782-4dd9-83f2-0b2a25997c1a"
      },
      "source": [
        "from google.colab import files\n",
        "\n",
        "staff.to_csv('Total_staff_by_employee.csv', sep=';')\n",
        "files.download(\"Total_staff_by_employee.csv\")"
      ],
      "execution_count": 513,
      "outputs": [
        {
          "output_type": "display_data",
          "data": {
            "application/javascript": [
              "\n",
              "    async function download(id, filename, size) {\n",
              "      if (!google.colab.kernel.accessAllowed) {\n",
              "        return;\n",
              "      }\n",
              "      const div = document.createElement('div');\n",
              "      const label = document.createElement('label');\n",
              "      label.textContent = `Downloading \"${filename}\": `;\n",
              "      div.appendChild(label);\n",
              "      const progress = document.createElement('progress');\n",
              "      progress.max = size;\n",
              "      div.appendChild(progress);\n",
              "      document.body.appendChild(div);\n",
              "\n",
              "      const buffers = [];\n",
              "      let downloaded = 0;\n",
              "\n",
              "      const channel = await google.colab.kernel.comms.open(id);\n",
              "      // Send a message to notify the kernel that we're ready.\n",
              "      channel.send({})\n",
              "\n",
              "      for await (const message of channel.messages) {\n",
              "        // Send a message to notify the kernel that we're ready.\n",
              "        channel.send({})\n",
              "        if (message.buffers) {\n",
              "          for (const buffer of message.buffers) {\n",
              "            buffers.push(buffer);\n",
              "            downloaded += buffer.byteLength;\n",
              "            progress.value = downloaded;\n",
              "          }\n",
              "        }\n",
              "      }\n",
              "      const blob = new Blob(buffers, {type: 'application/binary'});\n",
              "      const a = document.createElement('a');\n",
              "      a.href = window.URL.createObjectURL(blob);\n",
              "      a.download = filename;\n",
              "      div.appendChild(a);\n",
              "      a.click();\n",
              "      div.remove();\n",
              "    }\n",
              "  "
            ],
            "text/plain": [
              "<IPython.core.display.Javascript object>"
            ]
          },
          "metadata": {
            "tags": []
          }
        },
        {
          "output_type": "display_data",
          "data": {
            "application/javascript": [
              "download(\"download_90a79f65-eebe-47d8-876a-18a78053e229\", \"Total_staff_by_employee.csv\", 3698417)"
            ],
            "text/plain": [
              "<IPython.core.display.Javascript object>"
            ]
          },
          "metadata": {
            "tags": []
          }
        }
      ]
    }
  ]
}