{
  "nbformat": 4,
  "nbformat_minor": 0,
  "metadata": {
    "colab": {
      "name": "Model_selection.ipynb",
      "provenance": [],
      "mount_file_id": "1JTv9jnMWk0I63RJCkjdYGLSMZDwfYSAt",
      "authorship_tag": "ABX9TyNj/55VqvpEJfQuxxZzStgO",
      "include_colab_link": true
    },
    "kernelspec": {
      "name": "python3",
      "display_name": "Python 3"
    },
    "language_info": {
      "name": "python"
    }
  },
  "cells": [
    {
      "cell_type": "markdown",
      "metadata": {
        "id": "view-in-github",
        "colab_type": "text"
      },
      "source": [
        "<a href=\"https://colab.research.google.com/github/sarasabino/Accident_Rate_Project/blob/main/Src/Notebooks/Model_selection.ipynb\" target=\"_parent\"><img src=\"https://colab.research.google.com/assets/colab-badge.svg\" alt=\"Open In Colab\"/></a>"
      ]
    },
    {
      "cell_type": "code",
      "metadata": {
        "id": "Bq_m8VUeZz8C"
      },
      "source": [
        "! cp /content/drive/MyDrive/'Colab Notebooks'/'TFM Accidentabilidad'/Data/staff_encoded.csv .\n"
      ],
      "execution_count": 305,
      "outputs": []
    },
    {
      "cell_type": "code",
      "metadata": {
        "id": "6fOH4PXHaHGH"
      },
      "source": [
        "import pandas as pd\n",
        "staff = pd.read_csv('staff_encoded.csv', sep=';')"
      ],
      "execution_count": 306,
      "outputs": []
    },
    {
      "cell_type": "code",
      "metadata": {
        "colab": {
          "base_uri": "https://localhost:8080/",
          "height": 366
        },
        "id": "fZ7ZHpsVb-6p",
        "outputId": "ce7d92e5-0133-463a-c87b-6ca4b5861ca7"
      },
      "source": [
        "staff.head()"
      ],
      "execution_count": 307,
      "outputs": [
        {
          "output_type": "execute_result",
          "data": {
            "text/html": [
              "<div>\n",
              "<style scoped>\n",
              "    .dataframe tbody tr th:only-of-type {\n",
              "        vertical-align: middle;\n",
              "    }\n",
              "\n",
              "    .dataframe tbody tr th {\n",
              "        vertical-align: top;\n",
              "    }\n",
              "\n",
              "    .dataframe thead th {\n",
              "        text-align: right;\n",
              "    }\n",
              "</style>\n",
              "<table border=\"1\" class=\"dataframe\">\n",
              "  <thead>\n",
              "    <tr style=\"text-align: right;\">\n",
              "      <th></th>\n",
              "      <th>Unnamed: 0</th>\n",
              "      <th>Horas Presencia Efectiva Subcontratados</th>\n",
              "      <th>Horas Presencia Efectiva ETTs</th>\n",
              "      <th>Horas Formacion Seguridad Propios</th>\n",
              "      <th>Horas Formacion Seguridad ETTs</th>\n",
              "      <th>Accident</th>\n",
              "      <th>wk_position</th>\n",
              "      <th>Age</th>\n",
              "      <th>Severity</th>\n",
              "      <th>Accident_place</th>\n",
              "      <th>Gender_Hombre</th>\n",
              "      <th>T_Turno de mañana</th>\n",
              "      <th>T_Turno de noche</th>\n",
              "      <th>T_Turno de tarde</th>\n",
              "      <th>Age_Entre 30-50</th>\n",
              "      <th>Age_Mayor 50</th>\n",
              "      <th>Age_Menor 30</th>\n",
              "      <th>wk_position_encoded</th>\n",
              "      <th>Tipo_trab_reduced</th>\n",
              "      <th>Acc_Duración Determinada</th>\n",
              "      <th>Acc_ETT</th>\n",
              "      <th>Acc_Indefinido</th>\n",
              "      <th>Acc_Otros</th>\n",
              "    </tr>\n",
              "  </thead>\n",
              "  <tbody>\n",
              "    <tr>\n",
              "      <th>0</th>\n",
              "      <td>0</td>\n",
              "      <td>25249.0</td>\n",
              "      <td>42484.0</td>\n",
              "      <td>1419.3</td>\n",
              "      <td>830.1</td>\n",
              "      <td>1</td>\n",
              "      <td>Material Handler</td>\n",
              "      <td>Entre 30-50</td>\n",
              "      <td>Leve</td>\n",
              "      <td>Mantenimiento</td>\n",
              "      <td>1</td>\n",
              "      <td>1</td>\n",
              "      <td>0</td>\n",
              "      <td>0</td>\n",
              "      <td>1</td>\n",
              "      <td>0</td>\n",
              "      <td>0</td>\n",
              "      <td>415</td>\n",
              "      <td>ETT</td>\n",
              "      <td>0</td>\n",
              "      <td>1</td>\n",
              "      <td>0</td>\n",
              "      <td>0</td>\n",
              "    </tr>\n",
              "    <tr>\n",
              "      <th>1</th>\n",
              "      <td>1</td>\n",
              "      <td>25249.0</td>\n",
              "      <td>42484.0</td>\n",
              "      <td>1419.3</td>\n",
              "      <td>830.1</td>\n",
              "      <td>1</td>\n",
              "      <td>customer</td>\n",
              "      <td>Mayor 50</td>\n",
              "      <td>Muy grave</td>\n",
              "      <td>Mantenimiento</td>\n",
              "      <td>1</td>\n",
              "      <td>1</td>\n",
              "      <td>0</td>\n",
              "      <td>0</td>\n",
              "      <td>0</td>\n",
              "      <td>1</td>\n",
              "      <td>0</td>\n",
              "      <td>695</td>\n",
              "      <td>Indefinido</td>\n",
              "      <td>0</td>\n",
              "      <td>0</td>\n",
              "      <td>1</td>\n",
              "      <td>0</td>\n",
              "    </tr>\n",
              "    <tr>\n",
              "      <th>2</th>\n",
              "      <td>2</td>\n",
              "      <td>25684.5</td>\n",
              "      <td>18302.3</td>\n",
              "      <td>1150.6</td>\n",
              "      <td>151.5</td>\n",
              "      <td>1</td>\n",
              "      <td>Vaciado contenedores de chatarra</td>\n",
              "      <td>Entre 30-50</td>\n",
              "      <td>Muy grave</td>\n",
              "      <td>Mantenimiento</td>\n",
              "      <td>1</td>\n",
              "      <td>0</td>\n",
              "      <td>0</td>\n",
              "      <td>1</td>\n",
              "      <td>1</td>\n",
              "      <td>0</td>\n",
              "      <td>0</td>\n",
              "      <td>659</td>\n",
              "      <td>Duración Determinada</td>\n",
              "      <td>1</td>\n",
              "      <td>0</td>\n",
              "      <td>0</td>\n",
              "      <td>0</td>\n",
              "    </tr>\n",
              "    <tr>\n",
              "      <th>3</th>\n",
              "      <td>3</td>\n",
              "      <td>25684.5</td>\n",
              "      <td>18302.3</td>\n",
              "      <td>1150.6</td>\n",
              "      <td>151.5</td>\n",
              "      <td>1</td>\n",
              "      <td>Pontonero</td>\n",
              "      <td>Entre 30-50</td>\n",
              "      <td>Grave</td>\n",
              "      <td>Mantenimiento</td>\n",
              "      <td>1</td>\n",
              "      <td>1</td>\n",
              "      <td>0</td>\n",
              "      <td>0</td>\n",
              "      <td>1</td>\n",
              "      <td>0</td>\n",
              "      <td>0</td>\n",
              "      <td>537</td>\n",
              "      <td>ETT</td>\n",
              "      <td>0</td>\n",
              "      <td>1</td>\n",
              "      <td>0</td>\n",
              "      <td>0</td>\n",
              "    </tr>\n",
              "    <tr>\n",
              "      <th>4</th>\n",
              "      <td>4</td>\n",
              "      <td>0.0</td>\n",
              "      <td>167848.0</td>\n",
              "      <td>1300.5</td>\n",
              "      <td>101.5</td>\n",
              "      <td>1</td>\n",
              "      <td>Longi 2</td>\n",
              "      <td>Entre 30-50</td>\n",
              "      <td>Grave</td>\n",
              "      <td>Mantenimiento</td>\n",
              "      <td>1</td>\n",
              "      <td>1</td>\n",
              "      <td>0</td>\n",
              "      <td>0</td>\n",
              "      <td>1</td>\n",
              "      <td>0</td>\n",
              "      <td>0</td>\n",
              "      <td>320</td>\n",
              "      <td>Otros</td>\n",
              "      <td>0</td>\n",
              "      <td>0</td>\n",
              "      <td>0</td>\n",
              "      <td>1</td>\n",
              "    </tr>\n",
              "  </tbody>\n",
              "</table>\n",
              "</div>"
            ],
            "text/plain": [
              "   Unnamed: 0  ...  Acc_Otros\n",
              "0           0  ...          0\n",
              "1           1  ...          0\n",
              "2           2  ...          0\n",
              "3           3  ...          0\n",
              "4           4  ...          1\n",
              "\n",
              "[5 rows x 23 columns]"
            ]
          },
          "metadata": {
            "tags": []
          },
          "execution_count": 307
        }
      ]
    },
    {
      "cell_type": "code",
      "metadata": {
        "colab": {
          "base_uri": "https://localhost:8080/"
        },
        "id": "T-ikhSln1yU0",
        "outputId": "4411416f-9aa8-48b4-e36a-2eca27165163"
      },
      "source": [
        "ceros = staff[staff['Accident'] == 0]['Accident'].count()\n",
        "unos = staff[staff['Accident'] == 1]['Accident'].count()\n",
        "\n",
        "(ceros,unos) ## tenemos un conjunto de datos desbalanceado ya que tenemos muchos mas 0 que 1"
      ],
      "execution_count": 308,
      "outputs": [
        {
          "output_type": "execute_result",
          "data": {
            "text/plain": [
              "(17030, 4180)"
            ]
          },
          "metadata": {
            "tags": []
          },
          "execution_count": 308
        }
      ]
    },
    {
      "cell_type": "code",
      "metadata": {
        "id": "MZA1CRqYdZVX"
      },
      "source": [
        ""
      ],
      "execution_count": 308,
      "outputs": []
    },
    {
      "cell_type": "code",
      "metadata": {
        "colab": {
          "base_uri": "https://localhost:8080/",
          "height": 801
        },
        "id": "zN65jrAv1ye1",
        "outputId": "7e3cb108-8fcd-4de1-d34a-11e14b508f65"
      },
      "source": [
        "import matplotlib.pyplot as plt\n",
        "fig, ax = plt.subplots(figsize=(16,7))\n",
        "sns.displot(y)\n",
        "\n"
      ],
      "execution_count": 309,
      "outputs": [
        {
          "output_type": "execute_result",
          "data": {
            "text/plain": [
              "<seaborn.axisgrid.FacetGrid at 0x7f09cebf7410>"
            ]
          },
          "metadata": {
            "tags": []
          },
          "execution_count": 309
        },
        {
          "output_type": "display_data",
          "data": {
            "image/png": "[encoded data removed]",
            "text/plain": [
              "<Figure size 1152x504 with 1 Axes>"
            ]
          },
          "metadata": {
            "tags": [],
            "needs_background": "light"
          }
        },
        {
          "output_type": "display_data",
          "data": {
            "image/png": "[encoded data removed]",
            "text/plain": [
              "<Figure size 360x360 with 1 Axes>"
            ]
          },
          "metadata": {
            "tags": [],
            "needs_background": "light"
          }
        }
      ]
    },
    {
      "cell_type": "markdown",
      "metadata": {
        "id": "5NBhUEeIdZx4"
      },
      "source": [
        "### Linear Regression model"
      ]
    },
    {
      "cell_type": "code",
      "metadata": {
        "id": "wKl1y-zVaTT6"
      },
      "source": [
        "from sklearn.model_selection import train_test_split\n",
        "from sklearn import datasets, linear_model\n",
        "from sklearn.metrics import mean_squared_error, r2_score\n",
        "import matplotlib.pyplot as plt\n",
        "\n",
        "\n",
        "X = staff[['Horas Presencia Efectiva Subcontratados',\n",
        "       'Horas Presencia Efectiva ETTs', 'Horas Formacion Seguridad Propios',\n",
        "       'Horas Formacion Seguridad ETTs',\n",
        "       'Gender_Hombre', 'T_Turno de mañana',\n",
        "       'T_Turno de noche', 'T_Turno de tarde', 'Age_Entre 30-50',\n",
        "       'Age_Mayor 50', 'Age_Menor 30', 'wk_position_encoded',\n",
        "        'Acc_Duración Determinada', 'Acc_ETT',\n",
        "       'Acc_Indefinido', 'Acc_Otros']]"
      ],
      "execution_count": 310,
      "outputs": []
    },
    {
      "cell_type": "code",
      "metadata": {
        "id": "0xUjoY9_aWFg"
      },
      "source": [
        "y = staff['Accident']"
      ],
      "execution_count": 311,
      "outputs": []
    },
    {
      "cell_type": "code",
      "metadata": {
        "id": "XhxNmj_ZLOs7"
      },
      "source": [
        ""
      ],
      "execution_count": 311,
      "outputs": []
    },
    {
      "cell_type": "code",
      "metadata": {
        "id": "z-X3nsc0apGj"
      },
      "source": [
        "X_train, X_test, y_train, y_test = train_test_split(X, y, test_size=0.33, random_state=42)"
      ],
      "execution_count": 312,
      "outputs": []
    },
    {
      "cell_type": "code",
      "metadata": {
        "colab": {
          "base_uri": "https://localhost:8080/"
        },
        "id": "9Xc-m4nxckCT",
        "outputId": "04baf913-8949-463d-d9a9-27673b21261c"
      },
      "source": [
        "len(X_test)"
      ],
      "execution_count": 313,
      "outputs": [
        {
          "output_type": "execute_result",
          "data": {
            "text/plain": [
              "7000"
            ]
          },
          "metadata": {
            "tags": []
          },
          "execution_count": 313
        }
      ]
    },
    {
      "cell_type": "code",
      "metadata": {
        "id": "nD7EOANjKvW4"
      },
      "source": [
        "y_train = y_train.apply(str)\n",
        "\n",
        "y_test = y_test.apply(str)"
      ],
      "execution_count": 314,
      "outputs": []
    },
    {
      "cell_type": "code",
      "metadata": {
        "colab": {
          "base_uri": "https://localhost:8080/"
        },
        "id": "PV2jhEvkav3J",
        "outputId": "f417e53d-a8d6-4ac9-de4c-1929ce7e1dd0"
      },
      "source": [
        "# Create linear regression object\n",
        "regr = linear_model.LinearRegression()\n",
        "\n",
        "# Train the model using the training sets\n",
        "regr.fit(X_train, y_train)\n",
        "\n",
        "# Make predictions using the testing set\n",
        "y_pred = regr.predict(X_test)\n",
        "\n",
        "# The coefficients\n",
        "print('Coefficients: \\n', regr.coef_)\n",
        "# The mean squared error\n",
        "print('Mean squared error: %.2f'\n",
        "      % mean_squared_error(y_test, y_pred))\n",
        "# The coefficient of determination: 1 is perfect prediction\n",
        "print('Coefficient of determination: %.2f'\n",
        "      % r2_score(y_test, y_pred))\n",
        "\n"
      ],
      "execution_count": 315,
      "outputs": [
        {
          "output_type": "stream",
          "text": [
            "Coefficients: \n",
            " [-2.67633360e-06 -1.55970510e-06  6.82094449e-05  1.48323767e-04\n",
            "  1.49918014e-01  8.82977728e-02 -9.91705566e-02  1.08727839e-02\n",
            " -1.72735700e-02  2.28085952e-02 -5.53502523e-03 -9.56767296e-06\n",
            " -9.23427080e-02  4.28898092e-02  6.05052243e-02 -1.10523254e-02]\n",
            "Mean squared error: 0.14\n",
            "Coefficient of determination: 0.12\n"
          ],
          "name": "stdout"
        }
      ]
    },
    {
      "cell_type": "code",
      "metadata": {
        "id": "gcM28BOhj5Ob"
      },
      "source": [
        ""
      ],
      "execution_count": 315,
      "outputs": []
    },
    {
      "cell_type": "markdown",
      "metadata": {
        "id": "M76iZi54ygD-"
      },
      "source": [
        "## K Nearest Neighbors"
      ]
    },
    {
      "cell_type": "code",
      "metadata": {
        "id": "YNMquNl8yrJb"
      },
      "source": [
        "import numpy as np\n",
        "from sklearn.neighbors import KNeighborsClassifier\n",
        "from sklearn.metrics import confusion_matrix, classification_report\n",
        "from sklearn.metrics import plot_confusion_matrix\n"
      ],
      "execution_count": 316,
      "outputs": []
    },
    {
      "cell_type": "code",
      "metadata": {
        "id": "cBunrKEuEJ7i"
      },
      "source": [
        "import matplotlib.pyplot as plt\n",
        "\n",
        "# we are going to import this function from Scikit learn to plot the confussion matriz\n",
        "\n",
        "def plot_confusion_matrix(y_true, y_pred, classes,\n",
        "                          normalize=False,\n",
        "                          title=None,\n",
        "                          cmap=plt.cm.Blues):\n",
        "    \"\"\"\n",
        "    This function prints and plots the confusion matrix.\n",
        "    Normalization can be applied by setting `normalize=True`.\n",
        "    \"\"\"\n",
        "    if not title:\n",
        "        if normalize:\n",
        "            title = 'Normalized confusion matrix'\n",
        "        else:\n",
        "            title = 'Confusion matrix, without normalization'\n",
        "\n",
        "    # Compute confusion matrix\n",
        "    cm = confusion_matrix(y_true, y_pred)\n",
        "    # Only use the labels that appear in the data\n",
        "    #classes = classes[unique_labels(y_true, y_pred)]\n",
        "    if normalize:\n",
        "        cm = cm.astype('float') / cm.sum(axis=1)[:, np.newaxis]\n",
        "        print(\"Normalized confusion matrix\")\n",
        "    else:\n",
        "        print('Confusion matrix, without normalization')\n",
        "\n",
        "    print(cm)\n",
        "\n",
        "    fig, ax = plt.subplots()\n",
        "    im = ax.imshow(cm, interpolation='nearest', cmap=cmap)\n",
        "    ax.figure.colorbar(im, ax=ax)\n",
        "    # We want to show all ticks...\n",
        "    ax.set(xticks=np.arange(cm.shape[1]),\n",
        "           yticks=np.arange(cm.shape[0]),\n",
        "           # ... and label them with the respective list entries\n",
        "           xticklabels=classes, yticklabels=classes,\n",
        "           title=title,\n",
        "           ylabel='True label',\n",
        "           xlabel='Predicted label')\n",
        "\n",
        "    # Rotate the tick labels and set their alignment.\n",
        "    plt.setp(ax.get_xticklabels(), rotation=45, ha=\"right\",\n",
        "             rotation_mode=\"anchor\")\n",
        "\n",
        "    # Loop over data dimensions and create text annotations.\n",
        "    fmt = '.2f' if normalize else 'd'\n",
        "    thresh = cm.max() / 2.\n",
        "    for i in range(cm.shape[0]):\n",
        "        for j in range(cm.shape[1]):\n",
        "            ax.text(j, i, format(cm[i, j], fmt),\n",
        "                    ha=\"center\", va=\"center\",\n",
        "                    color= \"black\")\n",
        "    fig.tight_layout()\n",
        "    return ax"
      ],
      "execution_count": 317,
      "outputs": []
    },
    {
      "cell_type": "code",
      "metadata": {
        "id": "o_ICFmXxyrYa"
      },
      "source": [
        "\n"
      ],
      "execution_count": 317,
      "outputs": []
    },
    {
      "cell_type": "code",
      "metadata": {
        "id": "HgmjTP1eKj-m"
      },
      "source": [
        "model = KNeighborsClassifier(n_neighbors=8)\n",
        "model = model.fit(X_train, y_train)"
      ],
      "execution_count": 318,
      "outputs": []
    },
    {
      "cell_type": "code",
      "metadata": {
        "colab": {
          "base_uri": "https://localhost:8080/"
        },
        "id": "RELeZ8rszmLw",
        "outputId": "dd4a1a4c-f09e-404e-e07d-ea65fe86d33b"
      },
      "source": [
        "std_score = model.score(X_test, y_test)\n",
        "std_score ##this is a very good accuracy of the model"
      ],
      "execution_count": 319,
      "outputs": [
        {
          "output_type": "execute_result",
          "data": {
            "text/plain": [
              "0.8028571428571428"
            ]
          },
          "metadata": {
            "tags": []
          },
          "execution_count": 319
        }
      ]
    },
    {
      "cell_type": "code",
      "metadata": {
        "id": "gmOMEYFQ0Joz"
      },
      "source": [
        "y_pred = model.predict(X_test)"
      ],
      "execution_count": 320,
      "outputs": []
    },
    {
      "cell_type": "code",
      "metadata": {
        "colab": {
          "base_uri": "https://localhost:8080/"
        },
        "id": "sINpT_NL1yDl",
        "outputId": "47c9eb19-4de2-41e3-c67d-47a6daa41467"
      },
      "source": [
        "print(classification_report(y_test, y_pred))"
      ],
      "execution_count": 321,
      "outputs": [
        {
          "output_type": "stream",
          "text": [
            "              precision    recall  f1-score   support\n",
            "\n",
            "           0       0.82      0.96      0.89      5635\n",
            "           1       0.48      0.14      0.22      1365\n",
            "\n",
            "    accuracy                           0.80      7000\n",
            "   macro avg       0.65      0.55      0.55      7000\n",
            "weighted avg       0.76      0.80      0.76      7000\n",
            "\n"
          ],
          "name": "stdout"
        }
      ]
    },
    {
      "cell_type": "markdown",
      "metadata": {
        "id": "s64Bg5ln4vT3"
      },
      "source": [
        "## Decision Tree"
      ]
    },
    {
      "cell_type": "code",
      "metadata": {
        "id": "xl6npY321yMo"
      },
      "source": [
        "## check la distribucion de datos de una columna del dataset\n",
        "\n",
        "import seaborn as sns\n"
      ],
      "execution_count": 322,
      "outputs": []
    },
    {
      "cell_type": "code",
      "metadata": {
        "id": "O0EsQ5cU-Z0O"
      },
      "source": [
        "y_train = y_train.apply(str).replace('1', 'Yes').replace('0', 'No')\n",
        "\n",
        "y_test = y_test.apply(str).replace('1', 'Yes').replace('0', 'No')\n"
      ],
      "execution_count": 324,
      "outputs": []
    },
    {
      "cell_type": "code",
      "metadata": {
        "id": "7EvkfSNT7Z9b"
      },
      "source": [
        "from sklearn.tree import DecisionTreeClassifier\n",
        "\n",
        "model = DecisionTreeClassifier(random_state=1)"
      ],
      "execution_count": 356,
      "outputs": []
    },
    {
      "cell_type": "code",
      "metadata": {
        "colab": {
          "base_uri": "https://localhost:8080/"
        },
        "id": "QGBY4CSE7Z_1",
        "outputId": "999e30f9-26dc-4d74-a401-9d7e0fd55879"
      },
      "source": [
        "model.fit(X_train, y_train) ## we are going to start without giving any weight to the classes class_weight but then we will try to assign the correspondent weight"
      ],
      "execution_count": 357,
      "outputs": [
        {
          "output_type": "execute_result",
          "data": {
            "text/plain": [
              "DecisionTreeClassifier(ccp_alpha=0.0, class_weight=None, criterion='gini',\n",
              "                       max_depth=None, max_features=None, max_leaf_nodes=None,\n",
              "                       min_impurity_decrease=0.0, min_impurity_split=None,\n",
              "                       min_samples_leaf=1, min_samples_split=2,\n",
              "                       min_weight_fraction_leaf=0.0, presort='deprecated',\n",
              "                       random_state=1, splitter='best')"
            ]
          },
          "metadata": {
            "tags": []
          },
          "execution_count": 357
        }
      ]
    },
    {
      "cell_type": "code",
      "metadata": {
        "id": "GxeQYUy98FHn"
      },
      "source": [
        "y_pred = model.predict(X_test)"
      ],
      "execution_count": 358,
      "outputs": []
    },
    {
      "cell_type": "code",
      "metadata": {
        "colab": {
          "base_uri": "https://localhost:8080/",
          "height": 343
        },
        "id": "MZdr26QX8FPm",
        "outputId": "fd720336-ed4c-48e2-845c-5b3fa25c384b"
      },
      "source": [
        "comp = pd.DataFrame({'real': y_test, 'preds':y_pred})\n",
        "comp.head(10) ## parece que esta acertando debido al desbalanceo vamos analizar los casos que deberian de ser 1"
      ],
      "execution_count": 359,
      "outputs": [
        {
          "output_type": "execute_result",
          "data": {
            "text/html": [
              "<div>\n",
              "<style scoped>\n",
              "    .dataframe tbody tr th:only-of-type {\n",
              "        vertical-align: middle;\n",
              "    }\n",
              "\n",
              "    .dataframe tbody tr th {\n",
              "        vertical-align: top;\n",
              "    }\n",
              "\n",
              "    .dataframe thead th {\n",
              "        text-align: right;\n",
              "    }\n",
              "</style>\n",
              "<table border=\"1\" class=\"dataframe\">\n",
              "  <thead>\n",
              "    <tr style=\"text-align: right;\">\n",
              "      <th></th>\n",
              "      <th>real</th>\n",
              "      <th>preds</th>\n",
              "    </tr>\n",
              "  </thead>\n",
              "  <tbody>\n",
              "    <tr>\n",
              "      <th>16651</th>\n",
              "      <td>No</td>\n",
              "      <td>No</td>\n",
              "    </tr>\n",
              "    <tr>\n",
              "      <th>13898</th>\n",
              "      <td>No</td>\n",
              "      <td>No</td>\n",
              "    </tr>\n",
              "    <tr>\n",
              "      <th>16269</th>\n",
              "      <td>No</td>\n",
              "      <td>No</td>\n",
              "    </tr>\n",
              "    <tr>\n",
              "      <th>7306</th>\n",
              "      <td>No</td>\n",
              "      <td>No</td>\n",
              "    </tr>\n",
              "    <tr>\n",
              "      <th>13631</th>\n",
              "      <td>No</td>\n",
              "      <td>No</td>\n",
              "    </tr>\n",
              "    <tr>\n",
              "      <th>4609</th>\n",
              "      <td>No</td>\n",
              "      <td>Yes</td>\n",
              "    </tr>\n",
              "    <tr>\n",
              "      <th>18063</th>\n",
              "      <td>No</td>\n",
              "      <td>No</td>\n",
              "    </tr>\n",
              "    <tr>\n",
              "      <th>408</th>\n",
              "      <td>Yes</td>\n",
              "      <td>No</td>\n",
              "    </tr>\n",
              "    <tr>\n",
              "      <th>12181</th>\n",
              "      <td>No</td>\n",
              "      <td>No</td>\n",
              "    </tr>\n",
              "    <tr>\n",
              "      <th>3062</th>\n",
              "      <td>Yes</td>\n",
              "      <td>Yes</td>\n",
              "    </tr>\n",
              "  </tbody>\n",
              "</table>\n",
              "</div>"
            ],
            "text/plain": [
              "      real preds\n",
              "16651   No    No\n",
              "13898   No    No\n",
              "16269   No    No\n",
              "7306    No    No\n",
              "13631   No    No\n",
              "4609    No   Yes\n",
              "18063   No    No\n",
              "408    Yes    No\n",
              "12181   No    No\n",
              "3062   Yes   Yes"
            ]
          },
          "metadata": {
            "tags": []
          },
          "execution_count": 359
        }
      ]
    },
    {
      "cell_type": "code",
      "metadata": {
        "colab": {
          "base_uri": "https://localhost:8080/",
          "height": 402
        },
        "id": "ZjwD8Y3W7aCi",
        "outputId": "b1b64a49-acec-4893-9d43-62685581c8af"
      },
      "source": [
        "comp[comp['real']=='Yes'] ##casi siempre esta prediciendo 0 para los casos de 1"
      ],
      "execution_count": 360,
      "outputs": [
        {
          "output_type": "execute_result",
          "data": {
            "text/html": [
              "<div>\n",
              "<style scoped>\n",
              "    .dataframe tbody tr th:only-of-type {\n",
              "        vertical-align: middle;\n",
              "    }\n",
              "\n",
              "    .dataframe tbody tr th {\n",
              "        vertical-align: top;\n",
              "    }\n",
              "\n",
              "    .dataframe thead th {\n",
              "        text-align: right;\n",
              "    }\n",
              "</style>\n",
              "<table border=\"1\" class=\"dataframe\">\n",
              "  <thead>\n",
              "    <tr style=\"text-align: right;\">\n",
              "      <th></th>\n",
              "      <th>real</th>\n",
              "      <th>preds</th>\n",
              "    </tr>\n",
              "  </thead>\n",
              "  <tbody>\n",
              "    <tr>\n",
              "      <th>408</th>\n",
              "      <td>Yes</td>\n",
              "      <td>No</td>\n",
              "    </tr>\n",
              "    <tr>\n",
              "      <th>3062</th>\n",
              "      <td>Yes</td>\n",
              "      <td>Yes</td>\n",
              "    </tr>\n",
              "    <tr>\n",
              "      <th>936</th>\n",
              "      <td>Yes</td>\n",
              "      <td>No</td>\n",
              "    </tr>\n",
              "    <tr>\n",
              "      <th>44</th>\n",
              "      <td>Yes</td>\n",
              "      <td>Yes</td>\n",
              "    </tr>\n",
              "    <tr>\n",
              "      <th>447</th>\n",
              "      <td>Yes</td>\n",
              "      <td>Yes</td>\n",
              "    </tr>\n",
              "    <tr>\n",
              "      <th>...</th>\n",
              "      <td>...</td>\n",
              "      <td>...</td>\n",
              "    </tr>\n",
              "    <tr>\n",
              "      <th>1246</th>\n",
              "      <td>Yes</td>\n",
              "      <td>No</td>\n",
              "    </tr>\n",
              "    <tr>\n",
              "      <th>800</th>\n",
              "      <td>Yes</td>\n",
              "      <td>No</td>\n",
              "    </tr>\n",
              "    <tr>\n",
              "      <th>2074</th>\n",
              "      <td>Yes</td>\n",
              "      <td>No</td>\n",
              "    </tr>\n",
              "    <tr>\n",
              "      <th>1483</th>\n",
              "      <td>Yes</td>\n",
              "      <td>No</td>\n",
              "    </tr>\n",
              "    <tr>\n",
              "      <th>3290</th>\n",
              "      <td>Yes</td>\n",
              "      <td>No</td>\n",
              "    </tr>\n",
              "  </tbody>\n",
              "</table>\n",
              "<p>1365 rows × 2 columns</p>\n",
              "</div>"
            ],
            "text/plain": [
              "     real preds\n",
              "408   Yes    No\n",
              "3062  Yes   Yes\n",
              "936   Yes    No\n",
              "44    Yes   Yes\n",
              "447   Yes   Yes\n",
              "...   ...   ...\n",
              "1246  Yes    No\n",
              "800   Yes    No\n",
              "2074  Yes    No\n",
              "1483  Yes    No\n",
              "3290  Yes    No\n",
              "\n",
              "[1365 rows x 2 columns]"
            ]
          },
          "metadata": {
            "tags": []
          },
          "execution_count": 360
        }
      ]
    },
    {
      "cell_type": "code",
      "metadata": {
        "colab": {
          "base_uri": "https://localhost:8080/"
        },
        "id": "lEyX0J8x9iYO",
        "outputId": "fb164d20-7a4e-433e-b2cd-7105d40b47e8"
      },
      "source": [
        "## lets check the percentge of accuracy\n",
        "\n",
        "from sklearn.metrics import accuracy_score\n",
        "\n",
        "acc = accuracy_score(y_test, y_pred)\n",
        "acc ## this accuracy is good but our problem is that it is very import to us to identify those cases with an accident so we need to better up our prediction on those"
      ],
      "execution_count": 361,
      "outputs": [
        {
          "output_type": "execute_result",
          "data": {
            "text/plain": [
              "0.7642857142857142"
            ]
          },
          "metadata": {
            "tags": []
          },
          "execution_count": 361
        }
      ]
    },
    {
      "cell_type": "code",
      "metadata": {
        "colab": {
          "base_uri": "https://localhost:8080/",
          "height": 364
        },
        "id": "beEhJQSt-9PP",
        "outputId": "62bf5ce2-b2ec-4aa4-da37-ae4c97b04819"
      },
      "source": [
        "classes = ['No', 'Yes']\n",
        "plot_confusion_matrix(y_test, y_pred, classes=classes, title='Confussion matrix for Decision Tree without weights')"
      ],
      "execution_count": 362,
      "outputs": [
        {
          "output_type": "stream",
          "text": [
            "Confusion matrix, without normalization\n",
            "[[4821  814]\n",
            " [ 836  529]]\n"
          ],
          "name": "stdout"
        },
        {
          "output_type": "execute_result",
          "data": {
            "text/plain": [
              "<matplotlib.axes._subplots.AxesSubplot at 0x7f09cdcbeb10>"
            ]
          },
          "metadata": {
            "tags": []
          },
          "execution_count": 362
        },
        {
          "output_type": "display_data",
          "data": {
            "image/png": "[encoded data removed]",
            "text/plain": [
              "<Figure size 432x288 with 2 Axes>"
            ]
          },
          "metadata": {
            "tags": [],
            "needs_background": "light"
          }
        }
      ]
    },
    {
      "cell_type": "markdown",
      "metadata": {
        "id": "RtmmbG5CBGEs"
      },
      "source": [
        "Now we are going to  run the model again but with the class weights according to the frequency of the classes to try to balance them and achieve better results"
      ]
    },
    {
      "cell_type": "code",
      "metadata": {
        "id": "b-i2ptaaFtlT"
      },
      "source": [
        "from sklearn.model_selection import GridSearchCV\n",
        "\n",
        "clf_dt = GridSearchCV(DecisionTreeClassifier(),\n",
        "                      param_grid={\"min_samples_leaf\":np.arange(1,100),\n",
        "                                 'max_depth': np.arange(2, 20)},\n",
        "                     cv = 10,\n",
        "                     scoring = \"accuracy\")"
      ],
      "execution_count": 184,
      "outputs": []
    },
    {
      "cell_type": "code",
      "metadata": {
        "colab": {
          "base_uri": "https://localhost:8080/"
        },
        "id": "VGto0xBsGX-_",
        "outputId": "aad01073-5f49-40a9-8537-058c60a3062d"
      },
      "source": [
        "clf_dt.best_score_\n"
      ],
      "execution_count": 188,
      "outputs": [
        {
          "output_type": "execute_result",
          "data": {
            "text/plain": [
              "0.8294159042927515"
            ]
          },
          "metadata": {
            "tags": []
          },
          "execution_count": 188
        }
      ]
    },
    {
      "cell_type": "code",
      "metadata": {
        "colab": {
          "base_uri": "https://localhost:8080/"
        },
        "id": "UuEdDOX0GUCY",
        "outputId": "90790e28-f409-4678-8866-dff8fb1fb580"
      },
      "source": [
        "clf_dt.best_params_"
      ],
      "execution_count": 187,
      "outputs": [
        {
          "output_type": "execute_result",
          "data": {
            "text/plain": [
              "{'max_depth': 9, 'min_samples_leaf': 30}"
            ]
          },
          "metadata": {
            "tags": []
          },
          "execution_count": 187
        }
      ]
    },
    {
      "cell_type": "code",
      "metadata": {
        "colab": {
          "base_uri": "https://localhost:8080/"
        },
        "id": "0Ahiu-dnFtuv",
        "outputId": "b31307d9-bec2-4ff5-abef-8abb86eb7aa0"
      },
      "source": [
        "clf_dt.fit(X_train, y_train)\n"
      ],
      "execution_count": 185,
      "outputs": [
        {
          "output_type": "execute_result",
          "data": {
            "text/plain": [
              "GridSearchCV(cv=10, error_score=nan,\n",
              "             estimator=DecisionTreeClassifier(ccp_alpha=0.0, class_weight=None,\n",
              "                                              criterion='gini', max_depth=None,\n",
              "                                              max_features=None,\n",
              "                                              max_leaf_nodes=None,\n",
              "                                              min_impurity_decrease=0.0,\n",
              "                                              min_impurity_split=None,\n",
              "                                              min_samples_leaf=1,\n",
              "                                              min_samples_split=2,\n",
              "                                              min_weight_fraction_leaf=0.0,\n",
              "                                              presort='deprecated',\n",
              "                                              random_state=None,\n",
              "                                              splitter='best'),\n",
              "             iid='d...\n",
              "                         'min_samples_leaf': array([ 1,  2,  3,  4,  5,  6,  7,  8,  9, 10, 11, 12, 13, 14, 15, 16, 17,\n",
              "       18, 19, 20, 21, 22, 23, 24, 25, 26, 27, 28, 29, 30, 31, 32, 33, 34,\n",
              "       35, 36, 37, 38, 39, 40, 41, 42, 43, 44, 45, 46, 47, 48, 49, 50, 51,\n",
              "       52, 53, 54, 55, 56, 57, 58, 59, 60, 61, 62, 63, 64, 65, 66, 67, 68,\n",
              "       69, 70, 71, 72, 73, 74, 75, 76, 77, 78, 79, 80, 81, 82, 83, 84, 85,\n",
              "       86, 87, 88, 89, 90, 91, 92, 93, 94, 95, 96, 97, 98, 99])},\n",
              "             pre_dispatch='2*n_jobs', refit=True, return_train_score=False,\n",
              "             scoring='accuracy', verbose=0)"
            ]
          },
          "metadata": {
            "tags": []
          },
          "execution_count": 185
        }
      ]
    },
    {
      "cell_type": "code",
      "metadata": {
        "colab": {
          "base_uri": "https://localhost:8080/"
        },
        "id": "bREbiyNpMdQy",
        "outputId": "7d1b0b7b-f296-4aed-ac44-2d95d7b9abe7"
      },
      "source": [
        "## lets check frequencies\n",
        "staff['Accident'] = staff['Accident'].apply(str).apply(lambda x: x.replace('1', 'Yes').replace('0', 'No'))\n",
        "counts = staff['Accident'].replace('1', 'Yes').replace('0','No').astype(str).value_counts().to_dict()\n",
        "print(counts)\n",
        "\n"
      ],
      "execution_count": 341,
      "outputs": [
        {
          "output_type": "stream",
          "text": [
            "{'No': 17030, 'Yes': 4180}\n"
          ],
          "name": "stdout"
        }
      ]
    },
    {
      "cell_type": "code",
      "metadata": {
        "colab": {
          "base_uri": "https://localhost:8080/"
        },
        "id": "gQnu2eSHMyf5",
        "outputId": "f093501f-c8f5-4ddd-b76d-6683e8168c0d"
      },
      "source": [
        "\n",
        "model = DecisionTreeClassifier(random_state=1, class_weight =counts, max_depth= 9, min_samples_leaf = 30)\n",
        "model.fit(X_train, y_train)\n",
        "\n"
      ],
      "execution_count": 342,
      "outputs": [
        {
          "output_type": "execute_result",
          "data": {
            "text/plain": [
              "DecisionTreeClassifier(ccp_alpha=0.0, class_weight={'No': 17030, 'Yes': 4180},\n",
              "                       criterion='gini', max_depth=9, max_features=None,\n",
              "                       max_leaf_nodes=None, min_impurity_decrease=0.0,\n",
              "                       min_impurity_split=None, min_samples_leaf=30,\n",
              "                       min_samples_split=2, min_weight_fraction_leaf=0.0,\n",
              "                       presort='deprecated', random_state=1, splitter='best')"
            ]
          },
          "metadata": {
            "tags": []
          },
          "execution_count": 342
        }
      ]
    },
    {
      "cell_type": "code",
      "metadata": {
        "colab": {
          "base_uri": "https://localhost:8080/",
          "height": 402
        },
        "id": "u7pLyPDVChTR",
        "outputId": "80ada5e8-c140-4c0c-e6b2-cc2f9dea2bce"
      },
      "source": [
        "y_pred = model.predict(X_test)\n",
        "comp_2 = pd.DataFrame({'real': y_test, 'preds':y_pred})\n",
        "comp_2[comp_2['real']=='Yes'] ## it seems it has increase accuracy, lets check"
      ],
      "execution_count": 344,
      "outputs": [
        {
          "output_type": "execute_result",
          "data": {
            "text/html": [
              "<div>\n",
              "<style scoped>\n",
              "    .dataframe tbody tr th:only-of-type {\n",
              "        vertical-align: middle;\n",
              "    }\n",
              "\n",
              "    .dataframe tbody tr th {\n",
              "        vertical-align: top;\n",
              "    }\n",
              "\n",
              "    .dataframe thead th {\n",
              "        text-align: right;\n",
              "    }\n",
              "</style>\n",
              "<table border=\"1\" class=\"dataframe\">\n",
              "  <thead>\n",
              "    <tr style=\"text-align: right;\">\n",
              "      <th></th>\n",
              "      <th>real</th>\n",
              "      <th>preds</th>\n",
              "    </tr>\n",
              "  </thead>\n",
              "  <tbody>\n",
              "    <tr>\n",
              "      <th>408</th>\n",
              "      <td>Yes</td>\n",
              "      <td>No</td>\n",
              "    </tr>\n",
              "    <tr>\n",
              "      <th>3062</th>\n",
              "      <td>Yes</td>\n",
              "      <td>No</td>\n",
              "    </tr>\n",
              "    <tr>\n",
              "      <th>936</th>\n",
              "      <td>Yes</td>\n",
              "      <td>No</td>\n",
              "    </tr>\n",
              "    <tr>\n",
              "      <th>44</th>\n",
              "      <td>Yes</td>\n",
              "      <td>No</td>\n",
              "    </tr>\n",
              "    <tr>\n",
              "      <th>447</th>\n",
              "      <td>Yes</td>\n",
              "      <td>No</td>\n",
              "    </tr>\n",
              "    <tr>\n",
              "      <th>...</th>\n",
              "      <td>...</td>\n",
              "      <td>...</td>\n",
              "    </tr>\n",
              "    <tr>\n",
              "      <th>1246</th>\n",
              "      <td>Yes</td>\n",
              "      <td>No</td>\n",
              "    </tr>\n",
              "    <tr>\n",
              "      <th>800</th>\n",
              "      <td>Yes</td>\n",
              "      <td>No</td>\n",
              "    </tr>\n",
              "    <tr>\n",
              "      <th>2074</th>\n",
              "      <td>Yes</td>\n",
              "      <td>No</td>\n",
              "    </tr>\n",
              "    <tr>\n",
              "      <th>1483</th>\n",
              "      <td>Yes</td>\n",
              "      <td>No</td>\n",
              "    </tr>\n",
              "    <tr>\n",
              "      <th>3290</th>\n",
              "      <td>Yes</td>\n",
              "      <td>No</td>\n",
              "    </tr>\n",
              "  </tbody>\n",
              "</table>\n",
              "<p>1365 rows × 2 columns</p>\n",
              "</div>"
            ],
            "text/plain": [
              "     real preds\n",
              "408   Yes    No\n",
              "3062  Yes    No\n",
              "936   Yes    No\n",
              "44    Yes    No\n",
              "447   Yes    No\n",
              "...   ...   ...\n",
              "1246  Yes    No\n",
              "800   Yes    No\n",
              "2074  Yes    No\n",
              "1483  Yes    No\n",
              "3290  Yes    No\n",
              "\n",
              "[1365 rows x 2 columns]"
            ]
          },
          "metadata": {
            "tags": []
          },
          "execution_count": 344
        }
      ]
    },
    {
      "cell_type": "code",
      "metadata": {
        "colab": {
          "base_uri": "https://localhost:8080/"
        },
        "id": "mpW9r55-DCC2",
        "outputId": "7b6d4e59-b364-4b1c-e024-acb0af92744c"
      },
      "source": [
        "acc = accuracy_score(y_test, y_pred)\n",
        "acc "
      ],
      "execution_count": 345,
      "outputs": [
        {
          "output_type": "execute_result",
          "data": {
            "text/plain": [
              "0.805"
            ]
          },
          "metadata": {
            "tags": []
          },
          "execution_count": 345
        }
      ]
    },
    {
      "cell_type": "code",
      "metadata": {
        "colab": {
          "base_uri": "https://localhost:8080/"
        },
        "id": "L44QL-gTDFTw",
        "outputId": "afcca626-be56-475a-d39d-f7b0ef506586"
      },
      "source": [
        "cm = confusion_matrix(y_test, y_pred)\n",
        "cm"
      ],
      "execution_count": 346,
      "outputs": [
        {
          "output_type": "execute_result",
          "data": {
            "text/plain": [
              "array([[5635,    0],\n",
              "       [1365,    0]])"
            ]
          },
          "metadata": {
            "tags": []
          },
          "execution_count": 346
        }
      ]
    },
    {
      "cell_type": "markdown",
      "metadata": {
        "id": "5_tAf7xcNtqN"
      },
      "source": [
        "If we add the best parameter the accuracy is increasing bt because it is never predicting value 'yes' so it is not working correctly"
      ]
    },
    {
      "cell_type": "code",
      "metadata": {
        "colab": {
          "base_uri": "https://localhost:8080/",
          "height": 364
        },
        "id": "jqHpEhIREOA3",
        "outputId": "08cf7259-1bb7-4869-ccb8-b37fa6cf24f2"
      },
      "source": [
        "classes = ['No', 'Yes']\n",
        "plot_confusion_matrix(y_test, y_pred, classes=classes, title='Confussion matrix for Decision Tree ')"
      ],
      "execution_count": 347,
      "outputs": [
        {
          "output_type": "stream",
          "text": [
            "Confusion matrix, without normalization\n",
            "[[5635    0]\n",
            " [1365    0]]\n"
          ],
          "name": "stdout"
        },
        {
          "output_type": "execute_result",
          "data": {
            "text/plain": [
              "<matplotlib.axes._subplots.AxesSubplot at 0x7f09ce24fc10>"
            ]
          },
          "metadata": {
            "tags": []
          },
          "execution_count": 347
        },
        {
          "output_type": "display_data",
          "data": {
            "image/png": "[encoded data removed]",
            "text/plain": [
              "<Figure size 432x288 with 2 Axes>"
            ]
          },
          "metadata": {
            "tags": [],
            "needs_background": "light"
          }
        }
      ]
    },
    {
      "cell_type": "code",
      "metadata": {
        "colab": {
          "base_uri": "https://localhost:8080/"
        },
        "id": "Da_sYtJIN3rZ",
        "outputId": "21bb8886-de6b-4722-fa8e-292c58d72bc2"
      },
      "source": [
        "##lets try without them\n",
        "\n",
        "model = DecisionTreeClassifier()\n",
        "model = DecisionTreeClassifier(random_state=1, class_weight =counts)\n",
        "model.fit(X_train, y_train)"
      ],
      "execution_count": 352,
      "outputs": [
        {
          "output_type": "execute_result",
          "data": {
            "text/plain": [
              "DecisionTreeClassifier(ccp_alpha=0.0, class_weight=None, criterion='gini',\n",
              "                       max_depth=None, max_features=None, max_leaf_nodes=None,\n",
              "                       min_impurity_decrease=0.0, min_impurity_split=None,\n",
              "                       min_samples_leaf=1, min_samples_split=2,\n",
              "                       min_weight_fraction_leaf=0.0, presort='deprecated',\n",
              "                       random_state=1, splitter='best')"
            ]
          },
          "metadata": {
            "tags": []
          },
          "execution_count": 352
        }
      ]
    },
    {
      "cell_type": "code",
      "metadata": {
        "id": "w5aPF9HKOWDu"
      },
      "source": [
        "y_pred = model.predict(X_test)\n"
      ],
      "execution_count": 354,
      "outputs": []
    },
    {
      "cell_type": "code",
      "metadata": {
        "colab": {
          "base_uri": "https://localhost:8080/",
          "height": 364
        },
        "id": "02TnmJeCN_bI",
        "outputId": "839aae08-7b83-4199-b780-3ce12e61d75d"
      },
      "source": [
        "classes = ['No', 'Yes']\n",
        "plot_confusion_matrix(y_test, y_pred, classes=classes, title='Confussion matrix for Decision Tree ')"
      ],
      "execution_count": 355,
      "outputs": [
        {
          "output_type": "stream",
          "text": [
            "Confusion matrix, without normalization\n",
            "[[4821  814]\n",
            " [ 836  529]]\n"
          ],
          "name": "stdout"
        },
        {
          "output_type": "execute_result",
          "data": {
            "text/plain": [
              "<matplotlib.axes._subplots.AxesSubplot at 0x7f09cdcc5a50>"
            ]
          },
          "metadata": {
            "tags": []
          },
          "execution_count": 355
        },
        {
          "output_type": "display_data",
          "data": {
            "image/png": "[encoded data removed]",
            "text/plain": [
              "<Figure size 432x288 with 2 Axes>"
            ]
          },
          "metadata": {
            "tags": [],
            "needs_background": "light"
          }
        }
      ]
    }
  ]
}