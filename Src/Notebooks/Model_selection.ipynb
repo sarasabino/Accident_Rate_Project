{
  "nbformat": 4,
  "nbformat_minor": 0,
  "metadata": {
    "colab": {
      "name": "Model_selection.ipynb",
      "provenance": [],
      "collapsed_sections": [],
      "mount_file_id": "1JTv9jnMWk0I63RJCkjdYGLSMZDwfYSAt",
      "authorship_tag": "ABX9TyPff8Ea52YA8jjyPQWToWVX",
      "include_colab_link": true
    },
    "kernelspec": {
      "display_name": "Python 3",
      "name": "python3"
    },
    "language_info": {
      "name": "python"
    }
  },
  "cells": [
    {
      "cell_type": "markdown",
      "metadata": {
        "id": "view-in-github",
        "colab_type": "text"
      },
      "source": [
        "<a href=\"https://colab.research.google.com/github/sarasabino/Accident_Rate_Project/blob/main/Src/Notebooks/Model_selection.ipynb\" target=\"_parent\"><img src=\"https://colab.research.google.com/assets/colab-badge.svg\" alt=\"Open In Colab\"/></a>"
      ]
    },
    {
      "cell_type": "code",
      "metadata": {
        "id": "Bq_m8VUeZz8C"
      },
      "source": [
        "! cp /content/drive/MyDrive/'Colab Notebooks'/'TFM Accidentabilidad'/Data/staff_encoded.csv .\n"
      ],
      "execution_count": 1,
      "outputs": []
    },
    {
      "cell_type": "code",
      "metadata": {
        "id": "6fOH4PXHaHGH"
      },
      "source": [
        "import pandas as pd\n",
        "staff = pd.read_csv('staff_encoded.csv', sep=';')"
      ],
      "execution_count": 2,
      "outputs": []
    },
    {
      "cell_type": "markdown",
      "metadata": {
        "id": "pHEBml3HdqxB"
      },
      "source": [
        "This is the data we have generated in previous notebooks and the one we are going to be using for the machine learning algorithms"
      ]
    },
    {
      "cell_type": "code",
      "metadata": {
        "colab": {
          "base_uri": "https://localhost:8080/",
          "height": 1000
        },
        "id": "fZ7ZHpsVb-6p",
        "outputId": "afd3d288-f165-4119-c9ae-e932879b33cc"
      },
      "source": [
        "staff.head(50)"
      ],
      "execution_count": 3,
      "outputs": [
        {
          "output_type": "execute_result",
          "data": {
            "text/html": [
              "<div>\n",
              "<style scoped>\n",
              "    .dataframe tbody tr th:only-of-type {\n",
              "        vertical-align: middle;\n",
              "    }\n",
              "\n",
              "    .dataframe tbody tr th {\n",
              "        vertical-align: top;\n",
              "    }\n",
              "\n",
              "    .dataframe thead th {\n",
              "        text-align: right;\n",
              "    }\n",
              "</style>\n",
              "<table border=\"1\" class=\"dataframe\">\n",
              "  <thead>\n",
              "    <tr style=\"text-align: right;\">\n",
              "      <th></th>\n",
              "      <th>Unnamed: 0</th>\n",
              "      <th>Horas Presencia Efectiva Subcontratados</th>\n",
              "      <th>Horas Presencia Efectiva ETTs</th>\n",
              "      <th>Horas Formacion Seguridad Propios</th>\n",
              "      <th>Horas Formacion Seguridad ETTs</th>\n",
              "      <th>Accident</th>\n",
              "      <th>wk_position</th>\n",
              "      <th>Age</th>\n",
              "      <th>Severity</th>\n",
              "      <th>Accident_place</th>\n",
              "      <th>Gender_Hombre</th>\n",
              "      <th>T_Turno de mañana</th>\n",
              "      <th>T_Turno de noche</th>\n",
              "      <th>T_Turno de tarde</th>\n",
              "      <th>Age_Entre 30-50</th>\n",
              "      <th>Age_Mayor 50</th>\n",
              "      <th>Age_Menor 30</th>\n",
              "      <th>Tipo_trab_reduced</th>\n",
              "      <th>Acc_Duración Determinada</th>\n",
              "      <th>Acc_ETT</th>\n",
              "      <th>Acc_Indefinido</th>\n",
              "      <th>Acc_Otros</th>\n",
              "    </tr>\n",
              "  </thead>\n",
              "  <tbody>\n",
              "    <tr>\n",
              "      <th>0</th>\n",
              "      <td>0</td>\n",
              "      <td>25249.00</td>\n",
              "      <td>42484.00</td>\n",
              "      <td>1419.3</td>\n",
              "      <td>830.1</td>\n",
              "      <td>1</td>\n",
              "      <td>galvanized-hanging-handling</td>\n",
              "      <td>Entre 30-50</td>\n",
              "      <td>Leve</td>\n",
              "      <td>Mantenimiento</td>\n",
              "      <td>1</td>\n",
              "      <td>1</td>\n",
              "      <td>0</td>\n",
              "      <td>0</td>\n",
              "      <td>1</td>\n",
              "      <td>0</td>\n",
              "      <td>0</td>\n",
              "      <td>ETT</td>\n",
              "      <td>0</td>\n",
              "      <td>1</td>\n",
              "      <td>0</td>\n",
              "      <td>0</td>\n",
              "    </tr>\n",
              "    <tr>\n",
              "      <th>1</th>\n",
              "      <td>1</td>\n",
              "      <td>25249.00</td>\n",
              "      <td>42484.00</td>\n",
              "      <td>1419.3</td>\n",
              "      <td>830.1</td>\n",
              "      <td>1</td>\n",
              "      <td>Auxiliar Trans 4</td>\n",
              "      <td>Mayor 50</td>\n",
              "      <td>Muy grave</td>\n",
              "      <td>Mantenimiento</td>\n",
              "      <td>1</td>\n",
              "      <td>1</td>\n",
              "      <td>0</td>\n",
              "      <td>0</td>\n",
              "      <td>0</td>\n",
              "      <td>1</td>\n",
              "      <td>0</td>\n",
              "      <td>Indefinido</td>\n",
              "      <td>0</td>\n",
              "      <td>0</td>\n",
              "      <td>1</td>\n",
              "      <td>0</td>\n",
              "    </tr>\n",
              "    <tr>\n",
              "      <th>2</th>\n",
              "      <td>2</td>\n",
              "      <td>25684.50</td>\n",
              "      <td>18302.30</td>\n",
              "      <td>1150.6</td>\n",
              "      <td>151.5</td>\n",
              "      <td>1</td>\n",
              "      <td>Equipo de preparación de montajes</td>\n",
              "      <td>Entre 30-50</td>\n",
              "      <td>Muy grave</td>\n",
              "      <td>Mantenimiento</td>\n",
              "      <td>1</td>\n",
              "      <td>0</td>\n",
              "      <td>0</td>\n",
              "      <td>1</td>\n",
              "      <td>1</td>\n",
              "      <td>0</td>\n",
              "      <td>0</td>\n",
              "      <td>Duración Determinada</td>\n",
              "      <td>1</td>\n",
              "      <td>0</td>\n",
              "      <td>0</td>\n",
              "      <td>0</td>\n",
              "    </tr>\n",
              "    <tr>\n",
              "      <th>3</th>\n",
              "      <td>3</td>\n",
              "      <td>25684.50</td>\n",
              "      <td>18302.30</td>\n",
              "      <td>1150.6</td>\n",
              "      <td>151.5</td>\n",
              "      <td>1</td>\n",
              "      <td>Manual operation on protective rods</td>\n",
              "      <td>Entre 30-50</td>\n",
              "      <td>Grave</td>\n",
              "      <td>Mantenimiento</td>\n",
              "      <td>1</td>\n",
              "      <td>1</td>\n",
              "      <td>0</td>\n",
              "      <td>0</td>\n",
              "      <td>1</td>\n",
              "      <td>0</td>\n",
              "      <td>0</td>\n",
              "      <td>ETT</td>\n",
              "      <td>0</td>\n",
              "      <td>1</td>\n",
              "      <td>0</td>\n",
              "      <td>0</td>\n",
              "    </tr>\n",
              "    <tr>\n",
              "      <th>4</th>\n",
              "      <td>4</td>\n",
              "      <td>0.00</td>\n",
              "      <td>167848.00</td>\n",
              "      <td>1300.5</td>\n",
              "      <td>101.5</td>\n",
              "      <td>1</td>\n",
              "      <td>: Operador II</td>\n",
              "      <td>Entre 30-50</td>\n",
              "      <td>Grave</td>\n",
              "      <td>Mantenimiento</td>\n",
              "      <td>1</td>\n",
              "      <td>1</td>\n",
              "      <td>0</td>\n",
              "      <td>0</td>\n",
              "      <td>1</td>\n",
              "      <td>0</td>\n",
              "      <td>0</td>\n",
              "      <td>Otros</td>\n",
              "      <td>0</td>\n",
              "      <td>0</td>\n",
              "      <td>0</td>\n",
              "      <td>1</td>\n",
              "    </tr>\n",
              "    <tr>\n",
              "      <th>5</th>\n",
              "      <td>5</td>\n",
              "      <td>25684.50</td>\n",
              "      <td>18302.30</td>\n",
              "      <td>1150.6</td>\n",
              "      <td>151.5</td>\n",
              "      <td>1</td>\n",
              "      <td>Mantenimiento electrico</td>\n",
              "      <td>Mayor 50</td>\n",
              "      <td>Muy grave</td>\n",
              "      <td>Mantenimiento</td>\n",
              "      <td>1</td>\n",
              "      <td>1</td>\n",
              "      <td>0</td>\n",
              "      <td>0</td>\n",
              "      <td>0</td>\n",
              "      <td>1</td>\n",
              "      <td>0</td>\n",
              "      <td>Indefinido</td>\n",
              "      <td>0</td>\n",
              "      <td>0</td>\n",
              "      <td>1</td>\n",
              "      <td>0</td>\n",
              "    </tr>\n",
              "    <tr>\n",
              "      <th>6</th>\n",
              "      <td>6</td>\n",
              "      <td>0.00</td>\n",
              "      <td>0.00</td>\n",
              "      <td>606.5</td>\n",
              "      <td>0.0</td>\n",
              "      <td>1</td>\n",
              "      <td>Red Bud Blanking Line</td>\n",
              "      <td>Entre 30-50</td>\n",
              "      <td>Grave</td>\n",
              "      <td>Mantenimiento</td>\n",
              "      <td>1</td>\n",
              "      <td>0</td>\n",
              "      <td>0</td>\n",
              "      <td>1</td>\n",
              "      <td>1</td>\n",
              "      <td>0</td>\n",
              "      <td>0</td>\n",
              "      <td>Otros</td>\n",
              "      <td>0</td>\n",
              "      <td>0</td>\n",
              "      <td>0</td>\n",
              "      <td>1</td>\n",
              "    </tr>\n",
              "    <tr>\n",
              "      <th>7</th>\n",
              "      <td>7</td>\n",
              "      <td>0.00</td>\n",
              "      <td>0.00</td>\n",
              "      <td>606.5</td>\n",
              "      <td>0.0</td>\n",
              "      <td>1</td>\n",
              "      <td>Desmontaje de la herramienta después de la pro...</td>\n",
              "      <td>Mayor 50</td>\n",
              "      <td>Muy grave</td>\n",
              "      <td>Mantenimiento</td>\n",
              "      <td>1</td>\n",
              "      <td>0</td>\n",
              "      <td>0</td>\n",
              "      <td>1</td>\n",
              "      <td>0</td>\n",
              "      <td>1</td>\n",
              "      <td>0</td>\n",
              "      <td>Indefinido</td>\n",
              "      <td>0</td>\n",
              "      <td>0</td>\n",
              "      <td>1</td>\n",
              "      <td>0</td>\n",
              "    </tr>\n",
              "    <tr>\n",
              "      <th>8</th>\n",
              "      <td>8</td>\n",
              "      <td>0.00</td>\n",
              "      <td>0.00</td>\n",
              "      <td>606.5</td>\n",
              "      <td>0.0</td>\n",
              "      <td>1</td>\n",
              "      <td>Titular de Linea</td>\n",
              "      <td>Mayor 50</td>\n",
              "      <td>Muy grave</td>\n",
              "      <td>Mantenimiento</td>\n",
              "      <td>1</td>\n",
              "      <td>0</td>\n",
              "      <td>0</td>\n",
              "      <td>1</td>\n",
              "      <td>0</td>\n",
              "      <td>1</td>\n",
              "      <td>0</td>\n",
              "      <td>Otros</td>\n",
              "      <td>0</td>\n",
              "      <td>0</td>\n",
              "      <td>0</td>\n",
              "      <td>1</td>\n",
              "    </tr>\n",
              "    <tr>\n",
              "      <th>9</th>\n",
              "      <td>9</td>\n",
              "      <td>25249.00</td>\n",
              "      <td>42484.00</td>\n",
              "      <td>1419.3</td>\n",
              "      <td>830.1</td>\n",
              "      <td>1</td>\n",
              "      <td>operatorof Press</td>\n",
              "      <td>Entre 30-50</td>\n",
              "      <td>Leve</td>\n",
              "      <td>Mantenimiento</td>\n",
              "      <td>1</td>\n",
              "      <td>1</td>\n",
              "      <td>0</td>\n",
              "      <td>0</td>\n",
              "      <td>1</td>\n",
              "      <td>0</td>\n",
              "      <td>0</td>\n",
              "      <td>Otros</td>\n",
              "      <td>0</td>\n",
              "      <td>0</td>\n",
              "      <td>0</td>\n",
              "      <td>1</td>\n",
              "    </tr>\n",
              "    <tr>\n",
              "      <th>10</th>\n",
              "      <td>10</td>\n",
              "      <td>25249.00</td>\n",
              "      <td>42484.00</td>\n",
              "      <td>1419.3</td>\n",
              "      <td>830.1</td>\n",
              "      <td>1</td>\n",
              "      <td>EMBALADORA</td>\n",
              "      <td>Mayor 50</td>\n",
              "      <td>Muy grave</td>\n",
              "      <td>Mantenimiento</td>\n",
              "      <td>1</td>\n",
              "      <td>1</td>\n",
              "      <td>0</td>\n",
              "      <td>0</td>\n",
              "      <td>0</td>\n",
              "      <td>1</td>\n",
              "      <td>0</td>\n",
              "      <td>Otros</td>\n",
              "      <td>0</td>\n",
              "      <td>0</td>\n",
              "      <td>0</td>\n",
              "      <td>1</td>\n",
              "    </tr>\n",
              "    <tr>\n",
              "      <th>11</th>\n",
              "      <td>11</td>\n",
              "      <td>25249.00</td>\n",
              "      <td>42484.00</td>\n",
              "      <td>1419.3</td>\n",
              "      <td>830.1</td>\n",
              "      <td>1</td>\n",
              "      <td>Montador Prensa 002</td>\n",
              "      <td>Entre 30-50</td>\n",
              "      <td>Muy grave</td>\n",
              "      <td>Mantenimiento</td>\n",
              "      <td>1</td>\n",
              "      <td>1</td>\n",
              "      <td>0</td>\n",
              "      <td>0</td>\n",
              "      <td>1</td>\n",
              "      <td>0</td>\n",
              "      <td>0</td>\n",
              "      <td>Otros</td>\n",
              "      <td>0</td>\n",
              "      <td>0</td>\n",
              "      <td>0</td>\n",
              "      <td>1</td>\n",
              "    </tr>\n",
              "    <tr>\n",
              "      <th>12</th>\n",
              "      <td>12</td>\n",
              "      <td>25249.00</td>\n",
              "      <td>42484.00</td>\n",
              "      <td>1419.3</td>\n",
              "      <td>830.1</td>\n",
              "      <td>1</td>\n",
              "      <td>包装packaging</td>\n",
              "      <td>Entre 30-50</td>\n",
              "      <td>Grave</td>\n",
              "      <td>Mantenimiento</td>\n",
              "      <td>1</td>\n",
              "      <td>1</td>\n",
              "      <td>0</td>\n",
              "      <td>0</td>\n",
              "      <td>1</td>\n",
              "      <td>0</td>\n",
              "      <td>0</td>\n",
              "      <td>Otros</td>\n",
              "      <td>0</td>\n",
              "      <td>0</td>\n",
              "      <td>0</td>\n",
              "      <td>1</td>\n",
              "    </tr>\n",
              "    <tr>\n",
              "      <th>13</th>\n",
              "      <td>13</td>\n",
              "      <td>25249.00</td>\n",
              "      <td>42484.00</td>\n",
              "      <td>1419.3</td>\n",
              "      <td>830.1</td>\n",
              "      <td>1</td>\n",
              "      <td>EMBALADORA LC6</td>\n",
              "      <td>Mayor 50</td>\n",
              "      <td>Grave</td>\n",
              "      <td>Mantenimiento</td>\n",
              "      <td>1</td>\n",
              "      <td>1</td>\n",
              "      <td>0</td>\n",
              "      <td>0</td>\n",
              "      <td>0</td>\n",
              "      <td>1</td>\n",
              "      <td>0</td>\n",
              "      <td>Otros</td>\n",
              "      <td>0</td>\n",
              "      <td>0</td>\n",
              "      <td>0</td>\n",
              "      <td>1</td>\n",
              "    </tr>\n",
              "    <tr>\n",
              "      <th>14</th>\n",
              "      <td>14</td>\n",
              "      <td>0.00</td>\n",
              "      <td>0.00</td>\n",
              "      <td>606.5</td>\n",
              "      <td>0.0</td>\n",
              "      <td>1</td>\n",
              "      <td>CARRETILLERO TRANS005</td>\n",
              "      <td>Menor 30</td>\n",
              "      <td>Grave</td>\n",
              "      <td>Mantenimiento</td>\n",
              "      <td>1</td>\n",
              "      <td>0</td>\n",
              "      <td>0</td>\n",
              "      <td>1</td>\n",
              "      <td>0</td>\n",
              "      <td>0</td>\n",
              "      <td>1</td>\n",
              "      <td>Otros</td>\n",
              "      <td>0</td>\n",
              "      <td>0</td>\n",
              "      <td>0</td>\n",
              "      <td>1</td>\n",
              "    </tr>\n",
              "    <tr>\n",
              "      <th>15</th>\n",
              "      <td>15</td>\n",
              "      <td>0.00</td>\n",
              "      <td>0.00</td>\n",
              "      <td>606.5</td>\n",
              "      <td>0.0</td>\n",
              "      <td>1</td>\n",
              "      <td>embaladora nave 2</td>\n",
              "      <td>Menor 30</td>\n",
              "      <td>Grave</td>\n",
              "      <td>Mantenimiento</td>\n",
              "      <td>1</td>\n",
              "      <td>0</td>\n",
              "      <td>1</td>\n",
              "      <td>0</td>\n",
              "      <td>0</td>\n",
              "      <td>0</td>\n",
              "      <td>1</td>\n",
              "      <td>Otros</td>\n",
              "      <td>0</td>\n",
              "      <td>0</td>\n",
              "      <td>0</td>\n",
              "      <td>1</td>\n",
              "    </tr>\n",
              "    <tr>\n",
              "      <th>16</th>\n",
              "      <td>16</td>\n",
              "      <td>0.00</td>\n",
              "      <td>0.00</td>\n",
              "      <td>606.5</td>\n",
              "      <td>0.0</td>\n",
              "      <td>1</td>\n",
              "      <td>Operating the portalcrane</td>\n",
              "      <td>Menor 30</td>\n",
              "      <td>Muy grave</td>\n",
              "      <td>Mantenimiento</td>\n",
              "      <td>1</td>\n",
              "      <td>0</td>\n",
              "      <td>0</td>\n",
              "      <td>1</td>\n",
              "      <td>0</td>\n",
              "      <td>0</td>\n",
              "      <td>1</td>\n",
              "      <td>Otros</td>\n",
              "      <td>0</td>\n",
              "      <td>0</td>\n",
              "      <td>0</td>\n",
              "      <td>1</td>\n",
              "    </tr>\n",
              "    <tr>\n",
              "      <th>17</th>\n",
              "      <td>17</td>\n",
              "      <td>17051.00</td>\n",
              "      <td>211.00</td>\n",
              "      <td>756.3</td>\n",
              "      <td>0.4</td>\n",
              "      <td>1</td>\n",
              "      <td>carretillero</td>\n",
              "      <td>Mayor 50</td>\n",
              "      <td>Grave</td>\n",
              "      <td>Mantenimiento</td>\n",
              "      <td>1</td>\n",
              "      <td>1</td>\n",
              "      <td>0</td>\n",
              "      <td>0</td>\n",
              "      <td>0</td>\n",
              "      <td>1</td>\n",
              "      <td>0</td>\n",
              "      <td>Indefinido</td>\n",
              "      <td>0</td>\n",
              "      <td>0</td>\n",
              "      <td>1</td>\n",
              "      <td>0</td>\n",
              "    </tr>\n",
              "    <tr>\n",
              "      <th>18</th>\n",
              "      <td>18</td>\n",
              "      <td>25684.50</td>\n",
              "      <td>18302.30</td>\n",
              "      <td>1150.6</td>\n",
              "      <td>151.5</td>\n",
              "      <td>1</td>\n",
              "      <td>OPERARIO LONGI 3</td>\n",
              "      <td>Mayor 50</td>\n",
              "      <td>Muy grave</td>\n",
              "      <td>Mantenimiento</td>\n",
              "      <td>1</td>\n",
              "      <td>1</td>\n",
              "      <td>0</td>\n",
              "      <td>0</td>\n",
              "      <td>0</td>\n",
              "      <td>1</td>\n",
              "      <td>0</td>\n",
              "      <td>Indefinido</td>\n",
              "      <td>0</td>\n",
              "      <td>0</td>\n",
              "      <td>1</td>\n",
              "      <td>0</td>\n",
              "    </tr>\n",
              "    <tr>\n",
              "      <th>19</th>\n",
              "      <td>19</td>\n",
              "      <td>25684.50</td>\n",
              "      <td>18302.30</td>\n",
              "      <td>1150.6</td>\n",
              "      <td>151.5</td>\n",
              "      <td>1</td>\n",
              "      <td>Packing team member</td>\n",
              "      <td>Mayor 50</td>\n",
              "      <td>Leve</td>\n",
              "      <td>Mantenimiento</td>\n",
              "      <td>1</td>\n",
              "      <td>0</td>\n",
              "      <td>0</td>\n",
              "      <td>1</td>\n",
              "      <td>0</td>\n",
              "      <td>1</td>\n",
              "      <td>0</td>\n",
              "      <td>Otros</td>\n",
              "      <td>0</td>\n",
              "      <td>0</td>\n",
              "      <td>0</td>\n",
              "      <td>1</td>\n",
              "    </tr>\n",
              "    <tr>\n",
              "      <th>20</th>\n",
              "      <td>20</td>\n",
              "      <td>0.00</td>\n",
              "      <td>0.00</td>\n",
              "      <td>606.5</td>\n",
              "      <td>0.0</td>\n",
              "      <td>1</td>\n",
              "      <td>operator of packaging</td>\n",
              "      <td>Mayor 50</td>\n",
              "      <td>Grave</td>\n",
              "      <td>Mantenimiento</td>\n",
              "      <td>1</td>\n",
              "      <td>1</td>\n",
              "      <td>0</td>\n",
              "      <td>0</td>\n",
              "      <td>0</td>\n",
              "      <td>1</td>\n",
              "      <td>0</td>\n",
              "      <td>Indefinido</td>\n",
              "      <td>0</td>\n",
              "      <td>0</td>\n",
              "      <td>1</td>\n",
              "      <td>0</td>\n",
              "    </tr>\n",
              "    <tr>\n",
              "      <th>21</th>\n",
              "      <td>21</td>\n",
              "      <td>0.00</td>\n",
              "      <td>0.00</td>\n",
              "      <td>606.5</td>\n",
              "      <td>0.0</td>\n",
              "      <td>1</td>\n",
              "      <td>Maschinenführer 2 Presse 2</td>\n",
              "      <td>Mayor 50</td>\n",
              "      <td>Muy grave</td>\n",
              "      <td>Mantenimiento</td>\n",
              "      <td>1</td>\n",
              "      <td>1</td>\n",
              "      <td>0</td>\n",
              "      <td>0</td>\n",
              "      <td>0</td>\n",
              "      <td>1</td>\n",
              "      <td>0</td>\n",
              "      <td>Indefinido</td>\n",
              "      <td>0</td>\n",
              "      <td>0</td>\n",
              "      <td>1</td>\n",
              "      <td>0</td>\n",
              "    </tr>\n",
              "    <tr>\n",
              "      <th>22</th>\n",
              "      <td>22</td>\n",
              "      <td>0.00</td>\n",
              "      <td>0.00</td>\n",
              "      <td>606.5</td>\n",
              "      <td>0.0</td>\n",
              "      <td>1</td>\n",
              "      <td>Auxiliar Trans 4</td>\n",
              "      <td>Entre 30-50</td>\n",
              "      <td>Leve</td>\n",
              "      <td>Mantenimiento</td>\n",
              "      <td>1</td>\n",
              "      <td>1</td>\n",
              "      <td>0</td>\n",
              "      <td>0</td>\n",
              "      <td>1</td>\n",
              "      <td>0</td>\n",
              "      <td>0</td>\n",
              "      <td>Otros</td>\n",
              "      <td>0</td>\n",
              "      <td>0</td>\n",
              "      <td>0</td>\n",
              "      <td>1</td>\n",
              "    </tr>\n",
              "    <tr>\n",
              "      <th>23</th>\n",
              "      <td>23</td>\n",
              "      <td>0.00</td>\n",
              "      <td>0.00</td>\n",
              "      <td>606.5</td>\n",
              "      <td>0.0</td>\n",
              "      <td>1</td>\n",
              "      <td>Gruista tubos</td>\n",
              "      <td>Mayor 50</td>\n",
              "      <td>Muy grave</td>\n",
              "      <td>Mantenimiento</td>\n",
              "      <td>1</td>\n",
              "      <td>1</td>\n",
              "      <td>0</td>\n",
              "      <td>0</td>\n",
              "      <td>0</td>\n",
              "      <td>1</td>\n",
              "      <td>0</td>\n",
              "      <td>Otros</td>\n",
              "      <td>0</td>\n",
              "      <td>0</td>\n",
              "      <td>0</td>\n",
              "      <td>1</td>\n",
              "    </tr>\n",
              "    <tr>\n",
              "      <th>24</th>\n",
              "      <td>24</td>\n",
              "      <td>0.00</td>\n",
              "      <td>0.00</td>\n",
              "      <td>606.5</td>\n",
              "      <td>0.0</td>\n",
              "      <td>1</td>\n",
              "      <td>Instandhalter</td>\n",
              "      <td>Menor 30</td>\n",
              "      <td>Grave</td>\n",
              "      <td>Mantenimiento</td>\n",
              "      <td>1</td>\n",
              "      <td>1</td>\n",
              "      <td>0</td>\n",
              "      <td>0</td>\n",
              "      <td>0</td>\n",
              "      <td>0</td>\n",
              "      <td>1</td>\n",
              "      <td>Otros</td>\n",
              "      <td>0</td>\n",
              "      <td>0</td>\n",
              "      <td>0</td>\n",
              "      <td>1</td>\n",
              "    </tr>\n",
              "    <tr>\n",
              "      <th>25</th>\n",
              "      <td>25</td>\n",
              "      <td>0.00</td>\n",
              "      <td>0.00</td>\n",
              "      <td>606.5</td>\n",
              "      <td>0.0</td>\n",
              "      <td>1</td>\n",
              "      <td>Ayudante de perfiladora de Dimeco</td>\n",
              "      <td>Entre 30-50</td>\n",
              "      <td>Leve</td>\n",
              "      <td>Mantenimiento</td>\n",
              "      <td>1</td>\n",
              "      <td>0</td>\n",
              "      <td>0</td>\n",
              "      <td>1</td>\n",
              "      <td>1</td>\n",
              "      <td>0</td>\n",
              "      <td>0</td>\n",
              "      <td>Otros</td>\n",
              "      <td>0</td>\n",
              "      <td>0</td>\n",
              "      <td>0</td>\n",
              "      <td>1</td>\n",
              "    </tr>\n",
              "    <tr>\n",
              "      <th>26</th>\n",
              "      <td>26</td>\n",
              "      <td>25249.00</td>\n",
              "      <td>42484.00</td>\n",
              "      <td>1419.3</td>\n",
              "      <td>830.1</td>\n",
              "      <td>1</td>\n",
              "      <td>Titular LCL</td>\n",
              "      <td>Menor 30</td>\n",
              "      <td>Grave</td>\n",
              "      <td>Mantenimiento</td>\n",
              "      <td>1</td>\n",
              "      <td>0</td>\n",
              "      <td>0</td>\n",
              "      <td>1</td>\n",
              "      <td>0</td>\n",
              "      <td>0</td>\n",
              "      <td>1</td>\n",
              "      <td>Indefinido</td>\n",
              "      <td>0</td>\n",
              "      <td>0</td>\n",
              "      <td>1</td>\n",
              "      <td>0</td>\n",
              "    </tr>\n",
              "    <tr>\n",
              "      <th>27</th>\n",
              "      <td>27</td>\n",
              "      <td>0.00</td>\n",
              "      <td>0.00</td>\n",
              "      <td>606.5</td>\n",
              "      <td>0.0</td>\n",
              "      <td>1</td>\n",
              "      <td>soldador/gruista</td>\n",
              "      <td>Mayor 50</td>\n",
              "      <td>Grave</td>\n",
              "      <td>Mantenimiento</td>\n",
              "      <td>1</td>\n",
              "      <td>0</td>\n",
              "      <td>1</td>\n",
              "      <td>0</td>\n",
              "      <td>0</td>\n",
              "      <td>1</td>\n",
              "      <td>0</td>\n",
              "      <td>Indefinido</td>\n",
              "      <td>0</td>\n",
              "      <td>0</td>\n",
              "      <td>1</td>\n",
              "      <td>0</td>\n",
              "    </tr>\n",
              "    <tr>\n",
              "      <th>28</th>\n",
              "      <td>28</td>\n",
              "      <td>0.00</td>\n",
              "      <td>0.00</td>\n",
              "      <td>606.5</td>\n",
              "      <td>0.0</td>\n",
              "      <td>1</td>\n",
              "      <td>Gruista Nave 2 - 3</td>\n",
              "      <td>Entre 30-50</td>\n",
              "      <td>Leve</td>\n",
              "      <td>Mantenimiento</td>\n",
              "      <td>1</td>\n",
              "      <td>1</td>\n",
              "      <td>0</td>\n",
              "      <td>0</td>\n",
              "      <td>1</td>\n",
              "      <td>0</td>\n",
              "      <td>0</td>\n",
              "      <td>Indefinido</td>\n",
              "      <td>0</td>\n",
              "      <td>0</td>\n",
              "      <td>1</td>\n",
              "      <td>0</td>\n",
              "    </tr>\n",
              "    <tr>\n",
              "      <th>29</th>\n",
              "      <td>29</td>\n",
              "      <td>0.00</td>\n",
              "      <td>0.00</td>\n",
              "      <td>606.5</td>\n",
              "      <td>0.0</td>\n",
              "      <td>1</td>\n",
              "      <td>Operario Entrada Decapado M1</td>\n",
              "      <td>Entre 30-50</td>\n",
              "      <td>Leve</td>\n",
              "      <td>Mantenimiento</td>\n",
              "      <td>1</td>\n",
              "      <td>1</td>\n",
              "      <td>0</td>\n",
              "      <td>0</td>\n",
              "      <td>1</td>\n",
              "      <td>0</td>\n",
              "      <td>0</td>\n",
              "      <td>Otros</td>\n",
              "      <td>0</td>\n",
              "      <td>0</td>\n",
              "      <td>0</td>\n",
              "      <td>1</td>\n",
              "    </tr>\n",
              "    <tr>\n",
              "      <th>30</th>\n",
              "      <td>30</td>\n",
              "      <td>0.00</td>\n",
              "      <td>0.00</td>\n",
              "      <td>0.0</td>\n",
              "      <td>0.0</td>\n",
              "      <td>1</td>\n",
              "      <td>Alimentador P3</td>\n",
              "      <td>Entre 30-50</td>\n",
              "      <td>Leve</td>\n",
              "      <td>Mantenimiento</td>\n",
              "      <td>1</td>\n",
              "      <td>1</td>\n",
              "      <td>0</td>\n",
              "      <td>0</td>\n",
              "      <td>1</td>\n",
              "      <td>0</td>\n",
              "      <td>0</td>\n",
              "      <td>Indefinido</td>\n",
              "      <td>0</td>\n",
              "      <td>0</td>\n",
              "      <td>1</td>\n",
              "      <td>0</td>\n",
              "    </tr>\n",
              "    <tr>\n",
              "      <th>31</th>\n",
              "      <td>31</td>\n",
              "      <td>25684.50</td>\n",
              "      <td>18302.30</td>\n",
              "      <td>1150.6</td>\n",
              "      <td>151.5</td>\n",
              "      <td>1</td>\n",
              "      <td>Chófer/camionero</td>\n",
              "      <td>Mayor 50</td>\n",
              "      <td>Muy grave</td>\n",
              "      <td>Mantenimiento</td>\n",
              "      <td>1</td>\n",
              "      <td>1</td>\n",
              "      <td>0</td>\n",
              "      <td>0</td>\n",
              "      <td>0</td>\n",
              "      <td>1</td>\n",
              "      <td>0</td>\n",
              "      <td>ETT</td>\n",
              "      <td>0</td>\n",
              "      <td>1</td>\n",
              "      <td>0</td>\n",
              "      <td>0</td>\n",
              "    </tr>\n",
              "    <tr>\n",
              "      <th>32</th>\n",
              "      <td>32</td>\n",
              "      <td>2835.52</td>\n",
              "      <td>2046.18</td>\n",
              "      <td>1212.5</td>\n",
              "      <td>0.0</td>\n",
              "      <td>1</td>\n",
              "      <td>EMBALADORA 2</td>\n",
              "      <td>Entre 30-50</td>\n",
              "      <td>Muy grave</td>\n",
              "      <td>Mantenimiento</td>\n",
              "      <td>1</td>\n",
              "      <td>1</td>\n",
              "      <td>0</td>\n",
              "      <td>0</td>\n",
              "      <td>1</td>\n",
              "      <td>0</td>\n",
              "      <td>0</td>\n",
              "      <td>Otros</td>\n",
              "      <td>0</td>\n",
              "      <td>0</td>\n",
              "      <td>0</td>\n",
              "      <td>1</td>\n",
              "    </tr>\n",
              "    <tr>\n",
              "      <th>33</th>\n",
              "      <td>33</td>\n",
              "      <td>0.00</td>\n",
              "      <td>0.00</td>\n",
              "      <td>606.5</td>\n",
              "      <td>0.0</td>\n",
              "      <td>1</td>\n",
              "      <td>Cizal - Guilhotina</td>\n",
              "      <td>Entre 30-50</td>\n",
              "      <td>Muy grave</td>\n",
              "      <td>Mantenimiento</td>\n",
              "      <td>1</td>\n",
              "      <td>1</td>\n",
              "      <td>0</td>\n",
              "      <td>0</td>\n",
              "      <td>1</td>\n",
              "      <td>0</td>\n",
              "      <td>0</td>\n",
              "      <td>Indefinido</td>\n",
              "      <td>0</td>\n",
              "      <td>0</td>\n",
              "      <td>1</td>\n",
              "      <td>0</td>\n",
              "    </tr>\n",
              "    <tr>\n",
              "      <th>34</th>\n",
              "      <td>34</td>\n",
              "      <td>0.00</td>\n",
              "      <td>167848.00</td>\n",
              "      <td>1300.5</td>\n",
              "      <td>101.5</td>\n",
              "      <td>1</td>\n",
              "      <td>Auxiliares de Logistica\\r\\nOperador de Grua Te...</td>\n",
              "      <td>Menor 30</td>\n",
              "      <td>Grave</td>\n",
              "      <td>Mantenimiento</td>\n",
              "      <td>1</td>\n",
              "      <td>1</td>\n",
              "      <td>0</td>\n",
              "      <td>0</td>\n",
              "      <td>0</td>\n",
              "      <td>0</td>\n",
              "      <td>1</td>\n",
              "      <td>Otros</td>\n",
              "      <td>0</td>\n",
              "      <td>0</td>\n",
              "      <td>0</td>\n",
              "      <td>1</td>\n",
              "    </tr>\n",
              "    <tr>\n",
              "      <th>35</th>\n",
              "      <td>35</td>\n",
              "      <td>25249.00</td>\n",
              "      <td>42484.00</td>\n",
              "      <td>1419.3</td>\n",
              "      <td>830.1</td>\n",
              "      <td>1</td>\n",
              "      <td>Carretillera</td>\n",
              "      <td>Entre 30-50</td>\n",
              "      <td>Muy grave</td>\n",
              "      <td>Mantenimiento</td>\n",
              "      <td>1</td>\n",
              "      <td>1</td>\n",
              "      <td>0</td>\n",
              "      <td>0</td>\n",
              "      <td>1</td>\n",
              "      <td>0</td>\n",
              "      <td>0</td>\n",
              "      <td>ETT</td>\n",
              "      <td>0</td>\n",
              "      <td>1</td>\n",
              "      <td>0</td>\n",
              "      <td>0</td>\n",
              "    </tr>\n",
              "    <tr>\n",
              "      <th>36</th>\n",
              "      <td>36</td>\n",
              "      <td>0.00</td>\n",
              "      <td>167848.00</td>\n",
              "      <td>1300.5</td>\n",
              "      <td>101.5</td>\n",
              "      <td>1</td>\n",
              "      <td>Incidente sin personas implicadas</td>\n",
              "      <td>Entre 30-50</td>\n",
              "      <td>Leve</td>\n",
              "      <td>Mantenimiento</td>\n",
              "      <td>1</td>\n",
              "      <td>1</td>\n",
              "      <td>0</td>\n",
              "      <td>0</td>\n",
              "      <td>1</td>\n",
              "      <td>0</td>\n",
              "      <td>0</td>\n",
              "      <td>Otros</td>\n",
              "      <td>0</td>\n",
              "      <td>0</td>\n",
              "      <td>0</td>\n",
              "      <td>1</td>\n",
              "    </tr>\n",
              "    <tr>\n",
              "      <th>37</th>\n",
              "      <td>37</td>\n",
              "      <td>2835.52</td>\n",
              "      <td>2046.18</td>\n",
              "      <td>1212.5</td>\n",
              "      <td>0.0</td>\n",
              "      <td>1</td>\n",
              "      <td>OPERARIO TREN DE TROQUELADO</td>\n",
              "      <td>Entre 30-50</td>\n",
              "      <td>Grave</td>\n",
              "      <td>Mantenimiento</td>\n",
              "      <td>1</td>\n",
              "      <td>0</td>\n",
              "      <td>1</td>\n",
              "      <td>0</td>\n",
              "      <td>1</td>\n",
              "      <td>0</td>\n",
              "      <td>0</td>\n",
              "      <td>ETT</td>\n",
              "      <td>0</td>\n",
              "      <td>1</td>\n",
              "      <td>0</td>\n",
              "      <td>0</td>\n",
              "    </tr>\n",
              "    <tr>\n",
              "      <th>38</th>\n",
              "      <td>38</td>\n",
              "      <td>25249.00</td>\n",
              "      <td>42484.00</td>\n",
              "      <td>1419.3</td>\n",
              "      <td>830.1</td>\n",
              "      <td>1</td>\n",
              "      <td>OPERARIOS DE CARGA</td>\n",
              "      <td>Mayor 50</td>\n",
              "      <td>Muy grave</td>\n",
              "      <td>Mantenimiento</td>\n",
              "      <td>1</td>\n",
              "      <td>0</td>\n",
              "      <td>1</td>\n",
              "      <td>0</td>\n",
              "      <td>0</td>\n",
              "      <td>1</td>\n",
              "      <td>0</td>\n",
              "      <td>ETT</td>\n",
              "      <td>0</td>\n",
              "      <td>1</td>\n",
              "      <td>0</td>\n",
              "      <td>0</td>\n",
              "    </tr>\n",
              "    <tr>\n",
              "      <th>39</th>\n",
              "      <td>39</td>\n",
              "      <td>0.00</td>\n",
              "      <td>0.00</td>\n",
              "      <td>606.5</td>\n",
              "      <td>0.0</td>\n",
              "      <td>1</td>\n",
              "      <td>Operario de mantenimiento</td>\n",
              "      <td>Mayor 50</td>\n",
              "      <td>Grave</td>\n",
              "      <td>Mantenimiento</td>\n",
              "      <td>1</td>\n",
              "      <td>0</td>\n",
              "      <td>0</td>\n",
              "      <td>1</td>\n",
              "      <td>0</td>\n",
              "      <td>1</td>\n",
              "      <td>0</td>\n",
              "      <td>Otros</td>\n",
              "      <td>0</td>\n",
              "      <td>0</td>\n",
              "      <td>0</td>\n",
              "      <td>1</td>\n",
              "    </tr>\n",
              "    <tr>\n",
              "      <th>40</th>\n",
              "      <td>40</td>\n",
              "      <td>0.00</td>\n",
              "      <td>0.00</td>\n",
              "      <td>1501.0</td>\n",
              "      <td>0.0</td>\n",
              "      <td>1</td>\n",
              "      <td>Operario Entrada Decapado M1</td>\n",
              "      <td>Entre 30-50</td>\n",
              "      <td>Leve</td>\n",
              "      <td>Mantenimiento</td>\n",
              "      <td>1</td>\n",
              "      <td>0</td>\n",
              "      <td>0</td>\n",
              "      <td>1</td>\n",
              "      <td>1</td>\n",
              "      <td>0</td>\n",
              "      <td>0</td>\n",
              "      <td>Indefinido</td>\n",
              "      <td>0</td>\n",
              "      <td>0</td>\n",
              "      <td>1</td>\n",
              "      <td>0</td>\n",
              "    </tr>\n",
              "    <tr>\n",
              "      <th>41</th>\n",
              "      <td>41</td>\n",
              "      <td>72495.20</td>\n",
              "      <td>21968.30</td>\n",
              "      <td>587.0</td>\n",
              "      <td>0.0</td>\n",
              "      <td>1</td>\n",
              "      <td>Prozessoptimierer</td>\n",
              "      <td>Entre 30-50</td>\n",
              "      <td>Grave</td>\n",
              "      <td>Mantenimiento</td>\n",
              "      <td>1</td>\n",
              "      <td>1</td>\n",
              "      <td>0</td>\n",
              "      <td>0</td>\n",
              "      <td>1</td>\n",
              "      <td>0</td>\n",
              "      <td>0</td>\n",
              "      <td>Indefinido</td>\n",
              "      <td>0</td>\n",
              "      <td>0</td>\n",
              "      <td>1</td>\n",
              "      <td>0</td>\n",
              "    </tr>\n",
              "    <tr>\n",
              "      <th>42</th>\n",
              "      <td>42</td>\n",
              "      <td>0.00</td>\n",
              "      <td>29316.00</td>\n",
              "      <td>188.0</td>\n",
              "      <td>47.0</td>\n",
              "      <td>1</td>\n",
              "      <td>Maquinista TRANS005</td>\n",
              "      <td>Mayor 50</td>\n",
              "      <td>Leve</td>\n",
              "      <td>Mantenimiento</td>\n",
              "      <td>1</td>\n",
              "      <td>0</td>\n",
              "      <td>0</td>\n",
              "      <td>1</td>\n",
              "      <td>0</td>\n",
              "      <td>1</td>\n",
              "      <td>0</td>\n",
              "      <td>Indefinido</td>\n",
              "      <td>0</td>\n",
              "      <td>0</td>\n",
              "      <td>1</td>\n",
              "      <td>0</td>\n",
              "    </tr>\n",
              "    <tr>\n",
              "      <th>43</th>\n",
              "      <td>43</td>\n",
              "      <td>0.00</td>\n",
              "      <td>29316.00</td>\n",
              "      <td>188.0</td>\n",
              "      <td>47.0</td>\n",
              "      <td>1</td>\n",
              "      <td>Slitting Line Operator</td>\n",
              "      <td>Menor 30</td>\n",
              "      <td>Leve</td>\n",
              "      <td>Mantenimiento</td>\n",
              "      <td>1</td>\n",
              "      <td>0</td>\n",
              "      <td>0</td>\n",
              "      <td>1</td>\n",
              "      <td>0</td>\n",
              "      <td>0</td>\n",
              "      <td>1</td>\n",
              "      <td>Otros</td>\n",
              "      <td>0</td>\n",
              "      <td>0</td>\n",
              "      <td>0</td>\n",
              "      <td>1</td>\n",
              "    </tr>\n",
              "    <tr>\n",
              "      <th>44</th>\n",
              "      <td>44</td>\n",
              "      <td>0.00</td>\n",
              "      <td>29316.00</td>\n",
              "      <td>188.0</td>\n",
              "      <td>47.0</td>\n",
              "      <td>1</td>\n",
              "      <td>Neutra De Galvanizado</td>\n",
              "      <td>Mayor 50</td>\n",
              "      <td>Grave</td>\n",
              "      <td>Mantenimiento</td>\n",
              "      <td>1</td>\n",
              "      <td>1</td>\n",
              "      <td>0</td>\n",
              "      <td>0</td>\n",
              "      <td>0</td>\n",
              "      <td>1</td>\n",
              "      <td>0</td>\n",
              "      <td>Otros</td>\n",
              "      <td>0</td>\n",
              "      <td>0</td>\n",
              "      <td>0</td>\n",
              "      <td>1</td>\n",
              "    </tr>\n",
              "    <tr>\n",
              "      <th>45</th>\n",
              "      <td>45</td>\n",
              "      <td>0.00</td>\n",
              "      <td>29316.00</td>\n",
              "      <td>188.0</td>\n",
              "      <td>47.0</td>\n",
              "      <td>1</td>\n",
              "      <td>Forklift</td>\n",
              "      <td>Mayor 50</td>\n",
              "      <td>Muy grave</td>\n",
              "      <td>Mantenimiento</td>\n",
              "      <td>1</td>\n",
              "      <td>1</td>\n",
              "      <td>0</td>\n",
              "      <td>0</td>\n",
              "      <td>0</td>\n",
              "      <td>1</td>\n",
              "      <td>0</td>\n",
              "      <td>Otros</td>\n",
              "      <td>0</td>\n",
              "      <td>0</td>\n",
              "      <td>0</td>\n",
              "      <td>1</td>\n",
              "    </tr>\n",
              "    <tr>\n",
              "      <th>46</th>\n",
              "      <td>46</td>\n",
              "      <td>0.00</td>\n",
              "      <td>167848.00</td>\n",
              "      <td>1300.5</td>\n",
              "      <td>101.5</td>\n",
              "      <td>1</td>\n",
              "      <td>EMBAL480</td>\n",
              "      <td>Entre 30-50</td>\n",
              "      <td>Muy grave</td>\n",
              "      <td>Mantenimiento</td>\n",
              "      <td>1</td>\n",
              "      <td>1</td>\n",
              "      <td>0</td>\n",
              "      <td>0</td>\n",
              "      <td>1</td>\n",
              "      <td>0</td>\n",
              "      <td>0</td>\n",
              "      <td>Otros</td>\n",
              "      <td>0</td>\n",
              "      <td>0</td>\n",
              "      <td>0</td>\n",
              "      <td>1</td>\n",
              "    </tr>\n",
              "    <tr>\n",
              "      <th>47</th>\n",
              "      <td>47</td>\n",
              "      <td>25684.50</td>\n",
              "      <td>18302.30</td>\n",
              "      <td>1150.6</td>\n",
              "      <td>151.5</td>\n",
              "      <td>1</td>\n",
              "      <td>Gruista Nave 2 - 3</td>\n",
              "      <td>Menor 30</td>\n",
              "      <td>Muy grave</td>\n",
              "      <td>Mantenimiento</td>\n",
              "      <td>1</td>\n",
              "      <td>1</td>\n",
              "      <td>0</td>\n",
              "      <td>0</td>\n",
              "      <td>0</td>\n",
              "      <td>0</td>\n",
              "      <td>1</td>\n",
              "      <td>Indefinido</td>\n",
              "      <td>0</td>\n",
              "      <td>0</td>\n",
              "      <td>1</td>\n",
              "      <td>0</td>\n",
              "    </tr>\n",
              "    <tr>\n",
              "      <th>48</th>\n",
              "      <td>48</td>\n",
              "      <td>25684.50</td>\n",
              "      <td>18302.30</td>\n",
              "      <td>1150.6</td>\n",
              "      <td>151.5</td>\n",
              "      <td>1</td>\n",
              "      <td>Slitting Operator</td>\n",
              "      <td>Entre 30-50</td>\n",
              "      <td>Leve</td>\n",
              "      <td>Mantenimiento</td>\n",
              "      <td>1</td>\n",
              "      <td>0</td>\n",
              "      <td>1</td>\n",
              "      <td>0</td>\n",
              "      <td>1</td>\n",
              "      <td>0</td>\n",
              "      <td>0</td>\n",
              "      <td>Otros</td>\n",
              "      <td>0</td>\n",
              "      <td>0</td>\n",
              "      <td>0</td>\n",
              "      <td>1</td>\n",
              "    </tr>\n",
              "    <tr>\n",
              "      <th>49</th>\n",
              "      <td>49</td>\n",
              "      <td>25249.00</td>\n",
              "      <td>42484.00</td>\n",
              "      <td>1419.3</td>\n",
              "      <td>830.1</td>\n",
              "      <td>1</td>\n",
              "      <td>Maschinenführer 1 Presse 7</td>\n",
              "      <td>Entre 30-50</td>\n",
              "      <td>Leve</td>\n",
              "      <td>Mantenimiento</td>\n",
              "      <td>1</td>\n",
              "      <td>0</td>\n",
              "      <td>0</td>\n",
              "      <td>1</td>\n",
              "      <td>1</td>\n",
              "      <td>0</td>\n",
              "      <td>0</td>\n",
              "      <td>ETT</td>\n",
              "      <td>0</td>\n",
              "      <td>1</td>\n",
              "      <td>0</td>\n",
              "      <td>0</td>\n",
              "    </tr>\n",
              "  </tbody>\n",
              "</table>\n",
              "</div>"
            ],
            "text/plain": [
              "    Unnamed: 0  ...  Acc_Otros\n",
              "0            0  ...          0\n",
              "1            1  ...          0\n",
              "2            2  ...          0\n",
              "3            3  ...          0\n",
              "4            4  ...          1\n",
              "5            5  ...          0\n",
              "6            6  ...          1\n",
              "7            7  ...          0\n",
              "8            8  ...          1\n",
              "9            9  ...          1\n",
              "10          10  ...          1\n",
              "11          11  ...          1\n",
              "12          12  ...          1\n",
              "13          13  ...          1\n",
              "14          14  ...          1\n",
              "15          15  ...          1\n",
              "16          16  ...          1\n",
              "17          17  ...          0\n",
              "18          18  ...          0\n",
              "19          19  ...          1\n",
              "20          20  ...          0\n",
              "21          21  ...          0\n",
              "22          22  ...          1\n",
              "23          23  ...          1\n",
              "24          24  ...          1\n",
              "25          25  ...          1\n",
              "26          26  ...          0\n",
              "27          27  ...          0\n",
              "28          28  ...          0\n",
              "29          29  ...          1\n",
              "30          30  ...          0\n",
              "31          31  ...          0\n",
              "32          32  ...          1\n",
              "33          33  ...          0\n",
              "34          34  ...          1\n",
              "35          35  ...          0\n",
              "36          36  ...          1\n",
              "37          37  ...          0\n",
              "38          38  ...          0\n",
              "39          39  ...          1\n",
              "40          40  ...          0\n",
              "41          41  ...          0\n",
              "42          42  ...          0\n",
              "43          43  ...          1\n",
              "44          44  ...          1\n",
              "45          45  ...          1\n",
              "46          46  ...          1\n",
              "47          47  ...          0\n",
              "48          48  ...          1\n",
              "49          49  ...          0\n",
              "\n",
              "[50 rows x 22 columns]"
            ]
          },
          "metadata": {
            "tags": []
          },
          "execution_count": 3
        }
      ]
    },
    {
      "cell_type": "code",
      "metadata": {
        "colab": {
          "base_uri": "https://localhost:8080/",
          "height": 368
        },
        "id": "sJWpxLDXeKaJ",
        "outputId": "3264892a-d5ae-450b-df68-7323e30750fb"
      },
      "source": [
        "staff.describe()"
      ],
      "execution_count": 4,
      "outputs": [
        {
          "output_type": "execute_result",
          "data": {
            "text/html": [
              "<div>\n",
              "<style scoped>\n",
              "    .dataframe tbody tr th:only-of-type {\n",
              "        vertical-align: middle;\n",
              "    }\n",
              "\n",
              "    .dataframe tbody tr th {\n",
              "        vertical-align: top;\n",
              "    }\n",
              "\n",
              "    .dataframe thead th {\n",
              "        text-align: right;\n",
              "    }\n",
              "</style>\n",
              "<table border=\"1\" class=\"dataframe\">\n",
              "  <thead>\n",
              "    <tr style=\"text-align: right;\">\n",
              "      <th></th>\n",
              "      <th>Unnamed: 0</th>\n",
              "      <th>Horas Presencia Efectiva Subcontratados</th>\n",
              "      <th>Horas Presencia Efectiva ETTs</th>\n",
              "      <th>Horas Formacion Seguridad Propios</th>\n",
              "      <th>Horas Formacion Seguridad ETTs</th>\n",
              "      <th>Accident</th>\n",
              "      <th>Gender_Hombre</th>\n",
              "      <th>T_Turno de mañana</th>\n",
              "      <th>T_Turno de noche</th>\n",
              "      <th>T_Turno de tarde</th>\n",
              "      <th>Age_Entre 30-50</th>\n",
              "      <th>Age_Mayor 50</th>\n",
              "      <th>Age_Menor 30</th>\n",
              "      <th>Acc_Duración Determinada</th>\n",
              "      <th>Acc_ETT</th>\n",
              "      <th>Acc_Indefinido</th>\n",
              "      <th>Acc_Otros</th>\n",
              "    </tr>\n",
              "  </thead>\n",
              "  <tbody>\n",
              "    <tr>\n",
              "      <th>count</th>\n",
              "      <td>21210.000000</td>\n",
              "      <td>21210.000000</td>\n",
              "      <td>21210.000000</td>\n",
              "      <td>21210.000000</td>\n",
              "      <td>21210.000000</td>\n",
              "      <td>21210.000000</td>\n",
              "      <td>21210.000000</td>\n",
              "      <td>21210.000000</td>\n",
              "      <td>21210.000000</td>\n",
              "      <td>21210.000000</td>\n",
              "      <td>21210.000000</td>\n",
              "      <td>21210.000000</td>\n",
              "      <td>21210.000000</td>\n",
              "      <td>21210.000000</td>\n",
              "      <td>21210.000000</td>\n",
              "      <td>21210.000000</td>\n",
              "      <td>21210.000000</td>\n",
              "    </tr>\n",
              "    <tr>\n",
              "      <th>mean</th>\n",
              "      <td>10604.500000</td>\n",
              "      <td>11940.092114</td>\n",
              "      <td>51779.378225</td>\n",
              "      <td>960.195040</td>\n",
              "      <td>208.931509</td>\n",
              "      <td>0.197077</td>\n",
              "      <td>0.914851</td>\n",
              "      <td>0.377982</td>\n",
              "      <td>0.295568</td>\n",
              "      <td>0.326450</td>\n",
              "      <td>0.450259</td>\n",
              "      <td>0.343470</td>\n",
              "      <td>0.206271</td>\n",
              "      <td>0.097218</td>\n",
              "      <td>0.117727</td>\n",
              "      <td>0.235266</td>\n",
              "      <td>0.549788</td>\n",
              "    </tr>\n",
              "    <tr>\n",
              "      <th>std</th>\n",
              "      <td>6122.943941</td>\n",
              "      <td>17376.527532</td>\n",
              "      <td>64567.736397</td>\n",
              "      <td>507.842686</td>\n",
              "      <td>323.662662</td>\n",
              "      <td>0.397800</td>\n",
              "      <td>0.279109</td>\n",
              "      <td>0.484895</td>\n",
              "      <td>0.456308</td>\n",
              "      <td>0.468925</td>\n",
              "      <td>0.497531</td>\n",
              "      <td>0.474878</td>\n",
              "      <td>0.404637</td>\n",
              "      <td>0.296262</td>\n",
              "      <td>0.322293</td>\n",
              "      <td>0.424175</td>\n",
              "      <td>0.497527</td>\n",
              "    </tr>\n",
              "    <tr>\n",
              "      <th>min</th>\n",
              "      <td>0.000000</td>\n",
              "      <td>0.000000</td>\n",
              "      <td>0.000000</td>\n",
              "      <td>0.000000</td>\n",
              "      <td>0.000000</td>\n",
              "      <td>0.000000</td>\n",
              "      <td>0.000000</td>\n",
              "      <td>0.000000</td>\n",
              "      <td>0.000000</td>\n",
              "      <td>0.000000</td>\n",
              "      <td>0.000000</td>\n",
              "      <td>0.000000</td>\n",
              "      <td>0.000000</td>\n",
              "      <td>0.000000</td>\n",
              "      <td>0.000000</td>\n",
              "      <td>0.000000</td>\n",
              "      <td>0.000000</td>\n",
              "    </tr>\n",
              "    <tr>\n",
              "      <th>25%</th>\n",
              "      <td>5302.250000</td>\n",
              "      <td>0.000000</td>\n",
              "      <td>211.000000</td>\n",
              "      <td>606.500000</td>\n",
              "      <td>0.000000</td>\n",
              "      <td>0.000000</td>\n",
              "      <td>1.000000</td>\n",
              "      <td>0.000000</td>\n",
              "      <td>0.000000</td>\n",
              "      <td>0.000000</td>\n",
              "      <td>0.000000</td>\n",
              "      <td>0.000000</td>\n",
              "      <td>0.000000</td>\n",
              "      <td>0.000000</td>\n",
              "      <td>0.000000</td>\n",
              "      <td>0.000000</td>\n",
              "      <td>0.000000</td>\n",
              "    </tr>\n",
              "    <tr>\n",
              "      <th>50%</th>\n",
              "      <td>10604.500000</td>\n",
              "      <td>0.000000</td>\n",
              "      <td>29316.000000</td>\n",
              "      <td>1212.500000</td>\n",
              "      <td>56.300000</td>\n",
              "      <td>0.000000</td>\n",
              "      <td>1.000000</td>\n",
              "      <td>0.000000</td>\n",
              "      <td>0.000000</td>\n",
              "      <td>0.000000</td>\n",
              "      <td>0.000000</td>\n",
              "      <td>0.000000</td>\n",
              "      <td>0.000000</td>\n",
              "      <td>0.000000</td>\n",
              "      <td>0.000000</td>\n",
              "      <td>0.000000</td>\n",
              "      <td>1.000000</td>\n",
              "    </tr>\n",
              "    <tr>\n",
              "      <th>75%</th>\n",
              "      <td>15906.750000</td>\n",
              "      <td>25249.000000</td>\n",
              "      <td>46112.000000</td>\n",
              "      <td>1419.300000</td>\n",
              "      <td>151.500000</td>\n",
              "      <td>0.000000</td>\n",
              "      <td>1.000000</td>\n",
              "      <td>1.000000</td>\n",
              "      <td>1.000000</td>\n",
              "      <td>1.000000</td>\n",
              "      <td>1.000000</td>\n",
              "      <td>1.000000</td>\n",
              "      <td>0.000000</td>\n",
              "      <td>0.000000</td>\n",
              "      <td>0.000000</td>\n",
              "      <td>0.000000</td>\n",
              "      <td>1.000000</td>\n",
              "    </tr>\n",
              "    <tr>\n",
              "      <th>max</th>\n",
              "      <td>21209.000000</td>\n",
              "      <td>72495.200000</td>\n",
              "      <td>167848.000000</td>\n",
              "      <td>1542.900000</td>\n",
              "      <td>830.100000</td>\n",
              "      <td>1.000000</td>\n",
              "      <td>1.000000</td>\n",
              "      <td>1.000000</td>\n",
              "      <td>1.000000</td>\n",
              "      <td>1.000000</td>\n",
              "      <td>1.000000</td>\n",
              "      <td>1.000000</td>\n",
              "      <td>1.000000</td>\n",
              "      <td>1.000000</td>\n",
              "      <td>1.000000</td>\n",
              "      <td>1.000000</td>\n",
              "      <td>1.000000</td>\n",
              "    </tr>\n",
              "  </tbody>\n",
              "</table>\n",
              "</div>"
            ],
            "text/plain": [
              "         Unnamed: 0  ...     Acc_Otros\n",
              "count  21210.000000  ...  21210.000000\n",
              "mean   10604.500000  ...      0.549788\n",
              "std     6122.943941  ...      0.497527\n",
              "min        0.000000  ...      0.000000\n",
              "25%     5302.250000  ...      0.000000\n",
              "50%    10604.500000  ...      1.000000\n",
              "75%    15906.750000  ...      1.000000\n",
              "max    21209.000000  ...      1.000000\n",
              "\n",
              "[8 rows x 17 columns]"
            ]
          },
          "metadata": {
            "tags": []
          },
          "execution_count": 4
        }
      ]
    },
    {
      "cell_type": "code",
      "metadata": {
        "colab": {
          "base_uri": "https://localhost:8080/"
        },
        "id": "T-ikhSln1yU0",
        "outputId": "099dcdea-e87e-4b77-bbcd-1179f4781bf8"
      },
      "source": [
        "ceros = staff[staff['Accident'] == 0]['Accident'].count()\n",
        "unos = staff[staff['Accident'] == 1]['Accident'].count()\n",
        "\n",
        "print('No',ceros, 'Yes', unos) ## Here we can check that we have an unbalanced dataset as we have many more employees who didnt have an accident"
      ],
      "execution_count": 5,
      "outputs": [
        {
          "output_type": "stream",
          "text": [
            "No 17030 Yes 4180\n"
          ],
          "name": "stdout"
        }
      ]
    },
    {
      "cell_type": "code",
      "metadata": {
        "colab": {
          "base_uri": "https://localhost:8080/",
          "height": 801
        },
        "id": "zN65jrAv1ye1",
        "outputId": "ae288489-3c40-4850-bf06-9eaede0c596f"
      },
      "source": [
        "import matplotlib.pyplot as plt\n",
        "import seaborn as sns\n",
        "y = staff['Accident']\n",
        "fig, ax = plt.subplots(figsize=(16,7))\n",
        "sns.displot(y)\n",
        "\n"
      ],
      "execution_count": 6,
      "outputs": [
        {
          "output_type": "execute_result",
          "data": {
            "text/plain": [
              "<seaborn.axisgrid.FacetGrid at 0x7f89ef3a8a10>"
            ]
          },
          "metadata": {
            "tags": []
          },
          "execution_count": 6
        },
        {
          "output_type": "display_data",
          "data": {
            "image/png": "[encoded data removed]",
            "text/plain": [
              "<Figure size 1152x504 with 1 Axes>"
            ]
          },
          "metadata": {
            "tags": [],
            "needs_background": "light"
          }
        },
        {
          "output_type": "display_data",
          "data": {
            "image/png": "[encoded data removed]",
            "text/plain": [
              "<Figure size 360x360 with 1 Axes>"
            ]
          },
          "metadata": {
            "tags": [],
            "needs_background": "light"
          }
        }
      ]
    },
    {
      "cell_type": "markdown",
      "metadata": {
        "id": "5NBhUEeIdZx4"
      },
      "source": [
        "### Linear Regression model"
      ]
    },
    {
      "cell_type": "code",
      "metadata": {
        "id": "wKl1y-zVaTT6"
      },
      "source": [
        "from sklearn.model_selection import train_test_split\n",
        "from sklearn import datasets, linear_model\n",
        "from sklearn.metrics import mean_squared_error, r2_score\n",
        "import matplotlib.pyplot as plt\n",
        "\n",
        "\n",
        "X = staff[['Horas Presencia Efectiva Subcontratados',\n",
        "       'Horas Presencia Efectiva ETTs', 'Horas Formacion Seguridad Propios',\n",
        "       'Horas Formacion Seguridad ETTs',\n",
        "       'Gender_Hombre', 'T_Turno de mañana',\n",
        "       'T_Turno de noche', 'T_Turno de tarde', 'Age_Entre 30-50',\n",
        "       'Age_Mayor 50', 'Age_Menor 30',\n",
        "        'Acc_Duración Determinada', 'Acc_ETT',\n",
        "       'Acc_Indefinido', 'Acc_Otros']]\n"
      ],
      "execution_count": 7,
      "outputs": []
    },
    {
      "cell_type": "code",
      "metadata": {
        "id": "0xUjoY9_aWFg"
      },
      "source": [
        "y = staff['Accident']"
      ],
      "execution_count": 8,
      "outputs": []
    },
    {
      "cell_type": "code",
      "metadata": {
        "id": "z-X3nsc0apGj"
      },
      "source": [
        "X_train, X_test, y_train, y_test = train_test_split(X, y, test_size=0.33, random_state=42)"
      ],
      "execution_count": 9,
      "outputs": []
    },
    {
      "cell_type": "code",
      "metadata": {
        "colab": {
          "base_uri": "https://localhost:8080/"
        },
        "id": "9Xc-m4nxckCT",
        "outputId": "7d763eeb-f237-4aae-a9e2-484734dd75d0"
      },
      "source": [
        "len(X_test)"
      ],
      "execution_count": 10,
      "outputs": [
        {
          "output_type": "execute_result",
          "data": {
            "text/plain": [
              "7000"
            ]
          },
          "metadata": {
            "tags": []
          },
          "execution_count": 10
        }
      ]
    },
    {
      "cell_type": "code",
      "metadata": {
        "id": "nD7EOANjKvW4"
      },
      "source": [
        "y_train = y_train.apply(str)\n",
        "\n",
        "y_test = y_test.apply(str)"
      ],
      "execution_count": 11,
      "outputs": []
    },
    {
      "cell_type": "code",
      "metadata": {
        "colab": {
          "base_uri": "https://localhost:8080/"
        },
        "id": "PV2jhEvkav3J",
        "outputId": "bc67363e-0b29-43d6-fb54-8f7f7e6ae8f4"
      },
      "source": [
        "# Create linear regression object\n",
        "regr = linear_model.LinearRegression()\n",
        "\n",
        "# Train the model using the training sets\n",
        "regr.fit(X_train, y_train)\n",
        "\n",
        "# Make predictions using the testing set\n",
        "y_pred = regr.predict(X_test)\n",
        "\n",
        "# The coefficients\n",
        "print('Coefficients: \\n', regr.coef_)\n",
        "# The mean squared error\n",
        "print('Mean squared error: %.2f'\n",
        "      % mean_squared_error(y_test, y_pred))\n",
        "# The coefficient of determination: 1 is perfect prediction\n",
        "print('Coefficient of determination: %.2f'\n",
        "      % r2_score(y_test, y_pred))\n",
        "\n"
      ],
      "execution_count": 12,
      "outputs": [
        {
          "output_type": "stream",
          "text": [
            "Coefficients: \n",
            " [-2.59660374e-06 -1.53148641e-06  6.05683867e-05  1.59829792e-04\n",
            "  1.47210331e-01  8.69010351e-02 -9.59260388e-02  9.02500376e-03\n",
            " -1.38737258e-03  6.44847623e-03 -5.06110365e-03 -8.22491775e-02\n",
            "  3.55924153e-02  6.47780355e-02 -1.81212732e-02]\n",
            "Mean squared error: 0.14\n",
            "Coefficient of determination: 0.12\n"
          ],
          "name": "stdout"
        }
      ]
    },
    {
      "cell_type": "markdown",
      "metadata": {
        "id": "BL0N9KSncb-U"
      },
      "source": [
        "# Logistic Regression"
      ]
    },
    {
      "cell_type": "code",
      "metadata": {
        "id": "gcM28BOhj5Ob"
      },
      "source": [
        "from sklearn.linear_model import LogisticRegression"
      ],
      "execution_count": 13,
      "outputs": []
    },
    {
      "cell_type": "code",
      "metadata": {
        "id": "cBunrKEuEJ7i"
      },
      "source": [
        "import matplotlib.pyplot as plt\n",
        "from sklearn.metrics import confusion_matrix, classification_report\n",
        "from sklearn.metrics import plot_confusion_matrix\n",
        "import numpy as np\n",
        "# we are going to import this function from Scikit learn to plot the confussion matrix\n",
        "\n",
        "def plot_confusion_matrix(y_true, y_pred, classes,\n",
        "                          normalize=False,\n",
        "                          title=None,\n",
        "                          cmap=plt.cm.Blues):\n",
        "    \"\"\"\n",
        "    This function prints and plots the confusion matrix.\n",
        "    Normalization can be applied by setting `normalize=True`.\n",
        "    \"\"\"\n",
        "    if not title:\n",
        "        if normalize:\n",
        "            title = 'Normalized confusion matrix'\n",
        "        else:\n",
        "            title = 'Confusion matrix, without normalization'\n",
        "\n",
        "    # Compute confusion matrix\n",
        "    cm = confusion_matrix(y_true, y_pred)\n",
        "    # Only use the labels that appear in the data\n",
        "    #classes = classes[unique_labels(y_true, y_pred)]\n",
        "    if normalize:\n",
        "        cm = cm.astype('float') / cm.sum(axis=1)[:, np.newaxis]\n",
        "        print(\"Normalized confusion matrix\")\n",
        "    else:\n",
        "        print('Confusion matrix, without normalization')\n",
        "\n",
        "    print(cm)\n",
        "\n",
        "    fig, ax = plt.subplots()\n",
        "    im = ax.imshow(cm, interpolation='nearest', cmap=cmap)\n",
        "    ax.figure.colorbar(im, ax=ax)\n",
        "    # We want to show all ticks...\n",
        "    ax.set(xticks=np.arange(cm.shape[1]),\n",
        "           yticks=np.arange(cm.shape[0]),\n",
        "           # ... and label them with the respective list entries\n",
        "           xticklabels=classes, yticklabels=classes,\n",
        "           title=title,\n",
        "           ylabel='True label',\n",
        "           xlabel='Predicted label')\n",
        "\n",
        "    # Rotate the tick labels and set their alignment.\n",
        "    plt.setp(ax.get_xticklabels(), rotation=45, ha=\"right\",\n",
        "             rotation_mode=\"anchor\")\n",
        "\n",
        "    # Loop over data dimensions and create text annotations.\n",
        "    fmt = '.2f' if normalize else 'd'\n",
        "    thresh = cm.max() / 2.\n",
        "    for i in range(cm.shape[0]):\n",
        "        for j in range(cm.shape[1]):\n",
        "            ax.text(j, i, format(cm[i, j], fmt),\n",
        "                    ha=\"center\", va=\"center\",\n",
        "                    color= \"black\")\n",
        "    fig.tight_layout()\n",
        "    return ax"
      ],
      "execution_count": 14,
      "outputs": []
    },
    {
      "cell_type": "code",
      "metadata": {
        "id": "5IofLUyveD8J"
      },
      "source": [
        "clf = LogisticRegression()"
      ],
      "execution_count": 15,
      "outputs": []
    },
    {
      "cell_type": "code",
      "metadata": {
        "id": "wiI4orXokmzE"
      },
      "source": [
        "y_train = y_train.apply(str).replace('1', 'Yes').replace('0', 'No')\n",
        "\n",
        "y_test = y_test.apply(str).replace('1', 'Yes').replace('0', 'No')"
      ],
      "execution_count": 16,
      "outputs": []
    },
    {
      "cell_type": "code",
      "metadata": {
        "colab": {
          "base_uri": "https://localhost:8080/"
        },
        "id": "JwmAFnG2eD_A",
        "outputId": "884dc6e2-8efe-4698-8bc5-edf0dfb456df"
      },
      "source": [
        "clf.fit(X_train, y_train)"
      ],
      "execution_count": 17,
      "outputs": [
        {
          "output_type": "execute_result",
          "data": {
            "text/plain": [
              "LogisticRegression(C=1.0, class_weight=None, dual=False, fit_intercept=True,\n",
              "                   intercept_scaling=1, l1_ratio=None, max_iter=100,\n",
              "                   multi_class='auto', n_jobs=None, penalty='l2',\n",
              "                   random_state=None, solver='lbfgs', tol=0.0001, verbose=0,\n",
              "                   warm_start=False)"
            ]
          },
          "metadata": {
            "tags": []
          },
          "execution_count": 17
        }
      ]
    },
    {
      "cell_type": "code",
      "metadata": {
        "colab": {
          "base_uri": "https://localhost:8080/",
          "height": 365
        },
        "id": "8vpmrFCfeEBp",
        "outputId": "f9b1079d-2ad1-418c-f028-fd7883562537"
      },
      "source": [
        "y_pred_log_reg=clf.predict(X_test)\n",
        "classes = ['No', 'Yes']\n",
        "plot_confusion_matrix(y_test, y_pred_log_reg, classes=classes, title='Matriz de confusión de la regresión logística')"
      ],
      "execution_count": 18,
      "outputs": [
        {
          "output_type": "stream",
          "text": [
            "Confusion matrix, without normalization\n",
            "[[5625   10]\n",
            " [1365    0]]\n"
          ],
          "name": "stdout"
        },
        {
          "output_type": "execute_result",
          "data": {
            "text/plain": [
              "<matplotlib.axes._subplots.AxesSubplot at 0x7f89d41afa90>"
            ]
          },
          "metadata": {
            "tags": []
          },
          "execution_count": 18
        },
        {
          "output_type": "display_data",
          "data": {
            "image/png": "[encoded data removed]",
            "text/plain": [
              "<Figure size 432x288 with 2 Axes>"
            ]
          },
          "metadata": {
            "tags": [],
            "needs_background": "light"
          }
        }
      ]
    },
    {
      "cell_type": "code",
      "metadata": {
        "id": "2G1W7aqzkGoo"
      },
      "source": [
        "from sklearn.metrics import accuracy_score\n",
        "from sklearn.model_selection import cross_val_score"
      ],
      "execution_count": 19,
      "outputs": []
    },
    {
      "cell_type": "code",
      "metadata": {
        "colab": {
          "base_uri": "https://localhost:8080/"
        },
        "id": "HzvLq25jeJD4",
        "outputId": "f9f86b39-7dc8-4af1-de00-9fa957eaddb9"
      },
      "source": [
        "print (classification_report(y_test, y_pred_log_reg, target_names=classes))\n",
        "print (accuracy_score(y_test, y_pred_log_reg))"
      ],
      "execution_count": 20,
      "outputs": [
        {
          "output_type": "stream",
          "text": [
            "              precision    recall  f1-score   support\n",
            "\n",
            "          No       0.80      1.00      0.89      5635\n",
            "         Yes       0.00      0.00      0.00      1365\n",
            "\n",
            "    accuracy                           0.80      7000\n",
            "   macro avg       0.40      0.50      0.45      7000\n",
            "weighted avg       0.65      0.80      0.72      7000\n",
            "\n",
            "0.8035714285714286\n"
          ],
          "name": "stdout"
        }
      ]
    },
    {
      "cell_type": "markdown",
      "metadata": {
        "id": "M76iZi54ygD-"
      },
      "source": [
        "# K Nearest Neighbors"
      ]
    },
    {
      "cell_type": "code",
      "metadata": {
        "id": "YNMquNl8yrJb"
      },
      "source": [
        "import numpy as np\n",
        "from sklearn.neighbors import KNeighborsClassifier\n",
        "\n"
      ],
      "execution_count": 21,
      "outputs": []
    },
    {
      "cell_type": "code",
      "metadata": {
        "id": "HgmjTP1eKj-m"
      },
      "source": [
        "model = KNeighborsClassifier(n_neighbors=8)\n",
        "model = model.fit(X_train, y_train)"
      ],
      "execution_count": 22,
      "outputs": []
    },
    {
      "cell_type": "code",
      "metadata": {
        "colab": {
          "base_uri": "https://localhost:8080/"
        },
        "id": "RELeZ8rszmLw",
        "outputId": "c4c96ed2-94d0-451f-a299-4eb7b2e46322"
      },
      "source": [
        "std_score = model.score(X_test, y_test)\n",
        "std_score ##this is a very good accuracy of the model"
      ],
      "execution_count": 23,
      "outputs": [
        {
          "output_type": "execute_result",
          "data": {
            "text/plain": [
              "0.8038571428571428"
            ]
          },
          "metadata": {
            "tags": []
          },
          "execution_count": 23
        }
      ]
    },
    {
      "cell_type": "code",
      "metadata": {
        "id": "gmOMEYFQ0Joz"
      },
      "source": [
        "y_pred = model.predict(X_test)"
      ],
      "execution_count": 24,
      "outputs": []
    },
    {
      "cell_type": "code",
      "metadata": {
        "colab": {
          "base_uri": "https://localhost:8080/",
          "height": 365
        },
        "id": "sRqdF_NY-n-C",
        "outputId": "c26aee0e-6eef-46b4-c96e-2633aabb33c9"
      },
      "source": [
        "classes = ['No', 'Yes']\n",
        "\n",
        "plot_confusion_matrix(y_test, y_pred, classes=classes, title='Confussion matrix for K Nearest Neighbors')"
      ],
      "execution_count": 25,
      "outputs": [
        {
          "output_type": "stream",
          "text": [
            "Confusion matrix, without normalization\n",
            "[[5280  355]\n",
            " [1018  347]]\n"
          ],
          "name": "stdout"
        },
        {
          "output_type": "execute_result",
          "data": {
            "text/plain": [
              "<matplotlib.axes._subplots.AxesSubplot at 0x7f89d4162150>"
            ]
          },
          "metadata": {
            "tags": []
          },
          "execution_count": 25
        },
        {
          "output_type": "display_data",
          "data": {
            "image/png": "[encoded data removed]",
            "text/plain": [
              "<Figure size 432x288 with 2 Axes>"
            ]
          },
          "metadata": {
            "tags": [],
            "needs_background": "light"
          }
        }
      ]
    },
    {
      "cell_type": "code",
      "metadata": {
        "colab": {
          "base_uri": "https://localhost:8080/"
        },
        "id": "sINpT_NL1yDl",
        "outputId": "fd3f3b90-8817-4986-81b7-2baf0527cecf"
      },
      "source": [
        "print(classification_report(y_test, y_pred))"
      ],
      "execution_count": 26,
      "outputs": [
        {
          "output_type": "stream",
          "text": [
            "              precision    recall  f1-score   support\n",
            "\n",
            "          No       0.84      0.94      0.88      5635\n",
            "         Yes       0.49      0.25      0.34      1365\n",
            "\n",
            "    accuracy                           0.80      7000\n",
            "   macro avg       0.67      0.60      0.61      7000\n",
            "weighted avg       0.77      0.80      0.78      7000\n",
            "\n"
          ],
          "name": "stdout"
        }
      ]
    },
    {
      "cell_type": "code",
      "metadata": {
        "colab": {
          "base_uri": "https://localhost:8080/"
        },
        "id": "TVfP3bty-h73",
        "outputId": "2c8496eb-68c2-4b21-89bc-c0d2ae202c2d"
      },
      "source": [
        "print (accuracy_score(y_test, y_pred))"
      ],
      "execution_count": 27,
      "outputs": [
        {
          "output_type": "stream",
          "text": [
            "0.8038571428571428\n"
          ],
          "name": "stdout"
        }
      ]
    },
    {
      "cell_type": "markdown",
      "metadata": {
        "id": "s64Bg5ln4vT3"
      },
      "source": [
        "## Decision Tree"
      ]
    },
    {
      "cell_type": "code",
      "metadata": {
        "id": "xl6npY321yMo"
      },
      "source": [
        "## check la distribucion de datos de una columna del dataset\n",
        "\n",
        "import seaborn as sns\n"
      ],
      "execution_count": 28,
      "outputs": []
    },
    {
      "cell_type": "code",
      "metadata": {
        "id": "O0EsQ5cU-Z0O"
      },
      "source": [
        "y_train = y_train.apply(str).replace('1', 'Yes').replace('0', 'No')\n",
        "\n",
        "y_test = y_test.apply(str).replace('1', 'Yes').replace('0', 'No')\n"
      ],
      "execution_count": 29,
      "outputs": []
    },
    {
      "cell_type": "code",
      "metadata": {
        "id": "7EvkfSNT7Z9b"
      },
      "source": [
        "from sklearn.tree import DecisionTreeClassifier\n",
        "\n",
        "model = DecisionTreeClassifier(random_state=1)"
      ],
      "execution_count": 30,
      "outputs": []
    },
    {
      "cell_type": "code",
      "metadata": {
        "colab": {
          "base_uri": "https://localhost:8080/"
        },
        "id": "QGBY4CSE7Z_1",
        "outputId": "a69bba38-ac42-49f3-82fd-91718e095079"
      },
      "source": [
        "model.fit(X_train, y_train) ## we are going to start without giving any weight to the classes class_weight but then we will try to assign the correspondent weight"
      ],
      "execution_count": 31,
      "outputs": [
        {
          "output_type": "execute_result",
          "data": {
            "text/plain": [
              "DecisionTreeClassifier(ccp_alpha=0.0, class_weight=None, criterion='gini',\n",
              "                       max_depth=None, max_features=None, max_leaf_nodes=None,\n",
              "                       min_impurity_decrease=0.0, min_impurity_split=None,\n",
              "                       min_samples_leaf=1, min_samples_split=2,\n",
              "                       min_weight_fraction_leaf=0.0, presort='deprecated',\n",
              "                       random_state=1, splitter='best')"
            ]
          },
          "metadata": {
            "tags": []
          },
          "execution_count": 31
        }
      ]
    },
    {
      "cell_type": "code",
      "metadata": {
        "id": "GxeQYUy98FHn"
      },
      "source": [
        "y_pred = model.predict(X_test)"
      ],
      "execution_count": 32,
      "outputs": []
    },
    {
      "cell_type": "code",
      "metadata": {
        "colab": {
          "base_uri": "https://localhost:8080/",
          "height": 359
        },
        "id": "MZdr26QX8FPm",
        "outputId": "f743ce00-481a-40c5-dead-76047ec0e658"
      },
      "source": [
        "comp = pd.DataFrame({'real': y_test, 'preds':y_pred})\n",
        "comp.head(10) ## parece que esta acertando debido al desbalanceo vamos analizar los casos que deberian de ser 1"
      ],
      "execution_count": 33,
      "outputs": [
        {
          "output_type": "execute_result",
          "data": {
            "text/html": [
              "<div>\n",
              "<style scoped>\n",
              "    .dataframe tbody tr th:only-of-type {\n",
              "        vertical-align: middle;\n",
              "    }\n",
              "\n",
              "    .dataframe tbody tr th {\n",
              "        vertical-align: top;\n",
              "    }\n",
              "\n",
              "    .dataframe thead th {\n",
              "        text-align: right;\n",
              "    }\n",
              "</style>\n",
              "<table border=\"1\" class=\"dataframe\">\n",
              "  <thead>\n",
              "    <tr style=\"text-align: right;\">\n",
              "      <th></th>\n",
              "      <th>real</th>\n",
              "      <th>preds</th>\n",
              "    </tr>\n",
              "  </thead>\n",
              "  <tbody>\n",
              "    <tr>\n",
              "      <th>16651</th>\n",
              "      <td>No</td>\n",
              "      <td>No</td>\n",
              "    </tr>\n",
              "    <tr>\n",
              "      <th>13898</th>\n",
              "      <td>No</td>\n",
              "      <td>No</td>\n",
              "    </tr>\n",
              "    <tr>\n",
              "      <th>16269</th>\n",
              "      <td>No</td>\n",
              "      <td>No</td>\n",
              "    </tr>\n",
              "    <tr>\n",
              "      <th>7306</th>\n",
              "      <td>No</td>\n",
              "      <td>No</td>\n",
              "    </tr>\n",
              "    <tr>\n",
              "      <th>13631</th>\n",
              "      <td>No</td>\n",
              "      <td>No</td>\n",
              "    </tr>\n",
              "    <tr>\n",
              "      <th>4609</th>\n",
              "      <td>No</td>\n",
              "      <td>No</td>\n",
              "    </tr>\n",
              "    <tr>\n",
              "      <th>18063</th>\n",
              "      <td>No</td>\n",
              "      <td>No</td>\n",
              "    </tr>\n",
              "    <tr>\n",
              "      <th>408</th>\n",
              "      <td>Yes</td>\n",
              "      <td>No</td>\n",
              "    </tr>\n",
              "    <tr>\n",
              "      <th>12181</th>\n",
              "      <td>No</td>\n",
              "      <td>No</td>\n",
              "    </tr>\n",
              "    <tr>\n",
              "      <th>3062</th>\n",
              "      <td>Yes</td>\n",
              "      <td>Yes</td>\n",
              "    </tr>\n",
              "  </tbody>\n",
              "</table>\n",
              "</div>"
            ],
            "text/plain": [
              "      real preds\n",
              "16651   No    No\n",
              "13898   No    No\n",
              "16269   No    No\n",
              "7306    No    No\n",
              "13631   No    No\n",
              "4609    No    No\n",
              "18063   No    No\n",
              "408    Yes    No\n",
              "12181   No    No\n",
              "3062   Yes   Yes"
            ]
          },
          "metadata": {
            "tags": []
          },
          "execution_count": 33
        }
      ]
    },
    {
      "cell_type": "code",
      "metadata": {
        "colab": {
          "base_uri": "https://localhost:8080/",
          "height": 419
        },
        "id": "ZjwD8Y3W7aCi",
        "outputId": "93c3c88b-dce6-4d1a-e4ee-91610b33a280"
      },
      "source": [
        "comp[comp['real']=='Yes'] ##casi siempre esta prediciendo 0 para los casos de 1"
      ],
      "execution_count": 34,
      "outputs": [
        {
          "output_type": "execute_result",
          "data": {
            "text/html": [
              "<div>\n",
              "<style scoped>\n",
              "    .dataframe tbody tr th:only-of-type {\n",
              "        vertical-align: middle;\n",
              "    }\n",
              "\n",
              "    .dataframe tbody tr th {\n",
              "        vertical-align: top;\n",
              "    }\n",
              "\n",
              "    .dataframe thead th {\n",
              "        text-align: right;\n",
              "    }\n",
              "</style>\n",
              "<table border=\"1\" class=\"dataframe\">\n",
              "  <thead>\n",
              "    <tr style=\"text-align: right;\">\n",
              "      <th></th>\n",
              "      <th>real</th>\n",
              "      <th>preds</th>\n",
              "    </tr>\n",
              "  </thead>\n",
              "  <tbody>\n",
              "    <tr>\n",
              "      <th>408</th>\n",
              "      <td>Yes</td>\n",
              "      <td>No</td>\n",
              "    </tr>\n",
              "    <tr>\n",
              "      <th>3062</th>\n",
              "      <td>Yes</td>\n",
              "      <td>Yes</td>\n",
              "    </tr>\n",
              "    <tr>\n",
              "      <th>936</th>\n",
              "      <td>Yes</td>\n",
              "      <td>No</td>\n",
              "    </tr>\n",
              "    <tr>\n",
              "      <th>44</th>\n",
              "      <td>Yes</td>\n",
              "      <td>No</td>\n",
              "    </tr>\n",
              "    <tr>\n",
              "      <th>447</th>\n",
              "      <td>Yes</td>\n",
              "      <td>Yes</td>\n",
              "    </tr>\n",
              "    <tr>\n",
              "      <th>...</th>\n",
              "      <td>...</td>\n",
              "      <td>...</td>\n",
              "    </tr>\n",
              "    <tr>\n",
              "      <th>1246</th>\n",
              "      <td>Yes</td>\n",
              "      <td>Yes</td>\n",
              "    </tr>\n",
              "    <tr>\n",
              "      <th>800</th>\n",
              "      <td>Yes</td>\n",
              "      <td>No</td>\n",
              "    </tr>\n",
              "    <tr>\n",
              "      <th>2074</th>\n",
              "      <td>Yes</td>\n",
              "      <td>No</td>\n",
              "    </tr>\n",
              "    <tr>\n",
              "      <th>1483</th>\n",
              "      <td>Yes</td>\n",
              "      <td>No</td>\n",
              "    </tr>\n",
              "    <tr>\n",
              "      <th>3290</th>\n",
              "      <td>Yes</td>\n",
              "      <td>No</td>\n",
              "    </tr>\n",
              "  </tbody>\n",
              "</table>\n",
              "<p>1365 rows × 2 columns</p>\n",
              "</div>"
            ],
            "text/plain": [
              "     real preds\n",
              "408   Yes    No\n",
              "3062  Yes   Yes\n",
              "936   Yes    No\n",
              "44    Yes    No\n",
              "447   Yes   Yes\n",
              "...   ...   ...\n",
              "1246  Yes   Yes\n",
              "800   Yes    No\n",
              "2074  Yes    No\n",
              "1483  Yes    No\n",
              "3290  Yes    No\n",
              "\n",
              "[1365 rows x 2 columns]"
            ]
          },
          "metadata": {
            "tags": []
          },
          "execution_count": 34
        }
      ]
    },
    {
      "cell_type": "code",
      "metadata": {
        "colab": {
          "base_uri": "https://localhost:8080/"
        },
        "id": "lEyX0J8x9iYO",
        "outputId": "2a9927a6-3cff-4db5-829f-6616fe4ea902"
      },
      "source": [
        "## lets check the percentge of accuracy\n",
        "\n",
        "from sklearn.metrics import accuracy_score\n",
        "\n",
        "acc = accuracy_score(y_test, y_pred)\n",
        "acc ## this accuracy is good but our problem is that it is very import to us to identify those cases with an accident so we need to better up our prediction on those"
      ],
      "execution_count": 35,
      "outputs": [
        {
          "output_type": "execute_result",
          "data": {
            "text/plain": [
              "0.8204285714285714"
            ]
          },
          "metadata": {
            "tags": []
          },
          "execution_count": 35
        }
      ]
    },
    {
      "cell_type": "code",
      "metadata": {
        "colab": {
          "base_uri": "https://localhost:8080/"
        },
        "id": "UwXz_ayYlNMY",
        "outputId": "da570d7d-bcdd-40df-b724-1dc22f68876d"
      },
      "source": [
        "len(y_test[y_test=='Yes'])"
      ],
      "execution_count": 36,
      "outputs": [
        {
          "output_type": "execute_result",
          "data": {
            "text/plain": [
              "1365"
            ]
          },
          "metadata": {
            "tags": []
          },
          "execution_count": 36
        }
      ]
    },
    {
      "cell_type": "code",
      "metadata": {
        "colab": {
          "base_uri": "https://localhost:8080/",
          "height": 365
        },
        "id": "beEhJQSt-9PP",
        "outputId": "f1f8f031-eadb-42e1-b4f8-371e2377d458"
      },
      "source": [
        "classes = ['No', 'Yes']\n",
        "\n",
        "plot_confusion_matrix(y_test, y_pred, classes=classes, title='Confussion matrix for Decision Tree without weights')"
      ],
      "execution_count": 37,
      "outputs": [
        {
          "output_type": "stream",
          "text": [
            "Confusion matrix, without normalization\n",
            "[[5245  390]\n",
            " [ 867  498]]\n"
          ],
          "name": "stdout"
        },
        {
          "output_type": "execute_result",
          "data": {
            "text/plain": [
              "<matplotlib.axes._subplots.AxesSubplot at 0x7f89d06aaf50>"
            ]
          },
          "metadata": {
            "tags": []
          },
          "execution_count": 37
        },
        {
          "output_type": "display_data",
          "data": {
            "image/png": "[encoded data removed]",
            "text/plain": [
              "<Figure size 432x288 with 2 Axes>"
            ]
          },
          "metadata": {
            "tags": [],
            "needs_background": "light"
          }
        }
      ]
    },
    {
      "cell_type": "markdown",
      "metadata": {
        "id": "WGWCYdqM1aBR"
      },
      "source": [
        "Here we are going to perform a GridSearchCV to find th best hiperparameters for our dataset."
      ]
    },
    {
      "cell_type": "code",
      "metadata": {
        "id": "b-i2ptaaFtlT"
      },
      "source": [
        "from sklearn.model_selection import GridSearchCV\n",
        "\n",
        "clf_dt = GridSearchCV(DecisionTreeClassifier(),\n",
        "                      param_grid={\"min_samples_leaf\":[1,20],\n",
        "                                 'max_depth': np.arange(2, 20)},\n",
        "                     cv = 4,\n",
        "                     scoring = \"accuracy\")"
      ],
      "execution_count": 38,
      "outputs": []
    },
    {
      "cell_type": "code",
      "metadata": {
        "colab": {
          "base_uri": "https://localhost:8080/"
        },
        "id": "0Ahiu-dnFtuv",
        "outputId": "631f3ee7-7bed-4421-d1cd-8fdd2dc47e75"
      },
      "source": [
        "clf_dt.fit(X_train, y_train)\n"
      ],
      "execution_count": 39,
      "outputs": [
        {
          "output_type": "execute_result",
          "data": {
            "text/plain": [
              "GridSearchCV(cv=4, error_score=nan,\n",
              "             estimator=DecisionTreeClassifier(ccp_alpha=0.0, class_weight=None,\n",
              "                                              criterion='gini', max_depth=None,\n",
              "                                              max_features=None,\n",
              "                                              max_leaf_nodes=None,\n",
              "                                              min_impurity_decrease=0.0,\n",
              "                                              min_impurity_split=None,\n",
              "                                              min_samples_leaf=1,\n",
              "                                              min_samples_split=2,\n",
              "                                              min_weight_fraction_leaf=0.0,\n",
              "                                              presort='deprecated',\n",
              "                                              random_state=None,\n",
              "                                              splitter='best'),\n",
              "             iid='deprecated', n_jobs=None,\n",
              "             param_grid={'max_depth': array([ 2,  3,  4,  5,  6,  7,  8,  9, 10, 11, 12, 13, 14, 15, 16, 17, 18,\n",
              "       19]),\n",
              "                         'min_samples_leaf': [1, 20]},\n",
              "             pre_dispatch='2*n_jobs', refit=True, return_train_score=False,\n",
              "             scoring='accuracy', verbose=0)"
            ]
          },
          "metadata": {
            "tags": []
          },
          "execution_count": 39
        }
      ]
    },
    {
      "cell_type": "code",
      "metadata": {
        "colab": {
          "base_uri": "https://localhost:8080/"
        },
        "id": "VGto0xBsGX-_",
        "outputId": "fcf33e1e-32be-4640-be8b-af2c0e01163b"
      },
      "source": [
        "clf_dt.best_score_\n"
      ],
      "execution_count": 40,
      "outputs": [
        {
          "output_type": "execute_result",
          "data": {
            "text/plain": [
              "0.8273757085434716"
            ]
          },
          "metadata": {
            "tags": []
          },
          "execution_count": 40
        }
      ]
    },
    {
      "cell_type": "code",
      "metadata": {
        "colab": {
          "base_uri": "https://localhost:8080/"
        },
        "id": "UuEdDOX0GUCY",
        "outputId": "9f8550a5-1f96-403f-f7b8-3b2c297f7e33"
      },
      "source": [
        "clf_dt.best_params_"
      ],
      "execution_count": 41,
      "outputs": [
        {
          "output_type": "execute_result",
          "data": {
            "text/plain": [
              "{'max_depth': 9, 'min_samples_leaf': 1}"
            ]
          },
          "metadata": {
            "tags": []
          },
          "execution_count": 41
        }
      ]
    },
    {
      "cell_type": "markdown",
      "metadata": {
        "id": "RtmmbG5CBGEs"
      },
      "source": [
        "Now we are going to  run the model again but with the class weights according to the frequency of the classes to try to balance them and achieve better results"
      ]
    },
    {
      "cell_type": "code",
      "metadata": {
        "colab": {
          "base_uri": "https://localhost:8080/"
        },
        "id": "bREbiyNpMdQy",
        "outputId": "f6cd400d-0e91-446b-cc50-0b3e6a6b8359"
      },
      "source": [
        "## lets check frequencies\n",
        "staff['Accident'] = staff['Accident'].apply(str).apply(lambda x: x.replace('1', 'Yes').replace('0', 'No'))\n",
        "counts = staff['Accident'].replace('1', 'Yes').replace('0','No').astype(str).value_counts().to_dict()\n",
        "print(counts)\n",
        "\n"
      ],
      "execution_count": 42,
      "outputs": [
        {
          "output_type": "stream",
          "text": [
            "{'No': 17030, 'Yes': 4180}\n"
          ],
          "name": "stdout"
        }
      ]
    },
    {
      "cell_type": "code",
      "metadata": {
        "colab": {
          "base_uri": "https://localhost:8080/"
        },
        "id": "gQnu2eSHMyf5",
        "outputId": "dad2f3f0-9ae6-45b6-d1fd-c214047476a9"
      },
      "source": [
        "\n",
        "model = DecisionTreeClassifier(random_state=1, class_weight =counts, max_depth= 9, min_samples_leaf = 20)\n",
        "model.fit(X_train, y_train)\n",
        "\n"
      ],
      "execution_count": 43,
      "outputs": [
        {
          "output_type": "execute_result",
          "data": {
            "text/plain": [
              "DecisionTreeClassifier(ccp_alpha=0.0, class_weight={'No': 17030, 'Yes': 4180},\n",
              "                       criterion='gini', max_depth=9, max_features=None,\n",
              "                       max_leaf_nodes=None, min_impurity_decrease=0.0,\n",
              "                       min_impurity_split=None, min_samples_leaf=20,\n",
              "                       min_samples_split=2, min_weight_fraction_leaf=0.0,\n",
              "                       presort='deprecated', random_state=1, splitter='best')"
            ]
          },
          "metadata": {
            "tags": []
          },
          "execution_count": 43
        }
      ]
    },
    {
      "cell_type": "code",
      "metadata": {
        "colab": {
          "base_uri": "https://localhost:8080/",
          "height": 419
        },
        "id": "u7pLyPDVChTR",
        "outputId": "d129d1e0-387c-4d29-e8e0-e708c6e1c047"
      },
      "source": [
        "y_pred = model.predict(X_test)\n",
        "comp_2 = pd.DataFrame({'real': y_test, 'preds':y_pred})\n",
        "comp_2[comp_2['real']=='Yes'] ## it seems it has increase accuracy, lets check"
      ],
      "execution_count": 44,
      "outputs": [
        {
          "output_type": "execute_result",
          "data": {
            "text/html": [
              "<div>\n",
              "<style scoped>\n",
              "    .dataframe tbody tr th:only-of-type {\n",
              "        vertical-align: middle;\n",
              "    }\n",
              "\n",
              "    .dataframe tbody tr th {\n",
              "        vertical-align: top;\n",
              "    }\n",
              "\n",
              "    .dataframe thead th {\n",
              "        text-align: right;\n",
              "    }\n",
              "</style>\n",
              "<table border=\"1\" class=\"dataframe\">\n",
              "  <thead>\n",
              "    <tr style=\"text-align: right;\">\n",
              "      <th></th>\n",
              "      <th>real</th>\n",
              "      <th>preds</th>\n",
              "    </tr>\n",
              "  </thead>\n",
              "  <tbody>\n",
              "    <tr>\n",
              "      <th>408</th>\n",
              "      <td>Yes</td>\n",
              "      <td>No</td>\n",
              "    </tr>\n",
              "    <tr>\n",
              "      <th>3062</th>\n",
              "      <td>Yes</td>\n",
              "      <td>No</td>\n",
              "    </tr>\n",
              "    <tr>\n",
              "      <th>936</th>\n",
              "      <td>Yes</td>\n",
              "      <td>No</td>\n",
              "    </tr>\n",
              "    <tr>\n",
              "      <th>44</th>\n",
              "      <td>Yes</td>\n",
              "      <td>No</td>\n",
              "    </tr>\n",
              "    <tr>\n",
              "      <th>447</th>\n",
              "      <td>Yes</td>\n",
              "      <td>No</td>\n",
              "    </tr>\n",
              "    <tr>\n",
              "      <th>...</th>\n",
              "      <td>...</td>\n",
              "      <td>...</td>\n",
              "    </tr>\n",
              "    <tr>\n",
              "      <th>1246</th>\n",
              "      <td>Yes</td>\n",
              "      <td>No</td>\n",
              "    </tr>\n",
              "    <tr>\n",
              "      <th>800</th>\n",
              "      <td>Yes</td>\n",
              "      <td>No</td>\n",
              "    </tr>\n",
              "    <tr>\n",
              "      <th>2074</th>\n",
              "      <td>Yes</td>\n",
              "      <td>No</td>\n",
              "    </tr>\n",
              "    <tr>\n",
              "      <th>1483</th>\n",
              "      <td>Yes</td>\n",
              "      <td>No</td>\n",
              "    </tr>\n",
              "    <tr>\n",
              "      <th>3290</th>\n",
              "      <td>Yes</td>\n",
              "      <td>No</td>\n",
              "    </tr>\n",
              "  </tbody>\n",
              "</table>\n",
              "<p>1365 rows × 2 columns</p>\n",
              "</div>"
            ],
            "text/plain": [
              "     real preds\n",
              "408   Yes    No\n",
              "3062  Yes    No\n",
              "936   Yes    No\n",
              "44    Yes    No\n",
              "447   Yes    No\n",
              "...   ...   ...\n",
              "1246  Yes    No\n",
              "800   Yes    No\n",
              "2074  Yes    No\n",
              "1483  Yes    No\n",
              "3290  Yes    No\n",
              "\n",
              "[1365 rows x 2 columns]"
            ]
          },
          "metadata": {
            "tags": []
          },
          "execution_count": 44
        }
      ]
    },
    {
      "cell_type": "code",
      "metadata": {
        "colab": {
          "base_uri": "https://localhost:8080/"
        },
        "id": "mpW9r55-DCC2",
        "outputId": "51eb3944-605c-4e1d-e5fc-fa85e8198a48"
      },
      "source": [
        "acc = accuracy_score(y_test, y_pred)\n",
        "acc "
      ],
      "execution_count": 45,
      "outputs": [
        {
          "output_type": "execute_result",
          "data": {
            "text/plain": [
              "0.805"
            ]
          },
          "metadata": {
            "tags": []
          },
          "execution_count": 45
        }
      ]
    },
    {
      "cell_type": "code",
      "metadata": {
        "colab": {
          "base_uri": "https://localhost:8080/"
        },
        "id": "L44QL-gTDFTw",
        "outputId": "fb716940-c02a-4a4b-d53d-bcb092a3d7b8"
      },
      "source": [
        "cm = confusion_matrix(y_test, y_pred)\n",
        "cm"
      ],
      "execution_count": 46,
      "outputs": [
        {
          "output_type": "execute_result",
          "data": {
            "text/plain": [
              "array([[5635,    0],\n",
              "       [1365,    0]])"
            ]
          },
          "metadata": {
            "tags": []
          },
          "execution_count": 46
        }
      ]
    },
    {
      "cell_type": "markdown",
      "metadata": {
        "id": "5_tAf7xcNtqN"
      },
      "source": [
        "If we add the best parameter the accuracy is increasing bt because it is never predicting value 'yes' so it is not working correctly"
      ]
    },
    {
      "cell_type": "code",
      "metadata": {
        "colab": {
          "base_uri": "https://localhost:8080/",
          "height": 365
        },
        "id": "jqHpEhIREOA3",
        "outputId": "581e03b8-4fba-40e3-c32c-742af29e8ef3"
      },
      "source": [
        "classes = ['No', 'Yes']\n",
        "plot_confusion_matrix(y_test, y_pred, classes=classes, title='Confussion matrix for Decision Tree ')"
      ],
      "execution_count": 47,
      "outputs": [
        {
          "output_type": "stream",
          "text": [
            "Confusion matrix, without normalization\n",
            "[[5635    0]\n",
            " [1365    0]]\n"
          ],
          "name": "stdout"
        },
        {
          "output_type": "execute_result",
          "data": {
            "text/plain": [
              "<matplotlib.axes._subplots.AxesSubplot at 0x7f89d416a910>"
            ]
          },
          "metadata": {
            "tags": []
          },
          "execution_count": 47
        },
        {
          "output_type": "display_data",
          "data": {
            "image/png": "[encoded data removed]",
            "text/plain": [
              "<Figure size 432x288 with 2 Axes>"
            ]
          },
          "metadata": {
            "tags": [],
            "needs_background": "light"
          }
        }
      ]
    },
    {
      "cell_type": "code",
      "metadata": {
        "colab": {
          "base_uri": "https://localhost:8080/"
        },
        "id": "Da_sYtJIN3rZ",
        "outputId": "b96071bb-927e-43d4-beaf-0196cd45479a"
      },
      "source": [
        "##lets try without them\n",
        "\n",
        "model = DecisionTreeClassifier()\n",
        "model = DecisionTreeClassifier(random_state=1, class_weight =counts)\n",
        "model.fit(X_train, y_train)"
      ],
      "execution_count": 48,
      "outputs": [
        {
          "output_type": "execute_result",
          "data": {
            "text/plain": [
              "DecisionTreeClassifier(ccp_alpha=0.0, class_weight={'No': 17030, 'Yes': 4180},\n",
              "                       criterion='gini', max_depth=None, max_features=None,\n",
              "                       max_leaf_nodes=None, min_impurity_decrease=0.0,\n",
              "                       min_impurity_split=None, min_samples_leaf=1,\n",
              "                       min_samples_split=2, min_weight_fraction_leaf=0.0,\n",
              "                       presort='deprecated', random_state=1, splitter='best')"
            ]
          },
          "metadata": {
            "tags": []
          },
          "execution_count": 48
        }
      ]
    },
    {
      "cell_type": "code",
      "metadata": {
        "id": "w5aPF9HKOWDu"
      },
      "source": [
        "y_pred = model.predict(X_test)\n"
      ],
      "execution_count": 49,
      "outputs": []
    },
    {
      "cell_type": "code",
      "metadata": {
        "colab": {
          "base_uri": "https://localhost:8080/",
          "height": 365
        },
        "id": "02TnmJeCN_bI",
        "outputId": "134d7fb6-cedf-45f0-ec25-d43f7562884b"
      },
      "source": [
        "classes = ['No', 'Yes']\n",
        "plot_confusion_matrix(y_test, y_pred, classes=classes, title='Confussion matrix for Decision Tree ')"
      ],
      "execution_count": 50,
      "outputs": [
        {
          "output_type": "stream",
          "text": [
            "Confusion matrix, without normalization\n",
            "[[5625   10]\n",
            " [1360    5]]\n"
          ],
          "name": "stdout"
        },
        {
          "output_type": "execute_result",
          "data": {
            "text/plain": [
              "<matplotlib.axes._subplots.AxesSubplot at 0x7f89d0582990>"
            ]
          },
          "metadata": {
            "tags": []
          },
          "execution_count": 50
        },
        {
          "output_type": "display_data",
          "data": {
            "image/png": "[encoded data removed]",
            "text/plain": [
              "<Figure size 432x288 with 2 Axes>"
            ]
          },
          "metadata": {
            "tags": [],
            "needs_background": "light"
          }
        }
      ]
    },
    {
      "cell_type": "code",
      "metadata": {
        "id": "gsFD99cGq7Pa"
      },
      "source": [
        "from sklearn.metrics import f1_score\n",
        "from sklearn.model_selection import cross_validate\n",
        "\n",
        "scores = cross_validate(model, X_test, y_test, scoring ='f1_macro')"
      ],
      "execution_count": 51,
      "outputs": []
    },
    {
      "cell_type": "code",
      "metadata": {
        "colab": {
          "base_uri": "https://localhost:8080/"
        },
        "id": "_KpxjTeqrXVW",
        "outputId": "d8362796-48a6-4d94-ce3e-f359b2703c77"
      },
      "source": [
        "scores ## if we look at the test_score it is around .4 which is bad"
      ],
      "execution_count": 52,
      "outputs": [
        {
          "output_type": "execute_result",
          "data": {
            "text/plain": [
              "{'fit_time': array([0.02799749, 0.01924157, 0.01753736, 0.01862645, 0.02012014]),\n",
              " 'score_time': array([0.01175904, 0.01087689, 0.01030493, 0.01026773, 0.00999856]),\n",
              " 'test_score': array([0.47619672, 0.45634921, 0.44967875, 0.45842594, 0.47099129])}"
            ]
          },
          "metadata": {
            "tags": []
          },
          "execution_count": 52
        }
      ]
    },
    {
      "cell_type": "markdown",
      "metadata": {
        "id": "4eCZKbIYr7ka"
      },
      "source": [
        "Now we are going to try to over sample our minority class to balance our classes and achieve better results"
      ]
    },
    {
      "cell_type": "code",
      "metadata": {
        "id": "0f0_kbWirkqm",
        "colab": {
          "base_uri": "https://localhost:8080/"
        },
        "outputId": "5444f04b-0b7e-48e7-8f01-7b608e76a447"
      },
      "source": [
        "from imblearn.over_sampling import SMOTE"
      ],
      "execution_count": 53,
      "outputs": [
        {
          "output_type": "stream",
          "text": [
            "/usr/local/lib/python3.7/dist-packages/sklearn/externals/six.py:31: FutureWarning: The module is deprecated in version 0.21 and will be removed in version 0.23 since we've dropped support for Python 2.7. Please rely on the official version of six (https://pypi.org/project/six/).\n",
            "  \"(https://pypi.org/project/six/).\", FutureWarning)\n",
            "/usr/local/lib/python3.7/dist-packages/sklearn/utils/deprecation.py:144: FutureWarning: The sklearn.neighbors.base module is  deprecated in version 0.22 and will be removed in version 0.24. The corresponding classes / functions should instead be imported from sklearn.neighbors. Anything that cannot be imported from sklearn.neighbors is now part of the private API.\n",
            "  warnings.warn(message, FutureWarning)\n"
          ],
          "name": "stderr"
        }
      ]
    },
    {
      "cell_type": "code",
      "metadata": {
        "colab": {
          "base_uri": "https://localhost:8080/"
        },
        "id": "kIKI2hQesRvt",
        "outputId": "9cae71f8-3cd0-4e95-fd85-6dec6c944647"
      },
      "source": [
        "oversample = SMOTE()\n",
        "\n",
        "X, y = oversample.fit_resample(X, y)"
      ],
      "execution_count": 54,
      "outputs": [
        {
          "output_type": "stream",
          "text": [
            "/usr/local/lib/python3.7/dist-packages/sklearn/utils/deprecation.py:87: FutureWarning: Function safe_indexing is deprecated; safe_indexing is deprecated in version 0.22 and will be removed in version 0.24.\n",
            "  warnings.warn(msg, category=FutureWarning)\n"
          ],
          "name": "stderr"
        }
      ]
    },
    {
      "cell_type": "code",
      "metadata": {
        "colab": {
          "base_uri": "https://localhost:8080/"
        },
        "id": "DMez56z8sRyK",
        "outputId": "dd176179-76f2-4a34-bbc4-f90277de60a3"
      },
      "source": [
        "from collections import Counter\n",
        "\n",
        "counter = Counter(y)\n",
        "\n",
        "for k, v in counter.items():\n",
        "  dist = v / len(y)* 100\n",
        "  print(f'Class={k}, n={v}, ({dist}%)')"
      ],
      "execution_count": 55,
      "outputs": [
        {
          "output_type": "stream",
          "text": [
            "Class=1, n=17030, (50.0%)\n",
            "Class=0, n=17030, (50.0%)\n"
          ],
          "name": "stdout"
        }
      ]
    },
    {
      "cell_type": "code",
      "metadata": {
        "colab": {
          "base_uri": "https://localhost:8080/",
          "height": 501
        },
        "id": "q_3tc5RgsR2O",
        "outputId": "cfc55dbd-7121-4358-a332-859843076695"
      },
      "source": [
        "import numpy as np\n",
        "import matplotlib.pyplot as plt\n",
        "\n",
        "plt.figure(1, figsize=(10,8))\n",
        "\n",
        "for label, _ in counter.items():\n",
        "  row = np.where(y==label)[0]\n",
        "  plt.scatter(X[row, 0], X[row, 1], label=str(label))\n",
        "\n",
        "\n",
        "plt.legend()"
      ],
      "execution_count": 56,
      "outputs": [
        {
          "output_type": "execute_result",
          "data": {
            "text/plain": [
              "<matplotlib.legend.Legend at 0x7f89d02fef10>"
            ]
          },
          "metadata": {
            "tags": []
          },
          "execution_count": 56
        },
        {
          "output_type": "display_data",
          "data": {
            "image/png": "[encoded data removed]",
            "text/plain": [
              "<Figure size 720x576 with 1 Axes>"
            ]
          },
          "metadata": {
            "tags": [],
            "needs_background": "light"
          }
        }
      ]
    },
    {
      "cell_type": "code",
      "metadata": {
        "id": "0A4hmlfBvWkb"
      },
      "source": [
        "## we are going to run the model again with this oversample data\n",
        "\n",
        "X_train, X_test, y_train, y_test = train_test_split(X, y, test_size=0.33, random_state=42)"
      ],
      "execution_count": 57,
      "outputs": []
    },
    {
      "cell_type": "code",
      "metadata": {
        "colab": {
          "base_uri": "https://localhost:8080/"
        },
        "id": "ckMqY6mIvW1u",
        "outputId": "e49dabad-d42f-41ca-d84b-0da3b910a74e"
      },
      "source": [
        "model = DecisionTreeClassifier()\n",
        "model.fit(X_train, y_train)"
      ],
      "execution_count": 58,
      "outputs": [
        {
          "output_type": "execute_result",
          "data": {
            "text/plain": [
              "DecisionTreeClassifier(ccp_alpha=0.0, class_weight=None, criterion='gini',\n",
              "                       max_depth=None, max_features=None, max_leaf_nodes=None,\n",
              "                       min_impurity_decrease=0.0, min_impurity_split=None,\n",
              "                       min_samples_leaf=1, min_samples_split=2,\n",
              "                       min_weight_fraction_leaf=0.0, presort='deprecated',\n",
              "                       random_state=None, splitter='best')"
            ]
          },
          "metadata": {
            "tags": []
          },
          "execution_count": 58
        }
      ]
    },
    {
      "cell_type": "code",
      "metadata": {
        "colab": {
          "base_uri": "https://localhost:8080/",
          "height": 365
        },
        "id": "ckTb0fyavW4B",
        "outputId": "b4a0a967-ace9-42bd-93ce-49e7a790f467"
      },
      "source": [
        "y_pred = model.predict(X_test)\n",
        "classes = ['No', 'Yes']\n",
        "plot_confusion_matrix(y_test, y_pred, classes=classes, title='Confussion matrix for Decision Tree ')"
      ],
      "execution_count": 59,
      "outputs": [
        {
          "output_type": "stream",
          "text": [
            "Confusion matrix, without normalization\n",
            "[[4005 1615]\n",
            " [1010 4610]]\n"
          ],
          "name": "stdout"
        },
        {
          "output_type": "execute_result",
          "data": {
            "text/plain": [
              "<matplotlib.axes._subplots.AxesSubplot at 0x7f89d024b790>"
            ]
          },
          "metadata": {
            "tags": []
          },
          "execution_count": 59
        },
        {
          "output_type": "display_data",
          "data": {
            "image/png": "[encoded data removed]",
            "text/plain": [
              "<Figure size 432x288 with 2 Axes>"
            ]
          },
          "metadata": {
            "tags": [],
            "needs_background": "light"
          }
        }
      ]
    },
    {
      "cell_type": "code",
      "metadata": {
        "colab": {
          "base_uri": "https://localhost:8080/"
        },
        "id": "lvut4FcpwBKw",
        "outputId": "56206cd3-aa22-4abc-fe7f-ee0a4c2e9e11"
      },
      "source": [
        "scores = cross_validate(model, X_test, y_test, scoring ='f1_macro')\n",
        "scores ## our model has increased positively its test score with going around now a .8 which is a good result"
      ],
      "execution_count": 60,
      "outputs": [
        {
          "output_type": "execute_result",
          "data": {
            "text/plain": [
              "{'fit_time': array([0.01693678, 0.0170958 , 0.01696348, 0.01491761, 0.014606  ]),\n",
              " 'score_time': array([0.00204921, 0.0030551 , 0.00204754, 0.0020833 , 0.00197315]),\n",
              " 'test_score': array([0.76081442, 0.76103452, 0.75628091, 0.76105442, 0.75446565])}"
            ]
          },
          "metadata": {
            "tags": []
          },
          "execution_count": 60
        }
      ]
    },
    {
      "cell_type": "code",
      "metadata": {
        "colab": {
          "base_uri": "https://localhost:8080/"
        },
        "id": "Kky-ygXN-aOQ",
        "outputId": "b58d3a65-8b19-4a2c-bd67-acbf756e7a10"
      },
      "source": [
        "print (classification_report(y_test, y_pred, target_names=classes))\n",
        "print (accuracy_score(y_test, y_pred))"
      ],
      "execution_count": 61,
      "outputs": [
        {
          "output_type": "stream",
          "text": [
            "              precision    recall  f1-score   support\n",
            "\n",
            "          No       0.80      0.71      0.75      5620\n",
            "         Yes       0.74      0.82      0.78      5620\n",
            "\n",
            "    accuracy                           0.77     11240\n",
            "   macro avg       0.77      0.77      0.77     11240\n",
            "weighted avg       0.77      0.77      0.77     11240\n",
            "\n",
            "0.766459074733096\n"
          ],
          "name": "stdout"
        }
      ]
    },
    {
      "cell_type": "markdown",
      "metadata": {
        "id": "FpTR-JryxYsK"
      },
      "source": [
        "# Random Forest Algorithm\n",
        "\n",
        "We are going to perform this algorithm with the balanced data we have generated before, so we are going to be using same partitions"
      ]
    },
    {
      "cell_type": "code",
      "metadata": {
        "colab": {
          "base_uri": "https://localhost:8080/"
        },
        "id": "_3pUBT3CxclM",
        "outputId": "b1824311-e1f6-4c2a-f9f2-824b5f6c4856"
      },
      "source": [
        "from sklearn.ensemble import RandomForestClassifier\n",
        "\n",
        "model = RandomForestClassifier()\n",
        "\n",
        "model.fit(X_train, y_train)"
      ],
      "execution_count": 62,
      "outputs": [
        {
          "output_type": "execute_result",
          "data": {
            "text/plain": [
              "RandomForestClassifier(bootstrap=True, ccp_alpha=0.0, class_weight=None,\n",
              "                       criterion='gini', max_depth=None, max_features='auto',\n",
              "                       max_leaf_nodes=None, max_samples=None,\n",
              "                       min_impurity_decrease=0.0, min_impurity_split=None,\n",
              "                       min_samples_leaf=1, min_samples_split=2,\n",
              "                       min_weight_fraction_leaf=0.0, n_estimators=100,\n",
              "                       n_jobs=None, oob_score=False, random_state=None,\n",
              "                       verbose=0, warm_start=False)"
            ]
          },
          "metadata": {
            "tags": []
          },
          "execution_count": 62
        }
      ]
    },
    {
      "cell_type": "code",
      "metadata": {
        "colab": {
          "base_uri": "https://localhost:8080/"
        },
        "id": "qmtXcgS6xc5e",
        "outputId": "812fe4df-3675-43ac-f693-14862c702b6d"
      },
      "source": [
        "model.score(X_test, y_test) "
      ],
      "execution_count": 63,
      "outputs": [
        {
          "output_type": "execute_result",
          "data": {
            "text/plain": [
              "0.7667259786476869"
            ]
          },
          "metadata": {
            "tags": []
          },
          "execution_count": 63
        }
      ]
    },
    {
      "cell_type": "code",
      "metadata": {
        "id": "kHJyRvclxdAq"
      },
      "source": [
        "y_predicted = model.predict(X_test)"
      ],
      "execution_count": 64,
      "outputs": []
    },
    {
      "cell_type": "code",
      "metadata": {
        "colab": {
          "base_uri": "https://localhost:8080/",
          "height": 365
        },
        "id": "pIY--CzJxdEP",
        "outputId": "cfe14996-c8d2-43c2-f62e-a20453872c10"
      },
      "source": [
        "classes = ['No', 'Yes']\n",
        "plot_confusion_matrix(y_test, y_predicted, classes=classes, title='Confussion matrix for Random Forest ')"
      ],
      "execution_count": 65,
      "outputs": [
        {
          "output_type": "stream",
          "text": [
            "Confusion matrix, without normalization\n",
            "[[4000 1620]\n",
            " [1002 4618]]\n"
          ],
          "name": "stdout"
        },
        {
          "output_type": "execute_result",
          "data": {
            "text/plain": [
              "<matplotlib.axes._subplots.AxesSubplot at 0x7f89d02410d0>"
            ]
          },
          "metadata": {
            "tags": []
          },
          "execution_count": 65
        },
        {
          "output_type": "display_data",
          "data": {
            "image/png": "[encoded data removed]",
            "text/plain": [
              "<Figure size 432x288 with 2 Axes>"
            ]
          },
          "metadata": {
            "tags": [],
            "needs_background": "light"
          }
        }
      ]
    },
    {
      "cell_type": "code",
      "metadata": {
        "colab": {
          "base_uri": "https://localhost:8080/"
        },
        "id": "cXEUDY9O-WEy",
        "outputId": "17fbf471-6095-48c4-e97c-897eb9d0c0c8"
      },
      "source": [
        "print (classification_report(y_test, y_pred, target_names=classes))\n",
        "print (accuracy_score(y_test, y_predicted))"
      ],
      "execution_count": 66,
      "outputs": [
        {
          "output_type": "stream",
          "text": [
            "              precision    recall  f1-score   support\n",
            "\n",
            "          No       0.80      0.71      0.75      5620\n",
            "         Yes       0.74      0.82      0.78      5620\n",
            "\n",
            "    accuracy                           0.77     11240\n",
            "   macro avg       0.77      0.77      0.77     11240\n",
            "weighted avg       0.77      0.77      0.77     11240\n",
            "\n",
            "0.7667259786476869\n"
          ],
          "name": "stdout"
        }
      ]
    },
    {
      "cell_type": "markdown",
      "metadata": {
        "id": "I_kzWtMs3uUs"
      },
      "source": [
        "### hyperparameter optimization\n",
        "\n",
        "Now we are going to apply a GridSearch CV to try maximize performance in our algorithm and be able to apply the hiperparamethers that best fits our model"
      ]
    },
    {
      "cell_type": "code",
      "metadata": {
        "id": "lgg0gryQJ-E2"
      },
      "source": [
        "from sklearn.model_selection import GridSearchCV\n",
        "\n",
        "param_grid={\"min_samples_leaf\": [1,20], #min number of samples required at each leaf code\n",
        "            'n_estimators': [int(x) for x in np.linspace(start=10, stop=80, num=10)], # number of trees in random forest\n",
        "            'max_depth': np.arange(2,10), #number of levels in the tree\n",
        "            'min_samples_split': [2,5]} # min number of samples required to split a node "
      ],
      "execution_count": 67,
      "outputs": []
    },
    {
      "cell_type": "code",
      "metadata": {
        "id": "bW_Wxn6VxdIy"
      },
      "source": [
        "from sklearn.model_selection import GridSearchCV\n",
        "\n",
        "clf_rt = GridSearchCV(RandomForestClassifier(),\n",
        "                      param_grid=param_grid,cv = 3,scoring = \"accuracy\",n_jobs = 4, verbose = 2)"
      ],
      "execution_count": 68,
      "outputs": []
    },
    {
      "cell_type": "code",
      "metadata": {
        "colab": {
          "base_uri": "https://localhost:8080/"
        },
        "id": "IWnbPd2R4bWe",
        "outputId": "d0f2139d-890f-4d1f-a305-e609f86fdc15"
      },
      "source": [
        "clf_rt.fit(X, y)"
      ],
      "execution_count": 69,
      "outputs": [
        {
          "output_type": "stream",
          "text": [
            "Fitting 3 folds for each of 320 candidates, totalling 960 fits\n"
          ],
          "name": "stdout"
        },
        {
          "output_type": "stream",
          "text": [
            "[Parallel(n_jobs=4)]: Using backend LokyBackend with 4 concurrent workers.\n",
            "[Parallel(n_jobs=4)]: Done  33 tasks      | elapsed:    8.0s\n",
            "[Parallel(n_jobs=4)]: Done 154 tasks      | elapsed:   32.8s\n",
            "[Parallel(n_jobs=4)]: Done 357 tasks      | elapsed:  1.4min\n",
            "[Parallel(n_jobs=4)]: Done 640 tasks      | elapsed:  2.7min\n",
            "[Parallel(n_jobs=4)]: Done 960 out of 960 | elapsed:  4.4min finished\n"
          ],
          "name": "stderr"
        },
        {
          "output_type": "execute_result",
          "data": {
            "text/plain": [
              "GridSearchCV(cv=3, error_score=nan,\n",
              "             estimator=RandomForestClassifier(bootstrap=True, ccp_alpha=0.0,\n",
              "                                              class_weight=None,\n",
              "                                              criterion='gini', max_depth=None,\n",
              "                                              max_features='auto',\n",
              "                                              max_leaf_nodes=None,\n",
              "                                              max_samples=None,\n",
              "                                              min_impurity_decrease=0.0,\n",
              "                                              min_impurity_split=None,\n",
              "                                              min_samples_leaf=1,\n",
              "                                              min_samples_split=2,\n",
              "                                              min_weight_fraction_leaf=0.0,\n",
              "                                              n_estimators=100, n_jobs=None,\n",
              "                                              oob_score=False,\n",
              "                                              random_state=None, verbose=0,\n",
              "                                              warm_start=False),\n",
              "             iid='deprecated', n_jobs=4,\n",
              "             param_grid={'max_depth': array([2, 3, 4, 5, 6, 7, 8, 9]),\n",
              "                         'min_samples_leaf': [1, 20],\n",
              "                         'min_samples_split': [2, 5],\n",
              "                         'n_estimators': [10, 17, 25, 33, 41, 48, 56, 64, 72,\n",
              "                                          80]},\n",
              "             pre_dispatch='2*n_jobs', refit=True, return_train_score=False,\n",
              "             scoring='accuracy', verbose=2)"
            ]
          },
          "metadata": {
            "tags": []
          },
          "execution_count": 69
        }
      ]
    },
    {
      "cell_type": "code",
      "metadata": {
        "colab": {
          "base_uri": "https://localhost:8080/"
        },
        "id": "W3HrDRS14bdq",
        "outputId": "657dec99-ed6d-4233-b75e-fea032a01fec"
      },
      "source": [
        "clf_rt.best_score_"
      ],
      "execution_count": 70,
      "outputs": [
        {
          "output_type": "execute_result",
          "data": {
            "text/plain": [
              "0.7610689122016622"
            ]
          },
          "metadata": {
            "tags": []
          },
          "execution_count": 70
        }
      ]
    },
    {
      "cell_type": "code",
      "metadata": {
        "colab": {
          "base_uri": "https://localhost:8080/"
        },
        "id": "ekvi7Dpl4bk9",
        "outputId": "0febbb88-819e-4c19-fd72-54909171c0a4"
      },
      "source": [
        "clf_rt.best_params_"
      ],
      "execution_count": 71,
      "outputs": [
        {
          "output_type": "execute_result",
          "data": {
            "text/plain": [
              "{'max_depth': 9,\n",
              " 'min_samples_leaf': 1,\n",
              " 'min_samples_split': 2,\n",
              " 'n_estimators': 64}"
            ]
          },
          "metadata": {
            "tags": []
          },
          "execution_count": 71
        }
      ]
    },
    {
      "cell_type": "code",
      "metadata": {
        "id": "14NYywVv4bsl"
      },
      "source": [
        "clf_rf_good = clf_rt.best_estimator_\n"
      ],
      "execution_count": 72,
      "outputs": []
    },
    {
      "cell_type": "markdown",
      "metadata": {
        "id": "g3-_8f5l47oo"
      },
      "source": [
        "By the feature importances method we can observe how each variable impacts the decisions taken by the random forest"
      ]
    },
    {
      "cell_type": "code",
      "metadata": {
        "colab": {
          "base_uri": "https://localhost:8080/"
        },
        "id": "pv_uo8uW46o6",
        "outputId": "6683c590-7a2f-42da-99e3-5ba4795735b1"
      },
      "source": [
        "clf_rf_good.feature_importances_\n"
      ],
      "execution_count": 73,
      "outputs": [
        {
          "output_type": "execute_result",
          "data": {
            "text/plain": [
              "array([0.08214665, 0.2009839 , 0.14838223, 0.09700681, 0.09433172,\n",
              "       0.068403  , 0.13407994, 0.02381312, 0.00529785, 0.00596635,\n",
              "       0.00685963, 0.04763252, 0.02349416, 0.02589323, 0.03570889])"
            ]
          },
          "metadata": {
            "tags": []
          },
          "execution_count": 73
        }
      ]
    },
    {
      "cell_type": "markdown",
      "metadata": {
        "id": "1JyOnE6LNWe2"
      },
      "source": [
        "Now we are going to run the algorithm with the best parameter we got from the GridSearchCV"
      ]
    },
    {
      "cell_type": "code",
      "metadata": {
        "colab": {
          "base_uri": "https://localhost:8080/"
        },
        "id": "oJUe0Kl4NPLP",
        "outputId": "2dc80c9e-dada-4906-f748-a373ca2f8b57"
      },
      "source": [
        "model = RandomForestClassifier(max_depth= 9 , min_samples_leaf= 1, min_samples_split= 5, n_estimators= 48)\n",
        "\n",
        "model.fit(X_train, y_train)"
      ],
      "execution_count": 74,
      "outputs": [
        {
          "output_type": "execute_result",
          "data": {
            "text/plain": [
              "RandomForestClassifier(bootstrap=True, ccp_alpha=0.0, class_weight=None,\n",
              "                       criterion='gini', max_depth=9, max_features='auto',\n",
              "                       max_leaf_nodes=None, max_samples=None,\n",
              "                       min_impurity_decrease=0.0, min_impurity_split=None,\n",
              "                       min_samples_leaf=1, min_samples_split=5,\n",
              "                       min_weight_fraction_leaf=0.0, n_estimators=48,\n",
              "                       n_jobs=None, oob_score=False, random_state=None,\n",
              "                       verbose=0, warm_start=False)"
            ]
          },
          "metadata": {
            "tags": []
          },
          "execution_count": 74
        }
      ]
    },
    {
      "cell_type": "code",
      "metadata": {
        "colab": {
          "base_uri": "https://localhost:8080/"
        },
        "id": "T6zaos83NPOQ",
        "outputId": "ad2678bc-bb9f-4c36-f238-4da3f1c7e667"
      },
      "source": [
        "model.score(X_test, y_test) ## with the best parameters from the GridSearchCV we only got a increment from 0.85 to 0.86"
      ],
      "execution_count": 75,
      "outputs": [
        {
          "output_type": "execute_result",
          "data": {
            "text/plain": [
              "0.75355871886121"
            ]
          },
          "metadata": {
            "tags": []
          },
          "execution_count": 75
        }
      ]
    },
    {
      "cell_type": "code",
      "metadata": {
        "id": "HmogJ4XHNPRp"
      },
      "source": [
        "y_predicted = model.predict(X_test)"
      ],
      "execution_count": 76,
      "outputs": []
    },
    {
      "cell_type": "code",
      "metadata": {
        "colab": {
          "base_uri": "https://localhost:8080/",
          "height": 365
        },
        "id": "LDyJ-wpZNPrQ",
        "outputId": "9444e12f-f3f8-4ee7-b151-95921ad07fc5"
      },
      "source": [
        "classes = ['No', 'Yes']\n",
        "plot_confusion_matrix(y_test, y_predicted, classes=classes, title='Confussion matrix for Random Forest ')"
      ],
      "execution_count": 77,
      "outputs": [
        {
          "output_type": "stream",
          "text": [
            "Confusion matrix, without normalization\n",
            "[[3747 1873]\n",
            " [ 897 4723]]\n"
          ],
          "name": "stdout"
        },
        {
          "output_type": "execute_result",
          "data": {
            "text/plain": [
              "<matplotlib.axes._subplots.AxesSubplot at 0x7f89d009bb90>"
            ]
          },
          "metadata": {
            "tags": []
          },
          "execution_count": 77
        },
        {
          "output_type": "display_data",
          "data": {
            "image/png": "[encoded data removed]",
            "text/plain": [
              "<Figure size 432x288 with 2 Axes>"
            ]
          },
          "metadata": {
            "tags": [],
            "needs_background": "light"
          }
        }
      ]
    },
    {
      "cell_type": "code",
      "metadata": {
        "colab": {
          "base_uri": "https://localhost:8080/"
        },
        "id": "-Fmiw_3HNP_L",
        "outputId": "f82fec1c-0992-4c2f-b84b-60ca80bbc5e4"
      },
      "source": [
        "print (classification_report(y_test, y_pred, target_names=classes))\n",
        "print (accuracy_score(y_test, y_pred))"
      ],
      "execution_count": 78,
      "outputs": [
        {
          "output_type": "stream",
          "text": [
            "              precision    recall  f1-score   support\n",
            "\n",
            "          No       0.80      0.71      0.75      5620\n",
            "         Yes       0.74      0.82      0.78      5620\n",
            "\n",
            "    accuracy                           0.77     11240\n",
            "   macro avg       0.77      0.77      0.77     11240\n",
            "weighted avg       0.77      0.77      0.77     11240\n",
            "\n",
            "0.766459074733096\n"
          ],
          "name": "stdout"
        }
      ]
    },
    {
      "cell_type": "markdown",
      "metadata": {
        "id": "8goH9eyLzctr"
      },
      "source": [
        "With the hiperparameter optimization we have improve the metrics in our model. Now we are going to discard the columns with less importance according with the feature importances we got above. \n",
        "\n",
        "The columns we are going to discard are the following ones:\n",
        "\n",
        "- 'Age_Menor 30'\n",
        "- 'Acc_Duración Determinada'\n",
        "- 'Acc_ETT'\n"
      ]
    },
    {
      "cell_type": "code",
      "metadata": {
        "id": "M8B4FkKfzvUs"
      },
      "source": [
        "\n",
        "X_reduced = staff[['Horas Presencia Efectiva Subcontratados',\n",
        "       'Horas Presencia Efectiva ETTs', 'Horas Formacion Seguridad Propios',\n",
        "       'Horas Formacion Seguridad ETTs',\n",
        "       'Gender_Hombre', 'T_Turno de mañana',\n",
        "       'T_Turno de noche', 'T_Turno de tarde', 'Age_Entre 30-50',\n",
        "       'Age_Mayor 50', \n",
        "       'Acc_Indefinido', 'Acc_Otros']]\n",
        "y_reduced = staff['Accident']"
      ],
      "execution_count": 79,
      "outputs": []
    },
    {
      "cell_type": "code",
      "metadata": {
        "colab": {
          "base_uri": "https://localhost:8080/"
        },
        "id": "KRfpKTZ20qrB",
        "outputId": "532022de-5998-4e09-b293-013d611a9ea3"
      },
      "source": [
        "oversample = SMOTE()\n",
        "\n",
        "X_reduced, y_reduced = oversample.fit_resample(X_reduced, y_reduced)\n",
        "\n",
        "from collections import Counter\n",
        "\n",
        "counter = Counter(y)\n",
        "\n",
        "for k, v in counter.items():\n",
        "  dist = v / len(y_reduced)* 100\n",
        "  print(f'Class={k}, n={v}, ({dist}%)')"
      ],
      "execution_count": 80,
      "outputs": [
        {
          "output_type": "stream",
          "text": [
            "/usr/local/lib/python3.7/dist-packages/sklearn/utils/deprecation.py:87: FutureWarning: Function safe_indexing is deprecated; safe_indexing is deprecated in version 0.22 and will be removed in version 0.24.\n",
            "  warnings.warn(msg, category=FutureWarning)\n"
          ],
          "name": "stderr"
        },
        {
          "output_type": "stream",
          "text": [
            "Class=1, n=17030, (50.0%)\n",
            "Class=0, n=17030, (50.0%)\n"
          ],
          "name": "stdout"
        }
      ]
    },
    {
      "cell_type": "code",
      "metadata": {
        "id": "3d_2pxxKzvHz"
      },
      "source": [
        "X_train_reduced, X_test_reduced, y_train_reduced, y_test_reduced = train_test_split(X_reduced, y_reduced, test_size=0.33, random_state=42)"
      ],
      "execution_count": 81,
      "outputs": []
    },
    {
      "cell_type": "markdown",
      "metadata": {
        "id": "0-tIN1E-04Vg"
      },
      "source": [
        "Now that we have our test and train datasets reduced by the most important columns, we are going to run again the algorithm to see if the metrics has improved.\n",
        "\n",
        "The score before was 0.86"
      ]
    },
    {
      "cell_type": "code",
      "metadata": {
        "colab": {
          "base_uri": "https://localhost:8080/"
        },
        "id": "WzDMOruB03b_",
        "outputId": "f458cfef-83e3-4d4c-d416-08fe768cbb41"
      },
      "source": [
        "model = RandomForestClassifier(max_depth= 9 , min_samples_leaf= 1, min_samples_split= 5, n_estimators= 48)\n",
        "\n",
        "model.fit(X_train_reduced, y_train_reduced)"
      ],
      "execution_count": 82,
      "outputs": [
        {
          "output_type": "execute_result",
          "data": {
            "text/plain": [
              "RandomForestClassifier(bootstrap=True, ccp_alpha=0.0, class_weight=None,\n",
              "                       criterion='gini', max_depth=9, max_features='auto',\n",
              "                       max_leaf_nodes=None, max_samples=None,\n",
              "                       min_impurity_decrease=0.0, min_impurity_split=None,\n",
              "                       min_samples_leaf=1, min_samples_split=5,\n",
              "                       min_weight_fraction_leaf=0.0, n_estimators=48,\n",
              "                       n_jobs=None, oob_score=False, random_state=None,\n",
              "                       verbose=0, warm_start=False)"
            ]
          },
          "metadata": {
            "tags": []
          },
          "execution_count": 82
        }
      ]
    },
    {
      "cell_type": "code",
      "metadata": {
        "colab": {
          "base_uri": "https://localhost:8080/"
        },
        "id": "UHXl0XNa0KF_",
        "outputId": "83e61376-abb4-477d-ec40-bf89a7d12016"
      },
      "source": [
        "model.score(X_test_reduced, y_test_reduced) ## as we can see the metric remain almost the same"
      ],
      "execution_count": 83,
      "outputs": [
        {
          "output_type": "execute_result",
          "data": {
            "text/plain": [
              "0.7488434163701068"
            ]
          },
          "metadata": {
            "tags": []
          },
          "execution_count": 83
        }
      ]
    },
    {
      "cell_type": "markdown",
      "metadata": {
        "id": "lzULlhzU3MA5"
      },
      "source": [
        "We are going to run again the GridSearchCv to find the best hiperparameters again and check the feature importances , but this time with the new X_reduced and y_reduced"
      ]
    },
    {
      "cell_type": "code",
      "metadata": {
        "id": "3l9FAWJp3mGZ"
      },
      "source": [
        "from sklearn.model_selection import GridSearchCV\n",
        "\n",
        "param_grid={\"min_samples_leaf\": [1,20], #min number of samples required at each leaf code\n",
        "            'n_estimators': [int(x) for x in np.linspace(start=10, stop=80, num=10)], # number of trees in random forest\n",
        "            'max_depth': np.arange(2,10), #number of levels in the tree\n",
        "            'min_samples_split': [2,5]} # min number of samples required to split a node "
      ],
      "execution_count": 84,
      "outputs": []
    },
    {
      "cell_type": "code",
      "metadata": {
        "id": "LwKVmwCt21ty"
      },
      "source": [
        "clf_rt = GridSearchCV(RandomForestClassifier(),\n",
        "                      param_grid=param_grid,cv = 3,scoring = \"accuracy\",n_jobs = 4, verbose = 2)"
      ],
      "execution_count": 85,
      "outputs": []
    },
    {
      "cell_type": "code",
      "metadata": {
        "colab": {
          "base_uri": "https://localhost:8080/"
        },
        "id": "WztYP96x3oB4",
        "outputId": "a5116881-18a8-46ae-b8a2-22b3f1129796"
      },
      "source": [
        "clf_rt.fit(X_train_reduced, y_train_reduced)"
      ],
      "execution_count": 86,
      "outputs": [
        {
          "output_type": "stream",
          "text": [
            "Fitting 3 folds for each of 320 candidates, totalling 960 fits\n"
          ],
          "name": "stdout"
        },
        {
          "output_type": "stream",
          "text": [
            "[Parallel(n_jobs=4)]: Using backend LokyBackend with 4 concurrent workers.\n",
            "[Parallel(n_jobs=4)]: Done  33 tasks      | elapsed:    6.2s\n",
            "[Parallel(n_jobs=4)]: Done 154 tasks      | elapsed:   29.2s\n",
            "[Parallel(n_jobs=4)]: Done 357 tasks      | elapsed:  1.2min\n",
            "[Parallel(n_jobs=4)]: Done 640 tasks      | elapsed:  2.3min\n",
            "[Parallel(n_jobs=4)]: Done 960 out of 960 | elapsed:  3.8min finished\n"
          ],
          "name": "stderr"
        },
        {
          "output_type": "execute_result",
          "data": {
            "text/plain": [
              "GridSearchCV(cv=3, error_score=nan,\n",
              "             estimator=RandomForestClassifier(bootstrap=True, ccp_alpha=0.0,\n",
              "                                              class_weight=None,\n",
              "                                              criterion='gini', max_depth=None,\n",
              "                                              max_features='auto',\n",
              "                                              max_leaf_nodes=None,\n",
              "                                              max_samples=None,\n",
              "                                              min_impurity_decrease=0.0,\n",
              "                                              min_impurity_split=None,\n",
              "                                              min_samples_leaf=1,\n",
              "                                              min_samples_split=2,\n",
              "                                              min_weight_fraction_leaf=0.0,\n",
              "                                              n_estimators=100, n_jobs=None,\n",
              "                                              oob_score=False,\n",
              "                                              random_state=None, verbose=0,\n",
              "                                              warm_start=False),\n",
              "             iid='deprecated', n_jobs=4,\n",
              "             param_grid={'max_depth': array([2, 3, 4, 5, 6, 7, 8, 9]),\n",
              "                         'min_samples_leaf': [1, 20],\n",
              "                         'min_samples_split': [2, 5],\n",
              "                         'n_estimators': [10, 17, 25, 33, 41, 48, 56, 64, 72,\n",
              "                                          80]},\n",
              "             pre_dispatch='2*n_jobs', refit=True, return_train_score=False,\n",
              "             scoring='accuracy', verbose=2)"
            ]
          },
          "metadata": {
            "tags": []
          },
          "execution_count": 86
        }
      ]
    },
    {
      "cell_type": "code",
      "metadata": {
        "colab": {
          "base_uri": "https://localhost:8080/"
        },
        "id": "028XoI7P3Wih",
        "outputId": "4a41e17e-3d2b-490e-a43c-38704079fdc3"
      },
      "source": [
        "clf_rt.best_params_"
      ],
      "execution_count": 87,
      "outputs": [
        {
          "output_type": "execute_result",
          "data": {
            "text/plain": [
              "{'max_depth': 9,\n",
              " 'min_samples_leaf': 1,\n",
              " 'min_samples_split': 5,\n",
              " 'n_estimators': 10}"
            ]
          },
          "metadata": {
            "tags": []
          },
          "execution_count": 87
        }
      ]
    },
    {
      "cell_type": "code",
      "metadata": {
        "colab": {
          "base_uri": "https://localhost:8080/"
        },
        "id": "vKtY3Kuy5yar",
        "outputId": "e4b4cb69-5f9a-47d0-9ab1-72774ebfdd4a"
      },
      "source": [
        "#we run the model with the new parameters we just obtained\n",
        "\n",
        "model = RandomForestClassifier(max_depth= 9 , min_samples_leaf= 1, min_samples_split= 2, n_estimators= 41)\n",
        "\n",
        "model.fit(X_train_reduced, y_train_reduced)"
      ],
      "execution_count": 88,
      "outputs": [
        {
          "output_type": "execute_result",
          "data": {
            "text/plain": [
              "RandomForestClassifier(bootstrap=True, ccp_alpha=0.0, class_weight=None,\n",
              "                       criterion='gini', max_depth=9, max_features='auto',\n",
              "                       max_leaf_nodes=None, max_samples=None,\n",
              "                       min_impurity_decrease=0.0, min_impurity_split=None,\n",
              "                       min_samples_leaf=1, min_samples_split=2,\n",
              "                       min_weight_fraction_leaf=0.0, n_estimators=41,\n",
              "                       n_jobs=None, oob_score=False, random_state=None,\n",
              "                       verbose=0, warm_start=False)"
            ]
          },
          "metadata": {
            "tags": []
          },
          "execution_count": 88
        }
      ]
    },
    {
      "cell_type": "code",
      "metadata": {
        "colab": {
          "base_uri": "https://localhost:8080/"
        },
        "id": "QbLWIePl56u6",
        "outputId": "5d54d8ec-aa52-48e6-a715-a978fc799958"
      },
      "source": [
        "model.score(X_test_reduced, y_test_reduced) #same score we didnt got any better"
      ],
      "execution_count": 89,
      "outputs": [
        {
          "output_type": "execute_result",
          "data": {
            "text/plain": [
              "0.7493772241992882"
            ]
          },
          "metadata": {
            "tags": []
          },
          "execution_count": 89
        }
      ]
    },
    {
      "cell_type": "code",
      "metadata": {
        "colab": {
          "base_uri": "https://localhost:8080/"
        },
        "id": "TStaQHKT5o6A",
        "outputId": "6e3f3f17-af11-451c-d0ee-771d12400212"
      },
      "source": [
        "clf_rf_good = clf_rt.best_estimator_\n",
        "clf_rf_good.feature_importances_\n"
      ],
      "execution_count": 90,
      "outputs": [
        {
          "output_type": "execute_result",
          "data": {
            "text/plain": [
              "array([0.0592198 , 0.25933452, 0.19865957, 0.05611045, 0.0884313 ,\n",
              "       0.06898745, 0.12701302, 0.01968728, 0.01455024, 0.01310605,\n",
              "       0.0392499 , 0.05565042])"
            ]
          },
          "metadata": {
            "tags": []
          },
          "execution_count": 90
        }
      ]
    },
    {
      "cell_type": "markdown",
      "metadata": {
        "id": "AkLb0u2nPDLh"
      },
      "source": [
        "### Ploting the learning curve from the Random Forest\n",
        "\n",
        "The learning curve visualize the effect of the number of observatiosn on the performance metric"
      ]
    },
    {
      "cell_type": "code",
      "metadata": {
        "id": "LSEUyyo_PFmd"
      },
      "source": [
        "from sklearn.model_selection import learning_curve\n",
        "\n"
      ],
      "execution_count": 91,
      "outputs": []
    },
    {
      "cell_type": "code",
      "metadata": {
        "colab": {
          "base_uri": "https://localhost:8080/"
        },
        "id": "j58Hwh92S5-x",
        "outputId": "ce30b758-18b3-45fb-af5e-0fe6dfbe2989"
      },
      "source": [
        "train_sizes, train_scores, test_scores = learning_curve(RandomForestClassifier(), X, y, cv = 3, train_sizes=np.linspace(.1, 1.0, 5), scoring='accuracy', verbose=1)"
      ],
      "execution_count": 92,
      "outputs": [
        {
          "output_type": "stream",
          "text": [
            "[learning_curve] Training set sizes: [ 2270  7379 12488 17597 22706]\n"
          ],
          "name": "stdout"
        },
        {
          "output_type": "stream",
          "text": [
            "[Parallel(n_jobs=1)]: Using backend SequentialBackend with 1 concurrent workers.\n",
            "[Parallel(n_jobs=1)]: Done  15 out of  15 | elapsed:   12.9s finished\n"
          ],
          "name": "stderr"
        }
      ]
    },
    {
      "cell_type": "code",
      "metadata": {
        "colab": {
          "base_uri": "https://localhost:8080/"
        },
        "id": "7_c_zwQSS6BZ",
        "outputId": "93784f0f-eeb5-4744-9a37-a74a8a73410f"
      },
      "source": [
        "import numpy as np\n",
        "\n",
        "train_mean = np.mean(train_scores, axis = 1)\n",
        "train_mean"
      ],
      "execution_count": 93,
      "outputs": [
        {
          "output_type": "execute_result",
          "data": {
            "text/plain": [
              "array([1.        , 0.8549939 , 0.82383088, 0.77988672, 0.78092428])"
            ]
          },
          "metadata": {
            "tags": []
          },
          "execution_count": 93
        }
      ]
    },
    {
      "cell_type": "code",
      "metadata": {
        "colab": {
          "base_uri": "https://localhost:8080/"
        },
        "id": "lmRf3Np0S6EN",
        "outputId": "9580667f-1625-475f-d088-9ca97dfa3f9d"
      },
      "source": [
        "train_std = np.std(train_scores, axis = 1)\n",
        "train_std"
      ],
      "execution_count": 94,
      "outputs": [
        {
          "output_type": "execute_result",
          "data": {
            "text/plain": [
              "array([0.        , 0.1025348 , 0.06551453, 0.00419407, 0.00488048])"
            ]
          },
          "metadata": {
            "tags": []
          },
          "execution_count": 94
        }
      ]
    },
    {
      "cell_type": "code",
      "metadata": {
        "colab": {
          "base_uri": "https://localhost:8080/"
        },
        "id": "IJqTvxZjS6G6",
        "outputId": "6cff526a-aca6-45c7-d124-e1ee8521061d"
      },
      "source": [
        "test_mean = np.mean (test_scores, axis = 1)\n",
        "test_mean"
      ],
      "execution_count": 95,
      "outputs": [
        {
          "output_type": "execute_result",
          "data": {
            "text/plain": [
              "array([0.5       , 0.66814939, 0.65144252, 0.73408693, 0.76829156])"
            ]
          },
          "metadata": {
            "tags": []
          },
          "execution_count": 95
        }
      ]
    },
    {
      "cell_type": "code",
      "metadata": {
        "colab": {
          "base_uri": "https://localhost:8080/"
        },
        "id": "NcH2hGqcUMmO",
        "outputId": "21564857-ffe6-48c3-aaee-508deb65f983"
      },
      "source": [
        "test_std = np.std(test_scores, axis = 1)\n",
        "\n",
        "test_std"
      ],
      "execution_count": 96,
      "outputs": [
        {
          "output_type": "execute_result",
          "data": {
            "text/plain": [
              "array([3.59595077e-05, 1.18907424e-01, 9.35944688e-02, 2.45090459e-03,\n",
              "       7.61499676e-03])"
            ]
          },
          "metadata": {
            "tags": []
          },
          "execution_count": 96
        }
      ]
    },
    {
      "cell_type": "code",
      "metadata": {
        "colab": {
          "base_uri": "https://localhost:8080/",
          "height": 312
        },
        "id": "sMqkOY-BUMo-",
        "outputId": "05743d65-6829-4f05-a464-d76908134e76"
      },
      "source": [
        "plt.plot(train_sizes, train_mean, label = 'Trainning score') #train accuracy\n",
        "plt.plot(train_sizes, test_mean, label = 'Cross-Validation Score') #training accuracy\n",
        "\n",
        "plt.title('Learning Curve')\n",
        "plt.xlabel('Training Size')\n",
        "plt.ylabel('Accuracy Score')\n",
        "plt.legend(loc = 'best')"
      ],
      "execution_count": 97,
      "outputs": [
        {
          "output_type": "execute_result",
          "data": {
            "text/plain": [
              "<matplotlib.legend.Legend at 0x7f89cf4f7ed0>"
            ]
          },
          "metadata": {
            "tags": []
          },
          "execution_count": 97
        },
        {
          "output_type": "display_data",
          "data": {
            "image/png": "[encoded data removed]",
            "text/plain": [
              "<Figure size 432x288 with 1 Axes>"
            ]
          },
          "metadata": {
            "tags": [],
            "needs_background": "light"
          }
        }
      ]
    },
    {
      "cell_type": "markdown",
      "metadata": {
        "id": "3_unior9tk7d"
      },
      "source": [
        "# XGBoost\n",
        "\n",
        "Now we are going to check the XGBoost algorithm efficacy"
      ]
    },
    {
      "cell_type": "code",
      "metadata": {
        "id": "ekq46qNUtkUI"
      },
      "source": [
        "from xgboost import XGBClassifier\n"
      ],
      "execution_count": 98,
      "outputs": []
    },
    {
      "cell_type": "code",
      "metadata": {
        "id": "vVGYnbzLws1E"
      },
      "source": [
        "param_grid={'max_depth': np.arange(2,10),\n",
        "             \"learning_rate\": [0.05],\n",
        "              \"n_estimators\": np.arange(100, 150, 10)}"
      ],
      "execution_count": 99,
      "outputs": []
    },
    {
      "cell_type": "code",
      "metadata": {
        "id": "y2WnMrcwtkbX"
      },
      "source": [
        "\n",
        "clf_xg = GridSearchCV(XGBClassifier(),\n",
        "                      param_grid = param_grid ,\n",
        "                      cv = 4,\n",
        "                      scoring = 'accuracy', verbose = 2,\n",
        "                      n_jobs = -1\n",
        "         )"
      ],
      "execution_count": 100,
      "outputs": []
    },
    {
      "cell_type": "code",
      "metadata": {
        "colab": {
          "base_uri": "https://localhost:8080/"
        },
        "id": "E8n0yYEotkeG",
        "outputId": "b76506cf-20d5-443f-ef02-c94abc533769"
      },
      "source": [
        "clf_xg.fit(X_train, y_train)\n"
      ],
      "execution_count": 101,
      "outputs": [
        {
          "output_type": "stream",
          "text": [
            "Fitting 4 folds for each of 40 candidates, totalling 160 fits\n"
          ],
          "name": "stdout"
        },
        {
          "output_type": "stream",
          "text": [
            "[Parallel(n_jobs=-1)]: Using backend LokyBackend with 2 concurrent workers.\n",
            "[Parallel(n_jobs=-1)]: Done  37 tasks      | elapsed:   29.8s\n",
            "[Parallel(n_jobs=-1)]: Done 160 out of 160 | elapsed:  4.5min finished\n"
          ],
          "name": "stderr"
        },
        {
          "output_type": "execute_result",
          "data": {
            "text/plain": [
              "GridSearchCV(cv=4, error_score=nan,\n",
              "             estimator=XGBClassifier(base_score=0.5, booster='gbtree',\n",
              "                                     colsample_bylevel=1, colsample_bynode=1,\n",
              "                                     colsample_bytree=1, gamma=0,\n",
              "                                     learning_rate=0.1, max_delta_step=0,\n",
              "                                     max_depth=3, min_child_weight=1,\n",
              "                                     missing=None, n_estimators=100, n_jobs=1,\n",
              "                                     nthread=None, objective='binary:logistic',\n",
              "                                     random_state=0, reg_alpha=0, reg_lambda=1,\n",
              "                                     scale_pos_weight=1, seed=None, silent=None,\n",
              "                                     subsample=1, verbosity=1),\n",
              "             iid='deprecated', n_jobs=-1,\n",
              "             param_grid={'learning_rate': [0.05],\n",
              "                         'max_depth': array([2, 3, 4, 5, 6, 7, 8, 9]),\n",
              "                         'n_estimators': array([100, 110, 120, 130, 140])},\n",
              "             pre_dispatch='2*n_jobs', refit=True, return_train_score=False,\n",
              "             scoring='accuracy', verbose=2)"
            ]
          },
          "metadata": {
            "tags": []
          },
          "execution_count": 101
        }
      ]
    },
    {
      "cell_type": "code",
      "metadata": {
        "colab": {
          "base_uri": "https://localhost:8080/"
        },
        "id": "6f141t62yyTe",
        "outputId": "03e8019b-13e5-43d3-9145-4dc8aaa61f3c"
      },
      "source": [
        "clf_xg.best_params_\n"
      ],
      "execution_count": 102,
      "outputs": [
        {
          "output_type": "execute_result",
          "data": {
            "text/plain": [
              "{'learning_rate': 0.05, 'max_depth': 9, 'n_estimators': 140}"
            ]
          },
          "metadata": {
            "tags": []
          },
          "execution_count": 102
        }
      ]
    },
    {
      "cell_type": "code",
      "metadata": {
        "colab": {
          "base_uri": "https://localhost:8080/"
        },
        "id": "7pjuRG72yyhV",
        "outputId": "be76de66-757e-4a2a-97d6-19052240c362"
      },
      "source": [
        "clf_xg.best_score_\n"
      ],
      "execution_count": 103,
      "outputs": [
        {
          "output_type": "execute_result",
          "data": {
            "text/plain": [
              "0.7699824715162138"
            ]
          },
          "metadata": {
            "tags": []
          },
          "execution_count": 103
        }
      ]
    },
    {
      "cell_type": "code",
      "metadata": {
        "colab": {
          "base_uri": "https://localhost:8080/",
          "height": 365
        },
        "id": "ohxeUOaLyyk4",
        "outputId": "97f52fc4-a971-431d-f3d8-f028c405646c"
      },
      "source": [
        "\n",
        "clf_xgb_test = XGBClassifier(learning_rate = 0.05, max_depth = 9, n_estimators = 130)\n",
        "clf_xgb_test.fit(X_train, y_train)\n",
        "y_pred_xgb=clf_xgb_test.predict(X_test)\n",
        "classes = ['No', 'Yes']\n",
        "plot_confusion_matrix(y_test, y_pred, classes=classes, title='Confussion Matrix XGBoost')"
      ],
      "execution_count": 104,
      "outputs": [
        {
          "output_type": "stream",
          "text": [
            "Confusion matrix, without normalization\n",
            "[[4005 1615]\n",
            " [1010 4610]]\n"
          ],
          "name": "stdout"
        },
        {
          "output_type": "execute_result",
          "data": {
            "text/plain": [
              "<matplotlib.axes._subplots.AxesSubplot at 0x7f89c66eac90>"
            ]
          },
          "metadata": {
            "tags": []
          },
          "execution_count": 104
        },
        {
          "output_type": "display_data",
          "data": {
            "image/png": "[encoded data removed]",
            "text/plain": [
              "<Figure size 432x288 with 2 Axes>"
            ]
          },
          "metadata": {
            "tags": [],
            "needs_background": "light"
          }
        }
      ]
    },
    {
      "cell_type": "code",
      "metadata": {
        "colab": {
          "base_uri": "https://localhost:8080/"
        },
        "id": "UW_ienYA0jjs",
        "outputId": "75a4404e-837a-4695-93e4-de637e325128"
      },
      "source": [
        "print (classification_report(y_test, y_pred, target_names=classes))\n",
        "print (accuracy_score(y_test, y_pred))"
      ],
      "execution_count": 105,
      "outputs": [
        {
          "output_type": "stream",
          "text": [
            "              precision    recall  f1-score   support\n",
            "\n",
            "          No       0.80      0.71      0.75      5620\n",
            "         Yes       0.74      0.82      0.78      5620\n",
            "\n",
            "    accuracy                           0.77     11240\n",
            "   macro avg       0.77      0.77      0.77     11240\n",
            "weighted avg       0.77      0.77      0.77     11240\n",
            "\n",
            "0.766459074733096\n"
          ],
          "name": "stdout"
        }
      ]
    },
    {
      "cell_type": "markdown",
      "metadata": {
        "id": "WB1BSnUk2_Q4"
      },
      "source": [
        "# SVM : Support Vector Machine \n",
        "\n",
        "This machine learning methods are one of the best options when getting the correct answer is higher priority than understanding why you get that answer. \n",
        "\n",
        "As Support Vector Machines work well with small datasets and not awesome with large ones and it will take long time to optimize with Cross Validation. \n",
        "\n",
        "So, we will downsample both categories."
      ]
    },
    {
      "cell_type": "code",
      "metadata": {
        "colab": {
          "base_uri": "https://localhost:8080/"
        },
        "id": "2OydYupUTNlA",
        "outputId": "bd6f5e12-863a-427c-fb8f-650a60a13410"
      },
      "source": [
        "staff_reduced_sv = staff[['Horas Presencia Efectiva Subcontratados',\n",
        "       'Horas Presencia Efectiva ETTs', 'Horas Formacion Seguridad Propios',\n",
        "       'Horas Formacion Seguridad ETTs',\n",
        "       'Gender_Hombre', 'T_Turno de mañana',\n",
        "       'T_Turno de noche', 'T_Turno de tarde', 'Age_Entre 30-50',\n",
        "       'Age_Mayor 50', \n",
        "       'Acc_Indefinido', 'Acc_Otros', 'Accident']]\n",
        "len(staff_reduced_sv)"
      ],
      "execution_count": 156,
      "outputs": [
        {
          "output_type": "execute_result",
          "data": {
            "text/plain": [
              "21210"
            ]
          },
          "metadata": {
            "tags": []
          },
          "execution_count": 156
        }
      ]
    },
    {
      "cell_type": "code",
      "metadata": {
        "colab": {
          "base_uri": "https://localhost:8080/"
        },
        "id": "9Ut9dn_LTcer",
        "outputId": "98a7bd7f-abbc-4d84-a399-146d07c47516"
      },
      "source": [
        "staff_reduced_sv['Accident'] = staff_reduced_sv['Accident'].astype('str')\n",
        "\n"
      ],
      "execution_count": 157,
      "outputs": [
        {
          "output_type": "stream",
          "text": [
            "/usr/local/lib/python3.7/dist-packages/ipykernel_launcher.py:1: SettingWithCopyWarning: \n",
            "A value is trying to be set on a copy of a slice from a DataFrame.\n",
            "Try using .loc[row_indexer,col_indexer] = value instead\n",
            "\n",
            "See the caveats in the documentation: https://pandas.pydata.org/pandas-docs/stable/user_guide/indexing.html#returning-a-view-versus-a-copy\n",
            "  \"\"\"Entry point for launching an IPython kernel.\n"
          ],
          "name": "stderr"
        }
      ]
    },
    {
      "cell_type": "code",
      "metadata": {
        "colab": {
          "base_uri": "https://localhost:8080/"
        },
        "id": "_Uw2-xpqCLux",
        "outputId": "e4753e17-2a2c-4d31-9b0f-1b2ebb2261a1"
      },
      "source": [
        "staff_reduced_sv['Accident'] = staff_reduced_sv['Accident'].apply(lambda x: x.replace('Yes', '1').replace('No', '0'))"
      ],
      "execution_count": 158,
      "outputs": [
        {
          "output_type": "stream",
          "text": [
            "/usr/local/lib/python3.7/dist-packages/ipykernel_launcher.py:1: SettingWithCopyWarning: \n",
            "A value is trying to be set on a copy of a slice from a DataFrame.\n",
            "Try using .loc[row_indexer,col_indexer] = value instead\n",
            "\n",
            "See the caveats in the documentation: https://pandas.pydata.org/pandas-docs/stable/user_guide/indexing.html#returning-a-view-versus-a-copy\n",
            "  \"\"\"Entry point for launching an IPython kernel.\n"
          ],
          "name": "stderr"
        }
      ]
    },
    {
      "cell_type": "code",
      "metadata": {
        "colab": {
          "base_uri": "https://localhost:8080/"
        },
        "id": "I67DVvJiC-aR",
        "outputId": "dc279343-b85a-43df-d8a8-87a1a31acdbc"
      },
      "source": [
        "staff_reduced_sv['Accident'] = staff_reduced_sv['Accident'].astype(int)"
      ],
      "execution_count": 159,
      "outputs": [
        {
          "output_type": "stream",
          "text": [
            "/usr/local/lib/python3.7/dist-packages/ipykernel_launcher.py:1: SettingWithCopyWarning: \n",
            "A value is trying to be set on a copy of a slice from a DataFrame.\n",
            "Try using .loc[row_indexer,col_indexer] = value instead\n",
            "\n",
            "See the caveats in the documentation: https://pandas.pydata.org/pandas-docs/stable/user_guide/indexing.html#returning-a-view-versus-a-copy\n",
            "  \"\"\"Entry point for launching an IPython kernel.\n"
          ],
          "name": "stderr"
        }
      ]
    },
    {
      "cell_type": "code",
      "metadata": {
        "id": "WuX9ZA1CTgUH"
      },
      "source": [
        "yes_sv = staff_reduced_sv[staff_reduced_sv['Accident']==1]\n",
        "no_sv = staff_reduced_sv[staff_reduced_sv['Accident']==0]"
      ],
      "execution_count": 160,
      "outputs": []
    },
    {
      "cell_type": "code",
      "metadata": {
        "colab": {
          "base_uri": "https://localhost:8080/"
        },
        "id": "r7DIMZnSPBYp",
        "outputId": "41babd44-1c19-4e21-d58b-294f8df0dc62"
      },
      "source": [
        "len(yes_sv)"
      ],
      "execution_count": 161,
      "outputs": [
        {
          "output_type": "execute_result",
          "data": {
            "text/plain": [
              "4180"
            ]
          },
          "metadata": {
            "tags": []
          },
          "execution_count": 161
        }
      ]
    },
    {
      "cell_type": "code",
      "metadata": {
        "id": "o0tRv9UIUPEI"
      },
      "source": [
        "from sklearn.utils import resample"
      ],
      "execution_count": 162,
      "outputs": []
    },
    {
      "cell_type": "code",
      "metadata": {
        "colab": {
          "base_uri": "https://localhost:8080/"
        },
        "id": "vLBZ8pV9TwwQ",
        "outputId": "2fdf58f8-e0bd-4601-b9aa-e80c3a742f49"
      },
      "source": [
        "yes_sv_downsample = resample(yes_sv, \n",
        "                             replace=False,\n",
        "                             n_samples = 1000, random_state=42)\n",
        "\n",
        "len(yes_sv_downsample)"
      ],
      "execution_count": 163,
      "outputs": [
        {
          "output_type": "execute_result",
          "data": {
            "text/plain": [
              "1000"
            ]
          },
          "metadata": {
            "tags": []
          },
          "execution_count": 163
        }
      ]
    },
    {
      "cell_type": "code",
      "metadata": {
        "colab": {
          "base_uri": "https://localhost:8080/"
        },
        "id": "v1D0pGQFUY6e",
        "outputId": "0a2f0737-7ff7-43b5-cd0d-85c747f94bb6"
      },
      "source": [
        "no_sv_downsample = resample(no_sv, \n",
        "                             replace=False,\n",
        "                             n_samples = 1000,\n",
        "                             random_state=42)\n",
        "\n",
        "len(no_sv_downsample)"
      ],
      "execution_count": 164,
      "outputs": [
        {
          "output_type": "execute_result",
          "data": {
            "text/plain": [
              "1000"
            ]
          },
          "metadata": {
            "tags": []
          },
          "execution_count": 164
        }
      ]
    },
    {
      "cell_type": "code",
      "metadata": {
        "colab": {
          "base_uri": "https://localhost:8080/"
        },
        "id": "0Blfg0TxUdlM",
        "outputId": "ef4d1ada-18c2-4a32-9b3c-0dcf601c9936"
      },
      "source": [
        "sv_downsample = pd.concat([no_sv_downsample, yes_sv_downsample])\n",
        "len(sv_downsample)"
      ],
      "execution_count": 165,
      "outputs": [
        {
          "output_type": "execute_result",
          "data": {
            "text/plain": [
              "2000"
            ]
          },
          "metadata": {
            "tags": []
          },
          "execution_count": 165
        }
      ]
    },
    {
      "cell_type": "code",
      "metadata": {
        "colab": {
          "base_uri": "https://localhost:8080/",
          "height": 237
        },
        "id": "E5Y_WJjIU1PO",
        "outputId": "02a3a0c2-b32a-4024-bf69-03413dcdfc53"
      },
      "source": [
        "X_sv = sv_downsample.drop('Accident', axis = 1).copy()\n",
        "X_sv.head()"
      ],
      "execution_count": 166,
      "outputs": [
        {
          "output_type": "execute_result",
          "data": {
            "text/html": [
              "<div>\n",
              "<style scoped>\n",
              "    .dataframe tbody tr th:only-of-type {\n",
              "        vertical-align: middle;\n",
              "    }\n",
              "\n",
              "    .dataframe tbody tr th {\n",
              "        vertical-align: top;\n",
              "    }\n",
              "\n",
              "    .dataframe thead th {\n",
              "        text-align: right;\n",
              "    }\n",
              "</style>\n",
              "<table border=\"1\" class=\"dataframe\">\n",
              "  <thead>\n",
              "    <tr style=\"text-align: right;\">\n",
              "      <th></th>\n",
              "      <th>Horas Presencia Efectiva Subcontratados</th>\n",
              "      <th>Horas Presencia Efectiva ETTs</th>\n",
              "      <th>Horas Formacion Seguridad Propios</th>\n",
              "      <th>Horas Formacion Seguridad ETTs</th>\n",
              "      <th>Gender_Hombre</th>\n",
              "      <th>T_Turno de mañana</th>\n",
              "      <th>T_Turno de noche</th>\n",
              "      <th>T_Turno de tarde</th>\n",
              "      <th>Age_Entre 30-50</th>\n",
              "      <th>Age_Mayor 50</th>\n",
              "      <th>Acc_Indefinido</th>\n",
              "      <th>Acc_Otros</th>\n",
              "    </tr>\n",
              "  </thead>\n",
              "  <tbody>\n",
              "    <tr>\n",
              "      <th>16293</th>\n",
              "      <td>25249.0</td>\n",
              "      <td>42484.0</td>\n",
              "      <td>1419.3</td>\n",
              "      <td>830.1</td>\n",
              "      <td>1</td>\n",
              "      <td>0</td>\n",
              "      <td>0</td>\n",
              "      <td>1</td>\n",
              "      <td>0</td>\n",
              "      <td>1</td>\n",
              "      <td>0</td>\n",
              "      <td>1</td>\n",
              "    </tr>\n",
              "    <tr>\n",
              "      <th>17332</th>\n",
              "      <td>0.0</td>\n",
              "      <td>167848.0</td>\n",
              "      <td>1300.5</td>\n",
              "      <td>101.5</td>\n",
              "      <td>0</td>\n",
              "      <td>1</td>\n",
              "      <td>0</td>\n",
              "      <td>0</td>\n",
              "      <td>0</td>\n",
              "      <td>1</td>\n",
              "      <td>0</td>\n",
              "      <td>1</td>\n",
              "    </tr>\n",
              "    <tr>\n",
              "      <th>6016</th>\n",
              "      <td>72495.2</td>\n",
              "      <td>21968.3</td>\n",
              "      <td>587.0</td>\n",
              "      <td>0.0</td>\n",
              "      <td>1</td>\n",
              "      <td>0</td>\n",
              "      <td>1</td>\n",
              "      <td>0</td>\n",
              "      <td>1</td>\n",
              "      <td>0</td>\n",
              "      <td>0</td>\n",
              "      <td>1</td>\n",
              "    </tr>\n",
              "    <tr>\n",
              "      <th>4239</th>\n",
              "      <td>0.0</td>\n",
              "      <td>0.0</td>\n",
              "      <td>1501.0</td>\n",
              "      <td>0.0</td>\n",
              "      <td>1</td>\n",
              "      <td>0</td>\n",
              "      <td>1</td>\n",
              "      <td>0</td>\n",
              "      <td>1</td>\n",
              "      <td>0</td>\n",
              "      <td>0</td>\n",
              "      <td>0</td>\n",
              "    </tr>\n",
              "    <tr>\n",
              "      <th>7913</th>\n",
              "      <td>25684.5</td>\n",
              "      <td>18302.3</td>\n",
              "      <td>1150.6</td>\n",
              "      <td>151.5</td>\n",
              "      <td>0</td>\n",
              "      <td>0</td>\n",
              "      <td>0</td>\n",
              "      <td>1</td>\n",
              "      <td>1</td>\n",
              "      <td>0</td>\n",
              "      <td>0</td>\n",
              "      <td>0</td>\n",
              "    </tr>\n",
              "  </tbody>\n",
              "</table>\n",
              "</div>"
            ],
            "text/plain": [
              "       Horas Presencia Efectiva Subcontratados  ...  Acc_Otros\n",
              "16293                                  25249.0  ...          1\n",
              "17332                                      0.0  ...          1\n",
              "6016                                   72495.2  ...          1\n",
              "4239                                       0.0  ...          0\n",
              "7913                                   25684.5  ...          0\n",
              "\n",
              "[5 rows x 12 columns]"
            ]
          },
          "metadata": {
            "tags": []
          },
          "execution_count": 166
        }
      ]
    },
    {
      "cell_type": "code",
      "metadata": {
        "colab": {
          "base_uri": "https://localhost:8080/"
        },
        "id": "WD1V_fh9VCqp",
        "outputId": "01db58f9-f9cf-45a4-db59-6ebd4daba825"
      },
      "source": [
        "y_sv = sv_downsample['Accident'].copy()\n",
        "y_sv.head()"
      ],
      "execution_count": 167,
      "outputs": [
        {
          "output_type": "execute_result",
          "data": {
            "text/plain": [
              "16293    0\n",
              "17332    0\n",
              "6016     0\n",
              "4239     0\n",
              "7913     0\n",
              "Name: Accident, dtype: int64"
            ]
          },
          "metadata": {
            "tags": []
          },
          "execution_count": 167
        }
      ]
    },
    {
      "cell_type": "code",
      "metadata": {
        "id": "rlWWVjzdV1DV"
      },
      "source": [
        "# we are going to split and scale the data\n",
        "\n",
        "from sklearn.preprocessing import scale"
      ],
      "execution_count": 168,
      "outputs": []
    },
    {
      "cell_type": "code",
      "metadata": {
        "id": "frqMevWwVctO"
      },
      "source": [
        "X_train_sv, X_test_sv, y_train_sv, y_test_sv = train_test_split(X_sv, y_sv, random_state = 42)\n",
        "\n",
        "X_train_sv_scaled = scale(X_train_sv)\n",
        "X_test_sv_scaled = scale(X_test_sv)"
      ],
      "execution_count": 169,
      "outputs": []
    },
    {
      "cell_type": "code",
      "metadata": {
        "id": "z3nNPSfc2qu9",
        "colab": {
          "base_uri": "https://localhost:8080/"
        },
        "outputId": "0aa7855a-e2da-4a3f-98bf-6db44bbe11f2"
      },
      "source": [
        "from sklearn.svm import SVC\n",
        "from sklearn.model_selection import GridSearchCV\n",
        "\n",
        "clf_svm = SVC(random_state=42)\n",
        "clf_svm.fit(X_train_sv_scaled, y_train_sv)\n"
      ],
      "execution_count": 170,
      "outputs": [
        {
          "output_type": "execute_result",
          "data": {
            "text/plain": [
              "SVC(C=1.0, break_ties=False, cache_size=200, class_weight=None, coef0=0.0,\n",
              "    decision_function_shape='ovr', degree=3, gamma='scale', kernel='rbf',\n",
              "    max_iter=-1, probability=False, random_state=42, shrinking=True, tol=0.001,\n",
              "    verbose=False)"
            ]
          },
          "metadata": {
            "tags": []
          },
          "execution_count": 170
        }
      ]
    },
    {
      "cell_type": "code",
      "metadata": {
        "id": "n2c-8Itau93Q",
        "colab": {
          "base_uri": "https://localhost:8080/",
          "height": 300
        },
        "outputId": "e1cd7603-c51b-4915-97ff-ee141484c549"
      },
      "source": [
        "from sklearn.metrics import confusion_matrix\n",
        "from sklearn.metrics import plot_confusion_matrix\n",
        "\n",
        "plot_confusion_matrix(clf_svm, X_test_sv_scaled, y_test_sv, values_format='d', display_labels=['No', 'Yes'])"
      ],
      "execution_count": 171,
      "outputs": [
        {
          "output_type": "execute_result",
          "data": {
            "text/plain": [
              "<sklearn.metrics._plot.confusion_matrix.ConfusionMatrixDisplay at 0x7f8982a016d0>"
            ]
          },
          "metadata": {
            "tags": []
          },
          "execution_count": 171
        },
        {
          "output_type": "display_data",
          "data": {
            "image/png": "[encoded data removed]",
            "text/plain": [
              "<Figure size 432x288 with 2 Axes>"
            ]
          },
          "metadata": {
            "tags": [],
            "needs_background": "light"
          }
        }
      ]
    },
    {
      "cell_type": "markdown",
      "metadata": {
        "id": "KJmHH1SjXv5s"
      },
      "source": [
        "We are going to try improve the parameters using cross validation and GridSearchCv"
      ]
    },
    {
      "cell_type": "code",
      "metadata": {
        "id": "on3QigZ7p3Iy"
      },
      "source": [
        "param_grid = [{\n",
        "    'C':[0.5, 1, 10, 100],\n",
        "    'gamma':['scale', 1,0.1,0.01,0.001,0.0001],\n",
        "    'kernel':['rbf']\n",
        "},]"
      ],
      "execution_count": 172,
      "outputs": []
    },
    {
      "cell_type": "code",
      "metadata": {
        "id": "9bIWwxEKp3Mk"
      },
      "source": [
        "optimal_params = GridSearchCV(\n",
        "    SVC(), \n",
        "    param_grid, \n",
        "    cv = 5, \n",
        "    scoring = 'accuracy'\n",
        ")"
      ],
      "execution_count": 173,
      "outputs": []
    },
    {
      "cell_type": "code",
      "metadata": {
        "colab": {
          "base_uri": "https://localhost:8080/"
        },
        "id": "sXRIeR89p3TB",
        "outputId": "6973eedd-0bf9-40b9-cde0-3a040ca34b22"
      },
      "source": [
        "optimal_params.fit(X_train_sv_scaled, y_train_sv)"
      ],
      "execution_count": 174,
      "outputs": [
        {
          "output_type": "execute_result",
          "data": {
            "text/plain": [
              "GridSearchCV(cv=5, error_score=nan,\n",
              "             estimator=SVC(C=1.0, break_ties=False, cache_size=200,\n",
              "                           class_weight=None, coef0=0.0,\n",
              "                           decision_function_shape='ovr', degree=3,\n",
              "                           gamma='scale', kernel='rbf', max_iter=-1,\n",
              "                           probability=False, random_state=None, shrinking=True,\n",
              "                           tol=0.001, verbose=False),\n",
              "             iid='deprecated', n_jobs=None,\n",
              "             param_grid=[{'C': [0.5, 1, 10, 100],\n",
              "                          'gamma': ['scale', 1, 0.1, 0.01, 0.001, 0.0001],\n",
              "                          'kernel': ['rbf']}],\n",
              "             pre_dispatch='2*n_jobs', refit=True, return_train_score=False,\n",
              "             scoring='accuracy', verbose=0)"
            ]
          },
          "metadata": {
            "tags": []
          },
          "execution_count": 174
        }
      ]
    },
    {
      "cell_type": "code",
      "metadata": {
        "colab": {
          "base_uri": "https://localhost:8080/"
        },
        "id": "s2fcTkbgYlhS",
        "outputId": "7402eff2-6839-4087-bfba-e15391d00b6f"
      },
      "source": [
        "print(optimal_params.best_params_)"
      ],
      "execution_count": 175,
      "outputs": [
        {
          "output_type": "stream",
          "text": [
            "{'C': 10, 'gamma': 'scale', 'kernel': 'rbf'}\n"
          ],
          "name": "stdout"
        }
      ]
    },
    {
      "cell_type": "code",
      "metadata": {
        "id": "V9PVvjJxYpli"
      },
      "source": [
        "#now that we got our idel parameters we are going to run again the model with them and check it has improved"
      ],
      "execution_count": 176,
      "outputs": []
    },
    {
      "cell_type": "code",
      "metadata": {
        "colab": {
          "base_uri": "https://localhost:8080/"
        },
        "id": "hfE9tcDwYpuN",
        "outputId": "65dc72fa-e673-4b58-9b65-f15dd643146c"
      },
      "source": [
        "clf_svm = SVC(random_state=42, C =10, gamma='scale', kernel='rbf')\n",
        "clf_svm.fit(X_train_sv_scaled, y_train_sv)"
      ],
      "execution_count": 177,
      "outputs": [
        {
          "output_type": "execute_result",
          "data": {
            "text/plain": [
              "SVC(C=10, break_ties=False, cache_size=200, class_weight=None, coef0=0.0,\n",
              "    decision_function_shape='ovr', degree=3, gamma='scale', kernel='rbf',\n",
              "    max_iter=-1, probability=False, random_state=42, shrinking=True, tol=0.001,\n",
              "    verbose=False)"
            ]
          },
          "metadata": {
            "tags": []
          },
          "execution_count": 177
        }
      ]
    },
    {
      "cell_type": "code",
      "metadata": {
        "colab": {
          "base_uri": "https://localhost:8080/",
          "height": 296
        },
        "id": "hDzv8E_CYp0O",
        "outputId": "f9bdab9e-0732-4e52-df25-b8e4f29471ec"
      },
      "source": [
        "plot_confusion_matrix(clf_svm, X_test_sv_scaled, y_test_sv, values_format='d', display_labels=['No', 'Yes'])"
      ],
      "execution_count": 178,
      "outputs": [
        {
          "output_type": "execute_result",
          "data": {
            "text/plain": [
              "<sklearn.metrics._plot.confusion_matrix.ConfusionMatrixDisplay at 0x7f89c1afc950>"
            ]
          },
          "metadata": {
            "tags": []
          },
          "execution_count": 178
        },
        {
          "output_type": "display_data",
          "data": {
            "image/png": "[encoded data removed]",
            "text/plain": [
              "<Figure size 432x288 with 2 Axes>"
            ]
          },
          "metadata": {
            "tags": [],
            "needs_background": "light"
          }
        }
      ]
    },
    {
      "cell_type": "markdown",
      "metadata": {
        "id": "pVU8wXdJoGH-"
      },
      "source": [
        "# Neural Network\n",
        "\n",
        "We are going to try to run a neural network and check if our model gets better"
      ]
    },
    {
      "cell_type": "code",
      "metadata": {
        "id": "oBmpCpwHoOTM"
      },
      "source": [
        "import keras\n",
        "from keras import layers\n",
        "from keras import models\n",
        "from keras import optimizers\n",
        "from keras import losses\n",
        "from keras import metrics\n",
        "from keras import utils\n"
      ],
      "execution_count": 179,
      "outputs": []
    },
    {
      "cell_type": "code",
      "metadata": {
        "colab": {
          "base_uri": "https://localhost:8080/"
        },
        "id": "_PsBDR-jqAA8",
        "outputId": "1aaba283-5f45-409d-947a-640d0f00466a"
      },
      "source": [
        "X_train.shape"
      ],
      "execution_count": 180,
      "outputs": [
        {
          "output_type": "execute_result",
          "data": {
            "text/plain": [
              "(22820, 15)"
            ]
          },
          "metadata": {
            "tags": []
          },
          "execution_count": 180
        }
      ]
    },
    {
      "cell_type": "code",
      "metadata": {
        "id": "AvAYVRirsz_X"
      },
      "source": [
        "model = keras.Sequential([\n",
        "                          keras.layers.Dense(32, input_shape=(15,), activation='relu'),\n",
        "                          keras.layers.Dense(16, activation='relu'),\n",
        "                          keras.layers.Dense(2, activation='softmax')\n",
        "])"
      ],
      "execution_count": 181,
      "outputs": []
    },
    {
      "cell_type": "code",
      "metadata": {
        "id": "7tfTtbfAtUKV"
      },
      "source": [
        "model.compile(optimizer=optimizers.RMSprop(), \n",
        "              loss='sparse_categorical_crossentropy',\n",
        "              metrics=[metrics.categorical_accuracy])"
      ],
      "execution_count": 182,
      "outputs": []
    },
    {
      "cell_type": "code",
      "metadata": {
        "colab": {
          "base_uri": "https://localhost:8080/"
        },
        "id": "K-sNaYfYtUxR",
        "outputId": "ef5b9aed-24a9-423c-a6bb-48ed745675e5"
      },
      "source": [
        "model.summary()"
      ],
      "execution_count": 183,
      "outputs": [
        {
          "output_type": "stream",
          "text": [
            "Model: \"sequential_1\"\n",
            "_________________________________________________________________\n",
            "Layer (type)                 Output Shape              Param #   \n",
            "=================================================================\n",
            "dense_3 (Dense)              (None, 32)                512       \n",
            "_________________________________________________________________\n",
            "dense_4 (Dense)              (None, 16)                528       \n",
            "_________________________________________________________________\n",
            "dense_5 (Dense)              (None, 2)                 34        \n",
            "=================================================================\n",
            "Total params: 1,074\n",
            "Trainable params: 1,074\n",
            "Non-trainable params: 0\n",
            "_________________________________________________________________\n"
          ],
          "name": "stdout"
        }
      ]
    },
    {
      "cell_type": "code",
      "metadata": {
        "id": "0c5ek-9Z3HmK"
      },
      "source": [
        "y_train_r = y_train\n",
        "y_test_r = y_test"
      ],
      "execution_count": 184,
      "outputs": []
    },
    {
      "cell_type": "code",
      "metadata": {
        "colab": {
          "base_uri": "https://localhost:8080/"
        },
        "id": "vieuoGihtU5F",
        "outputId": "e7e5becc-d3d7-40a4-be50-95ca7210eeef"
      },
      "source": [
        "h = model.fit(X_train, y_train_r, epochs=30,  batch_size=10, validation_split=.2)"
      ],
      "execution_count": 185,
      "outputs": [
        {
          "output_type": "stream",
          "text": [
            "Epoch 1/30\n",
            "1826/1826 [==============================] - 17s 2ms/step - loss: 249.0328 - categorical_accuracy: 0.5132 - val_loss: 87.4587 - val_categorical_accuracy: 0.1490\n",
            "Epoch 2/30\n",
            "1826/1826 [==============================] - 3s 1ms/step - loss: 110.6388 - categorical_accuracy: 0.5133 - val_loss: 75.9586 - val_categorical_accuracy: 0.4457\n",
            "Epoch 3/30\n",
            "1826/1826 [==============================] - 3s 1ms/step - loss: 74.5979 - categorical_accuracy: 0.5075 - val_loss: 36.9005 - val_categorical_accuracy: 0.3256\n",
            "Epoch 4/30\n",
            "1826/1826 [==============================] - 3s 1ms/step - loss: 54.2305 - categorical_accuracy: 0.4909 - val_loss: 15.9824 - val_categorical_accuracy: 0.4704\n",
            "Epoch 5/30\n",
            "1826/1826 [==============================] - 3s 2ms/step - loss: 40.3773 - categorical_accuracy: 0.4946 - val_loss: 18.5929 - val_categorical_accuracy: 0.2607\n",
            "Epoch 6/30\n",
            "1826/1826 [==============================] - 3s 1ms/step - loss: 25.4658 - categorical_accuracy: 0.4841 - val_loss: 36.3240 - val_categorical_accuracy: 0.4351\n",
            "Epoch 7/30\n",
            "1826/1826 [==============================] - 3s 2ms/step - loss: 14.7180 - categorical_accuracy: 0.4689 - val_loss: 5.8027 - val_categorical_accuracy: 0.5223\n",
            "Epoch 8/30\n",
            "1826/1826 [==============================] - 3s 1ms/step - loss: 8.2638 - categorical_accuracy: 0.4659 - val_loss: 2.4627 - val_categorical_accuracy: 0.3780\n",
            "Epoch 9/30\n",
            "1826/1826 [==============================] - 3s 2ms/step - loss: 2.1483 - categorical_accuracy: 0.3413 - val_loss: 0.9249 - val_categorical_accuracy: 0.5322\n",
            "Epoch 10/30\n",
            "1826/1826 [==============================] - 3s 2ms/step - loss: 0.6914 - categorical_accuracy: 0.5235 - val_loss: 0.6173 - val_categorical_accuracy: 0.4978\n",
            "Epoch 11/30\n",
            "1826/1826 [==============================] - 3s 2ms/step - loss: 0.6687 - categorical_accuracy: 0.5516 - val_loss: 0.6650 - val_categorical_accuracy: 0.4538\n",
            "Epoch 12/30\n",
            "1826/1826 [==============================] - 3s 2ms/step - loss: 0.6325 - categorical_accuracy: 0.4853 - val_loss: 0.6444 - val_categorical_accuracy: 0.5837\n",
            "Epoch 13/30\n",
            "1826/1826 [==============================] - 3s 1ms/step - loss: 0.6281 - categorical_accuracy: 0.5002 - val_loss: 0.6130 - val_categorical_accuracy: 0.4660\n",
            "Epoch 14/30\n",
            "1826/1826 [==============================] - 3s 2ms/step - loss: 0.6339 - categorical_accuracy: 0.4990 - val_loss: 0.6343 - val_categorical_accuracy: 0.4969\n",
            "Epoch 15/30\n",
            "1826/1826 [==============================] - 3s 1ms/step - loss: 0.6254 - categorical_accuracy: 0.4846 - val_loss: 0.6329 - val_categorical_accuracy: 0.4387\n",
            "Epoch 16/30\n",
            "1826/1826 [==============================] - 3s 2ms/step - loss: 0.6162 - categorical_accuracy: 0.4908 - val_loss: 0.6826 - val_categorical_accuracy: 0.3959\n",
            "Epoch 17/30\n",
            "1826/1826 [==============================] - 3s 2ms/step - loss: 0.6184 - categorical_accuracy: 0.5367 - val_loss: 0.6402 - val_categorical_accuracy: 0.4540\n",
            "Epoch 18/30\n",
            "1826/1826 [==============================] - 3s 2ms/step - loss: 0.6129 - categorical_accuracy: 0.4750 - val_loss: 0.6031 - val_categorical_accuracy: 0.4161\n",
            "Epoch 19/30\n",
            "1826/1826 [==============================] - 3s 1ms/step - loss: 0.6273 - categorical_accuracy: 0.4586 - val_loss: 0.6169 - val_categorical_accuracy: 0.4921\n",
            "Epoch 20/30\n",
            "1826/1826 [==============================] - 3s 2ms/step - loss: 0.6206 - categorical_accuracy: 0.4788 - val_loss: 0.6269 - val_categorical_accuracy: 0.4871\n",
            "Epoch 21/30\n",
            "1826/1826 [==============================] - 3s 1ms/step - loss: 0.6722 - categorical_accuracy: 0.4803 - val_loss: 0.6253 - val_categorical_accuracy: 0.4908\n",
            "Epoch 22/30\n",
            "1826/1826 [==============================] - 3s 2ms/step - loss: 0.7392 - categorical_accuracy: 0.4186 - val_loss: 0.6237 - val_categorical_accuracy: 0.4950\n",
            "Epoch 23/30\n",
            "1826/1826 [==============================] - 3s 2ms/step - loss: 0.6457 - categorical_accuracy: 0.4355 - val_loss: 0.6382 - val_categorical_accuracy: 0.4323\n",
            "Epoch 24/30\n",
            "1826/1826 [==============================] - 3s 1ms/step - loss: 0.6519 - categorical_accuracy: 0.4179 - val_loss: 0.7253 - val_categorical_accuracy: 0.4027\n",
            "Epoch 25/30\n",
            "1826/1826 [==============================] - 3s 2ms/step - loss: 0.6402 - categorical_accuracy: 0.4326 - val_loss: 0.6427 - val_categorical_accuracy: 0.4010\n",
            "Epoch 26/30\n",
            "1826/1826 [==============================] - 3s 1ms/step - loss: 0.6713 - categorical_accuracy: 0.5026 - val_loss: 0.6220 - val_categorical_accuracy: 0.3734\n",
            "Epoch 27/30\n",
            "1826/1826 [==============================] - 3s 2ms/step - loss: 0.6370 - categorical_accuracy: 0.3542 - val_loss: 0.6378 - val_categorical_accuracy: 0.3878\n",
            "Epoch 28/30\n",
            "1826/1826 [==============================] - 3s 1ms/step - loss: 0.6701 - categorical_accuracy: 0.3600 - val_loss: 0.6335 - val_categorical_accuracy: 0.3352\n",
            "Epoch 29/30\n",
            "1826/1826 [==============================] - 3s 1ms/step - loss: 0.6469 - categorical_accuracy: 0.3542 - val_loss: 0.6194 - val_categorical_accuracy: 0.3729\n",
            "Epoch 30/30\n",
            "1826/1826 [==============================] - 3s 2ms/step - loss: 0.6280 - categorical_accuracy: 0.3530 - val_loss: 0.6173 - val_categorical_accuracy: 0.3563\n"
          ],
          "name": "stdout"
        }
      ]
    },
    {
      "cell_type": "code",
      "metadata": {
        "colab": {
          "base_uri": "https://localhost:8080/"
        },
        "id": "a0vq9oRItU_s",
        "outputId": "b253c5e4-e4dc-48db-e522-1867c073a223"
      },
      "source": [
        "test_loss, test_acc = model.evaluate(X_test, y_test_r, verbose=2)\n",
        "\n",
        "print('\\nTest accuracy:', test_acc) "
      ],
      "execution_count": 186,
      "outputs": [
        {
          "output_type": "stream",
          "text": [
            "352/352 - 0s - loss: 0.6084 - categorical_accuracy: 0.3481\n",
            "\n",
            "Test accuracy: 0.3481316864490509\n"
          ],
          "name": "stdout"
        }
      ]
    },
    {
      "cell_type": "code",
      "metadata": {
        "id": "ZEa4RBVwvJC3"
      },
      "source": [
        "# we are going to use this function we learn during the master to plot the learning\n",
        "\n",
        "def plot_metric(history, metric):\n",
        "    history_dict = history.history\n",
        "    values = history_dict[metric]\n",
        "    if 'val_' + metric in history_dict.keys():  \n",
        "        val_values = history_dict['val_' + metric]\n",
        "\n",
        "    epochs = range(1, len(values) + 1)\n",
        "\n",
        "    if 'val_' + metric in history_dict.keys():  \n",
        "        plt.plot(epochs, val_values, label='Validation')\n",
        "    plt.semilogy(epochs, values, label='Training')\n",
        "\n",
        "    if 'val_' + metric in history_dict.keys():  \n",
        "        plt.title('Training and validation %s' % metric)\n",
        "    else:\n",
        "        plt.title('Training %s' % metric)\n",
        "    plt.xlabel('Epochs')\n",
        "    plt.ylabel(metric.capitalize())\n",
        "    plt.legend()\n",
        "    plt.grid()\n",
        "\n",
        "    plt.show()"
      ],
      "execution_count": 187,
      "outputs": []
    },
    {
      "cell_type": "code",
      "metadata": {
        "colab": {
          "base_uri": "https://localhost:8080/",
          "height": 295
        },
        "id": "ZBFOdcSrvJlO",
        "outputId": "b0b83a2b-d177-4bac-9108-c076ba33160b"
      },
      "source": [
        "plot_metric(h, 'loss')"
      ],
      "execution_count": 188,
      "outputs": [
        {
          "output_type": "display_data",
          "data": {
            "image/png": "[encoded data removed]",
            "text/plain": [
              "<Figure size 432x288 with 1 Axes>"
            ]
          },
          "metadata": {
            "tags": [],
            "needs_background": "light"
          }
        }
      ]
    },
    {
      "cell_type": "code",
      "metadata": {
        "colab": {
          "base_uri": "https://localhost:8080/",
          "height": 295
        },
        "id": "vn_D4f3-ma1Q",
        "outputId": "2a718a08-accd-4d73-8007-470e97ade7a3"
      },
      "source": [
        "plot_metric(h, 'categorical_accuracy')"
      ],
      "execution_count": 189,
      "outputs": [
        {
          "output_type": "display_data",
          "data": {
            "image/png": "[encoded data removed]",
            "text/plain": [
              "<Figure size 432x288 with 1 Axes>"
            ]
          },
          "metadata": {
            "tags": [],
            "needs_background": "light"
          }
        }
      ]
    },
    {
      "cell_type": "markdown",
      "metadata": {
        "id": "RDpf7jq6j2Kg"
      },
      "source": [
        "We are going to normalize the data in order to achieve better results"
      ]
    },
    {
      "cell_type": "code",
      "metadata": {
        "id": "WOUEQoUtkDJE"
      },
      "source": [
        "X_reduced = staff[['Horas Presencia Efectiva Subcontratados',\n",
        "       'Horas Presencia Efectiva ETTs', 'Horas Formacion Seguridad Propios',\n",
        "       'Horas Formacion Seguridad ETTs',\n",
        "       'Gender_Hombre', 'T_Turno de mañana',\n",
        "       'T_Turno de noche', 'T_Turno de tarde', 'Age_Entre 30-50',\n",
        "       'Age_Mayor 50', \n",
        "       'Acc_Indefinido', 'Acc_Otros']]\n",
        "y_reduced = staff['Accident'].copy()"
      ],
      "execution_count": 226,
      "outputs": []
    },
    {
      "cell_type": "code",
      "metadata": {
        "id": "Ipi1-P_pFyLN"
      },
      "source": [
        "y_reduced = y_reduced.replace('Yes', 1).replace('No', 0)"
      ],
      "execution_count": 227,
      "outputs": []
    },
    {
      "cell_type": "code",
      "metadata": {
        "id": "x2zeC8f9kjI8"
      },
      "source": [
        "def normalize(df):\n",
        "\n",
        "  for column in df.columns:\n",
        "    X_reduced[column] = X_reduced[column]  / X_reduced[column].max()"
      ],
      "execution_count": 228,
      "outputs": []
    },
    {
      "cell_type": "code",
      "metadata": {
        "colab": {
          "base_uri": "https://localhost:8080/"
        },
        "id": "r2uxbgpRx8t7",
        "outputId": "a00f88e8-c93d-47ea-d817-ba34d48a598a"
      },
      "source": [
        "len(X_reduced.columns)"
      ],
      "execution_count": 229,
      "outputs": [
        {
          "output_type": "execute_result",
          "data": {
            "text/plain": [
              "12"
            ]
          },
          "metadata": {
            "tags": []
          },
          "execution_count": 229
        }
      ]
    },
    {
      "cell_type": "code",
      "metadata": {
        "colab": {
          "base_uri": "https://localhost:8080/"
        },
        "id": "FzIhLrlDkjQr",
        "outputId": "ab84ea2e-1a19-4f5e-c8cc-55f38eaaad4e"
      },
      "source": [
        "normalize(X_reduced)"
      ],
      "execution_count": 230,
      "outputs": [
        {
          "output_type": "stream",
          "text": [
            "/usr/local/lib/python3.7/dist-packages/ipykernel_launcher.py:4: SettingWithCopyWarning: \n",
            "A value is trying to be set on a copy of a slice from a DataFrame.\n",
            "Try using .loc[row_indexer,col_indexer] = value instead\n",
            "\n",
            "See the caveats in the documentation: https://pandas.pydata.org/pandas-docs/stable/user_guide/indexing.html#returning-a-view-versus-a-copy\n",
            "  after removing the cwd from sys.path.\n"
          ],
          "name": "stderr"
        }
      ]
    },
    {
      "cell_type": "code",
      "metadata": {
        "id": "LTsdukw84AM9"
      },
      "source": [
        "y_reduced_r = y_reduced.replace('Yes','1').replace('No', '0')"
      ],
      "execution_count": 231,
      "outputs": []
    },
    {
      "cell_type": "code",
      "metadata": {
        "id": "XDUj617klStg"
      },
      "source": [
        "X_train_norm, X_test_norm, y_train_norm, y_test_norm = train_test_split(X_reduced, y_reduced_r, test_size=0.33, random_state=42)"
      ],
      "execution_count": 232,
      "outputs": []
    },
    {
      "cell_type": "code",
      "metadata": {
        "id": "9MXeFmCKzWBF"
      },
      "source": [
        "model = keras.Sequential([\n",
        "                          keras.layers.Dense(32, input_shape=(12,), activation='relu'),\n",
        "                          keras.layers.Dense(16, activation='relu'),\n",
        "                          keras.layers.Dense(2, activation='softmax') #the number of nodes in the output layer matches the number of labels\n",
        "])"
      ],
      "execution_count": 233,
      "outputs": []
    },
    {
      "cell_type": "code",
      "metadata": {
        "id": "lyWhz2kTzdUl"
      },
      "source": [
        "model.compile(optimizer=optimizers.RMSprop(), \n",
        "              loss='sparse_categorical_crossentropy',\n",
        "              metrics=[metrics.categorical_accuracy])"
      ],
      "execution_count": 234,
      "outputs": []
    },
    {
      "cell_type": "code",
      "metadata": {
        "colab": {
          "base_uri": "https://localhost:8080/"
        },
        "id": "IVJcgw4MzhXP",
        "outputId": "0fe46942-60d3-4c82-86b2-e02ee578e0e3"
      },
      "source": [
        "model.summary()"
      ],
      "execution_count": 235,
      "outputs": [
        {
          "output_type": "stream",
          "text": [
            "Model: \"sequential_3\"\n",
            "_________________________________________________________________\n",
            "Layer (type)                 Output Shape              Param #   \n",
            "=================================================================\n",
            "dense_9 (Dense)              (None, 32)                416       \n",
            "_________________________________________________________________\n",
            "dense_10 (Dense)             (None, 16)                528       \n",
            "_________________________________________________________________\n",
            "dense_11 (Dense)             (None, 2)                 34        \n",
            "=================================================================\n",
            "Total params: 978\n",
            "Trainable params: 978\n",
            "Non-trainable params: 0\n",
            "_________________________________________________________________\n"
          ],
          "name": "stdout"
        }
      ]
    },
    {
      "cell_type": "code",
      "metadata": {
        "id": "jXIA_qh-EDuy"
      },
      "source": [
        "from keras.callbacks import History \n",
        "history = History()\n"
      ],
      "execution_count": 236,
      "outputs": []
    },
    {
      "cell_type": "code",
      "metadata": {
        "colab": {
          "base_uri": "https://localhost:8080/"
        },
        "id": "qExUnc7AzheQ",
        "outputId": "36b38b7e-2450-401b-fe5e-d88fab88b6e3"
      },
      "source": [
        "h = model.fit(X_train_norm, y_train_norm, epochs=30,  batch_size=10, validation_split=.2, callbacks=[history])"
      ],
      "execution_count": 237,
      "outputs": [
        {
          "output_type": "stream",
          "text": [
            "Epoch 1/30\n",
            "1137/1137 [==============================] - 3s 2ms/step - loss: 0.4913 - categorical_accuracy: 0.9711 - val_loss: 0.4091 - val_categorical_accuracy: 0.9708\n",
            "Epoch 2/30\n",
            "1137/1137 [==============================] - 2s 1ms/step - loss: 0.4317 - categorical_accuracy: 0.9725 - val_loss: 0.4035 - val_categorical_accuracy: 0.9578\n",
            "Epoch 3/30\n",
            "1137/1137 [==============================] - 2s 1ms/step - loss: 0.4195 - categorical_accuracy: 0.9469 - val_loss: 0.4072 - val_categorical_accuracy: 0.9923\n",
            "Epoch 4/30\n",
            "1137/1137 [==============================] - 2s 1ms/step - loss: 0.4222 - categorical_accuracy: 0.9486 - val_loss: 0.3984 - val_categorical_accuracy: 0.9733\n",
            "Epoch 5/30\n",
            "1137/1137 [==============================] - 2s 1ms/step - loss: 0.4101 - categorical_accuracy: 0.9577 - val_loss: 0.3998 - val_categorical_accuracy: 0.9205\n",
            "Epoch 6/30\n",
            "1137/1137 [==============================] - 2s 1ms/step - loss: 0.4192 - categorical_accuracy: 0.9449 - val_loss: 0.3974 - val_categorical_accuracy: 0.9286\n",
            "Epoch 7/30\n",
            "1137/1137 [==============================] - 2s 1ms/step - loss: 0.4229 - categorical_accuracy: 0.9368 - val_loss: 0.3986 - val_categorical_accuracy: 0.9810\n",
            "Epoch 8/30\n",
            "1137/1137 [==============================] - 2s 1ms/step - loss: 0.4135 - categorical_accuracy: 0.9330 - val_loss: 0.3928 - val_categorical_accuracy: 0.9134\n",
            "Epoch 9/30\n",
            "1137/1137 [==============================] - 2s 2ms/step - loss: 0.4160 - categorical_accuracy: 0.9363 - val_loss: 0.3895 - val_categorical_accuracy: 0.9243\n",
            "Epoch 10/30\n",
            "1137/1137 [==============================] - 2s 2ms/step - loss: 0.4030 - categorical_accuracy: 0.9207 - val_loss: 0.3892 - val_categorical_accuracy: 0.9229\n",
            "Epoch 11/30\n",
            "1137/1137 [==============================] - 2s 1ms/step - loss: 0.4210 - categorical_accuracy: 0.9097 - val_loss: 0.3905 - val_categorical_accuracy: 0.9279\n",
            "Epoch 12/30\n",
            "1137/1137 [==============================] - 2s 1ms/step - loss: 0.4105 - categorical_accuracy: 0.9052 - val_loss: 0.3848 - val_categorical_accuracy: 0.8948\n",
            "Epoch 13/30\n",
            "1137/1137 [==============================] - 2s 1ms/step - loss: 0.4032 - categorical_accuracy: 0.8917 - val_loss: 0.3889 - val_categorical_accuracy: 0.8895\n",
            "Epoch 14/30\n",
            "1137/1137 [==============================] - 2s 1ms/step - loss: 0.4154 - categorical_accuracy: 0.8899 - val_loss: 0.3883 - val_categorical_accuracy: 0.8846\n",
            "Epoch 15/30\n",
            "1137/1137 [==============================] - 2s 1ms/step - loss: 0.4081 - categorical_accuracy: 0.8989 - val_loss: 0.3851 - val_categorical_accuracy: 0.9370\n",
            "Epoch 16/30\n",
            "1137/1137 [==============================] - 2s 1ms/step - loss: 0.4150 - categorical_accuracy: 0.8990 - val_loss: 0.3877 - val_categorical_accuracy: 0.8758\n",
            "Epoch 17/30\n",
            "1137/1137 [==============================] - 2s 2ms/step - loss: 0.3949 - categorical_accuracy: 0.8884 - val_loss: 0.3838 - val_categorical_accuracy: 0.8923\n",
            "Epoch 18/30\n",
            "1137/1137 [==============================] - 2s 1ms/step - loss: 0.4071 - categorical_accuracy: 0.9001 - val_loss: 0.3813 - val_categorical_accuracy: 0.9187\n",
            "Epoch 19/30\n",
            "1137/1137 [==============================] - 2s 1ms/step - loss: 0.4122 - categorical_accuracy: 0.8928 - val_loss: 0.3844 - val_categorical_accuracy: 0.8934\n",
            "Epoch 20/30\n",
            "1137/1137 [==============================] - 2s 1ms/step - loss: 0.4071 - categorical_accuracy: 0.8917 - val_loss: 0.3830 - val_categorical_accuracy: 0.8994\n",
            "Epoch 21/30\n",
            "1137/1137 [==============================] - 2s 1ms/step - loss: 0.3922 - categorical_accuracy: 0.8991 - val_loss: 0.3849 - val_categorical_accuracy: 0.9145\n",
            "Epoch 22/30\n",
            "1137/1137 [==============================] - 2s 1ms/step - loss: 0.4054 - categorical_accuracy: 0.9025 - val_loss: 0.3820 - val_categorical_accuracy: 0.9110\n",
            "Epoch 23/30\n",
            "1137/1137 [==============================] - 2s 1ms/step - loss: 0.3993 - categorical_accuracy: 0.8925 - val_loss: 0.3830 - val_categorical_accuracy: 0.9046\n",
            "Epoch 24/30\n",
            "1137/1137 [==============================] - 2s 1ms/step - loss: 0.4089 - categorical_accuracy: 0.8918 - val_loss: 0.3839 - val_categorical_accuracy: 0.9071\n",
            "Epoch 25/30\n",
            "1137/1137 [==============================] - 2s 2ms/step - loss: 0.4139 - categorical_accuracy: 0.8995 - val_loss: 0.3813 - val_categorical_accuracy: 0.8966\n",
            "Epoch 26/30\n",
            "1137/1137 [==============================] - 2s 1ms/step - loss: 0.3988 - categorical_accuracy: 0.9011 - val_loss: 0.3799 - val_categorical_accuracy: 0.9022\n",
            "Epoch 27/30\n",
            "1137/1137 [==============================] - 2s 2ms/step - loss: 0.4072 - categorical_accuracy: 0.8992 - val_loss: 0.3825 - val_categorical_accuracy: 0.9303\n",
            "Epoch 28/30\n",
            "1137/1137 [==============================] - 2s 2ms/step - loss: 0.4049 - categorical_accuracy: 0.9053 - val_loss: 0.3805 - val_categorical_accuracy: 0.9222\n",
            "Epoch 29/30\n",
            "1137/1137 [==============================] - 2s 1ms/step - loss: 0.4004 - categorical_accuracy: 0.9105 - val_loss: 0.3840 - val_categorical_accuracy: 0.9233\n",
            "Epoch 30/30\n",
            "1137/1137 [==============================] - 2s 1ms/step - loss: 0.3996 - categorical_accuracy: 0.8988 - val_loss: 0.3820 - val_categorical_accuracy: 0.9117\n"
          ],
          "name": "stdout"
        }
      ]
    },
    {
      "cell_type": "code",
      "metadata": {
        "colab": {
          "base_uri": "https://localhost:8080/"
        },
        "id": "Bgq1CI-U4bKr",
        "outputId": "70e89dbf-baef-4124-f696-5f464dbd962d"
      },
      "source": [
        "test_loss, test_acc = model.evaluate(X_test_norm, y_test_norm, verbose=2)\n",
        "\n",
        "print('\\nTest accuracy:', test_acc) "
      ],
      "execution_count": 238,
      "outputs": [
        {
          "output_type": "stream",
          "text": [
            "219/219 - 0s - loss: 0.4007 - categorical_accuracy: 0.9151\n",
            "\n",
            "Test accuracy: 0.915142834186554\n"
          ],
          "name": "stdout"
        }
      ]
    },
    {
      "cell_type": "markdown",
      "metadata": {
        "id": "1c4_kxFU835f"
      },
      "source": [
        "By analyzing this training and validation loss , it may look as the validatio dataset may be easier for the model to predict than the training dataset"
      ]
    },
    {
      "cell_type": "code",
      "metadata": {
        "colab": {
          "base_uri": "https://localhost:8080/",
          "height": 295
        },
        "id": "eLAHgedT4oOC",
        "outputId": "fa9947a4-f8c1-4174-ac5e-34168e2ef0db"
      },
      "source": [
        "plot_metric(h, 'loss')"
      ],
      "execution_count": 239,
      "outputs": [
        {
          "output_type": "display_data",
          "data": {
            "image/png": "[encoded data removed]",
            "text/plain": [
              "<Figure size 432x288 with 1 Axes>"
            ]
          },
          "metadata": {
            "tags": [],
            "needs_background": "light"
          }
        }
      ]
    },
    {
      "cell_type": "code",
      "metadata": {
        "colab": {
          "base_uri": "https://localhost:8080/",
          "height": 295
        },
        "id": "yPTmEPOw4rBr",
        "outputId": "ff167117-900f-481c-d45d-303cb02e5837"
      },
      "source": [
        "plot_metric(h, 'categorical_accuracy')"
      ],
      "execution_count": 240,
      "outputs": [
        {
          "output_type": "display_data",
          "data": {
            "image/png": "[encoded data removed]",
            "text/plain": [
              "<Figure size 432x288 with 1 Axes>"
            ]
          },
          "metadata": {
            "tags": [],
            "needs_background": "light"
          }
        }
      ]
    },
    {
      "cell_type": "code",
      "metadata": {
        "colab": {
          "base_uri": "https://localhost:8080/"
        },
        "id": "DMHmrVImEa7D",
        "outputId": "34b79474-f9b0-4789-8d7e-87b318f25f6e"
      },
      "source": [
        "a = history.history\n",
        "\n",
        "a"
      ],
      "execution_count": 241,
      "outputs": [
        {
          "output_type": "execute_result",
          "data": {
            "text/plain": [
              "{'categorical_accuracy': [0.9868050813674927,\n",
              "  0.9647255539894104,\n",
              "  0.9498592615127563,\n",
              "  0.9503870606422424,\n",
              "  0.9472202658653259,\n",
              "  0.9442294239997864,\n",
              "  0.9407987594604492,\n",
              "  0.9339373707771301,\n",
              "  0.9312983751296997,\n",
              "  0.9172238111495972,\n",
              "  0.9144088625907898,\n",
              "  0.9071956276893616,\n",
              "  0.900422215461731,\n",
              "  0.8983110189437866,\n",
              "  0.8928571343421936,\n",
              "  0.8962877988815308,\n",
              "  0.8894264698028564,\n",
              "  0.8918895125389099,\n",
              "  0.8979591727256775,\n",
              "  0.8986629247665405,\n",
              "  0.8976953029632568,\n",
              "  0.8962877988815308,\n",
              "  0.8991027474403381,\n",
              "  0.8958479762077332,\n",
              "  0.8991907238960266,\n",
              "  0.8999823927879333,\n",
              "  0.898574948310852,\n",
              "  0.8972554802894592,\n",
              "  0.9041168093681335,\n",
              "  0.8983989953994751],\n",
              " 'loss': [0.4564320743083954,\n",
              "  0.4298141598701477,\n",
              "  0.42663493752479553,\n",
              "  0.4239998459815979,\n",
              "  0.4221763610839844,\n",
              "  0.4203204810619354,\n",
              "  0.4182102382183075,\n",
              "  0.4169665575027466,\n",
              "  0.41574347019195557,\n",
              "  0.414659708738327,\n",
              "  0.412931352853775,\n",
              "  0.41102316975593567,\n",
              "  0.4090469181537628,\n",
              "  0.4087342619895935,\n",
              "  0.4080049991607666,\n",
              "  0.40731126070022583,\n",
              "  0.4062165319919586,\n",
              "  0.4061489701271057,\n",
              "  0.40513405203819275,\n",
              "  0.4060317277908325,\n",
              "  0.4044573903083801,\n",
              "  0.40453651547431946,\n",
              "  0.40468525886535645,\n",
              "  0.40411242842674255,\n",
              "  0.4043840169906616,\n",
              "  0.40364912152290344,\n",
              "  0.40328720211982727,\n",
              "  0.4036784768104553,\n",
              "  0.4037497937679291,\n",
              "  0.40390077233314514],\n",
              " 'val_categorical_accuracy': [0.970795214176178,\n",
              "  0.9577761888504028,\n",
              "  0.9922589659690857,\n",
              "  0.9732582569122314,\n",
              "  0.9204785227775574,\n",
              "  0.9285714030265808,\n",
              "  0.9809992909431458,\n",
              "  0.9134412407875061,\n",
              "  0.9243490695953369,\n",
              "  0.9229415655136108,\n",
              "  0.9278677105903625,\n",
              "  0.894792377948761,\n",
              "  0.8895144462585449,\n",
              "  0.8845883011817932,\n",
              "  0.9370161890983582,\n",
              "  0.8757916688919067,\n",
              "  0.8923293352127075,\n",
              "  0.9187192320823669,\n",
              "  0.8933849334716797,\n",
              "  0.8993666172027588,\n",
              "  0.9144968390464783,\n",
              "  0.9109781980514526,\n",
              "  0.9046446084976196,\n",
              "  0.9071076512336731,\n",
              "  0.8965517282485962,\n",
              "  0.9021815657615662,\n",
              "  0.930330753326416,\n",
              "  0.9222378730773926,\n",
              "  0.9232934713363647,\n",
              "  0.9116818904876709],\n",
              " 'val_loss': [0.40906864404678345,\n",
              "  0.40352991223335266,\n",
              "  0.4072280526161194,\n",
              "  0.3983733355998993,\n",
              "  0.3998107612133026,\n",
              "  0.3973633944988251,\n",
              "  0.3985919952392578,\n",
              "  0.3927856683731079,\n",
              "  0.3894580602645874,\n",
              "  0.3891504406929016,\n",
              "  0.390529602766037,\n",
              "  0.3848012387752533,\n",
              "  0.3889079689979553,\n",
              "  0.38830721378326416,\n",
              "  0.38512122631073,\n",
              "  0.3876773715019226,\n",
              "  0.38384467363357544,\n",
              "  0.38128915429115295,\n",
              "  0.3844229578971863,\n",
              "  0.38298937678337097,\n",
              "  0.384941428899765,\n",
              "  0.3820210099220276,\n",
              "  0.3830142021179199,\n",
              "  0.38393303751945496,\n",
              "  0.38132965564727783,\n",
              "  0.3798997402191162,\n",
              "  0.3824944794178009,\n",
              "  0.38050588965415955,\n",
              "  0.3840249478816986,\n",
              "  0.3820253610610962]}"
            ]
          },
          "metadata": {
            "tags": []
          },
          "execution_count": 241
        }
      ]
    },
    {
      "cell_type": "code",
      "metadata": {
        "colab": {
          "base_uri": "https://localhost:8080/"
        },
        "id": "05uXGw5O-6yi",
        "outputId": "b30645d3-96c8-4adb-e6fe-f1710cb3c1ea"
      },
      "source": [
        "eval_model=model.evaluate(X_train_norm, y_train_norm)\n",
        "eval_model"
      ],
      "execution_count": 242,
      "outputs": [
        {
          "output_type": "stream",
          "text": [
            "445/445 [==============================] - 0s 990us/step - loss: 0.3951 - categorical_accuracy: 0.9065\n"
          ],
          "name": "stdout"
        },
        {
          "output_type": "execute_result",
          "data": {
            "text/plain": [
              "[0.3951040208339691, 0.9065446853637695]"
            ]
          },
          "metadata": {
            "tags": []
          },
          "execution_count": 242
        }
      ]
    },
    {
      "cell_type": "code",
      "metadata": {
        "id": "lmJMwvbJE8_I"
      },
      "source": [
        "model.save('accident_model.h5')"
      ],
      "execution_count": 243,
      "outputs": []
    },
    {
      "cell_type": "code",
      "metadata": {
        "colab": {
          "base_uri": "https://localhost:8080/"
        },
        "id": "-GWuLAfV-7GX",
        "outputId": "93cba405-e8f2-4d40-9e28-b9ecd7c0aa85"
      },
      "source": [
        "train_loss, train_acc = model.evaluate(X_train_norm, y_train_norm)"
      ],
      "execution_count": 244,
      "outputs": [
        {
          "output_type": "stream",
          "text": [
            "445/445 [==============================] - 0s 1ms/step - loss: 0.3951 - categorical_accuracy: 0.9065\n"
          ],
          "name": "stdout"
        }
      ]
    },
    {
      "cell_type": "code",
      "metadata": {
        "colab": {
          "base_uri": "https://localhost:8080/"
        },
        "id": "7qorI6yhFW_R",
        "outputId": "d9021470-6949-4a41-d6a5-c02aaf715384"
      },
      "source": [
        "test_loss, test_acc = model.evaluate(X_test_norm, y_test_norm)"
      ],
      "execution_count": 245,
      "outputs": [
        {
          "output_type": "stream",
          "text": [
            "219/219 [==============================] - 0s 981us/step - loss: 0.4007 - categorical_accuracy: 0.9151\n"
          ],
          "name": "stdout"
        }
      ]
    },
    {
      "cell_type": "code",
      "metadata": {
        "colab": {
          "base_uri": "https://localhost:8080/"
        },
        "id": "gyUNOwG0Flz8",
        "outputId": "a1803632-6a73-468c-ce78-9af5f1daad51"
      },
      "source": [
        "##accuracy\n",
        "\n",
        "print('Train accuracy: %.3f, Test accuracy: %.3f' % (train_acc, test_acc))"
      ],
      "execution_count": 246,
      "outputs": [
        {
          "output_type": "stream",
          "text": [
            "Train accuracy: 0.907, Test accuracy: 0.915\n"
          ],
          "name": "stdout"
        }
      ]
    },
    {
      "cell_type": "code",
      "metadata": {
        "colab": {
          "base_uri": "https://localhost:8080/"
        },
        "id": "CpWMrJNyFtK5",
        "outputId": "471014ba-7906-4abc-df02-acf244dd8b8d"
      },
      "source": [
        "#loss \n",
        "\n",
        "print('Train loss: %.3f, Test loss: %.3f' % (train_loss, test_loss))"
      ],
      "execution_count": 247,
      "outputs": [
        {
          "output_type": "stream",
          "text": [
            "Train loss: 0.395, Test loss: 0.401\n"
          ],
          "name": "stdout"
        }
      ]
    },
    {
      "cell_type": "markdown",
      "metadata": {
        "id": "0CXpE7H0HYvy"
      },
      "source": [
        "Now we are going to try to increase our model performance by playing with the parameters"
      ]
    },
    {
      "cell_type": "code",
      "metadata": {
        "colab": {
          "base_uri": "https://localhost:8080/"
        },
        "id": "gSIZqA-wMPb_",
        "outputId": "eaecda36-f9f0-45af-d316-a103ee81b8cf"
      },
      "source": [
        "h = model.fit(X_train_norm, y_train_norm, epochs=64,  batch_size=40, validation_split=.2, callbacks=[history])"
      ],
      "execution_count": 248,
      "outputs": [
        {
          "output_type": "stream",
          "text": [
            "Epoch 1/64\n",
            "285/285 [==============================] - 1s 2ms/step - loss: 0.3983 - categorical_accuracy: 0.8959 - val_loss: 0.3776 - val_categorical_accuracy: 0.9156\n",
            "Epoch 2/64\n",
            "285/285 [==============================] - 0s 2ms/step - loss: 0.3970 - categorical_accuracy: 0.8998 - val_loss: 0.3769 - val_categorical_accuracy: 0.8783\n",
            "Epoch 3/64\n",
            "285/285 [==============================] - 0s 1ms/step - loss: 0.3964 - categorical_accuracy: 0.8953 - val_loss: 0.3799 - val_categorical_accuracy: 0.8895\n",
            "Epoch 4/64\n",
            "285/285 [==============================] - 0s 1ms/step - loss: 0.3958 - categorical_accuracy: 0.8907 - val_loss: 0.3768 - val_categorical_accuracy: 0.8997\n",
            "Epoch 5/64\n",
            "285/285 [==============================] - 1s 2ms/step - loss: 0.3948 - categorical_accuracy: 0.8932 - val_loss: 0.3750 - val_categorical_accuracy: 0.8863\n",
            "Epoch 6/64\n",
            "285/285 [==============================] - 1s 2ms/step - loss: 0.3949 - categorical_accuracy: 0.8954 - val_loss: 0.3750 - val_categorical_accuracy: 0.8899\n",
            "Epoch 7/64\n",
            "285/285 [==============================] - 1s 2ms/step - loss: 0.3943 - categorical_accuracy: 0.8945 - val_loss: 0.3756 - val_categorical_accuracy: 0.8786\n",
            "Epoch 8/64\n",
            "285/285 [==============================] - 0s 1ms/step - loss: 0.3942 - categorical_accuracy: 0.8918 - val_loss: 0.3740 - val_categorical_accuracy: 0.8934\n",
            "Epoch 9/64\n",
            "285/285 [==============================] - 0s 2ms/step - loss: 0.3934 - categorical_accuracy: 0.8930 - val_loss: 0.3749 - val_categorical_accuracy: 0.8980\n",
            "Epoch 10/64\n",
            "285/285 [==============================] - 0s 1ms/step - loss: 0.3932 - categorical_accuracy: 0.8936 - val_loss: 0.3783 - val_categorical_accuracy: 0.9191\n",
            "Epoch 11/64\n",
            "285/285 [==============================] - 0s 2ms/step - loss: 0.3928 - categorical_accuracy: 0.8986 - val_loss: 0.3769 - val_categorical_accuracy: 0.8681\n",
            "Epoch 12/64\n",
            "285/285 [==============================] - 0s 2ms/step - loss: 0.3930 - categorical_accuracy: 0.8918 - val_loss: 0.3748 - val_categorical_accuracy: 0.9205\n",
            "Epoch 13/64\n",
            "285/285 [==============================] - 0s 2ms/step - loss: 0.3920 - categorical_accuracy: 0.8970 - val_loss: 0.3740 - val_categorical_accuracy: 0.9268\n",
            "Epoch 14/64\n",
            "285/285 [==============================] - 0s 2ms/step - loss: 0.3924 - categorical_accuracy: 0.8949 - val_loss: 0.3758 - val_categorical_accuracy: 0.8712\n",
            "Epoch 15/64\n",
            "285/285 [==============================] - 0s 1ms/step - loss: 0.3929 - categorical_accuracy: 0.8929 - val_loss: 0.3751 - val_categorical_accuracy: 0.9120\n",
            "Epoch 16/64\n",
            "285/285 [==============================] - 0s 2ms/step - loss: 0.3918 - categorical_accuracy: 0.8921 - val_loss: 0.3723 - val_categorical_accuracy: 0.8934\n",
            "Epoch 17/64\n",
            "285/285 [==============================] - 0s 1ms/step - loss: 0.3922 - categorical_accuracy: 0.8923 - val_loss: 0.3739 - val_categorical_accuracy: 0.8783\n",
            "Epoch 18/64\n",
            "285/285 [==============================] - 0s 1ms/step - loss: 0.3917 - categorical_accuracy: 0.8919 - val_loss: 0.3762 - val_categorical_accuracy: 0.8783\n",
            "Epoch 19/64\n",
            "285/285 [==============================] - 0s 2ms/step - loss: 0.3915 - categorical_accuracy: 0.8910 - val_loss: 0.3734 - val_categorical_accuracy: 0.9039\n",
            "Epoch 20/64\n",
            "285/285 [==============================] - 0s 2ms/step - loss: 0.3911 - categorical_accuracy: 0.8941 - val_loss: 0.3786 - val_categorical_accuracy: 0.8681\n",
            "Epoch 21/64\n",
            "285/285 [==============================] - 1s 2ms/step - loss: 0.3912 - categorical_accuracy: 0.8958 - val_loss: 0.3742 - val_categorical_accuracy: 0.9170\n",
            "Epoch 22/64\n",
            "285/285 [==============================] - 1s 2ms/step - loss: 0.3908 - categorical_accuracy: 0.8897 - val_loss: 0.3730 - val_categorical_accuracy: 0.9117\n",
            "Epoch 23/64\n",
            "285/285 [==============================] - 0s 1ms/step - loss: 0.3907 - categorical_accuracy: 0.8992 - val_loss: 0.3733 - val_categorical_accuracy: 0.8997\n",
            "Epoch 24/64\n",
            "285/285 [==============================] - 0s 2ms/step - loss: 0.3910 - categorical_accuracy: 0.8905 - val_loss: 0.3724 - val_categorical_accuracy: 0.9120\n",
            "Epoch 25/64\n",
            "285/285 [==============================] - 0s 2ms/step - loss: 0.3907 - categorical_accuracy: 0.8932 - val_loss: 0.3742 - val_categorical_accuracy: 0.8885\n",
            "Epoch 26/64\n",
            "285/285 [==============================] - 0s 2ms/step - loss: 0.3902 - categorical_accuracy: 0.8979 - val_loss: 0.3714 - val_categorical_accuracy: 0.8842\n",
            "Epoch 27/64\n",
            "285/285 [==============================] - 0s 2ms/step - loss: 0.3905 - categorical_accuracy: 0.8887 - val_loss: 0.3721 - val_categorical_accuracy: 0.8878\n",
            "Epoch 28/64\n",
            "285/285 [==============================] - 0s 1ms/step - loss: 0.3900 - categorical_accuracy: 0.8901 - val_loss: 0.3748 - val_categorical_accuracy: 0.9110\n",
            "Epoch 29/64\n",
            "285/285 [==============================] - 0s 2ms/step - loss: 0.3904 - categorical_accuracy: 0.8943 - val_loss: 0.3729 - val_categorical_accuracy: 0.8930\n",
            "Epoch 30/64\n",
            "285/285 [==============================] - 0s 2ms/step - loss: 0.3898 - categorical_accuracy: 0.8920 - val_loss: 0.3727 - val_categorical_accuracy: 0.8888\n",
            "Epoch 31/64\n",
            "285/285 [==============================] - 0s 1ms/step - loss: 0.3899 - categorical_accuracy: 0.8933 - val_loss: 0.3779 - val_categorical_accuracy: 0.8695\n",
            "Epoch 32/64\n",
            "285/285 [==============================] - 0s 2ms/step - loss: 0.3895 - categorical_accuracy: 0.8922 - val_loss: 0.3749 - val_categorical_accuracy: 0.8849\n",
            "Epoch 33/64\n",
            "285/285 [==============================] - 0s 1ms/step - loss: 0.3903 - categorical_accuracy: 0.8893 - val_loss: 0.3735 - val_categorical_accuracy: 0.9286\n",
            "Epoch 34/64\n",
            "285/285 [==============================] - 0s 2ms/step - loss: 0.3901 - categorical_accuracy: 0.8913 - val_loss: 0.3744 - val_categorical_accuracy: 0.9296\n",
            "Epoch 35/64\n",
            "285/285 [==============================] - 1s 2ms/step - loss: 0.3901 - categorical_accuracy: 0.8938 - val_loss: 0.3733 - val_categorical_accuracy: 0.9106\n",
            "Epoch 36/64\n",
            "285/285 [==============================] - 0s 2ms/step - loss: 0.3906 - categorical_accuracy: 0.8917 - val_loss: 0.3722 - val_categorical_accuracy: 0.8958\n",
            "Epoch 37/64\n",
            "285/285 [==============================] - 1s 2ms/step - loss: 0.3899 - categorical_accuracy: 0.8952 - val_loss: 0.3728 - val_categorical_accuracy: 0.8902\n",
            "Epoch 38/64\n",
            "285/285 [==============================] - 0s 2ms/step - loss: 0.3895 - categorical_accuracy: 0.8884 - val_loss: 0.3727 - val_categorical_accuracy: 0.8863\n",
            "Epoch 39/64\n",
            "285/285 [==============================] - 0s 1ms/step - loss: 0.3900 - categorical_accuracy: 0.8917 - val_loss: 0.3728 - val_categorical_accuracy: 0.8709\n",
            "Epoch 40/64\n",
            "285/285 [==============================] - 0s 2ms/step - loss: 0.3901 - categorical_accuracy: 0.8886 - val_loss: 0.3718 - val_categorical_accuracy: 0.8807\n",
            "Epoch 41/64\n",
            "285/285 [==============================] - 0s 2ms/step - loss: 0.3896 - categorical_accuracy: 0.8921 - val_loss: 0.3736 - val_categorical_accuracy: 0.9180\n",
            "Epoch 42/64\n",
            "285/285 [==============================] - 0s 2ms/step - loss: 0.3895 - categorical_accuracy: 0.8948 - val_loss: 0.3732 - val_categorical_accuracy: 0.8944\n",
            "Epoch 43/64\n",
            "285/285 [==============================] - 1s 2ms/step - loss: 0.3901 - categorical_accuracy: 0.8893 - val_loss: 0.3748 - val_categorical_accuracy: 0.9296\n",
            "Epoch 44/64\n",
            "285/285 [==============================] - 0s 1ms/step - loss: 0.3900 - categorical_accuracy: 0.8958 - val_loss: 0.3723 - val_categorical_accuracy: 0.9064\n",
            "Epoch 45/64\n",
            "285/285 [==============================] - 0s 2ms/step - loss: 0.3899 - categorical_accuracy: 0.8906 - val_loss: 0.3703 - val_categorical_accuracy: 0.8913\n",
            "Epoch 46/64\n",
            "285/285 [==============================] - 0s 2ms/step - loss: 0.3890 - categorical_accuracy: 0.8933 - val_loss: 0.3716 - val_categorical_accuracy: 0.9251\n",
            "Epoch 47/64\n",
            "285/285 [==============================] - 0s 2ms/step - loss: 0.3898 - categorical_accuracy: 0.8919 - val_loss: 0.3754 - val_categorical_accuracy: 0.8761\n",
            "Epoch 48/64\n",
            "285/285 [==============================] - 0s 2ms/step - loss: 0.3887 - categorical_accuracy: 0.8942 - val_loss: 0.3757 - val_categorical_accuracy: 0.8916\n",
            "Epoch 49/64\n",
            "285/285 [==============================] - 0s 2ms/step - loss: 0.3897 - categorical_accuracy: 0.8903 - val_loss: 0.3748 - val_categorical_accuracy: 0.8871\n",
            "Epoch 50/64\n",
            "285/285 [==============================] - 0s 1ms/step - loss: 0.3895 - categorical_accuracy: 0.8929 - val_loss: 0.3728 - val_categorical_accuracy: 0.8821\n",
            "Epoch 51/64\n",
            "285/285 [==============================] - 1s 2ms/step - loss: 0.3894 - categorical_accuracy: 0.8907 - val_loss: 0.3719 - val_categorical_accuracy: 0.8881\n",
            "Epoch 52/64\n",
            "285/285 [==============================] - 1s 2ms/step - loss: 0.3891 - categorical_accuracy: 0.8872 - val_loss: 0.3745 - val_categorical_accuracy: 0.9328\n",
            "Epoch 53/64\n",
            "285/285 [==============================] - 0s 2ms/step - loss: 0.3892 - categorical_accuracy: 0.8910 - val_loss: 0.3724 - val_categorical_accuracy: 0.9113\n",
            "Epoch 54/64\n",
            "285/285 [==============================] - 0s 2ms/step - loss: 0.3896 - categorical_accuracy: 0.8922 - val_loss: 0.3721 - val_categorical_accuracy: 0.9043\n",
            "Epoch 55/64\n",
            "285/285 [==============================] - 0s 2ms/step - loss: 0.3887 - categorical_accuracy: 0.8903 - val_loss: 0.3744 - val_categorical_accuracy: 0.9353\n",
            "Epoch 56/64\n",
            "285/285 [==============================] - 0s 1ms/step - loss: 0.3890 - categorical_accuracy: 0.8966 - val_loss: 0.3720 - val_categorical_accuracy: 0.9208\n",
            "Epoch 57/64\n",
            "285/285 [==============================] - 0s 2ms/step - loss: 0.3892 - categorical_accuracy: 0.8953 - val_loss: 0.3732 - val_categorical_accuracy: 0.9032\n",
            "Epoch 58/64\n",
            "285/285 [==============================] - 0s 2ms/step - loss: 0.3890 - categorical_accuracy: 0.8895 - val_loss: 0.3754 - val_categorical_accuracy: 0.8557\n",
            "Epoch 59/64\n",
            "285/285 [==============================] - 0s 2ms/step - loss: 0.3893 - categorical_accuracy: 0.8916 - val_loss: 0.3720 - val_categorical_accuracy: 0.8758\n",
            "Epoch 60/64\n",
            "285/285 [==============================] - 0s 2ms/step - loss: 0.3890 - categorical_accuracy: 0.8925 - val_loss: 0.3703 - val_categorical_accuracy: 0.8698\n",
            "Epoch 61/64\n",
            "285/285 [==============================] - 0s 2ms/step - loss: 0.3891 - categorical_accuracy: 0.8897 - val_loss: 0.3712 - val_categorical_accuracy: 0.9032\n",
            "Epoch 62/64\n",
            "285/285 [==============================] - 0s 1ms/step - loss: 0.3890 - categorical_accuracy: 0.8871 - val_loss: 0.3739 - val_categorical_accuracy: 0.8902\n",
            "Epoch 63/64\n",
            "285/285 [==============================] - 0s 2ms/step - loss: 0.3891 - categorical_accuracy: 0.8884 - val_loss: 0.3711 - val_categorical_accuracy: 0.8951\n",
            "Epoch 64/64\n",
            "285/285 [==============================] - 0s 2ms/step - loss: 0.3889 - categorical_accuracy: 0.8898 - val_loss: 0.3733 - val_categorical_accuracy: 0.8783\n"
          ],
          "name": "stdout"
        }
      ]
    },
    {
      "cell_type": "code",
      "metadata": {
        "colab": {
          "base_uri": "https://localhost:8080/"
        },
        "id": "sPZROspzMno4",
        "outputId": "7e3f9d96-6932-4351-cd27-7f477b5ca1ba"
      },
      "source": [
        "test_loss, test_acc = model.evaluate(X_test_norm, y_test_norm, verbose=2)\n",
        "\n",
        "print('\\nTest accuracy:', test_acc) "
      ],
      "execution_count": 249,
      "outputs": [
        {
          "output_type": "stream",
          "text": [
            "219/219 - 0s - loss: 0.3981 - categorical_accuracy: 0.8824\n",
            "\n",
            "Test accuracy: 0.8824285864830017\n"
          ],
          "name": "stdout"
        }
      ]
    },
    {
      "cell_type": "code",
      "metadata": {
        "colab": {
          "base_uri": "https://localhost:8080/",
          "height": 295
        },
        "id": "HuoavHtUMPed",
        "outputId": "d49ebfc2-6a72-4bbd-ef57-883330fdc8d0"
      },
      "source": [
        "plot_metric(h, 'loss')"
      ],
      "execution_count": 250,
      "outputs": [
        {
          "output_type": "display_data",
          "data": {
            "image/png": "[encoded data removed]",
            "text/plain": [
              "<Figure size 432x288 with 1 Axes>"
            ]
          },
          "metadata": {
            "tags": [],
            "needs_background": "light"
          }
        }
      ]
    },
    {
      "cell_type": "code",
      "metadata": {
        "colab": {
          "base_uri": "https://localhost:8080/",
          "height": 295
        },
        "id": "w0aOj8DEMPrR",
        "outputId": "d7da5553-7d6c-4870-eff8-13565819eb98"
      },
      "source": [
        "plot_metric(h, 'categorical_accuracy')"
      ],
      "execution_count": 251,
      "outputs": [
        {
          "output_type": "display_data",
          "data": {
            "image/png": "[encoded data removed]",
            "text/plain": [
              "<Figure size 432x288 with 1 Axes>"
            ]
          },
          "metadata": {
            "tags": [],
            "needs_background": "light"
          }
        }
      ]
    }
  ]
}